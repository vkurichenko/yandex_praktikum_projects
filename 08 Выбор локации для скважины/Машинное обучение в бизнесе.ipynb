{
 "cells": [
  {
   "cell_type": "markdown",
   "metadata": {
    "pycharm": {
     "name": "#%% md\n"
    }
   },
   "source": [
    "# Выбор локации для скважины"
   ]
  },
  {
   "cell_type": "markdown",
   "metadata": {
    "pycharm": {
     "name": "#%% md\n"
    }
   },
   "source": [
    "Мы работаем в добывающей компании «ГлавРосГосНефть». Нам поставили задачу - решить, где бурить новую скважину.\n",
    "\n",
    "Для решения задачи нам были предоставлены пробы нефти в трёх регионах: в каждом 10 000 месторождений, где измерили качество нефти и объём её запасов. По этим данным мы построим модель машинного обучения, которая поможет определить регион, где добыча принесёт наибольшую прибыль. Далее мы проанализируем возможную прибыль и риски, используя технику *Bootstrap.*\n",
    "\n",
    "Как мы будем выбирать локацию:\n",
    "\n",
    "- В избранном регионе найдем месторождения, для каждого определим значения признаков;\n",
    "- Построим модель и оценим объём запасов;\n",
    "- Выберем месторождения с самым высокими оценками значений. \n",
    "\n",
    "Однако, необходимо также помнить, что:\n",
    "\n",
    "- Количество месторождений зависит от бюджета компании и стоимости разработки одной скважины. Согласно условиям заказчика, бюджет на разработку скважин в регионе — 10 млрд рублей. Согласно условиям заказчика, доход с каждой единицы продукта составляет 450 тыс. рублей. При этом объём указан в тысячах баррелей.\n",
    "- Прибыль равна суммарной прибыли отобранных месторождений. \n",
    "\n",
    "Соответственно:\n",
    "\n",
    "- Для обучения модели будем использовать линейную регрессию.\n",
    "- При разведке региона исследуем 500 точек, из которых с помощью машинного обучения выберем 200 лучших для разработки.\n",
    "- После оценки рисков оставим лишь те регионы, в которых вероятность убытков меньше 2.5%. Среди них выберем регион с наибольшей средней прибылью."
   ]
  },
  {
   "cell_type": "markdown",
   "metadata": {
    "pycharm": {
     "name": "#%% md\n"
    }
   },
   "source": [
    "## Загрузка и подготовка данных"
   ]
  },
  {
   "cell_type": "markdown",
   "metadata": {
    "pycharm": {
     "name": "#%% md\n"
    }
   },
   "source": [
    "Импортируем необходимые библиотеки"
   ]
  },
  {
   "cell_type": "code",
   "execution_count": 4,
   "metadata": {
    "pycharm": {
     "name": "#%%\n"
    }
   },
   "outputs": [],
   "source": [
    "import pandas as pd\n",
    "import matplotlib.pyplot as plt\n",
    "from numpy.random import RandomState\n",
    "\n",
    "from sklearn.model_selection import train_test_split\n",
    "from sklearn.linear_model import LinearRegression\n",
    "from sklearn.metrics import mean_squared_error\n",
    "\n",
    "\n",
    "pd.set_option('display.float_format', '{:,.3f}'.format) "
   ]
  },
  {
   "cell_type": "markdown",
   "metadata": {
    "pycharm": {
     "name": "#%% md\n"
    }
   },
   "source": [
    "Импортируем наши датасеты."
   ]
  },
  {
   "cell_type": "code",
   "execution_count": 5,
   "metadata": {
    "pycharm": {
     "name": "#%%\n"
    }
   },
   "outputs": [],
   "source": [
    "dataset_names = ['/datasets/geo_data_0.csv', '/datasets/geo_data_1.csv', '/datasets/geo_data_2.csv']\n",
    "data_1, data_2, data_3 = [pd.read_csv(name) for name in dataset_names]"
   ]
  },
  {
   "cell_type": "markdown",
   "metadata": {
    "pycharm": {
     "name": "#%% md\n"
    }
   },
   "source": [
    "Посмотрим на наши данные."
   ]
  },
  {
   "cell_type": "code",
   "execution_count": 6,
   "metadata": {
    "pycharm": {
     "name": "#%%\n"
    }
   },
   "outputs": [
    {
     "data": {
      "text/html": [
       "<div>\n",
       "<style scoped>\n",
       "    .dataframe tbody tr th:only-of-type {\n",
       "        vertical-align: middle;\n",
       "    }\n",
       "\n",
       "    .dataframe tbody tr th {\n",
       "        vertical-align: top;\n",
       "    }\n",
       "\n",
       "    .dataframe thead th {\n",
       "        text-align: right;\n",
       "    }\n",
       "</style>\n",
       "<table border=\"1\" class=\"dataframe\">\n",
       "  <thead>\n",
       "    <tr style=\"text-align: right;\">\n",
       "      <th></th>\n",
       "      <th>id</th>\n",
       "      <th>f0</th>\n",
       "      <th>f1</th>\n",
       "      <th>f2</th>\n",
       "      <th>product</th>\n",
       "    </tr>\n",
       "  </thead>\n",
       "  <tbody>\n",
       "    <tr>\n",
       "      <td>0</td>\n",
       "      <td>txEyH</td>\n",
       "      <td>0.706</td>\n",
       "      <td>-0.498</td>\n",
       "      <td>1.221</td>\n",
       "      <td>105.280</td>\n",
       "    </tr>\n",
       "    <tr>\n",
       "      <td>1</td>\n",
       "      <td>2acmU</td>\n",
       "      <td>1.335</td>\n",
       "      <td>-0.340</td>\n",
       "      <td>4.365</td>\n",
       "      <td>73.038</td>\n",
       "    </tr>\n",
       "    <tr>\n",
       "      <td>2</td>\n",
       "      <td>409Wp</td>\n",
       "      <td>1.023</td>\n",
       "      <td>0.152</td>\n",
       "      <td>1.420</td>\n",
       "      <td>85.266</td>\n",
       "    </tr>\n",
       "    <tr>\n",
       "      <td>3</td>\n",
       "      <td>iJLyR</td>\n",
       "      <td>-0.032</td>\n",
       "      <td>0.139</td>\n",
       "      <td>2.979</td>\n",
       "      <td>168.621</td>\n",
       "    </tr>\n",
       "    <tr>\n",
       "      <td>4</td>\n",
       "      <td>Xdl7t</td>\n",
       "      <td>1.988</td>\n",
       "      <td>0.155</td>\n",
       "      <td>4.752</td>\n",
       "      <td>154.037</td>\n",
       "    </tr>\n",
       "  </tbody>\n",
       "</table>\n",
       "</div>"
      ],
      "text/plain": [
       "      id     f0     f1    f2  product\n",
       "0  txEyH  0.706 -0.498 1.221  105.280\n",
       "1  2acmU  1.335 -0.340 4.365   73.038\n",
       "2  409Wp  1.023  0.152 1.420   85.266\n",
       "3  iJLyR -0.032  0.139 2.979  168.621\n",
       "4  Xdl7t  1.988  0.155 4.752  154.037"
      ]
     },
     "metadata": {},
     "output_type": "display_data"
    },
    {
     "data": {
      "text/html": [
       "<div>\n",
       "<style scoped>\n",
       "    .dataframe tbody tr th:only-of-type {\n",
       "        vertical-align: middle;\n",
       "    }\n",
       "\n",
       "    .dataframe tbody tr th {\n",
       "        vertical-align: top;\n",
       "    }\n",
       "\n",
       "    .dataframe thead th {\n",
       "        text-align: right;\n",
       "    }\n",
       "</style>\n",
       "<table border=\"1\" class=\"dataframe\">\n",
       "  <thead>\n",
       "    <tr style=\"text-align: right;\">\n",
       "      <th></th>\n",
       "      <th>id</th>\n",
       "      <th>f0</th>\n",
       "      <th>f1</th>\n",
       "      <th>f2</th>\n",
       "      <th>product</th>\n",
       "    </tr>\n",
       "  </thead>\n",
       "  <tbody>\n",
       "    <tr>\n",
       "      <td>0</td>\n",
       "      <td>kBEdx</td>\n",
       "      <td>-15.001</td>\n",
       "      <td>-8.276</td>\n",
       "      <td>-0.006</td>\n",
       "      <td>3.179</td>\n",
       "    </tr>\n",
       "    <tr>\n",
       "      <td>1</td>\n",
       "      <td>62mP7</td>\n",
       "      <td>14.272</td>\n",
       "      <td>-3.475</td>\n",
       "      <td>0.999</td>\n",
       "      <td>26.953</td>\n",
       "    </tr>\n",
       "    <tr>\n",
       "      <td>2</td>\n",
       "      <td>vyE1P</td>\n",
       "      <td>6.263</td>\n",
       "      <td>-5.948</td>\n",
       "      <td>5.001</td>\n",
       "      <td>134.766</td>\n",
       "    </tr>\n",
       "    <tr>\n",
       "      <td>3</td>\n",
       "      <td>KcrkZ</td>\n",
       "      <td>-13.081</td>\n",
       "      <td>-11.506</td>\n",
       "      <td>4.999</td>\n",
       "      <td>137.945</td>\n",
       "    </tr>\n",
       "    <tr>\n",
       "      <td>4</td>\n",
       "      <td>AHL4O</td>\n",
       "      <td>12.702</td>\n",
       "      <td>-8.147</td>\n",
       "      <td>5.004</td>\n",
       "      <td>134.766</td>\n",
       "    </tr>\n",
       "  </tbody>\n",
       "</table>\n",
       "</div>"
      ],
      "text/plain": [
       "      id      f0      f1     f2  product\n",
       "0  kBEdx -15.001  -8.276 -0.006    3.179\n",
       "1  62mP7  14.272  -3.475  0.999   26.953\n",
       "2  vyE1P   6.263  -5.948  5.001  134.766\n",
       "3  KcrkZ -13.081 -11.506  4.999  137.945\n",
       "4  AHL4O  12.702  -8.147  5.004  134.766"
      ]
     },
     "metadata": {},
     "output_type": "display_data"
    },
    {
     "data": {
      "text/html": [
       "<div>\n",
       "<style scoped>\n",
       "    .dataframe tbody tr th:only-of-type {\n",
       "        vertical-align: middle;\n",
       "    }\n",
       "\n",
       "    .dataframe tbody tr th {\n",
       "        vertical-align: top;\n",
       "    }\n",
       "\n",
       "    .dataframe thead th {\n",
       "        text-align: right;\n",
       "    }\n",
       "</style>\n",
       "<table border=\"1\" class=\"dataframe\">\n",
       "  <thead>\n",
       "    <tr style=\"text-align: right;\">\n",
       "      <th></th>\n",
       "      <th>id</th>\n",
       "      <th>f0</th>\n",
       "      <th>f1</th>\n",
       "      <th>f2</th>\n",
       "      <th>product</th>\n",
       "    </tr>\n",
       "  </thead>\n",
       "  <tbody>\n",
       "    <tr>\n",
       "      <td>0</td>\n",
       "      <td>fwXo0</td>\n",
       "      <td>-1.147</td>\n",
       "      <td>0.963</td>\n",
       "      <td>-0.829</td>\n",
       "      <td>27.759</td>\n",
       "    </tr>\n",
       "    <tr>\n",
       "      <td>1</td>\n",
       "      <td>WJtFt</td>\n",
       "      <td>0.263</td>\n",
       "      <td>0.270</td>\n",
       "      <td>-2.530</td>\n",
       "      <td>56.070</td>\n",
       "    </tr>\n",
       "    <tr>\n",
       "      <td>2</td>\n",
       "      <td>ovLUW</td>\n",
       "      <td>0.195</td>\n",
       "      <td>0.289</td>\n",
       "      <td>-5.586</td>\n",
       "      <td>62.872</td>\n",
       "    </tr>\n",
       "    <tr>\n",
       "      <td>3</td>\n",
       "      <td>q6cA6</td>\n",
       "      <td>2.236</td>\n",
       "      <td>-0.554</td>\n",
       "      <td>0.930</td>\n",
       "      <td>114.573</td>\n",
       "    </tr>\n",
       "    <tr>\n",
       "      <td>4</td>\n",
       "      <td>WPMUX</td>\n",
       "      <td>-0.516</td>\n",
       "      <td>1.716</td>\n",
       "      <td>5.899</td>\n",
       "      <td>149.601</td>\n",
       "    </tr>\n",
       "  </tbody>\n",
       "</table>\n",
       "</div>"
      ],
      "text/plain": [
       "      id     f0     f1     f2  product\n",
       "0  fwXo0 -1.147  0.963 -0.829   27.759\n",
       "1  WJtFt  0.263  0.270 -2.530   56.070\n",
       "2  ovLUW  0.195  0.289 -5.586   62.872\n",
       "3  q6cA6  2.236 -0.554  0.930  114.573\n",
       "4  WPMUX -0.516  1.716  5.899  149.601"
      ]
     },
     "metadata": {},
     "output_type": "display_data"
    }
   ],
   "source": [
    "display(data_1.head(), data_2.head(), data_3.head())"
   ]
  },
  {
   "cell_type": "markdown",
   "metadata": {
    "pycharm": {
     "name": "#%% md\n"
    }
   },
   "source": [
    "Согласно заказчику, столбцы означают следующее:\n",
    "\n",
    "- `id` — уникальный идентификатор скважины;\n",
    "- `f0, f1, f2` — три значимых признака точек;\n",
    "- `product` — объём запасов в скважине (тыс. баррелей).\n",
    "\n",
    "Соответственно, столбцы `f0, f1 и f2` в нашем случае будут признаками, по которым мы и будем предсказывать наш целевой признак `product`.\n",
    "\n",
    "Посмотрим на то, как распрелены значения наших признаков. Нас интересует только размах значений, поэтому посмотрим только минимальные и максимальные значения."
   ]
  },
  {
   "cell_type": "code",
   "execution_count": 7,
   "metadata": {
    "pycharm": {
     "name": "#%%\n"
    }
   },
   "outputs": [
    {
     "data": {
      "text/html": [
       "<div>\n",
       "<style scoped>\n",
       "    .dataframe tbody tr th:only-of-type {\n",
       "        vertical-align: middle;\n",
       "    }\n",
       "\n",
       "    .dataframe tbody tr th {\n",
       "        vertical-align: top;\n",
       "    }\n",
       "\n",
       "    .dataframe thead th {\n",
       "        text-align: right;\n",
       "    }\n",
       "</style>\n",
       "<table border=\"1\" class=\"dataframe\">\n",
       "  <thead>\n",
       "    <tr style=\"text-align: right;\">\n",
       "      <th></th>\n",
       "      <th>f0</th>\n",
       "      <th>f1</th>\n",
       "      <th>f2</th>\n",
       "    </tr>\n",
       "  </thead>\n",
       "  <tbody>\n",
       "    <tr>\n",
       "      <td>min</td>\n",
       "      <td>-1.409</td>\n",
       "      <td>-0.848</td>\n",
       "      <td>-12.088</td>\n",
       "    </tr>\n",
       "    <tr>\n",
       "      <td>max</td>\n",
       "      <td>2.362</td>\n",
       "      <td>1.344</td>\n",
       "      <td>16.004</td>\n",
       "    </tr>\n",
       "  </tbody>\n",
       "</table>\n",
       "</div>"
      ],
      "text/plain": [
       "        f0     f1      f2\n",
       "min -1.409 -0.848 -12.088\n",
       "max  2.362  1.344  16.004"
      ]
     },
     "execution_count": 7,
     "metadata": {},
     "output_type": "execute_result"
    }
   ],
   "source": [
    "data_1.describe().loc[['min', 'max'], ['f0', 'f1', 'f2']]"
   ]
  },
  {
   "cell_type": "markdown",
   "metadata": {
    "pycharm": {
     "name": "#%% md\n"
    }
   },
   "source": [
    "Видно, что наши данные распределены не одинаково. Поэтому, перед обучением, необходимо будет их стандартизировать."
   ]
  },
  {
   "cell_type": "markdown",
   "metadata": {
    "pycharm": {
     "name": "#%% md\n"
    }
   },
   "source": [
    "Теперь разделим наши датасеты на тренировочную и валидационную выборки в соотношении 75:25. Для этого воспользуемся функцией `train_test_split` из библиотеки `sklearn`."
   ]
  },
  {
   "cell_type": "code",
   "execution_count": 8,
   "metadata": {
    "pycharm": {
     "name": "#%%\n"
    }
   },
   "outputs": [],
   "source": [
    "data_1_train, data_1_valid, data_2_train, data_2_valid, \\\n",
    "data_3_train, data_3_valid = train_test_split(data_1, data_2, data_3, train_size=0.75, random_state=123456789)"
   ]
  },
  {
   "cell_type": "markdown",
   "metadata": {
    "pycharm": {
     "name": "#%% md\n"
    }
   },
   "source": [
    "Посмотрим на размеры полученных выборок."
   ]
  },
  {
   "cell_type": "code",
   "execution_count": 9,
   "metadata": {
    "pycharm": {
     "name": "#%%\n"
    }
   },
   "outputs": [
    {
     "name": "stdout",
     "output_type": "stream",
     "text": [
      "Количество строк в исходных датасетах: (100000, 100000, 100000)\n",
      "Количество строк в тренировочной выборке: (75000, 75000, 75000)\n",
      "Количество строк в валидационной выборке: (25000, 25000, 25000)\n"
     ]
    }
   ],
   "source": [
    "print(f'''Количество строк в исходных датасетах: {data_1.shape[0], data_2.shape[0], data_3.shape[0]}\n",
    "Количество строк в тренировочной выборке: {data_1_train.shape[0], data_2_train.shape[0], data_3_train.shape[0]}\n",
    "Количество строк в валидационной выборке: {data_1_valid.shape[0], data_2_valid.shape[0], data_3_valid.shape[0]}''')"
   ]
  },
  {
   "cell_type": "markdown",
   "metadata": {
    "pycharm": {
     "name": "#%% md\n"
    }
   },
   "source": [
    "Видно, что данные разбили правильно.\n",
    "\n",
    "Осталось только разбить выборки на признаки и целевой признак. Для этого также напишем функцию, которая сохраняет в `features` только столбцы `f0, f1 и f2`. При этом в `target` сохраним столбец `product`."
   ]
  },
  {
   "cell_type": "code",
   "execution_count": 10,
   "metadata": {
    "pycharm": {
     "name": "#%%\n"
    }
   },
   "outputs": [],
   "source": [
    "def features_target(*data):\n",
    "    data_to_return = []\n",
    "    for dataset in data:\n",
    "        features = dataset.drop(['id', 'product'], axis=1)\n",
    "        target = dataset['product']\n",
    "        data_to_return.extend([features, target])\n",
    "    return data_to_return"
   ]
  },
  {
   "cell_type": "markdown",
   "metadata": {
    "pycharm": {
     "name": "#%% md\n"
    }
   },
   "source": [
    "Разделим все выборки."
   ]
  },
  {
   "cell_type": "code",
   "execution_count": 11,
   "metadata": {
    "pycharm": {
     "name": "#%%\n"
    }
   },
   "outputs": [],
   "source": [
    "data_1_train_features, data_1_train_target, data_2_train_features,  data_2_train_target, \\\n",
    "data_3_train_features, data_3_train_target = features_target(data_1_train, data_2_train, data_3_train)\n",
    "\n",
    "data_1_valid_features, data_1_valid_target, data_2_valid_features,  data_2_valid_target, \\\n",
    "data_3_valid_features, data_3_valid_target = features_target(data_1_valid, data_2_valid, data_3_valid)"
   ]
  },
  {
   "cell_type": "markdown",
   "metadata": {
    "pycharm": {
     "name": "#%% md\n"
    }
   },
   "source": [
    "Посмотрим на наши выборки."
   ]
  },
  {
   "cell_type": "code",
   "execution_count": 12,
   "metadata": {
    "pycharm": {
     "name": "#%%\n"
    }
   },
   "outputs": [
    {
     "data": {
      "text/html": [
       "<div>\n",
       "<style scoped>\n",
       "    .dataframe tbody tr th:only-of-type {\n",
       "        vertical-align: middle;\n",
       "    }\n",
       "\n",
       "    .dataframe tbody tr th {\n",
       "        vertical-align: top;\n",
       "    }\n",
       "\n",
       "    .dataframe thead th {\n",
       "        text-align: right;\n",
       "    }\n",
       "</style>\n",
       "<table border=\"1\" class=\"dataframe\">\n",
       "  <thead>\n",
       "    <tr style=\"text-align: right;\">\n",
       "      <th></th>\n",
       "      <th>f0</th>\n",
       "      <th>f1</th>\n",
       "      <th>f2</th>\n",
       "    </tr>\n",
       "  </thead>\n",
       "  <tbody>\n",
       "    <tr>\n",
       "      <td>88125</td>\n",
       "      <td>-0.266</td>\n",
       "      <td>1.050</td>\n",
       "      <td>0.825</td>\n",
       "    </tr>\n",
       "    <tr>\n",
       "      <td>13040</td>\n",
       "      <td>-0.831</td>\n",
       "      <td>0.192</td>\n",
       "      <td>1.922</td>\n",
       "    </tr>\n",
       "    <tr>\n",
       "      <td>1866</td>\n",
       "      <td>0.129</td>\n",
       "      <td>1.067</td>\n",
       "      <td>-2.132</td>\n",
       "    </tr>\n",
       "    <tr>\n",
       "      <td>15252</td>\n",
       "      <td>0.464</td>\n",
       "      <td>0.834</td>\n",
       "      <td>6.456</td>\n",
       "    </tr>\n",
       "    <tr>\n",
       "      <td>38331</td>\n",
       "      <td>0.200</td>\n",
       "      <td>-0.429</td>\n",
       "      <td>1.311</td>\n",
       "    </tr>\n",
       "  </tbody>\n",
       "</table>\n",
       "</div>"
      ],
      "text/plain": [
       "          f0     f1     f2\n",
       "88125 -0.266  1.050  0.825\n",
       "13040 -0.831  0.192  1.922\n",
       "1866   0.129  1.067 -2.132\n",
       "15252  0.464  0.834  6.456\n",
       "38331  0.200 -0.429  1.311"
      ]
     },
     "metadata": {},
     "output_type": "display_data"
    },
    {
     "data": {
      "text/html": [
       "<div>\n",
       "<style scoped>\n",
       "    .dataframe tbody tr th:only-of-type {\n",
       "        vertical-align: middle;\n",
       "    }\n",
       "\n",
       "    .dataframe tbody tr th {\n",
       "        vertical-align: top;\n",
       "    }\n",
       "\n",
       "    .dataframe thead th {\n",
       "        text-align: right;\n",
       "    }\n",
       "</style>\n",
       "<table border=\"1\" class=\"dataframe\">\n",
       "  <thead>\n",
       "    <tr style=\"text-align: right;\">\n",
       "      <th></th>\n",
       "      <th>product</th>\n",
       "    </tr>\n",
       "  </thead>\n",
       "  <tbody>\n",
       "    <tr>\n",
       "      <td>88125</td>\n",
       "      <td>85.142</td>\n",
       "    </tr>\n",
       "    <tr>\n",
       "      <td>13040</td>\n",
       "      <td>65.180</td>\n",
       "    </tr>\n",
       "    <tr>\n",
       "      <td>1866</td>\n",
       "      <td>14.668</td>\n",
       "    </tr>\n",
       "    <tr>\n",
       "      <td>15252</td>\n",
       "      <td>119.791</td>\n",
       "    </tr>\n",
       "    <tr>\n",
       "      <td>38331</td>\n",
       "      <td>108.708</td>\n",
       "    </tr>\n",
       "  </tbody>\n",
       "</table>\n",
       "</div>"
      ],
      "text/plain": [
       "       product\n",
       "88125   85.142\n",
       "13040   65.180\n",
       "1866    14.668\n",
       "15252  119.791\n",
       "38331  108.708"
      ]
     },
     "metadata": {},
     "output_type": "display_data"
    },
    {
     "data": {
      "text/html": [
       "<div>\n",
       "<style scoped>\n",
       "    .dataframe tbody tr th:only-of-type {\n",
       "        vertical-align: middle;\n",
       "    }\n",
       "\n",
       "    .dataframe tbody tr th {\n",
       "        vertical-align: top;\n",
       "    }\n",
       "\n",
       "    .dataframe thead th {\n",
       "        text-align: right;\n",
       "    }\n",
       "</style>\n",
       "<table border=\"1\" class=\"dataframe\">\n",
       "  <thead>\n",
       "    <tr style=\"text-align: right;\">\n",
       "      <th></th>\n",
       "      <th>f0</th>\n",
       "      <th>f1</th>\n",
       "      <th>f2</th>\n",
       "    </tr>\n",
       "  </thead>\n",
       "  <tbody>\n",
       "    <tr>\n",
       "      <td>49990</td>\n",
       "      <td>0.355</td>\n",
       "      <td>-0.209</td>\n",
       "      <td>8.634</td>\n",
       "    </tr>\n",
       "    <tr>\n",
       "      <td>55988</td>\n",
       "      <td>0.145</td>\n",
       "      <td>-0.206</td>\n",
       "      <td>-0.241</td>\n",
       "    </tr>\n",
       "    <tr>\n",
       "      <td>19888</td>\n",
       "      <td>0.989</td>\n",
       "      <td>-0.419</td>\n",
       "      <td>5.781</td>\n",
       "    </tr>\n",
       "    <tr>\n",
       "      <td>74059</td>\n",
       "      <td>1.130</td>\n",
       "      <td>-0.474</td>\n",
       "      <td>2.644</td>\n",
       "    </tr>\n",
       "    <tr>\n",
       "      <td>97457</td>\n",
       "      <td>1.648</td>\n",
       "      <td>-0.348</td>\n",
       "      <td>7.915</td>\n",
       "    </tr>\n",
       "  </tbody>\n",
       "</table>\n",
       "</div>"
      ],
      "text/plain": [
       "         f0     f1     f2\n",
       "49990 0.355 -0.209  8.634\n",
       "55988 0.145 -0.206 -0.241\n",
       "19888 0.989 -0.419  5.781\n",
       "74059 1.130 -0.474  2.644\n",
       "97457 1.648 -0.348  7.915"
      ]
     },
     "metadata": {},
     "output_type": "display_data"
    },
    {
     "data": {
      "text/html": [
       "<div>\n",
       "<style scoped>\n",
       "    .dataframe tbody tr th:only-of-type {\n",
       "        vertical-align: middle;\n",
       "    }\n",
       "\n",
       "    .dataframe tbody tr th {\n",
       "        vertical-align: top;\n",
       "    }\n",
       "\n",
       "    .dataframe thead th {\n",
       "        text-align: right;\n",
       "    }\n",
       "</style>\n",
       "<table border=\"1\" class=\"dataframe\">\n",
       "  <thead>\n",
       "    <tr style=\"text-align: right;\">\n",
       "      <th></th>\n",
       "      <th>product</th>\n",
       "    </tr>\n",
       "  </thead>\n",
       "  <tbody>\n",
       "    <tr>\n",
       "      <td>49990</td>\n",
       "      <td>184.511</td>\n",
       "    </tr>\n",
       "    <tr>\n",
       "      <td>55988</td>\n",
       "      <td>86.956</td>\n",
       "    </tr>\n",
       "    <tr>\n",
       "      <td>19888</td>\n",
       "      <td>136.524</td>\n",
       "    </tr>\n",
       "    <tr>\n",
       "      <td>74059</td>\n",
       "      <td>64.873</td>\n",
       "    </tr>\n",
       "    <tr>\n",
       "      <td>97457</td>\n",
       "      <td>150.568</td>\n",
       "    </tr>\n",
       "  </tbody>\n",
       "</table>\n",
       "</div>"
      ],
      "text/plain": [
       "       product\n",
       "49990  184.511\n",
       "55988   86.956\n",
       "19888  136.524\n",
       "74059   64.873\n",
       "97457  150.568"
      ]
     },
     "metadata": {},
     "output_type": "display_data"
    }
   ],
   "source": [
    "display(data_1_train_features.head(), data_1_train_target.to_frame().head())\n",
    "display(data_1_valid_features.head(), data_1_valid_target.to_frame().head())"
   ]
  },
  {
   "cell_type": "markdown",
   "metadata": {
    "pycharm": {
     "name": "#%% md\n"
    }
   },
   "source": [
    "Видно, что данные были успешно разбиты."
   ]
  },
  {
   "cell_type": "markdown",
   "metadata": {
    "pycharm": {
     "name": "#%% md\n"
    }
   },
   "source": [
    "**Вывод:**\n",
    "- Данные были импортированы. Они представляют собой идентификатор скважины, некоторые важные признаки скважины и объем её запасов.\n",
    "- Для обучения данные были разделены на тренировочную b валидационную выборки в соотношении 75:25. \n",
    "- Затем все выборки были разбиты на `features`, которые содержат только важные признаки скважины `f0, f1, f2` и `target`, содержащий ключевой признак `product`."
   ]
  },
  {
   "cell_type": "markdown",
   "metadata": {
    "pycharm": {
     "name": "#%% md\n"
    }
   },
   "source": [
    "## Обучение и проверка модели"
   ]
  },
  {
   "cell_type": "markdown",
   "metadata": {
    "pycharm": {
     "name": "#%% md\n"
    }
   },
   "source": [
    "Так как нам необходимо предсказывать количественные значения на основе других количественных значений, построим модель линейной регрессии для скважин в разных регионах. При этом, будем считать RMSE и средний запас предсказанного сырья для каждого региона. \n",
    "\n",
    "Сначала напишем функцию, которая возвращает необходимые нам параметры."
   ]
  },
  {
   "cell_type": "code",
   "execution_count": 13,
   "metadata": {
    "pycharm": {
     "name": "#%%\n"
    }
   },
   "outputs": [],
   "source": [
    "def model_fitting(train_features, train_target, valid_features, valid_target):\n",
    "    model = LinearRegression()\n",
    "    model.fit(train_features, train_target)\n",
    "    predictions = model.predict(valid_features)\n",
    "    rmse = mean_squared_error(valid_target, predictions) ** 0.5\n",
    "    return predictions.mean(), rmse, predictions"
   ]
  },
  {
   "cell_type": "markdown",
   "metadata": {
    "pycharm": {
     "name": "#%% md\n"
    }
   },
   "source": [
    "Обучим модели."
   ]
  },
  {
   "cell_type": "code",
   "execution_count": 14,
   "metadata": {
    "pycharm": {
     "name": "#%%\n"
    }
   },
   "outputs": [],
   "source": [
    "data_1_predictions = model_fitting(data_1_train_features, data_1_train_target, data_1_valid_features, data_1_valid_target)\n",
    "data_2_predictions = model_fitting(data_2_train_features, data_2_train_target, data_2_valid_features, data_2_valid_target)\n",
    "data_3_predictions = model_fitting(data_3_train_features, data_3_train_target, data_3_valid_features, data_3_valid_target)"
   ]
  },
  {
   "cell_type": "code",
   "execution_count": 15,
   "metadata": {
    "pycharm": {
     "name": "#%%\n"
    }
   },
   "outputs": [
    {
     "name": "stdout",
     "output_type": "stream",
     "text": [
      "Регион 1:\n",
      "Средний объем: 92.601 тыс.баррелей, RMSE: 37.840\n",
      "\n",
      "Регион 2:\n",
      "Средний объем: 68.748 тыс.баррелей, RMSE: 0.890\n",
      "\n",
      "Регион 3:\n",
      "Средний объем: 94.881 тыс.баррелей, RMSE: 40.231\n"
     ]
    }
   ],
   "source": [
    "print(f'''Регион 1:\n",
    "Средний объем: {data_1_predictions[0]:.3f} тыс.баррелей, RMSE: {data_1_predictions[1]:.3f}\n",
    "\n",
    "Регион 2:\n",
    "Средний объем: {data_2_predictions[0]:.3f} тыс.баррелей, RMSE: {data_2_predictions[1]:.3f}\n",
    "\n",
    "Регион 3:\n",
    "Средний объем: {data_3_predictions[0]:.3f} тыс.баррелей, RMSE: {data_3_predictions[1]:.3f}''')"
   ]
  },
  {
   "cell_type": "markdown",
   "metadata": {
    "pycharm": {
     "name": "#%% md\n"
    }
   },
   "source": [
    "**Вывод:**\n",
    "\n",
    "На данном этапе были рассчитаны средние объемы добычи для каждого региона, а также корень от среднеквадратической ошибки RMSE. Видно, что для 2 региона это очень малое значение. Это может быть связано с тем, что для данного региона значения объемов добычи удалось предсказать лучше, чем для других."
   ]
  },
  {
   "cell_type": "markdown",
   "metadata": {
    "pycharm": {
     "name": "#%% md\n"
    }
   },
   "source": [
    "## Подготовка к расчёту прибыли"
   ]
  },
  {
   "cell_type": "markdown",
   "metadata": {
    "pycharm": {
     "name": "#%% md\n"
    }
   },
   "source": [
    "На данном этапе рассчитаем прибыль от разработки скважин в изученных регионах. Сначала сохраним все необходимые для расчетов значения в отдельные параметры: бюджет разработки и цена одной тысячи баррелей."
   ]
  },
  {
   "cell_type": "code",
   "execution_count": 16,
   "metadata": {
    "pycharm": {
     "name": "#%%\n"
    }
   },
   "outputs": [],
   "source": [
    "budget = 10*10**9\n",
    "barrel_price = 450*10**3"
   ]
  },
  {
   "cell_type": "markdown",
   "metadata": {
    "pycharm": {
     "name": "#%% md\n"
    }
   },
   "source": [
    "Посчитаем, сколько необходимо добыть баррелей, чтобы разработка была безубыточна."
   ]
  },
  {
   "cell_type": "code",
   "execution_count": 17,
   "metadata": {
    "pycharm": {
     "name": "#%%\n"
    }
   },
   "outputs": [],
   "source": [
    "min_product = budget/barrel_price"
   ]
  },
  {
   "cell_type": "code",
   "execution_count": 18,
   "metadata": {
    "pycharm": {
     "name": "#%%\n"
    }
   },
   "outputs": [
    {
     "name": "stdout",
     "output_type": "stream",
     "text": [
      "Для того, чтобы разработка была безубыточна, в регионе необходимо добыть как минимум 22222.222 тыс. баррелей\n"
     ]
    }
   ],
   "source": [
    "print(f'Для того, чтобы разработка была безубыточна, в регионе необходимо добыть как минимум {min_product:.3f} тыс. баррелей')"
   ]
  },
  {
   "cell_type": "markdown",
   "metadata": {
    "pycharm": {
     "name": "#%% md\n"
    }
   },
   "source": [
    "Посчитаем, сколько прибыли принесет 200 скважин в каждом регионе, если бы каждая содержала среднее значение сырья."
   ]
  },
  {
   "cell_type": "code",
   "execution_count": 19,
   "metadata": {
    "pycharm": {
     "name": "#%%\n"
    }
   },
   "outputs": [
    {
     "name": "stdout",
     "output_type": "stream",
     "text": [
      "Регион 1:\n",
      "Разработка 200 скважин окупила бы только 83.34 % затрат\n",
      "\n",
      "Регион 2:\n",
      "Разработка 200 скважин окупила бы только 61.87 % затрат\n",
      "\n",
      "Регион 3:\n",
      "Разработка 200 скважин окупила бы только 85.39 % затрат\n"
     ]
    }
   ],
   "source": [
    "print(f'''Регион 1:\n",
    "Разработка 200 скважин окупила бы только {200*barrel_price*data_1_predictions[0]/budget*100:.2f} % затрат\n",
    "\n",
    "Регион 2:\n",
    "Разработка 200 скважин окупила бы только {200*barrel_price*data_2_predictions[0]/budget*100:.2f} % затрат\n",
    "\n",
    "Регион 3:\n",
    "Разработка 200 скважин окупила бы только {200*barrel_price*data_3_predictions[0]/budget*100:.2f} % затрат''')"
   ]
  },
  {
   "cell_type": "markdown",
   "metadata": {
    "pycharm": {
     "name": "#%% md\n"
    }
   },
   "source": [
    "**Вывод:**\n",
    "\n",
    "Расчёт прибыли показал, что если предположить, что каждая скважина содержит среднее значение сырья для региона, то все они оказались бы убыточными."
   ]
  },
  {
   "cell_type": "markdown",
   "metadata": {
    "pycharm": {
     "name": "#%% md\n"
    }
   },
   "source": [
    "## Расчёт прибыли и рисков "
   ]
  },
  {
   "cell_type": "markdown",
   "metadata": {
    "pycharm": {
     "name": "#%% md\n"
    }
   },
   "source": [
    "Напишем функцию, которая рассчитывает прибыль по выбранным скважинам и предсказаниям модели. "
   ]
  },
  {
   "cell_type": "code",
   "execution_count": 65,
   "metadata": {
    "pycharm": {
     "name": "#%%\n"
    }
   },
   "outputs": [],
   "source": [
    "def count_rev(df):\n",
    "    return sum(df.sort_values(by='predictions', ascending=False)['valid'][:200])*barrel_price"
   ]
  },
  {
   "cell_type": "markdown",
   "metadata": {
    "pycharm": {
     "name": "#%% md\n"
    }
   },
   "source": [
    "Теперь посчитаем прибыль для каждого региона техникой Bootstrap. Для этого также напишем функцию, возвращающую распределение прибыли."
   ]
  },
  {
   "cell_type": "code",
   "execution_count": 77,
   "metadata": {
    "pycharm": {
     "name": "#%%\n"
    }
   },
   "outputs": [],
   "source": [
    "state = RandomState(12345)\n",
    "\n",
    "def bootstrap(predictions, data_valid_target, bootstrap_len=1000, subsample_size=500):\n",
    "    state = RandomState(12345)\n",
    "    df = pd.DataFrame({'predictions': predictions, 'valid':data_valid_target})\n",
    "    values = []\n",
    "    for _ in range(bootstrap_len):\n",
    "        subsample = df.sample(n=subsample_size, replace=True, random_state=state)\n",
    "        revenue = count_rev(subsample) - budget\n",
    "        values.append(revenue)\n",
    "    return pd.Series(values), (pd.Series(values) < 0).mean()"
   ]
  },
  {
   "cell_type": "markdown",
   "metadata": {
    "pycharm": {
     "name": "#%% md\n"
    }
   },
   "source": [
    "Посчитаем прибыль для каждого региона, оценим среднюю прибыль, 95% доверительный интервал и долю отрицательных прибылей."
   ]
  },
  {
   "cell_type": "code",
   "execution_count": 78,
   "metadata": {
    "pycharm": {
     "name": "#%%\n"
    }
   },
   "outputs": [],
   "source": [
    "data_1_bootstrap, data_1_negative_prob = bootstrap(data_1_predictions[2], data_1_valid_target)\n",
    "data_2_bootstrap, data_2_negative_prob = bootstrap(data_2_predictions[2], data_2_valid_target)\n",
    "data_3_bootstrap, data_3_negative_prob = bootstrap(data_3_predictions[2], data_3_valid_target)"
   ]
  },
  {
   "cell_type": "code",
   "execution_count": 80,
   "metadata": {
    "pycharm": {
     "name": "#%%\n"
    }
   },
   "outputs": [
    {
     "name": "stdout",
     "output_type": "stream",
     "text": [
      "Регион 1:\n",
      "Разработка 200 лучших скважин в среднем принесет 418.70 млн. рублей.\n",
      "95% доверительный интервал: (-99.77, 927.56) млн. рублей.\n",
      "При этом процент отрицательных убытков 5.50 %.\n",
      "\n",
      "Регион 2:\n",
      "Разработка 200 лучших скважин в среднем принесет 458.25 млн. рублей.\n",
      "95% доверительный интервал: (63.10, 875.44) млн. рублей.\n",
      "При этом процент отрицательных убытков 1.10 %.\n",
      "\n",
      "Регион 3:\n",
      "Разработка 200 лучших скважин в среднем принесет 381.66 млн. рублей.\n",
      "95% доверительный интервал: (-176.11, 892.11) млн. рублей.\n",
      "При этом процент отрицательных убытков 9.20 %.\n"
     ]
    }
   ],
   "source": [
    "print(f'''Регион 1:\n",
    "Разработка 200 лучших скважин в среднем принесет \\\n",
    "{data_1_bootstrap.mean()/10**6:.2f} млн. рублей.\n",
    "95% доверительный интервал: ({data_1_bootstrap.quantile(0.025)/10**6:.2f}, \\\n",
    "{data_1_bootstrap.quantile(0.975)/10**6:.2f}) млн. рублей.\n",
    "При этом процент отрицательных убытков {data_1_negative_prob*100:.2f} %.\n",
    "\n",
    "Регион 2:\n",
    "Разработка 200 лучших скважин в среднем принесет \\\n",
    "{data_2_bootstrap.mean()/10**6:.2f} млн. рублей.\n",
    "95% доверительный интервал: ({data_2_bootstrap.quantile(0.025)/10**6:.2f}, \\\n",
    "{data_2_bootstrap.quantile(0.975)/10**6:.2f}) млн. рублей.\n",
    "При этом процент отрицательных убытков {data_2_negative_prob*100:.2f} %.\n",
    "\n",
    "Регион 3:\n",
    "Разработка 200 лучших скважин в среднем принесет \\\n",
    "{data_3_bootstrap.mean()/10**6:.2f} млн. рублей.\n",
    "95% доверительный интервал: ({data_3_bootstrap.quantile(0.025)/10**6:.2f}, \\\n",
    "{data_3_bootstrap.quantile(0.975)/10**6:.2f}) млн. рублей.\n",
    "При этом процент отрицательных убытков {data_3_negative_prob*100:.2f} %.''')"
   ]
  },
  {
   "cell_type": "markdown",
   "metadata": {
    "pycharm": {
     "name": "#%% md\n"
    }
   },
   "source": [
    "**Вывод:**\n",
    "\n",
    "Техника Boostrap показала, что самым прибыльным является 2 регион со средним значением 458.25 млн. рублей. Также, он является единственным регионом, который попадает под требование заказчика и имеет процент убыточности меньше 2.5 %."
   ]
  },
  {
   "cell_type": "markdown",
   "metadata": {
    "pycharm": {
     "name": "#%% md\n"
    }
   },
   "source": [
    "## Общий вывод"
   ]
  },
  {
   "cell_type": "markdown",
   "metadata": {
    "pycharm": {
     "name": "#%% md\n"
    }
   },
   "source": [
    "В данном проекте была построена модель, которая предсказывает прибыль с разработки скважин в трех регионах.\n",
    "1. Сначала были предобработаны исходные данные для трех регионов, и разделены на тренировочную и валидационную выборки.\n",
    "2. Далее были обучены модели, которые предсказывают объем сырья в скважине на основе ее параметров.\n",
    "3. Была рассчитана прибыль в каждом регионе на основе среднего значения сырья в скважине. Оказалось, что все регионы в этом случае убыточны.\n",
    "4. Путем использования техники Bootstrap были рассчитаны средние значения прибыли с 200 лучших скважин из выбранных 500, построены доверительные интервалы и рассчитана вероятность отрицательной прибыли. Было определено, что лучшим регионом является второй, так как он единственный попадет под требование о проценте отрицательных исходов и имеет наибольшую среднюю прибыль."
   ]
  }
 ],
 "metadata": {
  "ExecuteTimeLog": [
   {
    "duration": 1108,
    "start_time": "2022-02-22T08:04:48.462Z"
   },
   {
    "duration": 3,
    "start_time": "2022-02-22T08:06:48.304Z"
   },
   {
    "duration": 393,
    "start_time": "2022-02-22T08:11:23.798Z"
   },
   {
    "duration": 4,
    "start_time": "2022-02-22T08:11:26.926Z"
   },
   {
    "duration": 1082,
    "start_time": "2022-02-22T08:11:27.333Z"
   },
   {
    "duration": 25,
    "start_time": "2022-02-22T08:11:30.694Z"
   },
   {
    "duration": 24,
    "start_time": "2022-02-22T08:11:32.719Z"
   },
   {
    "duration": 25,
    "start_time": "2022-02-22T08:11:35.430Z"
   },
   {
    "duration": 442,
    "start_time": "2022-02-22T08:12:15.615Z"
   },
   {
    "duration": 453,
    "start_time": "2022-02-22T08:12:19.710Z"
   },
   {
    "duration": 52,
    "start_time": "2022-02-22T08:30:57.913Z"
   },
   {
    "duration": 40,
    "start_time": "2022-02-22T08:42:07.966Z"
   },
   {
    "duration": 38,
    "start_time": "2022-02-22T08:42:12.927Z"
   },
   {
    "duration": 32,
    "start_time": "2022-02-22T08:42:25.601Z"
   },
   {
    "duration": 25,
    "start_time": "2022-02-22T08:42:30.810Z"
   },
   {
    "duration": 485,
    "start_time": "2022-02-22T08:42:37.595Z"
   },
   {
    "duration": 386,
    "start_time": "2022-02-22T08:42:41.649Z"
   },
   {
    "duration": 487,
    "start_time": "2022-02-22T08:43:01.119Z"
   },
   {
    "duration": 27,
    "start_time": "2022-02-22T08:43:05.237Z"
   },
   {
    "duration": 30,
    "start_time": "2022-02-22T08:43:07.985Z"
   },
   {
    "duration": 22,
    "start_time": "2022-02-22T08:43:12.755Z"
   },
   {
    "duration": 24,
    "start_time": "2022-02-22T08:43:18.642Z"
   },
   {
    "duration": 306,
    "start_time": "2022-02-22T08:43:21.497Z"
   },
   {
    "duration": 31,
    "start_time": "2022-02-22T08:43:29.801Z"
   },
   {
    "duration": 32,
    "start_time": "2022-02-22T08:43:38.714Z"
   },
   {
    "duration": 34,
    "start_time": "2022-02-22T08:43:48.825Z"
   },
   {
    "duration": 34,
    "start_time": "2022-02-22T08:43:51.387Z"
   },
   {
    "duration": 33,
    "start_time": "2022-02-22T08:44:15.499Z"
   },
   {
    "duration": 36,
    "start_time": "2022-02-22T08:44:20.522Z"
   },
   {
    "duration": 310,
    "start_time": "2022-02-22T08:45:02.323Z"
   },
   {
    "duration": 43,
    "start_time": "2022-02-22T08:45:40.652Z"
   },
   {
    "duration": 6,
    "start_time": "2022-02-22T08:46:18.426Z"
   },
   {
    "duration": 30,
    "start_time": "2022-02-22T08:46:22.961Z"
   },
   {
    "duration": 5,
    "start_time": "2022-02-22T08:46:31.026Z"
   },
   {
    "duration": 30,
    "start_time": "2022-02-22T08:46:33.305Z"
   },
   {
    "duration": 27,
    "start_time": "2022-02-22T08:46:41.129Z"
   },
   {
    "duration": 30,
    "start_time": "2022-02-22T08:46:44.340Z"
   },
   {
    "duration": 26,
    "start_time": "2022-02-22T08:47:05.852Z"
   },
   {
    "duration": 42,
    "start_time": "2022-02-22T08:47:19.690Z"
   },
   {
    "duration": 400,
    "start_time": "2022-02-22T08:47:24.096Z"
   },
   {
    "duration": 32,
    "start_time": "2022-02-22T08:47:37.827Z"
   },
   {
    "duration": 53,
    "start_time": "2022-02-22T08:51:59.364Z"
   },
   {
    "duration": 8681,
    "start_time": "2022-02-22T08:52:12.991Z"
   },
   {
    "duration": 49,
    "start_time": "2022-02-22T08:52:22.500Z"
   },
   {
    "duration": 46,
    "start_time": "2022-02-22T08:52:29.947Z"
   },
   {
    "duration": 117,
    "start_time": "2022-02-22T08:52:36.484Z"
   },
   {
    "duration": 55,
    "start_time": "2022-02-22T08:52:38.229Z"
   },
   {
    "duration": 51,
    "start_time": "2022-02-22T08:53:04.167Z"
   },
   {
    "duration": 8,
    "start_time": "2022-02-22T09:00:21.673Z"
   },
   {
    "duration": 325,
    "start_time": "2022-02-22T09:00:28.373Z"
   },
   {
    "duration": 288,
    "start_time": "2022-02-22T09:00:35.224Z"
   },
   {
    "duration": 334,
    "start_time": "2022-02-22T09:00:38.440Z"
   },
   {
    "duration": 361,
    "start_time": "2022-02-22T09:00:44.858Z"
   },
   {
    "duration": 296,
    "start_time": "2022-02-22T09:00:48.270Z"
   },
   {
    "duration": 73,
    "start_time": "2022-02-22T09:01:02.404Z"
   },
   {
    "duration": 302,
    "start_time": "2022-02-22T09:04:41.714Z"
   },
   {
    "duration": 556,
    "start_time": "2022-02-22T09:13:03.957Z"
   },
   {
    "duration": 418,
    "start_time": "2022-02-22T09:32:29.098Z"
   },
   {
    "duration": 571,
    "start_time": "2022-02-22T09:32:34.050Z"
   },
   {
    "duration": 371,
    "start_time": "2022-02-22T09:32:46.523Z"
   },
   {
    "duration": 7,
    "start_time": "2022-02-22T09:34:54.364Z"
   },
   {
    "duration": 7,
    "start_time": "2022-02-22T09:35:07.223Z"
   },
   {
    "duration": 560,
    "start_time": "2022-02-22T09:35:33.540Z"
   },
   {
    "duration": 6,
    "start_time": "2022-02-22T09:35:45.043Z"
   },
   {
    "duration": 31,
    "start_time": "2022-02-22T09:35:46.211Z"
   },
   {
    "duration": 122,
    "start_time": "2022-02-22T09:36:09.419Z"
   },
   {
    "duration": 6,
    "start_time": "2022-02-22T09:36:32.510Z"
   },
   {
    "duration": 7,
    "start_time": "2022-02-22T09:36:37.316Z"
   },
   {
    "duration": 373,
    "start_time": "2022-02-22T09:38:51.773Z"
   },
   {
    "duration": 488,
    "start_time": "2022-02-22T09:38:54.941Z"
   },
   {
    "duration": 6,
    "start_time": "2022-02-22T09:39:12.077Z"
   },
   {
    "duration": 5,
    "start_time": "2022-02-22T09:42:40.024Z"
   },
   {
    "duration": 564,
    "start_time": "2022-02-22T09:45:54.766Z"
   },
   {
    "duration": 304,
    "start_time": "2022-02-22T09:46:14.992Z"
   },
   {
    "duration": 24,
    "start_time": "2022-02-22T09:46:19.132Z"
   },
   {
    "duration": 5,
    "start_time": "2022-02-22T09:46:34.503Z"
   },
   {
    "duration": 570,
    "start_time": "2022-02-22T09:46:34.999Z"
   },
   {
    "duration": 4,
    "start_time": "2022-02-22T09:46:44.438Z"
   },
   {
    "duration": 14,
    "start_time": "2022-02-22T09:46:45.701Z"
   },
   {
    "duration": 14,
    "start_time": "2022-02-22T09:46:49.119Z"
   },
   {
    "duration": 9,
    "start_time": "2022-02-22T09:46:53.431Z"
   },
   {
    "duration": 14,
    "start_time": "2022-02-22T09:49:19.217Z"
   },
   {
    "duration": 19,
    "start_time": "2022-02-22T09:49:26.232Z"
   },
   {
    "duration": 16,
    "start_time": "2022-02-22T09:49:37.360Z"
   },
   {
    "duration": 94,
    "start_time": "2022-02-22T09:49:43.402Z"
   },
   {
    "duration": 20,
    "start_time": "2022-02-22T09:49:46.488Z"
   },
   {
    "duration": 17,
    "start_time": "2022-02-22T09:49:51.747Z"
   },
   {
    "duration": 479,
    "start_time": "2022-02-22T10:20:59.809Z"
   },
   {
    "duration": 12,
    "start_time": "2022-02-22T10:21:24.315Z"
   },
   {
    "duration": 14,
    "start_time": "2022-02-22T10:21:28.563Z"
   },
   {
    "duration": 11,
    "start_time": "2022-02-22T10:21:44.892Z"
   },
   {
    "duration": 294,
    "start_time": "2022-02-22T10:22:52.876Z"
   },
   {
    "duration": 13,
    "start_time": "2022-02-22T10:23:27.196Z"
   },
   {
    "duration": 18,
    "start_time": "2022-02-22T10:23:28.012Z"
   },
   {
    "duration": 293,
    "start_time": "2022-02-22T10:23:30.004Z"
   },
   {
    "duration": 5,
    "start_time": "2022-02-22T10:24:54.276Z"
   },
   {
    "duration": 641,
    "start_time": "2022-02-22T10:25:46.109Z"
   },
   {
    "duration": 5,
    "start_time": "2022-02-22T10:26:00.068Z"
   },
   {
    "duration": 6,
    "start_time": "2022-02-22T10:26:00.838Z"
   },
   {
    "duration": 16,
    "start_time": "2022-02-22T10:26:05.286Z"
   },
   {
    "duration": 15,
    "start_time": "2022-02-22T10:26:11.885Z"
   },
   {
    "duration": 15,
    "start_time": "2022-02-22T10:26:17.877Z"
   },
   {
    "duration": 22,
    "start_time": "2022-02-22T10:26:47.335Z"
   },
   {
    "duration": 15,
    "start_time": "2022-02-22T10:26:53.350Z"
   },
   {
    "duration": 344,
    "start_time": "2022-02-22T10:27:48.334Z"
   },
   {
    "duration": 4,
    "start_time": "2022-02-22T10:28:16.849Z"
   },
   {
    "duration": 466,
    "start_time": "2022-02-22T10:28:16.856Z"
   },
   {
    "duration": 38,
    "start_time": "2022-02-22T10:28:17.324Z"
   },
   {
    "duration": 50,
    "start_time": "2022-02-22T10:28:17.365Z"
   },
   {
    "duration": 32,
    "start_time": "2022-02-22T10:28:17.417Z"
   },
   {
    "duration": 76,
    "start_time": "2022-02-22T10:28:17.452Z"
   },
   {
    "duration": 18,
    "start_time": "2022-02-22T10:28:17.531Z"
   },
   {
    "duration": 5,
    "start_time": "2022-02-22T10:28:18.983Z"
   },
   {
    "duration": 335,
    "start_time": "2022-02-22T10:28:19.925Z"
   },
   {
    "duration": 6,
    "start_time": "2022-02-22T10:28:23.792Z"
   },
   {
    "duration": 339,
    "start_time": "2022-02-22T10:28:31.093Z"
   },
   {
    "duration": 360,
    "start_time": "2022-02-22T10:29:16.399Z"
   },
   {
    "duration": 551,
    "start_time": "2022-02-22T10:29:19.903Z"
   },
   {
    "duration": 6,
    "start_time": "2022-02-22T10:29:32.751Z"
   },
   {
    "duration": 344,
    "start_time": "2022-02-22T10:29:38.894Z"
   },
   {
    "duration": 612,
    "start_time": "2022-02-22T10:29:40.681Z"
   },
   {
    "duration": 5,
    "start_time": "2022-02-22T10:30:03.343Z"
   },
   {
    "duration": 9,
    "start_time": "2022-02-22T10:30:03.927Z"
   },
   {
    "duration": 357,
    "start_time": "2022-02-22T10:30:04.382Z"
   },
   {
    "duration": 15,
    "start_time": "2022-02-22T10:30:12.182Z"
   },
   {
    "duration": 8,
    "start_time": "2022-02-22T10:30:15.846Z"
   },
   {
    "duration": 6,
    "start_time": "2022-02-22T10:31:02.281Z"
   },
   {
    "duration": 329,
    "start_time": "2022-02-22T10:31:02.590Z"
   },
   {
    "duration": 297,
    "start_time": "2022-02-22T10:31:03.559Z"
   },
   {
    "duration": 355,
    "start_time": "2022-02-22T10:31:38.759Z"
   },
   {
    "duration": 5,
    "start_time": "2022-02-22T10:31:45.481Z"
   },
   {
    "duration": 389,
    "start_time": "2022-02-22T10:32:00.265Z"
   },
   {
    "duration": 15,
    "start_time": "2022-02-22T10:32:14.272Z"
   },
   {
    "duration": 13,
    "start_time": "2022-02-22T10:32:17.865Z"
   },
   {
    "duration": 10,
    "start_time": "2022-02-22T10:32:21.489Z"
   },
   {
    "duration": 5,
    "start_time": "2022-02-22T10:35:15.106Z"
   },
   {
    "duration": 5,
    "start_time": "2022-02-22T10:35:22.889Z"
   },
   {
    "duration": 15,
    "start_time": "2022-02-22T10:35:26.569Z"
   },
   {
    "duration": 9,
    "start_time": "2022-02-22T10:35:30.857Z"
   },
   {
    "duration": 21,
    "start_time": "2022-02-22T10:35:34.937Z"
   },
   {
    "duration": 7,
    "start_time": "2022-02-22T10:35:39.203Z"
   },
   {
    "duration": 15,
    "start_time": "2022-02-22T10:35:43.569Z"
   },
   {
    "duration": 15,
    "start_time": "2022-02-22T10:35:47.481Z"
   },
   {
    "duration": 15,
    "start_time": "2022-02-22T10:35:51.381Z"
   },
   {
    "duration": 15,
    "start_time": "2022-02-22T10:35:55.570Z"
   },
   {
    "duration": 15,
    "start_time": "2022-02-22T10:35:58.097Z"
   },
   {
    "duration": 15,
    "start_time": "2022-02-22T10:36:03.914Z"
   },
   {
    "duration": 4,
    "start_time": "2022-02-22T10:36:20.426Z"
   },
   {
    "duration": 6,
    "start_time": "2022-02-22T10:36:25.385Z"
   },
   {
    "duration": 14,
    "start_time": "2022-02-22T10:36:28.402Z"
   },
   {
    "duration": 15,
    "start_time": "2022-02-22T10:36:35.730Z"
   },
   {
    "duration": 13,
    "start_time": "2022-02-22T10:36:38.834Z"
   },
   {
    "duration": 6,
    "start_time": "2022-02-22T10:36:43.946Z"
   },
   {
    "duration": 9,
    "start_time": "2022-02-22T10:37:07.369Z"
   },
   {
    "duration": 356,
    "start_time": "2022-02-22T10:37:11.793Z"
   },
   {
    "duration": 5,
    "start_time": "2022-02-22T10:37:21.873Z"
   },
   {
    "duration": 8,
    "start_time": "2022-02-22T10:37:22.337Z"
   },
   {
    "duration": 282,
    "start_time": "2022-02-22T10:37:22.737Z"
   },
   {
    "duration": 303,
    "start_time": "2022-02-22T10:38:05.666Z"
   },
   {
    "duration": 6,
    "start_time": "2022-02-22T10:38:17.508Z"
   },
   {
    "duration": 18,
    "start_time": "2022-02-22T10:38:20.613Z"
   },
   {
    "duration": 18,
    "start_time": "2022-02-22T10:38:32.675Z"
   },
   {
    "duration": 17,
    "start_time": "2022-02-22T10:38:35.729Z"
   },
   {
    "duration": 295,
    "start_time": "2022-02-22T10:38:41.214Z"
   },
   {
    "duration": 441,
    "start_time": "2022-02-22T10:39:28.250Z"
   },
   {
    "duration": 333,
    "start_time": "2022-02-22T10:39:34.371Z"
   },
   {
    "duration": 314,
    "start_time": "2022-02-22T10:39:38.361Z"
   },
   {
    "duration": 705,
    "start_time": "2022-02-22T10:39:40.819Z"
   },
   {
    "duration": 7,
    "start_time": "2022-02-22T10:39:50.050Z"
   },
   {
    "duration": 19,
    "start_time": "2022-02-22T10:39:54.826Z"
   },
   {
    "duration": 8,
    "start_time": "2022-02-22T10:39:57.686Z"
   },
   {
    "duration": 280,
    "start_time": "2022-02-22T10:40:04.275Z"
   },
   {
    "duration": 336,
    "start_time": "2022-02-22T10:40:09.658Z"
   },
   {
    "duration": 354,
    "start_time": "2022-02-22T10:40:15.282Z"
   },
   {
    "duration": 6,
    "start_time": "2022-02-22T12:13:18.414Z"
   },
   {
    "duration": 471,
    "start_time": "2022-02-22T12:13:20.916Z"
   },
   {
    "duration": 287,
    "start_time": "2022-02-22T12:13:36.445Z"
   },
   {
    "duration": 790,
    "start_time": "2022-02-22T12:13:46.796Z"
   },
   {
    "duration": 6,
    "start_time": "2022-02-22T12:13:56.150Z"
   },
   {
    "duration": 758,
    "start_time": "2022-02-22T12:14:09.356Z"
   },
   {
    "duration": 829,
    "start_time": "2022-02-22T12:14:37.647Z"
   },
   {
    "duration": 6,
    "start_time": "2022-02-22T12:14:43.065Z"
   },
   {
    "duration": 6,
    "start_time": "2022-02-22T12:15:09.490Z"
   },
   {
    "duration": 313,
    "start_time": "2022-02-22T12:15:10.965Z"
   },
   {
    "duration": 5,
    "start_time": "2022-02-22T12:16:39.413Z"
   },
   {
    "duration": 717,
    "start_time": "2022-02-22T12:16:40.653Z"
   },
   {
    "duration": 5,
    "start_time": "2022-02-22T12:16:56.142Z"
   },
   {
    "duration": 744,
    "start_time": "2022-02-22T12:16:57.104Z"
   },
   {
    "duration": 5,
    "start_time": "2022-02-22T12:17:03.254Z"
   },
   {
    "duration": 426,
    "start_time": "2022-02-22T12:17:03.694Z"
   },
   {
    "duration": 9,
    "start_time": "2022-02-22T12:17:11.277Z"
   },
   {
    "duration": 100,
    "start_time": "2022-02-22T12:17:16.502Z"
   },
   {
    "duration": 924,
    "start_time": "2022-02-22T12:17:34.510Z"
   },
   {
    "duration": 4,
    "start_time": "2022-02-22T12:17:42.735Z"
   },
   {
    "duration": 8,
    "start_time": "2022-02-22T12:17:43.790Z"
   },
   {
    "duration": 24,
    "start_time": "2022-02-22T12:17:47.878Z"
   },
   {
    "duration": 4,
    "start_time": "2022-02-22T12:17:59.262Z"
   },
   {
    "duration": 14,
    "start_time": "2022-02-22T12:18:01.846Z"
   },
   {
    "duration": 470,
    "start_time": "2022-02-22T12:18:06.095Z"
   },
   {
    "duration": 21,
    "start_time": "2022-02-22T12:18:15.590Z"
   },
   {
    "duration": 12,
    "start_time": "2022-02-22T12:18:19.014Z"
   },
   {
    "duration": 22,
    "start_time": "2022-02-22T12:18:57.449Z"
   },
   {
    "duration": 5,
    "start_time": "2022-02-22T12:19:29.063Z"
   },
   {
    "duration": 811,
    "start_time": "2022-02-22T12:19:29.943Z"
   },
   {
    "duration": 24,
    "start_time": "2022-02-22T12:19:31.759Z"
   },
   {
    "duration": 5,
    "start_time": "2022-02-22T12:19:35.671Z"
   },
   {
    "duration": 9,
    "start_time": "2022-02-22T12:19:36.058Z"
   },
   {
    "duration": 24,
    "start_time": "2022-02-22T12:19:38.303Z"
   },
   {
    "duration": 14,
    "start_time": "2022-02-22T12:19:43.679Z"
   },
   {
    "duration": 8,
    "start_time": "2022-02-22T12:19:46.624Z"
   },
   {
    "duration": 84,
    "start_time": "2022-02-22T12:19:48.622Z"
   },
   {
    "duration": 7,
    "start_time": "2022-02-22T12:19:50.495Z"
   },
   {
    "duration": 14,
    "start_time": "2022-02-22T12:19:52.223Z"
   },
   {
    "duration": 8,
    "start_time": "2022-02-22T12:19:54.047Z"
   },
   {
    "duration": 682,
    "start_time": "2022-02-22T12:20:06.193Z"
   },
   {
    "duration": 4,
    "start_time": "2022-02-22T12:20:15.959Z"
   },
   {
    "duration": 14,
    "start_time": "2022-02-22T12:20:17.192Z"
   },
   {
    "duration": 15,
    "start_time": "2022-02-22T12:20:19.759Z"
   },
   {
    "duration": 305,
    "start_time": "2022-02-22T12:20:37.111Z"
   },
   {
    "duration": 1072,
    "start_time": "2022-02-22T12:20:58.015Z"
   },
   {
    "duration": 4,
    "start_time": "2022-02-22T12:21:08.240Z"
   },
   {
    "duration": 598,
    "start_time": "2022-02-22T12:21:09.631Z"
   },
   {
    "duration": 27,
    "start_time": "2022-02-22T12:21:23.966Z"
   },
   {
    "duration": 12,
    "start_time": "2022-02-22T12:21:35.847Z"
   },
   {
    "duration": 14,
    "start_time": "2022-02-22T12:21:43.975Z"
   },
   {
    "duration": 12,
    "start_time": "2022-02-22T12:21:59.737Z"
   },
   {
    "duration": 10,
    "start_time": "2022-02-22T12:22:00.592Z"
   },
   {
    "duration": 13,
    "start_time": "2022-02-22T12:22:09.354Z"
   },
   {
    "duration": 4,
    "start_time": "2022-02-22T12:22:37.952Z"
   },
   {
    "duration": 386,
    "start_time": "2022-02-22T12:22:38.640Z"
   },
   {
    "duration": 6,
    "start_time": "2022-02-22T12:22:54.232Z"
   },
   {
    "duration": 12,
    "start_time": "2022-02-22T12:22:57.257Z"
   },
   {
    "duration": 5,
    "start_time": "2022-02-22T12:23:49.057Z"
   },
   {
    "duration": 6,
    "start_time": "2022-02-22T12:23:53.568Z"
   },
   {
    "duration": 291,
    "start_time": "2022-02-22T12:23:54.080Z"
   },
   {
    "duration": 123,
    "start_time": "2022-02-22T12:24:05.465Z"
   },
   {
    "duration": 310,
    "start_time": "2022-02-22T12:24:07.980Z"
   },
   {
    "duration": 5,
    "start_time": "2022-02-22T12:24:10.793Z"
   },
   {
    "duration": 12,
    "start_time": "2022-02-22T12:24:16.386Z"
   },
   {
    "duration": 7,
    "start_time": "2022-02-22T12:24:22.074Z"
   },
   {
    "duration": 6,
    "start_time": "2022-02-22T12:24:25.497Z"
   },
   {
    "duration": 12,
    "start_time": "2022-02-22T12:24:25.728Z"
   },
   {
    "duration": 109,
    "start_time": "2022-02-22T12:26:32.338Z"
   },
   {
    "duration": 106,
    "start_time": "2022-02-22T12:26:43.466Z"
   },
   {
    "duration": 5,
    "start_time": "2022-02-22T12:26:58.145Z"
   },
   {
    "duration": 8,
    "start_time": "2022-02-22T12:27:00.779Z"
   },
   {
    "duration": 23,
    "start_time": "2022-02-22T12:27:02.642Z"
   },
   {
    "duration": 12,
    "start_time": "2022-02-22T12:27:06.859Z"
   },
   {
    "duration": 5,
    "start_time": "2022-02-22T12:27:16.754Z"
   },
   {
    "duration": 4,
    "start_time": "2022-02-22T12:27:17.490Z"
   },
   {
    "duration": 5,
    "start_time": "2022-02-22T12:27:19.129Z"
   },
   {
    "duration": 9,
    "start_time": "2022-02-22T12:27:22.290Z"
   },
   {
    "duration": 15,
    "start_time": "2022-02-22T12:27:22.906Z"
   },
   {
    "duration": 9,
    "start_time": "2022-02-22T12:27:29.577Z"
   },
   {
    "duration": 14,
    "start_time": "2022-02-22T12:27:32.226Z"
   },
   {
    "duration": 8,
    "start_time": "2022-02-22T12:27:34.090Z"
   },
   {
    "duration": 16,
    "start_time": "2022-02-22T12:27:35.850Z"
   },
   {
    "duration": 8,
    "start_time": "2022-02-22T12:27:38.011Z"
   },
   {
    "duration": 7,
    "start_time": "2022-02-22T12:27:39.587Z"
   },
   {
    "duration": 11,
    "start_time": "2022-02-22T12:27:49.371Z"
   },
   {
    "duration": 15,
    "start_time": "2022-02-22T12:27:52.859Z"
   },
   {
    "duration": 8,
    "start_time": "2022-02-22T12:28:10.779Z"
   },
   {
    "duration": 7,
    "start_time": "2022-02-22T12:28:13.326Z"
   },
   {
    "duration": 16,
    "start_time": "2022-02-22T12:28:16.930Z"
   },
   {
    "duration": 21,
    "start_time": "2022-02-22T12:29:22.708Z"
   },
   {
    "duration": 7,
    "start_time": "2022-02-22T12:29:28.290Z"
   },
   {
    "duration": 301,
    "start_time": "2022-02-22T12:29:31.707Z"
   },
   {
    "duration": 17,
    "start_time": "2022-02-22T12:30:03.491Z"
   },
   {
    "duration": 17,
    "start_time": "2022-02-22T12:30:12.644Z"
   },
   {
    "duration": 19,
    "start_time": "2022-02-22T12:30:28.678Z"
   },
   {
    "duration": 230,
    "start_time": "2022-02-22T12:30:48.779Z"
   },
   {
    "duration": 8,
    "start_time": "2022-02-22T12:30:51.115Z"
   },
   {
    "duration": 8,
    "start_time": "2022-02-22T12:31:08.572Z"
   },
   {
    "duration": 8,
    "start_time": "2022-02-22T12:31:12.747Z"
   },
   {
    "duration": 41,
    "start_time": "2022-02-22T12:31:49.170Z"
   },
   {
    "duration": 9,
    "start_time": "2022-02-22T12:33:56.646Z"
   },
   {
    "duration": 13,
    "start_time": "2022-02-22T12:34:07.307Z"
   },
   {
    "duration": 15,
    "start_time": "2022-02-22T12:34:09.492Z"
   },
   {
    "duration": 9,
    "start_time": "2022-02-22T12:34:15.564Z"
   },
   {
    "duration": 15,
    "start_time": "2022-02-22T12:34:20.828Z"
   },
   {
    "duration": 7,
    "start_time": "2022-02-22T12:34:30.348Z"
   },
   {
    "duration": 20,
    "start_time": "2022-02-22T12:34:35.093Z"
   },
   {
    "duration": 13,
    "start_time": "2022-02-22T12:35:10.197Z"
   },
   {
    "duration": 15,
    "start_time": "2022-02-22T12:35:12.260Z"
   },
   {
    "duration": 97,
    "start_time": "2022-02-22T12:35:18.030Z"
   },
   {
    "duration": 10,
    "start_time": "2022-02-22T12:35:20.796Z"
   },
   {
    "duration": 7,
    "start_time": "2022-02-22T12:35:26.868Z"
   },
   {
    "duration": 12,
    "start_time": "2022-02-22T12:35:33.860Z"
   },
   {
    "duration": 101,
    "start_time": "2022-02-22T12:35:41.348Z"
   },
   {
    "duration": 6,
    "start_time": "2022-02-22T12:36:05.757Z"
   },
   {
    "duration": 102,
    "start_time": "2022-02-22T12:36:32.622Z"
   },
   {
    "duration": 4,
    "start_time": "2022-02-22T12:36:38.468Z"
   },
   {
    "duration": 5,
    "start_time": "2022-02-22T12:36:47.420Z"
   },
   {
    "duration": 4,
    "start_time": "2022-02-22T12:36:55.549Z"
   },
   {
    "duration": 5,
    "start_time": "2022-02-22T12:36:59.373Z"
   },
   {
    "duration": 5,
    "start_time": "2022-02-22T12:37:03.924Z"
   },
   {
    "duration": 21,
    "start_time": "2022-02-22T12:42:35.362Z"
   },
   {
    "duration": 4,
    "start_time": "2022-02-22T13:00:18.043Z"
   },
   {
    "duration": 1038,
    "start_time": "2022-02-22T13:00:18.050Z"
   },
   {
    "duration": 30,
    "start_time": "2022-02-22T13:00:19.091Z"
   },
   {
    "duration": 66,
    "start_time": "2022-02-22T13:00:19.124Z"
   },
   {
    "duration": 85,
    "start_time": "2022-02-22T13:00:20.583Z"
   },
   {
    "duration": 6,
    "start_time": "2022-02-22T13:00:29.598Z"
   },
   {
    "duration": 17,
    "start_time": "2022-02-22T13:00:39.262Z"
   },
   {
    "duration": 47,
    "start_time": "2022-02-22T13:00:44.247Z"
   },
   {
    "duration": 11,
    "start_time": "2022-02-22T13:00:54.958Z"
   },
   {
    "duration": 6,
    "start_time": "2022-02-22T13:00:56.022Z"
   },
   {
    "duration": 138,
    "start_time": "2022-02-22T13:15:38.561Z"
   },
   {
    "duration": 4,
    "start_time": "2022-02-22T13:15:40.711Z"
   },
   {
    "duration": 5,
    "start_time": "2022-02-22T13:16:25.827Z"
   },
   {
    "duration": 4,
    "start_time": "2022-02-22T13:17:58.637Z"
   },
   {
    "duration": 3,
    "start_time": "2022-02-22T13:18:04.220Z"
   },
   {
    "duration": 29,
    "start_time": "2022-02-22T13:18:21.948Z"
   },
   {
    "duration": 388,
    "start_time": "2022-02-22T13:19:04.365Z"
   },
   {
    "duration": 25,
    "start_time": "2022-02-22T13:19:12.557Z"
   },
   {
    "duration": 25,
    "start_time": "2022-02-22T13:19:16.845Z"
   },
   {
    "duration": 540,
    "start_time": "2022-02-22T13:19:33.708Z"
   },
   {
    "duration": 747,
    "start_time": "2022-02-22T13:19:40.388Z"
   },
   {
    "duration": 630,
    "start_time": "2022-02-22T13:19:42.548Z"
   },
   {
    "duration": 361,
    "start_time": "2022-02-22T13:19:48.573Z"
   },
   {
    "duration": 563,
    "start_time": "2022-02-22T13:19:58.132Z"
   },
   {
    "duration": 4,
    "start_time": "2022-02-22T13:20:51.021Z"
   },
   {
    "duration": 7,
    "start_time": "2022-02-22T13:22:09.152Z"
   },
   {
    "duration": 329,
    "start_time": "2022-02-22T13:24:12.126Z"
   },
   {
    "duration": 28,
    "start_time": "2022-02-22T13:24:14.111Z"
   },
   {
    "duration": 7,
    "start_time": "2022-02-22T13:24:14.461Z"
   },
   {
    "duration": 13,
    "start_time": "2022-02-22T13:24:36.185Z"
   },
   {
    "duration": 18,
    "start_time": "2022-02-22T13:28:13.664Z"
   },
   {
    "duration": 19,
    "start_time": "2022-02-22T13:28:26.896Z"
   },
   {
    "duration": 19,
    "start_time": "2022-02-22T13:28:36.967Z"
   },
   {
    "duration": 23,
    "start_time": "2022-02-22T13:29:42.300Z"
   },
   {
    "duration": 5,
    "start_time": "2022-02-22T13:30:00.442Z"
   },
   {
    "duration": 50,
    "start_time": "2022-02-22T13:32:29.642Z"
   },
   {
    "duration": 5,
    "start_time": "2022-02-22T13:32:32.050Z"
   },
   {
    "duration": 5,
    "start_time": "2022-02-22T13:32:37.866Z"
   },
   {
    "duration": 6,
    "start_time": "2022-02-22T13:33:07.617Z"
   },
   {
    "duration": 6,
    "start_time": "2022-02-22T13:33:20.674Z"
   },
   {
    "duration": 5,
    "start_time": "2022-02-22T13:33:33.162Z"
   },
   {
    "duration": 5,
    "start_time": "2022-02-22T13:33:37.217Z"
   },
   {
    "duration": 13,
    "start_time": "2022-02-22T13:33:38.010Z"
   },
   {
    "duration": 34,
    "start_time": "2022-02-22T13:33:38.576Z"
   },
   {
    "duration": 16,
    "start_time": "2022-02-22T13:39:23.044Z"
   },
   {
    "duration": 6,
    "start_time": "2022-02-22T13:39:26.252Z"
   },
   {
    "duration": 4,
    "start_time": "2022-02-22T13:40:34.375Z"
   },
   {
    "duration": 4,
    "start_time": "2022-02-22T13:42:45.396Z"
   },
   {
    "duration": 349,
    "start_time": "2022-02-22T13:44:46.044Z"
   },
   {
    "duration": 6,
    "start_time": "2022-02-22T13:45:01.222Z"
   },
   {
    "duration": 363,
    "start_time": "2022-02-22T13:45:01.727Z"
   },
   {
    "duration": 22,
    "start_time": "2022-02-22T13:45:32.046Z"
   },
   {
    "duration": 18,
    "start_time": "2022-02-22T13:45:36.070Z"
   },
   {
    "duration": 5,
    "start_time": "2022-02-22T13:45:39.169Z"
   },
   {
    "duration": 4,
    "start_time": "2022-02-22T13:47:26.646Z"
   },
   {
    "duration": 5,
    "start_time": "2022-02-22T13:47:54.134Z"
   },
   {
    "duration": 21,
    "start_time": "2022-02-22T13:48:14.134Z"
   },
   {
    "duration": 735,
    "start_time": "2022-02-22T13:48:36.712Z"
   },
   {
    "duration": 18,
    "start_time": "2022-02-22T13:48:45.400Z"
   },
   {
    "duration": 5,
    "start_time": "2022-02-22T13:51:47.785Z"
   },
   {
    "duration": 17,
    "start_time": "2022-02-22T13:51:52.392Z"
   },
   {
    "duration": 16,
    "start_time": "2022-02-22T13:53:32.835Z"
   },
   {
    "duration": 19,
    "start_time": "2022-02-22T13:53:38.352Z"
   },
   {
    "duration": 6,
    "start_time": "2022-02-22T13:54:34.401Z"
   },
   {
    "duration": 437,
    "start_time": "2022-02-22T13:54:36.593Z"
   },
   {
    "duration": 38,
    "start_time": "2022-02-22T13:54:37.033Z"
   },
   {
    "duration": 6,
    "start_time": "2022-02-22T13:54:40.881Z"
   },
   {
    "duration": 455,
    "start_time": "2022-02-22T13:54:41.241Z"
   },
   {
    "duration": 27,
    "start_time": "2022-02-22T13:54:41.698Z"
   },
   {
    "duration": 51,
    "start_time": "2022-02-22T13:54:42.481Z"
   },
   {
    "duration": 66,
    "start_time": "2022-02-22T13:54:43.897Z"
   },
   {
    "duration": 6,
    "start_time": "2022-02-22T13:54:49.028Z"
   },
   {
    "duration": 7,
    "start_time": "2022-02-22T13:54:49.347Z"
   },
   {
    "duration": 14,
    "start_time": "2022-02-22T13:54:49.937Z"
   },
   {
    "duration": 26,
    "start_time": "2022-02-22T13:54:50.674Z"
   },
   {
    "duration": 6,
    "start_time": "2022-02-22T13:54:52.186Z"
   },
   {
    "duration": 78,
    "start_time": "2022-02-22T13:54:52.570Z"
   },
   {
    "duration": 5,
    "start_time": "2022-02-22T13:55:07.881Z"
   },
   {
    "duration": 15,
    "start_time": "2022-02-22T13:55:12.545Z"
   },
   {
    "duration": 15,
    "start_time": "2022-02-22T13:55:17.426Z"
   },
   {
    "duration": 61,
    "start_time": "2022-02-22T13:55:43.594Z"
   },
   {
    "duration": 108,
    "start_time": "2022-02-22T13:55:48.642Z"
   },
   {
    "duration": 37,
    "start_time": "2022-02-22T13:55:52.621Z"
   },
   {
    "duration": 116,
    "start_time": "2022-02-22T13:55:57.038Z"
   },
   {
    "duration": 46,
    "start_time": "2022-02-22T13:55:59.906Z"
   },
   {
    "duration": 106,
    "start_time": "2022-02-22T13:56:02.347Z"
   },
   {
    "duration": 1150,
    "start_time": "2022-02-22T13:56:36.097Z"
   },
   {
    "duration": 424,
    "start_time": "2022-02-22T13:57:19.729Z"
   },
   {
    "duration": 487,
    "start_time": "2022-02-22T13:59:51.564Z"
   },
   {
    "duration": 446,
    "start_time": "2022-02-22T13:59:56.907Z"
   },
   {
    "duration": 3,
    "start_time": "2022-02-22T14:03:20.604Z"
   },
   {
    "duration": 4,
    "start_time": "2022-02-22T14:03:40.742Z"
   },
   {
    "duration": 4,
    "start_time": "2022-02-22T14:04:22.037Z"
   },
   {
    "duration": 5,
    "start_time": "2022-02-22T14:04:45.861Z"
   },
   {
    "duration": 171,
    "start_time": "2022-02-22T14:32:56.468Z"
   },
   {
    "duration": 162,
    "start_time": "2022-02-22T14:34:16.089Z"
   },
   {
    "duration": 257,
    "start_time": "2022-02-22T14:34:36.400Z"
   },
   {
    "duration": 5,
    "start_time": "2022-02-22T14:35:04.250Z"
   },
   {
    "duration": 4,
    "start_time": "2022-02-22T14:35:17.873Z"
   },
   {
    "duration": 195,
    "start_time": "2022-02-22T14:35:48.249Z"
   },
   {
    "duration": 3,
    "start_time": "2022-02-22T14:36:08.522Z"
   },
   {
    "duration": 5,
    "start_time": "2022-02-22T14:36:54.642Z"
   },
   {
    "duration": 5,
    "start_time": "2022-02-22T14:37:28.338Z"
   },
   {
    "duration": 4,
    "start_time": "2022-02-22T14:40:14.331Z"
   },
   {
    "duration": 5,
    "start_time": "2022-02-22T14:40:14.530Z"
   },
   {
    "duration": 5,
    "start_time": "2022-02-22T14:41:25.172Z"
   },
   {
    "duration": 6,
    "start_time": "2022-02-22T14:42:01.620Z"
   },
   {
    "duration": 5,
    "start_time": "2022-02-22T14:42:07.092Z"
   },
   {
    "duration": 4,
    "start_time": "2022-02-22T14:42:10.316Z"
   },
   {
    "duration": 5,
    "start_time": "2022-02-22T14:42:27.804Z"
   },
   {
    "duration": 5,
    "start_time": "2022-02-22T14:42:42.956Z"
   },
   {
    "duration": 6,
    "start_time": "2022-02-22T14:43:06.685Z"
   },
   {
    "duration": 5,
    "start_time": "2022-02-22T14:43:32.900Z"
   },
   {
    "duration": 5,
    "start_time": "2022-02-22T14:43:51.711Z"
   },
   {
    "duration": 5,
    "start_time": "2022-02-22T14:44:11.861Z"
   },
   {
    "duration": 5,
    "start_time": "2022-02-22T14:44:22.837Z"
   },
   {
    "duration": 6,
    "start_time": "2022-02-22T14:47:17.966Z"
   },
   {
    "duration": 38,
    "start_time": "2022-02-22T14:47:22.453Z"
   },
   {
    "duration": 21,
    "start_time": "2022-02-22T14:47:47.474Z"
   },
   {
    "duration": 23,
    "start_time": "2022-02-22T14:47:54.238Z"
   },
   {
    "duration": 20,
    "start_time": "2022-02-22T14:47:59.605Z"
   },
   {
    "duration": 22,
    "start_time": "2022-02-22T14:48:06.326Z"
   },
   {
    "duration": 21,
    "start_time": "2022-02-22T14:48:22.702Z"
   },
   {
    "duration": 297,
    "start_time": "2022-02-22T15:00:06.922Z"
   },
   {
    "duration": 290,
    "start_time": "2022-02-22T15:00:09.571Z"
   },
   {
    "duration": 324,
    "start_time": "2022-02-22T15:00:10.027Z"
   },
   {
    "duration": 299,
    "start_time": "2022-02-22T15:00:16.939Z"
   },
   {
    "duration": 323,
    "start_time": "2022-02-22T15:00:18.888Z"
   },
   {
    "duration": 5,
    "start_time": "2022-02-22T15:00:26.971Z"
   },
   {
    "duration": 5,
    "start_time": "2022-02-22T15:00:53.876Z"
   },
   {
    "duration": 431,
    "start_time": "2022-02-22T15:00:54.795Z"
   },
   {
    "duration": 301,
    "start_time": "2022-02-22T15:00:58.923Z"
   },
   {
    "duration": 339,
    "start_time": "2022-02-22T15:01:23.052Z"
   },
   {
    "duration": 5,
    "start_time": "2022-02-22T15:01:43.332Z"
   },
   {
    "duration": 291,
    "start_time": "2022-02-22T15:01:44.267Z"
   },
   {
    "duration": 5,
    "start_time": "2022-02-22T15:01:45.140Z"
   },
   {
    "duration": 5,
    "start_time": "2022-02-22T15:01:48.934Z"
   },
   {
    "duration": 3,
    "start_time": "2022-02-22T15:01:49.483Z"
   },
   {
    "duration": 6,
    "start_time": "2022-02-22T15:01:49.866Z"
   },
   {
    "duration": 5,
    "start_time": "2022-02-22T15:01:51.097Z"
   },
   {
    "duration": 4,
    "start_time": "2022-02-22T15:01:53.007Z"
   },
   {
    "duration": 7,
    "start_time": "2022-02-22T15:01:53.907Z"
   },
   {
    "duration": 628,
    "start_time": "2022-02-22T15:01:55.867Z"
   },
   {
    "duration": 7,
    "start_time": "2022-02-22T15:02:26.668Z"
   },
   {
    "duration": 411,
    "start_time": "2022-02-22T15:02:27.404Z"
   },
   {
    "duration": 417,
    "start_time": "2022-02-22T15:02:37.432Z"
   },
   {
    "duration": 363,
    "start_time": "2022-02-22T15:02:40.836Z"
   },
   {
    "duration": 6,
    "start_time": "2022-02-22T15:02:52.780Z"
   },
   {
    "duration": 410,
    "start_time": "2022-02-22T15:02:53.363Z"
   },
   {
    "duration": 461,
    "start_time": "2022-02-22T15:02:54.252Z"
   },
   {
    "duration": 322,
    "start_time": "2022-02-22T15:03:10.132Z"
   },
   {
    "duration": 7,
    "start_time": "2022-02-22T15:03:41.868Z"
   },
   {
    "duration": 496,
    "start_time": "2022-02-22T15:03:42.691Z"
   },
   {
    "duration": 331,
    "start_time": "2022-02-22T15:03:49.285Z"
   },
   {
    "duration": 415,
    "start_time": "2022-02-22T15:04:30.396Z"
   },
   {
    "duration": 1126,
    "start_time": "2022-02-22T15:04:32.642Z"
   },
   {
    "duration": 1139,
    "start_time": "2022-02-22T15:04:49.509Z"
   },
   {
    "duration": 993,
    "start_time": "2022-02-22T15:04:52.206Z"
   },
   {
    "duration": 7,
    "start_time": "2022-02-22T15:05:58.173Z"
   },
   {
    "duration": 950,
    "start_time": "2022-02-22T15:06:07.438Z"
   },
   {
    "duration": 8,
    "start_time": "2022-02-22T15:06:39.094Z"
   },
   {
    "duration": 10,
    "start_time": "2022-02-22T15:06:43.974Z"
   },
   {
    "duration": 481,
    "start_time": "2022-02-22T15:06:51.910Z"
   },
   {
    "duration": 1259,
    "start_time": "2022-02-22T15:07:12.302Z"
   },
   {
    "duration": 6,
    "start_time": "2022-02-22T15:08:01.495Z"
   },
   {
    "duration": 358,
    "start_time": "2022-02-22T15:09:09.207Z"
   },
   {
    "duration": 337,
    "start_time": "2022-02-22T15:09:28.095Z"
   },
   {
    "duration": 399,
    "start_time": "2022-02-22T15:09:36.688Z"
   },
   {
    "duration": 120,
    "start_time": "2022-02-22T15:09:40.016Z"
   },
   {
    "duration": 300,
    "start_time": "2022-02-22T15:09:44.751Z"
   },
   {
    "duration": 155,
    "start_time": "2022-02-22T15:10:17.121Z"
   },
   {
    "duration": 95,
    "start_time": "2022-02-22T15:10:20.591Z"
   },
   {
    "duration": 7,
    "start_time": "2022-02-22T15:10:23.527Z"
   },
   {
    "duration": 134,
    "start_time": "2022-02-22T15:10:26.959Z"
   },
   {
    "duration": 115,
    "start_time": "2022-02-22T15:10:31.009Z"
   },
   {
    "duration": 98,
    "start_time": "2022-02-22T15:10:39.168Z"
   },
   {
    "duration": 96,
    "start_time": "2022-02-22T15:10:43.959Z"
   },
   {
    "duration": 6,
    "start_time": "2022-02-22T15:10:46.774Z"
   },
   {
    "duration": 7,
    "start_time": "2022-02-22T15:11:02.304Z"
   },
   {
    "duration": 6,
    "start_time": "2022-02-22T15:11:05.856Z"
   },
   {
    "duration": 8,
    "start_time": "2022-02-22T15:11:14.320Z"
   },
   {
    "duration": 9,
    "start_time": "2022-02-22T15:11:21.008Z"
   },
   {
    "duration": 13,
    "start_time": "2022-02-22T15:11:45.057Z"
   },
   {
    "duration": 16,
    "start_time": "2022-02-22T15:12:00.090Z"
   },
   {
    "duration": 7,
    "start_time": "2022-02-22T15:13:58.761Z"
   },
   {
    "duration": 1233,
    "start_time": "2022-02-22T15:13:59.928Z"
   },
   {
    "duration": 14,
    "start_time": "2022-02-22T15:14:01.163Z"
   },
   {
    "duration": 13,
    "start_time": "2022-02-22T15:14:16.289Z"
   },
   {
    "duration": 16,
    "start_time": "2022-02-22T15:14:24.713Z"
   },
   {
    "duration": 16,
    "start_time": "2022-02-22T15:14:32.362Z"
   },
   {
    "duration": 15,
    "start_time": "2022-02-22T15:14:37.442Z"
   },
   {
    "duration": 15,
    "start_time": "2022-02-22T15:14:58.553Z"
   },
   {
    "duration": 13,
    "start_time": "2022-02-22T15:15:11.666Z"
   },
   {
    "duration": 17,
    "start_time": "2022-02-22T15:15:26.137Z"
   },
   {
    "duration": 18,
    "start_time": "2022-02-22T15:15:44.075Z"
   },
   {
    "duration": 16,
    "start_time": "2022-02-22T15:15:53.882Z"
   },
   {
    "duration": 816,
    "start_time": "2022-02-22T15:23:26.252Z"
   },
   {
    "duration": 6,
    "start_time": "2022-02-22T15:23:28.300Z"
   },
   {
    "duration": 1199,
    "start_time": "2022-02-22T15:23:29.092Z"
   },
   {
    "duration": 284,
    "start_time": "2022-02-22T15:23:47.692Z"
   },
   {
    "duration": 16,
    "start_time": "2022-02-22T15:24:10.948Z"
   },
   {
    "duration": 14,
    "start_time": "2022-02-22T15:24:30.925Z"
   },
   {
    "duration": 16,
    "start_time": "2022-02-22T15:24:36.605Z"
   },
   {
    "duration": 15,
    "start_time": "2022-02-22T15:24:48.717Z"
   },
   {
    "duration": 14,
    "start_time": "2022-02-22T15:25:19.197Z"
   },
   {
    "duration": 14,
    "start_time": "2022-02-22T15:26:04.285Z"
   },
   {
    "duration": 4,
    "start_time": "2022-02-22T15:33:38.620Z"
   },
   {
    "duration": 451,
    "start_time": "2022-02-22T15:33:38.627Z"
   },
   {
    "duration": 25,
    "start_time": "2022-02-22T15:33:39.082Z"
   },
   {
    "duration": 75,
    "start_time": "2022-02-22T15:33:39.110Z"
   },
   {
    "duration": 72,
    "start_time": "2022-02-22T15:33:39.187Z"
   },
   {
    "duration": 4,
    "start_time": "2022-02-22T15:33:39.262Z"
   },
   {
    "duration": 11,
    "start_time": "2022-02-22T15:33:39.270Z"
   },
   {
    "duration": 18,
    "start_time": "2022-02-22T15:33:39.283Z"
   },
   {
    "duration": 57,
    "start_time": "2022-02-22T15:33:39.306Z"
   },
   {
    "duration": 4,
    "start_time": "2022-02-22T15:33:39.366Z"
   },
   {
    "duration": 278,
    "start_time": "2022-02-22T15:33:39.373Z"
   },
   {
    "duration": 109,
    "start_time": "2022-02-22T15:33:39.655Z"
   },
   {
    "duration": 81,
    "start_time": "2022-02-22T15:33:39.768Z"
   },
   {
    "duration": 8,
    "start_time": "2022-02-22T15:33:39.853Z"
   },
   {
    "duration": 8,
    "start_time": "2022-02-22T15:33:39.864Z"
   },
   {
    "duration": 7,
    "start_time": "2022-02-22T15:33:39.875Z"
   },
   {
    "duration": 5,
    "start_time": "2022-02-22T15:33:39.884Z"
   },
   {
    "duration": 9,
    "start_time": "2022-02-22T15:33:39.892Z"
   },
   {
    "duration": 1434,
    "start_time": "2022-02-22T15:33:39.904Z"
   },
   {
    "duration": 20,
    "start_time": "2022-02-22T15:33:41.341Z"
   },
   {
    "duration": 158,
    "start_time": "2022-02-22T18:02:09.314Z"
   },
   {
    "duration": 569,
    "start_time": "2022-02-22T18:07:04.453Z"
   },
   {
    "duration": 464,
    "start_time": "2022-02-22T18:07:18.828Z"
   },
   {
    "duration": 1404,
    "start_time": "2022-02-22T18:07:23.014Z"
   },
   {
    "duration": 4941,
    "start_time": "2022-02-22T18:07:24.421Z"
   },
   {
    "duration": 46,
    "start_time": "2022-02-22T18:07:29.365Z"
   },
   {
    "duration": 54,
    "start_time": "2022-02-22T18:07:29.413Z"
   },
   {
    "duration": 74,
    "start_time": "2022-02-22T18:07:29.469Z"
   },
   {
    "duration": 6,
    "start_time": "2022-02-22T18:07:29.545Z"
   },
   {
    "duration": 7,
    "start_time": "2022-02-22T18:07:29.554Z"
   },
   {
    "duration": 16,
    "start_time": "2022-02-22T18:07:29.567Z"
   },
   {
    "duration": 29,
    "start_time": "2022-02-22T18:07:29.611Z"
   },
   {
    "duration": 4,
    "start_time": "2022-02-22T18:07:29.642Z"
   },
   {
    "duration": 165,
    "start_time": "2022-02-22T18:07:29.648Z"
   },
   {
    "duration": 97,
    "start_time": "2022-02-22T18:07:29.817Z"
   },
   {
    "duration": 94,
    "start_time": "2022-02-22T18:07:29.918Z"
   },
   {
    "duration": 6,
    "start_time": "2022-02-22T18:07:30.015Z"
   },
   {
    "duration": 7,
    "start_time": "2022-02-22T18:07:30.023Z"
   },
   {
    "duration": 9,
    "start_time": "2022-02-22T18:07:30.033Z"
   },
   {
    "duration": 13,
    "start_time": "2022-02-22T18:07:30.044Z"
   },
   {
    "duration": 35,
    "start_time": "2022-02-22T18:07:30.079Z"
   },
   {
    "duration": 11,
    "start_time": "2022-02-22T18:07:30.117Z"
   },
   {
    "duration": 461,
    "start_time": "2022-02-22T18:07:33.562Z"
   },
   {
    "duration": 5,
    "start_time": "2022-02-22T18:07:36.406Z"
   },
   {
    "duration": 8,
    "start_time": "2022-02-22T18:07:44.380Z"
   },
   {
    "duration": 6,
    "start_time": "2022-02-22T18:07:47.864Z"
   },
   {
    "duration": 7,
    "start_time": "2022-02-22T18:07:50.317Z"
   },
   {
    "duration": 27,
    "start_time": "2022-02-22T18:07:58.354Z"
   },
   {
    "duration": 16,
    "start_time": "2022-02-22T18:08:08.865Z"
   },
   {
    "duration": 30,
    "start_time": "2022-02-22T18:08:13.767Z"
   },
   {
    "duration": 4,
    "start_time": "2022-02-22T18:09:11.992Z"
   },
   {
    "duration": 4,
    "start_time": "2022-02-22T18:09:20.508Z"
   },
   {
    "duration": 5,
    "start_time": "2022-02-22T18:09:24.044Z"
   },
   {
    "duration": 3,
    "start_time": "2022-02-22T18:09:36.527Z"
   },
   {
    "duration": 4,
    "start_time": "2022-02-22T18:09:37.266Z"
   },
   {
    "duration": 10,
    "start_time": "2022-02-22T18:09:37.683Z"
   },
   {
    "duration": 15,
    "start_time": "2022-02-22T18:09:44.770Z"
   },
   {
    "duration": 18,
    "start_time": "2022-02-22T18:09:45.702Z"
   },
   {
    "duration": 491,
    "start_time": "2022-02-22T18:09:54.097Z"
   },
   {
    "duration": 60,
    "start_time": "2022-02-22T18:09:54.531Z"
   },
   {
    "duration": 15,
    "start_time": "2022-02-22T18:09:58.173Z"
   },
   {
    "duration": 19,
    "start_time": "2022-02-22T18:09:58.808Z"
   },
   {
    "duration": 6,
    "start_time": "2022-02-22T18:10:11.511Z"
   },
   {
    "duration": 11,
    "start_time": "2022-02-22T18:10:12.132Z"
   },
   {
    "duration": 13,
    "start_time": "2022-02-22T18:12:22.070Z"
   },
   {
    "duration": 13,
    "start_time": "2022-02-22T18:12:28.022Z"
   },
   {
    "duration": 5,
    "start_time": "2022-02-22T18:14:03.097Z"
   },
   {
    "duration": 120,
    "start_time": "2022-02-22T18:14:04.749Z"
   },
   {
    "duration": 7,
    "start_time": "2022-02-22T18:14:14.405Z"
   },
   {
    "duration": 352,
    "start_time": "2022-02-22T18:14:21.770Z"
   },
   {
    "duration": 825,
    "start_time": "2022-02-22T18:14:51.443Z"
   },
   {
    "duration": 7,
    "start_time": "2022-02-22T18:15:19.708Z"
   },
   {
    "duration": 2863,
    "start_time": "2022-02-22T18:15:21.055Z"
   },
   {
    "duration": 5,
    "start_time": "2022-02-22T18:15:52.885Z"
   },
   {
    "duration": 20,
    "start_time": "2022-02-22T18:15:55.850Z"
   },
   {
    "duration": 15,
    "start_time": "2022-02-22T18:16:10.240Z"
   },
   {
    "duration": 354,
    "start_time": "2022-02-22T18:16:19.935Z"
   },
   {
    "duration": 16,
    "start_time": "2022-02-22T18:16:24.772Z"
   },
   {
    "duration": 12,
    "start_time": "2022-02-22T18:16:27.526Z"
   },
   {
    "duration": 13,
    "start_time": "2022-02-22T18:16:31.712Z"
   },
   {
    "duration": 4,
    "start_time": "2022-02-22T18:17:14.864Z"
   },
   {
    "duration": 6,
    "start_time": "2022-02-22T18:17:16.506Z"
   },
   {
    "duration": 6,
    "start_time": "2022-02-22T18:17:19.730Z"
   },
   {
    "duration": 1451,
    "start_time": "2022-02-22T18:17:24.280Z"
   },
   {
    "duration": 4,
    "start_time": "2022-02-22T18:17:38.399Z"
   },
   {
    "duration": 7,
    "start_time": "2022-02-22T18:17:39.371Z"
   },
   {
    "duration": 4366,
    "start_time": "2022-02-22T18:17:40.394Z"
   },
   {
    "duration": 13,
    "start_time": "2022-02-22T18:17:49.495Z"
   },
   {
    "duration": 346,
    "start_time": "2022-02-22T18:18:28.437Z"
   },
   {
    "duration": 10,
    "start_time": "2022-02-22T18:18:38.524Z"
   },
   {
    "duration": 7,
    "start_time": "2022-02-22T18:18:45.494Z"
   },
   {
    "duration": 8,
    "start_time": "2022-02-22T18:18:53.111Z"
   },
   {
    "duration": 10,
    "start_time": "2022-02-22T18:19:16.937Z"
   },
   {
    "duration": 2191,
    "start_time": "2022-02-22T18:20:06.365Z"
   },
   {
    "duration": 6,
    "start_time": "2022-02-22T18:20:20.482Z"
   },
   {
    "duration": 2018,
    "start_time": "2022-02-22T18:20:23.261Z"
   },
   {
    "duration": 6,
    "start_time": "2022-02-22T18:20:38.895Z"
   },
   {
    "duration": 4002,
    "start_time": "2022-02-22T18:20:40.658Z"
   },
   {
    "duration": 14,
    "start_time": "2022-02-22T18:20:47.192Z"
   },
   {
    "duration": 15,
    "start_time": "2022-02-22T18:21:06.771Z"
   }
  ],
  "kernelspec": {
   "display_name": "Python 3 (ipykernel)",
   "language": "python",
   "name": "python3"
  },
  "language_info": {
   "codemirror_mode": {
    "name": "ipython",
    "version": 3
   },
   "file_extension": ".py",
   "mimetype": "text/x-python",
   "name": "python",
   "nbconvert_exporter": "python",
   "pygments_lexer": "ipython3",
   "version": "3.10.4"
  },
  "toc": {
   "base_numbering": 1,
   "nav_menu": {},
   "number_sections": true,
   "sideBar": true,
   "skip_h1_title": true,
   "title_cell": "Содержание",
   "title_sidebar": "Contents",
   "toc_cell": true,
   "toc_position": {
    "height": "calc(100% - 180px)",
    "left": "10px",
    "top": "150px",
    "width": "366.391px"
   },
   "toc_section_display": true,
   "toc_window_display": false
  }
 },
 "nbformat": 4,
 "nbformat_minor": 4
}