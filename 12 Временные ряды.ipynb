{
 "cells": [
  {
   "cell_type": "markdown",
   "metadata": {},
   "source": [
    "#  Прогнозирование заказов такси"
   ]
  },
  {
   "cell_type": "markdown",
   "metadata": {},
   "source": [
    "Компания «Чётенькое такси» собрала исторические данные о заказах такси в аэропортах. Чтобы привлекать больше водителей в период пиковой нагрузки, нужно спрогнозировать количество заказов такси на следующий час. Построим модель для такого предсказания.\n",
    "\n",
    "Требование заказчика - значение метрики *RMSE* на тестовой выборке должно быть не больше 48.\n",
    "\n",
    "Работу будем проводить следующим образом:\n",
    "\n",
    "1. Загрузим данные и выполним их ресемплирование по одному часу.\n",
    "2. Проанализируем данные.\n",
    "3. Обучим разные модели с различными гиперпараметрами. Сделаем тестовую выборку размером 10% от исходных данных.\n",
    "4. Проверим данные на тестовой выборке и сделать выводы.\n",
    "\n",
    "\n",
    "Данные лежат в файле `taxi.csv`. Количество заказов находится в столбце `num_orders` (от англ. *number of orders*, «число заказов»)."
   ]
  },
  {
   "cell_type": "markdown",
   "metadata": {
    "toc": true
   },
   "source": [
    "<h1>Содержание<span class=\"tocSkip\"></span></h1>\n",
    "<div class=\"toc\"><ul class=\"toc-item\"><li><span><a href=\"#Подготовка\" data-toc-modified-id=\"Подготовка-1\"><span class=\"toc-item-num\">1&nbsp;&nbsp;</span>Подготовка</a></span></li><li><span><a href=\"#Анализ\" data-toc-modified-id=\"Анализ-2\"><span class=\"toc-item-num\">2&nbsp;&nbsp;</span>Анализ</a></span><ul class=\"toc-item\"><li><span><a href=\"#Зависимость-от-месяца\" data-toc-modified-id=\"Зависимость-от-месяца-2.1\"><span class=\"toc-item-num\">2.1&nbsp;&nbsp;</span>Зависимость от месяца</a></span></li><li><span><a href=\"#Зависимость-от-дня-недели\" data-toc-modified-id=\"Зависимость-от-дня-недели-2.2\"><span class=\"toc-item-num\">2.2&nbsp;&nbsp;</span>Зависимость от дня недели</a></span></li><li><span><a href=\"#Зависимость-от-часа\" data-toc-modified-id=\"Зависимость-от-часа-2.3\"><span class=\"toc-item-num\">2.3&nbsp;&nbsp;</span>Зависимость от часа</a></span></li></ul></li><li><span><a href=\"#Обучение\" data-toc-modified-id=\"Обучение-3\"><span class=\"toc-item-num\">3&nbsp;&nbsp;</span>Обучение</a></span><ul class=\"toc-item\"><li><span><a href=\"#Модель--календарных-признаков\" data-toc-modified-id=\"Модель--календарных-признаков-3.1\"><span class=\"toc-item-num\">3.1&nbsp;&nbsp;</span>Модель  календарных признаков</a></span></li><li><span><a href=\"#Модель-отстающих-значений\" data-toc-modified-id=\"Модель-отстающих-значений-3.2\"><span class=\"toc-item-num\">3.2&nbsp;&nbsp;</span>Модель отстающих значений</a></span></li></ul></li><li><span><a href=\"#Тестирование\" data-toc-modified-id=\"Тестирование-4\"><span class=\"toc-item-num\">4&nbsp;&nbsp;</span>Тестирование</a></span><ul class=\"toc-item\"><li><span><a href=\"#Модель-календарных-признаков\" data-toc-modified-id=\"Модель-календарных-признаков-4.1\"><span class=\"toc-item-num\">4.1&nbsp;&nbsp;</span>Модель календарных признаков</a></span></li><li><span><a href=\"#Модель-отстающих-значений\" data-toc-modified-id=\"Модель-отстающих-значений-4.2\"><span class=\"toc-item-num\">4.2&nbsp;&nbsp;</span>Модель отстающих значений</a></span></li></ul></li><li><span><a href=\"#Построение-объединенной-модели\" data-toc-modified-id=\"Построение-объединенной-модели-5\"><span class=\"toc-item-num\">5&nbsp;&nbsp;</span>Построение объединенной модели</a></span></li><li><span><a href=\"#Общий-вывод\" data-toc-modified-id=\"Общий-вывод-6\"><span class=\"toc-item-num\">6&nbsp;&nbsp;</span>Общий вывод</a></span></li></ul></div>"
   ]
  },
  {
   "cell_type": "markdown",
   "metadata": {},
   "source": [
    "## Подготовка"
   ]
  },
  {
   "cell_type": "markdown",
   "metadata": {},
   "source": [
    "Загрузим необходимые библиотеки."
   ]
  },
  {
   "cell_type": "code",
   "execution_count": 1,
   "metadata": {},
   "outputs": [],
   "source": [
    "import pandas as pd\n",
    "\n",
    "from sklearn.model_selection import train_test_split\n",
    "from sklearn.linear_model import LinearRegression\n",
    "from sklearn.metrics import mean_squared_error"
   ]
  },
  {
   "cell_type": "markdown",
   "metadata": {},
   "source": [
    "Загрузим датасет, сконвертируем дату в формат `datetime`, сделаем его индексом и посмотрим на первые 5 строк."
   ]
  },
  {
   "cell_type": "code",
   "execution_count": 2,
   "metadata": {},
   "outputs": [
    {
     "data": {
      "text/html": [
       "<div>\n",
       "<style scoped>\n",
       "    .dataframe tbody tr th:only-of-type {\n",
       "        vertical-align: middle;\n",
       "    }\n",
       "\n",
       "    .dataframe tbody tr th {\n",
       "        vertical-align: top;\n",
       "    }\n",
       "\n",
       "    .dataframe thead th {\n",
       "        text-align: right;\n",
       "    }\n",
       "</style>\n",
       "<table border=\"1\" class=\"dataframe\">\n",
       "  <thead>\n",
       "    <tr style=\"text-align: right;\">\n",
       "      <th></th>\n",
       "      <th>num_orders</th>\n",
       "    </tr>\n",
       "    <tr>\n",
       "      <th>datetime</th>\n",
       "      <th></th>\n",
       "    </tr>\n",
       "  </thead>\n",
       "  <tbody>\n",
       "    <tr>\n",
       "      <th>2018-03-01 00:00:00</th>\n",
       "      <td>9</td>\n",
       "    </tr>\n",
       "    <tr>\n",
       "      <th>2018-03-01 00:10:00</th>\n",
       "      <td>14</td>\n",
       "    </tr>\n",
       "    <tr>\n",
       "      <th>2018-03-01 00:20:00</th>\n",
       "      <td>28</td>\n",
       "    </tr>\n",
       "    <tr>\n",
       "      <th>2018-03-01 00:30:00</th>\n",
       "      <td>20</td>\n",
       "    </tr>\n",
       "    <tr>\n",
       "      <th>2018-03-01 00:40:00</th>\n",
       "      <td>32</td>\n",
       "    </tr>\n",
       "  </tbody>\n",
       "</table>\n",
       "</div>"
      ],
      "text/plain": [
       "                     num_orders\n",
       "datetime                       \n",
       "2018-03-01 00:00:00           9\n",
       "2018-03-01 00:10:00          14\n",
       "2018-03-01 00:20:00          28\n",
       "2018-03-01 00:30:00          20\n",
       "2018-03-01 00:40:00          32"
      ]
     },
     "execution_count": 2,
     "metadata": {},
     "output_type": "execute_result"
    }
   ],
   "source": [
    "data = pd.read_csv('/datasets/taxi.csv', parse_dates=['datetime'], index_col='datetime')\n",
    "data.head()"
   ]
  },
  {
   "cell_type": "markdown",
   "metadata": {},
   "source": [
    "Видно, что в качестве индексов в данных используется дата и время. \n",
    "\n",
    "В колонке `num_orders` находится количество заказов.\n",
    "\n",
    "Посмотрим информацию и датасете."
   ]
  },
  {
   "cell_type": "code",
   "execution_count": 3,
   "metadata": {},
   "outputs": [
    {
     "name": "stdout",
     "output_type": "stream",
     "text": [
      "<class 'pandas.core.frame.DataFrame'>\n",
      "DatetimeIndex: 26496 entries, 2018-03-01 00:00:00 to 2018-08-31 23:50:00\n",
      "Data columns (total 1 columns):\n",
      " #   Column      Non-Null Count  Dtype\n",
      "---  ------      --------------  -----\n",
      " 0   num_orders  26496 non-null  int64\n",
      "dtypes: int64(1)\n",
      "memory usage: 414.0 KB\n"
     ]
    }
   ],
   "source": [
    "data.info()"
   ]
  },
  {
   "cell_type": "markdown",
   "metadata": {},
   "source": [
    "В датасете представлены данные с марта 2018 по август 2018.\n",
    "\n",
    "Проведем ресемплирование данных по 1 часу, суммируя количество заказов. Посмотрим на первые 5 строк."
   ]
  },
  {
   "cell_type": "code",
   "execution_count": 4,
   "metadata": {},
   "outputs": [
    {
     "data": {
      "text/html": [
       "<div>\n",
       "<style scoped>\n",
       "    .dataframe tbody tr th:only-of-type {\n",
       "        vertical-align: middle;\n",
       "    }\n",
       "\n",
       "    .dataframe tbody tr th {\n",
       "        vertical-align: top;\n",
       "    }\n",
       "\n",
       "    .dataframe thead th {\n",
       "        text-align: right;\n",
       "    }\n",
       "</style>\n",
       "<table border=\"1\" class=\"dataframe\">\n",
       "  <thead>\n",
       "    <tr style=\"text-align: right;\">\n",
       "      <th></th>\n",
       "      <th>num_orders</th>\n",
       "    </tr>\n",
       "    <tr>\n",
       "      <th>datetime</th>\n",
       "      <th></th>\n",
       "    </tr>\n",
       "  </thead>\n",
       "  <tbody>\n",
       "    <tr>\n",
       "      <th>2018-03-01 00:00:00</th>\n",
       "      <td>124</td>\n",
       "    </tr>\n",
       "    <tr>\n",
       "      <th>2018-03-01 01:00:00</th>\n",
       "      <td>85</td>\n",
       "    </tr>\n",
       "    <tr>\n",
       "      <th>2018-03-01 02:00:00</th>\n",
       "      <td>71</td>\n",
       "    </tr>\n",
       "    <tr>\n",
       "      <th>2018-03-01 03:00:00</th>\n",
       "      <td>66</td>\n",
       "    </tr>\n",
       "    <tr>\n",
       "      <th>2018-03-01 04:00:00</th>\n",
       "      <td>43</td>\n",
       "    </tr>\n",
       "  </tbody>\n",
       "</table>\n",
       "</div>"
      ],
      "text/plain": [
       "                     num_orders\n",
       "datetime                       \n",
       "2018-03-01 00:00:00         124\n",
       "2018-03-01 01:00:00          85\n",
       "2018-03-01 02:00:00          71\n",
       "2018-03-01 03:00:00          66\n",
       "2018-03-01 04:00:00          43"
      ]
     },
     "execution_count": 4,
     "metadata": {},
     "output_type": "execute_result"
    }
   ],
   "source": [
    "data_1h = data.resample('H').sum()\n",
    "data_1h.head()"
   ]
  },
  {
   "cell_type": "markdown",
   "metadata": {},
   "source": [
    "**Вывод:**\n",
    "\n",
    "На данном этапе:\n",
    "- Было проведено ознакомление с данными.\n",
    "- Определено, что в датасете представлены данные с марта 2018 по август 2018.\n",
    "- Было проведено ресемплирование данных по 1 часу."
   ]
  },
  {
   "cell_type": "markdown",
   "metadata": {},
   "source": [
    "## Анализ"
   ]
  },
  {
   "cell_type": "markdown",
   "metadata": {},
   "source": [
    "Проанализируем, как меняется спрос в зависимости от различных параметров."
   ]
  },
  {
   "cell_type": "markdown",
   "metadata": {},
   "source": [
    "### Зависимость от месяца"
   ]
  },
  {
   "cell_type": "markdown",
   "metadata": {},
   "source": [
    "Посмотрим средний спрос на такси в зависимости от месяца."
   ]
  },
  {
   "cell_type": "code",
   "execution_count": 5,
   "metadata": {},
   "outputs": [
    {
     "data": {
      "text/plain": [
       "<AxesSubplot:xlabel='datetime'>"
      ]
     },
     "execution_count": 5,
     "metadata": {},
     "output_type": "execute_result"
    },
    {
     "data": {
      "image/png": "[encoded data removed]",
      "text/plain": [
       "<Figure size 432x288 with 1 Axes>"
      ]
     },
     "metadata": {
      "needs_background": "light"
     },
     "output_type": "display_data"
    }
   ],
   "source": [
    "temp_data = data_1h.copy()\n",
    "temp_data.resample('M').mean().plot(y='num_orders')"
   ]
  },
  {
   "cell_type": "markdown",
   "metadata": {},
   "source": [
    "Видно, что спрос на такси с марта по август только растет."
   ]
  },
  {
   "cell_type": "markdown",
   "metadata": {},
   "source": [
    "### Зависимость от дня недели"
   ]
  },
  {
   "cell_type": "markdown",
   "metadata": {},
   "source": [
    "Теперь посмотрим на спрос в зависимости от дня недели. Для этого создадим новый столбец и сгруппируем данные по нему."
   ]
  },
  {
   "cell_type": "code",
   "execution_count": 6,
   "metadata": {},
   "outputs": [
    {
     "data": {
      "text/plain": [
       "<AxesSubplot:xlabel='day_of_week'>"
      ]
     },
     "execution_count": 6,
     "metadata": {},
     "output_type": "execute_result"
    },
    {
     "data": {
      "image/png": "[encoded data removed]",
      "text/plain": [
       "<Figure size 432x288 with 1 Axes>"
      ]
     },
     "metadata": {
      "needs_background": "light"
     },
     "output_type": "display_data"
    }
   ],
   "source": [
    "temp_data['day_of_week'] = data_1h.index.dayofweek\n",
    "temp_data.groupby('day_of_week').mean().plot(y='num_orders')"
   ]
  },
  {
   "cell_type": "markdown",
   "metadata": {},
   "source": [
    "Тренд выглядит следующим образом: в понедельник спрос на такси большой, но он падает ко вторнику. Со вторника до пятницы спрос растет и после достижения пика в пятницу начинает падать в выходные."
   ]
  },
  {
   "cell_type": "markdown",
   "metadata": {},
   "source": [
    "### Зависимость от часа"
   ]
  },
  {
   "cell_type": "markdown",
   "metadata": {},
   "source": [
    "Теперь построим зависимость от времени дня."
   ]
  },
  {
   "cell_type": "code",
   "execution_count": 7,
   "metadata": {},
   "outputs": [
    {
     "data": {
      "text/plain": [
       "<AxesSubplot:xlabel='H'>"
      ]
     },
     "execution_count": 7,
     "metadata": {},
     "output_type": "execute_result"
    },
    {
     "data": {
      "image/png": "[encoded data removed]",
      "text/plain": [
       "<Figure size 432x288 with 1 Axes>"
      ]
     },
     "metadata": {
      "needs_background": "light"
     },
     "output_type": "display_data"
    }
   ],
   "source": [
    "temp_data['H'] = data_1h.index.hour\n",
    "temp_data.groupby('H').mean().plot(y='num_orders')"
   ]
  },
  {
   "cell_type": "markdown",
   "metadata": {},
   "source": [
    "Видно, что наибольший спрос на такси наблюдается в 12 часов ночи. Затем спрос падает до 6 утра. Ближе к началу рабочегоя дня, около 9-10 утра, спрос опять растет. После этого он начинает падать и растет опять к 16 часам (что странно, куда люди едут до конца рабочего дня). После окончания рабочего дня (около 19 часов) спрос опять наичнает расти."
   ]
  },
  {
   "cell_type": "markdown",
   "metadata": {},
   "source": [
    "**Вывод:**\n",
    "\n",
    "На данном этапе был проведен анализ полученных данных о количестве заказов такси. Было показано:\n",
    "- Спрос с марта по август растет.\n",
    "- В зависимости от дня недели наблюдается различный спрос на такси.\n",
    "- В течение дня спрос на такси так же меняется."
   ]
  },
  {
   "cell_type": "markdown",
   "metadata": {},
   "source": [
    "## Обучение"
   ]
  },
  {
   "cell_type": "markdown",
   "metadata": {},
   "source": [
    "Обучим несколько моделей."
   ]
  },
  {
   "cell_type": "markdown",
   "metadata": {},
   "source": [
    "### Модель  календарных признаков"
   ]
  },
  {
   "cell_type": "markdown",
   "metadata": {},
   "source": [
    "Первая модель будет предсказывать количество заказов по календарным признакам. Добавим соответствующие столбцы в датасет и посмотрим на первые 5 строк."
   ]
  },
  {
   "cell_type": "code",
   "execution_count": 8,
   "metadata": {},
   "outputs": [
    {
     "data": {
      "text/html": [
       "<div>\n",
       "<style scoped>\n",
       "    .dataframe tbody tr th:only-of-type {\n",
       "        vertical-align: middle;\n",
       "    }\n",
       "\n",
       "    .dataframe tbody tr th {\n",
       "        vertical-align: top;\n",
       "    }\n",
       "\n",
       "    .dataframe thead th {\n",
       "        text-align: right;\n",
       "    }\n",
       "</style>\n",
       "<table border=\"1\" class=\"dataframe\">\n",
       "  <thead>\n",
       "    <tr style=\"text-align: right;\">\n",
       "      <th></th>\n",
       "      <th>num_orders</th>\n",
       "      <th>dayofweek</th>\n",
       "      <th>hour</th>\n",
       "    </tr>\n",
       "    <tr>\n",
       "      <th>datetime</th>\n",
       "      <th></th>\n",
       "      <th></th>\n",
       "      <th></th>\n",
       "    </tr>\n",
       "  </thead>\n",
       "  <tbody>\n",
       "    <tr>\n",
       "      <th>2018-03-01 00:00:00</th>\n",
       "      <td>124</td>\n",
       "      <td>3</td>\n",
       "      <td>0</td>\n",
       "    </tr>\n",
       "    <tr>\n",
       "      <th>2018-03-01 01:00:00</th>\n",
       "      <td>85</td>\n",
       "      <td>3</td>\n",
       "      <td>1</td>\n",
       "    </tr>\n",
       "    <tr>\n",
       "      <th>2018-03-01 02:00:00</th>\n",
       "      <td>71</td>\n",
       "      <td>3</td>\n",
       "      <td>2</td>\n",
       "    </tr>\n",
       "    <tr>\n",
       "      <th>2018-03-01 03:00:00</th>\n",
       "      <td>66</td>\n",
       "      <td>3</td>\n",
       "      <td>3</td>\n",
       "    </tr>\n",
       "    <tr>\n",
       "      <th>2018-03-01 04:00:00</th>\n",
       "      <td>43</td>\n",
       "      <td>3</td>\n",
       "      <td>4</td>\n",
       "    </tr>\n",
       "  </tbody>\n",
       "</table>\n",
       "</div>"
      ],
      "text/plain": [
       "                     num_orders  dayofweek  hour\n",
       "datetime                                        \n",
       "2018-03-01 00:00:00         124          3     0\n",
       "2018-03-01 01:00:00          85          3     1\n",
       "2018-03-01 02:00:00          71          3     2\n",
       "2018-03-01 03:00:00          66          3     3\n",
       "2018-03-01 04:00:00          43          3     4"
      ]
     },
     "execution_count": 8,
     "metadata": {},
     "output_type": "execute_result"
    }
   ],
   "source": [
    "data_cal = data_1h.copy()\n",
    "\n",
    "data_cal['dayofweek'] = data_1h.index.dayofweek\n",
    "data_cal['hour'] = data_1h.index.hour\n",
    "\n",
    "data_cal.head()"
   ]
  },
  {
   "cell_type": "markdown",
   "metadata": {},
   "source": [
    "Теперь разобьем наш датасет на признаки и целевую переменную."
   ]
  },
  {
   "cell_type": "code",
   "execution_count": 9,
   "metadata": {},
   "outputs": [],
   "source": [
    "X_cal = data_cal.drop(columns='num_orders')\n",
    "y_cal = data_cal['num_orders']"
   ]
  },
  {
   "cell_type": "markdown",
   "metadata": {},
   "source": [
    "Теперь разобьем данные на тренировочную и тестовую выборки в соотношении 90/10."
   ]
  },
  {
   "cell_type": "code",
   "execution_count": 10,
   "metadata": {},
   "outputs": [],
   "source": [
    "X_cal_train, X_cal_test, y_cal_train, y_cal_test = train_test_split(X_cal, y_cal, \n",
    "                                                                    shuffle=False, \n",
    "                                                                    test_size=0.1)"
   ]
  },
  {
   "cell_type": "markdown",
   "metadata": {},
   "source": [
    "Обучим модель линейной регрессии и посчитаем RMSE. Напишем соответствующую функцию."
   ]
  },
  {
   "cell_type": "code",
   "execution_count": 11,
   "metadata": {},
   "outputs": [],
   "source": [
    "def fit_time_series(X, y):\n",
    "    lr = LinearRegression()\n",
    "    lr.fit(X, y)\n",
    "\n",
    "    pred = lr.predict(X)\n",
    "\n",
    "    rmse = mean_squared_error(y, pred) ** 0.5\n",
    "    return rmse, lr"
   ]
  },
  {
   "cell_type": "markdown",
   "metadata": {},
   "source": [
    "Применим функцию для первой модели."
   ]
  },
  {
   "cell_type": "code",
   "execution_count": 12,
   "metadata": {},
   "outputs": [
    {
     "name": "stdout",
     "output_type": "stream",
     "text": [
      "RMSE модели на тренировочной выборке составило 38.66\n"
     ]
    }
   ],
   "source": [
    "rmse_cal, lr_cal = fit_time_series(X_cal_train, y_cal_train)\n",
    "print(f'RMSE модели на тренировочной выборке составило {rmse_cal:.2f}')"
   ]
  },
  {
   "cell_type": "markdown",
   "metadata": {},
   "source": [
    "### Модель отстающих значений"
   ]
  },
  {
   "cell_type": "markdown",
   "metadata": {},
   "source": [
    "Теперь построим датасет по остающим значениям. Создадим 10 отстающих значений и посмотрим на первые 10 строк."
   ]
  },
  {
   "cell_type": "code",
   "execution_count": 13,
   "metadata": {},
   "outputs": [
    {
     "data": {
      "text/html": [
       "<div>\n",
       "<style scoped>\n",
       "    .dataframe tbody tr th:only-of-type {\n",
       "        vertical-align: middle;\n",
       "    }\n",
       "\n",
       "    .dataframe tbody tr th {\n",
       "        vertical-align: top;\n",
       "    }\n",
       "\n",
       "    .dataframe thead th {\n",
       "        text-align: right;\n",
       "    }\n",
       "</style>\n",
       "<table border=\"1\" class=\"dataframe\">\n",
       "  <thead>\n",
       "    <tr style=\"text-align: right;\">\n",
       "      <th></th>\n",
       "      <th>num_orders</th>\n",
       "      <th>lag_1</th>\n",
       "      <th>lag_2</th>\n",
       "      <th>lag_3</th>\n",
       "      <th>lag_4</th>\n",
       "      <th>lag_5</th>\n",
       "      <th>lag_6</th>\n",
       "      <th>lag_7</th>\n",
       "      <th>lag_8</th>\n",
       "      <th>lag_9</th>\n",
       "      <th>lag_10</th>\n",
       "    </tr>\n",
       "    <tr>\n",
       "      <th>datetime</th>\n",
       "      <th></th>\n",
       "      <th></th>\n",
       "      <th></th>\n",
       "      <th></th>\n",
       "      <th></th>\n",
       "      <th></th>\n",
       "      <th></th>\n",
       "      <th></th>\n",
       "      <th></th>\n",
       "      <th></th>\n",
       "      <th></th>\n",
       "    </tr>\n",
       "  </thead>\n",
       "  <tbody>\n",
       "    <tr>\n",
       "      <th>2018-03-01 00:00:00</th>\n",
       "      <td>124</td>\n",
       "      <td>NaN</td>\n",
       "      <td>NaN</td>\n",
       "      <td>NaN</td>\n",
       "      <td>NaN</td>\n",
       "      <td>NaN</td>\n",
       "      <td>NaN</td>\n",
       "      <td>NaN</td>\n",
       "      <td>NaN</td>\n",
       "      <td>NaN</td>\n",
       "      <td>NaN</td>\n",
       "    </tr>\n",
       "    <tr>\n",
       "      <th>2018-03-01 01:00:00</th>\n",
       "      <td>85</td>\n",
       "      <td>124.0</td>\n",
       "      <td>NaN</td>\n",
       "      <td>NaN</td>\n",
       "      <td>NaN</td>\n",
       "      <td>NaN</td>\n",
       "      <td>NaN</td>\n",
       "      <td>NaN</td>\n",
       "      <td>NaN</td>\n",
       "      <td>NaN</td>\n",
       "      <td>NaN</td>\n",
       "    </tr>\n",
       "    <tr>\n",
       "      <th>2018-03-01 02:00:00</th>\n",
       "      <td>71</td>\n",
       "      <td>85.0</td>\n",
       "      <td>124.0</td>\n",
       "      <td>NaN</td>\n",
       "      <td>NaN</td>\n",
       "      <td>NaN</td>\n",
       "      <td>NaN</td>\n",
       "      <td>NaN</td>\n",
       "      <td>NaN</td>\n",
       "      <td>NaN</td>\n",
       "      <td>NaN</td>\n",
       "    </tr>\n",
       "    <tr>\n",
       "      <th>2018-03-01 03:00:00</th>\n",
       "      <td>66</td>\n",
       "      <td>71.0</td>\n",
       "      <td>85.0</td>\n",
       "      <td>124.0</td>\n",
       "      <td>NaN</td>\n",
       "      <td>NaN</td>\n",
       "      <td>NaN</td>\n",
       "      <td>NaN</td>\n",
       "      <td>NaN</td>\n",
       "      <td>NaN</td>\n",
       "      <td>NaN</td>\n",
       "    </tr>\n",
       "    <tr>\n",
       "      <th>2018-03-01 04:00:00</th>\n",
       "      <td>43</td>\n",
       "      <td>66.0</td>\n",
       "      <td>71.0</td>\n",
       "      <td>85.0</td>\n",
       "      <td>124.0</td>\n",
       "      <td>NaN</td>\n",
       "      <td>NaN</td>\n",
       "      <td>NaN</td>\n",
       "      <td>NaN</td>\n",
       "      <td>NaN</td>\n",
       "      <td>NaN</td>\n",
       "    </tr>\n",
       "    <tr>\n",
       "      <th>2018-03-01 05:00:00</th>\n",
       "      <td>6</td>\n",
       "      <td>43.0</td>\n",
       "      <td>66.0</td>\n",
       "      <td>71.0</td>\n",
       "      <td>85.0</td>\n",
       "      <td>124.0</td>\n",
       "      <td>NaN</td>\n",
       "      <td>NaN</td>\n",
       "      <td>NaN</td>\n",
       "      <td>NaN</td>\n",
       "      <td>NaN</td>\n",
       "    </tr>\n",
       "    <tr>\n",
       "      <th>2018-03-01 06:00:00</th>\n",
       "      <td>12</td>\n",
       "      <td>6.0</td>\n",
       "      <td>43.0</td>\n",
       "      <td>66.0</td>\n",
       "      <td>71.0</td>\n",
       "      <td>85.0</td>\n",
       "      <td>124.0</td>\n",
       "      <td>NaN</td>\n",
       "      <td>NaN</td>\n",
       "      <td>NaN</td>\n",
       "      <td>NaN</td>\n",
       "    </tr>\n",
       "    <tr>\n",
       "      <th>2018-03-01 07:00:00</th>\n",
       "      <td>15</td>\n",
       "      <td>12.0</td>\n",
       "      <td>6.0</td>\n",
       "      <td>43.0</td>\n",
       "      <td>66.0</td>\n",
       "      <td>71.0</td>\n",
       "      <td>85.0</td>\n",
       "      <td>124.0</td>\n",
       "      <td>NaN</td>\n",
       "      <td>NaN</td>\n",
       "      <td>NaN</td>\n",
       "    </tr>\n",
       "    <tr>\n",
       "      <th>2018-03-01 08:00:00</th>\n",
       "      <td>34</td>\n",
       "      <td>15.0</td>\n",
       "      <td>12.0</td>\n",
       "      <td>6.0</td>\n",
       "      <td>43.0</td>\n",
       "      <td>66.0</td>\n",
       "      <td>71.0</td>\n",
       "      <td>85.0</td>\n",
       "      <td>124.0</td>\n",
       "      <td>NaN</td>\n",
       "      <td>NaN</td>\n",
       "    </tr>\n",
       "    <tr>\n",
       "      <th>2018-03-01 09:00:00</th>\n",
       "      <td>69</td>\n",
       "      <td>34.0</td>\n",
       "      <td>15.0</td>\n",
       "      <td>12.0</td>\n",
       "      <td>6.0</td>\n",
       "      <td>43.0</td>\n",
       "      <td>66.0</td>\n",
       "      <td>71.0</td>\n",
       "      <td>85.0</td>\n",
       "      <td>124.0</td>\n",
       "      <td>NaN</td>\n",
       "    </tr>\n",
       "  </tbody>\n",
       "</table>\n",
       "</div>"
      ],
      "text/plain": [
       "                     num_orders  lag_1  lag_2  lag_3  lag_4  lag_5  lag_6  \\\n",
       "datetime                                                                    \n",
       "2018-03-01 00:00:00         124    NaN    NaN    NaN    NaN    NaN    NaN   \n",
       "2018-03-01 01:00:00          85  124.0    NaN    NaN    NaN    NaN    NaN   \n",
       "2018-03-01 02:00:00          71   85.0  124.0    NaN    NaN    NaN    NaN   \n",
       "2018-03-01 03:00:00          66   71.0   85.0  124.0    NaN    NaN    NaN   \n",
       "2018-03-01 04:00:00          43   66.0   71.0   85.0  124.0    NaN    NaN   \n",
       "2018-03-01 05:00:00           6   43.0   66.0   71.0   85.0  124.0    NaN   \n",
       "2018-03-01 06:00:00          12    6.0   43.0   66.0   71.0   85.0  124.0   \n",
       "2018-03-01 07:00:00          15   12.0    6.0   43.0   66.0   71.0   85.0   \n",
       "2018-03-01 08:00:00          34   15.0   12.0    6.0   43.0   66.0   71.0   \n",
       "2018-03-01 09:00:00          69   34.0   15.0   12.0    6.0   43.0   66.0   \n",
       "\n",
       "                     lag_7  lag_8  lag_9  lag_10  \n",
       "datetime                                          \n",
       "2018-03-01 00:00:00    NaN    NaN    NaN     NaN  \n",
       "2018-03-01 01:00:00    NaN    NaN    NaN     NaN  \n",
       "2018-03-01 02:00:00    NaN    NaN    NaN     NaN  \n",
       "2018-03-01 03:00:00    NaN    NaN    NaN     NaN  \n",
       "2018-03-01 04:00:00    NaN    NaN    NaN     NaN  \n",
       "2018-03-01 05:00:00    NaN    NaN    NaN     NaN  \n",
       "2018-03-01 06:00:00    NaN    NaN    NaN     NaN  \n",
       "2018-03-01 07:00:00  124.0    NaN    NaN     NaN  \n",
       "2018-03-01 08:00:00   85.0  124.0    NaN     NaN  \n",
       "2018-03-01 09:00:00   71.0   85.0  124.0     NaN  "
      ]
     },
     "execution_count": 13,
     "metadata": {},
     "output_type": "execute_result"
    }
   ],
   "source": [
    "data_lag = data_1h.copy()\n",
    "\n",
    "max_lag = 10\n",
    "\n",
    "for lag in range(1, max_lag + 1):\n",
    "    data_lag[f'lag_{lag}'] = data_lag['num_orders'].shift(lag)\n",
    "\n",
    "data_lag.head(10)    "
   ]
  },
  {
   "cell_type": "markdown",
   "metadata": {},
   "source": [
    "Теперь разобьем наш датасет на признаки и целевую переменную."
   ]
  },
  {
   "cell_type": "code",
   "execution_count": 14,
   "metadata": {},
   "outputs": [],
   "source": [
    "X_lag = data_lag.dropna().drop(columns='num_orders').dropna()\n",
    "y_lag = data_lag.dropna()['num_orders']"
   ]
  },
  {
   "cell_type": "markdown",
   "metadata": {},
   "source": [
    "Теперь разобьем данные на тренировочную и тестовую выборки в соотношении 90/10."
   ]
  },
  {
   "cell_type": "code",
   "execution_count": 15,
   "metadata": {},
   "outputs": [],
   "source": [
    "X_lag_train, X_lag_test, y_lag_train, y_lag_test = train_test_split(X_lag, y_lag, \n",
    "                                                                    shuffle=False, \n",
    "                                                                    test_size=0.1)"
   ]
  },
  {
   "cell_type": "markdown",
   "metadata": {},
   "source": [
    "Обучим модель линейной регрессии и посчитаем RMSE."
   ]
  },
  {
   "cell_type": "code",
   "execution_count": 16,
   "metadata": {},
   "outputs": [
    {
     "name": "stdout",
     "output_type": "stream",
     "text": [
      "RMSE модели на тренировочной выборке составило 31.27\n"
     ]
    }
   ],
   "source": [
    "rmse_lag, lr_lag = fit_time_series(X_lag_train, y_lag_train)\n",
    "print(f'RMSE модели на тренировочной выборке составило {rmse_lag:.2f}')"
   ]
  },
  {
   "cell_type": "markdown",
   "metadata": {},
   "source": [
    "**Вывод:**\n",
    "\n",
    "На данном этапе было построено две модели:\n",
    "- Первая предсказывает значение по календарным характеристикам. Значение метрики RMSE данной модели на тренировочной выборке составило 38.66.\n",
    "- Вторая модель использует отстающие значения для предсказаний. Значение метрики RMSE составило 30.62."
   ]
  },
  {
   "cell_type": "markdown",
   "metadata": {},
   "source": [
    "## Тестирование"
   ]
  },
  {
   "cell_type": "markdown",
   "metadata": {},
   "source": [
    "Теперь проверим метрики для обоих моделей на тестовых данных."
   ]
  },
  {
   "cell_type": "markdown",
   "metadata": {},
   "source": [
    "### Модель календарных признаков"
   ]
  },
  {
   "cell_type": "code",
   "execution_count": 17,
   "metadata": {},
   "outputs": [
    {
     "name": "stdout",
     "output_type": "stream",
     "text": [
      "RMSE модели на тестовой выборке составило 84.76\n"
     ]
    }
   ],
   "source": [
    "print(f'RMSE модели на тестовой выборке составило \\\n",
    "{mean_squared_error(y_cal_test, lr_cal.predict(X_cal_test)) ** 0.5:.2f}')"
   ]
  },
  {
   "cell_type": "markdown",
   "metadata": {},
   "source": [
    "Значение RMSE у нас не попадает в требования заказчика. Сделаем визуализацию, которая покажет, насколько сходятся наши данные. Напишем соответствующую функцию."
   ]
  },
  {
   "cell_type": "code",
   "execution_count": 18,
   "metadata": {},
   "outputs": [],
   "source": [
    "def plot_timeseries_score(model, X, y, days):\n",
    "    predictions = model.predict(X)\n",
    "    temp_df = pd.DataFrame({'true':y, 'predictions':predictions}).set_index(y.index)\n",
    "    temp_df[:temp_df.index[0] + pd.DateOffset(days=days)].plot()"
   ]
  },
  {
   "cell_type": "markdown",
   "metadata": {},
   "source": [
    "Посмотрим на предсказания и реальные значения для тестовой выборки у модели."
   ]
  },
  {
   "cell_type": "code",
   "execution_count": 19,
   "metadata": {},
   "outputs": [
    {
     "data": {
      "image/png": "[encoded data removed]",
      "text/plain": [
       "<Figure size 432x288 with 1 Axes>"
      ]
     },
     "metadata": {
      "needs_background": "light"
     },
     "output_type": "display_data"
    }
   ],
   "source": [
    "plot_timeseries_score(lr_cal, X_cal_test, y_cal_test, 2)"
   ]
  },
  {
   "cell_type": "markdown",
   "metadata": {},
   "source": [
    "Видно, что модель просто провела линию между реальными значениями. Такая модель точно не подходит для предсказаний."
   ]
  },
  {
   "cell_type": "markdown",
   "metadata": {},
   "source": [
    "### Модель отстающих значений"
   ]
  },
  {
   "cell_type": "code",
   "execution_count": 20,
   "metadata": {},
   "outputs": [
    {
     "name": "stdout",
     "output_type": "stream",
     "text": [
      "RMSE модели на тестовой выборке составило 54.66\n"
     ]
    }
   ],
   "source": [
    "print(f'RMSE модели на тестовой выборке составило \\\n",
    "{mean_squared_error(y_lag_test, lr_lag.predict(X_lag_test)) ** 0.5:.2f}')"
   ]
  },
  {
   "cell_type": "markdown",
   "metadata": {},
   "source": [
    "Построим график и для этой модели."
   ]
  },
  {
   "cell_type": "code",
   "execution_count": 21,
   "metadata": {},
   "outputs": [
    {
     "data": {
      "image/png": "[encoded data removed]",
      "text/plain": [
       "<Figure size 432x288 with 1 Axes>"
      ]
     },
     "metadata": {
      "needs_background": "light"
     },
     "output_type": "display_data"
    }
   ],
   "source": [
    "plot_timeseries_score(lr_lag, X_lag_test, y_lag_test, 2)"
   ]
  },
  {
   "cell_type": "markdown",
   "metadata": {},
   "source": [
    "Видно, что в данном случае модель предсказывает значения уже лучше, чем модель с календарными признаками. Однако, RMSE все же не лежит в нужных нам пределах."
   ]
  },
  {
   "cell_type": "markdown",
   "metadata": {},
   "source": [
    "**Вывод:**\n",
    "\n",
    "Обе модели показали недопустимые значения RMSE: 84.76 и 54.66, соответственно.\n",
    "\n",
    "На следующем этапе построим объединенную модель, которая содержит в себе различные признаки."
   ]
  },
  {
   "cell_type": "markdown",
   "metadata": {},
   "source": [
    "## Построение объединенной модели"
   ]
  },
  {
   "cell_type": "markdown",
   "metadata": {},
   "source": [
    "Построим модель, которая содержит как календарные признаки, так и отстающие значения, так и скользящие средние."
   ]
  },
  {
   "cell_type": "code",
   "execution_count": 235,
   "metadata": {},
   "outputs": [
    {
     "data": {
      "text/html": [
       "<div>\n",
       "<style scoped>\n",
       "    .dataframe tbody tr th:only-of-type {\n",
       "        vertical-align: middle;\n",
       "    }\n",
       "\n",
       "    .dataframe tbody tr th {\n",
       "        vertical-align: top;\n",
       "    }\n",
       "\n",
       "    .dataframe thead th {\n",
       "        text-align: right;\n",
       "    }\n",
       "</style>\n",
       "<table border=\"1\" class=\"dataframe\">\n",
       "  <thead>\n",
       "    <tr style=\"text-align: right;\">\n",
       "      <th></th>\n",
       "      <th>num_orders</th>\n",
       "      <th>dayofweek</th>\n",
       "      <th>hour</th>\n",
       "      <th>lag_1</th>\n",
       "      <th>lag_2</th>\n",
       "      <th>lag_3</th>\n",
       "      <th>lag_4</th>\n",
       "      <th>lag_5</th>\n",
       "      <th>lag_6</th>\n",
       "      <th>lag_7</th>\n",
       "      <th>...</th>\n",
       "      <th>lag_16</th>\n",
       "      <th>lag_17</th>\n",
       "      <th>lag_18</th>\n",
       "      <th>lag_19</th>\n",
       "      <th>lag_20</th>\n",
       "      <th>lag_21</th>\n",
       "      <th>lag_22</th>\n",
       "      <th>lag_23</th>\n",
       "      <th>lag_24</th>\n",
       "      <th>rolling_mean</th>\n",
       "    </tr>\n",
       "    <tr>\n",
       "      <th>datetime</th>\n",
       "      <th></th>\n",
       "      <th></th>\n",
       "      <th></th>\n",
       "      <th></th>\n",
       "      <th></th>\n",
       "      <th></th>\n",
       "      <th></th>\n",
       "      <th></th>\n",
       "      <th></th>\n",
       "      <th></th>\n",
       "      <th></th>\n",
       "      <th></th>\n",
       "      <th></th>\n",
       "      <th></th>\n",
       "      <th></th>\n",
       "      <th></th>\n",
       "      <th></th>\n",
       "      <th></th>\n",
       "      <th></th>\n",
       "      <th></th>\n",
       "      <th></th>\n",
       "    </tr>\n",
       "  </thead>\n",
       "  <tbody>\n",
       "    <tr>\n",
       "      <th>2018-03-01 00:00:00</th>\n",
       "      <td>124</td>\n",
       "      <td>3</td>\n",
       "      <td>0</td>\n",
       "      <td>NaN</td>\n",
       "      <td>NaN</td>\n",
       "      <td>NaN</td>\n",
       "      <td>NaN</td>\n",
       "      <td>NaN</td>\n",
       "      <td>NaN</td>\n",
       "      <td>NaN</td>\n",
       "      <td>...</td>\n",
       "      <td>NaN</td>\n",
       "      <td>NaN</td>\n",
       "      <td>NaN</td>\n",
       "      <td>NaN</td>\n",
       "      <td>NaN</td>\n",
       "      <td>NaN</td>\n",
       "      <td>NaN</td>\n",
       "      <td>NaN</td>\n",
       "      <td>NaN</td>\n",
       "      <td>NaN</td>\n",
       "    </tr>\n",
       "    <tr>\n",
       "      <th>2018-03-01 01:00:00</th>\n",
       "      <td>85</td>\n",
       "      <td>3</td>\n",
       "      <td>1</td>\n",
       "      <td>124.0</td>\n",
       "      <td>NaN</td>\n",
       "      <td>NaN</td>\n",
       "      <td>NaN</td>\n",
       "      <td>NaN</td>\n",
       "      <td>NaN</td>\n",
       "      <td>NaN</td>\n",
       "      <td>...</td>\n",
       "      <td>NaN</td>\n",
       "      <td>NaN</td>\n",
       "      <td>NaN</td>\n",
       "      <td>NaN</td>\n",
       "      <td>NaN</td>\n",
       "      <td>NaN</td>\n",
       "      <td>NaN</td>\n",
       "      <td>NaN</td>\n",
       "      <td>NaN</td>\n",
       "      <td>NaN</td>\n",
       "    </tr>\n",
       "    <tr>\n",
       "      <th>2018-03-01 02:00:00</th>\n",
       "      <td>71</td>\n",
       "      <td>3</td>\n",
       "      <td>2</td>\n",
       "      <td>85.0</td>\n",
       "      <td>124.0</td>\n",
       "      <td>NaN</td>\n",
       "      <td>NaN</td>\n",
       "      <td>NaN</td>\n",
       "      <td>NaN</td>\n",
       "      <td>NaN</td>\n",
       "      <td>...</td>\n",
       "      <td>NaN</td>\n",
       "      <td>NaN</td>\n",
       "      <td>NaN</td>\n",
       "      <td>NaN</td>\n",
       "      <td>NaN</td>\n",
       "      <td>NaN</td>\n",
       "      <td>NaN</td>\n",
       "      <td>NaN</td>\n",
       "      <td>NaN</td>\n",
       "      <td>NaN</td>\n",
       "    </tr>\n",
       "    <tr>\n",
       "      <th>2018-03-01 03:00:00</th>\n",
       "      <td>66</td>\n",
       "      <td>3</td>\n",
       "      <td>3</td>\n",
       "      <td>71.0</td>\n",
       "      <td>85.0</td>\n",
       "      <td>124.0</td>\n",
       "      <td>NaN</td>\n",
       "      <td>NaN</td>\n",
       "      <td>NaN</td>\n",
       "      <td>NaN</td>\n",
       "      <td>...</td>\n",
       "      <td>NaN</td>\n",
       "      <td>NaN</td>\n",
       "      <td>NaN</td>\n",
       "      <td>NaN</td>\n",
       "      <td>NaN</td>\n",
       "      <td>NaN</td>\n",
       "      <td>NaN</td>\n",
       "      <td>NaN</td>\n",
       "      <td>NaN</td>\n",
       "      <td>NaN</td>\n",
       "    </tr>\n",
       "    <tr>\n",
       "      <th>2018-03-01 04:00:00</th>\n",
       "      <td>43</td>\n",
       "      <td>3</td>\n",
       "      <td>4</td>\n",
       "      <td>66.0</td>\n",
       "      <td>71.0</td>\n",
       "      <td>85.0</td>\n",
       "      <td>124.0</td>\n",
       "      <td>NaN</td>\n",
       "      <td>NaN</td>\n",
       "      <td>NaN</td>\n",
       "      <td>...</td>\n",
       "      <td>NaN</td>\n",
       "      <td>NaN</td>\n",
       "      <td>NaN</td>\n",
       "      <td>NaN</td>\n",
       "      <td>NaN</td>\n",
       "      <td>NaN</td>\n",
       "      <td>NaN</td>\n",
       "      <td>NaN</td>\n",
       "      <td>NaN</td>\n",
       "      <td>NaN</td>\n",
       "    </tr>\n",
       "    <tr>\n",
       "      <th>2018-03-01 05:00:00</th>\n",
       "      <td>6</td>\n",
       "      <td>3</td>\n",
       "      <td>5</td>\n",
       "      <td>43.0</td>\n",
       "      <td>66.0</td>\n",
       "      <td>71.0</td>\n",
       "      <td>85.0</td>\n",
       "      <td>124.0</td>\n",
       "      <td>NaN</td>\n",
       "      <td>NaN</td>\n",
       "      <td>...</td>\n",
       "      <td>NaN</td>\n",
       "      <td>NaN</td>\n",
       "      <td>NaN</td>\n",
       "      <td>NaN</td>\n",
       "      <td>NaN</td>\n",
       "      <td>NaN</td>\n",
       "      <td>NaN</td>\n",
       "      <td>NaN</td>\n",
       "      <td>NaN</td>\n",
       "      <td>NaN</td>\n",
       "    </tr>\n",
       "    <tr>\n",
       "      <th>2018-03-01 06:00:00</th>\n",
       "      <td>12</td>\n",
       "      <td>3</td>\n",
       "      <td>6</td>\n",
       "      <td>6.0</td>\n",
       "      <td>43.0</td>\n",
       "      <td>66.0</td>\n",
       "      <td>71.0</td>\n",
       "      <td>85.0</td>\n",
       "      <td>124.0</td>\n",
       "      <td>NaN</td>\n",
       "      <td>...</td>\n",
       "      <td>NaN</td>\n",
       "      <td>NaN</td>\n",
       "      <td>NaN</td>\n",
       "      <td>NaN</td>\n",
       "      <td>NaN</td>\n",
       "      <td>NaN</td>\n",
       "      <td>NaN</td>\n",
       "      <td>NaN</td>\n",
       "      <td>NaN</td>\n",
       "      <td>NaN</td>\n",
       "    </tr>\n",
       "    <tr>\n",
       "      <th>2018-03-01 07:00:00</th>\n",
       "      <td>15</td>\n",
       "      <td>3</td>\n",
       "      <td>7</td>\n",
       "      <td>12.0</td>\n",
       "      <td>6.0</td>\n",
       "      <td>43.0</td>\n",
       "      <td>66.0</td>\n",
       "      <td>71.0</td>\n",
       "      <td>85.0</td>\n",
       "      <td>124.0</td>\n",
       "      <td>...</td>\n",
       "      <td>NaN</td>\n",
       "      <td>NaN</td>\n",
       "      <td>NaN</td>\n",
       "      <td>NaN</td>\n",
       "      <td>NaN</td>\n",
       "      <td>NaN</td>\n",
       "      <td>NaN</td>\n",
       "      <td>NaN</td>\n",
       "      <td>NaN</td>\n",
       "      <td>NaN</td>\n",
       "    </tr>\n",
       "    <tr>\n",
       "      <th>2018-03-01 08:00:00</th>\n",
       "      <td>34</td>\n",
       "      <td>3</td>\n",
       "      <td>8</td>\n",
       "      <td>15.0</td>\n",
       "      <td>12.0</td>\n",
       "      <td>6.0</td>\n",
       "      <td>43.0</td>\n",
       "      <td>66.0</td>\n",
       "      <td>71.0</td>\n",
       "      <td>85.0</td>\n",
       "      <td>...</td>\n",
       "      <td>NaN</td>\n",
       "      <td>NaN</td>\n",
       "      <td>NaN</td>\n",
       "      <td>NaN</td>\n",
       "      <td>NaN</td>\n",
       "      <td>NaN</td>\n",
       "      <td>NaN</td>\n",
       "      <td>NaN</td>\n",
       "      <td>NaN</td>\n",
       "      <td>NaN</td>\n",
       "    </tr>\n",
       "    <tr>\n",
       "      <th>2018-03-01 09:00:00</th>\n",
       "      <td>69</td>\n",
       "      <td>3</td>\n",
       "      <td>9</td>\n",
       "      <td>34.0</td>\n",
       "      <td>15.0</td>\n",
       "      <td>12.0</td>\n",
       "      <td>6.0</td>\n",
       "      <td>43.0</td>\n",
       "      <td>66.0</td>\n",
       "      <td>71.0</td>\n",
       "      <td>...</td>\n",
       "      <td>NaN</td>\n",
       "      <td>NaN</td>\n",
       "      <td>NaN</td>\n",
       "      <td>NaN</td>\n",
       "      <td>NaN</td>\n",
       "      <td>NaN</td>\n",
       "      <td>NaN</td>\n",
       "      <td>NaN</td>\n",
       "      <td>NaN</td>\n",
       "      <td>NaN</td>\n",
       "    </tr>\n",
       "  </tbody>\n",
       "</table>\n",
       "<p>10 rows × 28 columns</p>\n",
       "</div>"
      ],
      "text/plain": [
       "                     num_orders  dayofweek  hour  lag_1  lag_2  lag_3  lag_4  \\\n",
       "datetime                                                                       \n",
       "2018-03-01 00:00:00         124          3     0    NaN    NaN    NaN    NaN   \n",
       "2018-03-01 01:00:00          85          3     1  124.0    NaN    NaN    NaN   \n",
       "2018-03-01 02:00:00          71          3     2   85.0  124.0    NaN    NaN   \n",
       "2018-03-01 03:00:00          66          3     3   71.0   85.0  124.0    NaN   \n",
       "2018-03-01 04:00:00          43          3     4   66.0   71.0   85.0  124.0   \n",
       "2018-03-01 05:00:00           6          3     5   43.0   66.0   71.0   85.0   \n",
       "2018-03-01 06:00:00          12          3     6    6.0   43.0   66.0   71.0   \n",
       "2018-03-01 07:00:00          15          3     7   12.0    6.0   43.0   66.0   \n",
       "2018-03-01 08:00:00          34          3     8   15.0   12.0    6.0   43.0   \n",
       "2018-03-01 09:00:00          69          3     9   34.0   15.0   12.0    6.0   \n",
       "\n",
       "                     lag_5  lag_6  lag_7  ...  lag_16  lag_17  lag_18  lag_19  \\\n",
       "datetime                                  ...                                   \n",
       "2018-03-01 00:00:00    NaN    NaN    NaN  ...     NaN     NaN     NaN     NaN   \n",
       "2018-03-01 01:00:00    NaN    NaN    NaN  ...     NaN     NaN     NaN     NaN   \n",
       "2018-03-01 02:00:00    NaN    NaN    NaN  ...     NaN     NaN     NaN     NaN   \n",
       "2018-03-01 03:00:00    NaN    NaN    NaN  ...     NaN     NaN     NaN     NaN   \n",
       "2018-03-01 04:00:00    NaN    NaN    NaN  ...     NaN     NaN     NaN     NaN   \n",
       "2018-03-01 05:00:00  124.0    NaN    NaN  ...     NaN     NaN     NaN     NaN   \n",
       "2018-03-01 06:00:00   85.0  124.0    NaN  ...     NaN     NaN     NaN     NaN   \n",
       "2018-03-01 07:00:00   71.0   85.0  124.0  ...     NaN     NaN     NaN     NaN   \n",
       "2018-03-01 08:00:00   66.0   71.0   85.0  ...     NaN     NaN     NaN     NaN   \n",
       "2018-03-01 09:00:00   43.0   66.0   71.0  ...     NaN     NaN     NaN     NaN   \n",
       "\n",
       "                     lag_20  lag_21  lag_22  lag_23  lag_24  rolling_mean  \n",
       "datetime                                                                   \n",
       "2018-03-01 00:00:00     NaN     NaN     NaN     NaN     NaN           NaN  \n",
       "2018-03-01 01:00:00     NaN     NaN     NaN     NaN     NaN           NaN  \n",
       "2018-03-01 02:00:00     NaN     NaN     NaN     NaN     NaN           NaN  \n",
       "2018-03-01 03:00:00     NaN     NaN     NaN     NaN     NaN           NaN  \n",
       "2018-03-01 04:00:00     NaN     NaN     NaN     NaN     NaN           NaN  \n",
       "2018-03-01 05:00:00     NaN     NaN     NaN     NaN     NaN           NaN  \n",
       "2018-03-01 06:00:00     NaN     NaN     NaN     NaN     NaN           NaN  \n",
       "2018-03-01 07:00:00     NaN     NaN     NaN     NaN     NaN           NaN  \n",
       "2018-03-01 08:00:00     NaN     NaN     NaN     NaN     NaN           NaN  \n",
       "2018-03-01 09:00:00     NaN     NaN     NaN     NaN     NaN           NaN  \n",
       "\n",
       "[10 rows x 28 columns]"
      ]
     },
     "execution_count": 235,
     "metadata": {},
     "output_type": "execute_result"
    }
   ],
   "source": [
    "data_cl = data_1h.copy()\n",
    "\n",
    "data_cl['dayofweek'] = data_1h.index.dayofweek\n",
    "data_cl['hour'] = data_1h.index.hour\n",
    "\n",
    "max_lag = 24\n",
    "\n",
    "for lag in range(1, max_lag + 1):\n",
    "    data_cl[f'lag_{lag}'] = data_cl['num_orders'].shift(lag)\n",
    "\n",
    "data_cl['rolling_mean'] = data_cl['num_orders'].shift().rolling(24).mean()\n",
    "    \n",
    "data_cl.head(10)"
   ]
  },
  {
   "cell_type": "markdown",
   "metadata": {},
   "source": [
    "Видно, что признаки мы создали. Перейдем к обучению. Создадим соответствующие датасеты."
   ]
  },
  {
   "cell_type": "code",
   "execution_count": 236,
   "metadata": {},
   "outputs": [],
   "source": [
    "X_cl = data_cl.dropna().drop(columns='num_orders').dropna()\n",
    "y_cl = data_cl.dropna()['num_orders']"
   ]
  },
  {
   "cell_type": "markdown",
   "metadata": {},
   "source": [
    "Теперь разобьем данные на тренировочную и тестовую выборки в соотношении 90/10."
   ]
  },
  {
   "cell_type": "code",
   "execution_count": 237,
   "metadata": {},
   "outputs": [],
   "source": [
    "X_cl_train, X_cl_test, y_cl_train, y_cl_test = train_test_split(X_cl, y_cl, \n",
    "                                                                    shuffle=False, \n",
    "                                                                    test_size=0.1)"
   ]
  },
  {
   "cell_type": "markdown",
   "metadata": {},
   "source": [
    "Обучим модель линейной регрессии и посчитаем RMSE."
   ]
  },
  {
   "cell_type": "code",
   "execution_count": 238,
   "metadata": {},
   "outputs": [
    {
     "name": "stdout",
     "output_type": "stream",
     "text": [
      "RMSE модели на тренировочной выборке составило 25.84\n"
     ]
    }
   ],
   "source": [
    "rmse_cl, lr_cl = fit_time_series(X_cl_train, y_cl_train)\n",
    "print(f'RMSE модели на тренировочной выборке составило {rmse_cl:.2f}')"
   ]
  },
  {
   "cell_type": "markdown",
   "metadata": {},
   "source": [
    "Проверим тестовую выборку."
   ]
  },
  {
   "cell_type": "code",
   "execution_count": 239,
   "metadata": {},
   "outputs": [
    {
     "name": "stdout",
     "output_type": "stream",
     "text": [
      "RMSE модели на тестовой выборке составило 45.22\n"
     ]
    }
   ],
   "source": [
    "print(f'RMSE модели на тестовой выборке составило \\\n",
    "{mean_squared_error(y_cl_test, lr_cl.predict(X_cl_test)) ** 0.5:.2f}')"
   ]
  },
  {
   "cell_type": "markdown",
   "metadata": {},
   "source": [
    "Видно, что с точки зрения RMSE, данная модель предсказывает значения лучше, чем модель с только календарными признаками и только отстающая.\n",
    "\n",
    "Построим график и для этой модели."
   ]
  },
  {
   "cell_type": "code",
   "execution_count": 240,
   "metadata": {},
   "outputs": [
    {
     "data": {
      "image/png": "[encoded data removed]",
      "text/plain": [
       "<Figure size 432x288 with 1 Axes>"
      ]
     },
     "metadata": {
      "needs_background": "light"
     },
     "output_type": "display_data"
    }
   ],
   "source": [
    "plot_timeseries_score(lr_cl, X_cl_test, y_cl_test, 7)"
   ]
  },
  {
   "cell_type": "markdown",
   "metadata": {},
   "source": [
    "Видно, что в целом модель может предсказывать значения достаточно близко к реальным. RMSE модели составило 45.22, что ниже необходимых 48."
   ]
  },
  {
   "cell_type": "markdown",
   "metadata": {},
   "source": [
    "## Общий вывод"
   ]
  },
  {
   "cell_type": "markdown",
   "metadata": {},
   "source": [
    "В данном проекте были построены модели, предсказывающие спрос на такси:\n",
    "- Данные были загружены и проанализированы.\n",
    "- Построена модель, предсказывающая спрос по календарным признакам. RMSE данной модели на тестовой выборке составило 84.76.\n",
    "- Построена модель, предсказывающая спрос по отстающим значениям. RMSE данной модели на тестовой выборке составило 54.66.\n",
    "- Модель, которая бы объединяла в себе все признаки: как календарные, так и отстающие, так и скользящие средниее, показала лучший результат с точки зрения RMSE - 45.22."
   ]
  }
 ],
 "metadata": {
  "ExecuteTimeLog": [
   {
    "duration": 391,
    "start_time": "2022-04-10T07:34:22.159Z"
   },
   {
    "duration": 31,
    "start_time": "2022-04-10T07:34:51.656Z"
   },
   {
    "duration": 16,
    "start_time": "2022-04-10T07:34:55.964Z"
   },
   {
    "duration": 29,
    "start_time": "2022-04-10T07:35:14.066Z"
   },
   {
    "duration": 10,
    "start_time": "2022-04-10T07:35:14.242Z"
   },
   {
    "duration": 1012,
    "start_time": "2022-04-10T07:35:34.870Z"
   },
   {
    "duration": 0,
    "start_time": "2022-04-10T07:36:06.517Z"
   },
   {
    "duration": 0,
    "start_time": "2022-04-10T07:36:06.518Z"
   },
   {
    "duration": 2,
    "start_time": "2022-04-10T07:36:11.434Z"
   },
   {
    "duration": 33,
    "start_time": "2022-04-10T07:36:11.959Z"
   },
   {
    "duration": 11,
    "start_time": "2022-04-10T07:36:25.537Z"
   },
   {
    "duration": 28,
    "start_time": "2022-04-10T07:36:50.633Z"
   },
   {
    "duration": 9,
    "start_time": "2022-04-10T07:36:52.168Z"
   },
   {
    "duration": 29,
    "start_time": "2022-04-10T07:37:02.773Z"
   },
   {
    "duration": 10,
    "start_time": "2022-04-10T07:37:03.401Z"
   },
   {
    "duration": 29,
    "start_time": "2022-04-10T07:37:10.872Z"
   },
   {
    "duration": 32,
    "start_time": "2022-04-10T07:37:27.373Z"
   },
   {
    "duration": 11,
    "start_time": "2022-04-10T07:40:21.081Z"
   },
   {
    "duration": 765,
    "start_time": "2022-04-10T07:40:55.595Z"
   },
   {
    "duration": 23,
    "start_time": "2022-04-10T07:41:01.616Z"
   },
   {
    "duration": 4,
    "start_time": "2022-04-10T07:42:14.873Z"
   },
   {
    "duration": 5,
    "start_time": "2022-04-10T07:42:18.386Z"
   },
   {
    "duration": 13,
    "start_time": "2022-04-10T07:42:43.232Z"
   },
   {
    "duration": 11,
    "start_time": "2022-04-10T07:42:52.064Z"
   },
   {
    "duration": 12,
    "start_time": "2022-04-10T07:43:37.143Z"
   },
   {
    "duration": 209,
    "start_time": "2022-04-10T07:43:48.138Z"
   },
   {
    "duration": 192,
    "start_time": "2022-04-10T07:43:50.610Z"
   },
   {
    "duration": 2,
    "start_time": "2022-04-10T11:23:42.527Z"
   },
   {
    "duration": 32,
    "start_time": "2022-04-10T11:23:43.796Z"
   },
   {
    "duration": 10,
    "start_time": "2022-04-10T11:23:47.742Z"
   },
   {
    "duration": 13,
    "start_time": "2022-04-10T11:23:53.909Z"
   },
   {
    "duration": 10,
    "start_time": "2022-04-10T11:23:58.085Z"
   },
   {
    "duration": 53,
    "start_time": "2022-04-10T11:55:50.183Z"
   },
   {
    "duration": 40,
    "start_time": "2022-04-10T11:55:52.374Z"
   },
   {
    "duration": 9,
    "start_time": "2022-04-10T11:55:53.006Z"
   },
   {
    "duration": 11,
    "start_time": "2022-04-10T11:55:53.534Z"
   },
   {
    "duration": 1266,
    "start_time": "2022-04-10T11:56:38.046Z"
   },
   {
    "duration": 1164,
    "start_time": "2022-04-10T11:56:52.818Z"
   },
   {
    "duration": 125,
    "start_time": "2022-04-10T11:57:03.307Z"
   },
   {
    "duration": 127,
    "start_time": "2022-04-10T11:57:06.858Z"
   },
   {
    "duration": 118,
    "start_time": "2022-04-10T11:57:11.633Z"
   },
   {
    "duration": 118,
    "start_time": "2022-04-10T11:57:17.291Z"
   },
   {
    "duration": 234,
    "start_time": "2022-04-10T11:57:20.691Z"
   },
   {
    "duration": 117,
    "start_time": "2022-04-10T11:57:23.657Z"
   },
   {
    "duration": 9,
    "start_time": "2022-04-10T11:57:27.922Z"
   },
   {
    "duration": 6,
    "start_time": "2022-04-10T11:57:32.324Z"
   },
   {
    "duration": 9,
    "start_time": "2022-04-10T11:59:15.650Z"
   },
   {
    "duration": 6,
    "start_time": "2022-04-10T11:59:33.570Z"
   },
   {
    "duration": 9,
    "start_time": "2022-04-10T11:59:38.052Z"
   },
   {
    "duration": 2,
    "start_time": "2022-04-10T12:00:14.063Z"
   },
   {
    "duration": 43,
    "start_time": "2022-04-10T12:00:14.068Z"
   },
   {
    "duration": 11,
    "start_time": "2022-04-10T12:00:14.114Z"
   },
   {
    "duration": 13,
    "start_time": "2022-04-10T12:00:14.127Z"
   },
   {
    "duration": 143,
    "start_time": "2022-04-10T12:00:14.143Z"
   },
   {
    "duration": 126,
    "start_time": "2022-04-10T12:00:15.422Z"
   },
   {
    "duration": 5,
    "start_time": "2022-04-10T12:00:15.603Z"
   },
   {
    "duration": 120,
    "start_time": "2022-04-10T12:00:22.084Z"
   },
   {
    "duration": 127,
    "start_time": "2022-04-10T12:00:28.917Z"
   },
   {
    "duration": 142,
    "start_time": "2022-04-10T12:00:32.330Z"
   },
   {
    "duration": 121,
    "start_time": "2022-04-10T12:00:35.703Z"
   },
   {
    "duration": 4,
    "start_time": "2022-04-10T12:01:39.772Z"
   },
   {
    "duration": 179,
    "start_time": "2022-04-10T12:01:54.797Z"
   },
   {
    "duration": 17,
    "start_time": "2022-04-10T12:02:04.318Z"
   },
   {
    "duration": 113,
    "start_time": "2022-04-10T12:03:10.129Z"
   },
   {
    "duration": 119,
    "start_time": "2022-04-10T12:04:53.594Z"
   },
   {
    "duration": 129,
    "start_time": "2022-04-10T12:05:05.496Z"
   },
   {
    "duration": 119,
    "start_time": "2022-04-10T12:05:08.431Z"
   },
   {
    "duration": 156,
    "start_time": "2022-04-10T12:08:50.447Z"
   },
   {
    "duration": 5,
    "start_time": "2022-04-10T12:09:40.790Z"
   },
   {
    "duration": 21,
    "start_time": "2022-04-10T12:09:45.781Z"
   },
   {
    "duration": 137,
    "start_time": "2022-04-10T12:10:05.322Z"
   },
   {
    "duration": 117,
    "start_time": "2022-04-10T12:10:18.244Z"
   },
   {
    "duration": 124,
    "start_time": "2022-04-10T12:10:29.569Z"
   },
   {
    "duration": 117,
    "start_time": "2022-04-10T12:10:59.635Z"
   },
   {
    "duration": 133,
    "start_time": "2022-04-10T12:11:03.463Z"
   },
   {
    "duration": 221,
    "start_time": "2022-04-10T12:11:17.577Z"
   },
   {
    "duration": 168,
    "start_time": "2022-04-10T12:11:41.405Z"
   },
   {
    "duration": 16,
    "start_time": "2022-04-10T12:11:51.951Z"
   },
   {
    "duration": 123,
    "start_time": "2022-04-10T12:12:03.020Z"
   },
   {
    "duration": 115,
    "start_time": "2022-04-10T12:12:14.374Z"
   },
   {
    "duration": 233,
    "start_time": "2022-04-10T12:12:22.116Z"
   },
   {
    "duration": 121,
    "start_time": "2022-04-10T12:12:29.364Z"
   },
   {
    "duration": 121,
    "start_time": "2022-04-10T12:12:37.666Z"
   },
   {
    "duration": 138,
    "start_time": "2022-04-10T12:12:59.957Z"
   },
   {
    "duration": 202,
    "start_time": "2022-04-10T12:13:07.076Z"
   },
   {
    "duration": 127,
    "start_time": "2022-04-10T12:13:24.687Z"
   },
   {
    "duration": 2,
    "start_time": "2022-04-10T12:30:18.056Z"
   },
   {
    "duration": 31,
    "start_time": "2022-04-10T12:30:18.481Z"
   },
   {
    "duration": 10,
    "start_time": "2022-04-10T12:30:18.885Z"
   },
   {
    "duration": 11,
    "start_time": "2022-04-10T12:30:19.282Z"
   },
   {
    "duration": 131,
    "start_time": "2022-04-10T12:30:20.500Z"
   },
   {
    "duration": 131,
    "start_time": "2022-04-10T12:30:21.627Z"
   },
   {
    "duration": 133,
    "start_time": "2022-04-10T12:30:22.518Z"
   },
   {
    "duration": 23,
    "start_time": "2022-04-10T12:40:28.102Z"
   },
   {
    "duration": 17,
    "start_time": "2022-04-10T12:40:45.888Z"
   },
   {
    "duration": 21,
    "start_time": "2022-04-10T12:41:29.744Z"
   },
   {
    "duration": 26,
    "start_time": "2022-04-10T12:41:59.930Z"
   },
   {
    "duration": 6,
    "start_time": "2022-04-10T12:42:45.378Z"
   },
   {
    "duration": 11,
    "start_time": "2022-04-10T12:42:56.635Z"
   },
   {
    "duration": 4,
    "start_time": "2022-04-10T12:43:02.326Z"
   },
   {
    "duration": 4,
    "start_time": "2022-04-10T12:43:07.749Z"
   },
   {
    "duration": 3,
    "start_time": "2022-04-10T12:43:10.527Z"
   },
   {
    "duration": 42,
    "start_time": "2022-04-10T12:43:10.532Z"
   },
   {
    "duration": 9,
    "start_time": "2022-04-10T12:43:10.575Z"
   },
   {
    "duration": 13,
    "start_time": "2022-04-10T12:43:10.585Z"
   },
   {
    "duration": 129,
    "start_time": "2022-04-10T12:43:10.600Z"
   },
   {
    "duration": 136,
    "start_time": "2022-04-10T12:43:10.731Z"
   },
   {
    "duration": 139,
    "start_time": "2022-04-10T12:43:10.868Z"
   },
   {
    "duration": 26,
    "start_time": "2022-04-10T12:43:11.008Z"
   },
   {
    "duration": 7,
    "start_time": "2022-04-10T12:43:12.067Z"
   },
   {
    "duration": 6,
    "start_time": "2022-04-10T12:44:28.133Z"
   },
   {
    "duration": 9,
    "start_time": "2022-04-10T12:45:28.500Z"
   },
   {
    "duration": 3,
    "start_time": "2022-04-10T12:46:01.849Z"
   },
   {
    "duration": 15,
    "start_time": "2022-04-10T12:47:35.698Z"
   },
   {
    "duration": 16,
    "start_time": "2022-04-10T12:47:46.113Z"
   },
   {
    "duration": 111,
    "start_time": "2022-04-10T12:48:37.730Z"
   },
   {
    "duration": 19,
    "start_time": "2022-04-10T12:48:39.219Z"
   },
   {
    "duration": 13,
    "start_time": "2022-04-10T12:49:17.937Z"
   },
   {
    "duration": 12,
    "start_time": "2022-04-10T12:51:43.866Z"
   },
   {
    "duration": 22,
    "start_time": "2022-04-10T12:52:04.856Z"
   },
   {
    "duration": 25,
    "start_time": "2022-04-10T12:53:12.928Z"
   },
   {
    "duration": 7,
    "start_time": "2022-04-10T12:54:35.783Z"
   },
   {
    "duration": 5,
    "start_time": "2022-04-10T12:55:07.683Z"
   },
   {
    "duration": 6,
    "start_time": "2022-04-10T12:55:10.160Z"
   },
   {
    "duration": 15,
    "start_time": "2022-04-10T12:55:12.993Z"
   },
   {
    "duration": 25,
    "start_time": "2022-04-10T12:55:15.958Z"
   },
   {
    "duration": 7,
    "start_time": "2022-04-10T12:55:21.869Z"
   },
   {
    "duration": 6,
    "start_time": "2022-04-10T12:55:28.970Z"
   },
   {
    "duration": 3,
    "start_time": "2022-04-10T12:57:41.893Z"
   },
   {
    "duration": 3,
    "start_time": "2022-04-10T12:58:39.064Z"
   },
   {
    "duration": 122,
    "start_time": "2022-04-10T12:58:40.626Z"
   },
   {
    "duration": 15,
    "start_time": "2022-04-10T12:58:52.189Z"
   },
   {
    "duration": 11,
    "start_time": "2022-04-10T12:59:00.292Z"
   },
   {
    "duration": 11,
    "start_time": "2022-04-10T12:59:06.614Z"
   },
   {
    "duration": 3,
    "start_time": "2022-04-10T12:59:12.685Z"
   },
   {
    "duration": 34,
    "start_time": "2022-04-10T12:59:12.690Z"
   },
   {
    "duration": 9,
    "start_time": "2022-04-10T12:59:12.725Z"
   },
   {
    "duration": 9,
    "start_time": "2022-04-10T12:59:12.736Z"
   },
   {
    "duration": 123,
    "start_time": "2022-04-10T12:59:12.748Z"
   },
   {
    "duration": 126,
    "start_time": "2022-04-10T12:59:12.873Z"
   },
   {
    "duration": 142,
    "start_time": "2022-04-10T12:59:13.000Z"
   },
   {
    "duration": 26,
    "start_time": "2022-04-10T12:59:13.143Z"
   },
   {
    "duration": 5,
    "start_time": "2022-04-10T12:59:13.171Z"
   },
   {
    "duration": 5,
    "start_time": "2022-04-10T12:59:13.178Z"
   },
   {
    "duration": 3,
    "start_time": "2022-04-10T12:59:14.336Z"
   },
   {
    "duration": 18,
    "start_time": "2022-04-10T12:59:14.755Z"
   },
   {
    "duration": 25,
    "start_time": "2022-04-10T12:59:20.162Z"
   },
   {
    "duration": 19,
    "start_time": "2022-04-10T12:59:43.406Z"
   },
   {
    "duration": 20,
    "start_time": "2022-04-10T13:00:15.670Z"
   },
   {
    "duration": 6,
    "start_time": "2022-04-10T13:00:17.731Z"
   },
   {
    "duration": 66,
    "start_time": "2022-04-10T13:00:18.983Z"
   },
   {
    "duration": 10,
    "start_time": "2022-04-10T13:08:27.922Z"
   },
   {
    "duration": 10,
    "start_time": "2022-04-10T13:08:44.395Z"
   },
   {
    "duration": 9,
    "start_time": "2022-04-10T13:08:50.254Z"
   },
   {
    "duration": 39,
    "start_time": "2022-04-10T13:10:08.311Z"
   },
   {
    "duration": 4,
    "start_time": "2022-04-10T13:10:14.671Z"
   },
   {
    "duration": 11,
    "start_time": "2022-04-10T13:10:15.199Z"
   },
   {
    "duration": 25,
    "start_time": "2022-04-10T13:10:18.636Z"
   },
   {
    "duration": 19,
    "start_time": "2022-04-10T13:10:21.857Z"
   },
   {
    "duration": 6,
    "start_time": "2022-04-10T13:10:24.210Z"
   },
   {
    "duration": 34,
    "start_time": "2022-04-10T13:10:48.414Z"
   },
   {
    "duration": 7,
    "start_time": "2022-04-10T13:11:00.090Z"
   },
   {
    "duration": 7,
    "start_time": "2022-04-10T13:11:04.511Z"
   },
   {
    "duration": 362,
    "start_time": "2022-04-10T13:12:58.509Z"
   },
   {
    "duration": 353,
    "start_time": "2022-04-10T13:13:06.631Z"
   },
   {
    "duration": 375,
    "start_time": "2022-04-10T13:13:14.411Z"
   },
   {
    "duration": 397,
    "start_time": "2022-04-10T13:13:53.618Z"
   },
   {
    "duration": 60,
    "start_time": "2022-04-10T13:16:04.994Z"
   },
   {
    "duration": 417,
    "start_time": "2022-04-10T13:16:10.670Z"
   },
   {
    "duration": 268,
    "start_time": "2022-04-10T13:16:38.920Z"
   },
   {
    "duration": 3,
    "start_time": "2022-04-10T13:16:59.833Z"
   },
   {
    "duration": 37,
    "start_time": "2022-04-10T13:17:02.196Z"
   },
   {
    "duration": 11,
    "start_time": "2022-04-10T13:17:02.526Z"
   },
   {
    "duration": 11,
    "start_time": "2022-04-10T13:17:02.857Z"
   },
   {
    "duration": 122,
    "start_time": "2022-04-10T13:17:04.057Z"
   },
   {
    "duration": 127,
    "start_time": "2022-04-10T13:17:04.747Z"
   },
   {
    "duration": 134,
    "start_time": "2022-04-10T13:17:05.494Z"
   },
   {
    "duration": 25,
    "start_time": "2022-04-10T13:17:06.866Z"
   },
   {
    "duration": 7,
    "start_time": "2022-04-10T13:17:07.236Z"
   },
   {
    "duration": 6,
    "start_time": "2022-04-10T13:17:07.616Z"
   },
   {
    "duration": 4,
    "start_time": "2022-04-10T13:17:08.011Z"
   },
   {
    "duration": 54,
    "start_time": "2022-04-10T13:17:08.395Z"
   },
   {
    "duration": 24,
    "start_time": "2022-04-10T13:17:08.982Z"
   },
   {
    "duration": 18,
    "start_time": "2022-04-10T13:17:09.424Z"
   },
   {
    "duration": 5,
    "start_time": "2022-04-10T13:17:09.825Z"
   },
   {
    "duration": 118,
    "start_time": "2022-04-10T13:17:10.231Z"
   },
   {
    "duration": 6,
    "start_time": "2022-04-10T13:17:11.274Z"
   },
   {
    "duration": 7,
    "start_time": "2022-04-10T13:17:11.665Z"
   },
   {
    "duration": 68515,
    "start_time": "2022-04-10T19:36:56.696Z"
   },
   {
    "duration": 205,
    "start_time": "2022-04-10T19:38:05.214Z"
   },
   {
    "duration": 79,
    "start_time": "2022-04-10T19:38:05.423Z"
   },
   {
    "duration": 97,
    "start_time": "2022-04-10T19:38:05.505Z"
   },
   {
    "duration": 2402,
    "start_time": "2022-04-10T19:39:04.402Z"
   },
   {
    "duration": 796,
    "start_time": "2022-04-10T19:39:06.808Z"
   },
   {
    "duration": 782,
    "start_time": "2022-04-10T19:39:07.624Z"
   },
   {
    "duration": 114,
    "start_time": "2022-04-10T19:41:30.101Z"
   },
   {
    "duration": 10,
    "start_time": "2022-04-10T19:44:57.103Z"
   },
   {
    "duration": 7,
    "start_time": "2022-04-10T19:44:57.802Z"
   },
   {
    "duration": 3,
    "start_time": "2022-04-10T19:44:59.002Z"
   },
   {
    "duration": 102,
    "start_time": "2022-04-10T19:45:02.101Z"
   },
   {
    "duration": 207,
    "start_time": "2022-04-10T19:45:03.302Z"
   },
   {
    "duration": 103,
    "start_time": "2022-04-10T19:45:03.603Z"
   },
   {
    "duration": 99,
    "start_time": "2022-04-10T19:45:03.902Z"
   },
   {
    "duration": 109,
    "start_time": "2022-04-10T19:45:04.302Z"
   },
   {
    "duration": 199,
    "start_time": "2022-04-10T19:45:05.102Z"
   },
   {
    "duration": 77,
    "start_time": "2022-04-10T19:45:05.434Z"
   },
   {
    "duration": 13,
    "start_time": "2022-04-11T08:46:17.051Z"
   },
   {
    "duration": 64,
    "start_time": "2022-04-11T08:46:45.379Z"
   },
   {
    "duration": 1532,
    "start_time": "2022-04-11T08:46:49.168Z"
   },
   {
    "duration": 59,
    "start_time": "2022-04-11T08:46:50.703Z"
   },
   {
    "duration": 20,
    "start_time": "2022-04-11T08:46:50.764Z"
   },
   {
    "duration": 41,
    "start_time": "2022-04-11T08:46:50.786Z"
   },
   {
    "duration": 1075,
    "start_time": "2022-04-11T08:46:50.831Z"
   },
   {
    "duration": 226,
    "start_time": "2022-04-11T08:46:51.908Z"
   },
   {
    "duration": 237,
    "start_time": "2022-04-11T08:46:52.136Z"
   },
   {
    "duration": 44,
    "start_time": "2022-04-11T08:46:52.375Z"
   },
   {
    "duration": 8,
    "start_time": "2022-04-11T08:46:52.422Z"
   },
   {
    "duration": 37,
    "start_time": "2022-04-11T08:46:52.432Z"
   },
   {
    "duration": 32,
    "start_time": "2022-04-11T08:46:52.472Z"
   },
   {
    "duration": 86,
    "start_time": "2022-04-11T08:46:52.506Z"
   },
   {
    "duration": 131,
    "start_time": "2022-04-11T08:46:52.686Z"
   },
   {
    "duration": 31,
    "start_time": "2022-04-11T08:46:52.821Z"
   },
   {
    "duration": 37,
    "start_time": "2022-04-11T08:46:52.855Z"
   },
   {
    "duration": 95,
    "start_time": "2022-04-11T08:46:52.894Z"
   },
   {
    "duration": 111,
    "start_time": "2022-04-11T08:46:52.992Z"
   },
   {
    "duration": 96,
    "start_time": "2022-04-11T08:46:53.188Z"
   },
   {
    "duration": 4,
    "start_time": "2022-04-11T08:46:54.946Z"
   },
   {
    "duration": 299,
    "start_time": "2022-04-11T08:46:54.953Z"
   },
   {
    "duration": 9,
    "start_time": "2022-04-11T08:47:13.323Z"
   },
   {
    "duration": 15,
    "start_time": "2022-04-11T08:47:19.575Z"
   },
   {
    "duration": 104,
    "start_time": "2022-04-11T08:47:44.387Z"
   },
   {
    "duration": 10,
    "start_time": "2022-04-11T08:47:54.328Z"
   },
   {
    "duration": 21,
    "start_time": "2022-04-11T08:47:54.860Z"
   },
   {
    "duration": 8,
    "start_time": "2022-04-11T08:49:02.892Z"
   },
   {
    "duration": 6,
    "start_time": "2022-04-11T08:49:05.481Z"
   },
   {
    "duration": 449,
    "start_time": "2022-04-11T08:49:09.673Z"
   },
   {
    "duration": 7,
    "start_time": "2022-04-11T08:50:15.081Z"
   },
   {
    "duration": 6,
    "start_time": "2022-04-11T08:50:21.020Z"
   },
   {
    "duration": 5,
    "start_time": "2022-04-11T08:50:48.539Z"
   },
   {
    "duration": 6,
    "start_time": "2022-04-11T08:51:04.629Z"
   },
   {
    "duration": 428,
    "start_time": "2022-04-11T08:51:32.284Z"
   },
   {
    "duration": 12,
    "start_time": "2022-04-11T08:51:45.260Z"
   },
   {
    "duration": 473,
    "start_time": "2022-04-11T08:51:55.351Z"
   },
   {
    "duration": 639,
    "start_time": "2022-04-11T08:52:00.185Z"
   },
   {
    "duration": 424,
    "start_time": "2022-04-11T08:52:07.488Z"
   },
   {
    "duration": 406,
    "start_time": "2022-04-11T08:52:40.734Z"
   },
   {
    "duration": 413,
    "start_time": "2022-04-11T08:52:46.736Z"
   },
   {
    "duration": 505,
    "start_time": "2022-04-11T08:54:47.337Z"
   },
   {
    "duration": 385,
    "start_time": "2022-04-11T08:54:51.432Z"
   },
   {
    "duration": 410,
    "start_time": "2022-04-11T08:55:16.404Z"
   },
   {
    "duration": 466,
    "start_time": "2022-04-11T08:57:38.757Z"
   },
   {
    "duration": 453,
    "start_time": "2022-04-11T08:57:45.585Z"
   },
   {
    "duration": 484,
    "start_time": "2022-04-11T08:57:49.743Z"
   },
   {
    "duration": 4,
    "start_time": "2022-04-11T08:58:37.612Z"
   },
   {
    "duration": 47,
    "start_time": "2022-04-11T08:58:37.983Z"
   },
   {
    "duration": 16,
    "start_time": "2022-04-11T08:58:38.274Z"
   },
   {
    "duration": 17,
    "start_time": "2022-04-11T08:58:38.885Z"
   },
   {
    "duration": 206,
    "start_time": "2022-04-11T08:58:44.137Z"
   },
   {
    "duration": 205,
    "start_time": "2022-04-11T08:58:45.402Z"
   },
   {
    "duration": 219,
    "start_time": "2022-04-11T08:58:47.008Z"
   },
   {
    "duration": 21,
    "start_time": "2022-04-11T08:59:11.039Z"
   },
   {
    "duration": 7,
    "start_time": "2022-04-11T08:59:28.984Z"
   },
   {
    "duration": 7,
    "start_time": "2022-04-11T08:59:29.954Z"
   },
   {
    "duration": 5,
    "start_time": "2022-04-11T08:59:30.747Z"
   },
   {
    "duration": 23,
    "start_time": "2022-04-11T08:59:32.083Z"
   },
   {
    "duration": 39,
    "start_time": "2022-04-11T08:59:37.680Z"
   },
   {
    "duration": 23,
    "start_time": "2022-04-11T08:59:39.473Z"
   },
   {
    "duration": 9,
    "start_time": "2022-04-11T08:59:40.223Z"
   },
   {
    "duration": 100,
    "start_time": "2022-04-11T08:59:40.990Z"
   },
   {
    "duration": 8,
    "start_time": "2022-04-11T08:59:43.612Z"
   },
   {
    "duration": 5,
    "start_time": "2022-04-11T08:59:44.786Z"
   },
   {
    "duration": 298,
    "start_time": "2022-04-11T08:59:45.895Z"
   },
   {
    "duration": 16,
    "start_time": "2022-04-11T08:59:51.922Z"
   },
   {
    "duration": 407,
    "start_time": "2022-04-11T08:59:52.809Z"
   },
   {
    "duration": 224,
    "start_time": "2022-04-11T09:00:17.593Z"
   },
   {
    "duration": 20,
    "start_time": "2022-04-11T09:00:20.676Z"
   },
   {
    "duration": 223,
    "start_time": "2022-04-11T09:00:33.370Z"
   },
   {
    "duration": 236,
    "start_time": "2022-04-11T09:00:37.371Z"
   },
   {
    "duration": 21,
    "start_time": "2022-04-11T09:00:43.365Z"
   },
   {
    "duration": 15,
    "start_time": "2022-04-11T09:00:47.261Z"
   },
   {
    "duration": 7,
    "start_time": "2022-04-11T09:00:54.989Z"
   },
   {
    "duration": 6,
    "start_time": "2022-04-11T09:00:55.164Z"
   },
   {
    "duration": 5,
    "start_time": "2022-04-11T09:00:56.023Z"
   },
   {
    "duration": 11,
    "start_time": "2022-04-11T09:00:57.031Z"
   },
   {
    "duration": 37,
    "start_time": "2022-04-11T09:00:59.130Z"
   },
   {
    "duration": 44,
    "start_time": "2022-04-11T09:01:02.559Z"
   },
   {
    "duration": 15,
    "start_time": "2022-04-11T09:01:04.947Z"
   },
   {
    "duration": 7,
    "start_time": "2022-04-11T09:01:06.815Z"
   },
   {
    "duration": 146,
    "start_time": "2022-04-11T09:01:08.040Z"
   },
   {
    "duration": 8,
    "start_time": "2022-04-11T09:01:12.126Z"
   },
   {
    "duration": 5,
    "start_time": "2022-04-11T09:01:13.895Z"
   },
   {
    "duration": 270,
    "start_time": "2022-04-11T09:01:14.901Z"
   },
   {
    "duration": 227,
    "start_time": "2022-04-11T09:01:20.205Z"
   },
   {
    "duration": 8,
    "start_time": "2022-04-11T09:01:26.185Z"
   },
   {
    "duration": 259,
    "start_time": "2022-04-11T09:01:29.099Z"
   },
   {
    "duration": 5,
    "start_time": "2022-04-11T09:02:34.796Z"
   },
   {
    "duration": 266,
    "start_time": "2022-04-11T09:02:38.826Z"
   },
   {
    "duration": 394,
    "start_time": "2022-04-11T09:02:40.986Z"
   },
   {
    "duration": 9,
    "start_time": "2022-04-11T09:02:46.200Z"
   },
   {
    "duration": 280,
    "start_time": "2022-04-11T09:02:49.620Z"
   },
   {
    "duration": 257,
    "start_time": "2022-04-11T09:02:53.602Z"
   },
   {
    "duration": 273,
    "start_time": "2022-04-11T09:02:56.457Z"
   },
   {
    "duration": 38,
    "start_time": "2022-04-11T09:07:56.520Z"
   },
   {
    "duration": 17,
    "start_time": "2022-04-11T09:08:03.273Z"
   },
   {
    "duration": 7,
    "start_time": "2022-04-11T09:08:05.860Z"
   },
   {
    "duration": 142,
    "start_time": "2022-04-11T09:08:07.046Z"
   },
   {
    "duration": 8,
    "start_time": "2022-04-11T09:08:11.277Z"
   },
   {
    "duration": 6,
    "start_time": "2022-04-11T09:08:11.661Z"
   },
   {
    "duration": 275,
    "start_time": "2022-04-11T09:08:12.096Z"
   },
   {
    "duration": 8,
    "start_time": "2022-04-11T09:08:13.192Z"
   },
   {
    "duration": 280,
    "start_time": "2022-04-11T09:08:13.887Z"
   },
   {
    "duration": 36,
    "start_time": "2022-04-11T09:08:45.157Z"
   },
   {
    "duration": 40,
    "start_time": "2022-04-11T09:08:51.440Z"
   },
   {
    "duration": 18,
    "start_time": "2022-04-11T09:09:49.215Z"
   },
   {
    "duration": 17,
    "start_time": "2022-04-11T09:10:02.699Z"
   },
   {
    "duration": 7,
    "start_time": "2022-04-11T09:10:06.316Z"
   },
   {
    "duration": 32,
    "start_time": "2022-04-11T09:10:09.770Z"
   },
   {
    "duration": 17,
    "start_time": "2022-04-11T09:10:29.437Z"
   },
   {
    "duration": 15,
    "start_time": "2022-04-11T09:10:35.269Z"
   },
   {
    "duration": 122,
    "start_time": "2022-04-11T09:11:02.272Z"
   },
   {
    "duration": 8,
    "start_time": "2022-04-11T09:11:25.236Z"
   },
   {
    "duration": 45,
    "start_time": "2022-04-11T09:13:10.070Z"
   },
   {
    "duration": 17,
    "start_time": "2022-04-11T09:13:17.430Z"
   },
   {
    "duration": 7,
    "start_time": "2022-04-11T09:13:19.237Z"
   },
   {
    "duration": 63,
    "start_time": "2022-04-11T09:13:20.526Z"
   },
   {
    "duration": 8,
    "start_time": "2022-04-11T09:13:24.103Z"
   },
   {
    "duration": 272,
    "start_time": "2022-04-11T09:13:27.530Z"
   },
   {
    "duration": 34,
    "start_time": "2022-04-11T09:13:43.098Z"
   },
   {
    "duration": 46,
    "start_time": "2022-04-11T09:14:09.412Z"
   },
   {
    "duration": 18,
    "start_time": "2022-04-11T09:14:12.520Z"
   },
   {
    "duration": 7,
    "start_time": "2022-04-11T09:14:13.906Z"
   },
   {
    "duration": 175,
    "start_time": "2022-04-11T09:14:14.709Z"
   },
   {
    "duration": 8,
    "start_time": "2022-04-11T09:14:19.366Z"
   },
   {
    "duration": 33,
    "start_time": "2022-04-11T09:14:52.700Z"
   },
   {
    "duration": 17,
    "start_time": "2022-04-11T09:14:55.328Z"
   },
   {
    "duration": 6,
    "start_time": "2022-04-11T09:14:55.811Z"
   },
   {
    "duration": 77,
    "start_time": "2022-04-11T09:14:56.606Z"
   },
   {
    "duration": 9,
    "start_time": "2022-04-11T09:14:57.907Z"
   },
   {
    "duration": 280,
    "start_time": "2022-04-11T09:14:58.877Z"
   },
   {
    "duration": 37,
    "start_time": "2022-04-11T09:15:31.067Z"
   },
   {
    "duration": 19,
    "start_time": "2022-04-11T09:15:36.594Z"
   },
   {
    "duration": 9,
    "start_time": "2022-04-11T09:15:39.605Z"
   },
   {
    "duration": 15,
    "start_time": "2022-04-11T09:15:40.060Z"
   },
   {
    "duration": 9,
    "start_time": "2022-04-11T09:15:40.990Z"
   },
   {
    "duration": 5,
    "start_time": "2022-04-11T09:16:18.213Z"
   },
   {
    "duration": 5,
    "start_time": "2022-04-11T09:16:24.679Z"
   },
   {
    "duration": 35,
    "start_time": "2022-04-11T09:16:32.525Z"
   },
   {
    "duration": 18,
    "start_time": "2022-04-11T09:16:35.151Z"
   },
   {
    "duration": 7,
    "start_time": "2022-04-11T09:16:35.909Z"
   },
   {
    "duration": 26,
    "start_time": "2022-04-11T09:16:36.557Z"
   },
   {
    "duration": 9,
    "start_time": "2022-04-11T09:16:40.519Z"
   },
   {
    "duration": 4,
    "start_time": "2022-04-11T09:17:08.581Z"
   },
   {
    "duration": 5,
    "start_time": "2022-04-11T09:17:20.290Z"
   },
   {
    "duration": 36,
    "start_time": "2022-04-11T09:17:28.722Z"
   },
   {
    "duration": 31,
    "start_time": "2022-04-11T09:17:38.735Z"
   },
   {
    "duration": 16,
    "start_time": "2022-04-11T09:17:39.893Z"
   },
   {
    "duration": 6,
    "start_time": "2022-04-11T09:17:41.027Z"
   },
   {
    "duration": 15,
    "start_time": "2022-04-11T09:17:41.453Z"
   },
   {
    "duration": 8,
    "start_time": "2022-04-11T09:17:42.478Z"
   },
   {
    "duration": 35,
    "start_time": "2022-04-11T09:17:46.806Z"
   },
   {
    "duration": 18,
    "start_time": "2022-04-11T09:17:47.639Z"
   },
   {
    "duration": 7,
    "start_time": "2022-04-11T09:17:48.426Z"
   },
   {
    "duration": 59,
    "start_time": "2022-04-11T09:17:48.926Z"
   },
   {
    "duration": 8,
    "start_time": "2022-04-11T09:17:49.895Z"
   },
   {
    "duration": 31,
    "start_time": "2022-04-11T09:17:55.318Z"
   },
   {
    "duration": 16,
    "start_time": "2022-04-11T09:17:55.771Z"
   },
   {
    "duration": 6,
    "start_time": "2022-04-11T09:17:56.221Z"
   },
   {
    "duration": 21,
    "start_time": "2022-04-11T09:17:56.673Z"
   },
   {
    "duration": 8,
    "start_time": "2022-04-11T09:17:57.489Z"
   },
   {
    "duration": 33,
    "start_time": "2022-04-11T09:18:02.397Z"
   },
   {
    "duration": 18,
    "start_time": "2022-04-11T09:18:02.829Z"
   },
   {
    "duration": 7,
    "start_time": "2022-04-11T09:18:03.220Z"
   },
   {
    "duration": 20,
    "start_time": "2022-04-11T09:18:03.588Z"
   },
   {
    "duration": 8,
    "start_time": "2022-04-11T09:18:04.234Z"
   },
   {
    "duration": 35,
    "start_time": "2022-04-11T09:18:09.491Z"
   },
   {
    "duration": 18,
    "start_time": "2022-04-11T09:18:09.855Z"
   },
   {
    "duration": 8,
    "start_time": "2022-04-11T09:18:10.301Z"
   },
   {
    "duration": 16,
    "start_time": "2022-04-11T09:18:11.344Z"
   },
   {
    "duration": 8,
    "start_time": "2022-04-11T09:18:12.253Z"
   },
   {
    "duration": 32,
    "start_time": "2022-04-11T09:18:18.352Z"
   },
   {
    "duration": 18,
    "start_time": "2022-04-11T09:18:18.764Z"
   },
   {
    "duration": 7,
    "start_time": "2022-04-11T09:18:19.331Z"
   },
   {
    "duration": 13,
    "start_time": "2022-04-11T09:18:19.785Z"
   },
   {
    "duration": 8,
    "start_time": "2022-04-11T09:18:20.794Z"
   },
   {
    "duration": 32,
    "start_time": "2022-04-11T09:18:25.416Z"
   },
   {
    "duration": 17,
    "start_time": "2022-04-11T09:18:25.812Z"
   },
   {
    "duration": 7,
    "start_time": "2022-04-11T09:18:26.247Z"
   },
   {
    "duration": 14,
    "start_time": "2022-04-11T09:18:26.696Z"
   },
   {
    "duration": 8,
    "start_time": "2022-04-11T09:18:27.547Z"
   },
   {
    "duration": 32,
    "start_time": "2022-04-11T09:18:31.744Z"
   },
   {
    "duration": 17,
    "start_time": "2022-04-11T09:18:32.106Z"
   },
   {
    "duration": 7,
    "start_time": "2022-04-11T09:18:32.520Z"
   },
   {
    "duration": 69,
    "start_time": "2022-04-11T09:18:33.219Z"
   },
   {
    "duration": 9,
    "start_time": "2022-04-11T09:18:33.918Z"
   },
   {
    "duration": 33,
    "start_time": "2022-04-11T09:18:39.699Z"
   },
   {
    "duration": 17,
    "start_time": "2022-04-11T09:18:40.038Z"
   },
   {
    "duration": 8,
    "start_time": "2022-04-11T09:18:40.424Z"
   },
   {
    "duration": 59,
    "start_time": "2022-04-11T09:18:41.427Z"
   },
   {
    "duration": 9,
    "start_time": "2022-04-11T09:18:42.168Z"
   },
   {
    "duration": 283,
    "start_time": "2022-04-11T09:19:25.711Z"
   },
   {
    "duration": 32,
    "start_time": "2022-04-11T09:19:40.441Z"
   },
   {
    "duration": 17,
    "start_time": "2022-04-11T09:19:49.977Z"
   },
   {
    "duration": 7,
    "start_time": "2022-04-11T09:19:50.668Z"
   },
   {
    "duration": 31,
    "start_time": "2022-04-11T09:19:51.453Z"
   },
   {
    "duration": 8,
    "start_time": "2022-04-11T09:19:52.326Z"
   },
   {
    "duration": 281,
    "start_time": "2022-04-11T09:19:53.228Z"
   },
   {
    "duration": 272,
    "start_time": "2022-04-11T09:20:10.010Z"
   },
   {
    "duration": 33,
    "start_time": "2022-04-11T09:20:20.649Z"
   },
   {
    "duration": 15,
    "start_time": "2022-04-11T09:20:21.140Z"
   },
   {
    "duration": 8,
    "start_time": "2022-04-11T09:20:21.615Z"
   },
   {
    "duration": 18,
    "start_time": "2022-04-11T09:20:22.367Z"
   },
   {
    "duration": 8,
    "start_time": "2022-04-11T09:20:22.973Z"
   },
   {
    "duration": 282,
    "start_time": "2022-04-11T09:20:23.562Z"
   },
   {
    "duration": 35,
    "start_time": "2022-04-11T09:20:31.306Z"
   },
   {
    "duration": 18,
    "start_time": "2022-04-11T09:20:31.718Z"
   },
   {
    "duration": 8,
    "start_time": "2022-04-11T09:20:32.183Z"
   },
   {
    "duration": 15,
    "start_time": "2022-04-11T09:20:32.891Z"
   },
   {
    "duration": 8,
    "start_time": "2022-04-11T09:20:33.521Z"
   },
   {
    "duration": 397,
    "start_time": "2022-04-11T09:20:34.230Z"
   },
   {
    "duration": 26,
    "start_time": "2022-04-11T09:21:33.412Z"
   },
   {
    "duration": 25,
    "start_time": "2022-04-11T09:21:37.985Z"
   },
   {
    "duration": 17,
    "start_time": "2022-04-11T09:21:39.176Z"
   },
   {
    "duration": 6,
    "start_time": "2022-04-11T09:21:39.856Z"
   },
   {
    "duration": 18,
    "start_time": "2022-04-11T09:21:40.544Z"
   },
   {
    "duration": 8,
    "start_time": "2022-04-11T09:21:41.391Z"
   },
   {
    "duration": 265,
    "start_time": "2022-04-11T09:21:42.432Z"
   },
   {
    "duration": 24,
    "start_time": "2022-04-11T09:23:06.261Z"
   },
   {
    "duration": 16,
    "start_time": "2022-04-11T09:23:06.629Z"
   },
   {
    "duration": 7,
    "start_time": "2022-04-11T09:23:07.075Z"
   },
   {
    "duration": 59,
    "start_time": "2022-04-11T09:23:07.725Z"
   },
   {
    "duration": 9,
    "start_time": "2022-04-11T09:23:08.399Z"
   },
   {
    "duration": 263,
    "start_time": "2022-04-11T09:23:09.254Z"
   },
   {
    "duration": 289,
    "start_time": "2022-04-11T09:24:13.829Z"
   },
   {
    "duration": 258,
    "start_time": "2022-04-11T09:24:57.454Z"
   },
   {
    "duration": 319,
    "start_time": "2022-04-11T09:25:03.470Z"
   },
   {
    "duration": 333,
    "start_time": "2022-04-11T09:25:08.277Z"
   },
   {
    "duration": 313,
    "start_time": "2022-04-11T09:25:12.940Z"
   },
   {
    "duration": 318,
    "start_time": "2022-04-11T09:25:15.869Z"
   },
   {
    "duration": 273,
    "start_time": "2022-04-11T09:25:19.215Z"
   },
   {
    "duration": 234,
    "start_time": "2022-04-11T09:25:22.231Z"
   },
   {
    "duration": 47852,
    "start_time": "2022-04-11T09:58:39.726Z"
   },
   {
    "duration": 51,
    "start_time": "2022-04-11T09:59:27.580Z"
   },
   {
    "duration": 12,
    "start_time": "2022-04-11T09:59:27.633Z"
   },
   {
    "duration": 23,
    "start_time": "2022-04-11T09:59:27.648Z"
   },
   {
    "duration": 499,
    "start_time": "2022-04-11T09:59:27.673Z"
   },
   {
    "duration": 179,
    "start_time": "2022-04-11T09:59:28.174Z"
   },
   {
    "duration": 128,
    "start_time": "2022-04-11T09:59:28.355Z"
   },
   {
    "duration": 9,
    "start_time": "2022-04-11T09:59:28.484Z"
   },
   {
    "duration": 28,
    "start_time": "2022-04-11T09:59:28.495Z"
   },
   {
    "duration": 20,
    "start_time": "2022-04-11T09:59:28.525Z"
   },
   {
    "duration": 13,
    "start_time": "2022-04-11T09:59:28.546Z"
   },
   {
    "duration": 9,
    "start_time": "2022-04-11T09:59:28.561Z"
   },
   {
    "duration": 29,
    "start_time": "2022-04-11T09:59:28.572Z"
   },
   {
    "duration": 14,
    "start_time": "2022-04-11T09:59:31.016Z"
   },
   {
    "duration": 5,
    "start_time": "2022-04-11T09:59:38.255Z"
   },
   {
    "duration": 16,
    "start_time": "2022-04-11T09:59:41.755Z"
   },
   {
    "duration": 7,
    "start_time": "2022-04-11T09:59:44.795Z"
   },
   {
    "duration": 3,
    "start_time": "2022-04-11T09:59:46.001Z"
   },
   {
    "duration": 167,
    "start_time": "2022-04-11T09:59:48.070Z"
   },
   {
    "duration": 6,
    "start_time": "2022-04-11T09:59:49.941Z"
   },
   {
    "duration": 240,
    "start_time": "2022-04-11T09:59:54.196Z"
   },
   {
    "duration": 14,
    "start_time": "2022-04-11T10:00:03.636Z"
   },
   {
    "duration": 10,
    "start_time": "2022-04-11T10:00:13.837Z"
   },
   {
    "duration": 4,
    "start_time": "2022-04-11T10:00:17.166Z"
   },
   {
    "duration": 9,
    "start_time": "2022-04-11T10:00:18.793Z"
   },
   {
    "duration": 6,
    "start_time": "2022-04-11T10:00:24.434Z"
   },
   {
    "duration": 127,
    "start_time": "2022-04-11T10:00:26.551Z"
   },
   {
    "duration": 31,
    "start_time": "2022-04-11T10:06:45.027Z"
   },
   {
    "duration": 9,
    "start_time": "2022-04-11T10:06:47.616Z"
   },
   {
    "duration": 4,
    "start_time": "2022-04-11T10:06:50.206Z"
   },
   {
    "duration": 17,
    "start_time": "2022-04-11T10:06:51.124Z"
   },
   {
    "duration": 6,
    "start_time": "2022-04-11T10:06:52.400Z"
   },
   {
    "duration": 184,
    "start_time": "2022-04-11T10:06:54.021Z"
   },
   {
    "duration": 26,
    "start_time": "2022-04-11T10:07:10.047Z"
   },
   {
    "duration": 10,
    "start_time": "2022-04-11T10:07:10.734Z"
   },
   {
    "duration": 4,
    "start_time": "2022-04-11T10:07:11.304Z"
   },
   {
    "duration": 13,
    "start_time": "2022-04-11T10:07:11.683Z"
   },
   {
    "duration": 5,
    "start_time": "2022-04-11T10:07:12.083Z"
   },
   {
    "duration": 126,
    "start_time": "2022-04-11T10:07:15.360Z"
   },
   {
    "duration": 30,
    "start_time": "2022-04-11T10:07:42.599Z"
   },
   {
    "duration": 11,
    "start_time": "2022-04-11T10:07:43.513Z"
   },
   {
    "duration": 4,
    "start_time": "2022-04-11T10:07:43.884Z"
   },
   {
    "duration": 62,
    "start_time": "2022-04-11T10:07:44.212Z"
   },
   {
    "duration": 7,
    "start_time": "2022-04-11T10:07:44.563Z"
   },
   {
    "duration": 35,
    "start_time": "2022-04-11T10:08:09.032Z"
   },
   {
    "duration": 12,
    "start_time": "2022-04-11T10:08:09.696Z"
   },
   {
    "duration": 5,
    "start_time": "2022-04-11T10:08:10.009Z"
   },
   {
    "duration": 54,
    "start_time": "2022-04-11T10:08:10.319Z"
   },
   {
    "duration": 6,
    "start_time": "2022-04-11T10:08:10.656Z"
   },
   {
    "duration": 68,
    "start_time": "2022-04-11T10:18:25.194Z"
   },
   {
    "duration": 24,
    "start_time": "2022-04-11T10:18:32.605Z"
   },
   {
    "duration": 7,
    "start_time": "2022-04-11T10:18:33.323Z"
   },
   {
    "duration": 176,
    "start_time": "2022-04-11T10:18:34.407Z"
   },
   {
    "duration": 10,
    "start_time": "2022-04-11T10:18:36.677Z"
   },
   {
    "duration": 500,
    "start_time": "2022-04-11T10:18:38.422Z"
   }
  ],
  "kernelspec": {
   "display_name": "Python 3 (ipykernel)",
   "language": "python",
   "name": "python3"
  },
  "language_info": {
   "codemirror_mode": {
    "name": "ipython",
    "version": 3
   },
   "file_extension": ".py",
   "mimetype": "text/x-python",
   "name": "python",
   "nbconvert_exporter": "python",
   "pygments_lexer": "ipython3",
   "version": "3.9.12"
  },
  "toc": {
   "base_numbering": 1,
   "nav_menu": {},
   "number_sections": true,
   "sideBar": true,
   "skip_h1_title": true,
   "title_cell": "Содержание",
   "title_sidebar": "Contents",
   "toc_cell": true,
   "toc_position": {
    "height": "calc(100% - 180px)",
    "left": "10px",
    "top": "150px",
    "width": "238.391px"
   },
   "toc_section_display": true,
   "toc_window_display": true
  }
 },
 "nbformat": 4,
 "nbformat_minor": 4
}
