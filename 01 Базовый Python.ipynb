{
 "cells": [
  {
   "cell_type": "markdown",
   "metadata": {
    "id": "E0vqbgi9ay0H"
   },
   "source": [
    "# Яндекс.Музыка"
   ]
  },
  {
   "cell_type": "markdown",
   "metadata": {
    "id": "VUC88oWjTJw2"
   },
   "source": [
    "Сравнение Москвы и Петербурга окружено мифами. Например:\n",
    " * Москва — мегаполис, подчинённый жёсткому ритму рабочей недели;\n",
    " * Петербург — культурная столица, со своими вкусами.\n",
    "\n",
    "На данных Яндекс.Музыки вы сравните поведение пользователей двух столиц.\n",
    "\n",
    "**Цель исследования** — проверьте три гипотезы:\n",
    "1. Активность пользователей зависит от дня недели. Причём в Москве и Петербурге это проявляется по-разному.\n",
    "2. В понедельник утром в Москве преобладают одни жанры, а в Петербурге — другие. Так же и вечером пятницы преобладают разные жанры — в зависимости от города. \n",
    "3. Москва и Петербург предпочитают разные жанры музыки. В Москве чаще слушают поп-музыку, в Петербурге — русский рэп.\n",
    "\n",
    "**Ход исследования**\n",
    "\n",
    "Данные о поведении пользователей вы получите из файла `yandex_music_project.csv`. О качестве данных ничего не известно. Поэтому перед проверкой гипотез понадобится обзор данных. \n",
    "\n",
    "Вы проверите данные на ошибки и оцените их влияние на исследование. Затем, на этапе предобработки вы поищете возможность исправить самые критичные ошибки данных.\n",
    " \n",
    "Таким образом, исследование пройдёт в три этапа:\n",
    " 1. Обзор данных.\n",
    " 2. Предобработка данных.\n",
    " 3. Проверка гипотез.\n",
    "\n"
   ]
  },
  {
   "cell_type": "markdown",
   "metadata": {
    "id": "Ml1hmfXC_Zcs"
   },
   "source": [
    "## Обзор данных\n",
    "\n",
    "Составьте первое представление о данных Яндекс.Музыки.\n",
    "\n",
    "\n"
   ]
  },
  {
   "cell_type": "markdown",
   "metadata": {
    "id": "57eAOGIz_Zcs"
   },
   "source": [
    "Основной инструмент аналитика — `pandas`. Импортируйте эту библиотеку."
   ]
  },
  {
   "cell_type": "code",
   "execution_count": 26,
   "metadata": {
    "id": "AXN7PHPN_Zcs"
   },
   "outputs": [],
   "source": [
    "# импорт библиотеки pandas\n",
    "import pandas as pd"
   ]
  },
  {
   "cell_type": "markdown",
   "metadata": {
    "id": "SG23P8tt_Zcs"
   },
   "source": [
    "Прочитайте файл `yandex_music_project.csv` из папки `/datasets` и сохраните его в переменной `df`:"
   ]
  },
  {
   "cell_type": "code",
   "execution_count": 27,
   "metadata": {
    "id": "fFVu7vqh_Zct"
   },
   "outputs": [],
   "source": [
    "# чтение файла с данными и сохранение в df\n",
    "df = pd.read_csv('/datasets/yandex_music_project.csv')"
   ]
  },
  {
   "cell_type": "markdown",
   "metadata": {
    "id": "rDoOMd3uTqnZ"
   },
   "source": [
    "Выведите на экран первые десять строк таблицы:"
   ]
  },
  {
   "cell_type": "code",
   "execution_count": 28,
   "metadata": {
    "id": "oWTVX3gW_Zct",
    "scrolled": true
   },
   "outputs": [
    {
     "data": {
      "text/html": [
       "<div>\n",
       "<style scoped>\n",
       "    .dataframe tbody tr th:only-of-type {\n",
       "        vertical-align: middle;\n",
       "    }\n",
       "\n",
       "    .dataframe tbody tr th {\n",
       "        vertical-align: top;\n",
       "    }\n",
       "\n",
       "    .dataframe thead th {\n",
       "        text-align: right;\n",
       "    }\n",
       "</style>\n",
       "<table border=\"1\" class=\"dataframe\">\n",
       "  <thead>\n",
       "    <tr style=\"text-align: right;\">\n",
       "      <th></th>\n",
       "      <th>userID</th>\n",
       "      <th>Track</th>\n",
       "      <th>artist</th>\n",
       "      <th>genre</th>\n",
       "      <th>City</th>\n",
       "      <th>time</th>\n",
       "      <th>Day</th>\n",
       "    </tr>\n",
       "  </thead>\n",
       "  <tbody>\n",
       "    <tr>\n",
       "      <td>0</td>\n",
       "      <td>FFB692EC</td>\n",
       "      <td>Kamigata To Boots</td>\n",
       "      <td>The Mass Missile</td>\n",
       "      <td>rock</td>\n",
       "      <td>Saint-Petersburg</td>\n",
       "      <td>20:28:33</td>\n",
       "      <td>Wednesday</td>\n",
       "    </tr>\n",
       "    <tr>\n",
       "      <td>1</td>\n",
       "      <td>55204538</td>\n",
       "      <td>Delayed Because of Accident</td>\n",
       "      <td>Andreas Rönnberg</td>\n",
       "      <td>rock</td>\n",
       "      <td>Moscow</td>\n",
       "      <td>14:07:09</td>\n",
       "      <td>Friday</td>\n",
       "    </tr>\n",
       "    <tr>\n",
       "      <td>2</td>\n",
       "      <td>20EC38</td>\n",
       "      <td>Funiculì funiculà</td>\n",
       "      <td>Mario Lanza</td>\n",
       "      <td>pop</td>\n",
       "      <td>Saint-Petersburg</td>\n",
       "      <td>20:58:07</td>\n",
       "      <td>Wednesday</td>\n",
       "    </tr>\n",
       "    <tr>\n",
       "      <td>3</td>\n",
       "      <td>A3DD03C9</td>\n",
       "      <td>Dragons in the Sunset</td>\n",
       "      <td>Fire + Ice</td>\n",
       "      <td>folk</td>\n",
       "      <td>Saint-Petersburg</td>\n",
       "      <td>08:37:09</td>\n",
       "      <td>Monday</td>\n",
       "    </tr>\n",
       "    <tr>\n",
       "      <td>4</td>\n",
       "      <td>E2DC1FAE</td>\n",
       "      <td>Soul People</td>\n",
       "      <td>Space Echo</td>\n",
       "      <td>dance</td>\n",
       "      <td>Moscow</td>\n",
       "      <td>08:34:34</td>\n",
       "      <td>Monday</td>\n",
       "    </tr>\n",
       "    <tr>\n",
       "      <td>5</td>\n",
       "      <td>842029A1</td>\n",
       "      <td>Преданная</td>\n",
       "      <td>IMPERVTOR</td>\n",
       "      <td>rusrap</td>\n",
       "      <td>Saint-Petersburg</td>\n",
       "      <td>13:09:41</td>\n",
       "      <td>Friday</td>\n",
       "    </tr>\n",
       "    <tr>\n",
       "      <td>6</td>\n",
       "      <td>4CB90AA5</td>\n",
       "      <td>True</td>\n",
       "      <td>Roman Messer</td>\n",
       "      <td>dance</td>\n",
       "      <td>Moscow</td>\n",
       "      <td>13:00:07</td>\n",
       "      <td>Wednesday</td>\n",
       "    </tr>\n",
       "    <tr>\n",
       "      <td>7</td>\n",
       "      <td>F03E1C1F</td>\n",
       "      <td>Feeling This Way</td>\n",
       "      <td>Polina Griffith</td>\n",
       "      <td>dance</td>\n",
       "      <td>Moscow</td>\n",
       "      <td>20:47:49</td>\n",
       "      <td>Wednesday</td>\n",
       "    </tr>\n",
       "    <tr>\n",
       "      <td>8</td>\n",
       "      <td>8FA1D3BE</td>\n",
       "      <td>И вновь продолжается бой</td>\n",
       "      <td>NaN</td>\n",
       "      <td>ruspop</td>\n",
       "      <td>Moscow</td>\n",
       "      <td>09:17:40</td>\n",
       "      <td>Friday</td>\n",
       "    </tr>\n",
       "    <tr>\n",
       "      <td>9</td>\n",
       "      <td>E772D5C0</td>\n",
       "      <td>Pessimist</td>\n",
       "      <td>NaN</td>\n",
       "      <td>dance</td>\n",
       "      <td>Saint-Petersburg</td>\n",
       "      <td>21:20:49</td>\n",
       "      <td>Wednesday</td>\n",
       "    </tr>\n",
       "  </tbody>\n",
       "</table>\n",
       "</div>"
      ],
      "text/plain": [
       "     userID                        Track            artist   genre  \\\n",
       "0  FFB692EC            Kamigata To Boots  The Mass Missile    rock   \n",
       "1  55204538  Delayed Because of Accident  Andreas Rönnberg    rock   \n",
       "2    20EC38            Funiculì funiculà       Mario Lanza     pop   \n",
       "3  A3DD03C9        Dragons in the Sunset        Fire + Ice    folk   \n",
       "4  E2DC1FAE                  Soul People        Space Echo   dance   \n",
       "5  842029A1                    Преданная         IMPERVTOR  rusrap   \n",
       "6  4CB90AA5                         True      Roman Messer   dance   \n",
       "7  F03E1C1F             Feeling This Way   Polina Griffith   dance   \n",
       "8  8FA1D3BE     И вновь продолжается бой               NaN  ruspop   \n",
       "9  E772D5C0                    Pessimist               NaN   dance   \n",
       "\n",
       "             City        time        Day  \n",
       "0  Saint-Petersburg  20:28:33  Wednesday  \n",
       "1            Moscow  14:07:09     Friday  \n",
       "2  Saint-Petersburg  20:58:07  Wednesday  \n",
       "3  Saint-Petersburg  08:37:09     Monday  \n",
       "4            Moscow  08:34:34     Monday  \n",
       "5  Saint-Petersburg  13:09:41     Friday  \n",
       "6            Moscow  13:00:07  Wednesday  \n",
       "7            Moscow  20:47:49  Wednesday  \n",
       "8            Moscow  09:17:40     Friday  \n",
       "9  Saint-Petersburg  21:20:49  Wednesday  "
      ]
     },
     "execution_count": 28,
     "metadata": {},
     "output_type": "execute_result"
    }
   ],
   "source": [
    "# получение первых 10 строк таблицы df\n",
    "df.head(10)"
   ]
  },
  {
   "cell_type": "markdown",
   "metadata": {
    "id": "EO73Kwic_Zct"
   },
   "source": [
    "Одной командой получить общую информацию о таблице:"
   ]
  },
  {
   "cell_type": "code",
   "execution_count": 29,
   "metadata": {
    "id": "DSf2kIb-_Zct",
    "scrolled": true
   },
   "outputs": [
    {
     "name": "stdout",
     "output_type": "stream",
     "text": [
      "<class 'pandas.core.frame.DataFrame'>\n",
      "RangeIndex: 65079 entries, 0 to 65078\n",
      "Data columns (total 7 columns):\n",
      "  userID    65079 non-null object\n",
      "Track       63848 non-null object\n",
      "artist      57876 non-null object\n",
      "genre       63881 non-null object\n",
      "  City      65079 non-null object\n",
      "time        65079 non-null object\n",
      "Day         65079 non-null object\n",
      "dtypes: object(7)\n",
      "memory usage: 3.5+ MB\n"
     ]
    }
   ],
   "source": [
    "# получение общей информации о данных в таблице df\n",
    "df.info()"
   ]
  },
  {
   "cell_type": "markdown",
   "metadata": {
    "id": "TaQ2Iwbr_Zct"
   },
   "source": [
    "Итак, в таблице семь столбцов. Тип данных во всех столбцах — `object`.\n",
    "\n",
    "Согласно документации к данным:\n",
    "* `userID` — идентификатор пользователя;\n",
    "* `Track` — название трека;  \n",
    "* `artist` — имя исполнителя;\n",
    "* `genre` — название жанра;\n",
    "* `City` — город пользователя;\n",
    "* `time` — время начала прослушивания;\n",
    "* `Day` — день недели.\n",
    "\n",
    "В названиях колонок видны три нарушения стиля:\n",
    "1. Строчные буквы сочетаются с прописными.\n",
    "2. Встречаются пробелы.\n",
    "3. Нет змеиного регистра\n",
    "\n",
    "\n",
    "\n",
    "\n",
    "Количество значений в столбцах различается. Значит, в данных есть пропущенные значения.\n"
   ]
  },
  {
   "cell_type": "markdown",
   "metadata": {
    "id": "MCB6-dXG_Zct"
   },
   "source": [
    "### **Выводы**\n",
    "\n",
    "В каждой строке таблицы — данные о прослушанном треке. Часть колонок описывает саму композицию: название, исполнителя и жанр. Остальные данные рассказывают о пользователе: из какого он города, когда он слушал музыку. \n",
    "\n",
    "Предварительно можно утверждать, что, данных достаточно для проверки гипотез. Но встречаются пропуски в данных, а в названиях колонок — расхождения с хорошим стилем.\n",
    "\n",
    "Чтобы двигаться дальше, нужно устранить проблемы в данных."
   ]
  },
  {
   "cell_type": "markdown",
   "metadata": {
    "id": "SjYF6Ub9_Zct"
   },
   "source": [
    "## Предобработка данных\n",
    "Исправьте стиль в заголовках столбцов, исключите пропуски. Затем проверьте данные на дубликаты."
   ]
  },
  {
   "cell_type": "markdown",
   "metadata": {
    "id": "dIaKXr29_Zct"
   },
   "source": [
    "### Стиль заголовков\n",
    "Выведите на экран названия столбцов:"
   ]
  },
  {
   "cell_type": "code",
   "execution_count": 30,
   "metadata": {
    "id": "oKOTdF_Q_Zct",
    "scrolled": true
   },
   "outputs": [
    {
     "data": {
      "text/plain": [
       "Index(['  userID', 'Track', 'artist', 'genre', '  City  ', 'time', 'Day'], dtype='object')"
      ]
     },
     "execution_count": 30,
     "metadata": {},
     "output_type": "execute_result"
    }
   ],
   "source": [
    "# перечень названий столбцов таблицы df\n",
    "df.columns"
   ]
  },
  {
   "cell_type": "markdown",
   "metadata": {
    "id": "zj5534cv_Zct"
   },
   "source": [
    "Приведите названия в соответствие с хорошим стилем:\n",
    "* несколько слов в названии запишите в «змеином_регистре»,\n",
    "* все символы сделайте строчными,\n",
    "* устраните пробелы.\n",
    "\n",
    "Для этого переименуйте колонки так:\n",
    "* `'  userID'` → `'user_id'`;\n",
    "* `'Track'` → `'track'`;\n",
    "* `'  City  '` → `'city'`;\n",
    "* `'Day'` → `'day'`."
   ]
  },
  {
   "cell_type": "code",
   "execution_count": 31,
   "metadata": {
    "id": "ISlFqs5y_Zct"
   },
   "outputs": [],
   "source": [
    "# переименование столбцов\n",
    "columns_to_rename = [df.columns[0], df.columns[1], df.columns[4], df.columns[-1]]\n",
    "columns_new = ['user_id', 'track', 'city', 'day']\n",
    "\n",
    "for i in range(len(columns_to_rename)):\n",
    "    df = df.rename(columns={columns_to_rename[i]:columns_new[i]})"
   ]
  },
  {
   "cell_type": "markdown",
   "metadata": {
    "id": "1dqbh00J_Zct"
   },
   "source": [
    "Проверьте результат. Для этого ещё раз выведите на экран названия столбцов:"
   ]
  },
  {
   "cell_type": "code",
   "execution_count": 32,
   "metadata": {
    "id": "d4NOAmTW_Zct",
    "scrolled": true
   },
   "outputs": [
    {
     "data": {
      "text/plain": [
       "Index(['user_id', 'track', 'artist', 'genre', 'city', 'time', 'day'], dtype='object')"
      ]
     },
     "execution_count": 32,
     "metadata": {},
     "output_type": "execute_result"
    }
   ],
   "source": [
    "# проверка результатов - перечень названий столбцов\n",
    "df.columns"
   ]
  },
  {
   "cell_type": "markdown",
   "metadata": {
    "id": "5ISfbcfY_Zct"
   },
   "source": [
    "### Пропуски значений\n",
    "Сначала посчитайте, сколько в таблице пропущенных значений. Для этого достаточно двух методов `pandas`:"
   ]
  },
  {
   "cell_type": "code",
   "execution_count": 33,
   "metadata": {
    "id": "RskX29qr_Zct"
   },
   "outputs": [
    {
     "data": {
      "text/plain": [
       "user_id       0\n",
       "track      1231\n",
       "artist     7203\n",
       "genre      1198\n",
       "city          0\n",
       "time          0\n",
       "day           0\n",
       "dtype: int64"
      ]
     },
     "execution_count": 33,
     "metadata": {},
     "output_type": "execute_result"
    }
   ],
   "source": [
    "# подсчёт пропусков\n",
    "df.isna().sum()"
   ]
  },
  {
   "cell_type": "markdown",
   "metadata": {
    "id": "qubhgnlO_Zct"
   },
   "source": [
    "Не все пропущенные значения влияют на исследование. Так в `track` и `artist` пропуски не важны для вашей работы. Достаточно заменить их явными обозначениями.\n",
    "\n",
    "Но пропуски в `genre` могут помешать сравнению музыкальных вкусов в Москве и Санкт-Петербурге. На практике было бы правильно установить причину пропусков и восстановить данные. Такой возможности нет в учебном проекте. Придётся:\n",
    "* заполнить и эти пропуски явными обозначениями,\n",
    "* оценить, насколько они повредят расчётам. "
   ]
  },
  {
   "cell_type": "markdown",
   "metadata": {
    "id": "fSv2laPA_Zct"
   },
   "source": [
    "Замените пропущенные значения в столбцах `track`, `artist` и `genre` на строку `'unknown'`. Для этого создайте список `columns_to_replace`, переберите его элементы циклом `for` и для каждого столбца выполните замену пропущенных значений:"
   ]
  },
  {
   "cell_type": "code",
   "execution_count": 34,
   "metadata": {
    "id": "KplB5qWs_Zct"
   },
   "outputs": [],
   "source": [
    "# перебор названий столбцов в цикле и замена пропущенных значений на 'unknown'\n",
    "columns_to_replace = ['track', 'artist', 'genre']\n",
    "for col in columns_to_replace:\n",
    "    df[col] = df[col].fillna('unknown')"
   ]
  },
  {
   "cell_type": "markdown",
   "metadata": {
    "id": "Ilsm-MZo_Zct"
   },
   "source": [
    "Убедитесь, что в таблице не осталось пропусков. Для этого ещё раз посчитайте пропущенные значения."
   ]
  },
  {
   "cell_type": "code",
   "execution_count": 35,
   "metadata": {
    "id": "Tq4nYRX4_Zct"
   },
   "outputs": [
    {
     "data": {
      "text/plain": [
       "user_id    0\n",
       "track      0\n",
       "artist     0\n",
       "genre      0\n",
       "city       0\n",
       "time       0\n",
       "day        0\n",
       "dtype: int64"
      ]
     },
     "execution_count": 35,
     "metadata": {},
     "output_type": "execute_result"
    }
   ],
   "source": [
    "# подсчёт пропусков\n",
    "df.isna().sum()"
   ]
  },
  {
   "cell_type": "markdown",
   "metadata": {
    "id": "BWKRtBJ3_Zct"
   },
   "source": [
    "### Дубликаты\n",
    "Посчитайте явные дубликаты в таблице одной командой:"
   ]
  },
  {
   "cell_type": "code",
   "execution_count": 36,
   "metadata": {
    "id": "36eES_S0_Zct"
   },
   "outputs": [
    {
     "data": {
      "text/plain": [
       "3826"
      ]
     },
     "execution_count": 36,
     "metadata": {},
     "output_type": "execute_result"
    }
   ],
   "source": [
    "# подсчёт явных дубликатов\n",
    "df.duplicated().sum()"
   ]
  },
  {
   "cell_type": "markdown",
   "metadata": {
    "id": "Ot25h6XR_Zct"
   },
   "source": [
    "Вызовите специальный метод `pandas`, чтобы удалить явные дубликаты:"
   ]
  },
  {
   "cell_type": "code",
   "execution_count": 37,
   "metadata": {
    "id": "exFHq6tt_Zct"
   },
   "outputs": [],
   "source": [
    "# удаление явных дубликатов (с удалением старых индексов и формированием новых)\n",
    "df = df.drop_duplicates().reset_index(drop=True)"
   ]
  },
  {
   "cell_type": "markdown",
   "metadata": {
    "id": "Im2YwBEG_Zct"
   },
   "source": [
    "Ещё раз посчитайте явные дубликаты в таблице — убедитесь, что полностью от них избавились:"
   ]
  },
  {
   "cell_type": "code",
   "execution_count": 38,
   "metadata": {
    "id": "-8PuNWQ0_Zct"
   },
   "outputs": [
    {
     "data": {
      "text/plain": [
       "0"
      ]
     },
     "execution_count": 38,
     "metadata": {},
     "output_type": "execute_result"
    }
   ],
   "source": [
    "# проверка на отсутствие дубликатов\n",
    "df.duplicated().sum()"
   ]
  },
  {
   "cell_type": "markdown",
   "metadata": {
    "id": "QlFBsxAr_Zct"
   },
   "source": [
    "Теперь избавьтесь от неявных дубликатов в колонке `genre`. Например, название одного и того же жанра может быть записано немного по-разному. Такие ошибки тоже повлияют на результат исследования."
   ]
  },
  {
   "cell_type": "markdown",
   "metadata": {
    "id": "eSjWwsOh_Zct"
   },
   "source": [
    "Выведите на экран список уникальных названий жанров, отсортированный в алфавитном порядке. Для этого:\n",
    "* извлеките нужный столбец датафрейма, \n",
    "* примените к нему метод сортировки,\n",
    "* для отсортированного столбца вызовите метод, который вернёт уникальные значения из столбца."
   ]
  },
  {
   "cell_type": "code",
   "execution_count": 39,
   "metadata": {
    "id": "JIUcqzZN_Zct",
    "scrolled": true
   },
   "outputs": [
    {
     "name": "stdout",
     "output_type": "stream",
     "text": [
      "['acid' 'acoustic' 'action' 'adult' 'africa' 'afrikaans' 'alternative'\n",
      " 'alternativepunk' 'ambient' 'americana' 'animated' 'anime' 'arabesk'\n",
      " 'arabic' 'arena' 'argentinetango' 'art' 'audiobook' 'author' 'avantgarde'\n",
      " 'axé' 'baile' 'balkan' 'beats' 'bigroom' 'black' 'bluegrass' 'blues'\n",
      " 'bollywood' 'bossa' 'brazilian' 'breakbeat' 'breaks' 'broadway'\n",
      " 'cantautori' 'cantopop' 'canzone' 'caribbean' 'caucasian' 'celtic'\n",
      " 'chamber' 'chanson' 'children' 'chill' 'chinese' 'choral' 'christian'\n",
      " 'christmas' 'classical' 'classicmetal' 'club' 'colombian' 'comedy'\n",
      " 'conjazz' 'contemporary' 'country' 'cuban' 'dance' 'dancehall' 'dancepop'\n",
      " 'dark' 'death' 'deep' 'deutschrock' 'deutschspr' 'dirty' 'disco' 'dnb'\n",
      " 'documentary' 'downbeat' 'downtempo' 'drum' 'dub' 'dubstep' 'eastern'\n",
      " 'easy' 'electronic' 'electropop' 'emo' 'entehno' 'epicmetal' 'estrada'\n",
      " 'ethnic' 'eurofolk' 'european' 'experimental' 'extrememetal' 'fado'\n",
      " 'fairytail' 'film' 'fitness' 'flamenco' 'folk' 'folklore' 'folkmetal'\n",
      " 'folkrock' 'folktronica' 'forró' 'frankreich' 'französisch' 'french'\n",
      " 'funk' 'future' 'gangsta' 'garage' 'german' 'ghazal' 'gitarre' 'glitch'\n",
      " 'gospel' 'gothic' 'grime' 'grunge' 'gypsy' 'handsup' \"hard'n'heavy\"\n",
      " 'hardcore' 'hardstyle' 'hardtechno' 'hip' 'hip-hop' 'hiphop' 'historisch'\n",
      " 'holiday' 'hop' 'horror' 'house' 'hymn' 'idm' 'independent' 'indian'\n",
      " 'indie' 'indipop' 'industrial' 'inspirational' 'instrumental'\n",
      " 'international' 'irish' 'jam' 'japanese' 'jazz' 'jewish' 'jpop' 'jungle'\n",
      " 'k-pop' 'karadeniz' 'karaoke' 'kayokyoku' 'korean' 'laiko' 'latin'\n",
      " 'latino' 'leftfield' 'local' 'lounge' 'loungeelectronic' 'lovers'\n",
      " 'malaysian' 'mandopop' 'marschmusik' 'meditative' 'mediterranean'\n",
      " 'melodic' 'metal' 'metalcore' 'mexican' 'middle' 'minimal'\n",
      " 'miscellaneous' 'modern' 'mood' 'mpb' 'muslim' 'native' 'neoklassik'\n",
      " 'neue' 'new' 'newage' 'newwave' 'nu' 'nujazz' 'numetal' 'oceania' 'old'\n",
      " 'opera' 'orchestral' 'other' 'piano' 'podcasts' 'pop' 'popdance'\n",
      " 'popelectronic' 'popeurodance' 'poprussian' 'post' 'posthardcore'\n",
      " 'postrock' 'power' 'progmetal' 'progressive' 'psychedelic' 'punjabi'\n",
      " 'punk' 'quebecois' 'ragga' 'ram' 'rancheras' 'rap' 'rave' 'reggae'\n",
      " 'reggaeton' 'regional' 'relax' 'religious' 'retro' 'rhythm' 'rnb' 'rnr'\n",
      " 'rock' 'rockabilly' 'rockalternative' 'rockindie' 'rockother' 'romance'\n",
      " 'roots' 'ruspop' 'rusrap' 'rusrock' 'russian' 'salsa' 'samba' 'scenic'\n",
      " 'schlager' 'self' 'sertanejo' 'shanson' 'shoegazing' 'showtunes' 'singer'\n",
      " 'ska' 'skarock' 'slow' 'smooth' 'soft' 'soul' 'soulful' 'sound'\n",
      " 'soundtrack' 'southern' 'specialty' 'speech' 'spiritual' 'sport'\n",
      " 'stonerrock' 'surf' 'swing' 'synthpop' 'synthrock' 'sängerportrait'\n",
      " 'tango' 'tanzorchester' 'taraftar' 'tatar' 'tech' 'techno' 'teen'\n",
      " 'thrash' 'top' 'traditional' 'tradjazz' 'trance' 'tribal' 'trip'\n",
      " 'triphop' 'tropical' 'türk' 'türkçe' 'ukrrock' 'unknown' 'urban' 'uzbek'\n",
      " 'variété' 'vi' 'videogame' 'vocal' 'western' 'world' 'worldbeat' 'ïîï'\n",
      " 'электроника']\n"
     ]
    }
   ],
   "source": [
    "# Просмотр уникальных названий жанров\n",
    "genre_unique = df['genre'].sort_values().unique()\n",
    "print(genre_unique)"
   ]
  },
  {
   "cell_type": "markdown",
   "metadata": {
    "id": "qej-Qmuo_Zct"
   },
   "source": [
    "Просмотрите список и найдите неявные дубликаты названия `hiphop`. Это могут быть названия с ошибками или альтернативные названия того же жанра.\n",
    "\n",
    "Вы увидите следующие неявные дубликаты:\n",
    "* *hip*,\n",
    "* *hop*,\n",
    "* *hip-hop*.\n",
    "\n",
    "Чтобы очистить от них таблицу, напишите функцию `replace_wrong_genres()` с двумя параметрами: \n",
    "* `wrong_genres` — список дубликатов,\n",
    "* `correct_genre` — строка с правильным значением.\n",
    "\n",
    "Функция должна исправить колонку `genre` в таблице `df`: заменить каждое значение из списка `wrong_genres` на значение из `correct_genre`."
   ]
  },
  {
   "cell_type": "code",
   "execution_count": 40,
   "metadata": {
    "id": "ErNDkmns_Zct"
   },
   "outputs": [],
   "source": [
    "# Функция для замены неявных дубликатов\n",
    "def replace_wrong_genres(wrong_genres,correct_genre):\n",
    "    for wrong_genre in wrong_genres:\n",
    "        df['genre'] = df['genre'].replace(wrong_genre, correct_genre)"
   ]
  },
  {
   "cell_type": "markdown",
   "metadata": {
    "id": "aDoBJxbA_Zct"
   },
   "source": [
    "Вызовите `replace_wrong_genres()` и передайте ей такие аргументы, чтобы она устранила неявные дубликаты: вместо `hip`, `hop` и `hip-hop` в таблице должно быть значение `hiphop`:"
   ]
  },
  {
   "cell_type": "code",
   "execution_count": 41,
   "metadata": {
    "id": "YN5i2hpmSo09"
   },
   "outputs": [],
   "source": [
    "# Устранение неявных дубликатов\n",
    "wrong_genres = ['hip', 'hop', 'hip-hop']\n",
    "correct_genre = 'hiphop'\n",
    "replace_wrong_genres(wrong_genres,correct_genre)"
   ]
  },
  {
   "cell_type": "markdown",
   "metadata": {
    "id": "zQKF16_RG15m"
   },
   "source": [
    "Проверьте, что заменили неправильные названия:\n",
    "\n",
    "*   hip\n",
    "*   hop\n",
    "*   hip-hop\n",
    "\n",
    "Выведите отсортированный список уникальных значений столбца `genre`:"
   ]
  },
  {
   "cell_type": "code",
   "execution_count": 42,
   "metadata": {
    "id": "wvixALnFG15m",
    "scrolled": true
   },
   "outputs": [
    {
     "data": {
      "text/plain": [
       "array(['acid', 'acoustic', 'action', 'adult', 'africa', 'afrikaans',\n",
       "       'alternative', 'alternativepunk', 'ambient', 'americana',\n",
       "       'animated', 'anime', 'arabesk', 'arabic', 'arena',\n",
       "       'argentinetango', 'art', 'audiobook', 'author', 'avantgarde',\n",
       "       'axé', 'baile', 'balkan', 'beats', 'bigroom', 'black', 'bluegrass',\n",
       "       'blues', 'bollywood', 'bossa', 'brazilian', 'breakbeat', 'breaks',\n",
       "       'broadway', 'cantautori', 'cantopop', 'canzone', 'caribbean',\n",
       "       'caucasian', 'celtic', 'chamber', 'chanson', 'children', 'chill',\n",
       "       'chinese', 'choral', 'christian', 'christmas', 'classical',\n",
       "       'classicmetal', 'club', 'colombian', 'comedy', 'conjazz',\n",
       "       'contemporary', 'country', 'cuban', 'dance', 'dancehall',\n",
       "       'dancepop', 'dark', 'death', 'deep', 'deutschrock', 'deutschspr',\n",
       "       'dirty', 'disco', 'dnb', 'documentary', 'downbeat', 'downtempo',\n",
       "       'drum', 'dub', 'dubstep', 'eastern', 'easy', 'electronic',\n",
       "       'electropop', 'emo', 'entehno', 'epicmetal', 'estrada', 'ethnic',\n",
       "       'eurofolk', 'european', 'experimental', 'extrememetal', 'fado',\n",
       "       'fairytail', 'film', 'fitness', 'flamenco', 'folk', 'folklore',\n",
       "       'folkmetal', 'folkrock', 'folktronica', 'forró', 'frankreich',\n",
       "       'französisch', 'french', 'funk', 'future', 'gangsta', 'garage',\n",
       "       'german', 'ghazal', 'gitarre', 'glitch', 'gospel', 'gothic',\n",
       "       'grime', 'grunge', 'gypsy', 'handsup', \"hard'n'heavy\", 'hardcore',\n",
       "       'hardstyle', 'hardtechno', 'hiphop', 'historisch', 'holiday',\n",
       "       'horror', 'house', 'hymn', 'idm', 'independent', 'indian', 'indie',\n",
       "       'indipop', 'industrial', 'inspirational', 'instrumental',\n",
       "       'international', 'irish', 'jam', 'japanese', 'jazz', 'jewish',\n",
       "       'jpop', 'jungle', 'k-pop', 'karadeniz', 'karaoke', 'kayokyoku',\n",
       "       'korean', 'laiko', 'latin', 'latino', 'leftfield', 'local',\n",
       "       'lounge', 'loungeelectronic', 'lovers', 'malaysian', 'mandopop',\n",
       "       'marschmusik', 'meditative', 'mediterranean', 'melodic', 'metal',\n",
       "       'metalcore', 'mexican', 'middle', 'minimal', 'miscellaneous',\n",
       "       'modern', 'mood', 'mpb', 'muslim', 'native', 'neoklassik', 'neue',\n",
       "       'new', 'newage', 'newwave', 'nu', 'nujazz', 'numetal', 'oceania',\n",
       "       'old', 'opera', 'orchestral', 'other', 'piano', 'podcasts', 'pop',\n",
       "       'popdance', 'popelectronic', 'popeurodance', 'poprussian', 'post',\n",
       "       'posthardcore', 'postrock', 'power', 'progmetal', 'progressive',\n",
       "       'psychedelic', 'punjabi', 'punk', 'quebecois', 'ragga', 'ram',\n",
       "       'rancheras', 'rap', 'rave', 'reggae', 'reggaeton', 'regional',\n",
       "       'relax', 'religious', 'retro', 'rhythm', 'rnb', 'rnr', 'rock',\n",
       "       'rockabilly', 'rockalternative', 'rockindie', 'rockother',\n",
       "       'romance', 'roots', 'ruspop', 'rusrap', 'rusrock', 'russian',\n",
       "       'salsa', 'samba', 'scenic', 'schlager', 'self', 'sertanejo',\n",
       "       'shanson', 'shoegazing', 'showtunes', 'singer', 'ska', 'skarock',\n",
       "       'slow', 'smooth', 'soft', 'soul', 'soulful', 'sound', 'soundtrack',\n",
       "       'southern', 'specialty', 'speech', 'spiritual', 'sport',\n",
       "       'stonerrock', 'surf', 'swing', 'synthpop', 'synthrock',\n",
       "       'sängerportrait', 'tango', 'tanzorchester', 'taraftar', 'tatar',\n",
       "       'tech', 'techno', 'teen', 'thrash', 'top', 'traditional',\n",
       "       'tradjazz', 'trance', 'tribal', 'trip', 'triphop', 'tropical',\n",
       "       'türk', 'türkçe', 'ukrrock', 'unknown', 'urban', 'uzbek',\n",
       "       'variété', 'vi', 'videogame', 'vocal', 'western', 'world',\n",
       "       'worldbeat', 'ïîï', 'электроника'], dtype=object)"
      ]
     },
     "execution_count": 42,
     "metadata": {},
     "output_type": "execute_result"
    }
   ],
   "source": [
    "# Проверка на неявные дубликаты\n",
    "df['genre'].sort_values().unique()"
   ]
  },
  {
   "cell_type": "markdown",
   "metadata": {
    "id": "jz6a9-7HQUDd"
   },
   "source": [
    "**Выводы**\n",
    "\n",
    "Предобработка обнаружила три проблемы в данных:\n",
    "\n",
    "- нарушения в стиле заголовков,\n",
    "- пропущенные значения,\n",
    "- дубликаты — явные и неявные.\n",
    "\n",
    "Вы исправили заголовки, чтобы упростить работу с таблицей. Без дубликатов исследование станет более точным.\n",
    "\n",
    "Пропущенные значения вы заменили на `'unknown'`. Ещё предстоит увидеть, не повредят ли исследованию пропуски в колонке `genre`.\n",
    "\n",
    "Теперь можно перейти к проверке гипотез. "
   ]
  },
  {
   "cell_type": "markdown",
   "metadata": {
    "id": "WttZHXH0SqKk"
   },
   "source": [
    "## Проверка гипотез"
   ]
  },
  {
   "cell_type": "markdown",
   "metadata": {
    "id": "Im936VVi_Zcu"
   },
   "source": [
    "### Сравнение поведения пользователей двух столиц"
   ]
  },
  {
   "cell_type": "markdown",
   "metadata": {
    "id": "nwt_MuaL_Zcu"
   },
   "source": [
    "Первая гипотеза утверждает, что пользователи по-разному слушают музыку в Москве и Санкт-Петербурге. Проверьте это предположение по данным о трёх днях недели — понедельнике, среде и пятнице. Для этого:\n",
    "\n",
    "* Разделите пользователей Москвы и Санкт-Петербурга\n",
    "* Сравните, сколько треков послушала каждая группа пользователей в понедельник, среду и пятницу.\n"
   ]
  },
  {
   "cell_type": "markdown",
   "metadata": {
    "id": "8Dw_YMmT_Zcu"
   },
   "source": [
    "Для тренировки сначала выполните каждый из расчётов по отдельности. \n",
    "\n",
    "Оцените активность пользователей в каждом городе. Сгруппируйте данные по городу и посчитайте прослушивания в каждой группе.\n",
    "\n"
   ]
  },
  {
   "cell_type": "code",
   "execution_count": 43,
   "metadata": {
    "id": "0_Qs96oh_Zcu"
   },
   "outputs": [
    {
     "data": {
      "text/plain": [
       "city\n",
       "Moscow              42741\n",
       "Saint-Petersburg    18512\n",
       "Name: user_id, dtype: int64"
      ]
     },
     "execution_count": 43,
     "metadata": {},
     "output_type": "execute_result"
    }
   ],
   "source": [
    "# Подсчёт прослушиваний в каждом городе\n",
    "df.groupby('city')['user_id'].count()"
   ]
  },
  {
   "cell_type": "markdown",
   "metadata": {
    "id": "dzli3w8o_Zcu"
   },
   "source": [
    "В Москве прослушиваний больше, чем в Петербурге. Из этого не следует, что московские пользователи чаще слушают музыку. Просто самих пользователей в Москве больше.\n",
    "\n",
    "Теперь сгруппируйте данные по дню недели и подсчитайте прослушивания в понедельник, среду и пятницу. Учтите, что в данных есть информация только о прослушиваниях только за эти дни.\n"
   ]
  },
  {
   "cell_type": "code",
   "execution_count": 44,
   "metadata": {
    "id": "uZMKjiJz_Zcu",
    "scrolled": true
   },
   "outputs": [
    {
     "data": {
      "text/plain": [
       "day\n",
       "Friday       21840\n",
       "Monday       21354\n",
       "Wednesday    18059\n",
       "Name: user_id, dtype: int64"
      ]
     },
     "execution_count": 44,
     "metadata": {},
     "output_type": "execute_result"
    }
   ],
   "source": [
    "# Подсчёт прослушиваний в каждый из трёх дней\n",
    "df.groupby('day')['user_id'].count()"
   ]
  },
  {
   "cell_type": "markdown",
   "metadata": {
    "id": "cC2tNrlL_Zcu"
   },
   "source": [
    "В среднем пользователи из двух городов менее активны по средам. Но картина может измениться, если рассмотреть каждый город в отдельности."
   ]
  },
  {
   "cell_type": "markdown",
   "metadata": {
    "id": "POzs8bGa_Zcu"
   },
   "source": [
    "Вы видели, как работает группировка по городу и по дням недели. Теперь напишите функцию, которая объединит два эти расчёта.\n",
    "\n",
    "Создайте функцию `number_tracks()`, которая посчитает прослушивания для заданного дня и города. Ей понадобятся два параметра:\n",
    "* день недели,\n",
    "* название города.\n",
    "\n",
    "В функции сохраните в переменную строки исходной таблицы, у которых значение:\n",
    "  * в колонке `day` равно параметру `day`,\n",
    "  * в колонке `city` равно параметру `city`.\n",
    "\n",
    "Для этого примените последовательную фильтрацию с логической индексацией.\n",
    "\n",
    "Затем посчитайте значения в столбце `user_id` получившейся таблицы. Результат сохраните в новую переменную. Верните эту переменную из функции."
   ]
  },
  {
   "cell_type": "code",
   "execution_count": 45,
   "metadata": {
    "id": "Nz3GdQB1_Zcu"
   },
   "outputs": [],
   "source": [
    "# <создание функции number_tracks()>\n",
    "# Объявляется функция с двумя параметрами: day, city.\n",
    "# В переменной track_list сохраняются те строки таблицы df, для которых \n",
    "# значение в столбце 'day' равно параметру day и одновременно значение\n",
    "# в столбце 'city' равно параметру city (используйте последовательную фильтрацию\n",
    "# с помощью логической индексации).\n",
    "# В переменной track_list_count сохраняется число значений столбца 'user_id',\n",
    "# рассчитанное методом count() для таблицы track_list.\n",
    "# Функция возвращает число - значение track_list_count.\n",
    "\n",
    "def number_tracks(day, city):\n",
    "    track_list = df[(df['day'] == day) & (df['city'] == city)]\n",
    "    track_list_count = track_list['user_id'].count()\n",
    "    return track_list_count\n",
    "\n",
    "# Функция для подсчёта прослушиваний для конкретного города и дня.\n",
    "# С помощью последовательной фильтрации с логической индексацией она \n",
    "# сначала получит из исходной таблицы строки с нужным днём,\n",
    "# затем из результата отфильтрует строки с нужным городом,\n",
    "# методом count() посчитает количество значений в колонке user_id. \n",
    "# Это количество функция вернёт в качестве результата"
   ]
  },
  {
   "cell_type": "code",
   "execution_count": 46,
   "metadata": {},
   "outputs": [],
   "source": [
    "#Введем сокращения для удобства\n",
    "\n",
    "MSK = 'Moscow'\n",
    "SPB = 'Saint-Petersburg'\n",
    "Mon = 'Monday'\n",
    "Wed = 'Wednesday'\n",
    "Fri = 'Friday'"
   ]
  },
  {
   "cell_type": "markdown",
   "metadata": {
    "id": "ytf7xFrFJQ2r"
   },
   "source": [
    "Вызовите `number_tracks()` шесть раз, меняя значение параметров — так, чтобы получить данные для каждого города в каждый из трёх дней."
   ]
  },
  {
   "cell_type": "code",
   "execution_count": 47,
   "metadata": {
    "id": "rJcRATNQ_Zcu"
   },
   "outputs": [],
   "source": [
    "# количество прослушиваний в Москве по понедельникам\n",
    "MM = number_tracks(Mon, MSK)"
   ]
  },
  {
   "cell_type": "code",
   "execution_count": 48,
   "metadata": {
    "id": "hq_ncZ5T_Zcu"
   },
   "outputs": [],
   "source": [
    "# количество прослушиваний в Санкт-Петербурге по понедельникам\n",
    "SM = number_tracks(Mon, SPB)"
   ]
  },
  {
   "cell_type": "code",
   "execution_count": 49,
   "metadata": {
    "id": "_NTy2VPU_Zcu"
   },
   "outputs": [],
   "source": [
    "# количество прослушиваний в Москве по средам\n",
    "MW = number_tracks(Wed, MSK)"
   ]
  },
  {
   "cell_type": "code",
   "execution_count": 50,
   "metadata": {
    "id": "j2y3TAwo_Zcu"
   },
   "outputs": [],
   "source": [
    "# количество прослушиваний в Санкт-Петербурге по средам\n",
    "SW = number_tracks(Wed, SPB)"
   ]
  },
  {
   "cell_type": "code",
   "execution_count": 51,
   "metadata": {
    "id": "vYDw5u_K_Zcu"
   },
   "outputs": [],
   "source": [
    "# количество прослушиваний в Москве по пятницам\n",
    "MF = number_tracks(Fri, MSK)"
   ]
  },
  {
   "cell_type": "code",
   "execution_count": 52,
   "metadata": {
    "id": "8_yzFtW3_Zcu"
   },
   "outputs": [],
   "source": [
    "# количество прослушиваний в Санкт-Петербурге по пятницам\n",
    "SF = number_tracks(Fri, SPB)"
   ]
  },
  {
   "cell_type": "markdown",
   "metadata": {
    "id": "7QXffbO-_Zcu"
   },
   "source": [
    "Создайте c помощью конструктора `pd.DataFrame` таблицу, где\n",
    "* названия колонок — `['city', 'monday', 'wednesday', 'friday']`;\n",
    "* данные — результаты, которые вы получили с помощью `number_tracks`."
   ]
  },
  {
   "cell_type": "code",
   "execution_count": 55,
   "metadata": {
    "id": "APAcLpOr_Zcu"
   },
   "outputs": [
    {
     "data": {
      "text/html": [
       "<div>\n",
       "<style scoped>\n",
       "    .dataframe tbody tr th:only-of-type {\n",
       "        vertical-align: middle;\n",
       "    }\n",
       "\n",
       "    .dataframe tbody tr th {\n",
       "        vertical-align: top;\n",
       "    }\n",
       "\n",
       "    .dataframe thead th {\n",
       "        text-align: right;\n",
       "    }\n",
       "</style>\n",
       "<table border=\"1\" class=\"dataframe\">\n",
       "  <thead>\n",
       "    <tr style=\"text-align: right;\">\n",
       "      <th></th>\n",
       "      <th>city</th>\n",
       "      <th>monday</th>\n",
       "      <th>wednesday</th>\n",
       "      <th>friday</th>\n",
       "    </tr>\n",
       "  </thead>\n",
       "  <tbody>\n",
       "    <tr>\n",
       "      <td>0</td>\n",
       "      <td>Moscow</td>\n",
       "      <td>15740</td>\n",
       "      <td>11056</td>\n",
       "      <td>15945</td>\n",
       "    </tr>\n",
       "    <tr>\n",
       "      <td>1</td>\n",
       "      <td>Saint-Petersburg</td>\n",
       "      <td>5614</td>\n",
       "      <td>7003</td>\n",
       "      <td>5895</td>\n",
       "    </tr>\n",
       "  </tbody>\n",
       "</table>\n",
       "</div>"
      ],
      "text/plain": [
       "               city  monday  wednesday  friday\n",
       "0            Moscow   15740      11056   15945\n",
       "1  Saint-Petersburg    5614       7003    5895"
      ]
     },
     "execution_count": 55,
     "metadata": {},
     "output_type": "execute_result"
    }
   ],
   "source": [
    "# Таблица с результатами\n",
    "columns = ['city', 'monday', 'wednesday', 'friday']\n",
    "data = [[MSK, MM, MW, MF], [SPB, SM, SW, SF]]\n",
    "pd.DataFrame(data = data, columns = columns)"
   ]
  },
  {
   "cell_type": "markdown",
   "metadata": {
    "id": "-EgPIHYu_Zcu"
   },
   "source": [
    "**Выводы**\n",
    "\n",
    "Данные показывают разницу поведения пользователей:\n",
    "\n",
    "- В Москве пик прослушиваний приходится на понедельник и пятницу, а в среду заметен спад.\n",
    "- В Петербурге, наоборот, больше слушают музыку по средам. Активность в понедельник и пятницу здесь почти в равной мере уступает среде.\n",
    "\n",
    "Значит, данные говорят в пользу первой гипотезы."
   ]
  },
  {
   "cell_type": "markdown",
   "metadata": {
    "id": "atZAxtq4_Zcu"
   },
   "source": [
    "### Музыка в начале и в конце недели"
   ]
  },
  {
   "cell_type": "markdown",
   "metadata": {
    "id": "eXrQqXFH_Zcu"
   },
   "source": [
    "Согласно второй гипотезе, утром в понедельник в Москве преобладают одни жанры, а в Петербурге — другие. Так же и вечером пятницы преобладают разные жанры — в зависимости от города."
   ]
  },
  {
   "cell_type": "markdown",
   "metadata": {
    "id": "S8UcW6Hw_Zcu"
   },
   "source": [
    "Сохраните таблицы с данными в две переменные:\n",
    "* по Москве — в `moscow_general`;\n",
    "* по Санкт-Петербургу — в `spb_general`."
   ]
  },
  {
   "cell_type": "code",
   "execution_count": 56,
   "metadata": {
    "id": "qeaFfM_P_Zcu"
   },
   "outputs": [],
   "source": [
    "# получение таблицы moscow_general из тех строк таблицы df, \n",
    "# для которых значение в столбце 'city' равно 'Moscow'\n",
    "moscow_general = df[df['city'] == 'Moscow']"
   ]
  },
  {
   "cell_type": "code",
   "execution_count": 57,
   "metadata": {
    "id": "ORaVRKto_Zcu"
   },
   "outputs": [],
   "source": [
    "# получение таблицы spb_general из тех строк таблицы df,\n",
    "# для которых значение в столбце 'city' равно 'Saint-Petersburg'\n",
    "spb_general = df[df['city'] == 'Saint-Petersburg']"
   ]
  },
  {
   "cell_type": "markdown",
   "metadata": {
    "id": "MEJV-CX2_Zcu"
   },
   "source": [
    "Создайте функцию `genre_weekday()` с четырьмя параметрами:\n",
    "* таблица (датафрейм) с данными,\n",
    "* день недели,\n",
    "* начальная временная метка в формате 'hh:mm', \n",
    "* последняя временная метка в формате 'hh:mm'.\n",
    "\n",
    "Функция должна вернуть информацию о топ-10 жанров тех треков, которые прослушивали в указанный день, в промежутке между двумя отметками времени."
   ]
  },
  {
   "cell_type": "code",
   "execution_count": 60,
   "metadata": {
    "id": "laJT9BYl_Zcu"
   },
   "outputs": [],
   "source": [
    "# Объявление функции genre_weekday() с параметрами table, day, time1, time2,\n",
    "# которая возвращает информацию о самых популярных жанрах в указанный день в\n",
    "# заданное время:\n",
    "# 1) в переменную genre_df сохраняются те строки переданного датафрейма table, для\n",
    "#    которых одновременно:\n",
    "#    - значение в столбце day равно значению аргумента day\n",
    "#    - значение в столбце time больше значения аргумента time1\n",
    "#    - значение в столбце time меньше значения аргумента time2\n",
    "#    Используйте последовательную фильтрацию с помощью логической индексации.\n",
    "# 2) сгруппировать датафрейм genre_df по столбцу genre, взять один из его\n",
    "#    столбцов и посчитать методом count() количество записей для каждого из\n",
    "#    присутствующих жанров, получившийся Series записать в переменную\n",
    "#    genre_df_count\n",
    "# 3) отсортировать genre_df_count по убыванию встречаемости и сохранить\n",
    "#    в переменную genre_df_sorted\n",
    "# 4) вернуть Series из 10 первых значений genre_df_sorted, это будут топ-10\n",
    "#    популярных жанров (в указанный день, в заданное время)\n",
    "\n",
    "def genre_weekday(table, day, time1, time2):\n",
    "    genre_df = table[(table['day'] == day) & (table['time'] > time1) & (table['time'] < time2)]\n",
    "    genre_df_count = genre_df.groupby('genre')['track'].count()\n",
    "    genre_df_sorted = genre_df_count.sort_values(ascending = False)\n",
    "    return genre_df_sorted.head(10)"
   ]
  },
  {
   "cell_type": "markdown",
   "metadata": {
    "id": "la2s2_PF_Zcu"
   },
   "source": [
    "Cравните результаты функции `genre_weekday()` для Москвы и Санкт-Петербурга в понедельник утром (с 7:00 до 11:00) и в пятницу вечером (с 17:00 до 23:00):"
   ]
  },
  {
   "cell_type": "code",
   "execution_count": 61,
   "metadata": {
    "id": "yz7itPUQ_Zcu"
   },
   "outputs": [
    {
     "data": {
      "text/plain": [
       "genre\n",
       "pop            781\n",
       "dance          549\n",
       "electronic     480\n",
       "rock           474\n",
       "hiphop         286\n",
       "ruspop         186\n",
       "world          181\n",
       "rusrap         175\n",
       "alternative    164\n",
       "unknown        161\n",
       "Name: track, dtype: int64"
      ]
     },
     "execution_count": 61,
     "metadata": {},
     "output_type": "execute_result"
    }
   ],
   "source": [
    "# вызов функции для утра понедельника в Москве (вместо df — таблица moscow_general)\n",
    "# объекты, хранящие время, являются строками и сравниваются как строки\n",
    "# пример вызова: genre_weekday(moscow_general, 'Monday', '07:00', '11:00')\n",
    "genre_weekday(moscow_general, 'Monday', '07:00', '11:00')"
   ]
  },
  {
   "cell_type": "code",
   "execution_count": 62,
   "metadata": {
    "id": "kwUcHPdy_Zcu"
   },
   "outputs": [
    {
     "data": {
      "text/plain": [
       "genre\n",
       "pop            218\n",
       "dance          182\n",
       "rock           162\n",
       "electronic     147\n",
       "hiphop          80\n",
       "ruspop          64\n",
       "alternative     58\n",
       "rusrap          55\n",
       "jazz            44\n",
       "classical       40\n",
       "Name: track, dtype: int64"
      ]
     },
     "execution_count": 62,
     "metadata": {},
     "output_type": "execute_result"
    }
   ],
   "source": [
    "# вызов функции для утра понедельника в Петербурге (вместо df — таблица spb_general)\n",
    "genre_weekday(spb_general, 'Monday', '07:00', '11:00')"
   ]
  },
  {
   "cell_type": "code",
   "execution_count": 63,
   "metadata": {
    "id": "EzXVRE1o_Zcu"
   },
   "outputs": [
    {
     "data": {
      "text/plain": [
       "genre\n",
       "pop            713\n",
       "rock           517\n",
       "dance          495\n",
       "electronic     482\n",
       "hiphop         273\n",
       "world          208\n",
       "ruspop         170\n",
       "alternative    163\n",
       "classical      163\n",
       "rusrap         142\n",
       "Name: track, dtype: int64"
      ]
     },
     "execution_count": 63,
     "metadata": {},
     "output_type": "execute_result"
    }
   ],
   "source": [
    "# вызов функции для вечера пятницы в Москве\n",
    "genre_weekday(moscow_general, 'Friday', '17:00', '23:00')"
   ]
  },
  {
   "cell_type": "code",
   "execution_count": 64,
   "metadata": {
    "id": "JZaEKu5v_Zcu"
   },
   "outputs": [
    {
     "data": {
      "text/plain": [
       "genre\n",
       "pop            256\n",
       "rock           216\n",
       "electronic     216\n",
       "dance          210\n",
       "hiphop          97\n",
       "alternative     63\n",
       "jazz            61\n",
       "classical       60\n",
       "rusrap          59\n",
       "world           54\n",
       "Name: track, dtype: int64"
      ]
     },
     "execution_count": 64,
     "metadata": {},
     "output_type": "execute_result"
    }
   ],
   "source": [
    "# вызов функции для вечера пятницы в Петербурге\n",
    "genre_weekday(spb_general, 'Friday', '17:00', '23:00')"
   ]
  },
  {
   "cell_type": "markdown",
   "metadata": {
    "id": "wrCe4MNX_Zcu"
   },
   "source": [
    "**Выводы**\n",
    "\n",
    "Если сравнить топ-10 жанров в понедельник утром, можно сделать такие выводы:\n",
    "\n",
    "1. В Москве и Петербурге слушают похожую музыку. Единственное отличие — в московский рейтинг вошёл жанр “world”, а в петербургский — джаз и классика.\n",
    "\n",
    "2. В Москве пропущенных значений оказалось так много, что значение `'unknown'` заняло десятое место среди самых популярных жанров. Значит, пропущенные значения занимают существенную долю в данных и угрожают достоверности исследования.\n",
    "\n",
    "Вечер пятницы не меняет эту картину. Некоторые жанры поднимаются немного выше, другие спускаются, но в целом топ-10 остаётся тем же самым.\n",
    "\n",
    "Таким образом, вторая гипотеза подтвердилась лишь частично:\n",
    "* Пользователи слушают похожую музыку в начале недели и в конце.\n",
    "* Разница между Москвой и Петербургом не слишком выражена. В Москве чаще слушают русскую популярную музыку, в Петербурге — джаз.\n",
    "\n",
    "Однако пропуски в данных ставят под сомнение этот результат. В Москве их так много, что рейтинг топ-10 мог бы выглядеть иначе, если бы не утерянные  данные о жанрах."
   ]
  },
  {
   "cell_type": "markdown",
   "metadata": {
    "id": "JolODAqr_Zcu"
   },
   "source": [
    "### Жанровые предпочтения в Москве и Петербурге\n",
    "\n",
    "Гипотеза: Петербург — столица рэпа, музыку этого жанра там слушают чаще, чем в Москве.  А Москва — город контрастов, в котором, тем не менее, преобладает поп-музыка."
   ]
  },
  {
   "cell_type": "markdown",
   "metadata": {
    "id": "DlegSvaT_Zcu"
   },
   "source": [
    "Сгруппируйте таблицу `moscow_general` по жанру и посчитайте прослушивания треков каждого жанра методом `count()`. Затем отсортируйте результат в порядке убывания и сохраните его в таблице `moscow_genres`."
   ]
  },
  {
   "cell_type": "code",
   "execution_count": 65,
   "metadata": {
    "id": "r19lIPke_Zcu"
   },
   "outputs": [],
   "source": [
    "# одной строкой: группировка таблицы moscow_general по столбцу 'genre', \n",
    "# подсчёт числа значений 'genre' в этой группировке методом count(), \n",
    "# сортировка получившегося Series в порядке убывания и сохранение в moscow_genres\n",
    "moscow_genres = moscow_general.groupby('genre')['genre'].count().sort_values(ascending = False)"
   ]
  },
  {
   "cell_type": "markdown",
   "metadata": {
    "id": "6kMuomxTiIr8"
   },
   "source": [
    "Выведите на экран первые десять строк `moscow_genres`:"
   ]
  },
  {
   "cell_type": "code",
   "execution_count": 66,
   "metadata": {
    "id": "WhCSooF8_Zcv"
   },
   "outputs": [
    {
     "data": {
      "text/plain": [
       "genre\n",
       "pop            5892\n",
       "dance          4435\n",
       "rock           3965\n",
       "electronic     3786\n",
       "hiphop         2096\n",
       "classical      1616\n",
       "world          1432\n",
       "alternative    1379\n",
       "ruspop         1372\n",
       "rusrap         1161\n",
       "Name: genre, dtype: int64"
      ]
     },
     "execution_count": 66,
     "metadata": {},
     "output_type": "execute_result"
    }
   ],
   "source": [
    "# просмотр первых 10 строк moscow_genres\n",
    "moscow_genres.head(10)"
   ]
  },
  {
   "cell_type": "markdown",
   "metadata": {
    "id": "cnPG2vnN_Zcv"
   },
   "source": [
    "Теперь повторите то же и для Петербурга.\n",
    "\n",
    "Сгруппируйте таблицу `spb_general` по жанру. Посчитайте прослушивания треков каждого жанра. Результат отсортируйте в порядке убывания и сохраните в таблице `spb_genres`:\n"
   ]
  },
  {
   "cell_type": "code",
   "execution_count": 67,
   "metadata": {
    "id": "gluLIpE7_Zcv"
   },
   "outputs": [],
   "source": [
    "# одной строкой: группировка таблицы spb_general по столбцу 'genre', \n",
    "# подсчёт числа значений 'genre' в этой группировке методом count(), \n",
    "# сортировка получившегося Series в порядке убывания и сохранение в spb_genres\n",
    "spb_genres = spb_general.groupby('genre')['genre'].count().sort_values(ascending = False)"
   ]
  },
  {
   "cell_type": "markdown",
   "metadata": {
    "id": "5Doha_ODgyQ8"
   },
   "source": [
    "Выведите на экран первые десять строк `spb_genres`:"
   ]
  },
  {
   "cell_type": "code",
   "execution_count": 68,
   "metadata": {
    "id": "uaGJHjVU_Zcv"
   },
   "outputs": [
    {
     "data": {
      "text/plain": [
       "genre\n",
       "pop            2431\n",
       "dance          1932\n",
       "rock           1879\n",
       "electronic     1736\n",
       "hiphop          960\n",
       "alternative     649\n",
       "classical       646\n",
       "rusrap          564\n",
       "ruspop          538\n",
       "world           515\n",
       "Name: genre, dtype: int64"
      ]
     },
     "execution_count": 68,
     "metadata": {},
     "output_type": "execute_result"
    }
   ],
   "source": [
    "# просмотр первых 10 строк spb_genres\n",
    "spb_genres.head(10)"
   ]
  },
  {
   "cell_type": "markdown",
   "metadata": {
    "id": "RY51YJYu_Zcv"
   },
   "source": [
    "**Выводы**"
   ]
  },
  {
   "cell_type": "markdown",
   "metadata": {
    "id": "nVhnJEm__Zcv"
   },
   "source": [
    "Гипотеза частично подтвердилась:\n",
    "* Поп-музыка — самый популярный жанр в Москве, как и предполагала гипотеза. Более того, в топ-10 жанров встречается близкий жанр — русская популярная музыка.\n",
    "* Вопреки ожиданиям, рэп одинаково популярен в Москве и Петербурге. \n"
   ]
  },
  {
   "cell_type": "markdown",
   "metadata": {
    "id": "ykKQ0N65_Zcv"
   },
   "source": [
    "## Итоги исследования"
   ]
  },
  {
   "cell_type": "markdown",
   "metadata": {
    "id": "tjUwbHb3_Zcv"
   },
   "source": [
    "Вы проверили три гипотезы и установили:\n",
    "\n",
    "1. День недели по-разному влияет на активность пользователей в Москве и Петербурге. \n",
    "\n",
    "Первая гипотеза полностью подтвердилась.\n",
    "\n",
    "2. Музыкальные предпочтения не сильно меняются в течение недели — будь то Москва или Петербург. Небольшие различия заметны в начале недели, по понедельникам:\n",
    "* в Москве слушают музыку жанра “world”,\n",
    "* в Петербурге — джаз и классику.\n",
    "\n",
    "Таким образом, вторая гипотеза подтвердилась лишь отчасти. Этот результат мог оказаться иным, если бы не пропуски в данных.\n",
    "\n",
    "3. Во вкусах пользователей Москвы и Петербурга больше общего чем различий. Вопреки ожиданиям, предпочтения жанров в Петербурге напоминают московские.\n",
    "\n",
    "Третья гипотеза не подтвердилась. Если различия в предпочтениях и существуют, на основной массе пользователей они незаметны.\n",
    "\n",
    "**На практике исследования содержат проверки статистических гипотез.**\n",
    "Из данных одного сервиса не всегда можно сделать вывод о всех жителях города.\n",
    "Проверки статистических гипотез покажут, насколько они достоверны, исходя из имеющихся данных. \n",
    "С методами проверок гипотез вы ещё познакомитесь в следующих темах."
   ]
  }
 ],
 "metadata": {
  "ExecuteTimeLog": [
   {
    "duration": 752,
    "start_time": "2021-10-31T07:03:04.512Z"
   },
   {
    "duration": 1740,
    "start_time": "2021-10-31T07:03:06.682Z"
   },
   {
    "duration": 1743,
    "start_time": "2021-10-31T07:03:12.684Z"
   },
   {
    "duration": 181,
    "start_time": "2021-10-31T07:03:32.487Z"
   },
   {
    "duration": 220,
    "start_time": "2021-10-31T07:03:42.922Z"
   },
   {
    "duration": 27,
    "start_time": "2021-10-31T07:03:47.604Z"
   },
   {
    "duration": 12,
    "start_time": "2021-10-31T07:03:57.072Z"
   },
   {
    "duration": 12,
    "start_time": "2021-10-31T07:04:08.100Z"
   },
   {
    "duration": 35,
    "start_time": "2021-10-31T07:04:12.512Z"
   },
   {
    "duration": 11,
    "start_time": "2021-10-31T07:04:20.377Z"
   },
   {
    "duration": 18,
    "start_time": "2021-10-31T07:04:34.326Z"
   },
   {
    "duration": 36,
    "start_time": "2021-10-31T07:04:40.498Z"
   },
   {
    "duration": 30,
    "start_time": "2021-10-31T07:04:45.376Z"
   },
   {
    "duration": 31,
    "start_time": "2021-10-31T07:04:50.774Z"
   },
   {
    "duration": 37,
    "start_time": "2021-10-31T07:04:54.055Z"
   },
   {
    "duration": 4,
    "start_time": "2021-10-31T07:07:10.741Z"
   },
   {
    "duration": 5,
    "start_time": "2021-10-31T07:07:14.116Z"
   },
   {
    "duration": 5,
    "start_time": "2021-10-31T07:08:56.315Z"
   },
   {
    "duration": 82,
    "start_time": "2021-10-31T07:12:11.308Z"
   },
   {
    "duration": 72,
    "start_time": "2021-10-31T07:12:21.614Z"
   },
   {
    "duration": 97,
    "start_time": "2021-10-31T07:12:25.250Z"
   },
   {
    "duration": 86,
    "start_time": "2021-10-31T07:12:30.522Z"
   },
   {
    "duration": 85,
    "start_time": "2021-10-31T07:12:37.551Z"
   },
   {
    "duration": 4,
    "start_time": "2021-10-31T07:12:45.419Z"
   },
   {
    "duration": 40,
    "start_time": "2021-10-31T07:13:44.103Z"
   },
   {
    "duration": 30,
    "start_time": "2021-10-31T07:13:48.881Z"
   },
   {
    "duration": 5665,
    "start_time": "2021-10-31T07:17:00.699Z"
   },
   {
    "duration": -49,
    "start_time": "2021-10-31T07:17:06.416Z"
   },
   {
    "duration": 5558,
    "start_time": "2021-10-31T07:17:26.704Z"
   },
   {
    "duration": 5,
    "start_time": "2021-10-31T07:17:43.364Z"
   },
   {
    "duration": 30,
    "start_time": "2021-10-31T07:17:51.161Z"
   },
   {
    "duration": 5350,
    "start_time": "2021-10-31T07:19:05.073Z"
   },
   {
    "duration": 6031,
    "start_time": "2021-10-31T07:19:42.264Z"
   },
   {
    "duration": 5657,
    "start_time": "2021-10-31T07:20:01.496Z"
   },
   {
    "duration": 14,
    "start_time": "2021-10-31T07:20:36.878Z"
   },
   {
    "duration": 23,
    "start_time": "2021-10-31T07:20:49.806Z"
   },
   {
    "duration": 30,
    "start_time": "2021-10-31T07:21:01.918Z"
   },
   {
    "duration": 236,
    "start_time": "2021-10-31T07:21:10.192Z"
   },
   {
    "duration": 85,
    "start_time": "2021-10-31T07:21:14.300Z"
   },
   {
    "duration": 79,
    "start_time": "2021-10-31T07:21:18.422Z"
   },
   {
    "duration": 264,
    "start_time": "2021-10-31T07:21:43.893Z"
   },
   {
    "duration": 90,
    "start_time": "2021-10-31T07:22:14.831Z"
   },
   {
    "duration": 78,
    "start_time": "2021-10-31T07:22:23.193Z"
   },
   {
    "duration": 152,
    "start_time": "2021-10-31T07:23:00.088Z"
   },
   {
    "duration": 147,
    "start_time": "2021-10-31T07:23:03.659Z"
   },
   {
    "duration": 146,
    "start_time": "2021-10-31T07:23:22.191Z"
   },
   {
    "duration": 155,
    "start_time": "2021-10-31T07:23:33.051Z"
   },
   {
    "duration": 150,
    "start_time": "2021-10-31T07:27:39.331Z"
   },
   {
    "duration": 150,
    "start_time": "2021-10-31T07:27:43.310Z"
   },
   {
    "duration": 75,
    "start_time": "2021-10-31T07:27:59.480Z"
   },
   {
    "duration": 236,
    "start_time": "2021-10-31T07:29:12.994Z"
   },
   {
    "duration": 246,
    "start_time": "2021-10-31T07:29:18.231Z"
   },
   {
    "duration": 243,
    "start_time": "2021-10-31T07:29:21.172Z"
   },
   {
    "duration": 234,
    "start_time": "2021-10-31T07:29:27.502Z"
   },
   {
    "duration": 58,
    "start_time": "2021-10-31T07:30:07.271Z"
   },
   {
    "duration": 55,
    "start_time": "2021-10-31T07:30:13.427Z"
   },
   {
    "duration": 55,
    "start_time": "2021-10-31T07:30:28.993Z"
   },
   {
    "duration": 57,
    "start_time": "2021-10-31T07:30:40.130Z"
   },
   {
    "duration": 245,
    "start_time": "2021-10-31T07:38:56.899Z"
   },
   {
    "duration": 4,
    "start_time": "2021-10-31T07:39:03.064Z"
   },
   {
    "duration": 14,
    "start_time": "2021-10-31T07:39:04.940Z"
   },
   {
    "duration": 505,
    "start_time": "2021-10-31T07:39:44.606Z"
   },
   {
    "duration": 54,
    "start_time": "2021-10-31T07:39:58.614Z"
   },
   {
    "duration": 57,
    "start_time": "2021-10-31T07:40:05.002Z"
   },
   {
    "duration": 58,
    "start_time": "2021-10-31T07:40:35.175Z"
   },
   {
    "duration": 4,
    "start_time": "2021-10-31T07:40:47.341Z"
   },
   {
    "duration": 15,
    "start_time": "2021-10-31T07:40:50.959Z"
   },
   {
    "duration": 57,
    "start_time": "2021-10-31T07:40:53.658Z"
   },
   {
    "duration": 7888,
    "start_time": "2021-10-31T07:42:13.330Z"
   },
   {
    "duration": 42,
    "start_time": "2021-10-31T07:43:18.118Z"
   },
   {
    "duration": 12,
    "start_time": "2021-10-31T07:43:42.457Z"
   },
   {
    "duration": 13,
    "start_time": "2021-10-31T07:44:56.929Z"
   },
   {
    "duration": 5,
    "start_time": "2021-10-31T07:49:03.140Z"
   },
   {
    "duration": 54,
    "start_time": "2021-10-31T07:50:13.474Z"
   },
   {
    "duration": 5,
    "start_time": "2021-10-31T07:50:15.505Z"
   },
   {
    "duration": 57,
    "start_time": "2021-10-31T07:50:45.018Z"
   },
   {
    "duration": 4,
    "start_time": "2021-10-31T07:50:47.278Z"
   },
   {
    "duration": 4,
    "start_time": "2021-10-31T07:50:53.172Z"
   },
   {
    "duration": 3,
    "start_time": "2021-10-31T07:51:05.459Z"
   },
   {
    "duration": 186,
    "start_time": "2021-10-31T07:51:05.465Z"
   },
   {
    "duration": 16,
    "start_time": "2021-10-31T07:51:05.654Z"
   },
   {
    "duration": 36,
    "start_time": "2021-10-31T07:51:05.672Z"
   },
   {
    "duration": 3,
    "start_time": "2021-10-31T07:51:13.771Z"
   },
   {
    "duration": 198,
    "start_time": "2021-10-31T07:51:14.855Z"
   },
   {
    "duration": 17,
    "start_time": "2021-10-31T07:51:15.953Z"
   },
   {
    "duration": 31,
    "start_time": "2021-10-31T07:51:19.829Z"
   },
   {
    "duration": 5,
    "start_time": "2021-10-31T07:51:22.797Z"
   },
   {
    "duration": 68,
    "start_time": "2021-10-31T07:51:25.736Z"
   },
   {
    "duration": 5,
    "start_time": "2021-10-31T07:51:26.651Z"
   },
   {
    "duration": 30,
    "start_time": "2021-10-31T07:51:29.479Z"
   },
   {
    "duration": 22,
    "start_time": "2021-10-31T07:51:30.266Z"
   },
   {
    "duration": 31,
    "start_time": "2021-10-31T07:51:30.432Z"
   },
   {
    "duration": 89,
    "start_time": "2021-10-31T07:51:30.867Z"
   },
   {
    "duration": 99,
    "start_time": "2021-10-31T07:51:31.586Z"
   },
   {
    "duration": 379,
    "start_time": "2021-11-01T07:52:15.893Z"
   },
   {
    "duration": 1229,
    "start_time": "2021-11-01T07:52:33.575Z"
   },
   {
    "duration": 769,
    "start_time": "2021-11-01T07:52:47.752Z"
   },
   {
    "duration": 180,
    "start_time": "2021-11-01T07:52:48.523Z"
   },
   {
    "duration": 24,
    "start_time": "2021-11-01T07:52:48.706Z"
   },
   {
    "duration": 49,
    "start_time": "2021-11-01T07:52:48.733Z"
   },
   {
    "duration": 4,
    "start_time": "2021-11-01T07:52:48.784Z"
   },
   {
    "duration": 337,
    "start_time": "2021-11-01T07:52:48.791Z"
   },
   {
    "duration": 454,
    "start_time": "2021-11-01T07:52:48.677Z"
   },
   {
    "duration": 451,
    "start_time": "2021-11-01T07:52:48.682Z"
   },
   {
    "duration": 448,
    "start_time": "2021-11-01T07:52:48.686Z"
   },
   {
    "duration": 446,
    "start_time": "2021-11-01T07:52:48.690Z"
   },
   {
    "duration": 444,
    "start_time": "2021-11-01T07:52:48.693Z"
   },
   {
    "duration": 444,
    "start_time": "2021-11-01T07:52:48.695Z"
   },
   {
    "duration": 444,
    "start_time": "2021-11-01T07:52:48.697Z"
   },
   {
    "duration": 442,
    "start_time": "2021-11-01T07:52:48.700Z"
   },
   {
    "duration": 441,
    "start_time": "2021-11-01T07:52:48.702Z"
   },
   {
    "duration": 441,
    "start_time": "2021-11-01T07:52:48.704Z"
   },
   {
    "duration": 441,
    "start_time": "2021-11-01T07:52:48.706Z"
   },
   {
    "duration": 436,
    "start_time": "2021-11-01T07:52:48.712Z"
   },
   {
    "duration": 434,
    "start_time": "2021-11-01T07:52:48.716Z"
   },
   {
    "duration": 321,
    "start_time": "2021-11-01T07:52:52.909Z"
   },
   {
    "duration": 283,
    "start_time": "2021-11-01T07:53:17.452Z"
   },
   {
    "duration": 3,
    "start_time": "2021-11-01T07:53:23.717Z"
   },
   {
    "duration": 179,
    "start_time": "2021-11-01T07:53:24.676Z"
   },
   {
    "duration": 17,
    "start_time": "2021-11-01T07:53:25.605Z"
   },
   {
    "duration": 35,
    "start_time": "2021-11-01T07:53:28.284Z"
   },
   {
    "duration": 4,
    "start_time": "2021-11-01T07:53:30.516Z"
   },
   {
    "duration": 294,
    "start_time": "2021-11-01T07:53:32.196Z"
   },
   {
    "duration": 82,
    "start_time": "2021-11-01T07:53:51.319Z"
   },
   {
    "duration": 4,
    "start_time": "2021-11-01T07:53:53.060Z"
   },
   {
    "duration": 31,
    "start_time": "2021-11-01T07:53:54.620Z"
   },
   {
    "duration": 23,
    "start_time": "2021-11-01T07:53:56.837Z"
   },
   {
    "duration": 45,
    "start_time": "2021-11-01T07:53:59.836Z"
   },
   {
    "duration": 99,
    "start_time": "2021-11-01T07:54:01.396Z"
   },
   {
    "duration": 99,
    "start_time": "2021-11-01T07:54:02.796Z"
   },
   {
    "duration": 83,
    "start_time": "2021-11-01T07:54:03.852Z"
   },
   {
    "duration": 59,
    "start_time": "2021-11-01T07:54:09.316Z"
   },
   {
    "duration": 4,
    "start_time": "2021-11-01T07:54:11.004Z"
   },
   {
    "duration": 15,
    "start_time": "2021-11-01T07:54:11.860Z"
   },
   {
    "duration": 55,
    "start_time": "2021-11-01T07:54:15.548Z"
   },
   {
    "duration": 14,
    "start_time": "2021-11-01T07:54:20.869Z"
   },
   {
    "duration": 13,
    "start_time": "2021-11-01T07:54:27.812Z"
   },
   {
    "duration": 289,
    "start_time": "2021-11-01T07:54:33.101Z"
   },
   {
    "duration": 62,
    "start_time": "2021-11-01T07:54:49.629Z"
   },
   {
    "duration": 58,
    "start_time": "2021-11-01T07:55:08.622Z"
   },
   {
    "duration": 58,
    "start_time": "2021-11-01T07:55:15.751Z"
   },
   {
    "duration": 63,
    "start_time": "2021-11-01T07:55:33.415Z"
   },
   {
    "duration": 56,
    "start_time": "2021-11-01T07:55:46.647Z"
   },
   {
    "duration": 55,
    "start_time": "2021-11-01T07:55:52.791Z"
   },
   {
    "duration": 5,
    "start_time": "2021-11-01T07:56:05.960Z"
   },
   {
    "duration": 487,
    "start_time": "2021-11-01T07:59:06.612Z"
   },
   {
    "duration": 6,
    "start_time": "2021-11-01T07:59:12.452Z"
   },
   {
    "duration": 23,
    "start_time": "2021-11-01T07:59:13.543Z"
   },
   {
    "duration": 22,
    "start_time": "2021-11-01T07:59:20.190Z"
   },
   {
    "duration": 25,
    "start_time": "2021-11-01T07:59:20.798Z"
   },
   {
    "duration": 21,
    "start_time": "2021-11-01T07:59:21.502Z"
   },
   {
    "duration": 300,
    "start_time": "2021-11-01T07:59:24.559Z"
   },
   {
    "duration": 719,
    "start_time": "2021-11-01T07:59:24.967Z"
   },
   {
    "duration": 6,
    "start_time": "2021-11-01T07:59:30.519Z"
   },
   {
    "duration": 25,
    "start_time": "2021-11-01T07:59:31.230Z"
   },
   {
    "duration": 25,
    "start_time": "2021-11-01T07:59:31.439Z"
   },
   {
    "duration": 24,
    "start_time": "2021-11-01T07:59:31.670Z"
   },
   {
    "duration": 22,
    "start_time": "2021-11-01T07:59:31.871Z"
   },
   {
    "duration": 27,
    "start_time": "2021-11-01T07:59:32.046Z"
   },
   {
    "duration": 23,
    "start_time": "2021-11-01T07:59:32.598Z"
   },
   {
    "duration": 271,
    "start_time": "2021-11-01T08:00:51.879Z"
   },
   {
    "duration": 25,
    "start_time": "2021-11-01T08:01:18.351Z"
   },
   {
    "duration": 24,
    "start_time": "2021-11-01T08:01:18.776Z"
   },
   {
    "duration": 22,
    "start_time": "2021-11-01T08:01:19.079Z"
   },
   {
    "duration": 22,
    "start_time": "2021-11-01T08:01:19.359Z"
   },
   {
    "duration": 24,
    "start_time": "2021-11-01T08:01:19.623Z"
   },
   {
    "duration": 22,
    "start_time": "2021-11-01T08:01:19.967Z"
   },
   {
    "duration": 288,
    "start_time": "2021-11-01T08:01:21.433Z"
   },
   {
    "duration": 12,
    "start_time": "2021-11-01T08:01:26.015Z"
   },
   {
    "duration": 24,
    "start_time": "2021-11-01T08:01:41.712Z"
   },
   {
    "duration": 26,
    "start_time": "2021-11-01T08:01:56.991Z"
   },
   {
    "duration": 5,
    "start_time": "2021-11-01T08:02:31.433Z"
   },
   {
    "duration": 32,
    "start_time": "2021-11-01T08:02:32.479Z"
   },
   {
    "duration": 24,
    "start_time": "2021-11-01T08:02:44.503Z"
   },
   {
    "duration": 23,
    "start_time": "2021-11-01T08:02:45.920Z"
   },
   {
    "duration": 24,
    "start_time": "2021-11-01T08:02:47.607Z"
   },
   {
    "duration": 22,
    "start_time": "2021-11-01T08:02:47.871Z"
   },
   {
    "duration": 25,
    "start_time": "2021-11-01T08:02:48.152Z"
   },
   {
    "duration": 22,
    "start_time": "2021-11-01T08:02:48.399Z"
   },
   {
    "duration": 12,
    "start_time": "2021-11-01T08:02:49.470Z"
   },
   {
    "duration": 5,
    "start_time": "2021-11-01T08:05:22.530Z"
   },
   {
    "duration": 39,
    "start_time": "2021-11-01T08:05:23.409Z"
   },
   {
    "duration": 5,
    "start_time": "2021-11-01T08:05:32.745Z"
   },
   {
    "duration": 26,
    "start_time": "2021-11-01T08:05:34.090Z"
   },
   {
    "duration": 6,
    "start_time": "2021-11-01T08:07:28.946Z"
   },
   {
    "duration": 104,
    "start_time": "2021-11-01T08:07:31.698Z"
   },
   {
    "duration": 6,
    "start_time": "2021-11-01T08:07:35.050Z"
   },
   {
    "duration": 528,
    "start_time": "2021-11-01T08:07:36.107Z"
   },
   {
    "duration": 5,
    "start_time": "2021-11-01T08:07:46.275Z"
   },
   {
    "duration": 20,
    "start_time": "2021-11-01T08:07:47.161Z"
   },
   {
    "duration": 17,
    "start_time": "2021-11-01T08:07:47.921Z"
   },
   {
    "duration": 18,
    "start_time": "2021-11-01T08:07:49.945Z"
   },
   {
    "duration": 5,
    "start_time": "2021-11-01T08:11:35.203Z"
   },
   {
    "duration": 4,
    "start_time": "2021-11-01T08:11:38.413Z"
   },
   {
    "duration": 5,
    "start_time": "2021-11-01T08:13:45.033Z"
   },
   {
    "duration": 3,
    "start_time": "2021-11-01T08:13:45.761Z"
   },
   {
    "duration": 25,
    "start_time": "2021-11-01T08:13:46.953Z"
   },
   {
    "duration": 7,
    "start_time": "2021-11-01T08:22:06.972Z"
   },
   {
    "duration": 5,
    "start_time": "2021-11-01T08:27:03.134Z"
   },
   {
    "duration": 18,
    "start_time": "2021-11-01T08:27:05.973Z"
   },
   {
    "duration": 16,
    "start_time": "2021-11-01T08:27:06.741Z"
   },
   {
    "duration": 18,
    "start_time": "2021-11-01T08:27:06.973Z"
   },
   {
    "duration": 17,
    "start_time": "2021-11-01T08:27:07.150Z"
   },
   {
    "duration": 21,
    "start_time": "2021-11-01T08:27:07.294Z"
   },
   {
    "duration": 18,
    "start_time": "2021-11-01T08:27:08.829Z"
   },
   {
    "duration": 11,
    "start_time": "2021-11-01T08:27:10.196Z"
   },
   {
    "duration": 12,
    "start_time": "2021-11-01T08:34:45.408Z"
   },
   {
    "duration": 28,
    "start_time": "2021-11-01T08:34:56.055Z"
   },
   {
    "duration": 18,
    "start_time": "2021-11-01T08:35:01.847Z"
   },
   {
    "duration": 287,
    "start_time": "2021-11-01T08:35:15.329Z"
   },
   {
    "duration": 92,
    "start_time": "2021-11-01T08:35:26.265Z"
   },
   {
    "duration": 102,
    "start_time": "2021-11-01T08:35:31.825Z"
   },
   {
    "duration": 108,
    "start_time": "2021-11-01T08:35:34.664Z"
   },
   {
    "duration": 16,
    "start_time": "2021-11-01T08:35:38.545Z"
   },
   {
    "duration": 286,
    "start_time": "2021-11-01T08:38:09.841Z"
   },
   {
    "duration": 6,
    "start_time": "2021-11-01T08:38:16.387Z"
   },
   {
    "duration": 275,
    "start_time": "2021-11-01T08:38:17.154Z"
   },
   {
    "duration": 12,
    "start_time": "2021-11-01T08:38:25.131Z"
   },
   {
    "duration": 15,
    "start_time": "2021-11-01T08:38:27.595Z"
   },
   {
    "duration": 13,
    "start_time": "2021-11-01T08:38:28.114Z"
   },
   {
    "duration": 8,
    "start_time": "2021-11-01T08:38:29.347Z"
   },
   {
    "duration": 698,
    "start_time": "2021-11-01T08:38:30.619Z"
   },
   {
    "duration": 5,
    "start_time": "2021-11-01T08:39:06.764Z"
   },
   {
    "duration": 54,
    "start_time": "2021-11-01T08:39:07.619Z"
   },
   {
    "duration": 53,
    "start_time": "2021-11-01T08:39:52.948Z"
   },
   {
    "duration": 5,
    "start_time": "2021-11-01T08:39:56.003Z"
   },
   {
    "duration": 37,
    "start_time": "2021-11-01T08:39:56.666Z"
   },
   {
    "duration": 38,
    "start_time": "2021-11-01T08:40:20.220Z"
   },
   {
    "duration": 6,
    "start_time": "2021-11-01T08:41:18.349Z"
   },
   {
    "duration": 32,
    "start_time": "2021-11-01T08:41:18.722Z"
   },
   {
    "duration": 20,
    "start_time": "2021-11-01T08:41:19.901Z"
   },
   {
    "duration": 30,
    "start_time": "2021-11-01T08:41:57.467Z"
   },
   {
    "duration": 22,
    "start_time": "2021-11-01T08:41:58.290Z"
   },
   {
    "duration": 5,
    "start_time": "2021-11-01T08:43:14.747Z"
   },
   {
    "duration": 26,
    "start_time": "2021-11-01T08:43:15.395Z"
   },
   {
    "duration": 20,
    "start_time": "2021-11-01T08:43:16.292Z"
   },
   {
    "duration": 33,
    "start_time": "2021-11-01T08:43:19.820Z"
   },
   {
    "duration": 18,
    "start_time": "2021-11-01T08:43:20.876Z"
   },
   {
    "duration": 6,
    "start_time": "2021-11-01T08:44:59.901Z"
   },
   {
    "duration": 27,
    "start_time": "2021-11-01T08:45:01.101Z"
   },
   {
    "duration": 18,
    "start_time": "2021-11-01T08:45:02.060Z"
   },
   {
    "duration": 23,
    "start_time": "2021-11-01T08:45:02.676Z"
   },
   {
    "duration": 17,
    "start_time": "2021-11-01T08:45:03.253Z"
   },
   {
    "duration": 88,
    "start_time": "2021-11-01T08:45:41.765Z"
   },
   {
    "duration": 5,
    "start_time": "2021-11-01T08:45:48.501Z"
   },
   {
    "duration": 20,
    "start_time": "2021-11-01T08:45:51.684Z"
   },
   {
    "duration": 19,
    "start_time": "2021-11-01T08:45:52.212Z"
   },
   {
    "duration": 19,
    "start_time": "2021-11-01T08:45:52.396Z"
   },
   {
    "duration": 17,
    "start_time": "2021-11-01T08:45:53.909Z"
   },
   {
    "duration": 21,
    "start_time": "2021-11-01T08:45:54.148Z"
   },
   {
    "duration": 19,
    "start_time": "2021-11-01T08:45:54.364Z"
   },
   {
    "duration": 12,
    "start_time": "2021-11-01T08:45:54.851Z"
   },
   {
    "duration": 5,
    "start_time": "2021-11-01T08:46:34.333Z"
   },
   {
    "duration": 4,
    "start_time": "2021-11-01T08:46:34.804Z"
   },
   {
    "duration": 21,
    "start_time": "2021-11-01T08:46:35.652Z"
   },
   {
    "duration": 19,
    "start_time": "2021-11-01T08:46:37.612Z"
   },
   {
    "duration": 18,
    "start_time": "2021-11-01T08:46:37.820Z"
   },
   {
    "duration": 18,
    "start_time": "2021-11-01T08:46:38.012Z"
   },
   {
    "duration": 21,
    "start_time": "2021-11-01T08:46:38.213Z"
   },
   {
    "duration": 19,
    "start_time": "2021-11-01T08:46:38.404Z"
   },
   {
    "duration": 12,
    "start_time": "2021-11-01T08:46:39.269Z"
   },
   {
    "duration": 16,
    "start_time": "2021-11-01T08:46:42.212Z"
   },
   {
    "duration": 12,
    "start_time": "2021-11-01T08:46:42.453Z"
   },
   {
    "duration": 5,
    "start_time": "2021-11-01T08:46:43.141Z"
   },
   {
    "duration": 26,
    "start_time": "2021-11-01T08:46:44.012Z"
   },
   {
    "duration": 18,
    "start_time": "2021-11-01T08:46:44.388Z"
   },
   {
    "duration": 23,
    "start_time": "2021-11-01T08:46:45.500Z"
   },
   {
    "duration": 18,
    "start_time": "2021-11-01T08:46:46.069Z"
   },
   {
    "duration": 11,
    "start_time": "2021-11-01T08:48:09.398Z"
   },
   {
    "duration": 6,
    "start_time": "2021-11-01T08:48:22.373Z"
   },
   {
    "duration": 6,
    "start_time": "2021-11-01T08:48:26.005Z"
   },
   {
    "duration": 5,
    "start_time": "2021-11-01T08:48:28.685Z"
   },
   {
    "duration": 6,
    "start_time": "2021-11-01T08:48:31.774Z"
   },
   {
    "duration": 287,
    "start_time": "2021-11-01T08:48:38.991Z"
   },
   {
    "duration": 5,
    "start_time": "2021-11-01T08:48:42.189Z"
   },
   {
    "duration": 476,
    "start_time": "2021-11-01T08:49:14.559Z"
   },
   {
    "duration": 8,
    "start_time": "2021-11-01T08:49:18.518Z"
   },
   {
    "duration": 5,
    "start_time": "2021-11-01T08:49:19.021Z"
   },
   {
    "duration": 33,
    "start_time": "2021-11-01T09:02:38.461Z"
   },
   {
    "duration": 29,
    "start_time": "2021-11-01T09:02:49.101Z"
   },
   {
    "duration": 3,
    "start_time": "2021-11-01T09:02:59.287Z"
   },
   {
    "duration": 191,
    "start_time": "2021-11-01T09:02:59.293Z"
   },
   {
    "duration": 19,
    "start_time": "2021-11-01T09:02:59.487Z"
   },
   {
    "duration": 34,
    "start_time": "2021-11-01T09:02:59.509Z"
   },
   {
    "duration": 5,
    "start_time": "2021-11-01T09:02:59.546Z"
   },
   {
    "duration": 79,
    "start_time": "2021-11-01T09:02:59.553Z"
   },
   {
    "duration": 4,
    "start_time": "2021-11-01T09:02:59.635Z"
   },
   {
    "duration": 34,
    "start_time": "2021-11-01T09:03:01.169Z"
   },
   {
    "duration": 32,
    "start_time": "2021-11-01T09:03:07.050Z"
   },
   {
    "duration": 24,
    "start_time": "2021-11-01T09:03:12.112Z"
   },
   {
    "duration": 30,
    "start_time": "2021-11-01T09:03:12.992Z"
   },
   {
    "duration": 84,
    "start_time": "2021-11-01T09:03:16.681Z"
   },
   {
    "duration": 90,
    "start_time": "2021-11-01T09:03:18.096Z"
   },
   {
    "duration": 82,
    "start_time": "2021-11-01T09:03:18.856Z"
   },
   {
    "duration": 56,
    "start_time": "2021-11-01T09:03:22.729Z"
   },
   {
    "duration": 4,
    "start_time": "2021-11-01T09:03:24.328Z"
   },
   {
    "duration": 13,
    "start_time": "2021-11-01T09:03:25.312Z"
   },
   {
    "duration": 57,
    "start_time": "2021-11-01T09:03:26.224Z"
   },
   {
    "duration": 15,
    "start_time": "2021-11-01T09:03:29.473Z"
   },
   {
    "duration": 15,
    "start_time": "2021-11-01T09:03:30.849Z"
   },
   {
    "duration": 4,
    "start_time": "2021-11-01T09:03:33.129Z"
   },
   {
    "duration": 4,
    "start_time": "2021-11-01T09:03:36.576Z"
   },
   {
    "duration": 20,
    "start_time": "2021-11-01T09:03:37.321Z"
   },
   {
    "duration": 18,
    "start_time": "2021-11-01T09:03:37.752Z"
   },
   {
    "duration": 19,
    "start_time": "2021-11-01T09:03:38.025Z"
   },
   {
    "duration": 17,
    "start_time": "2021-11-01T09:03:38.265Z"
   },
   {
    "duration": 20,
    "start_time": "2021-11-01T09:03:38.777Z"
   },
   {
    "duration": 18,
    "start_time": "2021-11-01T09:03:39.201Z"
   },
   {
    "duration": 13,
    "start_time": "2021-11-01T09:03:42.160Z"
   },
   {
    "duration": 19,
    "start_time": "2021-11-01T09:03:46.651Z"
   },
   {
    "duration": 17,
    "start_time": "2021-11-01T09:03:47.104Z"
   },
   {
    "duration": 6,
    "start_time": "2021-11-01T09:03:51.625Z"
   },
   {
    "duration": 24,
    "start_time": "2021-11-01T09:03:52.745Z"
   },
   {
    "duration": 17,
    "start_time": "2021-11-01T09:03:54.776Z"
   },
   {
    "duration": 22,
    "start_time": "2021-11-01T09:03:56.792Z"
   },
   {
    "duration": 17,
    "start_time": "2021-11-01T09:03:57.153Z"
   },
   {
    "duration": 12,
    "start_time": "2021-11-01T09:04:15.081Z"
   },
   {
    "duration": 5,
    "start_time": "2021-11-01T09:04:16.266Z"
   },
   {
    "duration": 8,
    "start_time": "2021-11-01T09:04:17.720Z"
   },
   {
    "duration": 5,
    "start_time": "2021-11-01T09:04:19.922Z"
   },
   {
    "duration": 670,
    "start_time": "2021-11-01T10:55:26.178Z"
   },
   {
    "duration": 190,
    "start_time": "2021-11-01T10:55:26.851Z"
   },
   {
    "duration": 28,
    "start_time": "2021-11-01T10:55:27.044Z"
   },
   {
    "duration": 56,
    "start_time": "2021-11-01T10:55:27.075Z"
   },
   {
    "duration": 6,
    "start_time": "2021-11-01T10:55:27.134Z"
   },
   {
    "duration": 106,
    "start_time": "2021-11-01T10:55:27.143Z"
   },
   {
    "duration": 6,
    "start_time": "2021-11-01T10:55:27.251Z"
   },
   {
    "duration": 32,
    "start_time": "2021-11-01T10:55:27.262Z"
   },
   {
    "duration": 54,
    "start_time": "2021-11-01T10:55:27.298Z"
   },
   {
    "duration": 30,
    "start_time": "2021-11-01T10:55:27.355Z"
   },
   {
    "duration": 110,
    "start_time": "2021-11-01T10:55:27.387Z"
   },
   {
    "duration": 109,
    "start_time": "2021-11-01T10:55:27.500Z"
   },
   {
    "duration": 78,
    "start_time": "2021-11-01T10:55:27.611Z"
   },
   {
    "duration": 69,
    "start_time": "2021-11-01T10:55:27.691Z"
   },
   {
    "duration": 4,
    "start_time": "2021-11-01T10:55:27.763Z"
   },
   {
    "duration": 19,
    "start_time": "2021-11-01T10:55:27.770Z"
   },
   {
    "duration": 80,
    "start_time": "2021-11-01T10:55:27.792Z"
   },
   {
    "duration": 20,
    "start_time": "2021-11-01T10:55:27.875Z"
   },
   {
    "duration": 36,
    "start_time": "2021-11-01T10:55:27.898Z"
   },
   {
    "duration": 6,
    "start_time": "2021-11-01T10:55:27.937Z"
   },
   {
    "duration": 21,
    "start_time": "2021-11-01T10:55:27.946Z"
   },
   {
    "duration": 25,
    "start_time": "2021-11-01T10:55:27.969Z"
   },
   {
    "duration": 36,
    "start_time": "2021-11-01T10:55:28.000Z"
   },
   {
    "duration": 20,
    "start_time": "2021-11-01T10:55:28.039Z"
   },
   {
    "duration": 19,
    "start_time": "2021-11-01T10:55:28.062Z"
   },
   {
    "duration": 52,
    "start_time": "2021-11-01T10:55:28.083Z"
   },
   {
    "duration": 19,
    "start_time": "2021-11-01T10:55:28.138Z"
   },
   {
    "duration": 15,
    "start_time": "2021-11-01T10:55:28.159Z"
   },
   {
    "duration": 16,
    "start_time": "2021-11-01T10:55:28.177Z"
   },
   {
    "duration": 14,
    "start_time": "2021-11-01T10:55:28.228Z"
   },
   {
    "duration": 7,
    "start_time": "2021-11-01T10:55:28.244Z"
   },
   {
    "duration": 36,
    "start_time": "2021-11-01T10:55:28.254Z"
   },
   {
    "duration": 45,
    "start_time": "2021-11-01T10:55:28.293Z"
   },
   {
    "duration": 26,
    "start_time": "2021-11-01T10:55:28.341Z"
   },
   {
    "duration": 19,
    "start_time": "2021-11-01T10:55:28.370Z"
   },
   {
    "duration": 39,
    "start_time": "2021-11-01T10:55:28.392Z"
   },
   {
    "duration": 9,
    "start_time": "2021-11-01T10:55:28.434Z"
   },
   {
    "duration": 18,
    "start_time": "2021-11-01T10:55:28.446Z"
   },
   {
    "duration": 6,
    "start_time": "2021-11-01T10:55:28.466Z"
   },
   {
    "duration": 103,
    "start_time": "2021-11-01T12:34:08.888Z"
   },
   {
    "duration": 754,
    "start_time": "2021-11-01T12:34:18.599Z"
   },
   {
    "duration": 177,
    "start_time": "2021-11-01T12:34:19.716Z"
   },
   {
    "duration": 26,
    "start_time": "2021-11-01T12:34:20.109Z"
   },
   {
    "duration": 74,
    "start_time": "2021-11-01T12:34:20.812Z"
   },
   {
    "duration": 84,
    "start_time": "2021-11-01T12:35:32.654Z"
   },
   {
    "duration": 17,
    "start_time": "2021-11-01T12:35:35.045Z"
   },
   {
    "duration": 89,
    "start_time": "2021-11-01T12:35:35.629Z"
   },
   {
    "duration": 84,
    "start_time": "2021-11-01T12:35:39.684Z"
   },
   {
    "duration": 76,
    "start_time": "2021-11-01T12:36:04.813Z"
   },
   {
    "duration": 76,
    "start_time": "2021-11-01T12:37:13.854Z"
   },
   {
    "duration": 93,
    "start_time": "2021-11-01T12:37:24.030Z"
   },
   {
    "duration": 15,
    "start_time": "2021-11-01T12:37:27.084Z"
   },
   {
    "duration": 83,
    "start_time": "2021-11-01T12:37:27.757Z"
   },
   {
    "duration": 76,
    "start_time": "2021-11-01T12:37:38.591Z"
   },
   {
    "duration": 74,
    "start_time": "2021-11-01T12:37:43.198Z"
   },
   {
    "duration": 85,
    "start_time": "2021-11-01T12:37:45.510Z"
   },
   {
    "duration": 89,
    "start_time": "2021-11-01T12:38:47.240Z"
   },
   {
    "duration": 93,
    "start_time": "2021-11-01T12:38:57.544Z"
   },
   {
    "duration": 15,
    "start_time": "2021-11-01T12:40:27.353Z"
   },
   {
    "duration": 81,
    "start_time": "2021-11-01T12:40:41.990Z"
   },
   {
    "duration": 6,
    "start_time": "2021-11-01T12:41:17.223Z"
   },
   {
    "duration": 5,
    "start_time": "2021-11-01T12:42:33.656Z"
   },
   {
    "duration": 31,
    "start_time": "2021-11-01T12:42:34.943Z"
   },
   {
    "duration": 5911,
    "start_time": "2021-11-01T12:42:37.015Z"
   },
   {
    "duration": 507,
    "start_time": "2021-11-01T12:42:42.422Z"
   },
   {
    "duration": 504,
    "start_time": "2021-11-01T12:42:42.426Z"
   },
   {
    "duration": 4,
    "start_time": "2021-11-01T12:42:52.173Z"
   },
   {
    "duration": 177,
    "start_time": "2021-11-01T12:42:52.535Z"
   },
   {
    "duration": 15,
    "start_time": "2021-11-01T12:42:52.936Z"
   },
   {
    "duration": 32,
    "start_time": "2021-11-01T12:42:53.742Z"
   },
   {
    "duration": 5,
    "start_time": "2021-11-01T12:43:05.471Z"
   },
   {
    "duration": 73,
    "start_time": "2021-11-01T12:43:07.239Z"
   },
   {
    "duration": 6,
    "start_time": "2021-11-01T12:43:08.951Z"
   },
   {
    "duration": 33,
    "start_time": "2021-11-01T12:43:09.945Z"
   },
   {
    "duration": 23,
    "start_time": "2021-11-01T12:43:11.520Z"
   },
   {
    "duration": 31,
    "start_time": "2021-11-01T12:43:12.767Z"
   },
   {
    "duration": 81,
    "start_time": "2021-11-01T12:43:15.231Z"
   },
   {
    "duration": 90,
    "start_time": "2021-11-01T12:43:16.703Z"
   },
   {
    "duration": 74,
    "start_time": "2021-11-01T12:43:17.672Z"
   },
   {
    "duration": 56,
    "start_time": "2021-11-01T12:43:48.832Z"
   },
   {
    "duration": 4,
    "start_time": "2021-11-01T12:43:54.592Z"
   },
   {
    "duration": 14,
    "start_time": "2021-11-01T12:43:56.919Z"
   },
   {
    "duration": 56,
    "start_time": "2021-11-01T12:44:03.711Z"
   },
   {
    "duration": 15,
    "start_time": "2021-11-01T12:44:14.496Z"
   },
   {
    "duration": 14,
    "start_time": "2021-11-01T12:44:20.105Z"
   },
   {
    "duration": 4,
    "start_time": "2021-11-01T12:47:17.211Z"
   },
   {
    "duration": 3,
    "start_time": "2021-11-01T12:47:22.361Z"
   },
   {
    "duration": 20,
    "start_time": "2021-11-01T12:47:25.409Z"
   },
   {
    "duration": 16,
    "start_time": "2021-11-01T12:47:25.905Z"
   },
   {
    "duration": 27,
    "start_time": "2021-11-01T12:47:26.562Z"
   },
   {
    "duration": 17,
    "start_time": "2021-11-01T12:47:27.905Z"
   },
   {
    "duration": 19,
    "start_time": "2021-11-01T12:47:28.193Z"
   },
   {
    "duration": 16,
    "start_time": "2021-11-01T12:47:28.393Z"
   },
   {
    "duration": 12,
    "start_time": "2021-11-01T12:47:35.999Z"
   },
   {
    "duration": 14,
    "start_time": "2021-11-01T12:47:43.808Z"
   },
   {
    "duration": 12,
    "start_time": "2021-11-01T12:47:54.561Z"
   },
   {
    "duration": 15,
    "start_time": "2021-11-01T12:48:27.169Z"
   },
   {
    "duration": 13,
    "start_time": "2021-11-01T12:48:27.530Z"
   },
   {
    "duration": 76,
    "start_time": "2021-11-01T12:49:25.178Z"
   },
   {
    "duration": 215,
    "start_time": "2021-11-01T12:52:23.651Z"
   },
   {
    "duration": 6,
    "start_time": "2021-11-01T12:52:28.067Z"
   },
   {
    "duration": 25,
    "start_time": "2021-11-01T12:52:30.320Z"
   },
   {
    "duration": 19,
    "start_time": "2021-11-01T12:52:31.108Z"
   },
   {
    "duration": 24,
    "start_time": "2021-11-01T12:52:31.738Z"
   },
   {
    "duration": 18,
    "start_time": "2021-11-01T12:52:32.866Z"
   },
   {
    "duration": 11,
    "start_time": "2021-11-01T12:52:40.114Z"
   },
   {
    "duration": 7,
    "start_time": "2021-11-01T12:52:45.291Z"
   },
   {
    "duration": 8,
    "start_time": "2021-11-01T12:52:47.674Z"
   },
   {
    "duration": 7,
    "start_time": "2021-11-01T12:52:52.275Z"
   },
   {
    "duration": 83,
    "start_time": "2021-11-01T12:53:09.835Z"
   }
  ],
  "colab": {
   "collapsed_sections": [
    "E0vqbgi9ay0H",
    "VUC88oWjTJw2"
   ],
   "name": "yandex_music_project_2021.2.ipynb",
   "provenance": []
  },
  "kernelspec": {
   "display_name": "Python 3 (ipykernel)",
   "language": "python",
   "name": "python3"
  },
  "language_info": {
   "codemirror_mode": {
    "name": "ipython",
    "version": 3
   },
   "file_extension": ".py",
   "mimetype": "text/x-python",
   "name": "python",
   "nbconvert_exporter": "python",
   "pygments_lexer": "ipython3",
   "version": "3.10.4"
  },
  "toc": {
   "base_numbering": 1,
   "nav_menu": {},
   "number_sections": true,
   "sideBar": true,
   "skip_h1_title": true,
   "title_cell": "Table of Contents",
   "title_sidebar": "Contents",
   "toc_cell": false,
   "toc_position": {},
   "toc_section_display": true,
   "toc_window_display": true
  }
 },
 "nbformat": 4,
 "nbformat_minor": 4
}
