{
 "cells": [
  {
   "cell_type": "markdown",
   "metadata": {},
   "source": [
    "# Определение перспективного тарифа для телеком-компании"
   ]
  },
  {
   "cell_type": "markdown",
   "metadata": {},
   "source": [
    "Я - аналитик компании «Мегалайн» — федерального оператора сотовой связи. Клиентам предлагают два тарифных плана: «Смарт» и «Ультра». Чтобы скорректировать рекламный бюджет, коммерческий департамент хочет понять, какой тариф приносит больше денег.\n",
    "\n",
    "Для этого мне предоставили данные 500 пользователей «Мегалайна»: кто они, откуда, каким тарифом пользуются, сколько звонков и сообщений каждый отправил за 2018 год. Нужно проанализировать поведение клиентов и сделать вывод — какой тариф лучше.\n",
    "\n",
    "Тарифы у \"Мегалайн\" следующие:\n",
    "\n",
    "**Тариф «Смарт»**\n",
    "1. Ежемесячная плата: 550 рублей\n",
    "2. Включено 500 минут разговора, 50 сообщений и 15 Гб интернет-трафика\n",
    "3. Стоимость услуг сверх тарифного пакета: \n",
    "    1. минута разговора: 3 рубля; \n",
    "    2. сообщение: 3 рубля; \n",
    "    3. 1 Гб интернет-трафика: 200 рублей.\n",
    "\n",
    "**Тариф «Ультра»**\n",
    "1. Ежемесячная плата: 1950 рублей\n",
    "2. Включено 3000 минут разговора, 1000 сообщений и 30 Гб интернет-трафика\n",
    "3. Стоимость услуг сверх тарифного пакета: \n",
    "    1. минута разговора: 1 рубль; \n",
    "    2. сообщение: 1 рубль; \n",
    "    3. 1 Гб интернет-трафика: 150 рублей.\n",
    "    \n",
    "**Примечание:** \n",
    "\n",
    "«Мегалайн» всегда округляет секунды до минут, а мегабайты — до гигабайт. Каждый звонок округляется отдельно: даже если он длился всего 1 секунду, будет засчитан как 1 минута.\n",
    "Для веб-трафика отдельные сессии не считаются. Вместо этого общая сумма за месяц округляется в бо́льшую сторону. Если абонент использует 1025 мегабайт в этом месяце, с него возьмут плату за 2 гигабайта."
   ]
  },
  {
   "cell_type": "code",
   "execution_count": null,
   "metadata": {},
   "outputs": [],
   "source": []
  },
  {
   "cell_type": "markdown",
   "metadata": {},
   "source": [
    "## Изучение данных из файлов"
   ]
  },
  {
   "cell_type": "markdown",
   "metadata": {},
   "source": [
    "Импортируем необходимые библиотеки:"
   ]
  },
  {
   "cell_type": "code",
   "execution_count": 1,
   "metadata": {},
   "outputs": [],
   "source": [
    "import pandas as pd\n",
    "import matplotlib.pyplot as plt\n",
    "from scipy import stats as st\n",
    "import math\n",
    "import numpy as np"
   ]
  },
  {
   "cell_type": "markdown",
   "metadata": {},
   "source": [
    "Согласно инструкции, в нашем распоряжении следующие файлы:\n",
    "\n",
    "`calls.csv`, `internet.csv`, `messages.csv`, `tariffs.csv`, `users.csv`.\n",
    "\n",
    "Пройдемся по каждому из них."
   ]
  },
  {
   "cell_type": "markdown",
   "metadata": {},
   "source": [
    "### `calls.csv`"
   ]
  },
  {
   "cell_type": "markdown",
   "metadata": {},
   "source": [
    "Импортируем файл."
   ]
  },
  {
   "cell_type": "code",
   "execution_count": 2,
   "metadata": {},
   "outputs": [],
   "source": [
    "calls = pd.read_csv('/datasets/calls.csv')"
   ]
  },
  {
   "cell_type": "markdown",
   "metadata": {},
   "source": [
    "Посмотрим первые 10 строк."
   ]
  },
  {
   "cell_type": "code",
   "execution_count": 3,
   "metadata": {},
   "outputs": [
    {
     "data": {
      "text/html": [
       "<div>\n",
       "<style scoped>\n",
       "    .dataframe tbody tr th:only-of-type {\n",
       "        vertical-align: middle;\n",
       "    }\n",
       "\n",
       "    .dataframe tbody tr th {\n",
       "        vertical-align: top;\n",
       "    }\n",
       "\n",
       "    .dataframe thead th {\n",
       "        text-align: right;\n",
       "    }\n",
       "</style>\n",
       "<table border=\"1\" class=\"dataframe\">\n",
       "  <thead>\n",
       "    <tr style=\"text-align: right;\">\n",
       "      <th></th>\n",
       "      <th>id</th>\n",
       "      <th>call_date</th>\n",
       "      <th>duration</th>\n",
       "      <th>user_id</th>\n",
       "    </tr>\n",
       "  </thead>\n",
       "  <tbody>\n",
       "    <tr>\n",
       "      <td>0</td>\n",
       "      <td>1000_0</td>\n",
       "      <td>2018-07-25</td>\n",
       "      <td>0.00</td>\n",
       "      <td>1000</td>\n",
       "    </tr>\n",
       "    <tr>\n",
       "      <td>1</td>\n",
       "      <td>1000_1</td>\n",
       "      <td>2018-08-17</td>\n",
       "      <td>0.00</td>\n",
       "      <td>1000</td>\n",
       "    </tr>\n",
       "    <tr>\n",
       "      <td>2</td>\n",
       "      <td>1000_2</td>\n",
       "      <td>2018-06-11</td>\n",
       "      <td>2.85</td>\n",
       "      <td>1000</td>\n",
       "    </tr>\n",
       "    <tr>\n",
       "      <td>3</td>\n",
       "      <td>1000_3</td>\n",
       "      <td>2018-09-21</td>\n",
       "      <td>13.80</td>\n",
       "      <td>1000</td>\n",
       "    </tr>\n",
       "    <tr>\n",
       "      <td>4</td>\n",
       "      <td>1000_4</td>\n",
       "      <td>2018-12-15</td>\n",
       "      <td>5.18</td>\n",
       "      <td>1000</td>\n",
       "    </tr>\n",
       "    <tr>\n",
       "      <td>5</td>\n",
       "      <td>1000_5</td>\n",
       "      <td>2018-11-02</td>\n",
       "      <td>0.00</td>\n",
       "      <td>1000</td>\n",
       "    </tr>\n",
       "    <tr>\n",
       "      <td>6</td>\n",
       "      <td>1000_6</td>\n",
       "      <td>2018-10-18</td>\n",
       "      <td>0.00</td>\n",
       "      <td>1000</td>\n",
       "    </tr>\n",
       "    <tr>\n",
       "      <td>7</td>\n",
       "      <td>1000_7</td>\n",
       "      <td>2018-08-22</td>\n",
       "      <td>18.31</td>\n",
       "      <td>1000</td>\n",
       "    </tr>\n",
       "    <tr>\n",
       "      <td>8</td>\n",
       "      <td>1000_8</td>\n",
       "      <td>2018-09-15</td>\n",
       "      <td>18.44</td>\n",
       "      <td>1000</td>\n",
       "    </tr>\n",
       "    <tr>\n",
       "      <td>9</td>\n",
       "      <td>1000_9</td>\n",
       "      <td>2018-08-15</td>\n",
       "      <td>0.00</td>\n",
       "      <td>1000</td>\n",
       "    </tr>\n",
       "  </tbody>\n",
       "</table>\n",
       "</div>"
      ],
      "text/plain": [
       "       id   call_date  duration  user_id\n",
       "0  1000_0  2018-07-25      0.00     1000\n",
       "1  1000_1  2018-08-17      0.00     1000\n",
       "2  1000_2  2018-06-11      2.85     1000\n",
       "3  1000_3  2018-09-21     13.80     1000\n",
       "4  1000_4  2018-12-15      5.18     1000\n",
       "5  1000_5  2018-11-02      0.00     1000\n",
       "6  1000_6  2018-10-18      0.00     1000\n",
       "7  1000_7  2018-08-22     18.31     1000\n",
       "8  1000_8  2018-09-15     18.44     1000\n",
       "9  1000_9  2018-08-15      0.00     1000"
      ]
     },
     "execution_count": 3,
     "metadata": {},
     "output_type": "execute_result"
    }
   ],
   "source": [
    "calls.head(10)"
   ]
  },
  {
   "cell_type": "markdown",
   "metadata": {},
   "source": [
    "Посмотрим общую информацию о данных."
   ]
  },
  {
   "cell_type": "code",
   "execution_count": 4,
   "metadata": {},
   "outputs": [
    {
     "name": "stdout",
     "output_type": "stream",
     "text": [
      "<class 'pandas.core.frame.DataFrame'>\n",
      "RangeIndex: 202607 entries, 0 to 202606\n",
      "Data columns (total 4 columns):\n",
      "id           202607 non-null object\n",
      "call_date    202607 non-null object\n",
      "duration     202607 non-null float64\n",
      "user_id      202607 non-null int64\n",
      "dtypes: float64(1), int64(1), object(2)\n",
      "memory usage: 6.2+ MB\n"
     ]
    }
   ],
   "source": [
    "calls.info()"
   ]
  },
  {
   "cell_type": "code",
   "execution_count": 5,
   "metadata": {},
   "outputs": [
    {
     "data": {
      "text/html": [
       "<div>\n",
       "<style scoped>\n",
       "    .dataframe tbody tr th:only-of-type {\n",
       "        vertical-align: middle;\n",
       "    }\n",
       "\n",
       "    .dataframe tbody tr th {\n",
       "        vertical-align: top;\n",
       "    }\n",
       "\n",
       "    .dataframe thead th {\n",
       "        text-align: right;\n",
       "    }\n",
       "</style>\n",
       "<table border=\"1\" class=\"dataframe\">\n",
       "  <thead>\n",
       "    <tr style=\"text-align: right;\">\n",
       "      <th></th>\n",
       "      <th>duration</th>\n",
       "      <th>user_id</th>\n",
       "    </tr>\n",
       "  </thead>\n",
       "  <tbody>\n",
       "    <tr>\n",
       "      <td>count</td>\n",
       "      <td>202607.000000</td>\n",
       "      <td>202607.000000</td>\n",
       "    </tr>\n",
       "    <tr>\n",
       "      <td>mean</td>\n",
       "      <td>6.755887</td>\n",
       "      <td>1253.940619</td>\n",
       "    </tr>\n",
       "    <tr>\n",
       "      <td>std</td>\n",
       "      <td>5.843365</td>\n",
       "      <td>144.722751</td>\n",
       "    </tr>\n",
       "    <tr>\n",
       "      <td>min</td>\n",
       "      <td>0.000000</td>\n",
       "      <td>1000.000000</td>\n",
       "    </tr>\n",
       "    <tr>\n",
       "      <td>25%</td>\n",
       "      <td>1.300000</td>\n",
       "      <td>1126.000000</td>\n",
       "    </tr>\n",
       "    <tr>\n",
       "      <td>50%</td>\n",
       "      <td>6.000000</td>\n",
       "      <td>1260.000000</td>\n",
       "    </tr>\n",
       "    <tr>\n",
       "      <td>75%</td>\n",
       "      <td>10.700000</td>\n",
       "      <td>1379.000000</td>\n",
       "    </tr>\n",
       "    <tr>\n",
       "      <td>max</td>\n",
       "      <td>38.000000</td>\n",
       "      <td>1499.000000</td>\n",
       "    </tr>\n",
       "  </tbody>\n",
       "</table>\n",
       "</div>"
      ],
      "text/plain": [
       "            duration        user_id\n",
       "count  202607.000000  202607.000000\n",
       "mean        6.755887    1253.940619\n",
       "std         5.843365     144.722751\n",
       "min         0.000000    1000.000000\n",
       "25%         1.300000    1126.000000\n",
       "50%         6.000000    1260.000000\n",
       "75%        10.700000    1379.000000\n",
       "max        38.000000    1499.000000"
      ]
     },
     "execution_count": 5,
     "metadata": {},
     "output_type": "execute_result"
    }
   ],
   "source": [
    "calls.describe()"
   ]
  },
  {
   "cell_type": "markdown",
   "metadata": {},
   "source": [
    "В таблице 4 столбца. Типы данных: object, float и int.\n",
    "\n",
    "Согласно документации, столбцы отражают следующее:\n",
    "\n",
    "- `id` — уникальный номер звонка\n",
    "- `call_date` — дата звонка\n",
    "- `duration` — длительность звонка в минутах\n",
    "- `user_id` — идентификатор пользователя, сделавшего звонок"
   ]
  },
  {
   "cell_type": "markdown",
   "metadata": {},
   "source": [
    "### `internet.csv`"
   ]
  },
  {
   "cell_type": "markdown",
   "metadata": {},
   "source": [
    "Повторим то же самое для этого файла."
   ]
  },
  {
   "cell_type": "code",
   "execution_count": 6,
   "metadata": {},
   "outputs": [
    {
     "data": {
      "text/html": [
       "<div>\n",
       "<style scoped>\n",
       "    .dataframe tbody tr th:only-of-type {\n",
       "        vertical-align: middle;\n",
       "    }\n",
       "\n",
       "    .dataframe tbody tr th {\n",
       "        vertical-align: top;\n",
       "    }\n",
       "\n",
       "    .dataframe thead th {\n",
       "        text-align: right;\n",
       "    }\n",
       "</style>\n",
       "<table border=\"1\" class=\"dataframe\">\n",
       "  <thead>\n",
       "    <tr style=\"text-align: right;\">\n",
       "      <th></th>\n",
       "      <th>Unnamed: 0</th>\n",
       "      <th>id</th>\n",
       "      <th>mb_used</th>\n",
       "      <th>session_date</th>\n",
       "      <th>user_id</th>\n",
       "    </tr>\n",
       "  </thead>\n",
       "  <tbody>\n",
       "    <tr>\n",
       "      <td>0</td>\n",
       "      <td>0</td>\n",
       "      <td>1000_0</td>\n",
       "      <td>112.95</td>\n",
       "      <td>2018-11-25</td>\n",
       "      <td>1000</td>\n",
       "    </tr>\n",
       "    <tr>\n",
       "      <td>1</td>\n",
       "      <td>1</td>\n",
       "      <td>1000_1</td>\n",
       "      <td>1052.81</td>\n",
       "      <td>2018-09-07</td>\n",
       "      <td>1000</td>\n",
       "    </tr>\n",
       "    <tr>\n",
       "      <td>2</td>\n",
       "      <td>2</td>\n",
       "      <td>1000_2</td>\n",
       "      <td>1197.26</td>\n",
       "      <td>2018-06-25</td>\n",
       "      <td>1000</td>\n",
       "    </tr>\n",
       "    <tr>\n",
       "      <td>3</td>\n",
       "      <td>3</td>\n",
       "      <td>1000_3</td>\n",
       "      <td>550.27</td>\n",
       "      <td>2018-08-22</td>\n",
       "      <td>1000</td>\n",
       "    </tr>\n",
       "    <tr>\n",
       "      <td>4</td>\n",
       "      <td>4</td>\n",
       "      <td>1000_4</td>\n",
       "      <td>302.56</td>\n",
       "      <td>2018-09-24</td>\n",
       "      <td>1000</td>\n",
       "    </tr>\n",
       "    <tr>\n",
       "      <td>5</td>\n",
       "      <td>5</td>\n",
       "      <td>1000_5</td>\n",
       "      <td>399.97</td>\n",
       "      <td>2018-10-02</td>\n",
       "      <td>1000</td>\n",
       "    </tr>\n",
       "    <tr>\n",
       "      <td>6</td>\n",
       "      <td>6</td>\n",
       "      <td>1000_6</td>\n",
       "      <td>540.08</td>\n",
       "      <td>2018-09-07</td>\n",
       "      <td>1000</td>\n",
       "    </tr>\n",
       "    <tr>\n",
       "      <td>7</td>\n",
       "      <td>7</td>\n",
       "      <td>1000_7</td>\n",
       "      <td>415.70</td>\n",
       "      <td>2018-07-11</td>\n",
       "      <td>1000</td>\n",
       "    </tr>\n",
       "    <tr>\n",
       "      <td>8</td>\n",
       "      <td>8</td>\n",
       "      <td>1000_8</td>\n",
       "      <td>505.40</td>\n",
       "      <td>2018-10-08</td>\n",
       "      <td>1000</td>\n",
       "    </tr>\n",
       "    <tr>\n",
       "      <td>9</td>\n",
       "      <td>9</td>\n",
       "      <td>1000_9</td>\n",
       "      <td>345.54</td>\n",
       "      <td>2018-09-03</td>\n",
       "      <td>1000</td>\n",
       "    </tr>\n",
       "  </tbody>\n",
       "</table>\n",
       "</div>"
      ],
      "text/plain": [
       "   Unnamed: 0      id  mb_used session_date  user_id\n",
       "0           0  1000_0   112.95   2018-11-25     1000\n",
       "1           1  1000_1  1052.81   2018-09-07     1000\n",
       "2           2  1000_2  1197.26   2018-06-25     1000\n",
       "3           3  1000_3   550.27   2018-08-22     1000\n",
       "4           4  1000_4   302.56   2018-09-24     1000\n",
       "5           5  1000_5   399.97   2018-10-02     1000\n",
       "6           6  1000_6   540.08   2018-09-07     1000\n",
       "7           7  1000_7   415.70   2018-07-11     1000\n",
       "8           8  1000_8   505.40   2018-10-08     1000\n",
       "9           9  1000_9   345.54   2018-09-03     1000"
      ]
     },
     "execution_count": 6,
     "metadata": {},
     "output_type": "execute_result"
    }
   ],
   "source": [
    "internet = pd.read_csv('/datasets/internet.csv')\n",
    "internet.head(10)"
   ]
  },
  {
   "cell_type": "code",
   "execution_count": 7,
   "metadata": {},
   "outputs": [
    {
     "name": "stdout",
     "output_type": "stream",
     "text": [
      "<class 'pandas.core.frame.DataFrame'>\n",
      "RangeIndex: 149396 entries, 0 to 149395\n",
      "Data columns (total 5 columns):\n",
      "Unnamed: 0      149396 non-null int64\n",
      "id              149396 non-null object\n",
      "mb_used         149396 non-null float64\n",
      "session_date    149396 non-null object\n",
      "user_id         149396 non-null int64\n",
      "dtypes: float64(1), int64(2), object(2)\n",
      "memory usage: 5.7+ MB\n"
     ]
    }
   ],
   "source": [
    "internet.info()"
   ]
  },
  {
   "cell_type": "code",
   "execution_count": 8,
   "metadata": {},
   "outputs": [
    {
     "data": {
      "text/html": [
       "<div>\n",
       "<style scoped>\n",
       "    .dataframe tbody tr th:only-of-type {\n",
       "        vertical-align: middle;\n",
       "    }\n",
       "\n",
       "    .dataframe tbody tr th {\n",
       "        vertical-align: top;\n",
       "    }\n",
       "\n",
       "    .dataframe thead th {\n",
       "        text-align: right;\n",
       "    }\n",
       "</style>\n",
       "<table border=\"1\" class=\"dataframe\">\n",
       "  <thead>\n",
       "    <tr style=\"text-align: right;\">\n",
       "      <th></th>\n",
       "      <th>Unnamed: 0</th>\n",
       "      <th>mb_used</th>\n",
       "      <th>user_id</th>\n",
       "    </tr>\n",
       "  </thead>\n",
       "  <tbody>\n",
       "    <tr>\n",
       "      <td>count</td>\n",
       "      <td>149396.000000</td>\n",
       "      <td>149396.000000</td>\n",
       "      <td>149396.000000</td>\n",
       "    </tr>\n",
       "    <tr>\n",
       "      <td>mean</td>\n",
       "      <td>74697.500000</td>\n",
       "      <td>370.192426</td>\n",
       "      <td>1252.099842</td>\n",
       "    </tr>\n",
       "    <tr>\n",
       "      <td>std</td>\n",
       "      <td>43127.054745</td>\n",
       "      <td>278.300951</td>\n",
       "      <td>144.050823</td>\n",
       "    </tr>\n",
       "    <tr>\n",
       "      <td>min</td>\n",
       "      <td>0.000000</td>\n",
       "      <td>0.000000</td>\n",
       "      <td>1000.000000</td>\n",
       "    </tr>\n",
       "    <tr>\n",
       "      <td>25%</td>\n",
       "      <td>37348.750000</td>\n",
       "      <td>138.187500</td>\n",
       "      <td>1130.000000</td>\n",
       "    </tr>\n",
       "    <tr>\n",
       "      <td>50%</td>\n",
       "      <td>74697.500000</td>\n",
       "      <td>348.015000</td>\n",
       "      <td>1251.000000</td>\n",
       "    </tr>\n",
       "    <tr>\n",
       "      <td>75%</td>\n",
       "      <td>112046.250000</td>\n",
       "      <td>559.552500</td>\n",
       "      <td>1380.000000</td>\n",
       "    </tr>\n",
       "    <tr>\n",
       "      <td>max</td>\n",
       "      <td>149395.000000</td>\n",
       "      <td>1724.830000</td>\n",
       "      <td>1499.000000</td>\n",
       "    </tr>\n",
       "  </tbody>\n",
       "</table>\n",
       "</div>"
      ],
      "text/plain": [
       "          Unnamed: 0        mb_used        user_id\n",
       "count  149396.000000  149396.000000  149396.000000\n",
       "mean    74697.500000     370.192426    1252.099842\n",
       "std     43127.054745     278.300951     144.050823\n",
       "min         0.000000       0.000000    1000.000000\n",
       "25%     37348.750000     138.187500    1130.000000\n",
       "50%     74697.500000     348.015000    1251.000000\n",
       "75%    112046.250000     559.552500    1380.000000\n",
       "max    149395.000000    1724.830000    1499.000000"
      ]
     },
     "execution_count": 8,
     "metadata": {},
     "output_type": "execute_result"
    }
   ],
   "source": [
    "internet.describe()"
   ]
  },
  {
   "cell_type": "markdown",
   "metadata": {},
   "source": [
    "В таблице 5 столбцов (при чем первый из них, по всей видимости, лишний). Типы данных: object, float и int.\n",
    "\n",
    "Согласно документации, столбцы отражают следующее:\n",
    "\n",
    "- `id` — уникальный номер сессии\n",
    "- `mb_used` — объём потраченного за сессию интернет-трафика (в мегабайтах)\n",
    "- `session_date` — дата интернет-сессии\n",
    "- `user_id` — идентификатор пользователя"
   ]
  },
  {
   "cell_type": "markdown",
   "metadata": {},
   "source": [
    "### `messages.csv`"
   ]
  },
  {
   "cell_type": "markdown",
   "metadata": {},
   "source": [
    "Повторим то же самое для этого файла."
   ]
  },
  {
   "cell_type": "code",
   "execution_count": 9,
   "metadata": {},
   "outputs": [
    {
     "data": {
      "text/html": [
       "<div>\n",
       "<style scoped>\n",
       "    .dataframe tbody tr th:only-of-type {\n",
       "        vertical-align: middle;\n",
       "    }\n",
       "\n",
       "    .dataframe tbody tr th {\n",
       "        vertical-align: top;\n",
       "    }\n",
       "\n",
       "    .dataframe thead th {\n",
       "        text-align: right;\n",
       "    }\n",
       "</style>\n",
       "<table border=\"1\" class=\"dataframe\">\n",
       "  <thead>\n",
       "    <tr style=\"text-align: right;\">\n",
       "      <th></th>\n",
       "      <th>id</th>\n",
       "      <th>message_date</th>\n",
       "      <th>user_id</th>\n",
       "    </tr>\n",
       "  </thead>\n",
       "  <tbody>\n",
       "    <tr>\n",
       "      <td>0</td>\n",
       "      <td>1000_0</td>\n",
       "      <td>2018-06-27</td>\n",
       "      <td>1000</td>\n",
       "    </tr>\n",
       "    <tr>\n",
       "      <td>1</td>\n",
       "      <td>1000_1</td>\n",
       "      <td>2018-10-08</td>\n",
       "      <td>1000</td>\n",
       "    </tr>\n",
       "    <tr>\n",
       "      <td>2</td>\n",
       "      <td>1000_2</td>\n",
       "      <td>2018-08-04</td>\n",
       "      <td>1000</td>\n",
       "    </tr>\n",
       "    <tr>\n",
       "      <td>3</td>\n",
       "      <td>1000_3</td>\n",
       "      <td>2018-06-16</td>\n",
       "      <td>1000</td>\n",
       "    </tr>\n",
       "    <tr>\n",
       "      <td>4</td>\n",
       "      <td>1000_4</td>\n",
       "      <td>2018-12-05</td>\n",
       "      <td>1000</td>\n",
       "    </tr>\n",
       "    <tr>\n",
       "      <td>5</td>\n",
       "      <td>1000_5</td>\n",
       "      <td>2018-06-20</td>\n",
       "      <td>1000</td>\n",
       "    </tr>\n",
       "    <tr>\n",
       "      <td>6</td>\n",
       "      <td>1000_6</td>\n",
       "      <td>2018-11-19</td>\n",
       "      <td>1000</td>\n",
       "    </tr>\n",
       "    <tr>\n",
       "      <td>7</td>\n",
       "      <td>1000_7</td>\n",
       "      <td>2018-10-29</td>\n",
       "      <td>1000</td>\n",
       "    </tr>\n",
       "    <tr>\n",
       "      <td>8</td>\n",
       "      <td>1000_8</td>\n",
       "      <td>2018-06-25</td>\n",
       "      <td>1000</td>\n",
       "    </tr>\n",
       "    <tr>\n",
       "      <td>9</td>\n",
       "      <td>1000_9</td>\n",
       "      <td>2018-12-18</td>\n",
       "      <td>1000</td>\n",
       "    </tr>\n",
       "  </tbody>\n",
       "</table>\n",
       "</div>"
      ],
      "text/plain": [
       "       id message_date  user_id\n",
       "0  1000_0   2018-06-27     1000\n",
       "1  1000_1   2018-10-08     1000\n",
       "2  1000_2   2018-08-04     1000\n",
       "3  1000_3   2018-06-16     1000\n",
       "4  1000_4   2018-12-05     1000\n",
       "5  1000_5   2018-06-20     1000\n",
       "6  1000_6   2018-11-19     1000\n",
       "7  1000_7   2018-10-29     1000\n",
       "8  1000_8   2018-06-25     1000\n",
       "9  1000_9   2018-12-18     1000"
      ]
     },
     "execution_count": 9,
     "metadata": {},
     "output_type": "execute_result"
    }
   ],
   "source": [
    "messages = pd.read_csv('/datasets/messages.csv')\n",
    "messages.head(10)"
   ]
  },
  {
   "cell_type": "code",
   "execution_count": 10,
   "metadata": {},
   "outputs": [
    {
     "name": "stdout",
     "output_type": "stream",
     "text": [
      "<class 'pandas.core.frame.DataFrame'>\n",
      "RangeIndex: 123036 entries, 0 to 123035\n",
      "Data columns (total 3 columns):\n",
      "id              123036 non-null object\n",
      "message_date    123036 non-null object\n",
      "user_id         123036 non-null int64\n",
      "dtypes: int64(1), object(2)\n",
      "memory usage: 2.8+ MB\n"
     ]
    }
   ],
   "source": [
    "messages.info()"
   ]
  },
  {
   "cell_type": "code",
   "execution_count": 11,
   "metadata": {},
   "outputs": [
    {
     "data": {
      "text/html": [
       "<div>\n",
       "<style scoped>\n",
       "    .dataframe tbody tr th:only-of-type {\n",
       "        vertical-align: middle;\n",
       "    }\n",
       "\n",
       "    .dataframe tbody tr th {\n",
       "        vertical-align: top;\n",
       "    }\n",
       "\n",
       "    .dataframe thead th {\n",
       "        text-align: right;\n",
       "    }\n",
       "</style>\n",
       "<table border=\"1\" class=\"dataframe\">\n",
       "  <thead>\n",
       "    <tr style=\"text-align: right;\">\n",
       "      <th></th>\n",
       "      <th>user_id</th>\n",
       "    </tr>\n",
       "  </thead>\n",
       "  <tbody>\n",
       "    <tr>\n",
       "      <td>count</td>\n",
       "      <td>123036.000000</td>\n",
       "    </tr>\n",
       "    <tr>\n",
       "      <td>mean</td>\n",
       "      <td>1256.989410</td>\n",
       "    </tr>\n",
       "    <tr>\n",
       "      <td>std</td>\n",
       "      <td>143.523967</td>\n",
       "    </tr>\n",
       "    <tr>\n",
       "      <td>min</td>\n",
       "      <td>1000.000000</td>\n",
       "    </tr>\n",
       "    <tr>\n",
       "      <td>25%</td>\n",
       "      <td>1134.000000</td>\n",
       "    </tr>\n",
       "    <tr>\n",
       "      <td>50%</td>\n",
       "      <td>1271.000000</td>\n",
       "    </tr>\n",
       "    <tr>\n",
       "      <td>75%</td>\n",
       "      <td>1381.000000</td>\n",
       "    </tr>\n",
       "    <tr>\n",
       "      <td>max</td>\n",
       "      <td>1499.000000</td>\n",
       "    </tr>\n",
       "  </tbody>\n",
       "</table>\n",
       "</div>"
      ],
      "text/plain": [
       "             user_id\n",
       "count  123036.000000\n",
       "mean     1256.989410\n",
       "std       143.523967\n",
       "min      1000.000000\n",
       "25%      1134.000000\n",
       "50%      1271.000000\n",
       "75%      1381.000000\n",
       "max      1499.000000"
      ]
     },
     "execution_count": 11,
     "metadata": {},
     "output_type": "execute_result"
    }
   ],
   "source": [
    "messages.describe()"
   ]
  },
  {
   "cell_type": "markdown",
   "metadata": {},
   "source": [
    "В таблице 3 столбца. Типы данных: object, int.\n",
    "\n",
    "Согласно документации, столбцы отражают следующее:\n",
    "- `id` — уникальный номер сообщения\n",
    "- `message_date` — дата сообщения\n",
    "- `user_id` — идентификатор пользователя, отправившего сообщение"
   ]
  },
  {
   "cell_type": "markdown",
   "metadata": {},
   "source": [
    "### `tariffs.csv`"
   ]
  },
  {
   "cell_type": "markdown",
   "metadata": {},
   "source": [
    "Повторим то же самое для этого файла."
   ]
  },
  {
   "cell_type": "code",
   "execution_count": 12,
   "metadata": {},
   "outputs": [
    {
     "data": {
      "text/html": [
       "<div>\n",
       "<style scoped>\n",
       "    .dataframe tbody tr th:only-of-type {\n",
       "        vertical-align: middle;\n",
       "    }\n",
       "\n",
       "    .dataframe tbody tr th {\n",
       "        vertical-align: top;\n",
       "    }\n",
       "\n",
       "    .dataframe thead th {\n",
       "        text-align: right;\n",
       "    }\n",
       "</style>\n",
       "<table border=\"1\" class=\"dataframe\">\n",
       "  <thead>\n",
       "    <tr style=\"text-align: right;\">\n",
       "      <th></th>\n",
       "      <th>messages_included</th>\n",
       "      <th>mb_per_month_included</th>\n",
       "      <th>minutes_included</th>\n",
       "      <th>rub_monthly_fee</th>\n",
       "      <th>rub_per_gb</th>\n",
       "      <th>rub_per_message</th>\n",
       "      <th>rub_per_minute</th>\n",
       "      <th>tariff_name</th>\n",
       "    </tr>\n",
       "  </thead>\n",
       "  <tbody>\n",
       "    <tr>\n",
       "      <td>0</td>\n",
       "      <td>50</td>\n",
       "      <td>15360</td>\n",
       "      <td>500</td>\n",
       "      <td>550</td>\n",
       "      <td>200</td>\n",
       "      <td>3</td>\n",
       "      <td>3</td>\n",
       "      <td>smart</td>\n",
       "    </tr>\n",
       "    <tr>\n",
       "      <td>1</td>\n",
       "      <td>1000</td>\n",
       "      <td>30720</td>\n",
       "      <td>3000</td>\n",
       "      <td>1950</td>\n",
       "      <td>150</td>\n",
       "      <td>1</td>\n",
       "      <td>1</td>\n",
       "      <td>ultra</td>\n",
       "    </tr>\n",
       "  </tbody>\n",
       "</table>\n",
       "</div>"
      ],
      "text/plain": [
       "   messages_included  mb_per_month_included  minutes_included  \\\n",
       "0                 50                  15360               500   \n",
       "1               1000                  30720              3000   \n",
       "\n",
       "   rub_monthly_fee  rub_per_gb  rub_per_message  rub_per_minute tariff_name  \n",
       "0              550         200                3               3       smart  \n",
       "1             1950         150                1               1       ultra  "
      ]
     },
     "execution_count": 12,
     "metadata": {},
     "output_type": "execute_result"
    }
   ],
   "source": [
    "tariffs = pd.read_csv('/datasets/tariffs.csv')\n",
    "tariffs.head(10)"
   ]
  },
  {
   "cell_type": "code",
   "execution_count": 13,
   "metadata": {},
   "outputs": [
    {
     "name": "stdout",
     "output_type": "stream",
     "text": [
      "<class 'pandas.core.frame.DataFrame'>\n",
      "RangeIndex: 2 entries, 0 to 1\n",
      "Data columns (total 8 columns):\n",
      "messages_included        2 non-null int64\n",
      "mb_per_month_included    2 non-null int64\n",
      "minutes_included         2 non-null int64\n",
      "rub_monthly_fee          2 non-null int64\n",
      "rub_per_gb               2 non-null int64\n",
      "rub_per_message          2 non-null int64\n",
      "rub_per_minute           2 non-null int64\n",
      "tariff_name              2 non-null object\n",
      "dtypes: int64(7), object(1)\n",
      "memory usage: 256.0+ bytes\n"
     ]
    }
   ],
   "source": [
    "tariffs.info()"
   ]
  },
  {
   "cell_type": "markdown",
   "metadata": {},
   "source": [
    "В столбце 8 столбцов. Типы данных: object, int.\n",
    "\n",
    "Согласно документации, столбцы отражают следующее:\n",
    "- `tariff_name` — название тарифа\n",
    "- `rub_monthly_fee` — ежемесячная абонентская плата в рублях\n",
    "- `minutes_included` — количество минут разговора в месяц, включённых в абонентскую плату\n",
    "- `messages_included` — количество сообщений в месяц, включённых в абонентскую плату\n",
    "- `mb_per_month_included` — объём интернет-трафика, включённого в абонентскую плату (в мегабайтах)\n",
    "- `rub_per_minute` — стоимость минуты разговора сверх тарифного пакета (например, если в тарифе 100 минут разговора в месяц, то со 101 минуты будет взиматься плата)\n",
    "- `rub_per_message` — стоимость отправки сообщения сверх тарифного пакета\n",
    "- `rub_per_gb` — стоимость дополнительного гигабайта интернет-трафика сверх тарифного пакета (1 гигабайт = 1024 мегабайта)"
   ]
  },
  {
   "cell_type": "markdown",
   "metadata": {},
   "source": [
    "### `users.csv`"
   ]
  },
  {
   "cell_type": "markdown",
   "metadata": {},
   "source": [
    "Повторим то же самое для этого файла."
   ]
  },
  {
   "cell_type": "code",
   "execution_count": 14,
   "metadata": {},
   "outputs": [
    {
     "data": {
      "text/html": [
       "<div>\n",
       "<style scoped>\n",
       "    .dataframe tbody tr th:only-of-type {\n",
       "        vertical-align: middle;\n",
       "    }\n",
       "\n",
       "    .dataframe tbody tr th {\n",
       "        vertical-align: top;\n",
       "    }\n",
       "\n",
       "    .dataframe thead th {\n",
       "        text-align: right;\n",
       "    }\n",
       "</style>\n",
       "<table border=\"1\" class=\"dataframe\">\n",
       "  <thead>\n",
       "    <tr style=\"text-align: right;\">\n",
       "      <th></th>\n",
       "      <th>user_id</th>\n",
       "      <th>age</th>\n",
       "      <th>churn_date</th>\n",
       "      <th>city</th>\n",
       "      <th>first_name</th>\n",
       "      <th>last_name</th>\n",
       "      <th>reg_date</th>\n",
       "      <th>tariff</th>\n",
       "    </tr>\n",
       "  </thead>\n",
       "  <tbody>\n",
       "    <tr>\n",
       "      <td>0</td>\n",
       "      <td>1000</td>\n",
       "      <td>52</td>\n",
       "      <td>NaN</td>\n",
       "      <td>Краснодар</td>\n",
       "      <td>Рафаил</td>\n",
       "      <td>Верещагин</td>\n",
       "      <td>2018-05-25</td>\n",
       "      <td>ultra</td>\n",
       "    </tr>\n",
       "    <tr>\n",
       "      <td>1</td>\n",
       "      <td>1001</td>\n",
       "      <td>41</td>\n",
       "      <td>NaN</td>\n",
       "      <td>Москва</td>\n",
       "      <td>Иван</td>\n",
       "      <td>Ежов</td>\n",
       "      <td>2018-11-01</td>\n",
       "      <td>smart</td>\n",
       "    </tr>\n",
       "    <tr>\n",
       "      <td>2</td>\n",
       "      <td>1002</td>\n",
       "      <td>59</td>\n",
       "      <td>NaN</td>\n",
       "      <td>Стерлитамак</td>\n",
       "      <td>Евгений</td>\n",
       "      <td>Абрамович</td>\n",
       "      <td>2018-06-17</td>\n",
       "      <td>smart</td>\n",
       "    </tr>\n",
       "    <tr>\n",
       "      <td>3</td>\n",
       "      <td>1003</td>\n",
       "      <td>23</td>\n",
       "      <td>NaN</td>\n",
       "      <td>Москва</td>\n",
       "      <td>Белла</td>\n",
       "      <td>Белякова</td>\n",
       "      <td>2018-08-17</td>\n",
       "      <td>ultra</td>\n",
       "    </tr>\n",
       "    <tr>\n",
       "      <td>4</td>\n",
       "      <td>1004</td>\n",
       "      <td>68</td>\n",
       "      <td>NaN</td>\n",
       "      <td>Новокузнецк</td>\n",
       "      <td>Татьяна</td>\n",
       "      <td>Авдеенко</td>\n",
       "      <td>2018-05-14</td>\n",
       "      <td>ultra</td>\n",
       "    </tr>\n",
       "    <tr>\n",
       "      <td>5</td>\n",
       "      <td>1005</td>\n",
       "      <td>67</td>\n",
       "      <td>NaN</td>\n",
       "      <td>Набережные Челны</td>\n",
       "      <td>Афанасий</td>\n",
       "      <td>Горлов</td>\n",
       "      <td>2018-01-25</td>\n",
       "      <td>smart</td>\n",
       "    </tr>\n",
       "    <tr>\n",
       "      <td>6</td>\n",
       "      <td>1006</td>\n",
       "      <td>21</td>\n",
       "      <td>NaN</td>\n",
       "      <td>Ульяновск</td>\n",
       "      <td>Леонид</td>\n",
       "      <td>Ермолаев</td>\n",
       "      <td>2018-02-26</td>\n",
       "      <td>smart</td>\n",
       "    </tr>\n",
       "    <tr>\n",
       "      <td>7</td>\n",
       "      <td>1007</td>\n",
       "      <td>65</td>\n",
       "      <td>NaN</td>\n",
       "      <td>Москва</td>\n",
       "      <td>Юна</td>\n",
       "      <td>Березина</td>\n",
       "      <td>2018-04-19</td>\n",
       "      <td>smart</td>\n",
       "    </tr>\n",
       "    <tr>\n",
       "      <td>8</td>\n",
       "      <td>1008</td>\n",
       "      <td>63</td>\n",
       "      <td>NaN</td>\n",
       "      <td>Челябинск</td>\n",
       "      <td>Рустэм</td>\n",
       "      <td>Пономарёв</td>\n",
       "      <td>2018-12-19</td>\n",
       "      <td>smart</td>\n",
       "    </tr>\n",
       "    <tr>\n",
       "      <td>9</td>\n",
       "      <td>1009</td>\n",
       "      <td>24</td>\n",
       "      <td>NaN</td>\n",
       "      <td>Пермь</td>\n",
       "      <td>Василиса</td>\n",
       "      <td>Блинова</td>\n",
       "      <td>2018-03-22</td>\n",
       "      <td>smart</td>\n",
       "    </tr>\n",
       "  </tbody>\n",
       "</table>\n",
       "</div>"
      ],
      "text/plain": [
       "   user_id  age churn_date              city first_name  last_name  \\\n",
       "0     1000   52        NaN         Краснодар     Рафаил  Верещагин   \n",
       "1     1001   41        NaN            Москва       Иван       Ежов   \n",
       "2     1002   59        NaN       Стерлитамак    Евгений  Абрамович   \n",
       "3     1003   23        NaN            Москва      Белла   Белякова   \n",
       "4     1004   68        NaN       Новокузнецк    Татьяна   Авдеенко   \n",
       "5     1005   67        NaN  Набережные Челны   Афанасий     Горлов   \n",
       "6     1006   21        NaN         Ульяновск     Леонид   Ермолаев   \n",
       "7     1007   65        NaN            Москва        Юна   Березина   \n",
       "8     1008   63        NaN         Челябинск     Рустэм  Пономарёв   \n",
       "9     1009   24        NaN             Пермь   Василиса    Блинова   \n",
       "\n",
       "     reg_date tariff  \n",
       "0  2018-05-25  ultra  \n",
       "1  2018-11-01  smart  \n",
       "2  2018-06-17  smart  \n",
       "3  2018-08-17  ultra  \n",
       "4  2018-05-14  ultra  \n",
       "5  2018-01-25  smart  \n",
       "6  2018-02-26  smart  \n",
       "7  2018-04-19  smart  \n",
       "8  2018-12-19  smart  \n",
       "9  2018-03-22  smart  "
      ]
     },
     "execution_count": 14,
     "metadata": {},
     "output_type": "execute_result"
    }
   ],
   "source": [
    "users = pd.read_csv('/datasets/users.csv')\n",
    "users.head(10)"
   ]
  },
  {
   "cell_type": "code",
   "execution_count": 15,
   "metadata": {},
   "outputs": [
    {
     "name": "stdout",
     "output_type": "stream",
     "text": [
      "<class 'pandas.core.frame.DataFrame'>\n",
      "RangeIndex: 500 entries, 0 to 499\n",
      "Data columns (total 8 columns):\n",
      "user_id       500 non-null int64\n",
      "age           500 non-null int64\n",
      "churn_date    38 non-null object\n",
      "city          500 non-null object\n",
      "first_name    500 non-null object\n",
      "last_name     500 non-null object\n",
      "reg_date      500 non-null object\n",
      "tariff        500 non-null object\n",
      "dtypes: int64(2), object(6)\n",
      "memory usage: 31.4+ KB\n"
     ]
    }
   ],
   "source": [
    "users.info()"
   ]
  },
  {
   "cell_type": "code",
   "execution_count": 16,
   "metadata": {},
   "outputs": [
    {
     "data": {
      "text/html": [
       "<div>\n",
       "<style scoped>\n",
       "    .dataframe tbody tr th:only-of-type {\n",
       "        vertical-align: middle;\n",
       "    }\n",
       "\n",
       "    .dataframe tbody tr th {\n",
       "        vertical-align: top;\n",
       "    }\n",
       "\n",
       "    .dataframe thead th {\n",
       "        text-align: right;\n",
       "    }\n",
       "</style>\n",
       "<table border=\"1\" class=\"dataframe\">\n",
       "  <thead>\n",
       "    <tr style=\"text-align: right;\">\n",
       "      <th></th>\n",
       "      <th>user_id</th>\n",
       "      <th>age</th>\n",
       "    </tr>\n",
       "  </thead>\n",
       "  <tbody>\n",
       "    <tr>\n",
       "      <td>count</td>\n",
       "      <td>500.000000</td>\n",
       "      <td>500.00000</td>\n",
       "    </tr>\n",
       "    <tr>\n",
       "      <td>mean</td>\n",
       "      <td>1249.500000</td>\n",
       "      <td>46.58800</td>\n",
       "    </tr>\n",
       "    <tr>\n",
       "      <td>std</td>\n",
       "      <td>144.481833</td>\n",
       "      <td>16.66763</td>\n",
       "    </tr>\n",
       "    <tr>\n",
       "      <td>min</td>\n",
       "      <td>1000.000000</td>\n",
       "      <td>18.00000</td>\n",
       "    </tr>\n",
       "    <tr>\n",
       "      <td>25%</td>\n",
       "      <td>1124.750000</td>\n",
       "      <td>32.00000</td>\n",
       "    </tr>\n",
       "    <tr>\n",
       "      <td>50%</td>\n",
       "      <td>1249.500000</td>\n",
       "      <td>46.00000</td>\n",
       "    </tr>\n",
       "    <tr>\n",
       "      <td>75%</td>\n",
       "      <td>1374.250000</td>\n",
       "      <td>62.00000</td>\n",
       "    </tr>\n",
       "    <tr>\n",
       "      <td>max</td>\n",
       "      <td>1499.000000</td>\n",
       "      <td>75.00000</td>\n",
       "    </tr>\n",
       "  </tbody>\n",
       "</table>\n",
       "</div>"
      ],
      "text/plain": [
       "           user_id        age\n",
       "count   500.000000  500.00000\n",
       "mean   1249.500000   46.58800\n",
       "std     144.481833   16.66763\n",
       "min    1000.000000   18.00000\n",
       "25%    1124.750000   32.00000\n",
       "50%    1249.500000   46.00000\n",
       "75%    1374.250000   62.00000\n",
       "max    1499.000000   75.00000"
      ]
     },
     "execution_count": 16,
     "metadata": {},
     "output_type": "execute_result"
    }
   ],
   "source": [
    "users.describe()"
   ]
  },
  {
   "cell_type": "markdown",
   "metadata": {},
   "source": [
    "В столбце 8 столбцов. Типы данных: object, int.\n",
    "\n",
    "Согласно документации, столбцы отражают следующее:\n",
    "- `user_id` — уникальный идентификатор пользователя\n",
    "- `first_name` — имя пользователя\n",
    "- `last_name` — фамилия пользователя\n",
    "- `age` — возраст пользователя (годы)\n",
    "- `reg_date` — дата подключения тарифа (день, месяц, год)\n",
    "- `churn_date` — дата прекращения пользования тарифом (если значение пропущено, то тариф ещё действовал на момент выгрузки данных)\n",
    "- `city` — город проживания пользователя\n",
    "- `tariff` — название тарифного плана"
   ]
  },
  {
   "cell_type": "markdown",
   "metadata": {},
   "source": [
    "**Вывод**\n",
    "\n",
    "В данном пункте:\n",
    "- Было проведено ознакомление с данными. \n",
    "- По каждому файлу было описано, что означают те или иные столбцы."
   ]
  },
  {
   "cell_type": "markdown",
   "metadata": {},
   "source": [
    "## Подготовка данных"
   ]
  },
  {
   "cell_type": "markdown",
   "metadata": {},
   "source": [
    "### Смена типов данных"
   ]
  },
  {
   "cell_type": "markdown",
   "metadata": {},
   "source": [
    "Для всех датасетов необходимо привести дату в формат datetime, что в дальнейшем облегчит работу с данными столбцами."
   ]
  },
  {
   "cell_type": "code",
   "execution_count": 17,
   "metadata": {},
   "outputs": [],
   "source": [
    "calls['call_date'] = pd.to_datetime(calls['call_date'], format='%Y-%m-%d')\n",
    "internet['session_date'] = pd.to_datetime(internet['session_date'], format='%Y-%m-%d')\n",
    "messages['message_date'] = pd.to_datetime(messages['message_date'], format='%Y-%m-%d')\n",
    "users['churn_date'] = pd.to_datetime(users['churn_date'], format='%Y-%m-%d')"
   ]
  },
  {
   "cell_type": "markdown",
   "metadata": {},
   "source": [
    "### Проверка данных на ошибки"
   ]
  },
  {
   "cell_type": "markdown",
   "metadata": {},
   "source": [
    "В качестве \"ошибок\" можно выделить лишний столбец в файле `internet`, который можно удалить."
   ]
  },
  {
   "cell_type": "code",
   "execution_count": 18,
   "metadata": {},
   "outputs": [],
   "source": [
    "internet.drop(internet.columns[0],axis=1,inplace=True)"
   ]
  },
  {
   "cell_type": "markdown",
   "metadata": {},
   "source": [
    "Также в датасетах присутствуют нулевые значения звонков и переданного интернет-трафика.\n",
    "\n",
    "Согласно исходным данным, нулевые значения продолжительности звонков - входящие звонки. \n",
    "\n",
    "При этом о причинах нулевого трафика за интернет-сессию говорить сложно. Проверим количество таких строк."
   ]
  },
  {
   "cell_type": "code",
   "execution_count": 19,
   "metadata": {},
   "outputs": [
    {
     "data": {
      "text/plain": [
       "19598"
      ]
     },
     "execution_count": 19,
     "metadata": {},
     "output_type": "execute_result"
    }
   ],
   "source": [
    "internet.query('mb_used == 0').shape[0]"
   ]
  },
  {
   "cell_type": "markdown",
   "metadata": {},
   "source": [
    "Таких строк всего около 20 тысяч. Напомним, что всего в датасете порядка 150 тысяч значений. Можно предположить, что за 0 засчитывались случаи, когда у абонента был включен интернет, но не было никакого обмена данными. На расчеты это нам повлиять не должно, так как мы будем считать количество потраченных мегабайт."
   ]
  },
  {
   "cell_type": "markdown",
   "metadata": {},
   "source": [
    "### Расчет активности каждого пользователя по месяцам"
   ]
  },
  {
   "cell_type": "markdown",
   "metadata": {},
   "source": [
    "#### Количество сделанных звонков и израсходованных минут"
   ]
  },
  {
   "cell_type": "markdown",
   "metadata": {},
   "source": [
    "Для начала добавим столбец с месяцем для каждой строки в датасете и выведем первые 5 строк на экран."
   ]
  },
  {
   "cell_type": "code",
   "execution_count": 20,
   "metadata": {},
   "outputs": [
    {
     "data": {
      "text/html": [
       "<div>\n",
       "<style scoped>\n",
       "    .dataframe tbody tr th:only-of-type {\n",
       "        vertical-align: middle;\n",
       "    }\n",
       "\n",
       "    .dataframe tbody tr th {\n",
       "        vertical-align: top;\n",
       "    }\n",
       "\n",
       "    .dataframe thead th {\n",
       "        text-align: right;\n",
       "    }\n",
       "</style>\n",
       "<table border=\"1\" class=\"dataframe\">\n",
       "  <thead>\n",
       "    <tr style=\"text-align: right;\">\n",
       "      <th></th>\n",
       "      <th>id</th>\n",
       "      <th>call_date</th>\n",
       "      <th>duration</th>\n",
       "      <th>user_id</th>\n",
       "      <th>month</th>\n",
       "    </tr>\n",
       "  </thead>\n",
       "  <tbody>\n",
       "    <tr>\n",
       "      <td>0</td>\n",
       "      <td>1000_0</td>\n",
       "      <td>2018-07-25</td>\n",
       "      <td>0.00</td>\n",
       "      <td>1000</td>\n",
       "      <td>7</td>\n",
       "    </tr>\n",
       "    <tr>\n",
       "      <td>1</td>\n",
       "      <td>1000_1</td>\n",
       "      <td>2018-08-17</td>\n",
       "      <td>0.00</td>\n",
       "      <td>1000</td>\n",
       "      <td>8</td>\n",
       "    </tr>\n",
       "    <tr>\n",
       "      <td>2</td>\n",
       "      <td>1000_2</td>\n",
       "      <td>2018-06-11</td>\n",
       "      <td>2.85</td>\n",
       "      <td>1000</td>\n",
       "      <td>6</td>\n",
       "    </tr>\n",
       "    <tr>\n",
       "      <td>3</td>\n",
       "      <td>1000_3</td>\n",
       "      <td>2018-09-21</td>\n",
       "      <td>13.80</td>\n",
       "      <td>1000</td>\n",
       "      <td>9</td>\n",
       "    </tr>\n",
       "    <tr>\n",
       "      <td>4</td>\n",
       "      <td>1000_4</td>\n",
       "      <td>2018-12-15</td>\n",
       "      <td>5.18</td>\n",
       "      <td>1000</td>\n",
       "      <td>12</td>\n",
       "    </tr>\n",
       "  </tbody>\n",
       "</table>\n",
       "</div>"
      ],
      "text/plain": [
       "       id  call_date  duration  user_id  month\n",
       "0  1000_0 2018-07-25      0.00     1000      7\n",
       "1  1000_1 2018-08-17      0.00     1000      8\n",
       "2  1000_2 2018-06-11      2.85     1000      6\n",
       "3  1000_3 2018-09-21     13.80     1000      9\n",
       "4  1000_4 2018-12-15      5.18     1000     12"
      ]
     },
     "execution_count": 20,
     "metadata": {},
     "output_type": "execute_result"
    }
   ],
   "source": [
    "calls['month'] = pd.DatetimeIndex(calls['call_date']).month\n",
    "calls.head(5)"
   ]
  },
  {
   "cell_type": "markdown",
   "metadata": {},
   "source": [
    "Теперь создадим сводную таблицу по исходящим звонкам (то есть длительностью больше 0 мин). Посчитаем для каждого пользователя количество и сумму исходящих звонков для каждого месяца. \n",
    "\n",
    "Выведем первые 5 строк на экран."
   ]
  },
  {
   "cell_type": "code",
   "execution_count": 21,
   "metadata": {},
   "outputs": [
    {
     "data": {
      "text/html": [
       "<div>\n",
       "<style scoped>\n",
       "    .dataframe tbody tr th:only-of-type {\n",
       "        vertical-align: middle;\n",
       "    }\n",
       "\n",
       "    .dataframe tbody tr th {\n",
       "        vertical-align: top;\n",
       "    }\n",
       "\n",
       "    .dataframe thead tr th {\n",
       "        text-align: left;\n",
       "    }\n",
       "\n",
       "    .dataframe thead tr:last-of-type th {\n",
       "        text-align: right;\n",
       "    }\n",
       "</style>\n",
       "<table border=\"1\" class=\"dataframe\">\n",
       "  <thead>\n",
       "    <tr>\n",
       "      <th></th>\n",
       "      <th></th>\n",
       "      <th>sum</th>\n",
       "      <th>count</th>\n",
       "    </tr>\n",
       "    <tr>\n",
       "      <th></th>\n",
       "      <th></th>\n",
       "      <th>duration</th>\n",
       "      <th>duration</th>\n",
       "    </tr>\n",
       "    <tr>\n",
       "      <th>user_id</th>\n",
       "      <th>month</th>\n",
       "      <th></th>\n",
       "      <th></th>\n",
       "    </tr>\n",
       "  </thead>\n",
       "  <tbody>\n",
       "    <tr>\n",
       "      <td rowspan=\"5\" valign=\"top\">1000</td>\n",
       "      <td>5</td>\n",
       "      <td>150.06</td>\n",
       "      <td>17</td>\n",
       "    </tr>\n",
       "    <tr>\n",
       "      <td>6</td>\n",
       "      <td>158.90</td>\n",
       "      <td>28</td>\n",
       "    </tr>\n",
       "    <tr>\n",
       "      <td>7</td>\n",
       "      <td>318.80</td>\n",
       "      <td>41</td>\n",
       "    </tr>\n",
       "    <tr>\n",
       "      <td>8</td>\n",
       "      <td>389.87</td>\n",
       "      <td>42</td>\n",
       "    </tr>\n",
       "    <tr>\n",
       "      <td>9</td>\n",
       "      <td>440.14</td>\n",
       "      <td>46</td>\n",
       "    </tr>\n",
       "  </tbody>\n",
       "</table>\n",
       "</div>"
      ],
      "text/plain": [
       "                   sum    count\n",
       "              duration duration\n",
       "user_id month                  \n",
       "1000    5       150.06       17\n",
       "        6       158.90       28\n",
       "        7       318.80       41\n",
       "        8       389.87       42\n",
       "        9       440.14       46"
      ]
     },
     "execution_count": 21,
     "metadata": {},
     "output_type": "execute_result"
    }
   ],
   "source": [
    "user_calls = (pd.\n",
    "              pivot_table(calls.query('duration > 0'),\n",
    "                          index=['user_id','month'],\n",
    "                          values='duration',\n",
    "                          aggfunc=['sum','count'])\n",
    "             )\n",
    "user_calls.head(5)"
   ]
  },
  {
   "cell_type": "markdown",
   "metadata": {},
   "source": [
    "#### Количество отправленных сообщений"
   ]
  },
  {
   "cell_type": "markdown",
   "metadata": {},
   "source": [
    "Проделаем то же самое для отправленных сообщений.\n",
    "\n",
    "Добавим столбец с месяцем."
   ]
  },
  {
   "cell_type": "code",
   "execution_count": 22,
   "metadata": {},
   "outputs": [
    {
     "data": {
      "text/html": [
       "<div>\n",
       "<style scoped>\n",
       "    .dataframe tbody tr th:only-of-type {\n",
       "        vertical-align: middle;\n",
       "    }\n",
       "\n",
       "    .dataframe tbody tr th {\n",
       "        vertical-align: top;\n",
       "    }\n",
       "\n",
       "    .dataframe thead th {\n",
       "        text-align: right;\n",
       "    }\n",
       "</style>\n",
       "<table border=\"1\" class=\"dataframe\">\n",
       "  <thead>\n",
       "    <tr style=\"text-align: right;\">\n",
       "      <th></th>\n",
       "      <th>id</th>\n",
       "      <th>message_date</th>\n",
       "      <th>user_id</th>\n",
       "      <th>month</th>\n",
       "    </tr>\n",
       "  </thead>\n",
       "  <tbody>\n",
       "    <tr>\n",
       "      <td>0</td>\n",
       "      <td>1000_0</td>\n",
       "      <td>2018-06-27</td>\n",
       "      <td>1000</td>\n",
       "      <td>6</td>\n",
       "    </tr>\n",
       "    <tr>\n",
       "      <td>1</td>\n",
       "      <td>1000_1</td>\n",
       "      <td>2018-10-08</td>\n",
       "      <td>1000</td>\n",
       "      <td>10</td>\n",
       "    </tr>\n",
       "    <tr>\n",
       "      <td>2</td>\n",
       "      <td>1000_2</td>\n",
       "      <td>2018-08-04</td>\n",
       "      <td>1000</td>\n",
       "      <td>8</td>\n",
       "    </tr>\n",
       "    <tr>\n",
       "      <td>3</td>\n",
       "      <td>1000_3</td>\n",
       "      <td>2018-06-16</td>\n",
       "      <td>1000</td>\n",
       "      <td>6</td>\n",
       "    </tr>\n",
       "    <tr>\n",
       "      <td>4</td>\n",
       "      <td>1000_4</td>\n",
       "      <td>2018-12-05</td>\n",
       "      <td>1000</td>\n",
       "      <td>12</td>\n",
       "    </tr>\n",
       "  </tbody>\n",
       "</table>\n",
       "</div>"
      ],
      "text/plain": [
       "       id message_date  user_id  month\n",
       "0  1000_0   2018-06-27     1000      6\n",
       "1  1000_1   2018-10-08     1000     10\n",
       "2  1000_2   2018-08-04     1000      8\n",
       "3  1000_3   2018-06-16     1000      6\n",
       "4  1000_4   2018-12-05     1000     12"
      ]
     },
     "execution_count": 22,
     "metadata": {},
     "output_type": "execute_result"
    }
   ],
   "source": [
    "messages['month'] = pd.DatetimeIndex(messages['message_date']).month\n",
    "messages.head()"
   ]
  },
  {
   "cell_type": "markdown",
   "metadata": {},
   "source": [
    "Создаем сводную таблицу и выводим первые 10 строк на экран."
   ]
  },
  {
   "cell_type": "code",
   "execution_count": 23,
   "metadata": {},
   "outputs": [
    {
     "data": {
      "text/html": [
       "<div>\n",
       "<style scoped>\n",
       "    .dataframe tbody tr th:only-of-type {\n",
       "        vertical-align: middle;\n",
       "    }\n",
       "\n",
       "    .dataframe tbody tr th {\n",
       "        vertical-align: top;\n",
       "    }\n",
       "\n",
       "    .dataframe thead th {\n",
       "        text-align: right;\n",
       "    }\n",
       "</style>\n",
       "<table border=\"1\" class=\"dataframe\">\n",
       "  <thead>\n",
       "    <tr style=\"text-align: right;\">\n",
       "      <th></th>\n",
       "      <th></th>\n",
       "      <th>message_date</th>\n",
       "    </tr>\n",
       "    <tr>\n",
       "      <th>user_id</th>\n",
       "      <th>month</th>\n",
       "      <th></th>\n",
       "    </tr>\n",
       "  </thead>\n",
       "  <tbody>\n",
       "    <tr>\n",
       "      <td rowspan=\"5\" valign=\"top\">1000</td>\n",
       "      <td>5</td>\n",
       "      <td>22</td>\n",
       "    </tr>\n",
       "    <tr>\n",
       "      <td>6</td>\n",
       "      <td>60</td>\n",
       "    </tr>\n",
       "    <tr>\n",
       "      <td>7</td>\n",
       "      <td>75</td>\n",
       "    </tr>\n",
       "    <tr>\n",
       "      <td>8</td>\n",
       "      <td>81</td>\n",
       "    </tr>\n",
       "    <tr>\n",
       "      <td>9</td>\n",
       "      <td>57</td>\n",
       "    </tr>\n",
       "  </tbody>\n",
       "</table>\n",
       "</div>"
      ],
      "text/plain": [
       "               message_date\n",
       "user_id month              \n",
       "1000    5                22\n",
       "        6                60\n",
       "        7                75\n",
       "        8                81\n",
       "        9                57"
      ]
     },
     "execution_count": 23,
     "metadata": {},
     "output_type": "execute_result"
    }
   ],
   "source": [
    "user_messages = (pd.\n",
    "                 pivot_table(messages,\n",
    "                             index=['user_id', 'month'],\n",
    "                             values='message_date',\n",
    "                             aggfunc='count')\n",
    "                )\n",
    "user_messages.head()"
   ]
  },
  {
   "cell_type": "markdown",
   "metadata": {},
   "source": [
    "#### Объем израсходанного интернет-трафика"
   ]
  },
  {
   "cell_type": "markdown",
   "metadata": {},
   "source": [
    "Проделаем то же самое для интернет-трафика.\n",
    "\n",
    "Добавим столбец с месяцем."
   ]
  },
  {
   "cell_type": "code",
   "execution_count": 24,
   "metadata": {},
   "outputs": [
    {
     "data": {
      "text/html": [
       "<div>\n",
       "<style scoped>\n",
       "    .dataframe tbody tr th:only-of-type {\n",
       "        vertical-align: middle;\n",
       "    }\n",
       "\n",
       "    .dataframe tbody tr th {\n",
       "        vertical-align: top;\n",
       "    }\n",
       "\n",
       "    .dataframe thead th {\n",
       "        text-align: right;\n",
       "    }\n",
       "</style>\n",
       "<table border=\"1\" class=\"dataframe\">\n",
       "  <thead>\n",
       "    <tr style=\"text-align: right;\">\n",
       "      <th></th>\n",
       "      <th>id</th>\n",
       "      <th>mb_used</th>\n",
       "      <th>session_date</th>\n",
       "      <th>user_id</th>\n",
       "      <th>month</th>\n",
       "    </tr>\n",
       "  </thead>\n",
       "  <tbody>\n",
       "    <tr>\n",
       "      <td>0</td>\n",
       "      <td>1000_0</td>\n",
       "      <td>112.95</td>\n",
       "      <td>2018-11-25</td>\n",
       "      <td>1000</td>\n",
       "      <td>11</td>\n",
       "    </tr>\n",
       "    <tr>\n",
       "      <td>1</td>\n",
       "      <td>1000_1</td>\n",
       "      <td>1052.81</td>\n",
       "      <td>2018-09-07</td>\n",
       "      <td>1000</td>\n",
       "      <td>9</td>\n",
       "    </tr>\n",
       "    <tr>\n",
       "      <td>2</td>\n",
       "      <td>1000_2</td>\n",
       "      <td>1197.26</td>\n",
       "      <td>2018-06-25</td>\n",
       "      <td>1000</td>\n",
       "      <td>6</td>\n",
       "    </tr>\n",
       "    <tr>\n",
       "      <td>3</td>\n",
       "      <td>1000_3</td>\n",
       "      <td>550.27</td>\n",
       "      <td>2018-08-22</td>\n",
       "      <td>1000</td>\n",
       "      <td>8</td>\n",
       "    </tr>\n",
       "    <tr>\n",
       "      <td>4</td>\n",
       "      <td>1000_4</td>\n",
       "      <td>302.56</td>\n",
       "      <td>2018-09-24</td>\n",
       "      <td>1000</td>\n",
       "      <td>9</td>\n",
       "    </tr>\n",
       "  </tbody>\n",
       "</table>\n",
       "</div>"
      ],
      "text/plain": [
       "       id  mb_used session_date  user_id  month\n",
       "0  1000_0   112.95   2018-11-25     1000     11\n",
       "1  1000_1  1052.81   2018-09-07     1000      9\n",
       "2  1000_2  1197.26   2018-06-25     1000      6\n",
       "3  1000_3   550.27   2018-08-22     1000      8\n",
       "4  1000_4   302.56   2018-09-24     1000      9"
      ]
     },
     "execution_count": 24,
     "metadata": {},
     "output_type": "execute_result"
    }
   ],
   "source": [
    "internet['month'] = pd.DatetimeIndex(internet['session_date']).month\n",
    "internet.head()"
   ]
  },
  {
   "cell_type": "markdown",
   "metadata": {},
   "source": [
    "Создадим сводную таблицу и выведем первые 10 строк на экран."
   ]
  },
  {
   "cell_type": "code",
   "execution_count": 25,
   "metadata": {},
   "outputs": [
    {
     "data": {
      "text/html": [
       "<div>\n",
       "<style scoped>\n",
       "    .dataframe tbody tr th:only-of-type {\n",
       "        vertical-align: middle;\n",
       "    }\n",
       "\n",
       "    .dataframe tbody tr th {\n",
       "        vertical-align: top;\n",
       "    }\n",
       "\n",
       "    .dataframe thead th {\n",
       "        text-align: right;\n",
       "    }\n",
       "</style>\n",
       "<table border=\"1\" class=\"dataframe\">\n",
       "  <thead>\n",
       "    <tr style=\"text-align: right;\">\n",
       "      <th></th>\n",
       "      <th></th>\n",
       "      <th>mb_used</th>\n",
       "    </tr>\n",
       "    <tr>\n",
       "      <th>user_id</th>\n",
       "      <th>month</th>\n",
       "      <th></th>\n",
       "    </tr>\n",
       "  </thead>\n",
       "  <tbody>\n",
       "    <tr>\n",
       "      <td rowspan=\"5\" valign=\"top\">1000</td>\n",
       "      <td>5</td>\n",
       "      <td>2253.49</td>\n",
       "    </tr>\n",
       "    <tr>\n",
       "      <td>6</td>\n",
       "      <td>23233.77</td>\n",
       "    </tr>\n",
       "    <tr>\n",
       "      <td>7</td>\n",
       "      <td>14003.64</td>\n",
       "    </tr>\n",
       "    <tr>\n",
       "      <td>8</td>\n",
       "      <td>14055.93</td>\n",
       "    </tr>\n",
       "    <tr>\n",
       "      <td>9</td>\n",
       "      <td>14568.91</td>\n",
       "    </tr>\n",
       "  </tbody>\n",
       "</table>\n",
       "</div>"
      ],
      "text/plain": [
       "                mb_used\n",
       "user_id month          \n",
       "1000    5       2253.49\n",
       "        6      23233.77\n",
       "        7      14003.64\n",
       "        8      14055.93\n",
       "        9      14568.91"
      ]
     },
     "execution_count": 25,
     "metadata": {},
     "output_type": "execute_result"
    }
   ],
   "source": [
    "user_internet = (pd.\n",
    "                 pivot_table(internet,\n",
    "                            index=['user_id', 'month'],\n",
    "                            values='mb_used',\n",
    "                            aggfunc='sum')\n",
    "                )\n",
    "user_internet.head()"
   ]
  },
  {
   "cell_type": "markdown",
   "metadata": {},
   "source": [
    "#### Выручка с каждого абонента"
   ]
  },
  {
   "cell_type": "markdown",
   "metadata": {},
   "source": [
    "Соединим все три таблицы по каждому пользователю и выведем первые 5 строк на экран."
   ]
  },
  {
   "cell_type": "code",
   "execution_count": 26,
   "metadata": {},
   "outputs": [
    {
     "name": "stderr",
     "output_type": "stream",
     "text": [
      "/opt/conda/lib/python3.7/site-packages/pandas/core/reshape/merge.py:617: UserWarning: merging between different levels can give an unintended result (2 levels on the left, 1 on the right)\n",
      "  warnings.warn(msg, UserWarning)\n"
     ]
    },
    {
     "data": {
      "text/html": [
       "<div>\n",
       "<style scoped>\n",
       "    .dataframe tbody tr th:only-of-type {\n",
       "        vertical-align: middle;\n",
       "    }\n",
       "\n",
       "    .dataframe tbody tr th {\n",
       "        vertical-align: top;\n",
       "    }\n",
       "\n",
       "    .dataframe thead th {\n",
       "        text-align: right;\n",
       "    }\n",
       "</style>\n",
       "<table border=\"1\" class=\"dataframe\">\n",
       "  <thead>\n",
       "    <tr style=\"text-align: right;\">\n",
       "      <th></th>\n",
       "      <th></th>\n",
       "      <th>(sum, duration)</th>\n",
       "      <th>(count, duration)</th>\n",
       "      <th>message_date</th>\n",
       "      <th>mb_used</th>\n",
       "    </tr>\n",
       "    <tr>\n",
       "      <th>user_id</th>\n",
       "      <th>month</th>\n",
       "      <th></th>\n",
       "      <th></th>\n",
       "      <th></th>\n",
       "      <th></th>\n",
       "    </tr>\n",
       "  </thead>\n",
       "  <tbody>\n",
       "    <tr>\n",
       "      <td rowspan=\"5\" valign=\"top\">1000</td>\n",
       "      <td>5</td>\n",
       "      <td>150.06</td>\n",
       "      <td>17.0</td>\n",
       "      <td>22.0</td>\n",
       "      <td>2253.49</td>\n",
       "    </tr>\n",
       "    <tr>\n",
       "      <td>6</td>\n",
       "      <td>158.90</td>\n",
       "      <td>28.0</td>\n",
       "      <td>60.0</td>\n",
       "      <td>23233.77</td>\n",
       "    </tr>\n",
       "    <tr>\n",
       "      <td>7</td>\n",
       "      <td>318.80</td>\n",
       "      <td>41.0</td>\n",
       "      <td>75.0</td>\n",
       "      <td>14003.64</td>\n",
       "    </tr>\n",
       "    <tr>\n",
       "      <td>8</td>\n",
       "      <td>389.87</td>\n",
       "      <td>42.0</td>\n",
       "      <td>81.0</td>\n",
       "      <td>14055.93</td>\n",
       "    </tr>\n",
       "    <tr>\n",
       "      <td>9</td>\n",
       "      <td>440.14</td>\n",
       "      <td>46.0</td>\n",
       "      <td>57.0</td>\n",
       "      <td>14568.91</td>\n",
       "    </tr>\n",
       "  </tbody>\n",
       "</table>\n",
       "</div>"
      ],
      "text/plain": [
       "               (sum, duration)  (count, duration)  message_date   mb_used\n",
       "user_id month                                                            \n",
       "1000    5               150.06               17.0          22.0   2253.49\n",
       "        6               158.90               28.0          60.0  23233.77\n",
       "        7               318.80               41.0          75.0  14003.64\n",
       "        8               389.87               42.0          81.0  14055.93\n",
       "        9               440.14               46.0          57.0  14568.91"
      ]
     },
     "execution_count": 26,
     "metadata": {},
     "output_type": "execute_result"
    }
   ],
   "source": [
    "user_usage = (pd.\n",
    "              merge(user_calls, user_messages, on=['user_id','month'], how='outer').\n",
    "              merge(user_internet, on=['user_id','month'], how='outer')\n",
    "             )\n",
    "user_usage.head(5)"
   ]
  },
  {
   "cell_type": "markdown",
   "metadata": {},
   "source": [
    "Переименуем столбцы для удобства и выведем первые 5 строк на экран."
   ]
  },
  {
   "cell_type": "code",
   "execution_count": 27,
   "metadata": {},
   "outputs": [
    {
     "data": {
      "text/html": [
       "<div>\n",
       "<style scoped>\n",
       "    .dataframe tbody tr th:only-of-type {\n",
       "        vertical-align: middle;\n",
       "    }\n",
       "\n",
       "    .dataframe tbody tr th {\n",
       "        vertical-align: top;\n",
       "    }\n",
       "\n",
       "    .dataframe thead th {\n",
       "        text-align: right;\n",
       "    }\n",
       "</style>\n",
       "<table border=\"1\" class=\"dataframe\">\n",
       "  <thead>\n",
       "    <tr style=\"text-align: right;\">\n",
       "      <th></th>\n",
       "      <th></th>\n",
       "      <th>call_duration</th>\n",
       "      <th>call_count</th>\n",
       "      <th>messages</th>\n",
       "      <th>internet</th>\n",
       "    </tr>\n",
       "    <tr>\n",
       "      <th>user_id</th>\n",
       "      <th>month</th>\n",
       "      <th></th>\n",
       "      <th></th>\n",
       "      <th></th>\n",
       "      <th></th>\n",
       "    </tr>\n",
       "  </thead>\n",
       "  <tbody>\n",
       "    <tr>\n",
       "      <td rowspan=\"5\" valign=\"top\">1000</td>\n",
       "      <td>5</td>\n",
       "      <td>150.06</td>\n",
       "      <td>17.0</td>\n",
       "      <td>22.0</td>\n",
       "      <td>2253.49</td>\n",
       "    </tr>\n",
       "    <tr>\n",
       "      <td>6</td>\n",
       "      <td>158.90</td>\n",
       "      <td>28.0</td>\n",
       "      <td>60.0</td>\n",
       "      <td>23233.77</td>\n",
       "    </tr>\n",
       "    <tr>\n",
       "      <td>7</td>\n",
       "      <td>318.80</td>\n",
       "      <td>41.0</td>\n",
       "      <td>75.0</td>\n",
       "      <td>14003.64</td>\n",
       "    </tr>\n",
       "    <tr>\n",
       "      <td>8</td>\n",
       "      <td>389.87</td>\n",
       "      <td>42.0</td>\n",
       "      <td>81.0</td>\n",
       "      <td>14055.93</td>\n",
       "    </tr>\n",
       "    <tr>\n",
       "      <td>9</td>\n",
       "      <td>440.14</td>\n",
       "      <td>46.0</td>\n",
       "      <td>57.0</td>\n",
       "      <td>14568.91</td>\n",
       "    </tr>\n",
       "  </tbody>\n",
       "</table>\n",
       "</div>"
      ],
      "text/plain": [
       "               call_duration  call_count  messages  internet\n",
       "user_id month                                               \n",
       "1000    5             150.06        17.0      22.0   2253.49\n",
       "        6             158.90        28.0      60.0  23233.77\n",
       "        7             318.80        41.0      75.0  14003.64\n",
       "        8             389.87        42.0      81.0  14055.93\n",
       "        9             440.14        46.0      57.0  14568.91"
      ]
     },
     "execution_count": 27,
     "metadata": {},
     "output_type": "execute_result"
    }
   ],
   "source": [
    "columns_new = ['call_duration', 'call_count', 'messages', 'internet']\n",
    "\n",
    "for i in range(4):\n",
    "    user_usage = user_usage.rename(columns={user_usage.columns[i]:columns_new[i]})\n",
    "user_usage.head()"
   ]
  },
  {
   "cell_type": "markdown",
   "metadata": {},
   "source": [
    "Уберем мульти-индекс, созданный сводной таблицей для того, чтобы в дальнейшем в каждой строке прописать тариф пользователя. Выведем первые 10 строк на экран."
   ]
  },
  {
   "cell_type": "code",
   "execution_count": 28,
   "metadata": {},
   "outputs": [
    {
     "data": {
      "text/html": [
       "<div>\n",
       "<style scoped>\n",
       "    .dataframe tbody tr th:only-of-type {\n",
       "        vertical-align: middle;\n",
       "    }\n",
       "\n",
       "    .dataframe tbody tr th {\n",
       "        vertical-align: top;\n",
       "    }\n",
       "\n",
       "    .dataframe thead th {\n",
       "        text-align: right;\n",
       "    }\n",
       "</style>\n",
       "<table border=\"1\" class=\"dataframe\">\n",
       "  <thead>\n",
       "    <tr style=\"text-align: right;\">\n",
       "      <th></th>\n",
       "      <th>month</th>\n",
       "      <th>call_duration</th>\n",
       "      <th>call_count</th>\n",
       "      <th>messages</th>\n",
       "      <th>internet</th>\n",
       "    </tr>\n",
       "    <tr>\n",
       "      <th>user_id</th>\n",
       "      <th></th>\n",
       "      <th></th>\n",
       "      <th></th>\n",
       "      <th></th>\n",
       "      <th></th>\n",
       "    </tr>\n",
       "  </thead>\n",
       "  <tbody>\n",
       "    <tr>\n",
       "      <td>1000</td>\n",
       "      <td>5</td>\n",
       "      <td>150.06</td>\n",
       "      <td>17.0</td>\n",
       "      <td>22.0</td>\n",
       "      <td>2253.49</td>\n",
       "    </tr>\n",
       "    <tr>\n",
       "      <td>1000</td>\n",
       "      <td>6</td>\n",
       "      <td>158.90</td>\n",
       "      <td>28.0</td>\n",
       "      <td>60.0</td>\n",
       "      <td>23233.77</td>\n",
       "    </tr>\n",
       "    <tr>\n",
       "      <td>1000</td>\n",
       "      <td>7</td>\n",
       "      <td>318.80</td>\n",
       "      <td>41.0</td>\n",
       "      <td>75.0</td>\n",
       "      <td>14003.64</td>\n",
       "    </tr>\n",
       "    <tr>\n",
       "      <td>1000</td>\n",
       "      <td>8</td>\n",
       "      <td>389.87</td>\n",
       "      <td>42.0</td>\n",
       "      <td>81.0</td>\n",
       "      <td>14055.93</td>\n",
       "    </tr>\n",
       "    <tr>\n",
       "      <td>1000</td>\n",
       "      <td>9</td>\n",
       "      <td>440.14</td>\n",
       "      <td>46.0</td>\n",
       "      <td>57.0</td>\n",
       "      <td>14568.91</td>\n",
       "    </tr>\n",
       "  </tbody>\n",
       "</table>\n",
       "</div>"
      ],
      "text/plain": [
       "         month  call_duration  call_count  messages  internet\n",
       "user_id                                                      \n",
       "1000         5         150.06        17.0      22.0   2253.49\n",
       "1000         6         158.90        28.0      60.0  23233.77\n",
       "1000         7         318.80        41.0      75.0  14003.64\n",
       "1000         8         389.87        42.0      81.0  14055.93\n",
       "1000         9         440.14        46.0      57.0  14568.91"
      ]
     },
     "execution_count": 28,
     "metadata": {},
     "output_type": "execute_result"
    }
   ],
   "source": [
    "user_usage.reset_index(level=1,inplace=True)\n",
    "user_usage.head()"
   ]
  },
  {
   "cell_type": "markdown",
   "metadata": {},
   "source": [
    "Добавим столбец с тарифом пользователя."
   ]
  },
  {
   "cell_type": "code",
   "execution_count": 29,
   "metadata": {},
   "outputs": [
    {
     "data": {
      "text/html": [
       "<div>\n",
       "<style scoped>\n",
       "    .dataframe tbody tr th:only-of-type {\n",
       "        vertical-align: middle;\n",
       "    }\n",
       "\n",
       "    .dataframe tbody tr th {\n",
       "        vertical-align: top;\n",
       "    }\n",
       "\n",
       "    .dataframe thead th {\n",
       "        text-align: right;\n",
       "    }\n",
       "</style>\n",
       "<table border=\"1\" class=\"dataframe\">\n",
       "  <thead>\n",
       "    <tr style=\"text-align: right;\">\n",
       "      <th></th>\n",
       "      <th>user_id</th>\n",
       "      <th>month</th>\n",
       "      <th>call_duration</th>\n",
       "      <th>call_count</th>\n",
       "      <th>messages</th>\n",
       "      <th>internet</th>\n",
       "      <th>tariff</th>\n",
       "    </tr>\n",
       "  </thead>\n",
       "  <tbody>\n",
       "    <tr>\n",
       "      <td>0</td>\n",
       "      <td>1000</td>\n",
       "      <td>5.0</td>\n",
       "      <td>150.06</td>\n",
       "      <td>17.0</td>\n",
       "      <td>22.0</td>\n",
       "      <td>2253.49</td>\n",
       "      <td>ultra</td>\n",
       "    </tr>\n",
       "    <tr>\n",
       "      <td>1</td>\n",
       "      <td>1000</td>\n",
       "      <td>6.0</td>\n",
       "      <td>158.90</td>\n",
       "      <td>28.0</td>\n",
       "      <td>60.0</td>\n",
       "      <td>23233.77</td>\n",
       "      <td>ultra</td>\n",
       "    </tr>\n",
       "    <tr>\n",
       "      <td>2</td>\n",
       "      <td>1000</td>\n",
       "      <td>7.0</td>\n",
       "      <td>318.80</td>\n",
       "      <td>41.0</td>\n",
       "      <td>75.0</td>\n",
       "      <td>14003.64</td>\n",
       "      <td>ultra</td>\n",
       "    </tr>\n",
       "    <tr>\n",
       "      <td>3</td>\n",
       "      <td>1000</td>\n",
       "      <td>8.0</td>\n",
       "      <td>389.87</td>\n",
       "      <td>42.0</td>\n",
       "      <td>81.0</td>\n",
       "      <td>14055.93</td>\n",
       "      <td>ultra</td>\n",
       "    </tr>\n",
       "    <tr>\n",
       "      <td>4</td>\n",
       "      <td>1000</td>\n",
       "      <td>9.0</td>\n",
       "      <td>440.14</td>\n",
       "      <td>46.0</td>\n",
       "      <td>57.0</td>\n",
       "      <td>14568.91</td>\n",
       "      <td>ultra</td>\n",
       "    </tr>\n",
       "  </tbody>\n",
       "</table>\n",
       "</div>"
      ],
      "text/plain": [
       "   user_id  month  call_duration  call_count  messages  internet tariff\n",
       "0     1000    5.0         150.06        17.0      22.0   2253.49  ultra\n",
       "1     1000    6.0         158.90        28.0      60.0  23233.77  ultra\n",
       "2     1000    7.0         318.80        41.0      75.0  14003.64  ultra\n",
       "3     1000    8.0         389.87        42.0      81.0  14055.93  ultra\n",
       "4     1000    9.0         440.14        46.0      57.0  14568.91  ultra"
      ]
     },
     "execution_count": 29,
     "metadata": {},
     "output_type": "execute_result"
    }
   ],
   "source": [
    "user_usage = pd.merge(user_usage, users[['user_id','tariff']], on=['user_id'], how='outer')\n",
    "user_usage.head()"
   ]
  },
  {
   "cell_type": "markdown",
   "metadata": {},
   "source": [
    "Посчитаем выручку с каждого пользователя.\n",
    "\n",
    "Добавим новый столбец и присвоим для начала всем строкам значение 0.\n",
    "\n",
    "Далее в зависимости от тарифа будем рассчитывать, сколько абонент заплатил в каждый месяц. После вычислений выведем первые 10 строк на экран."
   ]
  },
  {
   "cell_type": "code",
   "execution_count": 30,
   "metadata": {},
   "outputs": [
    {
     "name": "stderr",
     "output_type": "stream",
     "text": [
      "/opt/conda/lib/python3.7/site-packages/ipykernel_launcher.py:21: SettingWithCopyWarning: \n",
      "A value is trying to be set on a copy of a slice from a DataFrame\n",
      "\n",
      "See the caveats in the documentation: http://pandas.pydata.org/pandas-docs/stable/user_guide/indexing.html#returning-a-view-versus-a-copy\n",
      "/opt/conda/lib/python3.7/site-packages/ipykernel_launcher.py:12: SettingWithCopyWarning: \n",
      "A value is trying to be set on a copy of a slice from a DataFrame\n",
      "\n",
      "See the caveats in the documentation: http://pandas.pydata.org/pandas-docs/stable/user_guide/indexing.html#returning-a-view-versus-a-copy\n",
      "  if sys.path[0] == '':\n"
     ]
    },
    {
     "data": {
      "text/html": [
       "<div>\n",
       "<style scoped>\n",
       "    .dataframe tbody tr th:only-of-type {\n",
       "        vertical-align: middle;\n",
       "    }\n",
       "\n",
       "    .dataframe tbody tr th {\n",
       "        vertical-align: top;\n",
       "    }\n",
       "\n",
       "    .dataframe thead th {\n",
       "        text-align: right;\n",
       "    }\n",
       "</style>\n",
       "<table border=\"1\" class=\"dataframe\">\n",
       "  <thead>\n",
       "    <tr style=\"text-align: right;\">\n",
       "      <th></th>\n",
       "      <th>user_id</th>\n",
       "      <th>month</th>\n",
       "      <th>call_duration</th>\n",
       "      <th>call_count</th>\n",
       "      <th>messages</th>\n",
       "      <th>internet</th>\n",
       "      <th>tariff</th>\n",
       "      <th>revenue</th>\n",
       "    </tr>\n",
       "  </thead>\n",
       "  <tbody>\n",
       "    <tr>\n",
       "      <td>0</td>\n",
       "      <td>1000</td>\n",
       "      <td>5.0</td>\n",
       "      <td>150.06</td>\n",
       "      <td>17.0</td>\n",
       "      <td>22.0</td>\n",
       "      <td>2253.49</td>\n",
       "      <td>ultra</td>\n",
       "      <td>1950</td>\n",
       "    </tr>\n",
       "    <tr>\n",
       "      <td>1</td>\n",
       "      <td>1000</td>\n",
       "      <td>6.0</td>\n",
       "      <td>158.90</td>\n",
       "      <td>28.0</td>\n",
       "      <td>60.0</td>\n",
       "      <td>23233.77</td>\n",
       "      <td>ultra</td>\n",
       "      <td>1950</td>\n",
       "    </tr>\n",
       "    <tr>\n",
       "      <td>2</td>\n",
       "      <td>1000</td>\n",
       "      <td>7.0</td>\n",
       "      <td>318.80</td>\n",
       "      <td>41.0</td>\n",
       "      <td>75.0</td>\n",
       "      <td>14003.64</td>\n",
       "      <td>ultra</td>\n",
       "      <td>1950</td>\n",
       "    </tr>\n",
       "    <tr>\n",
       "      <td>3</td>\n",
       "      <td>1000</td>\n",
       "      <td>8.0</td>\n",
       "      <td>389.87</td>\n",
       "      <td>42.0</td>\n",
       "      <td>81.0</td>\n",
       "      <td>14055.93</td>\n",
       "      <td>ultra</td>\n",
       "      <td>1950</td>\n",
       "    </tr>\n",
       "    <tr>\n",
       "      <td>4</td>\n",
       "      <td>1000</td>\n",
       "      <td>9.0</td>\n",
       "      <td>440.14</td>\n",
       "      <td>46.0</td>\n",
       "      <td>57.0</td>\n",
       "      <td>14568.91</td>\n",
       "      <td>ultra</td>\n",
       "      <td>1950</td>\n",
       "    </tr>\n",
       "    <tr>\n",
       "      <td>5</td>\n",
       "      <td>1000</td>\n",
       "      <td>10.0</td>\n",
       "      <td>328.45</td>\n",
       "      <td>44.0</td>\n",
       "      <td>73.0</td>\n",
       "      <td>14702.49</td>\n",
       "      <td>ultra</td>\n",
       "      <td>1950</td>\n",
       "    </tr>\n",
       "    <tr>\n",
       "      <td>6</td>\n",
       "      <td>1000</td>\n",
       "      <td>11.0</td>\n",
       "      <td>319.04</td>\n",
       "      <td>37.0</td>\n",
       "      <td>58.0</td>\n",
       "      <td>14756.47</td>\n",
       "      <td>ultra</td>\n",
       "      <td>1950</td>\n",
       "    </tr>\n",
       "    <tr>\n",
       "      <td>7</td>\n",
       "      <td>1000</td>\n",
       "      <td>12.0</td>\n",
       "      <td>312.98</td>\n",
       "      <td>38.0</td>\n",
       "      <td>70.0</td>\n",
       "      <td>9817.61</td>\n",
       "      <td>ultra</td>\n",
       "      <td>1950</td>\n",
       "    </tr>\n",
       "    <tr>\n",
       "      <td>8</td>\n",
       "      <td>1001</td>\n",
       "      <td>11.0</td>\n",
       "      <td>408.12</td>\n",
       "      <td>45.0</td>\n",
       "      <td>NaN</td>\n",
       "      <td>18429.34</td>\n",
       "      <td>smart</td>\n",
       "      <td>1350</td>\n",
       "    </tr>\n",
       "    <tr>\n",
       "      <td>9</td>\n",
       "      <td>1001</td>\n",
       "      <td>12.0</td>\n",
       "      <td>391.34</td>\n",
       "      <td>47.0</td>\n",
       "      <td>NaN</td>\n",
       "      <td>14036.66</td>\n",
       "      <td>smart</td>\n",
       "      <td>550</td>\n",
       "    </tr>\n",
       "  </tbody>\n",
       "</table>\n",
       "</div>"
      ],
      "text/plain": [
       "   user_id  month  call_duration  call_count  messages  internet tariff  \\\n",
       "0     1000    5.0         150.06        17.0      22.0   2253.49  ultra   \n",
       "1     1000    6.0         158.90        28.0      60.0  23233.77  ultra   \n",
       "2     1000    7.0         318.80        41.0      75.0  14003.64  ultra   \n",
       "3     1000    8.0         389.87        42.0      81.0  14055.93  ultra   \n",
       "4     1000    9.0         440.14        46.0      57.0  14568.91  ultra   \n",
       "5     1000   10.0         328.45        44.0      73.0  14702.49  ultra   \n",
       "6     1000   11.0         319.04        37.0      58.0  14756.47  ultra   \n",
       "7     1000   12.0         312.98        38.0      70.0   9817.61  ultra   \n",
       "8     1001   11.0         408.12        45.0       NaN  18429.34  smart   \n",
       "9     1001   12.0         391.34        47.0       NaN  14036.66  smart   \n",
       "\n",
       "   revenue  \n",
       "0     1950  \n",
       "1     1950  \n",
       "2     1950  \n",
       "3     1950  \n",
       "4     1950  \n",
       "5     1950  \n",
       "6     1950  \n",
       "7     1950  \n",
       "8     1350  \n",
       "9      550  "
      ]
     },
     "execution_count": 30,
     "metadata": {},
     "output_type": "execute_result"
    }
   ],
   "source": [
    "user_usage['revenue'] = 0\n",
    "for i in range(len(user_usage['user_id'])):\n",
    "    value = 0\n",
    "    if user_usage['tariff'][i] == tariffs['tariff_name'][0]:\n",
    "        value += tariffs['rub_monthly_fee'][0]\n",
    "        if user_usage['call_duration'][i] > tariffs['minutes_included'][0]:\n",
    "            value += (user_usage['call_duration'][i] - tariffs['minutes_included'][0])*tariffs['rub_per_minute'][0]\n",
    "        if user_usage['messages'][i] > tariffs['messages_included'][0]:\n",
    "            value += (user_usage['messages'][i] - tariffs['messages_included'][0])*tariffs['rub_per_message'][0]\n",
    "        if user_usage['internet'][i] > tariffs['mb_per_month_included'][0]:\n",
    "            value += math.ceil((user_usage['internet'][i] - tariffs['mb_per_month_included'][0])/1000)*tariffs['rub_per_gb'][0]\n",
    "        user_usage['revenue'][i] = value\n",
    "    if user_usage['tariff'][i] == tariffs['tariff_name'][1]:\n",
    "        value += tariffs['rub_monthly_fee'][1]\n",
    "        if user_usage['call_duration'][i] > tariffs['minutes_included'][1]:\n",
    "            value += (user_usage['call_duration'][i] - tariffs['minutes_included'][1])*tariffs['rub_per_minute'][1]\n",
    "        if user_usage['messages'][i] > tariffs['messages_included'][1]:\n",
    "            value += (user_usage['messages'][i] - tariffs['messages_included'][1])*tariffs['rub_per_message'][1]\n",
    "        if user_usage['internet'][i] > tariffs['mb_per_month_included'][1]:\n",
    "            value += math.ceil((user_usage['internet'][i] - tariffs['mb_per_month_included'][1])/1000)*tariffs['rub_per_gb'][1]\n",
    "        user_usage['revenue'][i] = value\n",
    "user_usage.head(10)"
   ]
  },
  {
   "cell_type": "markdown",
   "metadata": {},
   "source": [
    "**Вывод**\n",
    "\n",
    "В данном пункте:\n",
    "- Было рассчитано, сколько каждый пользователь потратил минут, сообщений и интернет-трафика в разные месяцы.\n",
    "- Посчитана выручка с каждого абонента."
   ]
  },
  {
   "cell_type": "markdown",
   "metadata": {},
   "source": [
    "## Анализ данных"
   ]
  },
  {
   "cell_type": "markdown",
   "metadata": {},
   "source": [
    "### Тариф smart"
   ]
  },
  {
   "cell_type": "markdown",
   "metadata": {},
   "source": [
    "Создадим отдельный датасет с использованием трафика пользователями тарифа smart. Выведем значения на экран."
   ]
  },
  {
   "cell_type": "code",
   "execution_count": 31,
   "metadata": {},
   "outputs": [
    {
     "data": {
      "text/html": [
       "<div>\n",
       "<style scoped>\n",
       "    .dataframe tbody tr th:only-of-type {\n",
       "        vertical-align: middle;\n",
       "    }\n",
       "\n",
       "    .dataframe tbody tr th {\n",
       "        vertical-align: top;\n",
       "    }\n",
       "\n",
       "    .dataframe thead th {\n",
       "        text-align: right;\n",
       "    }\n",
       "</style>\n",
       "<table border=\"1\" class=\"dataframe\">\n",
       "  <thead>\n",
       "    <tr style=\"text-align: right;\">\n",
       "      <th></th>\n",
       "      <th>user_id</th>\n",
       "      <th>month</th>\n",
       "      <th>call_duration</th>\n",
       "      <th>call_count</th>\n",
       "      <th>messages</th>\n",
       "      <th>internet</th>\n",
       "      <th>tariff</th>\n",
       "      <th>revenue</th>\n",
       "    </tr>\n",
       "  </thead>\n",
       "  <tbody>\n",
       "    <tr>\n",
       "      <td>8</td>\n",
       "      <td>1001</td>\n",
       "      <td>11.0</td>\n",
       "      <td>408.12</td>\n",
       "      <td>45.0</td>\n",
       "      <td>NaN</td>\n",
       "      <td>18429.34</td>\n",
       "      <td>smart</td>\n",
       "      <td>1350</td>\n",
       "    </tr>\n",
       "    <tr>\n",
       "      <td>9</td>\n",
       "      <td>1001</td>\n",
       "      <td>12.0</td>\n",
       "      <td>391.34</td>\n",
       "      <td>47.0</td>\n",
       "      <td>NaN</td>\n",
       "      <td>14036.66</td>\n",
       "      <td>smart</td>\n",
       "      <td>550</td>\n",
       "    </tr>\n",
       "    <tr>\n",
       "      <td>10</td>\n",
       "      <td>1002</td>\n",
       "      <td>6.0</td>\n",
       "      <td>110.37</td>\n",
       "      <td>14.0</td>\n",
       "      <td>4.0</td>\n",
       "      <td>10856.82</td>\n",
       "      <td>smart</td>\n",
       "      <td>550</td>\n",
       "    </tr>\n",
       "    <tr>\n",
       "      <td>11</td>\n",
       "      <td>1002</td>\n",
       "      <td>7.0</td>\n",
       "      <td>204.75</td>\n",
       "      <td>21.0</td>\n",
       "      <td>11.0</td>\n",
       "      <td>17580.10</td>\n",
       "      <td>smart</td>\n",
       "      <td>1150</td>\n",
       "    </tr>\n",
       "    <tr>\n",
       "      <td>12</td>\n",
       "      <td>1002</td>\n",
       "      <td>8.0</td>\n",
       "      <td>269.71</td>\n",
       "      <td>37.0</td>\n",
       "      <td>13.0</td>\n",
       "      <td>20319.26</td>\n",
       "      <td>smart</td>\n",
       "      <td>1550</td>\n",
       "    </tr>\n",
       "  </tbody>\n",
       "</table>\n",
       "</div>"
      ],
      "text/plain": [
       "    user_id  month  call_duration  call_count  messages  internet tariff  \\\n",
       "8      1001   11.0         408.12        45.0       NaN  18429.34  smart   \n",
       "9      1001   12.0         391.34        47.0       NaN  14036.66  smart   \n",
       "10     1002    6.0         110.37        14.0       4.0  10856.82  smart   \n",
       "11     1002    7.0         204.75        21.0      11.0  17580.10  smart   \n",
       "12     1002    8.0         269.71        37.0      13.0  20319.26  smart   \n",
       "\n",
       "    revenue  \n",
       "8      1350  \n",
       "9       550  \n",
       "10      550  \n",
       "11     1150  \n",
       "12     1550  "
      ]
     },
     "execution_count": 31,
     "metadata": {},
     "output_type": "execute_result"
    }
   ],
   "source": [
    "smart_usage = user_usage.query('tariff == \"smart\"')\n",
    "smart_usage.head()"
   ]
  },
  {
   "cell_type": "markdown",
   "metadata": {},
   "source": [
    "Проведем расчеты отдельно для каждого вида трафика."
   ]
  },
  {
   "cell_type": "markdown",
   "metadata": {},
   "source": [
    "#### Звонки"
   ]
  },
  {
   "cell_type": "markdown",
   "metadata": {},
   "source": [
    "Создадим сводную таблицу по среднему значению длительности звонков пользователей."
   ]
  },
  {
   "cell_type": "code",
   "execution_count": 32,
   "metadata": {},
   "outputs": [],
   "source": [
    "smart_calls = (pd.\n",
    " pivot_table(smart_usage,\n",
    "            index='user_id',\n",
    "            values='call_duration',\n",
    "            aggfunc='mean')\n",
    ")"
   ]
  },
  {
   "cell_type": "markdown",
   "metadata": {},
   "source": [
    "Построим гистограмму."
   ]
  },
  {
   "cell_type": "code",
   "execution_count": 33,
   "metadata": {},
   "outputs": [
    {
     "data": {
      "text/plain": [
       "array([[<matplotlib.axes._subplots.AxesSubplot object at 0x7fe69c95f3d0>]],\n",
       "      dtype=object)"
      ]
     },
     "execution_count": 33,
     "metadata": {},
     "output_type": "execute_result"
    },
    {
     "data": {
      "image/png": "[encoded data removed]",
      "text/plain": [
       "<Figure size 432x288 with 1 Axes>"
      ]
     },
     "metadata": {
      "needs_background": "light"
     },
     "output_type": "display_data"
    }
   ],
   "source": [
    "smart_calls.hist(bins=20)"
   ]
  },
  {
   "cell_type": "markdown",
   "metadata": {},
   "source": [
    "Посчитаем среднее значение."
   ]
  },
  {
   "cell_type": "code",
   "execution_count": 34,
   "metadata": {},
   "outputs": [
    {
     "data": {
      "text/plain": [
       "call_duration    397.210606\n",
       "dtype: float64"
      ]
     },
     "execution_count": 34,
     "metadata": {},
     "output_type": "execute_result"
    }
   ],
   "source": [
    "np.mean(smart_calls)"
   ]
  },
  {
   "cell_type": "markdown",
   "metadata": {},
   "source": [
    "Посчитаем медиану."
   ]
  },
  {
   "cell_type": "code",
   "execution_count": 35,
   "metadata": {},
   "outputs": [
    {
     "data": {
      "text/plain": [
       "400.83000000000004"
      ]
     },
     "execution_count": 35,
     "metadata": {},
     "output_type": "execute_result"
    }
   ],
   "source": [
    "np.median(smart_calls)"
   ]
  },
  {
   "cell_type": "markdown",
   "metadata": {},
   "source": [
    "Посчитаем дисперсию."
   ]
  },
  {
   "cell_type": "code",
   "execution_count": 36,
   "metadata": {},
   "outputs": [
    {
     "data": {
      "text/plain": [
       "call_duration    18317.648163\n",
       "dtype: float64"
      ]
     },
     "execution_count": 36,
     "metadata": {},
     "output_type": "execute_result"
    }
   ],
   "source": [
    "np.var(smart_calls)"
   ]
  },
  {
   "cell_type": "markdown",
   "metadata": {},
   "source": [
    "Посчитаем стандартное отклонение."
   ]
  },
  {
   "cell_type": "code",
   "execution_count": 37,
   "metadata": {},
   "outputs": [
    {
     "data": {
      "text/plain": [
       "call_duration    135.342706\n",
       "dtype: float64"
      ]
     },
     "execution_count": 37,
     "metadata": {},
     "output_type": "execute_result"
    }
   ],
   "source": [
    "np.std(smart_calls)"
   ]
  },
  {
   "cell_type": "markdown",
   "metadata": {},
   "source": [
    "**Вывод**\n",
    "\n",
    "На полученной гистограмме и посчитанным статистическим значениям видно, что распределение длительности потраченных минут абонентами тарифа \"Smart\" близко к нормальному, со средним значением 397 мин и стандартным отклонением 135 мин.\n",
    "\n",
    "Можно сказать, что пользователи тарифа \"Smart\" разговаривают в среднем 397 мин, при этом одинаковое количество пользователей разговаривает больше и меньше среднего. \n",
    "\n",
    "Напомним, что в тариф включено 500 мин, то есть в среднем люди не наговаривают больше включенного в тариф количества минут. "
   ]
  },
  {
   "cell_type": "markdown",
   "metadata": {},
   "source": [
    "#### Сообщения"
   ]
  },
  {
   "cell_type": "markdown",
   "metadata": {},
   "source": [
    "Создадим сводную таблицу по среднему количеству отправленных сообщений пользователями."
   ]
  },
  {
   "cell_type": "code",
   "execution_count": 38,
   "metadata": {},
   "outputs": [],
   "source": [
    "smart_messages = (pd.\n",
    " pivot_table(smart_usage,\n",
    "            index='user_id',\n",
    "            values='messages',\n",
    "            aggfunc='mean')\n",
    ")"
   ]
  },
  {
   "cell_type": "markdown",
   "metadata": {},
   "source": [
    "Построим гистограмму."
   ]
  },
  {
   "cell_type": "code",
   "execution_count": 39,
   "metadata": {
    "scrolled": true
   },
   "outputs": [
    {
     "data": {
      "text/plain": [
       "array([[<matplotlib.axes._subplots.AxesSubplot object at 0x7fe69c815fd0>]],\n",
       "      dtype=object)"
      ]
     },
     "execution_count": 39,
     "metadata": {},
     "output_type": "execute_result"
    },
    {
     "data": {
      "image/png": "[encoded data removed]",
      "text/plain": [
       "<Figure size 432x288 with 1 Axes>"
      ]
     },
     "metadata": {
      "needs_background": "light"
     },
     "output_type": "display_data"
    }
   ],
   "source": [
    "smart_messages.hist(bins=20)"
   ]
  },
  {
   "cell_type": "markdown",
   "metadata": {},
   "source": [
    "Посчитаем среднее значение."
   ]
  },
  {
   "cell_type": "code",
   "execution_count": 40,
   "metadata": {},
   "outputs": [
    {
     "data": {
      "text/plain": [
       "messages    37.575606\n",
       "dtype: float64"
      ]
     },
     "execution_count": 40,
     "metadata": {},
     "output_type": "execute_result"
    }
   ],
   "source": [
    "np.mean(smart_messages)"
   ]
  },
  {
   "cell_type": "markdown",
   "metadata": {},
   "source": [
    "Посчитаем медиану."
   ]
  },
  {
   "cell_type": "code",
   "execution_count": 41,
   "metadata": {},
   "outputs": [
    {
     "data": {
      "text/plain": [
       "33.0"
      ]
     },
     "execution_count": 41,
     "metadata": {},
     "output_type": "execute_result"
    }
   ],
   "source": [
    "np.median(smart_messages)"
   ]
  },
  {
   "cell_type": "markdown",
   "metadata": {},
   "source": [
    "Посчитаем дисперсию."
   ]
  },
  {
   "cell_type": "code",
   "execution_count": 42,
   "metadata": {},
   "outputs": [
    {
     "data": {
      "text/plain": [
       "messages    615.464763\n",
       "dtype: float64"
      ]
     },
     "execution_count": 42,
     "metadata": {},
     "output_type": "execute_result"
    }
   ],
   "source": [
    "np.var(smart_messages)"
   ]
  },
  {
   "cell_type": "markdown",
   "metadata": {},
   "source": [
    "Посчитаем стандартное отклонение."
   ]
  },
  {
   "cell_type": "code",
   "execution_count": 43,
   "metadata": {},
   "outputs": [
    {
     "data": {
      "text/plain": [
       "messages    24.808562\n",
       "dtype: float64"
      ]
     },
     "execution_count": 43,
     "metadata": {},
     "output_type": "execute_result"
    }
   ],
   "source": [
    "np.std(smart_messages)"
   ]
  },
  {
   "cell_type": "markdown",
   "metadata": {},
   "source": [
    "**Вывод**\n",
    "\n",
    "На полученной гистограмме и посчитанным статистическим значениям видно, что распределение скошено вправо, со средним значением 37 сообщений и стандартным отклонением 25 сообщений.\n",
    "\n",
    "В данном случае можно сказать, что среди пользователей тарифа \"Smart\" есть большое количество людей, которые отправляют больше сообщений, чем отправляют в среднем пользователи тарифа.\n",
    "\n",
    "В тариф включено 50 бесплатных сообщений, то есть в среднем пользователи отправляют меньше включенного в тариф количества сообщений."
   ]
  },
  {
   "cell_type": "markdown",
   "metadata": {},
   "source": [
    "#### Интернет"
   ]
  },
  {
   "cell_type": "markdown",
   "metadata": {},
   "source": [
    "Создадим сводную таблицу по среднему количеству использованного интернет-трафика пользователями."
   ]
  },
  {
   "cell_type": "code",
   "execution_count": 44,
   "metadata": {},
   "outputs": [],
   "source": [
    "smart_internet = (pd.\n",
    " pivot_table(smart_usage,\n",
    "            index='user_id',\n",
    "            values='internet',\n",
    "            aggfunc='mean')\n",
    ")"
   ]
  },
  {
   "cell_type": "markdown",
   "metadata": {},
   "source": [
    "Построим гистограмму."
   ]
  },
  {
   "cell_type": "code",
   "execution_count": 45,
   "metadata": {},
   "outputs": [
    {
     "data": {
      "text/plain": [
       "array([[<matplotlib.axes._subplots.AxesSubplot object at 0x7fe69c7524d0>]],\n",
       "      dtype=object)"
      ]
     },
     "execution_count": 45,
     "metadata": {},
     "output_type": "execute_result"
    },
    {
     "data": {
      "image/png": "[encoded data removed]",
      "text/plain": [
       "<Figure size 432x288 with 1 Axes>"
      ]
     },
     "metadata": {
      "needs_background": "light"
     },
     "output_type": "display_data"
    }
   ],
   "source": [
    "smart_internet.hist(bins=20)"
   ]
  },
  {
   "cell_type": "markdown",
   "metadata": {},
   "source": [
    "Посчитаем среднее значение."
   ]
  },
  {
   "cell_type": "code",
   "execution_count": 46,
   "metadata": {},
   "outputs": [
    {
     "data": {
      "text/plain": [
       "internet    16190.427408\n",
       "dtype: float64"
      ]
     },
     "execution_count": 46,
     "metadata": {},
     "output_type": "execute_result"
    }
   ],
   "source": [
    "np.mean(smart_internet)"
   ]
  },
  {
   "cell_type": "markdown",
   "metadata": {},
   "source": [
    "Посчитаем медиану."
   ]
  },
  {
   "cell_type": "code",
   "execution_count": 47,
   "metadata": {},
   "outputs": [
    {
     "data": {
      "text/plain": [
       "16267.380000000001"
      ]
     },
     "execution_count": 47,
     "metadata": {},
     "output_type": "execute_result"
    }
   ],
   "source": [
    "np.median(smart_internet)"
   ]
  },
  {
   "cell_type": "markdown",
   "metadata": {},
   "source": [
    "Посчитаем дисперсию."
   ]
  },
  {
   "cell_type": "code",
   "execution_count": 48,
   "metadata": {},
   "outputs": [
    {
     "data": {
      "text/plain": [
       "internet    1.275991e+07\n",
       "dtype: float64"
      ]
     },
     "execution_count": 48,
     "metadata": {},
     "output_type": "execute_result"
    }
   ],
   "source": [
    "np.var(smart_internet)"
   ]
  },
  {
   "cell_type": "markdown",
   "metadata": {},
   "source": [
    "Посчитаем стандартное отклонение."
   ]
  },
  {
   "cell_type": "code",
   "execution_count": 49,
   "metadata": {},
   "outputs": [
    {
     "data": {
      "text/plain": [
       "internet    3572.10139\n",
       "dtype: float64"
      ]
     },
     "execution_count": 49,
     "metadata": {},
     "output_type": "execute_result"
    }
   ],
   "source": [
    "np.std(smart_internet)"
   ]
  },
  {
   "cell_type": "markdown",
   "metadata": {},
   "source": [
    "**Вывод**\n",
    "\n",
    "На полученной гистограмме и посчитанным статистическим значениям видно, что распределение близко к нормальному, но немного скошено влево. Среднее значение и стандартное отклонение составляют 16.2 Гб и 3.6 Гб, соответственно.\n",
    "\n",
    "Можно сказать, что пользователи тарифа \"Smart\" тратят в среднем 16.2 Гб интернет-трафика, при этом одинаковое количество пользователей тратит больше и меньше среднего.\n",
    "\n",
    "Напомним, что в тариф включено 15.4 Гб трафика. Пользователи в среднем используют немного больше трафика, и в последствии переплачивают за дополнительный трафик."
   ]
  },
  {
   "cell_type": "markdown",
   "metadata": {},
   "source": [
    "#### Выручка с пользователя"
   ]
  },
  {
   "cell_type": "markdown",
   "metadata": {},
   "source": [
    "Создадим сводную таблицу по средней выручке с пользователя за месяц."
   ]
  },
  {
   "cell_type": "code",
   "execution_count": 50,
   "metadata": {},
   "outputs": [],
   "source": [
    "smart_revenue = (pd.\n",
    " pivot_table(smart_usage,\n",
    "            index='user_id',\n",
    "            values='revenue',\n",
    "            aggfunc='mean')\n",
    ")"
   ]
  },
  {
   "cell_type": "markdown",
   "metadata": {},
   "source": [
    "Построим гистограмму."
   ]
  },
  {
   "cell_type": "code",
   "execution_count": 51,
   "metadata": {},
   "outputs": [
    {
     "data": {
      "text/plain": [
       "array([[<matplotlib.axes._subplots.AxesSubplot object at 0x7fe69b76bc10>]],\n",
       "      dtype=object)"
      ]
     },
     "execution_count": 51,
     "metadata": {},
     "output_type": "execute_result"
    },
    {
     "data": {
      "image/png": "[encoded data removed]",
      "text/plain": [
       "<Figure size 432x288 with 1 Axes>"
      ]
     },
     "metadata": {
      "needs_background": "light"
     },
     "output_type": "display_data"
    }
   ],
   "source": [
    "smart_revenue.hist(bins=20)"
   ]
  },
  {
   "cell_type": "markdown",
   "metadata": {},
   "source": [
    "Посчитаем среднее значение."
   ]
  },
  {
   "cell_type": "code",
   "execution_count": 52,
   "metadata": {},
   "outputs": [
    {
     "data": {
      "text/plain": [
       "revenue    1300.864112\n",
       "dtype: float64"
      ]
     },
     "execution_count": 52,
     "metadata": {},
     "output_type": "execute_result"
    }
   ],
   "source": [
    "np.mean(smart_revenue)"
   ]
  },
  {
   "cell_type": "markdown",
   "metadata": {},
   "source": [
    "Посчитаем медиану."
   ]
  },
  {
   "cell_type": "code",
   "execution_count": 53,
   "metadata": {},
   "outputs": [
    {
     "data": {
      "text/plain": [
       "1151.0"
      ]
     },
     "execution_count": 53,
     "metadata": {},
     "output_type": "execute_result"
    }
   ],
   "source": [
    "np.median(smart_revenue)"
   ]
  },
  {
   "cell_type": "markdown",
   "metadata": {},
   "source": [
    "Посчитаем дисперсию."
   ]
  },
  {
   "cell_type": "code",
   "execution_count": 54,
   "metadata": {},
   "outputs": [
    {
     "data": {
      "text/plain": [
       "revenue    362121.516084\n",
       "dtype: float64"
      ]
     },
     "execution_count": 54,
     "metadata": {},
     "output_type": "execute_result"
    }
   ],
   "source": [
    "np.var(smart_revenue)"
   ]
  },
  {
   "cell_type": "markdown",
   "metadata": {},
   "source": [
    "Посчитаем стандартное отклонение."
   ]
  },
  {
   "cell_type": "code",
   "execution_count": 55,
   "metadata": {},
   "outputs": [
    {
     "data": {
      "text/plain": [
       "revenue    601.765333\n",
       "dtype: float64"
      ]
     },
     "execution_count": 55,
     "metadata": {},
     "output_type": "execute_result"
    }
   ],
   "source": [
    "np.std(smart_revenue)"
   ]
  },
  {
   "cell_type": "markdown",
   "metadata": {},
   "source": [
    "**Вывод**\n",
    "\n",
    "На полученной гистограмме и посчитанным статистическим значениям видно, что распределение скошено вправо. Среднее значение и стандартное отклонение составляют 1300 руб и 600 руб, соответственно.\n",
    "\n",
    "Видно, что средняя выручка с пользователя выше абонентской платы в 500 руб. \n",
    "\n",
    "Поэтому можно сказать, что пользователям данного тарифа не хватает включенных в тариф услуги им приходится переплачивать за связь."
   ]
  },
  {
   "cell_type": "markdown",
   "metadata": {},
   "source": [
    "### Тариф ultra"
   ]
  },
  {
   "cell_type": "markdown",
   "metadata": {},
   "source": [
    "Создадим отдельный датасет с использованием трафика пользователями тарифа ultra. Выведем значения на экран."
   ]
  },
  {
   "cell_type": "code",
   "execution_count": 56,
   "metadata": {},
   "outputs": [
    {
     "data": {
      "text/html": [
       "<div>\n",
       "<style scoped>\n",
       "    .dataframe tbody tr th:only-of-type {\n",
       "        vertical-align: middle;\n",
       "    }\n",
       "\n",
       "    .dataframe tbody tr th {\n",
       "        vertical-align: top;\n",
       "    }\n",
       "\n",
       "    .dataframe thead th {\n",
       "        text-align: right;\n",
       "    }\n",
       "</style>\n",
       "<table border=\"1\" class=\"dataframe\">\n",
       "  <thead>\n",
       "    <tr style=\"text-align: right;\">\n",
       "      <th></th>\n",
       "      <th>user_id</th>\n",
       "      <th>month</th>\n",
       "      <th>call_duration</th>\n",
       "      <th>call_count</th>\n",
       "      <th>messages</th>\n",
       "      <th>internet</th>\n",
       "      <th>tariff</th>\n",
       "      <th>revenue</th>\n",
       "    </tr>\n",
       "  </thead>\n",
       "  <tbody>\n",
       "    <tr>\n",
       "      <td>0</td>\n",
       "      <td>1000</td>\n",
       "      <td>5.0</td>\n",
       "      <td>150.06</td>\n",
       "      <td>17.0</td>\n",
       "      <td>22.0</td>\n",
       "      <td>2253.49</td>\n",
       "      <td>ultra</td>\n",
       "      <td>1950</td>\n",
       "    </tr>\n",
       "    <tr>\n",
       "      <td>1</td>\n",
       "      <td>1000</td>\n",
       "      <td>6.0</td>\n",
       "      <td>158.90</td>\n",
       "      <td>28.0</td>\n",
       "      <td>60.0</td>\n",
       "      <td>23233.77</td>\n",
       "      <td>ultra</td>\n",
       "      <td>1950</td>\n",
       "    </tr>\n",
       "    <tr>\n",
       "      <td>2</td>\n",
       "      <td>1000</td>\n",
       "      <td>7.0</td>\n",
       "      <td>318.80</td>\n",
       "      <td>41.0</td>\n",
       "      <td>75.0</td>\n",
       "      <td>14003.64</td>\n",
       "      <td>ultra</td>\n",
       "      <td>1950</td>\n",
       "    </tr>\n",
       "    <tr>\n",
       "      <td>3</td>\n",
       "      <td>1000</td>\n",
       "      <td>8.0</td>\n",
       "      <td>389.87</td>\n",
       "      <td>42.0</td>\n",
       "      <td>81.0</td>\n",
       "      <td>14055.93</td>\n",
       "      <td>ultra</td>\n",
       "      <td>1950</td>\n",
       "    </tr>\n",
       "    <tr>\n",
       "      <td>4</td>\n",
       "      <td>1000</td>\n",
       "      <td>9.0</td>\n",
       "      <td>440.14</td>\n",
       "      <td>46.0</td>\n",
       "      <td>57.0</td>\n",
       "      <td>14568.91</td>\n",
       "      <td>ultra</td>\n",
       "      <td>1950</td>\n",
       "    </tr>\n",
       "  </tbody>\n",
       "</table>\n",
       "</div>"
      ],
      "text/plain": [
       "   user_id  month  call_duration  call_count  messages  internet tariff  \\\n",
       "0     1000    5.0         150.06        17.0      22.0   2253.49  ultra   \n",
       "1     1000    6.0         158.90        28.0      60.0  23233.77  ultra   \n",
       "2     1000    7.0         318.80        41.0      75.0  14003.64  ultra   \n",
       "3     1000    8.0         389.87        42.0      81.0  14055.93  ultra   \n",
       "4     1000    9.0         440.14        46.0      57.0  14568.91  ultra   \n",
       "\n",
       "   revenue  \n",
       "0     1950  \n",
       "1     1950  \n",
       "2     1950  \n",
       "3     1950  \n",
       "4     1950  "
      ]
     },
     "execution_count": 56,
     "metadata": {},
     "output_type": "execute_result"
    }
   ],
   "source": [
    "ultra_usage = user_usage.query('tariff == \"ultra\"')\n",
    "ultra_usage.head()"
   ]
  },
  {
   "cell_type": "markdown",
   "metadata": {},
   "source": [
    "#### Звонки"
   ]
  },
  {
   "cell_type": "markdown",
   "metadata": {},
   "source": [
    "Создадим сводную таблицу по среднему значению длительности звонков пользователей."
   ]
  },
  {
   "cell_type": "code",
   "execution_count": 57,
   "metadata": {},
   "outputs": [],
   "source": [
    "ultra_calls = (pd.\n",
    " pivot_table(ultra_usage,\n",
    "            index='user_id',\n",
    "            values='call_duration',\n",
    "            aggfunc='mean')\n",
    ")"
   ]
  },
  {
   "cell_type": "markdown",
   "metadata": {},
   "source": [
    "Построим гистограмму."
   ]
  },
  {
   "cell_type": "code",
   "execution_count": 58,
   "metadata": {},
   "outputs": [
    {
     "data": {
      "text/plain": [
       "array([[<matplotlib.axes._subplots.AxesSubplot object at 0x7fe69b6a1ed0>]],\n",
       "      dtype=object)"
      ]
     },
     "execution_count": 58,
     "metadata": {},
     "output_type": "execute_result"
    },
    {
     "data": {
      "image/png": "[encoded data removed]",
      "text/plain": [
       "<Figure size 432x288 with 1 Axes>"
      ]
     },
     "metadata": {
      "needs_background": "light"
     },
     "output_type": "display_data"
    }
   ],
   "source": [
    "ultra_calls.hist(bins=20)"
   ]
  },
  {
   "cell_type": "markdown",
   "metadata": {},
   "source": [
    "Посчитаем среднее."
   ]
  },
  {
   "cell_type": "code",
   "execution_count": 59,
   "metadata": {},
   "outputs": [
    {
     "data": {
      "text/plain": [
       "call_duration    516.383483\n",
       "dtype: float64"
      ]
     },
     "execution_count": 59,
     "metadata": {},
     "output_type": "execute_result"
    }
   ],
   "source": [
    "np.mean(ultra_calls)"
   ]
  },
  {
   "cell_type": "markdown",
   "metadata": {},
   "source": [
    "Посчитаем медиану."
   ]
  },
  {
   "cell_type": "code",
   "execution_count": 60,
   "metadata": {},
   "outputs": [
    {
     "data": {
      "text/plain": [
       "497.00625"
      ]
     },
     "execution_count": 60,
     "metadata": {},
     "output_type": "execute_result"
    }
   ],
   "source": [
    "np.median(ultra_calls)"
   ]
  },
  {
   "cell_type": "markdown",
   "metadata": {},
   "source": [
    "Посчитаем дисперсию."
   ]
  },
  {
   "cell_type": "code",
   "execution_count": 61,
   "metadata": {},
   "outputs": [
    {
     "data": {
      "text/plain": [
       "call_duration    63495.503184\n",
       "dtype: float64"
      ]
     },
     "execution_count": 61,
     "metadata": {},
     "output_type": "execute_result"
    }
   ],
   "source": [
    "np.var(ultra_calls)"
   ]
  },
  {
   "cell_type": "markdown",
   "metadata": {},
   "source": [
    "Посчитаем стандартное отклонение."
   ]
  },
  {
   "cell_type": "code",
   "execution_count": 62,
   "metadata": {},
   "outputs": [
    {
     "data": {
      "text/plain": [
       "call_duration    251.983141\n",
       "dtype: float64"
      ]
     },
     "execution_count": 62,
     "metadata": {},
     "output_type": "execute_result"
    }
   ],
   "source": [
    "np.std(ultra_calls)"
   ]
  },
  {
   "cell_type": "markdown",
   "metadata": {},
   "source": [
    "**Вывод**\n",
    "\n",
    "На полученной гистограмме и посчитанным статистическим значениям видно, что распределение длительности потраченных минут абонентами тарифа \"Ultra\" близко к нормальному, но немного скошено вправо. Среднее значение и стандартное отклонение составляют 516 мин и 252 мин, соответственно.\n",
    "\n",
    "Напомним, что в тариф включено 3000 мин, то есть в среднем абоненты тарифа \"Ultra\" наговаривают гораздо меньше включенного в тариф количества минут. "
   ]
  },
  {
   "cell_type": "markdown",
   "metadata": {},
   "source": [
    "#### Сообщения"
   ]
  },
  {
   "cell_type": "markdown",
   "metadata": {},
   "source": [
    "Создадим сводную таблицу по среднему количеству отправленных сообщений пользователями."
   ]
  },
  {
   "cell_type": "code",
   "execution_count": 63,
   "metadata": {},
   "outputs": [],
   "source": [
    "ultra_messages = (pd.\n",
    " pivot_table(ultra_usage,\n",
    "            index='user_id',\n",
    "            values='messages',\n",
    "            aggfunc='mean')\n",
    ")"
   ]
  },
  {
   "cell_type": "markdown",
   "metadata": {},
   "source": [
    "Построим гистограмму."
   ]
  },
  {
   "cell_type": "code",
   "execution_count": 64,
   "metadata": {},
   "outputs": [
    {
     "data": {
      "text/plain": [
       "array([[<matplotlib.axes._subplots.AxesSubplot object at 0x7fe69b2b2b10>]],\n",
       "      dtype=object)"
      ]
     },
     "execution_count": 64,
     "metadata": {},
     "output_type": "execute_result"
    },
    {
     "data": {
      "image/png": "[encoded data removed]",
      "text/plain": [
       "<Figure size 432x288 with 1 Axes>"
      ]
     },
     "metadata": {
      "needs_background": "light"
     },
     "output_type": "display_data"
    }
   ],
   "source": [
    "ultra_messages.hist(bins=20)"
   ]
  },
  {
   "cell_type": "markdown",
   "metadata": {},
   "source": [
    "Посчитаем среднее значение."
   ]
  },
  {
   "cell_type": "code",
   "execution_count": 65,
   "metadata": {},
   "outputs": [
    {
     "data": {
      "text/plain": [
       "messages    64.555802\n",
       "dtype: float64"
      ]
     },
     "execution_count": 65,
     "metadata": {},
     "output_type": "execute_result"
    }
   ],
   "source": [
    "np.mean(ultra_messages)"
   ]
  },
  {
   "cell_type": "markdown",
   "metadata": {},
   "source": [
    "Посчитаем медиану."
   ]
  },
  {
   "cell_type": "code",
   "execution_count": 66,
   "metadata": {},
   "outputs": [
    {
     "data": {
      "text/plain": [
       "57.8"
      ]
     },
     "execution_count": 66,
     "metadata": {},
     "output_type": "execute_result"
    }
   ],
   "source": [
    "np.median(ultra_messages)"
   ]
  },
  {
   "cell_type": "markdown",
   "metadata": {},
   "source": [
    "Посчитаем дисперсию."
   ]
  },
  {
   "cell_type": "code",
   "execution_count": 67,
   "metadata": {},
   "outputs": [
    {
     "data": {
      "text/plain": [
       "messages    1867.561788\n",
       "dtype: float64"
      ]
     },
     "execution_count": 67,
     "metadata": {},
     "output_type": "execute_result"
    }
   ],
   "source": [
    "np.var(ultra_messages)"
   ]
  },
  {
   "cell_type": "markdown",
   "metadata": {},
   "source": [
    "Посчитаем стандартное отклонение."
   ]
  },
  {
   "cell_type": "code",
   "execution_count": 68,
   "metadata": {},
   "outputs": [
    {
     "data": {
      "text/plain": [
       "messages    43.215296\n",
       "dtype: float64"
      ]
     },
     "execution_count": 68,
     "metadata": {},
     "output_type": "execute_result"
    }
   ],
   "source": [
    "np.std(ultra_messages)"
   ]
  },
  {
   "cell_type": "markdown",
   "metadata": {},
   "source": [
    "**Вывод**\n",
    "\n",
    "На полученной гистограмме и посчитанным статистическим значениям видно, что распределение скошено вправо, со средним значением 65 сообщений и стандартным отклонением 43 сообщений.\n",
    "\n",
    "В тариф включено 1000 бесплатных сообщений, то есть в среднем пользователи отправляют гораздо меньше включенного в тариф количества сообщений."
   ]
  },
  {
   "cell_type": "markdown",
   "metadata": {},
   "source": [
    "#### Интернет"
   ]
  },
  {
   "cell_type": "markdown",
   "metadata": {},
   "source": [
    "Создадим сводную таблицу по среднему количеству использованного интернет-трафика пользователями."
   ]
  },
  {
   "cell_type": "code",
   "execution_count": 69,
   "metadata": {},
   "outputs": [],
   "source": [
    "ultra_internet = (pd.\n",
    " pivot_table(ultra_usage,\n",
    "            index='user_id',\n",
    "            values='internet',\n",
    "            aggfunc='mean')\n",
    ")"
   ]
  },
  {
   "cell_type": "markdown",
   "metadata": {},
   "source": [
    "Построим гистограмму."
   ]
  },
  {
   "cell_type": "code",
   "execution_count": 70,
   "metadata": {},
   "outputs": [
    {
     "data": {
      "text/plain": [
       "array([[<matplotlib.axes._subplots.AxesSubplot object at 0x7fe69b6e9c50>]],\n",
       "      dtype=object)"
      ]
     },
     "execution_count": 70,
     "metadata": {},
     "output_type": "execute_result"
    },
    {
     "data": {
      "image/png": "[encoded data removed]",
      "text/plain": [
       "<Figure size 432x288 with 1 Axes>"
      ]
     },
     "metadata": {
      "needs_background": "light"
     },
     "output_type": "display_data"
    }
   ],
   "source": [
    "ultra_internet.hist(bins=20)"
   ]
  },
  {
   "cell_type": "markdown",
   "metadata": {},
   "source": [
    "Посчитаем среднее значение."
   ]
  },
  {
   "cell_type": "code",
   "execution_count": 71,
   "metadata": {},
   "outputs": [
    {
     "data": {
      "text/plain": [
       "internet    19726.550619\n",
       "dtype: float64"
      ]
     },
     "execution_count": 71,
     "metadata": {},
     "output_type": "execute_result"
    }
   ],
   "source": [
    "np.mean(ultra_internet)"
   ]
  },
  {
   "cell_type": "markdown",
   "metadata": {},
   "source": [
    "Посчитаем медиану."
   ]
  },
  {
   "cell_type": "code",
   "execution_count": 72,
   "metadata": {},
   "outputs": [
    {
     "data": {
      "text/plain": [
       "18829.486666666668"
      ]
     },
     "execution_count": 72,
     "metadata": {},
     "output_type": "execute_result"
    }
   ],
   "source": [
    "np.median(ultra_internet)"
   ]
  },
  {
   "cell_type": "markdown",
   "metadata": {},
   "source": [
    "Посчитаем дисперсию."
   ]
  },
  {
   "cell_type": "code",
   "execution_count": 73,
   "metadata": {},
   "outputs": [
    {
     "data": {
      "text/plain": [
       "internet    6.630819e+07\n",
       "dtype: float64"
      ]
     },
     "execution_count": 73,
     "metadata": {},
     "output_type": "execute_result"
    }
   ],
   "source": [
    "np.var(ultra_internet)"
   ]
  },
  {
   "cell_type": "markdown",
   "metadata": {},
   "source": [
    "Посчитаем стандартное отклонение."
   ]
  },
  {
   "cell_type": "code",
   "execution_count": 74,
   "metadata": {},
   "outputs": [
    {
     "data": {
      "text/plain": [
       "internet    8142.983995\n",
       "dtype: float64"
      ]
     },
     "execution_count": 74,
     "metadata": {},
     "output_type": "execute_result"
    }
   ],
   "source": [
    "np.std(ultra_internet)"
   ]
  },
  {
   "cell_type": "markdown",
   "metadata": {},
   "source": [
    "**Вывод**\n",
    "\n",
    "На полученной гистограмме и посчитанным статистическим значениям видно, что немного напоминает нормальное. Среднее значение и стандартное отклонение составляют 19.7 Гб и 8.1 Гб, соответственно.\n",
    "\n",
    "Напомним, что в тариф включено 30 Гб трафика. Пользователи в среднем используют меньше трафика, чем включено в их тариф."
   ]
  },
  {
   "cell_type": "markdown",
   "metadata": {},
   "source": [
    "#### Выручка с пользователя"
   ]
  },
  {
   "cell_type": "markdown",
   "metadata": {},
   "source": [
    "Создадим сводную таблицу по средней выручке с пользователя за месяц."
   ]
  },
  {
   "cell_type": "code",
   "execution_count": 75,
   "metadata": {},
   "outputs": [],
   "source": [
    "ultra_revenue = (pd.\n",
    " pivot_table(ultra_usage,\n",
    "            index='user_id',\n",
    "            values='revenue',\n",
    "            aggfunc='mean')\n",
    ")"
   ]
  },
  {
   "cell_type": "markdown",
   "metadata": {},
   "source": [
    "Построим гистограмму."
   ]
  },
  {
   "cell_type": "code",
   "execution_count": 76,
   "metadata": {},
   "outputs": [
    {
     "data": {
      "text/plain": [
       "array([[<matplotlib.axes._subplots.AxesSubplot object at 0x7fe69a5f2f50>]],\n",
       "      dtype=object)"
      ]
     },
     "execution_count": 76,
     "metadata": {},
     "output_type": "execute_result"
    },
    {
     "data": {
      "image/png": "[encoded data removed]",
      "text/plain": [
       "<Figure size 432x288 with 1 Axes>"
      ]
     },
     "metadata": {
      "needs_background": "light"
     },
     "output_type": "display_data"
    }
   ],
   "source": [
    "ultra_revenue.hist(bins=20)"
   ]
  },
  {
   "cell_type": "markdown",
   "metadata": {},
   "source": [
    "Посчитаем среднее значение."
   ]
  },
  {
   "cell_type": "code",
   "execution_count": 77,
   "metadata": {},
   "outputs": [
    {
     "data": {
      "text/plain": [
       "revenue    2088.622091\n",
       "dtype: float64"
      ]
     },
     "execution_count": 77,
     "metadata": {},
     "output_type": "execute_result"
    }
   ],
   "source": [
    "np.mean(ultra_revenue)"
   ]
  },
  {
   "cell_type": "markdown",
   "metadata": {},
   "source": [
    "Посчитаем медиану."
   ]
  },
  {
   "cell_type": "code",
   "execution_count": 78,
   "metadata": {},
   "outputs": [
    {
     "data": {
      "text/plain": [
       "1950.0"
      ]
     },
     "execution_count": 78,
     "metadata": {},
     "output_type": "execute_result"
    }
   ],
   "source": [
    "np.median(ultra_revenue)"
   ]
  },
  {
   "cell_type": "markdown",
   "metadata": {},
   "source": [
    "Посчитаем дисперсию."
   ]
  },
  {
   "cell_type": "code",
   "execution_count": 79,
   "metadata": {},
   "outputs": [
    {
     "data": {
      "text/plain": [
       "revenue    93136.474759\n",
       "dtype: float64"
      ]
     },
     "execution_count": 79,
     "metadata": {},
     "output_type": "execute_result"
    }
   ],
   "source": [
    "np.var(ultra_revenue)"
   ]
  },
  {
   "cell_type": "markdown",
   "metadata": {},
   "source": [
    "Посчитаем стандартное отклонение."
   ]
  },
  {
   "cell_type": "code",
   "execution_count": 80,
   "metadata": {},
   "outputs": [
    {
     "data": {
      "text/plain": [
       "revenue    305.182691\n",
       "dtype: float64"
      ]
     },
     "execution_count": 80,
     "metadata": {},
     "output_type": "execute_result"
    }
   ],
   "source": [
    "np.std(ultra_revenue)"
   ]
  },
  {
   "cell_type": "markdown",
   "metadata": {},
   "source": [
    "**Вывод**\n",
    "\n",
    "На полученной гистограмме и посчитанным статистическим значениям видно, что распределение совсем немного скошено вправо. \n",
    "\n",
    "Однако, видно, что выручка с пользователей данного тарифа в основном состоит из абонентской платы за их тариф, которая составляет 1950 руб."
   ]
  },
  {
   "cell_type": "markdown",
   "metadata": {},
   "source": [
    "## Проверка гипотиз"
   ]
  },
  {
   "cell_type": "markdown",
   "metadata": {},
   "source": [
    "### Средняя выручка в зависимости от тарифа"
   ]
  },
  {
   "cell_type": "markdown",
   "metadata": {},
   "source": [
    "Проверим гипотезу о том, что средние выручки пользователей тарифов \"Смарт\" и \"Ультра\" различаются.\n",
    "\n",
    "В качестве нулевой гипотезы считаем, что выручки одинаковы. В качестве критического уровня статистической значимости примем значение 0.05."
   ]
  },
  {
   "cell_type": "code",
   "execution_count": 81,
   "metadata": {},
   "outputs": [],
   "source": [
    "alpha = 0.05\n",
    "results_1 = st.ttest_ind(smart_revenue, ultra_revenue)"
   ]
  },
  {
   "cell_type": "markdown",
   "metadata": {},
   "source": [
    "Сравним полученное значение p-value с alpha."
   ]
  },
  {
   "cell_type": "code",
   "execution_count": 82,
   "metadata": {},
   "outputs": [
    {
     "name": "stdout",
     "output_type": "stream",
     "text": [
      "Отвергаем нулевую гипотезу, выручки абонентов разных тарифов не одинаковы\n"
     ]
    }
   ],
   "source": [
    "if results_1.pvalue < alpha:\n",
    "    print('Отвергаем нулевую гипотезу, выручки абонентов разных тарифов не одинаковы')\n",
    "else:\n",
    "    print(\"Не получилось отвергнуть нулевую гипотезу, выручки одинаковы\") "
   ]
  },
  {
   "cell_type": "markdown",
   "metadata": {},
   "source": [
    "**Вывод**\n",
    "\n",
    "Средние выручки с абонентов разных тарифов не одинаковы."
   ]
  },
  {
   "cell_type": "markdown",
   "metadata": {},
   "source": [
    "### Средняя выручка в зависимости от региона"
   ]
  },
  {
   "cell_type": "markdown",
   "metadata": {},
   "source": [
    "Проверим гипотезу о том, что средняя выручка пользователей из Москвы отличается от выручки пользователей из других регионов. Для начала добавим соответствующий столбец в датасет."
   ]
  },
  {
   "cell_type": "code",
   "execution_count": 83,
   "metadata": {},
   "outputs": [
    {
     "data": {
      "text/html": [
       "<div>\n",
       "<style scoped>\n",
       "    .dataframe tbody tr th:only-of-type {\n",
       "        vertical-align: middle;\n",
       "    }\n",
       "\n",
       "    .dataframe tbody tr th {\n",
       "        vertical-align: top;\n",
       "    }\n",
       "\n",
       "    .dataframe thead th {\n",
       "        text-align: right;\n",
       "    }\n",
       "</style>\n",
       "<table border=\"1\" class=\"dataframe\">\n",
       "  <thead>\n",
       "    <tr style=\"text-align: right;\">\n",
       "      <th></th>\n",
       "      <th>user_id</th>\n",
       "      <th>month</th>\n",
       "      <th>call_duration</th>\n",
       "      <th>call_count</th>\n",
       "      <th>messages</th>\n",
       "      <th>internet</th>\n",
       "      <th>tariff</th>\n",
       "      <th>revenue</th>\n",
       "      <th>city</th>\n",
       "    </tr>\n",
       "  </thead>\n",
       "  <tbody>\n",
       "    <tr>\n",
       "      <td>0</td>\n",
       "      <td>1000</td>\n",
       "      <td>5.0</td>\n",
       "      <td>150.06</td>\n",
       "      <td>17.0</td>\n",
       "      <td>22.0</td>\n",
       "      <td>2253.49</td>\n",
       "      <td>ultra</td>\n",
       "      <td>1950</td>\n",
       "      <td>Краснодар</td>\n",
       "    </tr>\n",
       "    <tr>\n",
       "      <td>1</td>\n",
       "      <td>1000</td>\n",
       "      <td>6.0</td>\n",
       "      <td>158.90</td>\n",
       "      <td>28.0</td>\n",
       "      <td>60.0</td>\n",
       "      <td>23233.77</td>\n",
       "      <td>ultra</td>\n",
       "      <td>1950</td>\n",
       "      <td>Краснодар</td>\n",
       "    </tr>\n",
       "    <tr>\n",
       "      <td>2</td>\n",
       "      <td>1000</td>\n",
       "      <td>7.0</td>\n",
       "      <td>318.80</td>\n",
       "      <td>41.0</td>\n",
       "      <td>75.0</td>\n",
       "      <td>14003.64</td>\n",
       "      <td>ultra</td>\n",
       "      <td>1950</td>\n",
       "      <td>Краснодар</td>\n",
       "    </tr>\n",
       "    <tr>\n",
       "      <td>3</td>\n",
       "      <td>1000</td>\n",
       "      <td>8.0</td>\n",
       "      <td>389.87</td>\n",
       "      <td>42.0</td>\n",
       "      <td>81.0</td>\n",
       "      <td>14055.93</td>\n",
       "      <td>ultra</td>\n",
       "      <td>1950</td>\n",
       "      <td>Краснодар</td>\n",
       "    </tr>\n",
       "    <tr>\n",
       "      <td>4</td>\n",
       "      <td>1000</td>\n",
       "      <td>9.0</td>\n",
       "      <td>440.14</td>\n",
       "      <td>46.0</td>\n",
       "      <td>57.0</td>\n",
       "      <td>14568.91</td>\n",
       "      <td>ultra</td>\n",
       "      <td>1950</td>\n",
       "      <td>Краснодар</td>\n",
       "    </tr>\n",
       "  </tbody>\n",
       "</table>\n",
       "</div>"
      ],
      "text/plain": [
       "   user_id  month  call_duration  call_count  messages  internet tariff  \\\n",
       "0     1000    5.0         150.06        17.0      22.0   2253.49  ultra   \n",
       "1     1000    6.0         158.90        28.0      60.0  23233.77  ultra   \n",
       "2     1000    7.0         318.80        41.0      75.0  14003.64  ultra   \n",
       "3     1000    8.0         389.87        42.0      81.0  14055.93  ultra   \n",
       "4     1000    9.0         440.14        46.0      57.0  14568.91  ultra   \n",
       "\n",
       "   revenue       city  \n",
       "0     1950  Краснодар  \n",
       "1     1950  Краснодар  \n",
       "2     1950  Краснодар  \n",
       "3     1950  Краснодар  \n",
       "4     1950  Краснодар  "
      ]
     },
     "execution_count": 83,
     "metadata": {},
     "output_type": "execute_result"
    }
   ],
   "source": [
    "user_usage = pd.merge(user_usage, users[['user_id','city']], on=['user_id'], how='outer')\n",
    "user_usage.head()"
   ]
  },
  {
   "cell_type": "markdown",
   "metadata": {},
   "source": [
    "Создадим сводные таблицы по среднему значению выручки пользователей Москвы и других регионов."
   ]
  },
  {
   "cell_type": "code",
   "execution_count": 84,
   "metadata": {},
   "outputs": [],
   "source": [
    "moscow_revenue = (pd.\n",
    " pivot_table(user_usage.query('city == \"Москва\"'),\n",
    "            index='user_id',\n",
    "            values='revenue',\n",
    "            aggfunc='mean')\n",
    ")"
   ]
  },
  {
   "cell_type": "markdown",
   "metadata": {},
   "source": [
    "Построим гистограмму."
   ]
  },
  {
   "cell_type": "code",
   "execution_count": 85,
   "metadata": {},
   "outputs": [
    {
     "data": {
      "text/plain": [
       "array([[<matplotlib.axes._subplots.AxesSubplot object at 0x7fe69a52c590>]],\n",
       "      dtype=object)"
      ]
     },
     "execution_count": 85,
     "metadata": {},
     "output_type": "execute_result"
    },
    {
     "data": {
      "image/png": "[encoded data removed]",
      "text/plain": [
       "<Figure size 432x288 with 1 Axes>"
      ]
     },
     "metadata": {
      "needs_background": "light"
     },
     "output_type": "display_data"
    }
   ],
   "source": [
    "moscow_revenue.hist(bins=20)"
   ]
  },
  {
   "cell_type": "code",
   "execution_count": 86,
   "metadata": {},
   "outputs": [],
   "source": [
    "nonmoscow_revenue = (pd.\n",
    " pivot_table(user_usage.query('city != \"Москва\"'),\n",
    "            index='user_id',\n",
    "            values='revenue',\n",
    "            aggfunc='mean')\n",
    ")"
   ]
  },
  {
   "cell_type": "markdown",
   "metadata": {},
   "source": [
    "Построим гистограмму."
   ]
  },
  {
   "cell_type": "code",
   "execution_count": 87,
   "metadata": {},
   "outputs": [
    {
     "data": {
      "text/plain": [
       "array([[<matplotlib.axes._subplots.AxesSubplot object at 0x7fe69a4c29d0>]],\n",
       "      dtype=object)"
      ]
     },
     "execution_count": 87,
     "metadata": {},
     "output_type": "execute_result"
    },
    {
     "data": {
      "image/png": "[encoded data removed]",
      "text/plain": [
       "<Figure size 432x288 with 1 Axes>"
      ]
     },
     "metadata": {
      "needs_background": "light"
     },
     "output_type": "display_data"
    }
   ],
   "source": [
    "nonmoscow_revenue.hist(bins=20)"
   ]
  },
  {
   "cell_type": "markdown",
   "metadata": {},
   "source": [
    "В качестве нулевой гипотезы считаем, что выручки одинаковы. В качестве критического уровня статистической значимости примем значение 0.05."
   ]
  },
  {
   "cell_type": "code",
   "execution_count": 88,
   "metadata": {},
   "outputs": [],
   "source": [
    "alpha = 0.05\n",
    "results_2 = st.ttest_ind(moscow_revenue, nonmoscow_revenue)"
   ]
  },
  {
   "cell_type": "markdown",
   "metadata": {},
   "source": [
    "Сравним полученное значение p-value с alpha."
   ]
  },
  {
   "cell_type": "code",
   "execution_count": 89,
   "metadata": {},
   "outputs": [
    {
     "data": {
      "text/plain": [
       "array([0.3691376])"
      ]
     },
     "execution_count": 89,
     "metadata": {},
     "output_type": "execute_result"
    }
   ],
   "source": [
    "results_2.pvalue"
   ]
  },
  {
   "cell_type": "code",
   "execution_count": 90,
   "metadata": {},
   "outputs": [
    {
     "name": "stdout",
     "output_type": "stream",
     "text": [
      "Не получилось отвергнуть нулевую гипотезу, выручки одинаковы\n"
     ]
    }
   ],
   "source": [
    "if results_2.pvalue < alpha:\n",
    "    print('Отвергаем нулевую гипотезу, выручки абонентов Москвы и других регионов не одинаковы')\n",
    "else:\n",
    "    print(\"Не получилось отвергнуть нулевую гипотезу, выручки одинаковы\") "
   ]
  },
  {
   "cell_type": "markdown",
   "metadata": {},
   "source": [
    "## Общий вывод"
   ]
  },
  {
   "cell_type": "markdown",
   "metadata": {},
   "source": [
    "В данном проекте были проанализированы данные о том, как абоненты различных тарифов используют включенные в тариф услуги.\n",
    "\n",
    "1. Было проведено первоначальное знакомство со всеми датасетами.\n",
    "2. Проведена подготовка данных:\n",
    "    - Сменен тип данных в столбце с датой для того, чтобы в дальнейшем облегчить работу с данным столбцом.\n",
    "    - Данные проверены на ошибки.\n",
    "    - Расчитана активность пользователей, а именно, количество сделанных звонков, отправленных сообщений, израсходанного интернет-трафика и выручки с каждого абонента.\n",
    "3. Проведен анализ данных:\n",
    "    - Было показано, что абоненты тарифа \"Smart\" в среднем используют меньшее количество услуг, чем включено в их тариф. Однако, интернет-трафик в среднем у этих абонентов больше включенного в тариф. Это приводит к тому, что абоненты данного тарифа тратят в среднем больше, чем абонентскую плату. \n",
    "    - Для абонентов тарифа \"Ultra\" наблюдается противоположная картина. Они тратят сильно меньше включенных в их тариф услуг. Поэтому в среднем выручка с этих пользователей составляет только их абонентскую плату.\n",
    "4. Были проверены следующие гипотезы:\n",
    "    - \"Средняя выручка абонентов разных тарифов одинакова\". Однако, данная гипотеза была отвергнута. Это также было видно по построенным гистограммам для выручки абонентов разных тарифов. В среднем абоненты тарифа \"Smart\" тратили 1300 руб, а абоненты тарифа \"Ultra\" тратили их абонентскую плату в 1950 руб.\n",
    "    - \"Средняя выручка с абонентов Москвы и других регионов одинакова\". Данная гипотеза не была отвергнута. Это говорит о том, что выручка с пользователя не зависит от того, пользуется он услугами в Москве или нет."
   ]
  }
 ],
 "metadata": {
  "ExecuteTimeLog": [
   {
    "duration": 1005,
    "start_time": "2021-12-18T13:08:17.045Z"
   },
   {
    "duration": 2039,
    "start_time": "2021-12-18T13:16:35.515Z"
   },
   {
    "duration": 182,
    "start_time": "2021-12-18T13:16:49.125Z"
   },
   {
    "duration": 13,
    "start_time": "2021-12-18T13:16:51.996Z"
   },
   {
    "duration": 8,
    "start_time": "2021-12-18T13:18:08.017Z"
   },
   {
    "duration": 132,
    "start_time": "2021-12-18T13:18:59.098Z"
   },
   {
    "duration": 9,
    "start_time": "2021-12-18T13:18:59.681Z"
   },
   {
    "duration": 20,
    "start_time": "2021-12-18T13:19:06.570Z"
   },
   {
    "duration": 23,
    "start_time": "2021-12-18T13:19:25.055Z"
   },
   {
    "duration": 135,
    "start_time": "2021-12-18T13:22:54.426Z"
   },
   {
    "duration": 131,
    "start_time": "2021-12-18T13:22:57.654Z"
   },
   {
    "duration": 15,
    "start_time": "2021-12-18T13:23:00.890Z"
   },
   {
    "duration": 120,
    "start_time": "2021-12-18T13:24:25.537Z"
   },
   {
    "duration": 81,
    "start_time": "2021-12-18T13:30:11.123Z"
   },
   {
    "duration": 13,
    "start_time": "2021-12-18T13:30:21.147Z"
   },
   {
    "duration": 20,
    "start_time": "2021-12-18T13:32:29.687Z"
   },
   {
    "duration": 13,
    "start_time": "2021-12-18T13:33:38.458Z"
   },
   {
    "duration": 6,
    "start_time": "2021-12-18T13:33:48.186Z"
   },
   {
    "duration": 33,
    "start_time": "2021-12-18T13:35:32.289Z"
   },
   {
    "duration": 6,
    "start_time": "2021-12-18T13:35:42.932Z"
   },
   {
    "duration": 1289,
    "start_time": "2021-12-18T19:54:38.784Z"
   },
   {
    "duration": 186,
    "start_time": "2021-12-18T19:54:42.844Z"
   },
   {
    "duration": 16,
    "start_time": "2021-12-18T19:54:43.724Z"
   },
   {
    "duration": 26,
    "start_time": "2021-12-18T19:54:44.100Z"
   },
   {
    "duration": 171,
    "start_time": "2021-12-18T19:54:44.951Z"
   },
   {
    "duration": 21,
    "start_time": "2021-12-18T19:54:45.166Z"
   },
   {
    "duration": 112,
    "start_time": "2021-12-18T19:54:45.992Z"
   },
   {
    "duration": 20,
    "start_time": "2021-12-18T19:54:46.205Z"
   },
   {
    "duration": 26,
    "start_time": "2021-12-18T19:54:47.055Z"
   },
   {
    "duration": 9,
    "start_time": "2021-12-18T19:54:47.268Z"
   },
   {
    "duration": 39,
    "start_time": "2021-12-18T19:54:48.464Z"
   },
   {
    "duration": 9,
    "start_time": "2021-12-18T19:54:48.679Z"
   },
   {
    "duration": 120,
    "start_time": "2021-12-18T19:55:32.405Z"
   },
   {
    "duration": 129,
    "start_time": "2021-12-18T19:55:37.421Z"
   },
   {
    "duration": 92,
    "start_time": "2021-12-18T19:55:41.186Z"
   },
   {
    "duration": 9,
    "start_time": "2021-12-18T19:55:44.211Z"
   },
   {
    "duration": 36,
    "start_time": "2021-12-18T19:57:55.117Z"
   },
   {
    "duration": 25,
    "start_time": "2021-12-18T19:57:58.756Z"
   },
   {
    "duration": 7,
    "start_time": "2021-12-18T20:00:57.990Z"
   },
   {
    "duration": 35,
    "start_time": "2021-12-18T20:02:10.179Z"
   },
   {
    "duration": 7,
    "start_time": "2021-12-18T20:02:17.717Z"
   },
   {
    "duration": 62,
    "start_time": "2021-12-18T20:05:10.953Z"
   },
   {
    "duration": 7,
    "start_time": "2021-12-18T20:05:16.625Z"
   },
   {
    "duration": 98,
    "start_time": "2021-12-18T20:05:24.362Z"
   },
   {
    "duration": 6,
    "start_time": "2021-12-18T20:05:28.092Z"
   },
   {
    "duration": 6,
    "start_time": "2021-12-18T20:05:49.087Z"
   },
   {
    "duration": 6,
    "start_time": "2021-12-18T20:05:59.863Z"
   },
   {
    "duration": 21,
    "start_time": "2021-12-18T20:06:28.935Z"
   },
   {
    "duration": 20,
    "start_time": "2021-12-18T20:07:08.669Z"
   },
   {
    "duration": 1052,
    "start_time": "2021-12-19T17:25:50.229Z"
   },
   {
    "duration": 152,
    "start_time": "2021-12-19T17:25:51.284Z"
   },
   {
    "duration": 12,
    "start_time": "2021-12-19T17:25:51.438Z"
   },
   {
    "duration": 21,
    "start_time": "2021-12-19T17:25:51.453Z"
   },
   {
    "duration": 142,
    "start_time": "2021-12-19T17:25:51.477Z"
   },
   {
    "duration": 16,
    "start_time": "2021-12-19T17:25:51.621Z"
   },
   {
    "duration": 96,
    "start_time": "2021-12-19T17:25:51.639Z"
   },
   {
    "duration": 14,
    "start_time": "2021-12-19T17:25:51.738Z"
   },
   {
    "duration": 21,
    "start_time": "2021-12-19T17:25:51.754Z"
   },
   {
    "duration": 16,
    "start_time": "2021-12-19T17:25:51.776Z"
   },
   {
    "duration": 43,
    "start_time": "2021-12-19T17:25:51.793Z"
   },
   {
    "duration": 6,
    "start_time": "2021-12-19T17:25:51.838Z"
   },
   {
    "duration": 69,
    "start_time": "2021-12-19T17:25:51.846Z"
   },
   {
    "duration": 15,
    "start_time": "2021-12-19T17:26:00.384Z"
   },
   {
    "duration": 31,
    "start_time": "2021-12-19T17:26:05.079Z"
   },
   {
    "duration": 15,
    "start_time": "2021-12-19T17:26:19.725Z"
   },
   {
    "duration": 13,
    "start_time": "2021-12-19T17:26:26.559Z"
   },
   {
    "duration": 3,
    "start_time": "2021-12-19T17:27:08.003Z"
   },
   {
    "duration": 156,
    "start_time": "2021-12-19T17:27:08.008Z"
   },
   {
    "duration": 8,
    "start_time": "2021-12-19T17:27:08.166Z"
   },
   {
    "duration": 34,
    "start_time": "2021-12-19T17:27:08.176Z"
   },
   {
    "duration": 19,
    "start_time": "2021-12-19T17:27:09.758Z"
   },
   {
    "duration": 28,
    "start_time": "2021-12-19T17:27:10.009Z"
   },
   {
    "duration": 31,
    "start_time": "2021-12-19T17:27:30.820Z"
   },
   {
    "duration": 125,
    "start_time": "2021-12-19T17:27:32.413Z"
   },
   {
    "duration": 17,
    "start_time": "2021-12-19T17:27:33.323Z"
   },
   {
    "duration": 27,
    "start_time": "2021-12-19T17:27:34.965Z"
   },
   {
    "duration": 17,
    "start_time": "2021-12-19T17:28:07.303Z"
   },
   {
    "duration": 3,
    "start_time": "2021-12-19T17:28:13.090Z"
   },
   {
    "duration": 156,
    "start_time": "2021-12-19T17:28:13.096Z"
   },
   {
    "duration": 9,
    "start_time": "2021-12-19T17:28:13.254Z"
   },
   {
    "duration": 28,
    "start_time": "2021-12-19T17:28:13.265Z"
   },
   {
    "duration": 24,
    "start_time": "2021-12-19T17:28:13.295Z"
   },
   {
    "duration": 129,
    "start_time": "2021-12-19T17:28:13.321Z"
   },
   {
    "duration": 18,
    "start_time": "2021-12-19T17:28:13.451Z"
   },
   {
    "duration": 44,
    "start_time": "2021-12-19T17:28:13.471Z"
   },
   {
    "duration": 94,
    "start_time": "2021-12-19T17:28:13.517Z"
   },
   {
    "duration": 15,
    "start_time": "2021-12-19T17:28:13.613Z"
   },
   {
    "duration": 14,
    "start_time": "2021-12-19T17:28:14.986Z"
   },
   {
    "duration": 14,
    "start_time": "2021-12-19T17:28:15.168Z"
   },
   {
    "duration": 21,
    "start_time": "2021-12-19T17:28:18.928Z"
   },
   {
    "duration": 6,
    "start_time": "2021-12-19T17:28:19.119Z"
   },
   {
    "duration": 46,
    "start_time": "2021-12-19T17:28:22.273Z"
   },
   {
    "duration": 7,
    "start_time": "2021-12-19T17:28:27.350Z"
   },
   {
    "duration": 15,
    "start_time": "2021-12-19T17:28:33.899Z"
   },
   {
    "duration": 14,
    "start_time": "2021-12-19T17:28:57.753Z"
   },
   {
    "duration": 16,
    "start_time": "2021-12-19T17:29:06.090Z"
   },
   {
    "duration": 14,
    "start_time": "2021-12-19T17:29:14.722Z"
   },
   {
    "duration": 6,
    "start_time": "2021-12-19T17:29:25.473Z"
   },
   {
    "duration": 6,
    "start_time": "2021-12-19T17:29:31.285Z"
   },
   {
    "duration": 15,
    "start_time": "2021-12-19T17:29:44.684Z"
   },
   {
    "duration": 79,
    "start_time": "2021-12-19T17:29:48.420Z"
   },
   {
    "duration": 5,
    "start_time": "2021-12-19T17:32:12.360Z"
   },
   {
    "duration": 4,
    "start_time": "2021-12-19T17:32:18.875Z"
   },
   {
    "duration": 238,
    "start_time": "2021-12-19T17:32:27.797Z"
   },
   {
    "duration": 207,
    "start_time": "2021-12-19T17:32:38.092Z"
   },
   {
    "duration": 21,
    "start_time": "2021-12-19T17:32:46.165Z"
   },
   {
    "duration": 17,
    "start_time": "2021-12-19T17:32:59.345Z"
   },
   {
    "duration": 14,
    "start_time": "2021-12-19T17:33:05.274Z"
   },
   {
    "duration": 12,
    "start_time": "2021-12-19T17:33:06.387Z"
   },
   {
    "duration": 12,
    "start_time": "2021-12-19T17:35:44.120Z"
   },
   {
    "duration": 190,
    "start_time": "2021-12-19T17:35:58.226Z"
   },
   {
    "duration": 17,
    "start_time": "2021-12-19T17:36:03.154Z"
   },
   {
    "duration": 12,
    "start_time": "2021-12-19T17:36:14.692Z"
   },
   {
    "duration": 207,
    "start_time": "2021-12-19T17:36:52.445Z"
   },
   {
    "duration": 17,
    "start_time": "2021-12-19T17:37:01.234Z"
   },
   {
    "duration": 13,
    "start_time": "2021-12-19T17:37:04.583Z"
   },
   {
    "duration": 16,
    "start_time": "2021-12-19T17:37:09.052Z"
   },
   {
    "duration": 64,
    "start_time": "2021-12-19T17:37:15.107Z"
   },
   {
    "duration": 184,
    "start_time": "2021-12-19T17:37:18.670Z"
   },
   {
    "duration": 9,
    "start_time": "2021-12-19T17:37:22.992Z"
   },
   {
    "duration": 11,
    "start_time": "2021-12-19T17:37:25.407Z"
   },
   {
    "duration": 13,
    "start_time": "2021-12-19T17:42:08.198Z"
   },
   {
    "duration": 24,
    "start_time": "2021-12-19T17:43:42.839Z"
   },
   {
    "duration": 46,
    "start_time": "2021-12-19T17:43:48.160Z"
   },
   {
    "duration": 29,
    "start_time": "2021-12-19T17:43:56.807Z"
   },
   {
    "duration": 61,
    "start_time": "2021-12-19T17:44:07.194Z"
   },
   {
    "duration": 27,
    "start_time": "2021-12-19T17:44:09.495Z"
   },
   {
    "duration": 23,
    "start_time": "2021-12-19T17:44:29.845Z"
   },
   {
    "duration": 23,
    "start_time": "2021-12-19T17:44:43.023Z"
   },
   {
    "duration": 29,
    "start_time": "2021-12-19T17:44:51.995Z"
   },
   {
    "duration": 39,
    "start_time": "2021-12-19T17:48:02.773Z"
   },
   {
    "duration": 49,
    "start_time": "2021-12-19T17:48:22.765Z"
   },
   {
    "duration": 69,
    "start_time": "2021-12-19T17:48:50.924Z"
   },
   {
    "duration": 56,
    "start_time": "2021-12-19T17:51:59.320Z"
   },
   {
    "duration": 67,
    "start_time": "2021-12-19T17:52:07.590Z"
   },
   {
    "duration": 22,
    "start_time": "2021-12-19T17:54:48.069Z"
   },
   {
    "duration": 182,
    "start_time": "2021-12-19T18:01:59.840Z"
   },
   {
    "duration": 189,
    "start_time": "2021-12-19T18:02:19.184Z"
   },
   {
    "duration": 199,
    "start_time": "2021-12-19T18:02:42.731Z"
   },
   {
    "duration": 6,
    "start_time": "2021-12-19T18:03:57.181Z"
   },
   {
    "duration": 8,
    "start_time": "2021-12-19T18:04:02.012Z"
   },
   {
    "duration": 187,
    "start_time": "2021-12-19T18:04:42.005Z"
   },
   {
    "duration": 6,
    "start_time": "2021-12-19T18:06:41.780Z"
   },
   {
    "duration": 6,
    "start_time": "2021-12-19T18:06:50.105Z"
   },
   {
    "duration": 26,
    "start_time": "2021-12-19T18:07:23.705Z"
   },
   {
    "duration": 191,
    "start_time": "2021-12-19T18:10:10.107Z"
   },
   {
    "duration": 22,
    "start_time": "2021-12-19T18:10:39.133Z"
   },
   {
    "duration": 932,
    "start_time": "2021-12-19T18:10:47.699Z"
   },
   {
    "duration": 25,
    "start_time": "2021-12-19T18:10:53.950Z"
   },
   {
    "duration": 20,
    "start_time": "2021-12-19T18:11:10.289Z"
   },
   {
    "duration": 69,
    "start_time": "2021-12-19T18:11:18.676Z"
   },
   {
    "duration": 21,
    "start_time": "2021-12-19T18:11:20.391Z"
   },
   {
    "duration": 24,
    "start_time": "2021-12-19T18:11:29.125Z"
   },
   {
    "duration": 4397,
    "start_time": "2021-12-19T18:12:29.650Z"
   },
   {
    "duration": 4276,
    "start_time": "2021-12-19T18:12:38.191Z"
   },
   {
    "duration": 23,
    "start_time": "2021-12-19T18:12:43.796Z"
   },
   {
    "duration": 20,
    "start_time": "2021-12-19T18:12:55.031Z"
   },
   {
    "duration": 24,
    "start_time": "2021-12-19T18:12:57.173Z"
   },
   {
    "duration": 24,
    "start_time": "2021-12-19T18:12:58.940Z"
   },
   {
    "duration": 22,
    "start_time": "2021-12-19T18:14:48.027Z"
   },
   {
    "duration": 62,
    "start_time": "2021-12-19T18:15:55.395Z"
   },
   {
    "duration": 40,
    "start_time": "2021-12-19T18:19:07.789Z"
   },
   {
    "duration": 182,
    "start_time": "2021-12-19T18:21:31.040Z"
   },
   {
    "duration": 24,
    "start_time": "2021-12-19T18:22:22.376Z"
   },
   {
    "duration": 174,
    "start_time": "2021-12-19T18:23:20.461Z"
   },
   {
    "duration": 21,
    "start_time": "2021-12-19T18:24:07.608Z"
   },
   {
    "duration": 199,
    "start_time": "2021-12-19T18:25:59.839Z"
   },
   {
    "duration": 231,
    "start_time": "2021-12-19T18:30:52.402Z"
   },
   {
    "duration": 212,
    "start_time": "2021-12-19T18:30:55.118Z"
   },
   {
    "duration": 39,
    "start_time": "2021-12-19T18:33:16.475Z"
   },
   {
    "duration": 3,
    "start_time": "2021-12-19T18:33:49.675Z"
   },
   {
    "duration": 161,
    "start_time": "2021-12-19T18:33:49.681Z"
   },
   {
    "duration": 9,
    "start_time": "2021-12-19T18:33:49.844Z"
   },
   {
    "duration": 21,
    "start_time": "2021-12-19T18:33:49.855Z"
   },
   {
    "duration": 38,
    "start_time": "2021-12-19T18:33:49.877Z"
   },
   {
    "duration": 137,
    "start_time": "2021-12-19T18:33:49.917Z"
   },
   {
    "duration": 35,
    "start_time": "2021-12-19T18:33:50.056Z"
   },
   {
    "duration": 27,
    "start_time": "2021-12-19T18:33:50.093Z"
   },
   {
    "duration": 103,
    "start_time": "2021-12-19T18:33:50.123Z"
   },
   {
    "duration": 14,
    "start_time": "2021-12-19T18:33:50.228Z"
   },
   {
    "duration": 13,
    "start_time": "2021-12-19T18:33:50.244Z"
   },
   {
    "duration": 37,
    "start_time": "2021-12-19T18:33:50.258Z"
   },
   {
    "duration": 7,
    "start_time": "2021-12-19T18:33:50.297Z"
   },
   {
    "duration": 38,
    "start_time": "2021-12-19T18:33:50.306Z"
   },
   {
    "duration": 6,
    "start_time": "2021-12-19T18:33:50.346Z"
   },
   {
    "duration": 18,
    "start_time": "2021-12-19T18:33:50.354Z"
   },
   {
    "duration": 92,
    "start_time": "2021-12-19T18:33:50.373Z"
   },
   {
    "duration": 10,
    "start_time": "2021-12-19T18:33:50.468Z"
   },
   {
    "duration": 13,
    "start_time": "2021-12-19T18:33:50.492Z"
   },
   {
    "duration": 37,
    "start_time": "2021-12-19T18:33:50.507Z"
   },
   {
    "duration": 97,
    "start_time": "2021-12-19T18:33:50.546Z"
   },
   {
    "duration": 26,
    "start_time": "2021-12-19T18:33:50.646Z"
   },
   {
    "duration": 46,
    "start_time": "2021-12-19T18:33:50.674Z"
   },
   {
    "duration": 24,
    "start_time": "2021-12-19T18:33:50.722Z"
   },
   {
    "duration": 50,
    "start_time": "2021-12-19T18:33:50.748Z"
   },
   {
    "duration": 69,
    "start_time": "2021-12-19T18:34:22.717Z"
   },
   {
    "duration": 33,
    "start_time": "2021-12-19T18:34:46.305Z"
   },
   {
    "duration": 10,
    "start_time": "2021-12-19T18:35:15.599Z"
   },
   {
    "duration": 5,
    "start_time": "2021-12-19T18:35:20.416Z"
   },
   {
    "duration": 70,
    "start_time": "2021-12-19T18:37:08.774Z"
   },
   {
    "duration": 49,
    "start_time": "2021-12-19T18:37:29.740Z"
   },
   {
    "duration": 26,
    "start_time": "2021-12-19T18:39:47.978Z"
   },
   {
    "duration": 27,
    "start_time": "2021-12-19T18:40:06.758Z"
   },
   {
    "duration": 55,
    "start_time": "2021-12-19T18:40:25.050Z"
   },
   {
    "duration": 182,
    "start_time": "2021-12-19T18:40:28.738Z"
   },
   {
    "duration": 28,
    "start_time": "2021-12-19T18:44:37.588Z"
   },
   {
    "duration": 17,
    "start_time": "2021-12-19T18:46:24.839Z"
   },
   {
    "duration": 28,
    "start_time": "2021-12-19T18:46:29.790Z"
   },
   {
    "duration": 5,
    "start_time": "2021-12-19T18:47:04.627Z"
   },
   {
    "duration": 4,
    "start_time": "2021-12-19T18:47:07.961Z"
   },
   {
    "duration": 191,
    "start_time": "2021-12-19T18:50:40.913Z"
   },
   {
    "duration": 10,
    "start_time": "2021-12-19T18:50:50.946Z"
   },
   {
    "duration": 18,
    "start_time": "2021-12-19T18:50:56.746Z"
   },
   {
    "duration": 6,
    "start_time": "2021-12-19T18:51:48.240Z"
   },
   {
    "duration": 4,
    "start_time": "2021-12-19T18:51:59.281Z"
   },
   {
    "duration": 17,
    "start_time": "2021-12-19T18:52:13.420Z"
   },
   {
    "duration": 8,
    "start_time": "2021-12-19T18:52:18.787Z"
   },
   {
    "duration": 15,
    "start_time": "2021-12-19T18:52:19.238Z"
   },
   {
    "duration": 8,
    "start_time": "2021-12-19T18:52:30.351Z"
   },
   {
    "duration": 7,
    "start_time": "2021-12-19T18:52:32.834Z"
   },
   {
    "duration": 15,
    "start_time": "2021-12-19T18:52:33.338Z"
   },
   {
    "duration": 9,
    "start_time": "2021-12-19T19:01:58.949Z"
   },
   {
    "duration": 27,
    "start_time": "2021-12-19T19:02:03.618Z"
   },
   {
    "duration": 7,
    "start_time": "2021-12-19T19:02:24.900Z"
   },
   {
    "duration": 6,
    "start_time": "2021-12-19T19:02:27.083Z"
   },
   {
    "duration": 5,
    "start_time": "2021-12-19T19:02:31.598Z"
   },
   {
    "duration": 22,
    "start_time": "2021-12-19T19:04:47.115Z"
   },
   {
    "duration": 14,
    "start_time": "2021-12-19T19:04:55.042Z"
   },
   {
    "duration": 21,
    "start_time": "2021-12-19T19:05:00.000Z"
   },
   {
    "duration": 184,
    "start_time": "2021-12-19T19:05:05.207Z"
   },
   {
    "duration": 16,
    "start_time": "2021-12-19T19:05:07.090Z"
   },
   {
    "duration": 18,
    "start_time": "2021-12-19T19:05:21.105Z"
   },
   {
    "duration": 6,
    "start_time": "2021-12-19T19:05:45.845Z"
   },
   {
    "duration": 13,
    "start_time": "2021-12-19T19:05:54.240Z"
   },
   {
    "duration": 3,
    "start_time": "2021-12-19T19:08:37.238Z"
   },
   {
    "duration": 162,
    "start_time": "2021-12-19T19:08:37.243Z"
   },
   {
    "duration": 10,
    "start_time": "2021-12-19T19:08:37.407Z"
   },
   {
    "duration": 46,
    "start_time": "2021-12-19T19:08:37.419Z"
   },
   {
    "duration": 38,
    "start_time": "2021-12-19T19:08:37.467Z"
   },
   {
    "duration": 119,
    "start_time": "2021-12-19T19:08:37.506Z"
   },
   {
    "duration": 17,
    "start_time": "2021-12-19T19:08:37.626Z"
   },
   {
    "duration": 49,
    "start_time": "2021-12-19T19:08:37.645Z"
   },
   {
    "duration": 82,
    "start_time": "2021-12-19T19:08:37.697Z"
   },
   {
    "duration": 17,
    "start_time": "2021-12-19T19:08:37.781Z"
   },
   {
    "duration": 49,
    "start_time": "2021-12-19T19:08:37.799Z"
   },
   {
    "duration": 23,
    "start_time": "2021-12-19T19:08:37.850Z"
   },
   {
    "duration": 28,
    "start_time": "2021-12-19T19:08:37.875Z"
   },
   {
    "duration": 58,
    "start_time": "2021-12-19T19:08:37.905Z"
   },
   {
    "duration": 17,
    "start_time": "2021-12-19T19:08:37.965Z"
   },
   {
    "duration": 37,
    "start_time": "2021-12-19T19:08:37.984Z"
   },
   {
    "duration": 64,
    "start_time": "2021-12-19T19:08:38.023Z"
   },
   {
    "duration": 8,
    "start_time": "2021-12-19T19:08:38.089Z"
   },
   {
    "duration": 31,
    "start_time": "2021-12-19T19:08:38.099Z"
   },
   {
    "duration": 38,
    "start_time": "2021-12-19T19:08:38.132Z"
   },
   {
    "duration": 48,
    "start_time": "2021-12-19T19:08:38.172Z"
   },
   {
    "duration": 20,
    "start_time": "2021-12-19T19:08:38.222Z"
   },
   {
    "duration": 21,
    "start_time": "2021-12-19T19:08:38.244Z"
   },
   {
    "duration": 43,
    "start_time": "2021-12-19T19:08:38.267Z"
   },
   {
    "duration": 27,
    "start_time": "2021-12-19T19:08:38.311Z"
   },
   {
    "duration": 26,
    "start_time": "2021-12-19T19:08:38.340Z"
   },
   {
    "duration": 31,
    "start_time": "2021-12-19T19:08:38.368Z"
   },
   {
    "duration": 7,
    "start_time": "2021-12-19T19:08:39.780Z"
   },
   {
    "duration": 15,
    "start_time": "2021-12-19T19:08:40.157Z"
   },
   {
    "duration": 25,
    "start_time": "2021-12-19T19:09:40.628Z"
   },
   {
    "duration": 187,
    "start_time": "2021-12-19T19:10:02.024Z"
   },
   {
    "duration": 19,
    "start_time": "2021-12-19T19:10:11.023Z"
   },
   {
    "duration": 23,
    "start_time": "2021-12-19T19:10:34.560Z"
   },
   {
    "duration": 3,
    "start_time": "2021-12-19T19:10:59.501Z"
   },
   {
    "duration": 138,
    "start_time": "2021-12-19T19:10:59.505Z"
   },
   {
    "duration": 8,
    "start_time": "2021-12-19T19:10:59.645Z"
   },
   {
    "duration": 27,
    "start_time": "2021-12-19T19:10:59.655Z"
   },
   {
    "duration": 25,
    "start_time": "2021-12-19T19:10:59.692Z"
   },
   {
    "duration": 126,
    "start_time": "2021-12-19T19:10:59.719Z"
   },
   {
    "duration": 16,
    "start_time": "2021-12-19T19:10:59.847Z"
   },
   {
    "duration": 41,
    "start_time": "2021-12-19T19:10:59.865Z"
   },
   {
    "duration": 84,
    "start_time": "2021-12-19T19:10:59.907Z"
   },
   {
    "duration": 16,
    "start_time": "2021-12-19T19:10:59.993Z"
   },
   {
    "duration": 22,
    "start_time": "2021-12-19T19:11:00.011Z"
   },
   {
    "duration": 22,
    "start_time": "2021-12-19T19:11:00.035Z"
   },
   {
    "duration": 9,
    "start_time": "2021-12-19T19:11:00.059Z"
   },
   {
    "duration": 44,
    "start_time": "2021-12-19T19:11:00.070Z"
   },
   {
    "duration": 9,
    "start_time": "2021-12-19T19:11:00.116Z"
   },
   {
    "duration": 18,
    "start_time": "2021-12-19T19:11:00.128Z"
   },
   {
    "duration": 79,
    "start_time": "2021-12-19T19:11:00.148Z"
   },
   {
    "duration": 9,
    "start_time": "2021-12-19T19:11:00.229Z"
   },
   {
    "duration": 15,
    "start_time": "2021-12-19T19:11:00.242Z"
   },
   {
    "duration": 48,
    "start_time": "2021-12-19T19:11:00.259Z"
   },
   {
    "duration": 49,
    "start_time": "2021-12-19T19:11:00.309Z"
   },
   {
    "duration": 37,
    "start_time": "2021-12-19T19:11:00.360Z"
   },
   {
    "duration": 20,
    "start_time": "2021-12-19T19:11:00.398Z"
   },
   {
    "duration": 28,
    "start_time": "2021-12-19T19:11:00.420Z"
   },
   {
    "duration": 48,
    "start_time": "2021-12-19T19:11:00.449Z"
   },
   {
    "duration": 30,
    "start_time": "2021-12-19T19:11:00.498Z"
   },
   {
    "duration": 10,
    "start_time": "2021-12-19T19:11:00.529Z"
   },
   {
    "duration": 8,
    "start_time": "2021-12-19T19:11:01.281Z"
   },
   {
    "duration": 17,
    "start_time": "2021-12-19T19:11:01.554Z"
   },
   {
    "duration": 5,
    "start_time": "2021-12-19T19:12:42.877Z"
   },
   {
    "duration": 172,
    "start_time": "2021-12-19T19:12:48.932Z"
   },
   {
    "duration": 166,
    "start_time": "2021-12-19T19:12:58.157Z"
   },
   {
    "duration": 197,
    "start_time": "2021-12-19T19:13:14.541Z"
   },
   {
    "duration": 3,
    "start_time": "2021-12-19T19:13:38.822Z"
   },
   {
    "duration": 152,
    "start_time": "2021-12-19T19:13:38.827Z"
   },
   {
    "duration": 12,
    "start_time": "2021-12-19T19:13:38.982Z"
   },
   {
    "duration": 49,
    "start_time": "2021-12-19T19:13:38.996Z"
   },
   {
    "duration": 39,
    "start_time": "2021-12-19T19:13:39.047Z"
   },
   {
    "duration": 135,
    "start_time": "2021-12-19T19:13:39.088Z"
   },
   {
    "duration": 18,
    "start_time": "2021-12-19T19:13:39.225Z"
   },
   {
    "duration": 48,
    "start_time": "2021-12-19T19:13:39.245Z"
   },
   {
    "duration": 84,
    "start_time": "2021-12-19T19:13:39.295Z"
   },
   {
    "duration": 14,
    "start_time": "2021-12-19T19:13:39.381Z"
   },
   {
    "duration": 33,
    "start_time": "2021-12-19T19:13:39.396Z"
   },
   {
    "duration": 22,
    "start_time": "2021-12-19T19:13:39.431Z"
   },
   {
    "duration": 14,
    "start_time": "2021-12-19T19:13:39.455Z"
   },
   {
    "duration": 49,
    "start_time": "2021-12-19T19:13:39.471Z"
   },
   {
    "duration": 6,
    "start_time": "2021-12-19T19:13:39.521Z"
   },
   {
    "duration": 43,
    "start_time": "2021-12-19T19:13:39.529Z"
   },
   {
    "duration": 76,
    "start_time": "2021-12-19T19:13:39.574Z"
   },
   {
    "duration": 9,
    "start_time": "2021-12-19T19:13:39.652Z"
   },
   {
    "duration": 19,
    "start_time": "2021-12-19T19:13:39.663Z"
   },
   {
    "duration": 30,
    "start_time": "2021-12-19T19:13:39.692Z"
   },
   {
    "duration": 71,
    "start_time": "2021-12-19T19:13:39.724Z"
   },
   {
    "duration": 20,
    "start_time": "2021-12-19T19:13:39.797Z"
   },
   {
    "duration": 20,
    "start_time": "2021-12-19T19:13:39.821Z"
   },
   {
    "duration": 49,
    "start_time": "2021-12-19T19:13:39.843Z"
   },
   {
    "duration": 24,
    "start_time": "2021-12-19T19:13:39.894Z"
   },
   {
    "duration": 26,
    "start_time": "2021-12-19T19:13:39.919Z"
   },
   {
    "duration": 12,
    "start_time": "2021-12-19T19:13:39.947Z"
   },
   {
    "duration": 15,
    "start_time": "2021-12-19T19:13:43.906Z"
   },
   {
    "duration": 14,
    "start_time": "2021-12-19T19:13:47.513Z"
   },
   {
    "duration": 58,
    "start_time": "2021-12-19T19:15:43.171Z"
   },
   {
    "duration": 4343,
    "start_time": "2021-12-19T19:15:47.661Z"
   },
   {
    "duration": 17,
    "start_time": "2021-12-19T19:16:08.904Z"
   },
   {
    "duration": 24,
    "start_time": "2021-12-19T19:16:24.591Z"
   },
   {
    "duration": 10,
    "start_time": "2021-12-19T19:16:46.826Z"
   },
   {
    "duration": 18,
    "start_time": "2021-12-19T19:16:50.936Z"
   },
   {
    "duration": 4,
    "start_time": "2021-12-19T19:16:56.173Z"
   },
   {
    "duration": 174,
    "start_time": "2021-12-19T19:16:56.179Z"
   },
   {
    "duration": 9,
    "start_time": "2021-12-19T19:16:56.355Z"
   },
   {
    "duration": 35,
    "start_time": "2021-12-19T19:16:56.366Z"
   },
   {
    "duration": 27,
    "start_time": "2021-12-19T19:16:56.403Z"
   },
   {
    "duration": 164,
    "start_time": "2021-12-19T19:16:56.432Z"
   },
   {
    "duration": 17,
    "start_time": "2021-12-19T19:16:56.598Z"
   },
   {
    "duration": 36,
    "start_time": "2021-12-19T19:16:56.617Z"
   },
   {
    "duration": 102,
    "start_time": "2021-12-19T19:16:56.656Z"
   },
   {
    "duration": 15,
    "start_time": "2021-12-19T19:16:56.760Z"
   },
   {
    "duration": 30,
    "start_time": "2021-12-19T19:16:56.777Z"
   },
   {
    "duration": 22,
    "start_time": "2021-12-19T19:16:56.809Z"
   },
   {
    "duration": 9,
    "start_time": "2021-12-19T19:16:56.833Z"
   },
   {
    "duration": 37,
    "start_time": "2021-12-19T19:16:56.844Z"
   },
   {
    "duration": 6,
    "start_time": "2021-12-19T19:16:56.883Z"
   },
   {
    "duration": 21,
    "start_time": "2021-12-19T19:16:56.891Z"
   },
   {
    "duration": 61,
    "start_time": "2021-12-19T19:16:56.914Z"
   },
   {
    "duration": 14,
    "start_time": "2021-12-19T19:16:56.977Z"
   },
   {
    "duration": 10,
    "start_time": "2021-12-19T19:16:56.993Z"
   },
   {
    "duration": 27,
    "start_time": "2021-12-19T19:16:57.004Z"
   },
   {
    "duration": 91,
    "start_time": "2021-12-19T19:16:57.033Z"
   },
   {
    "duration": 20,
    "start_time": "2021-12-19T19:16:57.126Z"
   },
   {
    "duration": 19,
    "start_time": "2021-12-19T19:16:57.147Z"
   },
   {
    "duration": 43,
    "start_time": "2021-12-19T19:16:57.168Z"
   },
   {
    "duration": 26,
    "start_time": "2021-12-19T19:16:57.213Z"
   },
   {
    "duration": 55,
    "start_time": "2021-12-19T19:16:57.240Z"
   },
   {
    "duration": 10,
    "start_time": "2021-12-19T19:16:57.298Z"
   },
   {
    "duration": 16,
    "start_time": "2021-12-19T19:16:57.310Z"
   },
   {
    "duration": 13,
    "start_time": "2021-12-19T19:16:57.328Z"
   },
   {
    "duration": 13,
    "start_time": "2021-12-19T19:16:59.280Z"
   },
   {
    "duration": 17,
    "start_time": "2021-12-19T19:16:59.511Z"
   },
   {
    "duration": 188,
    "start_time": "2021-12-19T19:18:59.558Z"
   },
   {
    "duration": 26,
    "start_time": "2021-12-19T19:19:07.273Z"
   },
   {
    "duration": 3,
    "start_time": "2021-12-19T19:19:24.391Z"
   },
   {
    "duration": 164,
    "start_time": "2021-12-19T19:19:24.398Z"
   },
   {
    "duration": 11,
    "start_time": "2021-12-19T19:19:24.565Z"
   },
   {
    "duration": 44,
    "start_time": "2021-12-19T19:19:24.579Z"
   },
   {
    "duration": 34,
    "start_time": "2021-12-19T19:19:24.625Z"
   },
   {
    "duration": 153,
    "start_time": "2021-12-19T19:19:24.661Z"
   },
   {
    "duration": 21,
    "start_time": "2021-12-19T19:19:24.816Z"
   },
   {
    "duration": 31,
    "start_time": "2021-12-19T19:19:24.839Z"
   },
   {
    "duration": 105,
    "start_time": "2021-12-19T19:19:24.872Z"
   },
   {
    "duration": 18,
    "start_time": "2021-12-19T19:19:24.991Z"
   },
   {
    "duration": 15,
    "start_time": "2021-12-19T19:19:25.011Z"
   },
   {
    "duration": 26,
    "start_time": "2021-12-19T19:19:25.028Z"
   },
   {
    "duration": 16,
    "start_time": "2021-12-19T19:19:25.056Z"
   },
   {
    "duration": 40,
    "start_time": "2021-12-19T19:19:25.093Z"
   },
   {
    "duration": 7,
    "start_time": "2021-12-19T19:19:25.136Z"
   },
   {
    "duration": 24,
    "start_time": "2021-12-19T19:19:25.145Z"
   },
   {
    "duration": 73,
    "start_time": "2021-12-19T19:19:25.171Z"
   },
   {
    "duration": 8,
    "start_time": "2021-12-19T19:19:25.246Z"
   },
   {
    "duration": 15,
    "start_time": "2021-12-19T19:19:25.257Z"
   },
   {
    "duration": 42,
    "start_time": "2021-12-19T19:19:25.291Z"
   },
   {
    "duration": 113,
    "start_time": "2021-12-19T19:19:25.336Z"
   },
   {
    "duration": 41,
    "start_time": "2021-12-19T19:19:25.452Z"
   },
   {
    "duration": 36,
    "start_time": "2021-12-19T19:19:25.496Z"
   },
   {
    "duration": 34,
    "start_time": "2021-12-19T19:19:25.534Z"
   },
   {
    "duration": 40,
    "start_time": "2021-12-19T19:19:25.592Z"
   },
   {
    "duration": 65,
    "start_time": "2021-12-19T19:19:25.634Z"
   },
   {
    "duration": 16,
    "start_time": "2021-12-19T19:19:25.704Z"
   },
   {
    "duration": 23,
    "start_time": "2021-12-19T19:19:25.723Z"
   },
   {
    "duration": 47,
    "start_time": "2021-12-19T19:19:25.748Z"
   },
   {
    "duration": 19,
    "start_time": "2021-12-19T19:19:29.872Z"
   },
   {
    "duration": 5,
    "start_time": "2021-12-19T19:19:42.885Z"
   },
   {
    "duration": 18,
    "start_time": "2021-12-19T19:19:44.321Z"
   },
   {
    "duration": 23,
    "start_time": "2021-12-19T19:20:13.824Z"
   },
   {
    "duration": 9,
    "start_time": "2021-12-19T19:25:06.010Z"
   },
   {
    "duration": 8,
    "start_time": "2021-12-19T19:25:19.010Z"
   },
   {
    "duration": 20,
    "start_time": "2021-12-19T19:25:23.702Z"
   },
   {
    "duration": 3,
    "start_time": "2021-12-19T19:25:27.500Z"
   },
   {
    "duration": 151,
    "start_time": "2021-12-19T19:25:27.505Z"
   },
   {
    "duration": 9,
    "start_time": "2021-12-19T19:25:27.658Z"
   },
   {
    "duration": 33,
    "start_time": "2021-12-19T19:25:27.668Z"
   },
   {
    "duration": 25,
    "start_time": "2021-12-19T19:25:27.703Z"
   },
   {
    "duration": 135,
    "start_time": "2021-12-19T19:25:27.730Z"
   },
   {
    "duration": 24,
    "start_time": "2021-12-19T19:25:27.867Z"
   },
   {
    "duration": 27,
    "start_time": "2021-12-19T19:25:27.893Z"
   },
   {
    "duration": 91,
    "start_time": "2021-12-19T19:25:27.921Z"
   },
   {
    "duration": 14,
    "start_time": "2021-12-19T19:25:28.014Z"
   },
   {
    "duration": 12,
    "start_time": "2021-12-19T19:25:28.030Z"
   },
   {
    "duration": 20,
    "start_time": "2021-12-19T19:25:28.044Z"
   },
   {
    "duration": 26,
    "start_time": "2021-12-19T19:25:28.065Z"
   },
   {
    "duration": 35,
    "start_time": "2021-12-19T19:25:28.093Z"
   },
   {
    "duration": 7,
    "start_time": "2021-12-19T19:25:28.130Z"
   },
   {
    "duration": 20,
    "start_time": "2021-12-19T19:25:28.138Z"
   },
   {
    "duration": 70,
    "start_time": "2021-12-19T19:25:28.160Z"
   },
   {
    "duration": 8,
    "start_time": "2021-12-19T19:25:28.232Z"
   },
   {
    "duration": 12,
    "start_time": "2021-12-19T19:25:28.243Z"
   },
   {
    "duration": 44,
    "start_time": "2021-12-19T19:25:28.257Z"
   },
   {
    "duration": 65,
    "start_time": "2021-12-19T19:25:28.303Z"
   },
   {
    "duration": 35,
    "start_time": "2021-12-19T19:25:28.369Z"
   },
   {
    "duration": 21,
    "start_time": "2021-12-19T19:25:28.406Z"
   },
   {
    "duration": 22,
    "start_time": "2021-12-19T19:25:28.429Z"
   },
   {
    "duration": 45,
    "start_time": "2021-12-19T19:25:28.452Z"
   },
   {
    "duration": 27,
    "start_time": "2021-12-19T19:25:28.499Z"
   },
   {
    "duration": 9,
    "start_time": "2021-12-19T19:25:28.527Z"
   },
   {
    "duration": 15,
    "start_time": "2021-12-19T19:25:28.538Z"
   },
   {
    "duration": 6,
    "start_time": "2021-12-19T19:25:28.555Z"
   },
   {
    "duration": 12,
    "start_time": "2021-12-19T19:25:28.591Z"
   },
   {
    "duration": 14,
    "start_time": "2021-12-19T19:25:29.854Z"
   },
   {
    "duration": 21,
    "start_time": "2021-12-19T19:25:30.028Z"
   },
   {
    "duration": 7,
    "start_time": "2021-12-19T19:25:32.998Z"
   },
   {
    "duration": 3427,
    "start_time": "2021-12-19T19:27:14.317Z"
   },
   {
    "duration": 4,
    "start_time": "2021-12-19T19:27:20.646Z"
   },
   {
    "duration": 4,
    "start_time": "2021-12-19T19:28:58.243Z"
   },
   {
    "duration": 112,
    "start_time": "2021-12-19T19:33:08.968Z"
   },
   {
    "duration": 189,
    "start_time": "2021-12-19T19:41:01.626Z"
   },
   {
    "duration": 3,
    "start_time": "2021-12-19T19:41:07.972Z"
   },
   {
    "duration": 161,
    "start_time": "2021-12-19T19:41:07.977Z"
   },
   {
    "duration": 9,
    "start_time": "2021-12-19T19:41:08.141Z"
   },
   {
    "duration": 22,
    "start_time": "2021-12-19T19:41:08.152Z"
   },
   {
    "duration": 29,
    "start_time": "2021-12-19T19:41:08.191Z"
   },
   {
    "duration": 145,
    "start_time": "2021-12-19T19:41:08.221Z"
   },
   {
    "duration": 25,
    "start_time": "2021-12-19T19:41:08.367Z"
   },
   {
    "duration": 29,
    "start_time": "2021-12-19T19:41:08.395Z"
   },
   {
    "duration": 108,
    "start_time": "2021-12-19T19:41:08.426Z"
   },
   {
    "duration": 13,
    "start_time": "2021-12-19T19:41:08.536Z"
   },
   {
    "duration": 17,
    "start_time": "2021-12-19T19:41:08.552Z"
   },
   {
    "duration": 27,
    "start_time": "2021-12-19T19:41:08.570Z"
   },
   {
    "duration": 6,
    "start_time": "2021-12-19T19:41:08.599Z"
   },
   {
    "duration": 37,
    "start_time": "2021-12-19T19:41:08.606Z"
   },
   {
    "duration": 6,
    "start_time": "2021-12-19T19:41:08.645Z"
   },
   {
    "duration": 18,
    "start_time": "2021-12-19T19:41:08.653Z"
   },
   {
    "duration": 67,
    "start_time": "2021-12-19T19:41:08.673Z"
   },
   {
    "duration": 8,
    "start_time": "2021-12-19T19:41:08.742Z"
   },
   {
    "duration": 11,
    "start_time": "2021-12-19T19:41:08.752Z"
   },
   {
    "duration": 43,
    "start_time": "2021-12-19T19:41:08.765Z"
   },
   {
    "duration": 82,
    "start_time": "2021-12-19T19:41:08.810Z"
   },
   {
    "duration": 21,
    "start_time": "2021-12-19T19:41:08.895Z"
   },
   {
    "duration": 19,
    "start_time": "2021-12-19T19:41:08.920Z"
   },
   {
    "duration": 22,
    "start_time": "2021-12-19T19:41:08.940Z"
   },
   {
    "duration": 52,
    "start_time": "2021-12-19T19:41:08.964Z"
   },
   {
    "duration": 26,
    "start_time": "2021-12-19T19:41:09.018Z"
   },
   {
    "duration": 9,
    "start_time": "2021-12-19T19:41:09.045Z"
   },
   {
    "duration": 36,
    "start_time": "2021-12-19T19:41:09.056Z"
   },
   {
    "duration": 5,
    "start_time": "2021-12-19T19:41:09.094Z"
   },
   {
    "duration": 13,
    "start_time": "2021-12-19T19:41:09.101Z"
   },
   {
    "duration": 18,
    "start_time": "2021-12-19T19:41:09.116Z"
   },
   {
    "duration": 8,
    "start_time": "2021-12-19T19:41:09.136Z"
   },
   {
    "duration": 8,
    "start_time": "2021-12-19T19:41:10.282Z"
   },
   {
    "duration": 4730,
    "start_time": "2021-12-19T19:41:10.805Z"
   },
   {
    "duration": 186,
    "start_time": "2021-12-19T19:41:42.195Z"
   },
   {
    "duration": 3,
    "start_time": "2021-12-19T19:41:53.458Z"
   },
   {
    "duration": 5,
    "start_time": "2021-12-19T19:42:01.902Z"
   },
   {
    "duration": 609,
    "start_time": "2021-12-19T19:42:08.091Z"
   },
   {
    "duration": 20,
    "start_time": "2021-12-19T19:42:13.310Z"
   },
   {
    "duration": 3,
    "start_time": "2021-12-19T19:43:09.632Z"
   },
   {
    "duration": 154,
    "start_time": "2021-12-19T19:43:09.638Z"
   },
   {
    "duration": 10,
    "start_time": "2021-12-19T19:43:09.794Z"
   },
   {
    "duration": 36,
    "start_time": "2021-12-19T19:43:09.806Z"
   },
   {
    "duration": 53,
    "start_time": "2021-12-19T19:43:09.844Z"
   },
   {
    "duration": 141,
    "start_time": "2021-12-19T19:43:09.899Z"
   },
   {
    "duration": 18,
    "start_time": "2021-12-19T19:43:10.042Z"
   },
   {
    "duration": 40,
    "start_time": "2021-12-19T19:43:10.063Z"
   },
   {
    "duration": 95,
    "start_time": "2021-12-19T19:43:10.106Z"
   },
   {
    "duration": 15,
    "start_time": "2021-12-19T19:43:10.203Z"
   },
   {
    "duration": 15,
    "start_time": "2021-12-19T19:43:10.219Z"
   },
   {
    "duration": 21,
    "start_time": "2021-12-19T19:43:10.236Z"
   },
   {
    "duration": 7,
    "start_time": "2021-12-19T19:43:10.259Z"
   },
   {
    "duration": 40,
    "start_time": "2021-12-19T19:43:10.267Z"
   },
   {
    "duration": 7,
    "start_time": "2021-12-19T19:43:10.308Z"
   },
   {
    "duration": 14,
    "start_time": "2021-12-19T19:43:10.317Z"
   },
   {
    "duration": 103,
    "start_time": "2021-12-19T19:43:10.333Z"
   },
   {
    "duration": 9,
    "start_time": "2021-12-19T19:43:10.437Z"
   },
   {
    "duration": 12,
    "start_time": "2021-12-19T19:43:10.448Z"
   },
   {
    "duration": 44,
    "start_time": "2021-12-19T19:43:10.461Z"
   },
   {
    "duration": 67,
    "start_time": "2021-12-19T19:43:10.506Z"
   },
   {
    "duration": 28,
    "start_time": "2021-12-19T19:43:10.575Z"
   },
   {
    "duration": 21,
    "start_time": "2021-12-19T19:43:10.606Z"
   },
   {
    "duration": 23,
    "start_time": "2021-12-19T19:43:10.629Z"
   },
   {
    "duration": 56,
    "start_time": "2021-12-19T19:43:10.654Z"
   },
   {
    "duration": 28,
    "start_time": "2021-12-19T19:43:10.712Z"
   },
   {
    "duration": 9,
    "start_time": "2021-12-19T19:43:10.741Z"
   },
   {
    "duration": 49,
    "start_time": "2021-12-19T19:43:10.752Z"
   },
   {
    "duration": 5,
    "start_time": "2021-12-19T19:43:10.803Z"
   },
   {
    "duration": 17,
    "start_time": "2021-12-19T19:43:10.809Z"
   },
   {
    "duration": 20,
    "start_time": "2021-12-19T19:43:10.828Z"
   },
   {
    "duration": 8,
    "start_time": "2021-12-19T19:43:10.849Z"
   },
   {
    "duration": 33,
    "start_time": "2021-12-19T19:43:10.859Z"
   },
   {
    "duration": 2,
    "start_time": "2021-12-19T19:43:11.692Z"
   },
   {
    "duration": 664,
    "start_time": "2021-12-19T19:43:11.987Z"
   },
   {
    "duration": 16,
    "start_time": "2021-12-19T19:43:13.659Z"
   },
   {
    "duration": 4,
    "start_time": "2021-12-19T19:44:24.291Z"
   },
   {
    "duration": 162,
    "start_time": "2021-12-19T19:44:24.297Z"
   },
   {
    "duration": 8,
    "start_time": "2021-12-19T19:44:24.461Z"
   },
   {
    "duration": 28,
    "start_time": "2021-12-19T19:44:24.471Z"
   },
   {
    "duration": 25,
    "start_time": "2021-12-19T19:44:24.501Z"
   },
   {
    "duration": 140,
    "start_time": "2021-12-19T19:44:24.528Z"
   },
   {
    "duration": 36,
    "start_time": "2021-12-19T19:44:24.670Z"
   },
   {
    "duration": 29,
    "start_time": "2021-12-19T19:44:24.710Z"
   },
   {
    "duration": 102,
    "start_time": "2021-12-19T19:44:24.742Z"
   },
   {
    "duration": 15,
    "start_time": "2021-12-19T19:44:24.846Z"
   },
   {
    "duration": 30,
    "start_time": "2021-12-19T19:44:24.863Z"
   },
   {
    "duration": 23,
    "start_time": "2021-12-19T19:44:24.895Z"
   },
   {
    "duration": 8,
    "start_time": "2021-12-19T19:44:24.919Z"
   },
   {
    "duration": 36,
    "start_time": "2021-12-19T19:44:24.929Z"
   },
   {
    "duration": 6,
    "start_time": "2021-12-19T19:44:24.967Z"
   },
   {
    "duration": 15,
    "start_time": "2021-12-19T19:44:24.975Z"
   },
   {
    "duration": 58,
    "start_time": "2021-12-19T19:44:24.992Z"
   },
   {
    "duration": 9,
    "start_time": "2021-12-19T19:44:25.051Z"
   },
   {
    "duration": 29,
    "start_time": "2021-12-19T19:44:25.062Z"
   },
   {
    "duration": 29,
    "start_time": "2021-12-19T19:44:25.093Z"
   },
   {
    "duration": 87,
    "start_time": "2021-12-19T19:44:25.124Z"
   },
   {
    "duration": 20,
    "start_time": "2021-12-19T19:44:25.213Z"
   },
   {
    "duration": 21,
    "start_time": "2021-12-19T19:44:25.236Z"
   },
   {
    "duration": 43,
    "start_time": "2021-12-19T19:44:25.259Z"
   },
   {
    "duration": 26,
    "start_time": "2021-12-19T19:44:25.303Z"
   },
   {
    "duration": 26,
    "start_time": "2021-12-19T19:44:25.330Z"
   },
   {
    "duration": 33,
    "start_time": "2021-12-19T19:44:25.358Z"
   },
   {
    "duration": 14,
    "start_time": "2021-12-19T19:44:25.393Z"
   },
   {
    "duration": 3,
    "start_time": "2021-12-19T19:44:25.409Z"
   },
   {
    "duration": 12,
    "start_time": "2021-12-19T19:44:25.414Z"
   },
   {
    "duration": 18,
    "start_time": "2021-12-19T19:44:25.427Z"
   },
   {
    "duration": 7,
    "start_time": "2021-12-19T19:44:25.447Z"
   },
   {
    "duration": 36,
    "start_time": "2021-12-19T19:44:25.455Z"
   },
   {
    "duration": 3,
    "start_time": "2021-12-19T19:44:26.443Z"
   },
   {
    "duration": 716,
    "start_time": "2021-12-19T19:44:26.740Z"
   },
   {
    "duration": 15,
    "start_time": "2021-12-19T19:44:28.526Z"
   },
   {
    "duration": 3,
    "start_time": "2021-12-19T19:46:25.502Z"
   },
   {
    "duration": 154,
    "start_time": "2021-12-19T19:46:25.507Z"
   },
   {
    "duration": 9,
    "start_time": "2021-12-19T19:46:25.663Z"
   },
   {
    "duration": 39,
    "start_time": "2021-12-19T19:46:25.674Z"
   },
   {
    "duration": 26,
    "start_time": "2021-12-19T19:46:25.715Z"
   },
   {
    "duration": 139,
    "start_time": "2021-12-19T19:46:25.742Z"
   },
   {
    "duration": 22,
    "start_time": "2021-12-19T19:46:25.883Z"
   },
   {
    "duration": 25,
    "start_time": "2021-12-19T19:46:25.907Z"
   },
   {
    "duration": 94,
    "start_time": "2021-12-19T19:46:25.934Z"
   },
   {
    "duration": 14,
    "start_time": "2021-12-19T19:46:26.029Z"
   },
   {
    "duration": 14,
    "start_time": "2021-12-19T19:46:26.044Z"
   },
   {
    "duration": 37,
    "start_time": "2021-12-19T19:46:26.059Z"
   },
   {
    "duration": 6,
    "start_time": "2021-12-19T19:46:26.098Z"
   },
   {
    "duration": 35,
    "start_time": "2021-12-19T19:46:26.105Z"
   },
   {
    "duration": 6,
    "start_time": "2021-12-19T19:46:26.142Z"
   },
   {
    "duration": 16,
    "start_time": "2021-12-19T19:46:26.149Z"
   },
   {
    "duration": 68,
    "start_time": "2021-12-19T19:46:26.167Z"
   },
   {
    "duration": 7,
    "start_time": "2021-12-19T19:46:26.237Z"
   },
   {
    "duration": 11,
    "start_time": "2021-12-19T19:46:26.247Z"
   },
   {
    "duration": 40,
    "start_time": "2021-12-19T19:46:26.260Z"
   },
   {
    "duration": 65,
    "start_time": "2021-12-19T19:46:26.302Z"
   },
   {
    "duration": 33,
    "start_time": "2021-12-19T19:46:26.369Z"
   },
   {
    "duration": 22,
    "start_time": "2021-12-19T19:46:26.405Z"
   },
   {
    "duration": 22,
    "start_time": "2021-12-19T19:46:26.428Z"
   },
   {
    "duration": 53,
    "start_time": "2021-12-19T19:46:26.452Z"
   },
   {
    "duration": 28,
    "start_time": "2021-12-19T19:46:26.507Z"
   },
   {
    "duration": 10,
    "start_time": "2021-12-19T19:46:26.536Z"
   },
   {
    "duration": 18,
    "start_time": "2021-12-19T19:46:26.548Z"
   },
   {
    "duration": 24,
    "start_time": "2021-12-19T19:46:26.568Z"
   },
   {
    "duration": 11,
    "start_time": "2021-12-19T19:46:26.594Z"
   },
   {
    "duration": 21,
    "start_time": "2021-12-19T19:46:26.607Z"
   },
   {
    "duration": 7,
    "start_time": "2021-12-19T19:46:26.629Z"
   },
   {
    "duration": 4,
    "start_time": "2021-12-19T19:46:26.637Z"
   },
   {
    "duration": 4,
    "start_time": "2021-12-19T19:46:27.709Z"
   },
   {
    "duration": 655,
    "start_time": "2021-12-19T19:46:27.954Z"
   },
   {
    "duration": 15,
    "start_time": "2021-12-19T19:46:29.648Z"
   },
   {
    "duration": 449,
    "start_time": "2021-12-20T08:12:25.129Z"
   },
   {
    "duration": 1335,
    "start_time": "2021-12-20T08:12:28.784Z"
   },
   {
    "duration": 215,
    "start_time": "2021-12-20T08:12:30.121Z"
   },
   {
    "duration": 20,
    "start_time": "2021-12-20T08:12:30.339Z"
   },
   {
    "duration": 28,
    "start_time": "2021-12-20T08:12:30.361Z"
   },
   {
    "duration": 35,
    "start_time": "2021-12-20T08:12:30.391Z"
   },
   {
    "duration": 221,
    "start_time": "2021-12-20T08:12:30.429Z"
   },
   {
    "duration": 24,
    "start_time": "2021-12-20T08:12:30.652Z"
   },
   {
    "duration": 50,
    "start_time": "2021-12-20T08:12:30.679Z"
   },
   {
    "duration": 134,
    "start_time": "2021-12-20T08:12:30.733Z"
   },
   {
    "duration": 19,
    "start_time": "2021-12-20T08:12:30.870Z"
   },
   {
    "duration": 26,
    "start_time": "2021-12-20T08:12:30.891Z"
   },
   {
    "duration": 42,
    "start_time": "2021-12-20T08:12:30.919Z"
   },
   {
    "duration": 9,
    "start_time": "2021-12-20T08:12:30.963Z"
   },
   {
    "duration": 47,
    "start_time": "2021-12-20T08:12:30.974Z"
   },
   {
    "duration": 10,
    "start_time": "2021-12-20T08:12:31.024Z"
   },
   {
    "duration": 39,
    "start_time": "2021-12-20T08:12:31.037Z"
   },
   {
    "duration": 112,
    "start_time": "2021-12-20T08:12:31.078Z"
   },
   {
    "duration": 14,
    "start_time": "2021-12-20T08:12:31.192Z"
   },
   {
    "duration": 27,
    "start_time": "2021-12-20T08:12:31.208Z"
   },
   {
    "duration": 57,
    "start_time": "2021-12-20T08:12:31.237Z"
   },
   {
    "duration": 107,
    "start_time": "2021-12-20T08:12:31.296Z"
   },
   {
    "duration": 34,
    "start_time": "2021-12-20T08:12:31.405Z"
   },
   {
    "duration": 49,
    "start_time": "2021-12-20T08:12:31.441Z"
   },
   {
    "duration": 34,
    "start_time": "2021-12-20T08:12:31.492Z"
   },
   {
    "duration": 64,
    "start_time": "2021-12-20T08:12:31.528Z"
   },
   {
    "duration": 38,
    "start_time": "2021-12-20T08:12:33.285Z"
   },
   {
    "duration": 16,
    "start_time": "2021-12-20T08:12:56.476Z"
   },
   {
    "duration": 22,
    "start_time": "2021-12-20T08:13:12.541Z"
   },
   {
    "duration": 15,
    "start_time": "2021-12-20T08:14:22.054Z"
   },
   {
    "duration": 3,
    "start_time": "2021-12-20T08:14:55.619Z"
   },
   {
    "duration": 216,
    "start_time": "2021-12-20T08:14:55.625Z"
   },
   {
    "duration": 20,
    "start_time": "2021-12-20T08:14:55.845Z"
   },
   {
    "duration": 27,
    "start_time": "2021-12-20T08:14:55.867Z"
   },
   {
    "duration": 35,
    "start_time": "2021-12-20T08:14:55.897Z"
   },
   {
    "duration": 182,
    "start_time": "2021-12-20T08:14:55.959Z"
   },
   {
    "duration": 27,
    "start_time": "2021-12-20T08:14:56.144Z"
   },
   {
    "duration": 37,
    "start_time": "2021-12-20T08:14:56.175Z"
   },
   {
    "duration": 137,
    "start_time": "2021-12-20T08:14:56.214Z"
   },
   {
    "duration": 20,
    "start_time": "2021-12-20T08:14:56.353Z"
   },
   {
    "duration": 18,
    "start_time": "2021-12-20T08:14:56.376Z"
   },
   {
    "duration": 28,
    "start_time": "2021-12-20T08:14:56.396Z"
   },
   {
    "duration": 35,
    "start_time": "2021-12-20T08:14:56.426Z"
   },
   {
    "duration": 47,
    "start_time": "2021-12-20T08:14:56.463Z"
   },
   {
    "duration": 8,
    "start_time": "2021-12-20T08:14:56.513Z"
   },
   {
    "duration": 24,
    "start_time": "2021-12-20T08:14:56.523Z"
   },
   {
    "duration": 84,
    "start_time": "2021-12-20T08:14:56.559Z"
   },
   {
    "duration": 24,
    "start_time": "2021-12-20T08:14:56.645Z"
   },
   {
    "duration": 14,
    "start_time": "2021-12-20T08:14:56.671Z"
   },
   {
    "duration": 40,
    "start_time": "2021-12-20T08:14:56.688Z"
   },
   {
    "duration": 103,
    "start_time": "2021-12-20T08:14:56.759Z"
   },
   {
    "duration": 216,
    "start_time": "2021-12-20T08:14:56.864Z"
   },
   {
    "duration": 746,
    "start_time": "2021-12-20T08:14:56.337Z"
   },
   {
    "duration": 741,
    "start_time": "2021-12-20T08:14:56.343Z"
   },
   {
    "duration": 739,
    "start_time": "2021-12-20T08:14:56.347Z"
   },
   {
    "duration": 737,
    "start_time": "2021-12-20T08:14:56.350Z"
   },
   {
    "duration": 736,
    "start_time": "2021-12-20T08:14:56.353Z"
   },
   {
    "duration": 4,
    "start_time": "2021-12-20T08:15:37.802Z"
   },
   {
    "duration": 199,
    "start_time": "2021-12-20T08:15:37.808Z"
   },
   {
    "duration": 13,
    "start_time": "2021-12-20T08:15:38.011Z"
   },
   {
    "duration": 51,
    "start_time": "2021-12-20T08:15:38.027Z"
   },
   {
    "duration": 37,
    "start_time": "2021-12-20T08:15:38.081Z"
   },
   {
    "duration": 194,
    "start_time": "2021-12-20T08:15:38.121Z"
   },
   {
    "duration": 24,
    "start_time": "2021-12-20T08:15:38.318Z"
   },
   {
    "duration": 51,
    "start_time": "2021-12-20T08:15:38.346Z"
   },
   {
    "duration": 136,
    "start_time": "2021-12-20T08:15:38.401Z"
   },
   {
    "duration": 27,
    "start_time": "2021-12-20T08:15:38.539Z"
   },
   {
    "duration": 18,
    "start_time": "2021-12-20T08:15:38.568Z"
   },
   {
    "duration": 27,
    "start_time": "2021-12-20T08:15:38.589Z"
   },
   {
    "duration": 9,
    "start_time": "2021-12-20T08:15:38.618Z"
   },
   {
    "duration": 45,
    "start_time": "2021-12-20T08:15:38.630Z"
   },
   {
    "duration": 8,
    "start_time": "2021-12-20T08:15:38.677Z"
   },
   {
    "duration": 23,
    "start_time": "2021-12-20T08:15:38.687Z"
   },
   {
    "duration": 121,
    "start_time": "2021-12-20T08:15:38.712Z"
   },
   {
    "duration": 10,
    "start_time": "2021-12-20T08:15:38.836Z"
   },
   {
    "duration": 21,
    "start_time": "2021-12-20T08:15:38.848Z"
   },
   {
    "duration": 41,
    "start_time": "2021-12-20T08:15:38.872Z"
   },
   {
    "duration": 118,
    "start_time": "2021-12-20T08:15:38.915Z"
   },
   {
    "duration": 35,
    "start_time": "2021-12-20T08:15:39.035Z"
   },
   {
    "duration": 32,
    "start_time": "2021-12-20T08:15:39.074Z"
   },
   {
    "duration": 57,
    "start_time": "2021-12-20T08:15:39.109Z"
   },
   {
    "duration": 37,
    "start_time": "2021-12-20T08:15:39.168Z"
   },
   {
    "duration": 61,
    "start_time": "2021-12-20T08:15:39.208Z"
   },
   {
    "duration": 25,
    "start_time": "2021-12-20T08:15:39.272Z"
   },
   {
    "duration": 14,
    "start_time": "2021-12-20T08:15:40.711Z"
   },
   {
    "duration": 32,
    "start_time": "2021-12-20T08:16:27.478Z"
   },
   {
    "duration": 25,
    "start_time": "2021-12-20T08:16:32.575Z"
   },
   {
    "duration": 4,
    "start_time": "2021-12-20T08:16:36.714Z"
   },
   {
    "duration": 197,
    "start_time": "2021-12-20T08:16:36.720Z"
   },
   {
    "duration": 12,
    "start_time": "2021-12-20T08:16:36.920Z"
   },
   {
    "duration": 42,
    "start_time": "2021-12-20T08:16:36.934Z"
   },
   {
    "duration": 34,
    "start_time": "2021-12-20T08:16:36.978Z"
   },
   {
    "duration": 187,
    "start_time": "2021-12-20T08:16:37.014Z"
   },
   {
    "duration": 22,
    "start_time": "2021-12-20T08:16:37.203Z"
   },
   {
    "duration": 53,
    "start_time": "2021-12-20T08:16:37.229Z"
   },
   {
    "duration": 133,
    "start_time": "2021-12-20T08:16:37.285Z"
   },
   {
    "duration": 18,
    "start_time": "2021-12-20T08:16:37.420Z"
   },
   {
    "duration": 31,
    "start_time": "2021-12-20T08:16:37.440Z"
   },
   {
    "duration": 27,
    "start_time": "2021-12-20T08:16:37.473Z"
   },
   {
    "duration": 11,
    "start_time": "2021-12-20T08:16:37.503Z"
   },
   {
    "duration": 56,
    "start_time": "2021-12-20T08:16:37.517Z"
   },
   {
    "duration": 10,
    "start_time": "2021-12-20T08:16:37.576Z"
   },
   {
    "duration": 24,
    "start_time": "2021-12-20T08:16:37.589Z"
   },
   {
    "duration": 121,
    "start_time": "2021-12-20T08:16:37.615Z"
   },
   {
    "duration": 24,
    "start_time": "2021-12-20T08:16:37.738Z"
   },
   {
    "duration": 11,
    "start_time": "2021-12-20T08:16:37.765Z"
   },
   {
    "duration": 40,
    "start_time": "2021-12-20T08:16:37.778Z"
   },
   {
    "duration": 124,
    "start_time": "2021-12-20T08:16:37.820Z"
   },
   {
    "duration": 37,
    "start_time": "2021-12-20T08:16:37.946Z"
   },
   {
    "duration": 30,
    "start_time": "2021-12-20T08:16:37.987Z"
   },
   {
    "duration": 57,
    "start_time": "2021-12-20T08:16:38.020Z"
   },
   {
    "duration": 35,
    "start_time": "2021-12-20T08:16:38.080Z"
   },
   {
    "duration": 60,
    "start_time": "2021-12-20T08:16:38.118Z"
   },
   {
    "duration": 23,
    "start_time": "2021-12-20T08:16:38.180Z"
   },
   {
    "duration": 14,
    "start_time": "2021-12-20T08:16:38.206Z"
   },
   {
    "duration": 23,
    "start_time": "2021-12-20T08:16:40.014Z"
   },
   {
    "duration": 1228,
    "start_time": "2021-12-20T08:18:13.959Z"
   },
   {
    "duration": 3,
    "start_time": "2021-12-20T08:18:39.739Z"
   },
   {
    "duration": 402,
    "start_time": "2021-12-20T08:18:39.745Z"
   },
   {
    "duration": 22,
    "start_time": "2021-12-20T08:18:40.151Z"
   },
   {
    "duration": 146,
    "start_time": "2021-12-20T08:18:40.176Z"
   },
   {
    "duration": 36,
    "start_time": "2021-12-20T08:18:40.324Z"
   },
   {
    "duration": 169,
    "start_time": "2021-12-20T08:18:40.362Z"
   },
   {
    "duration": 31,
    "start_time": "2021-12-20T08:18:40.533Z"
   },
   {
    "duration": 37,
    "start_time": "2021-12-20T08:18:40.569Z"
   },
   {
    "duration": 132,
    "start_time": "2021-12-20T08:18:40.610Z"
   },
   {
    "duration": 25,
    "start_time": "2021-12-20T08:18:40.744Z"
   },
   {
    "duration": 20,
    "start_time": "2021-12-20T08:18:40.771Z"
   },
   {
    "duration": 29,
    "start_time": "2021-12-20T08:18:40.794Z"
   },
   {
    "duration": 39,
    "start_time": "2021-12-20T08:18:40.826Z"
   },
   {
    "duration": 48,
    "start_time": "2021-12-20T08:18:40.868Z"
   },
   {
    "duration": 10,
    "start_time": "2021-12-20T08:18:40.918Z"
   },
   {
    "duration": 38,
    "start_time": "2021-12-20T08:18:40.930Z"
   },
   {
    "duration": 106,
    "start_time": "2021-12-20T08:18:40.971Z"
   },
   {
    "duration": 12,
    "start_time": "2021-12-20T08:18:41.079Z"
   },
   {
    "duration": 24,
    "start_time": "2021-12-20T08:18:41.093Z"
   },
   {
    "duration": 62,
    "start_time": "2021-12-20T08:18:41.120Z"
   },
   {
    "duration": 112,
    "start_time": "2021-12-20T08:18:41.185Z"
   },
   {
    "duration": 30,
    "start_time": "2021-12-20T08:18:41.300Z"
   },
   {
    "duration": 53,
    "start_time": "2021-12-20T08:18:41.336Z"
   },
   {
    "duration": 34,
    "start_time": "2021-12-20T08:18:41.393Z"
   },
   {
    "duration": 63,
    "start_time": "2021-12-20T08:18:41.430Z"
   },
   {
    "duration": 34,
    "start_time": "2021-12-20T08:18:41.495Z"
   },
   {
    "duration": 48,
    "start_time": "2021-12-20T08:18:41.532Z"
   },
   {
    "duration": 13,
    "start_time": "2021-12-20T08:18:41.582Z"
   },
   {
    "duration": 21,
    "start_time": "2021-12-20T08:18:41.597Z"
   },
   {
    "duration": 1208,
    "start_time": "2021-12-20T08:18:42.807Z"
   },
   {
    "duration": 613,
    "start_time": "2021-12-20T08:52:35.820Z"
   },
   {
    "duration": 388,
    "start_time": "2021-12-20T08:52:44.190Z"
   },
   {
    "duration": 420,
    "start_time": "2021-12-20T08:52:54.804Z"
   },
   {
    "duration": 8,
    "start_time": "2021-12-20T08:52:56.688Z"
   },
   {
    "duration": 23,
    "start_time": "2021-12-20T08:52:59.883Z"
   },
   {
    "duration": 8,
    "start_time": "2021-12-20T08:53:20.227Z"
   },
   {
    "duration": 23,
    "start_time": "2021-12-20T08:53:20.812Z"
   },
   {
    "duration": 7,
    "start_time": "2021-12-20T08:53:30.046Z"
   },
   {
    "duration": 23,
    "start_time": "2021-12-20T08:53:34.821Z"
   },
   {
    "duration": 341,
    "start_time": "2021-12-20T08:55:48.750Z"
   },
   {
    "duration": 320,
    "start_time": "2021-12-20T08:55:57.125Z"
   },
   {
    "duration": 352,
    "start_time": "2021-12-20T08:56:00.813Z"
   },
   {
    "duration": 391,
    "start_time": "2021-12-20T08:56:04.413Z"
   },
   {
    "duration": 355,
    "start_time": "2021-12-20T08:56:08.685Z"
   },
   {
    "duration": 333,
    "start_time": "2021-12-20T08:56:16.844Z"
   },
   {
    "duration": 307,
    "start_time": "2021-12-20T08:56:31.637Z"
   },
   {
    "duration": 328,
    "start_time": "2021-12-20T08:56:38.957Z"
   },
   {
    "duration": 413,
    "start_time": "2021-12-20T08:56:51.365Z"
   },
   {
    "duration": 341,
    "start_time": "2021-12-20T08:56:59.494Z"
   },
   {
    "duration": 356,
    "start_time": "2021-12-20T08:57:05.805Z"
   },
   {
    "duration": 131,
    "start_time": "2021-12-20T08:57:43.405Z"
   },
   {
    "duration": 20,
    "start_time": "2021-12-20T08:57:46.166Z"
   },
   {
    "duration": 680,
    "start_time": "2021-12-20T08:59:03.248Z"
   },
   {
    "duration": 376,
    "start_time": "2021-12-20T08:59:06.080Z"
   },
   {
    "duration": 297,
    "start_time": "2021-12-20T08:59:24.928Z"
   },
   {
    "duration": 354,
    "start_time": "2021-12-20T08:59:30.023Z"
   },
   {
    "duration": 437,
    "start_time": "2021-12-20T08:59:35.758Z"
   },
   {
    "duration": 614,
    "start_time": "2021-12-20T09:00:22.943Z"
   },
   {
    "duration": 422,
    "start_time": "2021-12-20T09:00:32.311Z"
   },
   {
    "duration": 27,
    "start_time": "2021-12-20T09:00:37.700Z"
   },
   {
    "duration": 328,
    "start_time": "2021-12-20T09:00:54.192Z"
   },
   {
    "duration": 333,
    "start_time": "2021-12-20T09:01:10.904Z"
   },
   {
    "duration": 347,
    "start_time": "2021-12-20T09:01:14.183Z"
   },
   {
    "duration": 399,
    "start_time": "2021-12-20T09:01:38.836Z"
   },
   {
    "duration": 363,
    "start_time": "2021-12-20T09:01:45.598Z"
   },
   {
    "duration": 389,
    "start_time": "2021-12-20T09:01:49.022Z"
   },
   {
    "duration": 389,
    "start_time": "2021-12-20T09:01:52.640Z"
   },
   {
    "duration": 362,
    "start_time": "2021-12-20T09:01:57.273Z"
   },
   {
    "duration": 338,
    "start_time": "2021-12-20T09:01:59.775Z"
   },
   {
    "duration": 353,
    "start_time": "2021-12-20T09:02:02.455Z"
   },
   {
    "duration": 336,
    "start_time": "2021-12-20T09:02:05.111Z"
   },
   {
    "duration": 359,
    "start_time": "2021-12-20T09:02:08.840Z"
   },
   {
    "duration": 346,
    "start_time": "2021-12-20T09:02:24.071Z"
   },
   {
    "duration": 371,
    "start_time": "2021-12-20T09:02:34.191Z"
   },
   {
    "duration": 415,
    "start_time": "2021-12-20T09:02:43.647Z"
   },
   {
    "duration": 559,
    "start_time": "2021-12-20T09:02:54.822Z"
   },
   {
    "duration": 4,
    "start_time": "2021-12-20T09:05:06.278Z"
   },
   {
    "duration": 297,
    "start_time": "2021-12-20T09:05:06.286Z"
   },
   {
    "duration": 17,
    "start_time": "2021-12-20T09:05:06.586Z"
   },
   {
    "duration": 56,
    "start_time": "2021-12-20T09:05:06.607Z"
   },
   {
    "duration": 38,
    "start_time": "2021-12-20T09:05:06.666Z"
   },
   {
    "duration": 206,
    "start_time": "2021-12-20T09:05:06.707Z"
   },
   {
    "duration": 24,
    "start_time": "2021-12-20T09:05:06.917Z"
   },
   {
    "duration": 40,
    "start_time": "2021-12-20T09:05:06.960Z"
   },
   {
    "duration": 151,
    "start_time": "2021-12-20T09:05:07.003Z"
   },
   {
    "duration": 20,
    "start_time": "2021-12-20T09:05:07.159Z"
   },
   {
    "duration": 21,
    "start_time": "2021-12-20T09:05:07.182Z"
   },
   {
    "duration": 32,
    "start_time": "2021-12-20T09:05:07.205Z"
   },
   {
    "duration": 11,
    "start_time": "2021-12-20T09:05:07.260Z"
   },
   {
    "duration": 69,
    "start_time": "2021-12-20T09:05:07.274Z"
   },
   {
    "duration": 9,
    "start_time": "2021-12-20T09:05:07.345Z"
   },
   {
    "duration": 22,
    "start_time": "2021-12-20T09:05:07.357Z"
   },
   {
    "duration": 108,
    "start_time": "2021-12-20T09:05:07.382Z"
   },
   {
    "duration": 14,
    "start_time": "2021-12-20T09:05:07.492Z"
   },
   {
    "duration": 13,
    "start_time": "2021-12-20T09:05:07.511Z"
   },
   {
    "duration": 67,
    "start_time": "2021-12-20T09:05:07.527Z"
   },
   {
    "duration": 115,
    "start_time": "2021-12-20T09:05:07.597Z"
   },
   {
    "duration": 47,
    "start_time": "2021-12-20T09:05:07.714Z"
   },
   {
    "duration": 37,
    "start_time": "2021-12-20T09:05:07.763Z"
   },
   {
    "duration": 59,
    "start_time": "2021-12-20T09:05:07.803Z"
   },
   {
    "duration": 49,
    "start_time": "2021-12-20T09:05:07.865Z"
   },
   {
    "duration": 72,
    "start_time": "2021-12-20T09:05:07.916Z"
   },
   {
    "duration": 30,
    "start_time": "2021-12-20T09:05:07.991Z"
   },
   {
    "duration": 37,
    "start_time": "2021-12-20T09:05:08.024Z"
   },
   {
    "duration": 26,
    "start_time": "2021-12-20T09:05:08.064Z"
   },
   {
    "duration": 1344,
    "start_time": "2021-12-20T09:05:08.092Z"
   },
   {
    "duration": 20,
    "start_time": "2021-12-20T09:05:09.439Z"
   },
   {
    "duration": 24,
    "start_time": "2021-12-20T09:05:09.462Z"
   },
   {
    "duration": 495,
    "start_time": "2021-12-20T09:05:09.489Z"
   },
   {
    "duration": 304,
    "start_time": "2021-12-20T09:05:35.672Z"
   },
   {
    "duration": 17,
    "start_time": "2021-12-20T09:05:40.217Z"
   },
   {
    "duration": 16,
    "start_time": "2021-12-20T09:05:53.089Z"
   },
   {
    "duration": 359,
    "start_time": "2021-12-20T09:06:17.449Z"
   },
   {
    "duration": 741,
    "start_time": "2021-12-20T09:06:26.664Z"
   },
   {
    "duration": 14,
    "start_time": "2021-12-20T09:06:43.609Z"
   },
   {
    "duration": 304,
    "start_time": "2021-12-20T09:06:54.555Z"
   },
   {
    "duration": 330,
    "start_time": "2021-12-20T09:06:58.736Z"
   },
   {
    "duration": 8,
    "start_time": "2021-12-20T09:07:02.760Z"
   },
   {
    "duration": 7,
    "start_time": "2021-12-20T09:07:10.033Z"
   },
   {
    "duration": 7,
    "start_time": "2021-12-20T09:09:25.706Z"
   },
   {
    "duration": 13,
    "start_time": "2021-12-20T09:11:30.228Z"
   },
   {
    "duration": 355,
    "start_time": "2021-12-20T09:11:42.707Z"
   },
   {
    "duration": 8,
    "start_time": "2021-12-20T09:12:04.147Z"
   },
   {
    "duration": 8,
    "start_time": "2021-12-20T09:12:08.643Z"
   },
   {
    "duration": 7,
    "start_time": "2021-12-20T09:12:12.075Z"
   },
   {
    "duration": 7,
    "start_time": "2021-12-20T09:12:14.091Z"
   },
   {
    "duration": 13,
    "start_time": "2021-12-20T09:12:54.547Z"
   },
   {
    "duration": 310,
    "start_time": "2021-12-20T09:13:03.259Z"
   },
   {
    "duration": 7,
    "start_time": "2021-12-20T09:13:13.035Z"
   },
   {
    "duration": 8,
    "start_time": "2021-12-20T09:13:19.499Z"
   },
   {
    "duration": 7,
    "start_time": "2021-12-20T09:13:23.276Z"
   },
   {
    "duration": 20,
    "start_time": "2021-12-20T10:09:38.800Z"
   },
   {
    "duration": 6,
    "start_time": "2021-12-20T10:11:23.208Z"
   },
   {
    "duration": 9,
    "start_time": "2021-12-20T10:11:48.743Z"
   },
   {
    "duration": 13,
    "start_time": "2021-12-20T10:12:28.873Z"
   },
   {
    "duration": 899,
    "start_time": "2021-12-20T10:12:45.026Z"
   },
   {
    "duration": 17,
    "start_time": "2021-12-20T10:14:05.635Z"
   },
   {
    "duration": 455,
    "start_time": "2021-12-20T10:16:58.204Z"
   },
   {
    "duration": 388,
    "start_time": "2021-12-20T10:17:16.219Z"
   },
   {
    "duration": 465,
    "start_time": "2021-12-20T10:59:51.107Z"
   },
   {
    "duration": 370,
    "start_time": "2021-12-20T10:59:58.290Z"
   },
   {
    "duration": 10,
    "start_time": "2021-12-20T11:00:01.882Z"
   },
   {
    "duration": 7,
    "start_time": "2021-12-20T11:00:20.183Z"
   },
   {
    "duration": 136,
    "start_time": "2021-12-20T11:00:23.794Z"
   },
   {
    "duration": 828,
    "start_time": "2021-12-20T11:00:37.064Z"
   },
   {
    "duration": 8,
    "start_time": "2021-12-20T11:01:26.513Z"
   },
   {
    "duration": 7,
    "start_time": "2021-12-20T11:01:28.914Z"
   },
   {
    "duration": 7,
    "start_time": "2021-12-20T11:01:29.986Z"
   },
   {
    "duration": 9,
    "start_time": "2021-12-20T11:01:45.746Z"
   },
   {
    "duration": 7,
    "start_time": "2021-12-20T11:01:55.995Z"
   },
   {
    "duration": 9,
    "start_time": "2021-12-20T11:02:01.394Z"
   },
   {
    "duration": 8,
    "start_time": "2021-12-20T11:02:20.171Z"
   },
   {
    "duration": 16,
    "start_time": "2021-12-20T11:02:35.451Z"
   },
   {
    "duration": 425,
    "start_time": "2021-12-20T11:02:35.634Z"
   },
   {
    "duration": 14,
    "start_time": "2021-12-20T11:02:54.938Z"
   },
   {
    "duration": 322,
    "start_time": "2021-12-20T11:03:02.706Z"
   },
   {
    "duration": 8,
    "start_time": "2021-12-20T11:03:21.803Z"
   },
   {
    "duration": 7,
    "start_time": "2021-12-20T11:03:31.322Z"
   },
   {
    "duration": 7,
    "start_time": "2021-12-20T11:03:50.803Z"
   },
   {
    "duration": 7,
    "start_time": "2021-12-20T11:04:23.083Z"
   },
   {
    "duration": 18,
    "start_time": "2021-12-20T11:04:30.211Z"
   },
   {
    "duration": 359,
    "start_time": "2021-12-20T11:05:45.085Z"
   },
   {
    "duration": 15,
    "start_time": "2021-12-20T11:05:49.084Z"
   },
   {
    "duration": 13,
    "start_time": "2021-12-20T11:06:08.909Z"
   },
   {
    "duration": 315,
    "start_time": "2021-12-20T11:06:38.708Z"
   },
   {
    "duration": 8,
    "start_time": "2021-12-20T11:07:30.164Z"
   },
   {
    "duration": 9,
    "start_time": "2021-12-20T11:07:41.562Z"
   },
   {
    "duration": 7,
    "start_time": "2021-12-20T11:07:45.941Z"
   },
   {
    "duration": 13,
    "start_time": "2021-12-20T11:08:42.108Z"
   },
   {
    "duration": 336,
    "start_time": "2021-12-20T11:10:23.223Z"
   },
   {
    "duration": 7,
    "start_time": "2021-12-20T11:11:10.039Z"
   },
   {
    "duration": 7,
    "start_time": "2021-12-20T11:11:10.743Z"
   },
   {
    "duration": 6,
    "start_time": "2021-12-20T11:11:11.550Z"
   },
   {
    "duration": 13,
    "start_time": "2021-12-20T11:11:34.014Z"
   },
   {
    "duration": 13,
    "start_time": "2021-12-20T11:11:57.863Z"
   },
   {
    "duration": 330,
    "start_time": "2021-12-20T11:11:58.494Z"
   },
   {
    "duration": 8,
    "start_time": "2021-12-20T11:11:59.454Z"
   },
   {
    "duration": 8,
    "start_time": "2021-12-20T11:12:00.159Z"
   },
   {
    "duration": 7,
    "start_time": "2021-12-20T11:12:01.047Z"
   },
   {
    "duration": 6,
    "start_time": "2021-12-20T11:27:04.483Z"
   },
   {
    "duration": 6,
    "start_time": "2021-12-20T11:27:17.917Z"
   },
   {
    "duration": 323,
    "start_time": "2021-12-20T11:29:50.513Z"
   },
   {
    "duration": 143,
    "start_time": "2021-12-20T11:36:54.773Z"
   },
   {
    "duration": 817,
    "start_time": "2021-12-20T11:36:54.101Z"
   },
   {
    "duration": 6,
    "start_time": "2021-12-20T11:36:58.015Z"
   },
   {
    "duration": 6,
    "start_time": "2021-12-20T11:37:11.102Z"
   },
   {
    "duration": 6,
    "start_time": "2021-12-20T11:37:13.015Z"
   },
   {
    "duration": 8,
    "start_time": "2021-12-20T11:37:24.121Z"
   },
   {
    "duration": 6,
    "start_time": "2021-12-20T11:37:25.519Z"
   },
   {
    "duration": 7,
    "start_time": "2021-12-20T11:39:23.016Z"
   },
   {
    "duration": 7,
    "start_time": "2021-12-20T11:39:23.508Z"
   },
   {
    "duration": 6,
    "start_time": "2021-12-20T11:44:54.095Z"
   },
   {
    "duration": 7,
    "start_time": "2021-12-20T11:45:50.916Z"
   },
   {
    "duration": 6,
    "start_time": "2021-12-20T11:45:51.659Z"
   },
   {
    "duration": 524,
    "start_time": "2021-12-20T11:45:58.095Z"
   },
   {
    "duration": 537,
    "start_time": "2021-12-20T11:46:02.972Z"
   },
   {
    "duration": 307,
    "start_time": "2021-12-20T11:46:06.787Z"
   },
   {
    "duration": 314,
    "start_time": "2021-12-20T11:46:10.099Z"
   },
   {
    "duration": 288,
    "start_time": "2021-12-20T11:46:12.676Z"
   },
   {
    "duration": 365,
    "start_time": "2021-12-20T11:46:15.716Z"
   },
   {
    "duration": 14,
    "start_time": "2021-12-20T11:59:49.201Z"
   },
   {
    "duration": 340,
    "start_time": "2021-12-20T11:59:49.466Z"
   },
   {
    "duration": 8,
    "start_time": "2021-12-20T12:01:01.659Z"
   },
   {
    "duration": 7,
    "start_time": "2021-12-20T12:01:04.261Z"
   },
   {
    "duration": 8,
    "start_time": "2021-12-20T12:01:06.873Z"
   },
   {
    "duration": 8,
    "start_time": "2021-12-20T12:01:09.417Z"
   },
   {
    "duration": 16,
    "start_time": "2021-12-20T12:02:17.793Z"
   },
   {
    "duration": 337,
    "start_time": "2021-12-20T12:02:20.042Z"
   },
   {
    "duration": 8,
    "start_time": "2021-12-20T12:02:27.017Z"
   },
   {
    "duration": 21,
    "start_time": "2021-12-20T12:02:57.026Z"
   },
   {
    "duration": 13,
    "start_time": "2021-12-20T12:02:58.993Z"
   },
   {
    "duration": 338,
    "start_time": "2021-12-20T12:03:01.114Z"
   },
   {
    "duration": 7,
    "start_time": "2021-12-20T12:03:01.554Z"
   },
   {
    "duration": 16,
    "start_time": "2021-12-20T12:03:29.178Z"
   },
   {
    "duration": 335,
    "start_time": "2021-12-20T12:03:29.818Z"
   },
   {
    "duration": 8,
    "start_time": "2021-12-20T12:03:34.969Z"
   },
   {
    "duration": 325,
    "start_time": "2021-12-20T12:03:38.157Z"
   },
   {
    "duration": 311,
    "start_time": "2021-12-20T12:03:45.405Z"
   },
   {
    "duration": 301,
    "start_time": "2021-12-20T12:03:47.723Z"
   },
   {
    "duration": 338,
    "start_time": "2021-12-20T12:03:49.842Z"
   },
   {
    "duration": 8,
    "start_time": "2021-12-20T12:03:53.267Z"
   },
   {
    "duration": 6,
    "start_time": "2021-12-20T12:03:54.810Z"
   },
   {
    "duration": 7,
    "start_time": "2021-12-20T12:03:55.925Z"
   },
   {
    "duration": 7,
    "start_time": "2021-12-20T12:04:01.019Z"
   },
   {
    "duration": 7,
    "start_time": "2021-12-20T12:04:03.010Z"
   },
   {
    "duration": 7,
    "start_time": "2021-12-20T12:04:03.409Z"
   },
   {
    "duration": 12,
    "start_time": "2021-12-20T12:05:25.851Z"
   },
   {
    "duration": 5,
    "start_time": "2021-12-20T12:06:30.251Z"
   },
   {
    "duration": 7,
    "start_time": "2021-12-20T12:06:37.516Z"
   },
   {
    "duration": 5,
    "start_time": "2021-12-20T12:07:38.900Z"
   },
   {
    "duration": 5,
    "start_time": "2021-12-20T12:17:20.801Z"
   },
   {
    "duration": 5,
    "start_time": "2021-12-20T12:17:28.240Z"
   },
   {
    "duration": 6,
    "start_time": "2021-12-20T12:17:33.184Z"
   },
   {
    "duration": 5,
    "start_time": "2021-12-20T12:20:37.328Z"
   },
   {
    "duration": 5,
    "start_time": "2021-12-20T12:20:39.809Z"
   },
   {
    "duration": 8,
    "start_time": "2021-12-20T12:20:54.768Z"
   },
   {
    "duration": 7,
    "start_time": "2021-12-20T12:20:55.985Z"
   },
   {
    "duration": 5,
    "start_time": "2021-12-20T12:20:58.233Z"
   },
   {
    "duration": 4,
    "start_time": "2021-12-20T12:20:59.216Z"
   },
   {
    "duration": 26,
    "start_time": "2021-12-20T12:22:32.250Z"
   },
   {
    "duration": 29,
    "start_time": "2021-12-20T12:22:36.072Z"
   },
   {
    "duration": 3,
    "start_time": "2021-12-20T12:22:40.813Z"
   },
   {
    "duration": 246,
    "start_time": "2021-12-20T12:22:40.823Z"
   },
   {
    "duration": 12,
    "start_time": "2021-12-20T12:22:41.071Z"
   },
   {
    "duration": 35,
    "start_time": "2021-12-20T12:22:41.087Z"
   },
   {
    "duration": 36,
    "start_time": "2021-12-20T12:22:41.161Z"
   },
   {
    "duration": 189,
    "start_time": "2021-12-20T12:22:41.200Z"
   },
   {
    "duration": 25,
    "start_time": "2021-12-20T12:22:41.391Z"
   },
   {
    "duration": 62,
    "start_time": "2021-12-20T12:22:41.418Z"
   },
   {
    "duration": 116,
    "start_time": "2021-12-20T12:22:41.483Z"
   },
   {
    "duration": 19,
    "start_time": "2021-12-20T12:22:41.601Z"
   },
   {
    "duration": 37,
    "start_time": "2021-12-20T12:22:41.623Z"
   },
   {
    "duration": 29,
    "start_time": "2021-12-20T12:22:41.663Z"
   },
   {
    "duration": 12,
    "start_time": "2021-12-20T12:22:41.695Z"
   },
   {
    "duration": 53,
    "start_time": "2021-12-20T12:22:41.709Z"
   },
   {
    "duration": 10,
    "start_time": "2021-12-20T12:22:41.765Z"
   },
   {
    "duration": 25,
    "start_time": "2021-12-20T12:22:41.778Z"
   },
   {
    "duration": 124,
    "start_time": "2021-12-20T12:22:41.806Z"
   },
   {
    "duration": 10,
    "start_time": "2021-12-20T12:22:41.933Z"
   },
   {
    "duration": 23,
    "start_time": "2021-12-20T12:22:41.946Z"
   },
   {
    "duration": 42,
    "start_time": "2021-12-20T12:22:41.972Z"
   },
   {
    "duration": 117,
    "start_time": "2021-12-20T12:22:42.016Z"
   },
   {
    "duration": 40,
    "start_time": "2021-12-20T12:22:42.136Z"
   },
   {
    "duration": 34,
    "start_time": "2021-12-20T12:22:42.178Z"
   },
   {
    "duration": 54,
    "start_time": "2021-12-20T12:22:42.218Z"
   },
   {
    "duration": 40,
    "start_time": "2021-12-20T12:22:42.277Z"
   },
   {
    "duration": 67,
    "start_time": "2021-12-20T12:22:42.320Z"
   },
   {
    "duration": 25,
    "start_time": "2021-12-20T12:22:42.390Z"
   },
   {
    "duration": 43,
    "start_time": "2021-12-20T12:22:42.417Z"
   },
   {
    "duration": 25,
    "start_time": "2021-12-20T12:22:42.462Z"
   },
   {
    "duration": 1295,
    "start_time": "2021-12-20T12:22:42.489Z"
   },
   {
    "duration": 17,
    "start_time": "2021-12-20T12:22:43.787Z"
   },
   {
    "duration": 23,
    "start_time": "2021-12-20T12:22:43.807Z"
   },
   {
    "duration": 344,
    "start_time": "2021-12-20T12:22:43.832Z"
   },
   {
    "duration": 8,
    "start_time": "2021-12-20T12:22:44.178Z"
   },
   {
    "duration": 8,
    "start_time": "2021-12-20T12:22:44.190Z"
   },
   {
    "duration": 8,
    "start_time": "2021-12-20T12:22:44.201Z"
   },
   {
    "duration": 52,
    "start_time": "2021-12-20T12:22:44.211Z"
   },
   {
    "duration": 15,
    "start_time": "2021-12-20T12:22:44.266Z"
   },
   {
    "duration": 367,
    "start_time": "2021-12-20T12:22:44.283Z"
   },
   {
    "duration": 11,
    "start_time": "2021-12-20T12:22:44.652Z"
   },
   {
    "duration": 8,
    "start_time": "2021-12-20T12:22:44.665Z"
   },
   {
    "duration": 7,
    "start_time": "2021-12-20T12:22:44.676Z"
   },
   {
    "duration": 10,
    "start_time": "2021-12-20T12:22:44.686Z"
   },
   {
    "duration": 61,
    "start_time": "2021-12-20T12:22:44.698Z"
   },
   {
    "duration": 331,
    "start_time": "2021-12-20T12:22:44.761Z"
   },
   {
    "duration": 7,
    "start_time": "2021-12-20T12:22:45.094Z"
   },
   {
    "duration": 7,
    "start_time": "2021-12-20T12:22:45.104Z"
   },
   {
    "duration": 7,
    "start_time": "2021-12-20T12:22:45.113Z"
   },
   {
    "duration": 39,
    "start_time": "2021-12-20T12:22:45.122Z"
   },
   {
    "duration": 14,
    "start_time": "2021-12-20T12:22:45.163Z"
   },
   {
    "duration": 509,
    "start_time": "2021-12-20T12:22:45.180Z"
   },
   {
    "duration": 7,
    "start_time": "2021-12-20T12:22:45.691Z"
   },
   {
    "duration": 8,
    "start_time": "2021-12-20T12:22:45.700Z"
   },
   {
    "duration": 7,
    "start_time": "2021-12-20T12:22:45.711Z"
   },
   {
    "duration": 41,
    "start_time": "2021-12-20T12:22:45.720Z"
   },
   {
    "duration": 19,
    "start_time": "2021-12-20T12:22:45.763Z"
   },
   {
    "duration": 13,
    "start_time": "2021-12-20T12:22:45.784Z"
   },
   {
    "duration": 360,
    "start_time": "2021-12-20T12:22:45.799Z"
   },
   {
    "duration": 6,
    "start_time": "2021-12-20T12:22:46.162Z"
   },
   {
    "duration": 7,
    "start_time": "2021-12-20T12:22:46.171Z"
   },
   {
    "duration": 8,
    "start_time": "2021-12-20T12:22:46.181Z"
   },
   {
    "duration": 8,
    "start_time": "2021-12-20T12:22:46.193Z"
   },
   {
    "duration": 64,
    "start_time": "2021-12-20T12:22:46.204Z"
   },
   {
    "duration": 365,
    "start_time": "2021-12-20T12:22:46.270Z"
   },
   {
    "duration": 6,
    "start_time": "2021-12-20T12:22:46.638Z"
   },
   {
    "duration": 17,
    "start_time": "2021-12-20T12:22:46.646Z"
   },
   {
    "duration": 7,
    "start_time": "2021-12-20T12:22:46.665Z"
   },
   {
    "duration": 9,
    "start_time": "2021-12-20T12:22:46.674Z"
   },
   {
    "duration": 13,
    "start_time": "2021-12-20T12:22:46.690Z"
   },
   {
    "duration": 409,
    "start_time": "2021-12-20T12:22:46.706Z"
   },
   {
    "duration": 6,
    "start_time": "2021-12-20T12:22:47.118Z"
   },
   {
    "duration": 5,
    "start_time": "2021-12-20T12:22:47.127Z"
   },
   {
    "duration": 29,
    "start_time": "2021-12-20T12:22:47.135Z"
   },
   {
    "duration": 9,
    "start_time": "2021-12-20T12:22:47.166Z"
   },
   {
    "duration": 15,
    "start_time": "2021-12-20T12:22:47.177Z"
   },
   {
    "duration": 357,
    "start_time": "2021-12-20T12:22:47.195Z"
   },
   {
    "duration": 7,
    "start_time": "2021-12-20T12:22:47.558Z"
   },
   {
    "duration": 6,
    "start_time": "2021-12-20T12:22:47.567Z"
   },
   {
    "duration": 10,
    "start_time": "2021-12-20T12:22:47.575Z"
   },
   {
    "duration": 7,
    "start_time": "2021-12-20T12:22:47.587Z"
   },
   {
    "duration": 5,
    "start_time": "2021-12-20T12:22:47.596Z"
   },
   {
    "duration": 6,
    "start_time": "2021-12-20T12:22:47.604Z"
   },
   {
    "duration": 26,
    "start_time": "2021-12-20T12:22:48.953Z"
   },
   {
    "duration": 434,
    "start_time": "2021-12-20T12:23:17.539Z"
   },
   {
    "duration": 31,
    "start_time": "2021-12-20T12:23:19.906Z"
   },
   {
    "duration": 29,
    "start_time": "2021-12-20T12:23:22.076Z"
   },
   {
    "duration": 716,
    "start_time": "2021-12-20T12:23:42.185Z"
   },
   {
    "duration": 12,
    "start_time": "2021-12-20T12:24:35.427Z"
   },
   {
    "duration": 124,
    "start_time": "2021-12-20T12:25:54.378Z"
   },
   {
    "duration": 15,
    "start_time": "2021-12-20T12:26:22.804Z"
   },
   {
    "duration": 34,
    "start_time": "2021-12-20T12:26:55.746Z"
   },
   {
    "duration": 309,
    "start_time": "2021-12-20T12:27:22.371Z"
   },
   {
    "duration": 305,
    "start_time": "2021-12-20T12:27:32.531Z"
   },
   {
    "duration": 19,
    "start_time": "2021-12-20T12:27:47.547Z"
   },
   {
    "duration": 354,
    "start_time": "2021-12-20T12:27:48.058Z"
   },
   {
    "duration": 5,
    "start_time": "2021-12-20T12:28:08.372Z"
   },
   {
    "duration": 5,
    "start_time": "2021-12-20T12:28:48.260Z"
   },
   {
    "duration": 6,
    "start_time": "2021-12-20T12:28:54.189Z"
   },
   {
    "duration": 7,
    "start_time": "2021-12-20T12:29:15.540Z"
   },
   {
    "duration": 5,
    "start_time": "2021-12-20T13:15:59.719Z"
   },
   {
    "duration": 1175,
    "start_time": "2021-12-20T13:15:59.729Z"
   },
   {
    "duration": 12,
    "start_time": "2021-12-20T13:16:00.907Z"
   },
   {
    "duration": 45,
    "start_time": "2021-12-20T13:16:00.922Z"
   },
   {
    "duration": 44,
    "start_time": "2021-12-20T13:16:00.969Z"
   },
   {
    "duration": 679,
    "start_time": "2021-12-20T13:16:01.016Z"
   },
   {
    "duration": 32,
    "start_time": "2021-12-20T13:16:01.698Z"
   },
   {
    "duration": 69,
    "start_time": "2021-12-20T13:16:01.733Z"
   },
   {
    "duration": 156,
    "start_time": "2021-12-20T13:16:01.806Z"
   },
   {
    "duration": 22,
    "start_time": "2021-12-20T13:16:01.965Z"
   },
   {
    "duration": 21,
    "start_time": "2021-12-20T13:16:01.990Z"
   },
   {
    "duration": 1536,
    "start_time": "2021-12-20T13:16:02.013Z"
   },
   {
    "duration": 11,
    "start_time": "2021-12-20T13:16:03.552Z"
   },
   {
    "duration": 77,
    "start_time": "2021-12-20T13:16:03.566Z"
   },
   {
    "duration": 8,
    "start_time": "2021-12-20T13:16:03.645Z"
   },
   {
    "duration": 24,
    "start_time": "2021-12-20T13:16:03.656Z"
   },
   {
    "duration": 110,
    "start_time": "2021-12-20T13:16:03.683Z"
   },
   {
    "duration": 10,
    "start_time": "2021-12-20T13:16:03.796Z"
   },
   {
    "duration": 14,
    "start_time": "2021-12-20T13:16:03.809Z"
   },
   {
    "duration": 66,
    "start_time": "2021-12-20T13:16:03.826Z"
   },
   {
    "duration": 112,
    "start_time": "2021-12-20T13:16:03.895Z"
   },
   {
    "duration": 31,
    "start_time": "2021-12-20T13:16:04.009Z"
   },
   {
    "duration": 54,
    "start_time": "2021-12-20T13:16:04.043Z"
   },
   {
    "duration": 57,
    "start_time": "2021-12-20T13:16:04.104Z"
   },
   {
    "duration": 37,
    "start_time": "2021-12-20T13:16:04.165Z"
   },
   {
    "duration": 62,
    "start_time": "2021-12-20T13:16:04.205Z"
   },
   {
    "duration": 27,
    "start_time": "2021-12-20T13:16:04.270Z"
   },
   {
    "duration": 18,
    "start_time": "2021-12-20T13:16:04.299Z"
   },
   {
    "duration": 56,
    "start_time": "2021-12-20T13:16:04.320Z"
   },
   {
    "duration": 1960,
    "start_time": "2021-12-20T13:16:04.379Z"
   },
   {
    "duration": 32,
    "start_time": "2021-12-20T13:16:06.343Z"
   },
   {
    "duration": 19,
    "start_time": "2021-12-20T13:16:06.378Z"
   },
   {
    "duration": 483,
    "start_time": "2021-12-20T13:16:06.403Z"
   },
   {
    "duration": 9,
    "start_time": "2021-12-20T13:16:06.889Z"
   },
   {
    "duration": 7,
    "start_time": "2021-12-20T13:16:06.900Z"
   },
   {
    "duration": 8,
    "start_time": "2021-12-20T13:16:06.909Z"
   },
   {
    "duration": 44,
    "start_time": "2021-12-20T13:16:06.919Z"
   },
   {
    "duration": 16,
    "start_time": "2021-12-20T13:16:06.965Z"
   },
   {
    "duration": 370,
    "start_time": "2021-12-20T13:16:06.984Z"
   },
   {
    "duration": 6,
    "start_time": "2021-12-20T13:16:07.356Z"
   },
   {
    "duration": 8,
    "start_time": "2021-12-20T13:16:07.364Z"
   },
   {
    "duration": 9,
    "start_time": "2021-12-20T13:16:07.374Z"
   },
   {
    "duration": 6,
    "start_time": "2021-12-20T13:16:07.386Z"
   },
   {
    "duration": 12,
    "start_time": "2021-12-20T13:16:07.395Z"
   },
   {
    "duration": 328,
    "start_time": "2021-12-20T13:16:07.460Z"
   },
   {
    "duration": 7,
    "start_time": "2021-12-20T13:16:07.791Z"
   },
   {
    "duration": 6,
    "start_time": "2021-12-20T13:16:07.800Z"
   },
   {
    "duration": 51,
    "start_time": "2021-12-20T13:16:07.809Z"
   },
   {
    "duration": 9,
    "start_time": "2021-12-20T13:16:07.862Z"
   },
   {
    "duration": 18,
    "start_time": "2021-12-20T13:16:07.874Z"
   },
   {
    "duration": 374,
    "start_time": "2021-12-20T13:16:07.895Z"
   },
   {
    "duration": 7,
    "start_time": "2021-12-20T13:16:08.272Z"
   },
   {
    "duration": 7,
    "start_time": "2021-12-20T13:16:08.281Z"
   },
   {
    "duration": 9,
    "start_time": "2021-12-20T13:16:08.291Z"
   },
   {
    "duration": 8,
    "start_time": "2021-12-20T13:16:08.302Z"
   },
   {
    "duration": 28,
    "start_time": "2021-12-20T13:16:08.360Z"
   },
   {
    "duration": 14,
    "start_time": "2021-12-20T13:16:08.390Z"
   },
   {
    "duration": 374,
    "start_time": "2021-12-20T13:16:08.406Z"
   },
   {
    "duration": 7,
    "start_time": "2021-12-20T13:16:08.783Z"
   },
   {
    "duration": 10,
    "start_time": "2021-12-20T13:16:08.792Z"
   },
   {
    "duration": 10,
    "start_time": "2021-12-20T13:16:08.804Z"
   },
   {
    "duration": 44,
    "start_time": "2021-12-20T13:16:08.817Z"
   },
   {
    "duration": 17,
    "start_time": "2021-12-20T13:16:08.864Z"
   },
   {
    "duration": 369,
    "start_time": "2021-12-20T13:16:08.884Z"
   },
   {
    "duration": 7,
    "start_time": "2021-12-20T13:16:09.259Z"
   },
   {
    "duration": 10,
    "start_time": "2021-12-20T13:16:09.269Z"
   },
   {
    "duration": 10,
    "start_time": "2021-12-20T13:16:09.281Z"
   },
   {
    "duration": 10,
    "start_time": "2021-12-20T13:16:09.294Z"
   },
   {
    "duration": 57,
    "start_time": "2021-12-20T13:16:09.312Z"
   },
   {
    "duration": 362,
    "start_time": "2021-12-20T13:16:09.372Z"
   },
   {
    "duration": 8,
    "start_time": "2021-12-20T13:16:09.737Z"
   },
   {
    "duration": 6,
    "start_time": "2021-12-20T13:16:09.759Z"
   },
   {
    "duration": 8,
    "start_time": "2021-12-20T13:16:09.767Z"
   },
   {
    "duration": 7,
    "start_time": "2021-12-20T13:16:09.777Z"
   },
   {
    "duration": 17,
    "start_time": "2021-12-20T13:16:09.786Z"
   },
   {
    "duration": 393,
    "start_time": "2021-12-20T13:16:09.805Z"
   },
   {
    "duration": 7,
    "start_time": "2021-12-20T13:16:10.201Z"
   },
   {
    "duration": 7,
    "start_time": "2021-12-20T13:16:10.210Z"
   },
   {
    "duration": 41,
    "start_time": "2021-12-20T13:16:10.220Z"
   },
   {
    "duration": 7,
    "start_time": "2021-12-20T13:16:10.263Z"
   },
   {
    "duration": 10,
    "start_time": "2021-12-20T13:16:10.273Z"
   },
   {
    "duration": 11,
    "start_time": "2021-12-20T13:16:10.285Z"
   },
   {
    "duration": 60,
    "start_time": "2021-12-20T13:16:10.299Z"
   },
   {
    "duration": 24,
    "start_time": "2021-12-20T13:16:10.362Z"
   },
   {
    "duration": 459,
    "start_time": "2021-12-20T13:16:10.389Z"
   },
   {
    "duration": 30,
    "start_time": "2021-12-20T13:16:10.851Z"
   },
   {
    "duration": 347,
    "start_time": "2021-12-20T13:16:10.884Z"
   },
   {
    "duration": 5,
    "start_time": "2021-12-20T13:16:11.233Z"
   },
   {
    "duration": 25,
    "start_time": "2021-12-20T13:16:11.240Z"
   },
   {
    "duration": 4,
    "start_time": "2021-12-20T13:16:11.269Z"
   },
   {
    "duration": 1407,
    "start_time": "2021-12-21T06:51:04.552Z"
   },
   {
    "duration": 202,
    "start_time": "2021-12-21T06:51:05.963Z"
   },
   {
    "duration": 16,
    "start_time": "2021-12-21T06:51:06.168Z"
   },
   {
    "duration": 27,
    "start_time": "2021-12-21T06:51:06.187Z"
   },
   {
    "duration": 65,
    "start_time": "2021-12-21T06:51:06.216Z"
   },
   {
    "duration": 170,
    "start_time": "2021-12-21T06:51:06.284Z"
   },
   {
    "duration": 23,
    "start_time": "2021-12-21T06:51:06.457Z"
   },
   {
    "duration": 41,
    "start_time": "2021-12-21T06:51:06.483Z"
   },
   {
    "duration": 168,
    "start_time": "2021-12-21T06:51:06.531Z"
   },
   {
    "duration": 18,
    "start_time": "2021-12-21T06:51:06.703Z"
   },
   {
    "duration": 40,
    "start_time": "2021-12-21T06:51:06.723Z"
   },
   {
    "duration": 30,
    "start_time": "2021-12-21T06:51:06.765Z"
   },
   {
    "duration": 9,
    "start_time": "2021-12-21T06:51:06.798Z"
   },
   {
    "duration": 44,
    "start_time": "2021-12-21T06:51:06.810Z"
   },
   {
    "duration": 8,
    "start_time": "2021-12-21T06:51:06.856Z"
   },
   {
    "duration": 21,
    "start_time": "2021-12-21T06:51:06.867Z"
   },
   {
    "duration": 128,
    "start_time": "2021-12-21T06:51:06.890Z"
   },
   {
    "duration": 14,
    "start_time": "2021-12-21T06:51:07.021Z"
   },
   {
    "duration": 33,
    "start_time": "2021-12-21T06:51:07.037Z"
   },
   {
    "duration": 43,
    "start_time": "2021-12-21T06:51:07.073Z"
   },
   {
    "duration": 130,
    "start_time": "2021-12-21T06:51:07.119Z"
   },
   {
    "duration": 37,
    "start_time": "2021-12-21T06:51:07.252Z"
   },
   {
    "duration": 32,
    "start_time": "2021-12-21T06:51:07.292Z"
   },
   {
    "duration": 60,
    "start_time": "2021-12-21T06:51:07.327Z"
   },
   {
    "duration": 38,
    "start_time": "2021-12-21T06:51:07.389Z"
   },
   {
    "duration": 63,
    "start_time": "2021-12-21T06:51:07.430Z"
   },
   {
    "duration": 25,
    "start_time": "2021-12-21T06:51:07.501Z"
   },
   {
    "duration": 39,
    "start_time": "2021-12-21T06:51:07.531Z"
   },
   {
    "duration": 24,
    "start_time": "2021-12-21T06:51:07.572Z"
   },
   {
    "duration": 1231,
    "start_time": "2021-12-21T06:51:07.599Z"
   },
   {
    "duration": 41,
    "start_time": "2021-12-21T06:51:08.833Z"
   },
   {
    "duration": 14,
    "start_time": "2021-12-21T06:51:08.876Z"
   },
   {
    "duration": 407,
    "start_time": "2021-12-21T06:51:08.893Z"
   },
   {
    "duration": 8,
    "start_time": "2021-12-21T06:51:09.303Z"
   },
   {
    "duration": 7,
    "start_time": "2021-12-21T06:51:09.314Z"
   },
   {
    "duration": 41,
    "start_time": "2021-12-21T06:51:09.324Z"
   },
   {
    "duration": 9,
    "start_time": "2021-12-21T06:51:09.368Z"
   },
   {
    "duration": 13,
    "start_time": "2021-12-21T06:51:09.379Z"
   },
   {
    "duration": 365,
    "start_time": "2021-12-21T06:51:09.395Z"
   },
   {
    "duration": 8,
    "start_time": "2021-12-21T06:51:09.763Z"
   },
   {
    "duration": 7,
    "start_time": "2021-12-21T06:51:09.773Z"
   },
   {
    "duration": 7,
    "start_time": "2021-12-21T06:51:09.783Z"
   },
   {
    "duration": 6,
    "start_time": "2021-12-21T06:51:09.792Z"
   },
   {
    "duration": 68,
    "start_time": "2021-12-21T06:51:09.801Z"
   },
   {
    "duration": 324,
    "start_time": "2021-12-21T06:51:09.872Z"
   },
   {
    "duration": 7,
    "start_time": "2021-12-21T06:51:10.199Z"
   },
   {
    "duration": 7,
    "start_time": "2021-12-21T06:51:10.209Z"
   },
   {
    "duration": 7,
    "start_time": "2021-12-21T06:51:10.218Z"
   },
   {
    "duration": 7,
    "start_time": "2021-12-21T06:51:10.262Z"
   },
   {
    "duration": 16,
    "start_time": "2021-12-21T06:51:10.271Z"
   },
   {
    "duration": 378,
    "start_time": "2021-12-21T06:51:10.289Z"
   },
   {
    "duration": 7,
    "start_time": "2021-12-21T06:51:10.670Z"
   },
   {
    "duration": 7,
    "start_time": "2021-12-21T06:51:10.680Z"
   },
   {
    "duration": 9,
    "start_time": "2021-12-21T06:51:10.690Z"
   },
   {
    "duration": 7,
    "start_time": "2021-12-21T06:51:10.702Z"
   },
   {
    "duration": 64,
    "start_time": "2021-12-21T06:51:10.712Z"
   },
   {
    "duration": 14,
    "start_time": "2021-12-21T06:51:10.779Z"
   },
   {
    "duration": 351,
    "start_time": "2021-12-21T06:51:10.796Z"
   },
   {
    "duration": 18,
    "start_time": "2021-12-21T06:51:11.150Z"
   },
   {
    "duration": 7,
    "start_time": "2021-12-21T06:51:11.171Z"
   },
   {
    "duration": 8,
    "start_time": "2021-12-21T06:51:11.182Z"
   },
   {
    "duration": 8,
    "start_time": "2021-12-21T06:51:11.194Z"
   },
   {
    "duration": 67,
    "start_time": "2021-12-21T06:51:11.205Z"
   },
   {
    "duration": 356,
    "start_time": "2021-12-21T06:51:11.275Z"
   },
   {
    "duration": 8,
    "start_time": "2021-12-21T06:51:11.634Z"
   },
   {
    "duration": 7,
    "start_time": "2021-12-21T06:51:11.664Z"
   },
   {
    "duration": 11,
    "start_time": "2021-12-21T06:51:11.674Z"
   },
   {
    "duration": 7,
    "start_time": "2021-12-21T06:51:11.687Z"
   },
   {
    "duration": 13,
    "start_time": "2021-12-21T06:51:11.696Z"
   },
   {
    "duration": 475,
    "start_time": "2021-12-21T06:51:11.711Z"
   },
   {
    "duration": 7,
    "start_time": "2021-12-21T06:51:12.188Z"
   },
   {
    "duration": 8,
    "start_time": "2021-12-21T06:51:12.198Z"
   },
   {
    "duration": 7,
    "start_time": "2021-12-21T06:51:12.208Z"
   },
   {
    "duration": 47,
    "start_time": "2021-12-21T06:51:12.218Z"
   },
   {
    "duration": 14,
    "start_time": "2021-12-21T06:51:12.267Z"
   },
   {
    "duration": 354,
    "start_time": "2021-12-21T06:51:12.284Z"
   },
   {
    "duration": 8,
    "start_time": "2021-12-21T06:51:12.641Z"
   },
   {
    "duration": 7,
    "start_time": "2021-12-21T06:51:12.664Z"
   },
   {
    "duration": 9,
    "start_time": "2021-12-21T06:51:12.674Z"
   },
   {
    "duration": 7,
    "start_time": "2021-12-21T06:51:12.686Z"
   },
   {
    "duration": 4,
    "start_time": "2021-12-21T06:51:12.702Z"
   },
   {
    "duration": 58,
    "start_time": "2021-12-21T06:51:12.709Z"
   },
   {
    "duration": 25,
    "start_time": "2021-12-21T06:51:12.770Z"
   },
   {
    "duration": 18,
    "start_time": "2021-12-21T06:51:12.798Z"
   },
   {
    "duration": 406,
    "start_time": "2021-12-21T06:51:12.818Z"
   },
   {
    "duration": 18,
    "start_time": "2021-12-21T06:51:13.226Z"
   },
   {
    "duration": 341,
    "start_time": "2021-12-21T06:51:13.246Z"
   },
   {
    "duration": 4,
    "start_time": "2021-12-21T06:51:13.589Z"
   },
   {
    "duration": 7,
    "start_time": "2021-12-21T06:51:13.596Z"
   },
   {
    "duration": 6,
    "start_time": "2021-12-21T06:51:13.605Z"
   },
   {
    "duration": 1571,
    "start_time": "2021-12-21T10:11:36.696Z"
   },
   {
    "duration": 264,
    "start_time": "2021-12-21T10:11:38.270Z"
   },
   {
    "duration": 31,
    "start_time": "2021-12-21T10:11:38.538Z"
   },
   {
    "duration": 51,
    "start_time": "2021-12-21T10:11:38.574Z"
   },
   {
    "duration": 62,
    "start_time": "2021-12-21T10:11:38.628Z"
   },
   {
    "duration": 217,
    "start_time": "2021-12-21T10:11:38.693Z"
   },
   {
    "duration": 38,
    "start_time": "2021-12-21T10:11:38.913Z"
   },
   {
    "duration": 54,
    "start_time": "2021-12-21T10:11:38.974Z"
   },
   {
    "duration": 140,
    "start_time": "2021-12-21T10:11:39.031Z"
   },
   {
    "duration": 32,
    "start_time": "2021-12-21T10:11:39.175Z"
   },
   {
    "duration": 27,
    "start_time": "2021-12-21T10:11:39.220Z"
   },
   {
    "duration": 39,
    "start_time": "2021-12-21T10:11:39.267Z"
   },
   {
    "duration": 12,
    "start_time": "2021-12-21T10:11:39.309Z"
   },
   {
    "duration": 91,
    "start_time": "2021-12-21T10:11:39.324Z"
   },
   {
    "duration": 9,
    "start_time": "2021-12-21T10:11:39.418Z"
   },
   {
    "duration": 34,
    "start_time": "2021-12-21T10:11:39.431Z"
   },
   {
    "duration": 134,
    "start_time": "2021-12-21T10:11:39.473Z"
   },
   {
    "duration": 17,
    "start_time": "2021-12-21T10:11:39.610Z"
   },
   {
    "duration": 39,
    "start_time": "2021-12-21T10:11:39.630Z"
   },
   {
    "duration": 48,
    "start_time": "2021-12-21T10:11:39.675Z"
   },
   {
    "duration": 125,
    "start_time": "2021-12-21T10:11:39.726Z"
   },
   {
    "duration": 37,
    "start_time": "2021-12-21T10:11:39.853Z"
   },
   {
    "duration": 37,
    "start_time": "2021-12-21T10:11:39.898Z"
   },
   {
    "duration": 38,
    "start_time": "2021-12-21T10:11:39.969Z"
   },
   {
    "duration": 67,
    "start_time": "2021-12-21T10:11:40.013Z"
   },
   {
    "duration": 46,
    "start_time": "2021-12-21T10:11:40.083Z"
   },
   {
    "duration": 58,
    "start_time": "2021-12-21T10:11:40.132Z"
   },
   {
    "duration": 24,
    "start_time": "2021-12-21T10:11:40.193Z"
   },
   {
    "duration": 26,
    "start_time": "2021-12-21T10:11:40.220Z"
   },
   {
    "duration": 1931,
    "start_time": "2021-12-21T10:11:40.269Z"
   },
   {
    "duration": 25,
    "start_time": "2021-12-21T10:11:42.202Z"
   },
   {
    "duration": 37,
    "start_time": "2021-12-21T10:11:42.231Z"
   },
   {
    "duration": 385,
    "start_time": "2021-12-21T10:11:42.271Z"
   },
   {
    "duration": 15,
    "start_time": "2021-12-21T10:11:42.659Z"
   },
   {
    "duration": 10,
    "start_time": "2021-12-21T10:11:42.677Z"
   },
   {
    "duration": 11,
    "start_time": "2021-12-21T10:11:42.693Z"
   },
   {
    "duration": 9,
    "start_time": "2021-12-21T10:11:42.708Z"
   },
   {
    "duration": 56,
    "start_time": "2021-12-21T10:11:42.720Z"
   },
   {
    "duration": 374,
    "start_time": "2021-12-21T10:11:42.779Z"
   },
   {
    "duration": 18,
    "start_time": "2021-12-21T10:11:43.156Z"
   },
   {
    "duration": 7,
    "start_time": "2021-12-21T10:11:43.177Z"
   },
   {
    "duration": 19,
    "start_time": "2021-12-21T10:11:43.186Z"
   },
   {
    "duration": 9,
    "start_time": "2021-12-21T10:11:43.217Z"
   },
   {
    "duration": 52,
    "start_time": "2021-12-21T10:11:43.229Z"
   },
   {
    "duration": 352,
    "start_time": "2021-12-21T10:11:43.284Z"
   },
   {
    "duration": 9,
    "start_time": "2021-12-21T10:11:43.639Z"
   },
   {
    "duration": 7,
    "start_time": "2021-12-21T10:11:43.668Z"
   },
   {
    "duration": 17,
    "start_time": "2021-12-21T10:11:43.678Z"
   },
   {
    "duration": 21,
    "start_time": "2021-12-21T10:11:43.698Z"
   },
   {
    "duration": 34,
    "start_time": "2021-12-21T10:11:43.721Z"
   },
   {
    "duration": 374,
    "start_time": "2021-12-21T10:11:43.776Z"
   },
   {
    "duration": 8,
    "start_time": "2021-12-21T10:11:44.153Z"
   },
   {
    "duration": 11,
    "start_time": "2021-12-21T10:11:44.177Z"
   },
   {
    "duration": 17,
    "start_time": "2021-12-21T10:11:44.190Z"
   },
   {
    "duration": 11,
    "start_time": "2021-12-21T10:11:44.210Z"
   },
   {
    "duration": 59,
    "start_time": "2021-12-21T10:11:44.225Z"
   },
   {
    "duration": 23,
    "start_time": "2021-12-21T10:11:44.289Z"
   },
   {
    "duration": 505,
    "start_time": "2021-12-21T10:11:44.315Z"
   },
   {
    "duration": 10,
    "start_time": "2021-12-21T10:11:44.823Z"
   },
   {
    "duration": 38,
    "start_time": "2021-12-21T10:11:44.836Z"
   },
   {
    "duration": 9,
    "start_time": "2021-12-21T10:11:44.880Z"
   },
   {
    "duration": 16,
    "start_time": "2021-12-21T10:11:44.891Z"
   },
   {
    "duration": 19,
    "start_time": "2021-12-21T10:11:44.912Z"
   },
   {
    "duration": 448,
    "start_time": "2021-12-21T10:11:44.935Z"
   },
   {
    "duration": 16,
    "start_time": "2021-12-21T10:11:45.385Z"
   },
   {
    "duration": 14,
    "start_time": "2021-12-21T10:11:45.404Z"
   },
   {
    "duration": 9,
    "start_time": "2021-12-21T10:11:45.421Z"
   },
   {
    "duration": 33,
    "start_time": "2021-12-21T10:11:45.439Z"
   },
   {
    "duration": 17,
    "start_time": "2021-12-21T10:11:45.478Z"
   },
   {
    "duration": 405,
    "start_time": "2021-12-21T10:11:45.499Z"
   },
   {
    "duration": 10,
    "start_time": "2021-12-21T10:11:45.907Z"
   },
   {
    "duration": 8,
    "start_time": "2021-12-21T10:11:45.920Z"
   },
   {
    "duration": 51,
    "start_time": "2021-12-21T10:11:45.930Z"
   },
   {
    "duration": 9,
    "start_time": "2021-12-21T10:11:45.984Z"
   },
   {
    "duration": 19,
    "start_time": "2021-12-21T10:11:45.997Z"
   },
   {
    "duration": 533,
    "start_time": "2021-12-21T10:11:46.019Z"
   },
   {
    "duration": 20,
    "start_time": "2021-12-21T10:11:46.556Z"
   },
   {
    "duration": 9,
    "start_time": "2021-12-21T10:11:46.581Z"
   },
   {
    "duration": 15,
    "start_time": "2021-12-21T10:11:46.594Z"
   },
   {
    "duration": 10,
    "start_time": "2021-12-21T10:11:46.612Z"
   },
   {
    "duration": 10,
    "start_time": "2021-12-21T10:11:46.624Z"
   },
   {
    "duration": 42,
    "start_time": "2021-12-21T10:11:46.636Z"
   },
   {
    "duration": 52,
    "start_time": "2021-12-21T10:11:46.684Z"
   },
   {
    "duration": 37,
    "start_time": "2021-12-21T10:11:46.739Z"
   },
   {
    "duration": 426,
    "start_time": "2021-12-21T10:11:46.779Z"
   },
   {
    "duration": 29,
    "start_time": "2021-12-21T10:11:47.210Z"
   },
   {
    "duration": 404,
    "start_time": "2021-12-21T10:11:47.242Z"
   },
   {
    "duration": 6,
    "start_time": "2021-12-21T10:11:47.650Z"
   },
   {
    "duration": 26,
    "start_time": "2021-12-21T10:11:47.659Z"
   },
   {
    "duration": 7,
    "start_time": "2021-12-21T10:11:47.687Z"
   },
   {
    "duration": 129,
    "start_time": "2021-12-21T10:45:25.876Z"
   }
  ],
  "kernelspec": {
   "display_name": "Python 3 (ipykernel)",
   "language": "python",
   "name": "python3"
  },
  "language_info": {
   "codemirror_mode": {
    "name": "ipython",
    "version": 3
   },
   "file_extension": ".py",
   "mimetype": "text/x-python",
   "name": "python",
   "nbconvert_exporter": "python",
   "pygments_lexer": "ipython3",
   "version": "3.10.4"
  },
  "toc": {
   "base_numbering": 1,
   "nav_menu": {},
   "number_sections": true,
   "sideBar": true,
   "skip_h1_title": true,
   "title_cell": "Table of Contents",
   "title_sidebar": "Contents",
   "toc_cell": false,
   "toc_position": {
    "height": "calc(100% - 180px)",
    "left": "10px",
    "top": "150px",
    "width": "270.391px"
   },
   "toc_section_display": true,
   "toc_window_display": false
  },
  "toc-autonumbering": false,
  "toc-showcode": false,
  "toc-showmarkdowntxt": false,
  "toc-showtags": false
 },
 "nbformat": 4,
 "nbformat_minor": 4
}
