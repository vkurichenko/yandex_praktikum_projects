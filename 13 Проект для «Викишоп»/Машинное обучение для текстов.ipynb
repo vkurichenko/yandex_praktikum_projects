{
 "cells": [
  {
   "cell_type": "markdown",
   "metadata": {},
   "source": [
    "# Проект для «Викишоп»"
   ]
  },
  {
   "cell_type": "markdown",
   "metadata": {},
   "source": [
    "Интернет-магазин «Викишоп» запускает новый сервис. Теперь пользователи могут редактировать и дополнять описания товаров, как в вики-сообществах. То есть клиенты предлагают свои правки и комментируют изменения других. Магазину нужен инструмент, который будет искать токсичные комментарии и отправлять их на модерацию. \n",
    "\n",
    "Обучите модель классифицировать комментарии на позитивные и негативные. В вашем распоряжении набор данных с разметкой о токсичности правок.\n",
    "\n",
    "Постройте модель со значением метрики качества *F1* не меньше 0.75. \n",
    "\n",
    "**Инструкция по выполнению проекта**\n",
    "\n",
    "1. Загрузите и подготовьте данные.\n",
    "2. Обучите разные модели. \n",
    "3. Сделайте выводы.\n",
    "\n",
    "Для выполнения проекта применять *BERT* необязательно, но вы можете попробовать.\n",
    "\n",
    "**Описание данных**\n",
    "\n",
    "Данные находятся в файле `toxic_comments.csv`. Столбец *text* в нём содержит текст комментария, а *toxic* — целевой признак."
   ]
  },
  {
   "cell_type": "markdown",
   "metadata": {
    "toc": true
   },
   "source": [
    "<h1>Содержание<span class=\"tocSkip\"></span></h1>\n",
    "<div class=\"toc\"><ul class=\"toc-item\"><li><ul class=\"toc-item\"><li><span><a href=\"#Подготовка\" data-toc-modified-id=\"Подготовка-1\"><span class=\"toc-item-num\">1&nbsp;&nbsp;</span>Подготовка</a></span><ul class=\"toc-item\"><li><span><a href=\"#Изучение-данных\" data-toc-modified-id=\"Изучение-данных-1.1\"><span class=\"toc-item-num\">1.1&nbsp;&nbsp;</span>Изучение данных</a></span></li></ul></li><li><span><a href=\"#Обучение\" data-toc-modified-id=\"Обучение-2\"><span class=\"toc-item-num\">2&nbsp;&nbsp;</span>Обучение</a></span><ul class=\"toc-item\"><li><span><a href=\"#CountVectorizer\" data-toc-modified-id=\"CountVectorizer-2.1\"><span class=\"toc-item-num\">2.1&nbsp;&nbsp;</span>CountVectorizer</a></span><ul class=\"toc-item\"><li><span><a href=\"#LogisticRegression\" data-toc-modified-id=\"LogisticRegression-2.1.1\"><span class=\"toc-item-num\">2.1.1&nbsp;&nbsp;</span>LogisticRegression</a></span></li><li><span><a href=\"#DecisionTreeClassifier\" data-toc-modified-id=\"DecisionTreeClassifier-2.1.2\"><span class=\"toc-item-num\">2.1.2&nbsp;&nbsp;</span>DecisionTreeClassifier</a></span></li></ul></li><li><span><a href=\"#TfidfVectorizer\" data-toc-modified-id=\"TfidfVectorizer-2.2\"><span class=\"toc-item-num\">2.2&nbsp;&nbsp;</span>TfidfVectorizer</a></span><ul class=\"toc-item\"><li><span><a href=\"#LogisticRegression\" data-toc-modified-id=\"LogisticRegression-2.2.1\"><span class=\"toc-item-num\">2.2.1&nbsp;&nbsp;</span>LogisticRegression</a></span></li><li><span><a href=\"#DecisionTreeClassifier\" data-toc-modified-id=\"DecisionTreeClassifier-2.2.2\"><span class=\"toc-item-num\">2.2.2&nbsp;&nbsp;</span>DecisionTreeClassifier</a></span></li></ul></li></ul></li><li><span><a href=\"#Выводы\" data-toc-modified-id=\"Выводы-3\"><span class=\"toc-item-num\">3&nbsp;&nbsp;</span>Выводы</a></span></li></ul></div>"
   ]
  },
  {
   "cell_type": "markdown",
   "metadata": {},
   "source": [
    "## Подготовка"
   ]
  },
  {
   "cell_type": "markdown",
   "metadata": {},
   "source": [
    "Импортируем необходимые библиотеки."
   ]
  },
  {
   "cell_type": "code",
   "execution_count": 1,
   "metadata": {},
   "outputs": [],
   "source": [
    "import pandas as pd\n",
    "\n",
    "from sklearn.feature_extraction.text import CountVectorizer, TfidfVectorizer, ENGLISH_STOP_WORDS\n",
    "from sklearn.model_selection import train_test_split\n",
    "from sklearn.linear_model import LogisticRegression\n",
    "from sklearn.metrics import confusion_matrix, f1_score\n",
    "from sklearn.pipeline import Pipeline\n",
    "from sklearn.model_selection import GridSearchCV\n",
    "from sklearn.tree import DecisionTreeClassifier\n",
    "import warnings\n",
    "warnings.filterwarnings('ignore')"
   ]
  },
  {
   "cell_type": "markdown",
   "metadata": {},
   "source": [
    "### Изучение данных"
   ]
  },
  {
   "cell_type": "markdown",
   "metadata": {},
   "source": [
    "Загрузим датасет и посмотрим на первые 5 строк."
   ]
  },
  {
   "cell_type": "code",
   "execution_count": 2,
   "metadata": {},
   "outputs": [
    {
     "data": {
      "text/html": [
       "<div>\n",
       "<style scoped>\n",
       "    .dataframe tbody tr th:only-of-type {\n",
       "        vertical-align: middle;\n",
       "    }\n",
       "\n",
       "    .dataframe tbody tr th {\n",
       "        vertical-align: top;\n",
       "    }\n",
       "\n",
       "    .dataframe thead th {\n",
       "        text-align: right;\n",
       "    }\n",
       "</style>\n",
       "<table border=\"1\" class=\"dataframe\">\n",
       "  <thead>\n",
       "    <tr style=\"text-align: right;\">\n",
       "      <th></th>\n",
       "      <th>text</th>\n",
       "      <th>toxic</th>\n",
       "    </tr>\n",
       "  </thead>\n",
       "  <tbody>\n",
       "    <tr>\n",
       "      <th>0</th>\n",
       "      <td>Explanation\\nWhy the edits made under my usern...</td>\n",
       "      <td>0</td>\n",
       "    </tr>\n",
       "    <tr>\n",
       "      <th>1</th>\n",
       "      <td>D'aww! He matches this background colour I'm s...</td>\n",
       "      <td>0</td>\n",
       "    </tr>\n",
       "    <tr>\n",
       "      <th>2</th>\n",
       "      <td>Hey man, I'm really not trying to edit war. It...</td>\n",
       "      <td>0</td>\n",
       "    </tr>\n",
       "    <tr>\n",
       "      <th>3</th>\n",
       "      <td>\"\\nMore\\nI can't make any real suggestions on ...</td>\n",
       "      <td>0</td>\n",
       "    </tr>\n",
       "    <tr>\n",
       "      <th>4</th>\n",
       "      <td>You, sir, are my hero. Any chance you remember...</td>\n",
       "      <td>0</td>\n",
       "    </tr>\n",
       "  </tbody>\n",
       "</table>\n",
       "</div>"
      ],
      "text/plain": [
       "                                                text  toxic\n",
       "0  Explanation\\nWhy the edits made under my usern...      0\n",
       "1  D'aww! He matches this background colour I'm s...      0\n",
       "2  Hey man, I'm really not trying to edit war. It...      0\n",
       "3  \"\\nMore\\nI can't make any real suggestions on ...      0\n",
       "4  You, sir, are my hero. Any chance you remember...      0"
      ]
     },
     "execution_count": 2,
     "metadata": {},
     "output_type": "execute_result"
    }
   ],
   "source": [
    "data = pd.read_csv('https://code.s3.yandex.net/datasets/toxic_comments.csv')\n",
    "data.head()"
   ]
  },
  {
   "cell_type": "markdown",
   "metadata": {},
   "source": [
    "Соответственно, столбец `text` содержит текст комментария, а `toxic` — целевой признак.\n",
    "\n",
    "Посмотрим на размер датасета."
   ]
  },
  {
   "cell_type": "code",
   "execution_count": 3,
   "metadata": {},
   "outputs": [
    {
     "data": {
      "text/plain": [
       "(159571, 2)"
      ]
     },
     "execution_count": 3,
     "metadata": {},
     "output_type": "execute_result"
    }
   ],
   "source": [
    "data.shape"
   ]
  },
  {
   "cell_type": "markdown",
   "metadata": {},
   "source": [
    "Итак, у нас присутствует около 160 тысяч комментариев, с которыми мы будем работать.\n",
    "\n",
    "Теперь посмотрим на распределение целевого признака."
   ]
  },
  {
   "cell_type": "code",
   "execution_count": 4,
   "metadata": {},
   "outputs": [
    {
     "data": {
      "text/plain": [
       "0    0.898321\n",
       "1    0.101679\n",
       "Name: toxic, dtype: float64"
      ]
     },
     "execution_count": 4,
     "metadata": {},
     "output_type": "execute_result"
    }
   ],
   "source": [
    "data.toxic.value_counts(normalize=True)"
   ]
  },
  {
   "cell_type": "markdown",
   "metadata": {},
   "source": [
    "Видно, что только в 10% от датасета содержат токсичные комментарии. Это не очень хорошо, так как данные смещены. Примем это к сведению и используем при разделении на тренировочную и тестовую выборки.\n",
    "\n",
    "**Вывод:**\n",
    "\n",
    "В данном пункте были загружены исходные данные и проведено знакомство с ними."
   ]
  },
  {
   "cell_type": "markdown",
   "metadata": {},
   "source": [
    "## Обучение"
   ]
  },
  {
   "cell_type": "markdown",
   "metadata": {},
   "source": [
    "Обучим две модели:\n",
    "- `CountVectorizer`, которая создает векторы на основе частоты появления слов в каждой строке датасета.\n",
    "- `TfidfVectorizer`, которая создает векторы на основе частоты слова в каждой строке и количестве документов, в котором встречается такое слово.\n",
    "\n",
    "Для обоих моделей воспользуемся пайплайнами, используя функцию `Pipeline`.\n",
    "\n",
    "Перед началом построения моделей разобьем наш датасет на тренировочную и валидационную выборки."
   ]
  },
  {
   "cell_type": "code",
   "execution_count": 5,
   "metadata": {},
   "outputs": [],
   "source": [
    "X_train, X_test, y_train, y_test = train_test_split(data.text, data.toxic, test_size=0.25,\n",
    "                                                    random_state = 42, stratify=data.toxic)"
   ]
  },
  {
   "cell_type": "markdown",
   "metadata": {},
   "source": [
    "Напишем функцию, которая в качестве параметров принимает пайплайн и сетку параметров, которые необходимо перебрать функцией `GridSearchCV`. Наша функция будет возвращать значение метрики F1 для тестовой выборки и матрицу неточностей."
   ]
  },
  {
   "cell_type": "code",
   "execution_count": 6,
   "metadata": {},
   "outputs": [],
   "source": [
    "def test_f1(pipeline, grid):\n",
    "    clf = GridSearchCV(estimator=pipeline,\n",
    "                       param_grid=grid,\n",
    "                       scoring='f1',\n",
    "                       cv=3) \n",
    "    clf.fit(X_train, y_train)\n",
    "    best_clf = clf.best_estimator_\n",
    "    print(f'Лучшие параметры модели: {clf.best_params_}')\n",
    "    \n",
    "    y_pred = best_clf.predict(X_test)\n",
    "    print(f'Метрика F1 на тестовой выборке составила: {f1_score(y_test, y_pred)}')\n",
    "    \n",
    "    print('Матрица неточностей для тестовой выборки:')\n",
    "    display(pd.DataFrame(confusion_matrix(y_test, y_pred),\n",
    "                         columns=['true 0', 'true 1'],\n",
    "                         index=['pred 0', 'pred 1']))"
   ]
  },
  {
   "cell_type": "markdown",
   "metadata": {},
   "source": [
    "### CountVectorizer"
   ]
  },
  {
   "cell_type": "markdown",
   "metadata": {},
   "source": [
    "Используем пайплайн с `CountVectorizer` для векторизации и `LogisticRegression` или `DecisionTreeClassifier` для классификации."
   ]
  },
  {
   "cell_type": "markdown",
   "metadata": {},
   "source": [
    "#### LogisticRegression"
   ]
  },
  {
   "cell_type": "markdown",
   "metadata": {},
   "source": [
    "Создадим пайплайн с `CountVectorizer` и `LogisticRegression`.\n",
    "\n",
    "В качестве стоп-слов для векторизации используем `ENGLISH_STOP_WORDS`."
   ]
  },
  {
   "cell_type": "code",
   "execution_count": 18,
   "metadata": {},
   "outputs": [
    {
     "name": "stdout",
     "output_type": "stream",
     "text": [
      "Лучшие параметры модели: {'lr__C': 10.0, 'vect__max_df': 0.2}\n",
      "Метрика F1 на тестовой выборке составила: 0.7689300143359833\n",
      "Матрица неточностей для тестовой выборки:\n"
     ]
    },
    {
     "data": {
      "text/html": [
       "<div>\n",
       "<style scoped>\n",
       "    .dataframe tbody tr th:only-of-type {\n",
       "        vertical-align: middle;\n",
       "    }\n",
       "\n",
       "    .dataframe tbody tr th {\n",
       "        vertical-align: top;\n",
       "    }\n",
       "\n",
       "    .dataframe thead th {\n",
       "        text-align: right;\n",
       "    }\n",
       "</style>\n",
       "<table border=\"1\" class=\"dataframe\">\n",
       "  <thead>\n",
       "    <tr style=\"text-align: right;\">\n",
       "      <th></th>\n",
       "      <th>true 0</th>\n",
       "      <th>true 1</th>\n",
       "    </tr>\n",
       "  </thead>\n",
       "  <tbody>\n",
       "    <tr>\n",
       "      <th>pred 0</th>\n",
       "      <td>35170</td>\n",
       "      <td>667</td>\n",
       "    </tr>\n",
       "    <tr>\n",
       "      <th>pred 1</th>\n",
       "      <td>1106</td>\n",
       "      <td>2950</td>\n",
       "    </tr>\n",
       "  </tbody>\n",
       "</table>\n",
       "</div>"
      ],
      "text/plain": [
       "        true 0  true 1\n",
       "pred 0   35170     667\n",
       "pred 1    1106    2950"
      ]
     },
     "metadata": {},
     "output_type": "display_data"
    }
   ],
   "source": [
    "pipe_c_lr = Pipeline([('vect', CountVectorizer(stop_words=ENGLISH_STOP_WORDS)),\n",
    "                      ('lr', LogisticRegression(n_jobs=-1))])\n",
    "\n",
    "grid_params_с_lr = [{'vect__max_df': [0.1, 0.2, 0.3, 0.4],\n",
    "                     'lr__C': [0.1, 1.0, 10.0, 100.0]}]\n",
    "\n",
    "test_f1(pipe_c_lr, grid_params_с_lr)"
   ]
  },
  {
   "cell_type": "markdown",
   "metadata": {},
   "source": [
    "Видно, что модель лучше предсказывает нетоксичные комментарии, но необходимой метрики мы все же достигли, так как она составила 0.769, что выше требуемого 0.75.\n",
    "\n",
    "Попробуем другой классификатор."
   ]
  },
  {
   "cell_type": "markdown",
   "metadata": {},
   "source": [
    "#### DecisionTreeClassifier"
   ]
  },
  {
   "cell_type": "markdown",
   "metadata": {},
   "source": [
    "Повторим предыдушие шаги, перебирая другие параметры и используя `DecisionTreeClassifier` для классификации."
   ]
  },
  {
   "cell_type": "code",
   "execution_count": 19,
   "metadata": {},
   "outputs": [
    {
     "name": "stdout",
     "output_type": "stream",
     "text": [
      "Лучшие параметры модели: {'dt__max_depth': 100, 'vect__max_df': 0.1}\n",
      "Метрика F1 на тестовой выборке составила: 0.7168563111934374\n",
      "Матрица неточностей для тестовой выборки:\n"
     ]
    },
    {
     "data": {
      "text/html": [
       "<div>\n",
       "<style scoped>\n",
       "    .dataframe tbody tr th:only-of-type {\n",
       "        vertical-align: middle;\n",
       "    }\n",
       "\n",
       "    .dataframe tbody tr th {\n",
       "        vertical-align: top;\n",
       "    }\n",
       "\n",
       "    .dataframe thead th {\n",
       "        text-align: right;\n",
       "    }\n",
       "</style>\n",
       "<table border=\"1\" class=\"dataframe\">\n",
       "  <thead>\n",
       "    <tr style=\"text-align: right;\">\n",
       "      <th></th>\n",
       "      <th>true 0</th>\n",
       "      <th>true 1</th>\n",
       "    </tr>\n",
       "  </thead>\n",
       "  <tbody>\n",
       "    <tr>\n",
       "      <th>pred 0</th>\n",
       "      <td>35044</td>\n",
       "      <td>793</td>\n",
       "    </tr>\n",
       "    <tr>\n",
       "      <th>pred 1</th>\n",
       "      <td>1347</td>\n",
       "      <td>2709</td>\n",
       "    </tr>\n",
       "  </tbody>\n",
       "</table>\n",
       "</div>"
      ],
      "text/plain": [
       "        true 0  true 1\n",
       "pred 0   35044     793\n",
       "pred 1    1347    2709"
      ]
     },
     "metadata": {},
     "output_type": "display_data"
    }
   ],
   "source": [
    "pipe_c_dt = Pipeline([('vect', CountVectorizer(stop_words=ENGLISH_STOP_WORDS)),\n",
    "                      ('dt', DecisionTreeClassifier(random_state=42))])\n",
    "\n",
    "grid_params_с_dt = [{'vect__max_df': [0.1, 0.2, 0.3, 0.4],\n",
    "                     'dt__max_depth': [10, 50, 100, 200]}]\n",
    "\n",
    "test_f1(pipe_c_dt, grid_params_с_dt)"
   ]
  },
  {
   "cell_type": "markdown",
   "metadata": {},
   "source": [
    "Матрица неточностей показывает, что модель предсказывает токсичные комментарии хуже, чем предыдущая.\n",
    "\n",
    "Метрика F1 составила 0.717, что ниже требуемых 0.75.\n",
    "\n",
    "Перейдем к другому методу векторизации."
   ]
  },
  {
   "cell_type": "markdown",
   "metadata": {},
   "source": [
    "### TfidfVectorizer"
   ]
  },
  {
   "cell_type": "markdown",
   "metadata": {},
   "source": [
    "Теперь обучим модели с другим методом векторизации. Также обучим модели  другую модель. Используем пайплайн с `TfidfVectorizer` для векторизации и `LogisticRegression` или `DecisionTreeClassifier` для классификации."
   ]
  },
  {
   "cell_type": "markdown",
   "metadata": {},
   "source": [
    "#### LogisticRegression"
   ]
  },
  {
   "cell_type": "markdown",
   "metadata": {},
   "source": [
    "Повторим предыдушие шаги, перебирая другие параметры и используя `LogisticRegression` для классификации."
   ]
  },
  {
   "cell_type": "code",
   "execution_count": 21,
   "metadata": {},
   "outputs": [
    {
     "name": "stdout",
     "output_type": "stream",
     "text": [
      "Лучшие параметры модели: {'lr__C': 10.0, 'vect__max_df': 0.1}\n",
      "Метрика F1 на тестовой выборке составила: 0.7755889240942279\n",
      "Матрица неточностей для тестовой выборки:\n"
     ]
    },
    {
     "data": {
      "text/html": [
       "<div>\n",
       "<style scoped>\n",
       "    .dataframe tbody tr th:only-of-type {\n",
       "        vertical-align: middle;\n",
       "    }\n",
       "\n",
       "    .dataframe tbody tr th {\n",
       "        vertical-align: top;\n",
       "    }\n",
       "\n",
       "    .dataframe thead th {\n",
       "        text-align: right;\n",
       "    }\n",
       "</style>\n",
       "<table border=\"1\" class=\"dataframe\">\n",
       "  <thead>\n",
       "    <tr style=\"text-align: right;\">\n",
       "      <th></th>\n",
       "      <th>true 0</th>\n",
       "      <th>true 1</th>\n",
       "    </tr>\n",
       "  </thead>\n",
       "  <tbody>\n",
       "    <tr>\n",
       "      <th>pred 0</th>\n",
       "      <td>35449</td>\n",
       "      <td>388</td>\n",
       "    </tr>\n",
       "    <tr>\n",
       "      <th>pred 1</th>\n",
       "      <td>1241</td>\n",
       "      <td>2815</td>\n",
       "    </tr>\n",
       "  </tbody>\n",
       "</table>\n",
       "</div>"
      ],
      "text/plain": [
       "        true 0  true 1\n",
       "pred 0   35449     388\n",
       "pred 1    1241    2815"
      ]
     },
     "metadata": {},
     "output_type": "display_data"
    }
   ],
   "source": [
    "pipe_t_lr = Pipeline([('vect', TfidfVectorizer(stop_words=ENGLISH_STOP_WORDS)),\n",
    "                      ('lr', LogisticRegression(n_jobs=-1))])\n",
    "\n",
    "grid_params_t_lr = [{'vect__max_df': [0.1, 0.2, 0.3, 0.4],\n",
    "                     'lr__C': [0.1, 1.0, 10.0, 100.0]}]\n",
    "\n",
    "test_f1(pipe_t_lr, grid_params_t_lr)"
   ]
  },
  {
   "cell_type": "markdown",
   "metadata": {},
   "source": [
    "Видно, что данная модель тоже недостаточно хорошо предсказывает токсичные комментарии. \n",
    "\n",
    "Но метрика F1 составила 0.776, что выше необходимых 0.75 и выше чем у метода `CountVectorizer`.\n",
    "\n",
    "Попробуем другую модель классификации."
   ]
  },
  {
   "cell_type": "markdown",
   "metadata": {},
   "source": [
    "#### DecisionTreeClassifier"
   ]
  },
  {
   "cell_type": "markdown",
   "metadata": {},
   "source": [
    "Повторим предыдушие шаги, перебирая другие параметры и используя `DecisionTreeClassifier` для классификации."
   ]
  },
  {
   "cell_type": "code",
   "execution_count": 22,
   "metadata": {},
   "outputs": [
    {
     "name": "stdout",
     "output_type": "stream",
     "text": [
      "Лучшие параметры модели: {'dt__max_depth': 100, 'vect__max_df': 0.1}\n",
      "Метрика F1 на тестовой выборке составила: 0.7217593224969266\n",
      "Матрица неточностей для тестовой выборки:\n"
     ]
    },
    {
     "data": {
      "text/html": [
       "<div>\n",
       "<style scoped>\n",
       "    .dataframe tbody tr th:only-of-type {\n",
       "        vertical-align: middle;\n",
       "    }\n",
       "\n",
       "    .dataframe tbody tr th {\n",
       "        vertical-align: top;\n",
       "    }\n",
       "\n",
       "    .dataframe thead th {\n",
       "        text-align: right;\n",
       "    }\n",
       "</style>\n",
       "<table border=\"1\" class=\"dataframe\">\n",
       "  <thead>\n",
       "    <tr style=\"text-align: right;\">\n",
       "      <th></th>\n",
       "      <th>true 0</th>\n",
       "      <th>true 1</th>\n",
       "    </tr>\n",
       "  </thead>\n",
       "  <tbody>\n",
       "    <tr>\n",
       "      <th>pred 0</th>\n",
       "      <td>35214</td>\n",
       "      <td>623</td>\n",
       "    </tr>\n",
       "    <tr>\n",
       "      <th>pred 1</th>\n",
       "      <td>1414</td>\n",
       "      <td>2642</td>\n",
       "    </tr>\n",
       "  </tbody>\n",
       "</table>\n",
       "</div>"
      ],
      "text/plain": [
       "        true 0  true 1\n",
       "pred 0   35214     623\n",
       "pred 1    1414    2642"
      ]
     },
     "metadata": {},
     "output_type": "display_data"
    }
   ],
   "source": [
    "pipe_t_dt = Pipeline([('vect', TfidfVectorizer(stop_words=ENGLISH_STOP_WORDS)),\n",
    "                      ('dt', DecisionTreeClassifier(random_state=42))])\n",
    "\n",
    "grid_params_t_dt = [{'vect__max_df': [0.1, 0.2, 0.3, 0.4],\n",
    "                     'dt__max_depth': [10, 50, 100, 200]}]\n",
    "\n",
    "test_f1(pipe_t_dt, grid_params_t_dt)"
   ]
  },
  {
   "cell_type": "markdown",
   "metadata": {},
   "source": [
    "Видно, что данная модель тоже недостаточно хорошо предсказывает токсичные комментарии. \n",
    "\n",
    "Метрика F1 составила 0.722 что ниже необходимых 0.75."
   ]
  },
  {
   "cell_type": "markdown",
   "metadata": {},
   "source": [
    "**Вывод:**\n",
    "\n",
    "В данном пункте были обучены модели с различными методами векторизации и моделями классификации. Только модель с методом векторизации `TfidfVectorizer` и моделью классификации `LogisticRegression` показала необходимую метрику F1 более 0.75."
   ]
  },
  {
   "cell_type": "markdown",
   "metadata": {},
   "source": [
    "## Выводы"
   ]
  },
  {
   "cell_type": "markdown",
   "metadata": {},
   "source": [
    "В данном проекте были построены модели, предсказывающие токсичность комментариев:\n",
    "- Были загружены данные и проведено первичное знакомство с ними.\n",
    "- Модель `LogisticRegression`, обученная на векторах, вычисленных методом `CountVectorizer` обладала метрикой F1 на тестовой выборке 0.769. При обучении модели на векторах, вычисленных методом `TfidfVectorizer` метрика F1 составила 0.776. Оба значения выше необходимых необходимых 0.75.\n",
    "- Модель `DecisionTreeClassifier`, обученная на векторах, вычисленных методом `CountVectorizer` обладала метрикой F1 на тестовой выборке 0.717. При обучении модели на векторах, вычисленных методом `TfidfVectorizer` метрика F1 также составила 0.722.\n",
    "- Таким образом, в данном проекте под требования подходит только модель, использующая векторизацию методами `CountVectorizer` или `TfidfVectorizer` и модель классификации `LogisticRegression`."
   ]
  }
 ],
 "metadata": {
  "ExecuteTimeLog": [
   {
    "duration": 479,
    "start_time": "2022-04-22T20:16:50.011Z"
   },
   {
    "duration": 148,
    "start_time": "2022-04-22T20:16:59.401Z"
   },
   {
    "duration": 1015,
    "start_time": "2022-04-22T20:17:02.508Z"
   },
   {
    "duration": 1009,
    "start_time": "2022-04-22T20:17:08.708Z"
   },
   {
    "duration": 926,
    "start_time": "2022-04-22T20:17:13.681Z"
   },
   {
    "duration": 521,
    "start_time": "2022-04-24T09:49:27.370Z"
   },
   {
    "duration": 90,
    "start_time": "2022-04-24T09:53:45.207Z"
   },
   {
    "duration": 1201,
    "start_time": "2022-04-24T09:53:51.229Z"
   },
   {
    "duration": 138,
    "start_time": "2022-04-24T09:54:46.308Z"
   },
   {
    "duration": 319,
    "start_time": "2022-04-24T09:55:11.788Z"
   },
   {
    "duration": 1043,
    "start_time": "2022-04-24T09:55:25.240Z"
   },
   {
    "duration": 63,
    "start_time": "2022-04-24T09:55:51.087Z"
   },
   {
    "duration": 5,
    "start_time": "2022-04-24T09:55:55.631Z"
   },
   {
    "duration": 50,
    "start_time": "2022-04-24T09:57:35.741Z"
   },
   {
    "duration": 51,
    "start_time": "2022-04-24T09:57:45.341Z"
   },
   {
    "duration": 14,
    "start_time": "2022-04-24T09:57:48.225Z"
   },
   {
    "duration": 5,
    "start_time": "2022-04-24T09:57:50.277Z"
   },
   {
    "duration": 11,
    "start_time": "2022-04-24T09:58:34.848Z"
   },
   {
    "duration": 17,
    "start_time": "2022-04-24T09:59:37.696Z"
   },
   {
    "duration": 2239,
    "start_time": "2022-04-24T10:04:26.052Z"
   },
   {
    "duration": 1048,
    "start_time": "2022-04-24T10:04:30.587Z"
   },
   {
    "duration": 6,
    "start_time": "2022-04-24T10:04:32.389Z"
   },
   {
    "duration": 18,
    "start_time": "2022-04-24T10:04:33.293Z"
   },
   {
    "duration": 1374,
    "start_time": "2022-04-24T15:36:40.066Z"
   },
   {
    "duration": 890,
    "start_time": "2022-04-24T15:36:43.249Z"
   },
   {
    "duration": 5,
    "start_time": "2022-04-24T15:36:44.141Z"
   },
   {
    "duration": 12,
    "start_time": "2022-04-24T15:36:47.105Z"
   },
   {
    "duration": 8932,
    "start_time": "2022-04-24T15:42:21.034Z"
   },
   {
    "duration": 6,
    "start_time": "2022-04-24T15:42:37.608Z"
   },
   {
    "duration": 8107,
    "start_time": "2022-04-24T15:42:55.713Z"
   },
   {
    "duration": 7,
    "start_time": "2022-04-24T15:43:04.394Z"
   },
   {
    "duration": 22,
    "start_time": "2022-04-24T15:44:13.431Z"
   },
   {
    "duration": 10,
    "start_time": "2022-04-24T15:46:55.261Z"
   },
   {
    "duration": 151,
    "start_time": "2022-04-24T15:50:15.853Z"
   },
   {
    "duration": 2,
    "start_time": "2022-04-24T15:51:19.456Z"
   },
   {
    "duration": 8,
    "start_time": "2022-04-24T15:51:36.074Z"
   },
   {
    "duration": 4,
    "start_time": "2022-04-24T15:51:39.443Z"
   },
   {
    "duration": 4,
    "start_time": "2022-04-24T15:51:45.876Z"
   },
   {
    "duration": 4,
    "start_time": "2022-04-24T15:52:03.069Z"
   },
   {
    "duration": 32236,
    "start_time": "2022-04-24T15:52:13.847Z"
   },
   {
    "duration": 12,
    "start_time": "2022-04-24T15:52:53.357Z"
   },
   {
    "duration": 32011,
    "start_time": "2022-04-24T15:53:41.775Z"
   },
   {
    "duration": 215,
    "start_time": "2022-04-24T15:54:16.532Z"
   },
   {
    "duration": 3,
    "start_time": "2022-04-24T15:54:30.945Z"
   },
   {
    "duration": 4,
    "start_time": "2022-04-24T15:57:46.418Z"
   },
   {
    "duration": 65,
    "start_time": "2022-04-24T15:59:30.143Z"
   },
   {
    "duration": 4,
    "start_time": "2022-04-24T15:59:32.921Z"
   },
   {
    "duration": 12,
    "start_time": "2022-04-24T16:01:18.433Z"
   },
   {
    "duration": 6,
    "start_time": "2022-04-24T16:01:43.282Z"
   },
   {
    "duration": 11,
    "start_time": "2022-04-24T16:01:47.288Z"
   },
   {
    "duration": 1164,
    "start_time": "2022-04-24T16:01:56.051Z"
   },
   {
    "duration": 14,
    "start_time": "2022-04-24T16:02:06.797Z"
   },
   {
    "duration": 19,
    "start_time": "2022-04-24T16:02:15.300Z"
   },
   {
    "duration": 12,
    "start_time": "2022-04-24T16:02:19.528Z"
   },
   {
    "duration": 23,
    "start_time": "2022-04-24T16:02:22.875Z"
   },
   {
    "duration": 4,
    "start_time": "2022-04-24T16:02:51.018Z"
   },
   {
    "duration": 9,
    "start_time": "2022-04-24T16:03:06.261Z"
   },
   {
    "duration": 20,
    "start_time": "2022-04-24T16:03:10.672Z"
   },
   {
    "duration": 5,
    "start_time": "2022-04-24T16:03:24.199Z"
   },
   {
    "duration": 44,
    "start_time": "2022-04-24T16:03:24.899Z"
   },
   {
    "duration": 16,
    "start_time": "2022-04-24T16:03:48.033Z"
   },
   {
    "duration": 17,
    "start_time": "2022-04-24T16:03:52.301Z"
   },
   {
    "duration": 150,
    "start_time": "2022-04-24T16:04:13.371Z"
   },
   {
    "duration": 45,
    "start_time": "2022-04-24T16:04:15.092Z"
   },
   {
    "duration": 51,
    "start_time": "2022-04-24T16:04:18.834Z"
   },
   {
    "duration": 42,
    "start_time": "2022-04-24T16:04:28.287Z"
   },
   {
    "duration": 4,
    "start_time": "2022-04-24T16:05:18.397Z"
   },
   {
    "duration": 20,
    "start_time": "2022-04-24T16:05:35.196Z"
   },
   {
    "duration": 3,
    "start_time": "2022-04-24T16:05:58.295Z"
   },
   {
    "duration": 34037,
    "start_time": "2022-04-24T16:06:00.468Z"
   },
   {
    "duration": 3,
    "start_time": "2022-04-24T16:08:30.343Z"
   },
   {
    "duration": 100,
    "start_time": "2022-04-24T16:08:31.161Z"
   },
   {
    "duration": 1253,
    "start_time": "2022-04-24T16:08:33.258Z"
   },
   {
    "duration": 5,
    "start_time": "2022-04-24T16:08:48.754Z"
   },
   {
    "duration": 1519,
    "start_time": "2022-04-24T16:08:59.246Z"
   },
   {
    "duration": 6,
    "start_time": "2022-04-24T16:09:01.344Z"
   },
   {
    "duration": 54,
    "start_time": "2022-04-24T16:09:02.001Z"
   },
   {
    "duration": 31,
    "start_time": "2022-04-24T16:09:04.693Z"
   },
   {
    "duration": 14,
    "start_time": "2022-04-24T16:09:12.126Z"
   },
   {
    "duration": 1320,
    "start_time": "2022-04-24T16:09:38.044Z"
   },
   {
    "duration": 5,
    "start_time": "2022-04-24T16:09:43.693Z"
   },
   {
    "duration": 39,
    "start_time": "2022-04-24T16:09:43.913Z"
   },
   {
    "duration": 32,
    "start_time": "2022-04-24T16:09:46.469Z"
   },
   {
    "duration": 643,
    "start_time": "2022-04-24T16:10:35.262Z"
   },
   {
    "duration": 74642,
    "start_time": "2022-04-24T16:10:36.925Z"
   },
   {
    "duration": 1366,
    "start_time": "2022-04-24T16:15:52.223Z"
   },
   {
    "duration": 1238,
    "start_time": "2022-04-24T16:15:54.629Z"
   },
   {
    "duration": 9,
    "start_time": "2022-04-24T16:15:55.874Z"
   },
   {
    "duration": 46,
    "start_time": "2022-04-24T16:15:55.885Z"
   },
   {
    "duration": 7,
    "start_time": "2022-04-24T16:15:56.641Z"
   },
   {
    "duration": 76401,
    "start_time": "2022-04-24T16:15:56.896Z"
   },
   {
    "duration": 4,
    "start_time": "2022-04-24T16:17:18.933Z"
   },
   {
    "duration": 162,
    "start_time": "2022-04-24T16:17:20.619Z"
   },
   {
    "duration": 16,
    "start_time": "2022-04-24T16:17:27.626Z"
   },
   {
    "duration": 79,
    "start_time": "2022-04-24T16:17:32.209Z"
   },
   {
    "duration": 1146,
    "start_time": "2022-04-24T16:17:33.501Z"
   },
   {
    "duration": 4,
    "start_time": "2022-04-24T16:17:36.330Z"
   },
   {
    "duration": 51,
    "start_time": "2022-04-24T16:17:36.809Z"
   },
   {
    "duration": 20,
    "start_time": "2022-04-24T16:17:39.201Z"
   },
   {
    "duration": 1404,
    "start_time": "2022-04-24T16:17:55.820Z"
   },
   {
    "duration": 9568,
    "start_time": "2022-04-24T16:17:59.131Z"
   },
   {
    "duration": 5,
    "start_time": "2022-04-24T16:18:11.369Z"
   },
   {
    "duration": 77,
    "start_time": "2022-04-24T16:18:12.501Z"
   },
   {
    "duration": 1737,
    "start_time": "2022-04-24T16:18:13.201Z"
   },
   {
    "duration": 4,
    "start_time": "2022-04-24T16:18:16.693Z"
   },
   {
    "duration": 54,
    "start_time": "2022-04-24T16:18:17.205Z"
   },
   {
    "duration": 31,
    "start_time": "2022-04-24T16:18:20.873Z"
   },
   {
    "duration": 1550,
    "start_time": "2022-04-24T16:18:32.931Z"
   },
   {
    "duration": 10,
    "start_time": "2022-04-24T16:18:36.606Z"
   },
   {
    "duration": 50,
    "start_time": "2022-04-24T16:18:36.697Z"
   },
   {
    "duration": 34,
    "start_time": "2022-04-24T16:18:37.362Z"
   },
   {
    "duration": 599,
    "start_time": "2022-04-24T16:18:40.805Z"
   },
   {
    "duration": 8,
    "start_time": "2022-04-24T16:18:42.031Z"
   },
   {
    "duration": 55,
    "start_time": "2022-04-24T16:18:42.499Z"
   },
   {
    "duration": 26,
    "start_time": "2022-04-24T16:18:43.017Z"
   },
   {
    "duration": 1598,
    "start_time": "2022-04-24T16:18:46.562Z"
   },
   {
    "duration": 17,
    "start_time": "2022-04-24T16:18:48.162Z"
   },
   {
    "duration": 75,
    "start_time": "2022-04-24T16:18:51.562Z"
   },
   {
    "duration": 27,
    "start_time": "2022-04-24T16:18:51.644Z"
   },
   {
    "duration": 1747,
    "start_time": "2022-04-24T16:18:56.002Z"
   },
   {
    "duration": 6,
    "start_time": "2022-04-24T16:18:58.263Z"
   },
   {
    "duration": 62,
    "start_time": "2022-04-24T16:18:58.775Z"
   },
   {
    "duration": 23,
    "start_time": "2022-04-24T16:19:00.425Z"
   },
   {
    "duration": 1715,
    "start_time": "2022-04-24T16:19:03.595Z"
   },
   {
    "duration": 5,
    "start_time": "2022-04-24T16:19:05.931Z"
   },
   {
    "duration": 54,
    "start_time": "2022-04-24T16:19:06.552Z"
   },
   {
    "duration": 24,
    "start_time": "2022-04-24T16:19:07.707Z"
   },
   {
    "duration": 46,
    "start_time": "2022-04-24T16:19:18.169Z"
   },
   {
    "duration": 12388,
    "start_time": "2022-04-24T16:19:19.469Z"
   },
   {
    "duration": 4,
    "start_time": "2022-04-24T16:19:40.166Z"
   },
   {
    "duration": 109,
    "start_time": "2022-04-24T16:19:40.614Z"
   },
   {
    "duration": 1858,
    "start_time": "2022-04-24T16:19:41.239Z"
   },
   {
    "duration": 7,
    "start_time": "2022-04-24T16:19:46.662Z"
   },
   {
    "duration": 54,
    "start_time": "2022-04-24T16:19:47.125Z"
   },
   {
    "duration": 23,
    "start_time": "2022-04-24T16:19:50.001Z"
   },
   {
    "duration": 31,
    "start_time": "2022-04-24T16:19:59.347Z"
   },
   {
    "duration": 12108,
    "start_time": "2022-04-24T16:20:00.516Z"
   },
   {
    "duration": 4,
    "start_time": "2022-04-24T16:20:14.758Z"
   },
   {
    "duration": 242,
    "start_time": "2022-04-24T16:20:16.022Z"
   },
   {
    "duration": 61663,
    "start_time": "2022-04-24T16:20:17.114Z"
   },
   {
    "duration": 13,
    "start_time": "2022-04-24T16:22:38.669Z"
   },
   {
    "duration": 53,
    "start_time": "2022-04-24T16:22:38.992Z"
   },
   {
    "duration": 32,
    "start_time": "2022-04-24T16:22:40.017Z"
   },
   {
    "duration": 7,
    "start_time": "2022-04-24T16:25:08.368Z"
   },
   {
    "duration": 109,
    "start_time": "2022-04-24T16:26:18.548Z"
   },
   {
    "duration": 112,
    "start_time": "2022-04-24T16:26:31.710Z"
   },
   {
    "duration": 129,
    "start_time": "2022-04-24T16:26:37.457Z"
   },
   {
    "duration": 115,
    "start_time": "2022-04-24T16:26:40.268Z"
   },
   {
    "duration": 121,
    "start_time": "2022-04-24T16:26:43.614Z"
   },
   {
    "duration": 123,
    "start_time": "2022-04-24T16:26:45.805Z"
   },
   {
    "duration": 35,
    "start_time": "2022-04-24T16:27:14.308Z"
   },
   {
    "duration": 9996,
    "start_time": "2022-04-24T16:27:15.693Z"
   },
   {
    "duration": 8,
    "start_time": "2022-04-24T16:27:36.596Z"
   },
   {
    "duration": 90,
    "start_time": "2022-04-24T16:27:37.116Z"
   },
   {
    "duration": 1901,
    "start_time": "2022-04-24T16:27:38.226Z"
   },
   {
    "duration": 6,
    "start_time": "2022-04-24T16:27:40.737Z"
   },
   {
    "duration": 43,
    "start_time": "2022-04-24T16:27:41.305Z"
   },
   {
    "duration": 16,
    "start_time": "2022-04-24T16:27:42.027Z"
   },
   {
    "duration": 18,
    "start_time": "2022-04-24T16:27:52.933Z"
   },
   {
    "duration": 9391,
    "start_time": "2022-04-24T16:27:53.456Z"
   },
   {
    "duration": 5,
    "start_time": "2022-04-24T16:28:02.849Z"
   },
   {
    "duration": 164,
    "start_time": "2022-04-24T16:28:02.856Z"
   },
   {
    "duration": 59557,
    "start_time": "2022-04-24T16:28:03.023Z"
   },
   {
    "duration": 12,
    "start_time": "2022-04-24T16:29:05.644Z"
   },
   {
    "duration": 23,
    "start_time": "2022-04-24T16:29:06.625Z"
   },
   {
    "duration": 40,
    "start_time": "2022-04-24T16:29:08.605Z"
   },
   {
    "duration": 58,
    "start_time": "2022-04-24T16:30:03.035Z"
   },
   {
    "duration": 53,
    "start_time": "2022-04-24T16:30:26.085Z"
   },
   {
    "duration": 47,
    "start_time": "2022-04-24T16:30:40.202Z"
   },
   {
    "duration": 3,
    "start_time": "2022-04-24T16:34:33.387Z"
   },
   {
    "duration": 4,
    "start_time": "2022-04-24T16:34:40.817Z"
   },
   {
    "duration": 9933,
    "start_time": "2022-04-24T16:34:41.916Z"
   },
   {
    "duration": 4,
    "start_time": "2022-04-24T16:35:00.309Z"
   },
   {
    "duration": 147,
    "start_time": "2022-04-24T16:35:11.300Z"
   },
   {
    "duration": 33,
    "start_time": "2022-04-24T16:36:14.444Z"
   },
   {
    "duration": 9346,
    "start_time": "2022-04-24T16:36:15.099Z"
   },
   {
    "duration": 5,
    "start_time": "2022-04-24T16:36:24.447Z"
   },
   {
    "duration": 154,
    "start_time": "2022-04-24T16:36:26.830Z"
   },
   {
    "duration": 58949,
    "start_time": "2022-04-24T16:36:35.648Z"
   },
   {
    "duration": 12,
    "start_time": "2022-04-24T16:38:46.303Z"
   },
   {
    "duration": 16,
    "start_time": "2022-04-24T16:38:47.799Z"
   },
   {
    "duration": 50,
    "start_time": "2022-04-24T16:38:53.439Z"
   },
   {
    "duration": 36,
    "start_time": "2022-04-24T16:38:56.599Z"
   },
   {
    "duration": 10220,
    "start_time": "2022-04-24T16:38:59.207Z"
   },
   {
    "duration": 3,
    "start_time": "2022-04-24T16:39:09.429Z"
   },
   {
    "duration": 152,
    "start_time": "2022-04-24T16:39:19.166Z"
   },
   {
    "duration": 160,
    "start_time": "2022-04-24T16:39:39.218Z"
   },
   {
    "duration": 52084,
    "start_time": "2022-04-24T16:39:47.603Z"
   },
   {
    "duration": 12,
    "start_time": "2022-04-24T16:40:44.592Z"
   },
   {
    "duration": 22,
    "start_time": "2022-04-24T16:40:45.395Z"
   },
   {
    "duration": 50,
    "start_time": "2022-04-24T16:40:53.368Z"
   },
   {
    "duration": 10,
    "start_time": "2022-04-24T16:41:11.307Z"
   },
   {
    "duration": 21,
    "start_time": "2022-04-24T16:41:13.295Z"
   },
   {
    "duration": 36,
    "start_time": "2022-04-24T16:41:35.131Z"
   },
   {
    "duration": 10101,
    "start_time": "2022-04-24T16:41:35.967Z"
   },
   {
    "duration": 8,
    "start_time": "2022-04-24T16:41:47.310Z"
   },
   {
    "duration": 101,
    "start_time": "2022-04-24T16:41:47.663Z"
   },
   {
    "duration": 771,
    "start_time": "2022-04-24T16:41:48.056Z"
   },
   {
    "duration": 5,
    "start_time": "2022-04-24T16:41:51.046Z"
   },
   {
    "duration": 29,
    "start_time": "2022-04-24T16:41:51.702Z"
   },
   {
    "duration": 25,
    "start_time": "2022-04-24T16:41:55.898Z"
   },
   {
    "duration": 9345,
    "start_time": "2022-04-24T16:41:56.489Z"
   },
   {
    "duration": 4,
    "start_time": "2022-04-24T16:42:07.717Z"
   },
   {
    "duration": 74,
    "start_time": "2022-04-24T16:42:08.093Z"
   },
   {
    "duration": 1265,
    "start_time": "2022-04-24T16:42:08.486Z"
   },
   {
    "duration": 6,
    "start_time": "2022-04-24T16:42:09.753Z"
   },
   {
    "duration": 37,
    "start_time": "2022-04-24T16:42:09.761Z"
   },
   {
    "duration": 31,
    "start_time": "2022-04-24T16:42:15.357Z"
   },
   {
    "duration": 8894,
    "start_time": "2022-04-24T16:42:15.816Z"
   },
   {
    "duration": 3,
    "start_time": "2022-04-24T16:42:24.713Z"
   },
   {
    "duration": 128,
    "start_time": "2022-04-24T16:42:24.718Z"
   },
   {
    "duration": 52589,
    "start_time": "2022-04-24T16:42:26.490Z"
   },
   {
    "duration": 13,
    "start_time": "2022-04-24T16:43:19.086Z"
   },
   {
    "duration": 31,
    "start_time": "2022-04-24T16:43:19.102Z"
   },
   {
    "duration": 58,
    "start_time": "2022-04-24T16:43:19.136Z"
   },
   {
    "duration": 47,
    "start_time": "2022-04-24T16:44:00.705Z"
   },
   {
    "duration": 4,
    "start_time": "2022-04-24T16:50:27.070Z"
   },
   {
    "duration": 824,
    "start_time": "2022-04-24T16:50:28.136Z"
   },
   {
    "duration": 5,
    "start_time": "2022-04-24T16:50:29.537Z"
   },
   {
    "duration": 10,
    "start_time": "2022-04-24T16:50:30.204Z"
   },
   {
    "duration": 28,
    "start_time": "2022-04-24T16:50:32.284Z"
   },
   {
    "duration": 8534,
    "start_time": "2022-04-24T16:50:32.859Z"
   },
   {
    "duration": 3,
    "start_time": "2022-04-24T16:50:41.396Z"
   },
   {
    "duration": 118,
    "start_time": "2022-04-24T16:52:27.552Z"
   },
   {
    "duration": 59325,
    "start_time": "2022-04-24T16:52:27.992Z"
   },
   {
    "duration": 117621,
    "start_time": "2022-04-24T16:54:16.976Z"
   },
   {
    "duration": 16,
    "start_time": "2022-04-24T16:56:25.802Z"
   },
   {
    "duration": 16,
    "start_time": "2022-04-24T16:56:26.652Z"
   },
   {
    "duration": 60147,
    "start_time": "2022-04-24T16:56:31.435Z"
   },
   {
    "duration": 13,
    "start_time": "2022-04-24T16:57:34.130Z"
   },
   {
    "duration": 24,
    "start_time": "2022-04-24T16:57:35.036Z"
   },
   {
    "duration": 49,
    "start_time": "2022-04-24T16:57:38.200Z"
   },
   {
    "duration": 34,
    "start_time": "2022-04-24T16:57:40.423Z"
   },
   {
    "duration": 12064,
    "start_time": "2022-04-24T16:57:40.941Z"
   },
   {
    "duration": 8,
    "start_time": "2022-04-24T16:57:55.496Z"
   },
   {
    "duration": 155,
    "start_time": "2022-04-24T16:57:56.010Z"
   },
   {
    "duration": 52199,
    "start_time": "2022-04-24T16:57:57.709Z"
   },
   {
    "duration": 10,
    "start_time": "2022-04-24T16:58:51.301Z"
   },
   {
    "duration": 21,
    "start_time": "2022-04-24T16:58:52.115Z"
   },
   {
    "duration": 45,
    "start_time": "2022-04-24T16:58:53.010Z"
   },
   {
    "duration": 1335,
    "start_time": "2022-04-25T08:34:06.427Z"
   },
   {
    "duration": 4,
    "start_time": "2022-04-25T08:37:50.720Z"
   },
   {
    "duration": 23,
    "start_time": "2022-04-25T08:40:24.168Z"
   },
   {
    "duration": 4,
    "start_time": "2022-04-25T08:41:32.294Z"
   },
   {
    "duration": 4,
    "start_time": "2022-04-25T08:45:55.225Z"
   },
   {
    "duration": 4,
    "start_time": "2022-04-25T08:45:59.431Z"
   },
   {
    "duration": 108,
    "start_time": "2022-04-25T08:47:18.691Z"
   },
   {
    "duration": 4,
    "start_time": "2022-04-25T08:47:26.832Z"
   },
   {
    "duration": 863,
    "start_time": "2022-04-25T08:47:28.097Z"
   },
   {
    "duration": 3,
    "start_time": "2022-04-25T08:47:29.384Z"
   },
   {
    "duration": 11,
    "start_time": "2022-04-25T08:47:29.968Z"
   },
   {
    "duration": 18,
    "start_time": "2022-04-25T08:47:44.127Z"
   },
   {
    "duration": 63,
    "start_time": "2022-04-25T08:47:52.737Z"
   },
   {
    "duration": 4,
    "start_time": "2022-04-25T08:48:07.248Z"
   },
   {
    "duration": 10,
    "start_time": "2022-04-25T08:49:09.508Z"
   },
   {
    "duration": 14,
    "start_time": "2022-04-25T08:49:22.401Z"
   },
   {
    "duration": 4,
    "start_time": "2022-04-25T08:49:38.793Z"
   },
   {
    "duration": 384868,
    "start_time": "2022-04-25T08:50:27.289Z"
   },
   {
    "duration": 19,
    "start_time": "2022-04-25T09:13:03.329Z"
   },
   {
    "duration": 11,
    "start_time": "2022-04-25T09:13:16.514Z"
   },
   {
    "duration": 24,
    "start_time": "2022-04-25T09:13:21.266Z"
   },
   {
    "duration": 5,
    "start_time": "2022-04-25T09:13:49.001Z"
   },
   {
    "duration": 9,
    "start_time": "2022-04-25T09:13:58.377Z"
   },
   {
    "duration": 3,
    "start_time": "2022-04-25T09:14:16.266Z"
   },
   {
    "duration": 11,
    "start_time": "2022-04-25T09:14:29.777Z"
   },
   {
    "duration": 43,
    "start_time": "2022-04-25T09:14:36.825Z"
   },
   {
    "duration": 5,
    "start_time": "2022-04-25T09:15:20.698Z"
   },
   {
    "duration": 3,
    "start_time": "2022-04-25T09:15:48.067Z"
   },
   {
    "duration": 4,
    "start_time": "2022-04-25T09:16:19.482Z"
   },
   {
    "duration": 1928,
    "start_time": "2022-04-25T09:16:29.915Z"
   },
   {
    "duration": 1954,
    "start_time": "2022-04-25T09:17:08.155Z"
   },
   {
    "duration": 96391,
    "start_time": "2022-04-25T09:20:59.803Z"
   },
   {
    "duration": 3146,
    "start_time": "2022-04-25T09:22:36.197Z"
   },
   {
    "duration": 48,
    "start_time": "2022-04-25T09:22:39.345Z"
   },
   {
    "duration": 3321,
    "start_time": "2022-04-25T09:22:40.277Z"
   },
   {
    "duration": 6,
    "start_time": "2022-04-25T09:25:33.995Z"
   },
   {
    "duration": 4,
    "start_time": "2022-04-25T09:32:42.775Z"
   },
   {
    "duration": 1263,
    "start_time": "2022-04-25T10:05:44.357Z"
   },
   {
    "duration": 897,
    "start_time": "2022-04-25T10:05:49.118Z"
   },
   {
    "duration": 6,
    "start_time": "2022-04-25T10:05:50.017Z"
   },
   {
    "duration": 13,
    "start_time": "2022-04-25T10:05:50.412Z"
   },
   {
    "duration": 68,
    "start_time": "2022-04-25T10:05:54.548Z"
   },
   {
    "duration": 39,
    "start_time": "2022-04-25T10:07:22.517Z"
   },
   {
    "duration": 459846,
    "start_time": "2022-04-25T10:08:33.644Z"
   },
   {
    "duration": 5016,
    "start_time": "2022-04-25T10:16:46.008Z"
   },
   {
    "duration": 4,
    "start_time": "2022-04-25T10:17:07.184Z"
   },
   {
    "duration": 62,
    "start_time": "2022-04-25T10:18:13.119Z"
   },
   {
    "duration": 88,
    "start_time": "2022-04-25T10:20:55.599Z"
   },
   {
    "duration": 3,
    "start_time": "2022-04-25T10:21:51.140Z"
   },
   {
    "duration": 376418,
    "start_time": "2022-04-25T10:23:14.605Z"
   },
   {
    "duration": 4,
    "start_time": "2022-04-25T10:29:31.025Z"
   },
   {
    "duration": 95,
    "start_time": "2022-04-25T10:29:47.703Z"
   },
   {
    "duration": 29,
    "start_time": "2022-04-25T10:30:02.276Z"
   },
   {
    "duration": 26,
    "start_time": "2022-04-25T10:30:05.597Z"
   },
   {
    "duration": 9,
    "start_time": "2022-04-25T10:30:10.204Z"
   },
   {
    "duration": 7,
    "start_time": "2022-04-25T10:30:13.053Z"
   },
   {
    "duration": 5,
    "start_time": "2022-04-25T10:30:20.732Z"
   },
   {
    "duration": 375749,
    "start_time": "2022-04-25T10:30:26.181Z"
   },
   {
    "duration": 0,
    "start_time": "2022-04-25T10:36:41.931Z"
   },
   {
    "duration": 4,
    "start_time": "2022-04-25T10:38:38.287Z"
   },
   {
    "duration": 4,
    "start_time": "2022-04-25T10:38:42.568Z"
   },
   {
    "duration": 4,
    "start_time": "2022-04-25T10:38:44.255Z"
   },
   {
    "duration": 360646,
    "start_time": "2022-04-25T10:38:49.087Z"
   },
   {
    "duration": 12,
    "start_time": "2022-04-25T10:44:49.735Z"
   },
   {
    "duration": 10,
    "start_time": "2022-04-25T10:53:47.037Z"
   },
   {
    "duration": 9,
    "start_time": "2022-04-25T10:53:53.485Z"
   },
   {
    "duration": 10,
    "start_time": "2022-04-25T10:53:57.908Z"
   },
   {
    "duration": 3,
    "start_time": "2022-04-25T10:54:20.878Z"
   },
   {
    "duration": 12,
    "start_time": "2022-04-25T10:54:24.645Z"
   },
   {
    "duration": 162435,
    "start_time": "2022-04-25T10:54:30.766Z"
   },
   {
    "duration": 273108,
    "start_time": "2022-04-25T10:57:13.203Z"
   },
   {
    "duration": 235080,
    "start_time": "2022-04-25T11:01:46.313Z"
   }
  ],
  "kernelspec": {
   "display_name": "Python 3 (ipykernel)",
   "language": "python",
   "name": "python3"
  },
  "language_info": {
   "codemirror_mode": {
    "name": "ipython",
    "version": 3
   },
   "file_extension": ".py",
   "mimetype": "text/x-python",
   "name": "python",
   "nbconvert_exporter": "python",
   "pygments_lexer": "ipython3",
   "version": "3.10.4"
  },
  "toc": {
   "base_numbering": 1,
   "nav_menu": {},
   "number_sections": true,
   "sideBar": true,
   "skip_h1_title": true,
   "title_cell": "Содержание",
   "title_sidebar": "Contents",
   "toc_cell": true,
   "toc_position": {
    "height": "calc(100% - 180px)",
    "left": "10px",
    "top": "150px",
    "width": "302.391px"
   },
   "toc_section_display": true,
   "toc_window_display": false
  },
  "toc-autonumbering": false,
  "toc-showcode": false,
  "toc-showmarkdowntxt": false,
  "toc-showtags": false
 },
 "nbformat": 4,
 "nbformat_minor": 4
}
