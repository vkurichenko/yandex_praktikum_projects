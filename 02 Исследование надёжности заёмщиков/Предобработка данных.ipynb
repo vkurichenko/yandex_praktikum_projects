{
 "cells": [
  {
   "cell_type": "markdown",
   "metadata": {},
   "source": [
    "# Исследование надёжности заёмщиков\n",
    "\n",
    "Заказчик — кредитный отдел банка. Нужно разобраться, влияет ли семейное положение и количество детей клиента на факт погашения кредита в срок. Входные данные от банка — статистика о платёжеспособности клиентов.\n",
    "\n",
    "Результаты исследования будут учтены при построении модели **кредитного скоринга** — специальной системы, которая оценивает способность потенциального заёмщика вернуть кредит банку.\n",
    "\n",
    "Заказчику необходимы ответы на следующие вопросы:\n",
    "1. Есть ли зависимость между наличием детей и возвратом кредита в срок?\n",
    "2. Есть ли зависимость между семейным положением и возвратом кредита в срок?\n",
    "3. Есть ли зависимость между уровнем дохода и возвратом кредита в срок?\n",
    "4. Как разные цели кредита влияют на его возврат в срок?"
   ]
  },
  {
   "cell_type": "markdown",
   "metadata": {},
   "source": [
    "## Обзор данных"
   ]
  },
  {
   "cell_type": "markdown",
   "metadata": {},
   "source": [
    "### Импорт данных и получение общей информации"
   ]
  },
  {
   "cell_type": "markdown",
   "metadata": {},
   "source": [
    "Импортируем датасет и сохраним его в переменной `data`."
   ]
  },
  {
   "cell_type": "code",
   "execution_count": 1,
   "metadata": {},
   "outputs": [],
   "source": [
    "import pandas as pd\n",
    "data = pd.read_csv('/datasets/data.csv')"
   ]
  },
  {
   "cell_type": "markdown",
   "metadata": {},
   "source": [
    "Посмотрим первые 10 строк таблицы."
   ]
  },
  {
   "cell_type": "code",
   "execution_count": 2,
   "metadata": {},
   "outputs": [
    {
     "data": {
      "text/html": [
       "<div>\n",
       "<style scoped>\n",
       "    .dataframe tbody tr th:only-of-type {\n",
       "        vertical-align: middle;\n",
       "    }\n",
       "\n",
       "    .dataframe tbody tr th {\n",
       "        vertical-align: top;\n",
       "    }\n",
       "\n",
       "    .dataframe thead th {\n",
       "        text-align: right;\n",
       "    }\n",
       "</style>\n",
       "<table border=\"1\" class=\"dataframe\">\n",
       "  <thead>\n",
       "    <tr style=\"text-align: right;\">\n",
       "      <th></th>\n",
       "      <th>children</th>\n",
       "      <th>days_employed</th>\n",
       "      <th>dob_years</th>\n",
       "      <th>education</th>\n",
       "      <th>education_id</th>\n",
       "      <th>family_status</th>\n",
       "      <th>family_status_id</th>\n",
       "      <th>gender</th>\n",
       "      <th>income_type</th>\n",
       "      <th>debt</th>\n",
       "      <th>total_income</th>\n",
       "      <th>purpose</th>\n",
       "    </tr>\n",
       "  </thead>\n",
       "  <tbody>\n",
       "    <tr>\n",
       "      <td>0</td>\n",
       "      <td>1</td>\n",
       "      <td>-8437.673028</td>\n",
       "      <td>42</td>\n",
       "      <td>высшее</td>\n",
       "      <td>0</td>\n",
       "      <td>женат / замужем</td>\n",
       "      <td>0</td>\n",
       "      <td>F</td>\n",
       "      <td>сотрудник</td>\n",
       "      <td>0</td>\n",
       "      <td>253875.639453</td>\n",
       "      <td>покупка жилья</td>\n",
       "    </tr>\n",
       "    <tr>\n",
       "      <td>1</td>\n",
       "      <td>1</td>\n",
       "      <td>-4024.803754</td>\n",
       "      <td>36</td>\n",
       "      <td>среднее</td>\n",
       "      <td>1</td>\n",
       "      <td>женат / замужем</td>\n",
       "      <td>0</td>\n",
       "      <td>F</td>\n",
       "      <td>сотрудник</td>\n",
       "      <td>0</td>\n",
       "      <td>112080.014102</td>\n",
       "      <td>приобретение автомобиля</td>\n",
       "    </tr>\n",
       "    <tr>\n",
       "      <td>2</td>\n",
       "      <td>0</td>\n",
       "      <td>-5623.422610</td>\n",
       "      <td>33</td>\n",
       "      <td>Среднее</td>\n",
       "      <td>1</td>\n",
       "      <td>женат / замужем</td>\n",
       "      <td>0</td>\n",
       "      <td>M</td>\n",
       "      <td>сотрудник</td>\n",
       "      <td>0</td>\n",
       "      <td>145885.952297</td>\n",
       "      <td>покупка жилья</td>\n",
       "    </tr>\n",
       "    <tr>\n",
       "      <td>3</td>\n",
       "      <td>3</td>\n",
       "      <td>-4124.747207</td>\n",
       "      <td>32</td>\n",
       "      <td>среднее</td>\n",
       "      <td>1</td>\n",
       "      <td>женат / замужем</td>\n",
       "      <td>0</td>\n",
       "      <td>M</td>\n",
       "      <td>сотрудник</td>\n",
       "      <td>0</td>\n",
       "      <td>267628.550329</td>\n",
       "      <td>дополнительное образование</td>\n",
       "    </tr>\n",
       "    <tr>\n",
       "      <td>4</td>\n",
       "      <td>0</td>\n",
       "      <td>340266.072047</td>\n",
       "      <td>53</td>\n",
       "      <td>среднее</td>\n",
       "      <td>1</td>\n",
       "      <td>гражданский брак</td>\n",
       "      <td>1</td>\n",
       "      <td>F</td>\n",
       "      <td>пенсионер</td>\n",
       "      <td>0</td>\n",
       "      <td>158616.077870</td>\n",
       "      <td>сыграть свадьбу</td>\n",
       "    </tr>\n",
       "    <tr>\n",
       "      <td>5</td>\n",
       "      <td>0</td>\n",
       "      <td>-926.185831</td>\n",
       "      <td>27</td>\n",
       "      <td>высшее</td>\n",
       "      <td>0</td>\n",
       "      <td>гражданский брак</td>\n",
       "      <td>1</td>\n",
       "      <td>M</td>\n",
       "      <td>компаньон</td>\n",
       "      <td>0</td>\n",
       "      <td>255763.565419</td>\n",
       "      <td>покупка жилья</td>\n",
       "    </tr>\n",
       "    <tr>\n",
       "      <td>6</td>\n",
       "      <td>0</td>\n",
       "      <td>-2879.202052</td>\n",
       "      <td>43</td>\n",
       "      <td>высшее</td>\n",
       "      <td>0</td>\n",
       "      <td>женат / замужем</td>\n",
       "      <td>0</td>\n",
       "      <td>F</td>\n",
       "      <td>компаньон</td>\n",
       "      <td>0</td>\n",
       "      <td>240525.971920</td>\n",
       "      <td>операции с жильем</td>\n",
       "    </tr>\n",
       "    <tr>\n",
       "      <td>7</td>\n",
       "      <td>0</td>\n",
       "      <td>-152.779569</td>\n",
       "      <td>50</td>\n",
       "      <td>СРЕДНЕЕ</td>\n",
       "      <td>1</td>\n",
       "      <td>женат / замужем</td>\n",
       "      <td>0</td>\n",
       "      <td>M</td>\n",
       "      <td>сотрудник</td>\n",
       "      <td>0</td>\n",
       "      <td>135823.934197</td>\n",
       "      <td>образование</td>\n",
       "    </tr>\n",
       "    <tr>\n",
       "      <td>8</td>\n",
       "      <td>2</td>\n",
       "      <td>-6929.865299</td>\n",
       "      <td>35</td>\n",
       "      <td>ВЫСШЕЕ</td>\n",
       "      <td>0</td>\n",
       "      <td>гражданский брак</td>\n",
       "      <td>1</td>\n",
       "      <td>F</td>\n",
       "      <td>сотрудник</td>\n",
       "      <td>0</td>\n",
       "      <td>95856.832424</td>\n",
       "      <td>на проведение свадьбы</td>\n",
       "    </tr>\n",
       "    <tr>\n",
       "      <td>9</td>\n",
       "      <td>0</td>\n",
       "      <td>-2188.756445</td>\n",
       "      <td>41</td>\n",
       "      <td>среднее</td>\n",
       "      <td>1</td>\n",
       "      <td>женат / замужем</td>\n",
       "      <td>0</td>\n",
       "      <td>M</td>\n",
       "      <td>сотрудник</td>\n",
       "      <td>0</td>\n",
       "      <td>144425.938277</td>\n",
       "      <td>покупка жилья для семьи</td>\n",
       "    </tr>\n",
       "  </tbody>\n",
       "</table>\n",
       "</div>"
      ],
      "text/plain": [
       "   children  days_employed  dob_years education  education_id  \\\n",
       "0         1   -8437.673028         42    высшее             0   \n",
       "1         1   -4024.803754         36   среднее             1   \n",
       "2         0   -5623.422610         33   Среднее             1   \n",
       "3         3   -4124.747207         32   среднее             1   \n",
       "4         0  340266.072047         53   среднее             1   \n",
       "5         0    -926.185831         27    высшее             0   \n",
       "6         0   -2879.202052         43    высшее             0   \n",
       "7         0    -152.779569         50   СРЕДНЕЕ             1   \n",
       "8         2   -6929.865299         35    ВЫСШЕЕ             0   \n",
       "9         0   -2188.756445         41   среднее             1   \n",
       "\n",
       "      family_status  family_status_id gender income_type  debt   total_income  \\\n",
       "0   женат / замужем                 0      F   сотрудник     0  253875.639453   \n",
       "1   женат / замужем                 0      F   сотрудник     0  112080.014102   \n",
       "2   женат / замужем                 0      M   сотрудник     0  145885.952297   \n",
       "3   женат / замужем                 0      M   сотрудник     0  267628.550329   \n",
       "4  гражданский брак                 1      F   пенсионер     0  158616.077870   \n",
       "5  гражданский брак                 1      M   компаньон     0  255763.565419   \n",
       "6   женат / замужем                 0      F   компаньон     0  240525.971920   \n",
       "7   женат / замужем                 0      M   сотрудник     0  135823.934197   \n",
       "8  гражданский брак                 1      F   сотрудник     0   95856.832424   \n",
       "9   женат / замужем                 0      M   сотрудник     0  144425.938277   \n",
       "\n",
       "                      purpose  \n",
       "0               покупка жилья  \n",
       "1     приобретение автомобиля  \n",
       "2               покупка жилья  \n",
       "3  дополнительное образование  \n",
       "4             сыграть свадьбу  \n",
       "5               покупка жилья  \n",
       "6           операции с жильем  \n",
       "7                 образование  \n",
       "8       на проведение свадьбы  \n",
       "9     покупка жилья для семьи  "
      ]
     },
     "execution_count": 2,
     "metadata": {},
     "output_type": "execute_result"
    }
   ],
   "source": [
    "data.head(10)"
   ]
  },
  {
   "cell_type": "markdown",
   "metadata": {},
   "source": [
    "Посмотрим общую информацию о данных."
   ]
  },
  {
   "cell_type": "code",
   "execution_count": 3,
   "metadata": {},
   "outputs": [
    {
     "name": "stdout",
     "output_type": "stream",
     "text": [
      "<class 'pandas.core.frame.DataFrame'>\n",
      "RangeIndex: 21525 entries, 0 to 21524\n",
      "Data columns (total 12 columns):\n",
      "children            21525 non-null int64\n",
      "days_employed       19351 non-null float64\n",
      "dob_years           21525 non-null int64\n",
      "education           21525 non-null object\n",
      "education_id        21525 non-null int64\n",
      "family_status       21525 non-null object\n",
      "family_status_id    21525 non-null int64\n",
      "gender              21525 non-null object\n",
      "income_type         21525 non-null object\n",
      "debt                21525 non-null int64\n",
      "total_income        19351 non-null float64\n",
      "purpose             21525 non-null object\n",
      "dtypes: float64(2), int64(5), object(5)\n",
      "memory usage: 2.0+ MB\n"
     ]
    }
   ],
   "source": [
    "data.info()"
   ]
  },
  {
   "cell_type": "markdown",
   "metadata": {},
   "source": [
    "В таблице 12 столбцов. \n",
    "Типы данных столбцах разные — `object`, `int`, `float`.\n",
    "\n",
    "Согласно документации к данным:\n",
    "\n",
    "* `children` — количество детей в семье\n",
    "* `days_employed` — общий трудовой стаж в днях\n",
    "* `dob_years` — возраст клиента в годах\n",
    "* `education` — уровень образования клиента\n",
    "* `education_id` — идентификатор уровня образования\n",
    "* `family_status` — семейное положение\n",
    "* `family_status_id` — идентификатор семейного положения\n",
    "* `gender` — пол клиента\n",
    "* `income_type` — тип занятости\n",
    "* `debt` — имел ли задолженность по возврату кредитов\n",
    "* `total_income` — ежемесячный доход\n",
    "* `purpose` — цель получения кредита\n",
    "\n",
    "Нарушений стиля названиях колонок нет.\n",
    "\n",
    "Количество значений в столбцах различается. Значит, в данных есть пропущенные значения."
   ]
  },
  {
   "cell_type": "markdown",
   "metadata": {},
   "source": [
    "### Изучение данных в столбцах"
   ]
  },
  {
   "cell_type": "markdown",
   "metadata": {},
   "source": [
    "Изучим разбросы данных в некоторых столбцах.\n",
    "\n",
    "Для этого сначала импортируем библиотеку `matplotlib`."
   ]
  },
  {
   "cell_type": "code",
   "execution_count": 4,
   "metadata": {},
   "outputs": [],
   "source": [
    "import matplotlib.pyplot as plt"
   ]
  },
  {
   "cell_type": "markdown",
   "metadata": {},
   "source": [
    "#### Столбец `children`"
   ]
  },
  {
   "cell_type": "markdown",
   "metadata": {},
   "source": [
    "Построим диаграмму \"ящик с усами\" для столбца с количеством детей."
   ]
  },
  {
   "cell_type": "code",
   "execution_count": 5,
   "metadata": {},
   "outputs": [
    {
     "data": {
      "text/plain": [
       "{'whiskers': [<matplotlib.lines.Line2D at 0x7f56d1224f50>,\n",
       "  <matplotlib.lines.Line2D at 0x7f56d11bdc50>],\n",
       " 'caps': [<matplotlib.lines.Line2D at 0x7f56d11c9590>,\n",
       "  <matplotlib.lines.Line2D at 0x7f56d11c9a90>],\n",
       " 'boxes': [<matplotlib.lines.Line2D at 0x7f56d1224f10>],\n",
       " 'medians': [<matplotlib.lines.Line2D at 0x7f56d11bdb50>],\n",
       " 'fliers': [<matplotlib.lines.Line2D at 0x7f56d11d1510>],\n",
       " 'means': []}"
      ]
     },
     "execution_count": 5,
     "metadata": {},
     "output_type": "execute_result"
    },
    {
     "data": {
      "image/png": "[encoded data removed]",
      "text/plain": [
       "<Figure size 432x288 with 1 Axes>"
      ]
     },
     "metadata": {
      "needs_background": "light"
     },
     "output_type": "display_data"
    }
   ],
   "source": [
    "plt.boxplot(data['children'])"
   ]
  },
  {
   "cell_type": "markdown",
   "metadata": {},
   "source": [
    "Анализ также можно провести путем использования метода `describe`."
   ]
  },
  {
   "cell_type": "code",
   "execution_count": 6,
   "metadata": {},
   "outputs": [
    {
     "data": {
      "text/plain": [
       "count    21525.000000\n",
       "mean         0.538908\n",
       "std          1.381587\n",
       "min         -1.000000\n",
       "25%          0.000000\n",
       "50%          0.000000\n",
       "75%          1.000000\n",
       "max         20.000000\n",
       "Name: children, dtype: float64"
      ]
     },
     "execution_count": 6,
     "metadata": {},
     "output_type": "execute_result"
    }
   ],
   "source": [
    "data.describe()['children']"
   ]
  },
  {
   "cell_type": "markdown",
   "metadata": {},
   "source": [
    "Видно, что в данных присутствует набор заемщиков с количеством детей - 20. Скорее всего это тоже артефакт, и, возможно, вместо 20 имелось в виду 2. Также есть замщики с отрицательным количеством детей, что тоже должно являться артефактом.\n",
    "\n",
    "В любом случае, заказчика интересует то, как влияет факт наличия детей, а не их количество на возврат кредита потенциальным заемщиком, поэтому данные артефакты мы также не будем трогать, но запомним, что они есть."
   ]
  },
  {
   "cell_type": "markdown",
   "metadata": {},
   "source": [
    "#### Столбец `days_employed`"
   ]
  },
  {
   "cell_type": "markdown",
   "metadata": {},
   "source": [
    "Построим \"ящик с усами\" для столбца со стажем работы в днях (предварительно отбросив пропуски в значениях)."
   ]
  },
  {
   "cell_type": "code",
   "execution_count": 7,
   "metadata": {},
   "outputs": [
    {
     "data": {
      "text/plain": [
       "{'whiskers': [<matplotlib.lines.Line2D at 0x7f56d0b01b50>,\n",
       "  <matplotlib.lines.Line2D at 0x7f56d0b0dcd0>],\n",
       " 'caps': [<matplotlib.lines.Line2D at 0x7f56d0af7a50>,\n",
       "  <matplotlib.lines.Line2D at 0x7f56d0b13750>],\n",
       " 'boxes': [<matplotlib.lines.Line2D at 0x7f56d0b01b10>],\n",
       " 'medians': [<matplotlib.lines.Line2D at 0x7f56d0b13c50>],\n",
       " 'fliers': [<matplotlib.lines.Line2D at 0x7f56d0b0dd50>],\n",
       " 'means': []}"
      ]
     },
     "execution_count": 7,
     "metadata": {},
     "output_type": "execute_result"
    },
    {
     "data": {
      "image/png": "[encoded data removed]",
      "text/plain": [
       "<Figure size 432x288 with 1 Axes>"
      ]
     },
     "metadata": {
      "needs_background": "light"
     },
     "output_type": "display_data"
    }
   ],
   "source": [
    "plt.boxplot(data['days_employed'].dropna())"
   ]
  },
  {
   "cell_type": "markdown",
   "metadata": {},
   "source": [
    "Видно, что данные очень неоднородны. В таблице даже есть значения со стажем работы от 300000 до 400000 дней. Если перевести это в года, то это от 800 до 1000 проработанных лет. По всей видимости, эти артефакты были вызваны тем, что стаж был записан не в днях, а в часах, так как в таком случае стаж падает до приемлемых 34 - 46 лет.\n",
    "\n",
    "Отсечем этот промежуток и построим график еще раз."
   ]
  },
  {
   "cell_type": "code",
   "execution_count": 8,
   "metadata": {},
   "outputs": [
    {
     "data": {
      "text/plain": [
       "{'whiskers': [<matplotlib.lines.Line2D at 0x7f56d0a79890>,\n",
       "  <matplotlib.lines.Line2D at 0x7f56d0a82a50>],\n",
       " 'caps': [<matplotlib.lines.Line2D at 0x7f56d0a82f50>,\n",
       "  <matplotlib.lines.Line2D at 0x7f56d0a88490>],\n",
       " 'boxes': [<matplotlib.lines.Line2D at 0x7f56d0a79850>],\n",
       " 'medians': [<matplotlib.lines.Line2D at 0x7f56d0a889d0>],\n",
       " 'fliers': [<matplotlib.lines.Line2D at 0x7f56d0a88ed0>],\n",
       " 'means': []}"
      ]
     },
     "execution_count": 8,
     "metadata": {},
     "output_type": "execute_result"
    },
    {
     "data": {
      "image/png": "[encoded data removed]",
      "text/plain": [
       "<Figure size 432x288 with 1 Axes>"
      ]
     },
     "metadata": {
      "needs_background": "light"
     },
     "output_type": "display_data"
    }
   ],
   "source": [
    "plt.boxplot(data[data['days_employed'] < 300000]['days_employed'])"
   ]
  },
  {
   "cell_type": "markdown",
   "metadata": {},
   "source": [
    "Анализ также можно было провести методом `describe`."
   ]
  },
  {
   "cell_type": "code",
   "execution_count": 9,
   "metadata": {},
   "outputs": [
    {
     "data": {
      "text/plain": [
       "count     19351.000000\n",
       "mean      63046.497661\n",
       "std      140827.311974\n",
       "min      -18388.949901\n",
       "25%       -2747.423625\n",
       "50%       -1203.369529\n",
       "75%        -291.095954\n",
       "max      401755.400475\n",
       "Name: days_employed, dtype: float64"
      ]
     },
     "execution_count": 9,
     "metadata": {},
     "output_type": "execute_result"
    }
   ],
   "source": [
    "data.describe()['days_employed']"
   ]
  },
  {
   "cell_type": "markdown",
   "metadata": {},
   "source": [
    "Теперь видно, что распределение переместилось в отрицательную область.\n",
    "\n",
    "Можно сказать, что все данные в столбце являются артефактными:\n",
    "1. Значения стажа, записанного вместо дней в часах.\n",
    "2. Значения стажа, которые по какой-то причине записаны отрицательными.\n",
    "\n",
    "Заказчика не интересует зависимость предполагаемого возврата кредита от стажа работы, поэтому данные в этом столбце пока трогать мы не будем. Если это потребуется для последующей категоризации потенциальных заемщиков, то это необходимо иметь в виду."
   ]
  },
  {
   "cell_type": "markdown",
   "metadata": {},
   "source": [
    "#### Столбец `dob_years`"
   ]
  },
  {
   "cell_type": "markdown",
   "metadata": {},
   "source": [
    "Построим \"ящик с усами\" для столбца со возрастом потенциального заемщика."
   ]
  },
  {
   "cell_type": "code",
   "execution_count": 10,
   "metadata": {},
   "outputs": [
    {
     "data": {
      "text/plain": [
       "{'whiskers': [<matplotlib.lines.Line2D at 0x7f56d09eba90>,\n",
       "  <matplotlib.lines.Line2D at 0x7f56d09f5c50>],\n",
       " 'caps': [<matplotlib.lines.Line2D at 0x7f56d09f5d10>,\n",
       "  <matplotlib.lines.Line2D at 0x7f56d09fc690>],\n",
       " 'boxes': [<matplotlib.lines.Line2D at 0x7f56d09ebad0>],\n",
       " 'medians': [<matplotlib.lines.Line2D at 0x7f56d09fcbd0>],\n",
       " 'fliers': [<matplotlib.lines.Line2D at 0x7f56d0a14310>],\n",
       " 'means': []}"
      ]
     },
     "execution_count": 10,
     "metadata": {},
     "output_type": "execute_result"
    },
    {
     "data": {
      "image/png": "[encoded data removed]",
      "text/plain": [
       "<Figure size 432x288 with 1 Axes>"
      ]
     },
     "metadata": {
      "needs_background": "light"
     },
     "output_type": "display_data"
    }
   ],
   "source": [
    "plt.boxplot(data['dob_years'])"
   ]
  },
  {
   "cell_type": "markdown",
   "metadata": {},
   "source": [
    "Анализ также можно было провести методом `describe`."
   ]
  },
  {
   "cell_type": "code",
   "execution_count": 11,
   "metadata": {},
   "outputs": [
    {
     "data": {
      "text/plain": [
       "count    21525.000000\n",
       "mean        43.293380\n",
       "std         12.574584\n",
       "min          0.000000\n",
       "25%         33.000000\n",
       "50%         42.000000\n",
       "75%         53.000000\n",
       "max         75.000000\n",
       "Name: dob_years, dtype: float64"
      ]
     },
     "execution_count": 11,
     "metadata": {},
     "output_type": "execute_result"
    }
   ],
   "source": [
    "data.describe()['dob_years']"
   ]
  },
  {
   "cell_type": "markdown",
   "metadata": {},
   "source": [
    "В данном столбце видны артефакты в виде нулевого возраста. Возможно они возникли, когда потенциальный заемщик не указал свой возраст в заявке. \n",
    "\n",
    "С данным столбцом ситуация такая же, непосредственно заказчика возраст не интересует, но для дальнейшей работы нам эта информация может пригодиться."
   ]
  },
  {
   "cell_type": "markdown",
   "metadata": {},
   "source": [
    "#### Столбец `education`"
   ]
  },
  {
   "cell_type": "markdown",
   "metadata": {},
   "source": [
    "Так как тип данных в данном случае текстовый, можно посмотреть список уникальных значений столбца."
   ]
  },
  {
   "cell_type": "code",
   "execution_count": 12,
   "metadata": {},
   "outputs": [
    {
     "data": {
      "text/plain": [
       "array(['высшее', 'среднее', 'Среднее', 'СРЕДНЕЕ', 'ВЫСШЕЕ',\n",
       "       'неоконченное высшее', 'начальное', 'Высшее',\n",
       "       'НЕОКОНЧЕННОЕ ВЫСШЕЕ', 'Неоконченное высшее', 'НАЧАЛЬНОЕ',\n",
       "       'Начальное', 'Ученая степень', 'УЧЕНАЯ СТЕПЕНЬ', 'ученая степень'],\n",
       "      dtype=object)"
      ]
     },
     "execution_count": 12,
     "metadata": {},
     "output_type": "execute_result"
    }
   ],
   "source": [
    "data['education'].unique()"
   ]
  },
  {
   "cell_type": "markdown",
   "metadata": {},
   "source": [
    "Видно, что в данном случае наблюдаются неявные дубликаты, когда одни и те же данные записаны в разных стилях. Это также может нам пригодиться при дальнейшей категоризации данных."
   ]
  },
  {
   "cell_type": "markdown",
   "metadata": {},
   "source": [
    "#### Столбец `family_status`"
   ]
  },
  {
   "cell_type": "markdown",
   "metadata": {},
   "source": [
    "Тоже посмотрим список уникальных значений столбца."
   ]
  },
  {
   "cell_type": "code",
   "execution_count": 13,
   "metadata": {},
   "outputs": [
    {
     "data": {
      "text/plain": [
       "array(['женат / замужем', 'гражданский брак', 'вдовец / вдова',\n",
       "       'в разводе', 'Не женат / не замужем'], dtype=object)"
      ]
     },
     "execution_count": 13,
     "metadata": {},
     "output_type": "execute_result"
    }
   ],
   "source": [
    "data['family_status'].unique()"
   ]
  },
  {
   "cell_type": "markdown",
   "metadata": {},
   "source": [
    "В данном столбце никаких неявных дубликатов не наблюдается."
   ]
  },
  {
   "cell_type": "markdown",
   "metadata": {},
   "source": [
    "#### Столбец `gender`"
   ]
  },
  {
   "cell_type": "markdown",
   "metadata": {},
   "source": [
    "Посмотрим список уникальных значений столбца."
   ]
  },
  {
   "cell_type": "code",
   "execution_count": 14,
   "metadata": {},
   "outputs": [
    {
     "data": {
      "text/plain": [
       "array(['F', 'M', 'XNA'], dtype=object)"
      ]
     },
     "execution_count": 14,
     "metadata": {},
     "output_type": "execute_result"
    }
   ],
   "source": [
    "data['gender'].unique()"
   ]
  },
  {
   "cell_type": "markdown",
   "metadata": {},
   "source": [
    "Видно, что есть один выбивающийся пол 'XNA'. Посмотрим строки с ним."
   ]
  },
  {
   "cell_type": "code",
   "execution_count": 15,
   "metadata": {},
   "outputs": [
    {
     "data": {
      "text/html": [
       "<div>\n",
       "<style scoped>\n",
       "    .dataframe tbody tr th:only-of-type {\n",
       "        vertical-align: middle;\n",
       "    }\n",
       "\n",
       "    .dataframe tbody tr th {\n",
       "        vertical-align: top;\n",
       "    }\n",
       "\n",
       "    .dataframe thead th {\n",
       "        text-align: right;\n",
       "    }\n",
       "</style>\n",
       "<table border=\"1\" class=\"dataframe\">\n",
       "  <thead>\n",
       "    <tr style=\"text-align: right;\">\n",
       "      <th></th>\n",
       "      <th>children</th>\n",
       "      <th>days_employed</th>\n",
       "      <th>dob_years</th>\n",
       "      <th>education</th>\n",
       "      <th>education_id</th>\n",
       "      <th>family_status</th>\n",
       "      <th>family_status_id</th>\n",
       "      <th>gender</th>\n",
       "      <th>income_type</th>\n",
       "      <th>debt</th>\n",
       "      <th>total_income</th>\n",
       "      <th>purpose</th>\n",
       "    </tr>\n",
       "  </thead>\n",
       "  <tbody>\n",
       "    <tr>\n",
       "      <td>10701</td>\n",
       "      <td>0</td>\n",
       "      <td>-2358.600502</td>\n",
       "      <td>24</td>\n",
       "      <td>неоконченное высшее</td>\n",
       "      <td>2</td>\n",
       "      <td>гражданский брак</td>\n",
       "      <td>1</td>\n",
       "      <td>XNA</td>\n",
       "      <td>компаньон</td>\n",
       "      <td>0</td>\n",
       "      <td>203905.157261</td>\n",
       "      <td>покупка недвижимости</td>\n",
       "    </tr>\n",
       "  </tbody>\n",
       "</table>\n",
       "</div>"
      ],
      "text/plain": [
       "       children  days_employed  dob_years            education  education_id  \\\n",
       "10701         0   -2358.600502         24  неоконченное высшее             2   \n",
       "\n",
       "          family_status  family_status_id gender income_type  debt  \\\n",
       "10701  гражданский брак                 1    XNA   компаньон     0   \n",
       "\n",
       "        total_income               purpose  \n",
       "10701  203905.157261  покупка недвижимости  "
      ]
     },
     "execution_count": 15,
     "metadata": {},
     "output_type": "execute_result"
    }
   ],
   "source": [
    "data[data['gender'] == 'XNA']"
   ]
  },
  {
   "cell_type": "markdown",
   "metadata": {},
   "source": [
    "Видно, что в данном случае значение только одно, и его можно будет поменять либо на M, либо на F."
   ]
  },
  {
   "cell_type": "markdown",
   "metadata": {},
   "source": [
    "#### Столбец `income_type`"
   ]
  },
  {
   "cell_type": "markdown",
   "metadata": {},
   "source": [
    "Изучим список уникальных значений столбца."
   ]
  },
  {
   "cell_type": "code",
   "execution_count": 16,
   "metadata": {},
   "outputs": [
    {
     "data": {
      "text/plain": [
       "array(['сотрудник', 'пенсионер', 'компаньон', 'госслужащий',\n",
       "       'безработный', 'предприниматель', 'студент', 'в декрете'],\n",
       "      dtype=object)"
      ]
     },
     "execution_count": 16,
     "metadata": {},
     "output_type": "execute_result"
    }
   ],
   "source": [
    "data['income_type'].unique()"
   ]
  },
  {
   "cell_type": "markdown",
   "metadata": {},
   "source": [
    "В данном столбце не наблюдается никаких артефактов."
   ]
  },
  {
   "cell_type": "markdown",
   "metadata": {},
   "source": [
    "#### Столбец `total_income`"
   ]
  },
  {
   "cell_type": "markdown",
   "metadata": {},
   "source": [
    "Изучим столбец с ежемесячным доходом. "
   ]
  },
  {
   "cell_type": "code",
   "execution_count": 17,
   "metadata": {},
   "outputs": [
    {
     "data": {
      "text/plain": [
       "{'whiskers': [<matplotlib.lines.Line2D at 0x7f56d095fe10>,\n",
       "  <matplotlib.lines.Line2D at 0x7f56d0958e50>],\n",
       " 'caps': [<matplotlib.lines.Line2D at 0x7f56d0979750>,\n",
       "  <matplotlib.lines.Line2D at 0x7f56d0979c50>],\n",
       " 'boxes': [<matplotlib.lines.Line2D at 0x7f56d0976050>],\n",
       " 'medians': [<matplotlib.lines.Line2D at 0x7f56d0976d50>],\n",
       " 'fliers': [<matplotlib.lines.Line2D at 0x7f56d09826d0>],\n",
       " 'means': []}"
      ]
     },
     "execution_count": 17,
     "metadata": {},
     "output_type": "execute_result"
    },
    {
     "data": {
      "image/png": "[encoded data removed]",
      "text/plain": [
       "<Figure size 432x288 with 1 Axes>"
      ]
     },
     "metadata": {
      "needs_background": "light"
     },
     "output_type": "display_data"
    }
   ],
   "source": [
    "plt.boxplot(data['total_income'].dropna())"
   ]
  },
  {
   "cell_type": "markdown",
   "metadata": {},
   "source": [
    "Анализ также можно было провести методом `describe`."
   ]
  },
  {
   "cell_type": "code",
   "execution_count": 18,
   "metadata": {},
   "outputs": [
    {
     "data": {
      "text/plain": [
       "count    1.935100e+04\n",
       "mean     1.674223e+05\n",
       "std      1.029716e+05\n",
       "min      2.066726e+04\n",
       "25%      1.030532e+05\n",
       "50%      1.450179e+05\n",
       "75%      2.034351e+05\n",
       "max      2.265604e+06\n",
       "Name: total_income, dtype: float64"
      ]
     },
     "execution_count": 18,
     "metadata": {},
     "output_type": "execute_result"
    }
   ],
   "source": [
    "data.describe()['total_income']"
   ]
  },
  {
   "cell_type": "markdown",
   "metadata": {},
   "source": [
    "Видно, что в данных присутствует небольшое количество людей с доходом 0,5 - 2,5 млн. рублей. В целом, эти цифры вполне реальны."
   ]
  },
  {
   "cell_type": "markdown",
   "metadata": {},
   "source": [
    "#### Столбец `purpose`"
   ]
  },
  {
   "cell_type": "markdown",
   "metadata": {},
   "source": [
    "Изучим список уникальных значений этого столбца. "
   ]
  },
  {
   "cell_type": "code",
   "execution_count": 19,
   "metadata": {},
   "outputs": [
    {
     "data": {
      "text/plain": [
       "array(['покупка жилья', 'приобретение автомобиля',\n",
       "       'дополнительное образование', 'сыграть свадьбу',\n",
       "       'операции с жильем', 'образование', 'на проведение свадьбы',\n",
       "       'покупка жилья для семьи', 'покупка недвижимости',\n",
       "       'покупка коммерческой недвижимости', 'покупка жилой недвижимости',\n",
       "       'строительство собственной недвижимости', 'недвижимость',\n",
       "       'строительство недвижимости', 'на покупку подержанного автомобиля',\n",
       "       'на покупку своего автомобиля',\n",
       "       'операции с коммерческой недвижимостью',\n",
       "       'строительство жилой недвижимости', 'жилье',\n",
       "       'операции со своей недвижимостью', 'автомобили',\n",
       "       'заняться образованием', 'сделка с подержанным автомобилем',\n",
       "       'получение образования', 'автомобиль', 'свадьба',\n",
       "       'получение дополнительного образования', 'покупка своего жилья',\n",
       "       'операции с недвижимостью', 'получение высшего образования',\n",
       "       'свой автомобиль', 'сделка с автомобилем',\n",
       "       'профильное образование', 'высшее образование',\n",
       "       'покупка жилья для сдачи', 'на покупку автомобиля', 'ремонт жилью',\n",
       "       'заняться высшим образованием'], dtype=object)"
      ]
     },
     "execution_count": 19,
     "metadata": {},
     "output_type": "execute_result"
    }
   ],
   "source": [
    "data['purpose'].unique()"
   ]
  },
  {
   "cell_type": "markdown",
   "metadata": {},
   "source": [
    "На первый взгляд кажется, что целей получения кредитов много, но видно, что в их можно разделить на несколько категорий, образование/недвижимость/автомобиль/свадьба."
   ]
  },
  {
   "cell_type": "markdown",
   "metadata": {},
   "source": [
    "### Выводы\n"
   ]
  },
  {
   "cell_type": "markdown",
   "metadata": {},
   "source": [
    "В каждой строке таблицы — основные данные о потенциальном заемщике, на основе которых заказчик должен решить, давать клиенту кредит или нет.\n",
    "\n",
    "Мы прошлись по каждому столбцу и изучили разбросы данных в нем. Некоторые из данных могут повлиять на дальнейшую работу с данными, некоторые - нет. Однако, в любом случае необходимо держать в голове наличие тех или иных артефактов в столбцах."
   ]
  },
  {
   "cell_type": "markdown",
   "metadata": {},
   "source": [
    "## Предобработка данных"
   ]
  },
  {
   "cell_type": "markdown",
   "metadata": {},
   "source": [
    "### Обработка пропусков"
   ]
  },
  {
   "cell_type": "markdown",
   "metadata": {},
   "source": [
    "Сначала посмотрим, сколько в каждом столбце пропущенных значений."
   ]
  },
  {
   "cell_type": "code",
   "execution_count": 20,
   "metadata": {},
   "outputs": [
    {
     "data": {
      "text/plain": [
       "children               0\n",
       "days_employed       2174\n",
       "dob_years              0\n",
       "education              0\n",
       "education_id           0\n",
       "family_status          0\n",
       "family_status_id       0\n",
       "gender                 0\n",
       "income_type            0\n",
       "debt                   0\n",
       "total_income        2174\n",
       "purpose                0\n",
       "dtype: int64"
      ]
     },
     "execution_count": 20,
     "metadata": {},
     "output_type": "execute_result"
    }
   ],
   "source": [
    "data.isna().sum()"
   ]
  },
  {
   "cell_type": "markdown",
   "metadata": {},
   "source": [
    "Видно, что в столбцах, соответствующих стажу в днях `days_employed` и ежемесячному доходу `total_income`, одинаковое количество пропусков - `2174`.\n",
    "\n",
    "Проверим, одинаковые ли это пропуски. Для это посчитаем количество строк, в которых одновременно в двух этих столбцах нет значений."
   ]
  },
  {
   "cell_type": "code",
   "execution_count": 21,
   "metadata": {},
   "outputs": [
    {
     "data": {
      "text/plain": [
       "2174"
      ]
     },
     "execution_count": 21,
     "metadata": {},
     "output_type": "execute_result"
    }
   ],
   "source": [
    "data[data['days_employed'].isna() & data['total_income'].isna()].shape[0]"
   ]
  },
  {
   "cell_type": "markdown",
   "metadata": {},
   "source": [
    "Видно, что мы получили то же самое число - `2174`. Значит, на каждое отсутствующее значение в столбце `days_employed` пропущено значение в столбце `total_income`. \n",
    "\n",
    "Выдвинем предположение, что это может быть связано с типом занятости. Например, госслужащим нельзя говорить свой доход, а у студентов пока нет стажа. Посчитаем частоту каждого типа занятости в строках с пропущенными значениями. "
   ]
  },
  {
   "cell_type": "code",
   "execution_count": 22,
   "metadata": {},
   "outputs": [
    {
     "data": {
      "text/plain": [
       "сотрудник          1105\n",
       "компаньон           508\n",
       "пенсионер           413\n",
       "госслужащий         147\n",
       "предприниматель       1\n",
       "Name: income_type, dtype: int64"
      ]
     },
     "execution_count": 22,
     "metadata": {},
     "output_type": "execute_result"
    }
   ],
   "source": [
    "data[data['days_employed'].isna() & data['total_income'].isna()]['income_type'].value_counts()"
   ]
  },
  {
   "cell_type": "markdown",
   "metadata": {},
   "source": [
    "Сравним с частотой каждого типа занятости во всем датасете. "
   ]
  },
  {
   "cell_type": "code",
   "execution_count": 23,
   "metadata": {},
   "outputs": [
    {
     "data": {
      "text/plain": [
       "сотрудник          11119\n",
       "компаньон           5085\n",
       "пенсионер           3856\n",
       "госслужащий         1459\n",
       "предприниматель        2\n",
       "безработный            2\n",
       "студент                1\n",
       "в декрете              1\n",
       "Name: income_type, dtype: int64"
      ]
     },
     "execution_count": 23,
     "metadata": {},
     "output_type": "execute_result"
    }
   ],
   "source": [
    "data['income_type'].value_counts()"
   ]
  },
  {
   "cell_type": "markdown",
   "metadata": {},
   "source": [
    "Видно, что значения для самых популярных типов занятости отличаются не сильно. Поэтому можно сделать вывод, что от типа занятости отсутствие значений не зависит.\n",
    "\n",
    "Второй возможной причиной присутствия пропусков может быть то, что человек при заполнении заявки на кредит указывает, что у него отсутствует ежемесячный доход, и в системе ему сразу же присваивается отсутствия стажа (может быть также и наоборот). В этом есть логика, так как банк не будет давать кредит человеку без дохода, ведь его можно посчитать безработным.\n",
    "\n",
    "Количество строк с пропущенными данными составляет около `10%`. В целом, эти данные можно удалить, но можно и оставить, так как данные об уровне дохода фигурируют только в одном из вопросов, на которые заказчику необходим ответ. Эти пропуски можно заполнить медианными значениями для категорий, в которые попадают те или иные заемщики."
   ]
  },
  {
   "cell_type": "markdown",
   "metadata": {},
   "source": [
    "Однако, для начала необходимо избавиться от следующих артефактов в данных:\n",
    "1. Разный стиль написания образования.\n",
    "2. Нулевой возраст."
   ]
  },
  {
   "cell_type": "markdown",
   "metadata": {},
   "source": [
    "Приведем значения в столбце с образованием к единому стилю.\n",
    "\n",
    "Проверим список уникальных значений столбца."
   ]
  },
  {
   "cell_type": "code",
   "execution_count": 24,
   "metadata": {},
   "outputs": [
    {
     "data": {
      "text/plain": [
       "array(['высшее', 'среднее', 'Среднее', 'СРЕДНЕЕ', 'ВЫСШЕЕ',\n",
       "       'неоконченное высшее', 'начальное', 'Высшее',\n",
       "       'НЕОКОНЧЕННОЕ ВЫСШЕЕ', 'Неоконченное высшее', 'НАЧАЛЬНОЕ',\n",
       "       'Начальное', 'Ученая степень', 'УЧЕНАЯ СТЕПЕНЬ', 'ученая степень'],\n",
       "      dtype=object)"
      ]
     },
     "execution_count": 24,
     "metadata": {},
     "output_type": "execute_result"
    }
   ],
   "source": [
    "data['education'].unique()"
   ]
  },
  {
   "cell_type": "markdown",
   "metadata": {},
   "source": [
    "Приведем значения к одному регистру."
   ]
  },
  {
   "cell_type": "code",
   "execution_count": 25,
   "metadata": {},
   "outputs": [],
   "source": [
    "data['education'] = data['education'].str.lower()"
   ]
  },
  {
   "cell_type": "markdown",
   "metadata": {},
   "source": [
    "Проверим уникальные значения еще раз."
   ]
  },
  {
   "cell_type": "code",
   "execution_count": 26,
   "metadata": {},
   "outputs": [
    {
     "data": {
      "text/plain": [
       "array(['высшее', 'среднее', 'неоконченное высшее', 'начальное',\n",
       "       'ученая степень'], dtype=object)"
      ]
     },
     "execution_count": 26,
     "metadata": {},
     "output_type": "execute_result"
    }
   ],
   "source": [
    "data['education'].unique()"
   ]
  },
  {
   "cell_type": "markdown",
   "metadata": {},
   "source": [
    "Теперь проверим, какое количество строк содержит нулевой возраст."
   ]
  },
  {
   "cell_type": "code",
   "execution_count": 27,
   "metadata": {},
   "outputs": [
    {
     "data": {
      "text/plain": [
       "children            101\n",
       "days_employed        91\n",
       "dob_years           101\n",
       "education           101\n",
       "education_id        101\n",
       "family_status       101\n",
       "family_status_id    101\n",
       "gender              101\n",
       "income_type         101\n",
       "debt                101\n",
       "total_income         91\n",
       "purpose             101\n",
       "dtype: int64"
      ]
     },
     "execution_count": 27,
     "metadata": {},
     "output_type": "execute_result"
    }
   ],
   "source": [
    "data[data['dob_years'] == 0].count()"
   ]
  },
  {
   "cell_type": "markdown",
   "metadata": {},
   "source": [
    "Всего 101 строка, то есть лишь 0,5 % всех данных. Но все же предлагается их заменить на медианные значения возраста в зависимости от типа занятости, образования и семейного статуса.\n",
    "\n",
    "Для этого создадим сводную таблицу."
   ]
  },
  {
   "cell_type": "code",
   "execution_count": 28,
   "metadata": {},
   "outputs": [],
   "source": [
    "pivot_table_age = data.pivot_table(index=['education','family_status'], columns='income_type',\n",
    "                                   values='dob_years', aggfunc='median')"
   ]
  },
  {
   "cell_type": "markdown",
   "metadata": {},
   "source": [
    "Выведем таблицу на экран."
   ]
  },
  {
   "cell_type": "code",
   "execution_count": 29,
   "metadata": {},
   "outputs": [
    {
     "data": {
      "text/html": [
       "<div>\n",
       "<style scoped>\n",
       "    .dataframe tbody tr th:only-of-type {\n",
       "        vertical-align: middle;\n",
       "    }\n",
       "\n",
       "    .dataframe tbody tr th {\n",
       "        vertical-align: top;\n",
       "    }\n",
       "\n",
       "    .dataframe thead th {\n",
       "        text-align: right;\n",
       "    }\n",
       "</style>\n",
       "<table border=\"1\" class=\"dataframe\">\n",
       "  <thead>\n",
       "    <tr style=\"text-align: right;\">\n",
       "      <th></th>\n",
       "      <th>income_type</th>\n",
       "      <th>безработный</th>\n",
       "      <th>в декрете</th>\n",
       "      <th>госслужащий</th>\n",
       "      <th>компаньон</th>\n",
       "      <th>пенсионер</th>\n",
       "      <th>предприниматель</th>\n",
       "      <th>сотрудник</th>\n",
       "      <th>студент</th>\n",
       "    </tr>\n",
       "    <tr>\n",
       "      <th>education</th>\n",
       "      <th>family_status</th>\n",
       "      <th></th>\n",
       "      <th></th>\n",
       "      <th></th>\n",
       "      <th></th>\n",
       "      <th></th>\n",
       "      <th></th>\n",
       "      <th></th>\n",
       "      <th></th>\n",
       "    </tr>\n",
       "  </thead>\n",
       "  <tbody>\n",
       "    <tr>\n",
       "      <td rowspan=\"5\" valign=\"top\">высшее</td>\n",
       "      <td>Не женат / не замужем</td>\n",
       "      <td>NaN</td>\n",
       "      <td>NaN</td>\n",
       "      <td>34.0</td>\n",
       "      <td>32.0</td>\n",
       "      <td>60.0</td>\n",
       "      <td>NaN</td>\n",
       "      <td>31.0</td>\n",
       "      <td>22.0</td>\n",
       "    </tr>\n",
       "    <tr>\n",
       "      <td>в разводе</td>\n",
       "      <td>NaN</td>\n",
       "      <td>NaN</td>\n",
       "      <td>36.0</td>\n",
       "      <td>42.0</td>\n",
       "      <td>59.0</td>\n",
       "      <td>NaN</td>\n",
       "      <td>40.0</td>\n",
       "      <td>NaN</td>\n",
       "    </tr>\n",
       "    <tr>\n",
       "      <td>вдовец / вдова</td>\n",
       "      <td>NaN</td>\n",
       "      <td>NaN</td>\n",
       "      <td>53.5</td>\n",
       "      <td>53.0</td>\n",
       "      <td>60.0</td>\n",
       "      <td>NaN</td>\n",
       "      <td>50.0</td>\n",
       "      <td>NaN</td>\n",
       "    </tr>\n",
       "    <tr>\n",
       "      <td>гражданский брак</td>\n",
       "      <td>45.0</td>\n",
       "      <td>NaN</td>\n",
       "      <td>40.0</td>\n",
       "      <td>36.0</td>\n",
       "      <td>59.0</td>\n",
       "      <td>27.0</td>\n",
       "      <td>37.0</td>\n",
       "      <td>NaN</td>\n",
       "    </tr>\n",
       "    <tr>\n",
       "      <td>женат / замужем</td>\n",
       "      <td>NaN</td>\n",
       "      <td>NaN</td>\n",
       "      <td>37.0</td>\n",
       "      <td>38.0</td>\n",
       "      <td>59.0</td>\n",
       "      <td>58.0</td>\n",
       "      <td>38.0</td>\n",
       "      <td>NaN</td>\n",
       "    </tr>\n",
       "    <tr>\n",
       "      <td rowspan=\"5\" valign=\"top\">начальное</td>\n",
       "      <td>Не женат / не замужем</td>\n",
       "      <td>NaN</td>\n",
       "      <td>NaN</td>\n",
       "      <td>36.0</td>\n",
       "      <td>35.0</td>\n",
       "      <td>62.0</td>\n",
       "      <td>NaN</td>\n",
       "      <td>34.0</td>\n",
       "      <td>NaN</td>\n",
       "    </tr>\n",
       "    <tr>\n",
       "      <td>в разводе</td>\n",
       "      <td>NaN</td>\n",
       "      <td>NaN</td>\n",
       "      <td>NaN</td>\n",
       "      <td>43.5</td>\n",
       "      <td>63.0</td>\n",
       "      <td>NaN</td>\n",
       "      <td>41.0</td>\n",
       "      <td>NaN</td>\n",
       "    </tr>\n",
       "    <tr>\n",
       "      <td>вдовец / вдова</td>\n",
       "      <td>NaN</td>\n",
       "      <td>NaN</td>\n",
       "      <td>NaN</td>\n",
       "      <td>NaN</td>\n",
       "      <td>61.0</td>\n",
       "      <td>NaN</td>\n",
       "      <td>62.5</td>\n",
       "      <td>NaN</td>\n",
       "    </tr>\n",
       "    <tr>\n",
       "      <td>гражданский брак</td>\n",
       "      <td>NaN</td>\n",
       "      <td>NaN</td>\n",
       "      <td>50.5</td>\n",
       "      <td>37.0</td>\n",
       "      <td>60.5</td>\n",
       "      <td>NaN</td>\n",
       "      <td>39.0</td>\n",
       "      <td>NaN</td>\n",
       "    </tr>\n",
       "    <tr>\n",
       "      <td>женат / замужем</td>\n",
       "      <td>NaN</td>\n",
       "      <td>NaN</td>\n",
       "      <td>48.0</td>\n",
       "      <td>37.0</td>\n",
       "      <td>62.0</td>\n",
       "      <td>NaN</td>\n",
       "      <td>39.0</td>\n",
       "      <td>NaN</td>\n",
       "    </tr>\n",
       "    <tr>\n",
       "      <td rowspan=\"5\" valign=\"top\">неоконченное высшее</td>\n",
       "      <td>Не женат / не замужем</td>\n",
       "      <td>NaN</td>\n",
       "      <td>NaN</td>\n",
       "      <td>27.0</td>\n",
       "      <td>26.0</td>\n",
       "      <td>64.0</td>\n",
       "      <td>NaN</td>\n",
       "      <td>26.0</td>\n",
       "      <td>NaN</td>\n",
       "    </tr>\n",
       "    <tr>\n",
       "      <td>в разводе</td>\n",
       "      <td>NaN</td>\n",
       "      <td>NaN</td>\n",
       "      <td>NaN</td>\n",
       "      <td>37.0</td>\n",
       "      <td>57.0</td>\n",
       "      <td>NaN</td>\n",
       "      <td>43.0</td>\n",
       "      <td>NaN</td>\n",
       "    </tr>\n",
       "    <tr>\n",
       "      <td>вдовец / вдова</td>\n",
       "      <td>NaN</td>\n",
       "      <td>NaN</td>\n",
       "      <td>NaN</td>\n",
       "      <td>52.0</td>\n",
       "      <td>59.0</td>\n",
       "      <td>NaN</td>\n",
       "      <td>49.5</td>\n",
       "      <td>NaN</td>\n",
       "    </tr>\n",
       "    <tr>\n",
       "      <td>гражданский брак</td>\n",
       "      <td>NaN</td>\n",
       "      <td>NaN</td>\n",
       "      <td>24.0</td>\n",
       "      <td>29.5</td>\n",
       "      <td>58.0</td>\n",
       "      <td>NaN</td>\n",
       "      <td>31.0</td>\n",
       "      <td>NaN</td>\n",
       "    </tr>\n",
       "    <tr>\n",
       "      <td>женат / замужем</td>\n",
       "      <td>NaN</td>\n",
       "      <td>NaN</td>\n",
       "      <td>34.0</td>\n",
       "      <td>34.0</td>\n",
       "      <td>59.0</td>\n",
       "      <td>NaN</td>\n",
       "      <td>33.0</td>\n",
       "      <td>NaN</td>\n",
       "    </tr>\n",
       "    <tr>\n",
       "      <td rowspan=\"5\" valign=\"top\">среднее</td>\n",
       "      <td>Не женат / не замужем</td>\n",
       "      <td>NaN</td>\n",
       "      <td>NaN</td>\n",
       "      <td>37.5</td>\n",
       "      <td>35.0</td>\n",
       "      <td>60.0</td>\n",
       "      <td>NaN</td>\n",
       "      <td>35.0</td>\n",
       "      <td>NaN</td>\n",
       "    </tr>\n",
       "    <tr>\n",
       "      <td>в разводе</td>\n",
       "      <td>NaN</td>\n",
       "      <td>NaN</td>\n",
       "      <td>44.0</td>\n",
       "      <td>44.0</td>\n",
       "      <td>60.0</td>\n",
       "      <td>NaN</td>\n",
       "      <td>44.0</td>\n",
       "      <td>NaN</td>\n",
       "    </tr>\n",
       "    <tr>\n",
       "      <td>вдовец / вдова</td>\n",
       "      <td>NaN</td>\n",
       "      <td>NaN</td>\n",
       "      <td>52.0</td>\n",
       "      <td>53.0</td>\n",
       "      <td>61.0</td>\n",
       "      <td>NaN</td>\n",
       "      <td>51.0</td>\n",
       "      <td>NaN</td>\n",
       "    </tr>\n",
       "    <tr>\n",
       "      <td>гражданский брак</td>\n",
       "      <td>NaN</td>\n",
       "      <td>NaN</td>\n",
       "      <td>42.0</td>\n",
       "      <td>39.5</td>\n",
       "      <td>59.0</td>\n",
       "      <td>NaN</td>\n",
       "      <td>39.0</td>\n",
       "      <td>NaN</td>\n",
       "    </tr>\n",
       "    <tr>\n",
       "      <td>женат / замужем</td>\n",
       "      <td>31.0</td>\n",
       "      <td>39.0</td>\n",
       "      <td>42.0</td>\n",
       "      <td>41.0</td>\n",
       "      <td>59.0</td>\n",
       "      <td>NaN</td>\n",
       "      <td>41.0</td>\n",
       "      <td>NaN</td>\n",
       "    </tr>\n",
       "    <tr>\n",
       "      <td rowspan=\"3\" valign=\"top\">ученая степень</td>\n",
       "      <td>Не женат / не замужем</td>\n",
       "      <td>NaN</td>\n",
       "      <td>NaN</td>\n",
       "      <td>NaN</td>\n",
       "      <td>NaN</td>\n",
       "      <td>NaN</td>\n",
       "      <td>NaN</td>\n",
       "      <td>45.0</td>\n",
       "      <td>NaN</td>\n",
       "    </tr>\n",
       "    <tr>\n",
       "      <td>в разводе</td>\n",
       "      <td>NaN</td>\n",
       "      <td>NaN</td>\n",
       "      <td>NaN</td>\n",
       "      <td>NaN</td>\n",
       "      <td>NaN</td>\n",
       "      <td>NaN</td>\n",
       "      <td>37.0</td>\n",
       "      <td>NaN</td>\n",
       "    </tr>\n",
       "    <tr>\n",
       "      <td>женат / замужем</td>\n",
       "      <td>NaN</td>\n",
       "      <td>NaN</td>\n",
       "      <td>36.0</td>\n",
       "      <td>NaN</td>\n",
       "      <td>65.5</td>\n",
       "      <td>NaN</td>\n",
       "      <td>58.0</td>\n",
       "      <td>NaN</td>\n",
       "    </tr>\n",
       "  </tbody>\n",
       "</table>\n",
       "</div>"
      ],
      "text/plain": [
       "income_type                                безработный  в декрете  \\\n",
       "education           family_status                                   \n",
       "высшее              Не женат / не замужем          NaN        NaN   \n",
       "                    в разводе                      NaN        NaN   \n",
       "                    вдовец / вдова                 NaN        NaN   \n",
       "                    гражданский брак              45.0        NaN   \n",
       "                    женат / замужем                NaN        NaN   \n",
       "начальное           Не женат / не замужем          NaN        NaN   \n",
       "                    в разводе                      NaN        NaN   \n",
       "                    вдовец / вдова                 NaN        NaN   \n",
       "                    гражданский брак               NaN        NaN   \n",
       "                    женат / замужем                NaN        NaN   \n",
       "неоконченное высшее Не женат / не замужем          NaN        NaN   \n",
       "                    в разводе                      NaN        NaN   \n",
       "                    вдовец / вдова                 NaN        NaN   \n",
       "                    гражданский брак               NaN        NaN   \n",
       "                    женат / замужем                NaN        NaN   \n",
       "среднее             Не женат / не замужем          NaN        NaN   \n",
       "                    в разводе                      NaN        NaN   \n",
       "                    вдовец / вдова                 NaN        NaN   \n",
       "                    гражданский брак               NaN        NaN   \n",
       "                    женат / замужем               31.0       39.0   \n",
       "ученая степень      Не женат / не замужем          NaN        NaN   \n",
       "                    в разводе                      NaN        NaN   \n",
       "                    женат / замужем                NaN        NaN   \n",
       "\n",
       "income_type                                госслужащий  компаньон  пенсионер  \\\n",
       "education           family_status                                              \n",
       "высшее              Не женат / не замужем         34.0       32.0       60.0   \n",
       "                    в разводе                     36.0       42.0       59.0   \n",
       "                    вдовец / вдова                53.5       53.0       60.0   \n",
       "                    гражданский брак              40.0       36.0       59.0   \n",
       "                    женат / замужем               37.0       38.0       59.0   \n",
       "начальное           Не женат / не замужем         36.0       35.0       62.0   \n",
       "                    в разводе                      NaN       43.5       63.0   \n",
       "                    вдовец / вдова                 NaN        NaN       61.0   \n",
       "                    гражданский брак              50.5       37.0       60.5   \n",
       "                    женат / замужем               48.0       37.0       62.0   \n",
       "неоконченное высшее Не женат / не замужем         27.0       26.0       64.0   \n",
       "                    в разводе                      NaN       37.0       57.0   \n",
       "                    вдовец / вдова                 NaN       52.0       59.0   \n",
       "                    гражданский брак              24.0       29.5       58.0   \n",
       "                    женат / замужем               34.0       34.0       59.0   \n",
       "среднее             Не женат / не замужем         37.5       35.0       60.0   \n",
       "                    в разводе                     44.0       44.0       60.0   \n",
       "                    вдовец / вдова                52.0       53.0       61.0   \n",
       "                    гражданский брак              42.0       39.5       59.0   \n",
       "                    женат / замужем               42.0       41.0       59.0   \n",
       "ученая степень      Не женат / не замужем          NaN        NaN        NaN   \n",
       "                    в разводе                      NaN        NaN        NaN   \n",
       "                    женат / замужем               36.0        NaN       65.5   \n",
       "\n",
       "income_type                                предприниматель  сотрудник  студент  \n",
       "education           family_status                                               \n",
       "высшее              Не женат / не замужем              NaN       31.0     22.0  \n",
       "                    в разводе                          NaN       40.0      NaN  \n",
       "                    вдовец / вдова                     NaN       50.0      NaN  \n",
       "                    гражданский брак                  27.0       37.0      NaN  \n",
       "                    женат / замужем                   58.0       38.0      NaN  \n",
       "начальное           Не женат / не замужем              NaN       34.0      NaN  \n",
       "                    в разводе                          NaN       41.0      NaN  \n",
       "                    вдовец / вдова                     NaN       62.5      NaN  \n",
       "                    гражданский брак                   NaN       39.0      NaN  \n",
       "                    женат / замужем                    NaN       39.0      NaN  \n",
       "неоконченное высшее Не женат / не замужем              NaN       26.0      NaN  \n",
       "                    в разводе                          NaN       43.0      NaN  \n",
       "                    вдовец / вдова                     NaN       49.5      NaN  \n",
       "                    гражданский брак                   NaN       31.0      NaN  \n",
       "                    женат / замужем                    NaN       33.0      NaN  \n",
       "среднее             Не женат / не замужем              NaN       35.0      NaN  \n",
       "                    в разводе                          NaN       44.0      NaN  \n",
       "                    вдовец / вдова                     NaN       51.0      NaN  \n",
       "                    гражданский брак                   NaN       39.0      NaN  \n",
       "                    женат / замужем                    NaN       41.0      NaN  \n",
       "ученая степень      Не женат / не замужем              NaN       45.0      NaN  \n",
       "                    в разводе                          NaN       37.0      NaN  \n",
       "                    женат / замужем                    NaN       58.0      NaN  "
      ]
     },
     "execution_count": 29,
     "metadata": {},
     "output_type": "execute_result"
    }
   ],
   "source": [
    "pivot_table_age"
   ]
  },
  {
   "cell_type": "markdown",
   "metadata": {},
   "source": [
    "Видно, что в данном случае много столбцов с отсутствующим значением. Чтобы от них избавиться, попробуем немного расширить категории. Для этого просто найдем медианы в зависимости от типа занятости."
   ]
  },
  {
   "cell_type": "code",
   "execution_count": 30,
   "metadata": {},
   "outputs": [],
   "source": [
    "grouped_table_income_type = data.groupby('income_type')['dob_years'].median()"
   ]
  },
  {
   "cell_type": "code",
   "execution_count": 31,
   "metadata": {},
   "outputs": [
    {
     "data": {
      "text/plain": [
       "income_type\n",
       "безработный        38.0\n",
       "в декрете          39.0\n",
       "госслужащий        40.0\n",
       "компаньон          39.0\n",
       "пенсионер          60.0\n",
       "предприниматель    42.5\n",
       "сотрудник          39.0\n",
       "студент            22.0\n",
       "Name: dob_years, dtype: float64"
      ]
     },
     "execution_count": 31,
     "metadata": {},
     "output_type": "execute_result"
    }
   ],
   "source": [
    "grouped_table_income_type"
   ]
  },
  {
   "cell_type": "code",
   "execution_count": 32,
   "metadata": {},
   "outputs": [],
   "source": [
    "def fill_zero_age(row):\n",
    "    try:\n",
    "        return grouped_table_income_type[row['income_type']]\n",
    "    except:\n",
    "        return 'Что-то не то, изучите данные'"
   ]
  },
  {
   "cell_type": "markdown",
   "metadata": {},
   "source": [
    "Проверим работоспособность функции на одной из строк датасета, например, первой."
   ]
  },
  {
   "cell_type": "code",
   "execution_count": 33,
   "metadata": {},
   "outputs": [
    {
     "data": {
      "text/plain": [
       "39.0"
      ]
     },
     "execution_count": 33,
     "metadata": {},
     "output_type": "execute_result"
    }
   ],
   "source": [
    "fill_zero_age(data.loc[0])"
   ]
  },
  {
   "cell_type": "markdown",
   "metadata": {},
   "source": [
    "Похоже, что функция работает, теперь попробуем заменить нулевые значения."
   ]
  },
  {
   "cell_type": "code",
   "execution_count": 34,
   "metadata": {},
   "outputs": [],
   "source": [
    "for i in range(len(data['dob_years'])):\n",
    "    if data.loc[i,'dob_years'] == 0:\n",
    "        data.loc[i,'dob_years'] = grouped_table_income_type[data.loc[i, 'income_type']]"
   ]
  },
  {
   "cell_type": "markdown",
   "metadata": {},
   "source": [
    "Проверим, есть ли в датасете нулевой возраст."
   ]
  },
  {
   "cell_type": "code",
   "execution_count": 35,
   "metadata": {},
   "outputs": [
    {
     "data": {
      "text/plain": [
       "children            0\n",
       "days_employed       0\n",
       "dob_years           0\n",
       "education           0\n",
       "education_id        0\n",
       "family_status       0\n",
       "family_status_id    0\n",
       "gender              0\n",
       "income_type         0\n",
       "debt                0\n",
       "total_income        0\n",
       "purpose             0\n",
       "dtype: int64"
      ]
     },
     "execution_count": 35,
     "metadata": {},
     "output_type": "execute_result"
    }
   ],
   "source": [
    "data[data['dob_years']==0].count()"
   ]
  },
  {
   "cell_type": "markdown",
   "metadata": {},
   "source": [
    "Теперь таких строк нет, можно продолжить.\n",
    "\n",
    "Теперь необходимо заполнить пропуски в значениях ежемесячного дохода.\n",
    "Для этого посчитаем медианные зарплаты для различных возрастных групп. Разделим группы на: до 30, от 30 до 65, от 60."
   ]
  },
  {
   "cell_type": "code",
   "execution_count": 36,
   "metadata": {},
   "outputs": [],
   "source": [
    "def age_group(age):\n",
    "    if age <= 30:\n",
    "        return 1\n",
    "    if age <= 65:\n",
    "        return 2\n",
    "    return 3 "
   ]
  },
  {
   "cell_type": "markdown",
   "metadata": {},
   "source": [
    "Теперь создадим отдельный столбец с возрастными группами."
   ]
  },
  {
   "cell_type": "code",
   "execution_count": 37,
   "metadata": {},
   "outputs": [],
   "source": [
    "data['age_group'] = data['dob_years'].apply(age_group)"
   ]
  },
  {
   "cell_type": "markdown",
   "metadata": {},
   "source": [
    "Проверим наличие столбца в датасете."
   ]
  },
  {
   "cell_type": "code",
   "execution_count": 38,
   "metadata": {},
   "outputs": [
    {
     "data": {
      "text/html": [
       "<div>\n",
       "<style scoped>\n",
       "    .dataframe tbody tr th:only-of-type {\n",
       "        vertical-align: middle;\n",
       "    }\n",
       "\n",
       "    .dataframe tbody tr th {\n",
       "        vertical-align: top;\n",
       "    }\n",
       "\n",
       "    .dataframe thead th {\n",
       "        text-align: right;\n",
       "    }\n",
       "</style>\n",
       "<table border=\"1\" class=\"dataframe\">\n",
       "  <thead>\n",
       "    <tr style=\"text-align: right;\">\n",
       "      <th></th>\n",
       "      <th>dob_years</th>\n",
       "      <th>age_group</th>\n",
       "    </tr>\n",
       "  </thead>\n",
       "  <tbody>\n",
       "    <tr>\n",
       "      <td>0</td>\n",
       "      <td>42.0</td>\n",
       "      <td>2</td>\n",
       "    </tr>\n",
       "    <tr>\n",
       "      <td>1</td>\n",
       "      <td>36.0</td>\n",
       "      <td>2</td>\n",
       "    </tr>\n",
       "    <tr>\n",
       "      <td>2</td>\n",
       "      <td>33.0</td>\n",
       "      <td>2</td>\n",
       "    </tr>\n",
       "    <tr>\n",
       "      <td>3</td>\n",
       "      <td>32.0</td>\n",
       "      <td>2</td>\n",
       "    </tr>\n",
       "    <tr>\n",
       "      <td>4</td>\n",
       "      <td>53.0</td>\n",
       "      <td>2</td>\n",
       "    </tr>\n",
       "    <tr>\n",
       "      <td>5</td>\n",
       "      <td>27.0</td>\n",
       "      <td>1</td>\n",
       "    </tr>\n",
       "    <tr>\n",
       "      <td>6</td>\n",
       "      <td>43.0</td>\n",
       "      <td>2</td>\n",
       "    </tr>\n",
       "    <tr>\n",
       "      <td>7</td>\n",
       "      <td>50.0</td>\n",
       "      <td>2</td>\n",
       "    </tr>\n",
       "    <tr>\n",
       "      <td>8</td>\n",
       "      <td>35.0</td>\n",
       "      <td>2</td>\n",
       "    </tr>\n",
       "    <tr>\n",
       "      <td>9</td>\n",
       "      <td>41.0</td>\n",
       "      <td>2</td>\n",
       "    </tr>\n",
       "  </tbody>\n",
       "</table>\n",
       "</div>"
      ],
      "text/plain": [
       "   dob_years  age_group\n",
       "0       42.0          2\n",
       "1       36.0          2\n",
       "2       33.0          2\n",
       "3       32.0          2\n",
       "4       53.0          2\n",
       "5       27.0          1\n",
       "6       43.0          2\n",
       "7       50.0          2\n",
       "8       35.0          2\n",
       "9       41.0          2"
      ]
     },
     "execution_count": 38,
     "metadata": {},
     "output_type": "execute_result"
    }
   ],
   "source": [
    "data[['dob_years','age_group']].head(10)"
   ]
  },
  {
   "cell_type": "markdown",
   "metadata": {},
   "source": [
    "Теперь создадим сводную таблицу."
   ]
  },
  {
   "cell_type": "code",
   "execution_count": 39,
   "metadata": {},
   "outputs": [],
   "source": [
    "pivot_table_income = data.pivot_table(index=['education', 'age_group'], columns='income_type', \n",
    "                                      values='total_income', aggfunc='median')"
   ]
  },
  {
   "cell_type": "markdown",
   "metadata": {},
   "source": [
    "Выведем таблицу на экран."
   ]
  },
  {
   "cell_type": "code",
   "execution_count": 40,
   "metadata": {},
   "outputs": [
    {
     "data": {
      "text/html": [
       "<div>\n",
       "<style scoped>\n",
       "    .dataframe tbody tr th:only-of-type {\n",
       "        vertical-align: middle;\n",
       "    }\n",
       "\n",
       "    .dataframe tbody tr th {\n",
       "        vertical-align: top;\n",
       "    }\n",
       "\n",
       "    .dataframe thead th {\n",
       "        text-align: right;\n",
       "    }\n",
       "</style>\n",
       "<table border=\"1\" class=\"dataframe\">\n",
       "  <thead>\n",
       "    <tr style=\"text-align: right;\">\n",
       "      <th></th>\n",
       "      <th>income_type</th>\n",
       "      <th>безработный</th>\n",
       "      <th>в декрете</th>\n",
       "      <th>госслужащий</th>\n",
       "      <th>компаньон</th>\n",
       "      <th>пенсионер</th>\n",
       "      <th>предприниматель</th>\n",
       "      <th>сотрудник</th>\n",
       "      <th>студент</th>\n",
       "    </tr>\n",
       "    <tr>\n",
       "      <th>education</th>\n",
       "      <th>age_group</th>\n",
       "      <th></th>\n",
       "      <th></th>\n",
       "      <th></th>\n",
       "      <th></th>\n",
       "      <th></th>\n",
       "      <th></th>\n",
       "      <th></th>\n",
       "      <th></th>\n",
       "    </tr>\n",
       "  </thead>\n",
       "  <tbody>\n",
       "    <tr>\n",
       "      <td rowspan=\"3\" valign=\"top\">высшее</td>\n",
       "      <td>1</td>\n",
       "      <td>NaN</td>\n",
       "      <td>NaN</td>\n",
       "      <td>153859.652436</td>\n",
       "      <td>177744.178111</td>\n",
       "      <td>214963.301941</td>\n",
       "      <td>499163.144947</td>\n",
       "      <td>152363.984148</td>\n",
       "      <td>98201.625314</td>\n",
       "    </tr>\n",
       "    <tr>\n",
       "      <td>2</td>\n",
       "      <td>202722.511368</td>\n",
       "      <td>NaN</td>\n",
       "      <td>176115.741875</td>\n",
       "      <td>212363.825056</td>\n",
       "      <td>149986.600709</td>\n",
       "      <td>NaN</td>\n",
       "      <td>169625.952239</td>\n",
       "      <td>NaN</td>\n",
       "    </tr>\n",
       "    <tr>\n",
       "      <td>3</td>\n",
       "      <td>NaN</td>\n",
       "      <td>NaN</td>\n",
       "      <td>199903.852498</td>\n",
       "      <td>230056.048608</td>\n",
       "      <td>131561.334054</td>\n",
       "      <td>NaN</td>\n",
       "      <td>157108.854344</td>\n",
       "      <td>NaN</td>\n",
       "    </tr>\n",
       "    <tr>\n",
       "      <td rowspan=\"3\" valign=\"top\">начальное</td>\n",
       "      <td>1</td>\n",
       "      <td>NaN</td>\n",
       "      <td>NaN</td>\n",
       "      <td>191021.140719</td>\n",
       "      <td>132294.644611</td>\n",
       "      <td>NaN</td>\n",
       "      <td>NaN</td>\n",
       "      <td>147084.634936</td>\n",
       "      <td>NaN</td>\n",
       "    </tr>\n",
       "    <tr>\n",
       "      <td>2</td>\n",
       "      <td>NaN</td>\n",
       "      <td>NaN</td>\n",
       "      <td>105766.403301</td>\n",
       "      <td>163403.016785</td>\n",
       "      <td>108567.549331</td>\n",
       "      <td>NaN</td>\n",
       "      <td>124397.467932</td>\n",
       "      <td>NaN</td>\n",
       "    </tr>\n",
       "    <tr>\n",
       "      <td>3</td>\n",
       "      <td>NaN</td>\n",
       "      <td>NaN</td>\n",
       "      <td>NaN</td>\n",
       "      <td>NaN</td>\n",
       "      <td>89777.620811</td>\n",
       "      <td>NaN</td>\n",
       "      <td>179369.498314</td>\n",
       "      <td>NaN</td>\n",
       "    </tr>\n",
       "    <tr>\n",
       "      <td rowspan=\"3\" valign=\"top\">неоконченное высшее</td>\n",
       "      <td>1</td>\n",
       "      <td>NaN</td>\n",
       "      <td>NaN</td>\n",
       "      <td>135252.995358</td>\n",
       "      <td>159817.845686</td>\n",
       "      <td>NaN</td>\n",
       "      <td>NaN</td>\n",
       "      <td>137269.057934</td>\n",
       "      <td>NaN</td>\n",
       "    </tr>\n",
       "    <tr>\n",
       "      <td>2</td>\n",
       "      <td>NaN</td>\n",
       "      <td>NaN</td>\n",
       "      <td>183009.578994</td>\n",
       "      <td>196481.989512</td>\n",
       "      <td>120136.896353</td>\n",
       "      <td>NaN</td>\n",
       "      <td>168973.256345</td>\n",
       "      <td>NaN</td>\n",
       "    </tr>\n",
       "    <tr>\n",
       "      <td>3</td>\n",
       "      <td>NaN</td>\n",
       "      <td>NaN</td>\n",
       "      <td>NaN</td>\n",
       "      <td>NaN</td>\n",
       "      <td>107969.834964</td>\n",
       "      <td>NaN</td>\n",
       "      <td>211207.224592</td>\n",
       "      <td>NaN</td>\n",
       "    </tr>\n",
       "    <tr>\n",
       "      <td rowspan=\"3\" valign=\"top\">среднее</td>\n",
       "      <td>1</td>\n",
       "      <td>NaN</td>\n",
       "      <td>NaN</td>\n",
       "      <td>131892.785435</td>\n",
       "      <td>149280.652841</td>\n",
       "      <td>72621.149221</td>\n",
       "      <td>NaN</td>\n",
       "      <td>126712.253721</td>\n",
       "      <td>NaN</td>\n",
       "    </tr>\n",
       "    <tr>\n",
       "      <td>2</td>\n",
       "      <td>59956.991984</td>\n",
       "      <td>53829.130729</td>\n",
       "      <td>136803.501484</td>\n",
       "      <td>161998.828912</td>\n",
       "      <td>117513.425518</td>\n",
       "      <td>NaN</td>\n",
       "      <td>138329.936872</td>\n",
       "      <td>NaN</td>\n",
       "    </tr>\n",
       "    <tr>\n",
       "      <td>3</td>\n",
       "      <td>NaN</td>\n",
       "      <td>NaN</td>\n",
       "      <td>158171.594823</td>\n",
       "      <td>151623.041568</td>\n",
       "      <td>105419.161980</td>\n",
       "      <td>NaN</td>\n",
       "      <td>152440.149996</td>\n",
       "      <td>NaN</td>\n",
       "    </tr>\n",
       "    <tr>\n",
       "      <td rowspan=\"2\" valign=\"top\">ученая степень</td>\n",
       "      <td>2</td>\n",
       "      <td>NaN</td>\n",
       "      <td>NaN</td>\n",
       "      <td>111392.231107</td>\n",
       "      <td>NaN</td>\n",
       "      <td>255425.196556</td>\n",
       "      <td>NaN</td>\n",
       "      <td>198570.757322</td>\n",
       "      <td>NaN</td>\n",
       "    </tr>\n",
       "    <tr>\n",
       "      <td>3</td>\n",
       "      <td>NaN</td>\n",
       "      <td>NaN</td>\n",
       "      <td>NaN</td>\n",
       "      <td>NaN</td>\n",
       "      <td>98752.495442</td>\n",
       "      <td>NaN</td>\n",
       "      <td>NaN</td>\n",
       "      <td>NaN</td>\n",
       "    </tr>\n",
       "  </tbody>\n",
       "</table>\n",
       "</div>"
      ],
      "text/plain": [
       "income_type                      безработный     в декрете    госслужащий  \\\n",
       "education           age_group                                               \n",
       "высшее              1                    NaN           NaN  153859.652436   \n",
       "                    2          202722.511368           NaN  176115.741875   \n",
       "                    3                    NaN           NaN  199903.852498   \n",
       "начальное           1                    NaN           NaN  191021.140719   \n",
       "                    2                    NaN           NaN  105766.403301   \n",
       "                    3                    NaN           NaN            NaN   \n",
       "неоконченное высшее 1                    NaN           NaN  135252.995358   \n",
       "                    2                    NaN           NaN  183009.578994   \n",
       "                    3                    NaN           NaN            NaN   \n",
       "среднее             1                    NaN           NaN  131892.785435   \n",
       "                    2           59956.991984  53829.130729  136803.501484   \n",
       "                    3                    NaN           NaN  158171.594823   \n",
       "ученая степень      2                    NaN           NaN  111392.231107   \n",
       "                    3                    NaN           NaN            NaN   \n",
       "\n",
       "income_type                        компаньон      пенсионер  предприниматель  \\\n",
       "education           age_group                                                  \n",
       "высшее              1          177744.178111  214963.301941    499163.144947   \n",
       "                    2          212363.825056  149986.600709              NaN   \n",
       "                    3          230056.048608  131561.334054              NaN   \n",
       "начальное           1          132294.644611            NaN              NaN   \n",
       "                    2          163403.016785  108567.549331              NaN   \n",
       "                    3                    NaN   89777.620811              NaN   \n",
       "неоконченное высшее 1          159817.845686            NaN              NaN   \n",
       "                    2          196481.989512  120136.896353              NaN   \n",
       "                    3                    NaN  107969.834964              NaN   \n",
       "среднее             1          149280.652841   72621.149221              NaN   \n",
       "                    2          161998.828912  117513.425518              NaN   \n",
       "                    3          151623.041568  105419.161980              NaN   \n",
       "ученая степень      2                    NaN  255425.196556              NaN   \n",
       "                    3                    NaN   98752.495442              NaN   \n",
       "\n",
       "income_type                        сотрудник       студент  \n",
       "education           age_group                               \n",
       "высшее              1          152363.984148  98201.625314  \n",
       "                    2          169625.952239           NaN  \n",
       "                    3          157108.854344           NaN  \n",
       "начальное           1          147084.634936           NaN  \n",
       "                    2          124397.467932           NaN  \n",
       "                    3          179369.498314           NaN  \n",
       "неоконченное высшее 1          137269.057934           NaN  \n",
       "                    2          168973.256345           NaN  \n",
       "                    3          211207.224592           NaN  \n",
       "среднее             1          126712.253721           NaN  \n",
       "                    2          138329.936872           NaN  \n",
       "                    3          152440.149996           NaN  \n",
       "ученая степень      2          198570.757322           NaN  \n",
       "                    3                    NaN           NaN  "
      ]
     },
     "execution_count": 40,
     "metadata": {},
     "output_type": "execute_result"
    }
   ],
   "source": [
    "pivot_table_income "
   ]
  },
  {
   "cell_type": "markdown",
   "metadata": {},
   "source": [
    "Теперь создадим соответствующую функцию."
   ]
  },
  {
   "cell_type": "code",
   "execution_count": 41,
   "metadata": {},
   "outputs": [],
   "source": [
    "def fill_nan_income(row):\n",
    "    try:\n",
    "        return pivot_table_income[row['income_type']][row['education']][row['age_group']]\n",
    "    except:\n",
    "        return 'Что-то не то, изучите данные'"
   ]
  },
  {
   "cell_type": "markdown",
   "metadata": {},
   "source": [
    "Проверим работоспособность функции на одной из строк датасета, например, первой."
   ]
  },
  {
   "cell_type": "code",
   "execution_count": 42,
   "metadata": {},
   "outputs": [
    {
     "data": {
      "text/plain": [
       "169625.95223945146"
      ]
     },
     "execution_count": 42,
     "metadata": {},
     "output_type": "execute_result"
    }
   ],
   "source": [
    "fill_nan_income(data.loc[0])"
   ]
  },
  {
   "cell_type": "markdown",
   "metadata": {},
   "source": [
    "Надо иметь в виду, что для некоторых значений в сводной таблице также отсутствуют значения. Поэтому проверим количество пропущенных значений в столбце до замены."
   ]
  },
  {
   "cell_type": "code",
   "execution_count": 43,
   "metadata": {},
   "outputs": [
    {
     "data": {
      "text/plain": [
       "2174"
      ]
     },
     "execution_count": 43,
     "metadata": {},
     "output_type": "execute_result"
    }
   ],
   "source": [
    "data['total_income'].isna().sum()"
   ]
  },
  {
   "cell_type": "markdown",
   "metadata": {},
   "source": [
    "Итак, в столбце с зарплатой 2174 пропущенных данных.\n",
    "\n",
    "Заменим все пропуски на медианные значения для групп."
   ]
  },
  {
   "cell_type": "code",
   "execution_count": 44,
   "metadata": {},
   "outputs": [],
   "source": [
    "data.loc[data['total_income'].isna(),'total_income'] = data.apply(fill_nan_income, axis=1)"
   ]
  },
  {
   "cell_type": "markdown",
   "metadata": {},
   "source": [
    "Опять проверим количество пропущенных значений в столбце."
   ]
  },
  {
   "cell_type": "code",
   "execution_count": 45,
   "metadata": {},
   "outputs": [
    {
     "data": {
      "text/plain": [
       "1"
      ]
     },
     "execution_count": 45,
     "metadata": {},
     "output_type": "execute_result"
    }
   ],
   "source": [
    "data['total_income'].isna().sum()"
   ]
  },
  {
   "cell_type": "markdown",
   "metadata": {},
   "source": [
    "Итак, видно, что осталось одно пропущенное значение. Посмотрим, что это за значение."
   ]
  },
  {
   "cell_type": "code",
   "execution_count": 46,
   "metadata": {},
   "outputs": [
    {
     "data": {
      "text/html": [
       "<div>\n",
       "<style scoped>\n",
       "    .dataframe tbody tr th:only-of-type {\n",
       "        vertical-align: middle;\n",
       "    }\n",
       "\n",
       "    .dataframe tbody tr th {\n",
       "        vertical-align: top;\n",
       "    }\n",
       "\n",
       "    .dataframe thead th {\n",
       "        text-align: right;\n",
       "    }\n",
       "</style>\n",
       "<table border=\"1\" class=\"dataframe\">\n",
       "  <thead>\n",
       "    <tr style=\"text-align: right;\">\n",
       "      <th></th>\n",
       "      <th>children</th>\n",
       "      <th>days_employed</th>\n",
       "      <th>dob_years</th>\n",
       "      <th>education</th>\n",
       "      <th>education_id</th>\n",
       "      <th>family_status</th>\n",
       "      <th>family_status_id</th>\n",
       "      <th>gender</th>\n",
       "      <th>income_type</th>\n",
       "      <th>debt</th>\n",
       "      <th>total_income</th>\n",
       "      <th>purpose</th>\n",
       "      <th>age_group</th>\n",
       "    </tr>\n",
       "  </thead>\n",
       "  <tbody>\n",
       "    <tr>\n",
       "      <td>5936</td>\n",
       "      <td>0</td>\n",
       "      <td>NaN</td>\n",
       "      <td>58.0</td>\n",
       "      <td>высшее</td>\n",
       "      <td>0</td>\n",
       "      <td>женат / замужем</td>\n",
       "      <td>0</td>\n",
       "      <td>M</td>\n",
       "      <td>предприниматель</td>\n",
       "      <td>0</td>\n",
       "      <td>NaN</td>\n",
       "      <td>покупка жилой недвижимости</td>\n",
       "      <td>2</td>\n",
       "    </tr>\n",
       "  </tbody>\n",
       "</table>\n",
       "</div>"
      ],
      "text/plain": [
       "      children  days_employed  dob_years education  education_id  \\\n",
       "5936         0            NaN       58.0    высшее             0   \n",
       "\n",
       "        family_status  family_status_id gender      income_type  debt  \\\n",
       "5936  женат / замужем                 0      M  предприниматель     0   \n",
       "\n",
       "      total_income                     purpose  age_group  \n",
       "5936           NaN  покупка жилой недвижимости          2  "
      ]
     },
     "execution_count": 46,
     "metadata": {},
     "output_type": "execute_result"
    }
   ],
   "source": [
    "data[data['total_income'].isna()]"
   ]
  },
  {
   "cell_type": "markdown",
   "metadata": {},
   "source": [
    "Пропущенное значение соответствует типу занятости - предприниматель. Посмотрим на строки других предпринимателей."
   ]
  },
  {
   "cell_type": "code",
   "execution_count": 47,
   "metadata": {},
   "outputs": [
    {
     "data": {
      "text/html": [
       "<div>\n",
       "<style scoped>\n",
       "    .dataframe tbody tr th:only-of-type {\n",
       "        vertical-align: middle;\n",
       "    }\n",
       "\n",
       "    .dataframe tbody tr th {\n",
       "        vertical-align: top;\n",
       "    }\n",
       "\n",
       "    .dataframe thead th {\n",
       "        text-align: right;\n",
       "    }\n",
       "</style>\n",
       "<table border=\"1\" class=\"dataframe\">\n",
       "  <thead>\n",
       "    <tr style=\"text-align: right;\">\n",
       "      <th></th>\n",
       "      <th>children</th>\n",
       "      <th>days_employed</th>\n",
       "      <th>dob_years</th>\n",
       "      <th>education</th>\n",
       "      <th>education_id</th>\n",
       "      <th>family_status</th>\n",
       "      <th>family_status_id</th>\n",
       "      <th>gender</th>\n",
       "      <th>income_type</th>\n",
       "      <th>debt</th>\n",
       "      <th>total_income</th>\n",
       "      <th>purpose</th>\n",
       "      <th>age_group</th>\n",
       "    </tr>\n",
       "  </thead>\n",
       "  <tbody>\n",
       "    <tr>\n",
       "      <td>5936</td>\n",
       "      <td>0</td>\n",
       "      <td>NaN</td>\n",
       "      <td>58.0</td>\n",
       "      <td>высшее</td>\n",
       "      <td>0</td>\n",
       "      <td>женат / замужем</td>\n",
       "      <td>0</td>\n",
       "      <td>M</td>\n",
       "      <td>предприниматель</td>\n",
       "      <td>0</td>\n",
       "      <td>NaN</td>\n",
       "      <td>покупка жилой недвижимости</td>\n",
       "      <td>2</td>\n",
       "    </tr>\n",
       "    <tr>\n",
       "      <td>18697</td>\n",
       "      <td>0</td>\n",
       "      <td>-520.848083</td>\n",
       "      <td>27.0</td>\n",
       "      <td>высшее</td>\n",
       "      <td>0</td>\n",
       "      <td>гражданский брак</td>\n",
       "      <td>1</td>\n",
       "      <td>F</td>\n",
       "      <td>предприниматель</td>\n",
       "      <td>0</td>\n",
       "      <td>499163.144947</td>\n",
       "      <td>на проведение свадьбы</td>\n",
       "      <td>1</td>\n",
       "    </tr>\n",
       "  </tbody>\n",
       "</table>\n",
       "</div>"
      ],
      "text/plain": [
       "       children  days_employed  dob_years education  education_id  \\\n",
       "5936          0            NaN       58.0    высшее             0   \n",
       "18697         0    -520.848083       27.0    высшее             0   \n",
       "\n",
       "          family_status  family_status_id gender      income_type  debt  \\\n",
       "5936    женат / замужем                 0      M  предприниматель     0   \n",
       "18697  гражданский брак                 1      F  предприниматель     0   \n",
       "\n",
       "        total_income                     purpose  age_group  \n",
       "5936             NaN  покупка жилой недвижимости          2  \n",
       "18697  499163.144947       на проведение свадьбы          1  "
      ]
     },
     "execution_count": 47,
     "metadata": {},
     "output_type": "execute_result"
    }
   ],
   "source": [
    "data[data['income_type']=='предприниматель']"
   ]
  },
  {
   "cell_type": "markdown",
   "metadata": {},
   "source": [
    "Видно, что предпринимателя на весь датасет всего два. Предлагается приравнять зарплаты предпринимателей."
   ]
  },
  {
   "cell_type": "code",
   "execution_count": 48,
   "metadata": {},
   "outputs": [],
   "source": [
    "data.loc[5936,'total_income'] = data.loc[18697,'total_income']"
   ]
  },
  {
   "cell_type": "markdown",
   "metadata": {},
   "source": [
    "Проверим количество пропущенных значений еще раз."
   ]
  },
  {
   "cell_type": "code",
   "execution_count": 49,
   "metadata": {},
   "outputs": [
    {
     "data": {
      "text/plain": [
       "0"
      ]
     },
     "execution_count": 49,
     "metadata": {},
     "output_type": "execute_result"
    }
   ],
   "source": [
    "data['total_income'].isna().sum()"
   ]
  },
  {
   "cell_type": "markdown",
   "metadata": {},
   "source": [
    "Итак, пропущенных значений в столбце нет, можно продолжать."
   ]
  },
  {
   "cell_type": "markdown",
   "metadata": {},
   "source": [
    "**Вывод**"
   ]
  },
  {
   "cell_type": "markdown",
   "metadata": {},
   "source": [
    "В данных присутствовали пропуски одновременно в двух столбцах, соответствующих общему стажу в днях и ежемесячному доходу. Также присутствовали нулевые значения в столбце с возрастом заемщика.\n",
    "\n",
    "Были проведены следующие операции:\n",
    "\n",
    "1. В столбце с возрастом заемщика нулевые значения были заменены на медианные значения возраста для групп по образованию, семейному статусу и типу занятости.\n",
    "2. В столбце с ежемесячным доходом пропуски были заменены на медианные значения, характерные для групп по образованию, типу занятости и возрастной группе. После этого в столбце все еще осталось пропущенное значение для предпринимателя, которое было заменено на зарплату другого предпринимателя, так как их всего два в датасете.\n",
    "\n",
    "Возможной причиной появления пропусков является особенность системы, используемой при подаче заявки на кредит."
   ]
  },
  {
   "cell_type": "markdown",
   "metadata": {},
   "source": [
    "### Замена типа данных"
   ]
  },
  {
   "cell_type": "markdown",
   "metadata": {},
   "source": [
    "Проверим информацию о таблицы еще раз."
   ]
  },
  {
   "cell_type": "code",
   "execution_count": 50,
   "metadata": {},
   "outputs": [
    {
     "name": "stdout",
     "output_type": "stream",
     "text": [
      "<class 'pandas.core.frame.DataFrame'>\n",
      "RangeIndex: 21525 entries, 0 to 21524\n",
      "Data columns (total 13 columns):\n",
      "children            21525 non-null int64\n",
      "days_employed       19351 non-null float64\n",
      "dob_years           21525 non-null float64\n",
      "education           21525 non-null object\n",
      "education_id        21525 non-null int64\n",
      "family_status       21525 non-null object\n",
      "family_status_id    21525 non-null int64\n",
      "gender              21525 non-null object\n",
      "income_type         21525 non-null object\n",
      "debt                21525 non-null int64\n",
      "total_income        21525 non-null float64\n",
      "purpose             21525 non-null object\n",
      "age_group           21525 non-null int64\n",
      "dtypes: float64(3), int64(5), object(5)\n",
      "memory usage: 2.1+ MB\n"
     ]
    }
   ],
   "source": [
    "data.info()"
   ]
  },
  {
   "cell_type": "markdown",
   "metadata": {},
   "source": [
    "Заменим тип данных в столбце `total_income` на целочисленный, так как доход в целом лучше округлить до целого значения. Для этого будем использовать функцию `astype`."
   ]
  },
  {
   "cell_type": "code",
   "execution_count": 51,
   "metadata": {},
   "outputs": [],
   "source": [
    "data['total_income'] = data['total_income'].astype('int')"
   ]
  },
  {
   "cell_type": "markdown",
   "metadata": {},
   "source": [
    "Проверим информацию о столбцах еще раз."
   ]
  },
  {
   "cell_type": "code",
   "execution_count": 52,
   "metadata": {},
   "outputs": [
    {
     "name": "stdout",
     "output_type": "stream",
     "text": [
      "<class 'pandas.core.frame.DataFrame'>\n",
      "RangeIndex: 21525 entries, 0 to 21524\n",
      "Data columns (total 13 columns):\n",
      "children            21525 non-null int64\n",
      "days_employed       19351 non-null float64\n",
      "dob_years           21525 non-null float64\n",
      "education           21525 non-null object\n",
      "education_id        21525 non-null int64\n",
      "family_status       21525 non-null object\n",
      "family_status_id    21525 non-null int64\n",
      "gender              21525 non-null object\n",
      "income_type         21525 non-null object\n",
      "debt                21525 non-null int64\n",
      "total_income        21525 non-null int64\n",
      "purpose             21525 non-null object\n",
      "age_group           21525 non-null int64\n",
      "dtypes: float64(2), int64(6), object(5)\n",
      "memory usage: 2.1+ MB\n"
     ]
    }
   ],
   "source": [
    "data.info()"
   ]
  },
  {
   "cell_type": "markdown",
   "metadata": {},
   "source": [
    "Видно, что тип данных поменялся."
   ]
  },
  {
   "cell_type": "markdown",
   "metadata": {},
   "source": [
    "**Вывод**"
   ]
  },
  {
   "cell_type": "markdown",
   "metadata": {},
   "source": [
    "На данном этапе была необходима замена вещественного типа данных в столбце ежемесячного дохода на целочисленный."
   ]
  },
  {
   "cell_type": "markdown",
   "metadata": {},
   "source": [
    "### Обработка дубликатов"
   ]
  },
  {
   "cell_type": "markdown",
   "metadata": {},
   "source": [
    "Проверим, есть ли в данных явные дубликаты."
   ]
  },
  {
   "cell_type": "code",
   "execution_count": 53,
   "metadata": {},
   "outputs": [
    {
     "data": {
      "text/plain": [
       "71"
      ]
     },
     "execution_count": 53,
     "metadata": {},
     "output_type": "execute_result"
    }
   ],
   "source": [
    "data.duplicated().sum()"
   ]
  },
  {
   "cell_type": "markdown",
   "metadata": {},
   "source": [
    "Похоже, в датасете присутствует 71 дубликата.\n",
    "\n",
    "При этом надо понимать, что наличие дубликатов не означает одинаковых заемщиков. Как минимум, мы заменяли отсутствующие значения возраста и зарплат на медианные значения для групп. Это тоже могло привести к появлению дубликатов. Но все же, давайте их удалим."
   ]
  },
  {
   "cell_type": "code",
   "execution_count": 54,
   "metadata": {},
   "outputs": [],
   "source": [
    "data = data.drop_duplicates().reset_index(drop=True)"
   ]
  },
  {
   "cell_type": "markdown",
   "metadata": {},
   "source": [
    "Посчитаем количество дубликатов еще раз."
   ]
  },
  {
   "cell_type": "code",
   "execution_count": 55,
   "metadata": {},
   "outputs": [
    {
     "data": {
      "text/plain": [
       "0"
      ]
     },
     "execution_count": 55,
     "metadata": {},
     "output_type": "execute_result"
    }
   ],
   "source": [
    "data.duplicated().sum()"
   ]
  },
  {
   "cell_type": "markdown",
   "metadata": {},
   "source": [
    "Видно, что теперь в столбце нет дубликатов. "
   ]
  },
  {
   "cell_type": "markdown",
   "metadata": {},
   "source": [
    "**Вывод**"
   ]
  },
  {
   "cell_type": "markdown",
   "metadata": {},
   "source": [
    "В таблице присутствовало 71 явных дубликата, которые были удалены."
   ]
  },
  {
   "cell_type": "markdown",
   "metadata": {},
   "source": [
    "### Лемматизация"
   ]
  },
  {
   "cell_type": "markdown",
   "metadata": {},
   "source": [
    "Для того, чтобы в дальнейшем категоризировать цели получения кредитов, необходимо провести их лемматизацию.\n",
    "\n",
    "Для этого сначала импортируем библиотеку `pymystem3`."
   ]
  },
  {
   "cell_type": "code",
   "execution_count": 56,
   "metadata": {},
   "outputs": [],
   "source": [
    "from pymystem3 import Mystem\n",
    "m = Mystem()"
   ]
  },
  {
   "cell_type": "markdown",
   "metadata": {},
   "source": [
    "Добавим столбец с леммами для каждой цели получения кредита.\n",
    "\n",
    "Сначала напишем функцию, которая возвращает лемматизирование значение."
   ]
  },
  {
   "cell_type": "code",
   "execution_count": 57,
   "metadata": {},
   "outputs": [],
   "source": [
    "def lemmatize_purpose(row):\n",
    "    try:\n",
    "        return m.lemmatize(row['purpose'])\n",
    "    except:\n",
    "        return 'Что-то не то, изучите данные'"
   ]
  },
  {
   "cell_type": "markdown",
   "metadata": {},
   "source": [
    "Проверим работу программы, например, на первой строке данных."
   ]
  },
  {
   "cell_type": "code",
   "execution_count": 58,
   "metadata": {},
   "outputs": [
    {
     "data": {
      "text/plain": [
       "['покупка', ' ', 'жилье', '\\n']"
      ]
     },
     "execution_count": 58,
     "metadata": {},
     "output_type": "execute_result"
    }
   ],
   "source": [
    "lemmatize_purpose(data.loc[0])"
   ]
  },
  {
   "cell_type": "markdown",
   "metadata": {},
   "source": [
    "Видно, что лемматизация работает.\n",
    "\n",
    "На следующем этапе лемматизируем все строки датасета."
   ]
  },
  {
   "cell_type": "code",
   "execution_count": 59,
   "metadata": {},
   "outputs": [],
   "source": [
    "data['lemmas'] = data.apply(lemmatize_purpose,axis=1)"
   ]
  },
  {
   "cell_type": "markdown",
   "metadata": {},
   "source": [
    "Посмотрим на датасет, чтобы проверить столбец с леммами."
   ]
  },
  {
   "cell_type": "code",
   "execution_count": 60,
   "metadata": {},
   "outputs": [
    {
     "data": {
      "text/plain": [
       "0                      [покупка,  , жилье, \\n]\n",
       "1            [приобретение,  , автомобиль, \\n]\n",
       "2                      [покупка,  , жилье, \\n]\n",
       "3         [дополнительный,  , образование, \\n]\n",
       "4                    [сыграть,  , свадьба, \\n]\n",
       "5                      [покупка,  , жилье, \\n]\n",
       "6               [операция,  , с,  , жилье, \\n]\n",
       "7                            [образование, \\n]\n",
       "8          [на,  , проведение,  , свадьба, \\n]\n",
       "9    [покупка,  , жилье,  , для,  , семья, \\n]\n",
       "Name: lemmas, dtype: object"
      ]
     },
     "execution_count": 60,
     "metadata": {},
     "output_type": "execute_result"
    }
   ],
   "source": [
    "data['lemmas'].head(10)"
   ]
  },
  {
   "cell_type": "markdown",
   "metadata": {},
   "source": [
    "На следующем этапе будем использовать полученный столбец для категоризации целей выдачи кредита."
   ]
  },
  {
   "cell_type": "markdown",
   "metadata": {},
   "source": [
    "**Вывод**"
   ]
  },
  {
   "cell_type": "markdown",
   "metadata": {},
   "source": [
    "На данном этапе был лемматизирован столбец с целью кредита. Далее на основе полученных лемм будет происходить категоризация заемщиков."
   ]
  },
  {
   "cell_type": "markdown",
   "metadata": {},
   "source": [
    "### Категоризация данных"
   ]
  },
  {
   "cell_type": "markdown",
   "metadata": {},
   "source": [
    "Итак, напомним, на какие вопросы необхдим ответ заказчику:\n",
    "1. Есть ли зависимость между наличием детей и возвратом кредита в срок?\n",
    "2. Есть ли зависимость между семейным положением и возвратом кредита в срок?\n",
    "3. Есть ли зависимость между уровнем дохода и возвратом кредита в срок?\n",
    "4. Как разные цели кредита влияют на его возврат в срок?\n",
    "\n",
    "Соответственно, предлагается категоризировать заемщиков следующим образом:\n",
    "1. Бездетный/есть дети.\n",
    "2. По семейному положению. \n",
    "3. По уровню дохода, например по средней заработной плате по России.\n",
    "4. По целям выдачи кредита."
   ]
  },
  {
   "cell_type": "markdown",
   "metadata": {},
   "source": [
    "#### Категоризация по детям"
   ]
  },
  {
   "cell_type": "markdown",
   "metadata": {},
   "source": [
    "Создадим соответствующую функцию."
   ]
  },
  {
   "cell_type": "code",
   "execution_count": 61,
   "metadata": {},
   "outputs": [],
   "source": [
    "def children_group(row):\n",
    "    if row['children'] != 0:\n",
    "        return 'есть дети'\n",
    "    return 'бездетный'"
   ]
  },
  {
   "cell_type": "markdown",
   "metadata": {},
   "source": [
    "Применим функцию к датасету, создав новый столбец."
   ]
  },
  {
   "cell_type": "code",
   "execution_count": 62,
   "metadata": {},
   "outputs": [],
   "source": [
    "data['children_group'] = data.apply(children_group,axis=1)"
   ]
  },
  {
   "cell_type": "markdown",
   "metadata": {},
   "source": [
    "Проверим полученный столбец."
   ]
  },
  {
   "cell_type": "code",
   "execution_count": 63,
   "metadata": {},
   "outputs": [
    {
     "data": {
      "text/plain": [
       "0    есть дети\n",
       "1    есть дети\n",
       "2    бездетный\n",
       "3    есть дети\n",
       "4    бездетный\n",
       "5    бездетный\n",
       "6    бездетный\n",
       "7    бездетный\n",
       "8    есть дети\n",
       "9    бездетный\n",
       "Name: children_group, dtype: object"
      ]
     },
     "execution_count": 63,
     "metadata": {},
     "output_type": "execute_result"
    }
   ],
   "source": [
    "data['children_group'].head(10)"
   ]
  },
  {
   "cell_type": "markdown",
   "metadata": {},
   "source": [
    "Функция работает, переходим к следующей категории."
   ]
  },
  {
   "cell_type": "markdown",
   "metadata": {},
   "source": [
    "#### Категоризация по семейному положению"
   ]
  },
  {
   "cell_type": "markdown",
   "metadata": {},
   "source": [
    "В самом начале проекта мы проверяли список уникальных значений столбца с семейным положениям. Проверим еще раз."
   ]
  },
  {
   "cell_type": "code",
   "execution_count": 64,
   "metadata": {},
   "outputs": [
    {
     "data": {
      "text/plain": [
       "array(['женат / замужем', 'гражданский брак', 'вдовец / вдова',\n",
       "       'в разводе', 'Не женат / не замужем'], dtype=object)"
      ]
     },
     "execution_count": 64,
     "metadata": {},
     "output_type": "execute_result"
    }
   ],
   "source": [
    "data['family_status'].unique()"
   ]
  },
  {
   "cell_type": "markdown",
   "metadata": {},
   "source": [
    "Видно, что в данному случае категоризацию проводить не обязательно, так как заемщики итак разделены по данной категории."
   ]
  },
  {
   "cell_type": "markdown",
   "metadata": {},
   "source": [
    "#### Категоризация по уровню дохода"
   ]
  },
  {
   "cell_type": "markdown",
   "metadata": {},
   "source": [
    "Для данной категоризации будем использовать среднюю зарплату в России за 2020 год [1].\n",
    "\n",
    "1. https://vc.ru/finance/128505-samaya-rasprostranennaya-zarplata-v-rossii-i-naskolko-ona-nizhe-sredney-pochemu-u-70-lyudey-zarplata-nizhe-srednego-urovnya"
   ]
  },
  {
   "cell_type": "code",
   "execution_count": 65,
   "metadata": {},
   "outputs": [],
   "source": [
    "avg_income = 50000"
   ]
  },
  {
   "cell_type": "markdown",
   "metadata": {},
   "source": [
    "Введем следующие категории:\n",
    "- Менее средней зарплаты - \"средний класс\".\n",
    "- От средней зарплаты до двух средних зарплат - \"верхний средний класс\".\n",
    "- От двух средних зарплат до четырех средних зарплат - \"состоятельные\".\n",
    "- Больше четырех средних зарплат - \"богатые\".\n",
    "\n",
    "Напишем соответствующую функцию."
   ]
  },
  {
   "cell_type": "code",
   "execution_count": 66,
   "metadata": {},
   "outputs": [],
   "source": [
    "def income_group(row):\n",
    "    if row['total_income'] <= avg_income:\n",
    "        return 'средний класс'\n",
    "    if row['total_income'] <= 2*avg_income:\n",
    "        return 'верхний средний класс'\n",
    "    if row['total_income'] <= 4*avg_income:\n",
    "        return 'состоятельные'\n",
    "    return 'богатые'"
   ]
  },
  {
   "cell_type": "markdown",
   "metadata": {},
   "source": [
    "Проведем соответствующую характеризацию."
   ]
  },
  {
   "cell_type": "code",
   "execution_count": 67,
   "metadata": {},
   "outputs": [],
   "source": [
    "data['income_group'] = data.apply(income_group,axis=1)"
   ]
  },
  {
   "cell_type": "markdown",
   "metadata": {},
   "source": [
    "Проверим соответствующий столбец."
   ]
  },
  {
   "cell_type": "code",
   "execution_count": 68,
   "metadata": {},
   "outputs": [
    {
     "data": {
      "text/html": [
       "<div>\n",
       "<style scoped>\n",
       "    .dataframe tbody tr th:only-of-type {\n",
       "        vertical-align: middle;\n",
       "    }\n",
       "\n",
       "    .dataframe tbody tr th {\n",
       "        vertical-align: top;\n",
       "    }\n",
       "\n",
       "    .dataframe thead th {\n",
       "        text-align: right;\n",
       "    }\n",
       "</style>\n",
       "<table border=\"1\" class=\"dataframe\">\n",
       "  <thead>\n",
       "    <tr style=\"text-align: right;\">\n",
       "      <th></th>\n",
       "      <th>total_income</th>\n",
       "      <th>income_group</th>\n",
       "    </tr>\n",
       "  </thead>\n",
       "  <tbody>\n",
       "    <tr>\n",
       "      <td>0</td>\n",
       "      <td>253875</td>\n",
       "      <td>богатые</td>\n",
       "    </tr>\n",
       "    <tr>\n",
       "      <td>1</td>\n",
       "      <td>112080</td>\n",
       "      <td>состоятельные</td>\n",
       "    </tr>\n",
       "    <tr>\n",
       "      <td>2</td>\n",
       "      <td>145885</td>\n",
       "      <td>состоятельные</td>\n",
       "    </tr>\n",
       "    <tr>\n",
       "      <td>3</td>\n",
       "      <td>267628</td>\n",
       "      <td>богатые</td>\n",
       "    </tr>\n",
       "    <tr>\n",
       "      <td>4</td>\n",
       "      <td>158616</td>\n",
       "      <td>состоятельные</td>\n",
       "    </tr>\n",
       "    <tr>\n",
       "      <td>5</td>\n",
       "      <td>255763</td>\n",
       "      <td>богатые</td>\n",
       "    </tr>\n",
       "    <tr>\n",
       "      <td>6</td>\n",
       "      <td>240525</td>\n",
       "      <td>богатые</td>\n",
       "    </tr>\n",
       "    <tr>\n",
       "      <td>7</td>\n",
       "      <td>135823</td>\n",
       "      <td>состоятельные</td>\n",
       "    </tr>\n",
       "    <tr>\n",
       "      <td>8</td>\n",
       "      <td>95856</td>\n",
       "      <td>верхний средний класс</td>\n",
       "    </tr>\n",
       "    <tr>\n",
       "      <td>9</td>\n",
       "      <td>144425</td>\n",
       "      <td>состоятельные</td>\n",
       "    </tr>\n",
       "  </tbody>\n",
       "</table>\n",
       "</div>"
      ],
      "text/plain": [
       "   total_income           income_group\n",
       "0        253875                богатые\n",
       "1        112080          состоятельные\n",
       "2        145885          состоятельные\n",
       "3        267628                богатые\n",
       "4        158616          состоятельные\n",
       "5        255763                богатые\n",
       "6        240525                богатые\n",
       "7        135823          состоятельные\n",
       "8         95856  верхний средний класс\n",
       "9        144425          состоятельные"
      ]
     },
     "execution_count": 68,
     "metadata": {},
     "output_type": "execute_result"
    }
   ],
   "source": [
    "data[['total_income','income_group']].head(10)"
   ]
  },
  {
   "cell_type": "markdown",
   "metadata": {},
   "source": [
    "Категоризация по данному признаку прошла, пойдем дальше."
   ]
  },
  {
   "cell_type": "markdown",
   "metadata": {},
   "source": [
    "#### Категоризация по цели выдачи кредита"
   ]
  },
  {
   "cell_type": "markdown",
   "metadata": {},
   "source": [
    "Посмотрим еще раз на список уникальных значений столбца с целью выдачи кредита."
   ]
  },
  {
   "cell_type": "code",
   "execution_count": 69,
   "metadata": {},
   "outputs": [
    {
     "data": {
      "text/plain": [
       "array(['покупка жилья', 'приобретение автомобиля',\n",
       "       'дополнительное образование', 'сыграть свадьбу',\n",
       "       'операции с жильем', 'образование', 'на проведение свадьбы',\n",
       "       'покупка жилья для семьи', 'покупка недвижимости',\n",
       "       'покупка коммерческой недвижимости', 'покупка жилой недвижимости',\n",
       "       'строительство собственной недвижимости', 'недвижимость',\n",
       "       'строительство недвижимости', 'на покупку подержанного автомобиля',\n",
       "       'на покупку своего автомобиля',\n",
       "       'операции с коммерческой недвижимостью',\n",
       "       'строительство жилой недвижимости', 'жилье',\n",
       "       'операции со своей недвижимостью', 'автомобили',\n",
       "       'заняться образованием', 'сделка с подержанным автомобилем',\n",
       "       'получение образования', 'автомобиль', 'свадьба',\n",
       "       'получение дополнительного образования', 'покупка своего жилья',\n",
       "       'операции с недвижимостью', 'получение высшего образования',\n",
       "       'свой автомобиль', 'сделка с автомобилем',\n",
       "       'профильное образование', 'высшее образование',\n",
       "       'покупка жилья для сдачи', 'на покупку автомобиля', 'ремонт жилью',\n",
       "       'заняться высшим образованием'], dtype=object)"
      ]
     },
     "execution_count": 69,
     "metadata": {},
     "output_type": "execute_result"
    }
   ],
   "source": [
    "data['purpose'].unique()"
   ]
  },
  {
   "cell_type": "markdown",
   "metadata": {},
   "source": [
    "Видно, что все цели можно разделить на следующие категории:\n",
    "1. Образование\n",
    "2. Свадьба\n",
    "3. Автомобиль\n",
    "4. Недвижимость\n",
    "\n",
    "Напишем соответствующую функцию."
   ]
  },
  {
   "cell_type": "code",
   "execution_count": 70,
   "metadata": {},
   "outputs": [],
   "source": [
    "def purpose_group(row):\n",
    "    try:\n",
    "        for word in row['lemmas']:\n",
    "            if word == 'образование':\n",
    "                return 'образование'\n",
    "            if word == 'свадьба':\n",
    "                return 'свадьба'\n",
    "            if word == 'автомобиль':\n",
    "                return 'автомобиль'\n",
    "            if word == 'жилье' or word == 'недвижимость':\n",
    "                return 'недвижимость'\n",
    "    except:\n",
    "        print('Что-то пошло не так, проверь данные')"
   ]
  },
  {
   "cell_type": "markdown",
   "metadata": {},
   "source": [
    "Добавим соответствующий столбец."
   ]
  },
  {
   "cell_type": "code",
   "execution_count": 71,
   "metadata": {},
   "outputs": [],
   "source": [
    "data['purpose_group'] = data.apply(purpose_group,axis=1)"
   ]
  },
  {
   "cell_type": "markdown",
   "metadata": {},
   "source": [
    "Проверим соответствующие столбцы."
   ]
  },
  {
   "cell_type": "code",
   "execution_count": 72,
   "metadata": {},
   "outputs": [
    {
     "data": {
      "text/html": [
       "<div>\n",
       "<style scoped>\n",
       "    .dataframe tbody tr th:only-of-type {\n",
       "        vertical-align: middle;\n",
       "    }\n",
       "\n",
       "    .dataframe tbody tr th {\n",
       "        vertical-align: top;\n",
       "    }\n",
       "\n",
       "    .dataframe thead th {\n",
       "        text-align: right;\n",
       "    }\n",
       "</style>\n",
       "<table border=\"1\" class=\"dataframe\">\n",
       "  <thead>\n",
       "    <tr style=\"text-align: right;\">\n",
       "      <th></th>\n",
       "      <th>purpose</th>\n",
       "      <th>purpose_group</th>\n",
       "    </tr>\n",
       "  </thead>\n",
       "  <tbody>\n",
       "    <tr>\n",
       "      <td>0</td>\n",
       "      <td>покупка жилья</td>\n",
       "      <td>недвижимость</td>\n",
       "    </tr>\n",
       "    <tr>\n",
       "      <td>1</td>\n",
       "      <td>приобретение автомобиля</td>\n",
       "      <td>автомобиль</td>\n",
       "    </tr>\n",
       "    <tr>\n",
       "      <td>2</td>\n",
       "      <td>покупка жилья</td>\n",
       "      <td>недвижимость</td>\n",
       "    </tr>\n",
       "    <tr>\n",
       "      <td>3</td>\n",
       "      <td>дополнительное образование</td>\n",
       "      <td>образование</td>\n",
       "    </tr>\n",
       "    <tr>\n",
       "      <td>4</td>\n",
       "      <td>сыграть свадьбу</td>\n",
       "      <td>свадьба</td>\n",
       "    </tr>\n",
       "    <tr>\n",
       "      <td>5</td>\n",
       "      <td>покупка жилья</td>\n",
       "      <td>недвижимость</td>\n",
       "    </tr>\n",
       "    <tr>\n",
       "      <td>6</td>\n",
       "      <td>операции с жильем</td>\n",
       "      <td>недвижимость</td>\n",
       "    </tr>\n",
       "    <tr>\n",
       "      <td>7</td>\n",
       "      <td>образование</td>\n",
       "      <td>образование</td>\n",
       "    </tr>\n",
       "    <tr>\n",
       "      <td>8</td>\n",
       "      <td>на проведение свадьбы</td>\n",
       "      <td>свадьба</td>\n",
       "    </tr>\n",
       "    <tr>\n",
       "      <td>9</td>\n",
       "      <td>покупка жилья для семьи</td>\n",
       "      <td>недвижимость</td>\n",
       "    </tr>\n",
       "    <tr>\n",
       "      <td>10</td>\n",
       "      <td>покупка недвижимости</td>\n",
       "      <td>недвижимость</td>\n",
       "    </tr>\n",
       "    <tr>\n",
       "      <td>11</td>\n",
       "      <td>покупка коммерческой недвижимости</td>\n",
       "      <td>недвижимость</td>\n",
       "    </tr>\n",
       "    <tr>\n",
       "      <td>12</td>\n",
       "      <td>сыграть свадьбу</td>\n",
       "      <td>свадьба</td>\n",
       "    </tr>\n",
       "    <tr>\n",
       "      <td>13</td>\n",
       "      <td>приобретение автомобиля</td>\n",
       "      <td>автомобиль</td>\n",
       "    </tr>\n",
       "    <tr>\n",
       "      <td>14</td>\n",
       "      <td>покупка жилой недвижимости</td>\n",
       "      <td>недвижимость</td>\n",
       "    </tr>\n",
       "    <tr>\n",
       "      <td>15</td>\n",
       "      <td>строительство собственной недвижимости</td>\n",
       "      <td>недвижимость</td>\n",
       "    </tr>\n",
       "    <tr>\n",
       "      <td>16</td>\n",
       "      <td>недвижимость</td>\n",
       "      <td>недвижимость</td>\n",
       "    </tr>\n",
       "    <tr>\n",
       "      <td>17</td>\n",
       "      <td>строительство недвижимости</td>\n",
       "      <td>недвижимость</td>\n",
       "    </tr>\n",
       "    <tr>\n",
       "      <td>18</td>\n",
       "      <td>на покупку подержанного автомобиля</td>\n",
       "      <td>автомобиль</td>\n",
       "    </tr>\n",
       "    <tr>\n",
       "      <td>19</td>\n",
       "      <td>на покупку своего автомобиля</td>\n",
       "      <td>автомобиль</td>\n",
       "    </tr>\n",
       "  </tbody>\n",
       "</table>\n",
       "</div>"
      ],
      "text/plain": [
       "                                   purpose purpose_group\n",
       "0                            покупка жилья  недвижимость\n",
       "1                  приобретение автомобиля    автомобиль\n",
       "2                            покупка жилья  недвижимость\n",
       "3               дополнительное образование   образование\n",
       "4                          сыграть свадьбу       свадьба\n",
       "5                            покупка жилья  недвижимость\n",
       "6                        операции с жильем  недвижимость\n",
       "7                              образование   образование\n",
       "8                    на проведение свадьбы       свадьба\n",
       "9                  покупка жилья для семьи  недвижимость\n",
       "10                    покупка недвижимости  недвижимость\n",
       "11       покупка коммерческой недвижимости  недвижимость\n",
       "12                         сыграть свадьбу       свадьба\n",
       "13                 приобретение автомобиля    автомобиль\n",
       "14              покупка жилой недвижимости  недвижимость\n",
       "15  строительство собственной недвижимости  недвижимость\n",
       "16                            недвижимость  недвижимость\n",
       "17              строительство недвижимости  недвижимость\n",
       "18      на покупку подержанного автомобиля    автомобиль\n",
       "19            на покупку своего автомобиля    автомобиль"
      ]
     },
     "execution_count": 72,
     "metadata": {},
     "output_type": "execute_result"
    }
   ],
   "source": [
    "data[['purpose','purpose_group']].head(20)"
   ]
  },
  {
   "cell_type": "markdown",
   "metadata": {},
   "source": [
    "Проверим список уникальных значений столбца."
   ]
  },
  {
   "cell_type": "code",
   "execution_count": 73,
   "metadata": {},
   "outputs": [
    {
     "data": {
      "text/plain": [
       "array(['недвижимость', 'автомобиль', 'образование', 'свадьба'],\n",
       "      dtype=object)"
      ]
     },
     "execution_count": 73,
     "metadata": {},
     "output_type": "execute_result"
    }
   ],
   "source": [
    "data['purpose_group'].unique()"
   ]
  },
  {
   "cell_type": "markdown",
   "metadata": {},
   "source": [
    "Видно, что удалось разделить все цели получения кредита на четыре категории без ошибочных значений."
   ]
  },
  {
   "cell_type": "markdown",
   "metadata": {},
   "source": [
    "**Вывод**"
   ]
  },
  {
   "cell_type": "markdown",
   "metadata": {},
   "source": [
    "На данном этапе была проведена категоризация заемщиков по четырем категориям: по наличию детей, по семейному положению, по уровню дохода и цели получения кредита.\n",
    "\n",
    "Полученные категории будут использоваться на последнем этапе для ответа на вопросы, интересующие заказчика."
   ]
  },
  {
   "cell_type": "markdown",
   "metadata": {},
   "source": [
    "## Отвечаем на вопросы заказчика"
   ]
  },
  {
   "cell_type": "markdown",
   "metadata": {},
   "source": [
    "### Есть ли зависимость между наличием детей и возвратом кредита в срок?"
   ]
  },
  {
   "cell_type": "markdown",
   "metadata": {},
   "source": [
    "Посчитаем колиество должников среди людей с детьми и без.\n",
    "\n",
    "Также добавим столбец с долей должников от общего количества заемщиков.\n",
    "\n",
    "Выведем полученную таблицу на экран, отсортировав долю по возрастанию количества должников."
   ]
  },
  {
   "cell_type": "code",
   "execution_count": 74,
   "metadata": {},
   "outputs": [
    {
     "data": {
      "text/html": [
       "<div>\n",
       "<style scoped>\n",
       "    .dataframe tbody tr th:only-of-type {\n",
       "        vertical-align: middle;\n",
       "    }\n",
       "\n",
       "    .dataframe tbody tr th {\n",
       "        vertical-align: top;\n",
       "    }\n",
       "\n",
       "    .dataframe thead th {\n",
       "        text-align: right;\n",
       "    }\n",
       "</style>\n",
       "<table border=\"1\" class=\"dataframe\">\n",
       "  <thead>\n",
       "    <tr style=\"text-align: right;\">\n",
       "      <th></th>\n",
       "      <th>sum</th>\n",
       "      <th>count</th>\n",
       "      <th>share</th>\n",
       "    </tr>\n",
       "    <tr>\n",
       "      <th>children_group</th>\n",
       "      <th></th>\n",
       "      <th></th>\n",
       "      <th></th>\n",
       "    </tr>\n",
       "  </thead>\n",
       "  <tbody>\n",
       "    <tr>\n",
       "      <td>бездетный</td>\n",
       "      <td>1063</td>\n",
       "      <td>14091</td>\n",
       "      <td>7.543822</td>\n",
       "    </tr>\n",
       "    <tr>\n",
       "      <td>есть дети</td>\n",
       "      <td>678</td>\n",
       "      <td>7363</td>\n",
       "      <td>9.208203</td>\n",
       "    </tr>\n",
       "  </tbody>\n",
       "</table>\n",
       "</div>"
      ],
      "text/plain": [
       "                 sum  count     share\n",
       "children_group                       \n",
       "бездетный       1063  14091  7.543822\n",
       "есть дети        678   7363  9.208203"
      ]
     },
     "execution_count": 74,
     "metadata": {},
     "output_type": "execute_result"
    }
   ],
   "source": [
    "children_debt = data.groupby('children_group')['debt'].agg(['sum','count'])\n",
    "children_debt['share'] = children_debt['sum']/children_debt['count']*100\n",
    "children_debt.sort_values('share')"
   ]
  },
  {
   "cell_type": "markdown",
   "metadata": {},
   "source": [
    "**Вывод**"
   ]
  },
  {
   "cell_type": "markdown",
   "metadata": {},
   "source": [
    "Видно, что доля должников среди бездетных заемщиков составляет 7.5 %. Доля должников среди заемщиков с детьми при этом составляет 9.2 %, то есть на 23 % больше соответствующего значения для бездетных заемщиков.\n",
    "\n",
    "Такой результат можно объяснить тем, что у заемщиков с детьми есть дополнительные расходы непосредственно на детей, что может приводить к проблемам с нахождением свободных средств на выплаты по кредитам."
   ]
  },
  {
   "cell_type": "markdown",
   "metadata": {},
   "source": [
    "### Есть ли зависимость между семейным положением и возвратом кредита в срок?"
   ]
  },
  {
   "cell_type": "markdown",
   "metadata": {},
   "source": [
    "Посчитаем количество должников среди людей с различным семейным положением.\n",
    "\n",
    "Также добавим столбец с долей должников от общего количества заемщиков.\n",
    "\n",
    "Выведем полученную таблицу на экран, отсортировав долю по возрастанию количества должников."
   ]
  },
  {
   "cell_type": "code",
   "execution_count": 75,
   "metadata": {},
   "outputs": [
    {
     "data": {
      "text/html": [
       "<div>\n",
       "<style scoped>\n",
       "    .dataframe tbody tr th:only-of-type {\n",
       "        vertical-align: middle;\n",
       "    }\n",
       "\n",
       "    .dataframe tbody tr th {\n",
       "        vertical-align: top;\n",
       "    }\n",
       "\n",
       "    .dataframe thead th {\n",
       "        text-align: right;\n",
       "    }\n",
       "</style>\n",
       "<table border=\"1\" class=\"dataframe\">\n",
       "  <thead>\n",
       "    <tr style=\"text-align: right;\">\n",
       "      <th></th>\n",
       "      <th>sum</th>\n",
       "      <th>count</th>\n",
       "      <th>share</th>\n",
       "    </tr>\n",
       "    <tr>\n",
       "      <th>family_status</th>\n",
       "      <th></th>\n",
       "      <th></th>\n",
       "      <th></th>\n",
       "    </tr>\n",
       "  </thead>\n",
       "  <tbody>\n",
       "    <tr>\n",
       "      <td>вдовец / вдова</td>\n",
       "      <td>63</td>\n",
       "      <td>959</td>\n",
       "      <td>6.569343</td>\n",
       "    </tr>\n",
       "    <tr>\n",
       "      <td>в разводе</td>\n",
       "      <td>85</td>\n",
       "      <td>1195</td>\n",
       "      <td>7.112971</td>\n",
       "    </tr>\n",
       "    <tr>\n",
       "      <td>женат / замужем</td>\n",
       "      <td>931</td>\n",
       "      <td>12339</td>\n",
       "      <td>7.545182</td>\n",
       "    </tr>\n",
       "    <tr>\n",
       "      <td>гражданский брак</td>\n",
       "      <td>388</td>\n",
       "      <td>4151</td>\n",
       "      <td>9.347145</td>\n",
       "    </tr>\n",
       "    <tr>\n",
       "      <td>Не женат / не замужем</td>\n",
       "      <td>274</td>\n",
       "      <td>2810</td>\n",
       "      <td>9.750890</td>\n",
       "    </tr>\n",
       "  </tbody>\n",
       "</table>\n",
       "</div>"
      ],
      "text/plain": [
       "                       sum  count     share\n",
       "family_status                              \n",
       "вдовец / вдова          63    959  6.569343\n",
       "в разводе               85   1195  7.112971\n",
       "женат / замужем        931  12339  7.545182\n",
       "гражданский брак       388   4151  9.347145\n",
       "Не женат / не замужем  274   2810  9.750890"
      ]
     },
     "execution_count": 75,
     "metadata": {},
     "output_type": "execute_result"
    }
   ],
   "source": [
    "family_debt = data.groupby('family_status')['debt'].agg(['sum','count'])\n",
    "family_debt['share'] = family_debt['sum']/family_debt['count']*100\n",
    "family_debt.sort_values('share')"
   ]
  },
  {
   "cell_type": "markdown",
   "metadata": {},
   "source": [
    "**Вывод**"
   ]
  },
  {
   "cell_type": "markdown",
   "metadata": {},
   "source": [
    "По полученным данным видно, что:\n",
    "- Должников по кредитным выплатам среди заемщики, которые относятся к категории не женатых/не замужних и живущих в гражданском браке примерно одинаково, 9.8 и 9.3 %, соответственно.\n",
    "\n",
    "- Количество должников среди заемщиков в разводе и женатые/замужних 7.1 и 7.5 %, соответственно.\n",
    "\n",
    "- Уровень невозвратов среди вдовцов/вдов составляет 6.5 %.\n",
    "\n",
    "Люди, которые еще не вступали в официальный брак возвращают кредиты меньше всех. Это может быть связано с их меньшим уровнем ответственности. При этом видно, что должников среди люди в браке и разведенных меньше. Возможно, брак делает людей более ответственными... \n",
    "\n",
    "Вдовы и вдовцы при этом возвращают кредиты лучше всех."
   ]
  },
  {
   "cell_type": "markdown",
   "metadata": {},
   "source": [
    "### Есть ли зависимость между уровнем дохода и возвратом кредита в срок?"
   ]
  },
  {
   "cell_type": "markdown",
   "metadata": {},
   "source": [
    "Посчитаем количество должников среди людей с различным уровнем дохода.\n",
    "\n",
    "Также добавим столбец с долей должников от общего количества заемщиков.\n",
    "\n",
    "Выведем полученную таблицу на экран, отсортировав долю по возрастанию количества должников."
   ]
  },
  {
   "cell_type": "code",
   "execution_count": 76,
   "metadata": {},
   "outputs": [
    {
     "data": {
      "text/html": [
       "<div>\n",
       "<style scoped>\n",
       "    .dataframe tbody tr th:only-of-type {\n",
       "        vertical-align: middle;\n",
       "    }\n",
       "\n",
       "    .dataframe tbody tr th {\n",
       "        vertical-align: top;\n",
       "    }\n",
       "\n",
       "    .dataframe thead th {\n",
       "        text-align: right;\n",
       "    }\n",
       "</style>\n",
       "<table border=\"1\" class=\"dataframe\">\n",
       "  <thead>\n",
       "    <tr style=\"text-align: right;\">\n",
       "      <th></th>\n",
       "      <th>sum</th>\n",
       "      <th>count</th>\n",
       "      <th>share</th>\n",
       "    </tr>\n",
       "    <tr>\n",
       "      <th>income_group</th>\n",
       "      <th></th>\n",
       "      <th></th>\n",
       "      <th></th>\n",
       "    </tr>\n",
       "  </thead>\n",
       "  <tbody>\n",
       "    <tr>\n",
       "      <td>средний класс</td>\n",
       "      <td>23</td>\n",
       "      <td>372</td>\n",
       "      <td>6.182796</td>\n",
       "    </tr>\n",
       "    <tr>\n",
       "      <td>богатые</td>\n",
       "      <td>365</td>\n",
       "      <td>5211</td>\n",
       "      <td>7.004414</td>\n",
       "    </tr>\n",
       "    <tr>\n",
       "      <td>верхний средний класс</td>\n",
       "      <td>331</td>\n",
       "      <td>4092</td>\n",
       "      <td>8.088954</td>\n",
       "    </tr>\n",
       "    <tr>\n",
       "      <td>состоятельные</td>\n",
       "      <td>1022</td>\n",
       "      <td>11779</td>\n",
       "      <td>8.676458</td>\n",
       "    </tr>\n",
       "  </tbody>\n",
       "</table>\n",
       "</div>"
      ],
      "text/plain": [
       "                        sum  count     share\n",
       "income_group                                \n",
       "средний класс            23    372  6.182796\n",
       "богатые                 365   5211  7.004414\n",
       "верхний средний класс   331   4092  8.088954\n",
       "состоятельные          1022  11779  8.676458"
      ]
     },
     "execution_count": 76,
     "metadata": {},
     "output_type": "execute_result"
    }
   ],
   "source": [
    "income_debt = data.groupby('income_group')['debt'].agg(['sum','count'])\n",
    "income_debt['share'] = income_debt['sum']/income_debt['count']*100\n",
    "income_debt.sort_values('share')"
   ]
  },
  {
   "cell_type": "markdown",
   "metadata": {},
   "source": [
    "**Вывод**"
   ]
  },
  {
   "cell_type": "markdown",
   "metadata": {},
   "source": [
    "По полученным данным видно, что люди с минимальным доходом среди остальных - \"средний класс\" возвращает кредиты лучше всех. Возможной причиной является то, что они наиболее ответственны среди остальных, так они понимают, что в случае просрочки, им придется платить штрафные пени, что может дополнительно ударить по их бюджету.\n",
    "\n",
    "Следующая категория, \"верхний средний класс\" возвращает кредиты хуже. Это может быть связано с тем, что при увеличении своего дохода некоторые люди могут брать больше кредитов, плохо рассчитывая свою кредитную нагрузку, что и приводит к меньшей доле своевременных платежей по кредитам в таком классе.\n",
    "\n",
    "\"Богатые\", в свою очередь, возвращают кредиты чаще, чем \"верхний средний класс\", но хуже, чем \"средний класс\".\n",
    "\n",
    "\"Состоятельные\" же люди возвращают кредиты хуже всех. Это может показаться странным, но, возможно, это связано с тем, что они берут кредиты на большие суммы, что с большей вероятностью может повлечь за собой просрочки платежей, если в их жизни произойдут какие-то изменения и они потеряют свою работу."
   ]
  },
  {
   "cell_type": "markdown",
   "metadata": {},
   "source": [
    "### Как разные цели кредита влияют на его возврат в срок?"
   ]
  },
  {
   "cell_type": "markdown",
   "metadata": {},
   "source": [
    "Посчитаем количество должников среди людей с различными целями кредита.\n",
    "\n",
    "Также добавим столбец с долей должников от общего количества заемщиков.\n",
    "\n",
    "Выведем полученную таблицу на экран, отсортировав долю по возрастанию количества должников."
   ]
  },
  {
   "cell_type": "code",
   "execution_count": 77,
   "metadata": {},
   "outputs": [
    {
     "data": {
      "text/html": [
       "<div>\n",
       "<style scoped>\n",
       "    .dataframe tbody tr th:only-of-type {\n",
       "        vertical-align: middle;\n",
       "    }\n",
       "\n",
       "    .dataframe tbody tr th {\n",
       "        vertical-align: top;\n",
       "    }\n",
       "\n",
       "    .dataframe thead th {\n",
       "        text-align: right;\n",
       "    }\n",
       "</style>\n",
       "<table border=\"1\" class=\"dataframe\">\n",
       "  <thead>\n",
       "    <tr style=\"text-align: right;\">\n",
       "      <th></th>\n",
       "      <th>sum</th>\n",
       "      <th>count</th>\n",
       "      <th>share</th>\n",
       "    </tr>\n",
       "    <tr>\n",
       "      <th>purpose_group</th>\n",
       "      <th></th>\n",
       "      <th></th>\n",
       "      <th></th>\n",
       "    </tr>\n",
       "  </thead>\n",
       "  <tbody>\n",
       "    <tr>\n",
       "      <td>недвижимость</td>\n",
       "      <td>782</td>\n",
       "      <td>10811</td>\n",
       "      <td>7.233373</td>\n",
       "    </tr>\n",
       "    <tr>\n",
       "      <td>свадьба</td>\n",
       "      <td>186</td>\n",
       "      <td>2324</td>\n",
       "      <td>8.003442</td>\n",
       "    </tr>\n",
       "    <tr>\n",
       "      <td>образование</td>\n",
       "      <td>370</td>\n",
       "      <td>4013</td>\n",
       "      <td>9.220035</td>\n",
       "    </tr>\n",
       "    <tr>\n",
       "      <td>автомобиль</td>\n",
       "      <td>403</td>\n",
       "      <td>4306</td>\n",
       "      <td>9.359034</td>\n",
       "    </tr>\n",
       "  </tbody>\n",
       "</table>\n",
       "</div>"
      ],
      "text/plain": [
       "               sum  count     share\n",
       "purpose_group                      \n",
       "недвижимость   782  10811  7.233373\n",
       "свадьба        186   2324  8.003442\n",
       "образование    370   4013  9.220035\n",
       "автомобиль     403   4306  9.359034"
      ]
     },
     "execution_count": 77,
     "metadata": {},
     "output_type": "execute_result"
    }
   ],
   "source": [
    "purpose_debt = data.groupby('purpose_group')['debt'].agg(['sum','count'])\n",
    "purpose_debt['share'] = purpose_debt['sum']/purpose_debt['count']*100\n",
    "purpose_debt.sort_values('share')"
   ]
  },
  {
   "cell_type": "markdown",
   "metadata": {},
   "source": [
    "**Вывод**"
   ]
  },
  {
   "cell_type": "markdown",
   "metadata": {},
   "source": [
    "В данном случае видно, что процент должников с целью кредита \"недвижимость\" меньше всего. Возможно это связано с тем, что люди не очень хотят терять свою недвижимость в случае невыплаты кредита банком, так как обычно недвижимость принадлежит банку до полной выплаты кредита.\n",
    "\n",
    "Процент должников среди цели кредита \"образование\" и \"автомобиль\" больше всего."
   ]
  },
  {
   "cell_type": "markdown",
   "metadata": {},
   "source": [
    "## Общий вывод"
   ]
  },
  {
   "cell_type": "markdown",
   "metadata": {},
   "source": [
    "В данном проекте от заказчика был получен датасет с данными о потенциальных заемщиках.\n",
    "\n",
    "Для работы с данными предварительно были проведены следующие этапы работы с датасетом:\n",
    "1. Очищены пропуски в данных и заменены на медианные значения для групп, к котором относились эти заемщики.\n",
    "2. Удалены дубликаты.\n",
    "3. Проведена категоризация данных для упрощения ответов на вопросы заказчика.\n",
    "\n",
    "На последнем этапе были даны ответы на вопросы заказчика о том, как разные категории заемщиков возвращают кредиты.\n",
    "\n",
    "В дальнейшем предполагается, что заказчик будет использовать данную информацию для одобрения кредитов для тех или иных категорий потенциальных заемщиков."
   ]
  }
 ],
 "metadata": {
  "ExecuteTimeLog": [
   {
    "duration": 573,
    "start_time": "2021-11-20T12:55:57.074Z"
   },
   {
    "duration": 49,
    "start_time": "2021-11-20T12:56:50.038Z"
   },
   {
    "duration": 60,
    "start_time": "2021-11-20T12:56:59.769Z"
   },
   {
    "duration": 55,
    "start_time": "2021-11-20T12:57:23.150Z"
   },
   {
    "duration": 64,
    "start_time": "2021-11-20T12:57:52.559Z"
   },
   {
    "duration": 352,
    "start_time": "2021-11-20T12:58:27.161Z"
   },
   {
    "duration": 71,
    "start_time": "2021-11-20T12:58:29.750Z"
   },
   {
    "duration": 51,
    "start_time": "2021-11-20T13:01:39.601Z"
   },
   {
    "duration": 85,
    "start_time": "2021-11-20T13:02:24.104Z"
   },
   {
    "duration": 14,
    "start_time": "2021-11-20T13:05:27.150Z"
   },
   {
    "duration": 11,
    "start_time": "2021-11-20T13:05:49.814Z"
   },
   {
    "duration": 100,
    "start_time": "2021-11-21T08:33:59.219Z"
   },
   {
    "duration": 3,
    "start_time": "2021-11-21T08:39:36.450Z"
   },
   {
    "duration": 92,
    "start_time": "2021-11-21T08:47:43.429Z"
   },
   {
    "duration": 374,
    "start_time": "2021-11-21T08:48:01.176Z"
   },
   {
    "duration": 293,
    "start_time": "2021-11-21T08:48:05.444Z"
   },
   {
    "duration": 802,
    "start_time": "2021-11-21T08:48:11.935Z"
   },
   {
    "duration": 27,
    "start_time": "2021-11-21T08:48:12.740Z"
   },
   {
    "duration": 14,
    "start_time": "2021-11-21T08:48:13.680Z"
   },
   {
    "duration": 12,
    "start_time": "2021-11-21T08:48:17.166Z"
   },
   {
    "duration": 13,
    "start_time": "2021-11-21T08:48:20.341Z"
   },
   {
    "duration": 13,
    "start_time": "2021-11-21T08:48:24.228Z"
   },
   {
    "duration": 31,
    "start_time": "2021-11-21T08:48:52.603Z"
   },
   {
    "duration": 52,
    "start_time": "2021-11-21T08:49:02.709Z"
   },
   {
    "duration": 29,
    "start_time": "2021-11-21T08:49:34.895Z"
   },
   {
    "duration": 33,
    "start_time": "2021-11-21T08:51:25.779Z"
   },
   {
    "duration": 1144,
    "start_time": "2021-11-21T08:56:44.904Z"
   },
   {
    "duration": 656,
    "start_time": "2021-11-21T08:56:49.811Z"
   },
   {
    "duration": 98,
    "start_time": "2021-11-21T08:57:18.418Z"
   },
   {
    "duration": 112,
    "start_time": "2021-11-21T08:57:23.190Z"
   },
   {
    "duration": 469,
    "start_time": "2021-11-21T08:58:08.549Z"
   },
   {
    "duration": 286,
    "start_time": "2021-11-21T08:58:15.329Z"
   },
   {
    "duration": 370,
    "start_time": "2021-11-21T08:58:48.970Z"
   },
   {
    "duration": 295,
    "start_time": "2021-11-21T08:58:54.335Z"
   },
   {
    "duration": 302,
    "start_time": "2021-11-21T08:59:17.256Z"
   },
   {
    "duration": 291,
    "start_time": "2021-11-21T08:59:21.645Z"
   },
   {
    "duration": 297,
    "start_time": "2021-11-21T09:00:57.170Z"
   },
   {
    "duration": 7,
    "start_time": "2021-11-21T09:01:42.341Z"
   },
   {
    "duration": 8,
    "start_time": "2021-11-21T09:01:49.274Z"
   },
   {
    "duration": 7,
    "start_time": "2021-11-21T09:02:01.778Z"
   },
   {
    "duration": 7,
    "start_time": "2021-11-21T09:02:05.857Z"
   },
   {
    "duration": 4,
    "start_time": "2021-11-21T09:07:27.596Z"
   },
   {
    "duration": 4236,
    "start_time": "2021-11-21T09:07:53.023Z"
   },
   {
    "duration": 385,
    "start_time": "2021-11-21T09:08:21.079Z"
   },
   {
    "duration": 373,
    "start_time": "2021-11-21T09:09:07.782Z"
   },
   {
    "duration": 22,
    "start_time": "2021-11-21T09:11:12.348Z"
   },
   {
    "duration": 26,
    "start_time": "2021-11-21T09:11:16.810Z"
   },
   {
    "duration": 26,
    "start_time": "2021-11-21T09:11:23.822Z"
   },
   {
    "duration": 33,
    "start_time": "2021-11-21T09:13:58.317Z"
   },
   {
    "duration": 4,
    "start_time": "2021-11-21T09:14:19.097Z"
   },
   {
    "duration": 6,
    "start_time": "2021-11-21T09:14:25.529Z"
   },
   {
    "duration": 46,
    "start_time": "2021-11-21T09:14:44.369Z"
   },
   {
    "duration": 32,
    "start_time": "2021-11-21T09:14:51.074Z"
   },
   {
    "duration": 32,
    "start_time": "2021-11-21T09:14:57.837Z"
   },
   {
    "duration": 7,
    "start_time": "2021-11-21T09:15:42.750Z"
   },
   {
    "duration": 17,
    "start_time": "2021-11-21T09:15:48.444Z"
   },
   {
    "duration": 36,
    "start_time": "2021-11-21T09:15:52.144Z"
   },
   {
    "duration": 10,
    "start_time": "2021-11-21T09:16:33.854Z"
   },
   {
    "duration": 7,
    "start_time": "2021-11-21T09:16:41.703Z"
   },
   {
    "duration": 4568,
    "start_time": "2021-11-21T09:17:58.659Z"
   },
   {
    "duration": -15,
    "start_time": "2021-11-21T09:18:03.244Z"
   },
   {
    "duration": 4577,
    "start_time": "2021-11-21T09:18:04.632Z"
   },
   {
    "duration": -67,
    "start_time": "2021-11-21T09:18:09.278Z"
   },
   {
    "duration": 12,
    "start_time": "2021-11-21T09:18:36.236Z"
   },
   {
    "duration": 4650,
    "start_time": "2021-11-21T09:18:51.560Z"
   },
   {
    "duration": 4970,
    "start_time": "2021-11-21T09:19:09.984Z"
   },
   {
    "duration": 4685,
    "start_time": "2021-11-21T09:19:23.933Z"
   },
   {
    "duration": 520,
    "start_time": "2021-11-21T09:21:53.838Z"
   },
   {
    "duration": 35,
    "start_time": "2021-11-21T09:22:08.089Z"
   },
   {
    "duration": 35,
    "start_time": "2021-11-21T09:22:18.333Z"
   },
   {
    "duration": 14,
    "start_time": "2021-11-21T09:22:42.461Z"
   },
   {
    "duration": 15,
    "start_time": "2021-11-21T09:22:45.424Z"
   },
   {
    "duration": 13,
    "start_time": "2021-11-21T09:26:30.768Z"
   },
   {
    "duration": 12,
    "start_time": "2021-11-21T09:28:44.442Z"
   },
   {
    "duration": 9,
    "start_time": "2021-11-21T09:28:51.877Z"
   },
   {
    "duration": 9,
    "start_time": "2021-11-21T09:28:56.425Z"
   },
   {
    "duration": 10,
    "start_time": "2021-11-21T09:29:05.193Z"
   },
   {
    "duration": 12,
    "start_time": "2021-11-21T09:29:45.982Z"
   },
   {
    "duration": 6,
    "start_time": "2021-11-21T09:30:51.290Z"
   },
   {
    "duration": 11,
    "start_time": "2021-11-21T09:31:59.124Z"
   },
   {
    "duration": 34,
    "start_time": "2021-11-21T09:32:02.909Z"
   },
   {
    "duration": 36,
    "start_time": "2021-11-21T09:32:12.934Z"
   },
   {
    "duration": 456,
    "start_time": "2021-11-21T09:32:18.061Z"
   },
   {
    "duration": 9,
    "start_time": "2021-11-21T09:32:23.843Z"
   },
   {
    "duration": 8,
    "start_time": "2021-11-21T09:32:27.555Z"
   },
   {
    "duration": 9,
    "start_time": "2021-11-21T09:32:31.416Z"
   },
   {
    "duration": 94,
    "start_time": "2021-11-21T09:33:16.699Z"
   },
   {
    "duration": 14,
    "start_time": "2021-11-21T09:35:53.306Z"
   },
   {
    "duration": 9,
    "start_time": "2021-11-21T09:35:59.020Z"
   },
   {
    "duration": 12,
    "start_time": "2021-11-21T09:36:57.824Z"
   },
   {
    "duration": 10,
    "start_time": "2021-11-21T09:43:55.721Z"
   },
   {
    "duration": 34,
    "start_time": "2021-11-21T09:57:26.313Z"
   },
   {
    "duration": 12,
    "start_time": "2021-11-21T09:57:39.738Z"
   },
   {
    "duration": 35,
    "start_time": "2021-11-21T09:58:42.235Z"
   },
   {
    "duration": 16,
    "start_time": "2021-11-21T09:58:56.101Z"
   },
   {
    "duration": 16,
    "start_time": "2021-11-21T10:00:38.443Z"
   },
   {
    "duration": 11,
    "start_time": "2021-11-21T10:00:53.380Z"
   },
   {
    "duration": 10,
    "start_time": "2021-11-21T10:01:23.954Z"
   },
   {
    "duration": 111,
    "start_time": "2021-11-21T10:01:57.590Z"
   },
   {
    "duration": 8,
    "start_time": "2021-11-21T10:07:04.565Z"
   },
   {
    "duration": 12,
    "start_time": "2021-11-21T10:07:07.537Z"
   },
   {
    "duration": 32,
    "start_time": "2021-11-21T10:07:19.676Z"
   },
   {
    "duration": 11,
    "start_time": "2021-11-21T10:07:26.322Z"
   },
   {
    "duration": 11,
    "start_time": "2021-11-21T10:09:23.812Z"
   },
   {
    "duration": 10,
    "start_time": "2021-11-21T10:09:25.705Z"
   },
   {
    "duration": 8,
    "start_time": "2021-11-21T10:13:23.305Z"
   },
   {
    "duration": 19,
    "start_time": "2021-11-21T10:13:37.719Z"
   },
   {
    "duration": 15,
    "start_time": "2021-11-21T10:14:01.056Z"
   },
   {
    "duration": 33,
    "start_time": "2021-11-21T10:14:21.216Z"
   },
   {
    "duration": 18,
    "start_time": "2021-11-21T10:14:26.586Z"
   },
   {
    "duration": 14,
    "start_time": "2021-11-21T10:14:45.587Z"
   },
   {
    "duration": 91,
    "start_time": "2021-11-21T10:25:23.677Z"
   },
   {
    "duration": 19,
    "start_time": "2021-11-21T10:25:36.982Z"
   },
   {
    "duration": 20,
    "start_time": "2021-11-21T10:25:40.166Z"
   },
   {
    "duration": 20,
    "start_time": "2021-11-21T10:31:12.543Z"
   },
   {
    "duration": 18,
    "start_time": "2021-11-21T10:31:18.383Z"
   },
   {
    "duration": 17,
    "start_time": "2021-11-21T10:31:32.283Z"
   },
   {
    "duration": 14,
    "start_time": "2021-11-21T10:31:34.784Z"
   },
   {
    "duration": 22,
    "start_time": "2021-11-21T10:31:38.445Z"
   },
   {
    "duration": 19,
    "start_time": "2021-11-21T10:31:50.729Z"
   },
   {
    "duration": 16,
    "start_time": "2021-11-21T10:32:18.917Z"
   },
   {
    "duration": 17,
    "start_time": "2021-11-21T10:32:40.917Z"
   },
   {
    "duration": 16,
    "start_time": "2021-11-21T10:34:37.508Z"
   },
   {
    "duration": 14,
    "start_time": "2021-11-21T10:34:39.897Z"
   },
   {
    "duration": 16,
    "start_time": "2021-11-21T10:34:56.353Z"
   },
   {
    "duration": 18,
    "start_time": "2021-11-21T10:35:56.399Z"
   },
   {
    "duration": 19,
    "start_time": "2021-11-21T10:36:59.758Z"
   },
   {
    "duration": 15,
    "start_time": "2021-11-21T10:39:00.180Z"
   },
   {
    "duration": 7,
    "start_time": "2021-11-21T10:40:37.150Z"
   },
   {
    "duration": 7,
    "start_time": "2021-11-21T10:40:39.829Z"
   },
   {
    "duration": 8,
    "start_time": "2021-11-21T10:40:42.891Z"
   },
   {
    "duration": 15,
    "start_time": "2021-11-21T10:40:47.571Z"
   },
   {
    "duration": 7,
    "start_time": "2021-11-21T10:40:56.823Z"
   },
   {
    "duration": 10,
    "start_time": "2021-11-21T10:41:11.982Z"
   },
   {
    "duration": 16,
    "start_time": "2021-11-21T10:41:12.726Z"
   },
   {
    "duration": 6,
    "start_time": "2021-11-21T10:41:21.984Z"
   },
   {
    "duration": 5,
    "start_time": "2021-11-21T10:41:24.210Z"
   },
   {
    "duration": 5,
    "start_time": "2021-11-21T10:42:23.066Z"
   },
   {
    "duration": 10,
    "start_time": "2021-11-21T10:42:50.706Z"
   },
   {
    "duration": 5,
    "start_time": "2021-11-21T10:42:52.984Z"
   },
   {
    "duration": 15,
    "start_time": "2021-11-21T10:42:53.418Z"
   },
   {
    "duration": 6,
    "start_time": "2021-11-21T10:43:05.576Z"
   },
   {
    "duration": 6,
    "start_time": "2021-11-21T10:43:13.019Z"
   },
   {
    "duration": 5,
    "start_time": "2021-11-21T10:43:20.781Z"
   },
   {
    "duration": 6,
    "start_time": "2021-11-21T10:44:14.169Z"
   },
   {
    "duration": 15,
    "start_time": "2021-11-21T10:44:15.666Z"
   },
   {
    "duration": 15,
    "start_time": "2021-11-21T10:44:42.846Z"
   },
   {
    "duration": 62,
    "start_time": "2021-11-21T10:44:49.723Z"
   },
   {
    "duration": 21,
    "start_time": "2021-11-21T10:44:50.478Z"
   },
   {
    "duration": 15,
    "start_time": "2021-11-21T10:44:52.014Z"
   },
   {
    "duration": 16,
    "start_time": "2021-11-21T10:44:57.503Z"
   },
   {
    "duration": 8,
    "start_time": "2021-11-21T10:44:58.656Z"
   },
   {
    "duration": 13,
    "start_time": "2021-11-21T10:44:59.478Z"
   },
   {
    "duration": 12,
    "start_time": "2021-11-21T10:45:00.824Z"
   },
   {
    "duration": 14,
    "start_time": "2021-11-21T10:45:02.242Z"
   },
   {
    "duration": 15,
    "start_time": "2021-11-21T10:45:03.249Z"
   },
   {
    "duration": 14,
    "start_time": "2021-11-21T10:45:07.622Z"
   },
   {
    "duration": 15,
    "start_time": "2021-11-21T10:45:28.172Z"
   },
   {
    "duration": 19,
    "start_time": "2021-11-21T10:45:42.300Z"
   },
   {
    "duration": 16,
    "start_time": "2021-11-21T10:45:47.278Z"
   },
   {
    "duration": 18,
    "start_time": "2021-11-21T10:45:47.832Z"
   },
   {
    "duration": 15,
    "start_time": "2021-11-21T10:45:56.633Z"
   },
   {
    "duration": 18,
    "start_time": "2021-11-21T10:45:57.268Z"
   },
   {
    "duration": 45,
    "start_time": "2021-11-21T10:46:02.784Z"
   },
   {
    "duration": 18,
    "start_time": "2021-11-21T10:46:04.133Z"
   },
   {
    "duration": 71,
    "start_time": "2021-11-21T10:46:13.325Z"
   },
   {
    "duration": 48,
    "start_time": "2021-11-21T10:46:18.368Z"
   },
   {
    "duration": 42,
    "start_time": "2021-11-21T10:46:29.999Z"
   },
   {
    "duration": 19,
    "start_time": "2021-11-21T10:46:33.770Z"
   },
   {
    "duration": 47,
    "start_time": "2021-11-21T10:46:40.698Z"
   },
   {
    "duration": 42,
    "start_time": "2021-11-21T10:47:43.558Z"
   },
   {
    "duration": 70,
    "start_time": "2021-11-21T10:47:49.222Z"
   },
   {
    "duration": 19,
    "start_time": "2021-11-21T10:47:49.668Z"
   },
   {
    "duration": 14,
    "start_time": "2021-11-21T10:47:50.184Z"
   },
   {
    "duration": 13,
    "start_time": "2021-11-21T10:47:52.449Z"
   },
   {
    "duration": 11,
    "start_time": "2021-11-21T10:47:53.372Z"
   },
   {
    "duration": 12,
    "start_time": "2021-11-21T10:47:54.007Z"
   },
   {
    "duration": 10,
    "start_time": "2021-11-21T10:47:54.812Z"
   },
   {
    "duration": 40,
    "start_time": "2021-11-21T10:47:56.345Z"
   },
   {
    "duration": 61,
    "start_time": "2021-11-21T10:48:17.889Z"
   },
   {
    "duration": 19,
    "start_time": "2021-11-21T10:48:18.294Z"
   },
   {
    "duration": 14,
    "start_time": "2021-11-21T10:48:18.697Z"
   },
   {
    "duration": 12,
    "start_time": "2021-11-21T10:48:20.130Z"
   },
   {
    "duration": 8,
    "start_time": "2021-11-21T10:48:20.550Z"
   },
   {
    "duration": 12,
    "start_time": "2021-11-21T10:48:20.961Z"
   },
   {
    "duration": 10,
    "start_time": "2021-11-21T10:48:21.413Z"
   },
   {
    "duration": 44,
    "start_time": "2021-11-21T10:48:23.318Z"
   },
   {
    "duration": 17,
    "start_time": "2021-11-21T10:48:27.742Z"
   },
   {
    "duration": 14,
    "start_time": "2021-11-21T10:48:36.839Z"
   },
   {
    "duration": 17,
    "start_time": "2021-11-21T10:48:46.317Z"
   },
   {
    "duration": 12,
    "start_time": "2021-11-21T10:48:49.166Z"
   },
   {
    "duration": 44,
    "start_time": "2021-11-21T10:48:57.063Z"
   },
   {
    "duration": 13,
    "start_time": "2021-11-21T10:49:02.179Z"
   },
   {
    "duration": 60,
    "start_time": "2021-11-21T10:49:06.609Z"
   },
   {
    "duration": 20,
    "start_time": "2021-11-21T10:49:07.255Z"
   },
   {
    "duration": 14,
    "start_time": "2021-11-21T10:49:07.846Z"
   },
   {
    "duration": 14,
    "start_time": "2021-11-21T10:49:09.379Z"
   },
   {
    "duration": 10,
    "start_time": "2021-11-21T10:49:09.804Z"
   },
   {
    "duration": 13,
    "start_time": "2021-11-21T10:49:10.363Z"
   },
   {
    "duration": 10,
    "start_time": "2021-11-21T10:49:10.791Z"
   },
   {
    "duration": 43,
    "start_time": "2021-11-21T10:49:12.726Z"
   },
   {
    "duration": 14,
    "start_time": "2021-11-21T10:49:14.275Z"
   },
   {
    "duration": 14,
    "start_time": "2021-11-21T10:49:20.745Z"
   },
   {
    "duration": 18,
    "start_time": "2021-11-21T10:49:36.763Z"
   },
   {
    "duration": 14,
    "start_time": "2021-11-21T10:49:39.537Z"
   },
   {
    "duration": 16,
    "start_time": "2021-11-21T10:49:43.115Z"
   },
   {
    "duration": 19,
    "start_time": "2021-11-21T10:52:19.287Z"
   },
   {
    "duration": 13,
    "start_time": "2021-11-21T10:52:19.840Z"
   },
   {
    "duration": 14,
    "start_time": "2021-11-21T10:52:22.808Z"
   },
   {
    "duration": 7,
    "start_time": "2021-11-21T10:53:27.544Z"
   },
   {
    "duration": 16,
    "start_time": "2021-11-21T10:53:32.696Z"
   },
   {
    "duration": 6,
    "start_time": "2021-11-21T10:53:45.062Z"
   },
   {
    "duration": 17,
    "start_time": "2021-11-21T10:53:56.458Z"
   },
   {
    "duration": 5,
    "start_time": "2021-11-21T10:54:21.015Z"
   },
   {
    "duration": 17,
    "start_time": "2021-11-21T10:54:24.693Z"
   },
   {
    "duration": 15,
    "start_time": "2021-11-21T10:54:31.343Z"
   },
   {
    "duration": 5,
    "start_time": "2021-11-21T10:54:41.983Z"
   },
   {
    "duration": 17,
    "start_time": "2021-11-21T10:54:42.443Z"
   },
   {
    "duration": 5,
    "start_time": "2021-11-21T10:54:52.673Z"
   },
   {
    "duration": 97,
    "start_time": "2021-11-21T10:55:05.024Z"
   },
   {
    "duration": 15,
    "start_time": "2021-11-21T10:55:12.466Z"
   },
   {
    "duration": 22,
    "start_time": "2021-11-21T10:56:57.347Z"
   },
   {
    "duration": 21,
    "start_time": "2021-11-21T10:57:00.667Z"
   },
   {
    "duration": 93,
    "start_time": "2021-11-21T10:57:32.044Z"
   },
   {
    "duration": 21,
    "start_time": "2021-11-21T10:57:40.875Z"
   },
   {
    "duration": 20,
    "start_time": "2021-11-21T10:57:56.160Z"
   },
   {
    "duration": 7,
    "start_time": "2021-11-21T10:58:59.684Z"
   },
   {
    "duration": 89,
    "start_time": "2021-11-21T11:00:13.014Z"
   },
   {
    "duration": 279,
    "start_time": "2021-11-21T11:00:34.452Z"
   },
   {
    "duration": 356,
    "start_time": "2021-11-21T11:00:37.828Z"
   },
   {
    "duration": 296,
    "start_time": "2021-11-21T11:00:55.357Z"
   },
   {
    "duration": 299,
    "start_time": "2021-11-21T11:01:11.921Z"
   },
   {
    "duration": 17,
    "start_time": "2021-11-21T11:02:58.921Z"
   },
   {
    "duration": 14,
    "start_time": "2021-11-21T11:03:09.975Z"
   },
   {
    "duration": 8,
    "start_time": "2021-11-21T11:03:14.638Z"
   },
   {
    "duration": 22,
    "start_time": "2021-11-21T11:03:22.936Z"
   },
   {
    "duration": 8,
    "start_time": "2021-11-21T11:04:16.094Z"
   },
   {
    "duration": 16,
    "start_time": "2021-11-21T11:04:49.080Z"
   },
   {
    "duration": 9,
    "start_time": "2021-11-21T11:04:49.567Z"
   },
   {
    "duration": 159,
    "start_time": "2021-11-21T11:04:50.870Z"
   },
   {
    "duration": 22,
    "start_time": "2021-11-21T11:05:04.009Z"
   },
   {
    "duration": 22,
    "start_time": "2021-11-21T11:10:23.586Z"
   },
   {
    "duration": 6,
    "start_time": "2021-11-21T11:10:27.746Z"
   },
   {
    "duration": 13,
    "start_time": "2021-11-21T11:11:01.753Z"
   },
   {
    "duration": 12,
    "start_time": "2021-11-21T11:11:02.637Z"
   },
   {
    "duration": 13,
    "start_time": "2021-11-21T11:11:05.572Z"
   },
   {
    "duration": 64,
    "start_time": "2021-11-21T11:11:11.974Z"
   },
   {
    "duration": 19,
    "start_time": "2021-11-21T11:11:12.320Z"
   },
   {
    "duration": 14,
    "start_time": "2021-11-21T11:11:12.712Z"
   },
   {
    "duration": 13,
    "start_time": "2021-11-21T11:11:19.581Z"
   },
   {
    "duration": 10,
    "start_time": "2021-11-21T11:11:20.672Z"
   },
   {
    "duration": 11,
    "start_time": "2021-11-21T11:11:21.470Z"
   },
   {
    "duration": 9,
    "start_time": "2021-11-21T11:11:22.281Z"
   },
   {
    "duration": 20,
    "start_time": "2021-11-21T11:11:23.554Z"
   },
   {
    "duration": 12,
    "start_time": "2021-11-21T11:11:24.394Z"
   },
   {
    "duration": 14,
    "start_time": "2021-11-21T11:11:26.670Z"
   },
   {
    "duration": 7,
    "start_time": "2021-11-21T11:11:33.051Z"
   },
   {
    "duration": 16,
    "start_time": "2021-11-21T11:11:34.032Z"
   },
   {
    "duration": 22,
    "start_time": "2021-11-21T11:11:38.962Z"
   },
   {
    "duration": 7,
    "start_time": "2021-11-21T11:11:50.480Z"
   },
   {
    "duration": 15,
    "start_time": "2021-11-21T11:11:51.551Z"
   },
   {
    "duration": 9,
    "start_time": "2021-11-21T11:11:54.166Z"
   },
   {
    "duration": 23,
    "start_time": "2021-11-21T11:11:55.422Z"
   },
   {
    "duration": 13,
    "start_time": "2021-11-21T11:12:21.646Z"
   },
   {
    "duration": 14,
    "start_time": "2021-11-21T11:12:22.741Z"
   },
   {
    "duration": 16,
    "start_time": "2021-11-21T11:13:13.301Z"
   },
   {
    "duration": 6,
    "start_time": "2021-11-21T11:13:16.906Z"
   },
   {
    "duration": 16,
    "start_time": "2021-11-21T11:13:18.081Z"
   },
   {
    "duration": 60,
    "start_time": "2021-11-21T11:13:23.104Z"
   },
   {
    "duration": 28,
    "start_time": "2021-11-21T11:13:23.494Z"
   },
   {
    "duration": 16,
    "start_time": "2021-11-21T11:13:23.857Z"
   },
   {
    "duration": 13,
    "start_time": "2021-11-21T11:13:25.485Z"
   },
   {
    "duration": 13,
    "start_time": "2021-11-21T11:13:25.927Z"
   },
   {
    "duration": 14,
    "start_time": "2021-11-21T11:13:26.427Z"
   },
   {
    "duration": 10,
    "start_time": "2021-11-21T11:13:27.223Z"
   },
   {
    "duration": 15,
    "start_time": "2021-11-21T11:13:38.917Z"
   },
   {
    "duration": 12,
    "start_time": "2021-11-21T11:13:41.484Z"
   },
   {
    "duration": 15,
    "start_time": "2021-11-21T11:13:46.645Z"
   },
   {
    "duration": 6,
    "start_time": "2021-11-21T11:13:51.237Z"
   },
   {
    "duration": 16,
    "start_time": "2021-11-21T11:13:52.317Z"
   },
   {
    "duration": 13,
    "start_time": "2021-11-21T11:14:28.276Z"
   },
   {
    "duration": 23,
    "start_time": "2021-11-21T11:14:33.343Z"
   },
   {
    "duration": 6,
    "start_time": "2021-11-21T11:14:52.887Z"
   },
   {
    "duration": 15,
    "start_time": "2021-11-21T11:14:57.900Z"
   },
   {
    "duration": 9,
    "start_time": "2021-11-21T11:14:59.616Z"
   },
   {
    "duration": 25,
    "start_time": "2021-11-21T11:15:03.169Z"
   },
   {
    "duration": 35,
    "start_time": "2021-11-21T11:16:23.503Z"
   },
   {
    "duration": 24,
    "start_time": "2021-11-21T11:16:44.633Z"
   },
   {
    "duration": 24,
    "start_time": "2021-11-21T11:17:05.786Z"
   },
   {
    "duration": 25,
    "start_time": "2021-11-21T11:17:09.907Z"
   },
   {
    "duration": 24,
    "start_time": "2021-11-21T11:17:10.490Z"
   },
   {
    "duration": 59,
    "start_time": "2021-11-21T11:19:25.463Z"
   },
   {
    "duration": 20,
    "start_time": "2021-11-21T11:19:25.857Z"
   },
   {
    "duration": 16,
    "start_time": "2021-11-21T11:19:26.166Z"
   },
   {
    "duration": 14,
    "start_time": "2021-11-21T11:19:27.633Z"
   },
   {
    "duration": 9,
    "start_time": "2021-11-21T11:19:28.054Z"
   },
   {
    "duration": 12,
    "start_time": "2021-11-21T11:19:28.461Z"
   },
   {
    "duration": 10,
    "start_time": "2021-11-21T11:19:28.981Z"
   },
   {
    "duration": 13,
    "start_time": "2021-11-21T11:19:30.120Z"
   },
   {
    "duration": 13,
    "start_time": "2021-11-21T11:19:30.669Z"
   },
   {
    "duration": 15,
    "start_time": "2021-11-21T11:19:32.850Z"
   },
   {
    "duration": 6,
    "start_time": "2021-11-21T11:19:33.743Z"
   },
   {
    "duration": 16,
    "start_time": "2021-11-21T11:19:34.667Z"
   },
   {
    "duration": 22,
    "start_time": "2021-11-21T11:19:37.022Z"
   },
   {
    "duration": 6,
    "start_time": "2021-11-21T11:19:37.916Z"
   },
   {
    "duration": 17,
    "start_time": "2021-11-21T11:19:38.756Z"
   },
   {
    "duration": 9,
    "start_time": "2021-11-21T11:19:39.371Z"
   },
   {
    "duration": 25,
    "start_time": "2021-11-21T11:19:40.618Z"
   },
   {
    "duration": 28,
    "start_time": "2021-11-21T11:19:41.752Z"
   },
   {
    "duration": 23,
    "start_time": "2021-11-21T11:19:42.449Z"
   },
   {
    "duration": 1430,
    "start_time": "2021-11-21T17:38:53.993Z"
   },
   {
    "duration": 30,
    "start_time": "2021-11-21T17:38:58.779Z"
   },
   {
    "duration": 17,
    "start_time": "2021-11-21T17:39:04.179Z"
   },
   {
    "duration": 729,
    "start_time": "2021-11-21T17:40:19.189Z"
   },
   {
    "duration": 453,
    "start_time": "2021-11-21T17:40:32.188Z"
   },
   {
    "duration": 324,
    "start_time": "2021-11-21T17:40:37.742Z"
   },
   {
    "duration": 932,
    "start_time": "2021-11-21T17:40:43.277Z"
   },
   {
    "duration": 296,
    "start_time": "2021-11-21T17:41:21.312Z"
   },
   {
    "duration": 4,
    "start_time": "2021-11-21T17:41:33.134Z"
   },
   {
    "duration": 286,
    "start_time": "2021-11-21T17:41:34.217Z"
   },
   {
    "duration": 298,
    "start_time": "2021-11-21T17:41:49.273Z"
   },
   {
    "duration": 4,
    "start_time": "2021-11-21T17:41:50.677Z"
   },
   {
    "duration": 272,
    "start_time": "2021-11-21T17:41:51.244Z"
   },
   {
    "duration": 290,
    "start_time": "2021-11-21T17:41:54.568Z"
   },
   {
    "duration": 290,
    "start_time": "2021-11-21T17:42:10.572Z"
   },
   {
    "duration": 378,
    "start_time": "2021-11-21T17:42:47.706Z"
   },
   {
    "duration": 4,
    "start_time": "2021-11-21T17:42:48.213Z"
   },
   {
    "duration": 1079,
    "start_time": "2021-11-21T17:42:48.807Z"
   },
   {
    "duration": 4,
    "start_time": "2021-11-21T17:43:10.339Z"
   },
   {
    "duration": 280,
    "start_time": "2021-11-21T17:43:21.260Z"
   },
   {
    "duration": 11,
    "start_time": "2021-11-21T17:43:53.747Z"
   },
   {
    "duration": 14,
    "start_time": "2021-11-21T17:44:07.826Z"
   },
   {
    "duration": 7,
    "start_time": "2021-11-21T17:44:17.132Z"
   },
   {
    "duration": 13,
    "start_time": "2021-11-21T17:44:24.924Z"
   },
   {
    "duration": 12,
    "start_time": "2021-11-21T17:44:36.991Z"
   },
   {
    "duration": 13,
    "start_time": "2021-11-21T17:44:39.857Z"
   },
   {
    "duration": 210,
    "start_time": "2021-11-21T17:45:24.668Z"
   },
   {
    "duration": 4,
    "start_time": "2021-11-21T17:45:29.096Z"
   },
   {
    "duration": 221,
    "start_time": "2021-11-21T17:45:30.126Z"
   },
   {
    "duration": 824,
    "start_time": "2021-11-21T17:45:40.506Z"
   },
   {
    "duration": 207,
    "start_time": "2021-11-21T17:46:09.937Z"
   },
   {
    "duration": 319,
    "start_time": "2021-11-21T17:46:24.881Z"
   },
   {
    "duration": 4,
    "start_time": "2021-11-21T17:46:57.745Z"
   },
   {
    "duration": 351,
    "start_time": "2021-11-21T17:46:57.920Z"
   },
   {
    "duration": 226,
    "start_time": "2021-11-21T17:47:12.611Z"
   },
   {
    "duration": 3,
    "start_time": "2021-11-21T17:47:14.795Z"
   },
   {
    "duration": 216,
    "start_time": "2021-11-21T17:47:15.107Z"
   },
   {
    "duration": 214,
    "start_time": "2021-11-21T17:47:46.149Z"
   },
   {
    "duration": 3,
    "start_time": "2021-11-21T17:47:48.905Z"
   },
   {
    "duration": 222,
    "start_time": "2021-11-21T17:47:49.150Z"
   },
   {
    "duration": 304,
    "start_time": "2021-11-21T17:47:52.821Z"
   },
   {
    "duration": 227,
    "start_time": "2021-11-21T17:48:16.330Z"
   },
   {
    "duration": 217,
    "start_time": "2021-11-21T17:48:53.221Z"
   },
   {
    "duration": 4,
    "start_time": "2021-11-21T17:48:55.056Z"
   },
   {
    "duration": 209,
    "start_time": "2021-11-21T17:48:55.284Z"
   },
   {
    "duration": 4,
    "start_time": "2021-11-21T17:49:09.296Z"
   },
   {
    "duration": 215,
    "start_time": "2021-11-21T17:49:10.476Z"
   },
   {
    "duration": 13,
    "start_time": "2021-11-21T17:49:13.061Z"
   },
   {
    "duration": 33,
    "start_time": "2021-11-21T17:49:19.868Z"
   },
   {
    "duration": 35,
    "start_time": "2021-11-21T17:49:29.081Z"
   },
   {
    "duration": 4,
    "start_time": "2021-11-21T17:49:44.476Z"
   },
   {
    "duration": 205,
    "start_time": "2021-11-21T17:49:44.717Z"
   },
   {
    "duration": 36,
    "start_time": "2021-11-21T17:49:45.526Z"
   },
   {
    "duration": 229,
    "start_time": "2021-11-21T17:49:54.410Z"
   },
   {
    "duration": 360,
    "start_time": "2021-11-21T17:49:59.001Z"
   },
   {
    "duration": 283,
    "start_time": "2021-11-21T17:50:02.354Z"
   },
   {
    "duration": 12,
    "start_time": "2021-11-21T17:50:26.488Z"
   },
   {
    "duration": 12,
    "start_time": "2021-11-21T17:50:39.605Z"
   },
   {
    "duration": 10,
    "start_time": "2021-11-21T17:51:12.640Z"
   },
   {
    "duration": 7,
    "start_time": "2021-11-21T17:51:22.266Z"
   },
   {
    "duration": 331,
    "start_time": "2021-11-21T17:51:39.915Z"
   },
   {
    "duration": 292,
    "start_time": "2021-11-21T17:51:44.535Z"
   },
   {
    "duration": 8,
    "start_time": "2021-11-21T17:52:03.011Z"
   },
   {
    "duration": 4,
    "start_time": "2021-11-21T17:52:06.925Z"
   },
   {
    "duration": 8,
    "start_time": "2021-11-21T17:52:07.093Z"
   },
   {
    "duration": 300,
    "start_time": "2021-11-21T17:52:55.500Z"
   },
   {
    "duration": 4,
    "start_time": "2021-11-21T17:53:19.413Z"
   },
   {
    "duration": 289,
    "start_time": "2021-11-21T17:54:05.919Z"
   },
   {
    "duration": 208,
    "start_time": "2021-11-21T17:54:16.885Z"
   },
   {
    "duration": 3,
    "start_time": "2021-11-21T17:55:34.485Z"
   },
   {
    "duration": 94,
    "start_time": "2021-11-21T17:55:34.957Z"
   },
   {
    "duration": 206,
    "start_time": "2021-11-21T17:56:47.796Z"
   },
   {
    "duration": 204,
    "start_time": "2021-11-21T18:00:07.809Z"
   },
   {
    "duration": 800,
    "start_time": "2021-11-21T18:00:20.482Z"
   },
   {
    "duration": 771,
    "start_time": "2021-11-21T18:00:34.433Z"
   },
   {
    "duration": 216,
    "start_time": "2021-11-21T18:00:54.651Z"
   },
   {
    "duration": 802,
    "start_time": "2021-11-21T18:00:59.562Z"
   },
   {
    "duration": 34,
    "start_time": "2021-11-21T18:01:29.433Z"
   },
   {
    "duration": 36,
    "start_time": "2021-11-21T18:01:38.992Z"
   },
   {
    "duration": 53,
    "start_time": "2021-11-21T18:01:48.197Z"
   },
   {
    "duration": 47,
    "start_time": "2021-11-21T18:01:53.360Z"
   },
   {
    "duration": 34,
    "start_time": "2021-11-21T18:01:57.545Z"
   },
   {
    "duration": 8,
    "start_time": "2021-11-21T18:02:12.604Z"
   },
   {
    "duration": 9,
    "start_time": "2021-11-21T18:02:14.140Z"
   },
   {
    "duration": 881,
    "start_time": "2021-11-21T18:02:20.099Z"
   },
   {
    "duration": 8,
    "start_time": "2021-11-21T18:02:25.039Z"
   },
   {
    "duration": 778,
    "start_time": "2021-11-21T18:02:25.912Z"
   },
   {
    "duration": 988,
    "start_time": "2021-11-21T18:03:04.097Z"
   },
   {
    "duration": 15,
    "start_time": "2021-11-21T18:03:15.645Z"
   },
   {
    "duration": 232,
    "start_time": "2021-11-21T18:03:29.962Z"
   },
   {
    "duration": 221,
    "start_time": "2021-11-21T18:03:56.866Z"
   },
   {
    "duration": 313,
    "start_time": "2021-11-21T18:04:24.905Z"
   },
   {
    "duration": 301,
    "start_time": "2021-11-21T18:04:37.026Z"
   },
   {
    "duration": 300,
    "start_time": "2021-11-21T18:04:40.677Z"
   },
   {
    "duration": 216,
    "start_time": "2021-11-21T18:04:47.362Z"
   },
   {
    "duration": 232,
    "start_time": "2021-11-21T18:04:57.822Z"
   },
   {
    "duration": 352,
    "start_time": "2021-11-21T18:05:04.283Z"
   },
   {
    "duration": 23,
    "start_time": "2021-11-21T18:05:38.642Z"
   },
   {
    "duration": 20,
    "start_time": "2021-11-21T18:05:48.947Z"
   },
   {
    "duration": 216,
    "start_time": "2021-11-21T18:06:13.084Z"
   },
   {
    "duration": 219,
    "start_time": "2021-11-21T18:06:15.248Z"
   },
   {
    "duration": 219,
    "start_time": "2021-11-21T18:13:21.316Z"
   },
   {
    "duration": 214,
    "start_time": "2021-11-21T18:13:24.918Z"
   },
   {
    "duration": 219,
    "start_time": "2021-11-21T18:13:31.552Z"
   },
   {
    "duration": 103,
    "start_time": "2021-11-21T18:17:34.912Z"
   },
   {
    "duration": 194,
    "start_time": "2021-11-21T18:17:38.770Z"
   },
   {
    "duration": 275,
    "start_time": "2021-11-21T18:17:43.270Z"
   },
   {
    "duration": 290,
    "start_time": "2021-11-21T18:17:51.096Z"
   },
   {
    "duration": 297,
    "start_time": "2021-11-21T18:17:54.272Z"
   },
   {
    "duration": 314,
    "start_time": "2021-11-21T18:17:56.760Z"
   },
   {
    "duration": 598,
    "start_time": "2021-11-21T18:18:18.718Z"
   },
   {
    "duration": 301,
    "start_time": "2021-11-21T18:18:40.080Z"
   },
   {
    "duration": 480,
    "start_time": "2021-11-21T18:19:26.834Z"
   },
   {
    "duration": 342,
    "start_time": "2021-11-21T18:19:36.817Z"
   },
   {
    "duration": 190,
    "start_time": "2021-11-21T18:19:57.477Z"
   },
   {
    "duration": 35,
    "start_time": "2021-11-21T18:20:17.446Z"
   },
   {
    "duration": 35,
    "start_time": "2021-11-21T18:20:30.537Z"
   },
   {
    "duration": 34,
    "start_time": "2021-11-21T18:21:08.976Z"
   },
   {
    "duration": 36,
    "start_time": "2021-11-21T18:23:52.369Z"
   },
   {
    "duration": 35,
    "start_time": "2021-11-21T18:24:00.573Z"
   },
   {
    "duration": 203,
    "start_time": "2021-11-21T18:25:52.066Z"
   },
   {
    "duration": 211,
    "start_time": "2021-11-21T18:27:03.887Z"
   },
   {
    "duration": 228,
    "start_time": "2021-11-21T18:27:07.335Z"
   },
   {
    "duration": 197,
    "start_time": "2021-11-21T18:27:38.801Z"
   },
   {
    "duration": 209,
    "start_time": "2021-11-21T18:27:40.282Z"
   },
   {
    "duration": 208,
    "start_time": "2021-11-21T18:28:37.557Z"
   },
   {
    "duration": 196,
    "start_time": "2021-11-21T18:29:43.049Z"
   },
   {
    "duration": 10,
    "start_time": "2021-11-21T18:29:50.571Z"
   },
   {
    "duration": 38,
    "start_time": "2021-11-21T18:29:55.558Z"
   },
   {
    "duration": 98,
    "start_time": "2021-11-21T18:32:05.685Z"
   },
   {
    "duration": 7,
    "start_time": "2021-11-21T18:32:22.234Z"
   },
   {
    "duration": 8,
    "start_time": "2021-11-21T18:34:23.671Z"
   },
   {
    "duration": 7,
    "start_time": "2021-11-21T18:35:10.273Z"
   },
   {
    "duration": 8,
    "start_time": "2021-11-21T18:35:12.920Z"
   },
   {
    "duration": 7,
    "start_time": "2021-11-21T18:35:46.296Z"
   },
   {
    "duration": 20,
    "start_time": "2021-11-21T18:36:26.375Z"
   },
   {
    "duration": 19,
    "start_time": "2021-11-21T18:38:41.640Z"
   },
   {
    "duration": 101,
    "start_time": "2021-11-21T18:40:11.530Z"
   },
   {
    "duration": 6,
    "start_time": "2021-11-21T18:40:28.543Z"
   },
   {
    "duration": 100,
    "start_time": "2021-11-21T18:40:45.104Z"
   },
   {
    "duration": 3,
    "start_time": "2021-11-21T18:41:04.676Z"
   },
   {
    "duration": 4,
    "start_time": "2021-11-21T18:41:07.067Z"
   },
   {
    "duration": 103,
    "start_time": "2021-11-21T18:41:39.100Z"
   },
   {
    "duration": 217,
    "start_time": "2021-11-21T18:41:56.171Z"
   },
   {
    "duration": 196,
    "start_time": "2021-11-21T18:42:03.094Z"
   },
   {
    "duration": 34,
    "start_time": "2021-11-21T18:42:52.626Z"
   },
   {
    "duration": 10,
    "start_time": "2021-11-21T18:43:20.229Z"
   },
   {
    "duration": 13,
    "start_time": "2021-11-21T18:43:25.558Z"
   },
   {
    "duration": 101,
    "start_time": "2021-11-21T18:43:32.404Z"
   },
   {
    "duration": 10,
    "start_time": "2021-11-21T18:43:35.986Z"
   },
   {
    "duration": 15,
    "start_time": "2021-11-21T18:43:45.340Z"
   },
   {
    "duration": 115,
    "start_time": "2021-11-21T18:45:12.022Z"
   },
   {
    "duration": 26,
    "start_time": "2021-11-21T18:45:34.017Z"
   },
   {
    "duration": 13,
    "start_time": "2021-11-21T18:46:38.717Z"
   },
   {
    "duration": 7,
    "start_time": "2021-11-21T18:47:27.184Z"
   },
   {
    "duration": 6,
    "start_time": "2021-11-21T18:47:28.092Z"
   },
   {
    "duration": 7,
    "start_time": "2021-11-21T18:47:29.139Z"
   },
   {
    "duration": 19,
    "start_time": "2021-11-21T18:47:29.915Z"
   },
   {
    "duration": 7,
    "start_time": "2021-11-21T18:47:32.131Z"
   },
   {
    "duration": 315,
    "start_time": "2021-11-21T18:47:33.210Z"
   },
   {
    "duration": 12,
    "start_time": "2021-11-21T18:48:29.363Z"
   },
   {
    "duration": 10,
    "start_time": "2021-11-21T18:48:35.296Z"
   },
   {
    "duration": 5,
    "start_time": "2021-11-21T18:52:49.389Z"
   },
   {
    "duration": 11,
    "start_time": "2021-11-21T18:52:52.919Z"
   },
   {
    "duration": 209,
    "start_time": "2021-11-21T18:53:30.604Z"
   },
   {
    "duration": 219,
    "start_time": "2021-11-21T18:53:32.963Z"
   },
   {
    "duration": 7,
    "start_time": "2021-11-21T18:53:37.356Z"
   },
   {
    "duration": 4,
    "start_time": "2021-11-21T19:01:24.357Z"
   },
   {
    "duration": 4,
    "start_time": "2021-11-21T19:01:31.461Z"
   },
   {
    "duration": 12,
    "start_time": "2021-11-21T19:02:15.842Z"
   },
   {
    "duration": 21,
    "start_time": "2021-11-21T19:02:20.986Z"
   },
   {
    "duration": 11,
    "start_time": "2021-11-21T19:02:32.079Z"
   },
   {
    "duration": 22,
    "start_time": "2021-11-21T19:03:58.780Z"
   },
   {
    "duration": 24,
    "start_time": "2021-11-21T19:04:04.847Z"
   },
   {
    "duration": 21,
    "start_time": "2021-11-21T19:04:45.886Z"
   },
   {
    "duration": 93,
    "start_time": "2021-11-21T19:04:58.600Z"
   },
   {
    "duration": 91,
    "start_time": "2021-11-21T19:05:05.437Z"
   },
   {
    "duration": 15,
    "start_time": "2021-11-21T19:08:52.516Z"
   },
   {
    "duration": 9,
    "start_time": "2021-11-21T19:09:18.541Z"
   },
   {
    "duration": 291,
    "start_time": "2021-11-21T19:11:05.066Z"
   },
   {
    "duration": 341,
    "start_time": "2021-11-21T19:11:11.917Z"
   },
   {
    "duration": 45,
    "start_time": "2021-11-21T19:12:54.804Z"
   },
   {
    "duration": 27,
    "start_time": "2021-11-21T19:14:38.040Z"
   },
   {
    "duration": 43,
    "start_time": "2021-11-21T19:15:57.040Z"
   },
   {
    "duration": 24,
    "start_time": "2021-11-21T19:17:15.323Z"
   },
   {
    "duration": 297,
    "start_time": "2021-11-21T19:17:28.001Z"
   },
   {
    "duration": 26,
    "start_time": "2021-11-21T19:18:18.574Z"
   },
   {
    "duration": 24,
    "start_time": "2021-11-21T19:18:22.142Z"
   },
   {
    "duration": 27,
    "start_time": "2021-11-21T19:18:43.148Z"
   },
   {
    "duration": 40,
    "start_time": "2021-11-21T19:18:48.794Z"
   },
   {
    "duration": 37,
    "start_time": "2021-11-21T19:19:28.585Z"
   },
   {
    "duration": 44,
    "start_time": "2021-11-21T19:20:16.658Z"
   },
   {
    "duration": 104,
    "start_time": "2021-11-21T19:23:51.799Z"
   },
   {
    "duration": 36,
    "start_time": "2021-11-21T19:24:07.039Z"
   },
   {
    "duration": 9,
    "start_time": "2021-11-21T19:25:23.092Z"
   },
   {
    "duration": 34,
    "start_time": "2021-11-21T19:25:23.320Z"
   },
   {
    "duration": 18,
    "start_time": "2021-11-21T19:26:40.758Z"
   },
   {
    "duration": 8,
    "start_time": "2021-11-21T19:26:44.184Z"
   },
   {
    "duration": 17,
    "start_time": "2021-11-21T19:26:45.006Z"
   },
   {
    "duration": 28,
    "start_time": "2021-11-21T19:27:25.800Z"
   },
   {
    "duration": 14,
    "start_time": "2021-11-21T19:27:51.848Z"
   },
   {
    "duration": 61,
    "start_time": "2021-11-21T19:27:57.742Z"
   },
   {
    "duration": 20,
    "start_time": "2021-11-21T19:27:58.019Z"
   },
   {
    "duration": 16,
    "start_time": "2021-11-21T19:27:58.602Z"
   },
   {
    "duration": 4,
    "start_time": "2021-11-21T19:27:58.931Z"
   },
   {
    "duration": 194,
    "start_time": "2021-11-21T19:27:59.184Z"
   },
   {
    "duration": 201,
    "start_time": "2021-11-21T19:27:59.552Z"
   },
   {
    "duration": 240,
    "start_time": "2021-11-21T19:27:59.756Z"
   },
   {
    "duration": 221,
    "start_time": "2021-11-21T19:28:00.073Z"
   },
   {
    "duration": 7,
    "start_time": "2021-11-21T19:28:00.363Z"
   },
   {
    "duration": 8,
    "start_time": "2021-11-21T19:28:04.126Z"
   },
   {
    "duration": 7,
    "start_time": "2021-11-21T19:28:04.885Z"
   },
   {
    "duration": 18,
    "start_time": "2021-11-21T19:28:05.890Z"
   },
   {
    "duration": 7,
    "start_time": "2021-11-21T19:28:07.845Z"
   },
   {
    "duration": 195,
    "start_time": "2021-11-21T19:28:09.362Z"
   },
   {
    "duration": 13,
    "start_time": "2021-11-21T19:28:11.934Z"
   },
   {
    "duration": 10,
    "start_time": "2021-11-21T19:28:13.098Z"
   },
   {
    "duration": 11,
    "start_time": "2021-11-21T19:28:14.488Z"
   },
   {
    "duration": 11,
    "start_time": "2021-11-21T19:28:15.925Z"
   },
   {
    "duration": 32,
    "start_time": "2021-11-21T19:28:16.684Z"
   },
   {
    "duration": 7,
    "start_time": "2021-11-21T19:28:17.089Z"
   },
   {
    "duration": 8,
    "start_time": "2021-11-21T19:28:17.740Z"
   },
   {
    "duration": 16,
    "start_time": "2021-11-21T19:28:18.086Z"
   },
   {
    "duration": 5,
    "start_time": "2021-11-21T19:28:19.507Z"
   },
   {
    "duration": 9,
    "start_time": "2021-11-21T19:28:28.845Z"
   },
   {
    "duration": 61,
    "start_time": "2021-11-21T19:28:44.864Z"
   },
   {
    "duration": 20,
    "start_time": "2021-11-21T19:28:44.927Z"
   },
   {
    "duration": 22,
    "start_time": "2021-11-21T19:28:44.950Z"
   },
   {
    "duration": 6,
    "start_time": "2021-11-21T19:28:44.975Z"
   },
   {
    "duration": 220,
    "start_time": "2021-11-21T19:28:44.983Z"
   },
   {
    "duration": 223,
    "start_time": "2021-11-21T19:28:45.206Z"
   },
   {
    "duration": 231,
    "start_time": "2021-11-21T19:28:45.431Z"
   },
   {
    "duration": 253,
    "start_time": "2021-11-21T19:28:45.666Z"
   },
   {
    "duration": 7,
    "start_time": "2021-11-21T19:28:45.929Z"
   },
   {
    "duration": 11,
    "start_time": "2021-11-21T19:28:45.938Z"
   },
   {
    "duration": 18,
    "start_time": "2021-11-21T19:28:45.951Z"
   },
   {
    "duration": 20,
    "start_time": "2021-11-21T19:28:45.972Z"
   },
   {
    "duration": 21,
    "start_time": "2021-11-21T19:28:45.995Z"
   },
   {
    "duration": 206,
    "start_time": "2021-11-21T19:28:46.029Z"
   },
   {
    "duration": 13,
    "start_time": "2021-11-21T19:28:46.237Z"
   },
   {
    "duration": 8,
    "start_time": "2021-11-21T19:28:46.252Z"
   },
   {
    "duration": 12,
    "start_time": "2021-11-21T19:28:46.262Z"
   },
   {
    "duration": 52,
    "start_time": "2021-11-21T19:28:46.276Z"
   },
   {
    "duration": 34,
    "start_time": "2021-11-21T19:28:46.331Z"
   },
   {
    "duration": 9,
    "start_time": "2021-11-21T19:28:46.368Z"
   },
   {
    "duration": 7,
    "start_time": "2021-11-21T19:28:52.622Z"
   },
   {
    "duration": 8,
    "start_time": "2021-11-21T19:30:02.155Z"
   },
   {
    "duration": 16,
    "start_time": "2021-11-21T19:30:04.311Z"
   },
   {
    "duration": 9,
    "start_time": "2021-11-21T19:30:04.958Z"
   },
   {
    "duration": 4,
    "start_time": "2021-11-21T19:30:15.902Z"
   },
   {
    "duration": 11,
    "start_time": "2021-11-21T19:30:18.238Z"
   },
   {
    "duration": 20,
    "start_time": "2021-11-21T19:30:19.814Z"
   },
   {
    "duration": 46,
    "start_time": "2021-11-21T19:30:33.916Z"
   },
   {
    "duration": 24,
    "start_time": "2021-11-21T19:30:36.982Z"
   },
   {
    "duration": 26,
    "start_time": "2021-11-21T19:30:40.835Z"
   },
   {
    "duration": 26,
    "start_time": "2021-11-21T19:30:53.756Z"
   },
   {
    "duration": 12,
    "start_time": "2021-11-21T19:31:17.211Z"
   },
   {
    "duration": 291,
    "start_time": "2021-11-21T19:31:54.704Z"
   },
   {
    "duration": 24,
    "start_time": "2021-11-21T19:32:02.529Z"
   },
   {
    "duration": 14,
    "start_time": "2021-11-21T19:32:07.255Z"
   },
   {
    "duration": 13,
    "start_time": "2021-11-21T19:32:10.587Z"
   },
   {
    "duration": 23,
    "start_time": "2021-11-21T19:32:15.488Z"
   },
   {
    "duration": 4,
    "start_time": "2021-11-21T19:34:43.799Z"
   },
   {
    "duration": 242,
    "start_time": "2021-11-21T19:34:53.315Z"
   },
   {
    "duration": 8,
    "start_time": "2021-11-21T19:35:37.459Z"
   },
   {
    "duration": 6,
    "start_time": "2021-11-21T19:35:38.357Z"
   },
   {
    "duration": 16,
    "start_time": "2021-11-21T19:35:43.867Z"
   },
   {
    "duration": 26,
    "start_time": "2021-11-21T19:35:53.473Z"
   },
   {
    "duration": 60,
    "start_time": "2021-11-21T19:36:00.411Z"
   },
   {
    "duration": 32,
    "start_time": "2021-11-21T19:36:04.251Z"
   },
   {
    "duration": 12,
    "start_time": "2021-11-21T19:36:52.584Z"
   },
   {
    "duration": 13,
    "start_time": "2021-11-21T19:37:03.647Z"
   },
   {
    "duration": 11,
    "start_time": "2021-11-21T19:37:38.437Z"
   },
   {
    "duration": 11,
    "start_time": "2021-11-21T19:38:10.607Z"
   },
   {
    "duration": 12,
    "start_time": "2021-11-21T19:38:13.846Z"
   },
   {
    "duration": 12,
    "start_time": "2021-11-21T19:38:14.200Z"
   },
   {
    "duration": 7659,
    "start_time": "2021-11-21T19:38:15.092Z"
   },
   {
    "duration": 295,
    "start_time": "2021-11-21T19:41:24.681Z"
   },
   {
    "duration": 13,
    "start_time": "2021-11-21T19:42:40.445Z"
   },
   {
    "duration": 12,
    "start_time": "2021-11-21T19:42:41.076Z"
   },
   {
    "duration": 309,
    "start_time": "2021-11-21T19:42:43.375Z"
   },
   {
    "duration": 280,
    "start_time": "2021-11-21T19:42:54.027Z"
   },
   {
    "duration": 7148,
    "start_time": "2021-11-21T19:43:28.491Z"
   },
   {
    "duration": 8191,
    "start_time": "2021-11-21T19:44:20.582Z"
   },
   {
    "duration": 794,
    "start_time": "2021-11-22T07:07:40.608Z"
   },
   {
    "duration": 30,
    "start_time": "2021-11-22T07:07:41.404Z"
   },
   {
    "duration": 16,
    "start_time": "2021-11-22T07:07:42.636Z"
   },
   {
    "duration": 116,
    "start_time": "2021-11-22T07:07:46.706Z"
   },
   {
    "duration": 206,
    "start_time": "2021-11-22T07:07:50.075Z"
   },
   {
    "duration": 211,
    "start_time": "2021-11-22T07:07:53.077Z"
   },
   {
    "duration": 214,
    "start_time": "2021-11-22T07:07:54.738Z"
   },
   {
    "duration": 264,
    "start_time": "2021-11-22T07:07:58.331Z"
   },
   {
    "duration": 7,
    "start_time": "2021-11-22T07:08:06.457Z"
   },
   {
    "duration": 10,
    "start_time": "2021-11-22T07:08:26.372Z"
   },
   {
    "duration": 7,
    "start_time": "2021-11-22T07:08:29.274Z"
   },
   {
    "duration": 19,
    "start_time": "2021-11-22T07:08:30.323Z"
   },
   {
    "duration": 7,
    "start_time": "2021-11-22T07:08:35.851Z"
   },
   {
    "duration": 86,
    "start_time": "2021-11-22T07:09:58.197Z"
   },
   {
    "duration": 533,
    "start_time": "2021-11-22T07:10:13.164Z"
   },
   {
    "duration": 9,
    "start_time": "2021-11-22T07:10:17.549Z"
   },
   {
    "duration": 13,
    "start_time": "2021-11-22T07:18:40.936Z"
   },
   {
    "duration": 9,
    "start_time": "2021-11-22T07:18:44.632Z"
   },
   {
    "duration": 12,
    "start_time": "2021-11-22T07:18:46.928Z"
   },
   {
    "duration": 10,
    "start_time": "2021-11-22T07:18:48.783Z"
   },
   {
    "duration": 7,
    "start_time": "2021-11-22T07:21:47.554Z"
   },
   {
    "duration": 19,
    "start_time": "2021-11-22T07:22:07.282Z"
   },
   {
    "duration": 27,
    "start_time": "2021-11-22T07:35:16.710Z"
   },
   {
    "duration": 13,
    "start_time": "2021-11-22T07:35:18.797Z"
   },
   {
    "duration": 37,
    "start_time": "2021-11-22T07:35:54.206Z"
   },
   {
    "duration": 330,
    "start_time": "2021-11-22T07:40:39.375Z"
   },
   {
    "duration": 31,
    "start_time": "2021-11-22T07:40:49.382Z"
   },
   {
    "duration": 52,
    "start_time": "2021-11-22T07:40:58.647Z"
   },
   {
    "duration": 8257,
    "start_time": "2021-11-22T07:41:25.392Z"
   },
   {
    "duration": 7866,
    "start_time": "2021-11-22T07:41:36.120Z"
   },
   {
    "duration": 7327,
    "start_time": "2021-11-22T07:42:05.728Z"
   },
   {
    "duration": 30,
    "start_time": "2021-11-22T07:42:30.888Z"
   },
   {
    "duration": 9,
    "start_time": "2021-11-22T07:44:34.661Z"
   },
   {
    "duration": 8,
    "start_time": "2021-11-22T07:44:47.490Z"
   },
   {
    "duration": 7,
    "start_time": "2021-11-22T07:44:54.001Z"
   },
   {
    "duration": 62,
    "start_time": "2021-11-22T07:45:01.784Z"
   },
   {
    "duration": 20,
    "start_time": "2021-11-22T07:45:02.145Z"
   },
   {
    "duration": 22,
    "start_time": "2021-11-22T07:45:02.520Z"
   },
   {
    "duration": 4,
    "start_time": "2021-11-22T07:45:03.488Z"
   },
   {
    "duration": 185,
    "start_time": "2021-11-22T07:45:04.104Z"
   },
   {
    "duration": 201,
    "start_time": "2021-11-22T07:45:04.937Z"
   },
   {
    "duration": 210,
    "start_time": "2021-11-22T07:45:05.313Z"
   },
   {
    "duration": 205,
    "start_time": "2021-11-22T07:45:06.112Z"
   },
   {
    "duration": 7,
    "start_time": "2021-11-22T07:45:06.928Z"
   },
   {
    "duration": 7,
    "start_time": "2021-11-22T07:45:07.824Z"
   },
   {
    "duration": 7,
    "start_time": "2021-11-22T07:45:09.607Z"
   },
   {
    "duration": 18,
    "start_time": "2021-11-22T07:45:10.017Z"
   },
   {
    "duration": 7,
    "start_time": "2021-11-22T07:45:11.306Z"
   },
   {
    "duration": 194,
    "start_time": "2021-11-22T07:45:12.864Z"
   },
   {
    "duration": 8,
    "start_time": "2021-11-22T07:45:14.440Z"
   },
   {
    "duration": 14,
    "start_time": "2021-11-22T07:45:16.608Z"
   },
   {
    "duration": 9,
    "start_time": "2021-11-22T07:45:17.312Z"
   },
   {
    "duration": 12,
    "start_time": "2021-11-22T07:45:18.247Z"
   },
   {
    "duration": 10,
    "start_time": "2021-11-22T07:45:19.312Z"
   },
   {
    "duration": 7,
    "start_time": "2021-11-22T07:45:20.928Z"
   },
   {
    "duration": 16,
    "start_time": "2021-11-22T07:45:21.833Z"
   },
   {
    "duration": 9,
    "start_time": "2021-11-22T07:45:23.352Z"
   },
   {
    "duration": 36,
    "start_time": "2021-11-22T07:45:26.153Z"
   },
   {
    "duration": 30,
    "start_time": "2021-11-22T07:45:29.080Z"
   },
   {
    "duration": 30,
    "start_time": "2021-11-22T07:45:37.552Z"
   },
   {
    "duration": 4,
    "start_time": "2021-11-22T07:49:28.961Z"
   },
   {
    "duration": 4,
    "start_time": "2021-11-22T07:49:33.561Z"
   },
   {
    "duration": 24,
    "start_time": "2021-11-22T07:50:47.746Z"
   },
   {
    "duration": 30,
    "start_time": "2021-11-22T07:51:42.988Z"
   },
   {
    "duration": 20,
    "start_time": "2021-11-22T07:51:43.920Z"
   },
   {
    "duration": 30,
    "start_time": "2021-11-22T07:51:57.434Z"
   },
   {
    "duration": 24,
    "start_time": "2021-11-22T07:51:58.114Z"
   },
   {
    "duration": 49,
    "start_time": "2021-11-22T07:56:04.852Z"
   },
   {
    "duration": 303,
    "start_time": "2021-11-22T07:56:25.652Z"
   },
   {
    "duration": 96,
    "start_time": "2021-11-22T08:01:09.988Z"
   },
   {
    "duration": 3,
    "start_time": "2021-11-22T08:01:17.396Z"
   },
   {
    "duration": 5,
    "start_time": "2021-11-22T08:01:20.485Z"
   },
   {
    "duration": 92,
    "start_time": "2021-11-22T08:01:24.029Z"
   },
   {
    "duration": 107,
    "start_time": "2021-11-22T08:01:29.829Z"
   },
   {
    "duration": 105,
    "start_time": "2021-11-22T08:01:33.388Z"
   },
   {
    "duration": 7,
    "start_time": "2021-11-22T08:03:03.510Z"
   },
   {
    "duration": 289,
    "start_time": "2021-11-22T08:03:15.183Z"
   },
   {
    "duration": 5187,
    "start_time": "2021-11-22T08:03:53.158Z"
   },
   {
    "duration": 270,
    "start_time": "2021-11-22T08:04:18.855Z"
   },
   {
    "duration": 301,
    "start_time": "2021-11-22T08:04:41.895Z"
   },
   {
    "duration": 343,
    "start_time": "2021-11-22T08:05:00.055Z"
   },
   {
    "duration": 332,
    "start_time": "2021-11-22T08:05:04.222Z"
   },
   {
    "duration": 305,
    "start_time": "2021-11-22T08:05:10.286Z"
   },
   {
    "duration": 282,
    "start_time": "2021-11-22T08:05:19.718Z"
   },
   {
    "duration": 297,
    "start_time": "2021-11-22T08:05:30.367Z"
   },
   {
    "duration": 6,
    "start_time": "2021-11-22T08:05:39.499Z"
   },
   {
    "duration": 7,
    "start_time": "2021-11-22T08:05:44.607Z"
   },
   {
    "duration": 7,
    "start_time": "2021-11-22T08:05:49.863Z"
   },
   {
    "duration": 8,
    "start_time": "2021-11-22T08:05:54.063Z"
   },
   {
    "duration": 5,
    "start_time": "2021-11-22T08:05:59.055Z"
   },
   {
    "duration": 5,
    "start_time": "2021-11-22T08:05:59.608Z"
   },
   {
    "duration": 293,
    "start_time": "2021-11-22T08:06:02.255Z"
   },
   {
    "duration": 96,
    "start_time": "2021-11-22T08:06:16.279Z"
   },
   {
    "duration": 6,
    "start_time": "2021-11-22T08:06:18.351Z"
   },
   {
    "duration": 90,
    "start_time": "2021-11-22T08:06:36.096Z"
   },
   {
    "duration": 6,
    "start_time": "2021-11-22T08:06:40.193Z"
   },
   {
    "duration": 6,
    "start_time": "2021-11-22T08:06:40.871Z"
   },
   {
    "duration": 6,
    "start_time": "2021-11-22T08:06:41.335Z"
   },
   {
    "duration": 8,
    "start_time": "2021-11-22T08:06:42.231Z"
   },
   {
    "duration": 5,
    "start_time": "2021-11-22T08:06:57.944Z"
   },
   {
    "duration": 5,
    "start_time": "2021-11-22T08:07:10.504Z"
   },
   {
    "duration": 5,
    "start_time": "2021-11-22T08:07:10.838Z"
   },
   {
    "duration": 5,
    "start_time": "2021-11-22T08:07:11.287Z"
   },
   {
    "duration": 7105,
    "start_time": "2021-11-22T08:08:02.823Z"
   },
   {
    "duration": 5,
    "start_time": "2021-11-22T08:08:32.096Z"
   },
   {
    "duration": 6,
    "start_time": "2021-11-22T08:08:32.464Z"
   },
   {
    "duration": 5,
    "start_time": "2021-11-22T08:08:32.992Z"
   },
   {
    "duration": 6,
    "start_time": "2021-11-22T08:08:33.199Z"
   },
   {
    "duration": 6,
    "start_time": "2021-11-22T08:08:33.815Z"
   },
   {
    "duration": 7642,
    "start_time": "2021-11-22T08:08:37.112Z"
   },
   {
    "duration": 7,
    "start_time": "2021-11-22T08:08:47.600Z"
   },
   {
    "duration": 4,
    "start_time": "2021-11-22T08:08:51.583Z"
   },
   {
    "duration": 6,
    "start_time": "2021-11-22T08:08:51.880Z"
   },
   {
    "duration": 7,
    "start_time": "2021-11-22T08:08:52.135Z"
   },
   {
    "duration": 6,
    "start_time": "2021-11-22T08:08:52.440Z"
   },
   {
    "duration": 12,
    "start_time": "2021-11-22T08:08:52.822Z"
   },
   {
    "duration": 5,
    "start_time": "2021-11-22T08:10:25.505Z"
   },
   {
    "duration": 6,
    "start_time": "2021-11-22T08:10:25.744Z"
   },
   {
    "duration": 4,
    "start_time": "2021-11-22T08:10:31.120Z"
   },
   {
    "duration": 9,
    "start_time": "2021-11-22T08:10:35.041Z"
   },
   {
    "duration": 100,
    "start_time": "2021-11-22T08:11:04.945Z"
   },
   {
    "duration": 370,
    "start_time": "2021-11-22T08:11:11.113Z"
   },
   {
    "duration": 68,
    "start_time": "2021-11-22T08:11:29.289Z"
   },
   {
    "duration": 62,
    "start_time": "2021-11-22T08:14:51.055Z"
   },
   {
    "duration": 28738,
    "start_time": "2021-11-22T08:15:18.661Z"
   },
   {
    "duration": 287,
    "start_time": "2021-11-22T08:16:16.100Z"
   },
   {
    "duration": 537,
    "start_time": "2021-11-22T08:16:45.729Z"
   },
   {
    "duration": 3094,
    "start_time": "2021-11-22T08:17:30.050Z"
   },
   {
    "duration": 791,
    "start_time": "2021-11-22T08:29:58.217Z"
   },
   {
    "duration": 31,
    "start_time": "2021-11-22T08:29:59.014Z"
   },
   {
    "duration": 20,
    "start_time": "2021-11-22T08:30:03.232Z"
   },
   {
    "duration": 16,
    "start_time": "2021-11-22T08:30:04.170Z"
   },
   {
    "duration": 110,
    "start_time": "2021-11-22T08:30:05.490Z"
   },
   {
    "duration": 192,
    "start_time": "2021-11-22T08:30:06.594Z"
   },
   {
    "duration": 196,
    "start_time": "2021-11-22T08:30:07.698Z"
   },
   {
    "duration": 219,
    "start_time": "2021-11-22T08:30:08.082Z"
   },
   {
    "duration": 267,
    "start_time": "2021-11-22T08:30:08.843Z"
   },
   {
    "duration": 8,
    "start_time": "2021-11-22T08:30:09.708Z"
   },
   {
    "duration": 8,
    "start_time": "2021-11-22T08:30:10.674Z"
   },
   {
    "duration": 7,
    "start_time": "2021-11-22T08:30:12.434Z"
   },
   {
    "duration": 19,
    "start_time": "2021-11-22T08:30:13.106Z"
   },
   {
    "duration": 8,
    "start_time": "2021-11-22T08:30:14.890Z"
   },
   {
    "duration": 202,
    "start_time": "2021-11-22T08:30:16.243Z"
   },
   {
    "duration": 9,
    "start_time": "2021-11-22T08:30:17.059Z"
   },
   {
    "duration": 13,
    "start_time": "2021-11-22T08:30:19.186Z"
   },
   {
    "duration": 12,
    "start_time": "2021-11-22T08:30:19.931Z"
   },
   {
    "duration": 13,
    "start_time": "2021-11-22T08:30:21.824Z"
   },
   {
    "duration": 10,
    "start_time": "2021-11-22T08:30:22.938Z"
   },
   {
    "duration": 7,
    "start_time": "2021-11-22T08:30:25.154Z"
   },
   {
    "duration": 16,
    "start_time": "2021-11-22T08:30:26.141Z"
   },
   {
    "duration": 10,
    "start_time": "2021-11-22T08:30:27.101Z"
   },
   {
    "duration": 34,
    "start_time": "2021-11-22T08:30:28.939Z"
   },
   {
    "duration": 47,
    "start_time": "2021-11-22T08:30:31.354Z"
   },
   {
    "duration": 24,
    "start_time": "2021-11-22T08:30:34.243Z"
   },
   {
    "duration": 5,
    "start_time": "2021-11-22T08:30:42.203Z"
   },
   {
    "duration": 9,
    "start_time": "2021-11-22T08:30:43.131Z"
   },
   {
    "duration": 9,
    "start_time": "2021-11-22T08:30:54.178Z"
   },
   {
    "duration": 68,
    "start_time": "2021-11-22T08:30:55.807Z"
   },
   {
    "duration": 70,
    "start_time": "2021-11-22T08:31:06.011Z"
   },
   {
    "duration": 7,
    "start_time": "2021-11-22T08:31:12.835Z"
   },
   {
    "duration": 7,
    "start_time": "2021-11-22T08:31:20.227Z"
   },
   {
    "duration": 4828,
    "start_time": "2021-11-22T08:31:28.524Z"
   },
   {
    "duration": 5,
    "start_time": "2021-11-22T08:31:39.277Z"
   },
   {
    "duration": 7244,
    "start_time": "2021-11-22T08:31:43.371Z"
   },
   {
    "duration": 7,
    "start_time": "2021-11-22T08:31:52.789Z"
   },
   {
    "duration": 5,
    "start_time": "2021-11-22T08:31:55.947Z"
   },
   {
    "duration": 6,
    "start_time": "2021-11-22T08:31:58.595Z"
   },
   {
    "duration": 30,
    "start_time": "2021-11-22T08:44:30.311Z"
   },
   {
    "duration": 272,
    "start_time": "2021-11-22T08:44:58.855Z"
   },
   {
    "duration": 321,
    "start_time": "2021-11-22T08:45:33.881Z"
   },
   {
    "duration": 14,
    "start_time": "2021-11-22T08:45:38.791Z"
   },
   {
    "duration": 299,
    "start_time": "2021-11-22T08:45:39.416Z"
   },
   {
    "duration": 896,
    "start_time": "2021-11-22T08:45:50.113Z"
   },
   {
    "duration": 292,
    "start_time": "2021-11-22T08:46:38.488Z"
   },
   {
    "duration": 32,
    "start_time": "2021-11-22T08:46:43.162Z"
   },
   {
    "duration": 30,
    "start_time": "2021-11-22T08:47:43.386Z"
   },
   {
    "duration": 12,
    "start_time": "2021-11-22T08:47:59.585Z"
   },
   {
    "duration": 16,
    "start_time": "2021-11-22T08:48:02.276Z"
   },
   {
    "duration": 6960,
    "start_time": "2021-11-22T08:48:22.466Z"
   },
   {
    "duration": 7569,
    "start_time": "2021-11-22T08:48:32.281Z"
   },
   {
    "duration": 20,
    "start_time": "2021-11-22T08:49:59.682Z"
   },
   {
    "duration": 8,
    "start_time": "2021-11-22T08:51:07.089Z"
   },
   {
    "duration": 13,
    "start_time": "2021-11-22T08:51:46.411Z"
   },
   {
    "duration": 339,
    "start_time": "2021-11-22T08:52:21.026Z"
   },
   {
    "duration": 9036,
    "start_time": "2021-11-22T08:52:27.705Z"
   },
   {
    "duration": 8,
    "start_time": "2021-11-22T08:53:10.946Z"
   },
   {
    "duration": 7,
    "start_time": "2021-11-22T08:53:15.123Z"
   },
   {
    "duration": 7,
    "start_time": "2021-11-22T08:53:18.481Z"
   },
   {
    "duration": 8775,
    "start_time": "2021-11-22T08:53:31.610Z"
   },
   {
    "duration": 99,
    "start_time": "2021-11-22T08:53:41.242Z"
   },
   {
    "duration": 7,
    "start_time": "2021-11-22T08:53:44.075Z"
   },
   {
    "duration": 294,
    "start_time": "2021-11-22T08:53:52.498Z"
   },
   {
    "duration": 8,
    "start_time": "2021-11-22T08:53:56.298Z"
   },
   {
    "duration": 5,
    "start_time": "2021-11-22T08:54:06.274Z"
   },
   {
    "duration": 6,
    "start_time": "2021-11-22T08:54:08.131Z"
   },
   {
    "duration": 5,
    "start_time": "2021-11-22T08:54:16.843Z"
   },
   {
    "duration": 68,
    "start_time": "2021-11-22T08:55:09.474Z"
   },
   {
    "duration": 6,
    "start_time": "2021-11-22T08:55:10.427Z"
   },
   {
    "duration": 66,
    "start_time": "2021-11-22T08:56:11.659Z"
   },
   {
    "duration": 72,
    "start_time": "2021-11-22T08:56:20.755Z"
   },
   {
    "duration": 29,
    "start_time": "2021-11-22T08:56:26.603Z"
   },
   {
    "duration": 550,
    "start_time": "2021-11-22T08:58:08.835Z"
   },
   {
    "duration": 127,
    "start_time": "2021-11-22T08:58:11.339Z"
   },
   {
    "duration": 533,
    "start_time": "2021-11-22T08:58:19.763Z"
   },
   {
    "duration": 92,
    "start_time": "2021-11-22T08:58:25.092Z"
   },
   {
    "duration": 105,
    "start_time": "2021-11-22T08:58:31.548Z"
   },
   {
    "duration": 7,
    "start_time": "2021-11-22T08:58:36.892Z"
   },
   {
    "duration": 843,
    "start_time": "2021-11-22T08:58:48.140Z"
   },
   {
    "duration": 6,
    "start_time": "2021-11-22T08:58:50.459Z"
   },
   {
    "duration": 7,
    "start_time": "2021-11-22T08:58:58.011Z"
   },
   {
    "duration": 353,
    "start_time": "2021-11-22T08:59:02.954Z"
   },
   {
    "duration": 27,
    "start_time": "2021-11-22T08:59:26.796Z"
   },
   {
    "duration": 8671,
    "start_time": "2021-11-22T08:59:58.062Z"
   },
   {
    "duration": 39,
    "start_time": "2021-11-22T09:00:12.262Z"
   },
   {
    "duration": 302,
    "start_time": "2021-11-22T09:01:00.380Z"
   },
   {
    "duration": 304,
    "start_time": "2021-11-22T09:01:26.863Z"
   },
   {
    "duration": 322,
    "start_time": "2021-11-22T09:01:30.821Z"
   },
   {
    "duration": 35,
    "start_time": "2021-11-22T09:02:13.349Z"
   },
   {
    "duration": 13,
    "start_time": "2021-11-22T09:04:05.902Z"
   },
   {
    "duration": 46,
    "start_time": "2021-11-22T09:06:08.591Z"
   },
   {
    "duration": 15,
    "start_time": "2021-11-22T09:06:36.998Z"
   },
   {
    "duration": 4,
    "start_time": "2021-11-22T09:08:10.478Z"
   },
   {
    "duration": 5,
    "start_time": "2021-11-22T09:08:59.871Z"
   },
   {
    "duration": 7,
    "start_time": "2021-11-22T09:09:30.816Z"
   },
   {
    "duration": 6,
    "start_time": "2021-11-22T09:09:48.175Z"
   },
   {
    "duration": 7,
    "start_time": "2021-11-22T09:09:49.224Z"
   },
   {
    "duration": 280,
    "start_time": "2021-11-22T09:10:16.784Z"
   },
   {
    "duration": 25,
    "start_time": "2021-11-22T09:10:23.239Z"
   },
   {
    "duration": 4,
    "start_time": "2021-11-22T09:10:25.247Z"
   },
   {
    "duration": 8,
    "start_time": "2021-11-22T09:10:26.681Z"
   },
   {
    "duration": 9,
    "start_time": "2021-11-22T09:10:35.864Z"
   },
   {
    "duration": 7,
    "start_time": "2021-11-22T09:10:53.682Z"
   },
   {
    "duration": 12,
    "start_time": "2021-11-22T09:10:55.744Z"
   },
   {
    "duration": 26,
    "start_time": "2021-11-22T09:10:57.631Z"
   },
   {
    "duration": 4,
    "start_time": "2021-11-22T09:10:58.056Z"
   },
   {
    "duration": 8,
    "start_time": "2021-11-22T09:10:59.879Z"
   },
   {
    "duration": 8,
    "start_time": "2021-11-22T09:11:30.089Z"
   },
   {
    "duration": 7519,
    "start_time": "2021-11-22T09:11:35.697Z"
   },
   {
    "duration": 29,
    "start_time": "2021-11-22T09:11:49.528Z"
   },
   {
    "duration": 8,
    "start_time": "2021-11-22T09:11:59.141Z"
   },
   {
    "duration": 35,
    "start_time": "2021-11-22T09:12:09.201Z"
   },
   {
    "duration": 943,
    "start_time": "2021-11-22T09:12:23.259Z"
   },
   {
    "duration": 1115,
    "start_time": "2021-11-22T09:12:37.976Z"
   },
   {
    "duration": 1102,
    "start_time": "2021-11-22T09:13:18.456Z"
   },
   {
    "duration": 332,
    "start_time": "2021-11-22T09:13:29.359Z"
   },
   {
    "duration": 327,
    "start_time": "2021-11-22T09:13:51.019Z"
   },
   {
    "duration": 35,
    "start_time": "2021-11-22T09:13:58.873Z"
   },
   {
    "duration": 318,
    "start_time": "2021-11-22T09:14:40.873Z"
   },
   {
    "duration": 35,
    "start_time": "2021-11-22T09:14:42.778Z"
   },
   {
    "duration": 2963,
    "start_time": "2021-11-22T09:16:01.771Z"
   },
   {
    "duration": 47,
    "start_time": "2021-11-22T09:16:04.737Z"
   },
   {
    "duration": 9961,
    "start_time": "2021-11-22T09:16:12.178Z"
   },
   {
    "duration": 2944,
    "start_time": "2021-11-22T09:16:22.142Z"
   },
   {
    "duration": 35,
    "start_time": "2021-11-22T09:16:28.907Z"
   },
   {
    "duration": 560,
    "start_time": "2021-11-22T09:17:39.426Z"
   },
   {
    "duration": 323,
    "start_time": "2021-11-22T09:18:02.059Z"
   },
   {
    "duration": 66,
    "start_time": "2021-11-22T09:18:14.820Z"
   },
   {
    "duration": 20,
    "start_time": "2021-11-22T09:18:14.888Z"
   },
   {
    "duration": 16,
    "start_time": "2021-11-22T09:18:14.912Z"
   },
   {
    "duration": 4,
    "start_time": "2021-11-22T09:18:14.930Z"
   },
   {
    "duration": 267,
    "start_time": "2021-11-22T09:18:14.936Z"
   },
   {
    "duration": 226,
    "start_time": "2021-11-22T09:18:15.205Z"
   },
   {
    "duration": 228,
    "start_time": "2021-11-22T09:18:15.433Z"
   },
   {
    "duration": 221,
    "start_time": "2021-11-22T09:18:15.665Z"
   },
   {
    "duration": 7,
    "start_time": "2021-11-22T09:18:15.889Z"
   },
   {
    "duration": 7,
    "start_time": "2021-11-22T09:18:15.899Z"
   },
   {
    "duration": 9,
    "start_time": "2021-11-22T09:18:15.908Z"
   },
   {
    "duration": 62,
    "start_time": "2021-11-22T09:18:15.920Z"
   },
   {
    "duration": 7,
    "start_time": "2021-11-22T09:18:15.984Z"
   },
   {
    "duration": 219,
    "start_time": "2021-11-22T09:18:15.993Z"
   },
   {
    "duration": 10,
    "start_time": "2021-11-22T09:18:16.215Z"
   },
   {
    "duration": 15,
    "start_time": "2021-11-22T09:18:16.228Z"
   },
   {
    "duration": 41,
    "start_time": "2021-11-22T09:18:16.245Z"
   },
   {
    "duration": 13,
    "start_time": "2021-11-22T09:18:16.289Z"
   },
   {
    "duration": 12,
    "start_time": "2021-11-22T09:18:16.305Z"
   },
   {
    "duration": 9,
    "start_time": "2021-11-22T09:18:16.320Z"
   },
   {
    "duration": 67,
    "start_time": "2021-11-22T09:18:16.332Z"
   },
   {
    "duration": 16,
    "start_time": "2021-11-22T09:18:16.402Z"
   },
   {
    "duration": 35,
    "start_time": "2021-11-22T09:18:16.425Z"
   },
   {
    "duration": 31,
    "start_time": "2021-11-22T09:18:16.483Z"
   },
   {
    "duration": 25,
    "start_time": "2021-11-22T09:18:16.516Z"
   },
   {
    "duration": 38,
    "start_time": "2021-11-22T09:18:16.544Z"
   },
   {
    "duration": 9,
    "start_time": "2021-11-22T09:18:16.585Z"
   },
   {
    "duration": 64,
    "start_time": "2021-11-22T09:18:16.596Z"
   },
   {
    "duration": 396,
    "start_time": "2021-11-22T09:18:16.662Z"
   },
   {
    "duration": 8,
    "start_time": "2021-11-22T09:18:17.060Z"
   },
   {
    "duration": 23,
    "start_time": "2021-11-22T09:18:17.070Z"
   },
   {
    "duration": 29,
    "start_time": "2021-11-22T09:18:17.096Z"
   },
   {
    "duration": 4,
    "start_time": "2021-11-22T09:18:17.128Z"
   },
   {
    "duration": 7,
    "start_time": "2021-11-22T09:18:19.914Z"
   },
   {
    "duration": 1218,
    "start_time": "2021-11-22T09:18:22.947Z"
   },
   {
    "duration": 19,
    "start_time": "2021-11-22T09:18:36.515Z"
   },
   {
    "duration": 25,
    "start_time": "2021-11-22T09:18:42.283Z"
   },
   {
    "duration": 1209,
    "start_time": "2021-11-22T09:19:12.419Z"
   },
   {
    "duration": 327,
    "start_time": "2021-11-22T09:19:13.631Z"
   },
   {
    "duration": 24,
    "start_time": "2021-11-22T09:19:22.547Z"
   },
   {
    "duration": 516,
    "start_time": "2021-11-22T09:19:39.947Z"
   },
   {
    "duration": 24,
    "start_time": "2021-11-22T09:19:42.124Z"
   },
   {
    "duration": 8465,
    "start_time": "2021-11-22T09:20:00.348Z"
   },
   {
    "duration": 17,
    "start_time": "2021-11-22T09:20:16.235Z"
   },
   {
    "duration": 106,
    "start_time": "2021-11-22T09:20:20.828Z"
   },
   {
    "duration": 123,
    "start_time": "2021-11-22T09:21:11.643Z"
   },
   {
    "duration": 425,
    "start_time": "2021-11-22T09:21:15.179Z"
   },
   {
    "duration": 18,
    "start_time": "2021-11-22T09:21:28.963Z"
   },
   {
    "duration": 64,
    "start_time": "2021-11-22T09:21:59.629Z"
   },
   {
    "duration": 17,
    "start_time": "2021-11-22T09:22:33.861Z"
   },
   {
    "duration": 105,
    "start_time": "2021-11-22T09:24:16.644Z"
   },
   {
    "duration": 325,
    "start_time": "2021-11-22T09:24:33.668Z"
   },
   {
    "duration": 8301,
    "start_time": "2021-11-22T09:24:51.756Z"
   },
   {
    "duration": 62,
    "start_time": "2021-11-22T09:25:39.726Z"
   },
   {
    "duration": 22,
    "start_time": "2021-11-22T09:25:39.791Z"
   },
   {
    "duration": 15,
    "start_time": "2021-11-22T09:25:39.817Z"
   },
   {
    "duration": 4,
    "start_time": "2021-11-22T09:25:39.834Z"
   },
   {
    "duration": 256,
    "start_time": "2021-11-22T09:25:39.841Z"
   },
   {
    "duration": 217,
    "start_time": "2021-11-22T09:25:40.100Z"
   },
   {
    "duration": 240,
    "start_time": "2021-11-22T09:25:40.319Z"
   },
   {
    "duration": 300,
    "start_time": "2021-11-22T09:25:40.563Z"
   },
   {
    "duration": 17,
    "start_time": "2021-11-22T09:25:40.866Z"
   },
   {
    "duration": 12,
    "start_time": "2021-11-22T09:25:40.885Z"
   },
   {
    "duration": 6,
    "start_time": "2021-11-22T09:25:40.899Z"
   },
   {
    "duration": 21,
    "start_time": "2021-11-22T09:25:40.907Z"
   },
   {
    "duration": 55,
    "start_time": "2021-11-22T09:25:40.930Z"
   },
   {
    "duration": 217,
    "start_time": "2021-11-22T09:25:40.987Z"
   },
   {
    "duration": 7,
    "start_time": "2021-11-22T09:25:41.206Z"
   },
   {
    "duration": 12,
    "start_time": "2021-11-22T09:25:41.216Z"
   },
   {
    "duration": 12,
    "start_time": "2021-11-22T09:25:41.230Z"
   },
   {
    "duration": 45,
    "start_time": "2021-11-22T09:25:41.245Z"
   },
   {
    "duration": 16,
    "start_time": "2021-11-22T09:25:41.292Z"
   },
   {
    "duration": 20,
    "start_time": "2021-11-22T09:25:41.310Z"
   },
   {
    "duration": 17,
    "start_time": "2021-11-22T09:25:41.333Z"
   },
   {
    "duration": 9,
    "start_time": "2021-11-22T09:25:41.353Z"
   },
   {
    "duration": 35,
    "start_time": "2021-11-22T09:25:41.385Z"
   },
   {
    "duration": 30,
    "start_time": "2021-11-22T09:25:41.423Z"
   },
   {
    "duration": 23,
    "start_time": "2021-11-22T09:25:41.483Z"
   },
   {
    "duration": 9,
    "start_time": "2021-11-22T09:25:41.508Z"
   },
   {
    "duration": 7,
    "start_time": "2021-11-22T09:25:41.520Z"
   },
   {
    "duration": 90,
    "start_time": "2021-11-22T09:25:41.529Z"
   },
   {
    "duration": 367,
    "start_time": "2021-11-22T09:25:41.621Z"
   },
   {
    "duration": 7,
    "start_time": "2021-11-22T09:25:41.991Z"
   },
   {
    "duration": 15,
    "start_time": "2021-11-22T09:25:42.001Z"
   },
   {
    "duration": 28,
    "start_time": "2021-11-22T09:25:42.018Z"
   },
   {
    "duration": 5,
    "start_time": "2021-11-22T09:25:42.048Z"
   },
   {
    "duration": 8,
    "start_time": "2021-11-22T09:25:42.082Z"
   },
   {
    "duration": 1215,
    "start_time": "2021-11-22T09:25:45.277Z"
   },
   {
    "duration": 9,
    "start_time": "2021-11-22T09:25:57.060Z"
   },
   {
    "duration": 38,
    "start_time": "2021-11-22T09:26:03.741Z"
   },
   {
    "duration": 9908,
    "start_time": "2021-11-22T09:26:14.925Z"
   },
   {
    "duration": 37,
    "start_time": "2021-11-22T09:26:30.213Z"
   },
   {
    "duration": 8150,
    "start_time": "2021-11-22T09:26:33.110Z"
   },
   {
    "duration": 7578,
    "start_time": "2021-11-22T09:27:57.493Z"
   },
   {
    "duration": 7196,
    "start_time": "2021-11-22T09:28:12.800Z"
   },
   {
    "duration": 6,
    "start_time": "2021-11-22T09:28:21.757Z"
   },
   {
    "duration": 6,
    "start_time": "2021-11-22T09:28:25.269Z"
   },
   {
    "duration": 6,
    "start_time": "2021-11-22T09:28:27.436Z"
   },
   {
    "duration": 411,
    "start_time": "2021-11-22T09:28:46.741Z"
   },
   {
    "duration": 6,
    "start_time": "2021-11-22T09:28:51.406Z"
   },
   {
    "duration": 9,
    "start_time": "2021-11-22T09:33:49.522Z"
   },
   {
    "duration": 6,
    "start_time": "2021-11-22T09:35:13.532Z"
   },
   {
    "duration": 8,
    "start_time": "2021-11-22T09:35:18.627Z"
   },
   {
    "duration": 66,
    "start_time": "2021-11-22T09:35:36.572Z"
   },
   {
    "duration": 43,
    "start_time": "2021-11-22T09:35:36.641Z"
   },
   {
    "duration": 20,
    "start_time": "2021-11-22T09:35:36.688Z"
   },
   {
    "duration": 8,
    "start_time": "2021-11-22T09:35:36.711Z"
   },
   {
    "duration": 238,
    "start_time": "2021-11-22T09:35:36.721Z"
   },
   {
    "duration": 226,
    "start_time": "2021-11-22T09:35:36.962Z"
   },
   {
    "duration": 236,
    "start_time": "2021-11-22T09:35:37.191Z"
   },
   {
    "duration": 235,
    "start_time": "2021-11-22T09:35:37.433Z"
   },
   {
    "duration": 12,
    "start_time": "2021-11-22T09:35:37.672Z"
   },
   {
    "duration": 10,
    "start_time": "2021-11-22T09:35:37.687Z"
   },
   {
    "duration": 8,
    "start_time": "2021-11-22T09:35:37.700Z"
   },
   {
    "duration": 28,
    "start_time": "2021-11-22T09:35:37.711Z"
   },
   {
    "duration": 46,
    "start_time": "2021-11-22T09:35:37.741Z"
   },
   {
    "duration": 215,
    "start_time": "2021-11-22T09:35:37.790Z"
   },
   {
    "duration": 8,
    "start_time": "2021-11-22T09:35:38.007Z"
   },
   {
    "duration": 16,
    "start_time": "2021-11-22T09:35:38.018Z"
   },
   {
    "duration": 16,
    "start_time": "2021-11-22T09:35:38.037Z"
   },
   {
    "duration": 36,
    "start_time": "2021-11-22T09:35:38.055Z"
   },
   {
    "duration": 9,
    "start_time": "2021-11-22T09:35:38.093Z"
   },
   {
    "duration": 12,
    "start_time": "2021-11-22T09:35:38.104Z"
   },
   {
    "duration": 16,
    "start_time": "2021-11-22T09:35:38.119Z"
   },
   {
    "duration": 52,
    "start_time": "2021-11-22T09:35:38.137Z"
   },
   {
    "duration": 34,
    "start_time": "2021-11-22T09:35:38.194Z"
   },
   {
    "duration": 65,
    "start_time": "2021-11-22T09:35:38.231Z"
   },
   {
    "duration": 24,
    "start_time": "2021-11-22T09:35:38.298Z"
   },
   {
    "duration": 5,
    "start_time": "2021-11-22T09:35:38.324Z"
   },
   {
    "duration": 13,
    "start_time": "2021-11-22T09:35:38.331Z"
   },
   {
    "duration": 86,
    "start_time": "2021-11-22T09:35:38.346Z"
   },
   {
    "duration": 371,
    "start_time": "2021-11-22T09:35:38.434Z"
   },
   {
    "duration": 7,
    "start_time": "2021-11-22T09:35:38.808Z"
   },
   {
    "duration": 15,
    "start_time": "2021-11-22T09:35:38.818Z"
   },
   {
    "duration": 58,
    "start_time": "2021-11-22T09:35:38.835Z"
   },
   {
    "duration": 4,
    "start_time": "2021-11-22T09:35:38.896Z"
   },
   {
    "duration": 11,
    "start_time": "2021-11-22T09:35:40.970Z"
   },
   {
    "duration": 5,
    "start_time": "2021-11-22T09:35:42.390Z"
   },
   {
    "duration": 24,
    "start_time": "2021-11-22T09:35:42.825Z"
   },
   {
    "duration": 99,
    "start_time": "2021-11-22T09:36:31.066Z"
   },
   {
    "duration": 8,
    "start_time": "2021-11-22T09:36:57.042Z"
   },
   {
    "duration": 39,
    "start_time": "2021-11-22T09:37:01.818Z"
   },
   {
    "duration": 1115,
    "start_time": "2021-11-22T09:37:18.843Z"
   },
   {
    "duration": 33,
    "start_time": "2021-11-22T09:37:19.961Z"
   },
   {
    "duration": 683,
    "start_time": "2021-11-22T09:38:13.300Z"
   },
   {
    "duration": 25,
    "start_time": "2021-11-22T09:38:20.243Z"
   },
   {
    "duration": 360,
    "start_time": "2021-11-22T09:38:43.444Z"
   },
   {
    "duration": 7,
    "start_time": "2021-11-22T09:38:52.187Z"
   },
   {
    "duration": 19,
    "start_time": "2021-11-22T09:38:58.179Z"
   },
   {
    "duration": 5,
    "start_time": "2021-11-22T09:40:24.915Z"
   },
   {
    "duration": 375,
    "start_time": "2021-11-22T09:40:25.842Z"
   },
   {
    "duration": 15,
    "start_time": "2021-11-22T09:40:48.908Z"
   },
   {
    "duration": 199,
    "start_time": "2021-11-22T09:42:15.019Z"
   },
   {
    "duration": 232,
    "start_time": "2021-11-22T09:42:21.883Z"
   },
   {
    "duration": 32,
    "start_time": "2021-11-22T09:42:47.659Z"
   },
   {
    "duration": 72,
    "start_time": "2021-11-22T09:43:02.022Z"
   },
   {
    "duration": 25,
    "start_time": "2021-11-22T09:43:02.097Z"
   },
   {
    "duration": 56,
    "start_time": "2021-11-22T09:43:02.126Z"
   },
   {
    "duration": 5,
    "start_time": "2021-11-22T09:43:02.186Z"
   },
   {
    "duration": 221,
    "start_time": "2021-11-22T09:43:02.194Z"
   },
   {
    "duration": 224,
    "start_time": "2021-11-22T09:43:02.418Z"
   },
   {
    "duration": 347,
    "start_time": "2021-11-22T09:43:02.645Z"
   },
   {
    "duration": 448,
    "start_time": "2021-11-22T09:43:02.998Z"
   },
   {
    "duration": 10,
    "start_time": "2021-11-22T09:43:03.450Z"
   },
   {
    "duration": 23,
    "start_time": "2021-11-22T09:43:03.463Z"
   },
   {
    "duration": 9,
    "start_time": "2021-11-22T09:43:03.488Z"
   },
   {
    "duration": 23,
    "start_time": "2021-11-22T09:43:03.500Z"
   },
   {
    "duration": 8,
    "start_time": "2021-11-22T09:43:03.526Z"
   },
   {
    "duration": 246,
    "start_time": "2021-11-22T09:43:03.537Z"
   },
   {
    "duration": 8,
    "start_time": "2021-11-22T09:43:03.785Z"
   },
   {
    "duration": 23,
    "start_time": "2021-11-22T09:43:03.795Z"
   },
   {
    "duration": 10,
    "start_time": "2021-11-22T09:43:03.821Z"
   },
   {
    "duration": 11,
    "start_time": "2021-11-22T09:43:03.834Z"
   },
   {
    "duration": 39,
    "start_time": "2021-11-22T09:43:03.848Z"
   },
   {
    "duration": 10,
    "start_time": "2021-11-22T09:43:03.889Z"
   },
   {
    "duration": 20,
    "start_time": "2021-11-22T09:43:03.901Z"
   },
   {
    "duration": 15,
    "start_time": "2021-11-22T09:43:03.924Z"
   },
   {
    "duration": 33,
    "start_time": "2021-11-22T09:43:03.983Z"
   },
   {
    "duration": 35,
    "start_time": "2021-11-22T09:43:04.019Z"
   },
   {
    "duration": 45,
    "start_time": "2021-11-22T09:43:04.056Z"
   },
   {
    "duration": 5,
    "start_time": "2021-11-22T09:43:04.103Z"
   },
   {
    "duration": 17,
    "start_time": "2021-11-22T09:43:04.111Z"
   },
   {
    "duration": 88,
    "start_time": "2021-11-22T09:43:04.130Z"
   },
   {
    "duration": 473,
    "start_time": "2021-11-22T09:43:04.221Z"
   },
   {
    "duration": 8,
    "start_time": "2021-11-22T09:43:04.696Z"
   },
   {
    "duration": 18,
    "start_time": "2021-11-22T09:43:04.706Z"
   },
   {
    "duration": 42,
    "start_time": "2021-11-22T09:43:04.726Z"
   },
   {
    "duration": 5,
    "start_time": "2021-11-22T09:43:06.067Z"
   },
   {
    "duration": 8,
    "start_time": "2021-11-22T09:43:06.979Z"
   },
   {
    "duration": 5,
    "start_time": "2021-11-22T09:43:07.978Z"
   },
   {
    "duration": 12,
    "start_time": "2021-11-22T09:43:24.811Z"
   },
   {
    "duration": 5,
    "start_time": "2021-11-22T09:43:27.621Z"
   },
   {
    "duration": 1841,
    "start_time": "2021-11-22T09:43:46.651Z"
   },
   {
    "duration": 17,
    "start_time": "2021-11-22T09:43:48.496Z"
   },
   {
    "duration": 207,
    "start_time": "2021-11-22T09:43:50.755Z"
   },
   {
    "duration": 22,
    "start_time": "2021-11-22T09:44:21.324Z"
   },
   {
    "duration": 29,
    "start_time": "2021-11-22T09:44:53.325Z"
   },
   {
    "duration": 24,
    "start_time": "2021-11-22T09:44:57.907Z"
   },
   {
    "duration": 21,
    "start_time": "2021-11-22T09:45:15.696Z"
   },
   {
    "duration": 18,
    "start_time": "2021-11-22T09:45:23.125Z"
   },
   {
    "duration": 23,
    "start_time": "2021-11-22T09:45:27.684Z"
   },
   {
    "duration": 63,
    "start_time": "2021-11-22T09:45:50.310Z"
   },
   {
    "duration": 19,
    "start_time": "2021-11-22T09:45:50.376Z"
   },
   {
    "duration": 15,
    "start_time": "2021-11-22T09:45:50.398Z"
   },
   {
    "duration": 4,
    "start_time": "2021-11-22T09:45:50.416Z"
   },
   {
    "duration": 235,
    "start_time": "2021-11-22T09:45:50.423Z"
   },
   {
    "duration": 223,
    "start_time": "2021-11-22T09:45:50.661Z"
   },
   {
    "duration": 223,
    "start_time": "2021-11-22T09:45:50.886Z"
   },
   {
    "duration": 231,
    "start_time": "2021-11-22T09:45:51.113Z"
   },
   {
    "duration": 8,
    "start_time": "2021-11-22T09:45:51.348Z"
   },
   {
    "duration": 25,
    "start_time": "2021-11-22T09:45:51.359Z"
   },
   {
    "duration": 8,
    "start_time": "2021-11-22T09:45:51.387Z"
   },
   {
    "duration": 19,
    "start_time": "2021-11-22T09:45:51.398Z"
   },
   {
    "duration": 11,
    "start_time": "2021-11-22T09:45:51.421Z"
   },
   {
    "duration": 203,
    "start_time": "2021-11-22T09:45:51.482Z"
   },
   {
    "duration": 8,
    "start_time": "2021-11-22T09:45:51.687Z"
   },
   {
    "duration": 13,
    "start_time": "2021-11-22T09:45:51.697Z"
   },
   {
    "duration": 8,
    "start_time": "2021-11-22T09:45:51.713Z"
   },
   {
    "duration": 58,
    "start_time": "2021-11-22T09:45:51.724Z"
   },
   {
    "duration": 10,
    "start_time": "2021-11-22T09:45:51.785Z"
   },
   {
    "duration": 32,
    "start_time": "2021-11-22T09:45:51.798Z"
   },
   {
    "duration": 22,
    "start_time": "2021-11-22T09:45:51.832Z"
   },
   {
    "duration": 31,
    "start_time": "2021-11-22T09:45:51.856Z"
   },
   {
    "duration": 37,
    "start_time": "2021-11-22T09:45:51.892Z"
   },
   {
    "duration": 66,
    "start_time": "2021-11-22T09:45:51.932Z"
   },
   {
    "duration": 23,
    "start_time": "2021-11-22T09:45:52.001Z"
   },
   {
    "duration": 11,
    "start_time": "2021-11-22T09:45:52.027Z"
   },
   {
    "duration": 16,
    "start_time": "2021-11-22T09:45:52.040Z"
   },
   {
    "duration": 84,
    "start_time": "2021-11-22T09:45:52.058Z"
   },
   {
    "duration": 381,
    "start_time": "2021-11-22T09:45:52.144Z"
   },
   {
    "duration": 9,
    "start_time": "2021-11-22T09:45:52.528Z"
   },
   {
    "duration": 15,
    "start_time": "2021-11-22T09:45:52.540Z"
   },
   {
    "duration": 46,
    "start_time": "2021-11-22T09:45:52.558Z"
   },
   {
    "duration": 5,
    "start_time": "2021-11-22T09:45:52.606Z"
   },
   {
    "duration": 8,
    "start_time": "2021-11-22T09:45:54.499Z"
   },
   {
    "duration": 5,
    "start_time": "2021-11-22T09:45:56.044Z"
   },
   {
    "duration": 1790,
    "start_time": "2021-11-22T09:45:59.180Z"
   },
   {
    "duration": 44,
    "start_time": "2021-11-22T09:46:00.973Z"
   },
   {
    "duration": 1121,
    "start_time": "2021-11-22T09:46:18.150Z"
   },
   {
    "duration": 36,
    "start_time": "2021-11-22T09:46:19.892Z"
   },
   {
    "duration": 8,
    "start_time": "2021-11-22T09:46:39.350Z"
   },
   {
    "duration": 33,
    "start_time": "2021-11-22T09:46:39.678Z"
   },
   {
    "duration": 15,
    "start_time": "2021-11-22T09:46:46.413Z"
   },
   {
    "duration": 7,
    "start_time": "2021-11-22T09:50:27.599Z"
   },
   {
    "duration": 66,
    "start_time": "2021-11-22T09:51:49.985Z"
   },
   {
    "duration": 36,
    "start_time": "2021-11-22T09:51:50.054Z"
   },
   {
    "duration": 18,
    "start_time": "2021-11-22T09:51:50.093Z"
   },
   {
    "duration": 4,
    "start_time": "2021-11-22T09:51:50.114Z"
   },
   {
    "duration": 242,
    "start_time": "2021-11-22T09:51:50.121Z"
   },
   {
    "duration": 215,
    "start_time": "2021-11-22T09:51:50.366Z"
   },
   {
    "duration": 230,
    "start_time": "2021-11-22T09:51:50.584Z"
   },
   {
    "duration": 232,
    "start_time": "2021-11-22T09:51:50.818Z"
   },
   {
    "duration": 6,
    "start_time": "2021-11-22T09:51:51.053Z"
   },
   {
    "duration": 7,
    "start_time": "2021-11-22T09:51:51.082Z"
   },
   {
    "duration": 7,
    "start_time": "2021-11-22T09:51:51.091Z"
   },
   {
    "duration": 19,
    "start_time": "2021-11-22T09:51:51.101Z"
   },
   {
    "duration": 11,
    "start_time": "2021-11-22T09:51:51.123Z"
   },
   {
    "duration": 245,
    "start_time": "2021-11-22T09:51:51.137Z"
   },
   {
    "duration": 8,
    "start_time": "2021-11-22T09:51:51.384Z"
   },
   {
    "duration": 14,
    "start_time": "2021-11-22T09:51:51.394Z"
   },
   {
    "duration": 9,
    "start_time": "2021-11-22T09:51:51.410Z"
   },
   {
    "duration": 61,
    "start_time": "2021-11-22T09:51:51.422Z"
   },
   {
    "duration": 14,
    "start_time": "2021-11-22T09:51:51.486Z"
   },
   {
    "duration": 7,
    "start_time": "2021-11-22T09:51:51.503Z"
   },
   {
    "duration": 20,
    "start_time": "2021-11-22T09:51:51.513Z"
   },
   {
    "duration": 48,
    "start_time": "2021-11-22T09:51:51.535Z"
   },
   {
    "duration": 35,
    "start_time": "2021-11-22T09:51:51.587Z"
   },
   {
    "duration": 57,
    "start_time": "2021-11-22T09:51:51.625Z"
   },
   {
    "duration": 24,
    "start_time": "2021-11-22T09:51:51.684Z"
   },
   {
    "duration": 8,
    "start_time": "2021-11-22T09:51:51.710Z"
   },
   {
    "duration": 11,
    "start_time": "2021-11-22T09:51:51.720Z"
   },
   {
    "duration": 89,
    "start_time": "2021-11-22T09:51:51.733Z"
   },
   {
    "duration": 369,
    "start_time": "2021-11-22T09:51:51.825Z"
   },
   {
    "duration": 7,
    "start_time": "2021-11-22T09:51:52.196Z"
   },
   {
    "duration": 27,
    "start_time": "2021-11-22T09:51:52.205Z"
   },
   {
    "duration": 47,
    "start_time": "2021-11-22T09:51:52.235Z"
   },
   {
    "duration": 4,
    "start_time": "2021-11-22T09:51:52.284Z"
   },
   {
    "duration": 6,
    "start_time": "2021-11-22T09:52:06.080Z"
   },
   {
    "duration": 8,
    "start_time": "2021-11-22T09:52:12.599Z"
   },
   {
    "duration": 12,
    "start_time": "2021-11-22T09:52:17.207Z"
   },
   {
    "duration": 9,
    "start_time": "2021-11-22T09:52:24.871Z"
   },
   {
    "duration": 7,
    "start_time": "2021-11-22T09:52:46.711Z"
   },
   {
    "duration": 5,
    "start_time": "2021-11-22T09:52:50.295Z"
   },
   {
    "duration": 7,
    "start_time": "2021-11-22T09:52:55.167Z"
   },
   {
    "duration": 30,
    "start_time": "2021-11-22T10:16:30.830Z"
   },
   {
    "duration": 4,
    "start_time": "2021-11-22T10:25:50.298Z"
   },
   {
    "duration": 5,
    "start_time": "2021-11-22T10:26:00.154Z"
   },
   {
    "duration": 16,
    "start_time": "2021-11-22T10:26:32.403Z"
   },
   {
    "duration": 26,
    "start_time": "2021-11-22T10:26:37.801Z"
   },
   {
    "duration": 25,
    "start_time": "2021-11-22T10:27:05.922Z"
   },
   {
    "duration": 38,
    "start_time": "2021-11-22T10:27:24.251Z"
   },
   {
    "duration": 25,
    "start_time": "2021-11-22T10:27:27.267Z"
   },
   {
    "duration": 5,
    "start_time": "2021-11-22T10:28:13.707Z"
   },
   {
    "duration": 9,
    "start_time": "2021-11-22T10:28:15.218Z"
   },
   {
    "duration": 8,
    "start_time": "2021-11-22T10:28:19.858Z"
   },
   {
    "duration": 89,
    "start_time": "2021-11-22T10:28:24.501Z"
   },
   {
    "duration": 29,
    "start_time": "2021-11-22T10:28:24.594Z"
   },
   {
    "duration": 54,
    "start_time": "2021-11-22T10:28:24.628Z"
   },
   {
    "duration": 3,
    "start_time": "2021-11-22T10:28:24.686Z"
   },
   {
    "duration": 329,
    "start_time": "2021-11-22T10:28:24.692Z"
   },
   {
    "duration": 333,
    "start_time": "2021-11-22T10:28:25.024Z"
   },
   {
    "duration": 231,
    "start_time": "2021-11-22T10:28:25.360Z"
   },
   {
    "duration": 225,
    "start_time": "2021-11-22T10:28:25.596Z"
   },
   {
    "duration": 8,
    "start_time": "2021-11-22T10:28:25.825Z"
   },
   {
    "duration": 9,
    "start_time": "2021-11-22T10:28:25.835Z"
   },
   {
    "duration": 40,
    "start_time": "2021-11-22T10:28:25.847Z"
   },
   {
    "duration": 19,
    "start_time": "2021-11-22T10:28:25.890Z"
   },
   {
    "duration": 12,
    "start_time": "2021-11-22T10:28:25.911Z"
   },
   {
    "duration": 234,
    "start_time": "2021-11-22T10:28:25.926Z"
   },
   {
    "duration": 20,
    "start_time": "2021-11-22T10:28:26.163Z"
   },
   {
    "duration": 14,
    "start_time": "2021-11-22T10:28:26.186Z"
   },
   {
    "duration": 11,
    "start_time": "2021-11-22T10:28:26.203Z"
   },
   {
    "duration": 12,
    "start_time": "2021-11-22T10:28:26.217Z"
   },
   {
    "duration": 54,
    "start_time": "2021-11-22T10:28:26.231Z"
   },
   {
    "duration": 11,
    "start_time": "2021-11-22T10:28:26.288Z"
   },
   {
    "duration": 17,
    "start_time": "2021-11-22T10:28:26.302Z"
   },
   {
    "duration": 12,
    "start_time": "2021-11-22T10:28:26.322Z"
   },
   {
    "duration": 78,
    "start_time": "2021-11-22T10:28:26.339Z"
   },
   {
    "duration": 31,
    "start_time": "2021-11-22T10:28:26.421Z"
   },
   {
    "duration": 47,
    "start_time": "2021-11-22T10:28:26.455Z"
   },
   {
    "duration": 6,
    "start_time": "2021-11-22T10:28:26.505Z"
   },
   {
    "duration": 11,
    "start_time": "2021-11-22T10:28:26.513Z"
   },
   {
    "duration": 94,
    "start_time": "2021-11-22T10:28:26.527Z"
   },
   {
    "duration": 378,
    "start_time": "2021-11-22T10:28:26.623Z"
   },
   {
    "duration": 7,
    "start_time": "2021-11-22T10:28:27.003Z"
   },
   {
    "duration": 21,
    "start_time": "2021-11-22T10:28:27.013Z"
   },
   {
    "duration": 6,
    "start_time": "2021-11-22T10:28:27.037Z"
   },
   {
    "duration": 47,
    "start_time": "2021-11-22T10:28:27.045Z"
   },
   {
    "duration": 30,
    "start_time": "2021-11-22T10:28:27.094Z"
   },
   {
    "duration": 27,
    "start_time": "2021-11-22T10:28:27.127Z"
   },
   {
    "duration": 38,
    "start_time": "2021-11-22T10:28:27.157Z"
   },
   {
    "duration": 6,
    "start_time": "2021-11-22T10:28:27.198Z"
   },
   {
    "duration": 8,
    "start_time": "2021-11-22T10:28:29.065Z"
   },
   {
    "duration": 7,
    "start_time": "2021-11-22T10:28:29.825Z"
   },
   {
    "duration": 5,
    "start_time": "2021-11-22T10:28:34.970Z"
   },
   {
    "duration": 8,
    "start_time": "2021-11-22T10:28:35.796Z"
   },
   {
    "duration": 1352,
    "start_time": "2021-11-22T10:28:38.769Z"
   },
   {
    "duration": 8,
    "start_time": "2021-11-22T10:28:49.028Z"
   },
   {
    "duration": 5,
    "start_time": "2021-11-22T10:29:24.731Z"
   },
   {
    "duration": 64,
    "start_time": "2021-11-22T10:29:31.291Z"
   },
   {
    "duration": 29,
    "start_time": "2021-11-22T10:29:31.358Z"
   },
   {
    "duration": 37,
    "start_time": "2021-11-22T10:29:31.391Z"
   },
   {
    "duration": 4,
    "start_time": "2021-11-22T10:29:31.432Z"
   },
   {
    "duration": 236,
    "start_time": "2021-11-22T10:29:31.439Z"
   },
   {
    "duration": 253,
    "start_time": "2021-11-22T10:29:31.683Z"
   },
   {
    "duration": 246,
    "start_time": "2021-11-22T10:29:31.938Z"
   },
   {
    "duration": 342,
    "start_time": "2021-11-22T10:29:32.190Z"
   },
   {
    "duration": 9,
    "start_time": "2021-11-22T10:29:32.536Z"
   },
   {
    "duration": 32,
    "start_time": "2021-11-22T10:29:32.549Z"
   },
   {
    "duration": 9,
    "start_time": "2021-11-22T10:29:32.584Z"
   },
   {
    "duration": 27,
    "start_time": "2021-11-22T10:29:32.596Z"
   },
   {
    "duration": 13,
    "start_time": "2021-11-22T10:29:32.625Z"
   },
   {
    "duration": 244,
    "start_time": "2021-11-22T10:29:32.640Z"
   },
   {
    "duration": 10,
    "start_time": "2021-11-22T10:29:32.888Z"
   },
   {
    "duration": 17,
    "start_time": "2021-11-22T10:29:32.903Z"
   },
   {
    "duration": 9,
    "start_time": "2021-11-22T10:29:32.923Z"
   },
   {
    "duration": 55,
    "start_time": "2021-11-22T10:29:32.934Z"
   },
   {
    "duration": 12,
    "start_time": "2021-11-22T10:29:32.992Z"
   },
   {
    "duration": 19,
    "start_time": "2021-11-22T10:29:33.006Z"
   },
   {
    "duration": 25,
    "start_time": "2021-11-22T10:29:33.028Z"
   },
   {
    "duration": 29,
    "start_time": "2021-11-22T10:29:33.055Z"
   },
   {
    "duration": 49,
    "start_time": "2021-11-22T10:29:33.091Z"
   },
   {
    "duration": 61,
    "start_time": "2021-11-22T10:29:33.144Z"
   },
   {
    "duration": 36,
    "start_time": "2021-11-22T10:29:33.207Z"
   },
   {
    "duration": 5,
    "start_time": "2021-11-22T10:29:33.245Z"
   },
   {
    "duration": 34,
    "start_time": "2021-11-22T10:29:33.253Z"
   },
   {
    "duration": 93,
    "start_time": "2021-11-22T10:29:33.290Z"
   },
   {
    "duration": 511,
    "start_time": "2021-11-22T10:29:33.386Z"
   },
   {
    "duration": 7,
    "start_time": "2021-11-22T10:29:33.899Z"
   },
   {
    "duration": 20,
    "start_time": "2021-11-22T10:29:33.909Z"
   },
   {
    "duration": 5,
    "start_time": "2021-11-22T10:29:33.932Z"
   },
   {
    "duration": 47,
    "start_time": "2021-11-22T10:29:33.939Z"
   },
   {
    "duration": 25,
    "start_time": "2021-11-22T10:29:33.989Z"
   },
   {
    "duration": 27,
    "start_time": "2021-11-22T10:29:34.017Z"
   },
   {
    "duration": 45,
    "start_time": "2021-11-22T10:29:34.047Z"
   },
   {
    "duration": 6,
    "start_time": "2021-11-22T10:29:38.386Z"
   },
   {
    "duration": 8,
    "start_time": "2021-11-22T10:30:40.580Z"
   },
   {
    "duration": 8,
    "start_time": "2021-11-22T10:31:51.804Z"
   },
   {
    "duration": 7,
    "start_time": "2021-11-22T10:31:54.115Z"
   },
   {
    "duration": 6,
    "start_time": "2021-11-22T10:31:55.043Z"
   },
   {
    "duration": 1162,
    "start_time": "2021-11-22T10:31:56.035Z"
   },
   {
    "duration": 6,
    "start_time": "2021-11-22T10:31:57.199Z"
   },
   {
    "duration": 9,
    "start_time": "2021-11-22T10:32:43.844Z"
   },
   {
    "duration": 339,
    "start_time": "2021-11-22T10:32:58.283Z"
   },
   {
    "duration": 11,
    "start_time": "2021-11-22T10:32:59.668Z"
   },
   {
    "duration": 18,
    "start_time": "2021-11-22T10:33:00.243Z"
   },
   {
    "duration": 5,
    "start_time": "2021-11-22T10:33:00.900Z"
   },
   {
    "duration": 15,
    "start_time": "2021-11-22T10:33:01.820Z"
   },
   {
    "duration": 28,
    "start_time": "2021-11-22T10:33:02.836Z"
   },
   {
    "duration": 25,
    "start_time": "2021-11-22T10:33:04.731Z"
   },
   {
    "duration": 18,
    "start_time": "2021-11-22T10:33:05.332Z"
   },
   {
    "duration": 4,
    "start_time": "2021-11-22T10:33:06.459Z"
   },
   {
    "duration": 9,
    "start_time": "2021-11-22T10:33:07.515Z"
   },
   {
    "duration": 9,
    "start_time": "2021-11-22T10:33:09.300Z"
   },
   {
    "duration": 63,
    "start_time": "2021-11-22T10:33:12.964Z"
   },
   {
    "duration": 18,
    "start_time": "2021-11-22T10:33:13.030Z"
   },
   {
    "duration": 37,
    "start_time": "2021-11-22T10:33:13.052Z"
   },
   {
    "duration": 4,
    "start_time": "2021-11-22T10:33:13.092Z"
   },
   {
    "duration": 226,
    "start_time": "2021-11-22T10:33:13.098Z"
   },
   {
    "duration": 209,
    "start_time": "2021-11-22T10:33:13.326Z"
   },
   {
    "duration": 225,
    "start_time": "2021-11-22T10:33:13.539Z"
   },
   {
    "duration": 224,
    "start_time": "2021-11-22T10:33:13.768Z"
   },
   {
    "duration": 7,
    "start_time": "2021-11-22T10:33:13.995Z"
   },
   {
    "duration": 11,
    "start_time": "2021-11-22T10:33:14.005Z"
   },
   {
    "duration": 7,
    "start_time": "2021-11-22T10:33:14.019Z"
   },
   {
    "duration": 60,
    "start_time": "2021-11-22T10:33:14.028Z"
   },
   {
    "duration": 25,
    "start_time": "2021-11-22T10:33:14.090Z"
   },
   {
    "duration": 200,
    "start_time": "2021-11-22T10:33:14.117Z"
   },
   {
    "duration": 11,
    "start_time": "2021-11-22T10:33:14.320Z"
   },
   {
    "duration": 15,
    "start_time": "2021-11-22T10:33:14.333Z"
   },
   {
    "duration": 11,
    "start_time": "2021-11-22T10:33:14.383Z"
   },
   {
    "duration": 14,
    "start_time": "2021-11-22T10:33:14.397Z"
   },
   {
    "duration": 10,
    "start_time": "2021-11-22T10:33:14.414Z"
   },
   {
    "duration": 11,
    "start_time": "2021-11-22T10:33:14.428Z"
   },
   {
    "duration": 17,
    "start_time": "2021-11-22T10:33:14.482Z"
   },
   {
    "duration": 17,
    "start_time": "2021-11-22T10:33:14.502Z"
   },
   {
    "duration": 74,
    "start_time": "2021-11-22T10:33:14.526Z"
   },
   {
    "duration": 50,
    "start_time": "2021-11-22T10:33:14.603Z"
   },
   {
    "duration": 48,
    "start_time": "2021-11-22T10:33:14.656Z"
   },
   {
    "duration": 28,
    "start_time": "2021-11-22T10:33:14.707Z"
   },
   {
    "duration": 29,
    "start_time": "2021-11-22T10:33:14.738Z"
   },
   {
    "duration": 108,
    "start_time": "2021-11-22T10:33:14.770Z"
   },
   {
    "duration": 638,
    "start_time": "2021-11-22T10:33:14.881Z"
   },
   {
    "duration": 9,
    "start_time": "2021-11-22T10:33:15.522Z"
   },
   {
    "duration": 20,
    "start_time": "2021-11-22T10:33:15.534Z"
   },
   {
    "duration": 25,
    "start_time": "2021-11-22T10:33:15.557Z"
   },
   {
    "duration": 15,
    "start_time": "2021-11-22T10:33:15.584Z"
   },
   {
    "duration": 27,
    "start_time": "2021-11-22T10:33:15.601Z"
   },
   {
    "duration": 55,
    "start_time": "2021-11-22T10:33:15.630Z"
   },
   {
    "duration": 19,
    "start_time": "2021-11-22T10:33:15.687Z"
   },
   {
    "duration": 6,
    "start_time": "2021-11-22T10:33:15.708Z"
   },
   {
    "duration": 8,
    "start_time": "2021-11-22T10:33:16.915Z"
   },
   {
    "duration": 7,
    "start_time": "2021-11-22T10:33:18.267Z"
   },
   {
    "duration": 5,
    "start_time": "2021-11-22T10:33:24.267Z"
   },
   {
    "duration": 7409,
    "start_time": "2021-11-22T10:33:53.156Z"
   },
   {
    "duration": 1097,
    "start_time": "2021-11-22T10:34:13.972Z"
   },
   {
    "duration": 732,
    "start_time": "2021-11-22T10:34:15.071Z"
   },
   {
    "duration": 7,
    "start_time": "2021-11-22T10:34:25.108Z"
   },
   {
    "duration": 6,
    "start_time": "2021-11-22T10:34:27.607Z"
   },
   {
    "duration": 20,
    "start_time": "2021-11-22T10:35:02.590Z"
   },
   {
    "duration": 21,
    "start_time": "2021-11-22T10:35:36.307Z"
   },
   {
    "duration": 12,
    "start_time": "2021-11-22T10:36:54.591Z"
   },
   {
    "duration": 24,
    "start_time": "2021-11-22T10:37:02.534Z"
   },
   {
    "duration": 19,
    "start_time": "2021-11-22T10:37:59.070Z"
   },
   {
    "duration": 291,
    "start_time": "2021-11-22T10:38:02.934Z"
   },
   {
    "duration": 6,
    "start_time": "2021-11-22T10:38:54.751Z"
   },
   {
    "duration": 6,
    "start_time": "2021-11-22T10:38:58.880Z"
   },
   {
    "duration": 6,
    "start_time": "2021-11-22T10:39:03.631Z"
   },
   {
    "duration": 7,
    "start_time": "2021-11-22T10:39:17.504Z"
   },
   {
    "duration": 6,
    "start_time": "2021-11-22T10:39:20.511Z"
   },
   {
    "duration": 103,
    "start_time": "2021-11-22T10:39:31.424Z"
   },
   {
    "duration": 12,
    "start_time": "2021-11-22T10:39:38.671Z"
   },
   {
    "duration": 8,
    "start_time": "2021-11-22T10:39:43.262Z"
   },
   {
    "duration": 6,
    "start_time": "2021-11-22T10:39:48.031Z"
   },
   {
    "duration": 332,
    "start_time": "2021-11-22T10:39:49.983Z"
   },
   {
    "duration": 15,
    "start_time": "2021-11-22T10:44:51.686Z"
   },
   {
    "duration": 436,
    "start_time": "2021-11-22T10:45:19.254Z"
   },
   {
    "duration": 1000,
    "start_time": "2021-11-22T10:46:14.897Z"
   },
   {
    "duration": 5,
    "start_time": "2021-11-22T10:46:17.904Z"
   },
   {
    "duration": 19,
    "start_time": "2021-11-22T10:46:19.143Z"
   },
   {
    "duration": 28,
    "start_time": "2021-11-22T10:46:34.167Z"
   },
   {
    "duration": 7,
    "start_time": "2021-11-22T10:46:37.479Z"
   },
   {
    "duration": 27,
    "start_time": "2021-11-22T10:48:43.624Z"
   },
   {
    "duration": 25,
    "start_time": "2021-11-22T10:48:44.647Z"
   },
   {
    "duration": 61,
    "start_time": "2021-11-22T11:18:16.178Z"
   },
   {
    "duration": 41,
    "start_time": "2021-11-22T11:18:16.241Z"
   },
   {
    "duration": 15,
    "start_time": "2021-11-22T11:18:16.285Z"
   },
   {
    "duration": 4,
    "start_time": "2021-11-22T11:18:16.303Z"
   },
   {
    "duration": 243,
    "start_time": "2021-11-22T11:18:16.309Z"
   },
   {
    "duration": 218,
    "start_time": "2021-11-22T11:18:16.554Z"
   },
   {
    "duration": 218,
    "start_time": "2021-11-22T11:18:16.782Z"
   },
   {
    "duration": 228,
    "start_time": "2021-11-22T11:18:17.004Z"
   },
   {
    "duration": 9,
    "start_time": "2021-11-22T11:18:17.235Z"
   },
   {
    "duration": 9,
    "start_time": "2021-11-22T11:18:17.246Z"
   },
   {
    "duration": 28,
    "start_time": "2021-11-22T11:18:17.258Z"
   },
   {
    "duration": 26,
    "start_time": "2021-11-22T11:18:17.289Z"
   },
   {
    "duration": 10,
    "start_time": "2021-11-22T11:18:17.318Z"
   },
   {
    "duration": 470,
    "start_time": "2021-11-22T11:18:17.331Z"
   },
   {
    "duration": 10,
    "start_time": "2021-11-22T11:18:17.804Z"
   },
   {
    "duration": 17,
    "start_time": "2021-11-22T11:18:17.817Z"
   },
   {
    "duration": 9,
    "start_time": "2021-11-22T11:18:17.837Z"
   },
   {
    "duration": 12,
    "start_time": "2021-11-22T11:18:17.883Z"
   },
   {
    "duration": 11,
    "start_time": "2021-11-22T11:18:17.897Z"
   },
   {
    "duration": 12,
    "start_time": "2021-11-22T11:18:17.911Z"
   },
   {
    "duration": 24,
    "start_time": "2021-11-22T11:18:17.925Z"
   },
   {
    "duration": 37,
    "start_time": "2021-11-22T11:18:17.951Z"
   },
   {
    "duration": 50,
    "start_time": "2021-11-22T11:18:17.996Z"
   },
   {
    "duration": 67,
    "start_time": "2021-11-22T11:18:18.050Z"
   },
   {
    "duration": 34,
    "start_time": "2021-11-22T11:18:18.120Z"
   },
   {
    "duration": 24,
    "start_time": "2021-11-22T11:18:18.158Z"
   },
   {
    "duration": 9,
    "start_time": "2021-11-22T11:18:18.186Z"
   },
   {
    "duration": 118,
    "start_time": "2021-11-22T11:18:18.199Z"
   },
   {
    "duration": 650,
    "start_time": "2021-11-22T11:18:18.320Z"
   },
   {
    "duration": 10,
    "start_time": "2021-11-22T11:18:18.973Z"
   },
   {
    "duration": 20,
    "start_time": "2021-11-22T11:18:18.986Z"
   },
   {
    "duration": 6,
    "start_time": "2021-11-22T11:18:19.009Z"
   },
   {
    "duration": 29,
    "start_time": "2021-11-22T11:18:19.018Z"
   },
   {
    "duration": 66,
    "start_time": "2021-11-22T11:18:19.050Z"
   },
   {
    "duration": 26,
    "start_time": "2021-11-22T11:18:19.118Z"
   },
   {
    "duration": 43,
    "start_time": "2021-11-22T11:18:19.147Z"
   },
   {
    "duration": 11,
    "start_time": "2021-11-22T11:18:19.192Z"
   },
   {
    "duration": 19,
    "start_time": "2021-11-22T11:18:19.206Z"
   },
   {
    "duration": 9,
    "start_time": "2021-11-22T11:18:19.227Z"
   },
   {
    "duration": 7,
    "start_time": "2021-11-22T11:18:19.239Z"
   },
   {
    "duration": 1129,
    "start_time": "2021-11-22T11:18:19.248Z"
   },
   {
    "duration": 665,
    "start_time": "2021-11-22T11:18:20.381Z"
   },
   {
    "duration": 8,
    "start_time": "2021-11-22T11:18:21.048Z"
   },
   {
    "duration": 24,
    "start_time": "2021-11-22T11:18:21.058Z"
   },
   {
    "duration": 19,
    "start_time": "2021-11-22T11:18:21.084Z"
   },
   {
    "duration": 25,
    "start_time": "2021-11-22T11:18:21.105Z"
   },
   {
    "duration": 4,
    "start_time": "2021-11-22T11:18:26.175Z"
   },
   {
    "duration": 6,
    "start_time": "2021-11-22T11:18:27.871Z"
   },
   {
    "duration": 15,
    "start_time": "2021-11-22T11:18:31.030Z"
   },
   {
    "duration": 6,
    "start_time": "2021-11-22T11:18:50.983Z"
   },
   {
    "duration": 17,
    "start_time": "2021-11-22T11:18:52.318Z"
   },
   {
    "duration": 25,
    "start_time": "2021-11-22T11:18:58.807Z"
   },
   {
    "duration": 29,
    "start_time": "2021-11-22T11:18:59.583Z"
   },
   {
    "duration": 25,
    "start_time": "2021-11-22T11:19:00.222Z"
   },
   {
    "duration": 10,
    "start_time": "2021-11-22T11:22:15.440Z"
   },
   {
    "duration": 4,
    "start_time": "2021-11-22T11:25:13.011Z"
   },
   {
    "duration": 4,
    "start_time": "2021-11-22T11:25:40.898Z"
   },
   {
    "duration": 1026,
    "start_time": "2021-11-22T11:25:47.869Z"
   },
   {
    "duration": 8,
    "start_time": "2021-11-22T11:26:09.700Z"
   },
   {
    "duration": 5834,
    "start_time": "2021-11-22T11:28:15.118Z"
   },
   {
    "duration": 343,
    "start_time": "2021-11-22T11:28:24.380Z"
   },
   {
    "duration": 9,
    "start_time": "2021-11-22T11:28:56.220Z"
   },
   {
    "duration": 25,
    "start_time": "2021-11-22T11:29:02.899Z"
   },
   {
    "duration": 9,
    "start_time": "2021-11-22T11:29:08.930Z"
   },
   {
    "duration": 6,
    "start_time": "2021-11-22T11:29:24.141Z"
   },
   {
    "duration": 9,
    "start_time": "2021-11-22T11:29:26.460Z"
   },
   {
    "duration": 38,
    "start_time": "2021-11-22T11:29:29.995Z"
   },
   {
    "duration": 5,
    "start_time": "2021-11-22T11:37:52.286Z"
   },
   {
    "duration": 380,
    "start_time": "2021-11-22T11:38:31.527Z"
   },
   {
    "duration": 9,
    "start_time": "2021-11-22T11:38:47.519Z"
   },
   {
    "duration": 118,
    "start_time": "2021-11-22T11:39:06.016Z"
   },
   {
    "duration": 9,
    "start_time": "2021-11-22T11:40:47.398Z"
   },
   {
    "duration": 298,
    "start_time": "2021-11-22T11:41:04.025Z"
   },
   {
    "duration": 3,
    "start_time": "2021-11-22T11:44:07.339Z"
   },
   {
    "duration": 3,
    "start_time": "2021-11-22T11:45:39.039Z"
   },
   {
    "duration": 3,
    "start_time": "2021-11-22T11:45:51.649Z"
   },
   {
    "duration": 4,
    "start_time": "2021-11-22T11:48:47.403Z"
   },
   {
    "duration": 6,
    "start_time": "2021-11-22T11:51:18.087Z"
   },
   {
    "duration": 1044,
    "start_time": "2021-11-22T11:51:52.444Z"
   },
   {
    "duration": 10,
    "start_time": "2021-11-22T11:52:10.796Z"
   },
   {
    "duration": 31,
    "start_time": "2021-11-22T11:52:21.386Z"
   },
   {
    "duration": 8,
    "start_time": "2021-11-22T11:52:45.788Z"
   },
   {
    "duration": 11,
    "start_time": "2021-11-22T11:53:56.484Z"
   },
   {
    "duration": 15,
    "start_time": "2021-11-22T11:54:41.172Z"
   },
   {
    "duration": 7,
    "start_time": "2021-11-22T12:00:34.120Z"
   },
   {
    "duration": 50,
    "start_time": "2021-11-22T12:00:52.614Z"
   },
   {
    "duration": 531,
    "start_time": "2021-11-22T12:01:35.455Z"
   },
   {
    "duration": 2929,
    "start_time": "2021-11-22T12:02:04.462Z"
   },
   {
    "duration": 22,
    "start_time": "2021-11-22T12:02:13.000Z"
   },
   {
    "duration": 36,
    "start_time": "2021-11-22T12:02:54.343Z"
   },
   {
    "duration": 375,
    "start_time": "2021-11-22T12:03:20.407Z"
   },
   {
    "duration": 7,
    "start_time": "2021-11-22T12:03:26.223Z"
   },
   {
    "duration": 9,
    "start_time": "2021-11-22T12:03:45.991Z"
   },
   {
    "duration": 7,
    "start_time": "2021-11-22T12:04:05.769Z"
   },
   {
    "duration": 942,
    "start_time": "2021-11-22T12:04:07.023Z"
   },
   {
    "duration": 17,
    "start_time": "2021-11-22T12:04:08.054Z"
   },
   {
    "duration": 13,
    "start_time": "2021-11-22T12:04:22.160Z"
   },
   {
    "duration": 5,
    "start_time": "2021-11-22T12:05:50.264Z"
   },
   {
    "duration": 640,
    "start_time": "2021-11-22T12:05:51.343Z"
   },
   {
    "duration": 20,
    "start_time": "2021-11-22T12:05:52.377Z"
   },
   {
    "duration": 100,
    "start_time": "2021-11-22T12:06:46.218Z"
   },
   {
    "duration": 18,
    "start_time": "2021-11-22T12:06:57.680Z"
   },
   {
    "duration": 117,
    "start_time": "2021-11-22T12:07:24.897Z"
   },
   {
    "duration": 9,
    "start_time": "2021-11-22T12:09:45.658Z"
   },
   {
    "duration": 11,
    "start_time": "2021-11-22T12:09:53.302Z"
   },
   {
    "duration": 10,
    "start_time": "2021-11-22T12:09:57.985Z"
   },
   {
    "duration": 18,
    "start_time": "2021-11-22T12:10:04.402Z"
   },
   {
    "duration": 21,
    "start_time": "2021-11-22T12:10:17.569Z"
   },
   {
    "duration": 292,
    "start_time": "2021-11-22T12:11:48.772Z"
   },
   {
    "duration": 22,
    "start_time": "2021-11-22T12:12:11.842Z"
   },
   {
    "duration": 14,
    "start_time": "2021-11-22T12:13:45.202Z"
   },
   {
    "duration": 11,
    "start_time": "2021-11-22T12:14:05.955Z"
   },
   {
    "duration": 10,
    "start_time": "2021-11-22T12:14:12.730Z"
   },
   {
    "duration": 5,
    "start_time": "2021-11-22T12:14:16.926Z"
   },
   {
    "duration": 26,
    "start_time": "2021-11-22T12:14:17.162Z"
   },
   {
    "duration": 10,
    "start_time": "2021-11-22T12:14:55.067Z"
   },
   {
    "duration": 15,
    "start_time": "2021-11-22T12:15:00.212Z"
   },
   {
    "duration": 7,
    "start_time": "2021-11-22T12:15:00.467Z"
   },
   {
    "duration": 96,
    "start_time": "2021-11-22T12:15:11.859Z"
   },
   {
    "duration": 12,
    "start_time": "2021-11-22T12:15:14.291Z"
   },
   {
    "duration": 103,
    "start_time": "2021-11-22T12:19:42.044Z"
   },
   {
    "duration": 18,
    "start_time": "2021-11-22T12:21:17.605Z"
   },
   {
    "duration": 14,
    "start_time": "2021-11-22T12:21:20.670Z"
   },
   {
    "duration": 17,
    "start_time": "2021-11-22T12:22:57.015Z"
   },
   {
    "duration": 10,
    "start_time": "2021-11-22T12:23:00.966Z"
   },
   {
    "duration": 8,
    "start_time": "2021-11-22T12:23:32.606Z"
   },
   {
    "duration": 4,
    "start_time": "2021-11-22T12:24:14.686Z"
   },
   {
    "duration": 852,
    "start_time": "2021-11-22T12:24:17.014Z"
   },
   {
    "duration": 17,
    "start_time": "2021-11-22T12:24:17.869Z"
   },
   {
    "duration": 13,
    "start_time": "2021-11-22T12:25:00.116Z"
   },
   {
    "duration": 11,
    "start_time": "2021-11-22T12:25:00.378Z"
   },
   {
    "duration": 27,
    "start_time": "2021-11-22T12:25:29.198Z"
   },
   {
    "duration": 26,
    "start_time": "2021-11-22T12:25:37.615Z"
   },
   {
    "duration": 25,
    "start_time": "2021-11-22T12:25:59.167Z"
   },
   {
    "duration": 26,
    "start_time": "2021-11-22T12:32:16.553Z"
   },
   {
    "duration": 24,
    "start_time": "2021-11-22T12:32:21.216Z"
   },
   {
    "duration": 8333,
    "start_time": "2021-11-22T12:34:22.976Z"
   },
   {
    "duration": 133,
    "start_time": "2021-11-22T12:34:40.188Z"
   },
   {
    "duration": 14,
    "start_time": "2021-11-22T12:34:44.730Z"
   },
   {
    "duration": 27,
    "start_time": "2021-11-22T12:38:34.562Z"
   },
   {
    "duration": 26,
    "start_time": "2021-11-22T12:39:57.469Z"
   },
   {
    "duration": 20,
    "start_time": "2021-11-22T12:52:57.222Z"
   },
   {
    "duration": 21,
    "start_time": "2021-11-22T12:53:07.232Z"
   },
   {
    "duration": 18,
    "start_time": "2021-11-22T12:53:10.856Z"
   },
   {
    "duration": 34,
    "start_time": "2021-11-22T12:53:37.793Z"
   },
   {
    "duration": 23,
    "start_time": "2021-11-22T12:53:39.583Z"
   },
   {
    "duration": 21,
    "start_time": "2021-11-22T12:53:47.055Z"
   },
   {
    "duration": 19,
    "start_time": "2021-11-22T13:01:45.419Z"
   },
   {
    "duration": 28,
    "start_time": "2021-11-22T13:01:54.451Z"
   },
   {
    "duration": 28,
    "start_time": "2021-11-22T13:01:57.883Z"
   },
   {
    "duration": 63,
    "start_time": "2021-11-22T13:08:54.667Z"
   },
   {
    "duration": 20,
    "start_time": "2021-11-22T13:08:55.142Z"
   },
   {
    "duration": 16,
    "start_time": "2021-11-22T13:08:56.420Z"
   },
   {
    "duration": 3,
    "start_time": "2021-11-22T13:09:00.085Z"
   },
   {
    "duration": 197,
    "start_time": "2021-11-22T13:09:01.613Z"
   },
   {
    "duration": 205,
    "start_time": "2021-11-22T13:09:10.461Z"
   },
   {
    "duration": 228,
    "start_time": "2021-11-22T13:09:11.646Z"
   },
   {
    "duration": 318,
    "start_time": "2021-11-22T13:09:20.021Z"
   },
   {
    "duration": 7,
    "start_time": "2021-11-22T13:09:26.790Z"
   },
   {
    "duration": 10,
    "start_time": "2021-11-22T13:09:31.653Z"
   },
   {
    "duration": 9,
    "start_time": "2021-11-22T13:09:42.813Z"
   },
   {
    "duration": 27,
    "start_time": "2021-11-22T13:09:44.694Z"
   },
   {
    "duration": 7,
    "start_time": "2021-11-22T13:09:51.949Z"
   },
   {
    "duration": 209,
    "start_time": "2021-11-22T13:09:56.660Z"
   },
   {
    "duration": 8,
    "start_time": "2021-11-22T13:10:04.269Z"
   },
   {
    "duration": 13,
    "start_time": "2021-11-22T13:10:26.726Z"
   },
   {
    "duration": 10,
    "start_time": "2021-11-22T13:10:30.533Z"
   },
   {
    "duration": 14,
    "start_time": "2021-11-22T13:10:38.853Z"
   },
   {
    "duration": 11,
    "start_time": "2021-11-22T13:10:41.205Z"
   },
   {
    "duration": 7,
    "start_time": "2021-11-22T13:11:03.798Z"
   },
   {
    "duration": 17,
    "start_time": "2021-11-22T13:11:06.517Z"
   },
   {
    "duration": 8,
    "start_time": "2021-11-22T13:11:07.717Z"
   },
   {
    "duration": 36,
    "start_time": "2021-11-22T13:11:11.165Z"
   },
   {
    "duration": 10,
    "start_time": "2021-11-22T13:11:28.250Z"
   },
   {
    "duration": 10,
    "start_time": "2021-11-22T13:11:36.174Z"
   },
   {
    "duration": 30,
    "start_time": "2021-11-22T13:11:41.213Z"
   },
   {
    "duration": 24,
    "start_time": "2021-11-22T13:11:43.190Z"
   },
   {
    "duration": 5,
    "start_time": "2021-11-22T13:11:47.096Z"
   },
   {
    "duration": 7,
    "start_time": "2021-11-22T13:11:49.638Z"
   },
   {
    "duration": 75,
    "start_time": "2021-11-22T13:11:50.734Z"
   },
   {
    "duration": 359,
    "start_time": "2021-11-22T13:11:52.293Z"
   },
   {
    "duration": 8,
    "start_time": "2021-11-22T13:11:55.342Z"
   },
   {
    "duration": 13,
    "start_time": "2021-11-22T13:11:56.013Z"
   },
   {
    "duration": 10,
    "start_time": "2021-11-22T13:12:01.430Z"
   },
   {
    "duration": 4,
    "start_time": "2021-11-22T13:12:05.958Z"
   },
   {
    "duration": 15,
    "start_time": "2021-11-22T13:12:14.053Z"
   },
   {
    "duration": 364,
    "start_time": "2021-11-22T13:12:50.607Z"
   },
   {
    "duration": 17,
    "start_time": "2021-11-22T13:12:57.255Z"
   },
   {
    "duration": 37,
    "start_time": "2021-11-22T13:13:00.470Z"
   },
   {
    "duration": 26,
    "start_time": "2021-11-22T13:13:01.678Z"
   },
   {
    "duration": 4,
    "start_time": "2021-11-22T13:13:05.094Z"
   },
   {
    "duration": 8,
    "start_time": "2021-11-22T13:13:06.013Z"
   },
   {
    "duration": 8,
    "start_time": "2021-11-22T13:13:12.239Z"
   },
   {
    "duration": 7,
    "start_time": "2021-11-22T13:13:22.982Z"
   },
   {
    "duration": 5,
    "start_time": "2021-11-22T13:13:26.438Z"
   },
   {
    "duration": 1255,
    "start_time": "2021-11-22T13:13:27.285Z"
   },
   {
    "duration": 689,
    "start_time": "2021-11-22T13:13:28.967Z"
   },
   {
    "duration": 8,
    "start_time": "2021-11-22T13:13:37.406Z"
   },
   {
    "duration": 7,
    "start_time": "2021-11-22T13:13:38.239Z"
   },
   {
    "duration": 18,
    "start_time": "2021-11-22T13:13:40.271Z"
   },
   {
    "duration": 21,
    "start_time": "2021-11-22T13:13:43.605Z"
   },
   {
    "duration": 6,
    "start_time": "2021-11-22T13:13:47.710Z"
   },
   {
    "duration": 7,
    "start_time": "2021-11-22T13:13:50.615Z"
   },
   {
    "duration": 15,
    "start_time": "2021-11-22T13:13:56.216Z"
   },
   {
    "duration": 5,
    "start_time": "2021-11-22T13:13:57.553Z"
   },
   {
    "duration": 17,
    "start_time": "2021-11-22T13:13:59.174Z"
   },
   {
    "duration": 25,
    "start_time": "2021-11-22T13:14:02.904Z"
   },
   {
    "duration": 28,
    "start_time": "2021-11-22T13:14:09.966Z"
   },
   {
    "duration": 26,
    "start_time": "2021-11-22T13:14:11.701Z"
   },
   {
    "duration": 25,
    "start_time": "2021-11-22T13:14:17.190Z"
   },
   {
    "duration": 4,
    "start_time": "2021-11-22T13:14:19.878Z"
   },
   {
    "duration": 1324,
    "start_time": "2021-11-22T13:14:21.093Z"
   },
   {
    "duration": 5184,
    "start_time": "2021-11-22T13:14:24.438Z"
   },
   {
    "duration": 10,
    "start_time": "2021-11-22T13:14:29.624Z"
   },
   {
    "duration": 4,
    "start_time": "2021-11-22T13:14:44.446Z"
   },
   {
    "duration": 378,
    "start_time": "2021-11-22T13:14:45.654Z"
   },
   {
    "duration": 7,
    "start_time": "2021-11-22T13:14:46.734Z"
   },
   {
    "duration": 8,
    "start_time": "2021-11-22T13:14:50.718Z"
   },
   {
    "duration": 4,
    "start_time": "2021-11-22T13:14:53.684Z"
   },
   {
    "duration": 5,
    "start_time": "2021-11-22T13:14:55.359Z"
   },
   {
    "duration": 761,
    "start_time": "2021-11-22T13:14:57.662Z"
   },
   {
    "duration": 21,
    "start_time": "2021-11-22T13:14:58.426Z"
   },
   {
    "duration": 16,
    "start_time": "2021-11-22T13:15:14.449Z"
   },
   {
    "duration": 10,
    "start_time": "2021-11-22T13:15:19.047Z"
   },
   {
    "duration": 5,
    "start_time": "2021-11-22T13:15:20.759Z"
   },
   {
    "duration": 522,
    "start_time": "2021-11-22T13:15:23.374Z"
   },
   {
    "duration": 17,
    "start_time": "2021-11-22T13:15:24.055Z"
   },
   {
    "duration": 8,
    "start_time": "2021-11-22T13:15:27.462Z"
   },
   {
    "duration": 19,
    "start_time": "2021-11-22T13:15:33.751Z"
   },
   {
    "duration": 18,
    "start_time": "2021-11-22T13:15:35.559Z"
   },
   {
    "duration": 30,
    "start_time": "2021-11-22T13:15:40.648Z"
   },
   {
    "duration": 29,
    "start_time": "2021-11-22T13:15:46.551Z"
   },
   {
    "duration": 26,
    "start_time": "2021-11-22T13:15:50.153Z"
   },
   {
    "duration": 720,
    "start_time": "2021-11-22T20:39:33.743Z"
   },
   {
    "duration": 18,
    "start_time": "2021-11-22T20:39:34.465Z"
   },
   {
    "duration": 13,
    "start_time": "2021-11-22T20:39:34.485Z"
   },
   {
    "duration": 73,
    "start_time": "2021-11-22T20:39:34.500Z"
   },
   {
    "duration": 130,
    "start_time": "2021-11-22T20:39:34.575Z"
   },
   {
    "duration": 130,
    "start_time": "2021-11-22T20:39:34.706Z"
   },
   {
    "duration": 132,
    "start_time": "2021-11-22T20:39:34.837Z"
   },
   {
    "duration": 182,
    "start_time": "2021-11-22T20:39:34.973Z"
   },
   {
    "duration": 4,
    "start_time": "2021-11-22T20:39:35.157Z"
   },
   {
    "duration": 7,
    "start_time": "2021-11-22T20:39:35.163Z"
   },
   {
    "duration": 5,
    "start_time": "2021-11-22T20:39:35.171Z"
   },
   {
    "duration": 12,
    "start_time": "2021-11-22T20:39:35.178Z"
   },
   {
    "duration": 9,
    "start_time": "2021-11-22T20:39:35.192Z"
   },
   {
    "duration": 144,
    "start_time": "2021-11-22T20:39:35.202Z"
   },
   {
    "duration": 6,
    "start_time": "2021-11-22T20:39:35.347Z"
   },
   {
    "duration": 13,
    "start_time": "2021-11-22T20:39:35.354Z"
   },
   {
    "duration": 19,
    "start_time": "2021-11-22T20:39:35.368Z"
   },
   {
    "duration": 26,
    "start_time": "2021-11-22T20:39:35.388Z"
   },
   {
    "duration": 8,
    "start_time": "2021-11-22T20:39:35.416Z"
   },
   {
    "duration": 16,
    "start_time": "2021-11-22T20:39:35.426Z"
   },
   {
    "duration": 14,
    "start_time": "2021-11-22T20:39:35.444Z"
   },
   {
    "duration": 18,
    "start_time": "2021-11-22T20:39:35.460Z"
   },
   {
    "duration": 9,
    "start_time": "2021-11-22T20:39:35.483Z"
   },
   {
    "duration": 22,
    "start_time": "2021-11-22T20:39:35.494Z"
   },
   {
    "duration": 14,
    "start_time": "2021-11-22T20:39:35.517Z"
   },
   {
    "duration": 12,
    "start_time": "2021-11-22T20:39:35.533Z"
   },
   {
    "duration": 11,
    "start_time": "2021-11-22T20:39:35.547Z"
   },
   {
    "duration": 35,
    "start_time": "2021-11-22T20:39:35.560Z"
   },
   {
    "duration": 208,
    "start_time": "2021-11-22T20:39:35.596Z"
   },
   {
    "duration": 5,
    "start_time": "2021-11-22T20:39:35.806Z"
   },
   {
    "duration": 12,
    "start_time": "2021-11-22T20:39:35.812Z"
   },
   {
    "duration": 11,
    "start_time": "2021-11-22T20:39:35.826Z"
   },
   {
    "duration": 27,
    "start_time": "2021-11-22T20:39:35.839Z"
   },
   {
    "duration": 20,
    "start_time": "2021-11-22T20:39:35.867Z"
   },
   {
    "duration": 20,
    "start_time": "2021-11-22T20:39:35.888Z"
   },
   {
    "duration": 15,
    "start_time": "2021-11-22T20:39:35.910Z"
   },
   {
    "duration": 5,
    "start_time": "2021-11-22T20:39:35.927Z"
   },
   {
    "duration": 17,
    "start_time": "2021-11-22T20:39:35.933Z"
   },
   {
    "duration": 6,
    "start_time": "2021-11-22T20:39:35.951Z"
   },
   {
    "duration": 4,
    "start_time": "2021-11-22T20:39:35.958Z"
   },
   {
    "duration": 684,
    "start_time": "2021-11-22T20:39:35.964Z"
   },
   {
    "duration": 350,
    "start_time": "2021-11-22T20:39:36.649Z"
   },
   {
    "duration": 5,
    "start_time": "2021-11-22T20:39:37.001Z"
   },
   {
    "duration": 14,
    "start_time": "2021-11-22T20:39:37.008Z"
   },
   {
    "duration": 14,
    "start_time": "2021-11-22T20:39:37.024Z"
   },
   {
    "duration": 13,
    "start_time": "2021-11-22T20:39:37.040Z"
   },
   {
    "duration": 4,
    "start_time": "2021-11-22T20:39:37.055Z"
   },
   {
    "duration": 7,
    "start_time": "2021-11-22T20:39:37.060Z"
   },
   {
    "duration": 12,
    "start_time": "2021-11-22T20:39:37.068Z"
   },
   {
    "duration": 4,
    "start_time": "2021-11-22T20:39:37.081Z"
   },
   {
    "duration": 15,
    "start_time": "2021-11-22T20:39:37.086Z"
   },
   {
    "duration": 48,
    "start_time": "2021-11-22T20:39:37.102Z"
   },
   {
    "duration": 17,
    "start_time": "2021-11-22T20:39:37.152Z"
   },
   {
    "duration": 15,
    "start_time": "2021-11-22T20:39:37.171Z"
   },
   {
    "duration": 7,
    "start_time": "2021-11-22T20:39:37.187Z"
   },
   {
    "duration": 7,
    "start_time": "2021-11-22T20:39:37.196Z"
   },
   {
    "duration": 751,
    "start_time": "2021-11-22T20:39:37.204Z"
   },
   {
    "duration": 3876,
    "start_time": "2021-11-22T20:39:37.957Z"
   },
   {
    "duration": 10,
    "start_time": "2021-11-22T20:39:41.835Z"
   },
   {
    "duration": 26,
    "start_time": "2021-11-22T20:39:41.847Z"
   },
   {
    "duration": 255,
    "start_time": "2021-11-22T20:39:41.874Z"
   },
   {
    "duration": 5,
    "start_time": "2021-11-22T20:39:42.131Z"
   },
   {
    "duration": 20,
    "start_time": "2021-11-22T20:39:42.137Z"
   },
   {
    "duration": 23,
    "start_time": "2021-11-22T20:39:42.158Z"
   },
   {
    "duration": 29,
    "start_time": "2021-11-22T20:39:42.183Z"
   },
   {
    "duration": 508,
    "start_time": "2021-11-22T20:39:42.214Z"
   },
   {
    "duration": 21,
    "start_time": "2021-11-22T20:39:42.724Z"
   },
   {
    "duration": 6,
    "start_time": "2021-11-22T20:39:42.750Z"
   },
   {
    "duration": 29,
    "start_time": "2021-11-22T20:39:42.759Z"
   },
   {
    "duration": 330,
    "start_time": "2021-11-22T20:39:42.790Z"
   },
   {
    "duration": 14,
    "start_time": "2021-11-22T20:39:43.122Z"
   },
   {
    "duration": 21,
    "start_time": "2021-11-22T20:39:43.138Z"
   },
   {
    "duration": 34,
    "start_time": "2021-11-22T20:39:43.160Z"
   },
   {
    "duration": 18,
    "start_time": "2021-11-22T20:39:43.196Z"
   },
   {
    "duration": 21,
    "start_time": "2021-11-22T20:39:43.216Z"
   },
   {
    "duration": 21,
    "start_time": "2021-11-22T20:39:43.239Z"
   },
   {
    "duration": 316,
    "start_time": "2021-11-22T23:12:46.416Z"
   },
   {
    "duration": 875,
    "start_time": "2021-11-22T23:12:53.078Z"
   },
   {
    "duration": 29,
    "start_time": "2021-11-22T23:12:53.956Z"
   },
   {
    "duration": 15,
    "start_time": "2021-11-22T23:12:54.001Z"
   },
   {
    "duration": 136,
    "start_time": "2021-11-22T23:12:54.020Z"
   },
   {
    "duration": 215,
    "start_time": "2021-11-22T23:12:54.159Z"
   },
   {
    "duration": 226,
    "start_time": "2021-11-22T23:12:54.376Z"
   },
   {
    "duration": 268,
    "start_time": "2021-11-22T23:12:54.604Z"
   },
   {
    "duration": 282,
    "start_time": "2021-11-22T23:12:54.876Z"
   },
   {
    "duration": 7,
    "start_time": "2021-11-22T23:12:55.161Z"
   },
   {
    "duration": 30,
    "start_time": "2021-11-22T23:12:55.170Z"
   },
   {
    "duration": 6,
    "start_time": "2021-11-22T23:12:55.203Z"
   },
   {
    "duration": 22,
    "start_time": "2021-11-22T23:12:55.212Z"
   },
   {
    "duration": 10,
    "start_time": "2021-11-22T23:12:55.237Z"
   },
   {
    "duration": 245,
    "start_time": "2021-11-22T23:12:55.249Z"
   },
   {
    "duration": 8,
    "start_time": "2021-11-22T23:12:55.501Z"
   },
   {
    "duration": 13,
    "start_time": "2021-11-22T23:12:55.512Z"
   },
   {
    "duration": 8,
    "start_time": "2021-11-22T23:12:55.527Z"
   },
   {
    "duration": 10,
    "start_time": "2021-11-22T23:12:55.537Z"
   },
   {
    "duration": 9,
    "start_time": "2021-11-22T23:12:55.549Z"
   },
   {
    "duration": 7,
    "start_time": "2021-11-22T23:12:55.601Z"
   },
   {
    "duration": 16,
    "start_time": "2021-11-22T23:12:55.610Z"
   },
   {
    "duration": 8,
    "start_time": "2021-11-22T23:12:55.628Z"
   },
   {
    "duration": 10,
    "start_time": "2021-11-22T23:12:55.643Z"
   },
   {
    "duration": 70,
    "start_time": "2021-11-22T23:12:55.657Z"
   },
   {
    "duration": 24,
    "start_time": "2021-11-22T23:12:55.729Z"
   },
   {
    "duration": 4,
    "start_time": "2021-11-22T23:12:55.755Z"
   },
   {
    "duration": 11,
    "start_time": "2021-11-22T23:12:55.761Z"
   },
   {
    "duration": 65,
    "start_time": "2021-11-22T23:12:55.801Z"
   },
   {
    "duration": 389,
    "start_time": "2021-11-22T23:12:55.868Z"
   },
   {
    "duration": 8,
    "start_time": "2021-11-22T23:12:56.259Z"
   },
   {
    "duration": 13,
    "start_time": "2021-11-22T23:12:56.269Z"
   },
   {
    "duration": 21,
    "start_time": "2021-11-22T23:12:56.284Z"
   },
   {
    "duration": 5,
    "start_time": "2021-11-22T23:12:56.308Z"
   },
   {
    "duration": 19,
    "start_time": "2021-11-22T23:12:56.315Z"
   },
   {
    "duration": 13,
    "start_time": "2021-11-22T23:12:56.336Z"
   },
   {
    "duration": 60,
    "start_time": "2021-11-22T23:12:56.351Z"
   },
   {
    "duration": 22,
    "start_time": "2021-11-22T23:12:56.414Z"
   },
   {
    "duration": 5,
    "start_time": "2021-11-22T23:12:56.439Z"
   },
   {
    "duration": 9,
    "start_time": "2021-11-22T23:12:56.447Z"
   },
   {
    "duration": 7,
    "start_time": "2021-11-22T23:12:56.501Z"
   },
   {
    "duration": 5,
    "start_time": "2021-11-22T23:12:56.511Z"
   },
   {
    "duration": 1149,
    "start_time": "2021-11-22T23:12:56.519Z"
   },
   {
    "duration": 962,
    "start_time": "2021-11-22T23:12:57.671Z"
   },
   {
    "duration": 7,
    "start_time": "2021-11-22T23:12:58.635Z"
   },
   {
    "duration": 8,
    "start_time": "2021-11-22T23:12:58.700Z"
   },
   {
    "duration": 19,
    "start_time": "2021-11-22T23:12:58.710Z"
   },
   {
    "duration": 74,
    "start_time": "2021-11-22T23:12:58.731Z"
   },
   {
    "duration": 5,
    "start_time": "2021-11-22T23:12:58.807Z"
   },
   {
    "duration": 10,
    "start_time": "2021-11-22T23:12:58.814Z"
   },
   {
    "duration": 75,
    "start_time": "2021-11-22T23:12:58.827Z"
   },
   {
    "duration": 5,
    "start_time": "2021-11-22T23:12:58.905Z"
   },
   {
    "duration": 16,
    "start_time": "2021-11-22T23:12:58.913Z"
   },
   {
    "duration": 78,
    "start_time": "2021-11-22T23:12:58.932Z"
   },
   {
    "duration": 28,
    "start_time": "2021-11-22T23:12:59.012Z"
   },
   {
    "duration": 26,
    "start_time": "2021-11-22T23:12:59.042Z"
   },
   {
    "duration": 29,
    "start_time": "2021-11-22T23:12:59.071Z"
   },
   {
    "duration": 4,
    "start_time": "2021-11-22T23:12:59.103Z"
   },
   {
    "duration": 1349,
    "start_time": "2021-11-22T23:12:59.109Z"
   },
   {
    "duration": 4783,
    "start_time": "2021-11-22T23:13:00.461Z"
   },
   {
    "duration": 9,
    "start_time": "2021-11-22T23:13:05.247Z"
   },
   {
    "duration": 6,
    "start_time": "2021-11-22T23:13:05.258Z"
   },
   {
    "duration": 411,
    "start_time": "2021-11-22T23:13:05.267Z"
   },
   {
    "duration": 6,
    "start_time": "2021-11-22T23:13:05.680Z"
   },
   {
    "duration": 7,
    "start_time": "2021-11-22T23:13:05.700Z"
   },
   {
    "duration": 7,
    "start_time": "2021-11-22T23:13:05.710Z"
   },
   {
    "duration": 18,
    "start_time": "2021-11-22T23:13:05.720Z"
   },
   {
    "duration": 794,
    "start_time": "2021-11-22T23:13:05.740Z"
   },
   {
    "duration": 18,
    "start_time": "2021-11-22T23:13:06.541Z"
   },
   {
    "duration": 7,
    "start_time": "2021-11-22T23:13:06.562Z"
   },
   {
    "duration": 31,
    "start_time": "2021-11-22T23:13:06.571Z"
   },
   {
    "duration": 575,
    "start_time": "2021-11-22T23:13:06.604Z"
   },
   {
    "duration": 24,
    "start_time": "2021-11-22T23:13:07.181Z"
   },
   {
    "duration": 7,
    "start_time": "2021-11-22T23:13:07.207Z"
   },
   {
    "duration": 29,
    "start_time": "2021-11-22T23:13:07.216Z"
   },
   {
    "duration": 18,
    "start_time": "2021-11-22T23:13:07.248Z"
   },
   {
    "duration": 21,
    "start_time": "2021-11-22T23:13:07.301Z"
   },
   {
    "duration": 20,
    "start_time": "2021-11-22T23:13:07.324Z"
   },
   {
    "duration": 8,
    "start_time": "2021-11-22T23:17:29.203Z"
   },
   {
    "duration": 8,
    "start_time": "2021-11-22T23:17:45.888Z"
   },
   {
    "duration": 818,
    "start_time": "2021-11-22T23:17:54.636Z"
   },
   {
    "duration": 29,
    "start_time": "2021-11-22T23:17:55.457Z"
   },
   {
    "duration": 15,
    "start_time": "2021-11-22T23:17:55.500Z"
   },
   {
    "duration": 123,
    "start_time": "2021-11-22T23:17:55.518Z"
   },
   {
    "duration": 221,
    "start_time": "2021-11-22T23:17:55.643Z"
   },
   {
    "duration": 230,
    "start_time": "2021-11-22T23:17:55.866Z"
   },
   {
    "duration": 237,
    "start_time": "2021-11-22T23:17:56.101Z"
   },
   {
    "duration": 280,
    "start_time": "2021-11-22T23:17:56.341Z"
   },
   {
    "duration": 6,
    "start_time": "2021-11-22T23:17:56.624Z"
   },
   {
    "duration": 14,
    "start_time": "2021-11-22T23:17:56.632Z"
   },
   {
    "duration": 7,
    "start_time": "2021-11-22T23:17:56.647Z"
   },
   {
    "duration": 49,
    "start_time": "2021-11-22T23:17:56.656Z"
   },
   {
    "duration": 9,
    "start_time": "2021-11-22T23:17:56.707Z"
   },
   {
    "duration": 225,
    "start_time": "2021-11-22T23:17:56.718Z"
   },
   {
    "duration": 8,
    "start_time": "2021-11-22T23:17:56.945Z"
   },
   {
    "duration": 13,
    "start_time": "2021-11-22T23:17:56.955Z"
   },
   {
    "duration": 34,
    "start_time": "2021-11-22T23:17:56.970Z"
   },
   {
    "duration": 11,
    "start_time": "2021-11-22T23:17:57.006Z"
   },
   {
    "duration": 17,
    "start_time": "2021-11-22T23:17:57.020Z"
   },
   {
    "duration": 8,
    "start_time": "2021-11-22T23:17:57.040Z"
   },
   {
    "duration": 16,
    "start_time": "2021-11-22T23:17:57.050Z"
   },
   {
    "duration": 12,
    "start_time": "2021-11-22T23:17:57.102Z"
   },
   {
    "duration": 10,
    "start_time": "2021-11-22T23:17:57.120Z"
   },
   {
    "duration": 30,
    "start_time": "2021-11-22T23:17:57.134Z"
   },
   {
    "duration": 56,
    "start_time": "2021-11-22T23:17:57.166Z"
   },
   {
    "duration": 10,
    "start_time": "2021-11-22T23:17:57.224Z"
   },
   {
    "duration": 20,
    "start_time": "2021-11-22T23:17:57.236Z"
   },
   {
    "duration": 69,
    "start_time": "2021-11-22T23:17:57.259Z"
   },
   {
    "duration": 361,
    "start_time": "2021-11-22T23:17:57.331Z"
   },
   {
    "duration": 10,
    "start_time": "2021-11-22T23:17:57.694Z"
   },
   {
    "duration": 10,
    "start_time": "2021-11-22T23:17:57.707Z"
   },
   {
    "duration": 11,
    "start_time": "2021-11-22T23:17:57.720Z"
   },
   {
    "duration": 6,
    "start_time": "2021-11-22T23:17:57.733Z"
   },
   {
    "duration": 20,
    "start_time": "2021-11-22T23:17:57.741Z"
   },
   {
    "duration": 43,
    "start_time": "2021-11-22T23:17:57.763Z"
   },
   {
    "duration": 23,
    "start_time": "2021-11-22T23:17:57.809Z"
   },
   {
    "duration": 18,
    "start_time": "2021-11-22T23:17:57.835Z"
   },
   {
    "duration": 5,
    "start_time": "2021-11-22T23:17:57.856Z"
   },
   {
    "duration": 39,
    "start_time": "2021-11-22T23:17:57.863Z"
   },
   {
    "duration": 6,
    "start_time": "2021-11-22T23:17:57.904Z"
   },
   {
    "duration": 10,
    "start_time": "2021-11-22T23:17:57.912Z"
   },
   {
    "duration": 1305,
    "start_time": "2021-11-22T23:17:57.924Z"
   },
   {
    "duration": 894,
    "start_time": "2021-11-22T23:17:59.231Z"
   },
   {
    "duration": 8,
    "start_time": "2021-11-22T23:18:00.127Z"
   },
   {
    "duration": 20,
    "start_time": "2021-11-22T23:18:00.137Z"
   },
   {
    "duration": 42,
    "start_time": "2021-11-22T23:18:00.160Z"
   },
   {
    "duration": 29,
    "start_time": "2021-11-22T23:18:00.205Z"
   },
   {
    "duration": 23,
    "start_time": "2021-11-22T23:18:00.236Z"
   },
   {
    "duration": 23,
    "start_time": "2021-11-22T23:18:00.262Z"
   },
   {
    "duration": 32,
    "start_time": "2021-11-22T23:18:00.287Z"
   },
   {
    "duration": 11,
    "start_time": "2021-11-22T23:18:00.322Z"
   },
   {
    "duration": 36,
    "start_time": "2021-11-22T23:18:00.336Z"
   },
   {
    "duration": 26,
    "start_time": "2021-11-22T23:18:00.375Z"
   },
   {
    "duration": 38,
    "start_time": "2021-11-22T23:18:00.404Z"
   },
   {
    "duration": 26,
    "start_time": "2021-11-22T23:18:00.445Z"
   },
   {
    "duration": 8,
    "start_time": "2021-11-22T23:18:00.474Z"
   },
   {
    "duration": 17,
    "start_time": "2021-11-22T23:18:00.485Z"
   },
   {
    "duration": 1195,
    "start_time": "2021-11-22T23:18:00.504Z"
   },
   {
    "duration": 4826,
    "start_time": "2021-11-22T23:18:01.702Z"
   },
   {
    "duration": 9,
    "start_time": "2021-11-22T23:18:06.530Z"
   },
   {
    "duration": 8,
    "start_time": "2021-11-22T23:18:06.541Z"
   },
   {
    "duration": 402,
    "start_time": "2021-11-22T23:18:06.551Z"
   },
   {
    "duration": 6,
    "start_time": "2021-11-22T23:18:06.955Z"
   },
   {
    "duration": 25,
    "start_time": "2021-11-22T23:18:06.963Z"
   },
   {
    "duration": 13,
    "start_time": "2021-11-22T23:18:06.990Z"
   },
   {
    "duration": 13,
    "start_time": "2021-11-22T23:18:07.006Z"
   },
   {
    "duration": 780,
    "start_time": "2021-11-22T23:18:07.021Z"
   },
   {
    "duration": 16,
    "start_time": "2021-11-22T23:18:07.809Z"
   },
   {
    "duration": 7,
    "start_time": "2021-11-22T23:18:07.828Z"
   },
   {
    "duration": 5,
    "start_time": "2021-11-22T23:18:07.838Z"
   },
   {
    "duration": 614,
    "start_time": "2021-11-22T23:18:07.845Z"
   },
   {
    "duration": 20,
    "start_time": "2021-11-22T23:18:08.461Z"
   },
   {
    "duration": 7,
    "start_time": "2021-11-22T23:18:08.500Z"
   },
   {
    "duration": 29,
    "start_time": "2021-11-22T23:18:08.509Z"
   },
   {
    "duration": 20,
    "start_time": "2021-11-22T23:18:08.540Z"
   },
   {
    "duration": 49,
    "start_time": "2021-11-22T23:18:08.562Z"
   },
   {
    "duration": 19,
    "start_time": "2021-11-22T23:18:08.614Z"
   },
   {
    "duration": 848,
    "start_time": "2021-11-22T23:18:24.194Z"
   },
   {
    "duration": 30,
    "start_time": "2021-11-22T23:18:25.045Z"
   },
   {
    "duration": 29,
    "start_time": "2021-11-22T23:18:25.078Z"
   },
   {
    "duration": 124,
    "start_time": "2021-11-22T23:18:25.111Z"
   },
   {
    "duration": 215,
    "start_time": "2021-11-22T23:18:25.237Z"
   },
   {
    "duration": 223,
    "start_time": "2021-11-22T23:18:25.454Z"
   },
   {
    "duration": 232,
    "start_time": "2021-11-22T23:18:25.680Z"
   },
   {
    "duration": 269,
    "start_time": "2021-11-22T23:18:25.915Z"
   },
   {
    "duration": 15,
    "start_time": "2021-11-22T23:18:26.187Z"
   },
   {
    "duration": 7,
    "start_time": "2021-11-22T23:18:26.204Z"
   },
   {
    "duration": 6,
    "start_time": "2021-11-22T23:18:26.213Z"
   },
   {
    "duration": 23,
    "start_time": "2021-11-22T23:18:26.222Z"
   },
   {
    "duration": 15,
    "start_time": "2021-11-22T23:18:26.247Z"
   },
   {
    "duration": 251,
    "start_time": "2021-11-22T23:18:26.264Z"
   },
   {
    "duration": 8,
    "start_time": "2021-11-22T23:18:26.518Z"
   },
   {
    "duration": 15,
    "start_time": "2021-11-22T23:18:26.528Z"
   },
   {
    "duration": 10,
    "start_time": "2021-11-22T23:18:26.546Z"
   },
   {
    "duration": 48,
    "start_time": "2021-11-22T23:18:26.559Z"
   },
   {
    "duration": 9,
    "start_time": "2021-11-22T23:18:26.610Z"
   },
   {
    "duration": 10,
    "start_time": "2021-11-22T23:18:26.622Z"
   },
   {
    "duration": 16,
    "start_time": "2021-11-22T23:18:26.634Z"
   },
   {
    "duration": 10,
    "start_time": "2021-11-22T23:18:26.653Z"
   },
   {
    "duration": 11,
    "start_time": "2021-11-22T23:18:26.702Z"
   },
   {
    "duration": 32,
    "start_time": "2021-11-22T23:18:26.717Z"
   },
   {
    "duration": 49,
    "start_time": "2021-11-22T23:18:26.751Z"
   },
   {
    "duration": 4,
    "start_time": "2021-11-22T23:18:26.802Z"
   },
   {
    "duration": 10,
    "start_time": "2021-11-22T23:18:26.808Z"
   },
   {
    "duration": 90,
    "start_time": "2021-11-22T23:18:26.820Z"
   },
   {
    "duration": 8,
    "start_time": "2021-11-22T23:18:26.912Z"
   },
   {
    "duration": 404,
    "start_time": "2021-11-22T23:18:26.923Z"
   },
   {
    "duration": 8,
    "start_time": "2021-11-22T23:18:27.329Z"
   },
   {
    "duration": 12,
    "start_time": "2021-11-22T23:18:27.339Z"
   },
   {
    "duration": 13,
    "start_time": "2021-11-22T23:18:27.353Z"
   },
   {
    "duration": 34,
    "start_time": "2021-11-22T23:18:27.368Z"
   },
   {
    "duration": 12,
    "start_time": "2021-11-22T23:18:27.405Z"
   },
   {
    "duration": 27,
    "start_time": "2021-11-22T23:18:27.420Z"
   },
   {
    "duration": 21,
    "start_time": "2021-11-22T23:18:27.449Z"
   },
   {
    "duration": 30,
    "start_time": "2021-11-22T23:18:27.472Z"
   },
   {
    "duration": 10,
    "start_time": "2021-11-22T23:18:27.504Z"
   },
   {
    "duration": 10,
    "start_time": "2021-11-22T23:18:27.516Z"
   },
   {
    "duration": 14,
    "start_time": "2021-11-22T23:18:27.529Z"
   },
   {
    "duration": 1120,
    "start_time": "2021-11-22T23:18:27.546Z"
   },
   {
    "duration": 1063,
    "start_time": "2021-11-22T23:18:28.668Z"
   },
   {
    "duration": 7,
    "start_time": "2021-11-22T23:18:29.734Z"
   },
   {
    "duration": 10,
    "start_time": "2021-11-22T23:18:29.743Z"
   },
   {
    "duration": 19,
    "start_time": "2021-11-22T23:18:29.755Z"
   },
   {
    "duration": 44,
    "start_time": "2021-11-22T23:18:29.776Z"
   },
   {
    "duration": 5,
    "start_time": "2021-11-22T23:18:29.822Z"
   },
   {
    "duration": 12,
    "start_time": "2021-11-22T23:18:29.830Z"
   },
   {
    "duration": 15,
    "start_time": "2021-11-22T23:18:29.845Z"
   },
   {
    "duration": 43,
    "start_time": "2021-11-22T23:18:29.862Z"
   },
   {
    "duration": 17,
    "start_time": "2021-11-22T23:18:29.907Z"
   },
   {
    "duration": 21,
    "start_time": "2021-11-22T23:18:29.927Z"
   },
   {
    "duration": 59,
    "start_time": "2021-11-22T23:18:29.951Z"
   },
   {
    "duration": 25,
    "start_time": "2021-11-22T23:18:30.013Z"
   },
   {
    "duration": 11,
    "start_time": "2021-11-22T23:18:30.040Z"
   },
   {
    "duration": 13,
    "start_time": "2021-11-22T23:18:30.054Z"
   },
   {
    "duration": 992,
    "start_time": "2021-11-22T23:18:30.070Z"
   },
   {
    "duration": 4700,
    "start_time": "2021-11-22T23:18:31.064Z"
   },
   {
    "duration": 9,
    "start_time": "2021-11-22T23:18:35.766Z"
   },
   {
    "duration": 23,
    "start_time": "2021-11-22T23:18:35.777Z"
   },
   {
    "duration": 399,
    "start_time": "2021-11-22T23:18:35.803Z"
   },
   {
    "duration": 6,
    "start_time": "2021-11-22T23:18:36.205Z"
   },
   {
    "duration": 12,
    "start_time": "2021-11-22T23:18:36.214Z"
   },
   {
    "duration": 5,
    "start_time": "2021-11-22T23:18:36.228Z"
   },
   {
    "duration": 7,
    "start_time": "2021-11-22T23:18:36.236Z"
   },
   {
    "duration": 844,
    "start_time": "2021-11-22T23:18:36.246Z"
   },
   {
    "duration": 16,
    "start_time": "2021-11-22T23:18:37.103Z"
   },
   {
    "duration": 9,
    "start_time": "2021-11-22T23:18:37.122Z"
   },
   {
    "duration": 8,
    "start_time": "2021-11-22T23:18:37.133Z"
   },
   {
    "duration": 575,
    "start_time": "2021-11-22T23:18:37.144Z"
   },
   {
    "duration": 21,
    "start_time": "2021-11-22T23:18:37.721Z"
   },
   {
    "duration": 7,
    "start_time": "2021-11-22T23:18:37.744Z"
   },
   {
    "duration": 51,
    "start_time": "2021-11-22T23:18:37.753Z"
   },
   {
    "duration": 18,
    "start_time": "2021-11-22T23:18:37.806Z"
   },
   {
    "duration": 19,
    "start_time": "2021-11-22T23:18:37.827Z"
   },
   {
    "duration": 18,
    "start_time": "2021-11-22T23:18:37.848Z"
   },
   {
    "duration": 18,
    "start_time": "2021-11-22T23:28:29.486Z"
   },
   {
    "duration": 435,
    "start_time": "2021-11-23T07:28:14.416Z"
   },
   {
    "duration": 1218,
    "start_time": "2021-11-23T07:28:19.543Z"
   },
   {
    "duration": 46,
    "start_time": "2021-11-23T07:28:20.765Z"
   },
   {
    "duration": 16,
    "start_time": "2021-11-23T07:28:22.412Z"
   },
   {
    "duration": 352,
    "start_time": "2021-11-23T07:28:23.500Z"
   },
   {
    "duration": 328,
    "start_time": "2021-11-23T07:28:29.909Z"
   },
   {
    "duration": 291,
    "start_time": "2021-11-23T07:28:56.053Z"
   },
   {
    "duration": 557,
    "start_time": "2021-11-23T07:29:29.173Z"
   },
   {
    "duration": 20,
    "start_time": "2021-11-23T07:29:36.166Z"
   },
   {
    "duration": 294,
    "start_time": "2021-11-23T07:29:55.949Z"
   },
   {
    "duration": 348,
    "start_time": "2021-11-23T07:30:01.854Z"
   },
   {
    "duration": 144,
    "start_time": "2021-11-23T07:30:17.277Z"
   },
   {
    "duration": 312,
    "start_time": "2021-11-23T07:30:21.037Z"
   },
   {
    "duration": 51,
    "start_time": "2021-11-23T07:31:17.598Z"
   },
   {
    "duration": 40,
    "start_time": "2021-11-23T07:31:56.909Z"
   },
   {
    "duration": 113,
    "start_time": "2021-11-23T07:32:23.974Z"
   },
   {
    "duration": 124,
    "start_time": "2021-11-23T07:32:26.022Z"
   },
   {
    "duration": 93,
    "start_time": "2021-11-23T07:32:49.584Z"
   },
   {
    "duration": 103,
    "start_time": "2021-11-23T07:32:51.622Z"
   },
   {
    "duration": 105,
    "start_time": "2021-11-23T07:33:18.887Z"
   },
   {
    "duration": 52,
    "start_time": "2021-11-23T07:34:16.134Z"
   },
   {
    "duration": 11,
    "start_time": "2021-11-23T07:35:31.520Z"
   },
   {
    "duration": 11,
    "start_time": "2021-11-23T07:35:46.506Z"
   },
   {
    "duration": 330,
    "start_time": "2021-11-23T07:35:57.031Z"
   },
   {
    "duration": 442,
    "start_time": "2021-11-23T07:36:26.112Z"
   },
   {
    "duration": 9,
    "start_time": "2021-11-23T07:39:18.584Z"
   },
   {
    "duration": 9,
    "start_time": "2021-11-23T07:39:21.081Z"
   },
   {
    "duration": 42,
    "start_time": "2021-11-23T07:40:37.208Z"
   },
   {
    "duration": 78,
    "start_time": "2021-11-23T07:41:40.699Z"
   },
   {
    "duration": 60,
    "start_time": "2021-11-23T07:42:47.442Z"
   },
   {
    "duration": 115,
    "start_time": "2021-11-23T07:43:36.555Z"
   },
   {
    "duration": 111,
    "start_time": "2021-11-23T07:44:43.306Z"
   },
   {
    "duration": 43,
    "start_time": "2021-11-23T07:44:53.874Z"
   },
   {
    "duration": 8,
    "start_time": "2021-11-23T07:48:28.029Z"
   },
   {
    "duration": 7,
    "start_time": "2021-11-23T07:48:31.853Z"
   },
   {
    "duration": 5,
    "start_time": "2021-11-23T07:48:57.237Z"
   },
   {
    "duration": 7,
    "start_time": "2021-11-23T07:48:59.819Z"
   },
   {
    "duration": 7,
    "start_time": "2021-11-23T07:49:01.789Z"
   },
   {
    "duration": 5,
    "start_time": "2021-11-23T07:49:11.588Z"
   },
   {
    "duration": 8,
    "start_time": "2021-11-23T07:49:55.357Z"
   },
   {
    "duration": 6,
    "start_time": "2021-11-23T07:49:56.445Z"
   },
   {
    "duration": 19,
    "start_time": "2021-11-23T07:50:13.892Z"
   },
   {
    "duration": 10,
    "start_time": "2021-11-23T07:50:15.548Z"
   },
   {
    "duration": 18,
    "start_time": "2021-11-23T07:50:29.461Z"
   },
   {
    "duration": 18,
    "start_time": "2021-11-23T07:50:31.444Z"
   },
   {
    "duration": 29,
    "start_time": "2021-11-23T07:50:46.581Z"
   },
   {
    "duration": 27,
    "start_time": "2021-11-23T07:50:47.020Z"
   },
   {
    "duration": 13,
    "start_time": "2021-11-23T07:50:51.605Z"
   },
   {
    "duration": 8,
    "start_time": "2021-11-23T07:50:51.909Z"
   },
   {
    "duration": 6,
    "start_time": "2021-11-23T07:51:12.733Z"
   },
   {
    "duration": 7,
    "start_time": "2021-11-23T07:51:13.789Z"
   },
   {
    "duration": 14,
    "start_time": "2021-11-23T07:51:20.829Z"
   },
   {
    "duration": 30,
    "start_time": "2021-11-23T07:53:28.034Z"
   },
   {
    "duration": 32,
    "start_time": "2021-11-23T07:53:28.645Z"
   },
   {
    "duration": 9,
    "start_time": "2021-11-23T07:53:31.134Z"
   },
   {
    "duration": 7,
    "start_time": "2021-11-23T07:53:33.901Z"
   },
   {
    "duration": 8,
    "start_time": "2021-11-23T07:53:41.019Z"
   },
   {
    "duration": 13,
    "start_time": "2021-11-23T07:53:41.030Z"
   },
   {
    "duration": 4,
    "start_time": "2021-11-23T07:53:42.894Z"
   },
   {
    "duration": 6,
    "start_time": "2021-11-23T07:53:43.485Z"
   },
   {
    "duration": 12,
    "start_time": "2021-11-23T07:53:46.723Z"
   },
   {
    "duration": 128,
    "start_time": "2021-11-23T07:54:19.826Z"
   },
   {
    "duration": 7,
    "start_time": "2021-11-23T07:54:23.415Z"
   },
   {
    "duration": 95,
    "start_time": "2021-11-23T07:54:38.566Z"
   },
   {
    "duration": 11,
    "start_time": "2021-11-23T07:55:25.590Z"
   },
   {
    "duration": 9,
    "start_time": "2021-11-23T07:55:26.350Z"
   },
   {
    "duration": 8,
    "start_time": "2021-11-23T07:55:31.205Z"
   },
   {
    "duration": 9,
    "start_time": "2021-11-23T07:55:31.909Z"
   },
   {
    "duration": 108,
    "start_time": "2021-11-23T07:56:17.974Z"
   },
   {
    "duration": 13,
    "start_time": "2021-11-23T07:56:19.823Z"
   },
   {
    "duration": 64,
    "start_time": "2021-11-23T08:00:22.759Z"
   },
   {
    "duration": 20,
    "start_time": "2021-11-23T08:00:23.104Z"
   },
   {
    "duration": 17,
    "start_time": "2021-11-23T08:00:23.486Z"
   },
   {
    "duration": 121,
    "start_time": "2021-11-23T08:00:24.655Z"
   },
   {
    "duration": 213,
    "start_time": "2021-11-23T08:00:25.256Z"
   },
   {
    "duration": 40,
    "start_time": "2021-11-23T08:00:25.664Z"
   },
   {
    "duration": 232,
    "start_time": "2021-11-23T08:00:26.455Z"
   },
   {
    "duration": 228,
    "start_time": "2021-11-23T08:00:27.119Z"
   },
   {
    "duration": 40,
    "start_time": "2021-11-23T08:00:27.471Z"
   },
   {
    "duration": 271,
    "start_time": "2021-11-23T08:00:28.098Z"
   },
   {
    "duration": 44,
    "start_time": "2021-11-23T08:00:28.372Z"
   },
   {
    "duration": 8,
    "start_time": "2021-11-23T08:00:28.438Z"
   },
   {
    "duration": 7,
    "start_time": "2021-11-23T08:00:28.598Z"
   },
   {
    "duration": 7,
    "start_time": "2021-11-23T08:00:29.009Z"
   },
   {
    "duration": 22,
    "start_time": "2021-11-23T08:00:29.019Z"
   },
   {
    "duration": 7,
    "start_time": "2021-11-23T08:00:29.044Z"
   },
   {
    "duration": 195,
    "start_time": "2021-11-23T08:00:29.219Z"
   },
   {
    "duration": 42,
    "start_time": "2021-11-23T08:00:29.520Z"
   },
   {
    "duration": 8,
    "start_time": "2021-11-23T08:00:31.361Z"
   },
   {
    "duration": 14,
    "start_time": "2021-11-23T08:00:34.151Z"
   },
   {
    "duration": 10,
    "start_time": "2021-11-23T08:00:34.975Z"
   },
   {
    "duration": 15,
    "start_time": "2021-11-23T08:00:35.376Z"
   },
   {
    "duration": 11,
    "start_time": "2021-11-23T08:00:35.823Z"
   },
   {
    "duration": 7,
    "start_time": "2021-11-23T08:00:36.943Z"
   },
   {
    "duration": 17,
    "start_time": "2021-11-23T08:00:37.342Z"
   },
   {
    "duration": 9,
    "start_time": "2021-11-23T08:00:38.007Z"
   },
   {
    "duration": 11,
    "start_time": "2021-11-23T08:00:38.927Z"
   },
   {
    "duration": 30,
    "start_time": "2021-11-23T08:00:41.279Z"
   },
   {
    "duration": 24,
    "start_time": "2021-11-23T08:00:41.744Z"
   },
   {
    "duration": 9,
    "start_time": "2021-11-23T08:00:44.438Z"
   },
   {
    "duration": 7,
    "start_time": "2021-11-23T08:00:44.632Z"
   },
   {
    "duration": 5,
    "start_time": "2021-11-23T08:00:46.864Z"
   },
   {
    "duration": 6,
    "start_time": "2021-11-23T08:00:47.599Z"
   },
   {
    "duration": 36,
    "start_time": "2021-11-23T08:01:03.048Z"
   },
   {
    "duration": 10,
    "start_time": "2021-11-23T08:01:11.496Z"
   },
   {
    "duration": 2153,
    "start_time": "2021-11-23T08:01:26.680Z"
   },
   {
    "duration": 9,
    "start_time": "2021-11-23T08:01:35.282Z"
   },
   {
    "duration": 6,
    "start_time": "2021-11-23T08:03:14.913Z"
   },
   {
    "duration": 511,
    "start_time": "2021-11-23T08:04:13.106Z"
   },
   {
    "duration": 13,
    "start_time": "2021-11-23T08:04:50.946Z"
   },
   {
    "duration": 5483,
    "start_time": "2021-11-23T08:08:33.922Z"
   },
   {
    "duration": 6,
    "start_time": "2021-11-23T08:08:49.003Z"
   },
   {
    "duration": 5,
    "start_time": "2021-11-23T08:09:02.770Z"
   },
   {
    "duration": 376,
    "start_time": "2021-11-23T08:09:12.651Z"
   },
   {
    "duration": 262,
    "start_time": "2021-11-23T08:10:19.876Z"
   },
   {
    "duration": 261,
    "start_time": "2021-11-23T08:11:13.040Z"
   },
   {
    "duration": 63,
    "start_time": "2021-11-23T08:12:45.593Z"
   },
   {
    "duration": 19,
    "start_time": "2021-11-23T08:12:45.659Z"
   },
   {
    "duration": 16,
    "start_time": "2021-11-23T08:12:45.681Z"
   },
   {
    "duration": 3,
    "start_time": "2021-11-23T08:12:45.700Z"
   },
   {
    "duration": 253,
    "start_time": "2021-11-23T08:12:45.706Z"
   },
   {
    "duration": 46,
    "start_time": "2021-11-23T08:12:45.961Z"
   },
   {
    "duration": 249,
    "start_time": "2021-11-23T08:12:46.009Z"
   },
   {
    "duration": 244,
    "start_time": "2021-11-23T08:12:46.268Z"
   },
   {
    "duration": 55,
    "start_time": "2021-11-23T08:12:46.515Z"
   },
   {
    "duration": 239,
    "start_time": "2021-11-23T08:12:46.573Z"
   },
   {
    "duration": 54,
    "start_time": "2021-11-23T08:12:46.815Z"
   },
   {
    "duration": 7,
    "start_time": "2021-11-23T08:12:46.872Z"
   },
   {
    "duration": 7,
    "start_time": "2021-11-23T08:12:46.881Z"
   },
   {
    "duration": 12,
    "start_time": "2021-11-23T08:12:46.891Z"
   },
   {
    "duration": 23,
    "start_time": "2021-11-23T08:12:46.906Z"
   },
   {
    "duration": 44,
    "start_time": "2021-11-23T08:12:46.931Z"
   },
   {
    "duration": 358,
    "start_time": "2021-11-23T08:12:46.978Z"
   },
   {
    "duration": 70,
    "start_time": "2021-11-23T08:12:47.339Z"
   },
   {
    "duration": 9,
    "start_time": "2021-11-23T08:12:47.412Z"
   },
   {
    "duration": 18,
    "start_time": "2021-11-23T08:12:47.424Z"
   },
   {
    "duration": 12,
    "start_time": "2021-11-23T08:12:47.468Z"
   },
   {
    "duration": 14,
    "start_time": "2021-11-23T08:12:47.483Z"
   },
   {
    "duration": 10,
    "start_time": "2021-11-23T08:12:47.501Z"
   },
   {
    "duration": 9,
    "start_time": "2021-11-23T08:12:47.514Z"
   },
   {
    "duration": 18,
    "start_time": "2021-11-23T08:12:47.568Z"
   },
   {
    "duration": 19,
    "start_time": "2021-11-23T08:12:47.588Z"
   },
   {
    "duration": 10,
    "start_time": "2021-11-23T08:12:47.609Z"
   },
   {
    "duration": 63,
    "start_time": "2021-11-23T08:12:47.622Z"
   },
   {
    "duration": 25,
    "start_time": "2021-11-23T08:12:47.687Z"
   },
   {
    "duration": 9,
    "start_time": "2021-11-23T08:12:48.938Z"
   },
   {
    "duration": 6,
    "start_time": "2021-11-23T08:12:49.188Z"
   },
   {
    "duration": 4,
    "start_time": "2021-11-23T08:12:49.883Z"
   },
   {
    "duration": 4,
    "start_time": "2021-11-23T08:12:51.973Z"
   },
   {
    "duration": 6,
    "start_time": "2021-11-23T08:12:52.514Z"
   },
   {
    "duration": 371,
    "start_time": "2021-11-23T08:12:54.547Z"
   },
   {
    "duration": 9,
    "start_time": "2021-11-23T08:12:57.049Z"
   },
   {
    "duration": 4,
    "start_time": "2021-11-23T08:13:01.732Z"
   },
   {
    "duration": 18,
    "start_time": "2021-11-23T08:13:15.618Z"
   },
   {
    "duration": 13,
    "start_time": "2021-11-23T08:13:16.363Z"
   },
   {
    "duration": 27,
    "start_time": "2021-11-23T08:13:29.418Z"
   },
   {
    "duration": 21,
    "start_time": "2021-11-23T08:13:30.010Z"
   },
   {
    "duration": 5,
    "start_time": "2021-11-23T08:13:32.834Z"
   },
   {
    "duration": 9,
    "start_time": "2021-11-23T08:13:33.514Z"
   },
   {
    "duration": 6,
    "start_time": "2021-11-23T08:13:36.979Z"
   },
   {
    "duration": 8,
    "start_time": "2021-11-23T08:14:35.700Z"
   },
   {
    "duration": 36,
    "start_time": "2021-11-23T08:14:39.940Z"
   },
   {
    "duration": 299,
    "start_time": "2021-11-23T08:15:20.468Z"
   },
   {
    "duration": 282,
    "start_time": "2021-11-23T08:15:38.461Z"
   },
   {
    "duration": 311,
    "start_time": "2021-11-23T08:15:46.585Z"
   },
   {
    "duration": 5,
    "start_time": "2021-11-23T08:17:36.108Z"
   },
   {
    "duration": 377,
    "start_time": "2021-11-23T08:17:44.510Z"
   },
   {
    "duration": 260,
    "start_time": "2021-11-23T08:17:48.677Z"
   },
   {
    "duration": 161,
    "start_time": "2021-11-23T08:17:55.701Z"
   },
   {
    "duration": 291,
    "start_time": "2021-11-23T08:18:00.021Z"
   },
   {
    "duration": 36,
    "start_time": "2021-11-23T08:18:17.143Z"
   },
   {
    "duration": 268,
    "start_time": "2021-11-23T08:18:32.597Z"
   },
   {
    "duration": 40,
    "start_time": "2021-11-23T08:19:32.480Z"
   },
   {
    "duration": 10,
    "start_time": "2021-11-23T08:19:37.597Z"
   },
   {
    "duration": 11747,
    "start_time": "2021-11-23T08:20:58.927Z"
   },
   {
    "duration": 11,
    "start_time": "2021-11-23T08:21:34.878Z"
   },
   {
    "duration": 9,
    "start_time": "2021-11-23T08:21:42.606Z"
   },
   {
    "duration": 67,
    "start_time": "2021-11-23T08:21:56.157Z"
   },
   {
    "duration": 43,
    "start_time": "2021-11-23T08:21:56.226Z"
   },
   {
    "duration": 17,
    "start_time": "2021-11-23T08:21:56.272Z"
   },
   {
    "duration": 4,
    "start_time": "2021-11-23T08:21:56.292Z"
   },
   {
    "duration": 274,
    "start_time": "2021-11-23T08:21:56.298Z"
   },
   {
    "duration": 42,
    "start_time": "2021-11-23T08:21:56.574Z"
   },
   {
    "duration": 250,
    "start_time": "2021-11-23T08:21:56.618Z"
   },
   {
    "duration": 246,
    "start_time": "2021-11-23T08:21:56.873Z"
   },
   {
    "duration": 61,
    "start_time": "2021-11-23T08:21:57.123Z"
   },
   {
    "duration": 241,
    "start_time": "2021-11-23T08:21:57.187Z"
   },
   {
    "duration": 62,
    "start_time": "2021-11-23T08:21:57.431Z"
   },
   {
    "duration": 9,
    "start_time": "2021-11-23T08:21:57.496Z"
   },
   {
    "duration": 7,
    "start_time": "2021-11-23T08:21:57.508Z"
   },
   {
    "duration": 7,
    "start_time": "2021-11-23T08:21:57.518Z"
   },
   {
    "duration": 55,
    "start_time": "2021-11-23T08:21:57.528Z"
   },
   {
    "duration": 13,
    "start_time": "2021-11-23T08:21:57.586Z"
   },
   {
    "duration": 395,
    "start_time": "2021-11-23T08:21:57.601Z"
   },
   {
    "duration": 80,
    "start_time": "2021-11-23T08:21:57.999Z"
   },
   {
    "duration": 11,
    "start_time": "2021-11-23T08:21:58.082Z"
   },
   {
    "duration": 21,
    "start_time": "2021-11-23T08:21:58.096Z"
   },
   {
    "duration": 50,
    "start_time": "2021-11-23T08:21:58.121Z"
   },
   {
    "duration": 19,
    "start_time": "2021-11-23T08:21:58.174Z"
   },
   {
    "duration": 14,
    "start_time": "2021-11-23T08:21:58.203Z"
   },
   {
    "duration": 10,
    "start_time": "2021-11-23T08:21:58.221Z"
   },
   {
    "duration": 25,
    "start_time": "2021-11-23T08:21:58.269Z"
   },
   {
    "duration": 19,
    "start_time": "2021-11-23T08:21:58.298Z"
   },
   {
    "duration": 12,
    "start_time": "2021-11-23T08:21:58.320Z"
   },
   {
    "duration": 76,
    "start_time": "2021-11-23T08:21:58.335Z"
   },
   {
    "duration": 57,
    "start_time": "2021-11-23T08:21:58.414Z"
   },
   {
    "duration": 9,
    "start_time": "2021-11-23T08:21:58.473Z"
   },
   {
    "duration": 7,
    "start_time": "2021-11-23T08:21:58.485Z"
   },
   {
    "duration": 6,
    "start_time": "2021-11-23T08:21:58.494Z"
   },
   {
    "duration": 11,
    "start_time": "2021-11-23T08:21:58.502Z"
   },
   {
    "duration": 424,
    "start_time": "2021-11-23T08:21:58.516Z"
   },
   {
    "duration": 9,
    "start_time": "2021-11-23T08:21:58.943Z"
   },
   {
    "duration": 4,
    "start_time": "2021-11-23T08:21:58.967Z"
   },
   {
    "duration": 29,
    "start_time": "2021-11-23T08:21:58.973Z"
   },
   {
    "duration": 16,
    "start_time": "2021-11-23T08:21:59.004Z"
   },
   {
    "duration": 47,
    "start_time": "2021-11-23T08:21:59.023Z"
   },
   {
    "duration": 20,
    "start_time": "2021-11-23T08:21:59.072Z"
   },
   {
    "duration": 5,
    "start_time": "2021-11-23T08:21:59.095Z"
   },
   {
    "duration": 11,
    "start_time": "2021-11-23T08:21:59.103Z"
   },
   {
    "duration": 6,
    "start_time": "2021-11-23T08:22:00.999Z"
   },
   {
    "duration": 11633,
    "start_time": "2021-11-23T08:22:06.975Z"
   },
   {
    "duration": 18,
    "start_time": "2021-11-23T08:22:20.504Z"
   },
   {
    "duration": 38,
    "start_time": "2021-11-23T08:22:30.498Z"
   },
   {
    "duration": 89,
    "start_time": "2021-11-23T08:23:15.740Z"
   },
   {
    "duration": 49,
    "start_time": "2021-11-23T08:23:15.832Z"
   },
   {
    "duration": 28,
    "start_time": "2021-11-23T08:23:15.885Z"
   },
   {
    "duration": 3,
    "start_time": "2021-11-23T08:23:15.916Z"
   },
   {
    "duration": 264,
    "start_time": "2021-11-23T08:23:15.922Z"
   },
   {
    "duration": 40,
    "start_time": "2021-11-23T08:23:16.189Z"
   },
   {
    "duration": 254,
    "start_time": "2021-11-23T08:23:16.231Z"
   },
   {
    "duration": 240,
    "start_time": "2021-11-23T08:23:16.491Z"
   },
   {
    "duration": 74,
    "start_time": "2021-11-23T08:23:16.734Z"
   },
   {
    "duration": 258,
    "start_time": "2021-11-23T08:23:16.812Z"
   },
   {
    "duration": 42,
    "start_time": "2021-11-23T08:23:17.073Z"
   },
   {
    "duration": 7,
    "start_time": "2021-11-23T08:23:17.118Z"
   },
   {
    "duration": 41,
    "start_time": "2021-11-23T08:23:17.127Z"
   },
   {
    "duration": 7,
    "start_time": "2021-11-23T08:23:17.171Z"
   },
   {
    "duration": 25,
    "start_time": "2021-11-23T08:23:17.180Z"
   },
   {
    "duration": 10,
    "start_time": "2021-11-23T08:23:17.207Z"
   },
   {
    "duration": 244,
    "start_time": "2021-11-23T08:23:17.219Z"
   },
   {
    "duration": 42,
    "start_time": "2021-11-23T08:23:17.467Z"
   },
   {
    "duration": 10,
    "start_time": "2021-11-23T08:23:17.512Z"
   },
   {
    "duration": 52,
    "start_time": "2021-11-23T08:23:17.525Z"
   },
   {
    "duration": 10,
    "start_time": "2021-11-23T08:23:17.580Z"
   },
   {
    "duration": 12,
    "start_time": "2021-11-23T08:23:17.592Z"
   },
   {
    "duration": 9,
    "start_time": "2021-11-23T08:23:17.609Z"
   },
   {
    "duration": 48,
    "start_time": "2021-11-23T08:23:17.621Z"
   },
   {
    "duration": 25,
    "start_time": "2021-11-23T08:23:17.672Z"
   },
   {
    "duration": 14,
    "start_time": "2021-11-23T08:23:17.700Z"
   },
   {
    "duration": 11,
    "start_time": "2021-11-23T08:23:17.717Z"
   },
   {
    "duration": 62,
    "start_time": "2021-11-23T08:23:17.731Z"
   },
   {
    "duration": 25,
    "start_time": "2021-11-23T08:23:17.795Z"
   },
   {
    "duration": 10,
    "start_time": "2021-11-23T08:23:17.823Z"
   },
   {
    "duration": 34,
    "start_time": "2021-11-23T08:23:17.835Z"
   },
   {
    "duration": 4,
    "start_time": "2021-11-23T08:23:17.871Z"
   },
   {
    "duration": 8,
    "start_time": "2021-11-23T08:23:17.881Z"
   },
   {
    "duration": 381,
    "start_time": "2021-11-23T08:23:17.891Z"
   },
   {
    "duration": 9,
    "start_time": "2021-11-23T08:23:18.274Z"
   },
   {
    "duration": 7,
    "start_time": "2021-11-23T08:23:18.286Z"
   },
   {
    "duration": 27,
    "start_time": "2021-11-23T08:23:18.295Z"
   },
   {
    "duration": 23,
    "start_time": "2021-11-23T08:23:18.324Z"
   },
   {
    "duration": 25,
    "start_time": "2021-11-23T08:23:18.367Z"
   },
   {
    "duration": 26,
    "start_time": "2021-11-23T08:23:18.396Z"
   },
   {
    "duration": 6,
    "start_time": "2021-11-23T08:23:18.425Z"
   },
   {
    "duration": 45,
    "start_time": "2021-11-23T08:23:18.434Z"
   },
   {
    "duration": 6,
    "start_time": "2021-11-23T08:23:19.927Z"
   },
   {
    "duration": 11839,
    "start_time": "2021-11-23T08:23:20.639Z"
   },
   {
    "duration": 7,
    "start_time": "2021-11-23T08:23:47.263Z"
   },
   {
    "duration": 20,
    "start_time": "2021-11-23T08:23:49.342Z"
   },
   {
    "duration": 22,
    "start_time": "2021-11-23T08:23:52.294Z"
   },
   {
    "duration": 5,
    "start_time": "2021-11-23T08:23:53.645Z"
   },
   {
    "duration": 6,
    "start_time": "2021-11-23T08:23:57.813Z"
   },
   {
    "duration": 15,
    "start_time": "2021-11-23T08:27:30.889Z"
   },
   {
    "duration": 6,
    "start_time": "2021-11-23T08:27:33.774Z"
   },
   {
    "duration": 18,
    "start_time": "2021-11-23T08:27:36.287Z"
   },
   {
    "duration": 25,
    "start_time": "2021-11-23T08:27:41.831Z"
   },
   {
    "duration": 29,
    "start_time": "2021-11-23T08:27:43.079Z"
   },
   {
    "duration": 27,
    "start_time": "2021-11-23T08:27:43.815Z"
   },
   {
    "duration": 8,
    "start_time": "2021-11-23T08:27:50.768Z"
   },
   {
    "duration": 4,
    "start_time": "2021-11-23T08:27:51.207Z"
   },
   {
    "duration": 1326,
    "start_time": "2021-11-23T08:27:52.414Z"
   },
   {
    "duration": 5191,
    "start_time": "2021-11-23T08:27:55.095Z"
   },
   {
    "duration": 9,
    "start_time": "2021-11-23T08:28:00.289Z"
   },
   {
    "duration": 4,
    "start_time": "2021-11-23T08:28:05.911Z"
   },
   {
    "duration": 403,
    "start_time": "2021-11-23T08:28:06.583Z"
   },
   {
    "duration": 8,
    "start_time": "2021-11-23T08:28:07.095Z"
   },
   {
    "duration": 8,
    "start_time": "2021-11-23T08:28:08.454Z"
   },
   {
    "duration": 4,
    "start_time": "2021-11-23T08:28:11.519Z"
   },
   {
    "duration": 3,
    "start_time": "2021-11-23T08:28:17.520Z"
   },
   {
    "duration": 649,
    "start_time": "2021-11-23T08:30:00.233Z"
   },
   {
    "duration": 3,
    "start_time": "2021-11-23T08:30:07.377Z"
   },
   {
    "duration": 4,
    "start_time": "2021-11-23T08:30:07.832Z"
   },
   {
    "duration": 803,
    "start_time": "2021-11-23T08:30:09.291Z"
   },
   {
    "duration": 17,
    "start_time": "2021-11-23T08:30:11.473Z"
   },
   {
    "duration": 9,
    "start_time": "2021-11-23T08:30:14.264Z"
   },
   {
    "duration": 6,
    "start_time": "2021-11-23T08:30:14.736Z"
   },
   {
    "duration": 568,
    "start_time": "2021-11-23T08:30:15.311Z"
   },
   {
    "duration": 25,
    "start_time": "2021-11-23T08:30:15.882Z"
   },
   {
    "duration": 9,
    "start_time": "2021-11-23T08:30:16.384Z"
   },
   {
    "duration": 28,
    "start_time": "2021-11-23T08:30:20.680Z"
   },
   {
    "duration": 22,
    "start_time": "2021-11-23T08:30:27.944Z"
   },
   {
    "duration": 20,
    "start_time": "2021-11-23T08:30:35.304Z"
   },
   {
    "duration": 20,
    "start_time": "2021-11-23T08:30:38.304Z"
   },
   {
    "duration": 127,
    "start_time": "2021-11-23T22:40:45.502Z"
   },
   {
    "duration": 472,
    "start_time": "2021-11-23T22:41:01.879Z"
   },
   {
    "duration": 675,
    "start_time": "2021-11-23T22:41:34.232Z"
   },
   {
    "duration": 18,
    "start_time": "2021-11-23T22:41:34.909Z"
   },
   {
    "duration": 10,
    "start_time": "2021-11-23T22:41:34.929Z"
   },
   {
    "duration": 81,
    "start_time": "2021-11-23T22:41:34.941Z"
   },
   {
    "duration": 130,
    "start_time": "2021-11-23T22:41:35.024Z"
   },
   {
    "duration": 31,
    "start_time": "2021-11-23T22:41:35.156Z"
   },
   {
    "duration": 136,
    "start_time": "2021-11-23T22:41:35.189Z"
   },
   {
    "duration": 138,
    "start_time": "2021-11-23T22:41:35.327Z"
   },
   {
    "duration": 26,
    "start_time": "2021-11-23T22:41:35.468Z"
   },
   {
    "duration": 182,
    "start_time": "2021-11-23T22:41:35.497Z"
   },
   {
    "duration": 27,
    "start_time": "2021-11-23T22:41:35.681Z"
   },
   {
    "duration": 5,
    "start_time": "2021-11-23T22:41:35.710Z"
   },
   {
    "duration": 12,
    "start_time": "2021-11-23T22:41:35.717Z"
   },
   {
    "duration": 6,
    "start_time": "2021-11-23T22:41:35.730Z"
   },
   {
    "duration": 37,
    "start_time": "2021-11-23T22:41:35.737Z"
   },
   {
    "duration": 6,
    "start_time": "2021-11-23T22:41:35.776Z"
   },
   {
    "duration": 142,
    "start_time": "2021-11-23T22:41:35.783Z"
   },
   {
    "duration": 26,
    "start_time": "2021-11-23T22:41:35.927Z"
   },
   {
    "duration": 5,
    "start_time": "2021-11-23T22:41:35.963Z"
   },
   {
    "duration": 11,
    "start_time": "2021-11-23T22:41:35.970Z"
   },
   {
    "duration": 5,
    "start_time": "2021-11-23T22:41:35.983Z"
   },
   {
    "duration": 9,
    "start_time": "2021-11-23T22:41:35.990Z"
   },
   {
    "duration": 6,
    "start_time": "2021-11-23T22:41:36.001Z"
   },
   {
    "duration": 9,
    "start_time": "2021-11-23T22:41:36.008Z"
   },
   {
    "duration": 12,
    "start_time": "2021-11-23T22:41:36.019Z"
   },
   {
    "duration": 33,
    "start_time": "2021-11-23T22:41:36.033Z"
   },
   {
    "duration": 7,
    "start_time": "2021-11-23T22:41:36.071Z"
   },
   {
    "duration": 21,
    "start_time": "2021-11-23T22:41:36.081Z"
   },
   {
    "duration": 295,
    "start_time": "2021-11-23T22:41:36.104Z"
   },
   {
    "duration": 3657,
    "start_time": "2021-11-23T22:41:32.744Z"
   },
   {
    "duration": 3651,
    "start_time": "2021-11-23T22:41:32.751Z"
   },
   {
    "duration": 3630,
    "start_time": "2021-11-23T22:41:32.773Z"
   },
   {
    "duration": 3624,
    "start_time": "2021-11-23T22:41:32.780Z"
   },
   {
    "duration": 3618,
    "start_time": "2021-11-23T22:41:32.787Z"
   },
   {
    "duration": 3612,
    "start_time": "2021-11-23T22:41:32.794Z"
   },
   {
    "duration": 3608,
    "start_time": "2021-11-23T22:41:32.800Z"
   },
   {
    "duration": 3603,
    "start_time": "2021-11-23T22:41:32.806Z"
   },
   {
    "duration": 3595,
    "start_time": "2021-11-23T22:41:32.814Z"
   },
   {
    "duration": 3590,
    "start_time": "2021-11-23T22:41:32.821Z"
   },
   {
    "duration": 3585,
    "start_time": "2021-11-23T22:41:32.827Z"
   },
   {
    "duration": 3580,
    "start_time": "2021-11-23T22:41:32.833Z"
   },
   {
    "duration": 3574,
    "start_time": "2021-11-23T22:41:32.840Z"
   },
   {
    "duration": 3569,
    "start_time": "2021-11-23T22:41:32.846Z"
   },
   {
    "duration": 3562,
    "start_time": "2021-11-23T22:41:32.854Z"
   },
   {
    "duration": 3557,
    "start_time": "2021-11-23T22:41:32.860Z"
   },
   {
    "duration": 3552,
    "start_time": "2021-11-23T22:41:32.866Z"
   },
   {
    "duration": 3539,
    "start_time": "2021-11-23T22:41:32.880Z"
   },
   {
    "duration": 3532,
    "start_time": "2021-11-23T22:41:32.888Z"
   },
   {
    "duration": 3527,
    "start_time": "2021-11-23T22:41:32.894Z"
   },
   {
    "duration": 3522,
    "start_time": "2021-11-23T22:41:32.901Z"
   },
   {
    "duration": 3517,
    "start_time": "2021-11-23T22:41:32.907Z"
   },
   {
    "duration": 3511,
    "start_time": "2021-11-23T22:41:32.914Z"
   },
   {
    "duration": 3506,
    "start_time": "2021-11-23T22:41:32.920Z"
   },
   {
    "duration": 3499,
    "start_time": "2021-11-23T22:41:32.928Z"
   },
   {
    "duration": 3494,
    "start_time": "2021-11-23T22:41:32.934Z"
   },
   {
    "duration": 3490,
    "start_time": "2021-11-23T22:41:32.940Z"
   },
   {
    "duration": 3485,
    "start_time": "2021-11-23T22:41:32.946Z"
   },
   {
    "duration": 3479,
    "start_time": "2021-11-23T22:41:32.953Z"
   },
   {
    "duration": 3469,
    "start_time": "2021-11-23T22:41:32.964Z"
   },
   {
    "duration": 3464,
    "start_time": "2021-11-23T22:41:32.970Z"
   },
   {
    "duration": 3459,
    "start_time": "2021-11-23T22:41:32.976Z"
   },
   {
    "duration": 3447,
    "start_time": "2021-11-23T22:41:32.989Z"
   },
   {
    "duration": 3442,
    "start_time": "2021-11-23T22:41:32.995Z"
   },
   {
    "duration": 3436,
    "start_time": "2021-11-23T22:41:33.002Z"
   },
   {
    "duration": 3428,
    "start_time": "2021-11-23T22:41:33.011Z"
   },
   {
    "duration": 3421,
    "start_time": "2021-11-23T22:41:33.018Z"
   },
   {
    "duration": 3416,
    "start_time": "2021-11-23T22:41:33.024Z"
   },
   {
    "duration": 3411,
    "start_time": "2021-11-23T22:41:33.030Z"
   },
   {
    "duration": 3403,
    "start_time": "2021-11-23T22:41:33.039Z"
   },
   {
    "duration": 3416,
    "start_time": "2021-11-23T22:41:33.047Z"
   },
   {
    "duration": 3412,
    "start_time": "2021-11-23T22:41:33.052Z"
   },
   {
    "duration": 3405,
    "start_time": "2021-11-23T22:41:33.060Z"
   },
   {
    "duration": 3400,
    "start_time": "2021-11-23T22:41:33.066Z"
   },
   {
    "duration": 3393,
    "start_time": "2021-11-23T22:41:33.074Z"
   },
   {
    "duration": 3388,
    "start_time": "2021-11-23T22:41:33.080Z"
   },
   {
    "duration": 3382,
    "start_time": "2021-11-23T22:41:33.087Z"
   },
   {
    "duration": 3369,
    "start_time": "2021-11-23T22:41:33.101Z"
   },
   {
    "duration": 3361,
    "start_time": "2021-11-23T22:41:33.109Z"
   },
   {
    "duration": 14219,
    "start_time": "2021-11-23T22:42:14.779Z"
   },
   {
    "duration": 15,
    "start_time": "2021-11-23T22:42:32.019Z"
   },
   {
    "duration": 7,
    "start_time": "2021-11-23T22:42:51.143Z"
   },
   {
    "duration": 646,
    "start_time": "2021-11-23T22:44:18.175Z"
   },
   {
    "duration": 19,
    "start_time": "2021-11-23T22:44:18.823Z"
   },
   {
    "duration": 17,
    "start_time": "2021-11-23T22:44:18.844Z"
   },
   {
    "duration": 73,
    "start_time": "2021-11-23T22:44:18.863Z"
   },
   {
    "duration": 128,
    "start_time": "2021-11-23T22:44:18.937Z"
   },
   {
    "duration": 26,
    "start_time": "2021-11-23T22:44:19.067Z"
   },
   {
    "duration": 137,
    "start_time": "2021-11-23T22:44:19.095Z"
   },
   {
    "duration": 136,
    "start_time": "2021-11-23T22:44:19.234Z"
   },
   {
    "duration": 24,
    "start_time": "2021-11-23T22:44:19.372Z"
   },
   {
    "duration": 190,
    "start_time": "2021-11-23T22:44:19.398Z"
   },
   {
    "duration": 26,
    "start_time": "2021-11-23T22:44:19.589Z"
   },
   {
    "duration": 5,
    "start_time": "2021-11-23T22:44:19.616Z"
   },
   {
    "duration": 6,
    "start_time": "2021-11-23T22:44:19.622Z"
   },
   {
    "duration": 6,
    "start_time": "2021-11-23T22:44:19.629Z"
   },
   {
    "duration": 37,
    "start_time": "2021-11-23T22:44:19.637Z"
   },
   {
    "duration": 7,
    "start_time": "2021-11-23T22:44:19.675Z"
   },
   {
    "duration": 132,
    "start_time": "2021-11-23T22:44:19.683Z"
   },
   {
    "duration": 25,
    "start_time": "2021-11-23T22:44:19.817Z"
   },
   {
    "duration": 20,
    "start_time": "2021-11-23T22:44:19.843Z"
   },
   {
    "duration": 9,
    "start_time": "2021-11-23T22:44:19.865Z"
   },
   {
    "duration": 7,
    "start_time": "2021-11-23T22:44:19.875Z"
   },
   {
    "duration": 7,
    "start_time": "2021-11-23T22:44:19.883Z"
   },
   {
    "duration": 7,
    "start_time": "2021-11-23T22:44:19.893Z"
   },
   {
    "duration": 9,
    "start_time": "2021-11-23T22:44:19.902Z"
   },
   {
    "duration": 11,
    "start_time": "2021-11-23T22:44:19.912Z"
   },
   {
    "duration": 38,
    "start_time": "2021-11-23T22:44:19.925Z"
   },
   {
    "duration": 8,
    "start_time": "2021-11-23T22:44:19.965Z"
   },
   {
    "duration": 23,
    "start_time": "2021-11-23T22:44:19.974Z"
   },
   {
    "duration": 14,
    "start_time": "2021-11-23T22:44:19.998Z"
   },
   {
    "duration": 10,
    "start_time": "2021-11-23T22:44:20.014Z"
   },
   {
    "duration": 11,
    "start_time": "2021-11-23T22:44:20.025Z"
   },
   {
    "duration": 8,
    "start_time": "2021-11-23T22:44:20.038Z"
   },
   {
    "duration": 5,
    "start_time": "2021-11-23T22:44:20.064Z"
   },
   {
    "duration": 192,
    "start_time": "2021-11-23T22:44:20.071Z"
   },
   {
    "duration": 6,
    "start_time": "2021-11-23T22:44:20.265Z"
   },
   {
    "duration": 6,
    "start_time": "2021-11-23T22:44:20.273Z"
   },
   {
    "duration": 19,
    "start_time": "2021-11-23T22:44:20.281Z"
   },
   {
    "duration": 25,
    "start_time": "2021-11-23T22:44:20.302Z"
   },
   {
    "duration": 18,
    "start_time": "2021-11-23T22:44:20.329Z"
   },
   {
    "duration": 19,
    "start_time": "2021-11-23T22:44:20.348Z"
   },
   {
    "duration": 16,
    "start_time": "2021-11-23T22:44:20.368Z"
   },
   {
    "duration": 9,
    "start_time": "2021-11-23T22:44:20.386Z"
   },
   {
    "duration": 8,
    "start_time": "2021-11-23T22:44:20.396Z"
   },
   {
    "duration": 5762,
    "start_time": "2021-11-23T22:44:20.406Z"
   },
   {
    "duration": 5,
    "start_time": "2021-11-23T22:44:26.169Z"
   },
   {
    "duration": 13,
    "start_time": "2021-11-23T22:44:26.175Z"
   },
   {
    "duration": 13,
    "start_time": "2021-11-23T22:44:26.189Z"
   },
   {
    "duration": 4,
    "start_time": "2021-11-23T22:44:26.203Z"
   },
   {
    "duration": 6,
    "start_time": "2021-11-23T22:44:26.208Z"
   },
   {
    "duration": 12,
    "start_time": "2021-11-23T22:44:26.215Z"
   },
   {
    "duration": 3,
    "start_time": "2021-11-23T22:44:26.229Z"
   },
   {
    "duration": 11,
    "start_time": "2021-11-23T22:44:26.263Z"
   },
   {
    "duration": 14,
    "start_time": "2021-11-23T22:44:26.276Z"
   },
   {
    "duration": 20,
    "start_time": "2021-11-23T22:44:26.291Z"
   },
   {
    "duration": 19,
    "start_time": "2021-11-23T22:44:26.313Z"
   },
   {
    "duration": 36,
    "start_time": "2021-11-23T22:44:26.334Z"
   },
   {
    "duration": 15,
    "start_time": "2021-11-23T22:44:26.371Z"
   },
   {
    "duration": 666,
    "start_time": "2021-11-23T22:44:26.387Z"
   },
   {
    "duration": 3444,
    "start_time": "2021-11-23T22:44:27.054Z"
   },
   {
    "duration": 6,
    "start_time": "2021-11-23T22:44:30.500Z"
   },
   {
    "duration": 30,
    "start_time": "2021-11-23T22:44:30.507Z"
   },
   {
    "duration": 240,
    "start_time": "2021-11-23T22:44:30.539Z"
   },
   {
    "duration": 5,
    "start_time": "2021-11-23T22:44:30.781Z"
   },
   {
    "duration": 23,
    "start_time": "2021-11-23T22:44:30.787Z"
   },
   {
    "duration": 9,
    "start_time": "2021-11-23T22:44:30.812Z"
   },
   {
    "duration": 22,
    "start_time": "2021-11-23T22:44:30.823Z"
   },
   {
    "duration": 456,
    "start_time": "2021-11-23T22:44:30.847Z"
   },
   {
    "duration": 13,
    "start_time": "2021-11-23T22:44:31.308Z"
   },
   {
    "duration": 19,
    "start_time": "2021-11-23T22:44:31.323Z"
   },
   {
    "duration": 53,
    "start_time": "2021-11-23T22:44:31.344Z"
   },
   {
    "duration": 417,
    "start_time": "2021-11-23T22:44:31.399Z"
   },
   {
    "duration": 50,
    "start_time": "2021-11-23T22:44:31.818Z"
   },
   {
    "duration": 5,
    "start_time": "2021-11-23T22:44:31.870Z"
   },
   {
    "duration": 30,
    "start_time": "2021-11-23T22:44:31.876Z"
   },
   {
    "duration": 24,
    "start_time": "2021-11-23T22:44:31.907Z"
   },
   {
    "duration": 17,
    "start_time": "2021-11-23T22:44:31.933Z"
   },
   {
    "duration": 24,
    "start_time": "2021-11-23T22:44:31.952Z"
   }
  ],
  "kernelspec": {
   "display_name": "Python 3 (ipykernel)",
   "language": "python",
   "name": "python3"
  },
  "language_info": {
   "codemirror_mode": {
    "name": "ipython",
    "version": 3
   },
   "file_extension": ".py",
   "mimetype": "text/x-python",
   "name": "python",
   "nbconvert_exporter": "python",
   "pygments_lexer": "ipython3",
   "version": "3.10.4"
  },
  "toc": {
   "base_numbering": 1,
   "nav_menu": {},
   "number_sections": true,
   "sideBar": true,
   "skip_h1_title": true,
   "title_cell": "Table of Contents",
   "title_sidebar": "Contents",
   "toc_cell": false,
   "toc_position": {
    "height": "calc(100% - 180px)",
    "left": "10px",
    "top": "150px",
    "width": "341px"
   },
   "toc_section_display": true,
   "toc_window_display": true
  }
 },
 "nbformat": 4,
 "nbformat_minor": 4
}
