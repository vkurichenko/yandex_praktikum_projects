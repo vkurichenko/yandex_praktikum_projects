{
 "cells": [
  {
   "cell_type": "markdown",
   "metadata": {
    "pycharm": {
     "name": "#%% md\n"
    }
   },
   "source": [
    "# Отток клиентов"
   ]
  },
  {
   "cell_type": "markdown",
   "metadata": {
    "pycharm": {
     "name": "#%% md\n"
    }
   },
   "source": [
    "Из «Бета-Банка» стали уходить клиенты. Каждый месяц. Немного, но заметно. Банковские маркетологи посчитали: сохранять текущих клиентов дешевле, чем привлекать новых.\n",
    "\n",
    "Нужно спрогнозировать, уйдёт клиент из банка в ближайшее время или нет. Нам предоставлены исторические данные о поведении клиентов и расторжении договоров с банком. \n",
    "\n",
    "Источник данных: [https://www.kaggle.com/barelydedicated/bank-customer-churn-modeling](https://www.kaggle.com/barelydedicated/bank-customer-churn-modeling)"
   ]
  },
  {
   "cell_type": "markdown",
   "metadata": {
    "pycharm": {
     "name": "#%% md\n"
    }
   },
   "source": [
    "## Подготовка данных"
   ]
  },
  {
   "cell_type": "markdown",
   "metadata": {
    "pycharm": {
     "name": "#%% md\n"
    }
   },
   "source": [
    "### Изучение данных"
   ]
  },
  {
   "cell_type": "markdown",
   "metadata": {
    "pycharm": {
     "name": "#%% md\n"
    }
   },
   "source": [
    "Импортируем необходимые библиотеки:"
   ]
  },
  {
   "cell_type": "code",
   "execution_count": 430,
   "metadata": {
    "pycharm": {
     "name": "#%%\n"
    }
   },
   "outputs": [],
   "source": [
    "import pandas as pd\n",
    "import numpy as np\n",
    "import matplotlib.pyplot as plt\n",
    "import math\n",
    "\n",
    "from sklearn.tree import DecisionTreeClassifier\n",
    "from sklearn.ensemble import RandomForestClassifier\n",
    "from sklearn.linear_model import LogisticRegression\n",
    "from sklearn.dummy import DummyClassifier\n",
    "from sklearn.preprocessing import OrdinalEncoder \n",
    "from sklearn.metrics import accuracy_score\n",
    "from sklearn.model_selection import train_test_split\n",
    "from sklearn.metrics import f1_score\n",
    "from sklearn.metrics import recall_score\n",
    "from sklearn.metrics import precision_score\n",
    "from sklearn.preprocessing import StandardScaler \n",
    "from sklearn.metrics import precision_recall_curve\n",
    "from sklearn.metrics import roc_curve "
   ]
  },
  {
   "cell_type": "markdown",
   "metadata": {
    "pycharm": {
     "name": "#%% md\n"
    }
   },
   "source": [
    "Согласно инструкции, в нашем распоряжении датасет, который находится по пути \"/datasets/Churn.csv\". Импортируем его и выведем первые 10 строк."
   ]
  },
  {
   "cell_type": "code",
   "execution_count": 431,
   "metadata": {
    "pycharm": {
     "name": "#%%\n"
    }
   },
   "outputs": [
    {
     "data": {
      "text/html": [
       "<div>\n",
       "<style scoped>\n",
       "    .dataframe tbody tr th:only-of-type {\n",
       "        vertical-align: middle;\n",
       "    }\n",
       "\n",
       "    .dataframe tbody tr th {\n",
       "        vertical-align: top;\n",
       "    }\n",
       "\n",
       "    .dataframe thead th {\n",
       "        text-align: right;\n",
       "    }\n",
       "</style>\n",
       "<table border=\"1\" class=\"dataframe\">\n",
       "  <thead>\n",
       "    <tr style=\"text-align: right;\">\n",
       "      <th></th>\n",
       "      <th>RowNumber</th>\n",
       "      <th>CustomerId</th>\n",
       "      <th>Surname</th>\n",
       "      <th>CreditScore</th>\n",
       "      <th>Geography</th>\n",
       "      <th>Gender</th>\n",
       "      <th>Age</th>\n",
       "      <th>Tenure</th>\n",
       "      <th>Balance</th>\n",
       "      <th>NumOfProducts</th>\n",
       "      <th>HasCrCard</th>\n",
       "      <th>IsActiveMember</th>\n",
       "      <th>EstimatedSalary</th>\n",
       "      <th>Exited</th>\n",
       "    </tr>\n",
       "  </thead>\n",
       "  <tbody>\n",
       "    <tr>\n",
       "      <td>0</td>\n",
       "      <td>1</td>\n",
       "      <td>15634602</td>\n",
       "      <td>Hargrave</td>\n",
       "      <td>619</td>\n",
       "      <td>France</td>\n",
       "      <td>Female</td>\n",
       "      <td>42</td>\n",
       "      <td>2.0</td>\n",
       "      <td>0.00</td>\n",
       "      <td>1</td>\n",
       "      <td>1</td>\n",
       "      <td>1</td>\n",
       "      <td>101348.88</td>\n",
       "      <td>1</td>\n",
       "    </tr>\n",
       "    <tr>\n",
       "      <td>1</td>\n",
       "      <td>2</td>\n",
       "      <td>15647311</td>\n",
       "      <td>Hill</td>\n",
       "      <td>608</td>\n",
       "      <td>Spain</td>\n",
       "      <td>Female</td>\n",
       "      <td>41</td>\n",
       "      <td>1.0</td>\n",
       "      <td>83807.86</td>\n",
       "      <td>1</td>\n",
       "      <td>0</td>\n",
       "      <td>1</td>\n",
       "      <td>112542.58</td>\n",
       "      <td>0</td>\n",
       "    </tr>\n",
       "    <tr>\n",
       "      <td>2</td>\n",
       "      <td>3</td>\n",
       "      <td>15619304</td>\n",
       "      <td>Onio</td>\n",
       "      <td>502</td>\n",
       "      <td>France</td>\n",
       "      <td>Female</td>\n",
       "      <td>42</td>\n",
       "      <td>8.0</td>\n",
       "      <td>159660.80</td>\n",
       "      <td>3</td>\n",
       "      <td>1</td>\n",
       "      <td>0</td>\n",
       "      <td>113931.57</td>\n",
       "      <td>1</td>\n",
       "    </tr>\n",
       "    <tr>\n",
       "      <td>3</td>\n",
       "      <td>4</td>\n",
       "      <td>15701354</td>\n",
       "      <td>Boni</td>\n",
       "      <td>699</td>\n",
       "      <td>France</td>\n",
       "      <td>Female</td>\n",
       "      <td>39</td>\n",
       "      <td>1.0</td>\n",
       "      <td>0.00</td>\n",
       "      <td>2</td>\n",
       "      <td>0</td>\n",
       "      <td>0</td>\n",
       "      <td>93826.63</td>\n",
       "      <td>0</td>\n",
       "    </tr>\n",
       "    <tr>\n",
       "      <td>4</td>\n",
       "      <td>5</td>\n",
       "      <td>15737888</td>\n",
       "      <td>Mitchell</td>\n",
       "      <td>850</td>\n",
       "      <td>Spain</td>\n",
       "      <td>Female</td>\n",
       "      <td>43</td>\n",
       "      <td>2.0</td>\n",
       "      <td>125510.82</td>\n",
       "      <td>1</td>\n",
       "      <td>1</td>\n",
       "      <td>1</td>\n",
       "      <td>79084.10</td>\n",
       "      <td>0</td>\n",
       "    </tr>\n",
       "    <tr>\n",
       "      <td>5</td>\n",
       "      <td>6</td>\n",
       "      <td>15574012</td>\n",
       "      <td>Chu</td>\n",
       "      <td>645</td>\n",
       "      <td>Spain</td>\n",
       "      <td>Male</td>\n",
       "      <td>44</td>\n",
       "      <td>8.0</td>\n",
       "      <td>113755.78</td>\n",
       "      <td>2</td>\n",
       "      <td>1</td>\n",
       "      <td>0</td>\n",
       "      <td>149756.71</td>\n",
       "      <td>1</td>\n",
       "    </tr>\n",
       "    <tr>\n",
       "      <td>6</td>\n",
       "      <td>7</td>\n",
       "      <td>15592531</td>\n",
       "      <td>Bartlett</td>\n",
       "      <td>822</td>\n",
       "      <td>France</td>\n",
       "      <td>Male</td>\n",
       "      <td>50</td>\n",
       "      <td>7.0</td>\n",
       "      <td>0.00</td>\n",
       "      <td>2</td>\n",
       "      <td>1</td>\n",
       "      <td>1</td>\n",
       "      <td>10062.80</td>\n",
       "      <td>0</td>\n",
       "    </tr>\n",
       "    <tr>\n",
       "      <td>7</td>\n",
       "      <td>8</td>\n",
       "      <td>15656148</td>\n",
       "      <td>Obinna</td>\n",
       "      <td>376</td>\n",
       "      <td>Germany</td>\n",
       "      <td>Female</td>\n",
       "      <td>29</td>\n",
       "      <td>4.0</td>\n",
       "      <td>115046.74</td>\n",
       "      <td>4</td>\n",
       "      <td>1</td>\n",
       "      <td>0</td>\n",
       "      <td>119346.88</td>\n",
       "      <td>1</td>\n",
       "    </tr>\n",
       "    <tr>\n",
       "      <td>8</td>\n",
       "      <td>9</td>\n",
       "      <td>15792365</td>\n",
       "      <td>He</td>\n",
       "      <td>501</td>\n",
       "      <td>France</td>\n",
       "      <td>Male</td>\n",
       "      <td>44</td>\n",
       "      <td>4.0</td>\n",
       "      <td>142051.07</td>\n",
       "      <td>2</td>\n",
       "      <td>0</td>\n",
       "      <td>1</td>\n",
       "      <td>74940.50</td>\n",
       "      <td>0</td>\n",
       "    </tr>\n",
       "    <tr>\n",
       "      <td>9</td>\n",
       "      <td>10</td>\n",
       "      <td>15592389</td>\n",
       "      <td>H?</td>\n",
       "      <td>684</td>\n",
       "      <td>France</td>\n",
       "      <td>Male</td>\n",
       "      <td>27</td>\n",
       "      <td>2.0</td>\n",
       "      <td>134603.88</td>\n",
       "      <td>1</td>\n",
       "      <td>1</td>\n",
       "      <td>1</td>\n",
       "      <td>71725.73</td>\n",
       "      <td>0</td>\n",
       "    </tr>\n",
       "  </tbody>\n",
       "</table>\n",
       "</div>"
      ],
      "text/plain": [
       "   RowNumber  CustomerId   Surname  CreditScore Geography  Gender  Age  \\\n",
       "0          1    15634602  Hargrave          619    France  Female   42   \n",
       "1          2    15647311      Hill          608     Spain  Female   41   \n",
       "2          3    15619304      Onio          502    France  Female   42   \n",
       "3          4    15701354      Boni          699    France  Female   39   \n",
       "4          5    15737888  Mitchell          850     Spain  Female   43   \n",
       "5          6    15574012       Chu          645     Spain    Male   44   \n",
       "6          7    15592531  Bartlett          822    France    Male   50   \n",
       "7          8    15656148    Obinna          376   Germany  Female   29   \n",
       "8          9    15792365        He          501    France    Male   44   \n",
       "9         10    15592389        H?          684    France    Male   27   \n",
       "\n",
       "   Tenure    Balance  NumOfProducts  HasCrCard  IsActiveMember  \\\n",
       "0     2.0       0.00              1          1               1   \n",
       "1     1.0   83807.86              1          0               1   \n",
       "2     8.0  159660.80              3          1               0   \n",
       "3     1.0       0.00              2          0               0   \n",
       "4     2.0  125510.82              1          1               1   \n",
       "5     8.0  113755.78              2          1               0   \n",
       "6     7.0       0.00              2          1               1   \n",
       "7     4.0  115046.74              4          1               0   \n",
       "8     4.0  142051.07              2          0               1   \n",
       "9     2.0  134603.88              1          1               1   \n",
       "\n",
       "   EstimatedSalary  Exited  \n",
       "0        101348.88       1  \n",
       "1        112542.58       0  \n",
       "2        113931.57       1  \n",
       "3         93826.63       0  \n",
       "4         79084.10       0  \n",
       "5        149756.71       1  \n",
       "6         10062.80       0  \n",
       "7        119346.88       1  \n",
       "8         74940.50       0  \n",
       "9         71725.73       0  "
      ]
     },
     "execution_count": 431,
     "metadata": {},
     "output_type": "execute_result"
    }
   ],
   "source": [
    "df = pd.read_csv('/datasets/Churn.csv')\n",
    "df.head(10)"
   ]
  },
  {
   "cell_type": "markdown",
   "metadata": {
    "pycharm": {
     "name": "#%% md\n"
    }
   },
   "source": [
    "За признаки в датасете отвечают следующие столбцы:\n",
    "\n",
    "- `RowNumber` — индекс строки в данных\n",
    "- `CustomerId` — уникальный идентификатор клиента\n",
    "- `Surname` — фамилия\n",
    "- `CreditScore` — кредитный рейтинг\n",
    "- `Geography` — страна проживания\n",
    "- `Gender` — пол\n",
    "- `Age` — возраст\n",
    "- `Tenure` — сколько лет человек является клиентом банка\n",
    "- `Balance` — баланс на счёте\n",
    "- `NumOfProducts` — количество продуктов банка, используемых клиентом\n",
    "- `HasCrCard` — наличие кредитной карты\n",
    "- `IsActiveMember` — активность клиента\n",
    "- `EstimatedSalary` — предполагаемая зарплата\n",
    "\n",
    "Столбец `Exited` является целевым признаком, и означает факт ухода клиента."
   ]
  },
  {
   "cell_type": "markdown",
   "metadata": {
    "pycharm": {
     "name": "#%% md\n"
    }
   },
   "source": [
    "### Обработка данных"
   ]
  },
  {
   "cell_type": "markdown",
   "metadata": {
    "pycharm": {
     "name": "#%% md\n"
    }
   },
   "source": [
    "Видно, что в датасете присутствует столбец с индексом строки в данных. Загрузим датасет еще раз, но используем этот столбец в качестве индекса."
   ]
  },
  {
   "cell_type": "code",
   "execution_count": 432,
   "metadata": {
    "pycharm": {
     "name": "#%%\n"
    }
   },
   "outputs": [],
   "source": [
    "df = pd.read_csv('/datasets/Churn.csv', index_col='RowNumber')"
   ]
  },
  {
   "cell_type": "markdown",
   "metadata": {
    "pycharm": {
     "name": "#%% md\n"
    }
   },
   "source": [
    "Посмотрим информацию о датасете при помощи встроенной функции `info`."
   ]
  },
  {
   "cell_type": "code",
   "execution_count": 433,
   "metadata": {
    "pycharm": {
     "name": "#%%\n"
    }
   },
   "outputs": [
    {
     "name": "stdout",
     "output_type": "stream",
     "text": [
      "<class 'pandas.core.frame.DataFrame'>\n",
      "Int64Index: 10000 entries, 1 to 10000\n",
      "Data columns (total 13 columns):\n",
      "CustomerId         10000 non-null int64\n",
      "Surname            10000 non-null object\n",
      "CreditScore        10000 non-null int64\n",
      "Geography          10000 non-null object\n",
      "Gender             10000 non-null object\n",
      "Age                10000 non-null int64\n",
      "Tenure             9091 non-null float64\n",
      "Balance            10000 non-null float64\n",
      "NumOfProducts      10000 non-null int64\n",
      "HasCrCard          10000 non-null int64\n",
      "IsActiveMember     10000 non-null int64\n",
      "EstimatedSalary    10000 non-null float64\n",
      "Exited             10000 non-null int64\n",
      "dtypes: float64(3), int64(7), object(3)\n",
      "memory usage: 1.1+ MB\n"
     ]
    }
   ],
   "source": [
    "df.info()"
   ]
  },
  {
   "cell_type": "markdown",
   "metadata": {
    "pycharm": {
     "name": "#%% md\n"
    }
   },
   "source": [
    "Видно, что в столбце `Tenure` наблюдаются отсутствующие данные. Напомним, что этот столбец означает, сколько лет человек является клиентом банка.\n",
    "\n",
    "Предположим, что если значение отсутствует, то человек только недавно начал пользоваться услугами банка, и одного года с начала пользования еще не прошло. Поэтому для него это значение и отсутсвует. Заменим такие данные на значение `0`."
   ]
  },
  {
   "cell_type": "code",
   "execution_count": 434,
   "metadata": {
    "pycharm": {
     "name": "#%%\n"
    }
   },
   "outputs": [],
   "source": [
    "df['Tenure'] = df['Tenure'].fillna(0)"
   ]
  },
  {
   "cell_type": "markdown",
   "metadata": {
    "pycharm": {
     "name": "#%% md\n"
    }
   },
   "source": [
    "Посмотрим информацию еще раз."
   ]
  },
  {
   "cell_type": "code",
   "execution_count": 435,
   "metadata": {
    "pycharm": {
     "name": "#%%\n"
    }
   },
   "outputs": [
    {
     "name": "stdout",
     "output_type": "stream",
     "text": [
      "<class 'pandas.core.frame.DataFrame'>\n",
      "Int64Index: 10000 entries, 1 to 10000\n",
      "Data columns (total 13 columns):\n",
      "CustomerId         10000 non-null int64\n",
      "Surname            10000 non-null object\n",
      "CreditScore        10000 non-null int64\n",
      "Geography          10000 non-null object\n",
      "Gender             10000 non-null object\n",
      "Age                10000 non-null int64\n",
      "Tenure             10000 non-null float64\n",
      "Balance            10000 non-null float64\n",
      "NumOfProducts      10000 non-null int64\n",
      "HasCrCard          10000 non-null int64\n",
      "IsActiveMember     10000 non-null int64\n",
      "EstimatedSalary    10000 non-null float64\n",
      "Exited             10000 non-null int64\n",
      "dtypes: float64(3), int64(7), object(3)\n",
      "memory usage: 1.1+ MB\n"
     ]
    }
   ],
   "source": [
    "df.info()"
   ]
  },
  {
   "cell_type": "markdown",
   "metadata": {
    "pycharm": {
     "name": "#%% md\n"
    }
   },
   "source": [
    "Видно, что от отсутствующих значений мы избавились.\n",
    "\n",
    "Теперь удалим лишние столбцы, которые не должны повлиять на модель: идентификатор клиента `CustomerId` и его фамилия `Surname`, а также страна проживания `Geography`. "
   ]
  },
  {
   "cell_type": "code",
   "execution_count": 436,
   "metadata": {
    "pycharm": {
     "name": "#%%\n"
    }
   },
   "outputs": [],
   "source": [
    "df_model = df.drop(['CustomerId', 'Surname', 'Geography'], axis=1)"
   ]
  },
  {
   "cell_type": "markdown",
   "metadata": {
    "pycharm": {
     "name": "#%% md\n"
    }
   },
   "source": [
    "Посмотрим на данные."
   ]
  },
  {
   "cell_type": "code",
   "execution_count": 437,
   "metadata": {
    "pycharm": {
     "name": "#%%\n"
    }
   },
   "outputs": [
    {
     "data": {
      "text/html": [
       "<div>\n",
       "<style scoped>\n",
       "    .dataframe tbody tr th:only-of-type {\n",
       "        vertical-align: middle;\n",
       "    }\n",
       "\n",
       "    .dataframe tbody tr th {\n",
       "        vertical-align: top;\n",
       "    }\n",
       "\n",
       "    .dataframe thead th {\n",
       "        text-align: right;\n",
       "    }\n",
       "</style>\n",
       "<table border=\"1\" class=\"dataframe\">\n",
       "  <thead>\n",
       "    <tr style=\"text-align: right;\">\n",
       "      <th></th>\n",
       "      <th>CreditScore</th>\n",
       "      <th>Gender</th>\n",
       "      <th>Age</th>\n",
       "      <th>Tenure</th>\n",
       "      <th>Balance</th>\n",
       "      <th>NumOfProducts</th>\n",
       "      <th>HasCrCard</th>\n",
       "      <th>IsActiveMember</th>\n",
       "      <th>EstimatedSalary</th>\n",
       "      <th>Exited</th>\n",
       "    </tr>\n",
       "    <tr>\n",
       "      <th>RowNumber</th>\n",
       "      <th></th>\n",
       "      <th></th>\n",
       "      <th></th>\n",
       "      <th></th>\n",
       "      <th></th>\n",
       "      <th></th>\n",
       "      <th></th>\n",
       "      <th></th>\n",
       "      <th></th>\n",
       "      <th></th>\n",
       "    </tr>\n",
       "  </thead>\n",
       "  <tbody>\n",
       "    <tr>\n",
       "      <td>1</td>\n",
       "      <td>619</td>\n",
       "      <td>Female</td>\n",
       "      <td>42</td>\n",
       "      <td>2.0</td>\n",
       "      <td>0.00</td>\n",
       "      <td>1</td>\n",
       "      <td>1</td>\n",
       "      <td>1</td>\n",
       "      <td>101348.88</td>\n",
       "      <td>1</td>\n",
       "    </tr>\n",
       "    <tr>\n",
       "      <td>2</td>\n",
       "      <td>608</td>\n",
       "      <td>Female</td>\n",
       "      <td>41</td>\n",
       "      <td>1.0</td>\n",
       "      <td>83807.86</td>\n",
       "      <td>1</td>\n",
       "      <td>0</td>\n",
       "      <td>1</td>\n",
       "      <td>112542.58</td>\n",
       "      <td>0</td>\n",
       "    </tr>\n",
       "    <tr>\n",
       "      <td>3</td>\n",
       "      <td>502</td>\n",
       "      <td>Female</td>\n",
       "      <td>42</td>\n",
       "      <td>8.0</td>\n",
       "      <td>159660.80</td>\n",
       "      <td>3</td>\n",
       "      <td>1</td>\n",
       "      <td>0</td>\n",
       "      <td>113931.57</td>\n",
       "      <td>1</td>\n",
       "    </tr>\n",
       "    <tr>\n",
       "      <td>4</td>\n",
       "      <td>699</td>\n",
       "      <td>Female</td>\n",
       "      <td>39</td>\n",
       "      <td>1.0</td>\n",
       "      <td>0.00</td>\n",
       "      <td>2</td>\n",
       "      <td>0</td>\n",
       "      <td>0</td>\n",
       "      <td>93826.63</td>\n",
       "      <td>0</td>\n",
       "    </tr>\n",
       "    <tr>\n",
       "      <td>5</td>\n",
       "      <td>850</td>\n",
       "      <td>Female</td>\n",
       "      <td>43</td>\n",
       "      <td>2.0</td>\n",
       "      <td>125510.82</td>\n",
       "      <td>1</td>\n",
       "      <td>1</td>\n",
       "      <td>1</td>\n",
       "      <td>79084.10</td>\n",
       "      <td>0</td>\n",
       "    </tr>\n",
       "    <tr>\n",
       "      <td>...</td>\n",
       "      <td>...</td>\n",
       "      <td>...</td>\n",
       "      <td>...</td>\n",
       "      <td>...</td>\n",
       "      <td>...</td>\n",
       "      <td>...</td>\n",
       "      <td>...</td>\n",
       "      <td>...</td>\n",
       "      <td>...</td>\n",
       "      <td>...</td>\n",
       "    </tr>\n",
       "    <tr>\n",
       "      <td>9996</td>\n",
       "      <td>771</td>\n",
       "      <td>Male</td>\n",
       "      <td>39</td>\n",
       "      <td>5.0</td>\n",
       "      <td>0.00</td>\n",
       "      <td>2</td>\n",
       "      <td>1</td>\n",
       "      <td>0</td>\n",
       "      <td>96270.64</td>\n",
       "      <td>0</td>\n",
       "    </tr>\n",
       "    <tr>\n",
       "      <td>9997</td>\n",
       "      <td>516</td>\n",
       "      <td>Male</td>\n",
       "      <td>35</td>\n",
       "      <td>10.0</td>\n",
       "      <td>57369.61</td>\n",
       "      <td>1</td>\n",
       "      <td>1</td>\n",
       "      <td>1</td>\n",
       "      <td>101699.77</td>\n",
       "      <td>0</td>\n",
       "    </tr>\n",
       "    <tr>\n",
       "      <td>9998</td>\n",
       "      <td>709</td>\n",
       "      <td>Female</td>\n",
       "      <td>36</td>\n",
       "      <td>7.0</td>\n",
       "      <td>0.00</td>\n",
       "      <td>1</td>\n",
       "      <td>0</td>\n",
       "      <td>1</td>\n",
       "      <td>42085.58</td>\n",
       "      <td>1</td>\n",
       "    </tr>\n",
       "    <tr>\n",
       "      <td>9999</td>\n",
       "      <td>772</td>\n",
       "      <td>Male</td>\n",
       "      <td>42</td>\n",
       "      <td>3.0</td>\n",
       "      <td>75075.31</td>\n",
       "      <td>2</td>\n",
       "      <td>1</td>\n",
       "      <td>0</td>\n",
       "      <td>92888.52</td>\n",
       "      <td>1</td>\n",
       "    </tr>\n",
       "    <tr>\n",
       "      <td>10000</td>\n",
       "      <td>792</td>\n",
       "      <td>Female</td>\n",
       "      <td>28</td>\n",
       "      <td>0.0</td>\n",
       "      <td>130142.79</td>\n",
       "      <td>1</td>\n",
       "      <td>1</td>\n",
       "      <td>0</td>\n",
       "      <td>38190.78</td>\n",
       "      <td>0</td>\n",
       "    </tr>\n",
       "  </tbody>\n",
       "</table>\n",
       "<p>10000 rows × 10 columns</p>\n",
       "</div>"
      ],
      "text/plain": [
       "           CreditScore  Gender  Age  Tenure    Balance  NumOfProducts  \\\n",
       "RowNumber                                                               \n",
       "1                  619  Female   42     2.0       0.00              1   \n",
       "2                  608  Female   41     1.0   83807.86              1   \n",
       "3                  502  Female   42     8.0  159660.80              3   \n",
       "4                  699  Female   39     1.0       0.00              2   \n",
       "5                  850  Female   43     2.0  125510.82              1   \n",
       "...                ...     ...  ...     ...        ...            ...   \n",
       "9996               771    Male   39     5.0       0.00              2   \n",
       "9997               516    Male   35    10.0   57369.61              1   \n",
       "9998               709  Female   36     7.0       0.00              1   \n",
       "9999               772    Male   42     3.0   75075.31              2   \n",
       "10000              792  Female   28     0.0  130142.79              1   \n",
       "\n",
       "           HasCrCard  IsActiveMember  EstimatedSalary  Exited  \n",
       "RowNumber                                                      \n",
       "1                  1               1        101348.88       1  \n",
       "2                  0               1        112542.58       0  \n",
       "3                  1               0        113931.57       1  \n",
       "4                  0               0         93826.63       0  \n",
       "5                  1               1         79084.10       0  \n",
       "...              ...             ...              ...     ...  \n",
       "9996               1               0         96270.64       0  \n",
       "9997               1               1        101699.77       0  \n",
       "9998               0               1         42085.58       1  \n",
       "9999               1               0         92888.52       1  \n",
       "10000              1               0         38190.78       0  \n",
       "\n",
       "[10000 rows x 10 columns]"
      ]
     },
     "execution_count": 437,
     "metadata": {},
     "output_type": "execute_result"
    }
   ],
   "source": [
    "df_model"
   ]
  },
  {
   "cell_type": "markdown",
   "metadata": {
    "pycharm": {
     "name": "#%% md\n"
    }
   },
   "source": [
    "Также предлагается превратить категориальный столбец `Gender` в числовую переменную."
   ]
  },
  {
   "cell_type": "code",
   "execution_count": 438,
   "metadata": {
    "pycharm": {
     "name": "#%%\n"
    }
   },
   "outputs": [],
   "source": [
    "df_model = pd.get_dummies(df_model, columns=['Gender'], drop_first=True)"
   ]
  },
  {
   "cell_type": "markdown",
   "metadata": {
    "pycharm": {
     "name": "#%% md\n"
    }
   },
   "source": [
    "Посмотрим на данные."
   ]
  },
  {
   "cell_type": "code",
   "execution_count": 439,
   "metadata": {
    "pycharm": {
     "name": "#%%\n"
    }
   },
   "outputs": [
    {
     "data": {
      "text/html": [
       "<div>\n",
       "<style scoped>\n",
       "    .dataframe tbody tr th:only-of-type {\n",
       "        vertical-align: middle;\n",
       "    }\n",
       "\n",
       "    .dataframe tbody tr th {\n",
       "        vertical-align: top;\n",
       "    }\n",
       "\n",
       "    .dataframe thead th {\n",
       "        text-align: right;\n",
       "    }\n",
       "</style>\n",
       "<table border=\"1\" class=\"dataframe\">\n",
       "  <thead>\n",
       "    <tr style=\"text-align: right;\">\n",
       "      <th></th>\n",
       "      <th>CreditScore</th>\n",
       "      <th>Age</th>\n",
       "      <th>Tenure</th>\n",
       "      <th>Balance</th>\n",
       "      <th>NumOfProducts</th>\n",
       "      <th>HasCrCard</th>\n",
       "      <th>IsActiveMember</th>\n",
       "      <th>EstimatedSalary</th>\n",
       "      <th>Exited</th>\n",
       "      <th>Gender_Male</th>\n",
       "    </tr>\n",
       "    <tr>\n",
       "      <th>RowNumber</th>\n",
       "      <th></th>\n",
       "      <th></th>\n",
       "      <th></th>\n",
       "      <th></th>\n",
       "      <th></th>\n",
       "      <th></th>\n",
       "      <th></th>\n",
       "      <th></th>\n",
       "      <th></th>\n",
       "      <th></th>\n",
       "    </tr>\n",
       "  </thead>\n",
       "  <tbody>\n",
       "    <tr>\n",
       "      <td>1</td>\n",
       "      <td>619</td>\n",
       "      <td>42</td>\n",
       "      <td>2.0</td>\n",
       "      <td>0.00</td>\n",
       "      <td>1</td>\n",
       "      <td>1</td>\n",
       "      <td>1</td>\n",
       "      <td>101348.88</td>\n",
       "      <td>1</td>\n",
       "      <td>0</td>\n",
       "    </tr>\n",
       "    <tr>\n",
       "      <td>2</td>\n",
       "      <td>608</td>\n",
       "      <td>41</td>\n",
       "      <td>1.0</td>\n",
       "      <td>83807.86</td>\n",
       "      <td>1</td>\n",
       "      <td>0</td>\n",
       "      <td>1</td>\n",
       "      <td>112542.58</td>\n",
       "      <td>0</td>\n",
       "      <td>0</td>\n",
       "    </tr>\n",
       "    <tr>\n",
       "      <td>3</td>\n",
       "      <td>502</td>\n",
       "      <td>42</td>\n",
       "      <td>8.0</td>\n",
       "      <td>159660.80</td>\n",
       "      <td>3</td>\n",
       "      <td>1</td>\n",
       "      <td>0</td>\n",
       "      <td>113931.57</td>\n",
       "      <td>1</td>\n",
       "      <td>0</td>\n",
       "    </tr>\n",
       "    <tr>\n",
       "      <td>4</td>\n",
       "      <td>699</td>\n",
       "      <td>39</td>\n",
       "      <td>1.0</td>\n",
       "      <td>0.00</td>\n",
       "      <td>2</td>\n",
       "      <td>0</td>\n",
       "      <td>0</td>\n",
       "      <td>93826.63</td>\n",
       "      <td>0</td>\n",
       "      <td>0</td>\n",
       "    </tr>\n",
       "    <tr>\n",
       "      <td>5</td>\n",
       "      <td>850</td>\n",
       "      <td>43</td>\n",
       "      <td>2.0</td>\n",
       "      <td>125510.82</td>\n",
       "      <td>1</td>\n",
       "      <td>1</td>\n",
       "      <td>1</td>\n",
       "      <td>79084.10</td>\n",
       "      <td>0</td>\n",
       "      <td>0</td>\n",
       "    </tr>\n",
       "    <tr>\n",
       "      <td>...</td>\n",
       "      <td>...</td>\n",
       "      <td>...</td>\n",
       "      <td>...</td>\n",
       "      <td>...</td>\n",
       "      <td>...</td>\n",
       "      <td>...</td>\n",
       "      <td>...</td>\n",
       "      <td>...</td>\n",
       "      <td>...</td>\n",
       "      <td>...</td>\n",
       "    </tr>\n",
       "    <tr>\n",
       "      <td>9996</td>\n",
       "      <td>771</td>\n",
       "      <td>39</td>\n",
       "      <td>5.0</td>\n",
       "      <td>0.00</td>\n",
       "      <td>2</td>\n",
       "      <td>1</td>\n",
       "      <td>0</td>\n",
       "      <td>96270.64</td>\n",
       "      <td>0</td>\n",
       "      <td>1</td>\n",
       "    </tr>\n",
       "    <tr>\n",
       "      <td>9997</td>\n",
       "      <td>516</td>\n",
       "      <td>35</td>\n",
       "      <td>10.0</td>\n",
       "      <td>57369.61</td>\n",
       "      <td>1</td>\n",
       "      <td>1</td>\n",
       "      <td>1</td>\n",
       "      <td>101699.77</td>\n",
       "      <td>0</td>\n",
       "      <td>1</td>\n",
       "    </tr>\n",
       "    <tr>\n",
       "      <td>9998</td>\n",
       "      <td>709</td>\n",
       "      <td>36</td>\n",
       "      <td>7.0</td>\n",
       "      <td>0.00</td>\n",
       "      <td>1</td>\n",
       "      <td>0</td>\n",
       "      <td>1</td>\n",
       "      <td>42085.58</td>\n",
       "      <td>1</td>\n",
       "      <td>0</td>\n",
       "    </tr>\n",
       "    <tr>\n",
       "      <td>9999</td>\n",
       "      <td>772</td>\n",
       "      <td>42</td>\n",
       "      <td>3.0</td>\n",
       "      <td>75075.31</td>\n",
       "      <td>2</td>\n",
       "      <td>1</td>\n",
       "      <td>0</td>\n",
       "      <td>92888.52</td>\n",
       "      <td>1</td>\n",
       "      <td>1</td>\n",
       "    </tr>\n",
       "    <tr>\n",
       "      <td>10000</td>\n",
       "      <td>792</td>\n",
       "      <td>28</td>\n",
       "      <td>0.0</td>\n",
       "      <td>130142.79</td>\n",
       "      <td>1</td>\n",
       "      <td>1</td>\n",
       "      <td>0</td>\n",
       "      <td>38190.78</td>\n",
       "      <td>0</td>\n",
       "      <td>0</td>\n",
       "    </tr>\n",
       "  </tbody>\n",
       "</table>\n",
       "<p>10000 rows × 10 columns</p>\n",
       "</div>"
      ],
      "text/plain": [
       "           CreditScore  Age  Tenure    Balance  NumOfProducts  HasCrCard  \\\n",
       "RowNumber                                                                  \n",
       "1                  619   42     2.0       0.00              1          1   \n",
       "2                  608   41     1.0   83807.86              1          0   \n",
       "3                  502   42     8.0  159660.80              3          1   \n",
       "4                  699   39     1.0       0.00              2          0   \n",
       "5                  850   43     2.0  125510.82              1          1   \n",
       "...                ...  ...     ...        ...            ...        ...   \n",
       "9996               771   39     5.0       0.00              2          1   \n",
       "9997               516   35    10.0   57369.61              1          1   \n",
       "9998               709   36     7.0       0.00              1          0   \n",
       "9999               772   42     3.0   75075.31              2          1   \n",
       "10000              792   28     0.0  130142.79              1          1   \n",
       "\n",
       "           IsActiveMember  EstimatedSalary  Exited  Gender_Male  \n",
       "RowNumber                                                        \n",
       "1                       1        101348.88       1            0  \n",
       "2                       1        112542.58       0            0  \n",
       "3                       0        113931.57       1            0  \n",
       "4                       0         93826.63       0            0  \n",
       "5                       1         79084.10       0            0  \n",
       "...                   ...              ...     ...          ...  \n",
       "9996                    0         96270.64       0            1  \n",
       "9997                    1        101699.77       0            1  \n",
       "9998                    1         42085.58       1            0  \n",
       "9999                    0         92888.52       1            1  \n",
       "10000                   0         38190.78       0            0  \n",
       "\n",
       "[10000 rows x 10 columns]"
      ]
     },
     "execution_count": 439,
     "metadata": {},
     "output_type": "execute_result"
    }
   ],
   "source": [
    "df_model"
   ]
  },
  {
   "cell_type": "markdown",
   "metadata": {
    "pycharm": {
     "name": "#%% md\n"
    }
   },
   "source": [
    "Видно, что действиительно добавился столбец, который в зависимости от пола клиента, обладает значением 1 или 0."
   ]
  },
  {
   "cell_type": "markdown",
   "metadata": {
    "pycharm": {
     "name": "#%% md\n"
    }
   },
   "source": [
    "### Извлечение выборок"
   ]
  },
  {
   "cell_type": "markdown",
   "metadata": {
    "pycharm": {
     "name": "#%% md\n"
    }
   },
   "source": [
    "Теперь разделим наш датасет на тренировочную, валидационную и тестовую выборки.\n",
    "\n",
    "Согласно предоставленной на курсе теории, в таком случае данные делят в отношении 3:1:1. То есть, 60 % данных уходит на обучающую выборку, и по 20 % на валидационную и тестовую. Для этого воспользуемся функцией `train_test_split` из библиотеки `sklearn`.\n",
    "\n",
    "Сначала разделим датасет на обучающую выборку и валидационную с тестовой."
   ]
  },
  {
   "cell_type": "code",
   "execution_count": 440,
   "metadata": {
    "pycharm": {
     "name": "#%%\n"
    }
   },
   "outputs": [],
   "source": [
    "train, test_valid = train_test_split(df_model, train_size=0.6, random_state=123456789)"
   ]
  },
  {
   "cell_type": "markdown",
   "metadata": {
    "pycharm": {
     "name": "#%% md\n"
    }
   },
   "source": [
    "Теперь разобьем второй датасет на две выборки, валидационную и тестовую."
   ]
  },
  {
   "cell_type": "code",
   "execution_count": 441,
   "metadata": {
    "pycharm": {
     "name": "#%%\n"
    }
   },
   "outputs": [],
   "source": [
    "valid, test = train_test_split(test_valid, train_size=0.5, random_state=123456789)"
   ]
  },
  {
   "cell_type": "markdown",
   "metadata": {
    "pycharm": {
     "name": "#%% md\n"
    }
   },
   "source": [
    "Теперь разобьем все выборки на `features` и `target`:\n",
    "\n",
    "- `features` будет представлять собой исходный датасет без целевого признака `Exited`.\n",
    "- `target` - целевой признак `Exited`\n",
    "\n",
    "Так как алгоритм в данном случае будет одинаков, предлагается написать для этого функцию."
   ]
  },
  {
   "cell_type": "code",
   "execution_count": 442,
   "metadata": {
    "pycharm": {
     "name": "#%%\n"
    }
   },
   "outputs": [],
   "source": [
    "def features_target(df):\n",
    "    features = df.drop(['Exited'], axis=1)\n",
    "    target = df['Exited']\n",
    "    return features, target"
   ]
  },
  {
   "cell_type": "markdown",
   "metadata": {
    "pycharm": {
     "name": "#%% md\n"
    }
   },
   "source": [
    "Разделим все выборки, вызвав функцию для каждой из них."
   ]
  },
  {
   "cell_type": "code",
   "execution_count": 443,
   "metadata": {
    "pycharm": {
     "name": "#%%\n"
    }
   },
   "outputs": [],
   "source": [
    "train_features, train_target = features_target(train)\n",
    "valid_features, valid_target = features_target(valid)\n",
    "test_features, test_target = features_target(test)"
   ]
  },
  {
   "cell_type": "markdown",
   "metadata": {
    "pycharm": {
     "name": "#%% md\n"
    }
   },
   "source": [
    "Посмотрим размеры полученных выборок."
   ]
  },
  {
   "cell_type": "code",
   "execution_count": 444,
   "metadata": {
    "pycharm": {
     "name": "#%%\n"
    }
   },
   "outputs": [
    {
     "name": "stdout",
     "output_type": "stream",
     "text": [
      "Размеры исходного датасета: (10000, 10)\n",
      "Размеры тренировочной выборки: (6000, 9)\n",
      "Размеры валидационной выборки: (2000, 9)\n",
      "Размеры тестовой выборки: (2000, 9) \n",
      "\n"
     ]
    }
   ],
   "source": [
    "print(f'''Размеры исходного датасета: {df_model.shape}\n",
    "Размеры тренировочной выборки: {train_features.shape}\n",
    "Размеры валидационной выборки: {valid_features.shape}\n",
    "Размеры тестовой выборки: {test_features.shape} \n",
    "''')"
   ]
  },
  {
   "cell_type": "markdown",
   "metadata": {
    "pycharm": {
     "name": "#%% md\n"
    }
   },
   "source": [
    "Видно, что датасет был разеделен в соответствии с соотношением 3:1:1."
   ]
  },
  {
   "cell_type": "markdown",
   "metadata": {
    "pycharm": {
     "name": "#%% md\n"
    }
   },
   "source": [
    "**Вывод:**"
   ]
  },
  {
   "cell_type": "markdown",
   "metadata": {
    "pycharm": {
     "name": "#%% md\n"
    }
   },
   "source": [
    "В данном пункте было проведено:\n",
    "- Изучение исходных данных, в ходе которой исходный датасет был загружен и изучено его содержание.\n",
    "- Обработка данных, в результате которой в столбце `Tenure` отсутствующие значения были заменены на 0. Также удалены столбцы, которые не должны влиять на работу модели (`CustomerId`, `Surname`, `Geography`). Столбец с категориальной переменной `Gender` был превращен прямым кодированием в числовой.\n",
    "- Извлечение выборок, в результаты которой наш датасет был разделен на тренировочную, валидационную и тестовую выборки."
   ]
  },
  {
   "cell_type": "markdown",
   "metadata": {
    "pycharm": {
     "name": "#%% md\n"
    }
   },
   "source": [
    "## Обучение модели без учёта дисбаланса"
   ]
  },
  {
   "cell_type": "markdown",
   "metadata": {
    "pycharm": {
     "name": "#%% md\n"
    }
   },
   "source": [
    "Сначала ознакомимся с балансом классов. Для этого посчитаем количество различных значений в столбце с целевым признаком."
   ]
  },
  {
   "cell_type": "code",
   "execution_count": 445,
   "metadata": {
    "pycharm": {
     "name": "#%%\n"
    }
   },
   "outputs": [
    {
     "data": {
      "text/plain": [
       "0    0.800833\n",
       "1    0.199167\n",
       "Name: Exited, dtype: float64"
      ]
     },
     "execution_count": 445,
     "metadata": {},
     "output_type": "execute_result"
    }
   ],
   "source": [
    "train_target.value_counts(normalize=True)"
   ]
  },
  {
   "cell_type": "markdown",
   "metadata": {
    "pycharm": {
     "name": "#%% md\n"
    }
   },
   "source": [
    "Видно, что в данных действительно присутствует дисбаланс, так как значения разделены в соотношении 4:1.\n",
    "\n",
    "Однако, все же попробуем обучить модель на данных с дисбалансом чтобы потом посмотреть, насколько сильно он влияет на качество модели."
   ]
  },
  {
   "cell_type": "markdown",
   "metadata": {
    "pycharm": {
     "name": "#%% md\n"
    }
   },
   "source": [
    "### Дерево решений"
   ]
  },
  {
   "cell_type": "markdown",
   "metadata": {
    "pycharm": {
     "name": "#%% md\n"
    }
   },
   "source": [
    "Оценим в цикле accuracy (доли правильных ответов) модели дерева решений для валидационной выборки при различных значениях гиперпараметра, а именно, величины `max_depth` или **глубины дерева**. \n",
    "\n",
    "Затем построим график значения accuracy для разных значений глубины дерева."
   ]
  },
  {
   "cell_type": "code",
   "execution_count": 446,
   "metadata": {
    "pycharm": {
     "name": "#%%\n"
    }
   },
   "outputs": [],
   "source": [
    "depth_values = list(range(1,11))\n",
    "accuracy = []\n",
    "for depth in range(1,11):\n",
    "    model = DecisionTreeClassifier(random_state=123456789, max_depth=depth)\n",
    "    model.fit(train_features, train_target)\n",
    "    predictions = model.predict(valid_features)\n",
    "    accuracy.append(accuracy_score(valid_target, predictions))"
   ]
  },
  {
   "cell_type": "code",
   "execution_count": 447,
   "metadata": {
    "pycharm": {
     "name": "#%%\n"
    }
   },
   "outputs": [
    {
     "data": {
      "text/plain": [
       "Text(0, 0.5, 'Точность \"accuracy\"')"
      ]
     },
     "execution_count": 447,
     "metadata": {},
     "output_type": "execute_result"
    },
    {
     "data": {
      "image/png": "[encoded data removed]",
      "text/plain": [
       "<Figure size 432x288 with 1 Axes>"
      ]
     },
     "metadata": {
      "needs_background": "light"
     },
     "output_type": "display_data"
    }
   ],
   "source": [
    "plt.plot(depth_values, accuracy)\n",
    "plt.xlabel('Глубина дерева \"depth\"')\n",
    "plt.ylabel('Точность \"accuracy\"')"
   ]
  },
  {
   "cell_type": "markdown",
   "metadata": {
    "pycharm": {
     "name": "#%% md\n"
    }
   },
   "source": [
    "Видно, что в нашем случае лучшая accuracy наблюдается для глубины дерева 5.\n",
    "\n",
    "Посчитаем значение метрик precision, recall и F1 для этой глубины дерева."
   ]
  },
  {
   "cell_type": "code",
   "execution_count": 448,
   "metadata": {
    "pycharm": {
     "name": "#%%\n"
    }
   },
   "outputs": [
    {
     "name": "stdout",
     "output_type": "stream",
     "text": [
      "Accuracy: 0.8545\n",
      "Recall: 0.39952718676122934\n",
      "Precision: 0.8203883495145631\n",
      "F1: 0.5373608903020668\n"
     ]
    }
   ],
   "source": [
    "model = DecisionTreeClassifier(random_state=123456789, max_depth=5)\n",
    "model.fit(train_features, train_target)\n",
    "predictions = model.predict(valid_features)\n",
    "print(f'Accuracy: {accuracy_score(valid_target, predictions)}')\n",
    "print(f'Recall: {recall_score(valid_target, predictions)}')\n",
    "print(f'Precision: {precision_score(valid_target, predictions)}')\n",
    "print(f'F1: {f1_score(valid_target, predictions)}')"
   ]
  },
  {
   "cell_type": "markdown",
   "metadata": {
    "pycharm": {
     "name": "#%% md\n"
    }
   },
   "source": [
    "**Вывод:**\n",
    "- Accuracy составила 0.8545.\n",
    "- Модель смогла выявить 40% от всех фактов ухода клиентов из банка.\n",
    "- Из тех предсказаний, которые модель отметила как положительные (человек ушел из банка), 82% предсказаний были верны.\n",
    "- Мера F1 составила 0.537."
   ]
  },
  {
   "cell_type": "markdown",
   "metadata": {
    "pycharm": {
     "name": "#%% md\n"
    }
   },
   "source": [
    "### Случайный лес"
   ]
  },
  {
   "cell_type": "markdown",
   "metadata": {
    "pycharm": {
     "name": "#%% md\n"
    }
   },
   "source": [
    "В данном случае на валидационной выборке будем оптимизировать параметр модели случайного леса n_estimators или количества деревьев в лесу. Значение оптимальной глубины леса возьмем из предыдущей модели.\n",
    "\n",
    "Количество деревьев перебирать в диапазоне от 10 до 100 с шагом 10."
   ]
  },
  {
   "cell_type": "code",
   "execution_count": 449,
   "metadata": {
    "pycharm": {
     "name": "#%%\n"
    }
   },
   "outputs": [],
   "source": [
    "est_values = list(range(10, 101, 10))\n",
    "accuracy = []\n",
    "for estimators in range(10, 101, 10):\n",
    "    model = RandomForestClassifier(random_state=123456789, n_estimators=estimators, max_depth=5)\n",
    "    model.fit(train_features, train_target)\n",
    "    predictions = model.predict(valid_features)\n",
    "    accuracy.append(accuracy_score(valid_target, predictions))"
   ]
  },
  {
   "cell_type": "code",
   "execution_count": 450,
   "metadata": {
    "pycharm": {
     "name": "#%%\n"
    }
   },
   "outputs": [
    {
     "data": {
      "text/plain": [
       "Text(0, 0.5, 'Точность \"accuracy\"')"
      ]
     },
     "execution_count": 450,
     "metadata": {},
     "output_type": "execute_result"
    },
    {
     "data": {
      "image/png": "[encoded data removed]",
      "text/plain": [
       "<Figure size 432x288 with 1 Axes>"
      ]
     },
     "metadata": {
      "needs_background": "light"
     },
     "output_type": "display_data"
    }
   ],
   "source": [
    "plt.plot(est_values, accuracy)\n",
    "plt.xlabel('Количество деревьев в лесу \"n_estimators\"')\n",
    "plt.ylabel('Точность \"accuracy\"')"
   ]
  },
  {
   "cell_type": "markdown",
   "metadata": {
    "pycharm": {
     "name": "#%% md\n"
    }
   },
   "source": [
    "Видно, что в нашем случае лучшая accuracy наблюдается для количества деревьев 80.\n",
    "\n",
    "Посчитаем значение метрик precision, recall и F1 для этого количества деревьев."
   ]
  },
  {
   "cell_type": "code",
   "execution_count": 451,
   "metadata": {
    "pycharm": {
     "name": "#%%\n"
    }
   },
   "outputs": [
    {
     "name": "stdout",
     "output_type": "stream",
     "text": [
      "Accuracy: 0.8565\n",
      "Recall: 0.3617021276595745\n",
      "Precision: 0.9\n",
      "F1: 0.5160202360876898\n"
     ]
    }
   ],
   "source": [
    "model = RandomForestClassifier(random_state=123456789, n_estimators=80, max_depth=5)\n",
    "model.fit(train_features, train_target)\n",
    "predictions = model.predict(valid_features)\n",
    "print(f'Accuracy: {accuracy_score(valid_target, predictions)}')\n",
    "print(f'Recall: {recall_score(valid_target, predictions)}')\n",
    "print(f'Precision: {precision_score(valid_target, predictions)}')\n",
    "print(f'F1: {f1_score(valid_target, predictions)}')"
   ]
  },
  {
   "cell_type": "markdown",
   "metadata": {
    "pycharm": {
     "name": "#%% md\n"
    }
   },
   "source": [
    "**Вывод:**\n",
    "- Accuracy составила 0.8565.\n",
    "- Модель смогла выявить 36% от всех фактов ухода клиентов из банка.\n",
    "- Из тех предсказаний, которые модель отметила как положительные (человек ушел из банка), 90% предсказаний были верны.\n",
    "- Мера F1 составила 0.516."
   ]
  },
  {
   "cell_type": "markdown",
   "metadata": {
    "pycharm": {
     "name": "#%% md\n"
    }
   },
   "source": [
    "### Логистическая регрессия"
   ]
  },
  {
   "cell_type": "markdown",
   "metadata": {
    "pycharm": {
     "name": "#%% md\n"
    }
   },
   "source": [
    "Посчитаем значение accuracy для модели логистической регрессии на валидационной выборке."
   ]
  },
  {
   "cell_type": "code",
   "execution_count": 452,
   "metadata": {
    "pycharm": {
     "name": "#%%\n"
    }
   },
   "outputs": [],
   "source": [
    "model = LogisticRegression(random_state=123456789, solver='liblinear')\n",
    "model.fit(train_features, train_target)\n",
    "predictions = model.predict(valid_features)"
   ]
  },
  {
   "cell_type": "markdown",
   "metadata": {
    "pycharm": {
     "name": "#%% md\n"
    }
   },
   "source": [
    "Посчитаем значение метрик accuracy, precision, recall и F1."
   ]
  },
  {
   "cell_type": "code",
   "execution_count": 453,
   "metadata": {
    "pycharm": {
     "name": "#%%\n"
    }
   },
   "outputs": [
    {
     "name": "stdout",
     "output_type": "stream",
     "text": [
      "Accuracy: 0.793\n",
      "Recall: 0.06619385342789598\n",
      "Precision: 0.5957446808510638\n",
      "F1: 0.11914893617021277\n"
     ]
    }
   ],
   "source": [
    "print(f'Accuracy: {accuracy_score(valid_target, predictions)}')\n",
    "print(f'Recall: {recall_score(valid_target, predictions)}')\n",
    "print(f'Precision: {precision_score(valid_target, predictions)}')\n",
    "print(f'F1: {f1_score(valid_target, predictions)}')"
   ]
  },
  {
   "cell_type": "markdown",
   "metadata": {
    "pycharm": {
     "name": "#%% md\n"
    }
   },
   "source": [
    "Значение recall получилось очень малым, то есть модель смогла обнаружить всего около 7% факта ухода клиентов из банков. \n",
    "\n",
    "Воспользуемся встроенной функцией `roc_curve` и построим график значений False Positive Rate и True Positive Rate для разного порога классификации нашей модели. Это покажет нам, меняется ли значение recall при разных порогах классификации.\n",
    "\n",
    "Также добавим на график прямую, отвечающую за кривую ROC для случайной модели."
   ]
  },
  {
   "cell_type": "code",
   "execution_count": 464,
   "metadata": {
    "pycharm": {
     "name": "#%%\n"
    }
   },
   "outputs": [
    {
     "data": {
      "image/png": "[encoded data removed]",
      "text/plain": [
       "<Figure size 432x288 with 1 Axes>"
      ]
     },
     "metadata": {
      "needs_background": "light"
     },
     "output_type": "display_data"
    }
   ],
   "source": [
    "fpr, tpr, thresholds = roc_curve(valid_target, model.predict_proba(valid_features)[:,1]) \n",
    "plt.step(fpr, tpr, label=\"Наша модель\")\n",
    "plt.plot([0, 1], [0, 1], label=\"Случайная модель\") \n",
    "plt.xlabel('False Positive Rate')\n",
    "plt.ylabel('True Positive Rate')\n",
    "plt.ylim([0.0, 1.05])\n",
    "plt.xlim([0.0, 1.0])\n",
    "plt.title('Кривая ROC')\n",
    "plt.legend()\n",
    "plt.show() "
   ]
  },
  {
   "cell_type": "markdown",
   "metadata": {
    "pycharm": {
     "name": "#%% md\n"
    }
   },
   "source": [
    "**Вывод:**\n",
    "- Accuracy составила 0.793.\n",
    "- Модель смогла выявить лишь 6.6% от всех фактов ухода клиентов из банка. Однако, если изменить порог классификации, то этот показатель можно значительно повысить. Однако, высокие значения этого параметра тоже плохи, так как модель может просто начать отвечать \"да\" во всех случаях.\n",
    "- Из тех предсказаний, которые модель отметила как положительные (человек ушел из банка), 60% предсказаний были верны.\n",
    "- Мера F1 составила 0.12."
   ]
  },
  {
   "cell_type": "markdown",
   "metadata": {
    "pycharm": {
     "name": "#%% md\n"
    }
   },
   "source": [
    "## Борьба с дисбалансом"
   ]
  },
  {
   "cell_type": "markdown",
   "metadata": {
    "pycharm": {
     "name": "#%% md\n"
    }
   },
   "source": [
    "Для борьбы с дисбалансом предлагается стандартизировать признаки `CreditScore`, `Age`, `Tenure`, `EstimatedSalary`, чтобы привести все данные к примерно одному масштабу. Для этого воспользуемся встроенной функцией `StandardScaler` из библиотеки `sklearn`."
   ]
  },
  {
   "cell_type": "code",
   "execution_count": 465,
   "metadata": {
    "pycharm": {
     "name": "#%%\n"
    }
   },
   "outputs": [
    {
     "data": {
      "text/html": [
       "<div>\n",
       "<style scoped>\n",
       "    .dataframe tbody tr th:only-of-type {\n",
       "        vertical-align: middle;\n",
       "    }\n",
       "\n",
       "    .dataframe tbody tr th {\n",
       "        vertical-align: top;\n",
       "    }\n",
       "\n",
       "    .dataframe thead th {\n",
       "        text-align: right;\n",
       "    }\n",
       "</style>\n",
       "<table border=\"1\" class=\"dataframe\">\n",
       "  <thead>\n",
       "    <tr style=\"text-align: right;\">\n",
       "      <th></th>\n",
       "      <th>CreditScore</th>\n",
       "      <th>Age</th>\n",
       "      <th>Tenure</th>\n",
       "      <th>Balance</th>\n",
       "      <th>NumOfProducts</th>\n",
       "      <th>HasCrCard</th>\n",
       "      <th>IsActiveMember</th>\n",
       "      <th>EstimatedSalary</th>\n",
       "      <th>Exited</th>\n",
       "      <th>Gender_Male</th>\n",
       "    </tr>\n",
       "    <tr>\n",
       "      <th>RowNumber</th>\n",
       "      <th></th>\n",
       "      <th></th>\n",
       "      <th></th>\n",
       "      <th></th>\n",
       "      <th></th>\n",
       "      <th></th>\n",
       "      <th></th>\n",
       "      <th></th>\n",
       "      <th></th>\n",
       "      <th></th>\n",
       "    </tr>\n",
       "  </thead>\n",
       "  <tbody>\n",
       "    <tr>\n",
       "      <td>1</td>\n",
       "      <td>-0.326221</td>\n",
       "      <td>0.293517</td>\n",
       "      <td>-0.817441</td>\n",
       "      <td>0.00</td>\n",
       "      <td>1</td>\n",
       "      <td>1</td>\n",
       "      <td>1</td>\n",
       "      <td>0.021886</td>\n",
       "      <td>1</td>\n",
       "      <td>0</td>\n",
       "    </tr>\n",
       "    <tr>\n",
       "      <td>2</td>\n",
       "      <td>-0.440036</td>\n",
       "      <td>0.198164</td>\n",
       "      <td>-1.138838</td>\n",
       "      <td>83807.86</td>\n",
       "      <td>1</td>\n",
       "      <td>0</td>\n",
       "      <td>1</td>\n",
       "      <td>0.216534</td>\n",
       "      <td>0</td>\n",
       "      <td>0</td>\n",
       "    </tr>\n",
       "    <tr>\n",
       "      <td>3</td>\n",
       "      <td>-1.536794</td>\n",
       "      <td>0.293517</td>\n",
       "      <td>1.110941</td>\n",
       "      <td>159660.80</td>\n",
       "      <td>3</td>\n",
       "      <td>1</td>\n",
       "      <td>0</td>\n",
       "      <td>0.240687</td>\n",
       "      <td>1</td>\n",
       "      <td>0</td>\n",
       "    </tr>\n",
       "    <tr>\n",
       "      <td>4</td>\n",
       "      <td>0.501521</td>\n",
       "      <td>0.007457</td>\n",
       "      <td>-1.138838</td>\n",
       "      <td>0.00</td>\n",
       "      <td>2</td>\n",
       "      <td>0</td>\n",
       "      <td>0</td>\n",
       "      <td>-0.108918</td>\n",
       "      <td>0</td>\n",
       "      <td>0</td>\n",
       "    </tr>\n",
       "    <tr>\n",
       "      <td>5</td>\n",
       "      <td>2.063884</td>\n",
       "      <td>0.388871</td>\n",
       "      <td>-0.817441</td>\n",
       "      <td>125510.82</td>\n",
       "      <td>1</td>\n",
       "      <td>1</td>\n",
       "      <td>1</td>\n",
       "      <td>-0.365276</td>\n",
       "      <td>0</td>\n",
       "      <td>0</td>\n",
       "    </tr>\n",
       "    <tr>\n",
       "      <td>...</td>\n",
       "      <td>...</td>\n",
       "      <td>...</td>\n",
       "      <td>...</td>\n",
       "      <td>...</td>\n",
       "      <td>...</td>\n",
       "      <td>...</td>\n",
       "      <td>...</td>\n",
       "      <td>...</td>\n",
       "      <td>...</td>\n",
       "      <td>...</td>\n",
       "    </tr>\n",
       "    <tr>\n",
       "      <td>9996</td>\n",
       "      <td>1.246488</td>\n",
       "      <td>0.007457</td>\n",
       "      <td>0.146750</td>\n",
       "      <td>0.00</td>\n",
       "      <td>2</td>\n",
       "      <td>1</td>\n",
       "      <td>0</td>\n",
       "      <td>-0.066419</td>\n",
       "      <td>0</td>\n",
       "      <td>1</td>\n",
       "    </tr>\n",
       "    <tr>\n",
       "      <td>9997</td>\n",
       "      <td>-1.391939</td>\n",
       "      <td>-0.373958</td>\n",
       "      <td>1.753735</td>\n",
       "      <td>57369.61</td>\n",
       "      <td>1</td>\n",
       "      <td>1</td>\n",
       "      <td>1</td>\n",
       "      <td>0.027988</td>\n",
       "      <td>0</td>\n",
       "      <td>1</td>\n",
       "    </tr>\n",
       "    <tr>\n",
       "      <td>9998</td>\n",
       "      <td>0.604988</td>\n",
       "      <td>-0.278604</td>\n",
       "      <td>0.789544</td>\n",
       "      <td>0.00</td>\n",
       "      <td>1</td>\n",
       "      <td>0</td>\n",
       "      <td>1</td>\n",
       "      <td>-1.008643</td>\n",
       "      <td>1</td>\n",
       "      <td>0</td>\n",
       "    </tr>\n",
       "    <tr>\n",
       "      <td>9999</td>\n",
       "      <td>1.256835</td>\n",
       "      <td>0.293517</td>\n",
       "      <td>-0.496044</td>\n",
       "      <td>75075.31</td>\n",
       "      <td>2</td>\n",
       "      <td>1</td>\n",
       "      <td>0</td>\n",
       "      <td>-0.125231</td>\n",
       "      <td>1</td>\n",
       "      <td>1</td>\n",
       "    </tr>\n",
       "    <tr>\n",
       "      <td>10000</td>\n",
       "      <td>1.463771</td>\n",
       "      <td>-1.041433</td>\n",
       "      <td>-1.460235</td>\n",
       "      <td>130142.79</td>\n",
       "      <td>1</td>\n",
       "      <td>1</td>\n",
       "      <td>0</td>\n",
       "      <td>-1.076370</td>\n",
       "      <td>0</td>\n",
       "      <td>0</td>\n",
       "    </tr>\n",
       "  </tbody>\n",
       "</table>\n",
       "<p>10000 rows × 10 columns</p>\n",
       "</div>"
      ],
      "text/plain": [
       "           CreditScore       Age    Tenure    Balance  NumOfProducts  \\\n",
       "RowNumber                                                              \n",
       "1            -0.326221  0.293517 -0.817441       0.00              1   \n",
       "2            -0.440036  0.198164 -1.138838   83807.86              1   \n",
       "3            -1.536794  0.293517  1.110941  159660.80              3   \n",
       "4             0.501521  0.007457 -1.138838       0.00              2   \n",
       "5             2.063884  0.388871 -0.817441  125510.82              1   \n",
       "...                ...       ...       ...        ...            ...   \n",
       "9996          1.246488  0.007457  0.146750       0.00              2   \n",
       "9997         -1.391939 -0.373958  1.753735   57369.61              1   \n",
       "9998          0.604988 -0.278604  0.789544       0.00              1   \n",
       "9999          1.256835  0.293517 -0.496044   75075.31              2   \n",
       "10000         1.463771 -1.041433 -1.460235  130142.79              1   \n",
       "\n",
       "           HasCrCard  IsActiveMember  EstimatedSalary  Exited  Gender_Male  \n",
       "RowNumber                                                                   \n",
       "1                  1               1         0.021886       1            0  \n",
       "2                  0               1         0.216534       0            0  \n",
       "3                  1               0         0.240687       1            0  \n",
       "4                  0               0        -0.108918       0            0  \n",
       "5                  1               1        -0.365276       0            0  \n",
       "...              ...             ...              ...     ...          ...  \n",
       "9996               1               0        -0.066419       0            1  \n",
       "9997               1               1         0.027988       0            1  \n",
       "9998               0               1        -1.008643       1            0  \n",
       "9999               1               0        -0.125231       1            1  \n",
       "10000              1               0        -1.076370       0            0  \n",
       "\n",
       "[10000 rows x 10 columns]"
      ]
     },
     "execution_count": 465,
     "metadata": {},
     "output_type": "execute_result"
    }
   ],
   "source": [
    "scaler = StandardScaler()\n",
    "columns_to_scale = ['CreditScore', 'Age', 'Tenure', 'EstimatedSalary']\n",
    "scaler.fit(df_model[columns_to_scale]) \n",
    "df_model[columns_to_scale] = scaler.transform(df_model[columns_to_scale])\n",
    "df_model"
   ]
  },
  {
   "cell_type": "markdown",
   "metadata": {
    "pycharm": {
     "name": "#%% md\n"
    }
   },
   "source": [
    "### Проверка оптимальной модели"
   ]
  },
  {
   "cell_type": "markdown",
   "metadata": {
    "pycharm": {
     "name": "#%% md\n"
    }
   },
   "source": [
    "Для оптимизации будем использовать модель случайного леса с оптимальными параметрами из прошлого пункта. Но в этом случае сбалансируем вес каждой переменной, используя параметр `class_weight`. Затем посчитаем все метрики еще раз."
   ]
  },
  {
   "cell_type": "code",
   "execution_count": 526,
   "metadata": {
    "pycharm": {
     "name": "#%%\n"
    }
   },
   "outputs": [],
   "source": [
    "model = RandomForestClassifier(random_state=123456789, \n",
    "                               n_estimators=80, \n",
    "                               max_depth=5, \n",
    "                               class_weight='balanced')\n",
    "model.fit(train_features, train_target)\n",
    "predictions = model.predict(valid_features)\n",
    "accuracy.append(accuracy_score(valid_target, predictions))"
   ]
  },
  {
   "cell_type": "code",
   "execution_count": 527,
   "metadata": {
    "pycharm": {
     "name": "#%%\n"
    }
   },
   "outputs": [
    {
     "name": "stdout",
     "output_type": "stream",
     "text": [
      "Accuracy: 0.7985\n",
      "Recall: 0.6855791962174941\n",
      "Precision: 0.5178571428571429\n",
      "F1: 0.5900305188199391\n"
     ]
    }
   ],
   "source": [
    "print(f'Accuracy: {accuracy_score(valid_target, predictions)}')\n",
    "print(f'Recall: {recall_score(valid_target, predictions)}')\n",
    "print(f'Precision: {precision_score(valid_target, predictions)}')\n",
    "print(f'F1: {f1_score(valid_target, predictions)}')"
   ]
  },
  {
   "cell_type": "markdown",
   "metadata": {
    "pycharm": {
     "name": "#%% md\n"
    }
   },
   "source": [
    "Видно, что по сравнению с несбалансированной моделью:\n",
    "- Accuracy уменьшилась (0.8565 -> 0.7985)\n",
    "- Recall увеличился почти в 2 раза (0.3617 -> 0.6856)\n",
    "- Значение precision также уменьшилось (0.9 -> 0.5179)\n",
    "- Мера F1 увеличилась (0.516 -> 0.59)"
   ]
  },
  {
   "cell_type": "markdown",
   "metadata": {
    "pycharm": {
     "name": "#%% md\n"
    }
   },
   "source": [
    "### ROC кривая"
   ]
  },
  {
   "cell_type": "markdown",
   "metadata": {
    "pycharm": {
     "name": "#%% md\n"
    }
   },
   "source": [
    "Теперь воспользуемся встроенной функцией `roc_curve` и построим график значений False Positive Rate и True Positive Rate для разного порога классификации. Также добавим на график прямую, отвечающую за кривую ROC для случайной модели."
   ]
  },
  {
   "cell_type": "code",
   "execution_count": 528,
   "metadata": {
    "pycharm": {
     "name": "#%%\n"
    }
   },
   "outputs": [
    {
     "data": {
      "image/png": "[encoded data removed]",
      "text/plain": [
       "<Figure size 432x288 with 1 Axes>"
      ]
     },
     "metadata": {
      "needs_background": "light"
     },
     "output_type": "display_data"
    }
   ],
   "source": [
    "fpr, tpr, thresholds = roc_curve(valid_target, model.predict_proba(valid_features)[:,1]) \n",
    "plt.step(fpr, tpr, label=\"Наша модель\")\n",
    "plt.plot([0, 1], [0, 1], label=\"Случайная модель\") \n",
    "plt.xlabel('False Positive Rate')\n",
    "plt.ylabel('True Positive Rate')\n",
    "plt.ylim([0.0, 1.05])\n",
    "plt.xlim([0.0, 1.0])\n",
    "plt.title('Кривая ROC')\n",
    "plt.legend()\n",
    "plt.show() "
   ]
  },
  {
   "cell_type": "markdown",
   "metadata": {
    "pycharm": {
     "name": "#%% md\n"
    }
   },
   "source": [
    "Видно, что в нашем случае модель дает предсказания лучше, чем случайная модель."
   ]
  },
  {
   "cell_type": "markdown",
   "metadata": {
    "pycharm": {
     "name": "#%% md\n"
    }
   },
   "source": [
    "## Тестирование модели"
   ]
  },
  {
   "cell_type": "markdown",
   "metadata": {
    "pycharm": {
     "name": "#%% md\n"
    }
   },
   "source": [
    "Протестируем модель на тестовых данных и посчитаем все метрики."
   ]
  },
  {
   "cell_type": "code",
   "execution_count": 529,
   "metadata": {
    "pycharm": {
     "name": "#%%\n"
    }
   },
   "outputs": [
    {
     "name": "stdout",
     "output_type": "stream",
     "text": [
      "Accuracy: 0.7835\n",
      "Recall: 0.7016706443914081\n",
      "Precision: 0.4883720930232558\n",
      "F1: 0.5759059745347698\n"
     ]
    }
   ],
   "source": [
    "predictions = model.predict(test_features)\n",
    "print(f'Accuracy: {accuracy_score(test_target, predictions)}')\n",
    "print(f'Recall: {recall_score(test_target, predictions)}')\n",
    "print(f'Precision: {precision_score(test_target, predictions)}')\n",
    "print(f'F1: {f1_score(test_target, predictions)}')"
   ]
  },
  {
   "cell_type": "markdown",
   "metadata": {
    "pycharm": {
     "name": "#%% md\n"
    }
   },
   "source": [
    "Согласно условиям проекта, необходимо довести F1 до 0.59 на тестовых данных. Поэтому, модель необходимо оптимизировать. Попробуем поменять глубину леса и посмотрим, при какой глубине и количестве деревьев в лесу достигается максимальная метрика F1 на валидационной выборке.\n"
   ]
  },
  {
   "cell_type": "code",
   "execution_count": 562,
   "metadata": {
    "pycharm": {
     "name": "#%%\n"
    }
   },
   "outputs": [],
   "source": [
    "best_model = None\n",
    "best_result = 0\n",
    "for depth in range(1, 11):\n",
    "    for estimators in range(10, 101, 10):\n",
    "        model = RandomForestClassifier(random_state=123456789, n_estimators=estimators, max_depth=depth)\n",
    "        model.fit(train_features, train_target)\n",
    "        predictions = model.predict(valid_features)\n",
    "        results = accuracy_score(valid_target, predictions)\n",
    "        if results > best_result:\n",
    "            best_model = model\n",
    "            best_result = results"
   ]
  },
  {
   "cell_type": "code",
   "execution_count": 563,
   "metadata": {
    "pycharm": {
     "name": "#%%\n"
    }
   },
   "outputs": [
    {
     "name": "stdout",
     "output_type": "stream",
     "text": [
      "Наибольшее значение метрики accuracy в 0.862 в модели случайного леса достигается при глубине леса \n",
      "6 и количесте деревьев 30\n"
     ]
    }
   ],
   "source": [
    "print(f'''Наибольшее значение метрики accuracy в {best_result} в модели случайного леса достигается при глубине леса \n",
    "{best_model.max_depth} и количесте деревьев {best_model.n_estimators}''')"
   ]
  },
  {
   "cell_type": "markdown",
   "metadata": {
    "pycharm": {
     "name": "#%% md\n"
    }
   },
   "source": [
    "Посчитаем F1 на тестовой выборке еще раз, используя другие параметры."
   ]
  },
  {
   "cell_type": "code",
   "execution_count": 564,
   "metadata": {
    "pycharm": {
     "name": "#%%\n"
    }
   },
   "outputs": [
    {
     "name": "stdout",
     "output_type": "stream",
     "text": [
      "Accuracy: 0.85\n",
      "Recall: 0.3794749403341289\n",
      "Precision: 0.7989949748743719\n",
      "F1: 0.5145631067961165\n"
     ]
    }
   ],
   "source": [
    "model = RandomForestClassifier(random_state=123456789, n_estimators=30, max_depth=6)\n",
    "model.fit(train_features, train_target)\n",
    "predictions = model.predict(test_features)\n",
    "print(f'Accuracy: {accuracy_score(test_target, predictions)}')\n",
    "print(f'Recall: {recall_score(test_target, predictions)}')\n",
    "print(f'Precision: {precision_score(test_target, predictions)}')\n",
    "print(f'F1: {f1_score(test_target, predictions)}')"
   ]
  },
  {
   "cell_type": "markdown",
   "metadata": {
    "pycharm": {
     "name": "#%% md\n"
    }
   },
   "source": [
    "Вторым вариантом улучшения предсказаний модели может быть изменение порога классификации предсказания, как положительного. Воспользуемся встроенной функцией `predict_proba` в библиотеке `sklearn`, которая рассчитывает вероятности положительного и негативного предсказаний. Будем считать показатель F1 для каждого порога классификации, и затем построим соответствующий график."
   ]
  },
  {
   "cell_type": "code",
   "execution_count": 565,
   "metadata": {
    "pycharm": {
     "name": "#%%\n"
    }
   },
   "outputs": [
    {
     "name": "stderr",
     "output_type": "stream",
     "text": [
      "/opt/conda/lib/python3.7/site-packages/sklearn/metrics/classification.py:1437: UndefinedMetricWarning: F-score is ill-defined and being set to 0.0 due to no predicted samples.\n",
      "  'precision', 'predicted', average, warn_for)\n"
     ]
    }
   ],
   "source": [
    "probabilities_one_valid = model.predict_proba(valid_features)[:,1]\n",
    "threshold_list = list(np.arange(0, 1, 0.02))\n",
    "f1 = []\n",
    "for threshold in np.arange(0, 1, 0.02):\n",
    "    predicted_valid = probabilities_one_valid > threshold\n",
    "    f1.append(f1_score(valid_target, predicted_valid))"
   ]
  },
  {
   "cell_type": "code",
   "execution_count": 566,
   "metadata": {
    "pycharm": {
     "name": "#%%\n"
    }
   },
   "outputs": [
    {
     "data": {
      "image/png": "[encoded data removed]",
      "text/plain": [
       "<Figure size 432x288 with 1 Axes>"
      ]
     },
     "metadata": {
      "needs_background": "light"
     },
     "output_type": "display_data"
    }
   ],
   "source": [
    "plt.step(threshold_list, f1)\n",
    "plt.xlabel('Порог классификации')\n",
    "plt.ylabel('Мера F1')\n",
    "plt.xlim([0.0, 1.0])\n",
    "plt.title('Зависимость F1 от порога классификации')\n",
    "plt.show() "
   ]
  },
  {
   "cell_type": "markdown",
   "metadata": {
    "pycharm": {
     "name": "#%% md\n"
    }
   },
   "source": [
    "Видно, что максимальная мера F1 достигается на валидационной выборке при пороге классификации 0.3. Посчитаем метрику F1 для тестовых данных еще раз, установив другой порог классификации."
   ]
  },
  {
   "cell_type": "code",
   "execution_count": 569,
   "metadata": {
    "pycharm": {
     "name": "#%%\n"
    }
   },
   "outputs": [
    {
     "data": {
      "text/plain": [
       "0.5979142526071842"
      ]
     },
     "execution_count": 569,
     "metadata": {},
     "output_type": "execute_result"
    }
   ],
   "source": [
    "probabilities_one_valid = model.predict_proba(test_features)[:,1]\n",
    "threshold = 0.30\n",
    "predicted_test = probabilities_one_valid > threshold\n",
    "f1_score(test_target, predicted_test)"
   ]
  },
  {
   "cell_type": "markdown",
   "metadata": {
    "pycharm": {
     "name": "#%% md\n"
    }
   },
   "source": [
    "**Вывод:**\n",
    "Для того, чтобы достичь значения метрики F1 больше 0.59, необходимо использовать значение порога классификации равное 0.3."
   ]
  },
  {
   "cell_type": "markdown",
   "metadata": {
    "pycharm": {
     "name": "#%% md\n"
    }
   },
   "source": [
    "##  Общий вывод "
   ]
  },
  {
   "cell_type": "markdown",
   "source": [
    "В данном проекте была разработана модель, которая делает предсказания о том, уйдет ли клиент из банка \"Бета-банк\" на основе исторических данных об уходе клиентов из банков.\n",
    "\n",
    "1. Было проведено изучение данных, с которыми мы впоследствии работали.\n",
    "2. Была проведена обработка данных:\n",
    "    - Заполнены отсутствующие значения\n",
    "    - Удалены столбцы, которые не должны влиять на работу модели\n",
    "    - Некоторые переменные переведены в числовые категориальные\n",
    "    - Исходные данные были разделены на три выборки: обучающую, валидационную и тестовую в соотношении 3:1:1.\n",
    "3. Были исследованы три модели без учета баланса классов (`DecisionTreeClassifier`, `RandomForestClassifier` и `LogisticRegression`). Рассчитаны метрики классификации моделей и определены оптимальные параметры на валидационной выборке.\n",
    "4. Оптимальная модель `RandomForestClassifier` с количеством деревьев в лесу `n_estimators` 80 и глубиной леса `max_Depth` 5 была исследована с учетом баланса классов. Рассчитаны изменения метрик на валидационной выборке:\n",
    "    - Accuracy уменьшилась (0.8565 -> 0.7985)\n",
    "    - Recall увеличился почти в 2 раза (0.3617 -> 0.6856)\n",
    "    - Значение precision также уменьшилось (0.9 -> 0.5179)\n",
    "    - Мера F1 увеличилась (0.516 -> 0.59)\n",
    "5. Была построена ROC кривая, которая показала, что наша модель работает лучше случайной модели.\n",
    "6. Однако, на тестовых данных не удалось достичь необходимой метрики F1 = 0.59. Поэтому изменялся порог классификации на валидационной выборке и рассчитывались соответствующие значения метрики F1 на тестовой выборке. Определенный порог классификации для получения необходимого значения метрики F1 составил 0.3."
   ],
   "metadata": {
    "collapsed": false,
    "pycharm": {
     "name": "#%% md\n"
    }
   }
  },
  {
   "cell_type": "code",
   "execution_count": null,
   "outputs": [],
   "source": [],
   "metadata": {
    "collapsed": false,
    "pycharm": {
     "name": "#%%\n"
    }
   }
  }
 ],
 "metadata": {
  "ExecuteTimeLog": [
   {
    "duration": 1412,
    "start_time": "2022-02-04T15:39:42.900Z"
   },
   {
    "duration": 58,
    "start_time": "2022-02-04T15:40:31.582Z"
   },
   {
    "duration": 21,
    "start_time": "2022-02-04T15:43:16.359Z"
   },
   {
    "duration": 64,
    "start_time": "2022-02-04T15:43:22.419Z"
   },
   {
    "duration": 28,
    "start_time": "2022-02-04T15:44:13.066Z"
   },
   {
    "duration": 10,
    "start_time": "2022-02-04T15:44:18.643Z"
   },
   {
    "duration": 814,
    "start_time": "2022-02-04T15:44:45.090Z"
   },
   {
    "duration": 8,
    "start_time": "2022-02-04T15:44:49.674Z"
   },
   {
    "duration": 34,
    "start_time": "2022-02-04T15:44:54.339Z"
   },
   {
    "duration": 19,
    "start_time": "2022-02-04T15:45:40.795Z"
   },
   {
    "duration": 286,
    "start_time": "2022-02-04T15:45:46.020Z"
   },
   {
    "duration": 19,
    "start_time": "2022-02-04T15:45:47.820Z"
   },
   {
    "duration": 17,
    "start_time": "2022-02-04T15:45:52.172Z"
   },
   {
    "duration": 62,
    "start_time": "2022-02-04T15:46:24.860Z"
   },
   {
    "duration": 11,
    "start_time": "2022-02-04T15:46:33.892Z"
   },
   {
    "duration": 49,
    "start_time": "2022-02-04T15:48:45.734Z"
   },
   {
    "duration": 9,
    "start_time": "2022-02-04T15:49:07.333Z"
   },
   {
    "duration": 5,
    "start_time": "2022-02-04T15:49:11.709Z"
   },
   {
    "duration": 6,
    "start_time": "2022-02-04T15:49:14.397Z"
   },
   {
    "duration": 50,
    "start_time": "2022-02-04T15:50:18.590Z"
   },
   {
    "duration": 36,
    "start_time": "2022-02-04T15:50:21.693Z"
   },
   {
    "duration": 13,
    "start_time": "2022-02-04T15:50:42.773Z"
   },
   {
    "duration": 34,
    "start_time": "2022-02-04T15:52:14.047Z"
   },
   {
    "duration": 8,
    "start_time": "2022-02-04T15:55:09.518Z"
   },
   {
    "duration": 5,
    "start_time": "2022-02-04T15:55:14.025Z"
   },
   {
    "duration": 7,
    "start_time": "2022-02-04T15:55:16.230Z"
   },
   {
    "duration": 5,
    "start_time": "2022-02-04T15:55:24.585Z"
   },
   {
    "duration": 52,
    "start_time": "2022-02-04T15:55:24.592Z"
   },
   {
    "duration": 25,
    "start_time": "2022-02-04T15:55:24.647Z"
   },
   {
    "duration": 11,
    "start_time": "2022-02-04T15:55:24.675Z"
   },
   {
    "duration": 9,
    "start_time": "2022-02-04T15:55:25.806Z"
   },
   {
    "duration": 51,
    "start_time": "2022-02-04T15:55:28.183Z"
   },
   {
    "duration": 10,
    "start_time": "2022-02-04T15:55:31.952Z"
   },
   {
    "duration": 5,
    "start_time": "2022-02-04T15:55:37.287Z"
   },
   {
    "duration": 13,
    "start_time": "2022-02-04T15:55:37.631Z"
   },
   {
    "duration": 12,
    "start_time": "2022-02-04T15:55:48.015Z"
   },
   {
    "duration": 31194,
    "start_time": "2022-02-04T16:11:47.980Z"
   },
   {
    "duration": 31359,
    "start_time": "2022-02-04T16:13:31.932Z"
   },
   {
    "duration": 111,
    "start_time": "2022-02-05T06:57:38.699Z"
   },
   {
    "duration": 11,
    "start_time": "2022-02-05T07:03:47.167Z"
   },
   {
    "duration": 9,
    "start_time": "2022-02-05T07:03:59.263Z"
   },
   {
    "duration": 95,
    "start_time": "2022-02-05T07:06:50.175Z"
   },
   {
    "duration": 5,
    "start_time": "2022-02-05T07:07:19.888Z"
   },
   {
    "duration": 4,
    "start_time": "2022-02-05T07:07:28.112Z"
   },
   {
    "duration": 9,
    "start_time": "2022-02-05T07:07:48.988Z"
   },
   {
    "duration": 5,
    "start_time": "2022-02-05T07:08:31.976Z"
   },
   {
    "duration": 5,
    "start_time": "2022-02-05T07:08:52.181Z"
   },
   {
    "duration": 5,
    "start_time": "2022-02-05T07:08:55.782Z"
   },
   {
    "duration": 5,
    "start_time": "2022-02-05T07:09:06.629Z"
   },
   {
    "duration": 5,
    "start_time": "2022-02-05T07:09:37.469Z"
   },
   {
    "duration": 6,
    "start_time": "2022-02-05T07:09:54.738Z"
   },
   {
    "duration": 5,
    "start_time": "2022-02-05T07:10:06.139Z"
   },
   {
    "duration": 5,
    "start_time": "2022-02-05T07:10:16.462Z"
   },
   {
    "duration": 7,
    "start_time": "2022-02-05T07:15:18.947Z"
   },
   {
    "duration": 13,
    "start_time": "2022-02-05T07:15:23.977Z"
   },
   {
    "duration": 5,
    "start_time": "2022-02-05T07:16:06.703Z"
   },
   {
    "duration": 9,
    "start_time": "2022-02-05T07:17:01.493Z"
   },
   {
    "duration": 9,
    "start_time": "2022-02-05T07:17:10.615Z"
   },
   {
    "duration": 10,
    "start_time": "2022-02-05T07:17:13.615Z"
   },
   {
    "duration": 5,
    "start_time": "2022-02-05T08:14:34.316Z"
   },
   {
    "duration": 52,
    "start_time": "2022-02-05T08:14:34.323Z"
   },
   {
    "duration": 23,
    "start_time": "2022-02-05T08:14:34.378Z"
   },
   {
    "duration": 11,
    "start_time": "2022-02-05T08:14:34.404Z"
   },
   {
    "duration": 5,
    "start_time": "2022-02-05T08:14:34.417Z"
   },
   {
    "duration": 47,
    "start_time": "2022-02-05T08:14:34.424Z"
   },
   {
    "duration": 9,
    "start_time": "2022-02-05T08:14:34.474Z"
   },
   {
    "duration": 7,
    "start_time": "2022-02-05T08:14:34.486Z"
   },
   {
    "duration": 4,
    "start_time": "2022-02-05T08:14:34.496Z"
   },
   {
    "duration": 9,
    "start_time": "2022-02-05T08:14:34.502Z"
   },
   {
    "duration": 58,
    "start_time": "2022-02-05T08:14:34.514Z"
   },
   {
    "duration": 10,
    "start_time": "2022-02-05T08:14:34.574Z"
   },
   {
    "duration": 258,
    "start_time": "2022-02-05T08:14:36.272Z"
   },
   {
    "duration": 257,
    "start_time": "2022-02-05T08:15:33.607Z"
   },
   {
    "duration": 261,
    "start_time": "2022-02-05T08:16:41.084Z"
   },
   {
    "duration": 6,
    "start_time": "2022-02-05T08:17:07.699Z"
   },
   {
    "duration": 31,
    "start_time": "2022-02-05T08:17:31.452Z"
   },
   {
    "duration": 312,
    "start_time": "2022-02-05T08:17:41.958Z"
   },
   {
    "duration": 30,
    "start_time": "2022-02-05T08:18:06.012Z"
   },
   {
    "duration": 18,
    "start_time": "2022-02-05T08:18:24.401Z"
   },
   {
    "duration": 8,
    "start_time": "2022-02-05T08:19:34.668Z"
   },
   {
    "duration": 6,
    "start_time": "2022-02-05T08:19:38.335Z"
   },
   {
    "duration": 30,
    "start_time": "2022-02-05T08:19:45.369Z"
   },
   {
    "duration": 3,
    "start_time": "2022-02-05T08:22:27.347Z"
   },
   {
    "duration": 263,
    "start_time": "2022-02-05T08:22:45.123Z"
   },
   {
    "duration": 17,
    "start_time": "2022-02-05T08:22:47.731Z"
   },
   {
    "duration": 45,
    "start_time": "2022-02-05T08:23:23.646Z"
   },
   {
    "duration": 28,
    "start_time": "2022-02-05T08:23:25.948Z"
   },
   {
    "duration": 34,
    "start_time": "2022-02-05T08:23:45.121Z"
   },
   {
    "duration": 312,
    "start_time": "2022-02-05T08:27:41.530Z"
   },
   {
    "duration": 6,
    "start_time": "2022-02-05T08:27:46.706Z"
   },
   {
    "duration": 5,
    "start_time": "2022-02-05T08:27:50.422Z"
   },
   {
    "duration": 62,
    "start_time": "2022-02-05T08:27:50.429Z"
   },
   {
    "duration": 25,
    "start_time": "2022-02-05T08:27:50.493Z"
   },
   {
    "duration": 12,
    "start_time": "2022-02-05T08:27:50.521Z"
   },
   {
    "duration": 33,
    "start_time": "2022-02-05T08:27:50.536Z"
   },
   {
    "duration": 17,
    "start_time": "2022-02-05T08:27:50.572Z"
   },
   {
    "duration": 5,
    "start_time": "2022-02-05T08:27:53.317Z"
   },
   {
    "duration": 255,
    "start_time": "2022-02-05T08:27:57.041Z"
   },
   {
    "duration": 32,
    "start_time": "2022-02-05T08:27:58.975Z"
   },
   {
    "duration": 6,
    "start_time": "2022-02-05T08:28:25.575Z"
   },
   {
    "duration": 6,
    "start_time": "2022-02-05T08:28:32.058Z"
   },
   {
    "duration": 27,
    "start_time": "2022-02-05T08:28:42.430Z"
   },
   {
    "duration": 15,
    "start_time": "2022-02-05T08:29:50.615Z"
   },
   {
    "duration": 271,
    "start_time": "2022-02-05T08:29:56.088Z"
   },
   {
    "duration": 15,
    "start_time": "2022-02-05T08:30:00.909Z"
   },
   {
    "duration": 297,
    "start_time": "2022-02-05T08:30:04.028Z"
   },
   {
    "duration": 7,
    "start_time": "2022-02-05T08:30:10.550Z"
   },
   {
    "duration": 6,
    "start_time": "2022-02-05T08:30:18.691Z"
   },
   {
    "duration": 4,
    "start_time": "2022-02-05T08:32:19.613Z"
   },
   {
    "duration": 47,
    "start_time": "2022-02-05T08:32:56.036Z"
   },
   {
    "duration": 28,
    "start_time": "2022-02-05T08:32:59.986Z"
   },
   {
    "duration": 33,
    "start_time": "2022-02-05T08:33:14.075Z"
   },
   {
    "duration": 30,
    "start_time": "2022-02-05T08:33:14.663Z"
   },
   {
    "duration": 28,
    "start_time": "2022-02-05T08:33:23.917Z"
   },
   {
    "duration": 34,
    "start_time": "2022-02-05T08:33:42.798Z"
   },
   {
    "duration": 47,
    "start_time": "2022-02-05T08:33:43.406Z"
   },
   {
    "duration": 25,
    "start_time": "2022-02-05T08:33:47.101Z"
   },
   {
    "duration": 34,
    "start_time": "2022-02-05T08:34:19.353Z"
   },
   {
    "duration": 28,
    "start_time": "2022-02-05T08:34:20.793Z"
   },
   {
    "duration": 25,
    "start_time": "2022-02-05T08:34:28.477Z"
   },
   {
    "duration": 6,
    "start_time": "2022-02-05T08:37:35.520Z"
   },
   {
    "duration": 29,
    "start_time": "2022-02-05T08:37:38.005Z"
   },
   {
    "duration": 13,
    "start_time": "2022-02-05T08:38:35.211Z"
   },
   {
    "duration": 26,
    "start_time": "2022-02-05T08:38:47.235Z"
   },
   {
    "duration": 7,
    "start_time": "2022-02-05T08:39:00.758Z"
   },
   {
    "duration": 25,
    "start_time": "2022-02-05T08:39:02.450Z"
   },
   {
    "duration": 80,
    "start_time": "2022-02-05T08:39:53.965Z"
   },
   {
    "duration": 256,
    "start_time": "2022-02-05T08:39:57.757Z"
   },
   {
    "duration": 257,
    "start_time": "2022-02-05T08:40:10.908Z"
   },
   {
    "duration": 4,
    "start_time": "2022-02-05T08:40:15.838Z"
   },
   {
    "duration": 50,
    "start_time": "2022-02-05T08:40:15.845Z"
   },
   {
    "duration": 22,
    "start_time": "2022-02-05T08:40:15.898Z"
   },
   {
    "duration": 12,
    "start_time": "2022-02-05T08:40:15.923Z"
   },
   {
    "duration": 35,
    "start_time": "2022-02-05T08:40:15.937Z"
   },
   {
    "duration": 14,
    "start_time": "2022-02-05T08:40:15.975Z"
   },
   {
    "duration": 6,
    "start_time": "2022-02-05T08:40:15.991Z"
   },
   {
    "duration": 80,
    "start_time": "2022-02-05T08:40:16.001Z"
   },
   {
    "duration": 254,
    "start_time": "2022-02-05T08:40:17.349Z"
   },
   {
    "duration": 32,
    "start_time": "2022-02-05T08:41:13.417Z"
   },
   {
    "duration": 38,
    "start_time": "2022-02-05T08:41:23.216Z"
   },
   {
    "duration": 11,
    "start_time": "2022-02-05T08:41:29.612Z"
   },
   {
    "duration": 27,
    "start_time": "2022-02-05T08:41:36.974Z"
   },
   {
    "duration": 11,
    "start_time": "2022-02-05T08:42:33.241Z"
   },
   {
    "duration": 8,
    "start_time": "2022-02-05T08:42:35.313Z"
   },
   {
    "duration": 5,
    "start_time": "2022-02-05T08:42:36.025Z"
   },
   {
    "duration": 9,
    "start_time": "2022-02-05T08:42:36.909Z"
   },
   {
    "duration": 5,
    "start_time": "2022-02-05T08:42:37.893Z"
   },
   {
    "duration": 10,
    "start_time": "2022-02-05T08:42:48.450Z"
   },
   {
    "duration": 8,
    "start_time": "2022-02-05T08:42:49.148Z"
   },
   {
    "duration": 5,
    "start_time": "2022-02-05T08:42:50.457Z"
   },
   {
    "duration": 10,
    "start_time": "2022-02-05T08:42:51.700Z"
   },
   {
    "duration": 4,
    "start_time": "2022-02-05T08:42:55.371Z"
   },
   {
    "duration": 280,
    "start_time": "2022-02-05T08:46:49.773Z"
   },
   {
    "duration": 25,
    "start_time": "2022-02-05T08:46:50.112Z"
   },
   {
    "duration": 8,
    "start_time": "2022-02-05T08:46:50.795Z"
   },
   {
    "duration": 7,
    "start_time": "2022-02-05T08:46:51.153Z"
   },
   {
    "duration": 4,
    "start_time": "2022-02-05T08:46:51.654Z"
   },
   {
    "duration": 8,
    "start_time": "2022-02-05T08:46:52.386Z"
   },
   {
    "duration": 4,
    "start_time": "2022-02-05T08:46:53.364Z"
   },
   {
    "duration": 9,
    "start_time": "2022-02-05T08:46:58.386Z"
   },
   {
    "duration": 70,
    "start_time": "2022-02-05T08:47:03.597Z"
   },
   {
    "duration": 204,
    "start_time": "2022-02-05T08:47:33.242Z"
   },
   {
    "duration": 51153,
    "start_time": "2022-02-05T08:49:55.055Z"
   },
   {
    "duration": 36682,
    "start_time": "2022-02-05T08:51:19.244Z"
   },
   {
    "duration": 5,
    "start_time": "2022-02-05T08:52:56.376Z"
   },
   {
    "duration": 37709,
    "start_time": "2022-02-05T08:55:24.511Z"
   },
   {
    "duration": 4,
    "start_time": "2022-02-05T08:56:07.827Z"
   },
   {
    "duration": 50,
    "start_time": "2022-02-05T08:59:39.828Z"
   },
   {
    "duration": 77,
    "start_time": "2022-02-05T09:01:17.993Z"
   },
   {
    "duration": 225,
    "start_time": "2022-02-05T09:03:59.348Z"
   },
   {
    "duration": 581,
    "start_time": "2022-02-05T09:04:12.967Z"
   },
   {
    "duration": 5,
    "start_time": "2022-02-05T09:04:22.129Z"
   },
   {
    "duration": 248,
    "start_time": "2022-02-05T09:04:33.864Z"
   },
   {
    "duration": 199,
    "start_time": "2022-02-05T09:04:37.634Z"
   },
   {
    "duration": 6,
    "start_time": "2022-02-05T09:04:38.500Z"
   },
   {
    "duration": 246,
    "start_time": "2022-02-05T09:04:45.743Z"
   },
   {
    "duration": 515,
    "start_time": "2022-02-05T09:05:05.928Z"
   },
   {
    "duration": 536,
    "start_time": "2022-02-05T09:05:08.322Z"
   },
   {
    "duration": 524,
    "start_time": "2022-02-05T09:05:11.399Z"
   },
   {
    "duration": 510,
    "start_time": "2022-02-05T09:05:17.788Z"
   },
   {
    "duration": 4,
    "start_time": "2022-02-05T09:06:20.652Z"
   },
   {
    "duration": 307,
    "start_time": "2022-02-05T09:06:30.496Z"
   },
   {
    "duration": 5,
    "start_time": "2022-02-05T09:06:46.854Z"
   },
   {
    "duration": 7,
    "start_time": "2022-02-05T09:06:51.737Z"
   },
   {
    "duration": 10,
    "start_time": "2022-02-05T09:06:59.248Z"
   },
   {
    "duration": 10,
    "start_time": "2022-02-05T09:07:00.777Z"
   },
   {
    "duration": 10,
    "start_time": "2022-02-05T09:07:26.816Z"
   },
   {
    "duration": 283,
    "start_time": "2022-02-05T09:07:34.199Z"
   },
   {
    "duration": 268,
    "start_time": "2022-02-05T09:07:48.387Z"
   },
   {
    "duration": 89,
    "start_time": "2022-02-05T09:08:03.930Z"
   },
   {
    "duration": 95,
    "start_time": "2022-02-05T09:08:09.017Z"
   },
   {
    "duration": 84,
    "start_time": "2022-02-05T09:08:11.235Z"
   },
   {
    "duration": 325,
    "start_time": "2022-02-05T09:08:14.665Z"
   },
   {
    "duration": 347,
    "start_time": "2022-02-05T09:08:27.628Z"
   },
   {
    "duration": 219,
    "start_time": "2022-02-05T09:08:36.376Z"
   },
   {
    "duration": 267,
    "start_time": "2022-02-05T09:08:37.265Z"
   },
   {
    "duration": 10,
    "start_time": "2022-02-05T09:08:46.465Z"
   },
   {
    "duration": 332,
    "start_time": "2022-02-05T09:08:50.767Z"
   },
   {
    "duration": 259,
    "start_time": "2022-02-05T09:09:10.485Z"
   },
   {
    "duration": 274,
    "start_time": "2022-02-05T09:09:33.066Z"
   },
   {
    "duration": 274,
    "start_time": "2022-02-05T09:09:42.745Z"
   },
   {
    "duration": 8,
    "start_time": "2022-02-05T09:10:52.932Z"
   },
   {
    "duration": 32,
    "start_time": "2022-02-05T09:12:43.677Z"
   },
   {
    "duration": 6,
    "start_time": "2022-02-05T09:14:19.276Z"
   },
   {
    "duration": 32,
    "start_time": "2022-02-05T09:15:39.339Z"
   },
   {
    "duration": 31,
    "start_time": "2022-02-05T09:17:17.759Z"
   },
   {
    "duration": 328,
    "start_time": "2022-02-05T09:27:15.510Z"
   },
   {
    "duration": 304,
    "start_time": "2022-02-05T09:27:58.571Z"
   },
   {
    "duration": 377,
    "start_time": "2022-02-05T09:28:05.686Z"
   },
   {
    "duration": 6,
    "start_time": "2022-02-05T09:28:18.935Z"
   },
   {
    "duration": 5,
    "start_time": "2022-02-05T09:28:23.985Z"
   },
   {
    "duration": 6,
    "start_time": "2022-02-05T09:28:30.915Z"
   },
   {
    "duration": 199,
    "start_time": "2022-02-05T09:28:37.122Z"
   },
   {
    "duration": 270,
    "start_time": "2022-02-05T09:28:37.342Z"
   },
   {
    "duration": 285,
    "start_time": "2022-02-05T09:28:39.951Z"
   },
   {
    "duration": 199,
    "start_time": "2022-02-05T09:29:24.019Z"
   },
   {
    "duration": 294,
    "start_time": "2022-02-05T09:29:24.221Z"
   },
   {
    "duration": 38,
    "start_time": "2022-02-05T09:29:25.278Z"
   },
   {
    "duration": 494,
    "start_time": "2022-02-05T09:30:12.851Z"
   },
   {
    "duration": 7223,
    "start_time": "2022-02-05T09:30:17.539Z"
   },
   {
    "duration": 3386,
    "start_time": "2022-02-05T09:30:27.378Z"
   },
   {
    "duration": 281,
    "start_time": "2022-02-05T09:30:37.265Z"
   },
   {
    "duration": 293,
    "start_time": "2022-02-05T09:30:47.672Z"
   },
   {
    "duration": 271,
    "start_time": "2022-02-05T09:31:04.641Z"
   },
   {
    "duration": 18031,
    "start_time": "2022-02-05T09:31:11.513Z"
   },
   {
    "duration": 310,
    "start_time": "2022-02-05T09:31:36.178Z"
   },
   {
    "duration": 3433,
    "start_time": "2022-02-05T09:31:45.138Z"
   },
   {
    "duration": 301,
    "start_time": "2022-02-05T09:31:48.574Z"
   },
   {
    "duration": 486,
    "start_time": "2022-02-05T09:32:48.250Z"
   },
   {
    "duration": 51,
    "start_time": "2022-02-05T09:39:20.118Z"
   },
   {
    "duration": 88,
    "start_time": "2022-02-05T09:44:46.079Z"
   },
   {
    "duration": 13,
    "start_time": "2022-02-05T09:44:57.304Z"
   },
   {
    "duration": 6,
    "start_time": "2022-02-05T09:52:46.029Z"
   },
   {
    "duration": 52,
    "start_time": "2022-02-05T09:52:46.038Z"
   },
   {
    "duration": 25,
    "start_time": "2022-02-05T09:52:46.094Z"
   },
   {
    "duration": 12,
    "start_time": "2022-02-05T09:52:46.121Z"
   },
   {
    "duration": 38,
    "start_time": "2022-02-05T09:52:46.136Z"
   },
   {
    "duration": 14,
    "start_time": "2022-02-05T09:52:46.176Z"
   },
   {
    "duration": 6,
    "start_time": "2022-02-05T09:52:46.192Z"
   },
   {
    "duration": 82,
    "start_time": "2022-02-05T09:52:46.201Z"
   },
   {
    "duration": 7,
    "start_time": "2022-02-05T09:52:54.952Z"
   },
   {
    "duration": 301,
    "start_time": "2022-02-05T09:52:59.008Z"
   },
   {
    "duration": 11,
    "start_time": "2022-02-05T09:53:07.196Z"
   },
   {
    "duration": 8,
    "start_time": "2022-02-05T09:53:30.974Z"
   },
   {
    "duration": 20,
    "start_time": "2022-02-05T09:53:53.340Z"
   },
   {
    "duration": 9,
    "start_time": "2022-02-05T09:54:20.903Z"
   },
   {
    "duration": 8,
    "start_time": "2022-02-05T09:54:24.532Z"
   },
   {
    "duration": 282,
    "start_time": "2022-02-05T09:56:07.309Z"
   },
   {
    "duration": 9,
    "start_time": "2022-02-05T09:56:15.047Z"
   },
   {
    "duration": 12,
    "start_time": "2022-02-05T09:57:17.723Z"
   },
   {
    "duration": 7,
    "start_time": "2022-02-05T09:57:19.945Z"
   },
   {
    "duration": 5,
    "start_time": "2022-02-05T09:57:44.121Z"
   },
   {
    "duration": 23,
    "start_time": "2022-02-05T09:57:47.929Z"
   },
   {
    "duration": 14,
    "start_time": "2022-02-05T09:58:38.498Z"
   },
   {
    "duration": 10,
    "start_time": "2022-02-05T09:58:45.169Z"
   },
   {
    "duration": 325,
    "start_time": "2022-02-05T09:58:46.316Z"
   },
   {
    "duration": 43,
    "start_time": "2022-02-05T09:59:21.368Z"
   },
   {
    "duration": 10,
    "start_time": "2022-02-05T09:59:30.083Z"
   },
   {
    "duration": 9,
    "start_time": "2022-02-05T09:59:30.605Z"
   },
   {
    "duration": 4,
    "start_time": "2022-02-05T09:59:31.253Z"
   },
   {
    "duration": 9,
    "start_time": "2022-02-05T09:59:31.748Z"
   },
   {
    "duration": 5,
    "start_time": "2022-02-05T09:59:32.129Z"
   },
   {
    "duration": 11,
    "start_time": "2022-02-05T09:59:36.135Z"
   },
   {
    "duration": 205,
    "start_time": "2022-02-05T09:59:39.741Z"
   },
   {
    "duration": 400,
    "start_time": "2022-02-05T09:59:41.277Z"
   },
   {
    "duration": 36,
    "start_time": "2022-02-05T09:59:48.581Z"
   },
   {
    "duration": 25,
    "start_time": "2022-02-05T09:59:57.281Z"
   },
   {
    "duration": 3806,
    "start_time": "2022-02-05T10:00:02.464Z"
   },
   {
    "duration": 300,
    "start_time": "2022-02-05T10:00:06.272Z"
   },
   {
    "duration": 497,
    "start_time": "2022-02-05T10:00:10.653Z"
   },
   {
    "duration": 113,
    "start_time": "2022-02-05T10:00:14.674Z"
   },
   {
    "duration": 5,
    "start_time": "2022-02-05T10:11:51.706Z"
   },
   {
    "duration": 55,
    "start_time": "2022-02-05T10:11:51.721Z"
   },
   {
    "duration": 26,
    "start_time": "2022-02-05T10:11:51.779Z"
   },
   {
    "duration": 15,
    "start_time": "2022-02-05T10:11:51.809Z"
   },
   {
    "duration": 42,
    "start_time": "2022-02-05T10:11:51.828Z"
   },
   {
    "duration": 17,
    "start_time": "2022-02-05T10:11:51.873Z"
   },
   {
    "duration": 7,
    "start_time": "2022-02-05T10:11:51.893Z"
   },
   {
    "duration": 77,
    "start_time": "2022-02-05T10:11:51.904Z"
   },
   {
    "duration": 14,
    "start_time": "2022-02-05T10:11:51.984Z"
   },
   {
    "duration": 69,
    "start_time": "2022-02-05T10:11:52.004Z"
   },
   {
    "duration": 11,
    "start_time": "2022-02-05T10:11:52.077Z"
   },
   {
    "duration": 8,
    "start_time": "2022-02-05T10:11:52.091Z"
   },
   {
    "duration": 5,
    "start_time": "2022-02-05T10:11:52.102Z"
   },
   {
    "duration": 12,
    "start_time": "2022-02-05T10:11:52.110Z"
   },
   {
    "duration": 6,
    "start_time": "2022-02-05T10:11:52.170Z"
   },
   {
    "duration": 13,
    "start_time": "2022-02-05T10:11:52.178Z"
   },
   {
    "duration": 331,
    "start_time": "2022-02-05T10:11:52.194Z"
   },
   {
    "duration": 426,
    "start_time": "2022-02-05T10:11:52.528Z"
   },
   {
    "duration": 53,
    "start_time": "2022-02-05T10:11:52.957Z"
   },
   {
    "duration": 4925,
    "start_time": "2022-02-05T10:11:53.014Z"
   },
   {
    "duration": 448,
    "start_time": "2022-02-05T10:11:57.942Z"
   },
   {
    "duration": 740,
    "start_time": "2022-02-05T10:11:58.393Z"
   },
   {
    "duration": 142,
    "start_time": "2022-02-05T10:11:59.136Z"
   },
   {
    "duration": 102,
    "start_time": "2022-02-05T10:11:59.281Z"
   },
   {
    "duration": 13,
    "start_time": "2022-02-05T10:12:00.812Z"
   },
   {
    "duration": 63,
    "start_time": "2022-02-05T10:14:09.190Z"
   },
   {
    "duration": 222,
    "start_time": "2022-02-05T10:14:44.865Z"
   },
   {
    "duration": 386,
    "start_time": "2022-02-05T10:14:46.248Z"
   },
   {
    "duration": 43,
    "start_time": "2022-02-05T10:15:06.282Z"
   },
   {
    "duration": 28,
    "start_time": "2022-02-05T10:15:28.183Z"
   },
   {
    "duration": 40,
    "start_time": "2022-02-05T10:46:54.397Z"
   },
   {
    "duration": 16,
    "start_time": "2022-02-05T10:48:47.917Z"
   },
   {
    "duration": 490,
    "start_time": "2022-02-05T10:53:15.294Z"
   },
   {
    "duration": 28,
    "start_time": "2022-02-05T10:53:15.878Z"
   },
   {
    "duration": 10,
    "start_time": "2022-02-05T10:54:48.735Z"
   },
   {
    "duration": 204,
    "start_time": "2022-02-05T10:54:51.081Z"
   },
   {
    "duration": 270,
    "start_time": "2022-02-05T10:54:53.183Z"
   },
   {
    "duration": 32,
    "start_time": "2022-02-05T10:54:55.846Z"
   },
   {
    "duration": 3295,
    "start_time": "2022-02-05T10:55:30.933Z"
   },
   {
    "duration": 314,
    "start_time": "2022-02-05T10:55:34.231Z"
   },
   {
    "duration": 497,
    "start_time": "2022-02-05T10:55:37.266Z"
   },
   {
    "duration": 46,
    "start_time": "2022-02-05T10:56:25.404Z"
   },
   {
    "duration": 15,
    "start_time": "2022-02-05T10:56:26.692Z"
   },
   {
    "duration": 41,
    "start_time": "2022-02-05T10:56:43.505Z"
   },
   {
    "duration": 515,
    "start_time": "2022-02-05T10:56:45.793Z"
   },
   {
    "duration": 17,
    "start_time": "2022-02-05T10:56:46.974Z"
   },
   {
    "duration": 34,
    "start_time": "2022-02-05T11:02:05.061Z"
   },
   {
    "duration": 6,
    "start_time": "2022-02-05T11:02:09.003Z"
   },
   {
    "duration": 324,
    "start_time": "2022-02-05T11:07:17.787Z"
   },
   {
    "duration": 6,
    "start_time": "2022-02-05T11:07:33.584Z"
   },
   {
    "duration": 34,
    "start_time": "2022-02-05T11:07:41.309Z"
   },
   {
    "duration": 5,
    "start_time": "2022-02-05T11:07:43.249Z"
   },
   {
    "duration": 6,
    "start_time": "2022-02-05T11:07:49.661Z"
   },
   {
    "duration": 263,
    "start_time": "2022-02-05T11:08:17.384Z"
   },
   {
    "duration": 256,
    "start_time": "2022-02-05T11:08:21.451Z"
   },
   {
    "duration": 257,
    "start_time": "2022-02-05T11:08:25.783Z"
   },
   {
    "duration": 6,
    "start_time": "2022-02-05T11:08:51.436Z"
   },
   {
    "duration": 5,
    "start_time": "2022-02-05T11:09:10.829Z"
   },
   {
    "duration": 272,
    "start_time": "2022-02-05T11:09:16.809Z"
   },
   {
    "duration": 275,
    "start_time": "2022-02-05T11:09:41.863Z"
   },
   {
    "duration": 4,
    "start_time": "2022-02-05T11:11:26.617Z"
   },
   {
    "duration": 266,
    "start_time": "2022-02-05T11:11:38.334Z"
   },
   {
    "duration": 245,
    "start_time": "2022-02-05T11:11:40.368Z"
   },
   {
    "duration": 527,
    "start_time": "2022-02-05T11:11:47.212Z"
   },
   {
    "duration": 8,
    "start_time": "2022-02-05T11:12:00.743Z"
   },
   {
    "duration": 6,
    "start_time": "2022-02-05T11:12:04.248Z"
   },
   {
    "duration": 7,
    "start_time": "2022-02-05T11:12:08.158Z"
   },
   {
    "duration": 7,
    "start_time": "2022-02-05T11:12:12.202Z"
   },
   {
    "duration": 16,
    "start_time": "2022-02-05T11:12:32.901Z"
   },
   {
    "duration": 424,
    "start_time": "2022-02-05T11:14:01.230Z"
   },
   {
    "duration": 7,
    "start_time": "2022-02-05T11:15:57.217Z"
   },
   {
    "duration": 547,
    "start_time": "2022-02-05T11:16:01.261Z"
   },
   {
    "duration": 253,
    "start_time": "2022-02-05T11:16:29.755Z"
   },
   {
    "duration": 271,
    "start_time": "2022-02-05T11:17:35.250Z"
   },
   {
    "duration": 299,
    "start_time": "2022-02-05T11:18:15.959Z"
   },
   {
    "duration": 300,
    "start_time": "2022-02-05T11:18:27.193Z"
   },
   {
    "duration": 33,
    "start_time": "2022-02-05T11:21:01.096Z"
   },
   {
    "duration": 46,
    "start_time": "2022-02-05T11:21:37.331Z"
   },
   {
    "duration": 42,
    "start_time": "2022-02-05T11:22:35.494Z"
   },
   {
    "duration": 326,
    "start_time": "2022-02-05T11:26:46.191Z"
   },
   {
    "duration": 368,
    "start_time": "2022-02-05T11:28:20.035Z"
   },
   {
    "duration": 33,
    "start_time": "2022-02-05T11:28:43.225Z"
   },
   {
    "duration": 5,
    "start_time": "2022-02-05T11:28:54.672Z"
   },
   {
    "duration": 305,
    "start_time": "2022-02-05T11:29:09.746Z"
   },
   {
    "duration": 5,
    "start_time": "2022-02-05T11:29:23.589Z"
   },
   {
    "duration": 6,
    "start_time": "2022-02-05T11:29:28.045Z"
   },
   {
    "duration": 25,
    "start_time": "2022-02-05T11:29:34.941Z"
   },
   {
    "duration": 47,
    "start_time": "2022-02-05T11:30:14.636Z"
   },
   {
    "duration": 137,
    "start_time": "2022-02-05T11:30:23.444Z"
   },
   {
    "duration": 5,
    "start_time": "2022-02-05T11:31:13.434Z"
   },
   {
    "duration": 6,
    "start_time": "2022-02-05T11:31:17.453Z"
   },
   {
    "duration": 5,
    "start_time": "2022-02-05T11:31:19.737Z"
   },
   {
    "duration": 6,
    "start_time": "2022-02-05T11:31:22.062Z"
   },
   {
    "duration": 5,
    "start_time": "2022-02-05T11:31:47.728Z"
   },
   {
    "duration": 5,
    "start_time": "2022-02-05T11:32:14.244Z"
   },
   {
    "duration": 6,
    "start_time": "2022-02-05T11:32:16.628Z"
   },
   {
    "duration": 141,
    "start_time": "2022-02-05T11:32:40.562Z"
   },
   {
    "duration": 134,
    "start_time": "2022-02-05T11:32:44.190Z"
   },
   {
    "duration": 130,
    "start_time": "2022-02-05T11:32:50.999Z"
   },
   {
    "duration": 129,
    "start_time": "2022-02-05T11:32:57.307Z"
   },
   {
    "duration": 123,
    "start_time": "2022-02-05T11:33:33.875Z"
   },
   {
    "duration": 266,
    "start_time": "2022-02-05T11:33:40.222Z"
   },
   {
    "duration": 7,
    "start_time": "2022-02-05T11:33:46.121Z"
   },
   {
    "duration": 286,
    "start_time": "2022-02-05T11:33:50.644Z"
   },
   {
    "duration": 301,
    "start_time": "2022-02-05T11:34:57.387Z"
   },
   {
    "duration": 264,
    "start_time": "2022-02-05T11:35:18.797Z"
   },
   {
    "duration": 5,
    "start_time": "2022-02-05T11:35:21.335Z"
   },
   {
    "duration": 109,
    "start_time": "2022-02-05T11:35:24.178Z"
   },
   {
    "duration": 295,
    "start_time": "2022-02-05T11:35:25.081Z"
   },
   {
    "duration": 5,
    "start_time": "2022-02-05T11:35:26.703Z"
   },
   {
    "duration": 295,
    "start_time": "2022-02-05T11:35:30.773Z"
   },
   {
    "duration": 4,
    "start_time": "2022-02-05T11:35:32.936Z"
   },
   {
    "duration": 306,
    "start_time": "2022-02-05T11:35:40.847Z"
   },
   {
    "duration": 110,
    "start_time": "2022-02-05T11:35:43.395Z"
   },
   {
    "duration": 5,
    "start_time": "2022-02-05T11:35:43.803Z"
   },
   {
    "duration": 5,
    "start_time": "2022-02-05T11:35:50.167Z"
   },
   {
    "duration": 133,
    "start_time": "2022-02-05T11:36:19.040Z"
   },
   {
    "duration": 5,
    "start_time": "2022-02-05T11:36:24.655Z"
   },
   {
    "duration": 148,
    "start_time": "2022-02-05T11:37:09.722Z"
   },
   {
    "duration": 5,
    "start_time": "2022-02-05T11:37:11.047Z"
   },
   {
    "duration": 6,
    "start_time": "2022-02-05T11:47:06.357Z"
   },
   {
    "duration": 48,
    "start_time": "2022-02-05T11:47:09.376Z"
   },
   {
    "duration": 36,
    "start_time": "2022-02-05T11:47:10.955Z"
   },
   {
    "duration": 11,
    "start_time": "2022-02-05T11:47:11.642Z"
   },
   {
    "duration": 5,
    "start_time": "2022-02-05T11:47:12.031Z"
   },
   {
    "duration": 11,
    "start_time": "2022-02-05T11:47:12.391Z"
   },
   {
    "duration": 6,
    "start_time": "2022-02-05T11:47:12.801Z"
   },
   {
    "duration": 28,
    "start_time": "2022-02-05T11:47:13.246Z"
   },
   {
    "duration": 11,
    "start_time": "2022-02-05T11:47:13.899Z"
   },
   {
    "duration": 32,
    "start_time": "2022-02-05T11:47:14.338Z"
   },
   {
    "duration": 9,
    "start_time": "2022-02-05T11:47:15.984Z"
   },
   {
    "duration": 7,
    "start_time": "2022-02-05T11:47:16.380Z"
   },
   {
    "duration": 4,
    "start_time": "2022-02-05T11:47:16.763Z"
   },
   {
    "duration": 10,
    "start_time": "2022-02-05T11:47:17.158Z"
   },
   {
    "duration": 4,
    "start_time": "2022-02-05T11:47:17.526Z"
   },
   {
    "duration": 8,
    "start_time": "2022-02-05T11:47:18.450Z"
   },
   {
    "duration": 203,
    "start_time": "2022-02-05T11:47:18.788Z"
   },
   {
    "duration": 298,
    "start_time": "2022-02-05T11:47:19.001Z"
   },
   {
    "duration": 31,
    "start_time": "2022-02-05T11:47:19.302Z"
   },
   {
    "duration": 3378,
    "start_time": "2022-02-05T11:47:19.377Z"
   },
   {
    "duration": 307,
    "start_time": "2022-02-05T11:47:22.758Z"
   },
   {
    "duration": 504,
    "start_time": "2022-02-05T11:47:23.068Z"
   },
   {
    "duration": 47,
    "start_time": "2022-02-05T11:47:25.055Z"
   },
   {
    "duration": 16,
    "start_time": "2022-02-05T11:47:25.270Z"
   },
   {
    "duration": 40,
    "start_time": "2022-02-05T11:47:25.558Z"
   },
   {
    "duration": 481,
    "start_time": "2022-02-05T11:47:25.812Z"
   },
   {
    "duration": 14,
    "start_time": "2022-02-05T11:47:26.296Z"
   },
   {
    "duration": 294,
    "start_time": "2022-02-05T11:47:29.635Z"
   },
   {
    "duration": 6,
    "start_time": "2022-02-05T11:47:50.760Z"
   },
   {
    "duration": 48,
    "start_time": "2022-02-05T11:47:52.266Z"
   },
   {
    "duration": 35,
    "start_time": "2022-02-05T11:47:56.565Z"
   },
   {
    "duration": 13,
    "start_time": "2022-02-05T11:47:57.277Z"
   },
   {
    "duration": 5,
    "start_time": "2022-02-05T11:47:58.367Z"
   },
   {
    "duration": 12,
    "start_time": "2022-02-05T11:47:59.051Z"
   },
   {
    "duration": 6,
    "start_time": "2022-02-05T11:47:59.966Z"
   },
   {
    "duration": 28,
    "start_time": "2022-02-05T11:48:00.706Z"
   },
   {
    "duration": 11,
    "start_time": "2022-02-05T11:48:01.694Z"
   },
   {
    "duration": 27,
    "start_time": "2022-02-05T11:48:02.281Z"
   },
   {
    "duration": 9,
    "start_time": "2022-02-05T11:48:03.739Z"
   },
   {
    "duration": 8,
    "start_time": "2022-02-05T11:48:04.311Z"
   },
   {
    "duration": 4,
    "start_time": "2022-02-05T11:48:04.936Z"
   },
   {
    "duration": 9,
    "start_time": "2022-02-05T11:48:05.508Z"
   },
   {
    "duration": 4,
    "start_time": "2022-02-05T11:48:06.373Z"
   },
   {
    "duration": 9,
    "start_time": "2022-02-05T11:48:11.600Z"
   },
   {
    "duration": 205,
    "start_time": "2022-02-05T11:48:13.467Z"
   },
   {
    "duration": 267,
    "start_time": "2022-02-05T11:48:13.909Z"
   },
   {
    "duration": 34,
    "start_time": "2022-02-05T11:48:15.131Z"
   },
   {
    "duration": 3266,
    "start_time": "2022-02-05T11:48:17.594Z"
   },
   {
    "duration": 309,
    "start_time": "2022-02-05T11:48:20.863Z"
   },
   {
    "duration": 487,
    "start_time": "2022-02-05T11:48:24.355Z"
   },
   {
    "duration": 49,
    "start_time": "2022-02-05T11:48:29.480Z"
   },
   {
    "duration": 14,
    "start_time": "2022-02-05T11:48:30.300Z"
   },
   {
    "duration": 40,
    "start_time": "2022-02-05T11:48:35.108Z"
   },
   {
    "duration": 574,
    "start_time": "2022-02-05T11:48:37.480Z"
   },
   {
    "duration": 13,
    "start_time": "2022-02-05T11:48:39.924Z"
   },
   {
    "duration": 296,
    "start_time": "2022-02-05T11:48:43.033Z"
   },
   {
    "duration": 340,
    "start_time": "2022-02-05T11:49:44.185Z"
   },
   {
    "duration": 321,
    "start_time": "2022-02-05T11:49:57.742Z"
   },
   {
    "duration": 44,
    "start_time": "2022-02-05T11:50:01.127Z"
   },
   {
    "duration": 137,
    "start_time": "2022-02-05T11:50:05.098Z"
   },
   {
    "duration": 5,
    "start_time": "2022-02-05T11:50:06.810Z"
   },
   {
    "duration": 90,
    "start_time": "2022-02-05T13:18:00.904Z"
   },
   {
    "duration": 430,
    "start_time": "2022-02-05T13:21:01.768Z"
   },
   {
    "duration": 41,
    "start_time": "2022-02-05T13:27:24.738Z"
   },
   {
    "duration": 481,
    "start_time": "2022-02-05T13:27:25.264Z"
   },
   {
    "duration": 29,
    "start_time": "2022-02-05T13:27:25.748Z"
   },
   {
    "duration": 324,
    "start_time": "2022-02-05T13:27:26.286Z"
   },
   {
    "duration": 44,
    "start_time": "2022-02-05T13:27:30.218Z"
   },
   {
    "duration": 136,
    "start_time": "2022-02-05T13:28:40.621Z"
   },
   {
    "duration": 306,
    "start_time": "2022-02-05T13:29:01.305Z"
   },
   {
    "duration": 276,
    "start_time": "2022-02-05T13:29:06.053Z"
   },
   {
    "duration": 329,
    "start_time": "2022-02-05T13:29:23.913Z"
   },
   {
    "duration": 331,
    "start_time": "2022-02-05T13:29:30.587Z"
   },
   {
    "duration": 320,
    "start_time": "2022-02-05T13:29:33.299Z"
   },
   {
    "duration": 324,
    "start_time": "2022-02-05T13:29:39.113Z"
   },
   {
    "duration": 277,
    "start_time": "2022-02-05T13:29:58.879Z"
   },
   {
    "duration": 292,
    "start_time": "2022-02-05T13:30:03.254Z"
   },
   {
    "duration": 288,
    "start_time": "2022-02-05T13:30:08.574Z"
   },
   {
    "duration": 37,
    "start_time": "2022-02-05T13:31:49.033Z"
   },
   {
    "duration": 36,
    "start_time": "2022-02-05T13:32:09.369Z"
   },
   {
    "duration": 36,
    "start_time": "2022-02-05T13:32:11.943Z"
   },
   {
    "duration": 38,
    "start_time": "2022-02-05T13:32:14.232Z"
   },
   {
    "duration": 38,
    "start_time": "2022-02-05T13:32:16.008Z"
   },
   {
    "duration": 4,
    "start_time": "2022-02-05T13:33:03.850Z"
   },
   {
    "duration": 4,
    "start_time": "2022-02-05T13:33:07.898Z"
   },
   {
    "duration": 301,
    "start_time": "2022-02-05T13:33:21.149Z"
   },
   {
    "duration": 267,
    "start_time": "2022-02-05T13:33:32.137Z"
   },
   {
    "duration": 273,
    "start_time": "2022-02-05T13:33:45.317Z"
   },
   {
    "duration": 4,
    "start_time": "2022-02-05T13:33:49.236Z"
   },
   {
    "duration": 4,
    "start_time": "2022-02-05T13:35:54.070Z"
   },
   {
    "duration": 4,
    "start_time": "2022-02-05T13:35:56.562Z"
   },
   {
    "duration": 134,
    "start_time": "2022-02-05T13:36:16.324Z"
   },
   {
    "duration": 291,
    "start_time": "2022-02-05T13:36:49.104Z"
   },
   {
    "duration": 95,
    "start_time": "2022-02-05T13:37:48.432Z"
   },
   {
    "duration": 70,
    "start_time": "2022-02-05T13:39:04.837Z"
   },
   {
    "duration": 14,
    "start_time": "2022-02-05T13:39:06.086Z"
   },
   {
    "duration": 495,
    "start_time": "2022-02-05T13:39:16.961Z"
   },
   {
    "duration": 61,
    "start_time": "2022-02-05T13:39:23.314Z"
   },
   {
    "duration": 257,
    "start_time": "2022-02-05T13:39:25.201Z"
   },
   {
    "duration": 285,
    "start_time": "2022-02-05T13:39:26.496Z"
   },
   {
    "duration": 13,
    "start_time": "2022-02-05T13:39:36.906Z"
   },
   {
    "duration": 15,
    "start_time": "2022-02-05T13:39:42.411Z"
   },
   {
    "duration": 476,
    "start_time": "2022-02-05T13:39:58.985Z"
   },
   {
    "duration": 476,
    "start_time": "2022-02-05T13:40:32.568Z"
   },
   {
    "duration": 27,
    "start_time": "2022-02-05T13:40:33.047Z"
   },
   {
    "duration": 326,
    "start_time": "2022-02-05T13:40:36.632Z"
   },
   {
    "duration": 44,
    "start_time": "2022-02-05T13:40:40.287Z"
   },
   {
    "duration": 139,
    "start_time": "2022-02-05T13:40:41.779Z"
   },
   {
    "duration": 287,
    "start_time": "2022-02-05T13:40:42.284Z"
   },
   {
    "duration": 281,
    "start_time": "2022-02-05T13:40:49.778Z"
   },
   {
    "duration": 270,
    "start_time": "2022-02-05T13:40:54.508Z"
   },
   {
    "duration": 4,
    "start_time": "2022-02-05T13:41:17.302Z"
   },
   {
    "duration": 6,
    "start_time": "2022-02-05T13:41:20.007Z"
   },
   {
    "duration": 5,
    "start_time": "2022-02-05T13:42:10.054Z"
   },
   {
    "duration": 4,
    "start_time": "2022-02-05T13:42:41.267Z"
   },
   {
    "duration": 6,
    "start_time": "2022-02-05T13:42:53.659Z"
   },
   {
    "duration": 534,
    "start_time": "2022-02-05T13:43:10.336Z"
   },
   {
    "duration": 13,
    "start_time": "2022-02-05T13:43:11.886Z"
   },
   {
    "duration": 341,
    "start_time": "2022-02-05T13:43:14.231Z"
   },
   {
    "duration": 44,
    "start_time": "2022-02-05T13:43:16.490Z"
   },
   {
    "duration": 135,
    "start_time": "2022-02-05T13:43:17.894Z"
   },
   {
    "duration": 269,
    "start_time": "2022-02-05T13:43:18.404Z"
   },
   {
    "duration": 6,
    "start_time": "2022-02-05T13:43:20.895Z"
   },
   {
    "duration": 38,
    "start_time": "2022-02-05T13:43:25.606Z"
   },
   {
    "duration": 476,
    "start_time": "2022-02-05T13:43:43.178Z"
   },
   {
    "duration": 23,
    "start_time": "2022-02-05T13:43:43.657Z"
   },
   {
    "duration": 321,
    "start_time": "2022-02-05T13:43:45.480Z"
   },
   {
    "duration": 41,
    "start_time": "2022-02-05T13:43:47.819Z"
   },
   {
    "duration": 139,
    "start_time": "2022-02-05T13:43:51.590Z"
   },
   {
    "duration": 267,
    "start_time": "2022-02-05T13:43:54.408Z"
   },
   {
    "duration": 6,
    "start_time": "2022-02-05T13:43:57.796Z"
   },
   {
    "duration": 37,
    "start_time": "2022-02-05T13:44:01.921Z"
   },
   {
    "duration": 36,
    "start_time": "2022-02-05T13:44:04.508Z"
   },
   {
    "duration": 39,
    "start_time": "2022-02-05T13:44:06.880Z"
   },
   {
    "duration": 37,
    "start_time": "2022-02-05T13:44:17.729Z"
   },
   {
    "duration": 124,
    "start_time": "2022-02-05T13:46:07.298Z"
   },
   {
    "duration": 103,
    "start_time": "2022-02-05T13:46:18.728Z"
   },
   {
    "duration": 353,
    "start_time": "2022-02-05T13:46:25.086Z"
   },
   {
    "duration": 323,
    "start_time": "2022-02-05T13:46:34.678Z"
   },
   {
    "duration": 34956,
    "start_time": "2022-02-05T13:46:49.906Z"
   },
   {
    "duration": 34616,
    "start_time": "2022-02-05T13:50:13.976Z"
   },
   {
    "duration": 5,
    "start_time": "2022-02-05T13:50:52.562Z"
   },
   {
    "duration": 5,
    "start_time": "2022-02-05T13:51:14.826Z"
   },
   {
    "duration": 213,
    "start_time": "2022-02-05T13:52:20.211Z"
   },
   {
    "duration": 124,
    "start_time": "2022-02-05T13:52:40.740Z"
   },
   {
    "duration": 273,
    "start_time": "2022-02-05T13:52:41.399Z"
   },
   {
    "duration": 253,
    "start_time": "2022-02-05T13:52:55.473Z"
   },
   {
    "duration": 6,
    "start_time": "2022-02-05T13:53:09.424Z"
   },
   {
    "duration": 250,
    "start_time": "2022-02-05T13:53:24.419Z"
   },
   {
    "duration": 6,
    "start_time": "2022-02-05T13:53:29.620Z"
   },
   {
    "duration": 22,
    "start_time": "2022-02-05T13:53:33.416Z"
   },
   {
    "duration": 21,
    "start_time": "2022-02-05T13:53:35.634Z"
   },
   {
    "duration": 21,
    "start_time": "2022-02-05T13:53:37.190Z"
   },
   {
    "duration": 21,
    "start_time": "2022-02-05T13:53:38.684Z"
   },
   {
    "duration": 20,
    "start_time": "2022-02-05T13:53:40.032Z"
   },
   {
    "duration": 21,
    "start_time": "2022-02-05T13:53:41.408Z"
   },
   {
    "duration": 21,
    "start_time": "2022-02-05T13:53:50.037Z"
   },
   {
    "duration": 20,
    "start_time": "2022-02-05T13:53:51.753Z"
   },
   {
    "duration": 34777,
    "start_time": "2022-02-05T13:54:22.198Z"
   },
   {
    "duration": 5,
    "start_time": "2022-02-05T13:55:16.805Z"
   },
   {
    "duration": 34259,
    "start_time": "2022-02-05T13:55:29.228Z"
   },
   {
    "duration": 5,
    "start_time": "2022-02-05T13:57:06.906Z"
   },
   {
    "duration": 210,
    "start_time": "2022-02-05T13:57:10.766Z"
   },
   {
    "duration": 124,
    "start_time": "2022-02-05T13:57:23.136Z"
   },
   {
    "duration": 268,
    "start_time": "2022-02-05T13:57:24.178Z"
   },
   {
    "duration": 20,
    "start_time": "2022-02-05T13:57:43.057Z"
   },
   {
    "duration": 22,
    "start_time": "2022-02-05T13:57:45.070Z"
   },
   {
    "duration": 21,
    "start_time": "2022-02-05T13:57:46.779Z"
   },
   {
    "duration": 318,
    "start_time": "2022-02-05T13:58:41.089Z"
   }
  ],
  "kernelspec": {
   "display_name": "Python 3 (ipykernel)",
   "language": "python",
   "name": "python3"
  },
  "language_info": {
   "codemirror_mode": {
    "name": "ipython",
    "version": 3
   },
   "file_extension": ".py",
   "mimetype": "text/x-python",
   "name": "python",
   "nbconvert_exporter": "python",
   "pygments_lexer": "ipython3",
   "version": "3.10.4"
  },
  "toc": {
   "base_numbering": 1,
   "nav_menu": {},
   "number_sections": true,
   "sideBar": true,
   "skip_h1_title": true,
   "title_cell": "Содержание",
   "title_sidebar": "Contents",
   "toc_cell": true,
   "toc_position": {
    "height": "calc(100% - 180px)",
    "left": "10px",
    "top": "150px",
    "width": "270.391px"
   },
   "toc_section_display": true,
   "toc_window_display": true
  }
 },
 "nbformat": 4,
 "nbformat_minor": 4
}