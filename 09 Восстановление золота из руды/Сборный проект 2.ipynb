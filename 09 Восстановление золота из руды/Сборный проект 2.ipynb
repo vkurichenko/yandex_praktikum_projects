{
 "cells": [
  {
   "cell_type": "markdown",
   "metadata": {
    "pycharm": {
     "name": "#%% md\n"
    }
   },
   "source": [
    "# Восстановление золота из руды"
   ]
  },
  {
   "cell_type": "markdown",
   "metadata": {
    "pycharm": {
     "name": "#%% md\n"
    }
   },
   "source": [
    "Нам необходимо подготовить прототип модели машинного обучения для «Цифры». Компания разрабатывает решения для эффективной работы промышленных предприятий.\n",
    "\n",
    "Модель должна предсказать коэффициент восстановления золота из золотосодержащей руды. Для работы используем данные с параметрами добычи и очистки. \n",
    "\n",
    "Модель поможет оптимизировать производство, чтобы не запускать предприятие с убыточными характеристиками.\n",
    "\n",
    "Нам нужно:\n",
    "\n",
    "1. Подготовить данные;\n",
    "2. Провести исследовательский анализ данных;\n",
    "3. Построить и обучить модель.\n",
    "\n",
    "Чтобы выполнить проект, будет обращаться к библиотекам *pandas*, *matplotlib* и *sklearn.*"
   ]
  },
  {
   "cell_type": "markdown",
   "metadata": {
    "pycharm": {
     "name": "#%% md\n"
    }
   },
   "source": [
    "## Подготовка данных"
   ]
  },
  {
   "cell_type": "markdown",
   "metadata": {
    "pycharm": {
     "name": "#%% md\n"
    }
   },
   "source": [
    "Сначала загрузим необходимые библиотеки."
   ]
  },
  {
   "cell_type": "code",
   "execution_count": 197,
   "metadata": {
    "pycharm": {
     "name": "#%%\n"
    }
   },
   "outputs": [],
   "source": [
    "import pandas as pd\n",
    "import matplotlib.pyplot as plt\n",
    "import seaborn as sns\n",
    "from numpy import median\n",
    "from sklearn.linear_model import LinearRegression\n",
    "from sklearn.model_selection import cross_val_score\n",
    "from sklearn.metrics import make_scorer\n",
    "\n",
    "from sklearn.tree import DecisionTreeRegressor, plot_tree\n",
    "from sklearn.ensemble import RandomForestRegressor\n",
    "from sklearn.model_selection import GridSearchCV, RandomizedSearchCV\n"
   ]
  },
  {
   "cell_type": "markdown",
   "metadata": {
    "pycharm": {
     "name": "#%% md\n"
    }
   },
   "source": [
    "###  Изучение данных "
   ]
  },
  {
   "cell_type": "markdown",
   "metadata": {
    "pycharm": {
     "name": "#%% md\n"
    }
   },
   "source": [
    "Создадим датасеты с тренировочными данными, тестовыми данными и полными данными."
   ]
  },
  {
   "cell_type": "code",
   "execution_count": 198,
   "metadata": {
    "pycharm": {
     "name": "#%%\n"
    }
   },
   "outputs": [],
   "source": [
    "full_train = pd.read_csv('https://code.s3.yandex.net/datasets/gold_recovery_train_new.csv')\n",
    "test = pd.read_csv('https://code.s3.yandex.net/datasets/gold_recovery_test_new.csv')\n",
    "full = pd.read_csv('https://code.s3.yandex.net/datasets/gold_recovery_full_new.csv')"
   ]
  },
  {
   "cell_type": "markdown",
   "metadata": {
    "pycharm": {
     "name": "#%% md\n"
    }
   },
   "source": [
    "Посмотрим на размеры датасетов. "
   ]
  },
  {
   "cell_type": "code",
   "execution_count": 199,
   "metadata": {
    "pycharm": {
     "name": "#%%\n"
    }
   },
   "outputs": [
    {
     "name": "stdout",
     "output_type": "stream",
     "text": [
      "Полный датасет: (19439, 87)\n",
      "Тренировочный датасет: (14149, 87)\n",
      "Тестовый датасет: (5290, 53)\n"
     ]
    }
   ],
   "source": [
    "print(f'Полный датасет: {full.shape}')\n",
    "print(f'Тренировочный датасет: {full_train.shape}')\n",
    "print(f'Тестовый датасет: {test.shape}')"
   ]
  },
  {
   "cell_type": "markdown",
   "metadata": {
    "pycharm": {
     "name": "#%% md\n"
    }
   },
   "source": [
    "Видно, что полный датасет представляет собой все данные. Тренировочный - часть данных. Тестовый - оставшуюся часть данных, но с удаленными столбцами.\n",
    "\n",
    "Посмотрим на колонки в полном датасете."
   ]
  },
  {
   "cell_type": "code",
   "execution_count": 200,
   "metadata": {
    "pycharm": {
     "name": "#%%\n"
    }
   },
   "outputs": [
    {
     "data": {
      "text/plain": [
       "Index(['date', 'final.output.concentrate_ag', 'final.output.concentrate_pb',\n",
       "       'final.output.concentrate_sol', 'final.output.concentrate_au',\n",
       "       'final.output.recovery', 'final.output.tail_ag', 'final.output.tail_pb',\n",
       "       'final.output.tail_sol', 'final.output.tail_au',\n",
       "       'primary_cleaner.input.sulfate', 'primary_cleaner.input.depressant',\n",
       "       'primary_cleaner.input.feed_size', 'primary_cleaner.input.xanthate',\n",
       "       'primary_cleaner.output.concentrate_ag',\n",
       "       'primary_cleaner.output.concentrate_pb',\n",
       "       'primary_cleaner.output.concentrate_sol',\n",
       "       'primary_cleaner.output.concentrate_au',\n",
       "       'primary_cleaner.output.tail_ag', 'primary_cleaner.output.tail_pb',\n",
       "       'primary_cleaner.output.tail_sol', 'primary_cleaner.output.tail_au',\n",
       "       'primary_cleaner.state.floatbank8_a_air',\n",
       "       'primary_cleaner.state.floatbank8_a_level',\n",
       "       'primary_cleaner.state.floatbank8_b_air',\n",
       "       'primary_cleaner.state.floatbank8_b_level',\n",
       "       'primary_cleaner.state.floatbank8_c_air',\n",
       "       'primary_cleaner.state.floatbank8_c_level',\n",
       "       'primary_cleaner.state.floatbank8_d_air',\n",
       "       'primary_cleaner.state.floatbank8_d_level',\n",
       "       'rougher.calculation.sulfate_to_au_concentrate',\n",
       "       'rougher.calculation.floatbank10_sulfate_to_au_feed',\n",
       "       'rougher.calculation.floatbank11_sulfate_to_au_feed',\n",
       "       'rougher.calculation.au_pb_ratio', 'rougher.input.feed_ag',\n",
       "       'rougher.input.feed_pb', 'rougher.input.feed_rate',\n",
       "       'rougher.input.feed_size', 'rougher.input.feed_sol',\n",
       "       'rougher.input.feed_au', 'rougher.input.floatbank10_sulfate',\n",
       "       'rougher.input.floatbank10_xanthate',\n",
       "       'rougher.input.floatbank11_sulfate',\n",
       "       'rougher.input.floatbank11_xanthate', 'rougher.output.concentrate_ag',\n",
       "       'rougher.output.concentrate_pb', 'rougher.output.concentrate_sol',\n",
       "       'rougher.output.concentrate_au', 'rougher.output.recovery',\n",
       "       'rougher.output.tail_ag', 'rougher.output.tail_pb',\n",
       "       'rougher.output.tail_sol', 'rougher.output.tail_au',\n",
       "       'rougher.state.floatbank10_a_air', 'rougher.state.floatbank10_a_level',\n",
       "       'rougher.state.floatbank10_b_air', 'rougher.state.floatbank10_b_level',\n",
       "       'rougher.state.floatbank10_c_air', 'rougher.state.floatbank10_c_level',\n",
       "       'rougher.state.floatbank10_d_air', 'rougher.state.floatbank10_d_level',\n",
       "       'rougher.state.floatbank10_e_air', 'rougher.state.floatbank10_e_level',\n",
       "       'rougher.state.floatbank10_f_air', 'rougher.state.floatbank10_f_level',\n",
       "       'secondary_cleaner.output.tail_ag', 'secondary_cleaner.output.tail_pb',\n",
       "       'secondary_cleaner.output.tail_sol', 'secondary_cleaner.output.tail_au',\n",
       "       'secondary_cleaner.state.floatbank2_a_air',\n",
       "       'secondary_cleaner.state.floatbank2_a_level',\n",
       "       'secondary_cleaner.state.floatbank2_b_air',\n",
       "       'secondary_cleaner.state.floatbank2_b_level',\n",
       "       'secondary_cleaner.state.floatbank3_a_air',\n",
       "       'secondary_cleaner.state.floatbank3_a_level',\n",
       "       'secondary_cleaner.state.floatbank3_b_air',\n",
       "       'secondary_cleaner.state.floatbank3_b_level',\n",
       "       'secondary_cleaner.state.floatbank4_a_air',\n",
       "       'secondary_cleaner.state.floatbank4_a_level',\n",
       "       'secondary_cleaner.state.floatbank4_b_air',\n",
       "       'secondary_cleaner.state.floatbank4_b_level',\n",
       "       'secondary_cleaner.state.floatbank5_a_air',\n",
       "       'secondary_cleaner.state.floatbank5_a_level',\n",
       "       'secondary_cleaner.state.floatbank5_b_air',\n",
       "       'secondary_cleaner.state.floatbank5_b_level',\n",
       "       'secondary_cleaner.state.floatbank6_a_air',\n",
       "       'secondary_cleaner.state.floatbank6_a_level'],\n",
       "      dtype='object')"
      ]
     },
     "execution_count": 200,
     "metadata": {},
     "output_type": "execute_result"
    }
   ],
   "source": [
    "full.columns"
   ]
  },
  {
   "cell_type": "markdown",
   "metadata": {
    "pycharm": {
     "name": "#%% md\n"
    }
   },
   "source": [
    "Согласно документации, названия колонок означают следующее:\n",
    "1. Первый блок - этап:\n",
    "    - rougher — флотация\n",
    "    - primary_cleaner — первичная очистка\n",
    "    - secondary_cleaner — вторичная очистка\n",
    "    - final — финальные характеристики\n",
    "2. Второй блок - тип параметра:\n",
    "    - input — параметры сырья\n",
    "    - output — параметры продукта\n",
    "    - state — параметры, характеризующие текущее состояние этапа\n",
    "    - calculation — расчётные характеристики\n",
    "3. Третий же блок - название параметра."
   ]
  },
  {
   "cell_type": "markdown",
   "metadata": {
    "pycharm": {
     "name": "#%% md\n"
    }
   },
   "source": [
    "### Проверка расчета эффективности обогащения"
   ]
  },
  {
   "cell_type": "markdown",
   "metadata": {
    "pycharm": {
     "name": "#%% md\n"
    }
   },
   "source": [
    "На первом этапе заказчик попросил проверить правильность расчета эффективности обогащения после этапа флотации. Для этого воспользуемся предоставленной заказчиком формулой, которая включает в себя долю золота в сырье до флотации, в концентрате после флотации и в хвосте после флотации."
   ]
  },
  {
   "cell_type": "code",
   "execution_count": 201,
   "metadata": {
    "pycharm": {
     "name": "#%%\n"
    }
   },
   "outputs": [],
   "source": [
    "R_C, R_F, R_T = (full_train['rougher.output.concentrate_au'], \n",
    "                 full_train['rougher.input.feed_au'], \n",
    "                 full_train['rougher.output.tail_au'])\n",
    "\n",
    "rougher_recovery = (((R_C * (R_F - R_T) / (R_F * (R_C - R_T))) * 100).to_frame().\n",
    "                    set_axis(['recovery_calculated'], axis=1, inplace=False))"
   ]
  },
  {
   "cell_type": "markdown",
   "metadata": {
    "pycharm": {
     "name": "#%% md\n"
    }
   },
   "source": [
    "Теперь посчитаем значение средней абсолютной ошибки для рассчитанного и представленного в таблице значения эффективности и выведем его на экран."
   ]
  },
  {
   "cell_type": "code",
   "execution_count": 202,
   "metadata": {
    "pycharm": {
     "name": "#%%\n"
    }
   },
   "outputs": [
    {
     "name": "stdout",
     "output_type": "stream",
     "text": [
      "Значение MAE составляет 9.68e-15\n"
     ]
    }
   ],
   "source": [
    "rougher_recovery['recovery_experimental'] = full_train['rougher.output.recovery']\n",
    "rougher_MAE = (sum(abs(rougher_recovery['recovery_experimental'] - rougher_recovery['recovery_calculated']) / \n",
    "       len(rougher_recovery['recovery_experimental'])))\n",
    "print(f'Значение MAE составляет {rougher_MAE:.2e}')"
   ]
  },
  {
   "cell_type": "markdown",
   "metadata": {
    "pycharm": {
     "name": "#%% md\n"
    }
   },
   "source": [
    "Видно, что значение ошибки очень мало, поэтому можно сделать вывод о том, что эффективность была посчитана верна."
   ]
  },
  {
   "cell_type": "markdown",
   "metadata": {
    "pycharm": {
     "name": "#%% md\n"
    }
   },
   "source": [
    "### Каких признаков нет в тестовой выборке?"
   ]
  },
  {
   "cell_type": "markdown",
   "metadata": {
    "pycharm": {
     "name": "#%% md\n"
    }
   },
   "source": [
    "Как было отмечено выше, в тестовой выборке не хватает некоторых столбцов. Посмотрим, что это за столбцы."
   ]
  },
  {
   "cell_type": "code",
   "execution_count": 203,
   "metadata": {
    "pycharm": {
     "name": "#%%\n"
    }
   },
   "outputs": [
    {
     "data": {
      "text/plain": [
       "['final.output.concentrate_ag',\n",
       " 'final.output.concentrate_pb',\n",
       " 'final.output.concentrate_sol',\n",
       " 'final.output.concentrate_au',\n",
       " 'final.output.recovery',\n",
       " 'final.output.tail_ag',\n",
       " 'final.output.tail_pb',\n",
       " 'final.output.tail_sol',\n",
       " 'final.output.tail_au',\n",
       " 'primary_cleaner.output.concentrate_ag',\n",
       " 'primary_cleaner.output.concentrate_pb',\n",
       " 'primary_cleaner.output.concentrate_sol',\n",
       " 'primary_cleaner.output.concentrate_au',\n",
       " 'primary_cleaner.output.tail_ag',\n",
       " 'primary_cleaner.output.tail_pb',\n",
       " 'primary_cleaner.output.tail_sol',\n",
       " 'primary_cleaner.output.tail_au',\n",
       " 'rougher.calculation.sulfate_to_au_concentrate',\n",
       " 'rougher.calculation.floatbank10_sulfate_to_au_feed',\n",
       " 'rougher.calculation.floatbank11_sulfate_to_au_feed',\n",
       " 'rougher.calculation.au_pb_ratio',\n",
       " 'rougher.output.concentrate_ag',\n",
       " 'rougher.output.concentrate_pb',\n",
       " 'rougher.output.concentrate_sol',\n",
       " 'rougher.output.concentrate_au',\n",
       " 'rougher.output.recovery',\n",
       " 'rougher.output.tail_ag',\n",
       " 'rougher.output.tail_pb',\n",
       " 'rougher.output.tail_sol',\n",
       " 'rougher.output.tail_au',\n",
       " 'secondary_cleaner.output.tail_ag',\n",
       " 'secondary_cleaner.output.tail_pb',\n",
       " 'secondary_cleaner.output.tail_sol',\n",
       " 'secondary_cleaner.output.tail_au']"
      ]
     },
     "execution_count": 203,
     "metadata": {},
     "output_type": "execute_result"
    }
   ],
   "source": [
    "not_in_test = [x for x in full_train.columns if x not in test.columns]\n",
    "not_in_test"
   ]
  },
  {
   "cell_type": "markdown",
   "metadata": {
    "pycharm": {
     "name": "#%% md\n"
    }
   },
   "source": [
    "Видно, что в тестовой выборке отсутствуют значения, которые характеризуют продукты флотации и процессы, происходящие после неё.\n",
    "\n",
    "Для последующей проверки полученной модели на тестовой выборке нам нужно, чтобы в тренировочной были те же столбцы, что и в тестовой. Поэтому удалим из тренировочного датасета лишние столбцы."
   ]
  },
  {
   "cell_type": "code",
   "execution_count": 204,
   "metadata": {
    "pycharm": {
     "name": "#%%\n"
    }
   },
   "outputs": [],
   "source": [
    "train = full_train.drop(not_in_test, axis=1)"
   ]
  },
  {
   "cell_type": "markdown",
   "metadata": {
    "pycharm": {
     "name": "#%% md\n"
    }
   },
   "source": [
    "Проверим размеры наших датасетов."
   ]
  },
  {
   "cell_type": "code",
   "execution_count": 205,
   "metadata": {
    "pycharm": {
     "name": "#%%\n"
    }
   },
   "outputs": [
    {
     "name": "stdout",
     "output_type": "stream",
     "text": [
      "Тренировочный датасет: (14149, 53)\n",
      "Тестовый датасет: (5290, 53)\n"
     ]
    }
   ],
   "source": [
    "print(f'Тренировочный датасет: {train.shape}')\n",
    "print(f'Тестовый датасет: {test.shape}')"
   ]
  },
  {
   "cell_type": "markdown",
   "metadata": {
    "pycharm": {
     "name": "#%% md\n"
    }
   },
   "source": [
    "Видно, что количество столбцов теперь совпадает."
   ]
  },
  {
   "cell_type": "markdown",
   "metadata": {
    "pycharm": {
     "name": "#%% md\n"
    }
   },
   "source": [
    "### Предобработка"
   ]
  },
  {
   "cell_type": "markdown",
   "metadata": {
    "pycharm": {
     "name": "#%% md\n"
    }
   },
   "source": [
    "Посмотрим на количество отсутствующих значений в столбцах."
   ]
  },
  {
   "cell_type": "code",
   "execution_count": 206,
   "metadata": {
    "pycharm": {
     "name": "#%%\n"
    }
   },
   "outputs": [
    {
     "data": {
      "text/plain": [
       "rougher.state.floatbank10_e_air               436\n",
       "rougher.input.floatbank11_xanthate            428\n",
       "secondary_cleaner.state.floatbank2_a_air      217\n",
       "rougher.input.feed_size                       144\n",
       "primary_cleaner.input.xanthate                100\n",
       "rougher.input.feed_pb                         100\n",
       "rougher.input.feed_sol                         78\n",
       "rougher.input.floatbank11_sulfate              36\n",
       "primary_cleaner.input.depressant               32\n",
       "rougher.input.floatbank10_sulfate              29\n",
       "secondary_cleaner.state.floatbank2_b_air       21\n",
       "primary_cleaner.input.sulfate                  20\n",
       "rougher.input.floatbank10_xanthate              8\n",
       "rougher.input.feed_rate                         8\n",
       "secondary_cleaner.state.floatbank4_a_air        6\n",
       "primary_cleaner.state.floatbank8_b_air          4\n",
       "secondary_cleaner.state.floatbank3_a_air        4\n",
       "primary_cleaner.state.floatbank8_a_air          4\n",
       "primary_cleaner.state.floatbank8_d_air          3\n",
       "primary_cleaner.state.floatbank8_c_air          2\n",
       "secondary_cleaner.state.floatbank6_a_air        2\n",
       "secondary_cleaner.state.floatbank6_a_level      1\n",
       "primary_cleaner.state.floatbank8_d_level        1\n",
       "rougher.state.floatbank10_a_level               1\n",
       "primary_cleaner.state.floatbank8_c_level        1\n",
       "primary_cleaner.state.floatbank8_b_level        1\n",
       "primary_cleaner.state.floatbank8_a_level        1\n",
       "rougher.state.floatbank10_a_air                 1\n",
       "rougher.state.floatbank10_b_level               1\n",
       "rougher.state.floatbank10_b_air                 1\n",
       "rougher.state.floatbank10_c_air                 1\n",
       "secondary_cleaner.state.floatbank5_b_level      1\n",
       "secondary_cleaner.state.floatbank5_b_air        1\n",
       "secondary_cleaner.state.floatbank5_a_level      1\n",
       "secondary_cleaner.state.floatbank5_a_air        1\n",
       "secondary_cleaner.state.floatbank4_b_level      1\n",
       "secondary_cleaner.state.floatbank4_b_air        1\n",
       "secondary_cleaner.state.floatbank4_a_level      1\n",
       "secondary_cleaner.state.floatbank3_b_level      1\n",
       "secondary_cleaner.state.floatbank3_b_air        1\n",
       "secondary_cleaner.state.floatbank3_a_level      1\n",
       "secondary_cleaner.state.floatbank2_b_level      1\n",
       "secondary_cleaner.state.floatbank2_a_level      1\n",
       "rougher.state.floatbank10_c_level               1\n",
       "rougher.input.feed_ag                           0\n",
       "rougher.state.floatbank10_f_level               0\n",
       "rougher.state.floatbank10_f_air                 0\n",
       "rougher.state.floatbank10_e_level               0\n",
       "rougher.input.feed_au                           0\n",
       "rougher.state.floatbank10_d_level               0\n",
       "primary_cleaner.input.feed_size                 0\n",
       "rougher.state.floatbank10_d_air                 0\n",
       "date                                            0\n",
       "dtype: int64"
      ]
     },
     "execution_count": 206,
     "metadata": {},
     "output_type": "execute_result"
    }
   ],
   "source": [
    "train.isna().sum().sort_values(ascending=False)"
   ]
  },
  {
   "cell_type": "markdown",
   "metadata": {
    "pycharm": {
     "name": "#%% md\n"
    }
   },
   "source": [
    "Так как наши данные представляют собой параметры, измеряемые каждый час, предлагается заменить пропущенные данные на те, которые следуют после них."
   ]
  },
  {
   "cell_type": "code",
   "execution_count": 207,
   "metadata": {
    "pycharm": {
     "name": "#%%\n"
    }
   },
   "outputs": [],
   "source": [
    "train.fillna(method='ffill', inplace=True)"
   ]
  },
  {
   "cell_type": "markdown",
   "metadata": {
    "pycharm": {
     "name": "#%% md\n"
    }
   },
   "source": [
    "Посмотрим еще раз на отсутствующие данные."
   ]
  },
  {
   "cell_type": "code",
   "execution_count": 208,
   "metadata": {
    "scrolled": true,
    "pycharm": {
     "name": "#%%\n"
    }
   },
   "outputs": [
    {
     "data": {
      "text/plain": [
       "secondary_cleaner.state.floatbank6_a_level    0\n",
       "rougher.state.floatbank10_b_air               0\n",
       "rougher.state.floatbank10_a_air               0\n",
       "rougher.input.floatbank11_xanthate            0\n",
       "rougher.input.floatbank11_sulfate             0\n",
       "rougher.input.floatbank10_xanthate            0\n",
       "rougher.input.floatbank10_sulfate             0\n",
       "rougher.input.feed_au                         0\n",
       "rougher.input.feed_sol                        0\n",
       "rougher.input.feed_size                       0\n",
       "rougher.input.feed_rate                       0\n",
       "rougher.input.feed_pb                         0\n",
       "rougher.input.feed_ag                         0\n",
       "primary_cleaner.state.floatbank8_d_level      0\n",
       "primary_cleaner.state.floatbank8_d_air        0\n",
       "primary_cleaner.state.floatbank8_c_level      0\n",
       "primary_cleaner.state.floatbank8_c_air        0\n",
       "primary_cleaner.state.floatbank8_b_level      0\n",
       "primary_cleaner.state.floatbank8_b_air        0\n",
       "primary_cleaner.state.floatbank8_a_level      0\n",
       "primary_cleaner.state.floatbank8_a_air        0\n",
       "primary_cleaner.input.xanthate                0\n",
       "primary_cleaner.input.feed_size               0\n",
       "primary_cleaner.input.depressant              0\n",
       "primary_cleaner.input.sulfate                 0\n",
       "rougher.state.floatbank10_a_level             0\n",
       "rougher.state.floatbank10_b_level             0\n",
       "secondary_cleaner.state.floatbank6_a_air      0\n",
       "rougher.state.floatbank10_c_air               0\n",
       "secondary_cleaner.state.floatbank5_b_level    0\n",
       "secondary_cleaner.state.floatbank5_b_air      0\n",
       "secondary_cleaner.state.floatbank5_a_level    0\n",
       "secondary_cleaner.state.floatbank5_a_air      0\n",
       "secondary_cleaner.state.floatbank4_b_level    0\n",
       "secondary_cleaner.state.floatbank4_b_air      0\n",
       "secondary_cleaner.state.floatbank4_a_level    0\n",
       "secondary_cleaner.state.floatbank4_a_air      0\n",
       "secondary_cleaner.state.floatbank3_b_level    0\n",
       "secondary_cleaner.state.floatbank3_b_air      0\n",
       "secondary_cleaner.state.floatbank3_a_level    0\n",
       "secondary_cleaner.state.floatbank3_a_air      0\n",
       "secondary_cleaner.state.floatbank2_b_level    0\n",
       "secondary_cleaner.state.floatbank2_b_air      0\n",
       "secondary_cleaner.state.floatbank2_a_level    0\n",
       "secondary_cleaner.state.floatbank2_a_air      0\n",
       "rougher.state.floatbank10_f_level             0\n",
       "rougher.state.floatbank10_f_air               0\n",
       "rougher.state.floatbank10_e_level             0\n",
       "rougher.state.floatbank10_e_air               0\n",
       "rougher.state.floatbank10_d_level             0\n",
       "rougher.state.floatbank10_d_air               0\n",
       "rougher.state.floatbank10_c_level             0\n",
       "date                                          0\n",
       "dtype: int64"
      ]
     },
     "execution_count": 208,
     "metadata": {},
     "output_type": "execute_result"
    }
   ],
   "source": [
    "train.isna().sum().sort_values(ascending=False)"
   ]
  },
  {
   "cell_type": "markdown",
   "metadata": {
    "pycharm": {
     "name": "#%% md\n"
    }
   },
   "source": [
    "Видно, что пропуски отсутствуют."
   ]
  },
  {
   "cell_type": "markdown",
   "metadata": {
    "pycharm": {
     "name": "#%% md\n"
    }
   },
   "source": [
    "**Вывод:**\n",
    "\n",
    "В данном пункте было сделано следующее:\n",
    "1. Проведено первичное знакомство с данными.\n",
    "2. Рассчитаны параметры эффективности флотации и сравнены со значениями, представленными в датасете. MAE оказалась очень мала, что говорит о том, что расчеты были проведены верно.\n",
    "3. Определено, что в тестовой выборке отсутствуют некоторые признаки, поэтому эти признаки были удалены из тренировочной выборки.\n",
    "4. Проведена предобработка данных, в ходе которой отсутствующие данные были заменены на следующие после них."
   ]
  },
  {
   "cell_type": "markdown",
   "metadata": {
    "pycharm": {
     "name": "#%% md\n"
    }
   },
   "source": [
    "## Анализ данных"
   ]
  },
  {
   "cell_type": "markdown",
   "metadata": {
    "pycharm": {
     "name": "#%% md\n"
    }
   },
   "source": [
    "### Как меняется концентрация металлов"
   ]
  },
  {
   "cell_type": "markdown",
   "metadata": {
    "pycharm": {
     "name": "#%% md\n"
    }
   },
   "source": [
    "Согласно заданию заказчика, на втором этапе работы сначала нам необходимо посмотреть, как меняется концентрация металлов на различных этапах очистки.\n",
    "\n",
    "Для этого мы будем использовать полный датасет, пропуски в котором заменим тем же методом, что и в тренировочном датасете."
   ]
  },
  {
   "cell_type": "code",
   "execution_count": 209,
   "metadata": {
    "pycharm": {
     "name": "#%%\n"
    }
   },
   "outputs": [],
   "source": [
    "full.fillna(method='ffill', inplace=True)"
   ]
  },
  {
   "cell_type": "markdown",
   "metadata": {
    "pycharm": {
     "name": "#%% md\n"
    }
   },
   "source": [
    "#### Флотация"
   ]
  },
  {
   "cell_type": "markdown",
   "metadata": {
    "pycharm": {
     "name": "#%% md\n"
    }
   },
   "source": [
    "##### Перед флотацией"
   ]
  },
  {
   "cell_type": "markdown",
   "metadata": {
    "pycharm": {
     "name": "#%% md\n"
    }
   },
   "source": [
    "Построим гистограмму распределения концентраций металлов в сырье до флотации."
   ]
  },
  {
   "cell_type": "code",
   "execution_count": 210,
   "metadata": {
    "pycharm": {
     "name": "#%%\n"
    }
   },
   "outputs": [
    {
     "data": {
      "text/plain": [
       "<matplotlib.axes._subplots.AxesSubplot at 0x7f938785c910>"
      ]
     },
     "execution_count": 210,
     "metadata": {},
     "output_type": "execute_result"
    },
    {
     "data": {
      "image/png": "[encoded data removed]",
      "text/plain": [
       "<Figure size 864x576 with 1 Axes>"
      ]
     },
     "metadata": {
      "needs_background": "light"
     },
     "output_type": "display_data"
    }
   ],
   "source": [
    "rougher_input = (full.loc[:, full.columns.str.contains('rougher.input.feed')].\n",
    "                 drop(['rougher.input.feed_rate', 'rougher.input.feed_size'], axis=1))\n",
    "rougher_input.plot(kind='hist', figsize=(12, 8), alpha=0.5, bins=100)"
   ]
  },
  {
   "cell_type": "markdown",
   "metadata": {
    "pycharm": {
     "name": "#%% md\n"
    }
   },
   "source": [
    "Видно, что в основном сырье состоят из золи. Содержание серебра и золота в сырье примерно одинаково. Меньше всего в сырье свинца."
   ]
  },
  {
   "cell_type": "markdown",
   "metadata": {
    "pycharm": {
     "name": "#%% md\n"
    }
   },
   "source": [
    "##### Хвосты после флотации"
   ]
  },
  {
   "cell_type": "markdown",
   "metadata": {
    "pycharm": {
     "name": "#%% md\n"
    }
   },
   "source": [
    "Теперь посмотрим на распределение элементов после флотации. Начнем с хвостов."
   ]
  },
  {
   "cell_type": "code",
   "execution_count": 211,
   "metadata": {
    "pycharm": {
     "name": "#%%\n"
    }
   },
   "outputs": [
    {
     "data": {
      "text/plain": [
       "<matplotlib.axes._subplots.AxesSubplot at 0x7f938f9c3190>"
      ]
     },
     "execution_count": 211,
     "metadata": {},
     "output_type": "execute_result"
    },
    {
     "data": {
      "image/png": "[encoded data removed]",
      "text/plain": [
       "<Figure size 864x576 with 1 Axes>"
      ]
     },
     "metadata": {
      "needs_background": "light"
     },
     "output_type": "display_data"
    }
   ],
   "source": [
    "rougher_tail = (full.loc[:, full.columns.str.contains('rougher.output.tail')])\n",
    "rougher_tail.plot(kind='hist', figsize=(12, 8), alpha=0.5, bins=100, xlim=(-2, 30))"
   ]
  },
  {
   "cell_type": "markdown",
   "metadata": {
    "pycharm": {
     "name": "#%% md\n"
    }
   },
   "source": [
    "Видно, что в хвостах после флотации также содержится в основном золь. При этом хвосты стали более обогащены серебром, далее по содержанию идет золото и свинец."
   ]
  },
  {
   "cell_type": "markdown",
   "metadata": {
    "pycharm": {
     "name": "#%% md\n"
    }
   },
   "source": [
    "##### Концентрат после флотации"
   ]
  },
  {
   "cell_type": "markdown",
   "metadata": {
    "pycharm": {
     "name": "#%% md\n"
    }
   },
   "source": [
    "Посмотрим на концентрат после флотации."
   ]
  },
  {
   "cell_type": "code",
   "execution_count": 212,
   "metadata": {
    "pycharm": {
     "name": "#%%\n"
    }
   },
   "outputs": [
    {
     "data": {
      "text/plain": [
       "<matplotlib.axes._subplots.AxesSubplot at 0x7f9386ed0b10>"
      ]
     },
     "execution_count": 212,
     "metadata": {},
     "output_type": "execute_result"
    },
    {
     "data": {
      "image/png": "[encoded data removed]",
      "text/plain": [
       "<Figure size 864x576 with 1 Axes>"
      ]
     },
     "metadata": {
      "needs_background": "light"
     },
     "output_type": "display_data"
    }
   ],
   "source": [
    "rougher_concentrate = (full.loc[:, full.columns.str.contains('rougher.output.concentrate')])\n",
    "rougher_concentrate.plot(kind='hist',figsize=(12, 8), alpha=0.5, bins=100)"
   ]
  },
  {
   "cell_type": "markdown",
   "metadata": {
    "pycharm": {
     "name": "#%% md\n"
    }
   },
   "source": [
    "В данном случае видно, что хоть наш концентрат и содержит опять в основном золь, но содержание золота в нем теперь больше, чем свинца и серебра."
   ]
  },
  {
   "cell_type": "markdown",
   "metadata": {
    "pycharm": {
     "name": "#%% md\n"
    }
   },
   "source": [
    "#### Первичная очистка"
   ]
  },
  {
   "cell_type": "markdown",
   "metadata": {
    "pycharm": {
     "name": "#%% md\n"
    }
   },
   "source": [
    "##### Хвосты после первичной очистки"
   ]
  },
  {
   "cell_type": "markdown",
   "metadata": {
    "pycharm": {
     "name": "#%% md\n"
    }
   },
   "source": [
    "Посмотрим на содержание элементов в хвостах после первичной очистки."
   ]
  },
  {
   "cell_type": "code",
   "execution_count": 213,
   "metadata": {
    "pycharm": {
     "name": "#%%\n"
    }
   },
   "outputs": [
    {
     "data": {
      "text/plain": [
       "<matplotlib.axes._subplots.AxesSubplot at 0x7f938e2c7510>"
      ]
     },
     "execution_count": 213,
     "metadata": {},
     "output_type": "execute_result"
    },
    {
     "data": {
      "image/png": "[encoded data removed]",
      "text/plain": [
       "<Figure size 864x576 with 1 Axes>"
      ]
     },
     "metadata": {
      "needs_background": "light"
     },
     "output_type": "display_data"
    }
   ],
   "source": [
    "primary_tail = (full.loc[:, full.columns.str.contains('primary_cleaner.output.tail')])\n",
    "primary_tail.plot(kind='hist', figsize=(12, 8), alpha=0.5, bins=100)"
   ]
  },
  {
   "cell_type": "markdown",
   "metadata": {
    "pycharm": {
     "name": "#%% md\n"
    }
   },
   "source": [
    "Видно, что после первичной очистки в хвостах остается в основном серебро и золь. Меньше всего в них содержится золота и свинца."
   ]
  },
  {
   "cell_type": "markdown",
   "metadata": {
    "pycharm": {
     "name": "#%% md\n"
    }
   },
   "source": [
    "##### Концентрат первичной очистки"
   ]
  },
  {
   "cell_type": "markdown",
   "metadata": {
    "pycharm": {
     "name": "#%% md\n"
    }
   },
   "source": [
    "Оценим состав концентрата после первичной очистки."
   ]
  },
  {
   "cell_type": "code",
   "execution_count": 214,
   "metadata": {
    "pycharm": {
     "name": "#%%\n"
    }
   },
   "outputs": [
    {
     "data": {
      "text/plain": [
       "Index(['date', 'final.output.concentrate_ag', 'final.output.concentrate_pb',\n",
       "       'final.output.concentrate_sol', 'final.output.concentrate_au',\n",
       "       'final.output.recovery', 'final.output.tail_ag', 'final.output.tail_pb',\n",
       "       'final.output.tail_sol', 'final.output.tail_au',\n",
       "       'primary_cleaner.input.sulfate', 'primary_cleaner.input.depressant',\n",
       "       'primary_cleaner.input.feed_size', 'primary_cleaner.input.xanthate',\n",
       "       'primary_cleaner.output.concentrate_ag',\n",
       "       'primary_cleaner.output.concentrate_pb',\n",
       "       'primary_cleaner.output.concentrate_sol',\n",
       "       'primary_cleaner.output.concentrate_au',\n",
       "       'primary_cleaner.output.tail_ag', 'primary_cleaner.output.tail_pb',\n",
       "       'primary_cleaner.output.tail_sol', 'primary_cleaner.output.tail_au',\n",
       "       'primary_cleaner.state.floatbank8_a_air',\n",
       "       'primary_cleaner.state.floatbank8_a_level',\n",
       "       'primary_cleaner.state.floatbank8_b_air',\n",
       "       'primary_cleaner.state.floatbank8_b_level',\n",
       "       'primary_cleaner.state.floatbank8_c_air',\n",
       "       'primary_cleaner.state.floatbank8_c_level',\n",
       "       'primary_cleaner.state.floatbank8_d_air',\n",
       "       'primary_cleaner.state.floatbank8_d_level',\n",
       "       'rougher.calculation.sulfate_to_au_concentrate',\n",
       "       'rougher.calculation.floatbank10_sulfate_to_au_feed',\n",
       "       'rougher.calculation.floatbank11_sulfate_to_au_feed',\n",
       "       'rougher.calculation.au_pb_ratio', 'rougher.input.feed_ag',\n",
       "       'rougher.input.feed_pb', 'rougher.input.feed_rate',\n",
       "       'rougher.input.feed_size', 'rougher.input.feed_sol',\n",
       "       'rougher.input.feed_au', 'rougher.input.floatbank10_sulfate',\n",
       "       'rougher.input.floatbank10_xanthate',\n",
       "       'rougher.input.floatbank11_sulfate',\n",
       "       'rougher.input.floatbank11_xanthate', 'rougher.output.concentrate_ag',\n",
       "       'rougher.output.concentrate_pb', 'rougher.output.concentrate_sol',\n",
       "       'rougher.output.concentrate_au', 'rougher.output.recovery',\n",
       "       'rougher.output.tail_ag', 'rougher.output.tail_pb',\n",
       "       'rougher.output.tail_sol', 'rougher.output.tail_au',\n",
       "       'rougher.state.floatbank10_a_air', 'rougher.state.floatbank10_a_level',\n",
       "       'rougher.state.floatbank10_b_air', 'rougher.state.floatbank10_b_level',\n",
       "       'rougher.state.floatbank10_c_air', 'rougher.state.floatbank10_c_level',\n",
       "       'rougher.state.floatbank10_d_air', 'rougher.state.floatbank10_d_level',\n",
       "       'rougher.state.floatbank10_e_air', 'rougher.state.floatbank10_e_level',\n",
       "       'rougher.state.floatbank10_f_air', 'rougher.state.floatbank10_f_level',\n",
       "       'secondary_cleaner.output.tail_ag', 'secondary_cleaner.output.tail_pb',\n",
       "       'secondary_cleaner.output.tail_sol', 'secondary_cleaner.output.tail_au',\n",
       "       'secondary_cleaner.state.floatbank2_a_air',\n",
       "       'secondary_cleaner.state.floatbank2_a_level',\n",
       "       'secondary_cleaner.state.floatbank2_b_air',\n",
       "       'secondary_cleaner.state.floatbank2_b_level',\n",
       "       'secondary_cleaner.state.floatbank3_a_air',\n",
       "       'secondary_cleaner.state.floatbank3_a_level',\n",
       "       'secondary_cleaner.state.floatbank3_b_air',\n",
       "       'secondary_cleaner.state.floatbank3_b_level',\n",
       "       'secondary_cleaner.state.floatbank4_a_air',\n",
       "       'secondary_cleaner.state.floatbank4_a_level',\n",
       "       'secondary_cleaner.state.floatbank4_b_air',\n",
       "       'secondary_cleaner.state.floatbank4_b_level',\n",
       "       'secondary_cleaner.state.floatbank5_a_air',\n",
       "       'secondary_cleaner.state.floatbank5_a_level',\n",
       "       'secondary_cleaner.state.floatbank5_b_air',\n",
       "       'secondary_cleaner.state.floatbank5_b_level',\n",
       "       'secondary_cleaner.state.floatbank6_a_air',\n",
       "       'secondary_cleaner.state.floatbank6_a_level'],\n",
       "      dtype='object')"
      ]
     },
     "execution_count": 214,
     "metadata": {},
     "output_type": "execute_result"
    }
   ],
   "source": [
    "full_train.columns"
   ]
  },
  {
   "cell_type": "code",
   "execution_count": 215,
   "metadata": {
    "pycharm": {
     "name": "#%%\n"
    }
   },
   "outputs": [
    {
     "data": {
      "text/plain": [
       "<matplotlib.axes._subplots.AxesSubplot at 0x7f93899a83d0>"
      ]
     },
     "execution_count": 215,
     "metadata": {},
     "output_type": "execute_result"
    },
    {
     "data": {
      "image/png": "[encoded data removed]",
      "text/plain": [
       "<Figure size 864x576 with 1 Axes>"
      ]
     },
     "metadata": {
      "needs_background": "light"
     },
     "output_type": "display_data"
    }
   ],
   "source": [
    "primary_concentrate = (full.loc[:, full.columns.str.contains('primary_cleaner.output.concentrate')])\n",
    "primary_concentrate.plot(kind='hist', figsize=(12, 8), alpha=0.5, bins=100)"
   ]
  },
  {
   "cell_type": "markdown",
   "metadata": {
    "pycharm": {
     "name": "#%% md\n"
    }
   },
   "source": [
    "Видно, что теперь в образцах преобладает золото. Концентрации золи, серебра и свинца стали примерно одинаковы."
   ]
  },
  {
   "cell_type": "markdown",
   "metadata": {
    "pycharm": {
     "name": "#%% md\n"
    }
   },
   "source": [
    "#### Вторичная очистка"
   ]
  },
  {
   "cell_type": "markdown",
   "metadata": {
    "pycharm": {
     "name": "#%% md\n"
    }
   },
   "source": [
    "##### Хвосты после вторичной очистки"
   ]
  },
  {
   "cell_type": "markdown",
   "metadata": {
    "pycharm": {
     "name": "#%% md\n"
    }
   },
   "source": [
    "Наконец, оценим концентрацию веществ в хвостах после вторичной очистки."
   ]
  },
  {
   "cell_type": "code",
   "execution_count": 216,
   "metadata": {
    "pycharm": {
     "name": "#%%\n"
    }
   },
   "outputs": [
    {
     "data": {
      "text/plain": [
       "<matplotlib.axes._subplots.AxesSubplot at 0x7f938febcd90>"
      ]
     },
     "execution_count": 216,
     "metadata": {},
     "output_type": "execute_result"
    },
    {
     "data": {
      "image/png": "[encoded data removed]",
      "text/plain": [
       "<Figure size 864x576 with 1 Axes>"
      ]
     },
     "metadata": {
      "needs_background": "light"
     },
     "output_type": "display_data"
    }
   ],
   "source": [
    "secondary_tail = (full.loc[:, full.columns.str.contains('secondary_cleaner.output')])\n",
    "secondary_tail.plot(kind='hist', figsize=(12, 8), alpha=0.5, bins=100)"
   ]
  },
  {
   "cell_type": "markdown",
   "metadata": {
    "pycharm": {
     "name": "#%% md\n"
    }
   },
   "source": [
    "Видно, что в хвостах теперь распределения концентраций серебра и золи стали менее \"нормальными\", так как разные концентрации в них стали встречаться с примерно одинаковой частотой."
   ]
  },
  {
   "cell_type": "markdown",
   "metadata": {
    "pycharm": {
     "name": "#%% md\n"
    }
   },
   "source": [
    "##### Концентрат после вторичной очистки"
   ]
  },
  {
   "cell_type": "markdown",
   "metadata": {
    "pycharm": {
     "name": "#%% md\n"
    }
   },
   "source": [
    "Согласно схеме очистки золотосодержащей руды, финальным концентратом является концентрат после вторичной очистки. Посмотрим на распределение веществ в нем."
   ]
  },
  {
   "cell_type": "code",
   "execution_count": 217,
   "metadata": {
    "pycharm": {
     "name": "#%%\n"
    }
   },
   "outputs": [
    {
     "data": {
      "text/plain": [
       "<matplotlib.axes._subplots.AxesSubplot at 0x7f938f835350>"
      ]
     },
     "execution_count": 217,
     "metadata": {},
     "output_type": "execute_result"
    },
    {
     "data": {
      "image/png": "[encoded data removed]",
      "text/plain": [
       "<Figure size 864x576 with 1 Axes>"
      ]
     },
     "metadata": {
      "needs_background": "light"
     },
     "output_type": "display_data"
    }
   ],
   "source": [
    "final_concentrate = (full.loc[:, full.columns.str.contains('final.output.concentrate')])\n",
    "final_concentrate.plot(kind='hist', figsize=(12, 8), alpha=0.5, bins=100)"
   ]
  },
  {
   "cell_type": "markdown",
   "metadata": {
    "pycharm": {
     "name": "#%% md\n"
    }
   },
   "source": [
    "Видно, что теперь в концентрате сильно преобладает золото. Далее по содержанию идет золь и свинец, на последнем месте - серебро."
   ]
  },
  {
   "cell_type": "markdown",
   "metadata": {
    "pycharm": {
     "name": "#%% md\n"
    }
   },
   "source": [
    "##### Финальные хвосты"
   ]
  },
  {
   "cell_type": "markdown",
   "metadata": {
    "pycharm": {
     "name": "#%% md\n"
    }
   },
   "source": [
    "Под финальными хвостами, по всей видимости, подразумевается смесь хвостов после флотации, а также первичной и вторичной очисток. Посмотрим на распределения."
   ]
  },
  {
   "cell_type": "code",
   "execution_count": 218,
   "metadata": {
    "pycharm": {
     "name": "#%%\n"
    }
   },
   "outputs": [
    {
     "data": {
      "text/plain": [
       "<matplotlib.axes._subplots.AxesSubplot at 0x7f938f35f6d0>"
      ]
     },
     "execution_count": 218,
     "metadata": {},
     "output_type": "execute_result"
    },
    {
     "data": {
      "image/png": "[encoded data removed]",
      "text/plain": [
       "<Figure size 864x576 with 1 Axes>"
      ]
     },
     "metadata": {
      "needs_background": "light"
     },
     "output_type": "display_data"
    }
   ],
   "source": [
    "final_tail = (full.loc[:, full.columns.str.contains('final.output.tail')])\n",
    "final_tail.plot(kind='hist', figsize=(12, 8), alpha=0.5, bins=100)"
   ]
  },
  {
   "cell_type": "markdown",
   "metadata": {
    "pycharm": {
     "name": "#%% md\n"
    }
   },
   "source": [
    "Действительно, финальные концентраты в основном состоят из золи и серебра."
   ]
  },
  {
   "cell_type": "markdown",
   "metadata": {
    "pycharm": {
     "name": "#%% md\n"
    }
   },
   "source": [
    "### Сравниваем размеры гранул"
   ]
  },
  {
   "cell_type": "markdown",
   "metadata": {
    "pycharm": {
     "name": "#%% md\n"
    }
   },
   "source": [
    "На втором этапе нам необходимо сравнить размеры гранул в тренировочной и тестовой выборках. Необходимо убедиться, что распределения в данном случае одинаковы."
   ]
  },
  {
   "cell_type": "markdown",
   "metadata": {
    "pycharm": {
     "name": "#%% md\n"
    }
   },
   "source": [
    "#### Перед флотацией"
   ]
  },
  {
   "cell_type": "code",
   "execution_count": 219,
   "metadata": {
    "pycharm": {
     "name": "#%%\n"
    }
   },
   "outputs": [
    {
     "data": {
      "text/plain": [
       "(-2, 150)"
      ]
     },
     "execution_count": 219,
     "metadata": {},
     "output_type": "execute_result"
    },
    {
     "data": {
      "image/png": "[encoded data removed]",
      "text/plain": [
       "<Figure size 864x576 with 1 Axes>"
      ]
     },
     "metadata": {
      "needs_background": "light"
     },
     "output_type": "display_data"
    }
   ],
   "source": [
    "fig, ax = plt.subplots()\n",
    "full_train['rougher.input.feed_size'].plot(kind='hist', ax=ax, density=True,\n",
    "                                           figsize=(12, 8), alpha=0.5, bins=200, label='Train', legend=True)\n",
    "test['rougher.input.feed_size'].plot(kind='hist', ax=ax, density=True,\n",
    "                                     figsize=(12, 8), alpha=0.5, bins=200, label='Test', legend=True)\n",
    "ax.set_xlim([-2, 150])"
   ]
  },
  {
   "cell_type": "markdown",
   "metadata": {
    "pycharm": {
     "name": "#%% md\n"
    }
   },
   "source": [
    "Видно, что распределения в данном случае немного различаются. В тренировочной выборке распределение является более нормальным, при этом в тестовой похоже на бимодальное.\n",
    "\n",
    "Посчитаем числовые характеристики распределений."
   ]
  },
  {
   "cell_type": "code",
   "execution_count": 220,
   "metadata": {
    "pycharm": {
     "name": "#%%\n"
    }
   },
   "outputs": [
    {
     "data": {
      "text/html": [
       "<div>\n",
       "<style scoped>\n",
       "    .dataframe tbody tr th:only-of-type {\n",
       "        vertical-align: middle;\n",
       "    }\n",
       "\n",
       "    .dataframe tbody tr th {\n",
       "        vertical-align: top;\n",
       "    }\n",
       "\n",
       "    .dataframe thead th {\n",
       "        text-align: right;\n",
       "    }\n",
       "</style>\n",
       "<table border=\"1\" class=\"dataframe\">\n",
       "  <thead>\n",
       "    <tr style=\"text-align: right;\">\n",
       "      <th></th>\n",
       "      <th>rougher.input.feed_size</th>\n",
       "      <th>rougher.input.feed_size</th>\n",
       "    </tr>\n",
       "  </thead>\n",
       "  <tbody>\n",
       "    <tr>\n",
       "      <td>count</td>\n",
       "      <td>5289.000000</td>\n",
       "      <td>14005.000000</td>\n",
       "    </tr>\n",
       "    <tr>\n",
       "      <td>mean</td>\n",
       "      <td>55.951097</td>\n",
       "      <td>60.110518</td>\n",
       "    </tr>\n",
       "    <tr>\n",
       "      <td>std</td>\n",
       "      <td>19.081758</td>\n",
       "      <td>22.418485</td>\n",
       "    </tr>\n",
       "    <tr>\n",
       "      <td>min</td>\n",
       "      <td>0.046369</td>\n",
       "      <td>9.659576</td>\n",
       "    </tr>\n",
       "    <tr>\n",
       "      <td>25%</td>\n",
       "      <td>43.906347</td>\n",
       "      <td>48.973027</td>\n",
       "    </tr>\n",
       "    <tr>\n",
       "      <td>50%</td>\n",
       "      <td>50.841029</td>\n",
       "      <td>55.373885</td>\n",
       "    </tr>\n",
       "    <tr>\n",
       "      <td>75%</td>\n",
       "      <td>62.431047</td>\n",
       "      <td>66.080172</td>\n",
       "    </tr>\n",
       "    <tr>\n",
       "      <td>max</td>\n",
       "      <td>392.494040</td>\n",
       "      <td>484.967466</td>\n",
       "    </tr>\n",
       "  </tbody>\n",
       "</table>\n",
       "</div>"
      ],
      "text/plain": [
       "       rougher.input.feed_size  rougher.input.feed_size\n",
       "count              5289.000000             14005.000000\n",
       "mean                 55.951097                60.110518\n",
       "std                  19.081758                22.418485\n",
       "min                   0.046369                 9.659576\n",
       "25%                  43.906347                48.973027\n",
       "50%                  50.841029                55.373885\n",
       "75%                  62.431047                66.080172\n",
       "max                 392.494040               484.967466"
      ]
     },
     "execution_count": 220,
     "metadata": {},
     "output_type": "execute_result"
    }
   ],
   "source": [
    "pd.concat([test['rougher.input.feed_size'], full_train['rougher.input.feed_size']], axis=1).describe()"
   ]
  },
  {
   "cell_type": "markdown",
   "metadata": {
    "pycharm": {
     "name": "#%% md\n"
    }
   },
   "source": [
    "Итак, видно, что:\n",
    "- Причиной бимодальности распределения значений тестовой выборки может быть меньшее количество наблюдений в ней в 3 раза по сравнению с тренировочной.\n",
    "- Среднее и медиана для выборок различаются не сильно и лежат в области 50.8 - 60.1 (скорее всего мм)."
   ]
  },
  {
   "cell_type": "markdown",
   "metadata": {
    "pycharm": {
     "name": "#%% md\n"
    }
   },
   "source": [
    "#### Перед очисткой"
   ]
  },
  {
   "cell_type": "markdown",
   "metadata": {
    "pycharm": {
     "name": "#%% md\n"
    }
   },
   "source": [
    "Посмотрим на распределения размеров частиц для обоих выборок перед очисткой."
   ]
  },
  {
   "cell_type": "code",
   "execution_count": 221,
   "metadata": {
    "pycharm": {
     "name": "#%%\n"
    }
   },
   "outputs": [
    {
     "data": {
      "text/plain": [
       "(2, 14)"
      ]
     },
     "execution_count": 221,
     "metadata": {},
     "output_type": "execute_result"
    },
    {
     "data": {
      "image/png": "[encoded data removed]",
      "text/plain": [
       "<Figure size 864x576 with 1 Axes>"
      ]
     },
     "metadata": {
      "needs_background": "light"
     },
     "output_type": "display_data"
    }
   ],
   "source": [
    "fig, ax = plt.subplots()\n",
    "full_train['primary_cleaner.input.feed_size'].plot(kind='hist', ax=ax, density=True, \n",
    "                                                   figsize=(12, 8), alpha=0.5, bins=100, label='Train', legend=True)\n",
    "test['primary_cleaner.input.feed_size'].plot(kind='hist', ax=ax, density=True, \n",
    "                                             figsize=(12, 8), alpha=0.5, bins=100, label='Test', legend=True)\n",
    "ax.set_xlim([2, 14])"
   ]
  },
  {
   "cell_type": "markdown",
   "metadata": {
    "pycharm": {
     "name": "#%% md\n"
    }
   },
   "source": [
    "Видно, что в данном случае распределения близки друг к другу.\n",
    "\n",
    "Также посчитаем числовые характеристики распределений."
   ]
  },
  {
   "cell_type": "code",
   "execution_count": 222,
   "metadata": {
    "pycharm": {
     "name": "#%%\n"
    }
   },
   "outputs": [
    {
     "data": {
      "text/html": [
       "<div>\n",
       "<style scoped>\n",
       "    .dataframe tbody tr th:only-of-type {\n",
       "        vertical-align: middle;\n",
       "    }\n",
       "\n",
       "    .dataframe tbody tr th {\n",
       "        vertical-align: top;\n",
       "    }\n",
       "\n",
       "    .dataframe thead th {\n",
       "        text-align: right;\n",
       "    }\n",
       "</style>\n",
       "<table border=\"1\" class=\"dataframe\">\n",
       "  <thead>\n",
       "    <tr style=\"text-align: right;\">\n",
       "      <th></th>\n",
       "      <th>primary_cleaner.input.feed_size</th>\n",
       "      <th>primary_cleaner.input.feed_size</th>\n",
       "    </tr>\n",
       "  </thead>\n",
       "  <tbody>\n",
       "    <tr>\n",
       "      <td>count</td>\n",
       "      <td>5290.000000</td>\n",
       "      <td>14149.000000</td>\n",
       "    </tr>\n",
       "    <tr>\n",
       "      <td>mean</td>\n",
       "      <td>7.266339</td>\n",
       "      <td>7.322310</td>\n",
       "    </tr>\n",
       "    <tr>\n",
       "      <td>std</td>\n",
       "      <td>0.610219</td>\n",
       "      <td>0.614062</td>\n",
       "    </tr>\n",
       "    <tr>\n",
       "      <td>min</td>\n",
       "      <td>5.650000</td>\n",
       "      <td>1.080000</td>\n",
       "    </tr>\n",
       "    <tr>\n",
       "      <td>25%</td>\n",
       "      <td>6.890000</td>\n",
       "      <td>6.960000</td>\n",
       "    </tr>\n",
       "    <tr>\n",
       "      <td>50%</td>\n",
       "      <td>7.250000</td>\n",
       "      <td>7.290000</td>\n",
       "    </tr>\n",
       "    <tr>\n",
       "      <td>75%</td>\n",
       "      <td>7.600000</td>\n",
       "      <td>7.700000</td>\n",
       "    </tr>\n",
       "    <tr>\n",
       "      <td>max</td>\n",
       "      <td>15.500000</td>\n",
       "      <td>10.470000</td>\n",
       "    </tr>\n",
       "  </tbody>\n",
       "</table>\n",
       "</div>"
      ],
      "text/plain": [
       "       primary_cleaner.input.feed_size  primary_cleaner.input.feed_size\n",
       "count                      5290.000000                     14149.000000\n",
       "mean                          7.266339                         7.322310\n",
       "std                           0.610219                         0.614062\n",
       "min                           5.650000                         1.080000\n",
       "25%                           6.890000                         6.960000\n",
       "50%                           7.250000                         7.290000\n",
       "75%                           7.600000                         7.700000\n",
       "max                          15.500000                        10.470000"
      ]
     },
     "execution_count": 222,
     "metadata": {},
     "output_type": "execute_result"
    }
   ],
   "source": [
    "pd.concat([test['primary_cleaner.input.feed_size'], full_train['primary_cleaner.input.feed_size']], axis=1).describe()"
   ]
  },
  {
   "cell_type": "markdown",
   "metadata": {
    "pycharm": {
     "name": "#%% md\n"
    }
   },
   "source": [
    "Также видно, что частицы стали меньше по сравнению с размерами перед флотацией. Среднее и медиана для обоих выборок лежат в диапазоне 7.2 - 7.3 (также скорее всего мм)."
   ]
  },
  {
   "cell_type": "markdown",
   "metadata": {
    "pycharm": {
     "name": "#%% md\n"
    }
   },
   "source": [
    "### Посчитаем концентрации металлов на разных стадиях и построим гистограмму"
   ]
  },
  {
   "cell_type": "markdown",
   "metadata": {
    "pycharm": {
     "name": "#%% md\n"
    }
   },
   "source": [
    "Теперь посчитаем общие концентрации веществ в сырье перед флотацией и концентратах."
   ]
  },
  {
   "cell_type": "code",
   "execution_count": 223,
   "metadata": {
    "pycharm": {
     "name": "#%%\n"
    }
   },
   "outputs": [],
   "source": [
    "concentrations_sum = {}\n",
    "\n",
    "concentrations_sum['rougher_input'] = rougher_input.sum(axis=1)\n",
    "concentrations_sum['rougher_concentrate'] = rougher_concentrate.sum(axis=1)\n",
    "concentrations_sum['final_concentrate'] = final_concentrate.sum(axis=1)\n",
    "\n",
    "concentrations_sum = pd.DataFrame(concentrations_sum)"
   ]
  },
  {
   "cell_type": "markdown",
   "metadata": {
    "pycharm": {
     "name": "#%% md\n"
    }
   },
   "source": [
    "Посмотрим на распределения."
   ]
  },
  {
   "cell_type": "code",
   "execution_count": 224,
   "metadata": {
    "pycharm": {
     "name": "#%%\n"
    }
   },
   "outputs": [
    {
     "data": {
      "text/plain": [
       "<matplotlib.axes._subplots.AxesSubplot at 0x7f938e5b1b90>"
      ]
     },
     "execution_count": 224,
     "metadata": {},
     "output_type": "execute_result"
    },
    {
     "data": {
      "image/png": "[encoded data removed]",
      "text/plain": [
       "<Figure size 864x576 with 1 Axes>"
      ]
     },
     "metadata": {
      "needs_background": "light"
     },
     "output_type": "display_data"
    }
   ],
   "source": [
    "concentrations_sum.plot(kind='hist', figsize=(12, 8), bins=100, alpha=0.5)"
   ]
  },
  {
   "cell_type": "markdown",
   "metadata": {
    "pycharm": {
     "name": "#%% md\n"
    }
   },
   "source": [
    "По полученным гистограммам видно, что:\n",
    "1. В сырье также присутствуют и другие элементы, так как суммарная концентрация не равна 100.\n",
    "2. Общая концентрация веществ в сырье перед флотацией меньше всего и имеет достаточно широкое распределение. \n",
    "3. После флотации распределение концентраций в образцах также остается широким, но общая концентрация веществ растет. \n",
    "4. В финальном концентрате распределение концентраций веществ становится становится более узким."
   ]
  },
  {
   "cell_type": "markdown",
   "metadata": {
    "pycharm": {
     "name": "#%% md\n"
    }
   },
   "source": [
    "Однако, в распределениях наблюдаются нулевые суммарные концентрации. Это может привести к проблемам в предсказании моделей. От этих строк лучше избавиться.\n",
    "\n",
    "Посмотрим, в каких этапах очистки наблюдается такая проблема."
   ]
  },
  {
   "cell_type": "code",
   "execution_count": 225,
   "metadata": {
    "pycharm": {
     "name": "#%%\n"
    }
   },
   "outputs": [
    {
     "data": {
      "text/html": [
       "<div>\n",
       "<style scoped>\n",
       "    .dataframe tbody tr th:only-of-type {\n",
       "        vertical-align: middle;\n",
       "    }\n",
       "\n",
       "    .dataframe tbody tr th {\n",
       "        vertical-align: top;\n",
       "    }\n",
       "\n",
       "    .dataframe thead th {\n",
       "        text-align: right;\n",
       "    }\n",
       "</style>\n",
       "<table border=\"1\" class=\"dataframe\">\n",
       "  <thead>\n",
       "    <tr style=\"text-align: right;\">\n",
       "      <th></th>\n",
       "      <th>rougher_input</th>\n",
       "      <th>rougher_concentrate</th>\n",
       "      <th>final_concentrate</th>\n",
       "    </tr>\n",
       "  </thead>\n",
       "  <tbody>\n",
       "    <tr>\n",
       "      <td>count</td>\n",
       "      <td>19439.000000</td>\n",
       "      <td>19439.000000</td>\n",
       "      <td>19439.000000</td>\n",
       "    </tr>\n",
       "    <tr>\n",
       "      <td>mean</td>\n",
       "      <td>57.320789</td>\n",
       "      <td>68.170865</td>\n",
       "      <td>68.653624</td>\n",
       "    </tr>\n",
       "    <tr>\n",
       "      <td>std</td>\n",
       "      <td>7.212680</td>\n",
       "      <td>12.491279</td>\n",
       "      <td>7.427536</td>\n",
       "    </tr>\n",
       "    <tr>\n",
       "      <td>min</td>\n",
       "      <td>0.040000</td>\n",
       "      <td>0.000000</td>\n",
       "      <td>0.000000</td>\n",
       "    </tr>\n",
       "    <tr>\n",
       "      <td>25%</td>\n",
       "      <td>53.557679</td>\n",
       "      <td>66.012495</td>\n",
       "      <td>67.932362</td>\n",
       "    </tr>\n",
       "    <tr>\n",
       "      <td>50%</td>\n",
       "      <td>57.594391</td>\n",
       "      <td>70.181495</td>\n",
       "      <td>69.598444</td>\n",
       "    </tr>\n",
       "    <tr>\n",
       "      <td>75%</td>\n",
       "      <td>61.953459</td>\n",
       "      <td>74.356904</td>\n",
       "      <td>71.368472</td>\n",
       "    </tr>\n",
       "    <tr>\n",
       "      <td>max</td>\n",
       "      <td>76.978947</td>\n",
       "      <td>88.140119</td>\n",
       "      <td>80.210644</td>\n",
       "    </tr>\n",
       "  </tbody>\n",
       "</table>\n",
       "</div>"
      ],
      "text/plain": [
       "       rougher_input  rougher_concentrate  final_concentrate\n",
       "count   19439.000000         19439.000000       19439.000000\n",
       "mean       57.320789            68.170865          68.653624\n",
       "std         7.212680            12.491279           7.427536\n",
       "min         0.040000             0.000000           0.000000\n",
       "25%        53.557679            66.012495          67.932362\n",
       "50%        57.594391            70.181495          69.598444\n",
       "75%        61.953459            74.356904          71.368472\n",
       "max        76.978947            88.140119          80.210644"
      ]
     },
     "execution_count": 225,
     "metadata": {},
     "output_type": "execute_result"
    }
   ],
   "source": [
    "concentrations_sum.describe()"
   ]
  },
  {
   "cell_type": "markdown",
   "metadata": {
    "pycharm": {
     "name": "#%% md\n"
    }
   },
   "source": [
    "Видно, что это наблюдается в концентратах после флотации и финальных концентратах. \n",
    "\n",
    "Однако, в наших тренировочной и тестовой выборках есть только концентрации веществ в сырье перед флотацией. Столбцов с концентрациями элементов после флотации и финальной очистки нет.\n",
    "\n",
    "Поэтому из них можно ничего не удалять."
   ]
  },
  {
   "cell_type": "markdown",
   "metadata": {
    "pycharm": {
     "name": "#%% md\n"
    }
   },
   "source": [
    "**Выводы:**\n",
    "\n",
    "В данном пункте было сделано следующее:\n",
    "1. Проведено исследование того, как меняются концентрации веществ на разных этапах очистки.\n",
    "2. Сравнены размеры гранул перед флотацией и перед очисткой в тестовой и тренировочной выборках. Сами распределения хоть немного и различатся, но их средние и медианы близки.\n",
    "3. Посчитаны общие концентрации веществ на разных этапах очистки."
   ]
  },
  {
   "cell_type": "markdown",
   "metadata": {
    "pycharm": {
     "name": "#%% md\n"
    }
   },
   "source": [
    "## Модель"
   ]
  },
  {
   "cell_type": "markdown",
   "metadata": {
    "pycharm": {
     "name": "#%% md\n"
    }
   },
   "source": [
    "Теперь нам необходимо построить модели, которые бы предсказывали эффективность обогащения чернового и финального концентратов."
   ]
  },
  {
   "cell_type": "markdown",
   "metadata": {
    "pycharm": {
     "name": "#%% md\n"
    }
   },
   "source": [
    "### Функция для sMAPE"
   ]
  },
  {
   "cell_type": "markdown",
   "metadata": {
    "pycharm": {
     "name": "#%% md\n"
    }
   },
   "source": [
    "Напишем функцию, которая рассчитывает метрику качества sMAPE.\n",
    "\n",
    "Используем полученную функцию для создания новой метрики качества модели."
   ]
  },
  {
   "cell_type": "code",
   "execution_count": 226,
   "metadata": {
    "pycharm": {
     "name": "#%%\n"
    }
   },
   "outputs": [],
   "source": [
    "def smape(target, predict):\n",
    "    smape = sum((abs(predict - target)) / ((abs(predict) + abs(target)) / 2)) / len(target)\n",
    "    return smape\n",
    "\n",
    "smape_scorer = make_scorer(smape)"
   ]
  },
  {
   "cell_type": "markdown",
   "metadata": {
    "pycharm": {
     "name": "#%% md\n"
    }
   },
   "source": [
    "### Эффективность обогащения чернового концентрата"
   ]
  },
  {
   "cell_type": "markdown",
   "metadata": {
    "pycharm": {
     "name": "#%% md\n"
    }
   },
   "source": [
    "Построим модель для предсказывания эффективности чернового концентрата.\n",
    "\n",
    "В этом случае нам необходимо использовать параметры, которые известны только на этом этапе. Так как на этапе флотации нам неизвестны параметры, например, вторичной очистки. Поэтому из тренировочных данных мы удалим все параметры, которые не относятся к этапу флотации."
   ]
  },
  {
   "cell_type": "code",
   "execution_count": 227,
   "metadata": {
    "pycharm": {
     "name": "#%%\n"
    }
   },
   "outputs": [],
   "source": [
    "X_r = pd.concat([train['date'], train.loc[:, train.columns.str.contains('rougher')]], axis=1).set_index('date')\n",
    "Y_r = full.set_index('date').loc[X_r.index, 'rougher.output.recovery'].values"
   ]
  },
  {
   "cell_type": "markdown",
   "metadata": {
    "pycharm": {
     "name": "#%% md\n"
    }
   },
   "source": [
    "Так как нам необходимо предсказывать числовые значения на основе других числовых значений, логичнее всего использовать модель линейной регрессии с кросс-валидацией."
   ]
  },
  {
   "cell_type": "code",
   "execution_count": 228,
   "metadata": {
    "pycharm": {
     "name": "#%%\n"
    }
   },
   "outputs": [],
   "source": [
    "model_r = LinearRegression()\n",
    "model_r.fit(X_r, Y_r)\n",
    "cross_val_r = cross_val_score(model_r, X_r, Y_r, cv=10, scoring=smape_scorer)\n",
    "smape_r = cross_val_r.mean()"
   ]
  },
  {
   "cell_type": "markdown",
   "metadata": {
    "pycharm": {
     "name": "#%% md\n"
    }
   },
   "source": [
    "Посчитаем среднюю метрику sMAPE для кросс-валидации."
   ]
  },
  {
   "cell_type": "code",
   "execution_count": 229,
   "metadata": {
    "pycharm": {
     "name": "#%%\n"
    }
   },
   "outputs": [
    {
     "name": "stdout",
     "output_type": "stream",
     "text": [
      "sMAPE для модели предсказания эффективности чернового концентрата составляет 11.06 %\n"
     ]
    }
   ],
   "source": [
    "print(f'sMAPE для модели предсказания эффективности чернового концентрата составляет {smape_r*100:.2f} %')"
   ]
  },
  {
   "cell_type": "markdown",
   "metadata": {
    "pycharm": {
     "name": "#%% md\n"
    }
   },
   "source": [
    "### Эффективность обогащения финального концентрата"
   ]
  },
  {
   "cell_type": "markdown",
   "metadata": {
    "pycharm": {
     "name": "#%% md\n"
    }
   },
   "source": [
    "Построим модель для предсказывания эффективности чернового концентрата.\n",
    "\n",
    "В этом случае можно использовать все параметры, которые присутствуют в выборке."
   ]
  },
  {
   "cell_type": "code",
   "execution_count": 230,
   "metadata": {
    "pycharm": {
     "name": "#%%\n"
    }
   },
   "outputs": [],
   "source": [
    "X_f = train.set_index('date')\n",
    "Y_f = full.set_index('date').loc[X_f.index, 'final.output.recovery'].values"
   ]
  },
  {
   "cell_type": "markdown",
   "metadata": {
    "pycharm": {
     "name": "#%% md\n"
    }
   },
   "source": [
    "Также построим модель линейной регрессии с кросс-валидацией."
   ]
  },
  {
   "cell_type": "code",
   "execution_count": 231,
   "metadata": {
    "pycharm": {
     "name": "#%%\n"
    }
   },
   "outputs": [],
   "source": [
    "model_f = LinearRegression()\n",
    "model_f.fit(X_f, Y_f)\n",
    "cross_val_f = cross_val_score(model_f, X_f, Y_f, cv=10, scoring=smape_scorer)\n",
    "smape_f = cross_val_f.mean()"
   ]
  },
  {
   "cell_type": "markdown",
   "metadata": {
    "pycharm": {
     "name": "#%% md\n"
    }
   },
   "source": [
    "Посчитаем среднюю метрику sMAPE для кросс-валидации."
   ]
  },
  {
   "cell_type": "code",
   "execution_count": 232,
   "metadata": {
    "pycharm": {
     "name": "#%%\n"
    }
   },
   "outputs": [
    {
     "name": "stdout",
     "output_type": "stream",
     "text": [
      "sMAPE для модели предсказания эффективности финального концентрата составляет 11.57 %\n"
     ]
    }
   ],
   "source": [
    "print(f'sMAPE для модели предсказания эффективности финального концентрата составляет {smape_f*100:.2f} %')"
   ]
  },
  {
   "cell_type": "markdown",
   "metadata": {
    "pycharm": {
     "name": "#%% md\n"
    }
   },
   "source": [
    "### Итоговое sMAPE на тестовой выборке"
   ]
  },
  {
   "cell_type": "markdown",
   "metadata": {
    "pycharm": {
     "name": "#%% md\n"
    }
   },
   "source": [
    "Заполним пропуски в тестовой выборке так же, как мы это делали для других выборок."
   ]
  },
  {
   "cell_type": "code",
   "execution_count": 233,
   "metadata": {
    "pycharm": {
     "name": "#%%\n"
    }
   },
   "outputs": [],
   "source": [
    "test.fillna(method='ffill', inplace=True)"
   ]
  },
  {
   "cell_type": "markdown",
   "metadata": {
    "pycharm": {
     "name": "#%% md\n"
    }
   },
   "source": [
    "###### Эффективность обогащения чернового концентрата"
   ]
  },
  {
   "cell_type": "markdown",
   "metadata": {
    "pycharm": {
     "name": "#%% md\n"
    }
   },
   "source": [
    "Сначала проверим предсказание эффективности обогащения чернового концентрата. \n",
    "\n",
    "Удалим лишние столбцы из тестовой выборки для этой модели."
   ]
  },
  {
   "cell_type": "code",
   "execution_count": 234,
   "metadata": {
    "pycharm": {
     "name": "#%%\n"
    }
   },
   "outputs": [],
   "source": [
    "test_X_r = pd.concat([test['date'], test.loc[:, test.columns.str.contains('rougher')]], axis=1).set_index('date')\n",
    "test_Y_r = full.set_index('date').loc[test_X_r.index, 'rougher.output.recovery'].values"
   ]
  },
  {
   "cell_type": "markdown",
   "metadata": {
    "pycharm": {
     "name": "#%% md\n"
    }
   },
   "source": [
    "Посчитаем sMAPE на тестовой выборке."
   ]
  },
  {
   "cell_type": "code",
   "execution_count": 235,
   "metadata": {
    "pycharm": {
     "name": "#%%\n"
    }
   },
   "outputs": [
    {
     "name": "stdout",
     "output_type": "stream",
     "text": [
      "sMAPE для модели предсказания эффективности чернового концентрата составляет 9.32 %\n"
     ]
    }
   ],
   "source": [
    "test_smape_r = smape(test_Y_r, model_r.predict(test_X_r))\n",
    "print(f'sMAPE для модели предсказания эффективности чернового концентрата составляет {test_smape_r*100:.2f} %')"
   ]
  },
  {
   "cell_type": "markdown",
   "metadata": {
    "pycharm": {
     "name": "#%% md\n"
    }
   },
   "source": [
    "Чтобы сравнить адекватность полученной метрики, попробуем посчитать sMAPE, предсказав везде медианные значения целевого признака."
   ]
  },
  {
   "cell_type": "code",
   "execution_count": 236,
   "metadata": {
    "pycharm": {
     "name": "#%%\n"
    }
   },
   "outputs": [
    {
     "name": "stdout",
     "output_type": "stream",
     "text": [
      "sMAPE для для модели медианных предсказаний составляет 8.06 %\n"
     ]
    }
   ],
   "source": [
    "smape_median_r = smape(test_Y_r, pd.Series([median(test_Y_r)]*len(test_Y_r)))\n",
    "print(f'sMAPE для для модели медианных предсказаний составляет {smape_median_r*100:.2f} %')"
   ]
  },
  {
   "cell_type": "markdown",
   "metadata": {
    "pycharm": {
     "name": "#%% md\n"
    }
   },
   "source": [
    "###### Эффективность обогащения финального концентрата"
   ]
  },
  {
   "cell_type": "markdown",
   "metadata": {
    "pycharm": {
     "name": "#%% md\n"
    }
   },
   "source": [
    "В данном случае опять же будем использовать все переменные."
   ]
  },
  {
   "cell_type": "code",
   "execution_count": 237,
   "metadata": {
    "pycharm": {
     "name": "#%%\n"
    }
   },
   "outputs": [],
   "source": [
    "test_X_f = test.set_index('date')\n",
    "test_Y_f = full.set_index('date').loc[test_X_f.index, 'final.output.recovery'].values"
   ]
  },
  {
   "cell_type": "code",
   "execution_count": 238,
   "metadata": {
    "pycharm": {
     "name": "#%%\n"
    }
   },
   "outputs": [
    {
     "name": "stdout",
     "output_type": "stream",
     "text": [
      "sMAPE для модели предсказания эффективности финального концентрата составляет 10.04 %\n"
     ]
    }
   ],
   "source": [
    "test_smape_f = smape(test_Y_f, model_f.predict(test_X_f))\n",
    "print(f'sMAPE для модели предсказания эффективности финального концентрата составляет {test_smape_f*100:.2f} %')"
   ]
  },
  {
   "cell_type": "markdown",
   "metadata": {
    "pycharm": {
     "name": "#%% md\n"
    }
   },
   "source": [
    "Чтобы сравнить адекватность полученной метрики, попробуем посчитать sMAPE, предсказав везде медианные значения целевого признака."
   ]
  },
  {
   "cell_type": "code",
   "execution_count": 239,
   "metadata": {
    "pycharm": {
     "name": "#%%\n"
    }
   },
   "outputs": [
    {
     "name": "stdout",
     "output_type": "stream",
     "text": [
      "sMAPE для для модели медианных предсказаний составляет 9.17 %\n"
     ]
    }
   ],
   "source": [
    "smape_median_f = smape(test_Y_f, pd.Series([median(test_Y_f)]*len(test_Y_f)))\n",
    "print(f'sMAPE для для модели медианных предсказаний составляет {smape_median_f*100:.2f} %')"
   ]
  },
  {
   "cell_type": "markdown",
   "metadata": {
    "pycharm": {
     "name": "#%% md\n"
    }
   },
   "source": [
    "###### Итоговое sMAPE"
   ]
  },
  {
   "cell_type": "markdown",
   "metadata": {
    "pycharm": {
     "name": "#%% md\n"
    }
   },
   "source": [
    "Посчитаем итоговое sMAPE"
   ]
  },
  {
   "cell_type": "code",
   "execution_count": 240,
   "metadata": {
    "pycharm": {
     "name": "#%%\n"
    }
   },
   "outputs": [
    {
     "name": "stdout",
     "output_type": "stream",
     "text": [
      "Итоговое sMAPE для моделей составляет 9.86 %\n"
     ]
    }
   ],
   "source": [
    "total_smape = 0.25*test_smape_r + 0.75*test_smape_f\n",
    "print(f'Итоговое sMAPE для моделей составляет {total_smape*100:.2f} %')"
   ]
  },
  {
   "cell_type": "code",
   "execution_count": 241,
   "metadata": {
    "pycharm": {
     "name": "#%%\n"
    }
   },
   "outputs": [
    {
     "name": "stdout",
     "output_type": "stream",
     "text": [
      "Итоговое sMAPE для медианной модели составляет 8.89 %\n"
     ]
    }
   ],
   "source": [
    "total_smape_median = 0.25*smape_median_r + 0.75*smape_median_f\n",
    "print(f'Итоговое sMAPE для медианной модели составляет {total_smape_median*100:.2f} %')"
   ]
  },
  {
   "cell_type": "markdown",
   "metadata": {
    "pycharm": {
     "name": "#%% md\n"
    }
   },
   "source": [
    "Видно, что в данном случае итоговое sMAPE для модели, которая просто предсказывает медиану, оказалось даже ниже, чем значение для созданной модели линейной регрессии."
   ]
  },
  {
   "cell_type": "markdown",
   "metadata": {
    "pycharm": {
     "name": "#%% md\n"
    }
   },
   "source": [
    "### Сравнение предсказаний и реальных значений для обоих моделей"
   ]
  },
  {
   "cell_type": "markdown",
   "metadata": {
    "pycharm": {
     "name": "#%% md\n"
    }
   },
   "source": [
    "Представим графически предсказанные моделями и реальные значения целевого признака."
   ]
  },
  {
   "cell_type": "markdown",
   "metadata": {
    "pycharm": {
     "name": "#%% md\n"
    }
   },
   "source": [
    "#### Предсказание эффективности чернового концентрата"
   ]
  },
  {
   "cell_type": "code",
   "execution_count": 242,
   "metadata": {
    "pycharm": {
     "name": "#%%\n"
    }
   },
   "outputs": [
    {
     "data": {
      "text/plain": [
       "<matplotlib.legend.Legend at 0x7f9386bde890>"
      ]
     },
     "execution_count": 242,
     "metadata": {},
     "output_type": "execute_result"
    },
    {
     "data": {
      "image/png": "[encoded data removed]",
      "text/plain": [
       "<Figure size 864x576 with 1 Axes>"
      ]
     },
     "metadata": {
      "needs_background": "light"
     },
     "output_type": "display_data"
    }
   ],
   "source": [
    "pred_r = model_r.predict(test_X_r)\n",
    "fig, ax = plt.subplots(figsize=(12, 8))\n",
    "ax.scatter(x=range(len(test_Y_r)), y=test_Y_r, label='True', alpha=0.5)\n",
    "ax.scatter(x=range(len(pred_r)), y=pred_r, label='Predict', alpha=0.5)\n",
    "ax.axhline(median(pd.Series(Y_r)), linewidth=2, color='r', label='Median')\n",
    "ax.legend()"
   ]
  },
  {
   "cell_type": "markdown",
   "metadata": {
    "pycharm": {
     "name": "#%% md\n"
    }
   },
   "source": [
    "#### Предсказание эффективности финального концентрата"
   ]
  },
  {
   "cell_type": "code",
   "execution_count": 243,
   "metadata": {
    "pycharm": {
     "name": "#%%\n"
    }
   },
   "outputs": [
    {
     "data": {
      "text/plain": [
       "<matplotlib.legend.Legend at 0x7f9386a51710>"
      ]
     },
     "execution_count": 243,
     "metadata": {},
     "output_type": "execute_result"
    },
    {
     "data": {
      "image/png": "[encoded data removed]",
      "text/plain": [
       "<Figure size 864x576 with 1 Axes>"
      ]
     },
     "metadata": {
      "needs_background": "light"
     },
     "output_type": "display_data"
    }
   ],
   "source": [
    "pred_f = model_f.predict(test_X_f)\n",
    "fig, ax = plt.subplots(figsize=(12, 8))\n",
    "ax.scatter(x=range(len(test_Y_f)), y=test_Y_f, label='True', alpha=0.5)\n",
    "ax.scatter(x=range(len(pred_f)), y=pred_f, label='Predict', alpha=0.5)\n",
    "ax.axhline(median(pd.Series(Y_f)), linewidth=2, color='r', label='Median')\n",
    "ax.legend()"
   ]
  },
  {
   "cell_type": "markdown",
   "metadata": {
    "pycharm": {
     "name": "#%% md\n"
    }
   },
   "source": [
    "Видно, что несмотря на более низкое значение метрики sMAPE, наша модель улавливает больше особенностей распределения целевого признака, нежели модель с медианой."
   ]
  },
  {
   "cell_type": "markdown",
   "metadata": {
    "pycharm": {
     "name": "#%% md\n"
    }
   },
   "source": [
    "**Вывод:**\n",
    "\n",
    "В данном пункте было сделано следующее:\n",
    "1. Создана новая метрика для оценки качества модели - sMAPE.\n",
    "2. Построены модели для предсказания эффективности обогащения чернового концентрата и финального концентрата.\n",
    "3. Посчитано итоговое sMAPE на тестовой выборке.\n",
    "4. Построены графики распределений значений, предсказанных моделями и реальных значений признаков."
   ]
  },
  {
   "cell_type": "markdown",
   "metadata": {
    "pycharm": {
     "name": "#%% md\n"
    }
   },
   "source": [
    "## Общий вывод"
   ]
  },
  {
   "cell_type": "markdown",
   "metadata": {
    "pycharm": {
     "name": "#%% md\n"
    }
   },
   "source": [
    "Задачей данной работы было построение модели, которая бы предсказывала эффективность обогащения золотосодержащей руды на этапах флотации и очистки.\n",
    "\n",
    "В результате выполнения работы было сделано и выявлено следующее:\n",
    "1. На первом этапе:\n",
    "    - Были изучены исходные данные. \n",
    "    - Проверены рассчеты эффективности обогащения. \n",
    "    - Определены параметры, которые отсутствуют в тестовой выборке, которые были затем удалены из тренировочной выборки.\n",
    "    - Проведена предобработка данных, в ходе которой пропуски были заменены на значения, следующие после них.\n",
    "    \n",
    "2. На втором этапе:\n",
    "    - Проведено исследование того, как меняются концентрации веществ на разных этапах очистки.\n",
    "    - Сравнены размеры гранул перед флотацией и перед очисткой в тестовой и тренировочной выборках. Сами распределения хоть немного и различатся, но их средние и медианы близки и составляют порядка 50 - 60 (предположительно мм) для гранул перед флотацией и 7 (предположительно мм) для гранул перед очисткой.\n",
    "    - Посчитаны общие концентрации веществ на разных этапах очистки. Было показано, что помимо представленных в датасетах веществ, в сырье также присутствуют другие элементы, так как общие концентрации не равны 100 %.\n",
    "   \n",
    "3. На третьев этапе:\n",
    "    - Создана новая метрика для оценки качества модели - sMAPE.\n",
    "    - Построены модели линейной регрессии для предсказания эффективности обогащения чернового концентрата и финального концентрата.\n",
    "    - Посчитано итоговое sMAPE на тестовой выборке, которое составило 9.32 %. Стоит отметить, что значение для модели, которая предсказывает просто медианное значение признака, составило даже меньше чем для созданной модели линейной регрессии.\n",
    "    - Построены графики распределений значений, предсказанных моделями и реальных значений признаков. На графиках видно, что в целом модели позволяют достаточно хорошо предсказывать эффективности обогащения.\n",
    "    - Посчитаны среднее абсолютные отклонения для обоих моделей, которое составило 6.18 и 6.12 для моделей предсказания эффективности обогащения чернового и финального концентратов, соответственно."
   ]
  }
 ],
 "metadata": {
  "ExecuteTimeLog": [
   {
    "duration": 1007,
    "start_time": "2022-02-27T16:20:58.517Z"
   },
   {
    "duration": 2181,
    "start_time": "2022-02-27T16:21:52.320Z"
   },
   {
    "duration": 315,
    "start_time": "2022-02-27T16:22:14.534Z"
   },
   {
    "duration": 26,
    "start_time": "2022-02-27T16:22:17.745Z"
   },
   {
    "duration": 4,
    "start_time": "2022-02-27T16:29:30.782Z"
   },
   {
    "duration": 273,
    "start_time": "2022-02-27T16:29:35.377Z"
   },
   {
    "duration": 267,
    "start_time": "2022-02-27T16:30:47.939Z"
   },
   {
    "duration": 337,
    "start_time": "2022-02-27T16:36:50.712Z"
   },
   {
    "duration": 24,
    "start_time": "2022-02-27T16:36:53.067Z"
   },
   {
    "duration": 3,
    "start_time": "2022-02-27T16:37:21.608Z"
   },
   {
    "duration": 3,
    "start_time": "2022-02-27T16:37:23.962Z"
   },
   {
    "duration": 5,
    "start_time": "2022-02-27T16:37:33.332Z"
   },
   {
    "duration": 330,
    "start_time": "2022-02-27T16:37:36.263Z"
   },
   {
    "duration": 5,
    "start_time": "2022-02-27T16:37:39.533Z"
   },
   {
    "duration": 63,
    "start_time": "2022-02-27T16:37:42.388Z"
   },
   {
    "duration": 5,
    "start_time": "2022-02-27T16:37:46.645Z"
   },
   {
    "duration": 4,
    "start_time": "2022-02-27T16:38:14.728Z"
   },
   {
    "duration": 4,
    "start_time": "2022-02-27T16:38:23.968Z"
   },
   {
    "duration": 2,
    "start_time": "2022-02-27T16:38:37.103Z"
   },
   {
    "duration": 2,
    "start_time": "2022-02-27T16:38:44.646Z"
   },
   {
    "duration": 3,
    "start_time": "2022-02-27T16:40:08.204Z"
   },
   {
    "duration": 2,
    "start_time": "2022-02-27T16:40:12.128Z"
   },
   {
    "duration": 4,
    "start_time": "2022-02-27T16:40:19.214Z"
   },
   {
    "duration": 4,
    "start_time": "2022-02-27T16:40:47.514Z"
   },
   {
    "duration": 2,
    "start_time": "2022-02-27T16:41:11.940Z"
   },
   {
    "duration": 3,
    "start_time": "2022-02-27T16:41:12.898Z"
   },
   {
    "duration": 2,
    "start_time": "2022-02-27T16:41:26.119Z"
   },
   {
    "duration": 3,
    "start_time": "2022-02-27T16:42:03.814Z"
   },
   {
    "duration": 4,
    "start_time": "2022-02-27T16:42:04.245Z"
   },
   {
    "duration": 604,
    "start_time": "2022-02-27T16:42:49.400Z"
   },
   {
    "duration": 28,
    "start_time": "2022-02-27T16:42:53.822Z"
   },
   {
    "duration": 3,
    "start_time": "2022-02-27T16:43:08.378Z"
   },
   {
    "duration": 4,
    "start_time": "2022-02-27T16:43:14.478Z"
   },
   {
    "duration": 3,
    "start_time": "2022-02-27T16:43:16.624Z"
   },
   {
    "duration": 3,
    "start_time": "2022-02-27T16:43:23.269Z"
   },
   {
    "duration": 21,
    "start_time": "2022-02-27T16:44:19.784Z"
   },
   {
    "duration": 22,
    "start_time": "2022-02-27T16:44:23.199Z"
   },
   {
    "duration": 23,
    "start_time": "2022-02-27T16:44:31.295Z"
   },
   {
    "duration": 23,
    "start_time": "2022-02-27T16:44:35.160Z"
   },
   {
    "duration": 24,
    "start_time": "2022-02-27T16:44:39.213Z"
   },
   {
    "duration": 23,
    "start_time": "2022-02-27T16:44:44.191Z"
   },
   {
    "duration": 21,
    "start_time": "2022-02-27T16:45:04.861Z"
   },
   {
    "duration": 296,
    "start_time": "2022-02-27T16:58:43.761Z"
   },
   {
    "duration": 4,
    "start_time": "2022-02-27T16:59:09.868Z"
   },
   {
    "duration": 12,
    "start_time": "2022-02-27T16:59:15.916Z"
   },
   {
    "duration": 4,
    "start_time": "2022-02-27T17:08:55.002Z"
   },
   {
    "duration": 12,
    "start_time": "2022-02-27T17:09:00.410Z"
   },
   {
    "duration": 3,
    "start_time": "2022-02-27T17:09:05.991Z"
   },
   {
    "duration": 7,
    "start_time": "2022-02-27T17:09:07.051Z"
   },
   {
    "duration": 26,
    "start_time": "2022-02-27T17:10:13.815Z"
   },
   {
    "duration": 4,
    "start_time": "2022-02-27T17:11:41.860Z"
   },
   {
    "duration": 4,
    "start_time": "2022-02-27T17:16:10.927Z"
   },
   {
    "duration": 6,
    "start_time": "2022-02-27T17:16:52.000Z"
   },
   {
    "duration": 5,
    "start_time": "2022-02-27T17:16:54.309Z"
   },
   {
    "duration": 273,
    "start_time": "2022-02-27T17:17:23.934Z"
   },
   {
    "duration": 277,
    "start_time": "2022-02-27T17:17:27.557Z"
   },
   {
    "duration": 4,
    "start_time": "2022-02-27T17:17:34.730Z"
   },
   {
    "duration": 726,
    "start_time": "2022-02-27T17:17:46.396Z"
   },
   {
    "duration": 293,
    "start_time": "2022-02-27T17:17:48.786Z"
   },
   {
    "duration": 4,
    "start_time": "2022-02-27T17:18:01.033Z"
   },
   {
    "duration": 4,
    "start_time": "2022-02-27T17:18:04.568Z"
   },
   {
    "duration": 292,
    "start_time": "2022-02-27T17:18:07.358Z"
   },
   {
    "duration": 1357,
    "start_time": "2022-02-27T17:18:12.880Z"
   },
   {
    "duration": 380,
    "start_time": "2022-02-27T17:18:25.891Z"
   },
   {
    "duration": 400,
    "start_time": "2022-02-27T17:18:35.501Z"
   },
   {
    "duration": 403,
    "start_time": "2022-02-27T17:18:42.334Z"
   },
   {
    "duration": 1146,
    "start_time": "2022-02-27T17:18:56.418Z"
   },
   {
    "duration": 5,
    "start_time": "2022-02-27T17:19:13.809Z"
   },
   {
    "duration": 7,
    "start_time": "2022-02-27T17:19:18.556Z"
   },
   {
    "duration": 9,
    "start_time": "2022-02-27T17:19:24.139Z"
   },
   {
    "duration": 2,
    "start_time": "2022-02-27T17:19:40.167Z"
   },
   {
    "duration": 5,
    "start_time": "2022-02-27T17:19:45.615Z"
   },
   {
    "duration": 7,
    "start_time": "2022-02-27T17:19:51.472Z"
   },
   {
    "duration": 2,
    "start_time": "2022-02-27T17:19:58.233Z"
   },
   {
    "duration": 7,
    "start_time": "2022-02-27T17:19:58.688Z"
   },
   {
    "duration": 3,
    "start_time": "2022-02-27T17:20:05.925Z"
   },
   {
    "duration": 4,
    "start_time": "2022-02-27T17:20:10.404Z"
   },
   {
    "duration": 270,
    "start_time": "2022-02-27T17:21:01.269Z"
   },
   {
    "duration": 971,
    "start_time": "2022-02-28T08:31:34.855Z"
   },
   {
    "duration": 634,
    "start_time": "2022-02-28T08:31:35.827Z"
   },
   {
    "duration": 5,
    "start_time": "2022-02-28T08:31:36.463Z"
   },
   {
    "duration": 7,
    "start_time": "2022-02-28T08:31:36.469Z"
   },
   {
    "duration": 3,
    "start_time": "2022-02-28T08:31:39.994Z"
   },
   {
    "duration": 5,
    "start_time": "2022-02-28T08:31:40.474Z"
   },
   {
    "duration": 154,
    "start_time": "2022-02-28T08:31:57.491Z"
   },
   {
    "duration": 348,
    "start_time": "2022-02-28T08:31:59.995Z"
   },
   {
    "duration": 372,
    "start_time": "2022-02-28T08:32:05.020Z"
   },
   {
    "duration": 102,
    "start_time": "2022-02-28T08:32:14.226Z"
   },
   {
    "duration": 378,
    "start_time": "2022-02-28T08:32:16.458Z"
   },
   {
    "duration": 3,
    "start_time": "2022-02-28T08:32:35.546Z"
   },
   {
    "duration": 3,
    "start_time": "2022-02-28T08:32:43.706Z"
   },
   {
    "duration": 405,
    "start_time": "2022-02-28T08:32:45.979Z"
   },
   {
    "duration": 4,
    "start_time": "2022-02-28T08:32:49.763Z"
   },
   {
    "duration": 3,
    "start_time": "2022-02-28T08:33:00.947Z"
   },
   {
    "duration": 9,
    "start_time": "2022-02-28T08:33:01.746Z"
   },
   {
    "duration": 304,
    "start_time": "2022-02-28T08:33:17.155Z"
   },
   {
    "duration": 4,
    "start_time": "2022-02-28T08:33:24.771Z"
   },
   {
    "duration": 371,
    "start_time": "2022-02-28T08:33:25.426Z"
   },
   {
    "duration": 2,
    "start_time": "2022-02-28T08:34:03.656Z"
   },
   {
    "duration": 7,
    "start_time": "2022-02-28T08:34:04.737Z"
   },
   {
    "duration": 3,
    "start_time": "2022-02-28T08:34:14.074Z"
   },
   {
    "duration": 7,
    "start_time": "2022-02-28T08:34:16.891Z"
   },
   {
    "duration": 310,
    "start_time": "2022-02-28T08:34:52.917Z"
   },
   {
    "duration": 3,
    "start_time": "2022-02-28T08:34:57.109Z"
   },
   {
    "duration": 635,
    "start_time": "2022-02-28T08:34:57.114Z"
   },
   {
    "duration": 4,
    "start_time": "2022-02-28T08:34:57.751Z"
   },
   {
    "duration": 4,
    "start_time": "2022-02-28T08:34:57.757Z"
   },
   {
    "duration": 5,
    "start_time": "2022-02-28T08:34:57.763Z"
   },
   {
    "duration": 4,
    "start_time": "2022-02-28T08:34:58.499Z"
   },
   {
    "duration": 3,
    "start_time": "2022-02-28T08:34:58.787Z"
   },
   {
    "duration": 7,
    "start_time": "2022-02-28T08:35:02.491Z"
   },
   {
    "duration": 3832,
    "start_time": "2022-02-28T08:36:21.124Z"
   },
   {
    "duration": 3,
    "start_time": "2022-02-28T08:36:26.158Z"
   },
   {
    "duration": 657,
    "start_time": "2022-02-28T08:36:26.163Z"
   },
   {
    "duration": 5,
    "start_time": "2022-02-28T08:36:26.822Z"
   },
   {
    "duration": 9,
    "start_time": "2022-02-28T08:36:26.829Z"
   },
   {
    "duration": 8,
    "start_time": "2022-02-28T08:36:26.839Z"
   },
   {
    "duration": 4,
    "start_time": "2022-02-28T08:36:29.930Z"
   },
   {
    "duration": 4,
    "start_time": "2022-02-28T08:36:30.412Z"
   },
   {
    "duration": 8,
    "start_time": "2022-02-28T08:36:33.587Z"
   },
   {
    "duration": 297,
    "start_time": "2022-02-28T08:37:09.836Z"
   },
   {
    "duration": 4,
    "start_time": "2022-02-28T08:37:21.460Z"
   },
   {
    "duration": 10,
    "start_time": "2022-02-28T08:37:28.422Z"
   },
   {
    "duration": 4,
    "start_time": "2022-02-28T08:37:37.916Z"
   },
   {
    "duration": 8,
    "start_time": "2022-02-28T08:37:38.348Z"
   },
   {
    "duration": 9,
    "start_time": "2022-02-28T08:37:44.036Z"
   },
   {
    "duration": 5,
    "start_time": "2022-02-28T08:38:12.037Z"
   },
   {
    "duration": 8,
    "start_time": "2022-02-28T08:38:12.444Z"
   },
   {
    "duration": 4,
    "start_time": "2022-02-28T08:38:50.941Z"
   },
   {
    "duration": 6,
    "start_time": "2022-02-28T08:38:51.749Z"
   },
   {
    "duration": 8,
    "start_time": "2022-02-28T08:38:54.772Z"
   },
   {
    "duration": 5,
    "start_time": "2022-02-28T08:39:00.284Z"
   },
   {
    "duration": 7,
    "start_time": "2022-02-28T08:39:00.677Z"
   },
   {
    "duration": 2,
    "start_time": "2022-02-28T08:39:06.263Z"
   },
   {
    "duration": 635,
    "start_time": "2022-02-28T08:39:06.267Z"
   },
   {
    "duration": 3,
    "start_time": "2022-02-28T08:39:06.905Z"
   },
   {
    "duration": 4,
    "start_time": "2022-02-28T08:39:06.910Z"
   },
   {
    "duration": 5,
    "start_time": "2022-02-28T08:39:06.915Z"
   },
   {
    "duration": 718,
    "start_time": "2022-02-28T08:40:13.149Z"
   },
   {
    "duration": 644,
    "start_time": "2022-02-28T08:40:31.717Z"
   },
   {
    "duration": 5,
    "start_time": "2022-02-28T08:40:39.205Z"
   },
   {
    "duration": 3,
    "start_time": "2022-02-28T08:40:46.334Z"
   },
   {
    "duration": 3,
    "start_time": "2022-02-28T08:40:47.965Z"
   },
   {
    "duration": 3,
    "start_time": "2022-02-28T08:40:55.053Z"
   },
   {
    "duration": 2,
    "start_time": "2022-02-28T08:41:01.665Z"
   },
   {
    "duration": 632,
    "start_time": "2022-02-28T08:41:01.668Z"
   },
   {
    "duration": 4,
    "start_time": "2022-02-28T08:41:02.302Z"
   },
   {
    "duration": 6,
    "start_time": "2022-02-28T08:41:02.308Z"
   },
   {
    "duration": 3,
    "start_time": "2022-02-28T08:41:04.406Z"
   },
   {
    "duration": 5,
    "start_time": "2022-02-28T08:41:04.653Z"
   },
   {
    "duration": 2,
    "start_time": "2022-02-28T08:41:07.950Z"
   },
   {
    "duration": 5,
    "start_time": "2022-02-28T08:41:13.302Z"
   },
   {
    "duration": 7,
    "start_time": "2022-02-28T08:41:13.837Z"
   },
   {
    "duration": 4,
    "start_time": "2022-02-28T08:42:04.982Z"
   },
   {
    "duration": 5,
    "start_time": "2022-02-28T08:42:09.263Z"
   },
   {
    "duration": 5,
    "start_time": "2022-02-28T08:42:18.246Z"
   },
   {
    "duration": 7,
    "start_time": "2022-02-28T08:42:19.164Z"
   },
   {
    "duration": 3,
    "start_time": "2022-02-28T08:42:27.718Z"
   },
   {
    "duration": 8,
    "start_time": "2022-02-28T08:42:32.206Z"
   },
   {
    "duration": 157,
    "start_time": "2022-02-28T08:43:08.246Z"
   },
   {
    "duration": 246,
    "start_time": "2022-02-28T08:43:15.472Z"
   },
   {
    "duration": 120,
    "start_time": "2022-02-28T08:44:41.629Z"
   },
   {
    "duration": 755,
    "start_time": "2022-02-28T08:44:57.999Z"
   },
   {
    "duration": 550,
    "start_time": "2022-02-28T08:45:06.422Z"
   },
   {
    "duration": 385,
    "start_time": "2022-02-28T08:45:16.279Z"
   },
   {
    "duration": 466,
    "start_time": "2022-02-28T08:45:27.312Z"
   },
   {
    "duration": 482,
    "start_time": "2022-02-28T08:45:37.135Z"
   },
   {
    "duration": 496,
    "start_time": "2022-02-28T08:45:41.487Z"
   },
   {
    "duration": 522,
    "start_time": "2022-02-28T08:45:45.039Z"
   },
   {
    "duration": 65,
    "start_time": "2022-02-28T08:46:03.103Z"
   },
   {
    "duration": 460,
    "start_time": "2022-02-28T08:46:15.624Z"
   },
   {
    "duration": 157,
    "start_time": "2022-02-28T08:46:20.271Z"
   },
   {
    "duration": 5,
    "start_time": "2022-02-28T08:46:48.447Z"
   },
   {
    "duration": 5,
    "start_time": "2022-02-28T08:46:53.151Z"
   },
   {
    "duration": 628,
    "start_time": "2022-02-28T08:50:52.649Z"
   },
   {
    "duration": 292,
    "start_time": "2022-02-28T08:50:57.808Z"
   },
   {
    "duration": 9,
    "start_time": "2022-02-28T08:51:07.304Z"
   },
   {
    "duration": 4,
    "start_time": "2022-02-28T08:51:10.447Z"
   },
   {
    "duration": 467,
    "start_time": "2022-02-28T08:51:26.505Z"
   },
   {
    "duration": 7016,
    "start_time": "2022-02-28T08:51:50.449Z"
   },
   {
    "duration": 1327,
    "start_time": "2022-02-28T08:52:05.028Z"
   },
   {
    "duration": 3,
    "start_time": "2022-02-28T08:52:08.609Z"
   },
   {
    "duration": 6,
    "start_time": "2022-02-28T08:52:12.240Z"
   },
   {
    "duration": 4,
    "start_time": "2022-02-28T08:52:51.433Z"
   },
   {
    "duration": 4,
    "start_time": "2022-02-28T08:52:54.952Z"
   },
   {
    "duration": 4,
    "start_time": "2022-02-28T08:53:04.049Z"
   },
   {
    "duration": 6,
    "start_time": "2022-02-28T08:53:15.505Z"
   },
   {
    "duration": 7,
    "start_time": "2022-02-28T08:53:20.793Z"
   },
   {
    "duration": 8509,
    "start_time": "2022-02-28T08:54:07.337Z"
   },
   {
    "duration": 7158,
    "start_time": "2022-02-28T08:57:11.611Z"
   },
   {
    "duration": 282,
    "start_time": "2022-02-28T08:57:23.178Z"
   },
   {
    "duration": 6,
    "start_time": "2022-02-28T08:57:28.669Z"
   },
   {
    "duration": 3,
    "start_time": "2022-02-28T08:57:31.426Z"
   },
   {
    "duration": 9,
    "start_time": "2022-02-28T08:58:02.986Z"
   },
   {
    "duration": 8,
    "start_time": "2022-02-28T08:58:46.010Z"
   },
   {
    "duration": 3,
    "start_time": "2022-02-28T08:58:48.234Z"
   },
   {
    "duration": 8,
    "start_time": "2022-02-28T08:58:53.416Z"
   },
   {
    "duration": 3,
    "start_time": "2022-02-28T08:58:56.441Z"
   },
   {
    "duration": 9,
    "start_time": "2022-02-28T08:59:00.330Z"
   },
   {
    "duration": 5,
    "start_time": "2022-02-28T09:00:54.651Z"
   },
   {
    "duration": 9,
    "start_time": "2022-02-28T09:01:13.995Z"
   },
   {
    "duration": 8,
    "start_time": "2022-02-28T09:04:12.116Z"
   },
   {
    "duration": 3,
    "start_time": "2022-02-28T09:04:12.308Z"
   },
   {
    "duration": 5,
    "start_time": "2022-02-28T09:04:26.462Z"
   },
   {
    "duration": 8,
    "start_time": "2022-02-28T09:04:34.302Z"
   },
   {
    "duration": 280,
    "start_time": "2022-02-28T09:04:52.300Z"
   },
   {
    "duration": 373,
    "start_time": "2022-02-28T09:05:05.333Z"
   },
   {
    "duration": 161,
    "start_time": "2022-02-28T09:05:14.572Z"
   },
   {
    "duration": 3,
    "start_time": "2022-02-28T09:10:48.229Z"
   },
   {
    "duration": 3,
    "start_time": "2022-02-28T09:11:16.886Z"
   },
   {
    "duration": 3,
    "start_time": "2022-02-28T09:11:19.767Z"
   },
   {
    "duration": 5,
    "start_time": "2022-02-28T09:11:42.063Z"
   },
   {
    "duration": 329,
    "start_time": "2022-02-28T09:11:46.245Z"
   },
   {
    "duration": 309,
    "start_time": "2022-02-28T09:11:52.391Z"
   },
   {
    "duration": 8,
    "start_time": "2022-02-28T09:12:03.950Z"
   },
   {
    "duration": 24,
    "start_time": "2022-02-28T09:12:34.199Z"
   },
   {
    "duration": 5,
    "start_time": "2022-02-28T09:12:41.725Z"
   },
   {
    "duration": 2,
    "start_time": "2022-02-28T09:13:34.095Z"
   },
   {
    "duration": 4,
    "start_time": "2022-02-28T09:13:38.567Z"
   },
   {
    "duration": 4,
    "start_time": "2022-02-28T09:13:53.910Z"
   },
   {
    "duration": 4,
    "start_time": "2022-02-28T09:13:58.278Z"
   },
   {
    "duration": 3,
    "start_time": "2022-02-28T09:14:05.271Z"
   },
   {
    "duration": 304,
    "start_time": "2022-02-28T09:14:22.319Z"
   },
   {
    "duration": 2,
    "start_time": "2022-02-28T09:14:25.967Z"
   },
   {
    "duration": 4,
    "start_time": "2022-02-28T09:14:29.023Z"
   },
   {
    "duration": 721,
    "start_time": "2022-02-28T09:14:49.697Z"
   },
   {
    "duration": 4,
    "start_time": "2022-02-28T09:14:55.600Z"
   },
   {
    "duration": 4,
    "start_time": "2022-02-28T09:15:17.615Z"
   },
   {
    "duration": 3,
    "start_time": "2022-02-28T09:15:20.527Z"
   },
   {
    "duration": 4,
    "start_time": "2022-02-28T09:15:20.711Z"
   },
   {
    "duration": 281,
    "start_time": "2022-02-28T10:31:31.908Z"
   },
   {
    "duration": 7,
    "start_time": "2022-02-28T10:31:38.195Z"
   },
   {
    "duration": 25,
    "start_time": "2022-02-28T10:31:40.388Z"
   },
   {
    "duration": 4,
    "start_time": "2022-02-28T10:31:49.147Z"
   },
   {
    "duration": 272,
    "start_time": "2022-02-28T10:31:53.283Z"
   },
   {
    "duration": 4,
    "start_time": "2022-02-28T10:31:56.747Z"
   },
   {
    "duration": 640,
    "start_time": "2022-02-28T10:32:24.428Z"
   },
   {
    "duration": 105,
    "start_time": "2022-02-28T10:33:08.749Z"
   },
   {
    "duration": 8,
    "start_time": "2022-02-28T10:33:27.349Z"
   },
   {
    "duration": 4,
    "start_time": "2022-02-28T10:33:33.724Z"
   },
   {
    "duration": 3,
    "start_time": "2022-02-28T10:33:40.572Z"
   },
   {
    "duration": 3,
    "start_time": "2022-02-28T10:33:41.692Z"
   },
   {
    "duration": 5,
    "start_time": "2022-02-28T10:33:52.468Z"
   },
   {
    "duration": 24,
    "start_time": "2022-02-28T10:33:55.382Z"
   },
   {
    "duration": 126,
    "start_time": "2022-02-28T10:34:14.086Z"
   },
   {
    "duration": 20,
    "start_time": "2022-02-28T10:34:30.062Z"
   },
   {
    "duration": 28,
    "start_time": "2022-02-28T10:34:35.605Z"
   },
   {
    "duration": 393,
    "start_time": "2022-02-28T10:34:53.173Z"
   },
   {
    "duration": 29,
    "start_time": "2022-02-28T10:34:55.462Z"
   },
   {
    "duration": 24,
    "start_time": "2022-02-28T10:35:00.174Z"
   },
   {
    "duration": 1695,
    "start_time": "2022-02-28T10:35:34.381Z"
   },
   {
    "duration": 35,
    "start_time": "2022-02-28T10:35:37.653Z"
   },
   {
    "duration": 8,
    "start_time": "2022-02-28T10:35:44.165Z"
   },
   {
    "duration": 29,
    "start_time": "2022-02-28T10:35:58.125Z"
   },
   {
    "duration": 14,
    "start_time": "2022-02-28T10:36:12.520Z"
   },
   {
    "duration": 105,
    "start_time": "2022-02-28T10:36:17.957Z"
   },
   {
    "duration": 97,
    "start_time": "2022-02-28T10:36:20.326Z"
   },
   {
    "duration": 317,
    "start_time": "2022-02-28T10:36:23.421Z"
   },
   {
    "duration": 126,
    "start_time": "2022-02-28T10:36:26.709Z"
   },
   {
    "duration": 23,
    "start_time": "2022-02-28T10:36:34.541Z"
   },
   {
    "duration": 323,
    "start_time": "2022-02-28T10:37:08.358Z"
   },
   {
    "duration": 30,
    "start_time": "2022-02-28T10:37:10.797Z"
   },
   {
    "duration": 23,
    "start_time": "2022-02-28T10:37:18.270Z"
   },
   {
    "duration": 23,
    "start_time": "2022-02-28T10:37:48.430Z"
   },
   {
    "duration": 22,
    "start_time": "2022-02-28T10:38:36.974Z"
   },
   {
    "duration": 7,
    "start_time": "2022-02-28T10:38:41.702Z"
   },
   {
    "duration": 21,
    "start_time": "2022-02-28T10:38:47.702Z"
   },
   {
    "duration": 31,
    "start_time": "2022-02-28T10:38:56.278Z"
   },
   {
    "duration": 24,
    "start_time": "2022-02-28T10:41:50.840Z"
   },
   {
    "duration": 23,
    "start_time": "2022-02-28T10:42:22.649Z"
   },
   {
    "duration": 21,
    "start_time": "2022-02-28T10:51:33.787Z"
   },
   {
    "duration": 8,
    "start_time": "2022-02-28T10:51:39.123Z"
   },
   {
    "duration": 7,
    "start_time": "2022-02-28T10:51:42.428Z"
   },
   {
    "duration": 6,
    "start_time": "2022-02-28T10:51:55.036Z"
   },
   {
    "duration": 6,
    "start_time": "2022-02-28T10:52:20.411Z"
   },
   {
    "duration": 7,
    "start_time": "2022-02-28T10:52:33.747Z"
   },
   {
    "duration": 8,
    "start_time": "2022-02-28T10:57:19.156Z"
   },
   {
    "duration": 321,
    "start_time": "2022-02-28T10:58:44.317Z"
   },
   {
    "duration": 7,
    "start_time": "2022-02-28T10:58:48.918Z"
   },
   {
    "duration": 275,
    "start_time": "2022-02-28T10:58:59.133Z"
   },
   {
    "duration": 311,
    "start_time": "2022-02-28T10:59:05.150Z"
   },
   {
    "duration": 7,
    "start_time": "2022-02-28T10:59:13.422Z"
   },
   {
    "duration": 7,
    "start_time": "2022-02-28T10:59:18.790Z"
   },
   {
    "duration": 6,
    "start_time": "2022-02-28T10:59:24.870Z"
   },
   {
    "duration": 7,
    "start_time": "2022-02-28T10:59:39.862Z"
   },
   {
    "duration": 8,
    "start_time": "2022-02-28T10:59:47.359Z"
   },
   {
    "duration": 6,
    "start_time": "2022-02-28T11:00:20.413Z"
   },
   {
    "duration": 117,
    "start_time": "2022-02-28T11:00:36.342Z"
   },
   {
    "duration": 9,
    "start_time": "2022-02-28T11:00:38.534Z"
   },
   {
    "duration": 6,
    "start_time": "2022-02-28T11:00:47.582Z"
   },
   {
    "duration": 8,
    "start_time": "2022-02-28T11:00:50.334Z"
   },
   {
    "duration": 11,
    "start_time": "2022-02-28T11:00:57.663Z"
   },
   {
    "duration": 9,
    "start_time": "2022-02-28T11:01:27.048Z"
   },
   {
    "duration": 28,
    "start_time": "2022-02-28T11:02:08.928Z"
   },
   {
    "duration": 5,
    "start_time": "2022-02-28T11:02:19.287Z"
   },
   {
    "duration": 7,
    "start_time": "2022-02-28T11:02:26.622Z"
   },
   {
    "duration": 31,
    "start_time": "2022-02-28T11:11:42.387Z"
   },
   {
    "duration": 4,
    "start_time": "2022-02-28T11:11:49.419Z"
   },
   {
    "duration": 35,
    "start_time": "2022-02-28T11:14:36.915Z"
   },
   {
    "duration": 44,
    "start_time": "2022-02-28T11:14:43.067Z"
   },
   {
    "duration": 310,
    "start_time": "2022-02-28T11:14:52.307Z"
   },
   {
    "duration": 41,
    "start_time": "2022-02-28T11:15:00.045Z"
   },
   {
    "duration": 41,
    "start_time": "2022-02-28T11:18:24.726Z"
   },
   {
    "duration": 28,
    "start_time": "2022-02-28T11:18:29.337Z"
   },
   {
    "duration": 139,
    "start_time": "2022-02-28T11:18:44.052Z"
   },
   {
    "duration": 38,
    "start_time": "2022-02-28T11:18:59.660Z"
   },
   {
    "duration": 23,
    "start_time": "2022-02-28T11:34:19.154Z"
   },
   {
    "duration": 3,
    "start_time": "2022-02-28T11:34:22.683Z"
   },
   {
    "duration": 2247,
    "start_time": "2022-02-28T11:37:17.149Z"
   },
   {
    "duration": 22,
    "start_time": "2022-02-28T11:37:34.972Z"
   },
   {
    "duration": 3,
    "start_time": "2022-02-28T11:37:39.749Z"
   },
   {
    "duration": 4,
    "start_time": "2022-02-28T11:38:41.877Z"
   },
   {
    "duration": 2,
    "start_time": "2022-02-28T11:39:59.092Z"
   },
   {
    "duration": 4880,
    "start_time": "2022-02-28T11:40:15.797Z"
   },
   {
    "duration": 4837,
    "start_time": "2022-02-28T11:40:37.976Z"
   },
   {
    "duration": 8,
    "start_time": "2022-02-28T11:40:44.565Z"
   },
   {
    "duration": 2,
    "start_time": "2022-02-28T11:41:00.030Z"
   },
   {
    "duration": 10,
    "start_time": "2022-02-28T11:41:00.213Z"
   },
   {
    "duration": 463,
    "start_time": "2022-02-28T11:41:31.398Z"
   },
   {
    "duration": 379,
    "start_time": "2022-02-28T11:41:42.077Z"
   },
   {
    "duration": 1405,
    "start_time": "2022-02-28T11:41:51.984Z"
   },
   {
    "duration": 1775,
    "start_time": "2022-02-28T11:42:24.223Z"
   },
   {
    "duration": 1669,
    "start_time": "2022-02-28T11:42:28.230Z"
   },
   {
    "duration": 1380,
    "start_time": "2022-02-28T11:42:31.350Z"
   },
   {
    "duration": 11,
    "start_time": "2022-02-28T11:42:44.382Z"
   },
   {
    "duration": 257,
    "start_time": "2022-02-28T11:42:49.718Z"
   },
   {
    "duration": 4,
    "start_time": "2022-02-28T11:43:28.087Z"
   },
   {
    "duration": 3,
    "start_time": "2022-02-28T11:48:18.864Z"
   },
   {
    "duration": 3,
    "start_time": "2022-02-28T11:48:37.664Z"
   },
   {
    "duration": 3,
    "start_time": "2022-02-28T11:48:54.609Z"
   },
   {
    "duration": 10,
    "start_time": "2022-02-28T11:48:57.016Z"
   },
   {
    "duration": 126,
    "start_time": "2022-02-28T11:49:34.833Z"
   },
   {
    "duration": 298,
    "start_time": "2022-02-28T11:49:36.993Z"
   },
   {
    "duration": 293,
    "start_time": "2022-02-28T11:49:48.161Z"
   },
   {
    "duration": 398,
    "start_time": "2022-02-28T11:49:51.249Z"
   },
   {
    "duration": 320,
    "start_time": "2022-02-28T11:50:23.722Z"
   },
   {
    "duration": 5481,
    "start_time": "2022-02-28T11:51:20.281Z"
   },
   {
    "duration": 3,
    "start_time": "2022-02-28T11:51:37.515Z"
   },
   {
    "duration": 630,
    "start_time": "2022-02-28T11:51:37.520Z"
   },
   {
    "duration": 7502,
    "start_time": "2022-02-28T11:51:38.152Z"
   },
   {
    "duration": -16,
    "start_time": "2022-02-28T11:51:45.672Z"
   },
   {
    "duration": -19,
    "start_time": "2022-02-28T11:51:45.675Z"
   },
   {
    "duration": -22,
    "start_time": "2022-02-28T11:51:45.679Z"
   },
   {
    "duration": -22,
    "start_time": "2022-02-28T11:51:45.680Z"
   },
   {
    "duration": -23,
    "start_time": "2022-02-28T11:51:45.682Z"
   },
   {
    "duration": -25,
    "start_time": "2022-02-28T11:51:45.685Z"
   },
   {
    "duration": -26,
    "start_time": "2022-02-28T11:51:45.687Z"
   },
   {
    "duration": -27,
    "start_time": "2022-02-28T11:51:45.689Z"
   },
   {
    "duration": 3,
    "start_time": "2022-02-28T11:51:57.324Z"
   },
   {
    "duration": 624,
    "start_time": "2022-02-28T11:51:57.328Z"
   },
   {
    "duration": 7342,
    "start_time": "2022-02-28T11:51:57.954Z"
   },
   {
    "duration": -3,
    "start_time": "2022-02-28T11:52:05.301Z"
   },
   {
    "duration": -7,
    "start_time": "2022-02-28T11:52:05.306Z"
   },
   {
    "duration": -13,
    "start_time": "2022-02-28T11:52:05.313Z"
   },
   {
    "duration": -16,
    "start_time": "2022-02-28T11:52:05.317Z"
   },
   {
    "duration": -18,
    "start_time": "2022-02-28T11:52:05.320Z"
   },
   {
    "duration": -20,
    "start_time": "2022-02-28T11:52:05.323Z"
   },
   {
    "duration": -21,
    "start_time": "2022-02-28T11:52:05.326Z"
   },
   {
    "duration": 2,
    "start_time": "2022-02-28T11:53:28.538Z"
   },
   {
    "duration": 596,
    "start_time": "2022-02-28T11:53:29.202Z"
   },
   {
    "duration": 7542,
    "start_time": "2022-02-28T11:53:30.146Z"
   },
   {
    "duration": 8,
    "start_time": "2022-02-28T11:53:58.299Z"
   },
   {
    "duration": 3,
    "start_time": "2022-02-28T11:53:59.363Z"
   },
   {
    "duration": 2,
    "start_time": "2022-02-28T11:54:01.051Z"
   },
   {
    "duration": 5,
    "start_time": "2022-02-28T11:54:01.546Z"
   },
   {
    "duration": 5,
    "start_time": "2022-02-28T11:54:02.035Z"
   },
   {
    "duration": 8,
    "start_time": "2022-02-28T11:54:02.994Z"
   },
   {
    "duration": 5,
    "start_time": "2022-02-28T11:54:03.282Z"
   },
   {
    "duration": 2,
    "start_time": "2022-02-28T11:54:04.610Z"
   },
   {
    "duration": 4,
    "start_time": "2022-02-28T11:54:04.922Z"
   },
   {
    "duration": 240,
    "start_time": "2022-02-28T11:54:13.235Z"
   },
   {
    "duration": 238,
    "start_time": "2022-02-28T11:54:19.035Z"
   },
   {
    "duration": 238,
    "start_time": "2022-02-28T11:54:23.091Z"
   },
   {
    "duration": 237,
    "start_time": "2022-02-28T11:54:29.716Z"
   },
   {
    "duration": 241,
    "start_time": "2022-02-28T11:54:34.875Z"
   },
   {
    "duration": 390,
    "start_time": "2022-02-28T11:54:40.363Z"
   },
   {
    "duration": 3,
    "start_time": "2022-02-28T11:55:03.027Z"
   },
   {
    "duration": 307,
    "start_time": "2022-02-28T11:55:13.971Z"
   },
   {
    "duration": 96,
    "start_time": "2022-02-28T11:55:40.411Z"
   },
   {
    "duration": 349,
    "start_time": "2022-02-28T11:55:42.531Z"
   },
   {
    "duration": 365,
    "start_time": "2022-02-28T11:55:46.395Z"
   },
   {
    "duration": 371,
    "start_time": "2022-02-28T11:55:51.715Z"
   },
   {
    "duration": 459,
    "start_time": "2022-02-28T11:55:54.812Z"
   },
   {
    "duration": 374,
    "start_time": "2022-02-28T11:56:00.387Z"
   },
   {
    "duration": 361,
    "start_time": "2022-02-28T11:56:03.836Z"
   },
   {
    "duration": 359,
    "start_time": "2022-02-28T11:56:20.119Z"
   },
   {
    "duration": -36,
    "start_time": "2022-02-28T11:57:48.119Z"
   },
   {
    "duration": -51,
    "start_time": "2022-02-28T11:57:48.135Z"
   },
   {
    "duration": 3,
    "start_time": "2022-02-28T11:57:52.926Z"
   },
   {
    "duration": 616,
    "start_time": "2022-02-28T11:57:52.930Z"
   },
   {
    "duration": 8,
    "start_time": "2022-02-28T11:57:53.548Z"
   },
   {
    "duration": 6,
    "start_time": "2022-02-28T11:57:53.557Z"
   },
   {
    "duration": 5,
    "start_time": "2022-02-28T11:57:53.564Z"
   },
   {
    "duration": 7,
    "start_time": "2022-02-28T11:57:53.570Z"
   },
   {
    "duration": 9,
    "start_time": "2022-02-28T11:57:53.578Z"
   },
   {
    "duration": 21,
    "start_time": "2022-02-28T11:57:53.588Z"
   },
   {
    "duration": 4,
    "start_time": "2022-02-28T11:57:53.611Z"
   },
   {
    "duration": 2,
    "start_time": "2022-02-28T11:57:55.388Z"
   },
   {
    "duration": 3,
    "start_time": "2022-02-28T11:57:56.012Z"
   },
   {
    "duration": 411,
    "start_time": "2022-02-28T11:57:56.748Z"
   },
   {
    "duration": 4,
    "start_time": "2022-02-28T11:59:38.669Z"
   },
   {
    "duration": 3,
    "start_time": "2022-02-28T11:59:41.886Z"
   },
   {
    "duration": 4,
    "start_time": "2022-02-28T11:59:44.909Z"
   },
   {
    "duration": 611,
    "start_time": "2022-02-28T12:00:01.245Z"
   },
   {
    "duration": 346,
    "start_time": "2022-02-28T12:00:04.478Z"
   },
   {
    "duration": 4,
    "start_time": "2022-02-28T12:00:08.365Z"
   },
   {
    "duration": 13,
    "start_time": "2022-02-28T12:00:10.925Z"
   },
   {
    "duration": 4,
    "start_time": "2022-02-28T12:00:24.917Z"
   },
   {
    "duration": 10,
    "start_time": "2022-02-28T12:00:25.270Z"
   },
   {
    "duration": 3,
    "start_time": "2022-02-28T12:00:40.254Z"
   },
   {
    "duration": 11,
    "start_time": "2022-02-28T12:00:40.429Z"
   },
   {
    "duration": 88,
    "start_time": "2022-02-28T12:01:29.117Z"
   },
   {
    "duration": 11,
    "start_time": "2022-02-28T12:01:29.350Z"
   },
   {
    "duration": 340,
    "start_time": "2022-02-28T12:01:31.982Z"
   },
   {
    "duration": 12,
    "start_time": "2022-02-28T12:01:32.454Z"
   },
   {
    "duration": 6,
    "start_time": "2022-02-28T12:01:38.230Z"
   },
   {
    "duration": 9,
    "start_time": "2022-02-28T12:01:38.863Z"
   },
   {
    "duration": 285,
    "start_time": "2022-02-28T12:01:45.737Z"
   },
   {
    "duration": 638,
    "start_time": "2022-02-28T12:01:48.198Z"
   },
   {
    "duration": 367,
    "start_time": "2022-02-28T12:02:00.662Z"
   },
   {
    "duration": 5,
    "start_time": "2022-02-28T12:02:21.815Z"
   },
   {
    "duration": 4999,
    "start_time": "2022-02-28T12:02:43.142Z"
   },
   {
    "duration": 276,
    "start_time": "2022-02-28T12:03:23.736Z"
   },
   {
    "duration": 348,
    "start_time": "2022-02-28T12:03:27.846Z"
   },
   {
    "duration": 513,
    "start_time": "2022-02-28T12:03:30.270Z"
   },
   {
    "duration": 219,
    "start_time": "2022-02-28T12:03:35.872Z"
   },
   {
    "duration": 296,
    "start_time": "2022-02-28T12:05:15.871Z"
   },
   {
    "duration": 421,
    "start_time": "2022-02-28T12:05:19.471Z"
   },
   {
    "duration": 4,
    "start_time": "2022-02-28T12:05:47.047Z"
   },
   {
    "duration": 4,
    "start_time": "2022-02-28T12:05:53.559Z"
   },
   {
    "duration": 4,
    "start_time": "2022-02-28T12:06:11.256Z"
   },
   {
    "duration": 4,
    "start_time": "2022-02-28T12:06:48.449Z"
   },
   {
    "duration": 609,
    "start_time": "2022-02-28T12:06:48.455Z"
   },
   {
    "duration": 9,
    "start_time": "2022-02-28T12:06:49.066Z"
   },
   {
    "duration": 31,
    "start_time": "2022-02-28T12:06:49.076Z"
   },
   {
    "duration": 15,
    "start_time": "2022-02-28T12:06:49.109Z"
   },
   {
    "duration": 24,
    "start_time": "2022-02-28T12:06:49.126Z"
   },
   {
    "duration": 4,
    "start_time": "2022-02-28T12:06:50.199Z"
   },
   {
    "duration": 5,
    "start_time": "2022-02-28T12:07:05.176Z"
   },
   {
    "duration": 10,
    "start_time": "2022-02-28T12:07:09.111Z"
   },
   {
    "duration": 6,
    "start_time": "2022-02-28T12:07:09.432Z"
   },
   {
    "duration": 6,
    "start_time": "2022-02-28T12:07:33.152Z"
   },
   {
    "duration": 8,
    "start_time": "2022-02-28T12:07:34.896Z"
   },
   {
    "duration": 5,
    "start_time": "2022-02-28T12:07:35.056Z"
   },
   {
    "duration": 3,
    "start_time": "2022-02-28T12:07:37.962Z"
   },
   {
    "duration": 594,
    "start_time": "2022-02-28T12:07:37.967Z"
   },
   {
    "duration": 7,
    "start_time": "2022-02-28T12:07:38.563Z"
   },
   {
    "duration": 7,
    "start_time": "2022-02-28T12:07:38.572Z"
   },
   {
    "duration": 10,
    "start_time": "2022-02-28T12:07:38.580Z"
   },
   {
    "duration": 10,
    "start_time": "2022-02-28T12:07:38.591Z"
   },
   {
    "duration": 7,
    "start_time": "2022-02-28T12:07:38.602Z"
   },
   {
    "duration": 12,
    "start_time": "2022-02-28T12:07:38.610Z"
   },
   {
    "duration": 8,
    "start_time": "2022-02-28T12:07:39.335Z"
   },
   {
    "duration": 5,
    "start_time": "2022-02-28T12:07:40.007Z"
   },
   {
    "duration": 6,
    "start_time": "2022-02-28T12:07:47.287Z"
   },
   {
    "duration": 4,
    "start_time": "2022-02-28T12:07:48.696Z"
   },
   {
    "duration": 422,
    "start_time": "2022-02-28T12:07:49.352Z"
   },
   {
    "duration": 285,
    "start_time": "2022-02-28T12:07:59.416Z"
   },
   {
    "duration": 5166,
    "start_time": "2022-02-28T12:08:01.722Z"
   },
   {
    "duration": 681,
    "start_time": "2022-02-28T12:08:22.576Z"
   },
   {
    "duration": 288,
    "start_time": "2022-02-28T12:09:45.169Z"
   },
   {
    "duration": 436,
    "start_time": "2022-02-28T12:09:48.832Z"
   },
   {
    "duration": 94,
    "start_time": "2022-02-28T12:10:12.274Z"
   },
   {
    "duration": 360,
    "start_time": "2022-02-28T12:10:14.128Z"
   },
   {
    "duration": 377,
    "start_time": "2022-02-28T12:10:55.034Z"
   },
   {
    "duration": 5,
    "start_time": "2022-02-28T12:11:59.273Z"
   },
   {
    "duration": 386,
    "start_time": "2022-02-28T12:12:02.321Z"
   },
   {
    "duration": 4,
    "start_time": "2022-02-28T12:12:31.490Z"
   },
   {
    "duration": 9,
    "start_time": "2022-02-28T12:12:34.818Z"
   },
   {
    "duration": 386,
    "start_time": "2022-02-28T12:12:46.080Z"
   },
   {
    "duration": 360,
    "start_time": "2022-02-28T12:18:39.700Z"
   },
   {
    "duration": 376,
    "start_time": "2022-02-28T12:18:45.870Z"
   },
   {
    "duration": 366,
    "start_time": "2022-02-28T12:19:15.556Z"
   },
   {
    "duration": 5,
    "start_time": "2022-02-28T12:20:14.324Z"
   },
   {
    "duration": 150,
    "start_time": "2022-02-28T12:20:18.564Z"
   },
   {
    "duration": 150,
    "start_time": "2022-02-28T12:20:23.140Z"
   },
   {
    "duration": 140,
    "start_time": "2022-02-28T12:20:28.877Z"
   },
   {
    "duration": 5,
    "start_time": "2022-02-28T12:20:37.373Z"
   },
   {
    "duration": 7,
    "start_time": "2022-02-28T12:20:43.710Z"
   },
   {
    "duration": 4,
    "start_time": "2022-02-28T12:20:54.181Z"
   },
   {
    "duration": 330,
    "start_time": "2022-02-28T12:21:04.037Z"
   },
   {
    "duration": 103428,
    "start_time": "2022-02-28T12:21:29.261Z"
   },
   {
    "duration": 369,
    "start_time": "2022-02-28T12:23:18.947Z"
   },
   {
    "duration": 2,
    "start_time": "2022-02-28T12:23:19.318Z"
   },
   {
    "duration": 819,
    "start_time": "2022-02-28T12:23:19.321Z"
   },
   {
    "duration": 7,
    "start_time": "2022-02-28T12:23:20.141Z"
   },
   {
    "duration": 5,
    "start_time": "2022-02-28T12:23:20.150Z"
   },
   {
    "duration": 5,
    "start_time": "2022-02-28T12:23:20.157Z"
   },
   {
    "duration": 5,
    "start_time": "2022-02-28T12:23:20.164Z"
   },
   {
    "duration": 7,
    "start_time": "2022-02-28T12:23:20.171Z"
   },
   {
    "duration": 29,
    "start_time": "2022-02-28T12:23:20.179Z"
   },
   {
    "duration": 5,
    "start_time": "2022-02-28T12:23:20.209Z"
   },
   {
    "duration": 6,
    "start_time": "2022-02-28T12:23:20.215Z"
   },
   {
    "duration": 372,
    "start_time": "2022-02-28T12:23:20.223Z"
   },
   {
    "duration": 377,
    "start_time": "2022-02-28T12:23:20.604Z"
   },
   {
    "duration": 3,
    "start_time": "2022-02-28T12:47:32.417Z"
   },
   {
    "duration": 638,
    "start_time": "2022-02-28T12:47:32.423Z"
   },
   {
    "duration": 7,
    "start_time": "2022-02-28T12:47:33.062Z"
   },
   {
    "duration": 5,
    "start_time": "2022-02-28T12:47:33.071Z"
   },
   {
    "duration": 3,
    "start_time": "2022-02-28T12:47:33.078Z"
   },
   {
    "duration": 5,
    "start_time": "2022-02-28T12:47:33.082Z"
   },
   {
    "duration": 4,
    "start_time": "2022-02-28T12:47:33.105Z"
   },
   {
    "duration": 19,
    "start_time": "2022-02-28T12:47:33.111Z"
   },
   {
    "duration": 6,
    "start_time": "2022-02-28T12:47:33.132Z"
   },
   {
    "duration": 10,
    "start_time": "2022-02-28T12:47:33.140Z"
   },
   {
    "duration": 889,
    "start_time": "2022-02-28T12:47:55.893Z"
   },
   {
    "duration": 920,
    "start_time": "2022-02-28T12:48:06.652Z"
   },
   {
    "duration": 879,
    "start_time": "2022-02-28T12:48:27.662Z"
   },
   {
    "duration": 1002,
    "start_time": "2022-02-28T12:48:31.436Z"
   },
   {
    "duration": 104,
    "start_time": "2022-02-28T12:48:35.068Z"
   },
   {
    "duration": 887,
    "start_time": "2022-02-28T12:48:36.972Z"
   },
   {
    "duration": 1140,
    "start_time": "2022-02-28T12:48:49.237Z"
   },
   {
    "duration": 1465,
    "start_time": "2022-02-28T12:49:20.077Z"
   },
   {
    "duration": 920,
    "start_time": "2022-02-28T12:50:03.885Z"
   },
   {
    "duration": 577,
    "start_time": "2022-02-28T12:50:08.781Z"
   },
   {
    "duration": 156,
    "start_time": "2022-02-28T12:52:23.566Z"
   },
   {
    "duration": 572,
    "start_time": "2022-02-28T12:52:26.367Z"
   },
   {
    "duration": 301,
    "start_time": "2022-02-28T12:53:23.775Z"
   },
   {
    "duration": 2,
    "start_time": "2022-02-28T12:53:26.929Z"
   },
   {
    "duration": 515,
    "start_time": "2022-02-28T12:53:26.932Z"
   },
   {
    "duration": 1134,
    "start_time": "2022-02-28T12:54:13.950Z"
   },
   {
    "duration": 1112,
    "start_time": "2022-02-28T12:54:38.359Z"
   },
   {
    "duration": 17818,
    "start_time": "2022-02-28T12:55:41.135Z"
   },
   {
    "duration": 1191,
    "start_time": "2022-02-28T12:56:01.655Z"
   },
   {
    "duration": 1462,
    "start_time": "2022-02-28T19:45:56.199Z"
   },
   {
    "duration": 2812,
    "start_time": "2022-02-28T19:46:22.507Z"
   },
   {
    "duration": 6,
    "start_time": "2022-02-28T19:46:37.000Z"
   },
   {
    "duration": 4,
    "start_time": "2022-02-28T19:46:40.615Z"
   },
   {
    "duration": 4,
    "start_time": "2022-02-28T19:46:43.220Z"
   },
   {
    "duration": 4,
    "start_time": "2022-02-28T19:46:47.690Z"
   },
   {
    "duration": 5,
    "start_time": "2022-02-28T19:46:50.541Z"
   },
   {
    "duration": 3,
    "start_time": "2022-02-28T19:47:41.098Z"
   },
   {
    "duration": 3,
    "start_time": "2022-02-28T19:48:04.352Z"
   },
   {
    "duration": 5,
    "start_time": "2022-02-28T19:50:01.572Z"
   },
   {
    "duration": 264,
    "start_time": "2022-02-28T19:55:54.815Z"
   },
   {
    "duration": 8,
    "start_time": "2022-02-28T19:55:58.853Z"
   },
   {
    "duration": 6,
    "start_time": "2022-02-28T19:55:59.747Z"
   },
   {
    "duration": 8,
    "start_time": "2022-02-28T19:56:10.528Z"
   },
   {
    "duration": 6,
    "start_time": "2022-02-28T19:56:17.451Z"
   },
   {
    "duration": 7,
    "start_time": "2022-02-28T19:56:21.028Z"
   },
   {
    "duration": 6,
    "start_time": "2022-02-28T19:56:24.062Z"
   },
   {
    "duration": 7,
    "start_time": "2022-02-28T19:56:27.387Z"
   },
   {
    "duration": 7,
    "start_time": "2022-02-28T19:56:30.979Z"
   },
   {
    "duration": 6,
    "start_time": "2022-02-28T19:56:36.355Z"
   },
   {
    "duration": 6,
    "start_time": "2022-02-28T19:56:39.685Z"
   },
   {
    "duration": 5,
    "start_time": "2022-02-28T19:56:41.908Z"
   },
   {
    "duration": 6,
    "start_time": "2022-02-28T19:56:44.144Z"
   },
   {
    "duration": 7,
    "start_time": "2022-02-28T19:56:48.889Z"
   },
   {
    "duration": 5,
    "start_time": "2022-02-28T19:58:34.862Z"
   },
   {
    "duration": 4,
    "start_time": "2022-02-28T20:22:12.474Z"
   },
   {
    "duration": 6,
    "start_time": "2022-02-28T20:22:21.416Z"
   },
   {
    "duration": 4,
    "start_time": "2022-02-28T20:22:51.364Z"
   },
   {
    "duration": 269,
    "start_time": "2022-02-28T20:23:28.421Z"
   },
   {
    "duration": 63,
    "start_time": "2022-02-28T20:23:33.961Z"
   },
   {
    "duration": 174,
    "start_time": "2022-02-28T20:23:36.881Z"
   },
   {
    "duration": 3,
    "start_time": "2022-02-28T20:23:47.964Z"
   },
   {
    "duration": 214,
    "start_time": "2022-02-28T20:23:52.121Z"
   },
   {
    "duration": 9,
    "start_time": "2022-02-28T20:24:15.915Z"
   },
   {
    "duration": 29,
    "start_time": "2022-02-28T20:25:03.451Z"
   },
   {
    "duration": 9,
    "start_time": "2022-02-28T20:26:40.978Z"
   },
   {
    "duration": 7,
    "start_time": "2022-02-28T20:26:43.952Z"
   },
   {
    "duration": 11,
    "start_time": "2022-02-28T20:26:44.547Z"
   },
   {
    "duration": 7,
    "start_time": "2022-02-28T20:31:50.805Z"
   },
   {
    "duration": 424,
    "start_time": "2022-02-28T20:31:56.215Z"
   },
   {
    "duration": 1190,
    "start_time": "2022-03-01T07:06:29.756Z"
   },
   {
    "duration": 3360,
    "start_time": "2022-03-01T07:06:30.948Z"
   },
   {
    "duration": 3,
    "start_time": "2022-03-01T07:06:34.310Z"
   },
   {
    "duration": 8,
    "start_time": "2022-03-01T07:06:34.315Z"
   },
   {
    "duration": 6,
    "start_time": "2022-03-01T07:06:34.325Z"
   },
   {
    "duration": 6,
    "start_time": "2022-03-01T07:06:34.333Z"
   },
   {
    "duration": 4,
    "start_time": "2022-03-01T07:06:34.359Z"
   },
   {
    "duration": 6,
    "start_time": "2022-03-01T07:06:34.365Z"
   },
   {
    "duration": 5,
    "start_time": "2022-03-01T07:06:34.373Z"
   },
   {
    "duration": 10,
    "start_time": "2022-03-01T07:06:34.379Z"
   },
   {
    "duration": 5,
    "start_time": "2022-03-01T07:06:34.390Z"
   },
   {
    "duration": 7,
    "start_time": "2022-03-01T07:06:34.397Z"
   },
   {
    "duration": 7,
    "start_time": "2022-03-01T07:07:59.985Z"
   },
   {
    "duration": 562,
    "start_time": "2022-03-01T07:08:00.770Z"
   },
   {
    "duration": 1096,
    "start_time": "2022-03-01T07:08:09.344Z"
   },
   {
    "duration": 1177,
    "start_time": "2022-03-01T07:08:24.225Z"
   },
   {
    "duration": 1136,
    "start_time": "2022-03-01T07:08:35.818Z"
   },
   {
    "duration": 8,
    "start_time": "2022-03-01T07:09:24.537Z"
   },
   {
    "duration": 1212,
    "start_time": "2022-03-01T07:10:01.225Z"
   },
   {
    "duration": 1105,
    "start_time": "2022-03-01T07:15:53.804Z"
   },
   {
    "duration": 1209,
    "start_time": "2022-03-01T07:15:57.166Z"
   },
   {
    "duration": 1350,
    "start_time": "2022-03-01T07:16:17.316Z"
   },
   {
    "duration": 1516,
    "start_time": "2022-03-01T07:16:23.324Z"
   },
   {
    "duration": 1558,
    "start_time": "2022-03-01T07:17:25.844Z"
   },
   {
    "duration": 735,
    "start_time": "2022-03-01T07:17:33.884Z"
   },
   {
    "duration": 35660,
    "start_time": "2022-03-01T07:19:12.644Z"
   },
   {
    "duration": 1516,
    "start_time": "2022-03-01T07:19:56.958Z"
   },
   {
    "duration": 30098,
    "start_time": "2022-03-01T07:20:03.949Z"
   },
   {
    "duration": 545,
    "start_time": "2022-03-01T07:20:33.504Z"
   },
   {
    "duration": 388,
    "start_time": "2022-03-01T07:20:37.381Z"
   },
   {
    "duration": 1270,
    "start_time": "2022-03-01T07:20:42.396Z"
   },
   {
    "duration": 1924,
    "start_time": "2022-03-01T07:22:08.345Z"
   },
   {
    "duration": 1249,
    "start_time": "2022-03-01T07:22:15.518Z"
   },
   {
    "duration": 1085,
    "start_time": "2022-03-01T07:22:51.366Z"
   },
   {
    "duration": 1276,
    "start_time": "2022-03-01T07:22:58.324Z"
   },
   {
    "duration": 1109,
    "start_time": "2022-03-01T07:23:01.205Z"
   },
   {
    "duration": 1312,
    "start_time": "2022-03-01T07:25:41.382Z"
   },
   {
    "duration": 1211,
    "start_time": "2022-03-01T07:28:07.671Z"
   },
   {
    "duration": 28,
    "start_time": "2022-03-01T07:29:35.542Z"
   },
   {
    "duration": 4,
    "start_time": "2022-03-01T07:29:45.335Z"
   },
   {
    "duration": 1114,
    "start_time": "2022-03-01T07:31:59.592Z"
   },
   {
    "duration": 1440,
    "start_time": "2022-03-01T07:32:06.295Z"
   },
   {
    "duration": 1137,
    "start_time": "2022-03-01T07:32:34.072Z"
   },
   {
    "duration": 1223,
    "start_time": "2022-03-01T07:33:10.456Z"
   },
   {
    "duration": 6,
    "start_time": "2022-03-01T07:35:56.658Z"
   },
   {
    "duration": 1380,
    "start_time": "2022-03-01T07:38:49.618Z"
   },
   {
    "duration": 1116,
    "start_time": "2022-03-01T07:40:39.923Z"
   },
   {
    "duration": 206,
    "start_time": "2022-03-01T07:42:21.924Z"
   },
   {
    "duration": 4,
    "start_time": "2022-03-01T07:42:50.100Z"
   },
   {
    "duration": 5,
    "start_time": "2022-03-01T07:43:07.987Z"
   },
   {
    "duration": 1184,
    "start_time": "2022-03-01T07:44:01.422Z"
   },
   {
    "duration": 4,
    "start_time": "2022-03-01T07:44:09.100Z"
   },
   {
    "duration": 19,
    "start_time": "2022-03-01T07:44:14.692Z"
   },
   {
    "duration": 12,
    "start_time": "2022-03-01T07:44:19.532Z"
   },
   {
    "duration": 19,
    "start_time": "2022-03-01T07:44:21.276Z"
   },
   {
    "duration": 10,
    "start_time": "2022-03-01T07:45:19.092Z"
   },
   {
    "duration": 17,
    "start_time": "2022-03-01T07:45:20.316Z"
   },
   {
    "duration": 10,
    "start_time": "2022-03-01T07:46:01.509Z"
   },
   {
    "duration": 12,
    "start_time": "2022-03-01T07:46:05.629Z"
   },
   {
    "duration": 12,
    "start_time": "2022-03-01T07:46:09.069Z"
   },
   {
    "duration": 456,
    "start_time": "2022-03-01T07:46:56.797Z"
   },
   {
    "duration": 10,
    "start_time": "2022-03-01T07:48:04.958Z"
   },
   {
    "duration": 10,
    "start_time": "2022-03-01T07:48:09.749Z"
   },
   {
    "duration": 11,
    "start_time": "2022-03-01T07:48:11.350Z"
   },
   {
    "duration": 17,
    "start_time": "2022-03-01T07:48:13.637Z"
   },
   {
    "duration": 7,
    "start_time": "2022-03-01T07:48:48.214Z"
   },
   {
    "duration": 15,
    "start_time": "2022-03-01T07:48:51.269Z"
   },
   {
    "duration": 5,
    "start_time": "2022-03-01T07:49:17.880Z"
   },
   {
    "duration": 14,
    "start_time": "2022-03-01T07:49:18.814Z"
   },
   {
    "duration": 275,
    "start_time": "2022-03-01T07:50:20.494Z"
   },
   {
    "duration": 3,
    "start_time": "2022-03-01T07:50:23.270Z"
   },
   {
    "duration": 3,
    "start_time": "2022-03-01T07:50:23.494Z"
   },
   {
    "duration": 11,
    "start_time": "2022-03-01T07:50:26.094Z"
   },
   {
    "duration": 3,
    "start_time": "2022-03-01T07:50:40.574Z"
   },
   {
    "duration": 5,
    "start_time": "2022-03-01T07:50:49.263Z"
   },
   {
    "duration": 11,
    "start_time": "2022-03-01T07:50:49.742Z"
   },
   {
    "duration": 8,
    "start_time": "2022-03-01T07:50:56.534Z"
   },
   {
    "duration": 9,
    "start_time": "2022-03-01T07:50:59.038Z"
   },
   {
    "duration": 9,
    "start_time": "2022-03-01T07:51:01.319Z"
   },
   {
    "duration": 307,
    "start_time": "2022-03-01T07:51:18.775Z"
   },
   {
    "duration": 1417,
    "start_time": "2022-03-01T07:51:40.967Z"
   },
   {
    "duration": 1079,
    "start_time": "2022-03-01T07:51:53.947Z"
   },
   {
    "duration": 1902,
    "start_time": "2022-03-01T07:51:59.039Z"
   },
   {
    "duration": 3,
    "start_time": "2022-03-01T07:52:14.396Z"
   },
   {
    "duration": 3224,
    "start_time": "2022-03-01T07:52:14.401Z"
   },
   {
    "duration": 3,
    "start_time": "2022-03-01T07:52:17.628Z"
   },
   {
    "duration": 7,
    "start_time": "2022-03-01T07:52:17.633Z"
   },
   {
    "duration": 18,
    "start_time": "2022-03-01T07:52:17.642Z"
   },
   {
    "duration": 7,
    "start_time": "2022-03-01T07:52:17.662Z"
   },
   {
    "duration": 6,
    "start_time": "2022-03-01T07:52:17.670Z"
   },
   {
    "duration": 6,
    "start_time": "2022-03-01T07:52:17.679Z"
   },
   {
    "duration": 5,
    "start_time": "2022-03-01T07:52:17.687Z"
   },
   {
    "duration": 10,
    "start_time": "2022-03-01T07:52:17.693Z"
   },
   {
    "duration": 5,
    "start_time": "2022-03-01T07:52:17.705Z"
   },
   {
    "duration": 50,
    "start_time": "2022-03-01T07:52:17.712Z"
   },
   {
    "duration": 8,
    "start_time": "2022-03-01T07:52:17.763Z"
   },
   {
    "duration": 1161,
    "start_time": "2022-03-01T07:52:17.773Z"
   },
   {
    "duration": 1473,
    "start_time": "2022-03-01T07:52:18.936Z"
   },
   {
    "duration": 1176,
    "start_time": "2022-03-01T07:52:20.411Z"
   },
   {
    "duration": 1178,
    "start_time": "2022-03-01T07:52:21.589Z"
   },
   {
    "duration": 4,
    "start_time": "2022-03-01T07:52:22.768Z"
   },
   {
    "duration": 1150,
    "start_time": "2022-03-01T07:52:22.774Z"
   },
   {
    "duration": 1564,
    "start_time": "2022-03-01T07:52:23.926Z"
   },
   {
    "duration": 1153,
    "start_time": "2022-03-01T07:52:25.492Z"
   },
   {
    "duration": 1140,
    "start_time": "2022-03-01T07:52:30.097Z"
   },
   {
    "duration": 702,
    "start_time": "2022-03-01T07:53:35.095Z"
   },
   {
    "duration": 687,
    "start_time": "2022-03-01T07:53:42.343Z"
   },
   {
    "duration": 1104,
    "start_time": "2022-03-01T07:53:47.946Z"
   },
   {
    "duration": 1125,
    "start_time": "2022-03-01T07:54:23.735Z"
   },
   {
    "duration": 675,
    "start_time": "2022-03-01T07:55:30.697Z"
   },
   {
    "duration": 798,
    "start_time": "2022-03-01T07:55:36.153Z"
   },
   {
    "duration": 556,
    "start_time": "2022-03-01T07:55:54.002Z"
   },
   {
    "duration": 529,
    "start_time": "2022-03-01T07:55:59.408Z"
   },
   {
    "duration": 561,
    "start_time": "2022-03-01T07:56:01.977Z"
   },
   {
    "duration": 789,
    "start_time": "2022-03-01T07:56:10.436Z"
   },
   {
    "duration": 1545,
    "start_time": "2022-03-01T07:56:13.431Z"
   },
   {
    "duration": 1604,
    "start_time": "2022-03-01T07:56:25.801Z"
   },
   {
    "duration": 1468,
    "start_time": "2022-03-01T07:56:33.912Z"
   },
   {
    "duration": 55,
    "start_time": "2022-03-01T07:56:41.544Z"
   },
   {
    "duration": 1133,
    "start_time": "2022-03-01T07:56:47.193Z"
   },
   {
    "duration": 692,
    "start_time": "2022-03-01T07:57:17.153Z"
   },
   {
    "duration": 1119,
    "start_time": "2022-03-01T07:57:24.841Z"
   },
   {
    "duration": 1128,
    "start_time": "2022-03-01T08:30:34.852Z"
   },
   {
    "duration": 4,
    "start_time": "2022-03-01T08:30:38.008Z"
   },
   {
    "duration": 4,
    "start_time": "2022-03-01T08:30:40.437Z"
   },
   {
    "duration": 4,
    "start_time": "2022-03-01T08:30:48.564Z"
   },
   {
    "duration": 5,
    "start_time": "2022-03-01T08:30:54.099Z"
   },
   {
    "duration": 5,
    "start_time": "2022-03-01T08:30:57.972Z"
   },
   {
    "duration": 7,
    "start_time": "2022-03-01T08:31:10.275Z"
   },
   {
    "duration": 212,
    "start_time": "2022-03-01T08:31:27.492Z"
   },
   {
    "duration": 204,
    "start_time": "2022-03-01T08:31:36.299Z"
   },
   {
    "duration": 8,
    "start_time": "2022-03-01T08:31:54.436Z"
   },
   {
    "duration": 16,
    "start_time": "2022-03-01T08:31:57.643Z"
   },
   {
    "duration": 207,
    "start_time": "2022-03-01T08:34:32.269Z"
   },
   {
    "duration": 14,
    "start_time": "2022-03-01T08:34:46.759Z"
   },
   {
    "duration": 16,
    "start_time": "2022-03-01T08:35:02.541Z"
   },
   {
    "duration": 16,
    "start_time": "2022-03-01T08:35:36.511Z"
   },
   {
    "duration": 702,
    "start_time": "2022-03-01T08:38:21.366Z"
   },
   {
    "duration": 730,
    "start_time": "2022-03-01T08:38:37.430Z"
   },
   {
    "duration": 17,
    "start_time": "2022-03-01T08:42:01.031Z"
   },
   {
    "duration": 13,
    "start_time": "2022-03-01T08:45:40.849Z"
   },
   {
    "duration": 1462,
    "start_time": "2022-03-01T08:45:52.688Z"
   },
   {
    "duration": 11,
    "start_time": "2022-03-01T08:46:05.076Z"
   },
   {
    "duration": 11,
    "start_time": "2022-03-01T08:46:10.473Z"
   },
   {
    "duration": 11,
    "start_time": "2022-03-01T08:46:14.345Z"
   },
   {
    "duration": 187,
    "start_time": "2022-03-01T08:47:23.825Z"
   },
   {
    "duration": 5,
    "start_time": "2022-03-01T08:47:28.145Z"
   },
   {
    "duration": 5,
    "start_time": "2022-03-01T08:47:32.115Z"
   },
   {
    "duration": 9,
    "start_time": "2022-03-01T08:48:11.043Z"
   },
   {
    "duration": 9,
    "start_time": "2022-03-01T08:48:13.593Z"
   },
   {
    "duration": 3,
    "start_time": "2022-03-01T08:48:20.983Z"
   },
   {
    "duration": 2955,
    "start_time": "2022-03-01T08:48:20.988Z"
   },
   {
    "duration": 3,
    "start_time": "2022-03-01T08:48:23.945Z"
   },
   {
    "duration": 12,
    "start_time": "2022-03-01T08:48:23.950Z"
   },
   {
    "duration": 7,
    "start_time": "2022-03-01T08:48:23.963Z"
   },
   {
    "duration": 9,
    "start_time": "2022-03-01T08:48:23.971Z"
   },
   {
    "duration": 5,
    "start_time": "2022-03-01T08:48:23.982Z"
   },
   {
    "duration": 6,
    "start_time": "2022-03-01T08:48:23.990Z"
   },
   {
    "duration": 4,
    "start_time": "2022-03-01T08:48:23.999Z"
   },
   {
    "duration": 10,
    "start_time": "2022-03-01T08:48:24.005Z"
   },
   {
    "duration": 46,
    "start_time": "2022-03-01T08:48:24.017Z"
   },
   {
    "duration": 13,
    "start_time": "2022-03-01T08:48:24.064Z"
   },
   {
    "duration": 9,
    "start_time": "2022-03-01T08:48:24.079Z"
   },
   {
    "duration": 1165,
    "start_time": "2022-03-01T08:48:24.090Z"
   },
   {
    "duration": 1115,
    "start_time": "2022-03-01T08:48:25.257Z"
   },
   {
    "duration": 1180,
    "start_time": "2022-03-01T08:48:26.373Z"
   },
   {
    "duration": 1168,
    "start_time": "2022-03-01T08:48:27.559Z"
   },
   {
    "duration": 4,
    "start_time": "2022-03-01T08:48:28.729Z"
   },
   {
    "duration": 1147,
    "start_time": "2022-03-01T08:48:28.735Z"
   },
   {
    "duration": 1165,
    "start_time": "2022-03-01T08:48:29.883Z"
   },
   {
    "duration": 1669,
    "start_time": "2022-03-01T08:48:31.050Z"
   },
   {
    "duration": 1132,
    "start_time": "2022-03-01T08:48:32.720Z"
   },
   {
    "duration": 1109,
    "start_time": "2022-03-01T08:48:33.855Z"
   },
   {
    "duration": 16,
    "start_time": "2022-03-01T08:48:34.966Z"
   },
   {
    "duration": 697,
    "start_time": "2022-03-01T08:48:34.983Z"
   },
   {
    "duration": 17,
    "start_time": "2022-03-01T08:48:35.682Z"
   },
   {
    "duration": 8,
    "start_time": "2022-03-01T08:48:56.217Z"
   },
   {
    "duration": 11,
    "start_time": "2022-03-01T08:48:56.831Z"
   },
   {
    "duration": 898,
    "start_time": "2022-03-01T08:49:35.634Z"
   },
   {
    "duration": 882,
    "start_time": "2022-03-01T08:49:53.761Z"
   },
   {
    "duration": 3,
    "start_time": "2022-03-01T09:04:43.815Z"
   },
   {
    "duration": 217,
    "start_time": "2022-03-01T09:07:15.441Z"
   },
   {
    "duration": 22,
    "start_time": "2022-03-01T09:07:24.921Z"
   },
   {
    "duration": 3,
    "start_time": "2022-03-01T09:08:50.937Z"
   },
   {
    "duration": 20,
    "start_time": "2022-03-01T09:08:53.209Z"
   },
   {
    "duration": 997,
    "start_time": "2022-03-01T09:08:57.161Z"
   },
   {
    "duration": 1182,
    "start_time": "2022-03-01T09:09:09.385Z"
   },
   {
    "duration": 1514,
    "start_time": "2022-03-01T09:09:15.946Z"
   },
   {
    "duration": 683,
    "start_time": "2022-03-01T09:09:29.585Z"
   },
   {
    "duration": 937,
    "start_time": "2022-03-01T09:09:35.923Z"
   },
   {
    "duration": 454,
    "start_time": "2022-03-01T09:09:40.914Z"
   },
   {
    "duration": 5,
    "start_time": "2022-03-01T09:09:43.890Z"
   },
   {
    "duration": 819,
    "start_time": "2022-03-01T09:09:54.442Z"
   },
   {
    "duration": 6,
    "start_time": "2022-03-01T09:13:28.083Z"
   },
   {
    "duration": 6,
    "start_time": "2022-03-01T09:14:36.563Z"
   },
   {
    "duration": 193,
    "start_time": "2022-03-01T09:14:49.292Z"
   },
   {
    "duration": 185,
    "start_time": "2022-03-01T09:14:52.475Z"
   },
   {
    "duration": 7952,
    "start_time": "2022-03-01T09:15:09.667Z"
   },
   {
    "duration": 73888,
    "start_time": "2022-03-01T09:15:28.134Z"
   },
   {
    "duration": 1035,
    "start_time": "2022-03-01T09:16:42.024Z"
   },
   {
    "duration": 22,
    "start_time": "2022-03-01T09:16:47.507Z"
   },
   {
    "duration": 747,
    "start_time": "2022-03-01T09:17:23.820Z"
   },
   {
    "duration": 944,
    "start_time": "2022-03-01T09:17:35.316Z"
   },
   {
    "duration": 592,
    "start_time": "2022-03-01T09:17:40.076Z"
   },
   {
    "duration": 3,
    "start_time": "2022-03-01T09:17:59.860Z"
   },
   {
    "duration": 713,
    "start_time": "2022-03-01T09:19:47.638Z"
   },
   {
    "duration": 221,
    "start_time": "2022-03-01T09:20:02.629Z"
   },
   {
    "duration": 203,
    "start_time": "2022-03-01T09:20:05.727Z"
   },
   {
    "duration": 18,
    "start_time": "2022-03-01T09:20:10.758Z"
   },
   {
    "duration": 1612,
    "start_time": "2022-03-01T09:20:11.550Z"
   },
   {
    "duration": 4,
    "start_time": "2022-03-01T09:20:34.381Z"
   },
   {
    "duration": 16,
    "start_time": "2022-03-01T09:21:42.998Z"
   },
   {
    "duration": 4,
    "start_time": "2022-03-01T09:22:28.503Z"
   },
   {
    "duration": 336,
    "start_time": "2022-03-01T09:22:38.150Z"
   },
   {
    "duration": 4,
    "start_time": "2022-03-01T09:22:45.391Z"
   },
   {
    "duration": 17,
    "start_time": "2022-03-01T09:22:46.094Z"
   },
   {
    "duration": 13,
    "start_time": "2022-03-01T09:22:46.734Z"
   },
   {
    "duration": 15,
    "start_time": "2022-03-01T09:23:58.342Z"
   },
   {
    "duration": 6,
    "start_time": "2022-03-01T09:24:09.159Z"
   },
   {
    "duration": 3,
    "start_time": "2022-03-01T09:26:12.888Z"
   },
   {
    "duration": 26,
    "start_time": "2022-03-01T09:26:29.200Z"
   },
   {
    "duration": 5,
    "start_time": "2022-03-01T09:26:34.673Z"
   },
   {
    "duration": 191,
    "start_time": "2022-03-01T09:26:41.583Z"
   },
   {
    "duration": 200,
    "start_time": "2022-03-01T09:26:50.697Z"
   },
   {
    "duration": 8719,
    "start_time": "2022-03-01T09:26:59.352Z"
   },
   {
    "duration": 4,
    "start_time": "2022-03-01T09:27:10.241Z"
   },
   {
    "duration": 187,
    "start_time": "2022-03-01T09:27:28.489Z"
   },
   {
    "duration": 193,
    "start_time": "2022-03-01T09:27:39.666Z"
   },
   {
    "duration": 192,
    "start_time": "2022-03-01T09:27:43.689Z"
   },
   {
    "duration": 192,
    "start_time": "2022-03-01T09:27:59.168Z"
   },
   {
    "duration": 155,
    "start_time": "2022-03-01T09:28:13.593Z"
   },
   {
    "duration": 235,
    "start_time": "2022-03-01T09:28:19.817Z"
   },
   {
    "duration": 275,
    "start_time": "2022-03-01T09:28:31.257Z"
   },
   {
    "duration": 425,
    "start_time": "2022-03-01T09:28:53.096Z"
   },
   {
    "duration": 483,
    "start_time": "2022-03-01T09:29:14.130Z"
   },
   {
    "duration": 651,
    "start_time": "2022-03-01T09:29:25.473Z"
   },
   {
    "duration": 805,
    "start_time": "2022-03-01T09:29:30.704Z"
   },
   {
    "duration": 623,
    "start_time": "2022-03-01T09:29:58.841Z"
   },
   {
    "duration": 892,
    "start_time": "2022-03-01T09:30:17.601Z"
   },
   {
    "duration": 68,
    "start_time": "2022-03-01T09:30:31.202Z"
   },
   {
    "duration": 2018,
    "start_time": "2022-03-01T09:30:33.889Z"
   },
   {
    "duration": 867,
    "start_time": "2022-03-01T09:30:40.809Z"
   },
   {
    "duration": 1276,
    "start_time": "2022-03-01T09:30:49.793Z"
   },
   {
    "duration": 985,
    "start_time": "2022-03-01T09:31:22.321Z"
   },
   {
    "duration": 1314,
    "start_time": "2022-03-01T09:31:29.842Z"
   },
   {
    "duration": 1292,
    "start_time": "2022-03-01T09:31:34.185Z"
   },
   {
    "duration": 1312,
    "start_time": "2022-03-01T09:32:32.042Z"
   },
   {
    "duration": 1244,
    "start_time": "2022-03-01T09:34:08.396Z"
   },
   {
    "duration": 5,
    "start_time": "2022-03-01T09:34:49.953Z"
   },
   {
    "duration": 504,
    "start_time": "2022-03-01T09:35:29.988Z"
   },
   {
    "duration": 515,
    "start_time": "2022-03-01T09:35:39.771Z"
   },
   {
    "duration": 8124,
    "start_time": "2022-03-01T09:36:04.924Z"
   },
   {
    "duration": 535,
    "start_time": "2022-03-01T09:36:17.852Z"
   },
   {
    "duration": 473,
    "start_time": "2022-03-01T09:36:48.355Z"
   },
   {
    "duration": 467,
    "start_time": "2022-03-01T09:37:16.084Z"
   },
   {
    "duration": 526,
    "start_time": "2022-03-01T09:37:35.275Z"
   },
   {
    "duration": 5,
    "start_time": "2022-03-01T09:38:57.355Z"
   },
   {
    "duration": 5,
    "start_time": "2022-03-01T09:39:03.877Z"
   },
   {
    "duration": 533,
    "start_time": "2022-03-01T09:39:33.940Z"
   },
   {
    "duration": 5,
    "start_time": "2022-03-01T09:39:52.859Z"
   },
   {
    "duration": 434,
    "start_time": "2022-03-01T09:41:15.517Z"
   },
   {
    "duration": 503,
    "start_time": "2022-03-01T09:41:22.356Z"
   },
   {
    "duration": 4,
    "start_time": "2022-03-01T09:41:33.179Z"
   },
   {
    "duration": 233,
    "start_time": "2022-03-01T09:41:35.148Z"
   },
   {
    "duration": 510,
    "start_time": "2022-03-01T09:41:46.300Z"
   },
   {
    "duration": 791,
    "start_time": "2022-03-01T09:42:02.844Z"
   },
   {
    "duration": 709,
    "start_time": "2022-03-01T09:42:22.917Z"
   },
   {
    "duration": 801,
    "start_time": "2022-03-01T09:42:30.941Z"
   },
   {
    "duration": 803,
    "start_time": "2022-03-01T09:42:46.557Z"
   },
   {
    "duration": 3,
    "start_time": "2022-03-01T09:52:02.326Z"
   },
   {
    "duration": 7707,
    "start_time": "2022-03-01T09:52:02.331Z"
   },
   {
    "duration": 4,
    "start_time": "2022-03-01T09:52:10.040Z"
   },
   {
    "duration": 13,
    "start_time": "2022-03-01T09:52:10.047Z"
   },
   {
    "duration": 7,
    "start_time": "2022-03-01T09:52:10.062Z"
   },
   {
    "duration": 8,
    "start_time": "2022-03-01T09:52:10.071Z"
   },
   {
    "duration": 7,
    "start_time": "2022-03-01T09:52:10.082Z"
   },
   {
    "duration": 10,
    "start_time": "2022-03-01T09:52:10.091Z"
   },
   {
    "duration": 10,
    "start_time": "2022-03-01T09:52:10.102Z"
   },
   {
    "duration": 13,
    "start_time": "2022-03-01T09:52:10.114Z"
   },
   {
    "duration": 35,
    "start_time": "2022-03-01T09:52:10.129Z"
   },
   {
    "duration": 9,
    "start_time": "2022-03-01T09:52:10.166Z"
   },
   {
    "duration": 7,
    "start_time": "2022-03-01T09:52:10.176Z"
   },
   {
    "duration": 1222,
    "start_time": "2022-03-01T09:52:10.185Z"
   },
   {
    "duration": 2723,
    "start_time": "2022-03-01T09:52:11.409Z"
   },
   {
    "duration": 1217,
    "start_time": "2022-03-01T09:52:14.133Z"
   },
   {
    "duration": 1222,
    "start_time": "2022-03-01T09:52:15.352Z"
   },
   {
    "duration": 4,
    "start_time": "2022-03-01T09:52:16.575Z"
   },
   {
    "duration": 1203,
    "start_time": "2022-03-01T09:52:16.583Z"
   },
   {
    "duration": 1207,
    "start_time": "2022-03-01T09:52:17.788Z"
   },
   {
    "duration": 1198,
    "start_time": "2022-03-01T09:52:18.997Z"
   },
   {
    "duration": 1227,
    "start_time": "2022-03-01T09:52:20.197Z"
   },
   {
    "duration": 1183,
    "start_time": "2022-03-01T09:52:21.426Z"
   },
   {
    "duration": 18,
    "start_time": "2022-03-01T09:52:22.611Z"
   },
   {
    "duration": 744,
    "start_time": "2022-03-01T09:52:22.631Z"
   },
   {
    "duration": 18,
    "start_time": "2022-03-01T09:52:23.378Z"
   },
   {
    "duration": 9,
    "start_time": "2022-03-01T09:52:23.398Z"
   },
   {
    "duration": 977,
    "start_time": "2022-03-01T09:52:23.409Z"
   },
   {
    "duration": 4,
    "start_time": "2022-03-01T09:52:24.388Z"
   },
   {
    "duration": 22,
    "start_time": "2022-03-01T09:52:24.394Z"
   },
   {
    "duration": 744,
    "start_time": "2022-03-01T09:52:24.418Z"
   },
   {
    "duration": 94,
    "start_time": "2022-03-01T09:52:25.164Z"
   },
   {
    "duration": 114,
    "start_time": "2022-03-01T09:52:25.261Z"
   },
   {
    "duration": 1785,
    "start_time": "2022-03-01T09:52:25.377Z"
   },
   {
    "duration": 5,
    "start_time": "2022-03-01T09:52:27.164Z"
   },
   {
    "duration": 93,
    "start_time": "2022-03-01T09:52:27.171Z"
   },
   {
    "duration": 20,
    "start_time": "2022-03-01T09:52:27.266Z"
   },
   {
    "duration": 72,
    "start_time": "2022-03-01T09:52:27.287Z"
   },
   {
    "duration": 101,
    "start_time": "2022-03-01T09:52:27.363Z"
   },
   {
    "duration": 9,
    "start_time": "2022-03-01T09:52:27.466Z"
   },
   {
    "duration": 83,
    "start_time": "2022-03-01T09:52:27.478Z"
   },
   {
    "duration": 805,
    "start_time": "2022-03-01T09:52:27.563Z"
   },
   {
    "duration": 5,
    "start_time": "2022-03-01T09:52:28.369Z"
   },
   {
    "duration": 791,
    "start_time": "2022-03-01T09:52:28.376Z"
   },
   {
    "duration": 5,
    "start_time": "2022-03-01T09:52:29.169Z"
   },
   {
    "duration": 1062,
    "start_time": "2022-03-01T13:35:43.453Z"
   },
   {
    "duration": 2705,
    "start_time": "2022-03-01T13:35:44.517Z"
   },
   {
    "duration": 9,
    "start_time": "2022-03-01T13:35:47.224Z"
   },
   {
    "duration": 6,
    "start_time": "2022-03-01T13:36:31.467Z"
   },
   {
    "duration": 259,
    "start_time": "2022-03-01T13:36:47.149Z"
   },
   {
    "duration": 6,
    "start_time": "2022-03-01T13:36:50.924Z"
   },
   {
    "duration": 6,
    "start_time": "2022-03-01T13:36:51.890Z"
   },
   {
    "duration": 4,
    "start_time": "2022-03-01T14:50:44.691Z"
   },
   {
    "duration": 6,
    "start_time": "2022-03-01T14:51:33.623Z"
   },
   {
    "duration": 3,
    "start_time": "2022-03-01T14:51:35.863Z"
   },
   {
    "duration": 9,
    "start_time": "2022-03-01T14:52:14.297Z"
   },
   {
    "duration": 5,
    "start_time": "2022-03-01T14:52:20.746Z"
   },
   {
    "duration": 8,
    "start_time": "2022-03-01T14:52:21.646Z"
   },
   {
    "duration": 7,
    "start_time": "2022-03-01T14:58:03.163Z"
   },
   {
    "duration": 1007,
    "start_time": "2022-03-01T14:58:08.809Z"
   },
   {
    "duration": 1048,
    "start_time": "2022-03-01T14:58:10.476Z"
   },
   {
    "duration": 1024,
    "start_time": "2022-03-01T14:58:12.189Z"
   },
   {
    "duration": 1100,
    "start_time": "2022-03-01T14:58:13.882Z"
   },
   {
    "duration": 5,
    "start_time": "2022-03-01T14:58:14.984Z"
   },
   {
    "duration": 1006,
    "start_time": "2022-03-01T14:58:15.385Z"
   },
   {
    "duration": 1136,
    "start_time": "2022-03-01T14:58:17.715Z"
   },
   {
    "duration": 1025,
    "start_time": "2022-03-01T14:58:18.853Z"
   },
   {
    "duration": 1145,
    "start_time": "2022-03-01T14:58:19.880Z"
   },
   {
    "duration": 1020,
    "start_time": "2022-03-01T15:01:01.017Z"
   },
   {
    "duration": 17,
    "start_time": "2022-03-01T15:01:02.580Z"
   },
   {
    "duration": 649,
    "start_time": "2022-03-01T15:01:03.613Z"
   },
   {
    "duration": 15,
    "start_time": "2022-03-01T15:01:04.264Z"
   },
   {
    "duration": 8,
    "start_time": "2022-03-01T15:01:06.954Z"
   },
   {
    "duration": 1000,
    "start_time": "2022-03-01T15:01:07.805Z"
   },
   {
    "duration": 3,
    "start_time": "2022-03-01T15:01:54.320Z"
   },
   {
    "duration": 24,
    "start_time": "2022-03-01T15:02:25.464Z"
   },
   {
    "duration": 886,
    "start_time": "2022-03-01T15:02:26.665Z"
   },
   {
    "duration": 4,
    "start_time": "2022-03-01T15:02:29.640Z"
   },
   {
    "duration": 18,
    "start_time": "2022-03-01T15:02:48.571Z"
   },
   {
    "duration": 1894,
    "start_time": "2022-03-01T15:02:49.646Z"
   },
   {
    "duration": 4,
    "start_time": "2022-03-01T15:02:51.543Z"
   },
   {
    "duration": 4,
    "start_time": "2022-03-01T15:02:56.211Z"
   },
   {
    "duration": 17,
    "start_time": "2022-03-01T15:02:57.125Z"
   },
   {
    "duration": 7,
    "start_time": "2022-03-01T15:03:00.129Z"
   },
   {
    "duration": 14,
    "start_time": "2022-03-01T15:03:05.134Z"
   },
   {
    "duration": 7,
    "start_time": "2022-03-01T15:03:05.558Z"
   },
   {
    "duration": 4,
    "start_time": "2022-03-01T15:03:07.058Z"
   },
   {
    "duration": 766,
    "start_time": "2022-03-01T15:03:11.012Z"
   },
   {
    "duration": 5,
    "start_time": "2022-03-01T15:03:12.316Z"
   },
   {
    "duration": 740,
    "start_time": "2022-03-01T15:03:13.554Z"
   },
   {
    "duration": 5,
    "start_time": "2022-03-01T15:03:14.353Z"
   },
   {
    "duration": 4,
    "start_time": "2022-03-01T15:04:04.146Z"
   },
   {
    "duration": 4,
    "start_time": "2022-03-01T15:04:28.732Z"
   },
   {
    "duration": 273,
    "start_time": "2022-03-01T15:23:16.901Z"
   },
   {
    "duration": 1189,
    "start_time": "2022-03-01T15:23:21.782Z"
   },
   {
    "duration": 5334,
    "start_time": "2022-03-01T15:23:22.974Z"
   },
   {
    "duration": 4,
    "start_time": "2022-03-01T15:23:28.310Z"
   },
   {
    "duration": 8,
    "start_time": "2022-03-01T15:23:28.315Z"
   },
   {
    "duration": 7,
    "start_time": "2022-03-01T15:23:28.324Z"
   },
   {
    "duration": 28,
    "start_time": "2022-03-01T15:23:28.333Z"
   },
   {
    "duration": 5,
    "start_time": "2022-03-01T15:23:28.362Z"
   },
   {
    "duration": 6,
    "start_time": "2022-03-01T15:23:28.369Z"
   },
   {
    "duration": 3,
    "start_time": "2022-03-01T15:23:28.378Z"
   },
   {
    "duration": 9,
    "start_time": "2022-03-01T15:23:28.383Z"
   },
   {
    "duration": 5,
    "start_time": "2022-03-01T15:23:28.394Z"
   },
   {
    "duration": 8,
    "start_time": "2022-03-01T15:23:28.400Z"
   },
   {
    "duration": 53,
    "start_time": "2022-03-01T15:23:28.410Z"
   },
   {
    "duration": 1204,
    "start_time": "2022-03-01T15:23:28.464Z"
   },
   {
    "duration": 1238,
    "start_time": "2022-03-01T15:23:29.670Z"
   },
   {
    "duration": 1219,
    "start_time": "2022-03-01T15:23:30.910Z"
   },
   {
    "duration": 1278,
    "start_time": "2022-03-01T15:23:32.131Z"
   },
   {
    "duration": 5,
    "start_time": "2022-03-01T15:23:33.411Z"
   },
   {
    "duration": 1196,
    "start_time": "2022-03-01T15:23:33.418Z"
   },
   {
    "duration": 1326,
    "start_time": "2022-03-01T15:23:34.616Z"
   },
   {
    "duration": 1189,
    "start_time": "2022-03-01T15:23:35.944Z"
   },
   {
    "duration": 1324,
    "start_time": "2022-03-01T15:23:37.135Z"
   },
   {
    "duration": 1142,
    "start_time": "2022-03-01T15:23:38.460Z"
   },
   {
    "duration": 18,
    "start_time": "2022-03-01T15:23:39.604Z"
   },
   {
    "duration": 720,
    "start_time": "2022-03-01T15:23:39.624Z"
   },
   {
    "duration": 25,
    "start_time": "2022-03-01T15:23:40.346Z"
   },
   {
    "duration": 8,
    "start_time": "2022-03-01T15:23:40.374Z"
   },
   {
    "duration": 9,
    "start_time": "2022-03-01T15:23:52.560Z"
   },
   {
    "duration": 11,
    "start_time": "2022-03-01T15:23:53.010Z"
   },
   {
    "duration": 257,
    "start_time": "2022-03-01T15:24:04.329Z"
   },
   {
    "duration": 7,
    "start_time": "2022-03-01T15:24:11.522Z"
   },
   {
    "duration": 190,
    "start_time": "2022-03-01T15:24:13.697Z"
   },
   {
    "duration": 8,
    "start_time": "2022-03-01T15:24:16.481Z"
   },
   {
    "duration": 12,
    "start_time": "2022-03-01T15:24:33.555Z"
   },
   {
    "duration": 12,
    "start_time": "2022-03-01T15:24:59.130Z"
   },
   {
    "duration": 20,
    "start_time": "2022-03-01T15:26:40.134Z"
   },
   {
    "duration": 6,
    "start_time": "2022-03-01T15:27:07.070Z"
   },
   {
    "duration": 9,
    "start_time": "2022-03-01T15:27:14.330Z"
   },
   {
    "duration": 11,
    "start_time": "2022-03-01T15:27:18.816Z"
   },
   {
    "duration": 12,
    "start_time": "2022-03-01T15:27:23.188Z"
   },
   {
    "duration": 6,
    "start_time": "2022-03-01T15:29:09.363Z"
   },
   {
    "duration": 271,
    "start_time": "2022-03-01T15:30:09.195Z"
   },
   {
    "duration": 86,
    "start_time": "2022-03-01T15:30:37.412Z"
   },
   {
    "duration": 6,
    "start_time": "2022-03-01T15:30:41.707Z"
   },
   {
    "duration": 9,
    "start_time": "2022-03-01T15:30:44.011Z"
   },
   {
    "duration": 199,
    "start_time": "2022-03-01T15:31:11.483Z"
   },
   {
    "duration": 29,
    "start_time": "2022-03-01T15:31:22.037Z"
   },
   {
    "duration": 195,
    "start_time": "2022-03-01T15:31:30.975Z"
   },
   {
    "duration": 259,
    "start_time": "2022-03-01T15:31:34.235Z"
   },
   {
    "duration": 65,
    "start_time": "2022-03-01T15:34:22.517Z"
   },
   {
    "duration": 61,
    "start_time": "2022-03-01T15:34:46.886Z"
   },
   {
    "duration": 28,
    "start_time": "2022-03-01T15:35:04.805Z"
   },
   {
    "duration": 61,
    "start_time": "2022-03-01T15:35:14.950Z"
   },
   {
    "duration": 10,
    "start_time": "2022-03-01T15:35:47.309Z"
   },
   {
    "duration": 9,
    "start_time": "2022-03-01T15:36:33.413Z"
   },
   {
    "duration": 219,
    "start_time": "2022-03-01T15:36:51.942Z"
   },
   {
    "duration": 441,
    "start_time": "2022-03-01T15:37:08.270Z"
   },
   {
    "duration": 275,
    "start_time": "2022-03-01T15:37:19.150Z"
   },
   {
    "duration": 312,
    "start_time": "2022-03-01T15:37:27.374Z"
   },
   {
    "duration": 821,
    "start_time": "2022-03-01T15:37:47.831Z"
   },
   {
    "duration": 808,
    "start_time": "2022-03-01T15:37:59.470Z"
   },
   {
    "duration": 965,
    "start_time": "2022-03-01T15:38:09.263Z"
   },
   {
    "duration": 799,
    "start_time": "2022-03-01T15:38:12.429Z"
   },
   {
    "duration": 792,
    "start_time": "2022-03-01T15:38:15.078Z"
   },
   {
    "duration": 1144,
    "start_time": "2022-03-01T15:38:35.222Z"
   },
   {
    "duration": 906,
    "start_time": "2022-03-01T15:38:53.552Z"
   },
   {
    "duration": 28,
    "start_time": "2022-03-01T15:40:26.143Z"
   },
   {
    "duration": 206,
    "start_time": "2022-03-01T15:40:33.886Z"
   },
   {
    "duration": 255,
    "start_time": "2022-03-01T15:40:41.030Z"
   },
   {
    "duration": 23,
    "start_time": "2022-03-01T15:40:46.990Z"
   },
   {
    "duration": 25,
    "start_time": "2022-03-01T15:40:51.183Z"
   },
   {
    "duration": 27,
    "start_time": "2022-03-01T15:41:27.766Z"
   },
   {
    "duration": 26,
    "start_time": "2022-03-01T15:41:39.734Z"
   },
   {
    "duration": 55,
    "start_time": "2022-03-01T15:42:30.128Z"
   },
   {
    "duration": 30,
    "start_time": "2022-03-01T15:42:44.808Z"
   },
   {
    "duration": 52,
    "start_time": "2022-03-01T15:42:51.928Z"
   },
   {
    "duration": 229,
    "start_time": "2022-03-01T15:42:55.135Z"
   },
   {
    "duration": 54,
    "start_time": "2022-03-01T15:43:00.962Z"
   },
   {
    "duration": 29,
    "start_time": "2022-03-01T15:43:19.479Z"
   },
   {
    "duration": 31,
    "start_time": "2022-03-01T15:44:05.855Z"
   },
   {
    "duration": 4885,
    "start_time": "2022-03-01T15:44:11.312Z"
   },
   {
    "duration": 5,
    "start_time": "2022-03-01T15:44:21.663Z"
   },
   {
    "duration": 190,
    "start_time": "2022-03-01T15:44:46.072Z"
   },
   {
    "duration": 22,
    "start_time": "2022-03-01T15:44:49.112Z"
   },
   {
    "duration": 28,
    "start_time": "2022-03-01T15:44:49.759Z"
   },
   {
    "duration": 158,
    "start_time": "2022-03-01T15:45:01.672Z"
   },
   {
    "duration": 27,
    "start_time": "2022-03-01T15:45:50.905Z"
   },
   {
    "duration": 81,
    "start_time": "2022-03-01T15:45:56.441Z"
   },
   {
    "duration": 29,
    "start_time": "2022-03-01T15:47:37.361Z"
   },
   {
    "duration": 4,
    "start_time": "2022-03-01T15:47:40.694Z"
   },
   {
    "duration": 66,
    "start_time": "2022-03-01T15:49:32.681Z"
   },
   {
    "duration": 3,
    "start_time": "2022-03-01T15:52:13.427Z"
   },
   {
    "duration": 2971,
    "start_time": "2022-03-01T15:52:13.432Z"
   },
   {
    "duration": 4,
    "start_time": "2022-03-01T15:52:16.405Z"
   },
   {
    "duration": 6,
    "start_time": "2022-03-01T15:52:16.411Z"
   },
   {
    "duration": 6,
    "start_time": "2022-03-01T15:52:16.418Z"
   },
   {
    "duration": 20,
    "start_time": "2022-03-01T15:52:16.425Z"
   },
   {
    "duration": 14,
    "start_time": "2022-03-01T15:52:16.448Z"
   },
   {
    "duration": 12,
    "start_time": "2022-03-01T15:52:16.464Z"
   },
   {
    "duration": 7,
    "start_time": "2022-03-01T15:52:16.478Z"
   },
   {
    "duration": 11,
    "start_time": "2022-03-01T15:52:16.487Z"
   },
   {
    "duration": 5,
    "start_time": "2022-03-01T15:52:16.500Z"
   },
   {
    "duration": 11,
    "start_time": "2022-03-01T15:52:16.506Z"
   },
   {
    "duration": 7,
    "start_time": "2022-03-01T15:52:16.519Z"
   },
   {
    "duration": 1218,
    "start_time": "2022-03-01T15:52:16.528Z"
   },
   {
    "duration": 1431,
    "start_time": "2022-03-01T15:52:17.748Z"
   },
   {
    "duration": 1211,
    "start_time": "2022-03-01T15:52:19.181Z"
   },
   {
    "duration": 1231,
    "start_time": "2022-03-01T15:52:20.394Z"
   },
   {
    "duration": 5,
    "start_time": "2022-03-01T15:52:21.627Z"
   },
   {
    "duration": 1515,
    "start_time": "2022-03-01T15:52:21.635Z"
   },
   {
    "duration": 1212,
    "start_time": "2022-03-01T15:52:23.152Z"
   },
   {
    "duration": 1197,
    "start_time": "2022-03-01T15:52:24.366Z"
   },
   {
    "duration": 1204,
    "start_time": "2022-03-01T15:52:25.565Z"
   },
   {
    "duration": 1477,
    "start_time": "2022-03-01T15:52:26.770Z"
   },
   {
    "duration": 21,
    "start_time": "2022-03-01T15:52:28.248Z"
   },
   {
    "duration": 735,
    "start_time": "2022-03-01T15:52:28.271Z"
   },
   {
    "duration": 17,
    "start_time": "2022-03-01T15:52:29.007Z"
   },
   {
    "duration": 8,
    "start_time": "2022-03-01T15:52:30.674Z"
   },
   {
    "duration": 201,
    "start_time": "2022-03-01T15:52:50.466Z"
   },
   {
    "duration": 8,
    "start_time": "2022-03-01T15:53:13.610Z"
   },
   {
    "duration": 354,
    "start_time": "2022-03-01T15:53:14.417Z"
   },
   {
    "duration": 951,
    "start_time": "2022-03-01T15:53:25.713Z"
   },
   {
    "duration": 21,
    "start_time": "2022-03-01T16:01:08.582Z"
   },
   {
    "duration": 185,
    "start_time": "2022-03-01T16:05:56.589Z"
   },
   {
    "duration": 1080,
    "start_time": "2022-03-01T16:05:59.541Z"
   },
   {
    "duration": 3,
    "start_time": "2022-03-01T16:06:03.350Z"
   },
   {
    "duration": 3495,
    "start_time": "2022-03-01T16:06:03.355Z"
   },
   {
    "duration": 4,
    "start_time": "2022-03-01T16:06:06.852Z"
   },
   {
    "duration": 4,
    "start_time": "2022-03-01T16:06:06.859Z"
   },
   {
    "duration": 6,
    "start_time": "2022-03-01T16:06:06.865Z"
   },
   {
    "duration": 7,
    "start_time": "2022-03-01T16:06:06.873Z"
   },
   {
    "duration": 4,
    "start_time": "2022-03-01T16:06:06.883Z"
   },
   {
    "duration": 6,
    "start_time": "2022-03-01T16:06:06.889Z"
   },
   {
    "duration": 5,
    "start_time": "2022-03-01T16:06:06.897Z"
   },
   {
    "duration": 9,
    "start_time": "2022-03-01T16:06:06.903Z"
   },
   {
    "duration": 47,
    "start_time": "2022-03-01T16:06:06.914Z"
   },
   {
    "duration": 8,
    "start_time": "2022-03-01T16:06:06.963Z"
   },
   {
    "duration": 8,
    "start_time": "2022-03-01T16:06:06.973Z"
   },
   {
    "duration": 1234,
    "start_time": "2022-03-01T16:06:06.982Z"
   },
   {
    "duration": 1521,
    "start_time": "2022-03-01T16:06:08.218Z"
   },
   {
    "duration": 1221,
    "start_time": "2022-03-01T16:06:09.741Z"
   },
   {
    "duration": 1218,
    "start_time": "2022-03-01T16:06:10.963Z"
   },
   {
    "duration": 4,
    "start_time": "2022-03-01T16:06:12.183Z"
   },
   {
    "duration": 1212,
    "start_time": "2022-03-01T16:06:12.190Z"
   },
   {
    "duration": 1209,
    "start_time": "2022-03-01T16:06:13.405Z"
   },
   {
    "duration": 1588,
    "start_time": "2022-03-01T16:06:14.617Z"
   },
   {
    "duration": 1199,
    "start_time": "2022-03-01T16:06:16.207Z"
   },
   {
    "duration": 1156,
    "start_time": "2022-03-01T16:06:17.408Z"
   },
   {
    "duration": 17,
    "start_time": "2022-03-01T16:06:18.566Z"
   },
   {
    "duration": 736,
    "start_time": "2022-03-01T16:06:18.584Z"
   },
   {
    "duration": 17,
    "start_time": "2022-03-01T16:06:19.323Z"
   },
   {
    "duration": 23,
    "start_time": "2022-03-01T16:06:19.342Z"
   },
   {
    "duration": 964,
    "start_time": "2022-03-01T16:06:19.366Z"
   },
   {
    "duration": 28,
    "start_time": "2022-03-01T16:06:20.332Z"
   },
   {
    "duration": 3,
    "start_time": "2022-03-01T16:06:20.361Z"
   },
   {
    "duration": 25,
    "start_time": "2022-03-01T16:06:20.366Z"
   },
   {
    "duration": 968,
    "start_time": "2022-03-01T16:06:20.392Z"
   },
   {
    "duration": 5,
    "start_time": "2022-03-01T16:06:21.362Z"
   },
   {
    "duration": 4,
    "start_time": "2022-03-01T16:06:24.046Z"
   },
   {
    "duration": 185,
    "start_time": "2022-03-01T16:06:24.501Z"
   },
   {
    "duration": 198,
    "start_time": "2022-03-01T16:06:29.788Z"
   },
   {
    "duration": 5,
    "start_time": "2022-03-01T16:06:35.430Z"
   },
   {
    "duration": 193,
    "start_time": "2022-03-01T16:06:44.406Z"
   },
   {
    "duration": 5,
    "start_time": "2022-03-01T16:06:57.454Z"
   },
   {
    "duration": 18,
    "start_time": "2022-03-01T16:07:17.765Z"
   },
   {
    "duration": 203,
    "start_time": "2022-03-01T16:07:24.046Z"
   },
   {
    "duration": 3,
    "start_time": "2022-03-01T16:08:02.774Z"
   },
   {
    "duration": 189,
    "start_time": "2022-03-01T16:08:11.358Z"
   },
   {
    "duration": 70,
    "start_time": "2022-03-01T16:08:23.894Z"
   },
   {
    "duration": 178,
    "start_time": "2022-03-01T16:08:26.734Z"
   },
   {
    "duration": 5,
    "start_time": "2022-03-01T16:08:34.150Z"
   },
   {
    "duration": 4,
    "start_time": "2022-03-01T16:08:38.390Z"
   },
   {
    "duration": 5,
    "start_time": "2022-03-01T16:08:40.277Z"
   },
   {
    "duration": 3,
    "start_time": "2022-03-01T16:08:50.598Z"
   },
   {
    "duration": 369,
    "start_time": "2022-03-01T16:09:09.421Z"
   },
   {
    "duration": 64,
    "start_time": "2022-03-01T16:09:22.438Z"
   },
   {
    "duration": 8,
    "start_time": "2022-03-01T16:09:25.910Z"
   },
   {
    "duration": 3,
    "start_time": "2022-03-01T16:09:29.190Z"
   },
   {
    "duration": 4,
    "start_time": "2022-03-01T16:10:37.718Z"
   },
   {
    "duration": 20,
    "start_time": "2022-03-01T16:10:40.974Z"
   },
   {
    "duration": 790,
    "start_time": "2022-03-01T16:10:42.678Z"
   },
   {
    "duration": 3,
    "start_time": "2022-03-01T16:10:45.494Z"
   },
   {
    "duration": 8,
    "start_time": "2022-03-01T16:10:49.094Z"
   },
   {
    "duration": 9,
    "start_time": "2022-03-01T16:10:53.087Z"
   },
   {
    "duration": 3,
    "start_time": "2022-03-01T16:10:57.142Z"
   },
   {
    "duration": 19,
    "start_time": "2022-03-01T16:10:58.560Z"
   },
   {
    "duration": 780,
    "start_time": "2022-03-01T16:10:58.989Z"
   },
   {
    "duration": 5,
    "start_time": "2022-03-01T16:10:59.861Z"
   },
   {
    "duration": 9,
    "start_time": "2022-03-01T16:11:00.327Z"
   },
   {
    "duration": 9,
    "start_time": "2022-03-01T16:11:24.615Z"
   },
   {
    "duration": 17,
    "start_time": "2022-03-01T16:11:25.424Z"
   },
   {
    "duration": 1243,
    "start_time": "2022-03-01T16:11:26.720Z"
   },
   {
    "duration": 3,
    "start_time": "2022-03-01T16:11:28.814Z"
   },
   {
    "duration": 9,
    "start_time": "2022-03-01T16:11:34.679Z"
   },
   {
    "duration": 181,
    "start_time": "2022-03-01T16:12:24.593Z"
   },
   {
    "duration": 16,
    "start_time": "2022-03-01T16:12:28.159Z"
   },
   {
    "duration": 4,
    "start_time": "2022-03-01T16:12:28.607Z"
   },
   {
    "duration": 4,
    "start_time": "2022-03-01T16:12:29.063Z"
   },
   {
    "duration": 176,
    "start_time": "2022-03-01T16:12:29.695Z"
   },
   {
    "duration": 3,
    "start_time": "2022-03-01T16:12:34.904Z"
   },
   {
    "duration": 3415,
    "start_time": "2022-03-01T16:12:34.909Z"
   },
   {
    "duration": 5,
    "start_time": "2022-03-01T16:12:38.326Z"
   },
   {
    "duration": 13,
    "start_time": "2022-03-01T16:12:38.333Z"
   },
   {
    "duration": 12,
    "start_time": "2022-03-01T16:12:38.347Z"
   },
   {
    "duration": 9,
    "start_time": "2022-03-01T16:12:38.361Z"
   },
   {
    "duration": 4,
    "start_time": "2022-03-01T16:12:38.372Z"
   },
   {
    "duration": 6,
    "start_time": "2022-03-01T16:12:38.379Z"
   },
   {
    "duration": 6,
    "start_time": "2022-03-01T16:12:38.386Z"
   },
   {
    "duration": 11,
    "start_time": "2022-03-01T16:12:38.393Z"
   },
   {
    "duration": 5,
    "start_time": "2022-03-01T16:12:38.405Z"
   },
   {
    "duration": 10,
    "start_time": "2022-03-01T16:12:38.412Z"
   },
   {
    "duration": 41,
    "start_time": "2022-03-01T16:12:38.423Z"
   },
   {
    "duration": 1664,
    "start_time": "2022-03-01T16:12:38.465Z"
   },
   {
    "duration": 1172,
    "start_time": "2022-03-01T16:12:40.131Z"
   },
   {
    "duration": 1188,
    "start_time": "2022-03-01T16:12:41.305Z"
   },
   {
    "duration": 1190,
    "start_time": "2022-03-01T16:12:42.494Z"
   },
   {
    "duration": 4,
    "start_time": "2022-03-01T16:12:43.685Z"
   },
   {
    "duration": 1200,
    "start_time": "2022-03-01T16:12:43.692Z"
   },
   {
    "duration": 1210,
    "start_time": "2022-03-01T16:12:44.894Z"
   },
   {
    "duration": 1658,
    "start_time": "2022-03-01T16:12:46.105Z"
   },
   {
    "duration": 1204,
    "start_time": "2022-03-01T16:12:47.764Z"
   },
   {
    "duration": 1168,
    "start_time": "2022-03-01T16:12:48.969Z"
   },
   {
    "duration": 22,
    "start_time": "2022-03-01T16:12:50.138Z"
   },
   {
    "duration": 745,
    "start_time": "2022-03-01T16:12:50.161Z"
   },
   {
    "duration": 17,
    "start_time": "2022-03-01T16:12:50.907Z"
   },
   {
    "duration": 8,
    "start_time": "2022-03-01T16:12:50.926Z"
   },
   {
    "duration": 960,
    "start_time": "2022-03-01T16:12:50.935Z"
   },
   {
    "duration": 19,
    "start_time": "2022-03-01T16:12:51.897Z"
   },
   {
    "duration": 3,
    "start_time": "2022-03-01T16:12:51.918Z"
   },
   {
    "duration": 41,
    "start_time": "2022-03-01T16:12:51.922Z"
   },
   {
    "duration": 608,
    "start_time": "2022-03-01T16:12:51.964Z"
   },
   {
    "duration": 5,
    "start_time": "2022-03-01T16:12:52.660Z"
   },
   {
    "duration": 105,
    "start_time": "2022-03-01T16:12:52.669Z"
   },
   {
    "duration": 1288,
    "start_time": "2022-03-01T16:12:52.776Z"
   },
   {
    "duration": 95,
    "start_time": "2022-03-01T16:12:54.066Z"
   },
   {
    "duration": 8,
    "start_time": "2022-03-01T16:12:54.164Z"
   },
   {
    "duration": 85,
    "start_time": "2022-03-01T16:12:54.174Z"
   },
   {
    "duration": 16,
    "start_time": "2022-03-01T16:12:54.261Z"
   },
   {
    "duration": 4,
    "start_time": "2022-03-01T16:12:54.278Z"
   },
   {
    "duration": 18,
    "start_time": "2022-03-01T16:12:54.284Z"
   },
   {
    "duration": 8,
    "start_time": "2022-03-01T16:12:55.752Z"
   },
   {
    "duration": 7,
    "start_time": "2022-03-01T16:12:58.791Z"
   },
   {
    "duration": 11,
    "start_time": "2022-03-01T16:13:22.775Z"
   },
   {
    "duration": 11,
    "start_time": "2022-03-01T16:13:52.368Z"
   },
   {
    "duration": 7,
    "start_time": "2022-03-01T16:13:57.232Z"
   },
   {
    "duration": 6,
    "start_time": "2022-03-01T16:14:07.208Z"
   },
   {
    "duration": 7,
    "start_time": "2022-03-01T16:14:40.383Z"
   },
   {
    "duration": 13,
    "start_time": "2022-03-01T16:14:41.527Z"
   },
   {
    "duration": 13,
    "start_time": "2022-03-01T16:14:42.256Z"
   },
   {
    "duration": 7,
    "start_time": "2022-03-01T16:14:43.343Z"
   },
   {
    "duration": 4,
    "start_time": "2022-03-01T16:15:12.520Z"
   },
   {
    "duration": 3,
    "start_time": "2022-03-01T16:26:43.811Z"
   },
   {
    "duration": 1070,
    "start_time": "2022-03-01T19:04:31.484Z"
   },
   {
    "duration": 2743,
    "start_time": "2022-03-01T19:04:32.556Z"
   },
   {
    "duration": 3,
    "start_time": "2022-03-01T19:04:35.301Z"
   },
   {
    "duration": 8,
    "start_time": "2022-03-01T19:04:35.305Z"
   },
   {
    "duration": 8,
    "start_time": "2022-03-01T19:04:35.314Z"
   },
   {
    "duration": 5,
    "start_time": "2022-03-01T19:04:35.324Z"
   },
   {
    "duration": 7,
    "start_time": "2022-03-01T19:04:35.330Z"
   },
   {
    "duration": 5,
    "start_time": "2022-03-01T19:04:35.339Z"
   },
   {
    "duration": 4,
    "start_time": "2022-03-01T19:04:35.346Z"
   },
   {
    "duration": 9,
    "start_time": "2022-03-01T19:04:35.351Z"
   },
   {
    "duration": 4,
    "start_time": "2022-03-01T19:04:35.361Z"
   },
   {
    "duration": 8,
    "start_time": "2022-03-01T19:04:35.366Z"
   },
   {
    "duration": 6,
    "start_time": "2022-03-01T19:04:35.406Z"
   },
   {
    "duration": 895,
    "start_time": "2022-03-01T19:04:35.413Z"
   },
   {
    "duration": 949,
    "start_time": "2022-03-01T19:04:36.309Z"
   },
   {
    "duration": 1019,
    "start_time": "2022-03-01T19:04:37.259Z"
   },
   {
    "duration": 974,
    "start_time": "2022-03-01T19:04:38.280Z"
   },
   {
    "duration": 4,
    "start_time": "2022-03-01T19:04:39.255Z"
   },
   {
    "duration": 909,
    "start_time": "2022-03-01T19:04:39.260Z"
   },
   {
    "duration": 1000,
    "start_time": "2022-03-01T19:04:40.170Z"
   },
   {
    "duration": 913,
    "start_time": "2022-03-01T19:04:41.171Z"
   },
   {
    "duration": 1027,
    "start_time": "2022-03-01T19:04:42.086Z"
   },
   {
    "duration": 870,
    "start_time": "2022-03-01T19:04:43.116Z"
   },
   {
    "duration": 20,
    "start_time": "2022-03-01T19:04:43.988Z"
   },
   {
    "duration": 553,
    "start_time": "2022-03-01T19:04:44.009Z"
   },
   {
    "duration": 14,
    "start_time": "2022-03-01T19:04:44.563Z"
   },
   {
    "duration": 6,
    "start_time": "2022-03-01T19:04:44.579Z"
   },
   {
    "duration": 892,
    "start_time": "2022-03-01T19:04:44.586Z"
   },
   {
    "duration": 16,
    "start_time": "2022-03-01T19:04:45.479Z"
   },
   {
    "duration": 3,
    "start_time": "2022-03-01T19:04:45.505Z"
   },
   {
    "duration": 21,
    "start_time": "2022-03-01T19:04:45.509Z"
   },
   {
    "duration": 779,
    "start_time": "2022-03-01T19:04:45.531Z"
   },
   {
    "duration": 94,
    "start_time": "2022-03-01T19:04:46.312Z"
   },
   {
    "duration": 102,
    "start_time": "2022-03-01T19:04:46.408Z"
   },
   {
    "duration": 1492,
    "start_time": "2022-03-01T19:04:46.512Z"
   },
   {
    "duration": 3,
    "start_time": "2022-03-01T19:04:48.008Z"
   },
   {
    "duration": 102,
    "start_time": "2022-03-01T19:04:48.013Z"
   },
   {
    "duration": 15,
    "start_time": "2022-03-01T19:04:48.116Z"
   },
   {
    "duration": 72,
    "start_time": "2022-03-01T19:04:48.133Z"
   },
   {
    "duration": 9,
    "start_time": "2022-03-01T19:04:48.207Z"
   },
   {
    "duration": 11,
    "start_time": "2022-03-01T19:04:48.306Z"
   },
   {
    "duration": 11,
    "start_time": "2022-03-01T19:04:48.318Z"
   },
   {
    "duration": 79,
    "start_time": "2022-03-01T19:04:48.331Z"
   },
   {
    "duration": 94,
    "start_time": "2022-03-01T19:04:48.412Z"
   },
   {
    "duration": 5,
    "start_time": "2022-03-01T19:04:48.508Z"
   },
   {
    "duration": 692,
    "start_time": "2022-03-01T19:04:48.514Z"
   },
   {
    "duration": 4,
    "start_time": "2022-03-01T19:04:49.207Z"
   },
   {
    "duration": 693,
    "start_time": "2022-03-01T19:04:49.212Z"
   },
   {
    "duration": 403,
    "start_time": "2022-03-01T19:05:25.137Z"
   },
   {
    "duration": 2039,
    "start_time": "2022-03-01T19:07:47.824Z"
   },
   {
    "duration": 11,
    "start_time": "2022-03-01T19:08:02.682Z"
   },
   {
    "duration": 3,
    "start_time": "2022-03-01T19:25:47.052Z"
   },
   {
    "duration": 3,
    "start_time": "2022-03-01T19:26:06.645Z"
   },
   {
    "duration": 3,
    "start_time": "2022-03-01T19:26:47.962Z"
   },
   {
    "duration": 3518,
    "start_time": "2022-03-01T19:26:47.967Z"
   },
   {
    "duration": 3,
    "start_time": "2022-03-01T19:26:51.487Z"
   },
   {
    "duration": 10,
    "start_time": "2022-03-01T19:26:51.492Z"
   },
   {
    "duration": 5,
    "start_time": "2022-03-01T19:26:51.505Z"
   },
   {
    "duration": 11,
    "start_time": "2022-03-01T19:26:51.511Z"
   },
   {
    "duration": 7,
    "start_time": "2022-03-01T19:26:51.523Z"
   },
   {
    "duration": 5,
    "start_time": "2022-03-01T19:26:51.532Z"
   },
   {
    "duration": 7,
    "start_time": "2022-03-01T19:26:51.539Z"
   },
   {
    "duration": 13,
    "start_time": "2022-03-01T19:26:51.547Z"
   },
   {
    "duration": 4,
    "start_time": "2022-03-01T19:26:51.561Z"
   },
   {
    "duration": 9,
    "start_time": "2022-03-01T19:26:51.566Z"
   },
   {
    "duration": 30,
    "start_time": "2022-03-01T19:26:51.576Z"
   },
   {
    "duration": 890,
    "start_time": "2022-03-01T19:26:51.607Z"
   },
   {
    "duration": 1237,
    "start_time": "2022-03-01T19:26:52.498Z"
   },
   {
    "duration": 907,
    "start_time": "2022-03-01T19:26:53.737Z"
   },
   {
    "duration": 1190,
    "start_time": "2022-03-01T19:26:54.645Z"
   },
   {
    "duration": 3,
    "start_time": "2022-03-01T19:26:55.837Z"
   },
   {
    "duration": 923,
    "start_time": "2022-03-01T19:26:55.842Z"
   },
   {
    "duration": 949,
    "start_time": "2022-03-01T19:26:56.767Z"
   },
   {
    "duration": 1106,
    "start_time": "2022-03-01T19:26:57.717Z"
   },
   {
    "duration": 1006,
    "start_time": "2022-03-01T19:26:58.824Z"
   },
   {
    "duration": 1027,
    "start_time": "2022-03-01T19:26:59.833Z"
   },
   {
    "duration": 14,
    "start_time": "2022-03-01T19:27:00.862Z"
   },
   {
    "duration": 587,
    "start_time": "2022-03-01T19:27:00.878Z"
   },
   {
    "duration": 14,
    "start_time": "2022-03-01T19:27:01.467Z"
   },
   {
    "duration": 6,
    "start_time": "2022-03-01T19:27:01.483Z"
   },
   {
    "duration": 1007,
    "start_time": "2022-03-01T19:27:01.490Z"
   },
   {
    "duration": 20,
    "start_time": "2022-03-01T19:27:02.498Z"
   },
   {
    "duration": 2,
    "start_time": "2022-03-01T19:27:02.520Z"
   },
   {
    "duration": 18,
    "start_time": "2022-03-01T19:27:02.524Z"
   },
   {
    "duration": 468,
    "start_time": "2022-03-01T19:27:02.543Z"
   },
   {
    "duration": 94,
    "start_time": "2022-03-01T19:27:03.013Z"
   },
   {
    "duration": 112,
    "start_time": "2022-03-01T19:27:03.109Z"
   },
   {
    "duration": 1487,
    "start_time": "2022-03-01T19:27:03.223Z"
   },
   {
    "duration": 93,
    "start_time": "2022-03-01T19:27:04.713Z"
   },
   {
    "duration": 6,
    "start_time": "2022-03-01T19:27:04.808Z"
   },
   {
    "duration": 15,
    "start_time": "2022-03-01T19:27:04.815Z"
   },
   {
    "duration": 77,
    "start_time": "2022-03-01T19:27:04.831Z"
   },
   {
    "duration": 95,
    "start_time": "2022-03-01T19:27:04.911Z"
   },
   {
    "duration": 17,
    "start_time": "2022-03-01T19:27:05.008Z"
   },
   {
    "duration": 5,
    "start_time": "2022-03-01T19:27:05.027Z"
   },
   {
    "duration": 77,
    "start_time": "2022-03-01T19:27:05.034Z"
   },
   {
    "duration": 92,
    "start_time": "2022-03-01T19:27:05.113Z"
   },
   {
    "duration": 2,
    "start_time": "2022-03-01T19:27:05.207Z"
   },
   {
    "duration": 721,
    "start_time": "2022-03-01T19:27:05.211Z"
   },
   {
    "duration": 4,
    "start_time": "2022-03-01T19:27:05.934Z"
   },
   {
    "duration": 680,
    "start_time": "2022-03-01T19:27:05.939Z"
   },
   {
    "duration": 4,
    "start_time": "2022-03-01T19:27:06.620Z"
   },
   {
    "duration": 5682,
    "start_time": "2022-03-01T19:27:15.367Z"
   },
   {
    "duration": 3,
    "start_time": "2022-03-01T19:27:24.760Z"
   },
   {
    "duration": 4,
    "start_time": "2022-03-01T19:27:30.228Z"
   },
   {
    "duration": 271,
    "start_time": "2022-03-01T19:27:59.676Z"
   },
   {
    "duration": 3,
    "start_time": "2022-03-01T19:28:01.499Z"
   },
   {
    "duration": 3,
    "start_time": "2022-03-01T19:28:57.631Z"
   },
   {
    "duration": 325,
    "start_time": "2022-03-01T19:29:18.481Z"
   },
   {
    "duration": 265,
    "start_time": "2022-03-01T19:29:20.956Z"
   },
   {
    "duration": 63850,
    "start_time": "2022-03-01T19:29:25.054Z"
   },
   {
    "duration": -79,
    "start_time": "2022-03-01T19:30:28.986Z"
   },
   {
    "duration": 5786,
    "start_time": "2022-03-01T19:30:33.895Z"
   },
   {
    "duration": 4,
    "start_time": "2022-03-01T19:30:43.619Z"
   },
   {
    "duration": 2902,
    "start_time": "2022-03-01T19:30:56.623Z"
   },
   {
    "duration": 4,
    "start_time": "2022-03-01T19:31:01.196Z"
   },
   {
    "duration": 4702,
    "start_time": "2022-03-01T19:31:05.015Z"
   },
   {
    "duration": 3,
    "start_time": "2022-03-01T19:31:10.338Z"
   },
   {
    "duration": 5431,
    "start_time": "2022-03-01T19:31:14.178Z"
   },
   {
    "duration": 4,
    "start_time": "2022-03-01T19:31:20.187Z"
   },
   {
    "duration": 13463,
    "start_time": "2022-03-01T19:32:49.360Z"
   },
   {
    "duration": 4,
    "start_time": "2022-03-01T19:33:04.301Z"
   },
   {
    "duration": 3,
    "start_time": "2022-03-01T19:33:10.696Z"
   },
   {
    "duration": 6094,
    "start_time": "2022-03-01T19:34:31.294Z"
   },
   {
    "duration": 3,
    "start_time": "2022-03-01T19:34:37.390Z"
   },
   {
    "duration": 40629,
    "start_time": "2022-03-01T19:34:50.147Z"
   },
   {
    "duration": -143,
    "start_time": "2022-03-01T19:35:30.921Z"
   },
   {
    "duration": 60705,
    "start_time": "2022-03-01T19:35:46.520Z"
   },
   {
    "duration": 3,
    "start_time": "2022-03-01T19:37:04.304Z"
   },
   {
    "duration": 12343,
    "start_time": "2022-03-01T19:37:15.408Z"
   },
   {
    "duration": 3,
    "start_time": "2022-03-01T19:38:09.416Z"
   },
   {
    "duration": 3,
    "start_time": "2022-03-01T19:38:16.769Z"
   },
   {
    "duration": 5,
    "start_time": "2022-03-01T19:38:56.686Z"
   },
   {
    "duration": 596,
    "start_time": "2022-03-01T19:40:00.210Z"
   },
   {
    "duration": 4,
    "start_time": "2022-03-01T19:40:04.170Z"
   },
   {
    "duration": 4,
    "start_time": "2022-03-01T19:44:44.846Z"
   },
   {
    "duration": 94,
    "start_time": "2022-03-01T19:48:11.037Z"
   },
   {
    "duration": 3,
    "start_time": "2022-03-01T19:48:17.043Z"
   },
   {
    "duration": 81209,
    "start_time": "2022-03-01T19:51:42.376Z"
   },
   {
    "duration": 3,
    "start_time": "2022-03-01T19:53:07.640Z"
   },
   {
    "duration": 294,
    "start_time": "2022-03-01T19:53:29.890Z"
   },
   {
    "duration": 123134,
    "start_time": "2022-03-01T19:53:39.039Z"
   },
   {
    "duration": 7,
    "start_time": "2022-03-01T19:57:57.295Z"
   },
   {
    "duration": 4,
    "start_time": "2022-03-01T19:58:29.903Z"
   },
   {
    "duration": 3,
    "start_time": "2022-03-01T19:58:47.111Z"
   },
   {
    "duration": 3,
    "start_time": "2022-03-01T20:10:47.259Z"
   },
   {
    "duration": 3645,
    "start_time": "2022-03-01T20:10:47.263Z"
   },
   {
    "duration": 3,
    "start_time": "2022-03-01T20:10:50.909Z"
   },
   {
    "duration": 5,
    "start_time": "2022-03-01T20:10:50.914Z"
   },
   {
    "duration": 5,
    "start_time": "2022-03-01T20:10:50.920Z"
   },
   {
    "duration": 5,
    "start_time": "2022-03-01T20:10:50.927Z"
   },
   {
    "duration": 4,
    "start_time": "2022-03-01T20:10:50.934Z"
   },
   {
    "duration": 9,
    "start_time": "2022-03-01T20:10:50.939Z"
   },
   {
    "duration": 7,
    "start_time": "2022-03-01T20:10:50.950Z"
   },
   {
    "duration": 9,
    "start_time": "2022-03-01T20:10:50.958Z"
   },
   {
    "duration": 4,
    "start_time": "2022-03-01T20:10:50.968Z"
   },
   {
    "duration": 33,
    "start_time": "2022-03-01T20:10:50.973Z"
   },
   {
    "duration": 6,
    "start_time": "2022-03-01T20:10:51.007Z"
   },
   {
    "duration": 906,
    "start_time": "2022-03-01T20:10:51.015Z"
   },
   {
    "duration": 877,
    "start_time": "2022-03-01T20:10:51.922Z"
   },
   {
    "duration": 908,
    "start_time": "2022-03-01T20:10:52.800Z"
   },
   {
    "duration": 907,
    "start_time": "2022-03-01T20:10:53.709Z"
   },
   {
    "duration": 4,
    "start_time": "2022-03-01T20:10:54.617Z"
   },
   {
    "duration": 931,
    "start_time": "2022-03-01T20:10:54.623Z"
   },
   {
    "duration": 908,
    "start_time": "2022-03-01T20:10:55.556Z"
   },
   {
    "duration": 1108,
    "start_time": "2022-03-01T20:10:56.466Z"
   },
   {
    "duration": 1913,
    "start_time": "2022-03-01T20:10:57.575Z"
   },
   {
    "duration": 891,
    "start_time": "2022-03-01T20:10:59.489Z"
   },
   {
    "duration": 23,
    "start_time": "2022-03-01T20:11:00.382Z"
   },
   {
    "duration": 545,
    "start_time": "2022-03-01T20:11:00.406Z"
   },
   {
    "duration": 13,
    "start_time": "2022-03-01T20:11:00.953Z"
   },
   {
    "duration": 12,
    "start_time": "2022-03-01T20:11:00.968Z"
   },
   {
    "duration": 734,
    "start_time": "2022-03-01T20:11:00.981Z"
   },
   {
    "duration": 20,
    "start_time": "2022-03-01T20:11:01.717Z"
   },
   {
    "duration": 3,
    "start_time": "2022-03-01T20:11:01.739Z"
   },
   {
    "duration": 18,
    "start_time": "2022-03-01T20:11:09.574Z"
   },
   {
    "duration": 1822,
    "start_time": "2022-03-01T20:11:11.086Z"
   },
   {
    "duration": 3,
    "start_time": "2022-03-01T20:11:14.947Z"
   },
   {
    "duration": 14,
    "start_time": "2022-03-01T20:11:23.202Z"
   },
   {
    "duration": 2773,
    "start_time": "2022-03-01T20:11:40.341Z"
   },
   {
    "duration": 3,
    "start_time": "2022-03-01T20:11:44.329Z"
   },
   {
    "duration": 4,
    "start_time": "2022-03-01T20:11:49.654Z"
   },
   {
    "duration": 14,
    "start_time": "2022-03-01T20:11:59.041Z"
   },
   {
    "duration": 58,
    "start_time": "2022-03-01T20:11:59.951Z"
   },
   {
    "duration": 5,
    "start_time": "2022-03-01T20:12:06.174Z"
   },
   {
    "duration": 11,
    "start_time": "2022-03-01T20:12:15.456Z"
   },
   {
    "duration": 10,
    "start_time": "2022-03-01T20:12:16.110Z"
   },
   {
    "duration": 6,
    "start_time": "2022-03-01T20:12:25.623Z"
   },
   {
    "duration": 3,
    "start_time": "2022-03-01T20:12:29.355Z"
   },
   {
    "duration": 3,
    "start_time": "2022-03-01T20:12:30.132Z"
   },
   {
    "duration": 702,
    "start_time": "2022-03-01T20:14:32.819Z"
   },
   {
    "duration": 833,
    "start_time": "2022-03-01T20:14:49.472Z"
   },
   {
    "duration": 830,
    "start_time": "2022-03-01T20:14:56.575Z"
   },
   {
    "duration": 948,
    "start_time": "2022-03-01T20:14:59.179Z"
   },
   {
    "duration": 863,
    "start_time": "2022-03-01T20:15:03.251Z"
   },
   {
    "duration": 921,
    "start_time": "2022-03-01T20:15:08.004Z"
   },
   {
    "duration": 856,
    "start_time": "2022-03-01T20:17:35.861Z"
   },
   {
    "duration": 3,
    "start_time": "2022-03-01T20:22:01.115Z"
   },
   {
    "duration": 3181,
    "start_time": "2022-03-01T20:22:01.119Z"
   },
   {
    "duration": 5,
    "start_time": "2022-03-01T20:22:04.302Z"
   },
   {
    "duration": 6,
    "start_time": "2022-03-01T20:22:04.309Z"
   },
   {
    "duration": 7,
    "start_time": "2022-03-01T20:22:04.317Z"
   },
   {
    "duration": 5,
    "start_time": "2022-03-01T20:22:04.325Z"
   },
   {
    "duration": 4,
    "start_time": "2022-03-01T20:22:04.332Z"
   },
   {
    "duration": 7,
    "start_time": "2022-03-01T20:22:04.337Z"
   },
   {
    "duration": 4,
    "start_time": "2022-03-01T20:22:04.345Z"
   },
   {
    "duration": 9,
    "start_time": "2022-03-01T20:22:04.350Z"
   },
   {
    "duration": 4,
    "start_time": "2022-03-01T20:22:04.361Z"
   },
   {
    "duration": 40,
    "start_time": "2022-03-01T20:22:04.366Z"
   },
   {
    "duration": 7,
    "start_time": "2022-03-01T20:22:04.407Z"
   },
   {
    "duration": 918,
    "start_time": "2022-03-01T20:22:04.415Z"
   },
   {
    "duration": 1286,
    "start_time": "2022-03-01T20:22:05.334Z"
   },
   {
    "duration": 925,
    "start_time": "2022-03-01T20:22:06.622Z"
   },
   {
    "duration": 917,
    "start_time": "2022-03-01T20:22:07.549Z"
   },
   {
    "duration": 4,
    "start_time": "2022-03-01T20:22:08.467Z"
   },
   {
    "duration": 921,
    "start_time": "2022-03-01T20:22:08.474Z"
   },
   {
    "duration": 937,
    "start_time": "2022-03-01T20:22:09.397Z"
   },
   {
    "duration": 1390,
    "start_time": "2022-03-01T20:22:10.336Z"
   },
   {
    "duration": 1008,
    "start_time": "2022-03-01T20:22:11.728Z"
   },
   {
    "duration": 889,
    "start_time": "2022-03-01T20:22:12.738Z"
   },
   {
    "duration": 14,
    "start_time": "2022-03-01T20:22:13.628Z"
   },
   {
    "duration": 564,
    "start_time": "2022-03-01T20:22:13.643Z"
   },
   {
    "duration": 14,
    "start_time": "2022-03-01T20:22:14.208Z"
   },
   {
    "duration": 6,
    "start_time": "2022-03-01T20:22:14.223Z"
   },
   {
    "duration": 742,
    "start_time": "2022-03-01T20:22:14.230Z"
   },
   {
    "duration": 16,
    "start_time": "2022-03-01T20:22:14.974Z"
   },
   {
    "duration": 3,
    "start_time": "2022-03-01T20:22:14.991Z"
   },
   {
    "duration": 18,
    "start_time": "2022-03-01T20:22:15.006Z"
   },
   {
    "duration": 1681,
    "start_time": "2022-03-01T20:22:15.025Z"
   },
   {
    "duration": 6,
    "start_time": "2022-03-01T20:22:16.708Z"
   },
   {
    "duration": 108,
    "start_time": "2022-03-01T20:22:16.715Z"
   },
   {
    "duration": 2983,
    "start_time": "2022-03-01T20:22:16.824Z"
   },
   {
    "duration": 3,
    "start_time": "2022-03-01T20:22:19.808Z"
   },
   {
    "duration": 7,
    "start_time": "2022-03-01T20:22:19.812Z"
   },
   {
    "duration": 13,
    "start_time": "2022-03-01T20:22:19.821Z"
   },
   {
    "duration": 10,
    "start_time": "2022-03-01T20:22:19.835Z"
   },
   {
    "duration": 20,
    "start_time": "2022-03-01T20:22:19.905Z"
   },
   {
    "duration": 13,
    "start_time": "2022-03-01T20:22:20.005Z"
   },
   {
    "duration": 6,
    "start_time": "2022-03-01T20:22:20.020Z"
   },
   {
    "duration": 88,
    "start_time": "2022-03-01T20:22:20.027Z"
   },
   {
    "duration": 3,
    "start_time": "2022-03-01T20:22:20.206Z"
   },
   {
    "duration": 5,
    "start_time": "2022-03-01T20:22:20.210Z"
   },
   {
    "duration": 972,
    "start_time": "2022-03-01T20:22:20.216Z"
   },
   {
    "duration": 932,
    "start_time": "2022-03-01T20:22:21.189Z"
   }
  ],
  "kernelspec": {
   "display_name": "Python 3 (ipykernel)",
   "language": "python",
   "name": "python3"
  },
  "language_info": {
   "codemirror_mode": {
    "name": "ipython",
    "version": 3
   },
   "file_extension": ".py",
   "mimetype": "text/x-python",
   "name": "python",
   "nbconvert_exporter": "python",
   "pygments_lexer": "ipython3",
   "version": "3.10.4"
  },
  "toc": {
   "base_numbering": 1,
   "nav_menu": {},
   "number_sections": true,
   "sideBar": true,
   "skip_h1_title": true,
   "title_cell": "Содержание",
   "title_sidebar": "Contents",
   "toc_cell": true,
   "toc_position": {
    "height": "calc(100% - 180px)",
    "left": "10px",
    "top": "150px",
    "width": "366.391px"
   },
   "toc_section_display": true,
   "toc_window_display": true
  },
  "toc-autonumbering": true
 },
 "nbformat": 4,
 "nbformat_minor": 4
}