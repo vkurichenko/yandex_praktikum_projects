{
 "cells": [
  {
   "cell_type": "markdown",
   "metadata": {},
   "source": [
    "# Защита персональных данных клиентов"
   ]
  },
  {
   "cell_type": "markdown",
   "metadata": {},
   "source": [
    "Вам нужно защитить данные клиентов страховой компании «Хоть потоп». Разработайте такой метод преобразования данных, чтобы по ним было сложно восстановить персональную информацию. Обоснуйте корректность его работы.\n",
    "\n",
    "Нужно защитить данные, чтобы при преобразовании качество моделей машинного обучения не ухудшилось. Подбирать наилучшую модель не требуется."
   ]
  },
  {
   "cell_type": "markdown",
   "metadata": {},
   "source": [
    "## Загрузка данных"
   ]
  },
  {
   "cell_type": "markdown",
   "metadata": {},
   "source": [
    "Загрузим необходимые библиотеки."
   ]
  },
  {
   "cell_type": "code",
   "execution_count": 4,
   "metadata": {},
   "outputs": [],
   "source": [
    "import pandas as pd\n",
    "import numpy as np\n",
    "from sklearn.linear_model import LinearRegression\n",
    "from sklearn.model_selection import train_test_split\n",
    "from sklearn.metrics import mean_squared_error"
   ]
  },
  {
   "cell_type": "markdown",
   "metadata": {},
   "source": [
    "Импортируем датасет с данными, посмотрим на его первые 5 строк:"
   ]
  },
  {
   "cell_type": "code",
   "execution_count": 5,
   "metadata": {},
   "outputs": [
    {
     "data": {
      "text/html": [
       "<div>\n",
       "<style scoped>\n",
       "    .dataframe tbody tr th:only-of-type {\n",
       "        vertical-align: middle;\n",
       "    }\n",
       "\n",
       "    .dataframe tbody tr th {\n",
       "        vertical-align: top;\n",
       "    }\n",
       "\n",
       "    .dataframe thead th {\n",
       "        text-align: right;\n",
       "    }\n",
       "</style>\n",
       "<table border=\"1\" class=\"dataframe\">\n",
       "  <thead>\n",
       "    <tr style=\"text-align: right;\">\n",
       "      <th></th>\n",
       "      <th>Пол</th>\n",
       "      <th>Возраст</th>\n",
       "      <th>Зарплата</th>\n",
       "      <th>Члены семьи</th>\n",
       "      <th>Страховые выплаты</th>\n",
       "    </tr>\n",
       "  </thead>\n",
       "  <tbody>\n",
       "    <tr>\n",
       "      <th>0</th>\n",
       "      <td>1</td>\n",
       "      <td>41.0</td>\n",
       "      <td>49600.0</td>\n",
       "      <td>1</td>\n",
       "      <td>0</td>\n",
       "    </tr>\n",
       "    <tr>\n",
       "      <th>1</th>\n",
       "      <td>0</td>\n",
       "      <td>46.0</td>\n",
       "      <td>38000.0</td>\n",
       "      <td>1</td>\n",
       "      <td>1</td>\n",
       "    </tr>\n",
       "    <tr>\n",
       "      <th>2</th>\n",
       "      <td>0</td>\n",
       "      <td>29.0</td>\n",
       "      <td>21000.0</td>\n",
       "      <td>0</td>\n",
       "      <td>0</td>\n",
       "    </tr>\n",
       "    <tr>\n",
       "      <th>3</th>\n",
       "      <td>0</td>\n",
       "      <td>21.0</td>\n",
       "      <td>41700.0</td>\n",
       "      <td>2</td>\n",
       "      <td>0</td>\n",
       "    </tr>\n",
       "    <tr>\n",
       "      <th>4</th>\n",
       "      <td>1</td>\n",
       "      <td>28.0</td>\n",
       "      <td>26100.0</td>\n",
       "      <td>0</td>\n",
       "      <td>0</td>\n",
       "    </tr>\n",
       "  </tbody>\n",
       "</table>\n",
       "</div>"
      ],
      "text/plain": [
       "   Пол  Возраст  Зарплата  Члены семьи  Страховые выплаты\n",
       "0    1     41.0   49600.0            1                  0\n",
       "1    0     46.0   38000.0            1                  1\n",
       "2    0     29.0   21000.0            0                  0\n",
       "3    0     21.0   41700.0            2                  0\n",
       "4    1     28.0   26100.0            0                  0"
      ]
     },
     "execution_count": 5,
     "metadata": {},
     "output_type": "execute_result"
    }
   ],
   "source": [
    "data = pd.read_csv('/datasets/insurance.csv')\n",
    "data.head()"
   ]
  },
  {
   "cell_type": "markdown",
   "metadata": {},
   "source": [
    "Итак, в данном проекте задачей является закодирование таких признаков о клиенте, как `Пол`, `Возраст`, `Зарплата` и `Члены семьи`. Столбец `Страховые выплаты` является целевым признаком.\n",
    "\n",
    "Создадим соответствующие датасеты с признаками `X` и целевыми признаками `y`."
   ]
  },
  {
   "cell_type": "code",
   "execution_count": 6,
   "metadata": {},
   "outputs": [],
   "source": [
    "X, y = data.drop('Страховые выплаты', axis=1), data['Страховые выплаты'] "
   ]
  },
  {
   "cell_type": "markdown",
   "metadata": {},
   "source": [
    "## Умножение матриц"
   ]
  },
  {
   "cell_type": "markdown",
   "metadata": {},
   "source": [
    "В этом задании нам необходимо ответить на вопрос, поменяется ли качество модели линейной регрессии, если умножить признаки на обратимую матрицу."
   ]
  },
  {
   "cell_type": "markdown",
   "metadata": {},
   "source": [
    "Введем обозначения:\n",
    "\n",
    "- $X$ — матрица признаков (нулевой столбец состоит из единиц)\n",
    "\n",
    "- $y$ — вектор целевого признака\n",
    "\n",
    "- $P$ — матрица, на которую умножаются признаки\n",
    "\n",
    "- $w$ — вектор весов линейной регрессии (нулевой элемент равен сдвигу)"
   ]
  },
  {
   "cell_type": "markdown",
   "metadata": {},
   "source": [
    "Предсказания:\n",
    "\n",
    "$$\n",
    "a = Xw\n",
    "$$\n",
    "\n",
    "Задача обучения:\n",
    "\n",
    "$$\n",
    "w = \\arg\\min_w MSE(Xw, y)\n",
    "$$\n",
    "\n",
    "Формула обучения:\n",
    "\n",
    "$$\n",
    "w = (X^T X)^{-1} X^T y\n",
    "$$"
   ]
  },
  {
   "cell_type": "markdown",
   "metadata": {},
   "source": [
    "**Ответ:** Нет, не поменяются.\n",
    "\n",
    "**Обоснование:**\n",
    "\n",
    "В формулу обучения вместо $X$ подставим скалярное произведение $X$ и $P$: $X P$\n",
    "\n",
    "Тогда формула обучения $w'$ запишется в виде:\n",
    "\n",
    "$$\n",
    "w' = ((X P)^T (X P))^{-1} (X P)^T y\n",
    "$$\n",
    "\n",
    "Воспользуемся свойствами матриц: \n",
    "\n",
    "$$\n",
    "(A B)^T = B^T A^T\n",
    "$$\n",
    "\n",
    "$$\n",
    "(A B)^{-1} = B^{-1} A^{-1}\n",
    "$$\n",
    "\n",
    "$$\n",
    "A A^{-1} = E\n",
    "$$\n",
    "\n",
    "$$\n",
    "A A^{T} = E\n",
    "$$\n",
    "\n",
    "$$\n",
    "(A^{T})^{-1} = (A^{-1})^T\n",
    "$$\n",
    "\n",
    "Теперь упростим нашу формулу $w'$, раскрыв скобки:\n",
    "\n",
    "$$\n",
    "w' = (P^T X^T X P)^{-1} P^T X^T y\n",
    "$$\n",
    "\n",
    "Раскроем скобки, отвечающие за операцию получения обратной матрицы:\n",
    "\n",
    "$$\n",
    "w' = P^{-1} (X^T X)^{-1} (P^T)^{-1} P^T X^T y\n",
    "$$\n",
    "\n",
    "Сгруппируем соседние матрицы:\n",
    "\n",
    "$$\n",
    "w' = P^{-1} (X^T X)^{-1} (P^{-1})^T P^T X^T y\n",
    "$$\n",
    "\n",
    "$$\n",
    "w' = P^{-1} (X^T X)^{-1} (P P^{-1})^T X^T y\n",
    "$$\n",
    "\n",
    "Получили единичную матрицу:\n",
    "\n",
    "$$\n",
    "w' = P^{-1} (X^T X)^{-1} E X^T y\n",
    "$$\n",
    "\n",
    "Любая матрица, умноженная на единичную, равна себе, поэтому ее можно сократить:\n",
    "\n",
    "$$\n",
    "w' = P^{-1} (X^T X)^{-1} X^T y\n",
    "$$\n",
    "\n",
    "Видно, что последние 4 матрицы и есть $w$:\n",
    "\n",
    "$$\n",
    "w' = P^{-1} w\n",
    "$$\n",
    "\n",
    "Подставим в формулу предсказаний линейной регрессии $a = Xw$ полученное значение $w'$ и $X P$:\n",
    "\n",
    "$$\n",
    "a' = X P P^{-1} w\n",
    "$$\n",
    "\n",
    "Получаем единичную матрицу:\n",
    "\n",
    "$$\n",
    "a' = X E w\n",
    "$$\n",
    "\n",
    "Сократив матрицу, получим:\n",
    "\n",
    "$$\n",
    "a' = X w = a\n",
    "$$\n",
    "\n",
    "Видно, что предсказания моделей будут одинаковы."
   ]
  },
  {
   "cell_type": "markdown",
   "metadata": {},
   "source": [
    "## Алгоритм преобразования"
   ]
  },
  {
   "cell_type": "markdown",
   "metadata": {},
   "source": [
    "**Алгоритм**\n",
    "\n",
    "Пусть нашими ключами будут две случайные матрицы $A$ и $B$, произведение которых дает обратимую матрицу $P$.\n",
    "Напомним, что обратимой называется квадратная матрица, в которой определитель не равен нулю."
   ]
  },
  {
   "cell_type": "markdown",
   "metadata": {},
   "source": [
    "**Обоснование**\n",
    "\n",
    "Если умножить матрицу $A$ размером $(N, M)$ и $B$ размером $(M, N)$, мы получим матрицу $P$ размером $(N, N)$, умножение на которую наших признаков не повлияет на модель линейной регрессии, что было доказано в предыдущем пункте. Значение N должно быть равным количеству строк в матрице признаков $X$."
   ]
  },
  {
   "cell_type": "markdown",
   "metadata": {},
   "source": [
    "**Создание матриц**"
   ]
  },
  {
   "cell_type": "markdown",
   "metadata": {},
   "source": [
    "Создадим список с числами от 1 до 100."
   ]
  },
  {
   "cell_type": "code",
   "execution_count": 7,
   "metadata": {},
   "outputs": [],
   "source": [
    "numbers = list(range(1, 101))"
   ]
  },
  {
   "cell_type": "markdown",
   "metadata": {},
   "source": [
    "Зададим размеры $N$ и $M$ наших рандомных матриц $A$ и $B$:"
   ]
  },
  {
   "cell_type": "code",
   "execution_count": 8,
   "metadata": {},
   "outputs": [],
   "source": [
    "N = X.shape[1]\n",
    "M = 42"
   ]
  },
  {
   "cell_type": "markdown",
   "metadata": {},
   "source": [
    "Создадим рандомные матрицы:"
   ]
  },
  {
   "cell_type": "code",
   "execution_count": 9,
   "metadata": {},
   "outputs": [],
   "source": [
    "A = np.array([np.random.choice(numbers, M, replace=True) for _ in range(N)])\n",
    "B = np.array([np.random.choice(numbers, N, replace=True) for _ in range(M)])"
   ]
  },
  {
   "cell_type": "markdown",
   "metadata": {},
   "source": [
    "Получим нашу обратную матрицу $P$:"
   ]
  },
  {
   "cell_type": "code",
   "execution_count": 10,
   "metadata": {},
   "outputs": [],
   "source": [
    "P = np.dot(A, B)"
   ]
  },
  {
   "cell_type": "raw",
   "metadata": {},
   "source": [
    "def generate_invertible_matrix(size):\n",
    "    try:\n",
    "        matrix = np.random.normal(size=(size, size))\n",
    "        # проверим матрицу на обратимость, если нет, пробуем сгенерировать еще раз\n",
    "        # таким образом гарантируем, что матрица стопроцентно будет обратимой\n",
    "        np.linalg.inv(matrix)\n",
    "    except np.linalg.LinAlgError:\n",
    "        matrix = generate_invertible_matrix()\n",
    "    \n",
    "    return matrix"
   ]
  },
  {
   "cell_type": "markdown",
   "metadata": {},
   "source": [
    "Наконец, получим закодированную матрицу $X'$ путем умножения матриц $X$ и $P$:"
   ]
  },
  {
   "cell_type": "code",
   "execution_count": 11,
   "metadata": {},
   "outputs": [],
   "source": [
    "X_P = np.dot(X, P)"
   ]
  },
  {
   "cell_type": "markdown",
   "metadata": {},
   "source": [
    "Проверим размеры всех матриц:"
   ]
  },
  {
   "cell_type": "code",
   "execution_count": 12,
   "metadata": {},
   "outputs": [
    {
     "name": "stdout",
     "output_type": "stream",
     "text": [
      "Размер матрицы с признаками: (5000, 4)\n",
      "Размер матрицы - ключа A: (4, 42)\n",
      "Размер матрицы - ключа B: (42, 4)\n",
      "Размер полученной квадратной обратимой матрицы P: (4, 4)\n",
      "Размер полученной закодированной матрицы признаков X': (5000, 4)\n",
      "\n"
     ]
    }
   ],
   "source": [
    "print(f'''Размер матрицы с признаками: {X.shape}\n",
    "Размер матрицы - ключа A: {A.shape}\n",
    "Размер матрицы - ключа B: {B.shape}\n",
    "Размер полученной квадратной обратимой матрицы P: {P.shape}\n",
    "Размер полученной закодированной матрицы признаков X': {X_P.shape}\n",
    "''')"
   ]
  },
  {
   "cell_type": "markdown",
   "metadata": {},
   "source": [
    "## Проверка алгоритма"
   ]
  },
  {
   "cell_type": "markdown",
   "metadata": {},
   "source": [
    "### Обучение модели с незакодированными признаками"
   ]
  },
  {
   "cell_type": "markdown",
   "metadata": {},
   "source": [
    "Разобьем данные на тренировочную и тестовую выборки в соотношении 0.75/0.25."
   ]
  },
  {
   "cell_type": "code",
   "execution_count": 13,
   "metadata": {},
   "outputs": [],
   "source": [
    "X_train, X_test, y_train, y_test = train_test_split(X, y, test_size=0.25, random_state=42)"
   ]
  },
  {
   "cell_type": "markdown",
   "metadata": {},
   "source": [
    "Обучим модель."
   ]
  },
  {
   "cell_type": "code",
   "execution_count": 14,
   "metadata": {},
   "outputs": [
    {
     "data": {
      "text/plain": [
       "LinearRegression()"
      ]
     },
     "execution_count": 14,
     "metadata": {},
     "output_type": "execute_result"
    }
   ],
   "source": [
    "clf_1 = LinearRegression()\n",
    "clf_1.fit(X_train, y_train)"
   ]
  },
  {
   "cell_type": "markdown",
   "metadata": {},
   "source": [
    "Посчитаем метрику качества модели - MSE на тренировочной выборке:"
   ]
  },
  {
   "cell_type": "code",
   "execution_count": 15,
   "metadata": {},
   "outputs": [
    {
     "data": {
      "text/plain": [
       "0.11832303990704156"
      ]
     },
     "execution_count": 15,
     "metadata": {},
     "output_type": "execute_result"
    }
   ],
   "source": [
    "y_train_pred = clf_1.predict(X_train)\n",
    "MSE_train = mean_squared_error(y_train, y_train_pred)\n",
    "MSE_train"
   ]
  },
  {
   "cell_type": "markdown",
   "metadata": {},
   "source": [
    "Посчитаем метрику качества модели - MSE на тестовой выборке:"
   ]
  },
  {
   "cell_type": "code",
   "execution_count": 16,
   "metadata": {},
   "outputs": [
    {
     "data": {
      "text/plain": [
       "0.13862989572441428"
      ]
     },
     "execution_count": 16,
     "metadata": {},
     "output_type": "execute_result"
    }
   ],
   "source": [
    "y_test_pred = clf_1.predict(X_test)\n",
    "MSE_test = mean_squared_error(y_test, y_test_pred)\n",
    "MSE_test"
   ]
  },
  {
   "cell_type": "markdown",
   "metadata": {},
   "source": [
    "**Вывод:**\n",
    "\n",
    "Для модели с незакодированными признаками MSE на тренировочной и тестовой выборках составил 0.11832304 и 0.13862989, соответственно."
   ]
  },
  {
   "cell_type": "markdown",
   "metadata": {},
   "source": [
    "### Обучение модели с закодированными признаками"
   ]
  },
  {
   "cell_type": "markdown",
   "metadata": {},
   "source": [
    "Разобьем данные на тренировочную и тестовую выборки в соотношении 0.75/0.25. Изменим параметр `random_state` для того, чтоб удостовериться, что модельс закодированными признаками работает на выборках, разбитых по-другому. "
   ]
  },
  {
   "cell_type": "code",
   "execution_count": 17,
   "metadata": {},
   "outputs": [],
   "source": [
    "X_P_train, X_P_test, y_P_train, y_P_test = train_test_split(X_P, y, test_size=0.25, random_state=42)"
   ]
  },
  {
   "cell_type": "markdown",
   "metadata": {},
   "source": [
    "Обучим модель."
   ]
  },
  {
   "cell_type": "code",
   "execution_count": 18,
   "metadata": {},
   "outputs": [
    {
     "data": {
      "text/plain": [
       "LinearRegression()"
      ]
     },
     "execution_count": 18,
     "metadata": {},
     "output_type": "execute_result"
    }
   ],
   "source": [
    "clf_2 = LinearRegression()\n",
    "clf_2.fit(X_P_train, y_P_train)"
   ]
  },
  {
   "cell_type": "markdown",
   "metadata": {},
   "source": [
    "Посчитаем метрику качества модели - MSE на тренировочной выборке:"
   ]
  },
  {
   "cell_type": "code",
   "execution_count": 19,
   "metadata": {},
   "outputs": [
    {
     "data": {
      "text/plain": [
       "0.118323039907025"
      ]
     },
     "execution_count": 19,
     "metadata": {},
     "output_type": "execute_result"
    }
   ],
   "source": [
    "y_P_train_pred = clf_2.predict(X_P_train)\n",
    "MSE_P_train = mean_squared_error(y_P_train, y_P_train_pred)\n",
    "MSE_P_train"
   ]
  },
  {
   "cell_type": "markdown",
   "metadata": {},
   "source": [
    "Посчитаем метрику качества модели - MSE на тестовой выборке:"
   ]
  },
  {
   "cell_type": "code",
   "execution_count": 20,
   "metadata": {},
   "outputs": [
    {
     "data": {
      "text/plain": [
       "0.13862989572445894"
      ]
     },
     "execution_count": 20,
     "metadata": {},
     "output_type": "execute_result"
    }
   ],
   "source": [
    "y_P_test_pred = clf_2.predict(X_P_test)\n",
    "MSE_P_test = mean_squared_error(y_P_test, y_P_test_pred)\n",
    "MSE_P_test"
   ]
  },
  {
   "cell_type": "markdown",
   "metadata": {},
   "source": [
    "**Вывод:**\n",
    "\n",
    "Для модели с закодированными признаками MSE на тренировочной и тестовой выборках составил 0.11832304 и 0.13862989, соответственно."
   ]
  },
  {
   "cell_type": "markdown",
   "metadata": {},
   "source": [
    "## Общий вывод"
   ]
  },
  {
   "cell_type": "markdown",
   "metadata": {},
   "source": [
    "В данном проекте были предприняты попытки закодирования матрицы признаков при обучении модели линейной регрессии для того, чтобы защитить данные о пользователях. Соответственно:\n",
    "- На первом этапе было проведено ознакомление с данными. Был сделан вывод о том, что признаки о клиенте необходимо закодировать.\n",
    "- На втором этапе было доказано, что при умножении матрицы признаков на обратимую матрицу на выходе будут получены те же предсказания в случае использования модели линейной регрессии.\n",
    "- Затем был предложен алгоритм закодирования признаков, заключающийся в создании двух матриц-ключей $A$ и $B$, умножение которых дает обратимую матрицу $P$, на которую и умножается матрица с признаками $X$.\n",
    "- Наконец, были проверены модели, использующие исходнеы и закодированные матрицы признаков. Соответствующие MSE для тестовых выборок оказались равны, что позволяет сделать вывод о том, что кодирование матрицы признаков не влияет на качество получаемой модели линейной регрессии."
   ]
  },
  {
   "cell_type": "code",
   "execution_count": null,
   "metadata": {},
   "outputs": [],
   "source": []
  }
 ],
 "metadata": {
  "ExecuteTimeLog": [
   {
    "duration": 507,
    "start_time": "2022-03-20T16:37:19.682Z"
   },
   {
    "duration": 17,
    "start_time": "2022-03-20T16:37:35.891Z"
   },
   {
    "duration": 33,
    "start_time": "2022-03-20T16:37:40.674Z"
   },
   {
    "duration": 96,
    "start_time": "2022-03-20T16:42:09.040Z"
   },
   {
    "duration": 5,
    "start_time": "2022-03-20T16:42:11.190Z"
   },
   {
    "duration": 5,
    "start_time": "2022-03-20T16:54:27.743Z"
   },
   {
    "duration": 18,
    "start_time": "2022-03-20T16:54:33.328Z"
   },
   {
    "duration": 7,
    "start_time": "2022-03-20T16:54:35.187Z"
   },
   {
    "duration": 8,
    "start_time": "2022-03-21T14:09:13.001Z"
   },
   {
    "duration": 3,
    "start_time": "2022-03-21T14:09:32.205Z"
   },
   {
    "duration": 2,
    "start_time": "2022-03-21T14:09:53.278Z"
   },
   {
    "duration": 138,
    "start_time": "2022-03-21T14:10:46.911Z"
   },
   {
    "duration": 46,
    "start_time": "2022-03-21T14:10:49.166Z"
   },
   {
    "duration": 414,
    "start_time": "2022-03-21T14:10:53.464Z"
   },
   {
    "duration": 1252,
    "start_time": "2022-03-21T14:10:56.790Z"
   },
   {
    "duration": 1899,
    "start_time": "2022-03-21T14:11:05.894Z"
   },
   {
    "duration": 9,
    "start_time": "2022-03-21T14:11:38.876Z"
   },
   {
    "duration": 5,
    "start_time": "2022-03-21T14:11:49.670Z"
   },
   {
    "duration": 7,
    "start_time": "2022-03-21T14:12:07.055Z"
   },
   {
    "duration": 18,
    "start_time": "2022-03-21T14:12:09.623Z"
   },
   {
    "duration": 5,
    "start_time": "2022-03-21T14:12:17.726Z"
   },
   {
    "duration": 6,
    "start_time": "2022-03-21T14:12:25.630Z"
   },
   {
    "duration": 9,
    "start_time": "2022-03-21T14:12:55.184Z"
   },
   {
    "duration": 166,
    "start_time": "2022-03-21T14:13:00.919Z"
   },
   {
    "duration": 11,
    "start_time": "2022-03-21T14:14:55.169Z"
   },
   {
    "duration": 4,
    "start_time": "2022-03-21T14:14:56.320Z"
   },
   {
    "duration": 4,
    "start_time": "2022-03-21T14:15:00.409Z"
   },
   {
    "duration": 5,
    "start_time": "2022-03-21T14:15:04.473Z"
   },
   {
    "duration": 4,
    "start_time": "2022-03-21T14:15:07.881Z"
   },
   {
    "duration": 7,
    "start_time": "2022-03-21T14:15:48.825Z"
   },
   {
    "duration": 2,
    "start_time": "2022-03-21T14:15:55.545Z"
   },
   {
    "duration": 20,
    "start_time": "2022-03-21T14:15:55.823Z"
   },
   {
    "duration": 4,
    "start_time": "2022-03-21T14:15:56.608Z"
   },
   {
    "duration": 2,
    "start_time": "2022-03-21T14:16:00.238Z"
   },
   {
    "duration": 3,
    "start_time": "2022-03-21T14:16:00.369Z"
   },
   {
    "duration": 3,
    "start_time": "2022-03-21T14:16:02.817Z"
   },
   {
    "duration": 209,
    "start_time": "2022-03-21T14:16:03.017Z"
   },
   {
    "duration": 262,
    "start_time": "2022-03-21T14:16:03.609Z"
   },
   {
    "duration": 4,
    "start_time": "2022-03-21T14:16:04.103Z"
   },
   {
    "duration": 3,
    "start_time": "2022-03-21T14:16:04.997Z"
   },
   {
    "duration": 4,
    "start_time": "2022-03-21T14:16:06.633Z"
   },
   {
    "duration": 2,
    "start_time": "2022-03-21T14:16:16.159Z"
   },
   {
    "duration": 172,
    "start_time": "2022-03-21T14:16:17.002Z"
   },
   {
    "duration": 1373,
    "start_time": "2022-03-21T14:16:17.601Z"
   },
   {
    "duration": 3,
    "start_time": "2022-03-21T14:16:18.976Z"
   },
   {
    "duration": 4,
    "start_time": "2022-03-21T14:16:19.657Z"
   },
   {
    "duration": 4,
    "start_time": "2022-03-21T14:16:20.521Z"
   },
   {
    "duration": 1458,
    "start_time": "2022-03-21T14:16:30.738Z"
   },
   {
    "duration": 5,
    "start_time": "2022-03-21T14:16:32.198Z"
   },
   {
    "duration": 11,
    "start_time": "2022-03-21T14:16:32.204Z"
   },
   {
    "duration": 6,
    "start_time": "2022-03-21T14:16:32.217Z"
   },
   {
    "duration": 4,
    "start_time": "2022-03-21T14:16:34.441Z"
   },
   {
    "duration": 248,
    "start_time": "2022-03-21T14:16:41.306Z"
   },
   {
    "duration": 2,
    "start_time": "2022-03-21T14:17:21.355Z"
   },
   {
    "duration": 5,
    "start_time": "2022-03-21T14:17:22.091Z"
   },
   {
    "duration": 3,
    "start_time": "2022-03-21T14:17:22.610Z"
   },
   {
    "duration": 4,
    "start_time": "2022-03-21T14:17:22.946Z"
   },
   {
    "duration": 4,
    "start_time": "2022-03-21T14:17:23.907Z"
   },
   {
    "duration": 4,
    "start_time": "2022-03-21T14:17:24.538Z"
   },
   {
    "duration": 5,
    "start_time": "2022-03-21T14:17:25.827Z"
   },
   {
    "duration": 2,
    "start_time": "2022-03-21T14:17:47.163Z"
   },
   {
    "duration": 182,
    "start_time": "2022-03-21T14:17:47.619Z"
   },
   {
    "duration": 1401,
    "start_time": "2022-03-21T14:17:47.827Z"
   },
   {
    "duration": 4,
    "start_time": "2022-03-21T14:17:49.229Z"
   },
   {
    "duration": 11,
    "start_time": "2022-03-21T14:17:49.235Z"
   },
   {
    "duration": 4,
    "start_time": "2022-03-21T14:17:49.971Z"
   },
   {
    "duration": 227,
    "start_time": "2022-03-21T14:17:51.270Z"
   },
   {
    "duration": 7,
    "start_time": "2022-03-21T14:17:54.459Z"
   },
   {
    "duration": 326,
    "start_time": "2022-03-21T14:18:05.739Z"
   },
   {
    "duration": 311,
    "start_time": "2022-03-21T14:18:09.858Z"
   },
   {
    "duration": 13,
    "start_time": "2022-03-21T14:18:23.029Z"
   },
   {
    "duration": 13,
    "start_time": "2022-03-21T14:18:27.705Z"
   },
   {
    "duration": 16,
    "start_time": "2022-03-21T14:18:37.300Z"
   },
   {
    "duration": 2,
    "start_time": "2022-03-21T14:20:26.341Z"
   },
   {
    "duration": 3,
    "start_time": "2022-03-21T14:20:31.257Z"
   },
   {
    "duration": 2,
    "start_time": "2022-03-21T14:28:48.089Z"
   },
   {
    "duration": 5,
    "start_time": "2022-03-21T14:28:48.465Z"
   },
   {
    "duration": 4,
    "start_time": "2022-03-21T14:28:48.880Z"
   },
   {
    "duration": 4,
    "start_time": "2022-03-21T14:28:49.280Z"
   },
   {
    "duration": 3,
    "start_time": "2022-03-21T14:28:49.689Z"
   },
   {
    "duration": 4,
    "start_time": "2022-03-21T14:28:50.137Z"
   },
   {
    "duration": 4,
    "start_time": "2022-03-21T14:28:53.912Z"
   },
   {
    "duration": 4,
    "start_time": "2022-03-21T14:29:00.017Z"
   },
   {
    "duration": 4,
    "start_time": "2022-03-21T14:29:04.688Z"
   },
   {
    "duration": 805,
    "start_time": "2022-03-21T14:29:24.312Z"
   },
   {
    "duration": 3,
    "start_time": "2022-03-21T14:36:00.372Z"
   },
   {
    "duration": 3,
    "start_time": "2022-03-21T14:37:08.845Z"
   },
   {
    "duration": 4,
    "start_time": "2022-03-21T14:38:02.125Z"
   },
   {
    "duration": 3,
    "start_time": "2022-03-21T14:38:12.093Z"
   },
   {
    "duration": 3,
    "start_time": "2022-03-21T14:38:23.581Z"
   },
   {
    "duration": 3,
    "start_time": "2022-03-21T14:38:58.693Z"
   },
   {
    "duration": 4,
    "start_time": "2022-03-21T14:39:38.245Z"
   },
   {
    "duration": 3,
    "start_time": "2022-03-21T14:39:41.005Z"
   },
   {
    "duration": 2,
    "start_time": "2022-03-21T14:40:30.671Z"
   },
   {
    "duration": 3,
    "start_time": "2022-03-21T14:41:31.679Z"
   },
   {
    "duration": 14,
    "start_time": "2022-03-21T14:42:45.286Z"
   },
   {
    "duration": 6,
    "start_time": "2022-03-21T14:42:50.328Z"
   },
   {
    "duration": 7,
    "start_time": "2022-03-21T14:43:02.574Z"
   },
   {
    "duration": 3,
    "start_time": "2022-03-21T14:44:12.271Z"
   },
   {
    "duration": 7,
    "start_time": "2022-03-21T14:44:23.055Z"
   },
   {
    "duration": 7,
    "start_time": "2022-03-21T14:44:30.503Z"
   },
   {
    "duration": 156,
    "start_time": "2022-03-21T14:44:44.270Z"
   },
   {
    "duration": 8,
    "start_time": "2022-03-21T14:45:15.999Z"
   },
   {
    "duration": 8,
    "start_time": "2022-03-21T14:45:19.054Z"
   },
   {
    "duration": 7,
    "start_time": "2022-03-21T14:45:52.750Z"
   },
   {
    "duration": 5,
    "start_time": "2022-03-21T14:46:48.553Z"
   },
   {
    "duration": 6,
    "start_time": "2022-03-21T14:46:56.296Z"
   },
   {
    "duration": 7,
    "start_time": "2022-03-21T14:47:18.033Z"
   },
   {
    "duration": 37,
    "start_time": "2022-03-21T14:47:37.208Z"
   },
   {
    "duration": 5,
    "start_time": "2022-03-21T14:47:39.873Z"
   },
   {
    "duration": 5,
    "start_time": "2022-03-21T14:47:43.560Z"
   },
   {
    "duration": 4,
    "start_time": "2022-03-21T14:47:47.440Z"
   },
   {
    "duration": 6,
    "start_time": "2022-03-21T14:47:48.335Z"
   },
   {
    "duration": 11,
    "start_time": "2022-03-21T14:47:49.287Z"
   },
   {
    "duration": 5,
    "start_time": "2022-03-21T14:47:51.247Z"
   },
   {
    "duration": 5,
    "start_time": "2022-03-21T14:48:49.832Z"
   },
   {
    "duration": 5,
    "start_time": "2022-03-21T14:48:50.224Z"
   },
   {
    "duration": 70,
    "start_time": "2022-03-21T14:48:50.895Z"
   },
   {
    "duration": 6,
    "start_time": "2022-03-21T14:48:51.720Z"
   },
   {
    "duration": 4508,
    "start_time": "2022-03-22T10:50:17.959Z"
   },
   {
    "duration": 39,
    "start_time": "2022-03-22T10:50:22.469Z"
   },
   {
    "duration": 3,
    "start_time": "2022-03-22T10:50:22.510Z"
   },
   {
    "duration": 3,
    "start_time": "2022-03-22T10:53:48.838Z"
   },
   {
    "duration": 3,
    "start_time": "2022-03-22T10:53:49.379Z"
   },
   {
    "duration": 5,
    "start_time": "2022-03-22T10:53:50.052Z"
   },
   {
    "duration": 3,
    "start_time": "2022-03-22T10:53:50.688Z"
   },
   {
    "duration": 3,
    "start_time": "2022-03-22T10:53:52.060Z"
   },
   {
    "duration": 3,
    "start_time": "2022-03-22T10:53:53.411Z"
   },
   {
    "duration": 6,
    "start_time": "2022-03-22T10:55:06.212Z"
   },
   {
    "duration": 7,
    "start_time": "2022-03-22T10:55:07.062Z"
   },
   {
    "duration": 7,
    "start_time": "2022-03-22T10:55:07.534Z"
   },
   {
    "duration": 6,
    "start_time": "2022-03-22T10:55:07.909Z"
   },
   {
    "duration": 4,
    "start_time": "2022-03-22T10:55:10.478Z"
   },
   {
    "duration": 4,
    "start_time": "2022-03-22T10:55:10.974Z"
   },
   {
    "duration": 7,
    "start_time": "2022-03-22T10:55:11.507Z"
   },
   {
    "duration": 4,
    "start_time": "2022-03-22T10:55:11.867Z"
   },
   {
    "duration": 107,
    "start_time": "2022-03-22T11:19:35.727Z"
   },
   {
    "duration": 106,
    "start_time": "2022-03-22T11:22:12.501Z"
   },
   {
    "duration": 98,
    "start_time": "2022-03-22T11:24:09.106Z"
   },
   {
    "duration": 1874,
    "start_time": "2022-03-22T11:24:12.818Z"
   },
   {
    "duration": 38,
    "start_time": "2022-03-22T11:24:14.694Z"
   },
   {
    "duration": 6,
    "start_time": "2022-03-22T11:24:14.734Z"
   },
   {
    "duration": 8,
    "start_time": "2022-03-22T11:24:14.742Z"
   },
   {
    "duration": 19,
    "start_time": "2022-03-22T11:24:14.754Z"
   },
   {
    "duration": 9,
    "start_time": "2022-03-22T11:24:14.776Z"
   },
   {
    "duration": 9,
    "start_time": "2022-03-22T11:24:14.787Z"
   },
   {
    "duration": 8,
    "start_time": "2022-03-22T11:24:14.798Z"
   },
   {
    "duration": 20,
    "start_time": "2022-03-22T11:24:14.809Z"
   },
   {
    "duration": 12,
    "start_time": "2022-03-22T11:24:14.832Z"
   },
   {
    "duration": 38,
    "start_time": "2022-03-22T11:24:14.847Z"
   },
   {
    "duration": 100,
    "start_time": "2022-03-22T11:24:14.887Z"
   },
   {
    "duration": 12,
    "start_time": "2022-03-22T11:24:15.074Z"
   },
   {
    "duration": 5,
    "start_time": "2022-03-22T11:24:16.163Z"
   },
   {
    "duration": 7,
    "start_time": "2022-03-22T11:24:17.811Z"
   },
   {
    "duration": 17,
    "start_time": "2022-03-22T11:24:18.474Z"
   },
   {
    "duration": 7,
    "start_time": "2022-03-22T11:24:19.561Z"
   }
  ],
  "kernelspec": {
   "display_name": "Python 3 (ipykernel)",
   "language": "python",
   "name": "python3"
  },
  "language_info": {
   "codemirror_mode": {
    "name": "ipython",
    "version": 3
   },
   "file_extension": ".py",
   "mimetype": "text/x-python",
   "name": "python",
   "nbconvert_exporter": "python",
   "pygments_lexer": "ipython3",
   "version": "3.10.4"
  },
  "toc": {
   "base_numbering": 1,
   "nav_menu": {},
   "number_sections": true,
   "sideBar": true,
   "skip_h1_title": true,
   "title_cell": "Содержание",
   "title_sidebar": "Contents",
   "toc_cell": true,
   "toc_position": {},
   "toc_section_display": true,
   "toc_window_display": true
  }
 },
 "nbformat": 4,
 "nbformat_minor": 4
}
