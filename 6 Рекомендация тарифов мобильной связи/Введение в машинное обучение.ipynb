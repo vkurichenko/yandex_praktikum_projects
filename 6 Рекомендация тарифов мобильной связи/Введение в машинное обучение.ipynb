{
 "cells": [
  {
   "cell_type": "markdown",
   "metadata": {},
   "source": [
    "# Рекомендация тарифов мобильной связи"
   ]
  },
  {
   "cell_type": "markdown",
   "metadata": {},
   "source": [
    "Оператор мобильной связи «Мегалайн» выяснил: многие клиенты пользуются архивными тарифами. Они хотят построить систему, способную проанализировать поведение клиентов и предложить пользователям новый тариф: «Смарт» или «Ультра».\n",
    "\n",
    "В нашем распоряжении данные о поведении клиентов, которые уже перешли на тарифы, которые мы исследовали в одном из прошлых проектов.\n",
    "\n",
    "Теперь нам необходимо построить модель для задачи классификации, которая выберет подходящий новый тариф для пользователей, которые в настоящее время пользуются архивными тарифами.\n",
    "\n",
    "Необходимо достигнуть точности больше 0.75."
   ]
  },
  {
   "cell_type": "markdown",
   "metadata": {},
   "source": [
    "## Изучение файла"
   ]
  },
  {
   "cell_type": "markdown",
   "metadata": {},
   "source": [
    "Импортируем необходимые библиотеки:"
   ]
  },
  {
   "cell_type": "code",
   "execution_count": 253,
   "metadata": {},
   "outputs": [],
   "source": [
    "import pandas as pd\n",
    "import numpy as np\n",
    "import matplotlib.pyplot as plt\n",
    "import math\n",
    "\n",
    "from sklearn.tree import DecisionTreeClassifier\n",
    "from sklearn.ensemble import RandomForestClassifier\n",
    "from sklearn.linear_model import LogisticRegression\n",
    "from sklearn.dummy import DummyClassifier\n",
    "\n",
    "from sklearn.metrics import accuracy_score\n",
    "from sklearn.model_selection import train_test_split"
   ]
  },
  {
   "cell_type": "markdown",
   "metadata": {},
   "source": [
    "Согласно инструкции, в нашем распоряжении датасет, который находится по пути \"/datasets/users_behavior.csv\". Импортируем его и выведем первые 10 строк."
   ]
  },
  {
   "cell_type": "code",
   "execution_count": 254,
   "metadata": {},
   "outputs": [
    {
     "data": {
      "text/html": [
       "<div>\n",
       "<style scoped>\n",
       "    .dataframe tbody tr th:only-of-type {\n",
       "        vertical-align: middle;\n",
       "    }\n",
       "\n",
       "    .dataframe tbody tr th {\n",
       "        vertical-align: top;\n",
       "    }\n",
       "\n",
       "    .dataframe thead th {\n",
       "        text-align: right;\n",
       "    }\n",
       "</style>\n",
       "<table border=\"1\" class=\"dataframe\">\n",
       "  <thead>\n",
       "    <tr style=\"text-align: right;\">\n",
       "      <th></th>\n",
       "      <th>calls</th>\n",
       "      <th>minutes</th>\n",
       "      <th>messages</th>\n",
       "      <th>mb_used</th>\n",
       "      <th>is_ultra</th>\n",
       "    </tr>\n",
       "  </thead>\n",
       "  <tbody>\n",
       "    <tr>\n",
       "      <td>0</td>\n",
       "      <td>40.0000</td>\n",
       "      <td>311.9000</td>\n",
       "      <td>83.0000</td>\n",
       "      <td>19,915.4200</td>\n",
       "      <td>0</td>\n",
       "    </tr>\n",
       "    <tr>\n",
       "      <td>1</td>\n",
       "      <td>85.0000</td>\n",
       "      <td>516.7500</td>\n",
       "      <td>56.0000</td>\n",
       "      <td>22,696.9600</td>\n",
       "      <td>0</td>\n",
       "    </tr>\n",
       "    <tr>\n",
       "      <td>2</td>\n",
       "      <td>77.0000</td>\n",
       "      <td>467.6600</td>\n",
       "      <td>86.0000</td>\n",
       "      <td>21,060.4500</td>\n",
       "      <td>0</td>\n",
       "    </tr>\n",
       "    <tr>\n",
       "      <td>3</td>\n",
       "      <td>106.0000</td>\n",
       "      <td>745.5300</td>\n",
       "      <td>81.0000</td>\n",
       "      <td>8,437.3900</td>\n",
       "      <td>1</td>\n",
       "    </tr>\n",
       "    <tr>\n",
       "      <td>4</td>\n",
       "      <td>66.0000</td>\n",
       "      <td>418.7400</td>\n",
       "      <td>1.0000</td>\n",
       "      <td>14,502.7500</td>\n",
       "      <td>0</td>\n",
       "    </tr>\n",
       "    <tr>\n",
       "      <td>5</td>\n",
       "      <td>58.0000</td>\n",
       "      <td>344.5600</td>\n",
       "      <td>21.0000</td>\n",
       "      <td>15,823.3700</td>\n",
       "      <td>0</td>\n",
       "    </tr>\n",
       "    <tr>\n",
       "      <td>6</td>\n",
       "      <td>57.0000</td>\n",
       "      <td>431.6400</td>\n",
       "      <td>20.0000</td>\n",
       "      <td>3,738.9000</td>\n",
       "      <td>1</td>\n",
       "    </tr>\n",
       "    <tr>\n",
       "      <td>7</td>\n",
       "      <td>15.0000</td>\n",
       "      <td>132.4000</td>\n",
       "      <td>6.0000</td>\n",
       "      <td>21,911.6000</td>\n",
       "      <td>0</td>\n",
       "    </tr>\n",
       "    <tr>\n",
       "      <td>8</td>\n",
       "      <td>7.0000</td>\n",
       "      <td>43.3900</td>\n",
       "      <td>3.0000</td>\n",
       "      <td>2,538.6700</td>\n",
       "      <td>1</td>\n",
       "    </tr>\n",
       "    <tr>\n",
       "      <td>9</td>\n",
       "      <td>90.0000</td>\n",
       "      <td>665.4100</td>\n",
       "      <td>38.0000</td>\n",
       "      <td>17,358.6100</td>\n",
       "      <td>0</td>\n",
       "    </tr>\n",
       "  </tbody>\n",
       "</table>\n",
       "</div>"
      ],
      "text/plain": [
       "     calls  minutes  messages     mb_used  is_ultra\n",
       "0  40.0000 311.9000   83.0000 19,915.4200         0\n",
       "1  85.0000 516.7500   56.0000 22,696.9600         0\n",
       "2  77.0000 467.6600   86.0000 21,060.4500         0\n",
       "3 106.0000 745.5300   81.0000  8,437.3900         1\n",
       "4  66.0000 418.7400    1.0000 14,502.7500         0\n",
       "5  58.0000 344.5600   21.0000 15,823.3700         0\n",
       "6  57.0000 431.6400   20.0000  3,738.9000         1\n",
       "7  15.0000 132.4000    6.0000 21,911.6000         0\n",
       "8   7.0000  43.3900    3.0000  2,538.6700         1\n",
       "9  90.0000 665.4100   38.0000 17,358.6100         0"
      ]
     },
     "execution_count": 254,
     "metadata": {},
     "output_type": "execute_result"
    }
   ],
   "source": [
    "df = pd.read_csv(\"/datasets/users_behavior.csv\")\n",
    "df.head(10)"
   ]
  },
  {
   "cell_type": "markdown",
   "metadata": {},
   "source": [
    "Согласно инструкции, столбцы означают следующее:\n",
    "\n",
    "- `сalls` — количество звонков.\n",
    "- `minutes` — суммарная длительность звонков в минутах.\n",
    "- `messages` — количество sms-сообщений.\n",
    "- `mb_used` — израсходованный интернет-трафик в Мб.\n",
    "- `is_ultra` — каким тарифом пользовался в течение месяца («Ультра» — 1, «Смарт» — 0)."
   ]
  },
  {
   "cell_type": "markdown",
   "metadata": {},
   "source": [
    "**Вывод:**\n",
    "\n",
    "В данном пункте был создан датасет с данными, которые представляют собой информацию о том, сколько минут, сообщений и интернет-трафика используют пользователи и каким тарифом они пользуются. С этими данными мы и будем работать в последующих пунктах. "
   ]
  },
  {
   "cell_type": "markdown",
   "metadata": {},
   "source": [
    "## Извлечение выборок"
   ]
  },
  {
   "cell_type": "markdown",
   "metadata": {},
   "source": [
    "Далее необходимо разделить исходные данные на обучающую, валидационную и тестовую выборки. \n",
    "\n",
    "Согласно предоставленной на курсе теории, в таком случае данные делят в отношении 3:1:1. То есть, 60 % данных уходит на обучающую выборку, и по 20 % на валидационную и тестовую. Для этого воспользуемся функцией `train_test_split` из библитеки `sklearn`.\n",
    "\n",
    "Сначала разделим датасет на обучающую выборку и валидационную с тестовой."
   ]
  },
  {
   "cell_type": "code",
   "execution_count": 255,
   "metadata": {},
   "outputs": [],
   "source": [
    "train, test_valid = train_test_split(df, train_size=0.6, random_state=123456789)"
   ]
  },
  {
   "cell_type": "markdown",
   "metadata": {},
   "source": [
    "Теперь разобьем второй датасет на две выборки, валидационную и тестовую."
   ]
  },
  {
   "cell_type": "code",
   "execution_count": 256,
   "metadata": {},
   "outputs": [],
   "source": [
    "valid, test = train_test_split(test_valid, train_size=0.5, random_state=123456789)"
   ]
  },
  {
   "cell_type": "markdown",
   "metadata": {},
   "source": [
    "Теперь разобьем все выборки на `features` и `target`:\n",
    "\n",
    "- `features` будет представлять собой исходный датасет без целевого признака `is_ultra`.\n",
    "- `target` - целевой признак `is_ultra`\n",
    "\n",
    "Так как алгоритм в данном случае будет одинаков, предлагается написать для этого функцию."
   ]
  },
  {
   "cell_type": "code",
   "execution_count": 257,
   "metadata": {},
   "outputs": [],
   "source": [
    "def features_target(df):\n",
    "    features = df.drop(['is_ultra'], axis=1)\n",
    "    target = df['is_ultra']\n",
    "    return features, target"
   ]
  },
  {
   "cell_type": "markdown",
   "metadata": {},
   "source": [
    "Разделим все выборки, вызвав функцию для каждой из них."
   ]
  },
  {
   "cell_type": "code",
   "execution_count": 258,
   "metadata": {},
   "outputs": [],
   "source": [
    "train_features, train_target = features_target(train)\n",
    "valid_features, valid_target = features_target(valid)\n",
    "test_features, test_target = features_target(test)"
   ]
  },
  {
   "cell_type": "markdown",
   "metadata": {},
   "source": [
    "**Вывод:**\n",
    "\n",
    "В данном пункте мы разделили наши три датасета (обучающий, валидационный и тестовый) на два (с признаками и с целевым признаком). Далее можно переходить непосредственно к обучению."
   ]
  },
  {
   "cell_type": "markdown",
   "metadata": {},
   "source": [
    "## Исследование моделей"
   ]
  },
  {
   "cell_type": "markdown",
   "metadata": {},
   "source": [
    "Теперь построим модель на наших данных. Для этого будем использовать три модели, а именно: \n",
    "- `DecisionTreeClassifier` или **дерево решений**.\n",
    "- `RandomForestClassifier` или **случайный лес**. \n",
    "- `LogisticRegression` или **логистическая регрессия**. \n",
    "\n",
    "Для каждой модели мы будем подбирать оптимальные гиперпараметры путем оценки значения `accuracy`, то есть **точности**."
   ]
  },
  {
   "cell_type": "markdown",
   "metadata": {},
   "source": [
    "### Дерево решений"
   ]
  },
  {
   "cell_type": "markdown",
   "metadata": {},
   "source": [
    "Оценим в цикле точность модели дерева решений для валидационной выборки при различных значениях гиперпараметра, а именно, величины `max_depth` или **глубины дерева**. \n",
    "\n",
    "Выведем на экран значения точности для разных значений глубины дерева."
   ]
  },
  {
   "cell_type": "code",
   "execution_count": 259,
   "metadata": {},
   "outputs": [
    {
     "name": "stdout",
     "output_type": "stream",
     "text": [
      "max_depth = 1, accuracy = 0.7589424572317263\n",
      "max_depth = 2, accuracy = 0.807153965785381\n",
      "max_depth = 3, accuracy = 0.8242612752721618\n",
      "max_depth = 4, accuracy = 0.8180404354587869\n",
      "max_depth = 5, accuracy = 0.8180404354587869\n"
     ]
    }
   ],
   "source": [
    "for depth in range(1,6):\n",
    "    model = DecisionTreeClassifier(random_state=123456789, max_depth=depth)\n",
    "    model.fit(train_features, train_target)\n",
    "    predictions = model.predict(valid_features)\n",
    "    results = accuracy_score(valid_target, predictions)\n",
    "    print(f'max_depth = {depth}, accuracy = {results}')"
   ]
  },
  {
   "cell_type": "markdown",
   "metadata": {},
   "source": [
    "Видно, что оптимальным является глубина дерева 3."
   ]
  },
  {
   "cell_type": "markdown",
   "metadata": {},
   "source": [
    "### Случайный лес"
   ]
  },
  {
   "cell_type": "markdown",
   "metadata": {},
   "source": [
    "В данном случае на валидационной выборке будем оптимизировать два параметра модели случайного леса, а именно `n_estimators` или **количества деревьев в лесу** и `max_depth` или **глубину леса**. \n",
    "\n",
    "Глубину предлагается перебирать в диапазоне от 1 до 5, а количество деревьев перебирать в диапазоне от 10 до 100 с шагом 10."
   ]
  },
  {
   "cell_type": "code",
   "execution_count": 260,
   "metadata": {},
   "outputs": [],
   "source": [
    "best_model = None\n",
    "best_result = 0\n",
    "for depth in range(1,6):\n",
    "    for estimators in range(10, 101, 10):\n",
    "        model = RandomForestClassifier(random_state=123456789, n_estimators=estimators, max_depth=depth)\n",
    "        model.fit(train_features, train_target)\n",
    "        predictions = model.predict(valid_features)\n",
    "        results = accuracy_score(valid_target, predictions)\n",
    "        if results > best_result:\n",
    "            best_model = model\n",
    "            best_result = results"
   ]
  },
  {
   "cell_type": "markdown",
   "metadata": {},
   "source": [
    "Выведем значения точности и оптимизируемых параметров для наилучшей модели."
   ]
  },
  {
   "cell_type": "code",
   "execution_count": 261,
   "metadata": {},
   "outputs": [
    {
     "name": "stdout",
     "output_type": "stream",
     "text": [
      "Наилучшая точность в 0.8289269051321928 в модели случайного леса достигается при глубине леса \n",
      "4 и количесте деревьев 40\n"
     ]
    }
   ],
   "source": [
    "print(f'''Наилучшая точность в {best_result} в модели случайного леса достигается при глубине леса \n",
    "{best_model.max_depth} и количесте деревьев {best_model.n_estimators}''')"
   ]
  },
  {
   "cell_type": "markdown",
   "metadata": {},
   "source": [
    "### Логистическая регрессия"
   ]
  },
  {
   "cell_type": "markdown",
   "metadata": {},
   "source": [
    "В данной модели нет оптимизируемых параметров. Предлагается просто посчитать ее точность на валидационной выборке."
   ]
  },
  {
   "cell_type": "code",
   "execution_count": 262,
   "metadata": {},
   "outputs": [
    {
     "name": "stderr",
     "output_type": "stream",
     "text": [
      "/opt/conda/lib/python3.7/site-packages/sklearn/linear_model/logistic.py:432: FutureWarning: Default solver will be changed to 'lbfgs' in 0.22. Specify a solver to silence this warning.\n",
      "  FutureWarning)\n"
     ]
    },
    {
     "data": {
      "text/plain": [
       "0.7682737169517885"
      ]
     },
     "execution_count": 262,
     "metadata": {},
     "output_type": "execute_result"
    }
   ],
   "source": [
    "model = LogisticRegression(random_state=123456789)\n",
    "model.fit(train_features, train_target)\n",
    "predictions = model.predict(valid_features)\n",
    "result = accuracy_score(valid_target, predictions)\n",
    "result"
   ]
  },
  {
   "cell_type": "markdown",
   "metadata": {},
   "source": [
    "**Вывод:**\n",
    "\n",
    "В данном пункте были найдены оптимальные параметры трех моделей на валидационной выборке и посчитана их точность:\n",
    "- Модель `DecisionTreeClassifier` с параметром `max_depth` = 3 позоляет получить точность 0.824. \n",
    "- Модель `RandomForestClassifier` с параметром `max_depth` = 4 и `n_estimators` = 40 позоляет получить точность 0.829.\n",
    "- В модели `LogisticRegression` оптимизация не проводилась. Рассчитанная точность модели составила 0.768."
   ]
  },
  {
   "cell_type": "markdown",
   "metadata": {},
   "source": [
    "## Проверка моделей на тестовой выборке"
   ]
  },
  {
   "cell_type": "markdown",
   "metadata": {},
   "source": [
    "Проверим точность каждой из моделей с оптимальными параметрами на тестовой выборке.\n",
    "\n",
    "Так как это повторяемый шаг, напишем для этого функцию."
   ]
  },
  {
   "cell_type": "code",
   "execution_count": 263,
   "metadata": {},
   "outputs": [],
   "source": [
    "def test_accuracy(model, train_features, train_target, test_features, test_target):\n",
    "    model.fit(train_features, train_target)\n",
    "    predictions = model.predict(test_features)\n",
    "    results = accuracy_score(test_target, predictions)\n",
    "    return results"
   ]
  },
  {
   "cell_type": "markdown",
   "metadata": {},
   "source": [
    "Теперь посчитаем точность для каждой модели."
   ]
  },
  {
   "cell_type": "markdown",
   "metadata": {},
   "source": [
    "### Дерево решений"
   ]
  },
  {
   "cell_type": "code",
   "execution_count": 264,
   "metadata": {},
   "outputs": [
    {
     "data": {
      "text/plain": [
       "0.7931570762052877"
      ]
     },
     "execution_count": 264,
     "metadata": {},
     "output_type": "execute_result"
    }
   ],
   "source": [
    "model = DecisionTreeClassifier(random_state=123456789, max_depth=3)\n",
    "test_accuracy(model, train_features, train_target, test_features, test_target)"
   ]
  },
  {
   "cell_type": "markdown",
   "metadata": {},
   "source": [
    "### Случайный лес"
   ]
  },
  {
   "cell_type": "code",
   "execution_count": 265,
   "metadata": {},
   "outputs": [
    {
     "data": {
      "text/plain": [
       "0.80248833592535"
      ]
     },
     "execution_count": 265,
     "metadata": {},
     "output_type": "execute_result"
    }
   ],
   "source": [
    "model = RandomForestClassifier(random_state=123456789, n_estimators=40, max_depth=4)\n",
    "test_accuracy(model, train_features, train_target, test_features, test_target)"
   ]
  },
  {
   "cell_type": "markdown",
   "metadata": {},
   "source": [
    "### Логистическая регрессия"
   ]
  },
  {
   "cell_type": "code",
   "execution_count": 266,
   "metadata": {},
   "outputs": [
    {
     "name": "stderr",
     "output_type": "stream",
     "text": [
      "/opt/conda/lib/python3.7/site-packages/sklearn/linear_model/logistic.py:432: FutureWarning: Default solver will be changed to 'lbfgs' in 0.22. Specify a solver to silence this warning.\n",
      "  FutureWarning)\n"
     ]
    },
    {
     "data": {
      "text/plain": [
       "0.7480559875583204"
      ]
     },
     "execution_count": 266,
     "metadata": {},
     "output_type": "execute_result"
    }
   ],
   "source": [
    "model = LogisticRegression(random_state=123456789)\n",
    "test_accuracy(model, train_features, train_target, test_features, test_target)"
   ]
  },
  {
   "cell_type": "markdown",
   "metadata": {},
   "source": [
    "**Вывод:**\n",
    "\n",
    "Полученные модели с оптимальными параметрами позволяют достигнуть следующую точность на тестовой выборке:\n",
    "- 0.793 для `DecisionTreeClassifier`.\n",
    "- 0.802 для `RandomForestClassifier`.\n",
    "- 0.748 для `LogisticRegression`\n",
    "\n",
    "Согласно условиям заказчика, необходимо было разработать модель с точностью больше 0.75. Соответственно, первые две модели подходят под данное требование. Максимальная точность была получена для модели `RandomForestClassifier`."
   ]
  },
  {
   "cell_type": "markdown",
   "metadata": {},
   "source": [
    "## Проверка моделей на адекватность"
   ]
  },
  {
   "cell_type": "markdown",
   "metadata": {},
   "source": [
    "В данном пункте предлагается проверить модели на адекватность путем использования модели `DummyClassifier` из библиотеки `sklearn`.\n",
    "\n",
    "Данная \"фиктивная\" модель предсказывает значения, не учитывая передаваемых ей признаков. В качестве стратегии предсказания выберем `most_frequent`, которая возвращает наиболее часто встречающееся значения."
   ]
  },
  {
   "cell_type": "code",
   "execution_count": 267,
   "metadata": {},
   "outputs": [
    {
     "data": {
      "text/plain": [
       "0.7013996889580093"
      ]
     },
     "execution_count": 267,
     "metadata": {},
     "output_type": "execute_result"
    }
   ],
   "source": [
    "model = DummyClassifier(strategy=\"most_frequent\")\n",
    "test_accuracy(model, train_features, train_target, test_features, test_target)"
   ]
  },
  {
   "cell_type": "markdown",
   "metadata": {},
   "source": [
    "**Вывод:**\n",
    "\n",
    "Видно, что разработанная модель обладает точностью 0.802, а фиктивная модель - точностью 0.701. То есть, наша модель все же работает лучше фиктивной, значит ее можно принять."
   ]
  },
  {
   "cell_type": "markdown",
   "metadata": {},
   "source": [
    "## Общий вывод"
   ]
  },
  {
   "cell_type": "markdown",
   "metadata": {},
   "source": [
    "В данном проекте была разработана модель, которая делает предсказания о том, на какой из новых тарифов лучше перейти абоненту, который в настоящее время использует архивный тариф.\n",
    "\n",
    "1. Было проведено изучение данных, с которыми мы впоследствии работали.\n",
    "2. Исходные данные были разделены на три выборки: обучающую, валидационную и тестовую в соотношении 3:1:1.\n",
    "3. Были исследованы три модели, подобраны оптимальные параметры для некоторых из них и рассчитана точность моделей на валидационной выборке:\n",
    "    - Для модели `DecisionTreeClassifier` с параметром `max_depth` = 3 точность составила 0.824.\n",
    "    - Для модели `RandomForestClassifier` с параметром `max_depth` = 4 и `n_estimators` = 40 точность составила 0.829.\n",
    "    - Для модели `LogisticRegression` точность составила 0.768.\n",
    "4. Точность полученных моделей была проверены на тестовой выборке и составила:\n",
    "    - 0.793 для модели `DecisionTreeClassifier`.\n",
    "    - 0.802 для модели `RandomForestClassifier`.\n",
    "    - 0.748 для модели `LogisticRegression`.\n",
    "5. Полученные точности также были сравнены с простейшей моделью `DummyClassifier`, которая предсказыает значения не учитывая передаваемые ей признаки. Ее точность составила 0.701, что выше разработанных моделей.    \n",
    "\n",
    "\n",
    "Согласно условиям заказчика, точность модели должна быть больше 0.75. Поэтому была принята модель с максимальной точностью, а именно, `RandomForestClassifier` с параметрами `max_depth` = 4 и `n_estimators` = 40.   \n"
   ]
  }
 ],
 "metadata": {
  "ExecuteTimeLog": [
   {
    "duration": 1173,
    "start_time": "2022-01-18T09:18:53.322Z"
   },
   {
    "duration": 4,
    "start_time": "2022-01-18T09:18:55.764Z"
   },
   {
    "duration": 19,
    "start_time": "2022-01-18T09:19:54.825Z"
   },
   {
    "duration": 33,
    "start_time": "2022-01-18T09:20:08.888Z"
   },
   {
    "duration": 11,
    "start_time": "2022-01-18T09:32:02.188Z"
   },
   {
    "duration": 7,
    "start_time": "2022-01-18T09:32:07.708Z"
   },
   {
    "duration": 448,
    "start_time": "2022-01-18T09:34:53.901Z"
   },
   {
    "duration": 299,
    "start_time": "2022-01-18T09:35:00.655Z"
   },
   {
    "duration": 36,
    "start_time": "2022-01-18T09:35:00.957Z"
   },
   {
    "duration": 6,
    "start_time": "2022-01-18T09:35:00.996Z"
   },
   {
    "duration": 7,
    "start_time": "2022-01-18T09:35:01.958Z"
   },
   {
    "duration": 16,
    "start_time": "2022-01-18T09:35:07.069Z"
   },
   {
    "duration": 6,
    "start_time": "2022-01-18T09:51:32.284Z"
   },
   {
    "duration": 7,
    "start_time": "2022-01-18T09:52:22.188Z"
   },
   {
    "duration": 7,
    "start_time": "2022-01-18T09:53:50.759Z"
   },
   {
    "duration": 6,
    "start_time": "2022-01-18T09:53:51.381Z"
   },
   {
    "duration": 94,
    "start_time": "2022-01-18T09:54:15.628Z"
   },
   {
    "duration": 3,
    "start_time": "2022-01-18T09:55:48.351Z"
   },
   {
    "duration": 5,
    "start_time": "2022-01-18T09:56:35.165Z"
   },
   {
    "duration": 16,
    "start_time": "2022-01-18T09:56:37.741Z"
   },
   {
    "duration": 8,
    "start_time": "2022-01-18T10:23:04.566Z"
   },
   {
    "duration": 7,
    "start_time": "2022-01-18T10:23:05.414Z"
   },
   {
    "duration": 10,
    "start_time": "2022-01-18T10:23:59.615Z"
   },
   {
    "duration": 16,
    "start_time": "2022-01-18T10:25:06.575Z"
   },
   {
    "duration": 57,
    "start_time": "2022-01-18T10:42:42.776Z"
   },
   {
    "duration": 32,
    "start_time": "2022-01-18T10:42:42.836Z"
   },
   {
    "duration": 6,
    "start_time": "2022-01-18T10:42:42.871Z"
   },
   {
    "duration": 14,
    "start_time": "2022-01-18T10:42:42.880Z"
   },
   {
    "duration": 7,
    "start_time": "2022-01-18T10:42:42.896Z"
   },
   {
    "duration": 11,
    "start_time": "2022-01-18T10:42:42.905Z"
   },
   {
    "duration": 315,
    "start_time": "2022-01-18T10:42:44.685Z"
   },
   {
    "duration": 72,
    "start_time": "2022-01-18T10:42:56.414Z"
   },
   {
    "duration": 191,
    "start_time": "2022-01-18T10:43:04.654Z"
   },
   {
    "duration": 828,
    "start_time": "2022-01-18T10:47:40.190Z"
   },
   {
    "duration": 519,
    "start_time": "2022-01-18T10:47:46.144Z"
   },
   {
    "duration": 192,
    "start_time": "2022-01-18T10:47:58.584Z"
   },
   {
    "duration": 938,
    "start_time": "2022-01-18T10:47:59.855Z"
   },
   {
    "duration": 4,
    "start_time": "2022-01-18T10:48:06.623Z"
   },
   {
    "duration": 192,
    "start_time": "2022-01-18T10:48:36.687Z"
   },
   {
    "duration": 259,
    "start_time": "2022-01-18T10:48:38.135Z"
   },
   {
    "duration": 197,
    "start_time": "2022-01-18T10:51:55.545Z"
   },
   {
    "duration": 5,
    "start_time": "2022-01-18T10:52:08.114Z"
   },
   {
    "duration": 32,
    "start_time": "2022-01-18T10:52:08.122Z"
   },
   {
    "duration": 6,
    "start_time": "2022-01-18T10:52:08.156Z"
   },
   {
    "duration": 7,
    "start_time": "2022-01-18T10:52:08.165Z"
   },
   {
    "duration": 7,
    "start_time": "2022-01-18T10:52:08.174Z"
   },
   {
    "duration": 10,
    "start_time": "2022-01-18T10:52:08.183Z"
   },
   {
    "duration": 203,
    "start_time": "2022-01-18T10:52:09.321Z"
   },
   {
    "duration": 195,
    "start_time": "2022-01-18T10:53:02.834Z"
   },
   {
    "duration": 71,
    "start_time": "2022-01-18T10:53:52.833Z"
   },
   {
    "duration": 71,
    "start_time": "2022-01-18T10:53:59.905Z"
   },
   {
    "duration": 298,
    "start_time": "2022-01-18T11:01:30.084Z"
   },
   {
    "duration": 4,
    "start_time": "2022-01-18T11:01:48.975Z"
   },
   {
    "duration": 35,
    "start_time": "2022-01-18T11:01:48.982Z"
   },
   {
    "duration": 6,
    "start_time": "2022-01-18T11:01:49.020Z"
   },
   {
    "duration": 7,
    "start_time": "2022-01-18T11:01:49.029Z"
   },
   {
    "duration": 6,
    "start_time": "2022-01-18T11:01:49.038Z"
   },
   {
    "duration": 23,
    "start_time": "2022-01-18T11:01:49.046Z"
   },
   {
    "duration": 329,
    "start_time": "2022-01-18T11:01:50.509Z"
   },
   {
    "duration": 72,
    "start_time": "2022-01-18T11:01:57.548Z"
   },
   {
    "duration": 311,
    "start_time": "2022-01-18T11:02:16.324Z"
   },
   {
    "duration": 453,
    "start_time": "2022-01-18T11:02:32.660Z"
   },
   {
    "duration": 332,
    "start_time": "2022-01-18T11:02:46.876Z"
   },
   {
    "duration": 5,
    "start_time": "2022-01-18T11:03:01.480Z"
   },
   {
    "duration": 5,
    "start_time": "2022-01-18T11:03:05.942Z"
   },
   {
    "duration": 34,
    "start_time": "2022-01-18T11:03:05.950Z"
   },
   {
    "duration": 7,
    "start_time": "2022-01-18T11:03:05.987Z"
   },
   {
    "duration": 11,
    "start_time": "2022-01-18T11:03:05.996Z"
   },
   {
    "duration": 12,
    "start_time": "2022-01-18T11:03:06.009Z"
   },
   {
    "duration": 15,
    "start_time": "2022-01-18T11:03:06.024Z"
   },
   {
    "duration": 91,
    "start_time": "2022-01-18T11:03:06.042Z"
   },
   {
    "duration": 279,
    "start_time": "2022-01-18T11:03:08.045Z"
   },
   {
    "duration": 279,
    "start_time": "2022-01-18T11:03:48.036Z"
   },
   {
    "duration": 277,
    "start_time": "2022-01-18T11:03:54.860Z"
   },
   {
    "duration": 277,
    "start_time": "2022-01-18T11:04:02.692Z"
   },
   {
    "duration": 1110,
    "start_time": "2022-01-18T11:04:06.621Z"
   },
   {
    "duration": 2949,
    "start_time": "2022-01-18T11:04:18.367Z"
   },
   {
    "duration": 824,
    "start_time": "2022-01-18T11:05:24.709Z"
   },
   {
    "duration": 2994,
    "start_time": "2022-01-18T11:05:31.861Z"
   },
   {
    "duration": 1038,
    "start_time": "2022-01-18T11:05:40.157Z"
   },
   {
    "duration": 2999,
    "start_time": "2022-01-18T11:05:45.821Z"
   },
   {
    "duration": 2991,
    "start_time": "2022-01-18T11:05:58.269Z"
   },
   {
    "duration": 16507,
    "start_time": "2022-01-18T11:06:26.679Z"
   },
   {
    "duration": 6,
    "start_time": "2022-01-18T11:06:55.798Z"
   },
   {
    "duration": 5831,
    "start_time": "2022-01-18T11:07:26.414Z"
   },
   {
    "duration": 5,
    "start_time": "2022-01-18T11:07:34.838Z"
   },
   {
    "duration": 17039,
    "start_time": "2022-01-18T11:08:03.455Z"
   },
   {
    "duration": 6,
    "start_time": "2022-01-18T11:08:22.526Z"
   },
   {
    "duration": 85,
    "start_time": "2022-01-18T11:08:42.078Z"
   },
   {
    "duration": 6169,
    "start_time": "2022-01-18T11:08:52.447Z"
   },
   {
    "duration": 5789,
    "start_time": "2022-01-18T11:09:29.135Z"
   },
   {
    "duration": 7,
    "start_time": "2022-01-18T11:09:46.254Z"
   },
   {
    "duration": 7,
    "start_time": "2022-01-18T11:09:48.966Z"
   },
   {
    "duration": 6,
    "start_time": "2022-01-18T11:09:53.774Z"
   },
   {
    "duration": 6,
    "start_time": "2022-01-18T11:09:59.559Z"
   },
   {
    "duration": 5,
    "start_time": "2022-01-18T11:10:24.375Z"
   },
   {
    "duration": 6,
    "start_time": "2022-01-18T11:10:48.079Z"
   },
   {
    "duration": 90,
    "start_time": "2022-01-18T11:11:40.007Z"
   },
   {
    "duration": 107,
    "start_time": "2022-01-18T11:12:40.567Z"
   },
   {
    "duration": 112,
    "start_time": "2022-01-18T11:12:59.840Z"
   },
   {
    "duration": 4,
    "start_time": "2022-01-18T11:13:02.008Z"
   },
   {
    "duration": 5,
    "start_time": "2022-01-18T11:13:10.566Z"
   },
   {
    "duration": 5,
    "start_time": "2022-01-18T11:13:14.999Z"
   },
   {
    "duration": 4,
    "start_time": "2022-01-18T11:13:21.416Z"
   },
   {
    "duration": 5,
    "start_time": "2022-01-18T11:15:13.554Z"
   },
   {
    "duration": 39,
    "start_time": "2022-01-18T11:15:13.562Z"
   },
   {
    "duration": 6,
    "start_time": "2022-01-18T11:15:13.604Z"
   },
   {
    "duration": 7,
    "start_time": "2022-01-18T11:15:13.613Z"
   },
   {
    "duration": 5,
    "start_time": "2022-01-18T11:15:13.622Z"
   },
   {
    "duration": 9,
    "start_time": "2022-01-18T11:15:13.629Z"
   },
   {
    "duration": 111,
    "start_time": "2022-01-18T11:15:13.640Z"
   },
   {
    "duration": 6276,
    "start_time": "2022-01-18T11:15:13.755Z"
   },
   {
    "duration": 5,
    "start_time": "2022-01-18T11:15:20.033Z"
   },
   {
    "duration": 24,
    "start_time": "2022-01-18T11:19:17.035Z"
   },
   {
    "duration": 5,
    "start_time": "2022-01-18T11:19:28.330Z"
   },
   {
    "duration": 6,
    "start_time": "2022-01-18T11:20:02.858Z"
   },
   {
    "duration": 24,
    "start_time": "2022-01-18T11:20:20.981Z"
   },
   {
    "duration": 5,
    "start_time": "2022-01-18T11:20:21.658Z"
   },
   {
    "duration": 5,
    "start_time": "2022-01-18T11:20:23.290Z"
   },
   {
    "duration": 658,
    "start_time": "2022-01-18T11:21:22.730Z"
   },
   {
    "duration": 260,
    "start_time": "2022-01-18T11:21:26.842Z"
   },
   {
    "duration": 296,
    "start_time": "2022-01-18T11:21:30.667Z"
   },
   {
    "duration": 6,
    "start_time": "2022-01-18T11:21:34.018Z"
   },
   {
    "duration": 5,
    "start_time": "2022-01-18T11:21:53.923Z"
   },
   {
    "duration": 5,
    "start_time": "2022-01-18T11:23:36.318Z"
   },
   {
    "duration": 34,
    "start_time": "2022-01-18T11:23:36.326Z"
   },
   {
    "duration": 8,
    "start_time": "2022-01-18T11:23:36.364Z"
   },
   {
    "duration": 13,
    "start_time": "2022-01-18T11:23:36.375Z"
   },
   {
    "duration": 10,
    "start_time": "2022-01-18T11:23:36.391Z"
   },
   {
    "duration": 16,
    "start_time": "2022-01-18T11:23:36.404Z"
   },
   {
    "duration": 135,
    "start_time": "2022-01-18T11:23:36.423Z"
   },
   {
    "duration": 5997,
    "start_time": "2022-01-18T11:23:36.562Z"
   },
   {
    "duration": 9,
    "start_time": "2022-01-18T11:23:42.562Z"
   },
   {
    "duration": 26,
    "start_time": "2022-01-18T11:23:42.574Z"
   },
   {
    "duration": 5,
    "start_time": "2022-01-18T11:23:46.340Z"
   },
   {
    "duration": 6,
    "start_time": "2022-01-18T11:23:56.862Z"
   },
   {
    "duration": 32,
    "start_time": "2022-01-18T11:23:56.871Z"
   },
   {
    "duration": 7,
    "start_time": "2022-01-18T11:23:56.907Z"
   },
   {
    "duration": 8,
    "start_time": "2022-01-18T11:23:56.917Z"
   },
   {
    "duration": 5,
    "start_time": "2022-01-18T11:23:56.928Z"
   },
   {
    "duration": 38,
    "start_time": "2022-01-18T11:23:56.935Z"
   },
   {
    "duration": 92,
    "start_time": "2022-01-18T11:23:56.977Z"
   },
   {
    "duration": 5830,
    "start_time": "2022-01-18T11:23:57.073Z"
   },
   {
    "duration": 5,
    "start_time": "2022-01-18T11:24:02.906Z"
   },
   {
    "duration": 31,
    "start_time": "2022-01-18T11:24:02.913Z"
   },
   {
    "duration": 5,
    "start_time": "2022-01-18T11:24:04.325Z"
   },
   {
    "duration": 13,
    "start_time": "2022-01-18T11:27:06.229Z"
   },
   {
    "duration": 18,
    "start_time": "2022-01-18T11:27:14.278Z"
   },
   {
    "duration": 6240,
    "start_time": "2022-01-18T11:28:05.054Z"
   },
   {
    "duration": 5,
    "start_time": "2022-01-18T11:28:12.189Z"
   },
   {
    "duration": 127,
    "start_time": "2022-01-18T11:28:17.237Z"
   },
   {
    "duration": 4,
    "start_time": "2022-01-18T11:31:11.615Z"
   },
   {
    "duration": 11,
    "start_time": "2022-01-18T11:31:22.055Z"
   },
   {
    "duration": 4,
    "start_time": "2022-01-18T11:31:29.306Z"
   },
   {
    "duration": 100,
    "start_time": "2022-01-18T11:31:29.313Z"
   },
   {
    "duration": 96,
    "start_time": "2022-01-18T11:31:29.416Z"
   },
   {
    "duration": 108,
    "start_time": "2022-01-18T11:31:29.514Z"
   },
   {
    "duration": 92,
    "start_time": "2022-01-18T11:31:29.624Z"
   },
   {
    "duration": 128,
    "start_time": "2022-01-18T11:31:29.718Z"
   },
   {
    "duration": 162,
    "start_time": "2022-01-18T11:31:29.848Z"
   },
   {
    "duration": 5936,
    "start_time": "2022-01-18T11:31:30.013Z"
   },
   {
    "duration": 5,
    "start_time": "2022-01-18T11:31:35.952Z"
   },
   {
    "duration": 27,
    "start_time": "2022-01-18T11:31:35.970Z"
   },
   {
    "duration": 5,
    "start_time": "2022-01-18T11:31:36.000Z"
   },
   {
    "duration": 7,
    "start_time": "2022-01-18T11:31:36.008Z"
   },
   {
    "duration": 13,
    "start_time": "2022-01-18T11:31:37.687Z"
   },
   {
    "duration": 11,
    "start_time": "2022-01-18T11:31:43.471Z"
   },
   {
    "duration": 11,
    "start_time": "2022-01-18T11:31:45.111Z"
   },
   {
    "duration": 11,
    "start_time": "2022-01-18T11:31:46.895Z"
   },
   {
    "duration": 14,
    "start_time": "2022-01-18T11:32:34.680Z"
   },
   {
    "duration": 14,
    "start_time": "2022-01-18T11:32:44.136Z"
   },
   {
    "duration": 12,
    "start_time": "2022-01-18T11:32:48.039Z"
   },
   {
    "duration": 12,
    "start_time": "2022-01-18T11:32:49.591Z"
   },
   {
    "duration": 4,
    "start_time": "2022-01-18T11:32:53.395Z"
   },
   {
    "duration": 27,
    "start_time": "2022-01-18T11:32:53.402Z"
   },
   {
    "duration": 6,
    "start_time": "2022-01-18T11:32:53.432Z"
   },
   {
    "duration": 6,
    "start_time": "2022-01-18T11:32:53.440Z"
   },
   {
    "duration": 6,
    "start_time": "2022-01-18T11:32:53.448Z"
   },
   {
    "duration": 17,
    "start_time": "2022-01-18T11:32:53.456Z"
   },
   {
    "duration": 109,
    "start_time": "2022-01-18T11:32:53.476Z"
   },
   {
    "duration": 6174,
    "start_time": "2022-01-18T11:32:53.588Z"
   },
   {
    "duration": 4,
    "start_time": "2022-01-18T11:32:59.765Z"
   },
   {
    "duration": 29,
    "start_time": "2022-01-18T11:32:59.771Z"
   },
   {
    "duration": 8,
    "start_time": "2022-01-18T11:32:59.803Z"
   },
   {
    "duration": 17,
    "start_time": "2022-01-18T11:32:59.814Z"
   },
   {
    "duration": 13,
    "start_time": "2022-01-18T11:33:00.943Z"
   },
   {
    "duration": 6,
    "start_time": "2022-01-18T11:33:04.738Z"
   },
   {
    "duration": 51,
    "start_time": "2022-01-18T11:33:04.747Z"
   },
   {
    "duration": 7,
    "start_time": "2022-01-18T11:33:04.802Z"
   },
   {
    "duration": 11,
    "start_time": "2022-01-18T11:33:04.812Z"
   },
   {
    "duration": 6,
    "start_time": "2022-01-18T11:33:04.826Z"
   },
   {
    "duration": 12,
    "start_time": "2022-01-18T11:33:04.835Z"
   },
   {
    "duration": 104,
    "start_time": "2022-01-18T11:33:04.850Z"
   },
   {
    "duration": 6502,
    "start_time": "2022-01-18T11:33:04.959Z"
   },
   {
    "duration": 5,
    "start_time": "2022-01-18T11:33:11.464Z"
   },
   {
    "duration": 34,
    "start_time": "2022-01-18T11:33:11.471Z"
   },
   {
    "duration": 6,
    "start_time": "2022-01-18T11:33:11.508Z"
   },
   {
    "duration": 6,
    "start_time": "2022-01-18T11:33:11.517Z"
   },
   {
    "duration": 12,
    "start_time": "2022-01-18T11:33:22.830Z"
   },
   {
    "duration": 12,
    "start_time": "2022-01-18T11:33:28.447Z"
   },
   {
    "duration": 12,
    "start_time": "2022-01-18T11:33:40.743Z"
   },
   {
    "duration": 11,
    "start_time": "2022-01-18T11:33:42.982Z"
   },
   {
    "duration": 139,
    "start_time": "2022-01-18T11:34:16.945Z"
   },
   {
    "duration": 11,
    "start_time": "2022-01-18T11:34:19.848Z"
   },
   {
    "duration": 13,
    "start_time": "2022-01-18T11:34:20.536Z"
   },
   {
    "duration": 139,
    "start_time": "2022-01-18T11:34:21.559Z"
   },
   {
    "duration": 11,
    "start_time": "2022-01-18T11:34:41.081Z"
   },
   {
    "duration": 136,
    "start_time": "2022-01-18T11:34:49.111Z"
   },
   {
    "duration": 12,
    "start_time": "2022-01-18T11:34:53.327Z"
   },
   {
    "duration": 28,
    "start_time": "2022-01-18T11:35:01.191Z"
   },
   {
    "duration": 26,
    "start_time": "2022-01-18T11:35:04.473Z"
   },
   {
    "duration": 27,
    "start_time": "2022-01-18T11:35:06.767Z"
   },
   {
    "duration": 23,
    "start_time": "2022-01-18T11:35:10.327Z"
   },
   {
    "duration": 24,
    "start_time": "2022-01-18T11:35:19.015Z"
   },
   {
    "duration": 12,
    "start_time": "2022-01-18T11:35:42.224Z"
   },
   {
    "duration": 139,
    "start_time": "2022-01-18T11:35:43.736Z"
   },
   {
    "duration": 12,
    "start_time": "2022-01-18T11:36:02.368Z"
   },
   {
    "duration": 132,
    "start_time": "2022-01-18T11:36:11.706Z"
   },
   {
    "duration": 141,
    "start_time": "2022-01-18T11:36:12.496Z"
   },
   {
    "duration": 26,
    "start_time": "2022-01-18T11:36:16.625Z"
   },
   {
    "duration": 29,
    "start_time": "2022-01-18T11:36:21.360Z"
   },
   {
    "duration": 23,
    "start_time": "2022-01-18T11:36:39.601Z"
   },
   {
    "duration": 13,
    "start_time": "2022-01-18T11:37:01.096Z"
   },
   {
    "duration": 140,
    "start_time": "2022-01-18T11:37:06.498Z"
   },
   {
    "duration": 24,
    "start_time": "2022-01-18T11:37:13.625Z"
   },
   {
    "duration": 82,
    "start_time": "2022-01-18T11:57:49.257Z"
   },
   {
    "duration": 82,
    "start_time": "2022-01-18T11:57:53.640Z"
   },
   {
    "duration": 91,
    "start_time": "2022-01-18T12:00:16.720Z"
   },
   {
    "duration": 7,
    "start_time": "2022-01-18T12:02:00.640Z"
   },
   {
    "duration": 9,
    "start_time": "2022-01-18T12:02:05.369Z"
   },
   {
    "duration": 4,
    "start_time": "2022-01-18T12:02:10.057Z"
   },
   {
    "duration": 7,
    "start_time": "2022-01-18T12:02:11.088Z"
   },
   {
    "duration": 7,
    "start_time": "2022-01-18T12:02:57.241Z"
   },
   {
    "duration": 7,
    "start_time": "2022-01-18T12:02:58.000Z"
   },
   {
    "duration": 83,
    "start_time": "2022-01-18T12:07:45.826Z"
   },
   {
    "duration": 7909,
    "start_time": "2022-01-18T12:09:06.115Z"
   },
   {
    "duration": 5,
    "start_time": "2022-01-18T12:09:21.163Z"
   },
   {
    "duration": 41,
    "start_time": "2022-01-18T12:09:47.195Z"
   },
   {
    "duration": 25,
    "start_time": "2022-01-18T12:11:47.380Z"
   },
   {
    "duration": 13,
    "start_time": "2022-01-18T12:17:50.006Z"
   },
   {
    "duration": 132,
    "start_time": "2022-01-18T12:17:50.878Z"
   },
   {
    "duration": 25,
    "start_time": "2022-01-18T12:17:51.847Z"
   },
   {
    "duration": 4,
    "start_time": "2022-01-18T12:22:28.329Z"
   },
   {
    "duration": 9,
    "start_time": "2022-01-18T12:23:54.938Z"
   },
   {
    "duration": 9,
    "start_time": "2022-01-18T12:24:03.561Z"
   },
   {
    "duration": 9,
    "start_time": "2022-01-18T12:24:31.074Z"
   },
   {
    "duration": 9,
    "start_time": "2022-01-18T12:24:36.158Z"
   },
   {
    "duration": 7,
    "start_time": "2022-01-18T12:25:18.922Z"
   },
   {
    "duration": 7,
    "start_time": "2022-01-18T12:25:21.274Z"
   },
   {
    "duration": 7,
    "start_time": "2022-01-18T12:26:17.322Z"
   },
   {
    "duration": 8,
    "start_time": "2022-01-18T12:26:19.633Z"
   },
   {
    "duration": 7,
    "start_time": "2022-01-18T12:28:22.531Z"
   },
   {
    "duration": 5,
    "start_time": "2022-01-18T12:44:14.789Z"
   },
   {
    "duration": 29,
    "start_time": "2022-01-18T12:44:14.797Z"
   },
   {
    "duration": 8,
    "start_time": "2022-01-18T12:44:14.911Z"
   },
   {
    "duration": 11,
    "start_time": "2022-01-18T12:44:14.922Z"
   },
   {
    "duration": 9,
    "start_time": "2022-01-18T12:44:14.936Z"
   },
   {
    "duration": 23,
    "start_time": "2022-01-18T12:44:14.948Z"
   },
   {
    "duration": 51,
    "start_time": "2022-01-18T12:44:14.973Z"
   },
   {
    "duration": 7487,
    "start_time": "2022-01-18T12:44:15.026Z"
   },
   {
    "duration": 4,
    "start_time": "2022-01-18T12:44:22.515Z"
   },
   {
    "duration": 27,
    "start_time": "2022-01-18T12:44:22.522Z"
   },
   {
    "duration": 21,
    "start_time": "2022-01-18T12:44:22.551Z"
   },
   {
    "duration": 14,
    "start_time": "2022-01-18T12:44:22.574Z"
   },
   {
    "duration": 153,
    "start_time": "2022-01-18T12:44:22.590Z"
   },
   {
    "duration": 32,
    "start_time": "2022-01-18T12:44:22.746Z"
   },
   {
    "duration": 7,
    "start_time": "2022-01-18T12:44:22.780Z"
   }
  ],
  "kernelspec": {
   "display_name": "Python 3 (ipykernel)",
   "language": "python",
   "name": "python3"
  },
  "language_info": {
   "codemirror_mode": {
    "name": "ipython",
    "version": 3
   },
   "file_extension": ".py",
   "mimetype": "text/x-python",
   "name": "python",
   "nbconvert_exporter": "python",
   "pygments_lexer": "ipython3",
   "version": "3.10.4"
  },
  "toc": {
   "base_numbering": 1,
   "nav_menu": {},
   "number_sections": true,
   "sideBar": true,
   "skip_h1_title": true,
   "title_cell": "Содержание проекта",
   "title_sidebar": "Contents",
   "toc_cell": true,
   "toc_position": {},
   "toc_section_display": true,
   "toc_window_display": false
  }
 },
 "nbformat": 4,
 "nbformat_minor": 4
}
