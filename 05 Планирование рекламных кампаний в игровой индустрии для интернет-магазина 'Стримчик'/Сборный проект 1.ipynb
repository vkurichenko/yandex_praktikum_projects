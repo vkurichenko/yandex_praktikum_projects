{
 "cells": [
  {
   "cell_type": "markdown",
   "metadata": {
    "pycharm": {
     "name": "#%% md\n"
    }
   },
   "source": [
    "# Планирование рекламных кампаний в игровой индустрии для интернет-магазина \"Стримчик\""
   ]
  },
  {
   "cell_type": "markdown",
   "metadata": {
    "pycharm": {
     "name": "#%% md\n"
    }
   },
   "source": [
    "Мы работаем в интернет-магазине «Стримчик», который продаёт по всему миру компьютерные игры. Из открытых источников доступны исторические данные о продажах игр, оценки пользователей и экспертов, жанры и платформы (например, Xbox или PlayStation). Перед нами данные до 2016 года. Представим, что сейчас декабрь 2016 г., и мы планируем кампанию на 2017-й. Вам нужно выявить определяющие успешность игры закономерности. Это позволит сделать ставку на потенциально популярный продукт и спланировать рекламные кампании.\n",
    "\n",
    "**Примечание:**\n",
    "\n",
    "В наборе данных попадается аббревиатура ESRB (Entertainment Software Rating Board) — это ассоциация, определяющая возрастной рейтинг компьютерных игр. ESRB оценивает игровой контент и присваивает ему подходящую возрастную категорию, например, «Для взрослых», «Для детей младшего возраста» или «Для подростков»."
   ]
  },
  {
   "cell_type": "markdown",
   "metadata": {
    "pycharm": {
     "name": "#%% md\n"
    }
   },
   "source": [
    "## Изучение данных из файлов"
   ]
  },
  {
   "cell_type": "markdown",
   "metadata": {
    "pycharm": {
     "name": "#%% md\n"
    }
   },
   "source": [
    "Импортируем необходимые библиотеки:"
   ]
  },
  {
   "cell_type": "code",
   "execution_count": 2,
   "metadata": {
    "pycharm": {
     "name": "#%%\n"
    }
   },
   "outputs": [],
   "source": [
    "import pandas as pd\n",
    "import matplotlib.pyplot as plt\n",
    "from scipy import stats as st\n",
    "import math\n",
    "import numpy as np\n",
    "pd.set_option('display.float_format', '{:,.2f}'.format) "
   ]
  },
  {
   "cell_type": "markdown",
   "metadata": {
    "pycharm": {
     "name": "#%% md\n"
    }
   },
   "source": [
    "Сохраним датасет в переменную `data`."
   ]
  },
  {
   "cell_type": "code",
   "execution_count": 3,
   "metadata": {
    "pycharm": {
     "name": "#%%\n"
    }
   },
   "outputs": [],
   "source": [
    "data = pd.read_csv('/datasets/games.csv')"
   ]
  },
  {
   "cell_type": "markdown",
   "metadata": {
    "pycharm": {
     "name": "#%% md\n"
    }
   },
   "source": [
    "Посмотрим первые 10 строк."
   ]
  },
  {
   "cell_type": "code",
   "execution_count": 4,
   "metadata": {
    "pycharm": {
     "name": "#%%\n"
    }
   },
   "outputs": [
    {
     "data": {
      "text/html": [
       "<div>\n",
       "<style scoped>\n",
       "    .dataframe tbody tr th:only-of-type {\n",
       "        vertical-align: middle;\n",
       "    }\n",
       "\n",
       "    .dataframe tbody tr th {\n",
       "        vertical-align: top;\n",
       "    }\n",
       "\n",
       "    .dataframe thead th {\n",
       "        text-align: right;\n",
       "    }\n",
       "</style>\n",
       "<table border=\"1\" class=\"dataframe\">\n",
       "  <thead>\n",
       "    <tr style=\"text-align: right;\">\n",
       "      <th></th>\n",
       "      <th>Name</th>\n",
       "      <th>Platform</th>\n",
       "      <th>Year_of_Release</th>\n",
       "      <th>Genre</th>\n",
       "      <th>NA_sales</th>\n",
       "      <th>EU_sales</th>\n",
       "      <th>JP_sales</th>\n",
       "      <th>Other_sales</th>\n",
       "      <th>Critic_Score</th>\n",
       "      <th>User_Score</th>\n",
       "      <th>Rating</th>\n",
       "    </tr>\n",
       "  </thead>\n",
       "  <tbody>\n",
       "    <tr>\n",
       "      <td>0</td>\n",
       "      <td>Wii Sports</td>\n",
       "      <td>Wii</td>\n",
       "      <td>2,006.00</td>\n",
       "      <td>Sports</td>\n",
       "      <td>41.36</td>\n",
       "      <td>28.96</td>\n",
       "      <td>3.77</td>\n",
       "      <td>8.45</td>\n",
       "      <td>76.00</td>\n",
       "      <td>8</td>\n",
       "      <td>E</td>\n",
       "    </tr>\n",
       "    <tr>\n",
       "      <td>1</td>\n",
       "      <td>Super Mario Bros.</td>\n",
       "      <td>NES</td>\n",
       "      <td>1,985.00</td>\n",
       "      <td>Platform</td>\n",
       "      <td>29.08</td>\n",
       "      <td>3.58</td>\n",
       "      <td>6.81</td>\n",
       "      <td>0.77</td>\n",
       "      <td>nan</td>\n",
       "      <td>NaN</td>\n",
       "      <td>NaN</td>\n",
       "    </tr>\n",
       "    <tr>\n",
       "      <td>2</td>\n",
       "      <td>Mario Kart Wii</td>\n",
       "      <td>Wii</td>\n",
       "      <td>2,008.00</td>\n",
       "      <td>Racing</td>\n",
       "      <td>15.68</td>\n",
       "      <td>12.76</td>\n",
       "      <td>3.79</td>\n",
       "      <td>3.29</td>\n",
       "      <td>82.00</td>\n",
       "      <td>8.3</td>\n",
       "      <td>E</td>\n",
       "    </tr>\n",
       "    <tr>\n",
       "      <td>3</td>\n",
       "      <td>Wii Sports Resort</td>\n",
       "      <td>Wii</td>\n",
       "      <td>2,009.00</td>\n",
       "      <td>Sports</td>\n",
       "      <td>15.61</td>\n",
       "      <td>10.93</td>\n",
       "      <td>3.28</td>\n",
       "      <td>2.95</td>\n",
       "      <td>80.00</td>\n",
       "      <td>8</td>\n",
       "      <td>E</td>\n",
       "    </tr>\n",
       "    <tr>\n",
       "      <td>4</td>\n",
       "      <td>Pokemon Red/Pokemon Blue</td>\n",
       "      <td>GB</td>\n",
       "      <td>1,996.00</td>\n",
       "      <td>Role-Playing</td>\n",
       "      <td>11.27</td>\n",
       "      <td>8.89</td>\n",
       "      <td>10.22</td>\n",
       "      <td>1.00</td>\n",
       "      <td>nan</td>\n",
       "      <td>NaN</td>\n",
       "      <td>NaN</td>\n",
       "    </tr>\n",
       "    <tr>\n",
       "      <td>5</td>\n",
       "      <td>Tetris</td>\n",
       "      <td>GB</td>\n",
       "      <td>1,989.00</td>\n",
       "      <td>Puzzle</td>\n",
       "      <td>23.20</td>\n",
       "      <td>2.26</td>\n",
       "      <td>4.22</td>\n",
       "      <td>0.58</td>\n",
       "      <td>nan</td>\n",
       "      <td>NaN</td>\n",
       "      <td>NaN</td>\n",
       "    </tr>\n",
       "    <tr>\n",
       "      <td>6</td>\n",
       "      <td>New Super Mario Bros.</td>\n",
       "      <td>DS</td>\n",
       "      <td>2,006.00</td>\n",
       "      <td>Platform</td>\n",
       "      <td>11.28</td>\n",
       "      <td>9.14</td>\n",
       "      <td>6.50</td>\n",
       "      <td>2.88</td>\n",
       "      <td>89.00</td>\n",
       "      <td>8.5</td>\n",
       "      <td>E</td>\n",
       "    </tr>\n",
       "    <tr>\n",
       "      <td>7</td>\n",
       "      <td>Wii Play</td>\n",
       "      <td>Wii</td>\n",
       "      <td>2,006.00</td>\n",
       "      <td>Misc</td>\n",
       "      <td>13.96</td>\n",
       "      <td>9.18</td>\n",
       "      <td>2.93</td>\n",
       "      <td>2.84</td>\n",
       "      <td>58.00</td>\n",
       "      <td>6.6</td>\n",
       "      <td>E</td>\n",
       "    </tr>\n",
       "    <tr>\n",
       "      <td>8</td>\n",
       "      <td>New Super Mario Bros. Wii</td>\n",
       "      <td>Wii</td>\n",
       "      <td>2,009.00</td>\n",
       "      <td>Platform</td>\n",
       "      <td>14.44</td>\n",
       "      <td>6.94</td>\n",
       "      <td>4.70</td>\n",
       "      <td>2.24</td>\n",
       "      <td>87.00</td>\n",
       "      <td>8.4</td>\n",
       "      <td>E</td>\n",
       "    </tr>\n",
       "    <tr>\n",
       "      <td>9</td>\n",
       "      <td>Duck Hunt</td>\n",
       "      <td>NES</td>\n",
       "      <td>1,984.00</td>\n",
       "      <td>Shooter</td>\n",
       "      <td>26.93</td>\n",
       "      <td>0.63</td>\n",
       "      <td>0.28</td>\n",
       "      <td>0.47</td>\n",
       "      <td>nan</td>\n",
       "      <td>NaN</td>\n",
       "      <td>NaN</td>\n",
       "    </tr>\n",
       "  </tbody>\n",
       "</table>\n",
       "</div>"
      ],
      "text/plain": [
       "                        Name Platform  Year_of_Release         Genre  \\\n",
       "0                 Wii Sports      Wii         2,006.00        Sports   \n",
       "1          Super Mario Bros.      NES         1,985.00      Platform   \n",
       "2             Mario Kart Wii      Wii         2,008.00        Racing   \n",
       "3          Wii Sports Resort      Wii         2,009.00        Sports   \n",
       "4   Pokemon Red/Pokemon Blue       GB         1,996.00  Role-Playing   \n",
       "5                     Tetris       GB         1,989.00        Puzzle   \n",
       "6      New Super Mario Bros.       DS         2,006.00      Platform   \n",
       "7                   Wii Play      Wii         2,006.00          Misc   \n",
       "8  New Super Mario Bros. Wii      Wii         2,009.00      Platform   \n",
       "9                  Duck Hunt      NES         1,984.00       Shooter   \n",
       "\n",
       "   NA_sales  EU_sales  JP_sales  Other_sales  Critic_Score User_Score Rating  \n",
       "0     41.36     28.96      3.77         8.45         76.00          8      E  \n",
       "1     29.08      3.58      6.81         0.77           nan        NaN    NaN  \n",
       "2     15.68     12.76      3.79         3.29         82.00        8.3      E  \n",
       "3     15.61     10.93      3.28         2.95         80.00          8      E  \n",
       "4     11.27      8.89     10.22         1.00           nan        NaN    NaN  \n",
       "5     23.20      2.26      4.22         0.58           nan        NaN    NaN  \n",
       "6     11.28      9.14      6.50         2.88         89.00        8.5      E  \n",
       "7     13.96      9.18      2.93         2.84         58.00        6.6      E  \n",
       "8     14.44      6.94      4.70         2.24         87.00        8.4      E  \n",
       "9     26.93      0.63      0.28         0.47           nan        NaN    NaN  "
      ]
     },
     "execution_count": 4,
     "metadata": {},
     "output_type": "execute_result"
    }
   ],
   "source": [
    "data.head(10)"
   ]
  },
  {
   "cell_type": "markdown",
   "metadata": {
    "pycharm": {
     "name": "#%% md\n"
    }
   },
   "source": [
    "Посмотрим общую информацию о данных."
   ]
  },
  {
   "cell_type": "code",
   "execution_count": 5,
   "metadata": {
    "pycharm": {
     "name": "#%%\n"
    }
   },
   "outputs": [
    {
     "name": "stdout",
     "output_type": "stream",
     "text": [
      "<class 'pandas.core.frame.DataFrame'>\n",
      "RangeIndex: 16715 entries, 0 to 16714\n",
      "Data columns (total 11 columns):\n",
      "Name               16713 non-null object\n",
      "Platform           16715 non-null object\n",
      "Year_of_Release    16446 non-null float64\n",
      "Genre              16713 non-null object\n",
      "NA_sales           16715 non-null float64\n",
      "EU_sales           16715 non-null float64\n",
      "JP_sales           16715 non-null float64\n",
      "Other_sales        16715 non-null float64\n",
      "Critic_Score       8137 non-null float64\n",
      "User_Score         10014 non-null object\n",
      "Rating             9949 non-null object\n",
      "dtypes: float64(6), object(5)\n",
      "memory usage: 1.4+ MB\n"
     ]
    }
   ],
   "source": [
    "data.info()"
   ]
  },
  {
   "cell_type": "markdown",
   "metadata": {
    "pycharm": {
     "name": "#%% md\n"
    }
   },
   "source": [
    "Видно, что в некоторых столбцах есть пропущенные значения.\n",
    "\n",
    "Согласно документации, столбцы означают следующее:\n",
    "- `Name` — название игры\n",
    "- `Platform` — платформа\n",
    "- `Year_of_Release` — год выпуска\n",
    "- `Genre` — жанр игры\n",
    "- `NA_sales` — продажи в Северной Америке (миллионы проданных копий)\n",
    "- `EU_sales` — продажи в Европе (миллионы проданных копий)\n",
    "- `JP_sales` — продажи в Японии (миллионы проданных копий)\n",
    "- `Other_sales` — продажи в других странах (миллионы проданных копий)\n",
    "- `Critic_Score` — оценка критиков (максимум 100)\n",
    "- `User_Score` — оценка пользователей (максимум 10)\n",
    "- `Rating` — рейтинг от организации ESRB (англ. Entertainment Software Rating Board). Эта ассоциация определяет рейтинг компьютерных игр и присваивает им подходящую возрастную категорию."
   ]
  },
  {
   "cell_type": "markdown",
   "metadata": {
    "pycharm": {
     "name": "#%% md\n"
    }
   },
   "source": [
    "Проведем еще одно описание данных в датасете."
   ]
  },
  {
   "cell_type": "code",
   "execution_count": 6,
   "metadata": {
    "pycharm": {
     "name": "#%%\n"
    }
   },
   "outputs": [
    {
     "data": {
      "text/html": [
       "<div>\n",
       "<style scoped>\n",
       "    .dataframe tbody tr th:only-of-type {\n",
       "        vertical-align: middle;\n",
       "    }\n",
       "\n",
       "    .dataframe tbody tr th {\n",
       "        vertical-align: top;\n",
       "    }\n",
       "\n",
       "    .dataframe thead th {\n",
       "        text-align: right;\n",
       "    }\n",
       "</style>\n",
       "<table border=\"1\" class=\"dataframe\">\n",
       "  <thead>\n",
       "    <tr style=\"text-align: right;\">\n",
       "      <th></th>\n",
       "      <th>Year_of_Release</th>\n",
       "      <th>NA_sales</th>\n",
       "      <th>EU_sales</th>\n",
       "      <th>JP_sales</th>\n",
       "      <th>Other_sales</th>\n",
       "      <th>Critic_Score</th>\n",
       "    </tr>\n",
       "  </thead>\n",
       "  <tbody>\n",
       "    <tr>\n",
       "      <td>count</td>\n",
       "      <td>16,446.00</td>\n",
       "      <td>16,715.00</td>\n",
       "      <td>16,715.00</td>\n",
       "      <td>16,715.00</td>\n",
       "      <td>16,715.00</td>\n",
       "      <td>8,137.00</td>\n",
       "    </tr>\n",
       "    <tr>\n",
       "      <td>mean</td>\n",
       "      <td>2,006.48</td>\n",
       "      <td>0.26</td>\n",
       "      <td>0.15</td>\n",
       "      <td>0.08</td>\n",
       "      <td>0.05</td>\n",
       "      <td>68.97</td>\n",
       "    </tr>\n",
       "    <tr>\n",
       "      <td>std</td>\n",
       "      <td>5.88</td>\n",
       "      <td>0.81</td>\n",
       "      <td>0.50</td>\n",
       "      <td>0.31</td>\n",
       "      <td>0.19</td>\n",
       "      <td>13.94</td>\n",
       "    </tr>\n",
       "    <tr>\n",
       "      <td>min</td>\n",
       "      <td>1,980.00</td>\n",
       "      <td>0.00</td>\n",
       "      <td>0.00</td>\n",
       "      <td>0.00</td>\n",
       "      <td>0.00</td>\n",
       "      <td>13.00</td>\n",
       "    </tr>\n",
       "    <tr>\n",
       "      <td>25%</td>\n",
       "      <td>2,003.00</td>\n",
       "      <td>0.00</td>\n",
       "      <td>0.00</td>\n",
       "      <td>0.00</td>\n",
       "      <td>0.00</td>\n",
       "      <td>60.00</td>\n",
       "    </tr>\n",
       "    <tr>\n",
       "      <td>50%</td>\n",
       "      <td>2,007.00</td>\n",
       "      <td>0.08</td>\n",
       "      <td>0.02</td>\n",
       "      <td>0.00</td>\n",
       "      <td>0.01</td>\n",
       "      <td>71.00</td>\n",
       "    </tr>\n",
       "    <tr>\n",
       "      <td>75%</td>\n",
       "      <td>2,010.00</td>\n",
       "      <td>0.24</td>\n",
       "      <td>0.11</td>\n",
       "      <td>0.04</td>\n",
       "      <td>0.03</td>\n",
       "      <td>79.00</td>\n",
       "    </tr>\n",
       "    <tr>\n",
       "      <td>max</td>\n",
       "      <td>2,016.00</td>\n",
       "      <td>41.36</td>\n",
       "      <td>28.96</td>\n",
       "      <td>10.22</td>\n",
       "      <td>10.57</td>\n",
       "      <td>98.00</td>\n",
       "    </tr>\n",
       "  </tbody>\n",
       "</table>\n",
       "</div>"
      ],
      "text/plain": [
       "       Year_of_Release  NA_sales  EU_sales  JP_sales  Other_sales  \\\n",
       "count        16,446.00 16,715.00 16,715.00 16,715.00    16,715.00   \n",
       "mean          2,006.48      0.26      0.15      0.08         0.05   \n",
       "std               5.88      0.81      0.50      0.31         0.19   \n",
       "min           1,980.00      0.00      0.00      0.00         0.00   \n",
       "25%           2,003.00      0.00      0.00      0.00         0.00   \n",
       "50%           2,007.00      0.08      0.02      0.00         0.01   \n",
       "75%           2,010.00      0.24      0.11      0.04         0.03   \n",
       "max           2,016.00     41.36     28.96     10.22        10.57   \n",
       "\n",
       "       Critic_Score  \n",
       "count      8,137.00  \n",
       "mean          68.97  \n",
       "std           13.94  \n",
       "min           13.00  \n",
       "25%           60.00  \n",
       "50%           71.00  \n",
       "75%           79.00  \n",
       "max           98.00  "
      ]
     },
     "execution_count": 6,
     "metadata": {},
     "output_type": "execute_result"
    }
   ],
   "source": [
    "data.describe()"
   ]
  },
  {
   "cell_type": "markdown",
   "metadata": {
    "pycharm": {
     "name": "#%% md\n"
    }
   },
   "source": [
    "Видно, что для некоторых игр количество проданных копий составляет 0. Либо данных по этим играм нет, либо эти игры совсем никому были не нужны..."
   ]
  },
  {
   "cell_type": "markdown",
   "metadata": {
    "pycharm": {
     "name": "#%% md\n"
    }
   },
   "source": [
    "**Вывод:**\n",
    "\n",
    "- Были изучены данные, представленные в датасете. \n",
    "- В столбцах есть нарушения стиля написания, отсутствующие значения и \"выбросы\"."
   ]
  },
  {
   "cell_type": "markdown",
   "metadata": {
    "pycharm": {
     "name": "#%% md\n"
    }
   },
   "source": [
    "## Подготовка данных"
   ]
  },
  {
   "cell_type": "markdown",
   "metadata": {
    "pycharm": {
     "name": "#%% md\n"
    }
   },
   "source": [
    "### Замена названий столбцов"
   ]
  },
  {
   "cell_type": "markdown",
   "metadata": {
    "pycharm": {
     "name": "#%% md\n"
    }
   },
   "source": [
    "Приведем названия столбцов к нижнему регистру. \n",
    "\n",
    "Выведем новый датасет на экран."
   ]
  },
  {
   "cell_type": "code",
   "execution_count": 7,
   "metadata": {
    "pycharm": {
     "name": "#%%\n"
    }
   },
   "outputs": [
    {
     "data": {
      "text/html": [
       "<div>\n",
       "<style scoped>\n",
       "    .dataframe tbody tr th:only-of-type {\n",
       "        vertical-align: middle;\n",
       "    }\n",
       "\n",
       "    .dataframe tbody tr th {\n",
       "        vertical-align: top;\n",
       "    }\n",
       "\n",
       "    .dataframe thead th {\n",
       "        text-align: right;\n",
       "    }\n",
       "</style>\n",
       "<table border=\"1\" class=\"dataframe\">\n",
       "  <thead>\n",
       "    <tr style=\"text-align: right;\">\n",
       "      <th></th>\n",
       "      <th>name</th>\n",
       "      <th>platform</th>\n",
       "      <th>year_of_release</th>\n",
       "      <th>genre</th>\n",
       "      <th>na_sales</th>\n",
       "      <th>eu_sales</th>\n",
       "      <th>jp_sales</th>\n",
       "      <th>other_sales</th>\n",
       "      <th>critic_score</th>\n",
       "      <th>user_score</th>\n",
       "      <th>rating</th>\n",
       "    </tr>\n",
       "  </thead>\n",
       "  <tbody>\n",
       "    <tr>\n",
       "      <td>0</td>\n",
       "      <td>Wii Sports</td>\n",
       "      <td>Wii</td>\n",
       "      <td>2,006.00</td>\n",
       "      <td>Sports</td>\n",
       "      <td>41.36</td>\n",
       "      <td>28.96</td>\n",
       "      <td>3.77</td>\n",
       "      <td>8.45</td>\n",
       "      <td>76.00</td>\n",
       "      <td>8</td>\n",
       "      <td>E</td>\n",
       "    </tr>\n",
       "    <tr>\n",
       "      <td>1</td>\n",
       "      <td>Super Mario Bros.</td>\n",
       "      <td>NES</td>\n",
       "      <td>1,985.00</td>\n",
       "      <td>Platform</td>\n",
       "      <td>29.08</td>\n",
       "      <td>3.58</td>\n",
       "      <td>6.81</td>\n",
       "      <td>0.77</td>\n",
       "      <td>nan</td>\n",
       "      <td>NaN</td>\n",
       "      <td>NaN</td>\n",
       "    </tr>\n",
       "    <tr>\n",
       "      <td>2</td>\n",
       "      <td>Mario Kart Wii</td>\n",
       "      <td>Wii</td>\n",
       "      <td>2,008.00</td>\n",
       "      <td>Racing</td>\n",
       "      <td>15.68</td>\n",
       "      <td>12.76</td>\n",
       "      <td>3.79</td>\n",
       "      <td>3.29</td>\n",
       "      <td>82.00</td>\n",
       "      <td>8.3</td>\n",
       "      <td>E</td>\n",
       "    </tr>\n",
       "    <tr>\n",
       "      <td>3</td>\n",
       "      <td>Wii Sports Resort</td>\n",
       "      <td>Wii</td>\n",
       "      <td>2,009.00</td>\n",
       "      <td>Sports</td>\n",
       "      <td>15.61</td>\n",
       "      <td>10.93</td>\n",
       "      <td>3.28</td>\n",
       "      <td>2.95</td>\n",
       "      <td>80.00</td>\n",
       "      <td>8</td>\n",
       "      <td>E</td>\n",
       "    </tr>\n",
       "    <tr>\n",
       "      <td>4</td>\n",
       "      <td>Pokemon Red/Pokemon Blue</td>\n",
       "      <td>GB</td>\n",
       "      <td>1,996.00</td>\n",
       "      <td>Role-Playing</td>\n",
       "      <td>11.27</td>\n",
       "      <td>8.89</td>\n",
       "      <td>10.22</td>\n",
       "      <td>1.00</td>\n",
       "      <td>nan</td>\n",
       "      <td>NaN</td>\n",
       "      <td>NaN</td>\n",
       "    </tr>\n",
       "    <tr>\n",
       "      <td>5</td>\n",
       "      <td>Tetris</td>\n",
       "      <td>GB</td>\n",
       "      <td>1,989.00</td>\n",
       "      <td>Puzzle</td>\n",
       "      <td>23.20</td>\n",
       "      <td>2.26</td>\n",
       "      <td>4.22</td>\n",
       "      <td>0.58</td>\n",
       "      <td>nan</td>\n",
       "      <td>NaN</td>\n",
       "      <td>NaN</td>\n",
       "    </tr>\n",
       "    <tr>\n",
       "      <td>6</td>\n",
       "      <td>New Super Mario Bros.</td>\n",
       "      <td>DS</td>\n",
       "      <td>2,006.00</td>\n",
       "      <td>Platform</td>\n",
       "      <td>11.28</td>\n",
       "      <td>9.14</td>\n",
       "      <td>6.50</td>\n",
       "      <td>2.88</td>\n",
       "      <td>89.00</td>\n",
       "      <td>8.5</td>\n",
       "      <td>E</td>\n",
       "    </tr>\n",
       "    <tr>\n",
       "      <td>7</td>\n",
       "      <td>Wii Play</td>\n",
       "      <td>Wii</td>\n",
       "      <td>2,006.00</td>\n",
       "      <td>Misc</td>\n",
       "      <td>13.96</td>\n",
       "      <td>9.18</td>\n",
       "      <td>2.93</td>\n",
       "      <td>2.84</td>\n",
       "      <td>58.00</td>\n",
       "      <td>6.6</td>\n",
       "      <td>E</td>\n",
       "    </tr>\n",
       "    <tr>\n",
       "      <td>8</td>\n",
       "      <td>New Super Mario Bros. Wii</td>\n",
       "      <td>Wii</td>\n",
       "      <td>2,009.00</td>\n",
       "      <td>Platform</td>\n",
       "      <td>14.44</td>\n",
       "      <td>6.94</td>\n",
       "      <td>4.70</td>\n",
       "      <td>2.24</td>\n",
       "      <td>87.00</td>\n",
       "      <td>8.4</td>\n",
       "      <td>E</td>\n",
       "    </tr>\n",
       "    <tr>\n",
       "      <td>9</td>\n",
       "      <td>Duck Hunt</td>\n",
       "      <td>NES</td>\n",
       "      <td>1,984.00</td>\n",
       "      <td>Shooter</td>\n",
       "      <td>26.93</td>\n",
       "      <td>0.63</td>\n",
       "      <td>0.28</td>\n",
       "      <td>0.47</td>\n",
       "      <td>nan</td>\n",
       "      <td>NaN</td>\n",
       "      <td>NaN</td>\n",
       "    </tr>\n",
       "  </tbody>\n",
       "</table>\n",
       "</div>"
      ],
      "text/plain": [
       "                        name platform  year_of_release         genre  \\\n",
       "0                 Wii Sports      Wii         2,006.00        Sports   \n",
       "1          Super Mario Bros.      NES         1,985.00      Platform   \n",
       "2             Mario Kart Wii      Wii         2,008.00        Racing   \n",
       "3          Wii Sports Resort      Wii         2,009.00        Sports   \n",
       "4   Pokemon Red/Pokemon Blue       GB         1,996.00  Role-Playing   \n",
       "5                     Tetris       GB         1,989.00        Puzzle   \n",
       "6      New Super Mario Bros.       DS         2,006.00      Platform   \n",
       "7                   Wii Play      Wii         2,006.00          Misc   \n",
       "8  New Super Mario Bros. Wii      Wii         2,009.00      Platform   \n",
       "9                  Duck Hunt      NES         1,984.00       Shooter   \n",
       "\n",
       "   na_sales  eu_sales  jp_sales  other_sales  critic_score user_score rating  \n",
       "0     41.36     28.96      3.77         8.45         76.00          8      E  \n",
       "1     29.08      3.58      6.81         0.77           nan        NaN    NaN  \n",
       "2     15.68     12.76      3.79         3.29         82.00        8.3      E  \n",
       "3     15.61     10.93      3.28         2.95         80.00          8      E  \n",
       "4     11.27      8.89     10.22         1.00           nan        NaN    NaN  \n",
       "5     23.20      2.26      4.22         0.58           nan        NaN    NaN  \n",
       "6     11.28      9.14      6.50         2.88         89.00        8.5      E  \n",
       "7     13.96      9.18      2.93         2.84         58.00        6.6      E  \n",
       "8     14.44      6.94      4.70         2.24         87.00        8.4      E  \n",
       "9     26.93      0.63      0.28         0.47           nan        NaN    NaN  "
      ]
     },
     "execution_count": 7,
     "metadata": {},
     "output_type": "execute_result"
    }
   ],
   "source": [
    "data = data.rename(str.lower, axis='columns')\n",
    "data.head(10)"
   ]
  },
  {
   "cell_type": "markdown",
   "metadata": {
    "pycharm": {
     "name": "#%% md\n"
    }
   },
   "source": [
    "### Преобразование типов данных"
   ]
  },
  {
   "cell_type": "markdown",
   "metadata": {
    "pycharm": {
     "name": "#%% md\n"
    }
   },
   "source": [
    "Посмотрим еще раз на типы данных в столбцах."
   ]
  },
  {
   "cell_type": "code",
   "execution_count": 8,
   "metadata": {
    "pycharm": {
     "name": "#%%\n"
    }
   },
   "outputs": [
    {
     "data": {
      "text/plain": [
       "name                object\n",
       "platform            object\n",
       "year_of_release    float64\n",
       "genre               object\n",
       "na_sales           float64\n",
       "eu_sales           float64\n",
       "jp_sales           float64\n",
       "other_sales        float64\n",
       "critic_score       float64\n",
       "user_score          object\n",
       "rating              object\n",
       "dtype: object"
      ]
     },
     "execution_count": 8,
     "metadata": {},
     "output_type": "execute_result"
    }
   ],
   "source": [
    "data.dtypes"
   ]
  },
  {
   "cell_type": "markdown",
   "metadata": {
    "pycharm": {
     "name": "#%% md\n"
    }
   },
   "source": [
    "Можно заменить:\n",
    "- Тип данных в столбце `year_of_release` на `int`.\n",
    "- Тип данных в столбце `user_score` и `rating` на `float`."
   ]
  },
  {
   "cell_type": "markdown",
   "metadata": {
    "pycharm": {
     "name": "#%% md\n"
    }
   },
   "source": [
    "Заменим тип данных в столбце `year_of_release`, сначала изменив все отсутсвующие значения на 0."
   ]
  },
  {
   "cell_type": "code",
   "execution_count": 9,
   "metadata": {
    "pycharm": {
     "name": "#%%\n"
    }
   },
   "outputs": [],
   "source": [
    "data['year_of_release'] = data['year_of_release'].fillna(0).astype('int')"
   ]
  },
  {
   "cell_type": "markdown",
   "metadata": {
    "pycharm": {
     "name": "#%% md\n"
    }
   },
   "source": [
    "В столбце `user_score` заменим значение `tbd` или `To Be Determined`, которое означает, что рейтинг по этим играм еще не был определен, на 0."
   ]
  },
  {
   "cell_type": "code",
   "execution_count": 10,
   "metadata": {
    "pycharm": {
     "name": "#%%\n"
    }
   },
   "outputs": [],
   "source": [
    "data['user_score'].replace('tbd',0,inplace=True)"
   ]
  },
  {
   "cell_type": "markdown",
   "metadata": {
    "pycharm": {
     "name": "#%% md\n"
    }
   },
   "source": [
    "Теперь можно заменить типы данных в столбцах с рейтингом."
   ]
  },
  {
   "cell_type": "code",
   "execution_count": 11,
   "metadata": {
    "pycharm": {
     "name": "#%%\n"
    }
   },
   "outputs": [],
   "source": [
    "columns_to_replace = ['critic_score', 'user_score']\n",
    "for column in columns_to_replace:\n",
    "    data[column] = data[column].fillna(0).astype('float')"
   ]
  },
  {
   "cell_type": "markdown",
   "metadata": {
    "pycharm": {
     "name": "#%% md\n"
    }
   },
   "source": [
    "Проверим еще раз типы данных в столбцах."
   ]
  },
  {
   "cell_type": "code",
   "execution_count": 12,
   "metadata": {
    "pycharm": {
     "name": "#%%\n"
    }
   },
   "outputs": [
    {
     "data": {
      "text/plain": [
       "name                object\n",
       "platform            object\n",
       "year_of_release      int64\n",
       "genre               object\n",
       "na_sales           float64\n",
       "eu_sales           float64\n",
       "jp_sales           float64\n",
       "other_sales        float64\n",
       "critic_score       float64\n",
       "user_score         float64\n",
       "rating              object\n",
       "dtype: object"
      ]
     },
     "execution_count": 12,
     "metadata": {},
     "output_type": "execute_result"
    }
   ],
   "source": [
    "data.dtypes"
   ]
  },
  {
   "cell_type": "markdown",
   "metadata": {
    "pycharm": {
     "name": "#%% md\n"
    }
   },
   "source": [
    "### Обработка пропусков"
   ]
  },
  {
   "cell_type": "markdown",
   "metadata": {
    "pycharm": {
     "name": "#%% md\n"
    }
   },
   "source": [
    "Сначала посчитаем количество пропусков в каждом столбце."
   ]
  },
  {
   "cell_type": "code",
   "execution_count": 13,
   "metadata": {
    "pycharm": {
     "name": "#%%\n"
    }
   },
   "outputs": [
    {
     "data": {
      "text/plain": [
       "name                  2\n",
       "platform              0\n",
       "year_of_release       0\n",
       "genre                 2\n",
       "na_sales              0\n",
       "eu_sales              0\n",
       "jp_sales              0\n",
       "other_sales           0\n",
       "critic_score          0\n",
       "user_score            0\n",
       "rating             6766\n",
       "dtype: int64"
      ]
     },
     "execution_count": 13,
     "metadata": {},
     "output_type": "execute_result"
    }
   ],
   "source": [
    "data.isna().sum()"
   ]
  },
  {
   "cell_type": "markdown",
   "metadata": {
    "pycharm": {
     "name": "#%% md\n"
    }
   },
   "source": [
    "Теперь посмотрим на пропуски в столбцах, в которых они присутствуют.\n"
   ]
  },
  {
   "cell_type": "markdown",
   "metadata": {
    "pycharm": {
     "name": "#%% md\n"
    }
   },
   "source": [
    "#### `name` и `genre`"
   ]
  },
  {
   "cell_type": "code",
   "execution_count": 14,
   "metadata": {
    "pycharm": {
     "name": "#%%\n"
    }
   },
   "outputs": [
    {
     "data": {
      "text/html": [
       "<div>\n",
       "<style scoped>\n",
       "    .dataframe tbody tr th:only-of-type {\n",
       "        vertical-align: middle;\n",
       "    }\n",
       "\n",
       "    .dataframe tbody tr th {\n",
       "        vertical-align: top;\n",
       "    }\n",
       "\n",
       "    .dataframe thead th {\n",
       "        text-align: right;\n",
       "    }\n",
       "</style>\n",
       "<table border=\"1\" class=\"dataframe\">\n",
       "  <thead>\n",
       "    <tr style=\"text-align: right;\">\n",
       "      <th></th>\n",
       "      <th>name</th>\n",
       "      <th>platform</th>\n",
       "      <th>year_of_release</th>\n",
       "      <th>genre</th>\n",
       "      <th>na_sales</th>\n",
       "      <th>eu_sales</th>\n",
       "      <th>jp_sales</th>\n",
       "      <th>other_sales</th>\n",
       "      <th>critic_score</th>\n",
       "      <th>user_score</th>\n",
       "      <th>rating</th>\n",
       "    </tr>\n",
       "  </thead>\n",
       "  <tbody>\n",
       "    <tr>\n",
       "      <td>659</td>\n",
       "      <td>NaN</td>\n",
       "      <td>GEN</td>\n",
       "      <td>1993</td>\n",
       "      <td>NaN</td>\n",
       "      <td>1.78</td>\n",
       "      <td>0.53</td>\n",
       "      <td>0.00</td>\n",
       "      <td>0.08</td>\n",
       "      <td>0.00</td>\n",
       "      <td>0.00</td>\n",
       "      <td>NaN</td>\n",
       "    </tr>\n",
       "    <tr>\n",
       "      <td>14244</td>\n",
       "      <td>NaN</td>\n",
       "      <td>GEN</td>\n",
       "      <td>1993</td>\n",
       "      <td>NaN</td>\n",
       "      <td>0.00</td>\n",
       "      <td>0.00</td>\n",
       "      <td>0.03</td>\n",
       "      <td>0.00</td>\n",
       "      <td>0.00</td>\n",
       "      <td>0.00</td>\n",
       "      <td>NaN</td>\n",
       "    </tr>\n",
       "  </tbody>\n",
       "</table>\n",
       "</div>"
      ],
      "text/plain": [
       "      name platform  year_of_release genre  na_sales  eu_sales  jp_sales  \\\n",
       "659    NaN      GEN             1993   NaN      1.78      0.53      0.00   \n",
       "14244  NaN      GEN             1993   NaN      0.00      0.00      0.03   \n",
       "\n",
       "       other_sales  critic_score  user_score rating  \n",
       "659           0.08          0.00        0.00    NaN  \n",
       "14244         0.00          0.00        0.00    NaN  "
      ]
     },
     "execution_count": 14,
     "metadata": {},
     "output_type": "execute_result"
    }
   ],
   "source": [
    "data[data['name'].isna()]"
   ]
  },
  {
   "cell_type": "markdown",
   "metadata": {
    "pycharm": {
     "name": "#%% md\n"
    }
   },
   "source": [
    "Видно, что в данном случае есть какая-то игра, для которой не известно и название, и жанр.\n",
    "Можно заменить эти значения на `unknown`."
   ]
  },
  {
   "cell_type": "code",
   "execution_count": 15,
   "metadata": {
    "pycharm": {
     "name": "#%%\n"
    }
   },
   "outputs": [],
   "source": [
    "data['name'].fillna('unknown',inplace=True)\n",
    "data['genre'].fillna('unknown',inplace=True)"
   ]
  },
  {
   "cell_type": "markdown",
   "metadata": {
    "pycharm": {
     "name": "#%% md\n"
    }
   },
   "source": [
    "#### `rating`"
   ]
  },
  {
   "cell_type": "markdown",
   "metadata": {
    "pycharm": {
     "name": "#%% md\n"
    }
   },
   "source": [
    "Сначала посмотрим список уникальных значений столбца."
   ]
  },
  {
   "cell_type": "code",
   "execution_count": 16,
   "metadata": {
    "pycharm": {
     "name": "#%%\n"
    }
   },
   "outputs": [
    {
     "data": {
      "text/plain": [
       "array(['E', nan, 'M', 'T', 'E10+', 'K-A', 'AO', 'EC', 'RP'], dtype=object)"
      ]
     },
     "execution_count": 16,
     "metadata": {},
     "output_type": "execute_result"
    }
   ],
   "source": [
    "data['rating'].unique()"
   ]
  },
  {
   "cell_type": "markdown",
   "metadata": {
    "pycharm": {
     "name": "#%% md\n"
    }
   },
   "source": [
    "Согласно [Википедии](https://ru.wikipedia.org/wiki/Entertainment_Software_Rating_Board), рейтинг `K-A` или `Kids to Adults` в настоящее время был замен на `E` или `Everyone`. Также в датасете есть игры в рейтингом `E-C` или `Early Childhood`, который также можно заменить на `E`."
   ]
  },
  {
   "cell_type": "code",
   "execution_count": 17,
   "metadata": {
    "pycharm": {
     "name": "#%%\n"
    }
   },
   "outputs": [],
   "source": [
    "data.replace(['K-A', 'EC'], 'E', inplace=True)"
   ]
  },
  {
   "cell_type": "markdown",
   "metadata": {
    "pycharm": {
     "name": "#%% md\n"
    }
   },
   "source": [
    "Теперь посмотрим на игры без рейтинга."
   ]
  },
  {
   "cell_type": "code",
   "execution_count": 18,
   "metadata": {
    "pycharm": {
     "name": "#%%\n"
    }
   },
   "outputs": [
    {
     "data": {
      "text/html": [
       "<div>\n",
       "<style scoped>\n",
       "    .dataframe tbody tr th:only-of-type {\n",
       "        vertical-align: middle;\n",
       "    }\n",
       "\n",
       "    .dataframe tbody tr th {\n",
       "        vertical-align: top;\n",
       "    }\n",
       "\n",
       "    .dataframe thead th {\n",
       "        text-align: right;\n",
       "    }\n",
       "</style>\n",
       "<table border=\"1\" class=\"dataframe\">\n",
       "  <thead>\n",
       "    <tr style=\"text-align: right;\">\n",
       "      <th></th>\n",
       "      <th>name</th>\n",
       "      <th>platform</th>\n",
       "      <th>year_of_release</th>\n",
       "      <th>genre</th>\n",
       "      <th>na_sales</th>\n",
       "      <th>eu_sales</th>\n",
       "      <th>jp_sales</th>\n",
       "      <th>other_sales</th>\n",
       "      <th>critic_score</th>\n",
       "      <th>user_score</th>\n",
       "      <th>rating</th>\n",
       "    </tr>\n",
       "  </thead>\n",
       "  <tbody>\n",
       "    <tr>\n",
       "      <td>1</td>\n",
       "      <td>Super Mario Bros.</td>\n",
       "      <td>NES</td>\n",
       "      <td>1985</td>\n",
       "      <td>Platform</td>\n",
       "      <td>29.08</td>\n",
       "      <td>3.58</td>\n",
       "      <td>6.81</td>\n",
       "      <td>0.77</td>\n",
       "      <td>0.00</td>\n",
       "      <td>0.00</td>\n",
       "      <td>NaN</td>\n",
       "    </tr>\n",
       "    <tr>\n",
       "      <td>4</td>\n",
       "      <td>Pokemon Red/Pokemon Blue</td>\n",
       "      <td>GB</td>\n",
       "      <td>1996</td>\n",
       "      <td>Role-Playing</td>\n",
       "      <td>11.27</td>\n",
       "      <td>8.89</td>\n",
       "      <td>10.22</td>\n",
       "      <td>1.00</td>\n",
       "      <td>0.00</td>\n",
       "      <td>0.00</td>\n",
       "      <td>NaN</td>\n",
       "    </tr>\n",
       "    <tr>\n",
       "      <td>5</td>\n",
       "      <td>Tetris</td>\n",
       "      <td>GB</td>\n",
       "      <td>1989</td>\n",
       "      <td>Puzzle</td>\n",
       "      <td>23.20</td>\n",
       "      <td>2.26</td>\n",
       "      <td>4.22</td>\n",
       "      <td>0.58</td>\n",
       "      <td>0.00</td>\n",
       "      <td>0.00</td>\n",
       "      <td>NaN</td>\n",
       "    </tr>\n",
       "    <tr>\n",
       "      <td>9</td>\n",
       "      <td>Duck Hunt</td>\n",
       "      <td>NES</td>\n",
       "      <td>1984</td>\n",
       "      <td>Shooter</td>\n",
       "      <td>26.93</td>\n",
       "      <td>0.63</td>\n",
       "      <td>0.28</td>\n",
       "      <td>0.47</td>\n",
       "      <td>0.00</td>\n",
       "      <td>0.00</td>\n",
       "      <td>NaN</td>\n",
       "    </tr>\n",
       "    <tr>\n",
       "      <td>10</td>\n",
       "      <td>Nintendogs</td>\n",
       "      <td>DS</td>\n",
       "      <td>2005</td>\n",
       "      <td>Simulation</td>\n",
       "      <td>9.05</td>\n",
       "      <td>10.95</td>\n",
       "      <td>1.93</td>\n",
       "      <td>2.74</td>\n",
       "      <td>0.00</td>\n",
       "      <td>0.00</td>\n",
       "      <td>NaN</td>\n",
       "    </tr>\n",
       "    <tr>\n",
       "      <td>...</td>\n",
       "      <td>...</td>\n",
       "      <td>...</td>\n",
       "      <td>...</td>\n",
       "      <td>...</td>\n",
       "      <td>...</td>\n",
       "      <td>...</td>\n",
       "      <td>...</td>\n",
       "      <td>...</td>\n",
       "      <td>...</td>\n",
       "      <td>...</td>\n",
       "      <td>...</td>\n",
       "    </tr>\n",
       "    <tr>\n",
       "      <td>16710</td>\n",
       "      <td>Samurai Warriors: Sanada Maru</td>\n",
       "      <td>PS3</td>\n",
       "      <td>2016</td>\n",
       "      <td>Action</td>\n",
       "      <td>0.00</td>\n",
       "      <td>0.00</td>\n",
       "      <td>0.01</td>\n",
       "      <td>0.00</td>\n",
       "      <td>0.00</td>\n",
       "      <td>0.00</td>\n",
       "      <td>NaN</td>\n",
       "    </tr>\n",
       "    <tr>\n",
       "      <td>16711</td>\n",
       "      <td>LMA Manager 2007</td>\n",
       "      <td>X360</td>\n",
       "      <td>2006</td>\n",
       "      <td>Sports</td>\n",
       "      <td>0.00</td>\n",
       "      <td>0.01</td>\n",
       "      <td>0.00</td>\n",
       "      <td>0.00</td>\n",
       "      <td>0.00</td>\n",
       "      <td>0.00</td>\n",
       "      <td>NaN</td>\n",
       "    </tr>\n",
       "    <tr>\n",
       "      <td>16712</td>\n",
       "      <td>Haitaka no Psychedelica</td>\n",
       "      <td>PSV</td>\n",
       "      <td>2016</td>\n",
       "      <td>Adventure</td>\n",
       "      <td>0.00</td>\n",
       "      <td>0.00</td>\n",
       "      <td>0.01</td>\n",
       "      <td>0.00</td>\n",
       "      <td>0.00</td>\n",
       "      <td>0.00</td>\n",
       "      <td>NaN</td>\n",
       "    </tr>\n",
       "    <tr>\n",
       "      <td>16713</td>\n",
       "      <td>Spirits &amp; Spells</td>\n",
       "      <td>GBA</td>\n",
       "      <td>2003</td>\n",
       "      <td>Platform</td>\n",
       "      <td>0.01</td>\n",
       "      <td>0.00</td>\n",
       "      <td>0.00</td>\n",
       "      <td>0.00</td>\n",
       "      <td>0.00</td>\n",
       "      <td>0.00</td>\n",
       "      <td>NaN</td>\n",
       "    </tr>\n",
       "    <tr>\n",
       "      <td>16714</td>\n",
       "      <td>Winning Post 8 2016</td>\n",
       "      <td>PSV</td>\n",
       "      <td>2016</td>\n",
       "      <td>Simulation</td>\n",
       "      <td>0.00</td>\n",
       "      <td>0.00</td>\n",
       "      <td>0.01</td>\n",
       "      <td>0.00</td>\n",
       "      <td>0.00</td>\n",
       "      <td>0.00</td>\n",
       "      <td>NaN</td>\n",
       "    </tr>\n",
       "  </tbody>\n",
       "</table>\n",
       "<p>6766 rows × 11 columns</p>\n",
       "</div>"
      ],
      "text/plain": [
       "                                name platform  year_of_release         genre  \\\n",
       "1                  Super Mario Bros.      NES             1985      Platform   \n",
       "4           Pokemon Red/Pokemon Blue       GB             1996  Role-Playing   \n",
       "5                             Tetris       GB             1989        Puzzle   \n",
       "9                          Duck Hunt      NES             1984       Shooter   \n",
       "10                        Nintendogs       DS             2005    Simulation   \n",
       "...                              ...      ...              ...           ...   \n",
       "16710  Samurai Warriors: Sanada Maru      PS3             2016        Action   \n",
       "16711               LMA Manager 2007     X360             2006        Sports   \n",
       "16712        Haitaka no Psychedelica      PSV             2016     Adventure   \n",
       "16713               Spirits & Spells      GBA             2003      Platform   \n",
       "16714            Winning Post 8 2016      PSV             2016    Simulation   \n",
       "\n",
       "       na_sales  eu_sales  jp_sales  other_sales  critic_score  user_score  \\\n",
       "1         29.08      3.58      6.81         0.77          0.00        0.00   \n",
       "4         11.27      8.89     10.22         1.00          0.00        0.00   \n",
       "5         23.20      2.26      4.22         0.58          0.00        0.00   \n",
       "9         26.93      0.63      0.28         0.47          0.00        0.00   \n",
       "10         9.05     10.95      1.93         2.74          0.00        0.00   \n",
       "...         ...       ...       ...          ...           ...         ...   \n",
       "16710      0.00      0.00      0.01         0.00          0.00        0.00   \n",
       "16711      0.00      0.01      0.00         0.00          0.00        0.00   \n",
       "16712      0.00      0.00      0.01         0.00          0.00        0.00   \n",
       "16713      0.01      0.00      0.00         0.00          0.00        0.00   \n",
       "16714      0.00      0.00      0.01         0.00          0.00        0.00   \n",
       "\n",
       "      rating  \n",
       "1        NaN  \n",
       "4        NaN  \n",
       "5        NaN  \n",
       "9        NaN  \n",
       "10       NaN  \n",
       "...      ...  \n",
       "16710    NaN  \n",
       "16711    NaN  \n",
       "16712    NaN  \n",
       "16713    NaN  \n",
       "16714    NaN  \n",
       "\n",
       "[6766 rows x 11 columns]"
      ]
     },
     "execution_count": 18,
     "metadata": {},
     "output_type": "execute_result"
    }
   ],
   "source": [
    "data[data['rating'].isna()]"
   ]
  },
  {
   "cell_type": "markdown",
   "metadata": {
    "pycharm": {
     "name": "#%% md\n"
    }
   },
   "source": [
    "Видно, что для большого числа строк в датасете рейтинг неопределен.\n",
    "\n",
    "Согласно той же [Википедии](https://ru.wikipedia.org/wiki/Entertainment_Software_Rating_Board), рейтинг начал свою работу в 1994 году. Проверим, сколько игр новее 1994 года в датасете без рейтинга."
   ]
  },
  {
   "cell_type": "code",
   "execution_count": 19,
   "metadata": {
    "pycharm": {
     "name": "#%%\n"
    }
   },
   "outputs": [
    {
     "data": {
      "text/html": [
       "<div>\n",
       "<style scoped>\n",
       "    .dataframe tbody tr th:only-of-type {\n",
       "        vertical-align: middle;\n",
       "    }\n",
       "\n",
       "    .dataframe tbody tr th {\n",
       "        vertical-align: top;\n",
       "    }\n",
       "\n",
       "    .dataframe thead th {\n",
       "        text-align: right;\n",
       "    }\n",
       "</style>\n",
       "<table border=\"1\" class=\"dataframe\">\n",
       "  <thead>\n",
       "    <tr style=\"text-align: right;\">\n",
       "      <th></th>\n",
       "      <th>name</th>\n",
       "      <th>platform</th>\n",
       "      <th>year_of_release</th>\n",
       "      <th>genre</th>\n",
       "      <th>na_sales</th>\n",
       "      <th>eu_sales</th>\n",
       "      <th>jp_sales</th>\n",
       "      <th>other_sales</th>\n",
       "      <th>critic_score</th>\n",
       "      <th>user_score</th>\n",
       "      <th>rating</th>\n",
       "    </tr>\n",
       "  </thead>\n",
       "  <tbody>\n",
       "    <tr>\n",
       "      <td>4</td>\n",
       "      <td>Pokemon Red/Pokemon Blue</td>\n",
       "      <td>GB</td>\n",
       "      <td>1996</td>\n",
       "      <td>Role-Playing</td>\n",
       "      <td>11.27</td>\n",
       "      <td>8.89</td>\n",
       "      <td>10.22</td>\n",
       "      <td>1.00</td>\n",
       "      <td>0.00</td>\n",
       "      <td>0.00</td>\n",
       "      <td>NaN</td>\n",
       "    </tr>\n",
       "    <tr>\n",
       "      <td>10</td>\n",
       "      <td>Nintendogs</td>\n",
       "      <td>DS</td>\n",
       "      <td>2005</td>\n",
       "      <td>Simulation</td>\n",
       "      <td>9.05</td>\n",
       "      <td>10.95</td>\n",
       "      <td>1.93</td>\n",
       "      <td>2.74</td>\n",
       "      <td>0.00</td>\n",
       "      <td>0.00</td>\n",
       "      <td>NaN</td>\n",
       "    </tr>\n",
       "    <tr>\n",
       "      <td>12</td>\n",
       "      <td>Pokemon Gold/Pokemon Silver</td>\n",
       "      <td>GB</td>\n",
       "      <td>1999</td>\n",
       "      <td>Role-Playing</td>\n",
       "      <td>9.00</td>\n",
       "      <td>6.18</td>\n",
       "      <td>7.20</td>\n",
       "      <td>0.71</td>\n",
       "      <td>0.00</td>\n",
       "      <td>0.00</td>\n",
       "      <td>NaN</td>\n",
       "    </tr>\n",
       "    <tr>\n",
       "      <td>20</td>\n",
       "      <td>Pokemon Diamond/Pokemon Pearl</td>\n",
       "      <td>DS</td>\n",
       "      <td>2006</td>\n",
       "      <td>Role-Playing</td>\n",
       "      <td>6.38</td>\n",
       "      <td>4.46</td>\n",
       "      <td>6.04</td>\n",
       "      <td>1.36</td>\n",
       "      <td>0.00</td>\n",
       "      <td>0.00</td>\n",
       "      <td>NaN</td>\n",
       "    </tr>\n",
       "    <tr>\n",
       "      <td>25</td>\n",
       "      <td>Pokemon Ruby/Pokemon Sapphire</td>\n",
       "      <td>GBA</td>\n",
       "      <td>2002</td>\n",
       "      <td>Role-Playing</td>\n",
       "      <td>6.06</td>\n",
       "      <td>3.90</td>\n",
       "      <td>5.38</td>\n",
       "      <td>0.50</td>\n",
       "      <td>0.00</td>\n",
       "      <td>0.00</td>\n",
       "      <td>NaN</td>\n",
       "    </tr>\n",
       "    <tr>\n",
       "      <td>...</td>\n",
       "      <td>...</td>\n",
       "      <td>...</td>\n",
       "      <td>...</td>\n",
       "      <td>...</td>\n",
       "      <td>...</td>\n",
       "      <td>...</td>\n",
       "      <td>...</td>\n",
       "      <td>...</td>\n",
       "      <td>...</td>\n",
       "      <td>...</td>\n",
       "      <td>...</td>\n",
       "    </tr>\n",
       "    <tr>\n",
       "      <td>16710</td>\n",
       "      <td>Samurai Warriors: Sanada Maru</td>\n",
       "      <td>PS3</td>\n",
       "      <td>2016</td>\n",
       "      <td>Action</td>\n",
       "      <td>0.00</td>\n",
       "      <td>0.00</td>\n",
       "      <td>0.01</td>\n",
       "      <td>0.00</td>\n",
       "      <td>0.00</td>\n",
       "      <td>0.00</td>\n",
       "      <td>NaN</td>\n",
       "    </tr>\n",
       "    <tr>\n",
       "      <td>16711</td>\n",
       "      <td>LMA Manager 2007</td>\n",
       "      <td>X360</td>\n",
       "      <td>2006</td>\n",
       "      <td>Sports</td>\n",
       "      <td>0.00</td>\n",
       "      <td>0.01</td>\n",
       "      <td>0.00</td>\n",
       "      <td>0.00</td>\n",
       "      <td>0.00</td>\n",
       "      <td>0.00</td>\n",
       "      <td>NaN</td>\n",
       "    </tr>\n",
       "    <tr>\n",
       "      <td>16712</td>\n",
       "      <td>Haitaka no Psychedelica</td>\n",
       "      <td>PSV</td>\n",
       "      <td>2016</td>\n",
       "      <td>Adventure</td>\n",
       "      <td>0.00</td>\n",
       "      <td>0.00</td>\n",
       "      <td>0.01</td>\n",
       "      <td>0.00</td>\n",
       "      <td>0.00</td>\n",
       "      <td>0.00</td>\n",
       "      <td>NaN</td>\n",
       "    </tr>\n",
       "    <tr>\n",
       "      <td>16713</td>\n",
       "      <td>Spirits &amp; Spells</td>\n",
       "      <td>GBA</td>\n",
       "      <td>2003</td>\n",
       "      <td>Platform</td>\n",
       "      <td>0.01</td>\n",
       "      <td>0.00</td>\n",
       "      <td>0.00</td>\n",
       "      <td>0.00</td>\n",
       "      <td>0.00</td>\n",
       "      <td>0.00</td>\n",
       "      <td>NaN</td>\n",
       "    </tr>\n",
       "    <tr>\n",
       "      <td>16714</td>\n",
       "      <td>Winning Post 8 2016</td>\n",
       "      <td>PSV</td>\n",
       "      <td>2016</td>\n",
       "      <td>Simulation</td>\n",
       "      <td>0.00</td>\n",
       "      <td>0.00</td>\n",
       "      <td>0.01</td>\n",
       "      <td>0.00</td>\n",
       "      <td>0.00</td>\n",
       "      <td>0.00</td>\n",
       "      <td>NaN</td>\n",
       "    </tr>\n",
       "  </tbody>\n",
       "</table>\n",
       "<p>6195 rows × 11 columns</p>\n",
       "</div>"
      ],
      "text/plain": [
       "                                name platform  year_of_release         genre  \\\n",
       "4           Pokemon Red/Pokemon Blue       GB             1996  Role-Playing   \n",
       "10                        Nintendogs       DS             2005    Simulation   \n",
       "12       Pokemon Gold/Pokemon Silver       GB             1999  Role-Playing   \n",
       "20     Pokemon Diamond/Pokemon Pearl       DS             2006  Role-Playing   \n",
       "25     Pokemon Ruby/Pokemon Sapphire      GBA             2002  Role-Playing   \n",
       "...                              ...      ...              ...           ...   \n",
       "16710  Samurai Warriors: Sanada Maru      PS3             2016        Action   \n",
       "16711               LMA Manager 2007     X360             2006        Sports   \n",
       "16712        Haitaka no Psychedelica      PSV             2016     Adventure   \n",
       "16713               Spirits & Spells      GBA             2003      Platform   \n",
       "16714            Winning Post 8 2016      PSV             2016    Simulation   \n",
       "\n",
       "       na_sales  eu_sales  jp_sales  other_sales  critic_score  user_score  \\\n",
       "4         11.27      8.89     10.22         1.00          0.00        0.00   \n",
       "10         9.05     10.95      1.93         2.74          0.00        0.00   \n",
       "12         9.00      6.18      7.20         0.71          0.00        0.00   \n",
       "20         6.38      4.46      6.04         1.36          0.00        0.00   \n",
       "25         6.06      3.90      5.38         0.50          0.00        0.00   \n",
       "...         ...       ...       ...          ...           ...         ...   \n",
       "16710      0.00      0.00      0.01         0.00          0.00        0.00   \n",
       "16711      0.00      0.01      0.00         0.00          0.00        0.00   \n",
       "16712      0.00      0.00      0.01         0.00          0.00        0.00   \n",
       "16713      0.01      0.00      0.00         0.00          0.00        0.00   \n",
       "16714      0.00      0.00      0.01         0.00          0.00        0.00   \n",
       "\n",
       "      rating  \n",
       "4        NaN  \n",
       "10       NaN  \n",
       "12       NaN  \n",
       "20       NaN  \n",
       "25       NaN  \n",
       "...      ...  \n",
       "16710    NaN  \n",
       "16711    NaN  \n",
       "16712    NaN  \n",
       "16713    NaN  \n",
       "16714    NaN  \n",
       "\n",
       "[6195 rows x 11 columns]"
      ]
     },
     "execution_count": 19,
     "metadata": {},
     "output_type": "execute_result"
    }
   ],
   "source": [
    "data[(data['rating'].isna()) & (data['year_of_release'] > 1994)]"
   ]
  },
  {
   "cell_type": "markdown",
   "metadata": {
    "pycharm": {
     "name": "#%% md\n"
    }
   },
   "source": [
    "Видно, что таких строк в датасете все еще много.\n",
    "\n",
    "Найти все рейтинги в данном случае будет достаточно проблематично, поэтому пока предлагается заменить пропуски в столбце на `unknown`."
   ]
  },
  {
   "cell_type": "code",
   "execution_count": 20,
   "metadata": {
    "pycharm": {
     "name": "#%%\n"
    }
   },
   "outputs": [],
   "source": [
    "data['rating'].fillna('unknown',inplace=True)"
   ]
  },
  {
   "cell_type": "markdown",
   "metadata": {
    "pycharm": {
     "name": "#%% md\n"
    }
   },
   "source": [
    "**Вывод:**\n",
    "\n",
    "В данном пункте была проведена подготовка данных:\n",
    "- Названия столбцов приведены к нижнему регистру.\n",
    "- Заменены типы данных в столбцах `year_of_release`, `critic_score` и `user_score`.\n",
    "- Были обнаружены устаревшие рейтинги в столбце `rating`, которые были заменены на их новые аналоги.\n",
    "- Было обнаружено большое количество отсутствующих значений рейтингов, которые были заменены на значение `unknown`."
   ]
  },
  {
   "cell_type": "markdown",
   "metadata": {
    "pycharm": {
     "name": "#%% md\n"
    }
   },
   "source": [
    "## Исследовательский анализ данных"
   ]
  },
  {
   "cell_type": "markdown",
   "metadata": {
    "pycharm": {
     "name": "#%% md\n"
    }
   },
   "source": [
    "### Количество выпускаемых игр"
   ]
  },
  {
   "cell_type": "markdown",
   "metadata": {
    "pycharm": {
     "name": "#%% md\n"
    }
   },
   "source": [
    "Посмотрим, сколько выпускалось игр в разные года."
   ]
  },
  {
   "cell_type": "code",
   "execution_count": 21,
   "metadata": {
    "pycharm": {
     "name": "#%%\n"
    }
   },
   "outputs": [
    {
     "data": {
      "text/plain": [
       "<matplotlib.axes._subplots.AxesSubplot at 0x7f8dc4578910>"
      ]
     },
     "execution_count": 21,
     "metadata": {},
     "output_type": "execute_result"
    },
    {
     "data": {
      "image/png": "[encoded data removed]",
      "text/plain": [
       "<Figure size 576x432 with 1 Axes>"
      ]
     },
     "metadata": {
      "needs_background": "light"
     },
     "output_type": "display_data"
    }
   ],
   "source": [
    "(data.\n",
    " query('year_of_release > 0').\n",
    " pivot_table(index='year_of_release', \n",
    "             aggfunc={'year_of_release':'count'}).\n",
    " plot(kind='bar',\n",
    "      title='Количество игр',\n",
    "      grid=True,\n",
    "      figsize=(8,6))\n",
    ")"
   ]
  },
  {
   "cell_type": "markdown",
   "metadata": {
    "pycharm": {
     "name": "#%% md\n"
    }
   },
   "source": [
    "**Вывод:**\n",
    "\n",
    "Видно, что до 1990 года выпускалось достаточно мало игр."
   ]
  },
  {
   "cell_type": "markdown",
   "metadata": {
    "pycharm": {
     "name": "#%% md\n"
    }
   },
   "source": [
    "### Продажи по платформам"
   ]
  },
  {
   "cell_type": "markdown",
   "metadata": {
    "pycharm": {
     "name": "#%% md\n"
    }
   },
   "source": [
    "Посмотрим список уникальных платформ."
   ]
  },
  {
   "cell_type": "code",
   "execution_count": 22,
   "metadata": {
    "pycharm": {
     "name": "#%%\n"
    }
   },
   "outputs": [
    {
     "data": {
      "text/plain": [
       "array(['Wii', 'NES', 'GB', 'DS', 'X360', 'PS3', 'PS2', 'SNES', 'GBA',\n",
       "       'PS4', '3DS', 'N64', 'PS', 'XB', 'PC', '2600', 'PSP', 'XOne',\n",
       "       'WiiU', 'GC', 'GEN', 'DC', 'PSV', 'SAT', 'SCD', 'WS', 'NG', 'TG16',\n",
       "       '3DO', 'GG', 'PCFX'], dtype=object)"
      ]
     },
     "execution_count": 22,
     "metadata": {},
     "output_type": "execute_result"
    }
   ],
   "source": [
    "data['platform'].unique()"
   ]
  },
  {
   "cell_type": "markdown",
   "metadata": {
    "pycharm": {
     "name": "#%% md\n"
    }
   },
   "source": [
    "Посчитаем суммарные продажи для каждой платформы.\n",
    "\n",
    "Для удобства сначала добавим столбец с общими продажами для каждой строки."
   ]
  },
  {
   "cell_type": "code",
   "execution_count": 23,
   "metadata": {
    "pycharm": {
     "name": "#%%\n"
    }
   },
   "outputs": [],
   "source": [
    "data['sales'] = data['na_sales']+data['eu_sales']+data['jp_sales']+data['other_sales']"
   ]
  },
  {
   "cell_type": "code",
   "execution_count": 24,
   "metadata": {
    "pycharm": {
     "name": "#%%\n"
    }
   },
   "outputs": [
    {
     "data": {
      "text/html": [
       "<div>\n",
       "<style scoped>\n",
       "    .dataframe tbody tr th:only-of-type {\n",
       "        vertical-align: middle;\n",
       "    }\n",
       "\n",
       "    .dataframe tbody tr th {\n",
       "        vertical-align: top;\n",
       "    }\n",
       "\n",
       "    .dataframe thead th {\n",
       "        text-align: right;\n",
       "    }\n",
       "</style>\n",
       "<table border=\"1\" class=\"dataframe\">\n",
       "  <thead>\n",
       "    <tr style=\"text-align: right;\">\n",
       "      <th></th>\n",
       "      <th>sales</th>\n",
       "    </tr>\n",
       "    <tr>\n",
       "      <th>platform</th>\n",
       "      <th></th>\n",
       "    </tr>\n",
       "  </thead>\n",
       "  <tbody>\n",
       "    <tr>\n",
       "      <td>PS2</td>\n",
       "      <td>1,255.77</td>\n",
       "    </tr>\n",
       "    <tr>\n",
       "      <td>X360</td>\n",
       "      <td>971.42</td>\n",
       "    </tr>\n",
       "    <tr>\n",
       "      <td>PS3</td>\n",
       "      <td>939.65</td>\n",
       "    </tr>\n",
       "    <tr>\n",
       "      <td>Wii</td>\n",
       "      <td>907.51</td>\n",
       "    </tr>\n",
       "    <tr>\n",
       "      <td>DS</td>\n",
       "      <td>806.12</td>\n",
       "    </tr>\n",
       "    <tr>\n",
       "      <td>PS</td>\n",
       "      <td>730.86</td>\n",
       "    </tr>\n",
       "    <tr>\n",
       "      <td>GBA</td>\n",
       "      <td>317.85</td>\n",
       "    </tr>\n",
       "    <tr>\n",
       "      <td>PS4</td>\n",
       "      <td>314.14</td>\n",
       "    </tr>\n",
       "    <tr>\n",
       "      <td>PSP</td>\n",
       "      <td>294.05</td>\n",
       "    </tr>\n",
       "    <tr>\n",
       "      <td>PC</td>\n",
       "      <td>259.52</td>\n",
       "    </tr>\n",
       "    <tr>\n",
       "      <td>3DS</td>\n",
       "      <td>259.00</td>\n",
       "    </tr>\n",
       "    <tr>\n",
       "      <td>XB</td>\n",
       "      <td>257.74</td>\n",
       "    </tr>\n",
       "    <tr>\n",
       "      <td>GB</td>\n",
       "      <td>255.46</td>\n",
       "    </tr>\n",
       "    <tr>\n",
       "      <td>NES</td>\n",
       "      <td>251.05</td>\n",
       "    </tr>\n",
       "    <tr>\n",
       "      <td>N64</td>\n",
       "      <td>218.68</td>\n",
       "    </tr>\n",
       "    <tr>\n",
       "      <td>SNES</td>\n",
       "      <td>200.04</td>\n",
       "    </tr>\n",
       "    <tr>\n",
       "      <td>GC</td>\n",
       "      <td>198.93</td>\n",
       "    </tr>\n",
       "    <tr>\n",
       "      <td>XOne</td>\n",
       "      <td>159.32</td>\n",
       "    </tr>\n",
       "    <tr>\n",
       "      <td>2600</td>\n",
       "      <td>96.98</td>\n",
       "    </tr>\n",
       "    <tr>\n",
       "      <td>WiiU</td>\n",
       "      <td>82.19</td>\n",
       "    </tr>\n",
       "    <tr>\n",
       "      <td>PSV</td>\n",
       "      <td>54.07</td>\n",
       "    </tr>\n",
       "    <tr>\n",
       "      <td>SAT</td>\n",
       "      <td>33.59</td>\n",
       "    </tr>\n",
       "    <tr>\n",
       "      <td>GEN</td>\n",
       "      <td>30.77</td>\n",
       "    </tr>\n",
       "    <tr>\n",
       "      <td>DC</td>\n",
       "      <td>15.95</td>\n",
       "    </tr>\n",
       "    <tr>\n",
       "      <td>SCD</td>\n",
       "      <td>1.86</td>\n",
       "    </tr>\n",
       "    <tr>\n",
       "      <td>NG</td>\n",
       "      <td>1.44</td>\n",
       "    </tr>\n",
       "    <tr>\n",
       "      <td>WS</td>\n",
       "      <td>1.42</td>\n",
       "    </tr>\n",
       "    <tr>\n",
       "      <td>TG16</td>\n",
       "      <td>0.16</td>\n",
       "    </tr>\n",
       "    <tr>\n",
       "      <td>3DO</td>\n",
       "      <td>0.10</td>\n",
       "    </tr>\n",
       "    <tr>\n",
       "      <td>GG</td>\n",
       "      <td>0.04</td>\n",
       "    </tr>\n",
       "    <tr>\n",
       "      <td>PCFX</td>\n",
       "      <td>0.03</td>\n",
       "    </tr>\n",
       "  </tbody>\n",
       "</table>\n",
       "</div>"
      ],
      "text/plain": [
       "            sales\n",
       "platform         \n",
       "PS2      1,255.77\n",
       "X360       971.42\n",
       "PS3        939.65\n",
       "Wii        907.51\n",
       "DS         806.12\n",
       "PS         730.86\n",
       "GBA        317.85\n",
       "PS4        314.14\n",
       "PSP        294.05\n",
       "PC         259.52\n",
       "3DS        259.00\n",
       "XB         257.74\n",
       "GB         255.46\n",
       "NES        251.05\n",
       "N64        218.68\n",
       "SNES       200.04\n",
       "GC         198.93\n",
       "XOne       159.32\n",
       "2600        96.98\n",
       "WiiU        82.19\n",
       "PSV         54.07\n",
       "SAT         33.59\n",
       "GEN         30.77\n",
       "DC          15.95\n",
       "SCD          1.86\n",
       "NG           1.44\n",
       "WS           1.42\n",
       "TG16         0.16\n",
       "3DO          0.10\n",
       "GG           0.04\n",
       "PCFX         0.03"
      ]
     },
     "execution_count": 24,
     "metadata": {},
     "output_type": "execute_result"
    }
   ],
   "source": [
    "(data.\n",
    " pivot_table(index='platform',\n",
    "             values='sales',\n",
    "             aggfunc='sum').\n",
    " sort_values(by='sales',ascending=False)\n",
    ")"
   ]
  },
  {
   "cell_type": "markdown",
   "metadata": {
    "pycharm": {
     "name": "#%% md\n"
    }
   },
   "source": [
    "Сохраним первые 6 строк предыдущей таблицы в отдельную переменную."
   ]
  },
  {
   "cell_type": "code",
   "execution_count": 25,
   "metadata": {
    "pycharm": {
     "name": "#%%\n"
    }
   },
   "outputs": [],
   "source": [
    "top6 = (data.\n",
    " pivot_table(index='platform',\n",
    "             values='sales',\n",
    "             aggfunc='sum').\n",
    " sort_values(by='sales',ascending=False)\n",
    ")[:6]"
   ]
  },
  {
   "cell_type": "markdown",
   "metadata": {
    "pycharm": {
     "name": "#%% md\n"
    }
   },
   "source": [
    "Создадим функцию для построения графика."
   ]
  },
  {
   "cell_type": "code",
   "execution_count": 56,
   "metadata": {
    "pycharm": {
     "name": "#%%\n"
    }
   },
   "outputs": [],
   "source": [
    "def platform_plot(x):\n",
    "    (data.\n",
    "     query('platform == @x & year_of_release > 0').\n",
    "     pivot_table(index='year_of_release',\n",
    "                 values='sales',\n",
    "                 aggfunc='sum').\n",
    "     plot(kind='bar',\n",
    "          title=x,\n",
    "          grid=True)\n",
    "    )"
   ]
  },
  {
   "cell_type": "markdown",
   "metadata": {
    "pycharm": {
     "name": "#%% md\n"
    }
   },
   "source": [
    "Посмотрим распределение по годам для платформ с самыми большими продажами."
   ]
  },
  {
   "cell_type": "markdown",
   "metadata": {
    "pycharm": {
     "name": "#%% md\n"
    }
   },
   "source": [
    "#### PS2"
   ]
  },
  {
   "cell_type": "code",
   "execution_count": 58,
   "metadata": {
    "pycharm": {
     "name": "#%%\n"
    }
   },
   "outputs": [
    {
     "data": {
      "image/png": "[encoded data removed]",
      "text/plain": [
       "<Figure size 432x288 with 1 Axes>"
      ]
     },
     "metadata": {
      "needs_background": "light"
     },
     "output_type": "display_data"
    }
   ],
   "source": [
    "platform_plot(top6.index[0])"
   ]
  },
  {
   "cell_type": "markdown",
   "metadata": {
    "pycharm": {
     "name": "#%% md\n"
    }
   },
   "source": [
    "#### X360"
   ]
  },
  {
   "cell_type": "code",
   "execution_count": 59,
   "metadata": {
    "pycharm": {
     "name": "#%%\n"
    }
   },
   "outputs": [
    {
     "data": {
      "image/png": "[encoded data removed]",
      "text/plain": [
       "<Figure size 432x288 with 1 Axes>"
      ]
     },
     "metadata": {
      "needs_background": "light"
     },
     "output_type": "display_data"
    }
   ],
   "source": [
    "platform_plot(top6.index[1])"
   ]
  },
  {
   "cell_type": "markdown",
   "metadata": {
    "pycharm": {
     "name": "#%% md\n"
    }
   },
   "source": [
    "#### PS3"
   ]
  },
  {
   "cell_type": "code",
   "execution_count": 60,
   "metadata": {
    "pycharm": {
     "name": "#%%\n"
    }
   },
   "outputs": [
    {
     "data": {
      "image/png": "[encoded data removed]",
      "text/plain": [
       "<Figure size 432x288 with 1 Axes>"
      ]
     },
     "metadata": {
      "needs_background": "light"
     },
     "output_type": "display_data"
    }
   ],
   "source": [
    "platform_plot(top6.index[2])"
   ]
  },
  {
   "cell_type": "markdown",
   "metadata": {
    "pycharm": {
     "name": "#%% md\n"
    }
   },
   "source": [
    "#### Wii"
   ]
  },
  {
   "cell_type": "code",
   "execution_count": 63,
   "metadata": {
    "pycharm": {
     "name": "#%%\n"
    }
   },
   "outputs": [
    {
     "data": {
      "image/png": "[encoded data removed]",
      "text/plain": [
       "<Figure size 432x288 with 1 Axes>"
      ]
     },
     "metadata": {
      "needs_background": "light"
     },
     "output_type": "display_data"
    }
   ],
   "source": [
    "platform_plot(top6.index[3])"
   ]
  },
  {
   "cell_type": "markdown",
   "metadata": {
    "pycharm": {
     "name": "#%% md\n"
    }
   },
   "source": [
    "#### DS"
   ]
  },
  {
   "cell_type": "code",
   "execution_count": 64,
   "metadata": {
    "pycharm": {
     "name": "#%%\n"
    }
   },
   "outputs": [
    {
     "data": {
      "image/png": "[encoded data removed]",
      "text/plain": [
       "<Figure size 432x288 with 1 Axes>"
      ]
     },
     "metadata": {
      "needs_background": "light"
     },
     "output_type": "display_data"
    }
   ],
   "source": [
    "platform_plot(top6.index[4])"
   ]
  },
  {
   "cell_type": "markdown",
   "metadata": {
    "pycharm": {
     "name": "#%% md\n"
    }
   },
   "source": [
    "#### PS"
   ]
  },
  {
   "cell_type": "code",
   "execution_count": 65,
   "metadata": {
    "pycharm": {
     "name": "#%%\n"
    }
   },
   "outputs": [
    {
     "data": {
      "image/png": "[encoded data removed]",
      "text/plain": [
       "<Figure size 432x288 with 1 Axes>"
      ]
     },
     "metadata": {
      "needs_background": "light"
     },
     "output_type": "display_data"
    }
   ],
   "source": [
    "platform_plot(top6.index[5])"
   ]
  },
  {
   "cell_type": "markdown",
   "metadata": {
    "pycharm": {
     "name": "#%% md\n"
    }
   },
   "source": [
    "**Вывод:**\n",
    "\n",
    "Видно, что в среднем платформы живут около 7-8 лет."
   ]
  },
  {
   "cell_type": "markdown",
   "metadata": {
    "pycharm": {
     "name": "#%% md\n"
    }
   },
   "source": [
    "### Продажи по платформам в актуальном периоде"
   ]
  },
  {
   "cell_type": "markdown",
   "metadata": {
    "pycharm": {
     "name": "#%% md\n"
    }
   },
   "source": [
    "Наша задача - работа с актуальными платформами. \n",
    "\n",
    "Возьмем в качестве начала актуального периода дату начала продаж последних платформ PS4 и Xbox One. Они вышли в конце 2013 года, поэтому в качестве начала актуального периода можно выбрать 2013 год.\n",
    "\n",
    "Посчитаем продажи по платформам в актуальном периоде."
   ]
  },
  {
   "cell_type": "code",
   "execution_count": 30,
   "metadata": {
    "pycharm": {
     "name": "#%%\n"
    }
   },
   "outputs": [
    {
     "data": {
      "text/html": [
       "<div>\n",
       "<style scoped>\n",
       "    .dataframe tbody tr th:only-of-type {\n",
       "        vertical-align: middle;\n",
       "    }\n",
       "\n",
       "    .dataframe tbody tr th {\n",
       "        vertical-align: top;\n",
       "    }\n",
       "\n",
       "    .dataframe thead th {\n",
       "        text-align: right;\n",
       "    }\n",
       "</style>\n",
       "<table border=\"1\" class=\"dataframe\">\n",
       "  <thead>\n",
       "    <tr style=\"text-align: right;\">\n",
       "      <th></th>\n",
       "      <th>sales</th>\n",
       "    </tr>\n",
       "    <tr>\n",
       "      <th>platform</th>\n",
       "      <th></th>\n",
       "    </tr>\n",
       "  </thead>\n",
       "  <tbody>\n",
       "    <tr>\n",
       "      <td>PS4</td>\n",
       "      <td>314.14</td>\n",
       "    </tr>\n",
       "    <tr>\n",
       "      <td>PS3</td>\n",
       "      <td>181.43</td>\n",
       "    </tr>\n",
       "    <tr>\n",
       "      <td>XOne</td>\n",
       "      <td>159.32</td>\n",
       "    </tr>\n",
       "    <tr>\n",
       "      <td>3DS</td>\n",
       "      <td>143.25</td>\n",
       "    </tr>\n",
       "    <tr>\n",
       "      <td>X360</td>\n",
       "      <td>136.80</td>\n",
       "    </tr>\n",
       "    <tr>\n",
       "      <td>WiiU</td>\n",
       "      <td>64.63</td>\n",
       "    </tr>\n",
       "    <tr>\n",
       "      <td>PC</td>\n",
       "      <td>39.43</td>\n",
       "    </tr>\n",
       "    <tr>\n",
       "      <td>PSV</td>\n",
       "      <td>32.99</td>\n",
       "    </tr>\n",
       "    <tr>\n",
       "      <td>Wii</td>\n",
       "      <td>13.66</td>\n",
       "    </tr>\n",
       "    <tr>\n",
       "      <td>PSP</td>\n",
       "      <td>3.50</td>\n",
       "    </tr>\n",
       "    <tr>\n",
       "      <td>DS</td>\n",
       "      <td>1.54</td>\n",
       "    </tr>\n",
       "  </tbody>\n",
       "</table>\n",
       "</div>"
      ],
      "text/plain": [
       "          sales\n",
       "platform       \n",
       "PS4      314.14\n",
       "PS3      181.43\n",
       "XOne     159.32\n",
       "3DS      143.25\n",
       "X360     136.80\n",
       "WiiU      64.63\n",
       "PC        39.43\n",
       "PSV       32.99\n",
       "Wii       13.66\n",
       "PSP        3.50\n",
       "DS         1.54"
      ]
     },
     "execution_count": 30,
     "metadata": {},
     "output_type": "execute_result"
    }
   ],
   "source": [
    "(data.\n",
    " query('year_of_release > 2012').\n",
    " pivot_table(index='platform',\n",
    "             values='sales',\n",
    "             aggfunc='sum').\n",
    " sort_values(by='sales',\n",
    "             ascending=False)\n",
    ")"
   ]
  },
  {
   "cell_type": "markdown",
   "metadata": {
    "pycharm": {
     "name": "#%% md\n"
    }
   },
   "source": [
    "Построим график с общими продажами на каждых платформах в 2013-2016 годах."
   ]
  },
  {
   "cell_type": "code",
   "execution_count": 31,
   "metadata": {
    "pycharm": {
     "name": "#%%\n"
    }
   },
   "outputs": [
    {
     "data": {
      "text/plain": [
       "<matplotlib.legend.Legend at 0x7fb726ea89d0>"
      ]
     },
     "execution_count": 31,
     "metadata": {},
     "output_type": "execute_result"
    },
    {
     "data": {
      "image/png": "[encoded data removed]",
      "text/plain": [
       "<Figure size 576x432 with 1 Axes>"
      ]
     },
     "metadata": {
      "needs_background": "light"
     },
     "output_type": "display_data"
    }
   ],
   "source": [
    "(data.\n",
    " query('year_of_release > 2012').\n",
    " pivot_table(index='year_of_release',\n",
    "             columns='platform',\n",
    "             values='sales',\n",
    "             aggfunc='sum').\n",
    " plot(kind='line',\n",
    "      xticks=np.arange(2013,2017,1),\n",
    "      title='Продажи в актуальном периоде',\n",
    "      grid=True,\n",
    "      figsize=(8,6)).\n",
    " legend(bbox_to_anchor=(1,1))\n",
    ")"
   ]
  },
  {
   "cell_type": "markdown",
   "metadata": {
    "pycharm": {
     "name": "#%% md\n"
    }
   },
   "source": [
    "На графике видно, что:\n",
    "- Продажи игр на PS3 и X360 начали сильно падать после появления их преемников в 2013 году.\n",
    "- В качестве потенциально прибыльных платформ лучше выбрать только PS4 и XOne, так как они обладают наибольшими общими продажами на последний год, представленный в датасете - 2016."
   ]
  },
  {
   "cell_type": "code",
   "execution_count": 61,
   "metadata": {
    "pycharm": {
     "name": "#%%\n"
    }
   },
   "outputs": [
    {
     "data": {
      "text/html": [
       "<div>\n",
       "<style scoped>\n",
       "    .dataframe tbody tr th:only-of-type {\n",
       "        vertical-align: middle;\n",
       "    }\n",
       "\n",
       "    .dataframe tbody tr th {\n",
       "        vertical-align: top;\n",
       "    }\n",
       "\n",
       "    .dataframe thead th {\n",
       "        text-align: right;\n",
       "    }\n",
       "</style>\n",
       "<table border=\"1\" class=\"dataframe\">\n",
       "  <thead>\n",
       "    <tr style=\"text-align: right;\">\n",
       "      <th>platform</th>\n",
       "      <th>3DS</th>\n",
       "      <th>DS</th>\n",
       "      <th>PC</th>\n",
       "      <th>PS3</th>\n",
       "      <th>PS4</th>\n",
       "      <th>PSP</th>\n",
       "      <th>PSV</th>\n",
       "      <th>Wii</th>\n",
       "      <th>WiiU</th>\n",
       "      <th>X360</th>\n",
       "      <th>XOne</th>\n",
       "    </tr>\n",
       "    <tr>\n",
       "      <th>year_of_release</th>\n",
       "      <th></th>\n",
       "      <th></th>\n",
       "      <th></th>\n",
       "      <th></th>\n",
       "      <th></th>\n",
       "      <th></th>\n",
       "      <th></th>\n",
       "      <th></th>\n",
       "      <th></th>\n",
       "      <th></th>\n",
       "      <th></th>\n",
       "    </tr>\n",
       "  </thead>\n",
       "  <tbody>\n",
       "    <tr>\n",
       "      <td>2015</td>\n",
       "      <td>27.78</td>\n",
       "      <td>nan</td>\n",
       "      <td>8.52</td>\n",
       "      <td>16.82</td>\n",
       "      <td>118.90</td>\n",
       "      <td>0.12</td>\n",
       "      <td>6.25</td>\n",
       "      <td>1.14</td>\n",
       "      <td>16.35</td>\n",
       "      <td>11.96</td>\n",
       "      <td>60.14</td>\n",
       "    </tr>\n",
       "    <tr>\n",
       "      <td>2016</td>\n",
       "      <td>15.14</td>\n",
       "      <td>nan</td>\n",
       "      <td>5.25</td>\n",
       "      <td>3.60</td>\n",
       "      <td>69.25</td>\n",
       "      <td>nan</td>\n",
       "      <td>4.25</td>\n",
       "      <td>0.18</td>\n",
       "      <td>4.60</td>\n",
       "      <td>1.52</td>\n",
       "      <td>26.15</td>\n",
       "    </tr>\n",
       "  </tbody>\n",
       "</table>\n",
       "</div>"
      ],
      "text/plain": [
       "platform          3DS  DS   PC   PS3    PS4  PSP  PSV  Wii  WiiU  X360  XOne\n",
       "year_of_release                                                             \n",
       "2015            27.78 nan 8.52 16.82 118.90 0.12 6.25 1.14 16.35 11.96 60.14\n",
       "2016            15.14 nan 5.25  3.60  69.25  nan 4.25 0.18  4.60  1.52 26.15"
      ]
     },
     "execution_count": 61,
     "metadata": {},
     "output_type": "execute_result"
    }
   ],
   "source": [
    "# КОД РЕВЬЮЕРА\n",
    "\n",
    "data.query(\"year_of_release > 2012\").pivot_table(index='year_of_release', columns='platform', values='sales', aggfunc='sum').loc[[2015, 2016]]"
   ]
  },
  {
   "cell_type": "markdown",
   "metadata": {
    "pycharm": {
     "name": "#%% md\n"
    }
   },
   "source": [
    "#### Ящик с усами для потенциально прибыльных платформ"
   ]
  },
  {
   "cell_type": "markdown",
   "metadata": {
    "pycharm": {
     "name": "#%% md\n"
    }
   },
   "source": [
    "Построим \"ящик с усами\" для платформ PS4, XOne, 3DS и PC.\n",
    "\n",
    "Сначала создадим переменную с именами этих платформ."
   ]
  },
  {
   "cell_type": "code",
   "execution_count": null,
   "metadata": {
    "pycharm": {
     "name": "#%%\n"
    }
   },
   "outputs": [],
   "source": [
    "top4 = ['PS4', 'XOne', '3DS', 'PC']"
   ]
  },
  {
   "cell_type": "markdown",
   "metadata": {
    "pycharm": {
     "name": "#%% md\n"
    }
   },
   "source": [
    "Сохраним продажи каждой платформы в отдельный файл."
   ]
  },
  {
   "cell_type": "code",
   "execution_count": 73,
   "metadata": {
    "pycharm": {
     "name": "#%%\n"
    }
   },
   "outputs": [],
   "source": [
    "ps4_sales = data.query('platform == \"PS4\" & year_of_release > 0')['sales']\n",
    "xone_sales = data.query('platform == \"XOne\" & year_of_release > 0')['sales']\n",
    "ds3_sales = data.query('platform == \"3DS\" & year_of_release > 0')['sales']\n",
    "pc_sales = data.query('platform == \"PC\" & year_of_release > 0')['sales']"
   ]
  },
  {
   "cell_type": "markdown",
   "metadata": {
    "pycharm": {
     "name": "#%% md\n"
    }
   },
   "source": [
    "Построим график \"ящик с усами\" (сначала не учитывая выбросы)."
   ]
  },
  {
   "cell_type": "code",
   "execution_count": 94,
   "metadata": {
    "pycharm": {
     "name": "#%%\n"
    }
   },
   "outputs": [
    {
     "name": "stderr",
     "output_type": "stream",
     "text": [
      "/opt/conda/lib/python3.7/site-packages/numpy/core/_asarray.py:83: VisibleDeprecationWarning: Creating an ndarray from ragged nested sequences (which is a list-or-tuple of lists-or-tuples-or ndarrays with different lengths or shapes) is deprecated. If you meant to do this, you must specify 'dtype=object' when creating the ndarray\n",
      "  return array(a, dtype, copy=False, order=order)\n"
     ]
    },
    {
     "data": {
      "image/png": "[encoded data removed]",
      "text/plain": [
       "<Figure size 432x288 with 1 Axes>"
      ]
     },
     "metadata": {
      "needs_background": "light"
     },
     "output_type": "display_data"
    }
   ],
   "source": [
    "plt.boxplot([ps4_sales, xone_sales, ds3_sales, pc_sales],\n",
    "            labels=top4,\n",
    "            showfliers=False)\n",
    "plt.ylabel('Продажи, млн. копий')\n",
    "plt.title('Глобальные продажи по консолям')\n",
    "plt.show()"
   ]
  },
  {
   "cell_type": "markdown",
   "metadata": {
    "pycharm": {
     "name": "#%% md\n"
    }
   },
   "source": [
    "Теперь еще раз построим этот график, но уже учитывая выбросы."
   ]
  },
  {
   "cell_type": "code",
   "execution_count": 96,
   "metadata": {
    "pycharm": {
     "name": "#%%\n"
    }
   },
   "outputs": [
    {
     "name": "stderr",
     "output_type": "stream",
     "text": [
      "/opt/conda/lib/python3.7/site-packages/numpy/core/_asarray.py:83: VisibleDeprecationWarning: Creating an ndarray from ragged nested sequences (which is a list-or-tuple of lists-or-tuples-or ndarrays with different lengths or shapes) is deprecated. If you meant to do this, you must specify 'dtype=object' when creating the ndarray\n",
      "  return array(a, dtype, copy=False, order=order)\n"
     ]
    },
    {
     "data": {
      "image/png": "[encoded data removed]",
      "text/plain": [
       "<Figure size 432x288 with 1 Axes>"
      ]
     },
     "metadata": {
      "needs_background": "light"
     },
     "output_type": "display_data"
    }
   ],
   "source": [
    "plt.boxplot([ps4_sales, xone_sales, ds3_sales, pc_sales],\n",
    "            labels=top4,\n",
    "            showfliers=True)\n",
    "plt.ylabel('Продажи, млн. копий')\n",
    "plt.title('Глобальные продажи по консолям')\n",
    "plt.show()"
   ]
  },
  {
   "cell_type": "markdown",
   "metadata": {
    "pycharm": {
     "name": "#%% md\n"
    }
   },
   "source": [
    "**Вывод:**\n",
    "\n",
    "Видно, что:\n",
    "- Хоть продажи на PS4 выше, чем у Xbox One, медианное значение продаж для Xbox One все же больше.\n",
    "- При этом продажи на 3DS и PC заметно ниже, чем на первых двух консолях.\n",
    "- График с \"выбросами\" показал, что на PS4 и 3DS некоторые игры разошлись в 14 млн. копий. Для Xbox One и PC данные значения почти в 2 раза ниже. "
   ]
  },
  {
   "cell_type": "markdown",
   "metadata": {
    "pycharm": {
     "name": "#%% md\n"
    }
   },
   "source": [
    "### Влияние оценок на продажи"
   ]
  },
  {
   "cell_type": "markdown",
   "metadata": {
    "pycharm": {
     "name": "#%% md\n"
    }
   },
   "source": [
    "#### PS4"
   ]
  },
  {
   "cell_type": "markdown",
   "metadata": {
    "pycharm": {
     "name": "#%% md\n"
    }
   },
   "source": [
    "**Оценки критиков:**\n",
    "\n",
    "Посчитаем средние значения продаж для различных оценок критиков и построим график."
   ]
  },
  {
   "cell_type": "code",
   "execution_count": 33,
   "metadata": {
    "pycharm": {
     "name": "#%%\n"
    }
   },
   "outputs": [
    {
     "data": {
      "text/plain": [
       "<matplotlib.axes._subplots.AxesSubplot at 0x7fb726d39550>"
      ]
     },
     "execution_count": 33,
     "metadata": {},
     "output_type": "execute_result"
    },
    {
     "data": {
      "image/png": "[encoded data removed]",
      "text/plain": [
       "<Figure size 432x288 with 1 Axes>"
      ]
     },
     "metadata": {
      "needs_background": "light"
     },
     "output_type": "display_data"
    }
   ],
   "source": [
    "(data.\n",
    " query('year_of_release > 2012 & platform == \"PS4\"').\n",
    " pivot_table(index='critic_score',\n",
    "             values='sales',\n",
    "             aggfunc='mean').\n",
    " reset_index().\n",
    " plot(x='critic_score',\n",
    "      y='sales',\n",
    "      kind='scatter',\n",
    "      title='Зависимость продаж от оценок критиков для PS4',\n",
    "      grid=True)\n",
    ")"
   ]
  },
  {
   "cell_type": "markdown",
   "metadata": {
    "pycharm": {
     "name": "#%% md\n"
    }
   },
   "source": [
    "Видно, что в среднем при увеличении оценок критиков растут и продажи. \n",
    "\n",
    "Посчитаем коэффициент корреляции."
   ]
  },
  {
   "cell_type": "code",
   "execution_count": 34,
   "metadata": {
    "pycharm": {
     "name": "#%%\n"
    }
   },
   "outputs": [
    {
     "data": {
      "text/plain": [
       "0.5127647210603958"
      ]
     },
     "execution_count": 34,
     "metadata": {},
     "output_type": "execute_result"
    }
   ],
   "source": [
    "(data.\n",
    " query('year_of_release > 2012 & platform == \"PS4\"').\n",
    " pivot_table(index='critic_score',\n",
    "             values='sales',\n",
    "             aggfunc='mean').\n",
    " reset_index().\n",
    " corr().\n",
    " iloc[1,0]\n",
    ")"
   ]
  },
  {
   "cell_type": "markdown",
   "metadata": {
    "pycharm": {
     "name": "#%% md\n"
    }
   },
   "source": [
    "Коэффицент корреляции составляет 0.513. Согласно [интернет-источникам](http://www.mathprofi.ru/linejnyj_koefficient_korrelyacii.html), это говорит о заметной корреляции."
   ]
  },
  {
   "cell_type": "markdown",
   "metadata": {
    "pycharm": {
     "name": "#%% md\n"
    }
   },
   "source": [
    "**Оценки пользователей:**\n",
    "\n",
    "Посчитаем то же самое для оценок пользователей."
   ]
  },
  {
   "cell_type": "code",
   "execution_count": 35,
   "metadata": {
    "pycharm": {
     "name": "#%%\n"
    }
   },
   "outputs": [
    {
     "data": {
      "text/plain": [
       "<matplotlib.axes._subplots.AxesSubplot at 0x7fb726ccacd0>"
      ]
     },
     "execution_count": 35,
     "metadata": {},
     "output_type": "execute_result"
    },
    {
     "data": {
      "image/png": "[encoded data removed]",
      "text/plain": [
       "<Figure size 432x288 with 1 Axes>"
      ]
     },
     "metadata": {
      "needs_background": "light"
     },
     "output_type": "display_data"
    }
   ],
   "source": [
    "(data.\n",
    " query('year_of_release > 2012 & platform == \"PS4\"').\n",
    " pivot_table(index='user_score',\n",
    "             values='sales',\n",
    "             aggfunc='mean').\n",
    " reset_index().\n",
    " plot(x='user_score',\n",
    "      y='sales',\n",
    "      kind='scatter',\n",
    "      title='Зависимость продаж от оценок пользователей для PS4',\n",
    "      grid=True)\n",
    ")"
   ]
  },
  {
   "cell_type": "markdown",
   "metadata": {
    "pycharm": {
     "name": "#%% md\n"
    }
   },
   "source": [
    "Видно, что в данном случае не наблюдается похожей картины, как с оценками критиков.\n",
    "\n",
    "Посчитаем коэффициент корреляции."
   ]
  },
  {
   "cell_type": "code",
   "execution_count": 36,
   "metadata": {
    "pycharm": {
     "name": "#%%\n"
    }
   },
   "outputs": [
    {
     "data": {
      "text/plain": [
       "0.1860915134257461"
      ]
     },
     "execution_count": 36,
     "metadata": {},
     "output_type": "execute_result"
    }
   ],
   "source": [
    "(data.\n",
    " query('year_of_release > 2012 & platform == \"PS4\"').\n",
    " pivot_table(index='user_score',\n",
    "             values='sales',\n",
    "             aggfunc='mean').\n",
    " reset_index().\n",
    " corr().\n",
    " iloc[1,0]\n",
    ")"
   ]
  },
  {
   "cell_type": "markdown",
   "metadata": {
    "pycharm": {
     "name": "#%% md\n"
    }
   },
   "source": [
    "Коэффицент корреляции составляет 0.186, что [говорит](http://www.mathprofi.ru/linejnyj_koefficient_korrelyacii.html) о слабой корреляции."
   ]
  },
  {
   "cell_type": "markdown",
   "metadata": {
    "pycharm": {
     "name": "#%% md\n"
    }
   },
   "source": [
    "#### XOne"
   ]
  },
  {
   "cell_type": "markdown",
   "metadata": {
    "pycharm": {
     "name": "#%% md\n"
    }
   },
   "source": [
    "**Оценки критиков:**\n",
    "\n",
    "Посчитаем то же самое для платформы XOne."
   ]
  },
  {
   "cell_type": "code",
   "execution_count": 37,
   "metadata": {
    "pycharm": {
     "name": "#%%\n"
    }
   },
   "outputs": [
    {
     "data": {
      "text/plain": [
       "<matplotlib.axes._subplots.AxesSubplot at 0x7fb726d570d0>"
      ]
     },
     "execution_count": 37,
     "metadata": {},
     "output_type": "execute_result"
    },
    {
     "data": {
      "image/png": "[encoded data removed]",
      "text/plain": [
       "<Figure size 432x288 with 1 Axes>"
      ]
     },
     "metadata": {
      "needs_background": "light"
     },
     "output_type": "display_data"
    }
   ],
   "source": [
    "(data.\n",
    " query('year_of_release > 2012 & platform == \"XOne\"').\n",
    " pivot_table(index='critic_score',\n",
    "             values='sales',\n",
    "             aggfunc='mean').\n",
    " reset_index().\n",
    " plot(x='critic_score',\n",
    "      y='sales',\n",
    "      kind='scatter',\n",
    "      title='Зависимость продаж от оценок критиков для XOne',\n",
    "      grid=True)\n",
    ")"
   ]
  },
  {
   "cell_type": "markdown",
   "metadata": {
    "pycharm": {
     "name": "#%% md\n"
    }
   },
   "source": [
    "Видно, что в среднем при увеличении оценок критиков продажи также растут. \n",
    "\n",
    "Посчитаем коэффициент корреляции."
   ]
  },
  {
   "cell_type": "code",
   "execution_count": 38,
   "metadata": {
    "pycharm": {
     "name": "#%%\n"
    }
   },
   "outputs": [
    {
     "data": {
      "text/plain": [
       "0.5580573663243653"
      ]
     },
     "execution_count": 38,
     "metadata": {},
     "output_type": "execute_result"
    }
   ],
   "source": [
    "(data.\n",
    " query('year_of_release > 2012 & platform == \"XOne\"').\n",
    " pivot_table(index='critic_score',\n",
    "             values='sales',\n",
    "             aggfunc='mean').\n",
    " reset_index().\n",
    " corr().\n",
    " iloc[1,0]\n",
    ")"
   ]
  },
  {
   "cell_type": "markdown",
   "metadata": {
    "pycharm": {
     "name": "#%% md\n"
    }
   },
   "source": [
    "Коэффицент корреляции составляет 0.558. Это [говорит](http://www.mathprofi.ru/linejnyj_koefficient_korrelyacii.html) о заметной корреляции."
   ]
  },
  {
   "cell_type": "markdown",
   "metadata": {
    "pycharm": {
     "name": "#%% md\n"
    }
   },
   "source": [
    "**Оценки пользователей:**\n",
    "\n",
    "Посчитаем то же самое для оценок пользователей."
   ]
  },
  {
   "cell_type": "code",
   "execution_count": 39,
   "metadata": {
    "pycharm": {
     "name": "#%%\n"
    }
   },
   "outputs": [
    {
     "data": {
      "text/plain": [
       "<matplotlib.axes._subplots.AxesSubplot at 0x7fb726ba5b50>"
      ]
     },
     "execution_count": 39,
     "metadata": {},
     "output_type": "execute_result"
    },
    {
     "data": {
      "image/png": "[encoded data removed]",
      "text/plain": [
       "<Figure size 432x288 with 1 Axes>"
      ]
     },
     "metadata": {
      "needs_background": "light"
     },
     "output_type": "display_data"
    }
   ],
   "source": [
    "(data.\n",
    " query('year_of_release > 2012 & platform == \"XOne\"').\n",
    " pivot_table(index='user_score',\n",
    "             values='sales',\n",
    "             aggfunc='mean').\n",
    " reset_index().\n",
    " plot(x='user_score',\n",
    "      y='sales',\n",
    "      kind='scatter',\n",
    "      title='Зависимость продаж от оценок пользователей для PS4',\n",
    "      grid=True)\n",
    ")"
   ]
  },
  {
   "cell_type": "markdown",
   "metadata": {
    "pycharm": {
     "name": "#%% md\n"
    }
   },
   "source": [
    "Видно, что в данном случае также не наблюдается похожей картины, как с оценками критиков.\n",
    "\n",
    "Посчитаем коэффициент корреляции."
   ]
  },
  {
   "cell_type": "code",
   "execution_count": 40,
   "metadata": {
    "pycharm": {
     "name": "#%%\n"
    }
   },
   "outputs": [
    {
     "data": {
      "text/plain": [
       "0.008380325025308184"
      ]
     },
     "execution_count": 40,
     "metadata": {},
     "output_type": "execute_result"
    }
   ],
   "source": [
    "(data.\n",
    " query('year_of_release > 2012 & platform == \"XOne\"').\n",
    " pivot_table(index='user_score',\n",
    "             values='sales',\n",
    "             aggfunc='mean').\n",
    " reset_index().\n",
    " corr().\n",
    " iloc[1,0]\n",
    ")"
   ]
  },
  {
   "cell_type": "markdown",
   "metadata": {
    "pycharm": {
     "name": "#%% md\n"
    }
   },
   "source": [
    "Коэффицент корреляции составляет 0.008, что [говорит](http://www.mathprofi.ru/linejnyj_koefficient_korrelyacii.html) о еще более слабой корреляции."
   ]
  },
  {
   "cell_type": "markdown",
   "metadata": {
    "pycharm": {
     "name": "#%% md\n"
    }
   },
   "source": [
    "**Вывод:**\n",
    "\n",
    "Для обоих платформ продажи игр \"заметно\" коррелируют с оценками критиков на данные игры (коэффициенты корреляции 0.513 для PS4 и 0.558 для Xbox One).\n",
    "\n",
    "При этом продажи игр никак не коррелируют с оценками пользователей (коэффициенты корреляции 0.186 для PS4 и 0.008 для Xbox One)."
   ]
  },
  {
   "cell_type": "markdown",
   "metadata": {
    "pycharm": {
     "name": "#%% md\n"
    }
   },
   "source": [
    "### Продажи по жанрам"
   ]
  },
  {
   "cell_type": "markdown",
   "metadata": {
    "pycharm": {
     "name": "#%% md\n"
    }
   },
   "source": [
    "Создадим сводную таблицу с продажами по жанрам и построим график."
   ]
  },
  {
   "cell_type": "code",
   "execution_count": 105,
   "metadata": {
    "pycharm": {
     "name": "#%%\n"
    }
   },
   "outputs": [
    {
     "data": {
      "text/plain": [
       "<matplotlib.legend.Legend at 0x7f8dba567710>"
      ]
     },
     "execution_count": 105,
     "metadata": {},
     "output_type": "execute_result"
    },
    {
     "data": {
      "image/png": "[encoded data removed]",
      "text/plain": [
       "<Figure size 576x432 with 1 Axes>"
      ]
     },
     "metadata": {
      "needs_background": "light"
     },
     "output_type": "display_data"
    }
   ],
   "source": [
    "(data.\n",
    " query(\"year_of_release > 2012 & platform in @top4\").\n",
    " pivot_table(index='year_of_release',\n",
    "             columns='genre',\n",
    "             values='sales',\n",
    "             aggfunc='sum').\n",
    " plot(kind='line',\n",
    "      xticks=np.arange(2013,2017,1),\n",
    "      title='Продажи в зависимости от жанра',\n",
    "      grid=True,\n",
    "      figsize=(8,6),\n",
    "      colormap='tab20').\n",
    " legend(bbox_to_anchor=(1, 1))\n",
    ")"
   ]
  },
  {
   "cell_type": "markdown",
   "metadata": {
    "pycharm": {
     "name": "#%% md\n"
    }
   },
   "source": [
    "Построим так же график по средним продажам игр на данных платформах."
   ]
  },
  {
   "cell_type": "code",
   "execution_count": 104,
   "metadata": {
    "pycharm": {
     "name": "#%%\n"
    }
   },
   "outputs": [
    {
     "data": {
      "text/plain": [
       "<matplotlib.legend.Legend at 0x7f8dbb88f2d0>"
      ]
     },
     "execution_count": 104,
     "metadata": {},
     "output_type": "execute_result"
    },
    {
     "data": {
      "image/png": "[encoded data removed]",
      "text/plain": [
       "<Figure size 576x432 with 1 Axes>"
      ]
     },
     "metadata": {
      "needs_background": "light"
     },
     "output_type": "display_data"
    }
   ],
   "source": [
    "(data.\n",
    " query(\"year_of_release > 2012 & platform in @top4\").\n",
    " pivot_table(index='year_of_release',\n",
    "             columns='genre',\n",
    "             values='sales',\n",
    "             aggfunc='mean').\n",
    " plot(kind='line',\n",
    "      xticks=np.arange(2013,2017,1),\n",
    "      title='Продажи в зависимости от жанра',\n",
    "      grid=True,\n",
    "      figsize=(8,6),\n",
    "      colormap='tab20').\n",
    " legend(bbox_to_anchor=(1, 1))\n",
    ")"
   ]
  },
  {
   "cell_type": "markdown",
   "metadata": {
    "pycharm": {
     "name": "#%% md\n"
    }
   },
   "source": [
    "Построим график по медианным продажам."
   ]
  },
  {
   "cell_type": "code",
   "execution_count": 106,
   "metadata": {
    "pycharm": {
     "name": "#%%\n"
    }
   },
   "outputs": [
    {
     "data": {
      "text/plain": [
       "<matplotlib.legend.Legend at 0x7f8dba4cc310>"
      ]
     },
     "execution_count": 106,
     "metadata": {},
     "output_type": "execute_result"
    },
    {
     "data": {
      "image/png": "[encoded data removed]",
      "text/plain": [
       "<Figure size 576x432 with 1 Axes>"
      ]
     },
     "metadata": {
      "needs_background": "light"
     },
     "output_type": "display_data"
    }
   ],
   "source": [
    "(data.\n",
    " query(\"year_of_release > 2012 & platform in @top4\").\n",
    " pivot_table(index='year_of_release',\n",
    "             columns='genre',\n",
    "             values='sales',\n",
    "             aggfunc='median').\n",
    " plot(kind='line',\n",
    "      xticks=np.arange(2013,2017,1),\n",
    "      title='Продажи в зависимости от жанра',\n",
    "      grid=True,\n",
    "      figsize=(8,6),\n",
    "      colormap='tab20').\n",
    " legend(bbox_to_anchor=(1, 1))\n",
    ")"
   ]
  },
  {
   "cell_type": "markdown",
   "metadata": {
    "pycharm": {
     "name": "#%% md\n"
    }
   },
   "source": [
    "**Вывод:**\n",
    "- Больше всего продаж дают жанры Action, Shooter, Sports и Role-Playing.\n",
    "- Если считать среднее значение продаж, то лидируют жанры Shooter, Sports и Role-Playing.\n",
    "- Если считать медианное значение продаж, то лидируют жанры Shooter, Role-Playing и Sports."
   ]
  },
  {
   "cell_type": "markdown",
   "metadata": {
    "pycharm": {
     "name": "#%% md\n"
    }
   },
   "source": [
    "### Портреты пользователей каждого региона в актуальном периоде"
   ]
  },
  {
   "cell_type": "markdown",
   "metadata": {
    "pycharm": {
     "name": "#%% md\n"
    }
   },
   "source": [
    "#### North America"
   ]
  },
  {
   "cell_type": "markdown",
   "metadata": {
    "pycharm": {
     "name": "#%% md\n"
    }
   },
   "source": [
    "Для того, чтобы определить самые популярные платформы, жанры и рейтинги игр у пользователей каждого региона, создадим соответствующие сводные таблицы."
   ]
  },
  {
   "cell_type": "markdown",
   "metadata": {
    "pycharm": {
     "name": "#%% md\n"
    }
   },
   "source": [
    "**Самые популярные платформы:**"
   ]
  },
  {
   "cell_type": "code",
   "execution_count": 42,
   "metadata": {
    "pycharm": {
     "name": "#%%\n"
    }
   },
   "outputs": [
    {
     "data": {
      "text/html": [
       "<div>\n",
       "<style scoped>\n",
       "    .dataframe tbody tr th:only-of-type {\n",
       "        vertical-align: middle;\n",
       "    }\n",
       "\n",
       "    .dataframe tbody tr th {\n",
       "        vertical-align: top;\n",
       "    }\n",
       "\n",
       "    .dataframe thead th {\n",
       "        text-align: right;\n",
       "    }\n",
       "</style>\n",
       "<table border=\"1\" class=\"dataframe\">\n",
       "  <thead>\n",
       "    <tr style=\"text-align: right;\">\n",
       "      <th></th>\n",
       "      <th>na_sales</th>\n",
       "    </tr>\n",
       "    <tr>\n",
       "      <th>platform</th>\n",
       "      <th></th>\n",
       "    </tr>\n",
       "  </thead>\n",
       "  <tbody>\n",
       "    <tr>\n",
       "      <td>PS4</td>\n",
       "      <td>108.74</td>\n",
       "    </tr>\n",
       "    <tr>\n",
       "      <td>XOne</td>\n",
       "      <td>93.12</td>\n",
       "    </tr>\n",
       "    <tr>\n",
       "      <td>X360</td>\n",
       "      <td>81.66</td>\n",
       "    </tr>\n",
       "    <tr>\n",
       "      <td>PS3</td>\n",
       "      <td>63.50</td>\n",
       "    </tr>\n",
       "    <tr>\n",
       "      <td>3DS</td>\n",
       "      <td>38.20</td>\n",
       "    </tr>\n",
       "  </tbody>\n",
       "</table>\n",
       "</div>"
      ],
      "text/plain": [
       "          na_sales\n",
       "platform          \n",
       "PS4         108.74\n",
       "XOne         93.12\n",
       "X360         81.66\n",
       "PS3          63.50\n",
       "3DS          38.20"
      ]
     },
     "execution_count": 42,
     "metadata": {},
     "output_type": "execute_result"
    }
   ],
   "source": [
    "(data.\n",
    " query(\"year_of_release > 2012\").\n",
    " pivot_table(index='platform',\n",
    "             values='na_sales',\n",
    "             aggfunc='sum').\n",
    " sort_values(by='na_sales',\n",
    "             ascending=False).\n",
    " head()\n",
    ")"
   ]
  },
  {
   "cell_type": "markdown",
   "metadata": {
    "pycharm": {
     "name": "#%% md\n"
    }
   },
   "source": [
    "**Самые популярные жанры:**"
   ]
  },
  {
   "cell_type": "code",
   "execution_count": 43,
   "metadata": {
    "pycharm": {
     "name": "#%%\n"
    }
   },
   "outputs": [
    {
     "data": {
      "text/html": [
       "<div>\n",
       "<style scoped>\n",
       "    .dataframe tbody tr th:only-of-type {\n",
       "        vertical-align: middle;\n",
       "    }\n",
       "\n",
       "    .dataframe tbody tr th {\n",
       "        vertical-align: top;\n",
       "    }\n",
       "\n",
       "    .dataframe thead th {\n",
       "        text-align: right;\n",
       "    }\n",
       "</style>\n",
       "<table border=\"1\" class=\"dataframe\">\n",
       "  <thead>\n",
       "    <tr style=\"text-align: right;\">\n",
       "      <th></th>\n",
       "      <th>na_sales</th>\n",
       "    </tr>\n",
       "    <tr>\n",
       "      <th>genre</th>\n",
       "      <th></th>\n",
       "    </tr>\n",
       "  </thead>\n",
       "  <tbody>\n",
       "    <tr>\n",
       "      <td>Action</td>\n",
       "      <td>126.05</td>\n",
       "    </tr>\n",
       "    <tr>\n",
       "      <td>Shooter</td>\n",
       "      <td>109.74</td>\n",
       "    </tr>\n",
       "    <tr>\n",
       "      <td>Sports</td>\n",
       "      <td>65.27</td>\n",
       "    </tr>\n",
       "    <tr>\n",
       "      <td>Role-Playing</td>\n",
       "      <td>46.40</td>\n",
       "    </tr>\n",
       "    <tr>\n",
       "      <td>Misc</td>\n",
       "      <td>27.49</td>\n",
       "    </tr>\n",
       "  </tbody>\n",
       "</table>\n",
       "</div>"
      ],
      "text/plain": [
       "              na_sales\n",
       "genre                 \n",
       "Action          126.05\n",
       "Shooter         109.74\n",
       "Sports           65.27\n",
       "Role-Playing     46.40\n",
       "Misc             27.49"
      ]
     },
     "execution_count": 43,
     "metadata": {},
     "output_type": "execute_result"
    }
   ],
   "source": [
    "(data.\n",
    " query(\"year_of_release > 2012\").\n",
    " pivot_table(index='genre',\n",
    "             values='na_sales',\n",
    "             aggfunc='sum').\n",
    " sort_values(by='na_sales',\n",
    "             ascending=False).\n",
    " head()\n",
    ")"
   ]
  },
  {
   "cell_type": "markdown",
   "metadata": {
    "pycharm": {
     "name": "#%% md\n"
    }
   },
   "source": [
    "**Продажи и рейтинг ESRB:**"
   ]
  },
  {
   "cell_type": "code",
   "execution_count": 44,
   "metadata": {
    "pycharm": {
     "name": "#%%\n"
    }
   },
   "outputs": [
    {
     "data": {
      "text/html": [
       "<div>\n",
       "<style scoped>\n",
       "    .dataframe tbody tr th:only-of-type {\n",
       "        vertical-align: middle;\n",
       "    }\n",
       "\n",
       "    .dataframe tbody tr th {\n",
       "        vertical-align: top;\n",
       "    }\n",
       "\n",
       "    .dataframe thead th {\n",
       "        text-align: right;\n",
       "    }\n",
       "</style>\n",
       "<table border=\"1\" class=\"dataframe\">\n",
       "  <thead>\n",
       "    <tr style=\"text-align: right;\">\n",
       "      <th></th>\n",
       "      <th>na_sales</th>\n",
       "    </tr>\n",
       "    <tr>\n",
       "      <th>rating</th>\n",
       "      <th></th>\n",
       "    </tr>\n",
       "  </thead>\n",
       "  <tbody>\n",
       "    <tr>\n",
       "      <td>M</td>\n",
       "      <td>165.21</td>\n",
       "    </tr>\n",
       "    <tr>\n",
       "      <td>unknown</td>\n",
       "      <td>89.42</td>\n",
       "    </tr>\n",
       "    <tr>\n",
       "      <td>E</td>\n",
       "      <td>79.05</td>\n",
       "    </tr>\n",
       "    <tr>\n",
       "      <td>E10+</td>\n",
       "      <td>54.24</td>\n",
       "    </tr>\n",
       "    <tr>\n",
       "      <td>T</td>\n",
       "      <td>49.79</td>\n",
       "    </tr>\n",
       "  </tbody>\n",
       "</table>\n",
       "</div>"
      ],
      "text/plain": [
       "         na_sales\n",
       "rating           \n",
       "M          165.21\n",
       "unknown     89.42\n",
       "E           79.05\n",
       "E10+        54.24\n",
       "T           49.79"
      ]
     },
     "execution_count": 44,
     "metadata": {},
     "output_type": "execute_result"
    }
   ],
   "source": [
    "(data.\n",
    " query(\"year_of_release > 2012\").\n",
    " pivot_table(index='rating',\n",
    "             values='na_sales',\n",
    "             aggfunc='sum').\n",
    " sort_values(by='na_sales',\n",
    "             ascending=False).\n",
    " head()\n",
    ")"
   ]
  },
  {
   "cell_type": "markdown",
   "metadata": {
    "pycharm": {
     "name": "#%% md\n"
    }
   },
   "source": [
    "**Вывод:**\n",
    "\n",
    "Типичный пользователь из Северной Америки играет:\n",
    "- На платформе PS4, Xbox One или Xbox 360.\n",
    "- В игры жанра Action, Shooter или Sports.\n",
    "- В игры с рейтингом ESRB 'M' - 'Mature', то есть для людей от 17 лет или 'E' - 'Everyone', то есть для всех."
   ]
  },
  {
   "cell_type": "markdown",
   "metadata": {
    "pycharm": {
     "name": "#%% md\n"
    }
   },
   "source": [
    "#### Europe"
   ]
  },
  {
   "cell_type": "markdown",
   "metadata": {
    "pycharm": {
     "name": "#%% md\n"
    }
   },
   "source": [
    "Повторим предыдущие вычисления для данного региона."
   ]
  },
  {
   "cell_type": "markdown",
   "metadata": {
    "pycharm": {
     "name": "#%% md\n"
    }
   },
   "source": [
    "**Самые популярные платформы:**"
   ]
  },
  {
   "cell_type": "code",
   "execution_count": 45,
   "metadata": {
    "pycharm": {
     "name": "#%%\n"
    }
   },
   "outputs": [
    {
     "data": {
      "text/html": [
       "<div>\n",
       "<style scoped>\n",
       "    .dataframe tbody tr th:only-of-type {\n",
       "        vertical-align: middle;\n",
       "    }\n",
       "\n",
       "    .dataframe tbody tr th {\n",
       "        vertical-align: top;\n",
       "    }\n",
       "\n",
       "    .dataframe thead th {\n",
       "        text-align: right;\n",
       "    }\n",
       "</style>\n",
       "<table border=\"1\" class=\"dataframe\">\n",
       "  <thead>\n",
       "    <tr style=\"text-align: right;\">\n",
       "      <th></th>\n",
       "      <th>eu_sales</th>\n",
       "    </tr>\n",
       "    <tr>\n",
       "      <th>platform</th>\n",
       "      <th></th>\n",
       "    </tr>\n",
       "  </thead>\n",
       "  <tbody>\n",
       "    <tr>\n",
       "      <td>PS4</td>\n",
       "      <td>141.09</td>\n",
       "    </tr>\n",
       "    <tr>\n",
       "      <td>PS3</td>\n",
       "      <td>67.81</td>\n",
       "    </tr>\n",
       "    <tr>\n",
       "      <td>XOne</td>\n",
       "      <td>51.59</td>\n",
       "    </tr>\n",
       "    <tr>\n",
       "      <td>X360</td>\n",
       "      <td>42.52</td>\n",
       "    </tr>\n",
       "    <tr>\n",
       "      <td>3DS</td>\n",
       "      <td>30.96</td>\n",
       "    </tr>\n",
       "  </tbody>\n",
       "</table>\n",
       "</div>"
      ],
      "text/plain": [
       "          eu_sales\n",
       "platform          \n",
       "PS4         141.09\n",
       "PS3          67.81\n",
       "XOne         51.59\n",
       "X360         42.52\n",
       "3DS          30.96"
      ]
     },
     "execution_count": 45,
     "metadata": {},
     "output_type": "execute_result"
    }
   ],
   "source": [
    "(data.\n",
    " query(\"year_of_release > 2012\").\n",
    " pivot_table(index='platform',\n",
    "             values='eu_sales',\n",
    "             aggfunc='sum').\n",
    " sort_values(by='eu_sales',\n",
    "             ascending=False).\n",
    " head()\n",
    ")"
   ]
  },
  {
   "cell_type": "markdown",
   "metadata": {
    "pycharm": {
     "name": "#%% md\n"
    }
   },
   "source": [
    "**Самые популярные жанры:**"
   ]
  },
  {
   "cell_type": "code",
   "execution_count": 46,
   "metadata": {
    "pycharm": {
     "name": "#%%\n"
    }
   },
   "outputs": [
    {
     "data": {
      "text/html": [
       "<div>\n",
       "<style scoped>\n",
       "    .dataframe tbody tr th:only-of-type {\n",
       "        vertical-align: middle;\n",
       "    }\n",
       "\n",
       "    .dataframe tbody tr th {\n",
       "        vertical-align: top;\n",
       "    }\n",
       "\n",
       "    .dataframe thead th {\n",
       "        text-align: right;\n",
       "    }\n",
       "</style>\n",
       "<table border=\"1\" class=\"dataframe\">\n",
       "  <thead>\n",
       "    <tr style=\"text-align: right;\">\n",
       "      <th></th>\n",
       "      <th>eu_sales</th>\n",
       "    </tr>\n",
       "    <tr>\n",
       "      <th>genre</th>\n",
       "      <th></th>\n",
       "    </tr>\n",
       "  </thead>\n",
       "  <tbody>\n",
       "    <tr>\n",
       "      <td>Action</td>\n",
       "      <td>118.13</td>\n",
       "    </tr>\n",
       "    <tr>\n",
       "      <td>Shooter</td>\n",
       "      <td>87.86</td>\n",
       "    </tr>\n",
       "    <tr>\n",
       "      <td>Sports</td>\n",
       "      <td>60.52</td>\n",
       "    </tr>\n",
       "    <tr>\n",
       "      <td>Role-Playing</td>\n",
       "      <td>36.97</td>\n",
       "    </tr>\n",
       "    <tr>\n",
       "      <td>Racing</td>\n",
       "      <td>20.19</td>\n",
       "    </tr>\n",
       "  </tbody>\n",
       "</table>\n",
       "</div>"
      ],
      "text/plain": [
       "              eu_sales\n",
       "genre                 \n",
       "Action          118.13\n",
       "Shooter          87.86\n",
       "Sports           60.52\n",
       "Role-Playing     36.97\n",
       "Racing           20.19"
      ]
     },
     "execution_count": 46,
     "metadata": {},
     "output_type": "execute_result"
    }
   ],
   "source": [
    "(data.\n",
    " query(\"year_of_release > 2012\").\n",
    " pivot_table(index='genre',\n",
    "             values='eu_sales',\n",
    "             aggfunc='sum').\n",
    " sort_values(by='eu_sales',\n",
    "             ascending=False).\n",
    " head()\n",
    ")"
   ]
  },
  {
   "cell_type": "markdown",
   "metadata": {
    "pycharm": {
     "name": "#%% md\n"
    }
   },
   "source": [
    "**Продажи и рейтинг ESRB:**"
   ]
  },
  {
   "cell_type": "code",
   "execution_count": 47,
   "metadata": {
    "pycharm": {
     "name": "#%%\n"
    }
   },
   "outputs": [
    {
     "data": {
      "text/html": [
       "<div>\n",
       "<style scoped>\n",
       "    .dataframe tbody tr th:only-of-type {\n",
       "        vertical-align: middle;\n",
       "    }\n",
       "\n",
       "    .dataframe tbody tr th {\n",
       "        vertical-align: top;\n",
       "    }\n",
       "\n",
       "    .dataframe thead th {\n",
       "        text-align: right;\n",
       "    }\n",
       "</style>\n",
       "<table border=\"1\" class=\"dataframe\">\n",
       "  <thead>\n",
       "    <tr style=\"text-align: right;\">\n",
       "      <th></th>\n",
       "      <th>eu_sales</th>\n",
       "    </tr>\n",
       "    <tr>\n",
       "      <th>rating</th>\n",
       "      <th></th>\n",
       "    </tr>\n",
       "  </thead>\n",
       "  <tbody>\n",
       "    <tr>\n",
       "      <td>M</td>\n",
       "      <td>145.32</td>\n",
       "    </tr>\n",
       "    <tr>\n",
       "      <td>E</td>\n",
       "      <td>83.36</td>\n",
       "    </tr>\n",
       "    <tr>\n",
       "      <td>unknown</td>\n",
       "      <td>78.91</td>\n",
       "    </tr>\n",
       "    <tr>\n",
       "      <td>E10+</td>\n",
       "      <td>42.69</td>\n",
       "    </tr>\n",
       "    <tr>\n",
       "      <td>T</td>\n",
       "      <td>41.95</td>\n",
       "    </tr>\n",
       "  </tbody>\n",
       "</table>\n",
       "</div>"
      ],
      "text/plain": [
       "         eu_sales\n",
       "rating           \n",
       "M          145.32\n",
       "E           83.36\n",
       "unknown     78.91\n",
       "E10+        42.69\n",
       "T           41.95"
      ]
     },
     "execution_count": 47,
     "metadata": {},
     "output_type": "execute_result"
    }
   ],
   "source": [
    "(data.\n",
    " query(\"year_of_release > 2012\").\n",
    " pivot_table(index='rating',\n",
    "             values='eu_sales',\n",
    "             aggfunc='sum').\n",
    " sort_values(by='eu_sales',\n",
    "             ascending=False).\n",
    " head()\n",
    ")"
   ]
  },
  {
   "cell_type": "markdown",
   "metadata": {
    "pycharm": {
     "name": "#%% md\n"
    }
   },
   "source": [
    "**Вывод:**\n",
    "\n",
    "Типичный пользователь из Европы играет:\n",
    "- На платформе PS4, PS3 или Xbox One.\n",
    "- В игры жанра Action, Shooter или Sports.\n",
    "- В игры с рейтингом ESRB 'M' - 'Mature', то есть для людей от 17 лет или 'E' - 'Everyone', то есть для всех."
   ]
  },
  {
   "cell_type": "markdown",
   "metadata": {
    "pycharm": {
     "name": "#%% md\n"
    }
   },
   "source": [
    "#### Japan"
   ]
  },
  {
   "cell_type": "markdown",
   "metadata": {
    "pycharm": {
     "name": "#%% md\n"
    }
   },
   "source": [
    "Повторим вычисления для данного региона."
   ]
  },
  {
   "cell_type": "markdown",
   "metadata": {
    "pycharm": {
     "name": "#%% md\n"
    }
   },
   "source": [
    "**Самые популярные платформы:**"
   ]
  },
  {
   "cell_type": "code",
   "execution_count": 48,
   "metadata": {
    "pycharm": {
     "name": "#%%\n"
    }
   },
   "outputs": [
    {
     "data": {
      "text/html": [
       "<div>\n",
       "<style scoped>\n",
       "    .dataframe tbody tr th:only-of-type {\n",
       "        vertical-align: middle;\n",
       "    }\n",
       "\n",
       "    .dataframe tbody tr th {\n",
       "        vertical-align: top;\n",
       "    }\n",
       "\n",
       "    .dataframe thead th {\n",
       "        text-align: right;\n",
       "    }\n",
       "</style>\n",
       "<table border=\"1\" class=\"dataframe\">\n",
       "  <thead>\n",
       "    <tr style=\"text-align: right;\">\n",
       "      <th></th>\n",
       "      <th>jp_sales</th>\n",
       "    </tr>\n",
       "    <tr>\n",
       "      <th>platform</th>\n",
       "      <th></th>\n",
       "    </tr>\n",
       "  </thead>\n",
       "  <tbody>\n",
       "    <tr>\n",
       "      <td>3DS</td>\n",
       "      <td>67.81</td>\n",
       "    </tr>\n",
       "    <tr>\n",
       "      <td>PS3</td>\n",
       "      <td>23.35</td>\n",
       "    </tr>\n",
       "    <tr>\n",
       "      <td>PSV</td>\n",
       "      <td>18.59</td>\n",
       "    </tr>\n",
       "    <tr>\n",
       "      <td>PS4</td>\n",
       "      <td>15.96</td>\n",
       "    </tr>\n",
       "    <tr>\n",
       "      <td>WiiU</td>\n",
       "      <td>10.88</td>\n",
       "    </tr>\n",
       "  </tbody>\n",
       "</table>\n",
       "</div>"
      ],
      "text/plain": [
       "          jp_sales\n",
       "platform          \n",
       "3DS          67.81\n",
       "PS3          23.35\n",
       "PSV          18.59\n",
       "PS4          15.96\n",
       "WiiU         10.88"
      ]
     },
     "execution_count": 48,
     "metadata": {},
     "output_type": "execute_result"
    }
   ],
   "source": [
    "(data.\n",
    " query(\"year_of_release > 2012\").\n",
    " pivot_table(index='platform',\n",
    "             values='jp_sales',\n",
    "             aggfunc='sum').\n",
    " sort_values(by='jp_sales',\n",
    "             ascending=False).\n",
    " head()\n",
    ")"
   ]
  },
  {
   "cell_type": "markdown",
   "metadata": {
    "pycharm": {
     "name": "#%% md\n"
    }
   },
   "source": [
    "**Самые популярные жанры:**"
   ]
  },
  {
   "cell_type": "code",
   "execution_count": 49,
   "metadata": {
    "pycharm": {
     "name": "#%%\n"
    }
   },
   "outputs": [
    {
     "data": {
      "text/html": [
       "<div>\n",
       "<style scoped>\n",
       "    .dataframe tbody tr th:only-of-type {\n",
       "        vertical-align: middle;\n",
       "    }\n",
       "\n",
       "    .dataframe tbody tr th {\n",
       "        vertical-align: top;\n",
       "    }\n",
       "\n",
       "    .dataframe thead th {\n",
       "        text-align: right;\n",
       "    }\n",
       "</style>\n",
       "<table border=\"1\" class=\"dataframe\">\n",
       "  <thead>\n",
       "    <tr style=\"text-align: right;\">\n",
       "      <th></th>\n",
       "      <th>jp_sales</th>\n",
       "    </tr>\n",
       "    <tr>\n",
       "      <th>genre</th>\n",
       "      <th></th>\n",
       "    </tr>\n",
       "  </thead>\n",
       "  <tbody>\n",
       "    <tr>\n",
       "      <td>Role-Playing</td>\n",
       "      <td>51.04</td>\n",
       "    </tr>\n",
       "    <tr>\n",
       "      <td>Action</td>\n",
       "      <td>40.49</td>\n",
       "    </tr>\n",
       "    <tr>\n",
       "      <td>Misc</td>\n",
       "      <td>9.20</td>\n",
       "    </tr>\n",
       "    <tr>\n",
       "      <td>Fighting</td>\n",
       "      <td>7.65</td>\n",
       "    </tr>\n",
       "    <tr>\n",
       "      <td>Shooter</td>\n",
       "      <td>6.61</td>\n",
       "    </tr>\n",
       "  </tbody>\n",
       "</table>\n",
       "</div>"
      ],
      "text/plain": [
       "              jp_sales\n",
       "genre                 \n",
       "Role-Playing     51.04\n",
       "Action           40.49\n",
       "Misc              9.20\n",
       "Fighting          7.65\n",
       "Shooter           6.61"
      ]
     },
     "execution_count": 49,
     "metadata": {},
     "output_type": "execute_result"
    }
   ],
   "source": [
    "(data.\n",
    " query(\"year_of_release > 2012\").\n",
    " pivot_table(index='genre',\n",
    "             values='jp_sales',\n",
    "             aggfunc='sum').\n",
    " sort_values(by='jp_sales',\n",
    "             ascending=False).\n",
    " head()\n",
    ")"
   ]
  },
  {
   "cell_type": "markdown",
   "metadata": {
    "pycharm": {
     "name": "#%% md\n"
    }
   },
   "source": [
    "**Продажи и рейтинг ESRB:**"
   ]
  },
  {
   "cell_type": "code",
   "execution_count": 50,
   "metadata": {
    "pycharm": {
     "name": "#%%\n"
    }
   },
   "outputs": [
    {
     "data": {
      "text/html": [
       "<div>\n",
       "<style scoped>\n",
       "    .dataframe tbody tr th:only-of-type {\n",
       "        vertical-align: middle;\n",
       "    }\n",
       "\n",
       "    .dataframe tbody tr th {\n",
       "        vertical-align: top;\n",
       "    }\n",
       "\n",
       "    .dataframe thead th {\n",
       "        text-align: right;\n",
       "    }\n",
       "</style>\n",
       "<table border=\"1\" class=\"dataframe\">\n",
       "  <thead>\n",
       "    <tr style=\"text-align: right;\">\n",
       "      <th></th>\n",
       "      <th>jp_sales</th>\n",
       "    </tr>\n",
       "    <tr>\n",
       "      <th>rating</th>\n",
       "      <th></th>\n",
       "    </tr>\n",
       "  </thead>\n",
       "  <tbody>\n",
       "    <tr>\n",
       "      <td>unknown</td>\n",
       "      <td>85.05</td>\n",
       "    </tr>\n",
       "    <tr>\n",
       "      <td>T</td>\n",
       "      <td>20.59</td>\n",
       "    </tr>\n",
       "    <tr>\n",
       "      <td>E</td>\n",
       "      <td>15.14</td>\n",
       "    </tr>\n",
       "    <tr>\n",
       "      <td>M</td>\n",
       "      <td>14.11</td>\n",
       "    </tr>\n",
       "    <tr>\n",
       "      <td>E10+</td>\n",
       "      <td>5.89</td>\n",
       "    </tr>\n",
       "  </tbody>\n",
       "</table>\n",
       "</div>"
      ],
      "text/plain": [
       "         jp_sales\n",
       "rating           \n",
       "unknown     85.05\n",
       "T           20.59\n",
       "E           15.14\n",
       "M           14.11\n",
       "E10+         5.89"
      ]
     },
     "execution_count": 50,
     "metadata": {},
     "output_type": "execute_result"
    }
   ],
   "source": [
    "(data.\n",
    " query(\"year_of_release > 2012\").\n",
    " pivot_table(index='rating',\n",
    "             values='jp_sales',\n",
    "             aggfunc='sum').\n",
    " sort_values(by='jp_sales',\n",
    "             ascending=False).\n",
    " head()\n",
    ")"
   ]
  },
  {
   "cell_type": "markdown",
   "metadata": {
    "pycharm": {
     "name": "#%% md\n"
    }
   },
   "source": [
    "**Вывод:**\n",
    "\n",
    "Типичный пользователь из Японии играет:\n",
    "- На платформе 3DS, PS3 или PS Vita.\n",
    "- В игры жанра Role-Playing или Action.\n",
    "- В игры с рейтингом ESRB 'T' - 'Teen', то есть для людей от 13 лет или 'E' - 'Everyone', то есть для всех."
   ]
  },
  {
   "cell_type": "markdown",
   "metadata": {
    "pycharm": {
     "name": "#%% md\n"
    }
   },
   "source": [
    "## Проверка гипотиз"
   ]
  },
  {
   "cell_type": "markdown",
   "metadata": {
    "pycharm": {
     "name": "#%% md\n"
    }
   },
   "source": [
    "### Равенство пользовательских рейтингов платформ XOne и PC"
   ]
  },
  {
   "cell_type": "markdown",
   "metadata": {
    "pycharm": {
     "name": "#%% md\n"
    }
   },
   "source": [
    "Проверим гипотезу о том, что средние пользовательские рейтинги платформ Xbox One и PC одинаковые.\n",
    "\n",
    "Сначала построим гистограммы распределений этих оценок.\n",
    "\n",
    "**Гистограмма оценок для Xbox One:**"
   ]
  },
  {
   "cell_type": "code",
   "execution_count": 107,
   "metadata": {
    "pycharm": {
     "name": "#%%\n"
    }
   },
   "outputs": [
    {
     "data": {
      "text/plain": [
       "<matplotlib.axes._subplots.AxesSubplot at 0x7f8dba7ec190>"
      ]
     },
     "execution_count": 107,
     "metadata": {},
     "output_type": "execute_result"
    },
    {
     "data": {
      "image/png": "[encoded data removed]",
      "text/plain": [
       "<Figure size 432x288 with 1 Axes>"
      ]
     },
     "metadata": {
      "needs_background": "light"
     },
     "output_type": "display_data"
    }
   ],
   "source": [
    "(data.\n",
    " query('platform == \"XOne\" & user_score > 0 & year_of_release > 2012')['user_score'].\n",
    " plot(kind='hist',\n",
    "      title='Xbox One',\n",
    "      grid=True)\n",
    ")"
   ]
  },
  {
   "cell_type": "markdown",
   "metadata": {
    "pycharm": {
     "name": "#%% md\n"
    }
   },
   "source": [
    "**Гистограмма оценок для PC:**"
   ]
  },
  {
   "cell_type": "code",
   "execution_count": 110,
   "metadata": {
    "pycharm": {
     "name": "#%%\n"
    }
   },
   "outputs": [
    {
     "data": {
      "text/plain": [
       "<matplotlib.axes._subplots.AxesSubplot at 0x7f8dbaf7e050>"
      ]
     },
     "execution_count": 110,
     "metadata": {},
     "output_type": "execute_result"
    },
    {
     "data": {
      "image/png": "[encoded data removed]",
      "text/plain": [
       "<Figure size 432x288 with 1 Axes>"
      ]
     },
     "metadata": {
      "needs_background": "light"
     },
     "output_type": "display_data"
    }
   ],
   "source": [
    "(data.\n",
    " query('platform == \"PC\" & user_score > 0 & year_of_release > 2012')['user_score'].\n",
    " plot(kind='hist',\n",
    "      title='PC',\n",
    "      grid=True)\n",
    ")"
   ]
  },
  {
   "cell_type": "markdown",
   "metadata": {
    "pycharm": {
     "name": "#%% md\n"
    }
   },
   "source": [
    "На первый взгляд, среднее не должно сильно различаться.\n",
    "\n",
    "Теперь проверим гипотезу, для этого:\n",
    "- В качестве нулевой гипотезы примем, что средние оценки одинаковы. \n",
    "- В качестве критического уровня статистической значимости примем значение 0.05.\n",
    "- Используем t-критерий Уэлча, в котором дисперсии выборок необязательно равны."
   ]
  },
  {
   "cell_type": "code",
   "execution_count": 111,
   "metadata": {
    "pycharm": {
     "name": "#%%\n"
    }
   },
   "outputs": [],
   "source": [
    "alpha = 0.05\n",
    "results_1 = st.ttest_ind(data.query('platform == \"XOne\" & user_score > 0 & year_of_release > 2012')['user_score'], \n",
    "                         data.query('platform == \"PC\" & user_score > 0 & year_of_release > 2012')['user_score'],\n",
    "                         equal_var=False)"
   ]
  },
  {
   "cell_type": "markdown",
   "metadata": {
    "pycharm": {
     "name": "#%% md\n"
    }
   },
   "source": [
    "Сравним полученное значение p-value с alpha."
   ]
  },
  {
   "cell_type": "code",
   "execution_count": 112,
   "metadata": {
    "pycharm": {
     "name": "#%%\n"
    }
   },
   "outputs": [
    {
     "name": "stdout",
     "output_type": "stream",
     "text": [
      "Не получилось отвергнуть нулевую гипотезу.\n"
     ]
    }
   ],
   "source": [
    "if results_1.pvalue < alpha:\n",
    "    print('Отвергаем нулевую гипотезу.')\n",
    "else:\n",
    "    print('Не получилось отвергнуть нулевую гипотезу.') "
   ]
  },
  {
   "cell_type": "markdown",
   "metadata": {
    "pycharm": {
     "name": "#%% md\n"
    }
   },
   "source": [
    "**Вывод:**\n",
    "\n",
    "Средние оценки пользователей для игр платформ Xbox One и PC одинаковые."
   ]
  },
  {
   "cell_type": "markdown",
   "metadata": {
    "pycharm": {
     "name": "#%% md\n"
    }
   },
   "source": [
    "### Равенство пользовательских рейтингов жанров Action и Sports"
   ]
  },
  {
   "cell_type": "markdown",
   "metadata": {
    "pycharm": {
     "name": "#%% md\n"
    }
   },
   "source": [
    "Проверим гипотезу о том, что средние пользовательские рейтинги жанров Action и Sports разные.\n",
    "\n",
    "Сначала построим гистограммы распределений этих оценок.\n",
    "\n",
    "**Гистограмма оценок для жанра Action:**"
   ]
  },
  {
   "cell_type": "code",
   "execution_count": 114,
   "metadata": {
    "pycharm": {
     "name": "#%%\n"
    }
   },
   "outputs": [
    {
     "data": {
      "text/plain": [
       "<matplotlib.axes._subplots.AxesSubplot at 0x7f8dbaf5d190>"
      ]
     },
     "execution_count": 114,
     "metadata": {},
     "output_type": "execute_result"
    },
    {
     "data": {
      "image/png": "[encoded data removed]",
      "text/plain": [
       "<Figure size 432x288 with 1 Axes>"
      ]
     },
     "metadata": {
      "needs_background": "light"
     },
     "output_type": "display_data"
    }
   ],
   "source": [
    "(data.\n",
    " query('genre == \"Action\" & user_score > 0 & year_of_release > 2012')['user_score'].\n",
    " plot(kind='hist',\n",
    "      title='Action',\n",
    "      grid=True)\n",
    ")"
   ]
  },
  {
   "cell_type": "markdown",
   "metadata": {
    "pycharm": {
     "name": "#%% md\n"
    }
   },
   "source": [
    "**Гистограмма оценок для жанра Sports:**"
   ]
  },
  {
   "cell_type": "code",
   "execution_count": 115,
   "metadata": {
    "pycharm": {
     "name": "#%%\n"
    }
   },
   "outputs": [
    {
     "data": {
      "text/plain": [
       "<matplotlib.axes._subplots.AxesSubplot at 0x7f8dbae9eb10>"
      ]
     },
     "execution_count": 115,
     "metadata": {},
     "output_type": "execute_result"
    },
    {
     "data": {
      "image/png": "[encoded data removed]",
      "text/plain": [
       "<Figure size 432x288 with 1 Axes>"
      ]
     },
     "metadata": {
      "needs_background": "light"
     },
     "output_type": "display_data"
    }
   ],
   "source": [
    "(data.\n",
    " query('genre == \"Sports\" & user_score > 0 & year_of_release > 2012')['user_score'].\n",
    " plot(kind='hist',\n",
    "      title='Sports',\n",
    "      grid=True)\n",
    ")"
   ]
  },
  {
   "cell_type": "markdown",
   "metadata": {
    "pycharm": {
     "name": "#%% md\n"
    }
   },
   "source": [
    "На первый взгляд, среднее должно различаться.\n",
    "\n",
    "Теперь проверим гипотезу, для этого:\n",
    "- В качестве нулевой гипотезы примем, что средние оценки одинаковы. \n",
    "- В качестве критического уровня статистической значимости примем значение 0.05.\n",
    "- Используем t-критерий Уэлча, в котором дисперсии выборок необязательно равны."
   ]
  },
  {
   "cell_type": "code",
   "execution_count": 116,
   "metadata": {
    "pycharm": {
     "name": "#%%\n"
    }
   },
   "outputs": [],
   "source": [
    "alpha = 0.05\n",
    "results_2 = st.ttest_ind(data.query('genre == \"Action\" & user_score > 0 & year_of_release > 2012')['user_score'], \n",
    "                         data.query('genre == \"Sports\" & user_score > 0 & year_of_release > 2012')['user_score'],\n",
    "                         equal_var=False)"
   ]
  },
  {
   "cell_type": "markdown",
   "metadata": {
    "pycharm": {
     "name": "#%% md\n"
    }
   },
   "source": [
    "Сравним полученное значение p-value с alpha."
   ]
  },
  {
   "cell_type": "code",
   "execution_count": 117,
   "metadata": {
    "pycharm": {
     "name": "#%%\n"
    }
   },
   "outputs": [
    {
     "name": "stdout",
     "output_type": "stream",
     "text": [
      "Отвергаем нулевую гипотезу.\n"
     ]
    }
   ],
   "source": [
    "if results_2.pvalue < alpha:\n",
    "    print('Отвергаем нулевую гипотезу.')\n",
    "else:\n",
    "    print('Не получилось отвергнуть нулевую гипотезу.') "
   ]
  },
  {
   "cell_type": "markdown",
   "metadata": {
    "pycharm": {
     "name": "#%% md\n"
    }
   },
   "source": [
    "**Вывод:**\n",
    "\n",
    "Средние оценки пользователей для игр жанров Action и Sports разные."
   ]
  },
  {
   "cell_type": "markdown",
   "metadata": {
    "pycharm": {
     "name": "#%% md\n"
    }
   },
   "source": [
    "## Общий вывод"
   ]
  },
  {
   "cell_type": "markdown",
   "metadata": {
    "pycharm": {
     "name": "#%% md\n"
    }
   },
   "source": [
    "В данном проекте были проанализированы данные о том, какие закономерности определяют успешность игры.\n",
    "\n",
    "1. Было проведено первоначальное знакомство со всеми датасетами.\n",
    "\n",
    "\n",
    "2. Проведена подготовка данных:\n",
    "    - Названия столбцов приведены к нижнему регистру.\n",
    "    - Сменен тип данных в некоторых столбцах для того, чтобы в дальнейшем облегчить работу с ними.\n",
    "    - Обработаны пропуски в данных.\n",
    "    \n",
    "    \n",
    "3. Проведен анализ данных:\n",
    "    - Показано общее количество выпускаемых игр с 1980 до 2017 года.\n",
    "    - Приведены гистограммы продаж по самым популярным платформам. Был сделан вывод о том, что в среднем платформы живут 7-8 лет.\n",
    "    - Был определен актуальный период, за который взята дата начала продаж платформ нового поколения PS4 и Xbox One.\n",
    "    - Проанализированы продажи по самым популярным платформам в актуальном периоде. Показано, что платформа PS4 вырвалась в лидеры.\n",
    "    - Исследовано влияние оценок критиков и пользователей на продажи игр на платформах PS4 и Xbox One. Показано, что для обоих платформ продажи сильно коррелируют с оценками критиков, при этом оценки пользователей никак не влияют не продажи.\n",
    "    - Составлены портреты пользователей из Северной Америки, Европы и Японии. Пользователи из Европы и Северной Америки играют примерно в одинаковые игры (Action, Shooter, Sports) на одинаковых платформах (PS4, Xbox One и PS3 или Xbox 360). Японские же пользователи от них сильно отличаются, играя в игры жанра Role-Platyng и Action на платформах 3DS, PS3 и PS Vita.\n",
    "    \n",
    "\n",
    "4. Были проверены следующие гипотезы:\n",
    "    - \"Средние пользовательские рейтинги платформ Xbox One и PC одинаковые\". Эта гипотеза была принята как нулевая, и не была отвергнута.\n",
    "    - \"Средние пользовательские рейтинги жанров Action и Sports разные\". В качестве нулевой гипотизы в данном случае было принято их равенство. Нулевую гипотезу отвергли, поэтому проверяемая гипотеза верна."
   ]
  }
 ],
 "metadata": {
  "ExecuteTimeLog": [
   {
    "duration": 1498,
    "start_time": "2021-12-22T14:21:01.363Z"
   },
   {
    "duration": 47,
    "start_time": "2021-12-22T14:21:28.477Z"
   },
   {
    "duration": 34,
    "start_time": "2021-12-22T14:21:31.985Z"
   },
   {
    "duration": 442,
    "start_time": "2021-12-24T09:24:56.101Z"
   },
   {
    "duration": 1433,
    "start_time": "2021-12-24T09:24:59.798Z"
   },
   {
    "duration": 51,
    "start_time": "2021-12-24T09:25:01.233Z"
   },
   {
    "duration": 26,
    "start_time": "2021-12-24T09:25:11.226Z"
   },
   {
    "duration": 15,
    "start_time": "2021-12-24T09:25:37.034Z"
   },
   {
    "duration": 43,
    "start_time": "2021-12-24T09:26:07.082Z"
   },
   {
    "duration": 44,
    "start_time": "2021-12-24T09:30:21.572Z"
   },
   {
    "duration": 5,
    "start_time": "2021-12-24T09:33:48.005Z"
   },
   {
    "duration": 598,
    "start_time": "2021-12-24T09:33:53.605Z"
   },
   {
    "duration": 5,
    "start_time": "2021-12-24T09:34:01.837Z"
   },
   {
    "duration": 33,
    "start_time": "2021-12-24T09:36:09.789Z"
   },
   {
    "duration": 21,
    "start_time": "2021-12-24T09:36:16.740Z"
   },
   {
    "duration": 6,
    "start_time": "2021-12-24T09:37:17.231Z"
   },
   {
    "duration": 63,
    "start_time": "2021-12-24T09:37:17.241Z"
   },
   {
    "duration": 30,
    "start_time": "2021-12-24T09:37:17.308Z"
   },
   {
    "duration": 26,
    "start_time": "2021-12-24T09:37:17.341Z"
   },
   {
    "duration": 43,
    "start_time": "2021-12-24T09:37:17.369Z"
   },
   {
    "duration": 47,
    "start_time": "2021-12-24T09:37:23.661Z"
   },
   {
    "duration": 29,
    "start_time": "2021-12-24T09:37:30.693Z"
   },
   {
    "duration": 4,
    "start_time": "2021-12-24T09:37:42.495Z"
   },
   {
    "duration": 52,
    "start_time": "2021-12-24T09:37:42.501Z"
   },
   {
    "duration": 22,
    "start_time": "2021-12-24T09:37:42.556Z"
   },
   {
    "duration": 14,
    "start_time": "2021-12-24T09:37:42.580Z"
   },
   {
    "duration": 72,
    "start_time": "2021-12-24T09:37:42.597Z"
   },
   {
    "duration": 7,
    "start_time": "2021-12-24T09:37:44.559Z"
   },
   {
    "duration": 27,
    "start_time": "2021-12-24T09:37:50.293Z"
   },
   {
    "duration": 17,
    "start_time": "2021-12-24T09:38:35.598Z"
   },
   {
    "duration": 14,
    "start_time": "2021-12-24T09:38:37.805Z"
   },
   {
    "duration": 7,
    "start_time": "2021-12-24T09:38:46.543Z"
   },
   {
    "duration": 9,
    "start_time": "2021-12-24T09:41:31.808Z"
   },
   {
    "duration": 7,
    "start_time": "2021-12-24T09:41:36.455Z"
   },
   {
    "duration": 372,
    "start_time": "2021-12-24T09:43:13.103Z"
   },
   {
    "duration": 8,
    "start_time": "2021-12-24T09:43:35.416Z"
   },
   {
    "duration": 6,
    "start_time": "2021-12-24T09:43:39.303Z"
   },
   {
    "duration": 4,
    "start_time": "2021-12-24T09:43:51.802Z"
   },
   {
    "duration": 51,
    "start_time": "2021-12-24T09:43:51.808Z"
   },
   {
    "duration": 20,
    "start_time": "2021-12-24T09:43:51.862Z"
   },
   {
    "duration": 14,
    "start_time": "2021-12-24T09:43:51.885Z"
   },
   {
    "duration": 61,
    "start_time": "2021-12-24T09:43:51.902Z"
   },
   {
    "duration": 24,
    "start_time": "2021-12-24T09:43:51.966Z"
   },
   {
    "duration": 6,
    "start_time": "2021-12-24T09:43:51.992Z"
   },
   {
    "duration": 399,
    "start_time": "2021-12-24T09:44:22.911Z"
   },
   {
    "duration": 6,
    "start_time": "2021-12-24T09:45:15.857Z"
   },
   {
    "duration": 8,
    "start_time": "2021-12-24T09:45:20.856Z"
   },
   {
    "duration": 393,
    "start_time": "2021-12-24T10:24:21.179Z"
   },
   {
    "duration": 392,
    "start_time": "2021-12-24T10:24:26.451Z"
   },
   {
    "duration": 7,
    "start_time": "2021-12-24T10:25:42.172Z"
   },
   {
    "duration": 190,
    "start_time": "2021-12-24T10:25:50.887Z"
   },
   {
    "duration": 9,
    "start_time": "2021-12-24T10:25:53.835Z"
   },
   {
    "duration": 8,
    "start_time": "2021-12-24T10:26:07.383Z"
   },
   {
    "duration": 7,
    "start_time": "2021-12-24T10:28:19.267Z"
   },
   {
    "duration": 8,
    "start_time": "2021-12-24T10:28:27.613Z"
   },
   {
    "duration": 4,
    "start_time": "2021-12-24T10:29:56.774Z"
   },
   {
    "duration": 49,
    "start_time": "2021-12-24T10:29:56.781Z"
   },
   {
    "duration": 20,
    "start_time": "2021-12-24T10:29:56.833Z"
   },
   {
    "duration": 20,
    "start_time": "2021-12-24T10:29:56.856Z"
   },
   {
    "duration": 42,
    "start_time": "2021-12-24T10:29:56.878Z"
   },
   {
    "duration": 55,
    "start_time": "2021-12-24T10:29:56.922Z"
   },
   {
    "duration": 7,
    "start_time": "2021-12-24T10:29:56.979Z"
   },
   {
    "duration": 6,
    "start_time": "2021-12-24T10:29:56.989Z"
   },
   {
    "duration": 6,
    "start_time": "2021-12-24T10:29:58.583Z"
   },
   {
    "duration": 602,
    "start_time": "2021-12-24T10:30:13.501Z"
   },
   {
    "duration": 4,
    "start_time": "2021-12-24T10:31:00.216Z"
   },
   {
    "duration": 68,
    "start_time": "2021-12-24T10:31:00.223Z"
   },
   {
    "duration": 31,
    "start_time": "2021-12-24T10:31:00.296Z"
   },
   {
    "duration": 38,
    "start_time": "2021-12-24T10:31:00.330Z"
   },
   {
    "duration": 46,
    "start_time": "2021-12-24T10:31:00.371Z"
   },
   {
    "duration": 52,
    "start_time": "2021-12-24T10:31:00.420Z"
   },
   {
    "duration": 8,
    "start_time": "2021-12-24T10:31:00.478Z"
   },
   {
    "duration": 14,
    "start_time": "2021-12-24T10:31:00.489Z"
   },
   {
    "duration": 5,
    "start_time": "2021-12-24T10:31:02.076Z"
   },
   {
    "duration": 7,
    "start_time": "2021-12-24T10:31:10.840Z"
   },
   {
    "duration": 10,
    "start_time": "2021-12-24T10:31:22.192Z"
   },
   {
    "duration": 7,
    "start_time": "2021-12-24T10:31:28.996Z"
   },
   {
    "duration": 14,
    "start_time": "2021-12-24T10:39:43.912Z"
   },
   {
    "duration": 38,
    "start_time": "2021-12-24T10:39:51.553Z"
   },
   {
    "duration": 16,
    "start_time": "2021-12-24T10:39:56.303Z"
   },
   {
    "duration": 22,
    "start_time": "2021-12-24T10:41:05.680Z"
   },
   {
    "duration": 2798,
    "start_time": "2021-12-24T10:43:11.105Z"
   },
   {
    "duration": 565,
    "start_time": "2021-12-24T10:43:21.881Z"
   },
   {
    "duration": 665,
    "start_time": "2021-12-24T10:43:27.837Z"
   },
   {
    "duration": 15,
    "start_time": "2021-12-24T10:43:31.625Z"
   },
   {
    "duration": 20,
    "start_time": "2021-12-24T10:43:39.457Z"
   },
   {
    "duration": 19,
    "start_time": "2021-12-24T10:43:46.722Z"
   },
   {
    "duration": 9,
    "start_time": "2021-12-24T10:43:52.243Z"
   },
   {
    "duration": 21,
    "start_time": "2021-12-24T10:43:54.858Z"
   },
   {
    "duration": 15,
    "start_time": "2021-12-24T10:44:05.856Z"
   },
   {
    "duration": 19,
    "start_time": "2021-12-24T10:44:06.777Z"
   },
   {
    "duration": 6,
    "start_time": "2021-12-24T10:45:06.041Z"
   },
   {
    "duration": 13,
    "start_time": "2021-12-24T10:45:08.016Z"
   },
   {
    "duration": 5,
    "start_time": "2021-12-24T10:45:32.926Z"
   },
   {
    "duration": 55,
    "start_time": "2021-12-24T10:45:32.934Z"
   },
   {
    "duration": 23,
    "start_time": "2021-12-24T10:45:32.992Z"
   },
   {
    "duration": 22,
    "start_time": "2021-12-24T10:45:33.019Z"
   },
   {
    "duration": 62,
    "start_time": "2021-12-24T10:45:33.059Z"
   },
   {
    "duration": 51,
    "start_time": "2021-12-24T10:45:33.125Z"
   },
   {
    "duration": 7,
    "start_time": "2021-12-24T10:45:33.179Z"
   },
   {
    "duration": 8,
    "start_time": "2021-12-24T10:45:33.191Z"
   },
   {
    "duration": 14,
    "start_time": "2021-12-24T10:45:33.202Z"
   },
   {
    "duration": 12,
    "start_time": "2021-12-24T10:45:33.219Z"
   },
   {
    "duration": 37,
    "start_time": "2021-12-24T10:45:33.233Z"
   },
   {
    "duration": 16,
    "start_time": "2021-12-24T10:45:33.273Z"
   },
   {
    "duration": 21,
    "start_time": "2021-12-24T10:45:33.292Z"
   },
   {
    "duration": 6,
    "start_time": "2021-12-24T10:45:34.625Z"
   },
   {
    "duration": 12,
    "start_time": "2021-12-24T10:45:35.525Z"
   },
   {
    "duration": 3,
    "start_time": "2021-12-24T10:45:50.141Z"
   },
   {
    "duration": 60,
    "start_time": "2021-12-24T10:45:50.147Z"
   },
   {
    "duration": 22,
    "start_time": "2021-12-24T10:45:50.211Z"
   },
   {
    "duration": 16,
    "start_time": "2021-12-24T10:45:50.236Z"
   },
   {
    "duration": 47,
    "start_time": "2021-12-24T10:45:50.260Z"
   },
   {
    "duration": 24,
    "start_time": "2021-12-24T10:45:50.309Z"
   },
   {
    "duration": 31,
    "start_time": "2021-12-24T10:45:50.335Z"
   },
   {
    "duration": 9,
    "start_time": "2021-12-24T10:45:50.368Z"
   },
   {
    "duration": 6,
    "start_time": "2021-12-24T10:45:50.381Z"
   },
   {
    "duration": 11,
    "start_time": "2021-12-24T10:45:50.389Z"
   },
   {
    "duration": 7,
    "start_time": "2021-12-24T10:45:50.402Z"
   },
   {
    "duration": 59,
    "start_time": "2021-12-24T10:45:50.412Z"
   },
   {
    "duration": 19,
    "start_time": "2021-12-24T10:45:50.478Z"
   },
   {
    "duration": 10,
    "start_time": "2021-12-24T10:45:51.945Z"
   },
   {
    "duration": 19,
    "start_time": "2021-12-24T10:45:52.321Z"
   },
   {
    "duration": 8,
    "start_time": "2021-12-24T10:46:44.209Z"
   },
   {
    "duration": 4,
    "start_time": "2021-12-24T10:46:47.173Z"
   },
   {
    "duration": 52,
    "start_time": "2021-12-24T10:46:47.180Z"
   },
   {
    "duration": 28,
    "start_time": "2021-12-24T10:46:47.235Z"
   },
   {
    "duration": 17,
    "start_time": "2021-12-24T10:46:47.266Z"
   },
   {
    "duration": 43,
    "start_time": "2021-12-24T10:46:47.285Z"
   },
   {
    "duration": 48,
    "start_time": "2021-12-24T10:46:47.331Z"
   },
   {
    "duration": 7,
    "start_time": "2021-12-24T10:46:47.381Z"
   },
   {
    "duration": 7,
    "start_time": "2021-12-24T10:46:47.391Z"
   },
   {
    "duration": 5,
    "start_time": "2021-12-24T10:46:47.404Z"
   },
   {
    "duration": 60,
    "start_time": "2021-12-24T10:46:47.411Z"
   },
   {
    "duration": 7,
    "start_time": "2021-12-24T10:46:47.473Z"
   },
   {
    "duration": 14,
    "start_time": "2021-12-24T10:46:47.483Z"
   },
   {
    "duration": 19,
    "start_time": "2021-12-24T10:46:47.500Z"
   },
   {
    "duration": 7,
    "start_time": "2021-12-24T10:46:47.521Z"
   },
   {
    "duration": 8,
    "start_time": "2021-12-24T10:46:49.336Z"
   },
   {
    "duration": 13,
    "start_time": "2021-12-24T10:46:54.180Z"
   },
   {
    "duration": 32,
    "start_time": "2021-12-24T10:47:35.315Z"
   },
   {
    "duration": 7,
    "start_time": "2021-12-24T10:47:53.418Z"
   },
   {
    "duration": 14,
    "start_time": "2021-12-24T10:53:15.617Z"
   },
   {
    "duration": 35,
    "start_time": "2021-12-24T10:53:30.962Z"
   },
   {
    "duration": 28,
    "start_time": "2021-12-24T11:00:40.572Z"
   },
   {
    "duration": 64,
    "start_time": "2021-12-24T11:08:13.569Z"
   },
   {
    "duration": 39,
    "start_time": "2021-12-24T11:08:21.202Z"
   },
   {
    "duration": 7,
    "start_time": "2021-12-24T11:08:26.232Z"
   },
   {
    "duration": 31,
    "start_time": "2021-12-24T11:08:59.408Z"
   },
   {
    "duration": 34,
    "start_time": "2021-12-24T11:22:47.885Z"
   },
   {
    "duration": 6,
    "start_time": "2021-12-24T11:28:58.222Z"
   },
   {
    "duration": 7,
    "start_time": "2021-12-24T11:29:10.576Z"
   },
   {
    "duration": 9,
    "start_time": "2021-12-24T11:32:11.903Z"
   },
   {
    "duration": 286,
    "start_time": "2021-12-24T11:32:22.456Z"
   },
   {
    "duration": 10,
    "start_time": "2021-12-24T11:32:31.234Z"
   },
   {
    "duration": 433,
    "start_time": "2021-12-24T11:32:52.264Z"
   },
   {
    "duration": 745,
    "start_time": "2021-12-24T11:32:59.759Z"
   },
   {
    "duration": 289,
    "start_time": "2021-12-24T11:33:18.960Z"
   },
   {
    "duration": 301,
    "start_time": "2021-12-24T11:33:33.575Z"
   },
   {
    "duration": 535,
    "start_time": "2021-12-24T11:33:38.049Z"
   },
   {
    "duration": 509,
    "start_time": "2021-12-24T11:34:04.224Z"
   },
   {
    "duration": 15,
    "start_time": "2021-12-24T11:54:50.598Z"
   },
   {
    "duration": 13,
    "start_time": "2021-12-24T11:54:57.823Z"
   },
   {
    "duration": 13,
    "start_time": "2021-12-24T11:55:18.751Z"
   },
   {
    "duration": 17,
    "start_time": "2021-12-24T11:55:30.239Z"
   },
   {
    "duration": 15,
    "start_time": "2021-12-24T11:57:07.239Z"
   },
   {
    "duration": 441,
    "start_time": "2021-12-24T11:57:58.431Z"
   },
   {
    "duration": 41,
    "start_time": "2021-12-24T11:58:00.713Z"
   },
   {
    "duration": 14,
    "start_time": "2021-12-24T11:58:23.144Z"
   },
   {
    "duration": 454,
    "start_time": "2021-12-24T11:58:37.927Z"
   },
   {
    "duration": 403,
    "start_time": "2021-12-24T11:58:42.656Z"
   },
   {
    "duration": 474,
    "start_time": "2021-12-24T11:59:17.503Z"
   },
   {
    "duration": 408,
    "start_time": "2021-12-24T11:59:23.695Z"
   },
   {
    "duration": 444,
    "start_time": "2021-12-24T11:59:34.529Z"
   },
   {
    "duration": 21,
    "start_time": "2021-12-24T11:59:39.759Z"
   },
   {
    "duration": 12,
    "start_time": "2021-12-24T11:59:50.607Z"
   },
   {
    "duration": 13,
    "start_time": "2021-12-24T12:00:11.969Z"
   },
   {
    "duration": 9,
    "start_time": "2021-12-24T12:01:19.670Z"
   },
   {
    "duration": 9,
    "start_time": "2021-12-24T12:01:24.520Z"
   },
   {
    "duration": 29,
    "start_time": "2021-12-24T12:09:41.306Z"
   },
   {
    "duration": 692,
    "start_time": "2021-12-24T12:10:18.076Z"
   },
   {
    "duration": 30,
    "start_time": "2021-12-24T12:10:23.467Z"
   },
   {
    "duration": 29,
    "start_time": "2021-12-24T12:11:37.894Z"
   },
   {
    "duration": 19,
    "start_time": "2021-12-24T12:16:37.246Z"
   },
   {
    "duration": 310,
    "start_time": "2021-12-24T12:16:45.039Z"
   },
   {
    "duration": 7,
    "start_time": "2021-12-24T12:17:21.557Z"
   },
   {
    "duration": 10,
    "start_time": "2021-12-24T12:17:30.398Z"
   },
   {
    "duration": 7,
    "start_time": "2021-12-24T12:17:37.557Z"
   },
   {
    "duration": 374,
    "start_time": "2021-12-24T12:17:50.070Z"
   },
   {
    "duration": 323,
    "start_time": "2021-12-24T12:18:19.254Z"
   },
   {
    "duration": 421,
    "start_time": "2021-12-24T12:18:25.878Z"
   },
   {
    "duration": 312,
    "start_time": "2021-12-24T12:18:37.719Z"
   },
   {
    "duration": 330,
    "start_time": "2021-12-24T12:18:45.070Z"
   },
   {
    "duration": 36,
    "start_time": "2021-12-24T12:19:22.319Z"
   },
   {
    "duration": 451,
    "start_time": "2021-12-24T12:19:39.600Z"
   },
   {
    "duration": 428,
    "start_time": "2021-12-24T12:19:55.303Z"
   },
   {
    "duration": 135,
    "start_time": "2021-12-24T12:19:59.874Z"
   },
   {
    "duration": 485,
    "start_time": "2021-12-24T12:20:02.261Z"
   },
   {
    "duration": 973,
    "start_time": "2021-12-24T12:20:06.861Z"
   },
   {
    "duration": 433,
    "start_time": "2021-12-24T12:20:37.535Z"
   },
   {
    "duration": 873,
    "start_time": "2021-12-24T12:20:45.467Z"
   },
   {
    "duration": 330,
    "start_time": "2021-12-24T12:21:27.470Z"
   },
   {
    "duration": 710,
    "start_time": "2021-12-24T12:21:43.446Z"
   },
   {
    "duration": 698,
    "start_time": "2021-12-24T12:21:49.408Z"
   },
   {
    "duration": 318,
    "start_time": "2021-12-24T12:21:56.352Z"
   },
   {
    "duration": 677,
    "start_time": "2021-12-24T13:18:27.639Z"
   },
   {
    "duration": 312,
    "start_time": "2021-12-24T13:18:48.650Z"
   },
   {
    "duration": 430,
    "start_time": "2021-12-24T13:18:57.838Z"
   },
   {
    "duration": 426,
    "start_time": "2021-12-24T13:19:00.718Z"
   },
   {
    "duration": 317,
    "start_time": "2021-12-24T13:19:03.509Z"
   },
   {
    "duration": 157,
    "start_time": "2021-12-24T13:19:21.846Z"
   },
   {
    "duration": 316,
    "start_time": "2021-12-24T13:19:25.645Z"
   },
   {
    "duration": 420,
    "start_time": "2021-12-24T13:20:07.189Z"
   },
   {
    "duration": 339,
    "start_time": "2021-12-24T13:20:36.853Z"
   },
   {
    "duration": 580,
    "start_time": "2021-12-24T13:20:49.941Z"
   },
   {
    "duration": 533,
    "start_time": "2021-12-24T13:21:24.037Z"
   },
   {
    "duration": 345,
    "start_time": "2021-12-24T13:21:29.520Z"
   },
   {
    "duration": 553,
    "start_time": "2021-12-24T13:21:33.646Z"
   },
   {
    "duration": 642,
    "start_time": "2021-12-24T13:21:45.678Z"
   },
   {
    "duration": 638,
    "start_time": "2021-12-24T13:21:51.535Z"
   },
   {
    "duration": 642,
    "start_time": "2021-12-24T13:21:56.453Z"
   },
   {
    "duration": 130,
    "start_time": "2021-12-24T13:22:11.022Z"
   },
   {
    "duration": 324,
    "start_time": "2021-12-24T13:22:29.893Z"
   },
   {
    "duration": 1033,
    "start_time": "2021-12-24T13:22:32.171Z"
   },
   {
    "duration": 1008,
    "start_time": "2021-12-24T13:23:07.767Z"
   },
   {
    "duration": 769,
    "start_time": "2021-12-24T13:23:22.141Z"
   },
   {
    "duration": 788,
    "start_time": "2021-12-24T13:23:27.422Z"
   },
   {
    "duration": 758,
    "start_time": "2021-12-24T13:23:33.871Z"
   },
   {
    "duration": 778,
    "start_time": "2021-12-24T13:23:40.248Z"
   },
   {
    "duration": 979,
    "start_time": "2021-12-24T13:23:43.047Z"
   },
   {
    "duration": 976,
    "start_time": "2021-12-24T13:26:51.857Z"
   },
   {
    "duration": 424,
    "start_time": "2021-12-24T13:27:52.962Z"
   },
   {
    "duration": 132,
    "start_time": "2021-12-24T13:28:03.815Z"
   },
   {
    "duration": 190,
    "start_time": "2021-12-24T13:28:24.106Z"
   },
   {
    "duration": 164,
    "start_time": "2021-12-24T13:28:30.052Z"
   },
   {
    "duration": 154,
    "start_time": "2021-12-24T13:28:44.457Z"
   },
   {
    "duration": 849,
    "start_time": "2021-12-24T13:28:50.768Z"
   },
   {
    "duration": 413,
    "start_time": "2021-12-24T13:28:57.177Z"
   },
   {
    "duration": 337,
    "start_time": "2021-12-24T13:29:04.440Z"
   },
   {
    "duration": 400,
    "start_time": "2021-12-24T13:29:24.354Z"
   },
   {
    "duration": 339,
    "start_time": "2021-12-24T13:29:28.345Z"
   },
   {
    "duration": 368,
    "start_time": "2021-12-24T13:30:10.753Z"
   },
   {
    "duration": 765,
    "start_time": "2021-12-24T13:30:39.553Z"
   },
   {
    "duration": 10,
    "start_time": "2021-12-24T13:34:22.057Z"
   },
   {
    "duration": 28,
    "start_time": "2021-12-24T13:35:50.267Z"
   },
   {
    "duration": 26,
    "start_time": "2021-12-24T13:36:37.716Z"
   },
   {
    "duration": 24,
    "start_time": "2021-12-24T13:37:22.582Z"
   },
   {
    "duration": 43,
    "start_time": "2021-12-24T13:37:30.787Z"
   },
   {
    "duration": 99,
    "start_time": "2021-12-24T13:37:44.220Z"
   },
   {
    "duration": 13,
    "start_time": "2021-12-24T13:37:57.139Z"
   },
   {
    "duration": 19,
    "start_time": "2021-12-24T13:38:09.307Z"
   },
   {
    "duration": 20,
    "start_time": "2021-12-24T13:38:21.444Z"
   },
   {
    "duration": 32,
    "start_time": "2021-12-24T13:42:24.764Z"
   },
   {
    "duration": 27,
    "start_time": "2021-12-24T13:44:07.332Z"
   },
   {
    "duration": 328,
    "start_time": "2021-12-24T13:44:16.685Z"
   },
   {
    "duration": 431,
    "start_time": "2021-12-24T13:44:19.413Z"
   },
   {
    "duration": 331,
    "start_time": "2021-12-24T13:44:40.973Z"
   },
   {
    "duration": 409,
    "start_time": "2021-12-24T13:44:53.397Z"
   },
   {
    "duration": 352,
    "start_time": "2021-12-24T13:45:10.893Z"
   },
   {
    "duration": 301,
    "start_time": "2021-12-24T13:45:18.175Z"
   },
   {
    "duration": 424,
    "start_time": "2021-12-24T13:45:30.429Z"
   },
   {
    "duration": 23,
    "start_time": "2021-12-24T13:45:49.885Z"
   },
   {
    "duration": 462,
    "start_time": "2021-12-24T13:46:24.837Z"
   },
   {
    "duration": 452,
    "start_time": "2021-12-24T13:46:40.405Z"
   },
   {
    "duration": 8,
    "start_time": "2021-12-24T13:46:57.094Z"
   },
   {
    "duration": 1766,
    "start_time": "2021-12-24T13:47:22.864Z"
   },
   {
    "duration": 1739,
    "start_time": "2021-12-24T13:47:32.725Z"
   },
   {
    "duration": 1024,
    "start_time": "2021-12-24T13:47:51.678Z"
   },
   {
    "duration": 28,
    "start_time": "2021-12-24T13:48:09.566Z"
   },
   {
    "duration": 310,
    "start_time": "2021-12-24T13:48:24.397Z"
   },
   {
    "duration": 471,
    "start_time": "2021-12-24T13:48:27.039Z"
   },
   {
    "duration": 468,
    "start_time": "2021-12-24T13:48:36.750Z"
   },
   {
    "duration": 246,
    "start_time": "2021-12-24T13:48:39.285Z"
   },
   {
    "duration": 447,
    "start_time": "2021-12-24T13:48:50.133Z"
   },
   {
    "duration": 313,
    "start_time": "2021-12-24T13:48:57.157Z"
   },
   {
    "duration": 1201,
    "start_time": "2021-12-25T17:17:59.630Z"
   },
   {
    "duration": 41,
    "start_time": "2021-12-25T17:18:00.833Z"
   },
   {
    "duration": 20,
    "start_time": "2021-12-25T17:18:00.878Z"
   },
   {
    "duration": 11,
    "start_time": "2021-12-25T17:18:00.900Z"
   },
   {
    "duration": 51,
    "start_time": "2021-12-25T17:18:00.913Z"
   },
   {
    "duration": 16,
    "start_time": "2021-12-25T17:18:00.966Z"
   },
   {
    "duration": 4,
    "start_time": "2021-12-25T17:18:00.984Z"
   },
   {
    "duration": 12,
    "start_time": "2021-12-25T17:18:00.991Z"
   },
   {
    "duration": 9,
    "start_time": "2021-12-25T17:18:01.005Z"
   },
   {
    "duration": 25,
    "start_time": "2021-12-25T17:18:01.016Z"
   },
   {
    "duration": 5,
    "start_time": "2021-12-25T17:18:01.043Z"
   },
   {
    "duration": 19,
    "start_time": "2021-12-25T17:18:01.050Z"
   },
   {
    "duration": 16,
    "start_time": "2021-12-25T17:18:01.070Z"
   },
   {
    "duration": 16,
    "start_time": "2021-12-25T17:18:01.088Z"
   },
   {
    "duration": 24,
    "start_time": "2021-12-25T17:18:01.106Z"
   },
   {
    "duration": 37,
    "start_time": "2021-12-25T17:18:01.132Z"
   },
   {
    "duration": 19,
    "start_time": "2021-12-25T17:18:01.171Z"
   },
   {
    "duration": 22,
    "start_time": "2021-12-25T17:18:01.192Z"
   },
   {
    "duration": 4,
    "start_time": "2021-12-25T17:18:01.216Z"
   },
   {
    "duration": 339,
    "start_time": "2021-12-25T17:18:01.222Z"
   },
   {
    "duration": 5,
    "start_time": "2021-12-25T17:18:01.562Z"
   },
   {
    "duration": 14,
    "start_time": "2021-12-25T17:18:31.899Z"
   },
   {
    "duration": 162,
    "start_time": "2021-12-25T17:19:36.574Z"
   },
   {
    "duration": 160,
    "start_time": "2021-12-25T17:20:58.399Z"
   },
   {
    "duration": 164,
    "start_time": "2021-12-25T17:21:02.011Z"
   },
   {
    "duration": 134,
    "start_time": "2021-12-25T17:21:05.865Z"
   },
   {
    "duration": 14,
    "start_time": "2021-12-25T17:32:36.959Z"
   },
   {
    "duration": 15,
    "start_time": "2021-12-25T17:33:15.766Z"
   },
   {
    "duration": 15,
    "start_time": "2021-12-25T17:33:22.937Z"
   },
   {
    "duration": 14,
    "start_time": "2021-12-25T17:33:27.309Z"
   },
   {
    "duration": 14,
    "start_time": "2021-12-25T17:33:30.521Z"
   },
   {
    "duration": 126,
    "start_time": "2021-12-25T17:33:37.751Z"
   },
   {
    "duration": 137,
    "start_time": "2021-12-25T17:33:49.145Z"
   },
   {
    "duration": 123,
    "start_time": "2021-12-25T17:33:53.425Z"
   },
   {
    "duration": 183,
    "start_time": "2021-12-25T17:33:58.830Z"
   },
   {
    "duration": 132,
    "start_time": "2021-12-25T17:34:04.730Z"
   },
   {
    "duration": 128,
    "start_time": "2021-12-25T17:34:13.693Z"
   },
   {
    "duration": 140,
    "start_time": "2021-12-25T17:34:19.102Z"
   },
   {
    "duration": 133,
    "start_time": "2021-12-25T17:34:25.931Z"
   },
   {
    "duration": 139,
    "start_time": "2021-12-25T17:34:31.824Z"
   },
   {
    "duration": 125,
    "start_time": "2021-12-25T17:35:10.729Z"
   },
   {
    "duration": 127,
    "start_time": "2021-12-25T17:35:19.060Z"
   },
   {
    "duration": 122,
    "start_time": "2021-12-25T17:35:26.903Z"
   },
   {
    "duration": 121,
    "start_time": "2021-12-25T17:35:46.979Z"
   },
   {
    "duration": 135,
    "start_time": "2021-12-25T17:36:12.792Z"
   },
   {
    "duration": 19,
    "start_time": "2021-12-25T17:40:07.089Z"
   },
   {
    "duration": 19,
    "start_time": "2021-12-25T17:40:10.693Z"
   },
   {
    "duration": 411,
    "start_time": "2021-12-25T17:40:18.311Z"
   },
   {
    "duration": 37,
    "start_time": "2021-12-25T17:40:27.347Z"
   },
   {
    "duration": 17,
    "start_time": "2021-12-25T17:41:15.907Z"
   },
   {
    "duration": 19,
    "start_time": "2021-12-25T17:41:36.571Z"
   },
   {
    "duration": 16,
    "start_time": "2021-12-25T17:41:56.138Z"
   },
   {
    "duration": 14,
    "start_time": "2021-12-25T17:42:06.262Z"
   },
   {
    "duration": 152,
    "start_time": "2021-12-25T17:42:26.814Z"
   },
   {
    "duration": 94,
    "start_time": "2021-12-25T17:42:33.864Z"
   },
   {
    "duration": 17,
    "start_time": "2021-12-25T17:42:36.383Z"
   },
   {
    "duration": 92,
    "start_time": "2021-12-25T17:43:00.898Z"
   },
   {
    "duration": 17,
    "start_time": "2021-12-25T17:43:22.350Z"
   },
   {
    "duration": 272,
    "start_time": "2021-12-25T17:43:28.677Z"
   },
   {
    "duration": 268,
    "start_time": "2021-12-25T17:43:34.515Z"
   },
   {
    "duration": 16,
    "start_time": "2021-12-25T17:43:36.930Z"
   },
   {
    "duration": 247,
    "start_time": "2021-12-25T17:43:44.563Z"
   },
   {
    "duration": 254,
    "start_time": "2021-12-25T17:43:46.535Z"
   },
   {
    "duration": 16,
    "start_time": "2021-12-25T17:43:49.989Z"
   },
   {
    "duration": 257,
    "start_time": "2021-12-25T17:44:08.680Z"
   },
   {
    "duration": 15,
    "start_time": "2021-12-25T17:44:14.401Z"
   },
   {
    "duration": 91,
    "start_time": "2021-12-25T17:45:20.042Z"
   },
   {
    "duration": 14,
    "start_time": "2021-12-25T17:45:23.273Z"
   },
   {
    "duration": 6,
    "start_time": "2021-12-25T17:45:28.504Z"
   },
   {
    "duration": 262,
    "start_time": "2021-12-25T17:45:33.289Z"
   },
   {
    "duration": 5,
    "start_time": "2021-12-25T17:45:37.762Z"
   },
   {
    "duration": 6,
    "start_time": "2021-12-25T17:45:39.842Z"
   },
   {
    "duration": 9,
    "start_time": "2021-12-25T17:45:47.341Z"
   },
   {
    "duration": 158,
    "start_time": "2021-12-25T17:46:02.313Z"
   },
   {
    "duration": 6573,
    "start_time": "2021-12-25T17:46:18.254Z"
   },
   {
    "duration": 162,
    "start_time": "2021-12-25T17:46:31.805Z"
   },
   {
    "duration": 331,
    "start_time": "2021-12-25T17:46:42.933Z"
   },
   {
    "duration": 4,
    "start_time": "2021-12-25T17:46:53.650Z"
   },
   {
    "duration": 9,
    "start_time": "2021-12-25T17:46:58.965Z"
   },
   {
    "duration": 450,
    "start_time": "2021-12-25T17:47:04.500Z"
   },
   {
    "duration": 323,
    "start_time": "2021-12-25T17:47:14.212Z"
   },
   {
    "duration": 249,
    "start_time": "2021-12-25T17:47:58.136Z"
   },
   {
    "duration": 6450,
    "start_time": "2021-12-25T17:48:09.774Z"
   },
   {
    "duration": 5120,
    "start_time": "2021-12-25T17:48:28.061Z"
   },
   {
    "duration": 296,
    "start_time": "2021-12-25T17:48:42.386Z"
   },
   {
    "duration": 4663,
    "start_time": "2021-12-25T17:48:49.236Z"
   },
   {
    "duration": 4,
    "start_time": "2021-12-25T17:48:59.198Z"
   },
   {
    "duration": 4,
    "start_time": "2021-12-25T17:49:10.512Z"
   },
   {
    "duration": 244,
    "start_time": "2021-12-25T17:49:16.027Z"
   },
   {
    "duration": 4,
    "start_time": "2021-12-25T17:49:23.388Z"
   },
   {
    "duration": 6,
    "start_time": "2021-12-25T17:49:33.197Z"
   },
   {
    "duration": 249,
    "start_time": "2021-12-25T17:49:40.449Z"
   },
   {
    "duration": 166,
    "start_time": "2021-12-25T17:49:56.119Z"
   },
   {
    "duration": 197,
    "start_time": "2021-12-25T17:50:01.138Z"
   },
   {
    "duration": 8,
    "start_time": "2021-12-25T17:50:45.815Z"
   },
   {
    "duration": 8,
    "start_time": "2021-12-25T17:50:52.801Z"
   },
   {
    "duration": 3,
    "start_time": "2021-12-25T17:50:57.223Z"
   },
   {
    "duration": 45,
    "start_time": "2021-12-25T17:50:57.228Z"
   },
   {
    "duration": 15,
    "start_time": "2021-12-25T17:50:57.275Z"
   },
   {
    "duration": 13,
    "start_time": "2021-12-25T17:50:57.292Z"
   },
   {
    "duration": 42,
    "start_time": "2021-12-25T17:50:57.307Z"
   },
   {
    "duration": 14,
    "start_time": "2021-12-25T17:50:57.350Z"
   },
   {
    "duration": 4,
    "start_time": "2021-12-25T17:50:57.365Z"
   },
   {
    "duration": 7,
    "start_time": "2021-12-25T17:50:57.370Z"
   },
   {
    "duration": 8,
    "start_time": "2021-12-25T17:50:57.380Z"
   },
   {
    "duration": 8,
    "start_time": "2021-12-25T17:50:57.389Z"
   },
   {
    "duration": 4,
    "start_time": "2021-12-25T17:50:57.398Z"
   },
   {
    "duration": 10,
    "start_time": "2021-12-25T17:50:57.404Z"
   },
   {
    "duration": 13,
    "start_time": "2021-12-25T17:50:57.441Z"
   },
   {
    "duration": 13,
    "start_time": "2021-12-25T17:50:57.456Z"
   },
   {
    "duration": 10,
    "start_time": "2021-12-25T17:50:57.471Z"
   },
   {
    "duration": 27,
    "start_time": "2021-12-25T17:50:57.483Z"
   },
   {
    "duration": 31,
    "start_time": "2021-12-25T17:50:57.512Z"
   },
   {
    "duration": 19,
    "start_time": "2021-12-25T17:50:57.544Z"
   },
   {
    "duration": 4,
    "start_time": "2021-12-25T17:50:57.565Z"
   },
   {
    "duration": 318,
    "start_time": "2021-12-25T17:50:57.570Z"
   },
   {
    "duration": 4,
    "start_time": "2021-12-25T17:50:57.890Z"
   },
   {
    "duration": 18,
    "start_time": "2021-12-25T17:50:57.896Z"
   },
   {
    "duration": 182,
    "start_time": "2021-12-25T17:50:57.915Z"
   },
   {
    "duration": 277,
    "start_time": "2021-12-25T17:50:58.099Z"
   },
   {
    "duration": 178,
    "start_time": "2021-12-25T17:50:58.377Z"
   },
   {
    "duration": 172,
    "start_time": "2021-12-25T17:50:58.556Z"
   },
   {
    "duration": 178,
    "start_time": "2021-12-25T17:50:58.731Z"
   },
   {
    "duration": 179,
    "start_time": "2021-12-25T17:50:58.911Z"
   },
   {
    "duration": 12,
    "start_time": "2021-12-25T17:50:59.092Z"
   },
   {
    "duration": 14,
    "start_time": "2021-12-25T17:50:59.925Z"
   },
   {
    "duration": 8,
    "start_time": "2021-12-25T17:51:00.270Z"
   },
   {
    "duration": 379,
    "start_time": "2021-12-25T17:51:06.685Z"
   },
   {
    "duration": 6,
    "start_time": "2021-12-25T17:51:11.265Z"
   },
   {
    "duration": 258,
    "start_time": "2021-12-25T17:51:19.499Z"
   },
   {
    "duration": 6,
    "start_time": "2021-12-25T17:51:53.126Z"
   },
   {
    "duration": 421,
    "start_time": "2021-12-25T17:52:53.286Z"
   },
   {
    "duration": 134,
    "start_time": "2021-12-25T17:53:09.300Z"
   },
   {
    "duration": 6,
    "start_time": "2021-12-25T17:54:36.447Z"
   },
   {
    "duration": 18,
    "start_time": "2021-12-25T17:57:47.716Z"
   },
   {
    "duration": 21,
    "start_time": "2021-12-25T17:58:01.194Z"
   },
   {
    "duration": 168,
    "start_time": "2021-12-25T17:58:08.342Z"
   },
   {
    "duration": 225,
    "start_time": "2021-12-25T17:58:14.464Z"
   },
   {
    "duration": 239,
    "start_time": "2021-12-25T17:58:31.619Z"
   },
   {
    "duration": 220,
    "start_time": "2021-12-25T17:58:37.754Z"
   },
   {
    "duration": 201,
    "start_time": "2021-12-25T17:59:05.423Z"
   },
   {
    "duration": 243,
    "start_time": "2021-12-25T18:00:12.365Z"
   },
   {
    "duration": 5,
    "start_time": "2021-12-25T18:00:46.323Z"
   },
   {
    "duration": 15,
    "start_time": "2021-12-25T18:00:57.161Z"
   },
   {
    "duration": 81,
    "start_time": "2021-12-25T18:01:03.934Z"
   },
   {
    "duration": 266,
    "start_time": "2021-12-25T18:01:07.047Z"
   },
   {
    "duration": 13,
    "start_time": "2021-12-25T18:01:12.230Z"
   },
   {
    "duration": 13,
    "start_time": "2021-12-25T18:01:20.938Z"
   },
   {
    "duration": 176,
    "start_time": "2021-12-25T18:01:38.299Z"
   },
   {
    "duration": 5,
    "start_time": "2021-12-25T18:02:10.445Z"
   },
   {
    "duration": 4,
    "start_time": "2021-12-25T18:02:10.748Z"
   },
   {
    "duration": 14,
    "start_time": "2021-12-25T18:02:10.924Z"
   },
   {
    "duration": 296,
    "start_time": "2021-12-25T18:02:11.506Z"
   },
   {
    "duration": 253,
    "start_time": "2021-12-25T18:02:11.843Z"
   },
   {
    "duration": 245,
    "start_time": "2021-12-25T18:02:12.244Z"
   },
   {
    "duration": 251,
    "start_time": "2021-12-25T18:02:12.607Z"
   },
   {
    "duration": 251,
    "start_time": "2021-12-25T18:02:14.720Z"
   },
   {
    "duration": 186,
    "start_time": "2021-12-25T18:02:29.928Z"
   },
   {
    "duration": 174,
    "start_time": "2021-12-25T18:02:34.099Z"
   },
   {
    "duration": 177,
    "start_time": "2021-12-25T18:02:39.174Z"
   },
   {
    "duration": 172,
    "start_time": "2021-12-25T18:02:43.925Z"
   },
   {
    "duration": 187,
    "start_time": "2021-12-25T18:02:59.855Z"
   },
   {
    "duration": 185,
    "start_time": "2021-12-25T18:03:08.341Z"
   },
   {
    "duration": 181,
    "start_time": "2021-12-25T18:03:15.897Z"
   },
   {
    "duration": 182,
    "start_time": "2021-12-25T18:03:25.284Z"
   },
   {
    "duration": 185,
    "start_time": "2021-12-25T18:03:30.749Z"
   },
   {
    "duration": 240,
    "start_time": "2021-12-25T18:03:35.952Z"
   },
   {
    "duration": 318,
    "start_time": "2021-12-25T18:03:42.964Z"
   },
   {
    "duration": 87,
    "start_time": "2021-12-25T18:03:57.829Z"
   },
   {
    "duration": 18,
    "start_time": "2021-12-25T18:04:03.646Z"
   },
   {
    "duration": 15,
    "start_time": "2021-12-25T18:04:15.579Z"
   },
   {
    "duration": 87,
    "start_time": "2021-12-25T18:04:34.975Z"
   },
   {
    "duration": 14,
    "start_time": "2021-12-25T18:04:39.941Z"
   },
   {
    "duration": 197,
    "start_time": "2021-12-25T18:04:57.525Z"
   },
   {
    "duration": 193,
    "start_time": "2021-12-25T18:05:49.776Z"
   },
   {
    "duration": 253,
    "start_time": "2021-12-25T18:06:03.009Z"
   },
   {
    "duration": 235,
    "start_time": "2021-12-25T18:10:36.623Z"
   },
   {
    "duration": 211,
    "start_time": "2021-12-25T18:10:57.174Z"
   },
   {
    "duration": 17,
    "start_time": "2021-12-25T18:11:16.418Z"
   },
   {
    "duration": 203,
    "start_time": "2021-12-25T18:11:36.624Z"
   },
   {
    "duration": 256,
    "start_time": "2021-12-25T18:12:07.808Z"
   },
   {
    "duration": 236,
    "start_time": "2021-12-25T18:12:11.184Z"
   },
   {
    "duration": 268,
    "start_time": "2021-12-25T18:12:18.963Z"
   },
   {
    "duration": 451,
    "start_time": "2021-12-25T18:12:31.524Z"
   },
   {
    "duration": 295,
    "start_time": "2021-12-25T18:12:35.793Z"
   },
   {
    "duration": 324,
    "start_time": "2021-12-25T18:12:45.232Z"
   },
   {
    "duration": 423,
    "start_time": "2021-12-25T18:12:53.105Z"
   },
   {
    "duration": 398,
    "start_time": "2021-12-25T18:12:55.780Z"
   },
   {
    "duration": 269,
    "start_time": "2021-12-25T18:13:05.016Z"
   },
   {
    "duration": 269,
    "start_time": "2021-12-25T18:13:24.840Z"
   },
   {
    "duration": 2297,
    "start_time": "2021-12-25T18:13:33.665Z"
   },
   {
    "duration": 256,
    "start_time": "2021-12-25T18:13:42.953Z"
   },
   {
    "duration": 234,
    "start_time": "2021-12-25T18:13:45.744Z"
   },
   {
    "duration": 369,
    "start_time": "2021-12-25T18:13:56.475Z"
   },
   {
    "duration": 85,
    "start_time": "2021-12-25T18:14:14.800Z"
   },
   {
    "duration": 199,
    "start_time": "2021-12-25T18:14:27.225Z"
   },
   {
    "duration": 454,
    "start_time": "2021-12-25T18:14:45.652Z"
   },
   {
    "duration": 175,
    "start_time": "2021-12-25T18:14:53.691Z"
   },
   {
    "duration": 258,
    "start_time": "2021-12-25T18:14:58.041Z"
   },
   {
    "duration": 405,
    "start_time": "2021-12-25T18:15:01.333Z"
   },
   {
    "duration": 185,
    "start_time": "2021-12-25T18:15:50.629Z"
   },
   {
    "duration": 903,
    "start_time": "2021-12-25T18:15:57.614Z"
   },
   {
    "duration": 179,
    "start_time": "2021-12-25T18:16:07.952Z"
   },
   {
    "duration": 819,
    "start_time": "2021-12-25T18:16:21.863Z"
   },
   {
    "duration": 185,
    "start_time": "2021-12-25T18:16:28.695Z"
   },
   {
    "duration": 79,
    "start_time": "2021-12-25T18:16:55.916Z"
   },
   {
    "duration": 182,
    "start_time": "2021-12-25T18:17:05.776Z"
   },
   {
    "duration": 195,
    "start_time": "2021-12-25T18:18:21.673Z"
   },
   {
    "duration": 196,
    "start_time": "2021-12-25T18:18:30.431Z"
   },
   {
    "duration": 186,
    "start_time": "2021-12-25T18:18:35.681Z"
   },
   {
    "duration": 189,
    "start_time": "2021-12-25T18:18:40.902Z"
   },
   {
    "duration": 212,
    "start_time": "2021-12-25T18:19:01.654Z"
   },
   {
    "duration": 224,
    "start_time": "2021-12-25T18:22:02.898Z"
   },
   {
    "duration": 398,
    "start_time": "2021-12-25T18:22:22.072Z"
   },
   {
    "duration": 271,
    "start_time": "2021-12-25T18:22:44.922Z"
   },
   {
    "duration": 278,
    "start_time": "2021-12-25T18:22:59.834Z"
   },
   {
    "duration": 240,
    "start_time": "2021-12-25T18:24:36.640Z"
   },
   {
    "duration": 91,
    "start_time": "2021-12-25T18:26:00.393Z"
   },
   {
    "duration": 240,
    "start_time": "2021-12-25T18:26:14.720Z"
   },
   {
    "duration": 168,
    "start_time": "2021-12-25T18:27:01.548Z"
   },
   {
    "duration": 151,
    "start_time": "2021-12-25T18:27:16.495Z"
   },
   {
    "duration": 153,
    "start_time": "2021-12-25T18:27:27.010Z"
   },
   {
    "duration": 149,
    "start_time": "2021-12-25T18:27:46.481Z"
   },
   {
    "duration": 155,
    "start_time": "2021-12-25T18:28:57.524Z"
   },
   {
    "duration": 218,
    "start_time": "2021-12-25T18:29:20.032Z"
   },
   {
    "duration": 186,
    "start_time": "2021-12-25T18:29:32.946Z"
   },
   {
    "duration": 199,
    "start_time": "2021-12-25T18:29:42.250Z"
   },
   {
    "duration": 272,
    "start_time": "2021-12-25T18:29:46.450Z"
   },
   {
    "duration": 362,
    "start_time": "2021-12-25T18:29:49.600Z"
   },
   {
    "duration": 141,
    "start_time": "2021-12-25T18:32:12.340Z"
   },
   {
    "duration": 143,
    "start_time": "2021-12-25T18:32:25.070Z"
   },
   {
    "duration": 217,
    "start_time": "2021-12-25T18:32:31.288Z"
   },
   {
    "duration": 164,
    "start_time": "2021-12-25T18:33:28.091Z"
   },
   {
    "duration": 150,
    "start_time": "2021-12-25T18:33:33.398Z"
   },
   {
    "duration": 125,
    "start_time": "2021-12-25T18:33:57.151Z"
   },
   {
    "duration": 292,
    "start_time": "2021-12-25T18:34:42.938Z"
   },
   {
    "duration": 312,
    "start_time": "2021-12-25T18:35:22.047Z"
   },
   {
    "duration": 345,
    "start_time": "2021-12-25T18:35:32.426Z"
   },
   {
    "duration": 300,
    "start_time": "2021-12-25T18:36:10.443Z"
   },
   {
    "duration": 329,
    "start_time": "2021-12-25T18:36:24.238Z"
   },
   {
    "duration": 310,
    "start_time": "2021-12-25T18:36:44.470Z"
   },
   {
    "duration": 310,
    "start_time": "2021-12-25T18:36:53.605Z"
   },
   {
    "duration": 298,
    "start_time": "2021-12-25T18:37:17.257Z"
   },
   {
    "duration": 273,
    "start_time": "2021-12-25T18:37:26.494Z"
   },
   {
    "duration": 158,
    "start_time": "2021-12-25T18:40:38.790Z"
   },
   {
    "duration": 5,
    "start_time": "2021-12-25T18:40:45.870Z"
   },
   {
    "duration": 11,
    "start_time": "2021-12-25T18:41:35.522Z"
   },
   {
    "duration": 9,
    "start_time": "2021-12-25T18:41:57.826Z"
   },
   {
    "duration": 265,
    "start_time": "2021-12-25T18:48:40.156Z"
   },
   {
    "duration": 18,
    "start_time": "2021-12-25T18:48:47.493Z"
   },
   {
    "duration": 6104,
    "start_time": "2021-12-25T18:48:52.924Z"
   },
   {
    "duration": 259,
    "start_time": "2021-12-25T18:49:24.479Z"
   },
   {
    "duration": 393,
    "start_time": "2021-12-25T18:49:30.348Z"
   },
   {
    "duration": 20,
    "start_time": "2021-12-25T18:49:37.164Z"
   },
   {
    "duration": 19,
    "start_time": "2021-12-25T18:49:45.103Z"
   },
   {
    "duration": 325,
    "start_time": "2021-12-25T18:49:59.533Z"
   },
   {
    "duration": 280,
    "start_time": "2021-12-25T18:50:11.673Z"
   },
   {
    "duration": 454,
    "start_time": "2021-12-25T18:50:25.802Z"
   },
   {
    "duration": 319,
    "start_time": "2021-12-25T18:50:30.616Z"
   },
   {
    "duration": 16,
    "start_time": "2021-12-25T18:50:49.278Z"
   },
   {
    "duration": 17,
    "start_time": "2021-12-25T18:51:16.464Z"
   },
   {
    "duration": 15,
    "start_time": "2021-12-25T18:51:28.782Z"
   },
   {
    "duration": 16,
    "start_time": "2021-12-25T18:51:34.654Z"
   },
   {
    "duration": 345,
    "start_time": "2021-12-25T18:52:03.524Z"
   },
   {
    "duration": 286,
    "start_time": "2021-12-25T18:52:15.373Z"
   },
   {
    "duration": 304,
    "start_time": "2021-12-25T18:52:23.268Z"
   },
   {
    "duration": 312,
    "start_time": "2021-12-25T18:52:49.533Z"
   },
   {
    "duration": 15,
    "start_time": "2021-12-25T18:53:00.523Z"
   },
   {
    "duration": 17,
    "start_time": "2021-12-25T18:53:33.060Z"
   },
   {
    "duration": 15,
    "start_time": "2021-12-25T18:53:39.010Z"
   },
   {
    "duration": 661,
    "start_time": "2021-12-25T18:53:56.181Z"
   },
   {
    "duration": 260,
    "start_time": "2021-12-25T18:53:58.997Z"
   },
   {
    "duration": 293,
    "start_time": "2021-12-25T18:54:08.592Z"
   },
   {
    "duration": 294,
    "start_time": "2021-12-25T18:54:56.552Z"
   },
   {
    "duration": 313,
    "start_time": "2021-12-25T18:55:14.782Z"
   },
   {
    "duration": 213,
    "start_time": "2021-12-25T18:55:51.689Z"
   },
   {
    "duration": 152,
    "start_time": "2021-12-25T18:56:08.229Z"
   },
   {
    "duration": 295,
    "start_time": "2021-12-25T18:56:27.030Z"
   },
   {
    "duration": 6231,
    "start_time": "2021-12-25T18:56:43.275Z"
   },
   {
    "duration": 313,
    "start_time": "2021-12-25T18:56:49.728Z"
   },
   {
    "duration": 5991,
    "start_time": "2021-12-25T18:58:22.759Z"
   },
   {
    "duration": 16,
    "start_time": "2021-12-25T18:58:31.610Z"
   },
   {
    "duration": 14,
    "start_time": "2021-12-25T18:58:35.509Z"
   },
   {
    "duration": 294,
    "start_time": "2021-12-25T19:02:17.311Z"
   },
   {
    "duration": 15,
    "start_time": "2021-12-25T19:03:00.591Z"
   },
   {
    "duration": 239,
    "start_time": "2021-12-25T19:04:30.384Z"
   },
   {
    "duration": 278,
    "start_time": "2021-12-25T19:04:36.202Z"
   },
   {
    "duration": 234,
    "start_time": "2021-12-25T19:04:38.186Z"
   },
   {
    "duration": 259,
    "start_time": "2021-12-25T19:04:47.863Z"
   },
   {
    "duration": 14,
    "start_time": "2021-12-25T19:05:12.843Z"
   },
   {
    "duration": 279,
    "start_time": "2021-12-25T19:08:12.935Z"
   },
   {
    "duration": 15,
    "start_time": "2021-12-25T19:08:28.132Z"
   },
   {
    "duration": 286,
    "start_time": "2021-12-25T19:10:10.540Z"
   },
   {
    "duration": 6835,
    "start_time": "2021-12-25T19:10:19.132Z"
   },
   {
    "duration": 273,
    "start_time": "2021-12-25T19:10:30.331Z"
   },
   {
    "duration": 205,
    "start_time": "2021-12-25T19:10:47.023Z"
   },
   {
    "duration": 210,
    "start_time": "2021-12-25T19:10:51.116Z"
   },
   {
    "duration": 552,
    "start_time": "2021-12-25T19:10:54.531Z"
   },
   {
    "duration": 264,
    "start_time": "2021-12-25T19:10:56.964Z"
   },
   {
    "duration": 514,
    "start_time": "2021-12-25T19:11:47.795Z"
   },
   {
    "duration": 301,
    "start_time": "2021-12-25T19:11:50.521Z"
   },
   {
    "duration": 272,
    "start_time": "2021-12-25T19:12:11.942Z"
   },
   {
    "duration": 201,
    "start_time": "2021-12-25T19:12:17.074Z"
   },
   {
    "duration": 282,
    "start_time": "2021-12-25T19:12:34.185Z"
   },
   {
    "duration": 309,
    "start_time": "2021-12-25T19:12:48.066Z"
   },
   {
    "duration": 321,
    "start_time": "2021-12-25T19:13:01.404Z"
   },
   {
    "duration": 291,
    "start_time": "2021-12-25T19:13:10.609Z"
   },
   {
    "duration": 225,
    "start_time": "2021-12-25T19:14:40.676Z"
   },
   {
    "duration": 261,
    "start_time": "2021-12-25T19:15:58.369Z"
   },
   {
    "duration": 217,
    "start_time": "2021-12-25T19:18:17.664Z"
   },
   {
    "duration": 226,
    "start_time": "2021-12-25T19:19:26.571Z"
   },
   {
    "duration": 245,
    "start_time": "2021-12-25T19:19:32.180Z"
   },
   {
    "duration": 244,
    "start_time": "2021-12-25T19:19:38.009Z"
   },
   {
    "duration": 226,
    "start_time": "2021-12-25T19:19:41.412Z"
   },
   {
    "duration": 308,
    "start_time": "2021-12-25T19:20:01.034Z"
   },
   {
    "duration": 291,
    "start_time": "2021-12-25T19:20:11.153Z"
   },
   {
    "duration": 1194,
    "start_time": "2021-12-25T19:20:37.228Z"
   },
   {
    "duration": 29,
    "start_time": "2021-12-25T19:21:04.463Z"
   },
   {
    "duration": 324,
    "start_time": "2021-12-25T19:21:26.535Z"
   },
   {
    "duration": 332,
    "start_time": "2021-12-25T19:21:33.286Z"
   },
   {
    "duration": 507,
    "start_time": "2021-12-25T19:22:03.805Z"
   },
   {
    "duration": 211,
    "start_time": "2021-12-25T19:22:19.993Z"
   },
   {
    "duration": 230,
    "start_time": "2021-12-25T19:22:26.988Z"
   },
   {
    "duration": 236,
    "start_time": "2021-12-25T19:22:31.525Z"
   },
   {
    "duration": 239,
    "start_time": "2021-12-25T19:24:07.163Z"
   },
   {
    "duration": 248,
    "start_time": "2021-12-25T19:26:06.344Z"
   },
   {
    "duration": 245,
    "start_time": "2021-12-25T19:26:41.822Z"
   },
   {
    "duration": 243,
    "start_time": "2021-12-25T19:27:03.841Z"
   },
   {
    "duration": 230,
    "start_time": "2021-12-25T19:27:18.193Z"
   },
   {
    "duration": 225,
    "start_time": "2021-12-25T19:27:42.903Z"
   },
   {
    "duration": 230,
    "start_time": "2021-12-25T19:27:50.437Z"
   },
   {
    "duration": 294,
    "start_time": "2021-12-25T19:29:59.410Z"
   },
   {
    "duration": 257,
    "start_time": "2021-12-25T19:30:18.319Z"
   },
   {
    "duration": 281,
    "start_time": "2021-12-25T19:33:53.260Z"
   },
   {
    "duration": 378,
    "start_time": "2021-12-25T19:33:55.624Z"
   },
   {
    "duration": 355,
    "start_time": "2021-12-25T19:34:00.587Z"
   },
   {
    "duration": 307,
    "start_time": "2021-12-25T19:34:06.681Z"
   },
   {
    "duration": 324,
    "start_time": "2021-12-25T19:34:10.403Z"
   },
   {
    "duration": 341,
    "start_time": "2021-12-25T19:34:13.401Z"
   },
   {
    "duration": 377,
    "start_time": "2021-12-25T19:34:21.865Z"
   },
   {
    "duration": 325,
    "start_time": "2021-12-25T19:34:29.834Z"
   },
   {
    "duration": 463,
    "start_time": "2021-12-25T19:34:33.852Z"
   },
   {
    "duration": 203,
    "start_time": "2021-12-25T19:34:43.086Z"
   },
   {
    "duration": 223,
    "start_time": "2021-12-25T19:34:48.659Z"
   },
   {
    "duration": 193,
    "start_time": "2021-12-25T19:34:55.821Z"
   },
   {
    "duration": 256,
    "start_time": "2021-12-25T19:35:03.241Z"
   },
   {
    "duration": 582,
    "start_time": "2021-12-25T19:35:21.001Z"
   },
   {
    "duration": 258,
    "start_time": "2021-12-25T19:35:33.803Z"
   },
   {
    "duration": 411,
    "start_time": "2021-12-25T19:35:50.568Z"
   },
   {
    "duration": 380,
    "start_time": "2021-12-25T19:36:20.665Z"
   },
   {
    "duration": 82,
    "start_time": "2021-12-25T19:36:32.757Z"
   },
   {
    "duration": 84,
    "start_time": "2021-12-25T19:36:43.713Z"
   },
   {
    "duration": 605,
    "start_time": "2021-12-25T19:37:21.792Z"
   },
   {
    "duration": 594,
    "start_time": "2021-12-25T19:37:47.483Z"
   },
   {
    "duration": 372,
    "start_time": "2021-12-25T19:37:53.395Z"
   },
   {
    "duration": 159,
    "start_time": "2021-12-25T19:41:00.725Z"
   },
   {
    "duration": 173,
    "start_time": "2021-12-25T19:41:06.192Z"
   },
   {
    "duration": 232,
    "start_time": "2021-12-25T19:41:12.116Z"
   },
   {
    "duration": 292,
    "start_time": "2021-12-25T19:41:30.658Z"
   },
   {
    "duration": 15,
    "start_time": "2021-12-25T19:41:41.076Z"
   },
   {
    "duration": 15,
    "start_time": "2021-12-25T19:41:50.198Z"
   },
   {
    "duration": 256,
    "start_time": "2021-12-25T19:42:10.514Z"
   },
   {
    "duration": 14,
    "start_time": "2021-12-25T19:42:22.018Z"
   },
   {
    "duration": 16,
    "start_time": "2021-12-25T19:42:36.278Z"
   },
   {
    "duration": 14,
    "start_time": "2021-12-25T19:43:11.286Z"
   },
   {
    "duration": 17,
    "start_time": "2021-12-25T19:43:32.470Z"
   },
   {
    "duration": 17,
    "start_time": "2021-12-25T19:43:54.467Z"
   },
   {
    "duration": 23,
    "start_time": "2021-12-25T19:44:35.720Z"
   },
   {
    "duration": 17,
    "start_time": "2021-12-25T19:44:50.874Z"
   },
   {
    "duration": 16,
    "start_time": "2021-12-25T19:45:04.928Z"
   },
   {
    "duration": 1440,
    "start_time": "2021-12-28T17:52:54.683Z"
   },
   {
    "duration": 49,
    "start_time": "2021-12-28T17:52:56.125Z"
   },
   {
    "duration": 33,
    "start_time": "2021-12-28T17:52:56.177Z"
   },
   {
    "duration": 14,
    "start_time": "2021-12-28T17:52:56.213Z"
   },
   {
    "duration": 78,
    "start_time": "2021-12-28T17:52:56.229Z"
   },
   {
    "duration": 50,
    "start_time": "2021-12-28T17:52:56.309Z"
   },
   {
    "duration": 9,
    "start_time": "2021-12-28T17:52:56.363Z"
   },
   {
    "duration": 6,
    "start_time": "2021-12-28T17:52:56.378Z"
   },
   {
    "duration": 6,
    "start_time": "2021-12-28T17:52:56.389Z"
   },
   {
    "duration": 12,
    "start_time": "2021-12-28T17:52:56.398Z"
   },
   {
    "duration": 49,
    "start_time": "2021-12-28T17:52:56.413Z"
   },
   {
    "duration": 23,
    "start_time": "2021-12-28T17:52:56.466Z"
   },
   {
    "duration": 28,
    "start_time": "2021-12-28T17:52:56.492Z"
   },
   {
    "duration": 43,
    "start_time": "2021-12-28T17:52:56.523Z"
   },
   {
    "duration": 7,
    "start_time": "2021-12-28T17:52:56.569Z"
   },
   {
    "duration": 41,
    "start_time": "2021-12-28T17:52:56.579Z"
   },
   {
    "duration": 62,
    "start_time": "2021-12-28T17:52:56.623Z"
   },
   {
    "duration": 32,
    "start_time": "2021-12-28T17:52:56.688Z"
   },
   {
    "duration": 5,
    "start_time": "2021-12-28T17:52:56.722Z"
   },
   {
    "duration": 821,
    "start_time": "2021-12-28T17:52:56.730Z"
   },
   {
    "duration": 11,
    "start_time": "2021-12-28T17:52:57.553Z"
   },
   {
    "duration": 7,
    "start_time": "2021-12-28T17:52:57.567Z"
   },
   {
    "duration": 25,
    "start_time": "2021-12-28T17:52:57.579Z"
   },
   {
    "duration": 442,
    "start_time": "2021-12-28T17:52:57.607Z"
   },
   {
    "duration": 424,
    "start_time": "2021-12-28T17:52:58.052Z"
   },
   {
    "duration": 393,
    "start_time": "2021-12-28T17:52:58.479Z"
   },
   {
    "duration": 371,
    "start_time": "2021-12-28T17:52:58.875Z"
   },
   {
    "duration": 369,
    "start_time": "2021-12-28T17:52:59.249Z"
   },
   {
    "duration": 382,
    "start_time": "2021-12-28T17:52:59.621Z"
   },
   {
    "duration": 25,
    "start_time": "2021-12-28T17:53:00.006Z"
   },
   {
    "duration": 434,
    "start_time": "2021-12-28T17:53:02.304Z"
   },
   {
    "duration": 628,
    "start_time": "2021-12-28T17:58:23.356Z"
   },
   {
    "duration": 18,
    "start_time": "2021-12-28T17:58:40.591Z"
   },
   {
    "duration": 378,
    "start_time": "2021-12-28T17:58:47.450Z"
   },
   {
    "duration": 299,
    "start_time": "2021-12-28T17:59:07.021Z"
   },
   {
    "duration": 1540,
    "start_time": "2021-12-28T18:00:16.285Z"
   },
   {
    "duration": 317,
    "start_time": "2021-12-28T18:00:19.557Z"
   },
   {
    "duration": 328,
    "start_time": "2021-12-28T18:00:36.320Z"
   },
   {
    "duration": 297,
    "start_time": "2021-12-28T18:00:53.689Z"
   },
   {
    "duration": 314,
    "start_time": "2021-12-28T18:01:05.983Z"
   },
   {
    "duration": 318,
    "start_time": "2021-12-28T18:01:10.247Z"
   },
   {
    "duration": 1099,
    "start_time": "2021-12-29T07:41:20.051Z"
   },
   {
    "duration": 3,
    "start_time": "2021-12-29T07:41:35.522Z"
   },
   {
    "duration": 44,
    "start_time": "2021-12-29T07:41:35.527Z"
   },
   {
    "duration": 16,
    "start_time": "2021-12-29T07:41:35.573Z"
   },
   {
    "duration": 14,
    "start_time": "2021-12-29T07:41:35.591Z"
   },
   {
    "duration": 26,
    "start_time": "2021-12-29T07:41:35.607Z"
   },
   {
    "duration": 37,
    "start_time": "2021-12-29T07:41:35.634Z"
   },
   {
    "duration": 5,
    "start_time": "2021-12-29T07:41:35.674Z"
   },
   {
    "duration": 5,
    "start_time": "2021-12-29T07:41:35.682Z"
   },
   {
    "duration": 5,
    "start_time": "2021-12-29T07:41:35.688Z"
   },
   {
    "duration": 8,
    "start_time": "2021-12-29T07:41:35.695Z"
   },
   {
    "duration": 5,
    "start_time": "2021-12-29T07:41:35.704Z"
   },
   {
    "duration": 55,
    "start_time": "2021-12-29T07:41:35.711Z"
   },
   {
    "duration": 13,
    "start_time": "2021-12-29T07:41:35.768Z"
   },
   {
    "duration": 7,
    "start_time": "2021-12-29T07:41:35.783Z"
   },
   {
    "duration": 9,
    "start_time": "2021-12-29T07:41:35.791Z"
   },
   {
    "duration": 29,
    "start_time": "2021-12-29T07:41:35.802Z"
   },
   {
    "duration": 44,
    "start_time": "2021-12-29T07:41:35.832Z"
   },
   {
    "duration": 18,
    "start_time": "2021-12-29T07:41:35.878Z"
   },
   {
    "duration": 4,
    "start_time": "2021-12-29T07:41:35.899Z"
   },
   {
    "duration": 408,
    "start_time": "2021-12-29T07:41:35.905Z"
   },
   {
    "duration": 5,
    "start_time": "2021-12-29T07:41:36.314Z"
   },
   {
    "duration": 11,
    "start_time": "2021-12-29T07:41:36.320Z"
   },
   {
    "duration": 16,
    "start_time": "2021-12-29T07:41:36.333Z"
   },
   {
    "duration": 222,
    "start_time": "2021-12-29T07:41:36.361Z"
   },
   {
    "duration": 226,
    "start_time": "2021-12-29T07:41:36.585Z"
   },
   {
    "duration": 229,
    "start_time": "2021-12-29T07:41:36.812Z"
   },
   {
    "duration": 221,
    "start_time": "2021-12-29T07:41:37.043Z"
   },
   {
    "duration": 221,
    "start_time": "2021-12-29T07:41:37.266Z"
   },
   {
    "duration": 208,
    "start_time": "2021-12-29T07:41:37.489Z"
   },
   {
    "duration": 14,
    "start_time": "2021-12-29T07:41:37.699Z"
   },
   {
    "duration": 261,
    "start_time": "2021-12-29T07:41:37.715Z"
   },
   {
    "duration": 272,
    "start_time": "2021-12-29T07:41:37.977Z"
   },
   {
    "duration": 314,
    "start_time": "2021-12-29T07:41:38.251Z"
   },
   {
    "duration": 15,
    "start_time": "2021-12-29T07:41:38.566Z"
   },
   {
    "duration": 310,
    "start_time": "2021-12-29T07:41:38.583Z"
   },
   {
    "duration": 17,
    "start_time": "2021-12-29T07:41:38.894Z"
   },
   {
    "duration": 294,
    "start_time": "2021-12-29T07:41:38.912Z"
   },
   {
    "duration": 14,
    "start_time": "2021-12-29T07:41:39.208Z"
   },
   {
    "duration": 340,
    "start_time": "2021-12-29T07:41:39.224Z"
   },
   {
    "duration": 16,
    "start_time": "2021-12-29T07:41:39.566Z"
   },
   {
    "duration": 326,
    "start_time": "2021-12-29T07:41:39.584Z"
   },
   {
    "duration": 15,
    "start_time": "2021-12-29T07:41:39.911Z"
   },
   {
    "duration": 14,
    "start_time": "2021-12-29T07:41:39.928Z"
   },
   {
    "duration": 15,
    "start_time": "2021-12-29T07:41:39.960Z"
   },
   {
    "duration": 14,
    "start_time": "2021-12-29T07:41:39.976Z"
   },
   {
    "duration": 15,
    "start_time": "2021-12-29T07:41:39.991Z"
   },
   {
    "duration": 20,
    "start_time": "2021-12-29T07:41:40.008Z"
   },
   {
    "duration": 41,
    "start_time": "2021-12-29T07:41:40.030Z"
   },
   {
    "duration": 14,
    "start_time": "2021-12-29T07:41:40.072Z"
   },
   {
    "duration": 14,
    "start_time": "2021-12-29T07:41:40.088Z"
   },
   {
    "duration": 188,
    "start_time": "2021-12-29T07:41:41.741Z"
   },
   {
    "duration": 182,
    "start_time": "2021-12-29T07:41:54.692Z"
   },
   {
    "duration": 201,
    "start_time": "2021-12-29T07:41:56.881Z"
   },
   {
    "duration": 183,
    "start_time": "2021-12-29T07:42:00.394Z"
   },
   {
    "duration": 190,
    "start_time": "2021-12-29T07:42:05.543Z"
   },
   {
    "duration": 172,
    "start_time": "2021-12-29T07:42:11.009Z"
   },
   {
    "duration": 262,
    "start_time": "2021-12-29T07:42:14.301Z"
   },
   {
    "duration": 193,
    "start_time": "2021-12-29T07:42:21.812Z"
   },
   {
    "duration": 186,
    "start_time": "2021-12-29T07:42:25.786Z"
   },
   {
    "duration": 178,
    "start_time": "2021-12-29T07:42:30.735Z"
   },
   {
    "duration": 176,
    "start_time": "2021-12-29T07:42:38.749Z"
   },
   {
    "duration": 159,
    "start_time": "2021-12-29T07:43:04.624Z"
   },
   {
    "duration": 165,
    "start_time": "2021-12-29T07:43:06.475Z"
   },
   {
    "duration": 515,
    "start_time": "2021-12-29T07:45:17.158Z"
   },
   {
    "duration": 470,
    "start_time": "2021-12-29T07:45:27.549Z"
   },
   {
    "duration": 182,
    "start_time": "2021-12-29T07:46:33.086Z"
   },
   {
    "duration": 502,
    "start_time": "2021-12-29T07:46:39.025Z"
   },
   {
    "duration": 442,
    "start_time": "2021-12-29T07:46:53.449Z"
   },
   {
    "duration": 440,
    "start_time": "2021-12-29T07:47:17.195Z"
   },
   {
    "duration": 188,
    "start_time": "2021-12-29T07:47:21.471Z"
   },
   {
    "duration": 295,
    "start_time": "2021-12-29T07:47:58.989Z"
   },
   {
    "duration": 289,
    "start_time": "2021-12-29T07:50:41.774Z"
   },
   {
    "duration": 10,
    "start_time": "2021-12-29T07:50:47.096Z"
   },
   {
    "duration": 11,
    "start_time": "2021-12-29T07:51:21.238Z"
   },
   {
    "duration": 4,
    "start_time": "2021-12-29T07:51:34.362Z"
   },
   {
    "duration": 12,
    "start_time": "2021-12-29T07:53:51.097Z"
   },
   {
    "duration": 4,
    "start_time": "2021-12-29T07:53:52.015Z"
   },
   {
    "duration": 11,
    "start_time": "2021-12-29T07:53:57.038Z"
   },
   {
    "duration": 3,
    "start_time": "2021-12-29T07:53:58.466Z"
   },
   {
    "duration": 12,
    "start_time": "2021-12-29T08:00:21.994Z"
   },
   {
    "duration": 4,
    "start_time": "2021-12-29T08:00:34.755Z"
   },
   {
    "duration": 12,
    "start_time": "2021-12-29T08:01:33.274Z"
   },
   {
    "duration": 4,
    "start_time": "2021-12-29T08:01:33.568Z"
   },
   {
    "duration": 4,
    "start_time": "2021-12-29T08:02:36.453Z"
   },
   {
    "duration": 3,
    "start_time": "2021-12-29T08:03:00.409Z"
   },
   {
    "duration": 4,
    "start_time": "2021-12-29T08:04:37.441Z"
   },
   {
    "duration": 4,
    "start_time": "2021-12-29T08:04:41.743Z"
   },
   {
    "duration": 4,
    "start_time": "2021-12-29T08:04:46.663Z"
   },
   {
    "duration": 3,
    "start_time": "2021-12-29T08:04:49.776Z"
   },
   {
    "duration": 3,
    "start_time": "2021-12-29T08:05:17.239Z"
   },
   {
    "duration": 4,
    "start_time": "2021-12-29T08:05:24.845Z"
   },
   {
    "duration": 178,
    "start_time": "2021-12-29T08:06:31.361Z"
   },
   {
    "duration": 170,
    "start_time": "2021-12-29T08:06:43.874Z"
   },
   {
    "duration": 12,
    "start_time": "2021-12-29T08:07:39.677Z"
   },
   {
    "duration": 4,
    "start_time": "2021-12-29T08:07:40.698Z"
   },
   {
    "duration": 4,
    "start_time": "2021-12-29T08:08:12.814Z"
   },
   {
    "duration": 3,
    "start_time": "2021-12-29T08:08:25.674Z"
   },
   {
    "duration": 12,
    "start_time": "2021-12-29T08:08:35.239Z"
   },
   {
    "duration": 4,
    "start_time": "2021-12-29T08:08:37.295Z"
   },
   {
    "duration": 4,
    "start_time": "2021-12-29T08:08:47.291Z"
   },
   {
    "duration": 12,
    "start_time": "2021-12-29T08:08:55.409Z"
   },
   {
    "duration": 4,
    "start_time": "2021-12-29T08:08:55.653Z"
   },
   {
    "duration": 13,
    "start_time": "2021-12-29T08:08:58.546Z"
   },
   {
    "duration": 5,
    "start_time": "2021-12-29T08:08:58.872Z"
   },
   {
    "duration": 3,
    "start_time": "2021-12-29T08:44:14.221Z"
   },
   {
    "duration": 51,
    "start_time": "2021-12-29T08:44:14.226Z"
   },
   {
    "duration": 13,
    "start_time": "2021-12-29T08:44:14.280Z"
   },
   {
    "duration": 11,
    "start_time": "2021-12-29T08:44:14.295Z"
   },
   {
    "duration": 56,
    "start_time": "2021-12-29T08:44:14.308Z"
   },
   {
    "duration": 18,
    "start_time": "2021-12-29T08:44:14.365Z"
   },
   {
    "duration": 5,
    "start_time": "2021-12-29T08:44:14.386Z"
   },
   {
    "duration": 6,
    "start_time": "2021-12-29T08:44:14.392Z"
   },
   {
    "duration": 4,
    "start_time": "2021-12-29T08:44:14.399Z"
   },
   {
    "duration": 8,
    "start_time": "2021-12-29T08:44:14.405Z"
   },
   {
    "duration": 6,
    "start_time": "2021-12-29T08:44:14.414Z"
   },
   {
    "duration": 54,
    "start_time": "2021-12-29T08:44:14.421Z"
   },
   {
    "duration": 14,
    "start_time": "2021-12-29T08:44:14.477Z"
   },
   {
    "duration": 8,
    "start_time": "2021-12-29T08:44:14.493Z"
   },
   {
    "duration": 7,
    "start_time": "2021-12-29T08:44:14.502Z"
   },
   {
    "duration": 32,
    "start_time": "2021-12-29T08:44:14.511Z"
   },
   {
    "duration": 21,
    "start_time": "2021-12-29T08:44:14.568Z"
   },
   {
    "duration": 20,
    "start_time": "2021-12-29T08:44:14.591Z"
   },
   {
    "duration": 4,
    "start_time": "2021-12-29T08:44:14.615Z"
   },
   {
    "duration": 425,
    "start_time": "2021-12-29T08:44:14.621Z"
   },
   {
    "duration": 22,
    "start_time": "2021-12-29T08:44:15.048Z"
   },
   {
    "duration": 18,
    "start_time": "2021-12-29T08:44:15.071Z"
   },
   {
    "duration": 23,
    "start_time": "2021-12-29T08:44:15.091Z"
   },
   {
    "duration": 231,
    "start_time": "2021-12-29T08:44:15.115Z"
   },
   {
    "duration": 229,
    "start_time": "2021-12-29T08:44:15.348Z"
   },
   {
    "duration": 216,
    "start_time": "2021-12-29T08:44:15.579Z"
   },
   {
    "duration": 226,
    "start_time": "2021-12-29T08:44:15.797Z"
   },
   {
    "duration": 214,
    "start_time": "2021-12-29T08:44:16.024Z"
   },
   {
    "duration": 207,
    "start_time": "2021-12-29T08:44:16.239Z"
   },
   {
    "duration": 26,
    "start_time": "2021-12-29T08:44:16.447Z"
   },
   {
    "duration": 280,
    "start_time": "2021-12-29T08:44:16.474Z"
   },
   {
    "duration": 220,
    "start_time": "2021-12-29T08:44:16.756Z"
   },
   {
    "duration": 318,
    "start_time": "2021-12-29T08:44:16.978Z"
   },
   {
    "duration": 16,
    "start_time": "2021-12-29T08:44:17.297Z"
   },
   {
    "duration": 341,
    "start_time": "2021-12-29T08:44:17.314Z"
   },
   {
    "duration": 22,
    "start_time": "2021-12-29T08:44:17.656Z"
   },
   {
    "duration": 309,
    "start_time": "2021-12-29T08:44:17.680Z"
   },
   {
    "duration": 16,
    "start_time": "2021-12-29T08:44:17.990Z"
   },
   {
    "duration": 459,
    "start_time": "2021-12-29T08:44:18.007Z"
   },
   {
    "duration": 19,
    "start_time": "2021-12-29T08:44:18.468Z"
   },
   {
    "duration": 302,
    "start_time": "2021-12-29T08:44:18.489Z"
   },
   {
    "duration": 16,
    "start_time": "2021-12-29T08:44:18.792Z"
   },
   {
    "duration": 14,
    "start_time": "2021-12-29T08:44:18.810Z"
   },
   {
    "duration": 41,
    "start_time": "2021-12-29T08:44:18.826Z"
   },
   {
    "duration": 17,
    "start_time": "2021-12-29T08:44:18.869Z"
   },
   {
    "duration": 15,
    "start_time": "2021-12-29T08:44:18.888Z"
   },
   {
    "duration": 16,
    "start_time": "2021-12-29T08:44:18.906Z"
   },
   {
    "duration": 45,
    "start_time": "2021-12-29T08:44:18.924Z"
   },
   {
    "duration": 22,
    "start_time": "2021-12-29T08:44:18.971Z"
   },
   {
    "duration": 16,
    "start_time": "2021-12-29T08:44:18.995Z"
   },
   {
    "duration": 204,
    "start_time": "2021-12-29T08:44:19.013Z"
   },
   {
    "duration": 193,
    "start_time": "2021-12-29T08:44:22.291Z"
   },
   {
    "duration": 186,
    "start_time": "2021-12-29T08:44:22.609Z"
   },
   {
    "duration": 210,
    "start_time": "2021-12-29T08:44:40.295Z"
   },
   {
    "duration": 200,
    "start_time": "2021-12-29T08:45:04.681Z"
   },
   {
    "duration": 179,
    "start_time": "2021-12-29T08:45:35.797Z"
   },
   {
    "duration": 177,
    "start_time": "2021-12-29T08:45:44.374Z"
   },
   {
    "duration": 3,
    "start_time": "2021-12-29T08:50:50.572Z"
   },
   {
    "duration": 4,
    "start_time": "2021-12-29T08:51:00.259Z"
   },
   {
    "duration": 60,
    "start_time": "2021-12-29T08:51:00.265Z"
   },
   {
    "duration": 13,
    "start_time": "2021-12-29T08:51:00.328Z"
   },
   {
    "duration": 34,
    "start_time": "2021-12-29T08:51:00.343Z"
   },
   {
    "duration": 36,
    "start_time": "2021-12-29T08:51:00.378Z"
   },
   {
    "duration": 14,
    "start_time": "2021-12-29T08:51:00.415Z"
   },
   {
    "duration": 5,
    "start_time": "2021-12-29T08:51:00.431Z"
   },
   {
    "duration": 13,
    "start_time": "2021-12-29T08:51:00.437Z"
   },
   {
    "duration": 16,
    "start_time": "2021-12-29T08:51:00.451Z"
   },
   {
    "duration": 23,
    "start_time": "2021-12-29T08:51:00.469Z"
   },
   {
    "duration": 19,
    "start_time": "2021-12-29T08:51:00.494Z"
   },
   {
    "duration": 15,
    "start_time": "2021-12-29T08:51:00.514Z"
   },
   {
    "duration": 10,
    "start_time": "2021-12-29T08:51:00.531Z"
   },
   {
    "duration": 11,
    "start_time": "2021-12-29T08:51:00.542Z"
   },
   {
    "duration": 23,
    "start_time": "2021-12-29T08:51:00.554Z"
   },
   {
    "duration": 40,
    "start_time": "2021-12-29T08:51:00.579Z"
   },
   {
    "duration": 17,
    "start_time": "2021-12-29T08:51:00.620Z"
   },
   {
    "duration": 20,
    "start_time": "2021-12-29T08:51:00.639Z"
   },
   {
    "duration": 4,
    "start_time": "2021-12-29T08:51:00.671Z"
   },
   {
    "duration": 408,
    "start_time": "2021-12-29T08:51:00.677Z"
   },
   {
    "duration": 4,
    "start_time": "2021-12-29T08:51:01.088Z"
   },
   {
    "duration": 17,
    "start_time": "2021-12-29T08:51:01.094Z"
   },
   {
    "duration": 32,
    "start_time": "2021-12-29T08:51:01.113Z"
   },
   {
    "duration": 233,
    "start_time": "2021-12-29T08:51:01.146Z"
   },
   {
    "duration": 249,
    "start_time": "2021-12-29T08:51:01.381Z"
   },
   {
    "duration": 241,
    "start_time": "2021-12-29T08:51:01.632Z"
   },
   {
    "duration": 236,
    "start_time": "2021-12-29T08:51:01.875Z"
   },
   {
    "duration": 225,
    "start_time": "2021-12-29T08:51:02.113Z"
   },
   {
    "duration": 219,
    "start_time": "2021-12-29T08:51:07.830Z"
   },
   {
    "duration": 217,
    "start_time": "2021-12-29T08:51:09.035Z"
   },
   {
    "duration": 15,
    "start_time": "2021-12-29T08:51:10.486Z"
   },
   {
    "duration": 432,
    "start_time": "2021-12-29T08:51:11.048Z"
   },
   {
    "duration": 191,
    "start_time": "2021-12-29T08:51:13.418Z"
   },
   {
    "duration": 332,
    "start_time": "2021-12-29T08:51:26.645Z"
   },
   {
    "duration": 15,
    "start_time": "2021-12-29T08:51:31.874Z"
   },
   {
    "duration": 306,
    "start_time": "2021-12-29T08:51:57.774Z"
   },
   {
    "duration": 17,
    "start_time": "2021-12-29T08:51:58.657Z"
   },
   {
    "duration": 332,
    "start_time": "2021-12-29T08:51:59.759Z"
   },
   {
    "duration": 16,
    "start_time": "2021-12-29T08:52:00.606Z"
   },
   {
    "duration": 321,
    "start_time": "2021-12-29T08:52:01.778Z"
   },
   {
    "duration": 16,
    "start_time": "2021-12-29T08:52:03.074Z"
   },
   {
    "duration": 286,
    "start_time": "2021-12-29T08:52:10.674Z"
   },
   {
    "duration": 15,
    "start_time": "2021-12-29T09:18:56.362Z"
   },
   {
    "duration": 17,
    "start_time": "2021-12-29T09:19:02.149Z"
   },
   {
    "duration": 3,
    "start_time": "2021-12-29T09:30:30.878Z"
   },
   {
    "duration": 46,
    "start_time": "2021-12-29T09:30:30.883Z"
   },
   {
    "duration": 12,
    "start_time": "2021-12-29T09:30:30.931Z"
   },
   {
    "duration": 26,
    "start_time": "2021-12-29T09:30:30.945Z"
   },
   {
    "duration": 33,
    "start_time": "2021-12-29T09:30:30.973Z"
   },
   {
    "duration": 14,
    "start_time": "2021-12-29T09:30:31.008Z"
   },
   {
    "duration": 5,
    "start_time": "2021-12-29T09:30:31.025Z"
   },
   {
    "duration": 30,
    "start_time": "2021-12-29T09:30:31.032Z"
   },
   {
    "duration": 21,
    "start_time": "2021-12-29T09:30:31.063Z"
   },
   {
    "duration": 24,
    "start_time": "2021-12-29T09:30:31.086Z"
   },
   {
    "duration": 26,
    "start_time": "2021-12-29T09:30:31.112Z"
   },
   {
    "duration": 17,
    "start_time": "2021-12-29T09:30:31.140Z"
   },
   {
    "duration": 19,
    "start_time": "2021-12-29T09:30:31.159Z"
   },
   {
    "duration": 8,
    "start_time": "2021-12-29T09:30:31.180Z"
   },
   {
    "duration": 25,
    "start_time": "2021-12-29T09:30:31.189Z"
   },
   {
    "duration": 30,
    "start_time": "2021-12-29T09:30:31.215Z"
   },
   {
    "duration": 15,
    "start_time": "2021-12-29T09:30:31.247Z"
   },
   {
    "duration": 20,
    "start_time": "2021-12-29T09:30:31.264Z"
   },
   {
    "duration": 18,
    "start_time": "2021-12-29T09:30:31.287Z"
   },
   {
    "duration": 390,
    "start_time": "2021-12-29T09:30:31.308Z"
   },
   {
    "duration": 4,
    "start_time": "2021-12-29T09:30:31.700Z"
   },
   {
    "duration": 13,
    "start_time": "2021-12-29T09:30:31.706Z"
   },
   {
    "duration": 34,
    "start_time": "2021-12-29T09:30:31.720Z"
   },
   {
    "duration": 222,
    "start_time": "2021-12-29T09:30:31.756Z"
   },
   {
    "duration": 223,
    "start_time": "2021-12-29T09:30:31.980Z"
   },
   {
    "duration": 226,
    "start_time": "2021-12-29T09:30:32.205Z"
   },
   {
    "duration": 220,
    "start_time": "2021-12-29T09:30:32.432Z"
   },
   {
    "duration": 211,
    "start_time": "2021-12-29T09:30:32.654Z"
   },
   {
    "duration": 222,
    "start_time": "2021-12-29T09:30:32.866Z"
   },
   {
    "duration": 17,
    "start_time": "2021-12-29T09:30:33.089Z"
   },
   {
    "duration": 276,
    "start_time": "2021-12-29T09:30:33.108Z"
   },
   {
    "duration": 204,
    "start_time": "2021-12-29T09:30:33.386Z"
   },
   {
    "duration": 277,
    "start_time": "2021-12-29T09:30:33.591Z"
   },
   {
    "duration": 14,
    "start_time": "2021-12-29T09:30:33.870Z"
   },
   {
    "duration": 283,
    "start_time": "2021-12-29T09:30:33.886Z"
   },
   {
    "duration": 15,
    "start_time": "2021-12-29T09:30:34.171Z"
   },
   {
    "duration": 291,
    "start_time": "2021-12-29T09:30:34.188Z"
   },
   {
    "duration": 17,
    "start_time": "2021-12-29T09:30:34.481Z"
   },
   {
    "duration": 283,
    "start_time": "2021-12-29T09:30:34.500Z"
   },
   {
    "duration": 19,
    "start_time": "2021-12-29T09:30:34.785Z"
   },
   {
    "duration": 304,
    "start_time": "2021-12-29T09:30:34.805Z"
   },
   {
    "duration": 14,
    "start_time": "2021-12-29T09:30:35.111Z"
   },
   {
    "duration": 38,
    "start_time": "2021-12-29T09:30:35.127Z"
   },
   {
    "duration": 25,
    "start_time": "2021-12-29T09:30:35.167Z"
   },
   {
    "duration": 38,
    "start_time": "2021-12-29T09:30:35.193Z"
   },
   {
    "duration": 23,
    "start_time": "2021-12-29T09:30:35.232Z"
   },
   {
    "duration": 24,
    "start_time": "2021-12-29T09:30:35.257Z"
   },
   {
    "duration": 21,
    "start_time": "2021-12-29T09:30:35.283Z"
   },
   {
    "duration": 19,
    "start_time": "2021-12-29T09:30:35.306Z"
   },
   {
    "duration": 16,
    "start_time": "2021-12-29T09:30:35.328Z"
   },
   {
    "duration": 225,
    "start_time": "2021-12-29T09:30:35.345Z"
   },
   {
    "duration": 431,
    "start_time": "2021-12-29T09:30:35.572Z"
   },
   {
    "duration": 11,
    "start_time": "2021-12-29T09:30:36.005Z"
   },
   {
    "duration": 8,
    "start_time": "2021-12-29T09:30:36.018Z"
   },
   {
    "duration": 211,
    "start_time": "2021-12-29T09:30:36.030Z"
   },
   {
    "duration": 192,
    "start_time": "2021-12-29T09:30:36.243Z"
   },
   {
    "duration": 11,
    "start_time": "2021-12-29T09:30:36.437Z"
   },
   {
    "duration": 4,
    "start_time": "2021-12-29T09:31:27.462Z"
   },
   {
    "duration": 4,
    "start_time": "2021-12-29T09:31:37.422Z"
   },
   {
    "duration": 3,
    "start_time": "2021-12-29T09:32:51.142Z"
   },
   {
    "duration": 4,
    "start_time": "2021-12-29T09:44:50.963Z"
   },
   {
    "duration": 50,
    "start_time": "2021-12-29T09:44:50.969Z"
   },
   {
    "duration": 11,
    "start_time": "2021-12-29T09:44:51.021Z"
   },
   {
    "duration": 20,
    "start_time": "2021-12-29T09:44:51.034Z"
   },
   {
    "duration": 36,
    "start_time": "2021-12-29T09:44:51.061Z"
   },
   {
    "duration": 16,
    "start_time": "2021-12-29T09:44:51.099Z"
   },
   {
    "duration": 4,
    "start_time": "2021-12-29T09:44:51.118Z"
   },
   {
    "duration": 5,
    "start_time": "2021-12-29T09:44:51.161Z"
   },
   {
    "duration": 16,
    "start_time": "2021-12-29T09:44:51.169Z"
   },
   {
    "duration": 15,
    "start_time": "2021-12-29T09:44:51.187Z"
   },
   {
    "duration": 21,
    "start_time": "2021-12-29T09:44:51.204Z"
   },
   {
    "duration": 15,
    "start_time": "2021-12-29T09:44:51.227Z"
   },
   {
    "duration": 10,
    "start_time": "2021-12-29T09:44:51.244Z"
   },
   {
    "duration": 20,
    "start_time": "2021-12-29T09:44:51.256Z"
   },
   {
    "duration": 8,
    "start_time": "2021-12-29T09:44:51.278Z"
   },
   {
    "duration": 28,
    "start_time": "2021-12-29T09:44:51.288Z"
   },
   {
    "duration": 16,
    "start_time": "2021-12-29T09:44:51.318Z"
   },
   {
    "duration": 37,
    "start_time": "2021-12-29T09:44:51.336Z"
   },
   {
    "duration": 5,
    "start_time": "2021-12-29T09:44:51.378Z"
   },
   {
    "duration": 423,
    "start_time": "2021-12-29T09:44:51.386Z"
   },
   {
    "duration": 5,
    "start_time": "2021-12-29T09:44:51.811Z"
   },
   {
    "duration": 10,
    "start_time": "2021-12-29T09:44:51.817Z"
   },
   {
    "duration": 32,
    "start_time": "2021-12-29T09:44:51.829Z"
   },
   {
    "duration": 240,
    "start_time": "2021-12-29T09:44:51.863Z"
   },
   {
    "duration": 230,
    "start_time": "2021-12-29T09:44:52.105Z"
   },
   {
    "duration": 234,
    "start_time": "2021-12-29T09:44:52.337Z"
   },
   {
    "duration": 238,
    "start_time": "2021-12-29T09:44:52.573Z"
   },
   {
    "duration": 246,
    "start_time": "2021-12-29T09:44:52.813Z"
   },
   {
    "duration": 309,
    "start_time": "2021-12-29T09:44:53.062Z"
   },
   {
    "duration": 27,
    "start_time": "2021-12-29T09:44:53.374Z"
   },
   {
    "duration": 491,
    "start_time": "2021-12-29T09:44:53.403Z"
   },
   {
    "duration": 214,
    "start_time": "2021-12-29T09:44:53.896Z"
   },
   {
    "duration": 322,
    "start_time": "2021-12-29T09:44:54.112Z"
   },
   {
    "duration": 15,
    "start_time": "2021-12-29T09:44:54.436Z"
   },
   {
    "duration": 317,
    "start_time": "2021-12-29T09:44:54.453Z"
   },
   {
    "duration": 16,
    "start_time": "2021-12-29T09:44:54.772Z"
   },
   {
    "duration": 332,
    "start_time": "2021-12-29T09:44:54.789Z"
   },
   {
    "duration": 16,
    "start_time": "2021-12-29T09:44:55.123Z"
   },
   {
    "duration": 344,
    "start_time": "2021-12-29T09:44:55.141Z"
   },
   {
    "duration": 15,
    "start_time": "2021-12-29T09:44:55.486Z"
   },
   {
    "duration": 317,
    "start_time": "2021-12-29T09:44:55.503Z"
   },
   {
    "duration": 16,
    "start_time": "2021-12-29T09:44:55.822Z"
   },
   {
    "duration": 31,
    "start_time": "2021-12-29T09:44:55.839Z"
   },
   {
    "duration": 17,
    "start_time": "2021-12-29T09:44:55.873Z"
   },
   {
    "duration": 16,
    "start_time": "2021-12-29T09:44:55.891Z"
   },
   {
    "duration": 14,
    "start_time": "2021-12-29T09:44:55.908Z"
   },
   {
    "duration": 58,
    "start_time": "2021-12-29T09:44:55.923Z"
   },
   {
    "duration": 15,
    "start_time": "2021-12-29T09:44:55.983Z"
   },
   {
    "duration": 16,
    "start_time": "2021-12-29T09:44:56.000Z"
   },
   {
    "duration": 43,
    "start_time": "2021-12-29T09:44:56.018Z"
   },
   {
    "duration": 214,
    "start_time": "2021-12-29T09:44:56.066Z"
   },
   {
    "duration": 210,
    "start_time": "2021-12-29T09:44:56.281Z"
   },
   {
    "duration": 11,
    "start_time": "2021-12-29T09:44:56.493Z"
   },
   {
    "duration": 3,
    "start_time": "2021-12-29T09:44:56.506Z"
   },
   {
    "duration": 248,
    "start_time": "2021-12-29T09:44:56.513Z"
   },
   {
    "duration": 260,
    "start_time": "2021-12-29T09:44:56.764Z"
   },
   {
    "duration": 11,
    "start_time": "2021-12-29T09:44:57.026Z"
   },
   {
    "duration": 4,
    "start_time": "2021-12-29T09:44:59.577Z"
   },
   {
    "duration": 1444,
    "start_time": "2021-12-30T07:29:30.986Z"
   },
   {
    "duration": 48,
    "start_time": "2021-12-30T07:29:32.433Z"
   },
   {
    "duration": 21,
    "start_time": "2021-12-30T07:29:32.484Z"
   },
   {
    "duration": 14,
    "start_time": "2021-12-30T07:29:32.508Z"
   },
   {
    "duration": 66,
    "start_time": "2021-12-30T07:29:32.524Z"
   },
   {
    "duration": 21,
    "start_time": "2021-12-30T07:29:32.593Z"
   },
   {
    "duration": 7,
    "start_time": "2021-12-30T07:29:32.616Z"
   },
   {
    "duration": 35,
    "start_time": "2021-12-30T07:29:32.627Z"
   },
   {
    "duration": 10,
    "start_time": "2021-12-30T07:29:32.665Z"
   },
   {
    "duration": 15,
    "start_time": "2021-12-30T07:29:32.677Z"
   },
   {
    "duration": 9,
    "start_time": "2021-12-30T07:29:32.695Z"
   },
   {
    "duration": 17,
    "start_time": "2021-12-30T07:29:32.707Z"
   },
   {
    "duration": 17,
    "start_time": "2021-12-30T07:29:32.759Z"
   },
   {
    "duration": 8,
    "start_time": "2021-12-30T07:29:32.778Z"
   },
   {
    "duration": 8,
    "start_time": "2021-12-30T07:29:32.789Z"
   },
   {
    "duration": 67,
    "start_time": "2021-12-30T07:29:32.799Z"
   },
   {
    "duration": 38,
    "start_time": "2021-12-30T07:29:32.869Z"
   },
   {
    "duration": 64,
    "start_time": "2021-12-30T07:29:32.910Z"
   },
   {
    "duration": 5,
    "start_time": "2021-12-30T07:29:32.977Z"
   },
   {
    "duration": 647,
    "start_time": "2021-12-30T07:29:32.985Z"
   },
   {
    "duration": 6,
    "start_time": "2021-12-30T07:29:33.634Z"
   },
   {
    "duration": 21,
    "start_time": "2021-12-30T07:29:33.643Z"
   },
   {
    "duration": 26,
    "start_time": "2021-12-30T07:29:33.670Z"
   },
   {
    "duration": 383,
    "start_time": "2021-12-30T07:29:33.699Z"
   },
   {
    "duration": 354,
    "start_time": "2021-12-30T07:29:34.085Z"
   },
   {
    "duration": 359,
    "start_time": "2021-12-30T07:29:34.441Z"
   },
   {
    "duration": 370,
    "start_time": "2021-12-30T07:29:34.802Z"
   },
   {
    "duration": 341,
    "start_time": "2021-12-30T07:29:35.174Z"
   },
   {
    "duration": 367,
    "start_time": "2021-12-30T07:29:35.517Z"
   },
   {
    "duration": 24,
    "start_time": "2021-12-30T07:29:35.887Z"
   },
   {
    "duration": 495,
    "start_time": "2021-12-30T07:29:35.914Z"
   },
   {
    "duration": 398,
    "start_time": "2021-12-30T07:29:36.411Z"
   },
   {
    "duration": 442,
    "start_time": "2021-12-30T07:29:36.811Z"
   },
   {
    "duration": 29,
    "start_time": "2021-12-30T07:29:37.256Z"
   },
   {
    "duration": 514,
    "start_time": "2021-12-30T07:29:37.288Z"
   },
   {
    "duration": 23,
    "start_time": "2021-12-30T07:29:37.804Z"
   },
   {
    "duration": 457,
    "start_time": "2021-12-30T07:29:37.829Z"
   },
   {
    "duration": 24,
    "start_time": "2021-12-30T07:29:38.288Z"
   },
   {
    "duration": 466,
    "start_time": "2021-12-30T07:29:38.314Z"
   },
   {
    "duration": 25,
    "start_time": "2021-12-30T07:29:38.782Z"
   },
   {
    "duration": 496,
    "start_time": "2021-12-30T07:29:38.809Z"
   },
   {
    "duration": 24,
    "start_time": "2021-12-30T07:29:39.308Z"
   },
   {
    "duration": 44,
    "start_time": "2021-12-30T07:29:39.334Z"
   },
   {
    "duration": 21,
    "start_time": "2021-12-30T07:29:39.380Z"
   },
   {
    "duration": 55,
    "start_time": "2021-12-30T07:29:39.404Z"
   },
   {
    "duration": 21,
    "start_time": "2021-12-30T07:29:39.462Z"
   },
   {
    "duration": 22,
    "start_time": "2021-12-30T07:29:39.486Z"
   },
   {
    "duration": 55,
    "start_time": "2021-12-30T07:29:39.511Z"
   },
   {
    "duration": 22,
    "start_time": "2021-12-30T07:29:39.569Z"
   },
   {
    "duration": 25,
    "start_time": "2021-12-30T07:29:39.593Z"
   },
   {
    "duration": 388,
    "start_time": "2021-12-30T07:29:39.621Z"
   },
   {
    "duration": 321,
    "start_time": "2021-12-30T07:29:40.011Z"
   },
   {
    "duration": 33,
    "start_time": "2021-12-30T07:29:40.336Z"
   },
   {
    "duration": 6,
    "start_time": "2021-12-30T07:29:40.371Z"
   },
   {
    "duration": 325,
    "start_time": "2021-12-30T07:29:40.380Z"
   },
   {
    "duration": 465,
    "start_time": "2021-12-30T07:29:40.708Z"
   },
   {
    "duration": 19,
    "start_time": "2021-12-30T07:29:41.176Z"
   },
   {
    "duration": 6,
    "start_time": "2021-12-30T07:29:41.198Z"
   },
   {
    "duration": 448,
    "start_time": "2021-12-30T07:40:22.520Z"
   },
   {
    "duration": 567,
    "start_time": "2021-12-30T07:40:29.356Z"
   },
   {
    "duration": 34,
    "start_time": "2021-12-30T07:40:38.851Z"
   },
   {
    "duration": 372,
    "start_time": "2021-12-30T08:06:02.272Z"
   },
   {
    "duration": 1063,
    "start_time": "2021-12-30T08:06:06.142Z"
   },
   {
    "duration": 38,
    "start_time": "2021-12-30T08:06:07.206Z"
   },
   {
    "duration": 14,
    "start_time": "2021-12-30T08:06:07.246Z"
   },
   {
    "duration": 11,
    "start_time": "2021-12-30T08:06:07.262Z"
   },
   {
    "duration": 24,
    "start_time": "2021-12-30T08:06:07.275Z"
   },
   {
    "duration": 33,
    "start_time": "2021-12-30T08:06:07.301Z"
   },
   {
    "duration": 5,
    "start_time": "2021-12-30T08:06:07.336Z"
   },
   {
    "duration": 8,
    "start_time": "2021-12-30T08:06:07.343Z"
   },
   {
    "duration": 5,
    "start_time": "2021-12-30T08:06:07.353Z"
   },
   {
    "duration": 10,
    "start_time": "2021-12-30T08:06:07.359Z"
   },
   {
    "duration": 7,
    "start_time": "2021-12-30T08:06:07.371Z"
   },
   {
    "duration": 11,
    "start_time": "2021-12-30T08:06:07.380Z"
   },
   {
    "duration": 37,
    "start_time": "2021-12-30T08:06:07.393Z"
   },
   {
    "duration": 5,
    "start_time": "2021-12-30T08:06:07.432Z"
   },
   {
    "duration": 6,
    "start_time": "2021-12-30T08:06:07.439Z"
   },
   {
    "duration": 29,
    "start_time": "2021-12-30T08:06:07.447Z"
   },
   {
    "duration": 15,
    "start_time": "2021-12-30T08:06:07.477Z"
   },
   {
    "duration": 39,
    "start_time": "2021-12-30T08:06:07.494Z"
   },
   {
    "duration": 3,
    "start_time": "2021-12-30T08:06:07.535Z"
   },
   {
    "duration": 389,
    "start_time": "2021-12-30T08:06:07.540Z"
   },
   {
    "duration": 4,
    "start_time": "2021-12-30T08:06:07.931Z"
   },
   {
    "duration": 6,
    "start_time": "2021-12-30T08:06:07.936Z"
   },
   {
    "duration": 14,
    "start_time": "2021-12-30T08:06:07.945Z"
   },
   {
    "duration": 11,
    "start_time": "2021-12-30T08:06:09.550Z"
   },
   {
    "duration": 6,
    "start_time": "2021-12-30T08:06:13.739Z"
   },
   {
    "duration": 397,
    "start_time": "2021-12-30T08:06:59.274Z"
   },
   {
    "duration": 353,
    "start_time": "2021-12-30T08:07:09.357Z"
   },
   {
    "duration": 341,
    "start_time": "2021-12-30T08:07:32.482Z"
   },
   {
    "duration": 4,
    "start_time": "2021-12-30T08:07:41.457Z"
   },
   {
    "duration": 1893,
    "start_time": "2021-12-30T08:07:51.264Z"
   },
   {
    "duration": 2180,
    "start_time": "2021-12-30T08:08:02.613Z"
   },
   {
    "duration": 346,
    "start_time": "2021-12-30T08:08:48.012Z"
   },
   {
    "duration": 1120,
    "start_time": "2021-12-30T08:08:51.681Z"
   },
   {
    "duration": 252,
    "start_time": "2021-12-30T08:14:41.489Z"
   },
   {
    "duration": 17,
    "start_time": "2021-12-30T08:15:10.275Z"
   },
   {
    "duration": 205,
    "start_time": "2021-12-30T08:16:05.753Z"
   },
   {
    "duration": 275,
    "start_time": "2021-12-30T08:19:15.007Z"
   },
   {
    "duration": 20,
    "start_time": "2021-12-30T08:19:41.382Z"
   },
   {
    "duration": 216,
    "start_time": "2021-12-30T08:20:03.189Z"
   },
   {
    "duration": 165,
    "start_time": "2021-12-30T08:20:06.986Z"
   },
   {
    "duration": 110,
    "start_time": "2021-12-30T08:22:42.661Z"
   },
   {
    "duration": 340,
    "start_time": "2021-12-30T08:22:47.582Z"
   },
   {
    "duration": 3,
    "start_time": "2021-12-30T08:22:51.734Z"
   },
   {
    "duration": 11065,
    "start_time": "2021-12-30T08:22:52.162Z"
   },
   {
    "duration": 359,
    "start_time": "2021-12-30T08:23:05.052Z"
   },
   {
    "duration": 203,
    "start_time": "2021-12-30T08:23:12.511Z"
   },
   {
    "duration": 20,
    "start_time": "2021-12-30T08:23:49.909Z"
   },
   {
    "duration": 9,
    "start_time": "2021-12-30T08:23:54.856Z"
   },
   {
    "duration": 20,
    "start_time": "2021-12-30T08:24:01.498Z"
   },
   {
    "duration": 298,
    "start_time": "2021-12-30T08:24:44.767Z"
   },
   {
    "duration": 407,
    "start_time": "2021-12-30T08:24:54.393Z"
   },
   {
    "duration": 194,
    "start_time": "2021-12-30T08:25:50.835Z"
   },
   {
    "duration": 3,
    "start_time": "2021-12-30T08:27:27.102Z"
   },
   {
    "duration": 191,
    "start_time": "2021-12-30T08:27:37.339Z"
   },
   {
    "duration": 3,
    "start_time": "2021-12-30T08:28:13.983Z"
   },
   {
    "duration": 8874,
    "start_time": "2021-12-30T08:28:23.123Z"
   },
   {
    "duration": 191,
    "start_time": "2021-12-30T08:28:35.842Z"
   },
   {
    "duration": 196,
    "start_time": "2021-12-30T08:29:00.067Z"
   },
   {
    "duration": 187,
    "start_time": "2021-12-30T08:29:03.349Z"
   },
   {
    "duration": 180,
    "start_time": "2021-12-30T08:29:08.712Z"
   },
   {
    "duration": 188,
    "start_time": "2021-12-30T08:29:13.270Z"
   },
   {
    "duration": 188,
    "start_time": "2021-12-30T08:29:14.971Z"
   },
   {
    "duration": 181,
    "start_time": "2021-12-30T08:29:32.274Z"
   },
   {
    "duration": 180,
    "start_time": "2021-12-30T08:29:37.348Z"
   },
   {
    "duration": 7,
    "start_time": "2021-12-30T08:32:03.396Z"
   },
   {
    "duration": 6,
    "start_time": "2021-12-30T08:32:14.945Z"
   },
   {
    "duration": 604,
    "start_time": "2021-12-30T08:32:40.774Z"
   },
   {
    "duration": 133,
    "start_time": "2021-12-30T08:32:51.577Z"
   },
   {
    "duration": 4,
    "start_time": "2021-12-30T08:34:46.557Z"
   },
   {
    "duration": 16,
    "start_time": "2021-12-30T08:34:51.096Z"
   },
   {
    "duration": 19,
    "start_time": "2021-12-30T08:34:58.112Z"
   },
   {
    "duration": 16,
    "start_time": "2021-12-30T08:39:19.809Z"
   },
   {
    "duration": 195,
    "start_time": "2021-12-30T08:39:58.520Z"
   },
   {
    "duration": 192,
    "start_time": "2021-12-30T08:41:48.060Z"
   },
   {
    "duration": 192,
    "start_time": "2021-12-30T08:42:04.828Z"
   },
   {
    "duration": 164,
    "start_time": "2021-12-30T08:42:12.573Z"
   },
   {
    "duration": 596,
    "start_time": "2021-12-30T08:42:19.728Z"
   },
   {
    "duration": 147,
    "start_time": "2021-12-30T08:42:51.206Z"
   },
   {
    "duration": 657,
    "start_time": "2021-12-30T08:43:06.014Z"
   },
   {
    "duration": 1654,
    "start_time": "2021-12-30T08:43:24.723Z"
   },
   {
    "duration": 609,
    "start_time": "2021-12-30T08:43:34.934Z"
   },
   {
    "duration": 669,
    "start_time": "2021-12-30T08:43:46.582Z"
   },
   {
    "duration": 152,
    "start_time": "2021-12-30T08:43:50.294Z"
   },
   {
    "duration": 1086,
    "start_time": "2021-12-30T08:44:03.314Z"
   },
   {
    "duration": 1097,
    "start_time": "2021-12-30T08:44:21.593Z"
   },
   {
    "duration": 537,
    "start_time": "2021-12-30T08:44:45.197Z"
   },
   {
    "duration": 167,
    "start_time": "2021-12-30T08:44:59.849Z"
   },
   {
    "duration": 161,
    "start_time": "2021-12-30T08:45:15.123Z"
   },
   {
    "duration": 156,
    "start_time": "2021-12-30T08:46:50.516Z"
   },
   {
    "duration": 241,
    "start_time": "2021-12-30T08:47:55.924Z"
   },
   {
    "duration": 155,
    "start_time": "2021-12-30T08:48:56.404Z"
   },
   {
    "duration": 168,
    "start_time": "2021-12-30T08:49:22.269Z"
   },
   {
    "duration": 166,
    "start_time": "2021-12-30T08:49:28.088Z"
   },
   {
    "duration": 163,
    "start_time": "2021-12-30T08:49:30.052Z"
   },
   {
    "duration": 173,
    "start_time": "2021-12-30T08:52:07.078Z"
   },
   {
    "duration": 254,
    "start_time": "2021-12-30T08:54:25.996Z"
   },
   {
    "duration": 275,
    "start_time": "2021-12-30T08:55:00.229Z"
   },
   {
    "duration": 257,
    "start_time": "2021-12-30T08:57:26.821Z"
   },
   {
    "duration": 267,
    "start_time": "2021-12-30T08:57:33.828Z"
   },
   {
    "duration": 239,
    "start_time": "2021-12-30T09:00:04.857Z"
   },
   {
    "duration": 265,
    "start_time": "2021-12-30T09:00:09.329Z"
   },
   {
    "duration": 361,
    "start_time": "2021-12-30T09:00:41.634Z"
   },
   {
    "duration": 278,
    "start_time": "2021-12-30T09:01:19.000Z"
   },
   {
    "duration": 264,
    "start_time": "2021-12-30T09:01:36.437Z"
   },
   {
    "duration": 261,
    "start_time": "2021-12-30T09:02:15.192Z"
   },
   {
    "duration": 180,
    "start_time": "2021-12-30T09:10:12.223Z"
   },
   {
    "duration": 180,
    "start_time": "2021-12-30T09:10:24.054Z"
   },
   {
    "duration": 169,
    "start_time": "2021-12-30T09:10:31.105Z"
   },
   {
    "duration": 176,
    "start_time": "2021-12-30T09:10:33.669Z"
   },
   {
    "duration": 12,
    "start_time": "2021-12-30T09:10:44.597Z"
   },
   {
    "duration": 3,
    "start_time": "2021-12-30T09:10:47.110Z"
   },
   {
    "duration": 4,
    "start_time": "2021-12-30T09:10:57.568Z"
   },
   {
    "duration": 169,
    "start_time": "2021-12-30T09:11:31.242Z"
   },
   {
    "duration": 172,
    "start_time": "2021-12-30T09:11:33.695Z"
   },
   {
    "duration": 13,
    "start_time": "2021-12-30T09:11:47.448Z"
   },
   {
    "duration": 4,
    "start_time": "2021-12-30T09:11:48.683Z"
   }
  ],
  "kernelspec": {
   "display_name": "Python 3 (ipykernel)",
   "language": "python",
   "name": "python3"
  },
  "language_info": {
   "codemirror_mode": {
    "name": "ipython",
    "version": 3
   },
   "file_extension": ".py",
   "mimetype": "text/x-python",
   "name": "python",
   "nbconvert_exporter": "python",
   "pygments_lexer": "ipython3",
   "version": "3.10.4"
  },
  "toc": {
   "base_numbering": 1,
   "nav_menu": {},
   "number_sections": true,
   "sideBar": true,
   "skip_h1_title": true,
   "title_cell": "Содержание",
   "title_sidebar": "Contents",
   "toc_cell": true,
   "toc_position": {
    "height": "calc(100% - 180px)",
    "left": "10px",
    "top": "150px",
    "width": "337px"
   },
   "toc_section_display": true,
   "toc_window_display": true
  }
 },
 "nbformat": 4,
 "nbformat_minor": 4
}