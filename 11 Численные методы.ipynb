{
 "cells": [
  {
   "cell_type": "markdown",
   "metadata": {},
   "source": [
    "# Определение стоимости автомобилей"
   ]
  },
  {
   "cell_type": "markdown",
   "metadata": {},
   "source": [
    "Сервис по продаже автомобилей с пробегом «Не бит, не крашен» разрабатывает приложение для привлечения новых клиентов. В нём можно быстро узнать рыночную стоимость своего автомобиля. В моем распоряжении исторические данные: технические характеристики, комплектации и цены автомобилей. Мне нужно построить модель для определения стоимости. \n",
    "\n",
    "Заказчику важны:\n",
    "\n",
    "- качество предсказания;\n",
    "- скорость предсказания;\n",
    "- время обучения."
   ]
  },
  {
   "cell_type": "markdown",
   "metadata": {
    "toc": true
   },
   "source": [
    "<h1>Table of Contents<span class=\"tocSkip\"></span></h1>\n",
    "<div class=\"toc\"><ul class=\"toc-item\"><li><span><a href=\"#Подготовка-данных\" data-toc-modified-id=\"Подготовка-данных-1\"><span class=\"toc-item-num\">1&nbsp;&nbsp;</span>Подготовка данных</a></span><ul class=\"toc-item\"><li><span><a href=\"#Загрузка-и-первичное-изучение-данных\" data-toc-modified-id=\"Загрузка-и-первичное-изучение-данных-1.1\"><span class=\"toc-item-num\">1.1&nbsp;&nbsp;</span>Загрузка и первичное изучение данных</a></span></li><li><span><a href=\"#Работа-с-пропущенными-значениями\" data-toc-modified-id=\"Работа-с-пропущенными-значениями-1.2\"><span class=\"toc-item-num\">1.2&nbsp;&nbsp;</span>Работа с пропущенными значениями</a></span></li><li><span><a href=\"#Работа-с-выбросами\" data-toc-modified-id=\"Работа-с-выбросами-1.3\"><span class=\"toc-item-num\">1.3&nbsp;&nbsp;</span>Работа с выбросами</a></span></li><li><span><a href=\"#Удаляем-лишние-столбцы\" data-toc-modified-id=\"Удаляем-лишние-столбцы-1.4\"><span class=\"toc-item-num\">1.4&nbsp;&nbsp;</span>Удаляем лишние столбцы</a></span></li></ul></li><li><span><a href=\"#Обучение-моделей\" data-toc-modified-id=\"Обучение-моделей-2\"><span class=\"toc-item-num\">2&nbsp;&nbsp;</span>Обучение моделей</a></span><ul class=\"toc-item\"><li><span><a href=\"#Обычная-модель\" data-toc-modified-id=\"Обычная-модель-2.1\"><span class=\"toc-item-num\">2.1&nbsp;&nbsp;</span>Обычная модель</a></span></li><li><span><a href=\"#Модели-с-бустингом\" data-toc-modified-id=\"Модели-с-бустингом-2.2\"><span class=\"toc-item-num\">2.2&nbsp;&nbsp;</span>Модели с бустингом</a></span><ul class=\"toc-item\"><li><span><a href=\"#AdaBoost\" data-toc-modified-id=\"AdaBoost-2.2.1\"><span class=\"toc-item-num\">2.2.1&nbsp;&nbsp;</span>AdaBoost</a></span></li><li><span><a href=\"#LightGBM\" data-toc-modified-id=\"LightGBM-2.2.2\"><span class=\"toc-item-num\">2.2.2&nbsp;&nbsp;</span>LightGBM</a></span></li></ul></li></ul></li><li><span><a href=\"#Анализ-моделей\" data-toc-modified-id=\"Анализ-моделей-3\"><span class=\"toc-item-num\">3&nbsp;&nbsp;</span>Анализ моделей</a></span></li><li><span><a href=\"#Общий-вывод\" data-toc-modified-id=\"Общий-вывод-4\"><span class=\"toc-item-num\">4&nbsp;&nbsp;</span>Общий вывод</a></span></li></ul></div>"
   ]
  },
  {
   "cell_type": "markdown",
   "metadata": {},
   "source": [
    "## Подготовка данных"
   ]
  },
  {
   "cell_type": "markdown",
   "metadata": {},
   "source": [
    "Импортируем необходимые библиотеки."
   ]
  },
  {
   "cell_type": "code",
   "execution_count": 112,
   "metadata": {},
   "outputs": [],
   "source": [
    "import pandas as pd\n",
    "import time\n",
    "\n",
    "from sklearn.model_selection import train_test_split, RandomizedSearchCV\n",
    "\n",
    "from sklearn.ensemble import AdaBoostRegressor\n",
    "\n",
    "from sklearn.linear_model import LinearRegression\n",
    "\n",
    "from sklearn.metrics import mean_squared_error\n",
    "\n",
    "from sklearn.tree import DecisionTreeClassifier\n",
    "\n",
    "from lightgbm import LGBMRegressor"
   ]
  },
  {
   "cell_type": "markdown",
   "metadata": {},
   "source": [
    "### Загрузка и первичное изучение данных"
   ]
  },
  {
   "cell_type": "markdown",
   "metadata": {},
   "source": [
    "Загрузим данные и посмотрим на первые 5 строк."
   ]
  },
  {
   "cell_type": "code",
   "execution_count": 47,
   "metadata": {},
   "outputs": [
    {
     "data": {
      "text/html": [
       "<div>\n",
       "<style scoped>\n",
       "    .dataframe tbody tr th:only-of-type {\n",
       "        vertical-align: middle;\n",
       "    }\n",
       "\n",
       "    .dataframe tbody tr th {\n",
       "        vertical-align: top;\n",
       "    }\n",
       "\n",
       "    .dataframe thead th {\n",
       "        text-align: right;\n",
       "    }\n",
       "</style>\n",
       "<table border=\"1\" class=\"dataframe\">\n",
       "  <thead>\n",
       "    <tr style=\"text-align: right;\">\n",
       "      <th></th>\n",
       "      <th>DateCrawled</th>\n",
       "      <th>Price</th>\n",
       "      <th>VehicleType</th>\n",
       "      <th>RegistrationYear</th>\n",
       "      <th>Gearbox</th>\n",
       "      <th>Power</th>\n",
       "      <th>Model</th>\n",
       "      <th>Kilometer</th>\n",
       "      <th>RegistrationMonth</th>\n",
       "      <th>FuelType</th>\n",
       "      <th>Brand</th>\n",
       "      <th>NotRepaired</th>\n",
       "      <th>DateCreated</th>\n",
       "      <th>NumberOfPictures</th>\n",
       "      <th>PostalCode</th>\n",
       "      <th>LastSeen</th>\n",
       "    </tr>\n",
       "  </thead>\n",
       "  <tbody>\n",
       "    <tr>\n",
       "      <th>0</th>\n",
       "      <td>2016-03-24 11:52:17</td>\n",
       "      <td>480</td>\n",
       "      <td>NaN</td>\n",
       "      <td>1993</td>\n",
       "      <td>manual</td>\n",
       "      <td>0</td>\n",
       "      <td>golf</td>\n",
       "      <td>150000</td>\n",
       "      <td>0</td>\n",
       "      <td>petrol</td>\n",
       "      <td>volkswagen</td>\n",
       "      <td>NaN</td>\n",
       "      <td>2016-03-24 00:00:00</td>\n",
       "      <td>0</td>\n",
       "      <td>70435</td>\n",
       "      <td>2016-04-07 03:16:57</td>\n",
       "    </tr>\n",
       "    <tr>\n",
       "      <th>1</th>\n",
       "      <td>2016-03-24 10:58:45</td>\n",
       "      <td>18300</td>\n",
       "      <td>coupe</td>\n",
       "      <td>2011</td>\n",
       "      <td>manual</td>\n",
       "      <td>190</td>\n",
       "      <td>NaN</td>\n",
       "      <td>125000</td>\n",
       "      <td>5</td>\n",
       "      <td>gasoline</td>\n",
       "      <td>audi</td>\n",
       "      <td>yes</td>\n",
       "      <td>2016-03-24 00:00:00</td>\n",
       "      <td>0</td>\n",
       "      <td>66954</td>\n",
       "      <td>2016-04-07 01:46:50</td>\n",
       "    </tr>\n",
       "    <tr>\n",
       "      <th>2</th>\n",
       "      <td>2016-03-14 12:52:21</td>\n",
       "      <td>9800</td>\n",
       "      <td>suv</td>\n",
       "      <td>2004</td>\n",
       "      <td>auto</td>\n",
       "      <td>163</td>\n",
       "      <td>grand</td>\n",
       "      <td>125000</td>\n",
       "      <td>8</td>\n",
       "      <td>gasoline</td>\n",
       "      <td>jeep</td>\n",
       "      <td>NaN</td>\n",
       "      <td>2016-03-14 00:00:00</td>\n",
       "      <td>0</td>\n",
       "      <td>90480</td>\n",
       "      <td>2016-04-05 12:47:46</td>\n",
       "    </tr>\n",
       "    <tr>\n",
       "      <th>3</th>\n",
       "      <td>2016-03-17 16:54:04</td>\n",
       "      <td>1500</td>\n",
       "      <td>small</td>\n",
       "      <td>2001</td>\n",
       "      <td>manual</td>\n",
       "      <td>75</td>\n",
       "      <td>golf</td>\n",
       "      <td>150000</td>\n",
       "      <td>6</td>\n",
       "      <td>petrol</td>\n",
       "      <td>volkswagen</td>\n",
       "      <td>no</td>\n",
       "      <td>2016-03-17 00:00:00</td>\n",
       "      <td>0</td>\n",
       "      <td>91074</td>\n",
       "      <td>2016-03-17 17:40:17</td>\n",
       "    </tr>\n",
       "    <tr>\n",
       "      <th>4</th>\n",
       "      <td>2016-03-31 17:25:20</td>\n",
       "      <td>3600</td>\n",
       "      <td>small</td>\n",
       "      <td>2008</td>\n",
       "      <td>manual</td>\n",
       "      <td>69</td>\n",
       "      <td>fabia</td>\n",
       "      <td>90000</td>\n",
       "      <td>7</td>\n",
       "      <td>gasoline</td>\n",
       "      <td>skoda</td>\n",
       "      <td>no</td>\n",
       "      <td>2016-03-31 00:00:00</td>\n",
       "      <td>0</td>\n",
       "      <td>60437</td>\n",
       "      <td>2016-04-06 10:17:21</td>\n",
       "    </tr>\n",
       "  </tbody>\n",
       "</table>\n",
       "</div>"
      ],
      "text/plain": [
       "           DateCrawled  Price VehicleType  RegistrationYear Gearbox  Power  \\\n",
       "0  2016-03-24 11:52:17    480         NaN              1993  manual      0   \n",
       "1  2016-03-24 10:58:45  18300       coupe              2011  manual    190   \n",
       "2  2016-03-14 12:52:21   9800         suv              2004    auto    163   \n",
       "3  2016-03-17 16:54:04   1500       small              2001  manual     75   \n",
       "4  2016-03-31 17:25:20   3600       small              2008  manual     69   \n",
       "\n",
       "   Model  Kilometer  RegistrationMonth  FuelType       Brand NotRepaired  \\\n",
       "0   golf     150000                  0    petrol  volkswagen         NaN   \n",
       "1    NaN     125000                  5  gasoline        audi         yes   \n",
       "2  grand     125000                  8  gasoline        jeep         NaN   \n",
       "3   golf     150000                  6    petrol  volkswagen          no   \n",
       "4  fabia      90000                  7  gasoline       skoda          no   \n",
       "\n",
       "           DateCreated  NumberOfPictures  PostalCode             LastSeen  \n",
       "0  2016-03-24 00:00:00                 0       70435  2016-04-07 03:16:57  \n",
       "1  2016-03-24 00:00:00                 0       66954  2016-04-07 01:46:50  \n",
       "2  2016-03-14 00:00:00                 0       90480  2016-04-05 12:47:46  \n",
       "3  2016-03-17 00:00:00                 0       91074  2016-03-17 17:40:17  \n",
       "4  2016-03-31 00:00:00                 0       60437  2016-04-06 10:17:21  "
      ]
     },
     "execution_count": 47,
     "metadata": {},
     "output_type": "execute_result"
    }
   ],
   "source": [
    "df = pd.read_csv('/datasets/autos.csv')\n",
    "df.head()"
   ]
  },
  {
   "cell_type": "code",
   "execution_count": 48,
   "metadata": {},
   "outputs": [
    {
     "data": {
      "text/plain": [
       "(354369, 16)"
      ]
     },
     "execution_count": 48,
     "metadata": {},
     "output_type": "execute_result"
    }
   ],
   "source": [
    "df.shape"
   ]
  },
  {
   "cell_type": "markdown",
   "metadata": {},
   "source": [
    "В нашем датасете 354369 наблюдений и 16 признаков.\n",
    "\n",
    "Согласно документации, колонки означают следующее:\n",
    "\n",
    "- DateCrawled — дата скачивания анкеты из базы\n",
    "- VehicleType — тип автомобильного кузова\n",
    "- RegistrationYear — год регистрации автомобиля\n",
    "- Gearbox — тип коробки передач\n",
    "- Power — мощность (л. с.)\n",
    "- Model — модель автомобиля\n",
    "- Kilometer — пробег (км)\n",
    "- RegistrationMonth — месяц регистрации автомобиля\n",
    "- FuelType — тип топлива\n",
    "- Brand — марка автомобиля\n",
    "- NotRepaired — была машина в ремонте или нет\n",
    "- DateCreated — дата создания анкеты\n",
    "- NumberOfPictures — количество фотографий автомобиля\n",
    "- PostalCode — почтовый индекс владельца анкеты (пользователя)\n",
    "- LastSeen — дата последней активности пользователя"
   ]
  },
  {
   "cell_type": "markdown",
   "metadata": {},
   "source": [
    "Видно, что можно удалить некоторые колонки, которые не должны оказывать влияния на цену автомобиля. Например, дата скачивания анкеты, почтовый индекс, дата последней активности и т.п.\n",
    "Создадим новый список, в который внесем \"ненужные\" колонки. По мере обработки данных возможно добавим в него еще колонки."
   ]
  },
  {
   "cell_type": "code",
   "execution_count": 49,
   "metadata": {},
   "outputs": [],
   "source": [
    "columns_to_drop = ['DateCrawled', 'RegistrationMonth', 'DateCreated', 'LastSeen', 'PostalCode']"
   ]
  },
  {
   "cell_type": "markdown",
   "metadata": {},
   "source": [
    "### Работа с пропущенными значениями"
   ]
  },
  {
   "cell_type": "markdown",
   "metadata": {},
   "source": [
    "Сохраним датасет в новый и посмотрим на количество пропущенных значений в датасете."
   ]
  },
  {
   "cell_type": "code",
   "execution_count": 50,
   "metadata": {},
   "outputs": [
    {
     "data": {
      "text/plain": [
       "NotRepaired          71154\n",
       "VehicleType          37490\n",
       "FuelType             32895\n",
       "Gearbox              19833\n",
       "Model                19705\n",
       "DateCrawled              0\n",
       "Price                    0\n",
       "RegistrationYear         0\n",
       "Power                    0\n",
       "Kilometer                0\n",
       "RegistrationMonth        0\n",
       "Brand                    0\n",
       "DateCreated              0\n",
       "NumberOfPictures         0\n",
       "PostalCode               0\n",
       "LastSeen                 0\n",
       "dtype: int64"
      ]
     },
     "execution_count": 50,
     "metadata": {},
     "output_type": "execute_result"
    }
   ],
   "source": [
    "clean_df = df.copy()\n",
    "clean_df.isnull().sum().sort_values(ascending=False)"
   ]
  },
  {
   "cell_type": "markdown",
   "metadata": {},
   "source": [
    "Итак, больше всего пропущенных значений в колонке, которая говорит о том, ремонтировался ли автомобиль. Другие колонки с пропущенными значениями - тип автомобля, тип топлива, коробка передач и модель.\n",
    "\n",
    "Предлагается заменить все пропущенные значения на 'unknown'."
   ]
  },
  {
   "cell_type": "code",
   "execution_count": 51,
   "metadata": {},
   "outputs": [],
   "source": [
    "clean_df.fillna('unknown', inplace=True)"
   ]
  },
  {
   "cell_type": "markdown",
   "metadata": {},
   "source": [
    "### Работа с выбросами"
   ]
  },
  {
   "cell_type": "markdown",
   "metadata": {},
   "source": [
    "Опишем значения методом `describe`."
   ]
  },
  {
   "cell_type": "code",
   "execution_count": 52,
   "metadata": {},
   "outputs": [
    {
     "data": {
      "text/html": [
       "<div>\n",
       "<style scoped>\n",
       "    .dataframe tbody tr th:only-of-type {\n",
       "        vertical-align: middle;\n",
       "    }\n",
       "\n",
       "    .dataframe tbody tr th {\n",
       "        vertical-align: top;\n",
       "    }\n",
       "\n",
       "    .dataframe thead th {\n",
       "        text-align: right;\n",
       "    }\n",
       "</style>\n",
       "<table border=\"1\" class=\"dataframe\">\n",
       "  <thead>\n",
       "    <tr style=\"text-align: right;\">\n",
       "      <th></th>\n",
       "      <th>Price</th>\n",
       "      <th>RegistrationYear</th>\n",
       "      <th>Power</th>\n",
       "      <th>Kilometer</th>\n",
       "      <th>RegistrationMonth</th>\n",
       "      <th>NumberOfPictures</th>\n",
       "      <th>PostalCode</th>\n",
       "    </tr>\n",
       "  </thead>\n",
       "  <tbody>\n",
       "    <tr>\n",
       "      <th>count</th>\n",
       "      <td>354369.000000</td>\n",
       "      <td>354369.000000</td>\n",
       "      <td>354369.000000</td>\n",
       "      <td>354369.000000</td>\n",
       "      <td>354369.000000</td>\n",
       "      <td>354369.0</td>\n",
       "      <td>354369.000000</td>\n",
       "    </tr>\n",
       "    <tr>\n",
       "      <th>mean</th>\n",
       "      <td>4416.656776</td>\n",
       "      <td>2004.234448</td>\n",
       "      <td>110.094337</td>\n",
       "      <td>128211.172535</td>\n",
       "      <td>5.714645</td>\n",
       "      <td>0.0</td>\n",
       "      <td>50508.689087</td>\n",
       "    </tr>\n",
       "    <tr>\n",
       "      <th>std</th>\n",
       "      <td>4514.158514</td>\n",
       "      <td>90.227958</td>\n",
       "      <td>189.850405</td>\n",
       "      <td>37905.341530</td>\n",
       "      <td>3.726421</td>\n",
       "      <td>0.0</td>\n",
       "      <td>25783.096248</td>\n",
       "    </tr>\n",
       "    <tr>\n",
       "      <th>min</th>\n",
       "      <td>0.000000</td>\n",
       "      <td>1000.000000</td>\n",
       "      <td>0.000000</td>\n",
       "      <td>5000.000000</td>\n",
       "      <td>0.000000</td>\n",
       "      <td>0.0</td>\n",
       "      <td>1067.000000</td>\n",
       "    </tr>\n",
       "    <tr>\n",
       "      <th>25%</th>\n",
       "      <td>1050.000000</td>\n",
       "      <td>1999.000000</td>\n",
       "      <td>69.000000</td>\n",
       "      <td>125000.000000</td>\n",
       "      <td>3.000000</td>\n",
       "      <td>0.0</td>\n",
       "      <td>30165.000000</td>\n",
       "    </tr>\n",
       "    <tr>\n",
       "      <th>50%</th>\n",
       "      <td>2700.000000</td>\n",
       "      <td>2003.000000</td>\n",
       "      <td>105.000000</td>\n",
       "      <td>150000.000000</td>\n",
       "      <td>6.000000</td>\n",
       "      <td>0.0</td>\n",
       "      <td>49413.000000</td>\n",
       "    </tr>\n",
       "    <tr>\n",
       "      <th>75%</th>\n",
       "      <td>6400.000000</td>\n",
       "      <td>2008.000000</td>\n",
       "      <td>143.000000</td>\n",
       "      <td>150000.000000</td>\n",
       "      <td>9.000000</td>\n",
       "      <td>0.0</td>\n",
       "      <td>71083.000000</td>\n",
       "    </tr>\n",
       "    <tr>\n",
       "      <th>max</th>\n",
       "      <td>20000.000000</td>\n",
       "      <td>9999.000000</td>\n",
       "      <td>20000.000000</td>\n",
       "      <td>150000.000000</td>\n",
       "      <td>12.000000</td>\n",
       "      <td>0.0</td>\n",
       "      <td>99998.000000</td>\n",
       "    </tr>\n",
       "  </tbody>\n",
       "</table>\n",
       "</div>"
      ],
      "text/plain": [
       "               Price  RegistrationYear          Power      Kilometer  \\\n",
       "count  354369.000000     354369.000000  354369.000000  354369.000000   \n",
       "mean     4416.656776       2004.234448     110.094337  128211.172535   \n",
       "std      4514.158514         90.227958     189.850405   37905.341530   \n",
       "min         0.000000       1000.000000       0.000000    5000.000000   \n",
       "25%      1050.000000       1999.000000      69.000000  125000.000000   \n",
       "50%      2700.000000       2003.000000     105.000000  150000.000000   \n",
       "75%      6400.000000       2008.000000     143.000000  150000.000000   \n",
       "max     20000.000000       9999.000000   20000.000000  150000.000000   \n",
       "\n",
       "       RegistrationMonth  NumberOfPictures     PostalCode  \n",
       "count      354369.000000          354369.0  354369.000000  \n",
       "mean            5.714645               0.0   50508.689087  \n",
       "std             3.726421               0.0   25783.096248  \n",
       "min             0.000000               0.0    1067.000000  \n",
       "25%             3.000000               0.0   30165.000000  \n",
       "50%             6.000000               0.0   49413.000000  \n",
       "75%             9.000000               0.0   71083.000000  \n",
       "max            12.000000               0.0   99998.000000  "
      ]
     },
     "execution_count": 52,
     "metadata": {},
     "output_type": "execute_result"
    }
   ],
   "source": [
    "clean_df.describe()"
   ]
  },
  {
   "cell_type": "markdown",
   "metadata": {},
   "source": [
    "**NumberOfPictures**"
   ]
  },
  {
   "cell_type": "markdown",
   "metadata": {},
   "source": [
    "Видно, что в колонке `NumberOfPictures` все значения - нули. Поэтому добавим ее в наш список с колонками, которые можно удалить."
   ]
  },
  {
   "cell_type": "code",
   "execution_count": 53,
   "metadata": {},
   "outputs": [],
   "source": [
    "columns_to_drop.append('NumberOfPictures')"
   ]
  },
  {
   "cell_type": "markdown",
   "metadata": {},
   "source": [
    "Не похоже, что в колонке с пробегом автомобиля `Kilometr` есть \"выбросы\". Минимальное значение - 5000 км, максимальное - 150000 км, что звучит вполне правдоподобно."
   ]
  },
  {
   "cell_type": "markdown",
   "metadata": {},
   "source": [
    "**Price**"
   ]
  },
  {
   "cell_type": "markdown",
   "metadata": {},
   "source": [
    "Построим гистограмму значения распределения цены автомобиля."
   ]
  },
  {
   "cell_type": "code",
   "execution_count": 54,
   "metadata": {},
   "outputs": [
    {
     "data": {
      "text/plain": [
       "<AxesSubplot:>"
      ]
     },
     "execution_count": 54,
     "metadata": {},
     "output_type": "execute_result"
    },
    {
     "data": {
      "image/png": "[encoded data removed]",
      "text/plain": [
       "<Figure size 432x288 with 1 Axes>"
      ]
     },
     "metadata": {
      "needs_background": "light"
     },
     "output_type": "display_data"
    }
   ],
   "source": [
    "clean_df.Price.plot(kind='box')"
   ]
  },
  {
   "cell_type": "markdown",
   "metadata": {},
   "source": [
    "Не похоже, чтобы в датасете было много выбросов сверху. Однако, есть \"нулевые\" цены, что невозможно (если только автомобиль не дают в дар в добрые руки). Посмотрим, сколько в датасете нулевых значений цены."
   ]
  },
  {
   "cell_type": "code",
   "execution_count": 55,
   "metadata": {},
   "outputs": [
    {
     "data": {
      "text/plain": [
       "10772"
      ]
     },
     "execution_count": 55,
     "metadata": {},
     "output_type": "execute_result"
    }
   ],
   "source": [
    "clean_df[clean_df.Price == 0].shape[0]"
   ]
  },
  {
   "cell_type": "markdown",
   "metadata": {},
   "source": [
    "Итак, в датасете ~10000 строк с нулевым значением цены. Напомню, в датасете порядка 350 тысяч наблюдений, поэтому предлагается удалить."
   ]
  },
  {
   "cell_type": "code",
   "execution_count": 56,
   "metadata": {},
   "outputs": [],
   "source": [
    "clean_df.Price.replace(0, float('nan'), inplace=True)\n",
    "clean_df.dropna(inplace=True)"
   ]
  },
  {
   "cell_type": "markdown",
   "metadata": {},
   "source": [
    "Опишем столбец с ценой еще раз."
   ]
  },
  {
   "cell_type": "code",
   "execution_count": 57,
   "metadata": {},
   "outputs": [
    {
     "data": {
      "text/plain": [
       "count    343597.000000\n",
       "mean       4555.121974\n",
       "std        4515.058553\n",
       "min           1.000000\n",
       "25%        1200.000000\n",
       "50%        2890.000000\n",
       "75%        6500.000000\n",
       "max       20000.000000\n",
       "Name: Price, dtype: float64"
      ]
     },
     "execution_count": 57,
     "metadata": {},
     "output_type": "execute_result"
    }
   ],
   "source": [
    "clean_df.Price.describe()"
   ]
  },
  {
   "cell_type": "markdown",
   "metadata": {},
   "source": [
    "Видно, что остались еще очень маленькие значения цены. Ограничим датасет слева и справа так, чтобы использовать 99% данных. Для этого создадим переменные, которые обозначают верхний и нижний квантили."
   ]
  },
  {
   "cell_type": "code",
   "execution_count": 58,
   "metadata": {},
   "outputs": [],
   "source": [
    "high, low = 0.995, 0.005"
   ]
  },
  {
   "cell_type": "markdown",
   "metadata": {},
   "source": [
    "Ограничим наш датасет согласно определенным квантилям."
   ]
  },
  {
   "cell_type": "code",
   "execution_count": 59,
   "metadata": {},
   "outputs": [],
   "source": [
    "clean_df = clean_df.query('@clean_df.Price.quantile(@low) < Price < @clean_df.Price.quantile(@high)')"
   ]
  },
  {
   "cell_type": "markdown",
   "metadata": {},
   "source": [
    "Опишем столбец еще раз."
   ]
  },
  {
   "cell_type": "code",
   "execution_count": 60,
   "metadata": {},
   "outputs": [
    {
     "data": {
      "text/plain": [
       "count    339559.000000\n",
       "mean       4488.939592\n",
       "std        4369.086046\n",
       "min          55.000000\n",
       "25%        1200.000000\n",
       "50%        2890.000000\n",
       "75%        6500.000000\n",
       "max       19499.000000\n",
       "Name: Price, dtype: float64"
      ]
     },
     "execution_count": 60,
     "metadata": {},
     "output_type": "execute_result"
    }
   ],
   "source": [
    "clean_df.Price.describe()"
   ]
  },
  {
   "cell_type": "markdown",
   "metadata": {},
   "source": [
    "Маленькие значения все еще остались, но хотя бы они не равны 0 и 1."
   ]
  },
  {
   "cell_type": "markdown",
   "metadata": {},
   "source": [
    "**Power**"
   ]
  },
  {
   "cell_type": "markdown",
   "metadata": {},
   "source": [
    "В данной колонке также присутствуют нулевые значения. Посчитаем их."
   ]
  },
  {
   "cell_type": "code",
   "execution_count": 61,
   "metadata": {},
   "outputs": [
    {
     "data": {
      "text/plain": [
       "35294"
      ]
     },
     "execution_count": 61,
     "metadata": {},
     "output_type": "execute_result"
    }
   ],
   "source": [
    "clean_df[clean_df.Power == 0].shape[0]"
   ]
  },
  {
   "cell_type": "markdown",
   "metadata": {},
   "source": [
    "Около 36 тысяч значений. Удалим их."
   ]
  },
  {
   "cell_type": "code",
   "execution_count": 62,
   "metadata": {},
   "outputs": [],
   "source": [
    "clean_df.Power.replace(0, float('nan'), inplace=True)\n",
    "clean_df.dropna(inplace=True)"
   ]
  },
  {
   "cell_type": "markdown",
   "metadata": {},
   "source": [
    "Теперь постром гистограмму ящик с усами."
   ]
  },
  {
   "cell_type": "code",
   "execution_count": 63,
   "metadata": {},
   "outputs": [
    {
     "data": {
      "text/plain": [
       "<AxesSubplot:>"
      ]
     },
     "execution_count": 63,
     "metadata": {},
     "output_type": "execute_result"
    },
    {
     "data": {
      "image/png": "[encoded data removed]",
      "text/plain": [
       "<Figure size 432x288 with 1 Axes>"
      ]
     },
     "metadata": {
      "needs_background": "light"
     },
     "output_type": "display_data"
    }
   ],
   "source": [
    "clean_df.Power.plot(kind='box')"
   ]
  },
  {
   "cell_type": "markdown",
   "metadata": {},
   "source": [
    "Видно, что в датасете достаточно много \"выбросов\" с очень большой мощностью двигателя. От этих значений лучше бы избавиться.\n",
    "Ограничим датасет слева и справа так, чтобы использовать 99% данных. Для этого создадим переменные, которые обозначают верхний и нижний квантили."
   ]
  },
  {
   "cell_type": "markdown",
   "metadata": {},
   "source": [
    "Ограничим наш датасет согласно определенным квантилям."
   ]
  },
  {
   "cell_type": "code",
   "execution_count": 64,
   "metadata": {},
   "outputs": [],
   "source": [
    "clean_df = clean_df.query('@clean_df.Power.quantile(@low) < Power < @clean_df.Power.quantile(@high)')"
   ]
  },
  {
   "cell_type": "markdown",
   "metadata": {},
   "source": [
    "Посмотрим еще раз на ящик с усами."
   ]
  },
  {
   "cell_type": "code",
   "execution_count": 65,
   "metadata": {},
   "outputs": [
    {
     "data": {
      "text/plain": [
       "<AxesSubplot:>"
      ]
     },
     "execution_count": 65,
     "metadata": {},
     "output_type": "execute_result"
    },
    {
     "data": {
      "image/png": "[encoded data removed]",
      "text/plain": [
       "<Figure size 432x288 with 1 Axes>"
      ]
     },
     "metadata": {
      "needs_background": "light"
     },
     "output_type": "display_data"
    }
   ],
   "source": [
    "clean_df.Power.plot(kind='box')"
   ]
  },
  {
   "cell_type": "markdown",
   "metadata": {},
   "source": [
    "Выглядит здорово, идем дальше."
   ]
  },
  {
   "cell_type": "markdown",
   "metadata": {},
   "source": [
    "**RegistrationYear**"
   ]
  },
  {
   "cell_type": "markdown",
   "metadata": {},
   "source": [
    "Построим ящик с усами и посмотрим на распределения."
   ]
  },
  {
   "cell_type": "code",
   "execution_count": 66,
   "metadata": {},
   "outputs": [
    {
     "data": {
      "text/plain": [
       "<AxesSubplot:>"
      ]
     },
     "execution_count": 66,
     "metadata": {},
     "output_type": "execute_result"
    },
    {
     "data": {
      "image/png": "[encoded data removed]",
      "text/plain": [
       "<Figure size 432x288 with 1 Axes>"
      ]
     },
     "metadata": {
      "needs_background": "light"
     },
     "output_type": "display_data"
    }
   ],
   "source": [
    "clean_df.RegistrationYear.plot(kind='box')"
   ]
  },
  {
   "cell_type": "markdown",
   "metadata": {},
   "source": [
    "Видно, что есть выбросы как сверху, так и снизу. Но что это за параметр? Год регистрации автомобиля. Предположим, что это и есть год его производства.\n",
    "\n",
    "Выкинем лишние значения так же, как и в случае с колонкой Power."
   ]
  },
  {
   "cell_type": "code",
   "execution_count": 67,
   "metadata": {},
   "outputs": [],
   "source": [
    "clean_df = clean_df.query('@clean_df.RegistrationYear.quantile(@low) < RegistrationYear < @clean_df.RegistrationYear.quantile(@high)')"
   ]
  },
  {
   "cell_type": "markdown",
   "metadata": {},
   "source": [
    "Посмотрим еще раз на датасет."
   ]
  },
  {
   "cell_type": "code",
   "execution_count": 68,
   "metadata": {},
   "outputs": [
    {
     "data": {
      "text/plain": [
       "<AxesSubplot:>"
      ]
     },
     "execution_count": 68,
     "metadata": {},
     "output_type": "execute_result"
    },
    {
     "data": {
      "image/png": "[encoded data removed]",
      "text/plain": [
       "<Figure size 432x288 with 1 Axes>"
      ]
     },
     "metadata": {
      "needs_background": "light"
     },
     "output_type": "display_data"
    }
   ],
   "source": [
    "clean_df.RegistrationYear.plot(kind='box')"
   ]
  },
  {
   "cell_type": "markdown",
   "metadata": {},
   "source": [
    "Видно, что есть \"выбросы\" снизу, но это не страшно, это лишь показывает, что в датасете есть старые машины. \n",
    "\n",
    "Опишем еще раз наш датасет методом `describe`."
   ]
  },
  {
   "cell_type": "code",
   "execution_count": 69,
   "metadata": {},
   "outputs": [
    {
     "data": {
      "text/html": [
       "<div>\n",
       "<style scoped>\n",
       "    .dataframe tbody tr th:only-of-type {\n",
       "        vertical-align: middle;\n",
       "    }\n",
       "\n",
       "    .dataframe tbody tr th {\n",
       "        vertical-align: top;\n",
       "    }\n",
       "\n",
       "    .dataframe thead th {\n",
       "        text-align: right;\n",
       "    }\n",
       "</style>\n",
       "<table border=\"1\" class=\"dataframe\">\n",
       "  <thead>\n",
       "    <tr style=\"text-align: right;\">\n",
       "      <th></th>\n",
       "      <th>Price</th>\n",
       "      <th>RegistrationYear</th>\n",
       "      <th>Power</th>\n",
       "      <th>Kilometer</th>\n",
       "      <th>RegistrationMonth</th>\n",
       "      <th>NumberOfPictures</th>\n",
       "      <th>PostalCode</th>\n",
       "    </tr>\n",
       "  </thead>\n",
       "  <tbody>\n",
       "    <tr>\n",
       "      <th>count</th>\n",
       "      <td>296672.000000</td>\n",
       "      <td>296672.000000</td>\n",
       "      <td>296672.000000</td>\n",
       "      <td>296672.000000</td>\n",
       "      <td>296672.000000</td>\n",
       "      <td>296672.0</td>\n",
       "      <td>296672.000000</td>\n",
       "    </tr>\n",
       "    <tr>\n",
       "      <th>mean</th>\n",
       "      <td>4696.259202</td>\n",
       "      <td>2003.375762</td>\n",
       "      <td>119.323131</td>\n",
       "      <td>129055.893377</td>\n",
       "      <td>5.980217</td>\n",
       "      <td>0.0</td>\n",
       "      <td>51180.001062</td>\n",
       "    </tr>\n",
       "    <tr>\n",
       "      <th>std</th>\n",
       "      <td>4409.827822</td>\n",
       "      <td>6.211639</td>\n",
       "      <td>50.130769</td>\n",
       "      <td>36082.530558</td>\n",
       "      <td>3.594602</td>\n",
       "      <td>0.0</td>\n",
       "      <td>25747.652771</td>\n",
       "    </tr>\n",
       "    <tr>\n",
       "      <th>min</th>\n",
       "      <td>55.000000</td>\n",
       "      <td>1979.000000</td>\n",
       "      <td>41.000000</td>\n",
       "      <td>5000.000000</td>\n",
       "      <td>0.000000</td>\n",
       "      <td>0.0</td>\n",
       "      <td>1067.000000</td>\n",
       "    </tr>\n",
       "    <tr>\n",
       "      <th>25%</th>\n",
       "      <td>1300.000000</td>\n",
       "      <td>1999.000000</td>\n",
       "      <td>75.000000</td>\n",
       "      <td>125000.000000</td>\n",
       "      <td>3.000000</td>\n",
       "      <td>0.0</td>\n",
       "      <td>30926.000000</td>\n",
       "    </tr>\n",
       "    <tr>\n",
       "      <th>50%</th>\n",
       "      <td>3000.000000</td>\n",
       "      <td>2003.000000</td>\n",
       "      <td>110.000000</td>\n",
       "      <td>150000.000000</td>\n",
       "      <td>6.000000</td>\n",
       "      <td>0.0</td>\n",
       "      <td>50181.000000</td>\n",
       "    </tr>\n",
       "    <tr>\n",
       "      <th>75%</th>\n",
       "      <td>6850.000000</td>\n",
       "      <td>2008.000000</td>\n",
       "      <td>150.000000</td>\n",
       "      <td>150000.000000</td>\n",
       "      <td>9.000000</td>\n",
       "      <td>0.0</td>\n",
       "      <td>71711.000000</td>\n",
       "    </tr>\n",
       "    <tr>\n",
       "      <th>max</th>\n",
       "      <td>19499.000000</td>\n",
       "      <td>2017.000000</td>\n",
       "      <td>339.000000</td>\n",
       "      <td>150000.000000</td>\n",
       "      <td>12.000000</td>\n",
       "      <td>0.0</td>\n",
       "      <td>99998.000000</td>\n",
       "    </tr>\n",
       "  </tbody>\n",
       "</table>\n",
       "</div>"
      ],
      "text/plain": [
       "               Price  RegistrationYear          Power      Kilometer  \\\n",
       "count  296672.000000     296672.000000  296672.000000  296672.000000   \n",
       "mean     4696.259202       2003.375762     119.323131  129055.893377   \n",
       "std      4409.827822          6.211639      50.130769   36082.530558   \n",
       "min        55.000000       1979.000000      41.000000    5000.000000   \n",
       "25%      1300.000000       1999.000000      75.000000  125000.000000   \n",
       "50%      3000.000000       2003.000000     110.000000  150000.000000   \n",
       "75%      6850.000000       2008.000000     150.000000  150000.000000   \n",
       "max     19499.000000       2017.000000     339.000000  150000.000000   \n",
       "\n",
       "       RegistrationMonth  NumberOfPictures     PostalCode  \n",
       "count      296672.000000          296672.0  296672.000000  \n",
       "mean            5.980217               0.0   51180.001062  \n",
       "std             3.594602               0.0   25747.652771  \n",
       "min             0.000000               0.0    1067.000000  \n",
       "25%             3.000000               0.0   30926.000000  \n",
       "50%             6.000000               0.0   50181.000000  \n",
       "75%             9.000000               0.0   71711.000000  \n",
       "max            12.000000               0.0   99998.000000  "
      ]
     },
     "execution_count": 69,
     "metadata": {},
     "output_type": "execute_result"
    }
   ],
   "source": [
    "clean_df.describe()"
   ]
  },
  {
   "cell_type": "markdown",
   "metadata": {},
   "source": [
    "Видно, что от сильных \"выбросов\" мы избавились."
   ]
  },
  {
   "cell_type": "markdown",
   "metadata": {},
   "source": [
    "### Удаляем лишние столбцы"
   ]
  },
  {
   "cell_type": "markdown",
   "metadata": {},
   "source": [
    "Удалим \"лишние\" столбцы в датасете и посмотрим на первые 5 строк."
   ]
  },
  {
   "cell_type": "code",
   "execution_count": 70,
   "metadata": {},
   "outputs": [
    {
     "data": {
      "text/html": [
       "<div>\n",
       "<style scoped>\n",
       "    .dataframe tbody tr th:only-of-type {\n",
       "        vertical-align: middle;\n",
       "    }\n",
       "\n",
       "    .dataframe tbody tr th {\n",
       "        vertical-align: top;\n",
       "    }\n",
       "\n",
       "    .dataframe thead th {\n",
       "        text-align: right;\n",
       "    }\n",
       "</style>\n",
       "<table border=\"1\" class=\"dataframe\">\n",
       "  <thead>\n",
       "    <tr style=\"text-align: right;\">\n",
       "      <th></th>\n",
       "      <th>Price</th>\n",
       "      <th>VehicleType</th>\n",
       "      <th>RegistrationYear</th>\n",
       "      <th>Gearbox</th>\n",
       "      <th>Power</th>\n",
       "      <th>Model</th>\n",
       "      <th>Kilometer</th>\n",
       "      <th>FuelType</th>\n",
       "      <th>Brand</th>\n",
       "      <th>NotRepaired</th>\n",
       "    </tr>\n",
       "  </thead>\n",
       "  <tbody>\n",
       "    <tr>\n",
       "      <th>1</th>\n",
       "      <td>18300.0</td>\n",
       "      <td>coupe</td>\n",
       "      <td>2011</td>\n",
       "      <td>manual</td>\n",
       "      <td>190.0</td>\n",
       "      <td>unknown</td>\n",
       "      <td>125000</td>\n",
       "      <td>gasoline</td>\n",
       "      <td>audi</td>\n",
       "      <td>yes</td>\n",
       "    </tr>\n",
       "    <tr>\n",
       "      <th>2</th>\n",
       "      <td>9800.0</td>\n",
       "      <td>suv</td>\n",
       "      <td>2004</td>\n",
       "      <td>auto</td>\n",
       "      <td>163.0</td>\n",
       "      <td>grand</td>\n",
       "      <td>125000</td>\n",
       "      <td>gasoline</td>\n",
       "      <td>jeep</td>\n",
       "      <td>unknown</td>\n",
       "    </tr>\n",
       "    <tr>\n",
       "      <th>3</th>\n",
       "      <td>1500.0</td>\n",
       "      <td>small</td>\n",
       "      <td>2001</td>\n",
       "      <td>manual</td>\n",
       "      <td>75.0</td>\n",
       "      <td>golf</td>\n",
       "      <td>150000</td>\n",
       "      <td>petrol</td>\n",
       "      <td>volkswagen</td>\n",
       "      <td>no</td>\n",
       "    </tr>\n",
       "    <tr>\n",
       "      <th>4</th>\n",
       "      <td>3600.0</td>\n",
       "      <td>small</td>\n",
       "      <td>2008</td>\n",
       "      <td>manual</td>\n",
       "      <td>69.0</td>\n",
       "      <td>fabia</td>\n",
       "      <td>90000</td>\n",
       "      <td>gasoline</td>\n",
       "      <td>skoda</td>\n",
       "      <td>no</td>\n",
       "    </tr>\n",
       "    <tr>\n",
       "      <th>5</th>\n",
       "      <td>650.0</td>\n",
       "      <td>sedan</td>\n",
       "      <td>1995</td>\n",
       "      <td>manual</td>\n",
       "      <td>102.0</td>\n",
       "      <td>3er</td>\n",
       "      <td>150000</td>\n",
       "      <td>petrol</td>\n",
       "      <td>bmw</td>\n",
       "      <td>yes</td>\n",
       "    </tr>\n",
       "  </tbody>\n",
       "</table>\n",
       "</div>"
      ],
      "text/plain": [
       "     Price VehicleType  RegistrationYear Gearbox  Power    Model  Kilometer  \\\n",
       "1  18300.0       coupe              2011  manual  190.0  unknown     125000   \n",
       "2   9800.0         suv              2004    auto  163.0    grand     125000   \n",
       "3   1500.0       small              2001  manual   75.0     golf     150000   \n",
       "4   3600.0       small              2008  manual   69.0    fabia      90000   \n",
       "5    650.0       sedan              1995  manual  102.0      3er     150000   \n",
       "\n",
       "   FuelType       Brand NotRepaired  \n",
       "1  gasoline        audi         yes  \n",
       "2  gasoline        jeep     unknown  \n",
       "3    petrol  volkswagen          no  \n",
       "4  gasoline       skoda          no  \n",
       "5    petrol         bmw         yes  "
      ]
     },
     "execution_count": 70,
     "metadata": {},
     "output_type": "execute_result"
    }
   ],
   "source": [
    "clean_df.drop(columns=columns_to_drop, inplace=True)\n",
    "clean_df.head()"
   ]
  },
  {
   "cell_type": "markdown",
   "metadata": {},
   "source": [
    "Итак, в датасете остались только важные (по моему мнению) колонки. Можно переходить к построению моделей. "
   ]
  },
  {
   "cell_type": "markdown",
   "metadata": {},
   "source": [
    "**Вывод:**\n",
    "\n",
    "На данном этапе была проведена первичная работа с данными, а именно:\n",
    "- Данные были загружены, изучены признаки\n",
    "- Пропущенные данные в категориальных признаках были заменены на 'unknown'\n",
    "- Последовательно были выбраны 99% данных в столбцах Price, Power, RegistrationYear, чтобы избавиться от выбросов\n",
    "- Были удалены столбцы, которые не должны оказывать влияния на предсказания."
   ]
  },
  {
   "cell_type": "markdown",
   "metadata": {},
   "source": [
    "## Обучение моделей"
   ]
  },
  {
   "cell_type": "markdown",
   "metadata": {},
   "source": [
    "Разобьем наш датасет на признаки и целевую переменную. В качестве целевой переменной у нас выступает столбец `Price`."
   ]
  },
  {
   "cell_type": "code",
   "execution_count": 71,
   "metadata": {},
   "outputs": [],
   "source": [
    "X = clean_df.drop(columns='Price')\n",
    "y = clean_df['Price']"
   ]
  },
  {
   "cell_type": "markdown",
   "metadata": {},
   "source": [
    "### Обычная модель"
   ]
  },
  {
   "cell_type": "markdown",
   "metadata": {},
   "source": [
    "Воспользуемся моделью `LinearRegression`. Но сначала необходимо перевести категориальные переменные в числовые. Проведем `OneHotEncoding`, воспользуясь функцией `get_dummies`."
   ]
  },
  {
   "cell_type": "code",
   "execution_count": 72,
   "metadata": {},
   "outputs": [],
   "source": [
    "object_columns = X.select_dtypes(include=['object']).columns\n",
    "X_oh = pd.get_dummies(X, prefix=object_columns, drop_first=True)"
   ]
  },
  {
   "cell_type": "markdown",
   "metadata": {},
   "source": [
    "Теперь разобьем датасет на тренировочную и тестовую выборки в соотношении 0.75:0.25 функцией `train_test_split`."
   ]
  },
  {
   "cell_type": "code",
   "execution_count": 73,
   "metadata": {},
   "outputs": [],
   "source": [
    "X_oh_train, X_oh_test, y_train, y_test = train_test_split(X_oh, y, test_size=0.25, random_state=42)"
   ]
  },
  {
   "cell_type": "markdown",
   "metadata": {},
   "source": [
    "Построим модель, при этом посчитав, сколько секунд она тратит на обучение при помощи библиотеки `time`."
   ]
  },
  {
   "cell_type": "code",
   "execution_count": 132,
   "metadata": {},
   "outputs": [],
   "source": [
    "start = time.time()\n",
    "\n",
    "lr = LinearRegression()\n",
    "lr.fit(X_oh_train, y_train)\n",
    "\n",
    "end = time.time()"
   ]
  },
  {
   "cell_type": "markdown",
   "metadata": {},
   "source": [
    "Посчитаем, сколько обучалась модель."
   ]
  },
  {
   "cell_type": "code",
   "execution_count": 134,
   "metadata": {},
   "outputs": [
    {
     "name": "stdout",
     "output_type": "stream",
     "text": [
      "Модель линейной регрессии обучилась за 26 секунд\n"
     ]
    }
   ],
   "source": [
    "time_fit_lr = end - start\n",
    "print(f'Модель линейной регрессии обучилась за {time_fit_lr:.0f} секунд')"
   ]
  },
  {
   "cell_type": "markdown",
   "metadata": {},
   "source": [
    "Посчитаем, как долго модель предсказывает значения."
   ]
  },
  {
   "cell_type": "code",
   "execution_count": 135,
   "metadata": {},
   "outputs": [],
   "source": [
    "start = time.time()\n",
    "\n",
    "pred_lr = lr.predict(X_oh_train)\n",
    "\n",
    "end = time.time()"
   ]
  },
  {
   "cell_type": "code",
   "execution_count": 136,
   "metadata": {},
   "outputs": [
    {
     "name": "stdout",
     "output_type": "stream",
     "text": [
      "Модель линейной регрессии предсказала значения за 0.35 секунд\n"
     ]
    }
   ],
   "source": [
    "time_pred_lr = end - start\n",
    "print(f'Модель линейной регрессии предсказала значения за {time_pred_lr:.2f} секунд')"
   ]
  },
  {
   "cell_type": "markdown",
   "metadata": {},
   "source": [
    "Теперь посчитаем RMSE метрику модели на тренировочной выборке."
   ]
  },
  {
   "cell_type": "code",
   "execution_count": 78,
   "metadata": {},
   "outputs": [
    {
     "name": "stdout",
     "output_type": "stream",
     "text": [
      "RMSE линейной модели на тренировочной выборке составило 2337.23\n"
     ]
    }
   ],
   "source": [
    "rmse_lr = mean_squared_error(y_train, pred_lr) ** 0.5\n",
    "print(f'RMSE линейной модели на тренировочной выборке составило {rmse_lr:.2f}')"
   ]
  },
  {
   "cell_type": "markdown",
   "metadata": {},
   "source": [
    "Посчитаем RMSE на тестовой выборке."
   ]
  },
  {
   "cell_type": "code",
   "execution_count": 79,
   "metadata": {},
   "outputs": [
    {
     "name": "stdout",
     "output_type": "stream",
     "text": [
      "RMSE линейной модели на тестовой выборке составило 2329.37\n"
     ]
    }
   ],
   "source": [
    "pred_lr_test = lr.predict(X_oh_test)\n",
    "rmse_lr_test = mean_squared_error(y_test, pred_lr_test) ** 0.5\n",
    "print(f'RMSE линейной модели на тестовой выборке составило {rmse_lr_test:.2f}')"
   ]
  },
  {
   "cell_type": "markdown",
   "metadata": {},
   "source": [
    "Много ли это? Можно попробовать оценить, посчитав стандартное отклонение в тренировочном датасете."
   ]
  },
  {
   "cell_type": "code",
   "execution_count": 83,
   "metadata": {},
   "outputs": [
    {
     "data": {
      "text/plain": [
       "4409.827822041441"
      ]
     },
     "execution_count": 83,
     "metadata": {},
     "output_type": "execute_result"
    }
   ],
   "source": [
    "y.describe()['std']"
   ]
  },
  {
   "cell_type": "markdown",
   "metadata": {},
   "source": [
    "Видно, что отклонение предсказаний меньше, чем стандартное отклонение в датасете. Поэтому можно сказать, что наша модель линейной регрессии справилась с поставленной задачей.\n",
    "\n",
    "Проверим другие модели."
   ]
  },
  {
   "cell_type": "markdown",
   "metadata": {},
   "source": [
    "### Модели с бустингом"
   ]
  },
  {
   "cell_type": "markdown",
   "metadata": {},
   "source": [
    "#### AdaBoost"
   ]
  },
  {
   "cell_type": "markdown",
   "metadata": {},
   "source": [
    "В данной модели используется бустинг, но не градиентный. Сразу используем `RandomizedSearchCV`, чтобы подобрать оптимальные параметры. Переберем по три значения данных параметров, но построим всего только 3 разных модели."
   ]
  },
  {
   "cell_type": "code",
   "execution_count": 98,
   "metadata": {},
   "outputs": [],
   "source": [
    "params = {'n_estimators':list(range(25, 76, 25)),\n",
    "          'learning_rate':[0.1, 0.5, 1],\n",
    "          'loss':['linear', 'square', 'exponential']}\n",
    "\n",
    "adaregr = AdaBoostRegressor(random_state=42)\n",
    "\n",
    "rs = RandomizedSearchCV(adaregr, param_distributions=params, n_iter=3, cv=3, n_jobs=-1)"
   ]
  },
  {
   "cell_type": "markdown",
   "metadata": {},
   "source": [
    "Проведем процесс подбора параметров."
   ]
  },
  {
   "cell_type": "code",
   "execution_count": 99,
   "metadata": {},
   "outputs": [
    {
     "data": {
      "text/plain": [
       "RandomizedSearchCV(cv=3, estimator=AdaBoostRegressor(random_state=42), n_iter=3,\n",
       "                   n_jobs=-1,\n",
       "                   param_distributions={'learning_rate': [0.1, 0.5, 1],\n",
       "                                        'loss': ['linear', 'square',\n",
       "                                                 'exponential'],\n",
       "                                        'n_estimators': [25, 50, 75]})"
      ]
     },
     "execution_count": 99,
     "metadata": {},
     "output_type": "execute_result"
    }
   ],
   "source": [
    "rs.fit(X_oh_train, y_train)"
   ]
  },
  {
   "cell_type": "markdown",
   "metadata": {},
   "source": [
    "Сохраним и обучим модель с лучшими параметрами."
   ]
  },
  {
   "cell_type": "code",
   "execution_count": 142,
   "metadata": {},
   "outputs": [],
   "source": [
    "ar = rs.best_estimator_\n",
    "\n",
    "start = time.time()\n",
    "\n",
    "ar.fit(X_oh_train, y_train)\n",
    "\n",
    "end = time.time()"
   ]
  },
  {
   "cell_type": "markdown",
   "metadata": {},
   "source": [
    "Посчитаем, сколько обучалась модель."
   ]
  },
  {
   "cell_type": "code",
   "execution_count": 145,
   "metadata": {},
   "outputs": [
    {
     "name": "stdout",
     "output_type": "stream",
     "text": [
      "Модель AdaBoost обучилась за 171 секунд\n"
     ]
    }
   ],
   "source": [
    "time_fit_ar = end - start\n",
    "print(f'Модель AdaBoost обучилась за {time_fit_ar:.0f} секунд')"
   ]
  },
  {
   "cell_type": "markdown",
   "metadata": {},
   "source": [
    "Посчитаем, как долго модель предсказывает значения."
   ]
  },
  {
   "cell_type": "code",
   "execution_count": 146,
   "metadata": {},
   "outputs": [],
   "source": [
    "start = time.time()\n",
    "\n",
    "pred_ar = ar.predict(X_oh_train)\n",
    "\n",
    "end = time.time()"
   ]
  },
  {
   "cell_type": "code",
   "execution_count": 147,
   "metadata": {},
   "outputs": [
    {
     "name": "stdout",
     "output_type": "stream",
     "text": [
      "Модель AdaBoost предсказала значения за 6.70 секунд\n"
     ]
    }
   ],
   "source": [
    "time_pred_ar = end - start\n",
    "print(f'Модель AdaBoost предсказала значения за {time_pred_ar:.2f} секунд')"
   ]
  },
  {
   "cell_type": "markdown",
   "metadata": {},
   "source": [
    "Теперь посчитаем RMSE метрику модели на тренировочной выборке."
   ]
  },
  {
   "cell_type": "code",
   "execution_count": 148,
   "metadata": {},
   "outputs": [
    {
     "name": "stdout",
     "output_type": "stream",
     "text": [
      "RMSE модели AdaBoost на тренировочной выборке составило 2578.65\n"
     ]
    }
   ],
   "source": [
    "rmse_ar = mean_squared_error(y_train, pred_ar) ** 0.5\n",
    "print(f'RMSE модели AdaBoost на тренировочной выборке составило {rmse_ar:.2f}')"
   ]
  },
  {
   "cell_type": "markdown",
   "metadata": {},
   "source": [
    "Посчитаем RMSE на тестовой выборке."
   ]
  },
  {
   "cell_type": "code",
   "execution_count": 110,
   "metadata": {},
   "outputs": [
    {
     "name": "stdout",
     "output_type": "stream",
     "text": [
      "RMSE модели AdaBoost на тестовой выборке составило 2568.83\n"
     ]
    }
   ],
   "source": [
    "pred_ar_test = ar.predict(X_oh_test)\n",
    "rmse_ar_test = mean_squared_error(y_test, pred_ar_test) ** 0.5\n",
    "print(f'RMSE модели AdaBoost на тестовой выборке составило {rmse_ar_test:.2f}')"
   ]
  },
  {
   "cell_type": "markdown",
   "metadata": {},
   "source": [
    "Напомню, что стандартное отклонение цены составляет 4410. Можно сказать, что наша модель справилась с предсказаниями, но сделала это хуже и дольше модели линейной регресиси.\n",
    "\n",
    "Попробуем последнюю модель."
   ]
  },
  {
   "cell_type": "markdown",
   "metadata": {},
   "source": [
    "#### LightGBM"
   ]
  },
  {
   "cell_type": "markdown",
   "metadata": {},
   "source": [
    "Данная модель использует градиентный бустинг. Также используем `RandomizedSearchCV`, чтобы подобрать параметры модели.\n",
    "\n",
    "В данной модели не нужно кодировать категориальные переменные, достаточно просто перевести их в категориальный тип."
   ]
  },
  {
   "cell_type": "code",
   "execution_count": 115,
   "metadata": {},
   "outputs": [],
   "source": [
    "for col in X.select_dtypes(include=['object']):\n",
    "    X[col] = X[col].astype('category')"
   ]
  },
  {
   "cell_type": "markdown",
   "metadata": {},
   "source": [
    "Теперь разобьем датасет на тренировочный и тестовый."
   ]
  },
  {
   "cell_type": "code",
   "execution_count": 116,
   "metadata": {},
   "outputs": [],
   "source": [
    "X_train, X_test, y_train, y_test = train_test_split(X, y, test_size=0.25, random_state=42)"
   ]
  },
  {
   "cell_type": "code",
   "execution_count": 119,
   "metadata": {},
   "outputs": [],
   "source": [
    "params = {'n_estimators':list(range(50, 101, 25)),\n",
    "          'learning_rate':[0.1, 0.5, 1],\n",
    "          'max_depth':list(range(1, 11, 2))}\n",
    "\n",
    "lgbm = LGBMRegressor(random_state=42)\n",
    "\n",
    "rs_lgbm = RandomizedSearchCV(lgbm, param_distributions=params, n_iter=3, cv=3, n_jobs=-1)"
   ]
  },
  {
   "cell_type": "markdown",
   "metadata": {},
   "source": [
    "Проведем процесс подбора параметров."
   ]
  },
  {
   "cell_type": "code",
   "execution_count": 120,
   "metadata": {},
   "outputs": [
    {
     "data": {
      "text/plain": [
       "RandomizedSearchCV(cv=3, estimator=LGBMRegressor(random_state=42), n_iter=3,\n",
       "                   n_jobs=-1,\n",
       "                   param_distributions={'learning_rate': [0.1, 0.5, 1],\n",
       "                                        'max_depth': [1, 3, 5, 7, 9],\n",
       "                                        'n_estimators': [50, 75, 100]})"
      ]
     },
     "execution_count": 120,
     "metadata": {},
     "output_type": "execute_result"
    }
   ],
   "source": [
    "rs_lgbm.fit(X_train, y_train)"
   ]
  },
  {
   "cell_type": "markdown",
   "metadata": {},
   "source": [
    "Сохраним и обучим модель с лучшими параметрами."
   ]
  },
  {
   "cell_type": "code",
   "execution_count": 149,
   "metadata": {},
   "outputs": [],
   "source": [
    "lg = rs_lgbm.best_estimator_\n",
    "\n",
    "start = time.time()\n",
    "\n",
    "lg.fit(X_train, y_train)\n",
    "\n",
    "end = time.time()"
   ]
  },
  {
   "cell_type": "markdown",
   "metadata": {},
   "source": [
    "Посчитаем, сколько обучалась модель."
   ]
  },
  {
   "cell_type": "code",
   "execution_count": 150,
   "metadata": {},
   "outputs": [
    {
     "name": "stdout",
     "output_type": "stream",
     "text": [
      "Модель LightGBM обучилась за 64 секунд\n"
     ]
    }
   ],
   "source": [
    "time_fit_lg = end - start\n",
    "print(f'Модель LightGBM обучилась за {time_fit_lg:.0f} секунд')"
   ]
  },
  {
   "cell_type": "markdown",
   "metadata": {},
   "source": [
    "Посчитаем, как долго модель предсказывает значения."
   ]
  },
  {
   "cell_type": "code",
   "execution_count": 151,
   "metadata": {},
   "outputs": [],
   "source": [
    "start = time.time()\n",
    "\n",
    "pred_lg = lg.predict(X_train)\n",
    "\n",
    "end = time.time()"
   ]
  },
  {
   "cell_type": "code",
   "execution_count": 152,
   "metadata": {},
   "outputs": [
    {
     "name": "stdout",
     "output_type": "stream",
     "text": [
      "Модель LightGBM предсказала значения за 1.52 секунд\n"
     ]
    }
   ],
   "source": [
    "time_pred_lg = end - start\n",
    "print(f'Модель LightGBM предсказала значения за {time_pred_lg:.2f} секунд')"
   ]
  },
  {
   "cell_type": "markdown",
   "metadata": {},
   "source": [
    "Теперь посчитаем RMSE метрику модели на тренировочной выборке."
   ]
  },
  {
   "cell_type": "code",
   "execution_count": 153,
   "metadata": {},
   "outputs": [
    {
     "name": "stdout",
     "output_type": "stream",
     "text": [
      "RMSE модели LightGBM на тренировочной выборке составило 1431.63\n"
     ]
    }
   ],
   "source": [
    "rmse_lg = mean_squared_error(y_train, pred_lg) ** 0.5\n",
    "print(f'RMSE модели LightGBM на тренировочной выборке составило {rmse_lg:.2f}')"
   ]
  },
  {
   "cell_type": "markdown",
   "metadata": {},
   "source": [
    "Посчитаем RMSE на тестовой выборке."
   ]
  },
  {
   "cell_type": "code",
   "execution_count": 154,
   "metadata": {},
   "outputs": [
    {
     "name": "stdout",
     "output_type": "stream",
     "text": [
      "RMSE модели LightGBM на тестовой выборке составило 1516.17\n"
     ]
    }
   ],
   "source": [
    "pred_lg_test = lg.predict(X_test)\n",
    "rmse_lg_test = mean_squared_error(y_test, pred_lg_test) ** 0.5\n",
    "print(f'RMSE модели LightGBM на тестовой выборке составило {rmse_lg_test:.2f}')"
   ]
  },
  {
   "cell_type": "markdown",
   "metadata": {},
   "source": [
    "Итак, данная модель обучилась за 5 секунд и показала RMSE в 1516, что меньше чем у других двух моделей."
   ]
  },
  {
   "cell_type": "markdown",
   "metadata": {},
   "source": [
    "**Вывод:**\n",
    "\n",
    "На данном этапе были построены три модели, LinearRegression, AdaBoost и LightGBM. Для каждой модели были определены:\n",
    "- Время обучения\n",
    "- Время предсказания\n",
    "- RMSE на тренировочных данных\n",
    "- RMSE на тестовых данных\n",
    "\n",
    "На следующем этапе данные значения будут проанализированы для всех моделей."
   ]
  },
  {
   "cell_type": "markdown",
   "metadata": {},
   "source": [
    "## Анализ моделей"
   ]
  },
  {
   "cell_type": "markdown",
   "metadata": {},
   "source": [
    "Создадим датасет, в котором запишем все параметры, описывающие работу моделей, полученные на предыдущем этапе."
   ]
  },
  {
   "cell_type": "code",
   "execution_count": 162,
   "metadata": {},
   "outputs": [],
   "source": [
    "data = pd.DataFrame({'Fitting time': [time_fit_lr, time_fit_ar, time_fit_lg],\n",
    "                     'Prediction time': [time_pred_lr, time_pred_ar, time_pred_lg],\n",
    "                     'Train RMSE':[rmse_lr, rmse_ar, rmse_lg],\n",
    "                     'Test RMSE':[rmse_lr_test, rmse_ar_test, rmse_lg_test]}, \n",
    "                     index=['Linear Regression', 'AdaBoost', 'LightGBM'])"
   ]
  },
  {
   "cell_type": "markdown",
   "metadata": {},
   "source": [
    "Напечатаем полученный датасет."
   ]
  },
  {
   "cell_type": "code",
   "execution_count": 163,
   "metadata": {},
   "outputs": [
    {
     "data": {
      "text/html": [
       "<div>\n",
       "<style scoped>\n",
       "    .dataframe tbody tr th:only-of-type {\n",
       "        vertical-align: middle;\n",
       "    }\n",
       "\n",
       "    .dataframe tbody tr th {\n",
       "        vertical-align: top;\n",
       "    }\n",
       "\n",
       "    .dataframe thead th {\n",
       "        text-align: right;\n",
       "    }\n",
       "</style>\n",
       "<table border=\"1\" class=\"dataframe\">\n",
       "  <thead>\n",
       "    <tr style=\"text-align: right;\">\n",
       "      <th></th>\n",
       "      <th>Fitting time</th>\n",
       "      <th>Prediction time</th>\n",
       "      <th>Train RMSE</th>\n",
       "      <th>Test RMSE</th>\n",
       "    </tr>\n",
       "  </thead>\n",
       "  <tbody>\n",
       "    <tr>\n",
       "      <th>Linear Regression</th>\n",
       "      <td>26.074998</td>\n",
       "      <td>0.348500</td>\n",
       "      <td>2337.230773</td>\n",
       "      <td>2329.368495</td>\n",
       "    </tr>\n",
       "    <tr>\n",
       "      <th>AdaBoost</th>\n",
       "      <td>171.474275</td>\n",
       "      <td>6.696061</td>\n",
       "      <td>2578.646036</td>\n",
       "      <td>2568.826883</td>\n",
       "    </tr>\n",
       "    <tr>\n",
       "      <th>LightGBM</th>\n",
       "      <td>63.602351</td>\n",
       "      <td>1.517550</td>\n",
       "      <td>1431.627526</td>\n",
       "      <td>1516.171745</td>\n",
       "    </tr>\n",
       "  </tbody>\n",
       "</table>\n",
       "</div>"
      ],
      "text/plain": [
       "                   Fitting time  Prediction time   Train RMSE    Test RMSE\n",
       "Linear Regression     26.074998         0.348500  2337.230773  2329.368495\n",
       "AdaBoost             171.474275         6.696061  2578.646036  2568.826883\n",
       "LightGBM              63.602351         1.517550  1431.627526  1516.171745"
      ]
     },
     "execution_count": 163,
     "metadata": {},
     "output_type": "execute_result"
    }
   ],
   "source": [
    "data"
   ]
  },
  {
   "cell_type": "markdown",
   "metadata": {},
   "source": [
    "Итак, видно, что:\n",
    "- Самой быстрой моделью по обучению и предсказанию является модель LinearRegression.\n",
    "- Самой долгой моделью по обучению и предсказанию являетяс модель AdaBoost.\n",
    "- Модели LinearRegression и AdaBoost обладают сопоставимыми RMSE на тренировочных и тестовых выборках: 2300 и 2500, соответственно.\n",
    "- Модель LightGBM обучается быстрее модели AdaBoost, но медленнее LinearRegression. Однако, она дает наименьшее значение RMSE для тренировочной и тестовой выборок: 1400 и 1500, соответственно."
   ]
  },
  {
   "cell_type": "markdown",
   "metadata": {},
   "source": [
    "## Общий вывод "
   ]
  },
  {
   "cell_type": "markdown",
   "metadata": {},
   "source": [
    "В данной работе была построена модель, которая предсказвыает цену автомобиля исходя из имеющихся данных о прошлых объявлениях:\n",
    "- Сначала была проведена предобработка данных.\n",
    "- Были построены три модели, LinearRegression, AdaBoost и LightGBM.\n",
    "- Модель LightGBM оказалась самой оптимальной с точки зрения времени выполнения/полученного RMSE."
   ]
  }
 ],
 "metadata": {
  "ExecuteTimeLog": [
   {
    "duration": 407,
    "start_time": "2022-04-04T13:19:09.145Z"
   },
   {
    "duration": 900,
    "start_time": "2022-04-04T13:19:30.739Z"
   },
   {
    "duration": 912,
    "start_time": "2022-04-04T13:19:34.449Z"
   },
   {
    "duration": 138,
    "start_time": "2022-04-04T13:19:45.202Z"
   },
   {
    "duration": 141,
    "start_time": "2022-04-04T13:20:17.211Z"
   },
   {
    "duration": 133,
    "start_time": "2022-04-04T13:20:20.098Z"
   },
   {
    "duration": 6,
    "start_time": "2022-04-04T13:20:36.451Z"
   },
   {
    "duration": 23,
    "start_time": "2022-04-04T13:20:41.675Z"
   },
   {
    "duration": 16,
    "start_time": "2022-04-04T13:21:11.219Z"
   },
   {
    "duration": 134,
    "start_time": "2022-04-04T13:21:14.468Z"
   },
   {
    "duration": 6,
    "start_time": "2022-04-04T13:21:23.739Z"
   },
   {
    "duration": 67,
    "start_time": "2022-04-04T13:21:38.030Z"
   },
   {
    "duration": 9,
    "start_time": "2022-04-04T13:21:42.675Z"
   },
   {
    "duration": 11,
    "start_time": "2022-04-04T13:21:44.875Z"
   },
   {
    "duration": 9,
    "start_time": "2022-04-04T13:22:01.961Z"
   },
   {
    "duration": 65,
    "start_time": "2022-04-04T13:22:05.131Z"
   },
   {
    "duration": 52,
    "start_time": "2022-04-04T13:22:09.515Z"
   },
   {
    "duration": 56,
    "start_time": "2022-04-04T13:22:12.339Z"
   },
   {
    "duration": 84,
    "start_time": "2022-04-04T13:22:13.627Z"
   },
   {
    "duration": 81,
    "start_time": "2022-04-04T13:22:20.579Z"
   },
   {
    "duration": 82,
    "start_time": "2022-04-04T13:22:23.369Z"
   },
   {
    "duration": 82,
    "start_time": "2022-04-04T13:22:26.675Z"
   },
   {
    "duration": 49,
    "start_time": "2022-04-04T13:23:43.949Z"
   },
   {
    "duration": 24,
    "start_time": "2022-04-04T13:23:49.227Z"
   },
   {
    "duration": 5,
    "start_time": "2022-04-04T13:23:53.939Z"
   },
   {
    "duration": 3,
    "start_time": "2022-04-04T13:24:29.724Z"
   },
   {
    "duration": 40,
    "start_time": "2022-04-04T13:24:48.172Z"
   },
   {
    "duration": 21,
    "start_time": "2022-04-04T13:24:50.891Z"
   },
   {
    "duration": 37,
    "start_time": "2022-04-04T13:25:11.191Z"
   },
   {
    "duration": 20,
    "start_time": "2022-04-04T13:25:23.669Z"
   },
   {
    "duration": 18,
    "start_time": "2022-04-04T13:25:28.604Z"
   },
   {
    "duration": 10,
    "start_time": "2022-04-04T13:25:40.460Z"
   },
   {
    "duration": 37,
    "start_time": "2022-04-04T13:25:43.940Z"
   },
   {
    "duration": 86,
    "start_time": "2022-04-04T13:27:41.655Z"
   },
   {
    "duration": 89,
    "start_time": "2022-04-04T13:28:03.876Z"
   },
   {
    "duration": 4,
    "start_time": "2022-04-04T13:28:10.269Z"
   },
   {
    "duration": 15,
    "start_time": "2022-04-04T13:28:34.432Z"
   },
   {
    "duration": 22,
    "start_time": "2022-04-04T13:28:40.245Z"
   },
   {
    "duration": 4,
    "start_time": "2022-04-04T13:28:40.391Z"
   },
   {
    "duration": 2,
    "start_time": "2022-04-04T13:28:40.518Z"
   },
   {
    "duration": 48,
    "start_time": "2022-04-04T13:28:40.765Z"
   },
   {
    "duration": 3,
    "start_time": "2022-04-04T13:28:53.118Z"
   },
   {
    "duration": 12,
    "start_time": "2022-04-04T13:28:54.293Z"
   },
   {
    "duration": 22,
    "start_time": "2022-04-04T13:29:03.350Z"
   },
   {
    "duration": 45,
    "start_time": "2022-04-04T13:29:04.070Z"
   },
   {
    "duration": 86,
    "start_time": "2022-04-04T13:29:13.318Z"
   },
   {
    "duration": 36,
    "start_time": "2022-04-04T13:30:15.904Z"
   },
   {
    "duration": 37,
    "start_time": "2022-04-04T13:30:25.110Z"
   },
   {
    "duration": 8,
    "start_time": "2022-04-04T13:30:43.151Z"
   },
   {
    "duration": 40,
    "start_time": "2022-04-04T13:30:46.318Z"
   },
   {
    "duration": 38,
    "start_time": "2022-04-04T13:31:05.703Z"
   },
   {
    "duration": 35,
    "start_time": "2022-04-04T13:31:28.495Z"
   },
   {
    "duration": 112,
    "start_time": "2022-04-04T13:34:11.017Z"
   },
   {
    "duration": 90,
    "start_time": "2022-04-04T13:34:17.318Z"
   },
   {
    "duration": 118,
    "start_time": "2022-04-04T13:34:22.175Z"
   },
   {
    "duration": 793,
    "start_time": "2022-04-04T13:38:24.042Z"
   },
   {
    "duration": 70,
    "start_time": "2022-04-04T13:39:28.985Z"
   },
   {
    "duration": 40,
    "start_time": "2022-04-04T13:39:42.291Z"
   },
   {
    "duration": 21,
    "start_time": "2022-04-04T13:39:46.290Z"
   },
   {
    "duration": 5,
    "start_time": "2022-04-04T13:39:55.378Z"
   },
   {
    "duration": 48,
    "start_time": "2022-04-04T13:40:15.385Z"
   },
   {
    "duration": 47,
    "start_time": "2022-04-04T13:40:15.626Z"
   },
   {
    "duration": 99,
    "start_time": "2022-04-04T13:40:16.827Z"
   },
   {
    "duration": 7,
    "start_time": "2022-04-04T13:40:17.433Z"
   },
   {
    "duration": 39,
    "start_time": "2022-04-04T13:40:20.138Z"
   },
   {
    "duration": 43,
    "start_time": "2022-04-04T13:40:25.681Z"
   },
   {
    "duration": 21,
    "start_time": "2022-04-04T13:40:34.210Z"
   },
   {
    "duration": 5,
    "start_time": "2022-04-04T13:40:37.274Z"
   },
   {
    "duration": 7,
    "start_time": "2022-04-04T13:40:43.186Z"
   },
   {
    "duration": 35,
    "start_time": "2022-04-04T13:40:53.219Z"
   },
   {
    "duration": 18,
    "start_time": "2022-04-04T13:40:56.370Z"
   },
   {
    "duration": 7,
    "start_time": "2022-04-04T13:41:27.545Z"
   },
   {
    "duration": 92,
    "start_time": "2022-04-04T13:41:32.018Z"
   },
   {
    "duration": 12,
    "start_time": "2022-04-04T13:41:53.282Z"
   },
   {
    "duration": 92,
    "start_time": "2022-04-04T13:41:55.692Z"
   },
   {
    "duration": 5,
    "start_time": "2022-04-04T13:41:58.666Z"
   },
   {
    "duration": 4,
    "start_time": "2022-04-04T13:42:00.906Z"
   },
   {
    "duration": 6,
    "start_time": "2022-04-04T13:42:02.594Z"
   },
   {
    "duration": 5,
    "start_time": "2022-04-04T13:42:08.426Z"
   },
   {
    "duration": 6,
    "start_time": "2022-04-04T13:42:12.178Z"
   },
   {
    "duration": 10,
    "start_time": "2022-04-04T13:42:15.491Z"
   },
   {
    "duration": 7,
    "start_time": "2022-04-04T13:42:30.476Z"
   },
   {
    "duration": 5,
    "start_time": "2022-04-04T13:42:34.530Z"
   },
   {
    "duration": 6,
    "start_time": "2022-04-04T13:42:45.938Z"
   },
   {
    "duration": 5,
    "start_time": "2022-04-04T13:42:52.900Z"
   },
   {
    "duration": 5,
    "start_time": "2022-04-04T13:42:57.354Z"
   },
   {
    "duration": 6,
    "start_time": "2022-04-04T13:43:02.130Z"
   },
   {
    "duration": 2790,
    "start_time": "2022-04-04T13:43:05.475Z"
   },
   {
    "duration": 5,
    "start_time": "2022-04-04T13:43:08.867Z"
   },
   {
    "duration": 10,
    "start_time": "2022-04-04T13:43:34.043Z"
   },
   {
    "duration": 33,
    "start_time": "2022-04-04T13:43:51.341Z"
   },
   {
    "duration": 29,
    "start_time": "2022-04-04T13:43:54.603Z"
   },
   {
    "duration": 25,
    "start_time": "2022-04-04T13:43:59.315Z"
   },
   {
    "duration": 21,
    "start_time": "2022-04-04T13:44:18.763Z"
   },
   {
    "duration": 1168,
    "start_time": "2022-04-04T13:44:21.709Z"
   },
   {
    "duration": 39,
    "start_time": "2022-04-04T13:44:26.235Z"
   },
   {
    "duration": 1088,
    "start_time": "2022-04-04T13:44:40.123Z"
   },
   {
    "duration": 36,
    "start_time": "2022-04-04T13:44:42.673Z"
   },
   {
    "duration": 1058,
    "start_time": "2022-04-04T13:44:46.747Z"
   },
   {
    "duration": 39,
    "start_time": "2022-04-04T13:44:48.389Z"
   },
   {
    "duration": 1044,
    "start_time": "2022-04-04T13:44:50.747Z"
   },
   {
    "duration": 41,
    "start_time": "2022-04-04T13:44:52.269Z"
   },
   {
    "duration": 415,
    "start_time": "2022-04-04T13:45:05.899Z"
   },
   {
    "duration": 46,
    "start_time": "2022-04-04T13:45:54.620Z"
   },
   {
    "duration": 18,
    "start_time": "2022-04-04T13:46:19.413Z"
   },
   {
    "duration": 3,
    "start_time": "2022-04-04T13:46:20.972Z"
   },
   {
    "duration": 4,
    "start_time": "2022-04-04T13:46:58.460Z"
   },
   {
    "duration": 4,
    "start_time": "2022-04-04T13:47:34.141Z"
   },
   {
    "duration": 1306,
    "start_time": "2022-04-04T13:56:39.978Z"
   },
   {
    "duration": 940,
    "start_time": "2022-04-04T13:56:42.118Z"
   },
   {
    "duration": 54,
    "start_time": "2022-04-04T13:56:44.966Z"
   },
   {
    "duration": 51,
    "start_time": "2022-04-04T13:56:45.534Z"
   },
   {
    "duration": 94,
    "start_time": "2022-04-04T13:57:10.446Z"
   },
   {
    "duration": 188,
    "start_time": "2022-04-04T13:57:46.614Z"
   },
   {
    "duration": 95,
    "start_time": "2022-04-04T13:57:48.822Z"
   },
   {
    "duration": 88,
    "start_time": "2022-04-04T13:57:52.966Z"
   },
   {
    "duration": 91,
    "start_time": "2022-04-04T13:58:00.063Z"
   },
   {
    "duration": 5,
    "start_time": "2022-04-04T13:59:23.982Z"
   },
   {
    "duration": 11,
    "start_time": "2022-04-04T14:00:20.975Z"
   },
   {
    "duration": 131,
    "start_time": "2022-04-04T14:00:48.464Z"
   },
   {
    "duration": 110,
    "start_time": "2022-04-04T14:00:51.169Z"
   },
   {
    "duration": 72,
    "start_time": "2022-04-04T14:01:23.383Z"
   },
   {
    "duration": 435,
    "start_time": "2022-04-04T14:02:17.449Z"
   },
   {
    "duration": 247,
    "start_time": "2022-04-04T14:02:20.032Z"
   },
   {
    "duration": 17,
    "start_time": "2022-04-04T14:02:30.425Z"
   },
   {
    "duration": 134,
    "start_time": "2022-04-04T14:02:34.640Z"
   },
   {
    "duration": 190,
    "start_time": "2022-04-04T14:02:46.305Z"
   },
   {
    "duration": 245,
    "start_time": "2022-04-04T14:02:52.088Z"
   },
   {
    "duration": 191,
    "start_time": "2022-04-04T14:02:55.850Z"
   },
   {
    "duration": 271,
    "start_time": "2022-04-04T14:03:18.432Z"
   },
   {
    "duration": 150,
    "start_time": "2022-04-04T14:03:31.601Z"
   },
   {
    "duration": 119,
    "start_time": "2022-04-04T14:03:40.784Z"
   },
   {
    "duration": 9,
    "start_time": "2022-04-04T14:03:55.577Z"
   },
   {
    "duration": 8,
    "start_time": "2022-04-04T14:04:09.817Z"
   },
   {
    "duration": 9,
    "start_time": "2022-04-04T14:04:12.177Z"
   },
   {
    "duration": 10,
    "start_time": "2022-04-04T14:04:16.256Z"
   },
   {
    "duration": 10,
    "start_time": "2022-04-04T14:04:21.672Z"
   },
   {
    "duration": 11,
    "start_time": "2022-04-04T14:04:25.224Z"
   },
   {
    "duration": 135,
    "start_time": "2022-04-04T14:04:29.028Z"
   },
   {
    "duration": 11,
    "start_time": "2022-04-04T14:04:33.672Z"
   },
   {
    "duration": 9,
    "start_time": "2022-04-04T14:04:41.932Z"
   },
   {
    "duration": 10,
    "start_time": "2022-04-04T14:05:23.050Z"
   },
   {
    "duration": 4,
    "start_time": "2022-04-04T14:05:37.385Z"
   },
   {
    "duration": 10,
    "start_time": "2022-04-04T14:05:44.418Z"
   },
   {
    "duration": 2332,
    "start_time": "2022-04-04T14:05:49.820Z"
   },
   {
    "duration": 10,
    "start_time": "2022-04-04T14:05:52.481Z"
   },
   {
    "duration": 11,
    "start_time": "2022-04-04T14:05:59.665Z"
   },
   {
    "duration": 9,
    "start_time": "2022-04-04T14:06:02.163Z"
   },
   {
    "duration": 10,
    "start_time": "2022-04-04T14:06:06.610Z"
   },
   {
    "duration": 9,
    "start_time": "2022-04-04T14:06:24.673Z"
   },
   {
    "duration": 9,
    "start_time": "2022-04-04T14:06:27.169Z"
   },
   {
    "duration": 9,
    "start_time": "2022-04-04T14:06:29.513Z"
   },
   {
    "duration": 9,
    "start_time": "2022-04-04T14:06:32.249Z"
   },
   {
    "duration": 9,
    "start_time": "2022-04-04T14:06:36.885Z"
   },
   {
    "duration": 904,
    "start_time": "2022-04-04T14:09:08.130Z"
   },
   {
    "duration": 90,
    "start_time": "2022-04-04T14:09:40.386Z"
   },
   {
    "duration": 175,
    "start_time": "2022-04-04T14:09:57.539Z"
   },
   {
    "duration": 132,
    "start_time": "2022-04-04T14:10:32.019Z"
   },
   {
    "duration": 2,
    "start_time": "2022-04-04T14:11:38.517Z"
   },
   {
    "duration": 196,
    "start_time": "2022-04-04T14:11:54.842Z"
   },
   {
    "duration": 3,
    "start_time": "2022-04-04T14:12:48.508Z"
   },
   {
    "duration": 5,
    "start_time": "2022-04-04T14:12:52.179Z"
   },
   {
    "duration": 165,
    "start_time": "2022-04-04T14:15:12.508Z"
   },
   {
    "duration": 182,
    "start_time": "2022-04-04T14:15:23.732Z"
   },
   {
    "duration": 163,
    "start_time": "2022-04-04T14:15:34.876Z"
   },
   {
    "duration": 144,
    "start_time": "2022-04-04T14:18:34.906Z"
   },
   {
    "duration": 30,
    "start_time": "2022-04-04T14:18:37.189Z"
   },
   {
    "duration": 25,
    "start_time": "2022-04-04T14:19:17.215Z"
   },
   {
    "duration": 14,
    "start_time": "2022-04-04T14:19:20.862Z"
   },
   {
    "duration": 16,
    "start_time": "2022-04-04T14:19:23.334Z"
   },
   {
    "duration": 7,
    "start_time": "2022-04-04T14:20:13.966Z"
   },
   {
    "duration": 7,
    "start_time": "2022-04-04T14:22:33.288Z"
   },
   {
    "duration": 26,
    "start_time": "2022-04-04T14:22:37.997Z"
   },
   {
    "duration": 84,
    "start_time": "2022-04-04T14:22:44.255Z"
   },
   {
    "duration": 86,
    "start_time": "2022-04-04T14:23:01.464Z"
   },
   {
    "duration": 129,
    "start_time": "2022-04-04T14:23:08.718Z"
   },
   {
    "duration": 170,
    "start_time": "2022-04-04T14:23:21.719Z"
   },
   {
    "duration": 4,
    "start_time": "2022-04-04T14:23:25.376Z"
   },
   {
    "duration": 5,
    "start_time": "2022-04-04T14:24:07.592Z"
   },
   {
    "duration": 19,
    "start_time": "2022-04-04T14:25:09.513Z"
   },
   {
    "duration": 6,
    "start_time": "2022-04-04T14:41:35.454Z"
   },
   {
    "duration": 4,
    "start_time": "2022-04-04T14:41:44.265Z"
   },
   {
    "duration": 874,
    "start_time": "2022-04-04T14:41:44.271Z"
   },
   {
    "duration": 4,
    "start_time": "2022-04-04T14:41:45.147Z"
   },
   {
    "duration": 19,
    "start_time": "2022-04-04T14:41:45.153Z"
   },
   {
    "duration": 203,
    "start_time": "2022-04-04T14:41:45.174Z"
   },
   {
    "duration": 138,
    "start_time": "2022-04-04T14:41:45.379Z"
   },
   {
    "duration": 183,
    "start_time": "2022-04-04T14:41:45.519Z"
   },
   {
    "duration": 4,
    "start_time": "2022-04-04T14:41:45.704Z"
   },
   {
    "duration": 162,
    "start_time": "2022-04-04T14:41:45.710Z"
   },
   {
    "duration": 14,
    "start_time": "2022-04-04T14:41:47.238Z"
   },
   {
    "duration": 254,
    "start_time": "2022-04-04T14:42:38.839Z"
   },
   {
    "duration": 170,
    "start_time": "2022-04-04T14:42:41.550Z"
   },
   {
    "duration": 4,
    "start_time": "2022-04-04T14:42:42.370Z"
   },
   {
    "duration": 4,
    "start_time": "2022-04-04T14:44:50.690Z"
   },
   {
    "duration": 139,
    "start_time": "2022-04-04T14:45:47.827Z"
   },
   {
    "duration": 19,
    "start_time": "2022-04-04T14:48:50.074Z"
   },
   {
    "duration": 247,
    "start_time": "2022-04-04T14:49:32.929Z"
   },
   {
    "duration": 4,
    "start_time": "2022-04-04T14:49:39.913Z"
   },
   {
    "duration": 14,
    "start_time": "2022-04-04T14:50:56.851Z"
   },
   {
    "duration": 134,
    "start_time": "2022-04-04T14:51:47.378Z"
   },
   {
    "duration": 133,
    "start_time": "2022-04-04T14:51:56.162Z"
   },
   {
    "duration": 162,
    "start_time": "2022-04-04T14:52:05.619Z"
   },
   {
    "duration": 154,
    "start_time": "2022-04-04T14:53:50.499Z"
   },
   {
    "duration": 10,
    "start_time": "2022-04-04T14:53:55.325Z"
   },
   {
    "duration": 11,
    "start_time": "2022-04-04T14:54:01.058Z"
   },
   {
    "duration": 129,
    "start_time": "2022-04-04T14:54:05.388Z"
   },
   {
    "duration": 11,
    "start_time": "2022-04-04T14:55:09.988Z"
   },
   {
    "duration": 10,
    "start_time": "2022-04-04T14:55:27.930Z"
   },
   {
    "duration": 9,
    "start_time": "2022-04-04T14:55:30.644Z"
   },
   {
    "duration": 9,
    "start_time": "2022-04-04T14:55:39.228Z"
   },
   {
    "duration": 9,
    "start_time": "2022-04-04T14:55:41.523Z"
   },
   {
    "duration": 6,
    "start_time": "2022-04-04T14:56:18.272Z"
   },
   {
    "duration": 55,
    "start_time": "2022-04-04T14:56:38.012Z"
   },
   {
    "duration": 4,
    "start_time": "2022-04-04T14:56:51.517Z"
   },
   {
    "duration": 41,
    "start_time": "2022-04-04T14:56:57.077Z"
   },
   {
    "duration": 45,
    "start_time": "2022-04-04T14:56:59.668Z"
   },
   {
    "duration": 9,
    "start_time": "2022-04-04T14:57:03.797Z"
   },
   {
    "duration": 8,
    "start_time": "2022-04-04T14:57:08.086Z"
   },
   {
    "duration": 9,
    "start_time": "2022-04-04T14:57:13.773Z"
   },
   {
    "duration": 9,
    "start_time": "2022-04-04T14:57:15.941Z"
   },
   {
    "duration": 105,
    "start_time": "2022-04-04T14:58:31.221Z"
   },
   {
    "duration": 112,
    "start_time": "2022-04-04T14:59:07.770Z"
   },
   {
    "duration": 232,
    "start_time": "2022-04-04T14:59:12.925Z"
   },
   {
    "duration": 10,
    "start_time": "2022-04-04T15:07:03.146Z"
   },
   {
    "duration": 38,
    "start_time": "2022-04-04T15:07:55.176Z"
   },
   {
    "duration": 90,
    "start_time": "2022-04-04T15:07:58.088Z"
   },
   {
    "duration": 59,
    "start_time": "2022-04-04T15:08:01.762Z"
   },
   {
    "duration": 103,
    "start_time": "2022-04-04T15:08:06.856Z"
   },
   {
    "duration": 155,
    "start_time": "2022-04-04T15:08:43.017Z"
   },
   {
    "duration": 126,
    "start_time": "2022-04-04T15:09:04.602Z"
   },
   {
    "duration": 115,
    "start_time": "2022-04-04T15:09:09.321Z"
   },
   {
    "duration": 121,
    "start_time": "2022-04-04T15:09:53.609Z"
   },
   {
    "duration": 93,
    "start_time": "2022-04-04T15:10:07.468Z"
   },
   {
    "duration": 26,
    "start_time": "2022-04-04T15:10:44.873Z"
   },
   {
    "duration": 135,
    "start_time": "2022-04-04T15:10:47.729Z"
   },
   {
    "duration": 113,
    "start_time": "2022-04-04T15:11:02.233Z"
   },
   {
    "duration": 63,
    "start_time": "2022-04-04T15:16:17.379Z"
   },
   {
    "duration": 33,
    "start_time": "2022-04-04T15:16:55.501Z"
   },
   {
    "duration": 29,
    "start_time": "2022-04-04T15:18:10.181Z"
   },
   {
    "duration": 18,
    "start_time": "2022-04-04T15:18:14.176Z"
   },
   {
    "duration": 11,
    "start_time": "2022-04-04T15:18:18.398Z"
   },
   {
    "duration": 11,
    "start_time": "2022-04-04T15:18:43.516Z"
   },
   {
    "duration": 9,
    "start_time": "2022-04-04T15:18:46.269Z"
   },
   {
    "duration": 9,
    "start_time": "2022-04-04T15:18:50.077Z"
   },
   {
    "duration": 11,
    "start_time": "2022-04-04T15:19:04.540Z"
   },
   {
    "duration": 10,
    "start_time": "2022-04-04T15:19:06.892Z"
   },
   {
    "duration": 9,
    "start_time": "2022-04-04T15:19:09.396Z"
   },
   {
    "duration": 3,
    "start_time": "2022-04-04T15:20:50.106Z"
   },
   {
    "duration": 915,
    "start_time": "2022-04-04T15:20:50.112Z"
   },
   {
    "duration": 4,
    "start_time": "2022-04-04T15:20:51.030Z"
   },
   {
    "duration": 8,
    "start_time": "2022-04-04T15:20:51.036Z"
   },
   {
    "duration": 170,
    "start_time": "2022-04-04T15:20:51.046Z"
   },
   {
    "duration": 134,
    "start_time": "2022-04-04T15:20:51.218Z"
   },
   {
    "duration": 205,
    "start_time": "2022-04-04T15:20:51.354Z"
   },
   {
    "duration": 3,
    "start_time": "2022-04-04T15:20:51.562Z"
   },
   {
    "duration": 172,
    "start_time": "2022-04-04T15:20:51.567Z"
   },
   {
    "duration": 13,
    "start_time": "2022-04-04T15:20:51.742Z"
   },
   {
    "duration": 267,
    "start_time": "2022-04-04T15:20:51.757Z"
   },
   {
    "duration": 17,
    "start_time": "2022-04-04T15:20:52.026Z"
   },
   {
    "duration": 129,
    "start_time": "2022-04-04T15:20:53.221Z"
   },
   {
    "duration": 10,
    "start_time": "2022-04-04T15:21:50.398Z"
   },
   {
    "duration": 8,
    "start_time": "2022-04-04T15:21:55.317Z"
   },
   {
    "duration": 8,
    "start_time": "2022-04-04T15:21:57.702Z"
   },
   {
    "duration": 241,
    "start_time": "2022-04-04T15:22:35.550Z"
   },
   {
    "duration": 128,
    "start_time": "2022-04-04T15:22:41.717Z"
   },
   {
    "duration": 9,
    "start_time": "2022-04-04T15:22:49.094Z"
   },
   {
    "duration": 11,
    "start_time": "2022-04-04T15:22:49.542Z"
   },
   {
    "duration": 11,
    "start_time": "2022-04-04T15:22:55.805Z"
   },
   {
    "duration": 10,
    "start_time": "2022-04-04T15:22:58.686Z"
   },
   {
    "duration": 62,
    "start_time": "2022-04-04T15:23:36.159Z"
   },
   {
    "duration": 61,
    "start_time": "2022-04-04T15:23:39.465Z"
   },
   {
    "duration": 61,
    "start_time": "2022-04-04T15:23:44.542Z"
   },
   {
    "duration": 3,
    "start_time": "2022-04-04T15:24:19.487Z"
   },
   {
    "duration": 33,
    "start_time": "2022-04-04T15:25:07.927Z"
   },
   {
    "duration": 39,
    "start_time": "2022-04-04T15:25:10.279Z"
   },
   {
    "duration": 73,
    "start_time": "2022-04-04T15:25:18.941Z"
   },
   {
    "duration": 5,
    "start_time": "2022-04-04T15:25:24.351Z"
   },
   {
    "duration": 117,
    "start_time": "2022-04-04T15:25:32.071Z"
   },
   {
    "duration": 104,
    "start_time": "2022-04-04T15:25:36.518Z"
   },
   {
    "duration": 27,
    "start_time": "2022-04-04T15:26:04.967Z"
   },
   {
    "duration": 98,
    "start_time": "2022-04-04T15:26:18.446Z"
   },
   {
    "duration": 8,
    "start_time": "2022-04-04T15:26:27.471Z"
   },
   {
    "duration": 150,
    "start_time": "2022-04-04T15:26:28.583Z"
   },
   {
    "duration": 3,
    "start_time": "2022-04-04T15:26:32.036Z"
   },
   {
    "duration": 855,
    "start_time": "2022-04-04T15:26:32.042Z"
   },
   {
    "duration": 5,
    "start_time": "2022-04-04T15:26:32.899Z"
   },
   {
    "duration": 12,
    "start_time": "2022-04-04T15:26:32.906Z"
   },
   {
    "duration": 319,
    "start_time": "2022-04-04T15:26:32.920Z"
   },
   {
    "duration": 244,
    "start_time": "2022-04-04T15:26:33.246Z"
   },
   {
    "duration": 197,
    "start_time": "2022-04-04T15:26:33.500Z"
   },
   {
    "duration": 3,
    "start_time": "2022-04-04T15:26:33.700Z"
   },
   {
    "duration": 166,
    "start_time": "2022-04-04T15:26:33.706Z"
   },
   {
    "duration": 27,
    "start_time": "2022-04-04T15:26:33.876Z"
   },
   {
    "duration": 257,
    "start_time": "2022-04-04T15:26:33.905Z"
   },
   {
    "duration": 18,
    "start_time": "2022-04-04T15:26:34.164Z"
   },
   {
    "duration": 252,
    "start_time": "2022-04-04T15:26:34.184Z"
   },
   {
    "duration": 138,
    "start_time": "2022-04-04T15:26:34.438Z"
   },
   {
    "duration": 3,
    "start_time": "2022-04-04T15:26:34.578Z"
   },
   {
    "duration": 68,
    "start_time": "2022-04-04T15:26:34.583Z"
   },
   {
    "duration": 264,
    "start_time": "2022-04-04T15:26:34.653Z"
   },
   {
    "duration": 130,
    "start_time": "2022-04-04T15:26:34.919Z"
   },
   {
    "duration": 53,
    "start_time": "2022-04-04T15:26:40.258Z"
   },
   {
    "duration": 119,
    "start_time": "2022-04-04T15:26:41.094Z"
   },
   {
    "duration": 117,
    "start_time": "2022-04-04T15:28:21.872Z"
   },
   {
    "duration": 136,
    "start_time": "2022-04-04T15:30:01.553Z"
   },
   {
    "duration": 7,
    "start_time": "2022-04-04T15:30:11.728Z"
   },
   {
    "duration": 4,
    "start_time": "2022-04-04T15:30:16.220Z"
   },
   {
    "duration": 831,
    "start_time": "2022-04-04T15:30:16.226Z"
   },
   {
    "duration": 4,
    "start_time": "2022-04-04T15:30:17.059Z"
   },
   {
    "duration": 33,
    "start_time": "2022-04-04T15:30:17.065Z"
   },
   {
    "duration": 195,
    "start_time": "2022-04-04T15:30:17.100Z"
   },
   {
    "duration": 138,
    "start_time": "2022-04-04T15:30:17.297Z"
   },
   {
    "duration": 202,
    "start_time": "2022-04-04T15:30:17.437Z"
   },
   {
    "duration": 3,
    "start_time": "2022-04-04T15:30:17.642Z"
   },
   {
    "duration": 157,
    "start_time": "2022-04-04T15:30:17.648Z"
   },
   {
    "duration": 13,
    "start_time": "2022-04-04T15:30:19.103Z"
   },
   {
    "duration": 253,
    "start_time": "2022-04-04T15:30:21.696Z"
   },
   {
    "duration": 139,
    "start_time": "2022-04-04T15:30:36.369Z"
   },
   {
    "duration": 22,
    "start_time": "2022-04-04T15:30:57.611Z"
   },
   {
    "duration": 4,
    "start_time": "2022-04-04T15:31:59.897Z"
   },
   {
    "duration": 66,
    "start_time": "2022-04-04T15:32:34.418Z"
   },
   {
    "duration": 22,
    "start_time": "2022-04-04T15:32:44.585Z"
   },
   {
    "duration": 12,
    "start_time": "2022-04-04T15:33:00.841Z"
   },
   {
    "duration": 10,
    "start_time": "2022-04-04T15:33:07.266Z"
   },
   {
    "duration": 9,
    "start_time": "2022-04-04T15:33:11.722Z"
   },
   {
    "duration": 4,
    "start_time": "2022-04-04T15:33:33.835Z"
   },
   {
    "duration": 3,
    "start_time": "2022-04-04T15:33:36.264Z"
   },
   {
    "duration": 886,
    "start_time": "2022-04-04T15:33:36.269Z"
   },
   {
    "duration": 4,
    "start_time": "2022-04-04T15:33:37.157Z"
   },
   {
    "duration": 5,
    "start_time": "2022-04-04T15:33:37.163Z"
   },
   {
    "duration": 203,
    "start_time": "2022-04-04T15:33:37.170Z"
   },
   {
    "duration": 133,
    "start_time": "2022-04-04T15:33:37.375Z"
   },
   {
    "duration": 175,
    "start_time": "2022-04-04T15:33:37.510Z"
   },
   {
    "duration": 3,
    "start_time": "2022-04-04T15:33:37.686Z"
   },
   {
    "duration": 221,
    "start_time": "2022-04-04T15:33:37.691Z"
   },
   {
    "duration": 15,
    "start_time": "2022-04-04T15:33:37.915Z"
   },
   {
    "duration": 453,
    "start_time": "2022-04-04T15:33:37.933Z"
   },
   {
    "duration": 32,
    "start_time": "2022-04-04T15:33:38.388Z"
   },
   {
    "duration": 3,
    "start_time": "2022-04-04T15:33:38.422Z"
   },
   {
    "duration": 3,
    "start_time": "2022-04-04T15:33:48.661Z"
   },
   {
    "duration": 11,
    "start_time": "2022-04-04T15:33:52.938Z"
   },
   {
    "duration": 62,
    "start_time": "2022-04-04T15:33:58.665Z"
   },
   {
    "duration": 21,
    "start_time": "2022-04-04T15:33:59.241Z"
   },
   {
    "duration": 51,
    "start_time": "2022-04-04T15:34:42.674Z"
   },
   {
    "duration": 119,
    "start_time": "2022-04-04T15:34:44.441Z"
   },
   {
    "duration": 118,
    "start_time": "2022-04-04T15:34:47.977Z"
   },
   {
    "duration": 49,
    "start_time": "2022-04-04T15:34:50.186Z"
   },
   {
    "duration": 125,
    "start_time": "2022-04-04T15:34:51.563Z"
   },
   {
    "duration": 92,
    "start_time": "2022-04-04T15:34:55.082Z"
   },
   {
    "duration": 14,
    "start_time": "2022-04-04T15:35:49.691Z"
   },
   {
    "duration": 47,
    "start_time": "2022-04-04T15:36:13.555Z"
   },
   {
    "duration": 4,
    "start_time": "2022-04-04T15:36:25.408Z"
   },
   {
    "duration": 783,
    "start_time": "2022-04-04T15:36:25.414Z"
   },
   {
    "duration": 4,
    "start_time": "2022-04-04T15:36:26.201Z"
   },
   {
    "duration": 7,
    "start_time": "2022-04-04T15:36:26.207Z"
   },
   {
    "duration": 193,
    "start_time": "2022-04-04T15:36:26.216Z"
   },
   {
    "duration": 133,
    "start_time": "2022-04-04T15:36:26.411Z"
   },
   {
    "duration": 178,
    "start_time": "2022-04-04T15:36:26.546Z"
   },
   {
    "duration": 3,
    "start_time": "2022-04-04T15:36:26.726Z"
   },
   {
    "duration": 155,
    "start_time": "2022-04-04T15:36:26.731Z"
   },
   {
    "duration": 23,
    "start_time": "2022-04-04T15:36:26.888Z"
   },
   {
    "duration": 261,
    "start_time": "2022-04-04T15:36:26.913Z"
   },
   {
    "duration": 30,
    "start_time": "2022-04-04T15:36:27.176Z"
   },
   {
    "duration": 3,
    "start_time": "2022-04-04T15:36:29.338Z"
   },
   {
    "duration": 60,
    "start_time": "2022-04-04T15:36:31.675Z"
   },
   {
    "duration": 23,
    "start_time": "2022-04-04T15:36:32.658Z"
   },
   {
    "duration": 16,
    "start_time": "2022-04-04T15:36:36.099Z"
   },
   {
    "duration": 232,
    "start_time": "2022-04-04T15:36:39.076Z"
   },
   {
    "duration": 129,
    "start_time": "2022-04-04T15:36:40.962Z"
   },
   {
    "duration": 78,
    "start_time": "2022-04-04T15:36:45.507Z"
   },
   {
    "duration": 120,
    "start_time": "2022-04-04T15:36:46.267Z"
   },
   {
    "duration": 41,
    "start_time": "2022-04-04T15:36:47.882Z"
   },
   {
    "duration": 108,
    "start_time": "2022-04-04T15:36:52.674Z"
   },
   {
    "duration": 50,
    "start_time": "2022-04-04T15:36:53.412Z"
   },
   {
    "duration": 118,
    "start_time": "2022-04-04T15:36:54.155Z"
   },
   {
    "duration": 94,
    "start_time": "2022-04-04T15:36:56.084Z"
   },
   {
    "duration": 6,
    "start_time": "2022-04-04T15:37:58.276Z"
   },
   {
    "duration": 142,
    "start_time": "2022-04-04T15:38:36.222Z"
   },
   {
    "duration": 43,
    "start_time": "2022-04-04T15:38:38.997Z"
   },
   {
    "duration": 24,
    "start_time": "2022-04-04T15:38:46.572Z"
   },
   {
    "duration": 14,
    "start_time": "2022-04-04T15:38:59.804Z"
   },
   {
    "duration": 3,
    "start_time": "2022-04-04T15:39:02.593Z"
   },
   {
    "duration": 987,
    "start_time": "2022-04-04T15:39:02.598Z"
   },
   {
    "duration": 6,
    "start_time": "2022-04-04T15:39:03.600Z"
   },
   {
    "duration": 16,
    "start_time": "2022-04-04T15:39:03.608Z"
   },
   {
    "duration": 177,
    "start_time": "2022-04-04T15:39:03.628Z"
   },
   {
    "duration": 140,
    "start_time": "2022-04-04T15:39:03.807Z"
   },
   {
    "duration": 230,
    "start_time": "2022-04-04T15:39:03.949Z"
   },
   {
    "duration": 3,
    "start_time": "2022-04-04T15:39:04.182Z"
   },
   {
    "duration": 169,
    "start_time": "2022-04-04T15:39:04.187Z"
   },
   {
    "duration": 17,
    "start_time": "2022-04-04T15:39:04.359Z"
   },
   {
    "duration": 286,
    "start_time": "2022-04-04T15:39:04.380Z"
   },
   {
    "duration": 23,
    "start_time": "2022-04-04T15:39:04.669Z"
   },
   {
    "duration": 3,
    "start_time": "2022-04-04T15:39:04.702Z"
   },
   {
    "duration": 72,
    "start_time": "2022-04-04T15:39:04.707Z"
   },
   {
    "duration": 36,
    "start_time": "2022-04-04T15:39:04.781Z"
   },
   {
    "duration": 18,
    "start_time": "2022-04-04T15:39:04.819Z"
   },
   {
    "duration": 450,
    "start_time": "2022-04-04T15:39:04.840Z"
   },
   {
    "duration": 203,
    "start_time": "2022-04-04T15:39:05.293Z"
   },
   {
    "duration": 68,
    "start_time": "2022-04-04T15:39:05.502Z"
   },
   {
    "duration": 192,
    "start_time": "2022-04-04T15:39:05.572Z"
   },
   {
    "duration": 134,
    "start_time": "2022-04-04T15:39:05.767Z"
   },
   {
    "duration": 56,
    "start_time": "2022-04-04T15:39:05.903Z"
   },
   {
    "duration": 157,
    "start_time": "2022-04-04T15:39:05.961Z"
   },
   {
    "duration": 108,
    "start_time": "2022-04-04T15:39:06.120Z"
   },
   {
    "duration": 5,
    "start_time": "2022-04-04T15:39:06.231Z"
   },
   {
    "duration": 35,
    "start_time": "2022-04-04T15:39:08.939Z"
   },
   {
    "duration": 1684,
    "start_time": "2022-04-05T06:44:13.907Z"
   },
   {
    "duration": 1111,
    "start_time": "2022-04-05T06:44:15.593Z"
   },
   {
    "duration": 5,
    "start_time": "2022-04-05T06:44:16.706Z"
   },
   {
    "duration": 10,
    "start_time": "2022-04-05T06:44:16.714Z"
   },
   {
    "duration": 237,
    "start_time": "2022-04-05T06:44:16.727Z"
   },
   {
    "duration": 164,
    "start_time": "2022-04-05T06:44:16.966Z"
   },
   {
    "duration": 279,
    "start_time": "2022-04-05T06:44:17.133Z"
   },
   {
    "duration": 4,
    "start_time": "2022-04-05T06:44:17.415Z"
   },
   {
    "duration": 976,
    "start_time": "2022-04-05T06:44:17.421Z"
   },
   {
    "duration": 44,
    "start_time": "2022-04-05T06:44:18.399Z"
   },
   {
    "duration": 368,
    "start_time": "2022-04-05T06:44:18.445Z"
   },
   {
    "duration": 35,
    "start_time": "2022-04-05T06:44:18.815Z"
   },
   {
    "duration": 4,
    "start_time": "2022-04-05T06:44:18.852Z"
   },
   {
    "duration": 125,
    "start_time": "2022-04-05T06:44:18.860Z"
   },
   {
    "duration": 25,
    "start_time": "2022-04-05T06:44:18.988Z"
   },
   {
    "duration": 41,
    "start_time": "2022-04-05T06:44:19.016Z"
   },
   {
    "duration": 328,
    "start_time": "2022-04-05T06:44:19.059Z"
   },
   {
    "duration": 293,
    "start_time": "2022-04-05T06:44:19.389Z"
   },
   {
    "duration": 95,
    "start_time": "2022-04-05T06:44:19.684Z"
   },
   {
    "duration": 188,
    "start_time": "2022-04-05T06:44:19.781Z"
   },
   {
    "duration": 182,
    "start_time": "2022-04-05T06:44:19.971Z"
   },
   {
    "duration": 93,
    "start_time": "2022-04-05T06:44:20.155Z"
   },
   {
    "duration": 189,
    "start_time": "2022-04-05T06:44:20.250Z"
   },
   {
    "duration": 119,
    "start_time": "2022-04-05T06:44:20.443Z"
   },
   {
    "duration": 6,
    "start_time": "2022-04-05T06:44:20.565Z"
   },
   {
    "duration": 39,
    "start_time": "2022-04-05T06:53:08.758Z"
   },
   {
    "duration": 4,
    "start_time": "2022-04-05T06:53:30.285Z"
   },
   {
    "duration": 1048,
    "start_time": "2022-04-05T06:53:49.405Z"
   },
   {
    "duration": 59,
    "start_time": "2022-04-05T06:54:06.262Z"
   },
   {
    "duration": 34,
    "start_time": "2022-04-05T06:54:19.486Z"
   },
   {
    "duration": 201,
    "start_time": "2022-04-05T06:54:31.957Z"
   },
   {
    "duration": 51,
    "start_time": "2022-04-05T06:54:34.277Z"
   },
   {
    "duration": 31,
    "start_time": "2022-04-05T06:54:37.149Z"
   },
   {
    "duration": 41,
    "start_time": "2022-04-05T06:54:39.188Z"
   },
   {
    "duration": 707,
    "start_time": "2022-04-05T06:54:41.581Z"
   },
   {
    "duration": 5,
    "start_time": "2022-04-05T06:54:47.356Z"
   },
   {
    "duration": 468,
    "start_time": "2022-04-05T06:56:18.990Z"
   },
   {
    "duration": 43,
    "start_time": "2022-04-05T06:56:53.813Z"
   },
   {
    "duration": 3276,
    "start_time": "2022-04-05T06:57:01.960Z"
   },
   {
    "duration": 4,
    "start_time": "2022-04-05T06:57:37.848Z"
   },
   {
    "duration": 2134,
    "start_time": "2022-04-05T07:06:34.787Z"
   },
   {
    "duration": 1069,
    "start_time": "2022-04-05T07:06:36.924Z"
   },
   {
    "duration": 5,
    "start_time": "2022-04-05T07:06:37.996Z"
   },
   {
    "duration": 8,
    "start_time": "2022-04-05T07:06:38.003Z"
   },
   {
    "duration": 237,
    "start_time": "2022-04-05T07:06:38.015Z"
   },
   {
    "duration": 166,
    "start_time": "2022-04-05T07:06:38.254Z"
   },
   {
    "duration": 262,
    "start_time": "2022-04-05T07:06:38.423Z"
   },
   {
    "duration": 3,
    "start_time": "2022-04-05T07:06:38.688Z"
   },
   {
    "duration": 637,
    "start_time": "2022-04-05T07:06:38.694Z"
   },
   {
    "duration": 25,
    "start_time": "2022-04-05T07:06:39.333Z"
   },
   {
    "duration": 366,
    "start_time": "2022-04-05T07:06:39.360Z"
   },
   {
    "duration": 32,
    "start_time": "2022-04-05T07:06:39.728Z"
   },
   {
    "duration": 4,
    "start_time": "2022-04-05T07:06:39.762Z"
   },
   {
    "duration": 117,
    "start_time": "2022-04-05T07:06:39.769Z"
   },
   {
    "duration": 24,
    "start_time": "2022-04-05T07:06:39.888Z"
   },
   {
    "duration": 37,
    "start_time": "2022-04-05T07:06:39.914Z"
   },
   {
    "duration": 320,
    "start_time": "2022-04-05T07:06:39.953Z"
   },
   {
    "duration": 193,
    "start_time": "2022-04-05T07:06:40.276Z"
   },
   {
    "duration": 96,
    "start_time": "2022-04-05T07:06:40.472Z"
   },
   {
    "duration": 184,
    "start_time": "2022-04-05T07:06:40.570Z"
   },
   {
    "duration": 172,
    "start_time": "2022-04-05T07:06:40.756Z"
   },
   {
    "duration": 88,
    "start_time": "2022-04-05T07:06:40.930Z"
   },
   {
    "duration": 193,
    "start_time": "2022-04-05T07:06:41.020Z"
   },
   {
    "duration": 108,
    "start_time": "2022-04-05T07:06:41.215Z"
   },
   {
    "duration": 63,
    "start_time": "2022-04-05T07:06:41.325Z"
   },
   {
    "duration": 22,
    "start_time": "2022-04-05T07:06:41.390Z"
   },
   {
    "duration": 761,
    "start_time": "2022-04-05T07:06:41.414Z"
   },
   {
    "duration": 447,
    "start_time": "2022-04-05T07:06:54.252Z"
   },
   {
    "duration": 4,
    "start_time": "2022-04-05T07:07:07.581Z"
   },
   {
    "duration": 38051,
    "start_time": "2022-04-05T07:07:20.302Z"
   },
   {
    "duration": 5,
    "start_time": "2022-04-05T07:08:07.326Z"
   },
   {
    "duration": 4,
    "start_time": "2022-04-05T07:08:41.286Z"
   },
   {
    "duration": 517,
    "start_time": "2022-04-05T07:08:59.326Z"
   },
   {
    "duration": 160,
    "start_time": "2022-04-05T07:09:31.350Z"
   },
   {
    "duration": 12,
    "start_time": "2022-04-05T07:09:42.693Z"
   },
   {
    "duration": 460,
    "start_time": "2022-04-05T07:09:49.287Z"
   },
   {
    "duration": 5,
    "start_time": "2022-04-05T07:10:06.366Z"
   },
   {
    "duration": 8,
    "start_time": "2022-04-05T07:10:19.374Z"
   },
   {
    "duration": 9,
    "start_time": "2022-04-05T07:10:31.273Z"
   },
   {
    "duration": 6,
    "start_time": "2022-04-05T07:10:38.491Z"
   },
   {
    "duration": 19,
    "start_time": "2022-04-05T07:11:08.335Z"
   },
   {
    "duration": 16,
    "start_time": "2022-04-05T07:11:22.495Z"
   },
   {
    "duration": 15197,
    "start_time": "2022-04-05T07:11:57.350Z"
   },
   {
    "duration": 8,
    "start_time": "2022-04-05T07:12:13.935Z"
   },
   {
    "duration": 386,
    "start_time": "2022-04-05T07:12:19.463Z"
   },
   {
    "duration": 6,
    "start_time": "2022-04-05T07:12:24.821Z"
   },
   {
    "duration": 15,
    "start_time": "2022-04-05T07:12:55.456Z"
   },
   {
    "duration": 21,
    "start_time": "2022-04-05T07:12:59.984Z"
   },
   {
    "duration": 43032,
    "start_time": "2022-04-05T07:14:52.321Z"
   },
   {
    "duration": 42109,
    "start_time": "2022-04-05T07:15:42.634Z"
   },
   {
    "duration": 6,
    "start_time": "2022-04-05T07:16:25.729Z"
   },
   {
    "duration": 1114,
    "start_time": "2022-04-05T07:16:44.241Z"
   },
   {
    "duration": 43813,
    "start_time": "2022-04-05T07:17:11.345Z"
   },
   {
    "duration": 5,
    "start_time": "2022-04-05T07:22:40.746Z"
   },
   {
    "duration": 499,
    "start_time": "2022-04-05T07:23:17.748Z"
   },
   {
    "duration": 492,
    "start_time": "2022-04-05T07:23:23.057Z"
   },
   {
    "duration": 412,
    "start_time": "2022-04-05T07:23:28.037Z"
   },
   {
    "duration": 19,
    "start_time": "2022-04-05T07:25:21.597Z"
   },
   {
    "duration": 4,
    "start_time": "2022-04-05T07:26:17.639Z"
   },
   {
    "duration": 4,
    "start_time": "2022-04-05T07:26:56.662Z"
   },
   {
    "duration": 449,
    "start_time": "2022-04-05T07:26:58.702Z"
   },
   {
    "duration": 6,
    "start_time": "2022-04-05T07:27:01.525Z"
   },
   {
    "duration": 5,
    "start_time": "2022-04-05T07:27:05.229Z"
   },
   {
    "duration": 6,
    "start_time": "2022-04-05T07:31:15.568Z"
   },
   {
    "duration": 21,
    "start_time": "2022-04-05T07:32:11.639Z"
   },
   {
    "duration": 21,
    "start_time": "2022-04-05T07:32:16.854Z"
   },
   {
    "duration": 164,
    "start_time": "2022-04-05T07:32:48.879Z"
   },
   {
    "duration": 5,
    "start_time": "2022-04-05T07:33:01.272Z"
   },
   {
    "duration": 6,
    "start_time": "2022-04-05T07:33:04.852Z"
   },
   {
    "duration": 164,
    "start_time": "2022-04-05T07:34:23.880Z"
   },
   {
    "duration": 13,
    "start_time": "2022-04-05T07:34:57.240Z"
   },
   {
    "duration": 12,
    "start_time": "2022-04-05T07:35:00.528Z"
   },
   {
    "duration": 21,
    "start_time": "2022-04-05T07:35:08.856Z"
   },
   {
    "duration": 11669,
    "start_time": "2022-04-05T07:41:04.578Z"
   },
   {
    "duration": 5,
    "start_time": "2022-04-05T07:41:28.403Z"
   },
   {
    "duration": 375,
    "start_time": "2022-04-05T07:41:29.977Z"
   },
   {
    "duration": 4,
    "start_time": "2022-04-05T07:41:30.994Z"
   },
   {
    "duration": 6,
    "start_time": "2022-04-05T07:41:32.274Z"
   },
   {
    "duration": 221,
    "start_time": "2022-04-05T07:41:35.522Z"
   },
   {
    "duration": 33689,
    "start_time": "2022-04-05T07:41:44.258Z"
   },
   {
    "duration": 5,
    "start_time": "2022-04-05T07:42:25.789Z"
   },
   {
    "duration": 461,
    "start_time": "2022-04-05T07:42:26.590Z"
   },
   {
    "duration": 91,
    "start_time": "2022-04-05T07:42:27.054Z"
   },
   {
    "duration": 7,
    "start_time": "2022-04-05T07:42:27.970Z"
   },
   {
    "duration": 128,
    "start_time": "2022-04-05T07:42:28.723Z"
   },
   {
    "duration": 21,
    "start_time": "2022-04-05T07:42:30.890Z"
   },
   {
    "duration": 4,
    "start_time": "2022-04-05T07:43:54.876Z"
   },
   {
    "duration": 12,
    "start_time": "2022-04-05T07:45:36.661Z"
   },
   {
    "duration": 234,
    "start_time": "2022-04-05T07:50:26.686Z"
   },
   {
    "duration": 34,
    "start_time": "2022-04-05T07:50:33.758Z"
   },
   {
    "duration": 272,
    "start_time": "2022-04-05T07:50:52.847Z"
   },
   {
    "duration": 219,
    "start_time": "2022-04-05T07:50:54.613Z"
   },
   {
    "duration": 46,
    "start_time": "2022-04-05T07:51:15.079Z"
   },
   {
    "duration": 110,
    "start_time": "2022-04-05T07:51:17.799Z"
   },
   {
    "duration": 954,
    "start_time": "2022-04-05T07:51:35.183Z"
   },
   {
    "duration": 4,
    "start_time": "2022-04-05T07:52:16.615Z"
   },
   {
    "duration": 1001,
    "start_time": "2022-04-05T07:53:30.528Z"
   },
   {
    "duration": 115,
    "start_time": "2022-04-05T07:53:38.207Z"
   },
   {
    "duration": 1627,
    "start_time": "2022-04-05T07:54:46.169Z"
   },
   {
    "duration": 1071,
    "start_time": "2022-04-05T07:54:47.799Z"
   },
   {
    "duration": 7,
    "start_time": "2022-04-05T07:54:48.872Z"
   },
   {
    "duration": 5,
    "start_time": "2022-04-05T07:54:48.881Z"
   },
   {
    "duration": 241,
    "start_time": "2022-04-05T07:54:48.889Z"
   },
   {
    "duration": 177,
    "start_time": "2022-04-05T07:54:49.133Z"
   },
   {
    "duration": 257,
    "start_time": "2022-04-05T07:54:49.313Z"
   },
   {
    "duration": 4,
    "start_time": "2022-04-05T07:54:49.572Z"
   },
   {
    "duration": 1495,
    "start_time": "2022-04-05T07:54:49.578Z"
   },
   {
    "duration": 21,
    "start_time": "2022-04-05T07:54:51.075Z"
   },
   {
    "duration": 358,
    "start_time": "2022-04-05T07:54:51.097Z"
   },
   {
    "duration": 25,
    "start_time": "2022-04-05T07:54:51.457Z"
   },
   {
    "duration": 4,
    "start_time": "2022-04-05T07:54:51.484Z"
   },
   {
    "duration": 132,
    "start_time": "2022-04-05T07:54:51.492Z"
   },
   {
    "duration": 32,
    "start_time": "2022-04-05T07:54:51.626Z"
   },
   {
    "duration": 21,
    "start_time": "2022-04-05T07:54:51.660Z"
   },
   {
    "duration": 317,
    "start_time": "2022-04-05T07:54:51.683Z"
   },
   {
    "duration": 194,
    "start_time": "2022-04-05T07:54:52.002Z"
   },
   {
    "duration": 95,
    "start_time": "2022-04-05T07:54:52.198Z"
   },
   {
    "duration": 174,
    "start_time": "2022-04-05T07:54:52.295Z"
   },
   {
    "duration": 174,
    "start_time": "2022-04-05T07:54:52.471Z"
   },
   {
    "duration": 81,
    "start_time": "2022-04-05T07:54:52.647Z"
   },
   {
    "duration": 196,
    "start_time": "2022-04-05T07:54:52.730Z"
   },
   {
    "duration": 118,
    "start_time": "2022-04-05T07:54:52.929Z"
   },
   {
    "duration": 50,
    "start_time": "2022-04-05T07:54:53.050Z"
   },
   {
    "duration": 42,
    "start_time": "2022-04-05T07:54:53.102Z"
   },
   {
    "duration": 713,
    "start_time": "2022-04-05T07:54:53.146Z"
   },
   {
    "duration": 459,
    "start_time": "2022-04-05T07:54:53.861Z"
   },
   {
    "duration": 27530,
    "start_time": "2022-04-05T07:54:54.322Z"
   },
   {
    "duration": 5,
    "start_time": "2022-04-05T07:55:21.944Z"
   },
   {
    "duration": 491,
    "start_time": "2022-04-05T07:55:21.952Z"
   },
   {
    "duration": 6,
    "start_time": "2022-04-05T07:55:22.447Z"
   },
   {
    "duration": 242,
    "start_time": "2022-04-05T07:55:22.457Z"
   },
   {
    "duration": 0,
    "start_time": "2022-04-05T07:55:22.701Z"
   },
   {
    "duration": 0,
    "start_time": "2022-04-05T07:55:22.703Z"
   },
   {
    "duration": 0,
    "start_time": "2022-04-05T07:55:22.704Z"
   },
   {
    "duration": 0,
    "start_time": "2022-04-05T07:55:22.706Z"
   },
   {
    "duration": 0,
    "start_time": "2022-04-05T07:55:22.707Z"
   },
   {
    "duration": 20,
    "start_time": "2022-04-05T07:55:38.288Z"
   },
   {
    "duration": 415,
    "start_time": "2022-04-05T07:55:59.136Z"
   },
   {
    "duration": 12,
    "start_time": "2022-04-05T07:56:05.464Z"
   },
   {
    "duration": 427,
    "start_time": "2022-04-05T07:56:10.616Z"
   },
   {
    "duration": 12,
    "start_time": "2022-04-05T07:56:11.855Z"
   },
   {
    "duration": 379,
    "start_time": "2022-04-05T07:56:50.368Z"
   },
   {
    "duration": 11,
    "start_time": "2022-04-05T07:56:51.888Z"
   },
   {
    "duration": 11,
    "start_time": "2022-04-05T07:56:56.681Z"
   },
   {
    "duration": 5,
    "start_time": "2022-04-05T07:57:02.288Z"
   },
   {
    "duration": 12,
    "start_time": "2022-04-05T07:57:08.601Z"
   },
   {
    "duration": 7,
    "start_time": "2022-04-05T07:57:15.273Z"
   },
   {
    "duration": 139,
    "start_time": "2022-04-05T07:57:21.911Z"
   },
   {
    "duration": 5,
    "start_time": "2022-04-05T07:57:31.047Z"
   },
   {
    "duration": 1083,
    "start_time": "2022-04-05T07:57:31.055Z"
   },
   {
    "duration": 6,
    "start_time": "2022-04-05T07:57:32.143Z"
   },
   {
    "duration": 7,
    "start_time": "2022-04-05T07:57:32.153Z"
   },
   {
    "duration": 198,
    "start_time": "2022-04-05T07:57:32.162Z"
   },
   {
    "duration": 160,
    "start_time": "2022-04-05T07:57:32.363Z"
   },
   {
    "duration": 255,
    "start_time": "2022-04-05T07:57:32.526Z"
   },
   {
    "duration": 4,
    "start_time": "2022-04-05T07:57:32.783Z"
   },
   {
    "duration": 218,
    "start_time": "2022-04-05T07:57:32.790Z"
   },
   {
    "duration": 18,
    "start_time": "2022-04-05T07:57:33.010Z"
   },
   {
    "duration": 338,
    "start_time": "2022-04-05T07:57:33.043Z"
   },
   {
    "duration": 25,
    "start_time": "2022-04-05T07:57:33.383Z"
   },
   {
    "duration": 3,
    "start_time": "2022-04-05T07:57:33.410Z"
   },
   {
    "duration": 126,
    "start_time": "2022-04-05T07:57:33.415Z"
   },
   {
    "duration": 25,
    "start_time": "2022-04-05T07:57:33.543Z"
   },
   {
    "duration": 20,
    "start_time": "2022-04-05T07:57:33.570Z"
   },
   {
    "duration": 328,
    "start_time": "2022-04-05T07:57:33.593Z"
   },
   {
    "duration": 269,
    "start_time": "2022-04-05T07:57:33.923Z"
   },
   {
    "duration": 90,
    "start_time": "2022-04-05T07:57:34.194Z"
   },
   {
    "duration": 173,
    "start_time": "2022-04-05T07:57:34.286Z"
   },
   {
    "duration": 175,
    "start_time": "2022-04-05T07:57:34.461Z"
   },
   {
    "duration": 78,
    "start_time": "2022-04-05T07:57:34.638Z"
   },
   {
    "duration": 189,
    "start_time": "2022-04-05T07:57:34.718Z"
   },
   {
    "duration": 110,
    "start_time": "2022-04-05T07:57:34.911Z"
   },
   {
    "duration": 58,
    "start_time": "2022-04-05T07:57:35.023Z"
   },
   {
    "duration": 27,
    "start_time": "2022-04-05T07:57:35.084Z"
   },
   {
    "duration": 769,
    "start_time": "2022-04-05T07:57:35.114Z"
   },
   {
    "duration": 453,
    "start_time": "2022-04-05T07:57:35.885Z"
   },
   {
    "duration": 30914,
    "start_time": "2022-04-05T07:57:36.340Z"
   },
   {
    "duration": 5,
    "start_time": "2022-04-05T07:58:07.257Z"
   },
   {
    "duration": 381,
    "start_time": "2022-04-05T07:58:29.168Z"
   },
   {
    "duration": 4,
    "start_time": "2022-04-05T07:58:31.041Z"
   },
   {
    "duration": 6,
    "start_time": "2022-04-05T07:58:36.665Z"
   },
   {
    "duration": 115,
    "start_time": "2022-04-05T07:58:42.737Z"
   },
   {
    "duration": 24,
    "start_time": "2022-04-05T07:58:45.016Z"
   },
   {
    "duration": 226,
    "start_time": "2022-04-05T07:58:52.321Z"
   },
   {
    "duration": 194,
    "start_time": "2022-04-05T07:58:54.657Z"
   },
   {
    "duration": 22,
    "start_time": "2022-04-05T07:58:57.917Z"
   },
   {
    "duration": 12,
    "start_time": "2022-04-05T07:59:20.681Z"
   },
   {
    "duration": 252769,
    "start_time": "2022-04-05T07:59:27.233Z"
   },
   {
    "duration": 8739,
    "start_time": "2022-04-05T08:04:45.003Z"
   },
   {
    "duration": 13,
    "start_time": "2022-04-05T08:05:47.942Z"
   },
   {
    "duration": 8631,
    "start_time": "2022-04-05T08:07:02.446Z"
   },
   {
    "duration": 15,
    "start_time": "2022-04-05T08:07:29.299Z"
   },
   {
    "duration": 9,
    "start_time": "2022-04-05T08:09:07.573Z"
   },
   {
    "duration": 6,
    "start_time": "2022-04-05T08:17:38.728Z"
   },
   {
    "duration": 5,
    "start_time": "2022-04-05T08:18:07.201Z"
   },
   {
    "duration": 23857,
    "start_time": "2022-04-05T08:18:15.171Z"
   },
   {
    "duration": 5,
    "start_time": "2022-04-05T08:19:20.160Z"
   },
   {
    "duration": 1171285,
    "start_time": "2022-04-05T08:19:23.065Z"
   },
   {
    "duration": 229,
    "start_time": "2022-04-05T08:38:59.976Z"
   },
   {
    "duration": 47,
    "start_time": "2022-04-05T08:39:01.603Z"
   },
   {
    "duration": 6,
    "start_time": "2022-04-05T08:40:26.440Z"
   },
   {
    "duration": 2574112,
    "start_time": "2022-04-05T08:40:27.201Z"
   },
   {
    "duration": 49,
    "start_time": "2022-04-05T09:23:42.139Z"
   },
   {
    "duration": 6,
    "start_time": "2022-04-05T09:23:56.017Z"
   },
   {
    "duration": 4,
    "start_time": "2022-04-05T09:25:36.353Z"
   },
   {
    "duration": 181790,
    "start_time": "2022-04-05T09:26:36.522Z"
   },
   {
    "duration": 177799,
    "start_time": "2022-04-05T09:30:21.573Z"
   },
   {
    "duration": 5,
    "start_time": "2022-04-05T09:33:22.540Z"
   },
   {
    "duration": 6424,
    "start_time": "2022-04-05T09:33:26.092Z"
   },
   {
    "duration": 5,
    "start_time": "2022-04-05T09:33:33.320Z"
   },
   {
    "duration": 6,
    "start_time": "2022-04-05T09:33:35.636Z"
   },
   {
    "duration": 7,
    "start_time": "2022-04-05T09:33:41.037Z"
   },
   {
    "duration": 2414,
    "start_time": "2022-04-05T09:33:43.477Z"
   },
   {
    "duration": 88,
    "start_time": "2022-04-05T09:37:34.768Z"
   },
   {
    "duration": 7,
    "start_time": "2022-04-05T09:40:55.920Z"
   },
   {
    "duration": 6,
    "start_time": "2022-04-05T09:41:47.944Z"
   },
   {
    "duration": 194826,
    "start_time": "2022-04-05T09:41:49.329Z"
   },
   {
    "duration": 10,
    "start_time": "2022-04-05T09:45:55.538Z"
   },
   {
    "duration": 44,
    "start_time": "2022-04-05T09:45:55.889Z"
   },
   {
    "duration": 3048,
    "start_time": "2022-04-05T09:46:33.819Z"
   },
   {
    "duration": 7,
    "start_time": "2022-04-05T09:46:57.420Z"
   },
   {
    "duration": 5,
    "start_time": "2022-04-05T09:47:41.875Z"
   },
   {
    "duration": 760513,
    "start_time": "2022-04-05T09:47:56.234Z"
   },
   {
    "duration": 9687,
    "start_time": "2022-04-05T10:28:00.962Z"
   },
   {
    "duration": 4,
    "start_time": "2022-04-05T10:28:29.500Z"
   },
   {
    "duration": 102,
    "start_time": "2022-04-05T10:28:32.641Z"
   },
   {
    "duration": 4522,
    "start_time": "2022-04-05T10:28:46.124Z"
   },
   {
    "duration": 6,
    "start_time": "2022-04-05T10:28:55.011Z"
   },
   {
    "duration": 4,
    "start_time": "2022-04-05T10:29:02.107Z"
   },
   {
    "duration": 1478,
    "start_time": "2022-04-05T10:29:04.273Z"
   },
   {
    "duration": 5,
    "start_time": "2022-04-05T10:29:06.891Z"
   },
   {
    "duration": 7,
    "start_time": "2022-04-05T10:29:18.331Z"
   },
   {
    "duration": 530,
    "start_time": "2022-04-05T10:29:37.716Z"
   },
   {
    "duration": 5,
    "start_time": "2022-04-05T10:32:20.399Z"
   },
   {
    "duration": 26078,
    "start_time": "2022-04-05T10:35:10.174Z"
   },
   {
    "duration": 5,
    "start_time": "2022-04-05T10:35:49.989Z"
   },
   {
    "duration": 5,
    "start_time": "2022-04-05T10:35:54.446Z"
   },
   {
    "duration": 442,
    "start_time": "2022-04-05T10:35:59.301Z"
   },
   {
    "duration": 6,
    "start_time": "2022-04-05T10:35:59.844Z"
   },
   {
    "duration": 174426,
    "start_time": "2022-04-05T10:36:17.221Z"
   },
   {
    "duration": 4,
    "start_time": "2022-04-05T10:39:20.903Z"
   },
   {
    "duration": 6397,
    "start_time": "2022-04-05T10:39:23.806Z"
   },
   {
    "duration": 5,
    "start_time": "2022-04-05T10:39:30.206Z"
   },
   {
    "duration": 6,
    "start_time": "2022-04-05T10:39:43.542Z"
   },
   {
    "duration": 171478,
    "start_time": "2022-04-05T10:39:47.150Z"
   },
   {
    "duration": 6,
    "start_time": "2022-04-05T10:43:51.505Z"
   },
   {
    "duration": 9,
    "start_time": "2022-04-05T10:43:54.784Z"
   },
   {
    "duration": 5,
    "start_time": "2022-04-05T10:43:59.440Z"
   },
   {
    "duration": 6699,
    "start_time": "2022-04-05T10:44:01.448Z"
   },
   {
    "duration": 5,
    "start_time": "2022-04-05T10:44:09.663Z"
   },
   {
    "duration": 7,
    "start_time": "2022-04-05T10:44:11.953Z"
   },
   {
    "duration": 63606,
    "start_time": "2022-04-05T10:44:22.345Z"
   },
   {
    "duration": 5,
    "start_time": "2022-04-05T10:50:03.042Z"
   },
   {
    "duration": 1520,
    "start_time": "2022-04-05T10:50:07.938Z"
   },
   {
    "duration": 5,
    "start_time": "2022-04-05T10:50:25.538Z"
   },
   {
    "duration": 7,
    "start_time": "2022-04-05T10:50:30.890Z"
   },
   {
    "duration": 491,
    "start_time": "2022-04-05T10:50:35.659Z"
   },
   {
    "duration": 13,
    "start_time": "2022-04-05T10:51:04.216Z"
   },
   {
    "duration": 6,
    "start_time": "2022-04-05T10:51:26.139Z"
   },
   {
    "duration": 15,
    "start_time": "2022-04-05T10:51:30.405Z"
   },
   {
    "duration": 14,
    "start_time": "2022-04-05T10:51:33.811Z"
   },
   {
    "duration": 16,
    "start_time": "2022-04-05T10:51:35.468Z"
   },
   {
    "duration": 24,
    "start_time": "2022-04-05T10:52:08.508Z"
   },
   {
    "duration": 14,
    "start_time": "2022-04-05T10:52:25.541Z"
   },
   {
    "duration": 6,
    "start_time": "2022-04-05T10:52:33.948Z"
   },
   {
    "duration": 11,
    "start_time": "2022-04-05T10:52:44.508Z"
   }
  ],
  "kernelspec": {
   "display_name": "Python 3 (ipykernel)",
   "language": "python",
   "name": "python3"
  },
  "language_info": {
   "codemirror_mode": {
    "name": "ipython",
    "version": 3
   },
   "file_extension": ".py",
   "mimetype": "text/x-python",
   "name": "python",
   "nbconvert_exporter": "python",
   "pygments_lexer": "ipython3",
   "version": "3.9.12"
  },
  "toc": {
   "base_numbering": 1,
   "nav_menu": {},
   "number_sections": true,
   "sideBar": true,
   "skip_h1_title": true,
   "title_cell": "Table of Contents",
   "title_sidebar": "Contents",
   "toc_cell": true,
   "toc_position": {},
   "toc_section_display": true,
   "toc_window_display": true
  }
 },
 "nbformat": 4,
 "nbformat_minor": 4
}
